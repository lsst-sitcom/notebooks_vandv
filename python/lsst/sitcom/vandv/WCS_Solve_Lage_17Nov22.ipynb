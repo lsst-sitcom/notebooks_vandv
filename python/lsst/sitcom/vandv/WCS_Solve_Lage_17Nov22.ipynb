{
 "cells": [
  {
   "cell_type": "markdown",
   "metadata": {},
   "source": [
    "## StarTracker WCS solutions - 17-Nov-22\n",
    "\n",
    "Craig Lage - basically copying code from Merlin Fisher-Levine"
   ]
  },
  {
   "cell_type": "code",
   "execution_count": null,
   "metadata": {},
   "outputs": [],
   "source": [
    "import sys, time, os, asyncio, glob\n",
    "from datetime import datetime\n",
    "import numpy as np\n",
    "import matplotlib.pyplot as plt\n",
    "import astropy.io.fits as pf\n",
    "from astropy.time import Time, TimeDelta\n",
    "from astropy.coordinates import AltAz, ICRS, EarthLocation, Angle, FK5, SkyCoord\n",
    "import astropy.units as u\n",
    "from lsst.obs.lsst.translators.latiss import AUXTEL_LOCATION\n",
    "from lsst.obs.lsst.translators.lsst import SIMONYI_LOCATION\n",
    "\n",
    "import lsst.afw.image as afwImage\n",
    "from lsst.summit.utils.blindSolving import runImchar, genericCameraHeaderToWcs, CommandLineSolver"
   ]
  },
  {
   "cell_type": "code",
   "execution_count": null,
   "metadata": {},
   "outputs": [],
   "source": [
    "solver = CommandLineSolver(indexFiles='/scratch/mfisherlevine/astrometry_net/broiler.astrometry.net/~dstn/4100',\n",
    "                           checkInParallel=True)"
   ]
  },
  {
   "cell_type": "code",
   "execution_count": null,
   "metadata": {},
   "outputs": [],
   "source": [
    "# Dates are still hard coded.\n",
    "path = '/project/GenericCamera/101/2022/11/16/'"
   ]
  },
  {
   "cell_type": "code",
   "execution_count": null,
   "metadata": {
    "tags": []
   },
   "outputs": [],
   "source": [
    "seqNums = []\n",
    "deltaAzs = []\n",
    "deltaEls = []\n",
    "outfile = open(\"/home/craiglagegit/DATA/StarTracker_Summary_Rot_20221116.txt\", \"w\")\n",
    "outfile.write(\"SeqNum RA(header) Dec(header) RA(Solve) Dec(Solve) Az(hdr-fix) El(header) Az(solve) El(solve) DeltaAz DeltaEl Rot\\n\")\n",
    "for seqNum in range(4, 119+1):\n",
    "    seqNums.append(seqNum)\n",
    "    filename = path + f'GC101_O_20221116_{seqNum:06}.fits'\n",
    "    exp = afwImage.ExposureF(filename)\n",
    "    wcs = genericCameraHeaderToWcs(exp)\n",
    "    exp.setWcs(wcs)\n",
    "    results = runImchar(exp, 5, 25)\n",
    "    newWcs = solver.run(exp, results.sourceCat, silent=True)\n",
    "    raSolve = newWcs.getSkyOrigin().getRa().asDegrees()\n",
    "    decSolve = newWcs.getSkyOrigin().getDec().asDegrees()\n",
    "    hdulist = pf.open(filename)\n",
    "    header = hdulist[0].header\n",
    "    raStart = header[\"RASTART\"]\n",
    "    decStart = header[\"DECSTART\"]\n",
    "    azStart = header[\"AZSTART\"]\n",
    "    azStart = 360.0 - azStart # Compensating for Az sign error\n",
    "    elStart = header[\"ELSTART\"]\n",
    "    rotpa = header[\"ROTPA\"]\n",
    "    rot = newWcs.getRelativeRotationToWcs(wcs).asDegrees()\n",
    "    time = Time(header[\"DATE-OBS\"])\n",
    "    altAz = AltAz(obstime=time, location=SIMONYI_LOCATION)\n",
    "    skyLocation = SkyCoord(raSolve * u.deg, decSolve * u.deg)\n",
    "    obsAltAz = skyLocation.transform_to(altAz)\n",
    "    az = obsAltAz.az.deg\n",
    "    el = obsAltAz.alt.deg\n",
    "    deltaAz = azStart - az\n",
    "    deltaEl = elStart - el\n",
    "    deltaAzs.append(deltaAz)\n",
    "    deltaEls.append(deltaEl)\n",
    "    outfile.write(f\"{seqNum}      {raStart:.3f}    {decStart:.3f}      {raSolve:.3f}    {decSolve:.3f}    {azStart:.3f}      {elStart:.3f}    {az:.3f}    {el:.3f}   {deltaAz:.3f}   {deltaEl:.3f}  {rot:.3f}\\n\")\n",
    "    print(f\"{seqNum}, deltaAz = {deltaAz:.3f}, deltaEl = {deltaEl:.3f}, rotpa = {rotpa}, rot = {newWcs.getRelativeRotationToWcs(wcs)}\")\n",
    "outfile.close()\n",
    "    "
   ]
  }
 ],
 "metadata": {
  "kernelspec": {
   "display_name": "LSST",
   "language": "python",
   "name": "lsst"
  },
  "language_info": {
   "codemirror_mode": {
    "name": "ipython",
    "version": 3
   },
   "file_extension": ".py",
   "mimetype": "text/x-python",
   "name": "python",
   "nbconvert_exporter": "python",
   "pygments_lexer": "ipython3",
   "version": "3.10.5"
  }
 },
 "nbformat": 4,
 "nbformat_minor": 4
}
