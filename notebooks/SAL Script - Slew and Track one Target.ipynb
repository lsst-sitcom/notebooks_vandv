{
 "cells": [
  {
   "cell_type": "markdown",
   "id": "e7d9d9cf-3210-4c2d-befa-af8a77903778",
   "metadata": {},
   "source": [
    "# SAL Script - Slew and Track\n",
    "\n",
    "Performs a single slew and track using SAL Script.  \n",
    "It can be used as a minimum functionality prototype for the Soak Test."
   ]
  },
  {
   "cell_type": "markdown",
   "id": "cf031fc3-d721-4c42-84f0-c25925224a2b",
   "metadata": {},
   "source": [
    "## Notebook Setup\n",
    "\n",
    "Start by importing relevat libraries, setting up domain, remotes, logs, etc."
   ]
  },
  {
   "cell_type": "code",
   "execution_count": null,
   "id": "b69bce8b-339d-4669-9d77-d08178dbd46a",
   "metadata": {},
   "outputs": [],
   "source": [
    "%load_ext autoreload\n",
    "%autoreload 2\n",
    "\n",
    "import os\n",
    "import sys\n",
    "import asyncio\n",
    "import logging\n",
    "import yaml\n",
    "\n",
    "import numpy as np\n",
    "\n",
    "from astropy import units as u\n",
    "\n",
    "from lsst.ts import salobj\n",
    "from lsst.ts.standardscripts.maintel.track_target import TrackTarget"
   ]
  },
  {
   "cell_type": "code",
   "execution_count": null,
   "id": "1698f016-48f5-4a26-abe1-a35d1e84c724",
   "metadata": {},
   "outputs": [],
   "source": [
    "track_target = TrackTarget(index=1)\n",
    "await track_target.start_task"
   ]
  },
  {
   "cell_type": "code",
   "execution_count": null,
   "id": "d22e9abb-a508-4d38-ad9f-036f22d0ace4",
   "metadata": {},
   "outputs": [],
   "source": [
    "mtcs = track_target.tcs"
   ]
  },
  {
   "cell_type": "markdown",
   "id": "4ce01a90-79b9-4f1a-8e57-291e6acb3b13",
   "metadata": {},
   "source": [
    "## Prepare Components"
   ]
  },
  {
   "cell_type": "code",
   "execution_count": null,
   "id": "85502763-9803-4b67-b444-9b59280c0f03",
   "metadata": {},
   "outputs": [],
   "source": [
    "await mtcs.set_state(salobj.State.DISABLED, components=[\"mtmount\", \"mtrotator\"])"
   ]
  },
  {
   "cell_type": "code",
   "execution_count": null,
   "id": "649baf8f-6fb2-463a-a4a4-53929ec66884",
   "metadata": {},
   "outputs": [],
   "source": [
    "await mtcs.set_state(salobj.State.ENABLED, components=[\"mtmount\", \"mtrotator\"])"
   ]
  },
  {
   "cell_type": "code",
   "execution_count": null,
   "id": "f03341b2-5a7c-432c-8680-84d6854886e9",
   "metadata": {},
   "outputs": [],
   "source": [
    "az = mtcs.rem.mtmount.tel_azimuth.get().actualPosition\n",
    "el = mtcs.rem.mtmount.tel_elevation.get().actualPosition\n",
    "\n",
    "print(az, el)"
   ]
  },
  {
   "cell_type": "code",
   "execution_count": null,
   "id": "acd6ae4a-7a31-45a4-979d-17ef81705a64",
   "metadata": {},
   "outputs": [],
   "source": [
    "await mtcs.rem.mtmount.cmd_moveToTarget.set_start(azimuth=2, elevation=62)"
   ]
  },
  {
   "cell_type": "code",
   "execution_count": null,
   "id": "e5230190-bef3-4845-8d18-297c86d5d62f",
   "metadata": {},
   "outputs": [],
   "source": [
    "await mtcs.rem.mtmount.cmd_homeBothAxes.start(timeout=300)"
   ]
  },
  {
   "cell_type": "markdown",
   "id": "3c19a002-d6e9-4a37-a3f4-52c6ea6241b5",
   "metadata": {},
   "source": [
    "## Emulate ScriptQueue"
   ]
  },
  {
   "cell_type": "code",
   "execution_count": null,
   "id": "4cf10233-bf76-4795-93b1-cb2139115167",
   "metadata": {},
   "outputs": [],
   "source": [
    "radec = track_target.tcs.radec_from_azel(60., 90.)"
   ]
  },
  {
   "cell_type": "code",
   "execution_count": null,
   "id": "1ce8ccfc-83d1-4029-a3a0-f55ed65c9b53",
   "metadata": {},
   "outputs": [],
   "source": [
    "configuration = yaml.safe_dump(\n",
    "    {\n",
    "        \"slew_icrs\": {\n",
    "            \"ra\": float(radec.ra.hour),\n",
    "            \"dec\": float(radec.dec.deg),\n",
    "        }, \n",
    "        \"rot_value\": 0., \n",
    "        \"rot_type\": \"Physical\", \n",
    "        \"track_for\": 120., \n",
    "        \"stop_when_done\": True,\n",
    "        \"ignore\": [\n",
    "            \"mtaos\",\n",
    "            \"mtdome\",\n",
    "            \"mtdometrajectory\",\n",
    "            \"mthexapod_1\",\n",
    "            \"mthexapod_2\", \n",
    "            \"mtm1m3\", \n",
    "            \"mtm2\",\n",
    "        ],\n",
    "    }\n",
    ")\n",
    "\n",
    "print(configuration)"
   ]
  },
  {
   "cell_type": "code",
   "execution_count": null,
   "id": "4f4f7399-e306-4a33-91ec-9a6900420bcb",
   "metadata": {},
   "outputs": [],
   "source": [
    "# Set script state to UNCONFIGURED\n",
    "# this is required to run the script a 2nd time but otherwise is a no-op\n",
    "track_target.set_state(ScriptState.UNCONFIGURED)\n",
    "\n",
    "# Configure the script, which puts the ScriptState to CONFIGURED\n",
    "config_data = track_target.cmd_configure.DataType()\n",
    "config_data.config = configuration\n",
    "\n",
    "await track_target.do_configure(config_data)"
   ]
  },
  {
   "cell_type": "code",
   "execution_count": null,
   "id": "0b2958d8-705c-4a08-8de4-245c8c3bcd0a",
   "metadata": {},
   "outputs": [],
   "source": [
    "print(\"Start:\", Time.now())\n",
    "results = await track_target.run()\n",
    "print(\"Done:\", Time.now())"
   ]
  }
 ],
 "metadata": {
  "kernelspec": {
   "display_name": "LSST",
   "language": "python",
   "name": "lsst"
  },
  "language_info": {
   "codemirror_mode": {
    "name": "ipython",
    "version": 3
   },
   "file_extension": ".py",
   "mimetype": "text/x-python",
   "name": "python",
   "nbconvert_exporter": "python",
   "pygments_lexer": "ipython3",
   "version": "3.10.5"
  }
 },
 "nbformat": 4,
 "nbformat_minor": 5
}
