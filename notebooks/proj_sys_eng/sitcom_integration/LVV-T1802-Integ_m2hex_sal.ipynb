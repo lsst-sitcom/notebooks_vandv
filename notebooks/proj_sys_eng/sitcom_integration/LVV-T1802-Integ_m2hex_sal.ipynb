{
 "cells": [
  {
   "cell_type": "markdown",
   "metadata": {},
   "source": [
    "# [LVV-T1802] - Integration of M2 Hexapod with SAL\n",
    "\n",
    "This case will verify that the integration of the M2 Hexapod with SAL.\n",
    "The blocks below represent the steps of the test case.\n",
    "\n",
    "Requirements\n",
    "* EFD\n",
    "* Hexapod(s) powered on\n",
    "* Thermal sensors attached to the six actuators of the hexapod.\n",
    "* CSC running\n",
    "\n",
    "This test will require manual verification of certain events and telemetry in the summit EFD.\n",
    "Also manual verification of appropriate temperatures for each actuator.\n",
    "\n",
    "**Make sure you run this notebook on TTS before running at the summit.**\n",
    "\n",
    "Please, see the [README] file for the requirements to run this notebook.\n",
    "\n",
    "[LVV-T1802]: https://jira.lsstcorp.org/secure/Tests.jspa#/testCase/LVV-T1802\n",
    "[README]: https://github.com/lsst-sitcom/notebooks_vandv/blob/develop/README.md"
   ]
  },
  {
   "cell_type": "markdown",
   "metadata": {},
   "source": [
    "## Setting Up Test Environment"
   ]
  },
  {
   "cell_type": "markdown",
   "metadata": {},
   "source": [
    "Before we run the tests, we want to make sure that we have all the libraries imported, remotes connected, etc."
   ]
  },
  {
   "cell_type": "code",
   "execution_count": null,
   "metadata": {},
   "outputs": [],
   "source": [
    "test_case = \"LVV-T1802\"\n",
    "test_exec = \"LVV-EXXXX\""
   ]
  },
  {
   "cell_type": "code",
   "execution_count": null,
   "metadata": {},
   "outputs": [],
   "source": [
    "%load_ext autoreload\n",
    "%autoreload 2\n",
    "\n",
    "import asyncio\n",
    "import logging\n",
    "import os\n",
    "import yaml\n",
    "\n",
    "import astropy.units as u\n",
    "import numpy as np\n",
    "import pandas as pd\n",
    "\n",
    "from astropy.time import Time\n",
    "from datetime import datetime, timedelta\n",
    "from matplotlib import pyplot as plt\n",
    "\n",
    "from lsst_efd_client import EfdClient\n",
    "from lsst.ts import salobj\n",
    "from lsst.ts.idl.enums import MTHexapod\n",
    "\n",
    "from lsst.sitcom import vandv"
   ]
  },
  {
   "cell_type": "code",
   "execution_count": null,
   "metadata": {},
   "outputs": [],
   "source": [
    "exec_info = vandv.ExecutionInfo()\n",
    "print(exec_info)"
   ]
  },
  {
   "cell_type": "code",
   "execution_count": null,
   "metadata": {},
   "outputs": [],
   "source": [
    "client = vandv.efd.create_efd_client()"
   ]
  },
  {
   "cell_type": "markdown",
   "metadata": {},
   "source": [
    "The following block sets the necessary environment variables for setting up the DDS/SAL communication"
   ]
  },
  {
   "cell_type": "code",
   "execution_count": null,
   "metadata": {},
   "outputs": [],
   "source": [
    "os.environ[\"LSST_DDS_HISTORYSYNC\"] = \"30\""
   ]
  },
  {
   "cell_type": "markdown",
   "metadata": {},
   "source": [
    "This is the amount of time to wait in between a move just to make sure that the actuators are not overheating.  "
   ]
  },
  {
   "cell_type": "code",
   "execution_count": null,
   "metadata": {},
   "outputs": [],
   "source": [
    "STD_WAIT = 39"
   ]
  },
  {
   "cell_type": "markdown",
   "metadata": {},
   "source": [
    "This sets up the logger for the test."
   ]
  },
  {
   "cell_type": "code",
   "execution_count": null,
   "metadata": {},
   "outputs": [],
   "source": [
    "log = logging.getLogger(__name__)\n",
    "logging.basicConfig(level=logging.INFO)"
   ]
  },
  {
   "cell_type": "markdown",
   "metadata": {},
   "source": [
    "Starts a Script controller which allows putting custom messages into the EFD for later analysis."
   ]
  },
  {
   "cell_type": "code",
   "execution_count": null,
   "metadata": {},
   "outputs": [],
   "source": [
    "start_time = datetime.now()\n",
    "test_message = \"M2 Hexapod Integration Test\"\n",
    "\n",
    "index = vandv.get_index(test_case=test_case)\n",
    "script = salobj.Controller(\"Script\", index=index)\n",
    "await asyncio.sleep(10) # May help with DDS problems; closing all other kernels may help too\n",
    "script.log.info(f\"{test_case} {test_exec} time to start is {datetime.now() - start_time} [s]\")"
   ]
  },
  {
   "cell_type": "markdown",
   "metadata": {},
   "source": [
    "This is how you start the remote for the CSC."
   ]
  },
  {
   "cell_type": "code",
   "execution_count": null,
   "metadata": {},
   "outputs": [],
   "source": [
    "domain = salobj.Domain()\n",
    "print(domain)"
   ]
  },
  {
   "cell_type": "markdown",
   "metadata": {},
   "source": [
    "Create the remote to controle the M2 Hexapod.  \n",
    "Remember that the `index` tells if we are running the Camerea Hexapod (`1`) or the M2 Hexapod (`2`). "
   ]
  },
  {
   "cell_type": "code",
   "execution_count": null,
   "metadata": {},
   "outputs": [],
   "source": [
    "csc_index = 2\n",
    "hexapod_csc = salobj.Remote(name=\"MTHexapod\", domain=domain, index=csc_index)\n",
    "print(hexapod_csc)"
   ]
  },
  {
   "cell_type": "markdown",
   "metadata": {},
   "source": [
    "Start the hexapod service."
   ]
  },
  {
   "cell_type": "code",
   "execution_count": null,
   "metadata": {},
   "outputs": [],
   "source": [
    "await hexapod_csc.start_task"
   ]
  },
  {
   "cell_type": "markdown",
   "metadata": {},
   "source": [
    "Check for heartbeats."
   ]
  },
  {
   "cell_type": "code",
   "execution_count": null,
   "metadata": {},
   "outputs": [],
   "source": [
    "await hexapod_csc.evt_heartbeat.next(flush=True, timeout=5)"
   ]
  },
  {
   "cell_type": "markdown",
   "metadata": {},
   "source": [
    "---  \n",
    "This test case also uses the Mount and the Rotator.  \n",
    "Make sure that you have them in the correct configuration (simulator/hardware and ccw-following enabled/disabled).  \n",
    "The cell below starts them:"
   ]
  },
  {
   "cell_type": "code",
   "execution_count": null,
   "metadata": {},
   "outputs": [],
   "source": [
    "mount = salobj.Remote(name=\"MTMount\", domain=domain)\n",
    "await asyncio.sleep(10)\n",
    "await mount.start_task"
   ]
  },
  {
   "cell_type": "code",
   "execution_count": null,
   "metadata": {},
   "outputs": [],
   "source": [
    "rotator = salobj.Remote(name=\"MTRotator\", domain=domain)\n",
    "await asyncio.sleep(10)\n",
    "await rotator.start_task"
   ]
  },
  {
   "cell_type": "markdown",
   "metadata": {},
   "source": [
    "---\n",
    "Before you run the test, make sure that M2Hex is in the, at least, DISABLED state.  \n",
    "Otherwise, it will not publish telemetry nor events.  "
   ]
  },
  {
   "cell_type": "code",
   "execution_count": null,
   "metadata": {},
   "outputs": [],
   "source": [
    "await salobj.set_summary_state(hexapod_csc, salobj.State.DISABLED)"
   ]
  },
  {
   "cell_type": "code",
   "execution_count": null,
   "metadata": {},
   "outputs": [],
   "source": [
    "e = hexapod_csc.evt_summaryState.get()\n",
    "print(\"M2Hexapod now in state:\", e.summaryState)\n",
    "\n",
    "# Summary State 2 = ENABLED\n",
    "# Summary State 1 = DISABLED\n",
    "if e.summaryState not in [1, 2]:\n",
    "    print(\"  Transitioning to DISABLED state\")\n",
    "    await salobj.set_summary_state(hexapod_csc, salobj.State.DISABLED)\n",
    "else:\n",
    "    print(\"  Nothing to do.\")"
   ]
  },
  {
   "cell_type": "markdown",
   "metadata": {},
   "source": [
    "### Helper functions"
   ]
  },
  {
   "cell_type": "code",
   "execution_count": null,
   "metadata": {},
   "outputs": [],
   "source": [
    "def enabled_substate_callback(evt):\n",
    "    \"\"\"Print the enabled substate when event is received.\"\"\"\n",
    "    t = Time(evt.private_sndStamp, scale=\"tai\", format=\"unix\")\n",
    "    t.format = \"isot\"\n",
    "    \n",
    "    logging.info(MTHexapod.EnabledSubstate(evt.enabledSubstate))"
   ]
  },
  {
   "cell_type": "code",
   "execution_count": null,
   "metadata": {},
   "outputs": [],
   "source": [
    "def in_position_callback(evt):\n",
    "    \"\"\"Print the in position event when it is received.\"\"\"\n",
    "    logging.info(evt.in_position)"
   ]
  },
  {
   "cell_type": "code",
   "execution_count": null,
   "metadata": {
    "tags": []
   },
   "outputs": [],
   "source": [
    "def print_hexapod_position(_hex):\n",
    "    \"\"\"Print the current hexapod position\"\"\"\n",
    "    pos = _hex.tel_application.get()\n",
    "    s = \"\".join([f\"{pos.position[i]:10.2f}\" for i in range(6)])\n",
    "    logging.info(f\"Current hexapod position: {s}\\n\")"
   ]
  },
  {
   "cell_type": "markdown",
   "metadata": {},
   "source": [
    "## Running the test"
   ]
  },
  {
   "cell_type": "markdown",
   "metadata": {},
   "source": [
    "From any state send the CSC into OfflineState/AvailableState using the EUI.  \n",
    "Change the control at the EUI to `eGUI` and check that the `MTHexapod_logevent_commandableByDDS` publishes false."
   ]
  },
  {
   "cell_type": "code",
   "execution_count": null,
   "metadata": {},
   "outputs": [],
   "source": [
    "e = vandv.check_last_evt(hexapod_csc.evt_commandableByDDS)"
   ]
  },
  {
   "cell_type": "markdown",
   "metadata": {},
   "source": [
    "Now, change the control at the EUI to `DDS` and check that the `MTHexapod_logevent_commandableByDDS` publishes true."
   ]
  },
  {
   "cell_type": "code",
   "execution_count": null,
   "metadata": {},
   "outputs": [],
   "source": [
    "e = vandv.check_last_evt(hexapod_csc.evt_commandableByDDS)"
   ]
  },
  {
   "cell_type": "markdown",
   "metadata": {},
   "source": [
    "Check the transition above using the EFD."
   ]
  },
  {
   "cell_type": "code",
   "execution_count": null,
   "metadata": {},
   "outputs": [],
   "source": [
    "df = await client.select_top_n(\n",
    "    \"lsst.sal.MTHexapod.logevent_commandableByDDS\", \n",
    "    fields=\"state\",\n",
    "    num=5,\n",
    "    index=2\n",
    ")\n",
    "\n",
    "print(df)"
   ]
  },
  {
   "cell_type": "markdown",
   "metadata": {},
   "source": [
    "--- \n",
    "Verify the TCP/IP is connected to the low level controller."
   ]
  },
  {
   "cell_type": "code",
   "execution_count": null,
   "metadata": {},
   "outputs": [],
   "source": [
    "e = vandv.check_last_evt(hexapod_csc.evt_connected)"
   ]
  },
  {
   "cell_type": "code",
   "execution_count": null,
   "metadata": {},
   "outputs": [],
   "source": [
    "df = await client.select_top_n(\n",
    "    \"lsst.sal.MTHexapod.logevent_connected\", \n",
    "    fields=\"connected\",\n",
    "    num=5,\n",
    "    index=2\n",
    ")\n",
    "\n",
    "print(df)"
   ]
  },
  {
   "cell_type": "markdown",
   "metadata": {},
   "source": [
    "--- \n",
    "Verify the __MTHexapod_logevent_configuration__ event is publishing data to the EFD."
   ]
  },
  {
   "cell_type": "code",
   "execution_count": null,
   "metadata": {},
   "outputs": [],
   "source": [
    "e = vandv.check_last_evt(hexapod_csc.evt_configuration)"
   ]
  },
  {
   "cell_type": "code",
   "execution_count": null,
   "metadata": {},
   "outputs": [],
   "source": [
    "df = await client.select_top_n(\n",
    "    \"lsst.sal.MTHexapod.logevent_configuration\", \n",
    "    fields=\"*\",\n",
    "    num=1,\n",
    "    index=2\n",
    ")\n",
    "\n",
    "print(df)"
   ]
  },
  {
   "cell_type": "markdown",
   "metadata": {},
   "source": [
    "---\n",
    "Verify the __MTHexapod_logevent_interlock__ event is unengaged and publishing data to the EFD."
   ]
  },
  {
   "cell_type": "code",
   "execution_count": null,
   "metadata": {},
   "outputs": [],
   "source": [
    "e = vandv.check_last_evt(hexapod_csc.evt_interlock)"
   ]
  },
  {
   "cell_type": "code",
   "execution_count": null,
   "metadata": {},
   "outputs": [],
   "source": [
    "df = await client.select_top_n(\n",
    "    \"lsst.sal.MTHexapod.logevent_interlock\", \n",
    "    fields=\"engaged\",\n",
    "    num=1,\n",
    "    index=2\n",
    ")\n",
    "\n",
    "print(df)"
   ]
  },
  {
   "cell_type": "code",
   "execution_count": null,
   "metadata": {},
   "outputs": [],
   "source": [
    "hexapod_csc.evt_interlock.get().get_vars"
   ]
  },
  {
   "cell_type": "markdown",
   "metadata": {},
   "source": [
    "---\n",
    "Hit the E-stop and verify that the __MTHexapod_logevent_interlock__ event is engaged and publishing data to the EFD."
   ]
  },
  {
   "cell_type": "code",
   "execution_count": null,
   "metadata": {},
   "outputs": [],
   "source": [
    "e = vandv.check_last_evt(hexapod_csc.evt_interlock)"
   ]
  },
  {
   "cell_type": "code",
   "execution_count": null,
   "metadata": {},
   "outputs": [],
   "source": [
    "df = await client.select_top_n(\n",
    "    \"lsst.sal.MTHexapod.logevent_interlock\", \n",
    "    fields=\"engaged\",\n",
    "    num=1,\n",
    "    index=2\n",
    ")\n",
    "\n",
    "print(df)"
   ]
  },
  {
   "cell_type": "markdown",
   "metadata": {},
   "source": [
    "---\n",
    "Reset the E-stop and clear the error.  \n",
    "With the CSC in the FAULT state, issue a command to send the CSC to STANDBY using the notebook."
   ]
  },
  {
   "cell_type": "code",
   "execution_count": null,
   "metadata": {},
   "outputs": [],
   "source": [
    "await salobj.set_summary_state(hexapod_csc, salobj.State.STANDBY)"
   ]
  },
  {
   "cell_type": "markdown",
   "metadata": {},
   "source": [
    "---\n",
    "If running at the summit, verify that the thermal sensors are connected and producing telemetry into the EFD in the __lsst.sal.ESS.temperature__ topic."
   ]
  },
  {
   "cell_type": "code",
   "execution_count": null,
   "metadata": {},
   "outputs": [],
   "source": [
    "# ToDo @b1quint: Improve this query  \n",
    "df = await client.select_top_n(\n",
    "    \"lsst.sal.ESS.temperature\",\n",
    "    fields=\"*\",\n",
    "    num=1,\n",
    ")\n",
    "\n",
    "print(df)"
   ]
  },
  {
   "cell_type": "markdown",
   "metadata": {},
   "source": [
    "---\n",
    "The following steps define what the Jupyter Notebook for this test case implements.  \n",
    "Executing the Jupyter notebook is the only actual command and control step that needs to be executed.  \n",
    "Transition the state machine into disabledState to publish telemetry.  "
   ]
  },
  {
   "cell_type": "code",
   "execution_count": null,
   "metadata": {},
   "outputs": [],
   "source": [
    "await salobj.set_summary_state(hexapod_csc, salobj.State.DISABLED)"
   ]
  },
  {
   "cell_type": "markdown",
   "metadata": {},
   "source": [
    "---\n",
    "Verify the MTHexapod_actuators telemetry is being published to the EFD with the following parameters:\n",
    "- calibrated\n",
    "- raw\n",
    "- timestamp"
   ]
  },
  {
   "cell_type": "code",
   "execution_count": null,
   "metadata": {},
   "outputs": [],
   "source": [
    "e = vandv.check_last_evt(hexapod_csc.tel_actuators)"
   ]
  },
  {
   "cell_type": "code",
   "execution_count": null,
   "metadata": {},
   "outputs": [],
   "source": [
    "df = await client.select_top_n(\n",
    "    \"lsst.sal.MTHexapod.actuators\",\n",
    "    fields=\"*\",\n",
    "    num=5,\n",
    ")\n",
    "\n",
    "# The `index` keyword does not work in the command above. \n",
    "#  Using this to filter data from the data-frame.\n",
    "df = df[df[\"private_identity\"] == \"MTHexapod:2\"]\n",
    "print(df.iloc[0])"
   ]
  },
  {
   "cell_type": "markdown",
   "metadata": {},
   "source": [
    "---\n",
    "Verify the MTHexapod_application data is being published to the EFD with the following parameters:\n",
    "- demand\n",
    "- position\n",
    "- error"
   ]
  },
  {
   "cell_type": "code",
   "execution_count": null,
   "metadata": {},
   "outputs": [],
   "source": [
    "e = vandv.check_last_evt(hexapod_csc.tel_application)"
   ]
  },
  {
   "cell_type": "code",
   "execution_count": null,
   "metadata": {},
   "outputs": [],
   "source": [
    "df = await client.select_top_n(\n",
    "    \"lsst.sal.MTHexapod.application\",\n",
    "    fields=\"*\",\n",
    "    num=5,\n",
    ")\n",
    "\n",
    "# The `index` keyword does not work in the command above. \n",
    "#  Using this to filter data from the data-frame.\n",
    "df = df[df[\"private_identity\"] == \"MTHexapod:2\"]\n",
    "print(df.iloc[0])"
   ]
  },
  {
   "cell_type": "markdown",
   "metadata": {},
   "source": [
    "---\n",
    "Verify the MTHexapod_electrical data is being published to the EFD with the following parameters:\n",
    "- copleyStatusWordDrive\n",
    "- copleyLatchingFaultStatus\n",
    "- motorCurrent\n",
    "- busVoltage"
   ]
  },
  {
   "cell_type": "code",
   "execution_count": null,
   "metadata": {},
   "outputs": [],
   "source": [
    "e = vandv.check_last_evt(hexapod_csc.tel_electrical)"
   ]
  },
  {
   "cell_type": "code",
   "execution_count": null,
   "metadata": {},
   "outputs": [],
   "source": [
    "df = await client.select_top_n(\n",
    "    \"lsst.sal.MTHexapod.electrical\",\n",
    "    fields=\"*\",\n",
    "    num=5,\n",
    ")\n",
    "\n",
    "# The `index` keyword does not work in the command above. \n",
    "#  Using this to filter data from the data-frame.\n",
    "df = df[df[\"private_identity\"] == \"MTHexapod:2\"]\n",
    "print(df.iloc[0])"
   ]
  },
  {
   "cell_type": "markdown",
   "metadata": {},
   "source": [
    "### Test _move_ command\n",
    "\n",
    "Test Sequence #1 - Synchronous Move Commands\n",
    "With the synchronous button enabled and in `enabled/stationary` state."
   ]
  },
  {
   "cell_type": "code",
   "execution_count": null,
   "metadata": {},
   "outputs": [],
   "source": [
    "await salobj.set_summary_state(hexapod_csc, salobj.State.ENABLED)"
   ]
  },
  {
   "cell_type": "markdown",
   "metadata": {},
   "source": [
    "Make sure that the hexapod is in `stationary`."
   ]
  },
  {
   "cell_type": "code",
   "execution_count": null,
   "metadata": {},
   "outputs": [],
   "source": [
    "await hexapod_csc.cmd_stop.set_start()"
   ]
  },
  {
   "cell_type": "code",
   "execution_count": null,
   "metadata": {},
   "outputs": [],
   "source": [
    "e = hexapod_csc.evt_controllerState.get()\n",
    "enabled_substate_callback(e)"
   ]
  },
  {
   "cell_type": "markdown",
   "metadata": {},
   "source": [
    "Make sure that we start our test with all the positions set to 0."
   ]
  },
  {
   "cell_type": "code",
   "execution_count": null,
   "metadata": {},
   "outputs": [],
   "source": [
    "await hexapod_csc.cmd_move.set_start(x=0, y=0, z=0, u=0, v=0, w=0, sync=True)"
   ]
  },
  {
   "cell_type": "markdown",
   "metadata": {},
   "source": [
    "---\n",
    "Check the chronograph manually for the temperature sensors to be below 19C, if not wait until they are all below 19C. \n",
    "Enter in the data at the 39 second mark.\n",
    "\n",
    "|Actuator 1 (C)|Actuator 2 (C) | Actuator 3 (C) | Actuator 4 (C) | Actuator 5 (C) | Actuator 6 (C)|\n",
    "|--------------|---------------|----------------|----------------|----------------|---------------|\n",
    "| 0 | 0 | 0 | 0 | 0 | 0 |"
   ]
  },
  {
   "cell_type": "markdown",
   "metadata": {},
   "source": [
    "---\n",
    "Send a move command of (500um, -500um, 200um, 0.01deg, -0.015deg, 0deg).  \n",
    "  \n",
    "Record the corresponding DDS events that were generated.  \n",
    "  \n",
    "The `controllerState.enabledSubstate` goes to `MOVING_POINT_TO_POINT` when the move begins and `STATIONARY` when the move ends.\n",
    "An `MTHexapod_logevent_inPosition` event is generated when the move is complete."
   ]
  },
  {
   "cell_type": "code",
   "execution_count": null,
   "metadata": {},
   "outputs": [],
   "source": [
    "# Start test\n",
    "script.log.info(f\"START - {test_message} -- {test_case} {test_exec} Test move command\")"
   ]
  },
  {
   "cell_type": "code",
   "execution_count": null,
   "metadata": {},
   "outputs": [],
   "source": [
    "# Print the current position\n",
    "print_hexapod_position(hexapod_csc)"
   ]
  },
  {
   "cell_type": "code",
   "execution_count": null,
   "metadata": {},
   "outputs": [],
   "source": [
    "# Replace callback function that allows printing the sub-state\n",
    "hexapod_csc.evt_controllerState.callback = enabled_substate_callback                                \n",
    "\n",
    "# Move the hexapod\n",
    "await hexapod_csc.cmd_move.set_start(x=500,y=-500,z=200, u=0.01,v=-0.015,w=0,sync=True)\n",
    "\n",
    "# Wait 15 seconds\n",
    "await asyncio.sleep(15.)\n",
    "\n",
    "# Print the current position\n",
    "print_hexapod_position(hexapod_csc)"
   ]
  },
  {
   "cell_type": "code",
   "execution_count": null,
   "metadata": {},
   "outputs": [],
   "source": [
    "# End test\n",
    "script.log.info(f\"STOP - {test_message} -- {test_case} {test_exec} Test move command\")"
   ]
  },
  {
   "cell_type": "markdown",
   "metadata": {},
   "source": [
    "Wait to cool down the struts."
   ]
  },
  {
   "cell_type": "code",
   "execution_count": null,
   "metadata": {},
   "outputs": [],
   "source": [
    "await asyncio.sleep(STD_WAIT)"
   ]
  },
  {
   "cell_type": "markdown",
   "metadata": {},
   "source": [
    "---\n",
    "Check the chronograph manually for the temperature sensors to be below 19C, if not wait until they are all below 19C. Enter in the data at the 39 second mark\n",
    "\n",
    "|Actuator 1 (C)|Actuator 2 (C) | Actuator 3 (C) | Actuator 4 (C) | Actuator 5 (C) | Actuator 6 (C)|\n",
    "|--------------|---------------|----------------|----------------|----------------|---------------|\n",
    "| 0 | 0 | 0 | 0 | 0 | 0 |"
   ]
  },
  {
   "cell_type": "markdown",
   "metadata": {},
   "source": [
    "### Test _stop_ command\n",
    "\n",
    "In the enabled/stationary state, send a move command of (x=0um, y=0um, z=5000um, u=0deg, v=0deg, w=0deg)\n",
    "\n",
    "This block moves the hexapod to a large position but stops it after waiting 3 seconds."
   ]
  },
  {
   "cell_type": "code",
   "execution_count": null,
   "metadata": {},
   "outputs": [],
   "source": [
    "await hexapod_csc.cmd_move.set_start(x=0, y=0, z=0, u=0, v=0, w=0, sync=True)"
   ]
  },
  {
   "cell_type": "code",
   "execution_count": null,
   "metadata": {},
   "outputs": [],
   "source": [
    "# Start test\n",
    "script.log.info(f\"START - {test_message} -- {test_case} {test_exec} Test stop command\")\n",
    "\n",
    "# Print the current position\n",
    "print_hexapod_position(hexapod_csc)"
   ]
  },
  {
   "cell_type": "code",
   "execution_count": null,
   "metadata": {},
   "outputs": [],
   "source": [
    "# Move the hexapod\n",
    "await hexapod_csc.cmd_move.set_start(x=0, y=0, z=8900, u=0, v=0, w=0, sync=True)\n",
    "\n",
    "# Wait 3 seconds - @Todo @b1quint: maybe we need shorter time?\n",
    "await asyncio.sleep(0.25)\n",
    "\n",
    "# Send the stop command\n",
    "await hexapod_csc.cmd_stop.set_start()\n",
    "\n",
    "# Wait 15 seconds\n",
    "await asyncio.sleep(15.)\n",
    "\n",
    "# Print the current position\n",
    "print_hexapod_position(hexapod_csc)"
   ]
  },
  {
   "cell_type": "code",
   "execution_count": null,
   "metadata": {},
   "outputs": [],
   "source": [
    "# End test\n",
    "script.log.info(f\"STOP - {test_message} -- {test_case} {test_exec} Test stop command\")"
   ]
  },
  {
   "cell_type": "markdown",
   "metadata": {},
   "source": [
    "Wait to cool down the struts."
   ]
  },
  {
   "cell_type": "code",
   "execution_count": null,
   "metadata": {},
   "outputs": [],
   "source": [
    "await hexapod_csc.cmd_move.set_start(x=0, y=0, z=0, u=0, v=0, w=0, sync=True)"
   ]
  },
  {
   "cell_type": "code",
   "execution_count": null,
   "metadata": {},
   "outputs": [],
   "source": [
    "await asyncio.sleep(STD_WAIT)"
   ]
  },
  {
   "cell_type": "markdown",
   "metadata": {},
   "source": [
    "---\n",
    "Check the chronograph manually for the temperature sensors to be below 19C, if not wait until they are all below 19C. Enter in the data at the 39 second mark\n",
    "\n",
    "|Actuator 1 (C)|Actuator 2 (C) | Actuator 3 (C) | Actuator 4 (C) | Actuator 5 (C) | Actuator 6 (C)|\n",
    "|--------------|---------------|----------------|----------------|----------------|---------------|\n",
    "| 0 | 0 | 0 | 0 | 0 | 0 |"
   ]
  },
  {
   "cell_type": "markdown",
   "metadata": {},
   "source": [
    "Move back to the origin before starting a new test."
   ]
  },
  {
   "cell_type": "code",
   "execution_count": null,
   "metadata": {},
   "outputs": [],
   "source": [
    "await hexapod_csc.cmd_move.set_start(x=0, y=0, z=0, u=0, v=0, w=0, sync=True)"
   ]
  },
  {
   "cell_type": "markdown",
   "metadata": {},
   "source": [
    "Wait to cool down struts."
   ]
  },
  {
   "cell_type": "code",
   "execution_count": null,
   "metadata": {},
   "outputs": [],
   "source": [
    "await asyncio.sleep(STD_WAIT)"
   ]
  },
  {
   "cell_type": "markdown",
   "metadata": {},
   "source": [
    "### Test _setCompensationMode_ command"
   ]
  },
  {
   "cell_type": "markdown",
   "metadata": {},
   "source": [
    "The `setCompensationMode` expects information from the MTmount(elevation) and MTRotator(rotation).\n",
    "So we need to check if both are in the ENABLED state (or at least in DISABLED state) and that they are publishing the required data.  \n",
    "\n",
    "In CompenstationMode a LUT is used to compensate during the movements."
   ]
  },
  {
   "cell_type": "code",
   "execution_count": null,
   "metadata": {},
   "outputs": [],
   "source": [
    "# Sending Mount and Rotator to OFFLINE so we can bring up their simulators\n",
    "await salobj.set_summary_state(mount, salobj.State.OFFLINE)\n",
    "await salobj.set_summary_state(rotator, salobj.State.OFFLINE)"
   ]
  },
  {
   "cell_type": "code",
   "execution_count": null,
   "metadata": {},
   "outputs": [],
   "source": [
    "# Now that the Mount and Rotator are in simulation mode, I can send them to DISABLED\n",
    "await salobj.set_summary_state(mount, salobj.State.DISABLED)\n",
    "await salobj.set_summary_state(rotator, salobj.State.DISABLED)"
   ]
  },
  {
   "cell_type": "code",
   "execution_count": null,
   "metadata": {},
   "outputs": [],
   "source": [
    "e = mount.evt_summaryState.get()\n",
    "logging.info(f'{e.private_identity} is: {salobj.State(e.summaryState).name}')\n",
    "\n",
    "t = mount.tel_elevation.get()\n",
    "logging.info(f'{t.private_identity} at: {t.actualPosition:2.2f}')\n",
    "\n",
    "e = rotator.evt_summaryState.get()\n",
    "logging.info(f'{e.private_identity} is: {salobj.State(e.summaryState).name}')\n",
    "\n",
    "t = rotator.tel_rotation.get()\n",
    "logging.info(f'{t.private_identity} at: {t.actualPosition:2.2f}')"
   ]
  },
  {
   "cell_type": "markdown",
   "metadata": {},
   "source": [
    "In enabled/stationary state, send a move command of (x=0um, y=0um, z=800um, u=0deg, v=0deg, w=0deg).  \n",
    "\n",
    "The hexapod is expected to move to the position (x=0um, y=0um, z=800um, u=0deg, v=0deg, w=0deg) and, since we are moving in synchronous mode, the actuators complete the move at nearly the same time."
   ]
  },
  {
   "cell_type": "code",
   "execution_count": null,
   "metadata": {},
   "outputs": [],
   "source": [
    "# Start test\n",
    "script.log.info(f\"START - {test_message} -- {test_case} {test_exec} Test setCompensationMode command\")\n",
    "\n",
    "# Are we in compensation mode?\n",
    "await hexapod_csc.cmd_setCompensationMode.set_start(enable=False)\n",
    "e = vandv.check_last_evt(hexapod_csc.evt_compensationMode)\n",
    "assert e.enabled == False"
   ]
  },
  {
   "cell_type": "code",
   "execution_count": null,
   "metadata": {},
   "outputs": [],
   "source": [
    "# Move the hexapod\n",
    "await hexapod_csc.cmd_move.set_start(x=0, y=0, z=800, u=0, v=0, w=0, sync=True)\n",
    "\n",
    "# Wait movement to complete\n",
    "await asyncio.sleep(15.)"
   ]
  },
  {
   "cell_type": "code",
   "execution_count": null,
   "metadata": {},
   "outputs": [],
   "source": [
    "# Enable compensation mode\n",
    "await hexapod_csc.cmd_setCompensationMode.set_start(enable=True)\n",
    "e = vandv.check_last_evt(hexapod_csc.evt_compensationMode)\n",
    "assert e.enabled == True"
   ]
  },
  {
   "cell_type": "code",
   "execution_count": null,
   "metadata": {},
   "outputs": [],
   "source": [
    "# Move the hexapod again - it should not move\n",
    "await hexapod_csc.cmd_move.set_start(x=0, y=0, z=800, u=0, v=0, w=0, sync=True)\n",
    "\n",
    "# Wait movement to complete\n",
    "await asyncio.sleep(15.)"
   ]
  },
  {
   "cell_type": "code",
   "execution_count": null,
   "metadata": {},
   "outputs": [],
   "source": [
    "# End test\n",
    "script.log.info(f\"STOP - {test_message} -- {test_case} {test_exec} Test setCompensationMode command\")"
   ]
  },
  {
   "cell_type": "markdown",
   "metadata": {},
   "source": [
    "@bquint ToDo - bring this notebook to this repository\n",
    "\n",
    "To test the LUT compensation use: hdrass/Camera_Hexapod/hex_diagnostics.ipynb"
   ]
  },
  {
   "cell_type": "code",
   "execution_count": null,
   "metadata": {},
   "outputs": [],
   "source": [
    "# Move the hexapod again - it should not move\n",
    "await hexapod_csc.cmd_move.set_start(x=0, y=0, z=800, u=0, v=0, w=0, sync=True)\n",
    "\n",
    "# Wait movement to complete\n",
    "await asyncio.sleep(15.)"
   ]
  },
  {
   "cell_type": "markdown",
   "metadata": {},
   "source": [
    "---\n",
    "Check the chronograph manually for the temperature sensors to be below 19C, if not wait until they are all below 19C. Enter in the data at the 39 second mark\n",
    "\n",
    "|Actuator 1 (C)|Actuator 2 (C) | Actuator 3 (C) | Actuator 4 (C) | Actuator 5 (C) | Actuator 6 (C)|\n",
    "|--------------|---------------|----------------|----------------|----------------|---------------|\n",
    "| 0 | 0 | 0 | 0 | 0 | 0 |"
   ]
  },
  {
   "cell_type": "markdown",
   "metadata": {},
   "source": [
    "Move back to the origin before starting a new test."
   ]
  },
  {
   "cell_type": "code",
   "execution_count": null,
   "metadata": {},
   "outputs": [],
   "source": [
    "await hexapod_csc.cmd_move.set_start(x=0, y=0, z=0, u=0, v=0, w=0, sync=True)"
   ]
  },
  {
   "cell_type": "markdown",
   "metadata": {},
   "source": [
    "Wait to cool down struts."
   ]
  },
  {
   "cell_type": "code",
   "execution_count": null,
   "metadata": {},
   "outputs": [],
   "source": [
    "await asyncio.sleep(STD_WAIT)"
   ]
  },
  {
   "cell_type": "markdown",
   "metadata": {},
   "source": [
    "### Test _offset_ command\n",
    "\n",
    "Synchronous Offset and Move Commands.  \n",
    "In enabled/stationary state, send a move command of `(x=500um, y=800um, z=200um, u=0deg, v=0deg, w=0deg)`"
   ]
  },
  {
   "cell_type": "code",
   "execution_count": null,
   "metadata": {},
   "outputs": [],
   "source": [
    "# Start test\n",
    "script.log.info(f\"START - {test_message} -- {test_case} {test_exec} Test offset command\")\n",
    "\n",
    "# Print the current position\n",
    "print_hexapod_position(hexapod_csc)\n",
    "\n",
    "# Move hexapod\n",
    "await hexapod_csc.cmd_move.set_start(x=500, y=800, z=200, u=0, v=0, w=0, sync=True)\n",
    "\n",
    "# Wait movement to complete\n",
    "await asyncio.sleep(10.)\n",
    "\n",
    "# Print the current position\n",
    "print_hexapod_position(hexapod_csc)\n",
    "\n",
    "# Move hexapod using offset\n",
    "await hexapod_csc.cmd_offset.set_start(x=0,y=0,z=500,u=0,v=0,w=0,sync=True)\n",
    "\n",
    "# Wait movement to complete\n",
    "await asyncio.sleep(10.)\n",
    "\n",
    "# Print the current position\n",
    "print_hexapod_position(hexapod_csc)\n",
    "\n",
    "# End test\n",
    "script.log.info(f\"STOP - {test_message} -- {test_case} {test_exec} Test offset command\")"
   ]
  },
  {
   "cell_type": "markdown",
   "metadata": {},
   "source": [
    "---\n",
    "Check the chronograph manually for the temperature sensors to be below 19C, if not wait until they are all below 19C. Enter in the data at the 39 second mark\n",
    "\n",
    "|Actuator 1 (C)|Actuator 2 (C) | Actuator 3 (C) | Actuator 4 (C) | Actuator 5 (C) | Actuator 6 (C)|\n",
    "|--------------|---------------|----------------|----------------|----------------|---------------|\n",
    "| 0 | 0 | 0 | 0 | 0 | 0 |"
   ]
  },
  {
   "cell_type": "markdown",
   "metadata": {},
   "source": [
    "Move back to the origin before starting a new test."
   ]
  },
  {
   "cell_type": "code",
   "execution_count": null,
   "metadata": {},
   "outputs": [],
   "source": [
    "await hexapod_csc.cmd_move.set_start(x=0, y=0, z=0, u=0, v=0, w=0, sync=True)"
   ]
  },
  {
   "cell_type": "code",
   "execution_count": null,
   "metadata": {},
   "outputs": [],
   "source": [
    "await salobj.set_summary_state(hexapod_csc, salobj.State.STANDBY)"
   ]
  },
  {
   "cell_type": "code",
   "execution_count": null,
   "metadata": {},
   "outputs": [],
   "source": [
    "await salobj.set_summary_state(hexapod_csc, salobj.State.ENABLED)"
   ]
  },
  {
   "cell_type": "code",
   "execution_count": null,
   "metadata": {},
   "outputs": [],
   "source": [
    "await hexapod_csc.cmd_stop.set_start()"
   ]
  },
  {
   "cell_type": "code",
   "execution_count": null,
   "metadata": {},
   "outputs": [],
   "source": [
    "print_hexapod_position(hexapod_csc)"
   ]
  },
  {
   "cell_type": "code",
   "execution_count": null,
   "metadata": {},
   "outputs": [],
   "source": [
    "await hexapod_csc.cmd_move.set_start(x=0, y=0, z=0, u=0, v=0, w=0, sync=True)"
   ]
  },
  {
   "cell_type": "markdown",
   "metadata": {},
   "source": [
    "Wait to cool down struts."
   ]
  },
  {
   "cell_type": "code",
   "execution_count": null,
   "metadata": {},
   "outputs": [],
   "source": [
    "await asyncio.sleep(STD_WAIT)"
   ]
  },
  {
   "cell_type": "markdown",
   "metadata": {},
   "source": [
    "### Test pivot command\n",
    "\n",
    "Test Sequence `setPivot` and `move` commands.\n",
    "In enabled/stationary state, send a move command of `(x=2000um, y=-3500um, z=200um, u=0.01deg, v=-0.05deg, w=0.002deg, sync=true)`"
   ]
  },
  {
   "cell_type": "code",
   "execution_count": null,
   "metadata": {},
   "outputs": [],
   "source": [
    "# Start test\n",
    "script.log.info(f\"START - {test_message} -- {test_case} {test_exec} Test set pivot point\")\n",
    "\n",
    "# Print the current position\n",
    "print_hexapod_position(hexapod_csc)"
   ]
  },
  {
   "cell_type": "code",
   "execution_count": null,
   "metadata": {},
   "outputs": [],
   "source": [
    "# Print out the configuration which contains the original Pivot configuration\n",
    "e = vandv.check_last_evt(hexapod_csc.evt_configuration)"
   ]
  },
  {
   "cell_type": "code",
   "execution_count": null,
   "metadata": {},
   "outputs": [],
   "source": [
    "await hexapod_csc.cmd_setCompensationMode.set_start(enable=True)"
   ]
  },
  {
   "cell_type": "code",
   "execution_count": null,
   "metadata": {},
   "outputs": [],
   "source": [
    "# Move the hexapod\n",
    "await hexapod_csc.cmd_move.set_start(x=2000, y=-3500, z=200, u=0.01, v=-0.05, w=0.002, sync=True)\n",
    "\n",
    "# Wait movement to complete\n",
    "await asyncio.sleep(10.)\n",
    "\n",
    "# Print the current position\n",
    "print_hexapod_position(hexapod_csc)"
   ]
  },
  {
   "cell_type": "code",
   "execution_count": null,
   "metadata": {},
   "outputs": [],
   "source": [
    "# Set a new Pivot point\n",
    "await hexapod_csc.cmd_setPivot.set_start(x=0, y=0, z=0)\n",
    "\n",
    "# Wait movement to complete\n",
    "await asyncio.sleep(10.)"
   ]
  },
  {
   "cell_type": "code",
   "execution_count": null,
   "metadata": {},
   "outputs": [],
   "source": [
    "# Print out the new configuration\n",
    "e = vandv.check_last_evt(hexapod_csc.evt_configuration)"
   ]
  },
  {
   "cell_type": "code",
   "execution_count": null,
   "metadata": {},
   "outputs": [],
   "source": [
    "print_hexapod_position(hexapod_csc)"
   ]
  },
  {
   "cell_type": "code",
   "execution_count": null,
   "metadata": {},
   "outputs": [],
   "source": [
    "# Move hexapod again\n",
    "await hexapod_csc.cmd_move.set_start(x=2000,y=-3500,z=200,u=0.01,v=-0.05,w=0.002,sync=True)\n",
    "\n",
    "# Wait movement to complete\n",
    "await asyncio.sleep(10.)\n",
    "\n",
    "# Print the current position\n",
    "print_hexapod_position(hexapod_csc)"
   ]
  },
  {
   "cell_type": "code",
   "execution_count": null,
   "metadata": {},
   "outputs": [],
   "source": [
    "# Set the pivot point back to the original value (z=-0.703 m in um)\n",
    "await hexapod_csc.cmd_setPivot.set_start(x=0, y=0, z=-703000)\n",
    "\n",
    "# Print the current position\n",
    "print_hexapod_position(hexapod_csc)\n",
    "\n",
    "# End test\n",
    "script.log.info(f\"STOP- {test_message} -- LVV-T1802 Test set pivot point\")"
   ]
  },
  {
   "cell_type": "markdown",
   "metadata": {},
   "source": [
    "---\n",
    "Check the chronograph manually for the temperature sensors to be below 19C, if not wait until they are all below 19C. Enter in the data at the 39 second mark\n",
    "\n",
    "|Actuator 1 (C)|Actuator 2 (C) | Actuator 3 (C) | Actuator 4 (C) | Actuator 5 (C) | Actuator 6 (C)|\n",
    "|--------------|---------------|----------------|----------------|----------------|---------------|\n",
    "| 0 | 0 | 0 | 0 | 0 | 0 |"
   ]
  },
  {
   "cell_type": "markdown",
   "metadata": {},
   "source": [
    "Move back to the origin before starting a new test."
   ]
  },
  {
   "cell_type": "code",
   "execution_count": null,
   "metadata": {},
   "outputs": [],
   "source": [
    "await hexapod_csc.cmd_move.set_start(x=0, y=0, z=0, u=0, v=0, w=0, sync=True)"
   ]
  },
  {
   "cell_type": "markdown",
   "metadata": {},
   "source": [
    "Wait to cool down struts."
   ]
  },
  {
   "cell_type": "code",
   "execution_count": null,
   "metadata": {},
   "outputs": [],
   "source": [
    "await asyncio.sleep(STD_WAIT)"
   ]
  },
  {
   "cell_type": "markdown",
   "metadata": {},
   "source": [
    "### Test _configureLimits_ command\n",
    "\n",
    "In enabled/stationary state, send a `configureLimits` command of `(12000um, -1000um, 1000um, 0.1, -0.1, 0.05)`."
   ]
  },
  {
   "cell_type": "code",
   "execution_count": null,
   "metadata": {},
   "outputs": [],
   "source": [
    "# Print out the new configuration\n",
    "e = vandv.check_last_evt(hexapod_csc.evt_configuration)"
   ]
  },
  {
   "cell_type": "code",
   "execution_count": null,
   "metadata": {
    "tags": []
   },
   "outputs": [],
   "source": [
    "# Start test\n",
    "script.log.info(f\"START - {test_message} -- {test_case} {test_exec} Test configureLimits\")\n",
    "\n",
    "# Try to set a new configuration - It should fail \n",
    "await hexapod_csc.cmd_configureLimits.set_start(maxXY=12000, minZ=-1000, maxZ=1000, maxUV=0.1, minW=-0.1, maxW=0.05)"
   ]
  },
  {
   "cell_type": "code",
   "execution_count": null,
   "metadata": {
    "tags": []
   },
   "outputs": [],
   "source": [
    "# Try again with reasonable values\n",
    "await hexapod_csc.cmd_configureLimits.set_start(maxXY=1000, minZ=-1000, maxZ=1000, maxUV=0.1, minW=-0.05, maxW=0.05)"
   ]
  },
  {
   "cell_type": "code",
   "execution_count": null,
   "metadata": {},
   "outputs": [],
   "source": [
    "# Print out the new configuration\n",
    "e = vandv.check_last_evt(hexapod_csc.evt_configuration)"
   ]
  },
  {
   "cell_type": "code",
   "execution_count": null,
   "metadata": {},
   "outputs": [],
   "source": [
    "# Move the hexapod\n",
    "await hexapod_csc.cmd_move.set_start(x=850, y=0, z=500, u=0, v=0, w=0, sync=True)\n",
    "\n",
    "# Wait movement to complete\n",
    "await asyncio.sleep(15.)\n",
    "\n",
    "# Print the current position\n",
    "print_hexapod_position(hexapod_csc)"
   ]
  },
  {
   "cell_type": "code",
   "execution_count": null,
   "metadata": {},
   "outputs": [],
   "source": [
    "# Move the hexapod again, the command should be rejected\n",
    "await hexapod_csc.cmd_move.set_start(x=1200, y=0, z=200, u=0, v=0, w=0, sync=True)"
   ]
  },
  {
   "cell_type": "code",
   "execution_count": null,
   "metadata": {
    "tags": []
   },
   "outputs": [],
   "source": [
    "# Move the hexapod again, the command should be accepted\n",
    "await hexapod_csc.cmd_move.set_start(x=990, y=990, z=200, u=0, v=0, w=0, sync=True)"
   ]
  },
  {
   "cell_type": "code",
   "execution_count": null,
   "metadata": {},
   "outputs": [],
   "source": [
    "# Move the hexapod again, the command should be accepted\n",
    "await hexapod_csc.cmd_move.set_start(x=500, y=500, z=200, u=0, v=0.1, w=0.01, sync=True)\n",
    "\n",
    "# Wait movement to complete\n",
    "await asyncio.sleep(15.)\n",
    "\n",
    "# Print the current position\n",
    "print_hexapod_position(hexapod_csc)"
   ]
  },
  {
   "cell_type": "code",
   "execution_count": null,
   "metadata": {},
   "outputs": [],
   "source": [
    "# Start test\n",
    "script.log.info(f\"STOP - {test_message} -- {test_case} {test_exec} Test configureLimits\")"
   ]
  },
  {
   "cell_type": "markdown",
   "metadata": {},
   "source": [
    "Move back to the origin before starting a new test."
   ]
  },
  {
   "cell_type": "code",
   "execution_count": null,
   "metadata": {},
   "outputs": [],
   "source": [
    "await hexapod_csc.cmd_move.set_start(x=0, y=0, z=0, u=0, v=0, w=0, sync=True)"
   ]
  },
  {
   "cell_type": "markdown",
   "metadata": {},
   "source": [
    "### Test configureAcceleration command \n",
    "\n",
    "In enabled/stationary state, at a position of `(0, 0, 0, 0, 0, 0)` with the velocity and acceleration values set to their nominal values, send a move command of (0um, 0um, 4900um, 0 deg, 0 deg, 0 deg)."
   ]
  },
  {
   "cell_type": "code",
   "execution_count": null,
   "metadata": {},
   "outputs": [],
   "source": [
    "# For the following tests, first reset the limits to the EUI defaults of accomodate them.\n",
    "await hexapod_csc.cmd_configureLimits.set_start(maxXY=10500, minZ=-8900, maxZ=8900, maxUV=0.1750, minW=-0.05, maxW=0.05)"
   ]
  },
  {
   "cell_type": "code",
   "execution_count": null,
   "metadata": {},
   "outputs": [],
   "source": [
    "hexapod_csc.evt_controllerState.callback = enabled_substate_callback                                "
   ]
  },
  {
   "cell_type": "code",
   "execution_count": null,
   "metadata": {},
   "outputs": [],
   "source": [
    "# Start test\n",
    "script.log.info(f\"START - {test_message} -- {test_case} {test_exec} Test configureAcceleration\")"
   ]
  },
  {
   "cell_type": "code",
   "execution_count": null,
   "metadata": {},
   "outputs": [],
   "source": [
    "# todo @bquint - add a callback to track how much time it takes to complete\n",
    "# Move the hexapod, it should take about 9s\n",
    "await hexapod_csc.cmd_move.set_start(x=0, y=0, z=4900, u=0, v=0, w=0, sync=True)\n",
    "\n",
    "# Wait movement to complete\n",
    "await asyncio.sleep(15.)"
   ]
  },
  {
   "cell_type": "code",
   "execution_count": null,
   "metadata": {},
   "outputs": [],
   "source": [
    "# Update the acceleration, the command should be rejected\n",
    "await hexapod_csc.cmd_configureAcceleration.set_start(acceleration=1000)"
   ]
  },
  {
   "cell_type": "code",
   "execution_count": null,
   "metadata": {},
   "outputs": [],
   "source": [
    "# Update the acceleration, the command should be accepted\n",
    "await hexapod_csc.cmd_configureAcceleration.set_start(acceleration=100)"
   ]
  },
  {
   "cell_type": "code",
   "execution_count": null,
   "metadata": {},
   "outputs": [],
   "source": [
    "# todo @bquint - add a callback to track how much time it takes to complete\n",
    "# Move the hexapod, it should take about 13s\n",
    "await hexapod_csc.cmd_move.set_start(x=0, y=0, z=0, u=0, v=0, w=0, sync=True)\n",
    "\n",
    "# Wait movement to complete\n",
    "await asyncio.sleep(15.)"
   ]
  },
  {
   "cell_type": "code",
   "execution_count": null,
   "metadata": {},
   "outputs": [],
   "source": [
    "# Update the acceleration to the nominal value\n",
    "await hexapod_csc.cmd_configureAcceleration.set_start(acceleration=500)"
   ]
  },
  {
   "cell_type": "code",
   "execution_count": null,
   "metadata": {},
   "outputs": [],
   "source": [
    "# Start test\n",
    "script.log.info(f\"STOP - {test_message} -- {test_case} {test_exec} Test configureAcceleration\")"
   ]
  },
  {
   "cell_type": "markdown",
   "metadata": {},
   "source": [
    "### Test _configureVelocity_ command\n",
    "\n",
    "In enabled/stationary state, at a position of `(0, 0, 0, 0, 0, 0)`, send a `configureVelocity` command of (10000, .01, 100, .01)."
   ]
  },
  {
   "cell_type": "code",
   "execution_count": null,
   "metadata": {},
   "outputs": [],
   "source": [
    "# Change velocity\n",
    "await hexapod_csc.cmd_configureVelocity.set_start(xy=10000, z=100.0, uv=0.01, w=0.01)"
   ]
  },
  {
   "cell_type": "code",
   "execution_count": null,
   "metadata": {},
   "outputs": [],
   "source": [
    "# Start test\n",
    "script.log.info(f\"START - {test_message} -- {test_case} {test_exec} Test configureVelocity\")"
   ]
  },
  {
   "cell_type": "code",
   "execution_count": null,
   "metadata": {},
   "outputs": [],
   "source": [
    "# Change velocity\n",
    "await hexapod_csc.cmd_configureVelocity.set_start(xy=200, z=100.0, uv=0.01, w=0.01)"
   ]
  },
  {
   "cell_type": "code",
   "execution_count": null,
   "metadata": {},
   "outputs": [],
   "source": [
    "await salobj.set_summary_state(hexapod_csc, salobj.State.STANDBY)"
   ]
  },
  {
   "cell_type": "code",
   "execution_count": null,
   "metadata": {},
   "outputs": [],
   "source": [
    "await salobj.set_summary_state(hexapod_csc, salobj.State.ENABLED)"
   ]
  },
  {
   "cell_type": "code",
   "execution_count": null,
   "metadata": {},
   "outputs": [],
   "source": [
    "# todo @bquint - add a callback to track how much time it takes to complete\n",
    "# Move the hexapod, it should take ~20s to complete\n",
    "\n",
    "await hexapod_csc.cmd_move.set_start(x=0, y=0, z=2000, u=0, v=0, w=0, sync=True)\n",
    "\n",
    "# Wait movement to complete\n",
    "await asyncio.sleep(25.)"
   ]
  },
  {
   "cell_type": "code",
   "execution_count": null,
   "metadata": {},
   "outputs": [],
   "source": [
    "# Change velocity\n",
    "await hexapod_csc.cmd_configureVelocity.set_start(xy=100, z=100, uv=0.01, w=0.01)"
   ]
  },
  {
   "cell_type": "code",
   "execution_count": null,
   "metadata": {},
   "outputs": [],
   "source": [
    "# todo @bquint - add a callback to track how much time it takes to complete\n",
    "# Move the hexapod using the offset, it should take ~40s to complete\n",
    "await hexapod_csc.cmd_offset.set_start(x=0, y=0, z=2000, u=0, v=0, w=0, sync=True)\n",
    "\n",
    "# Wait movement to complete\n",
    "await asyncio.sleep(50.)"
   ]
  },
  {
   "cell_type": "code",
   "execution_count": null,
   "metadata": {},
   "outputs": [],
   "source": [
    "# Start test\n",
    "script.log.info(f\"STOP - {test_message} -- {test_case} {test_exec} Test configureVelocity\")"
   ]
  },
  {
   "cell_type": "markdown",
   "metadata": {},
   "source": [
    "## State Transition Tests\n",
    "\n",
    "The test case contains multiple steps that do not belong to a notebook. I will skip them for now. "
   ]
  },
  {
   "cell_type": "markdown",
   "metadata": {},
   "source": [
    "## Endurance Test"
   ]
  },
  {
   "cell_type": "code",
   "execution_count": null,
   "metadata": {},
   "outputs": [],
   "source": [
    "# Hexapod envelope Test\n",
    "\n",
    "script.log.info(f\"START- {test_message} -- LVV-T1802 Envelope Test\")\n",
    "\n",
    "await hexapod_csc.cmd_move.set_start(x=6700,y=0,z=5900,u=0,v=0.12,w=0,sync=True)\n",
    "await asyncio.sleep(STD_WAIT)\n",
    "await hexapod_csc.cmd_move.set_start(x=6700,y=0,z=5900,u=0,v=-0.12,w=0,sync=True)\n",
    "await asyncio.sleep(STD_WAIT)\n",
    "await hexapod_csc.cmd_move.set_start(x=6700,y=0,z=5900,u=0.12,v=0,w=0,sync=True)\n",
    "await asyncio.sleep(STD_WAIT)\n",
    "await hexapod_csc.cmd_move.set_start(x=6700,y=0,z=5900,u=-0.12,v=0,w=0,sync=True)\n",
    "await asyncio.sleep(STD_WAIT)\n",
    "\n",
    "await hexapod_csc.cmd_move.set_start(x=6700,y=0,z=-5900,u=0,v=0.12,w=0,sync=True)\n",
    "await asyncio.sleep(STD_WAIT)\n",
    "await hexapod_csc.cmd_move.set_start(x=6700,y=0,z=-5900,u=0,v=-0.12,w=0,sync=True)\n",
    "await asyncio.sleep(STD_WAIT)\n",
    "await hexapod_csc.cmd_move.set_start(x=6700,y=0,z=-5900,u=0.12,v=0,w=0,sync=True)\n",
    "await asyncio.sleep(STD_WAIT)\n",
    "await hexapod_csc.cmd_move.set_start(x=6700,y=0,z=-5900,u=-0.12,v=0,w=0,sync=True)\n",
    "await asyncio.sleep(STD_WAIT)\n",
    "\n",
    "await hexapod_csc.cmd_move.set_start(x=-6700,y=0,z=5900,u=0,v=0.12,w=0,sync=True)\n",
    "await asyncio.sleep(STD_WAIT)\n",
    "await hexapod_csc.cmd_move.set_start(x=-6700,y=0,z=5900,u=0,v=-0.12,w=0,sync=True)\n",
    "await asyncio.sleep(STD_WAIT)\n",
    "await hexapod_csc.cmd_move.set_start(x=-6700,y=0,z=5900,u=0.12,v=0,w=0,sync=True)\n",
    "await asyncio.sleep(STD_WAIT)\n",
    "await hexapod_csc.cmd_move.set_start(x=-6700,y=0,z=5900,u=-0.12,v=0,w=0,sync=True)\n",
    "await asyncio.sleep(STD_WAIT)\n",
    "\n",
    "await hexapod_csc.cmd_move.set_start(x=-6700,y=0,z=-5900,u=0,v=0.12,w=0,sync=True)\n",
    "await asyncio.sleep(STD_WAIT)\n",
    "await hexapod_csc.cmd_move.set_start(x=-6700,y=0,z=-5900,u=0,v=-0.12,w=0,sync=True)\n",
    "await asyncio.sleep(STD_WAIT)\n",
    "await hexapod_csc.cmd_move.set_start(x=-6700,y=0,z=-5900,u=0.12,v=0,w=0,sync=True)\n",
    "await asyncio.sleep(STD_WAIT)\n",
    "await hexapod_csc.cmd_move.set_start(x=-6700,y=0,z=-5900,u=-0.12,v=0,w=0,sync=True)\n",
    "await asyncio.sleep(STD_WAIT)\n",
    "\n",
    "\n",
    "await hexapod_csc.cmd_move.set_start(x=0,y=6700,z=5900,u=0,v=0.12,w=0,sync=True)\n",
    "await asyncio.sleep(STD_WAIT)\n",
    "await hexapod_csc.cmd_move.set_start(x=0,y=6700,z=5900,u=0,v=-0.12,w=0,sync=True)\n",
    "await asyncio.sleep(STD_WAIT)\n",
    "await hexapod_csc.cmd_move.set_start(x=0,y=6700,z=5900,u=0.12,v=0,w=0,sync=True)\n",
    "await asyncio.sleep(STD_WAIT)\n",
    "await hexapod_csc.cmd_move.set_start(x=0,y=6700,z=5900,u=-0.12,v=0,w=0,sync=True)\n",
    "await asyncio.sleep(STD_WAIT)\n",
    "\n",
    "await hexapod_csc.cmd_move.set_start(x=0,y=6700,z=-5900,u=0,v=0.12,w=0,sync=True)\n",
    "await asyncio.sleep(STD_WAIT)\n",
    "await hexapod_csc.cmd_move.set_start(x=0,y=6700,z=-5900,u=0,v=-0.12,w=0,sync=True)\n",
    "await asyncio.sleep(STD_WAIT)\n",
    "await hexapod_csc.cmd_move.set_start(x=0,y=6700,z=-5900,u=0.12,v=0,w=0,sync=True)\n",
    "await asyncio.sleep(STD_WAIT)\n",
    "await hexapod_csc.cmd_move.set_start(x=0,y=6700,z=-5900,u=-0.12,v=0,w=0,sync=True)\n",
    "await asyncio.sleep(STD_WAIT)\n",
    "\n",
    "await hexapod_csc.cmd_move.set_start(x=0,y=-6700,z=5900,u=0,v=0.12,w=0,sync=True)\n",
    "await asyncio.sleep(STD_WAIT)\n",
    "await hexapod_csc.cmd_move.set_start(x=0,y=-6700,z=5900,u=0,v=-0.12,w=0,sync=True)\n",
    "await asyncio.sleep(STD_WAIT)\n",
    "await hexapod_csc.cmd_move.set_start(x=0,y=-6700,z=5900,u=0.12,v=0,w=0,sync=True)\n",
    "await asyncio.sleep(STD_WAIT)\n",
    "await hexapod_csc.cmd_move.set_start(x=0,y=-6700,z=5900,u=-0.12,v=0,w=0,sync=True)\n",
    "await asyncio.sleep(STD_WAIT)\n",
    "\n",
    "await hexapod_csc.cmd_move.set_start(x=0,y=-6700,z=-5900,u=0,v=0.12,w=0,sync=True)\n",
    "await asyncio.sleep(STD_WAIT)\n",
    "await hexapod_csc.cmd_move.set_start(x=0,y=-6700,z=-5900,u=0,v=-0.12,w=0,sync=True)\n",
    "await asyncio.sleep(STD_WAIT)\n",
    "await hexapod_csc.cmd_move.set_start(x=0,y=-6700,z=-5900,u=0.12,v=0,w=0,sync=True)\n",
    "await asyncio.sleep(STD_WAIT)\n",
    "await hexapod_csc.cmd_move.set_start(x=0,y=-6700,z=-5900,u=-0.12,v=0,w=0,sync=True)\n",
    "await asyncio.sleep(STD_WAIT)\n",
    "\n",
    "script.log.info(f\"STOPP- {test_message} -- LVV-T1802 Endurance Test \")"
   ]
  },
  {
   "cell_type": "code",
   "execution_count": null,
   "metadata": {},
   "outputs": [],
   "source": [
    "await salobj.set_summary_state(hexapod_csc, salobj.State.STANDBY) # Transition the CSC to Standby state"
   ]
  },
  {
   "cell_type": "code",
   "execution_count": null,
   "metadata": {},
   "outputs": [],
   "source": [
    "await domain.close() # Close the remote connection"
   ]
  },
  {
   "cell_type": "code",
   "execution_count": null,
   "metadata": {},
   "outputs": [],
   "source": []
  }
 ],
 "metadata": {
  "kernelspec": {
   "display_name": "LSST",
   "language": "python",
   "name": "lsst"
  },
  "language_info": {
   "codemirror_mode": {
    "name": "ipython",
    "version": 3
   },
   "file_extension": ".py",
   "mimetype": "text/x-python",
   "name": "python",
   "nbconvert_exporter": "python",
   "pygments_lexer": "ipython3",
   "version": "3.10.5"
  }
 },
 "nbformat": 4,
 "nbformat_minor": 4
}
