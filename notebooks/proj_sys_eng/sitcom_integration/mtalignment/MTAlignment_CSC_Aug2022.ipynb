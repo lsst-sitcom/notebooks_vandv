{
 "cells": [
  {
   "cell_type": "code",
   "execution_count": null,
   "id": "e99942fa",
   "metadata": {},
   "outputs": [],
   "source": [
    "from lsst.ts import salobj"
   ]
  },
  {
   "cell_type": "code",
   "execution_count": null,
   "id": "26055aa2",
   "metadata": {},
   "outputs": [],
   "source": [
    "log = logging.getLogger()\n",
    "log.setLevel(logging.DEBUG)\n",
    "log.addHandler(logging.StreamHandler())"
   ]
  },
  {
   "cell_type": "code",
   "execution_count": null,
   "id": "713cb968",
   "metadata": {},
   "outputs": [],
   "source": [
    "domain = salobj.Domain()\n",
    "print(f\"My user_host is {domain.user_host!r}\")"
   ]
  },
  {
   "cell_type": "code",
   "execution_count": null,
   "id": "4763c7d0",
   "metadata": {},
   "outputs": [],
   "source": [
    "remote = salobj.Remote(domain=domain, name=\"MTAlignment\")"
   ]
  },
  {
   "cell_type": "code",
   "execution_count": null,
   "id": "17a2e766",
   "metadata": {},
   "outputs": [],
   "source": [
    "await remote.cmd_disable.set_start()"
   ]
  },
  {
   "cell_type": "code",
   "execution_count": null,
   "id": "9d966369",
   "metadata": {},
   "outputs": [],
   "source": [
    "await remote.cmd_start.set_start()"
   ]
  },
  {
   "cell_type": "code",
   "execution_count": null,
   "id": "1af85c26",
   "metadata": {},
   "outputs": [],
   "source": [
    "await remote.cmd_enable.set_start()"
   ]
  },
  {
   "cell_type": "code",
   "execution_count": null,
   "id": "fcf6cf93",
   "metadata": {},
   "outputs": [],
   "source": [
    "await remote.cmd_laserPower.set_start(1)"
   ]
  },
  {
   "cell_type": "code",
   "execution_count": null,
   "id": "87258787",
   "metadata": {},
   "outputs": [],
   "source": [
    "await remote.cmd_setWorkingFrame.set_start(workingFrame=\"M1M3\")"
   ]
  },
  {
   "cell_type": "code",
   "execution_count": null,
   "id": "67bd9305",
   "metadata": {},
   "outputs": [],
   "source": [
    "await remote.cmd_measureTarget.set_start(target=\"M1M3\")"
   ]
  },
  {
   "cell_type": "code",
   "execution_count": null,
   "id": "0dd3c866",
   "metadata": {},
   "outputs": [],
   "source": [
    "await remote.cmd_measureTarget.set_start(target=\"M2\")"
   ]
  },
  {
   "cell_type": "code",
   "execution_count": null,
   "id": "a92fb9be",
   "metadata": {},
   "outputs": [],
   "source": [
    "await remote.cmd_measureTarget.set_start(target=\"CAM\")"
   ]
  },
  {
   "cell_type": "code",
   "execution_count": null,
   "id": "945599a0",
   "metadata": {},
   "outputs": [],
   "source": [
    "await remote.cmd_measurePoint.set_start(collection=\"A\", pointgroup=\"M1M3\", target=\"M1M3_P1\")"
   ]
  },
  {
   "cell_type": "code",
   "execution_count": null,
   "id": "b670535a",
   "metadata": {},
   "outputs": [],
   "source": [
    "await remote.cmd_measurePoint.set_start(collection=\"A\", pointgroup=\"M1M3\", target=\"M1M3_P2\")"
   ]
  },
  {
   "cell_type": "code",
   "execution_count": null,
   "id": "31b566c5",
   "metadata": {},
   "outputs": [],
   "source": [
    "await remote.cmd_measurePoint.set_start(collection=\"A\", pointgroup=\"M1M3\", target=\"M1M3_P3\")"
   ]
  },
  {
   "cell_type": "code",
   "execution_count": null,
   "id": "156853dd",
   "metadata": {},
   "outputs": [],
   "source": [
    "await remote.cmd_measurePoint.set_start(collection=\"A\", pointgroup=\"M2\", target=\"M2_P1\")"
   ]
  },
  {
   "cell_type": "code",
   "execution_count": null,
   "id": "bbd445d6",
   "metadata": {},
   "outputs": [],
   "source": [
    "await remote.cmd_measurePoint.set_start(collection=\"A\", pointgroup=\"M2\", target=\"M2_P2\")"
   ]
  },
  {
   "cell_type": "code",
   "execution_count": null,
   "id": "70fa8f8e",
   "metadata": {},
   "outputs": [],
   "source": [
    "await remote.cmd_measurePoint.set_start(collection=\"A\", pointgroup=\"M2\", target=\"M2_P3\")"
   ]
  },
  {
   "cell_type": "code",
   "execution_count": null,
   "id": "72729266",
   "metadata": {},
   "outputs": [],
   "source": [
    "await remote.cmd_measurePoint.set_start(collection=\"A\", pointgroup=\"CAM\", target=\"CAM_P1\")"
   ]
  },
  {
   "cell_type": "code",
   "execution_count": null,
   "id": "2e1d4f67",
   "metadata": {},
   "outputs": [],
   "source": [
    "await remote.cmd_measurePoint.set_start(collection=\"A\", pointgroup=\"CAM\", target=\"CAM_P2\")"
   ]
  },
  {
   "cell_type": "code",
   "execution_count": null,
   "id": "44302a05",
   "metadata": {},
   "outputs": [],
   "source": [
    "await remote.cmd_measurePoint.set_start(collection=\"A\", pointgroup=\"CAM\", target=\"CAM_P3\")"
   ]
  },
  {
   "cell_type": "code",
   "execution_count": null,
   "id": "cf48317c",
   "metadata": {},
   "outputs": [],
   "source": [
    "await remote.cmd_pointDelta.set_start(collection_A=\"A\", pointgroup_A=\"M1M3\", target_A=\"M1M3_P1\", \n",
    "                                      collection_B=\"A\", pointgroup_B=\"M1M3\", target_B=\"M1M3_P2\")"
   ]
  },
  {
   "cell_type": "code",
   "execution_count": null,
   "id": "1a69c68d",
   "metadata": {},
   "outputs": [],
   "source": [
    "await remote.cmd_setReferenceGroup.set_start(referenceGroup=\"M1M3\")"
   ]
  },
  {
   "cell_type": "code",
   "execution_count": null,
   "id": "3b049d38",
   "metadata": {},
   "outputs": [],
   "source": [
    "await remote.cmd_saveJobFile.set_start(\"C:\\Analzer Data\\TestJobFile\")"
   ]
  },
  {
   "cell_type": "code",
   "execution_count": null,
   "id": "7ab00fee",
   "metadata": {},
   "outputs": [],
   "source": [
    "await remote.cmd_measureDrift.set_start(\"M1M3\")"
   ]
  },
  {
   "cell_type": "code",
   "execution_count": null,
   "id": "29119a16",
   "metadata": {},
   "outputs": [],
   "source": [
    "await remote.cmd_align.set_start(0.2, 5)"
   ]
  },
  {
   "cell_type": "code",
   "execution_count": null,
   "id": "e62acb5a",
   "metadata": {},
   "outputs": [],
   "source": [
    "await remote.cmd_healthCheck(1)"
   ]
  },
  {
   "cell_type": "code",
   "execution_count": null,
   "id": "e655e6fc",
   "metadata": {},
   "outputs": [],
   "source": [
    "await remote.cmd_resetT2SA(1)"
   ]
  },
  {
   "cell_type": "code",
   "execution_count": null,
   "id": "08836bf9",
   "metadata": {},
   "outputs": [],
   "source": [
    "await remote.cmd_halt(1)"
   ]
  }
 ],
 "metadata": {
  "kernelspec": {
   "display_name": "Python 3 (ipykernel)",
   "language": "python",
   "name": "python3"
  },
  "language_info": {
   "codemirror_mode": {
    "name": "ipython",
    "version": 3
   },
   "file_extension": ".py",
   "mimetype": "text/x-python",
   "name": "python",
   "nbconvert_exporter": "python",
   "pygments_lexer": "ipython3",
   "version": "3.10.5"
  }
 },
 "nbformat": 4,
 "nbformat_minor": 5
}
