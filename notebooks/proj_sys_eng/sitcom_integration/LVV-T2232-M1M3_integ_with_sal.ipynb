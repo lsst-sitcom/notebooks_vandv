{
 "cells": [
  {
   "cell_type": "markdown",
   "id": "cf98a35e-df78-4181-9350-ce0dd7e7e900",
   "metadata": {},
   "source": [
    "# [LVV-T2232] - M1M3 Integration with SAL\n",
    "\n",
    "The objective of this test case is to verify the latest M1M3 commands, events, and telemetry defined by the latest version of the XML.  \n",
    "This test case will exercise the functionality of the M1M3 on the 3rd level of the Summit and meets the following criteria:\n",
    "- Only requires the most current version of SAL\n",
    "- Only requires the M1M3 surrogate to be loaded on the cell\n",
    "- Requires the use of the DDS and the EFD\n",
    "\n",
    "[LVV-T2232]: https://jira.lsstcorp.org/secure/Tests.jspa#/testCase/LVV-T2232"
   ]
  },
  {
   "cell_type": "code",
   "execution_count": null,
   "id": "cb1514ae-53c0-4ddd-98cd-296e7c2ea7a2",
   "metadata": {},
   "outputs": [],
   "source": [
    "%load_ext autoreload\n",
    "%autoreload 2"
   ]
  },
  {
   "cell_type": "code",
   "execution_count": null,
   "id": "f9641ee4-f66c-4c9a-9032-129c07305339",
   "metadata": {},
   "outputs": [],
   "source": [
    "from lsst.sitcom import vandv\n",
    "\n",
    "exec_info = vandv.ExecutionInfo()\n",
    "print(exec_info)"
   ]
  },
  {
   "cell_type": "code",
   "execution_count": null,
   "id": "2c7d2b7c-e800-4bfe-8053-0b889f71e5e4",
   "metadata": {},
   "outputs": [],
   "source": [
    "test_case = \"LVV-T2232\"\n",
    "test_execution = \"LVV-E1285\""
   ]
  },
  {
   "cell_type": "markdown",
   "id": "427b59f9-8dbd-4cad-8d8f-dc191ccb3211",
   "metadata": {},
   "source": [
    "---\n",
    "## LVV-T1996 (1.0) M1M3 DDS Startup Procedure\n",
    "\n",
    "[LVV-T1996 (1.0)]: https://jira.lsstcorp.org/secure/Tests.jspa#/testCase/LVV-T1996"
   ]
  },
  {
   "cell_type": "code",
   "execution_count": null,
   "id": "f92edceb-392e-4528-9718-b0806ac5a402",
   "metadata": {
    "tags": []
   },
   "outputs": [],
   "source": [
    "import asyncio\n",
    "import os\n",
    "import yaml\n",
    "\n",
    "import astropy.units as u\n",
    "import numpy as np\n",
    "import matplotlib.pyplot as plt\n",
    "import pandas as pd\n",
    "\n",
    "from astropy import time \n",
    "from astropy.coordinates import AltAz, ICRS, EarthLocation, Angle, FK5\n",
    "from datetime import datetime, timedelta\n",
    "\n",
    "from lsst_efd_client import EfdClient\n",
    "from lsst.ts import utils, salobj\n",
    "from lsst.ts.cRIOpy import M1M3FATable\n",
    "from lsst.ts.observatory.control.maintel.mtcs import MTCS, MTCSUsages\n",
    "from lsst.ts.observatory.control import RotType\n",
    "\n",
    "import lsst.sitcom.vandv as vandv"
   ]
  },
  {
   "cell_type": "code",
   "execution_count": null,
   "id": "702090c1-90c6-44a6-b764-408d1b150bda",
   "metadata": {
    "tags": []
   },
   "outputs": [],
   "source": [
    "logging.basicConfig(format=\"%(name)s:%(message)s\", level=logging.DEBUG)"
   ]
  },
  {
   "cell_type": "code",
   "execution_count": null,
   "id": "a36de812-1703-4896-a489-21790e422408",
   "metadata": {
    "tags": []
   },
   "outputs": [],
   "source": [
    "log = logging.getLogger(\"setup\")\n",
    "log.level = logging.DEBUG"
   ]
  },
  {
   "cell_type": "code",
   "execution_count": null,
   "id": "669bd018-a0b8-48b8-870f-08ed46600556",
   "metadata": {
    "tags": []
   },
   "outputs": [],
   "source": [
    "domain = salobj.Domain()"
   ]
  },
  {
   "cell_type": "code",
   "execution_count": null,
   "id": "8d908f00-44fa-4285-b9e7-fcc11806ad34",
   "metadata": {
    "tags": []
   },
   "outputs": [],
   "source": [
    "mtcs = MTCS(domain=domain, log=log)\n",
    "mtcs.set_rem_loglevel(40)"
   ]
  },
  {
   "cell_type": "code",
   "execution_count": null,
   "id": "9bd3bd48-1fb4-402c-b8b5-471e805e6c23",
   "metadata": {},
   "outputs": [],
   "source": [
    "await mtcs.start_task"
   ]
  },
  {
   "cell_type": "code",
   "execution_count": null,
   "id": "3ad6dcd7-e547-4536-b8c0-70b769b35dd6",
   "metadata": {},
   "outputs": [],
   "source": [
    "index = exec_info.get_index(test_case, test_execution)\n",
    "\n",
    "start_time = datetime.now()\n",
    "script = salobj.Controller(\"Script\", index=index)"
   ]
  },
  {
   "cell_type": "code",
   "execution_count": null,
   "id": "7d6f7f5d-d0fa-409d-bf0b-f4eefa3335db",
   "metadata": {},
   "outputs": [],
   "source": [
    "await mtcs.set_state(state=salobj.State.DISABLED, components=[\"mtm1m3\"], overrides={\"mtm1m3\": \"Default\"})"
   ]
  },
  {
   "cell_type": "code",
   "execution_count": null,
   "id": "6a13098a-7b91-4dd3-9c79-e930d42c8009",
   "metadata": {},
   "outputs": [],
   "source": [
    "await mtcs.set_state(state=salobj.State.ENABLED, components=[\"mtm1m3\"])"
   ]
  },
  {
   "cell_type": "code",
   "execution_count": null,
   "id": "56427680-b9dd-41ea-abfa-4dba50d6daca",
   "metadata": {},
   "outputs": [],
   "source": [
    "script.log.info(f\"{test_case} - {test_execution} - Start\")"
   ]
  },
  {
   "cell_type": "markdown",
   "id": "8c52a9a9-fca6-4cf0-91bc-49fe2a85aa3a",
   "metadata": {},
   "source": [
    "---\n",
    "## Telemetry Verification\n",
    "\n",
    "Verify the MTM1M3_forceActuatorData telemetry data is being published to the EFD with the following parameters:\n",
    "\n",
    "```\n",
    "primaryCylinderForce    secondaryCylinderForce    xForce    yForce    zForce\n",
    "fx                      fy                        fz        mx        my\n",
    "mz                      timestamp                 forceMagnitude\n",
    "```\n",
    "\n",
    "Check [Chronograph - M1M3 Status].\n",
    "\n",
    "[Chronograph - M1M3 Status]: https://chronograf-tucson-teststand-efd.lsst.codes/sources/1/dashboards/37?refresh=Paused&lower=now%28%29%20-%205m"
   ]
  },
  {
   "cell_type": "code",
   "execution_count": null,
   "id": "ef1c779f-e6ae-4210-afa6-fedfa1c00ebd",
   "metadata": {},
   "outputs": [],
   "source": [
    "if exec_info.loc == \"summit\":\n",
    "    client = EfdClient(\"summit_efd\")\n",
    "elif location == \"tucson\":\n",
    "    client = EfdClient(\"tucson_teststand_efd\")\n",
    "else:\n",
    "    raise ValueError(\n",
    "        \"Location does not match any valid options {summit|tucson}\"\n",
    "    )"
   ]
  },
  {
   "cell_type": "code",
   "execution_count": null,
   "id": "16af3e4a-9488-4def-8033-419c5a234f49",
   "metadata": {},
   "outputs": [],
   "source": [
    "start = time.Time(\"2022-06-14T20:20\", scale=\"utc\", format=\"isot\")\n",
    "end = time.Time(\"2022-06-14T20:30\", scale=\"utc\", format=\"isot\")"
   ]
  },
  {
   "cell_type": "code",
   "execution_count": null,
   "id": "947c2859-39b4-4bf2-8998-de18ff33561a",
   "metadata": {},
   "outputs": [],
   "source": [
    "df = await client.select_time_series(\n",
    "    \"lsst.sal.MTM1M3.forceActuatorData\", \n",
    "    fields=\"*\", \n",
    "    start=start.utc, \n",
    "    end=end.utc,\n",
    ")"
   ]
  },
  {
   "cell_type": "code",
   "execution_count": null,
   "id": "9062229f-d890-4e43-8c7c-aa689bac0728",
   "metadata": {},
   "outputs": [],
   "source": [
    "df"
   ]
  },
  {
   "cell_type": "code",
   "execution_count": null,
   "id": "c9e36428-d407-4001-abae-a92af629e343",
   "metadata": {},
   "outputs": [],
   "source": [
    "df.iloc[0]"
   ]
  },
  {
   "cell_type": "markdown",
   "id": "49944cc7-309a-48d5-af99-98e56482c73d",
   "metadata": {},
   "source": [
    "---\n",
    "Verify the `MTM1M3_forceActuatorPressure` telemetry data is being published to the EFD with the following parameters:\n",
    "- timestamps\n",
    "- primaryCylinderPullPressures\n",
    "- primaryCylinderPushPressures\n",
    "- secondaryCylinderPullPressures\n",
    "- secondaryCylinderPushPressures"
   ]
  },
  {
   "cell_type": "code",
   "execution_count": null,
   "id": "81eadb8b-b27d-402c-b06d-134beccf43f3",
   "metadata": {},
   "outputs": [],
   "source": [
    "fap_df = await client.select_time_series(\n",
    "    \"lsst.sal.MTM1M3.forceActuatorPressure\", \n",
    "    fields=\"*\", \n",
    "    start=start.utc, \n",
    "    end=end.utc,\n",
    ")"
   ]
  },
  {
   "cell_type": "code",
   "execution_count": null,
   "id": "0b7fe66f-b657-43b8-b487-6c5c67609a5e",
   "metadata": {},
   "outputs": [],
   "source": [
    "fap_df"
   ]
  },
  {
   "cell_type": "markdown",
   "id": "bc33a8a4-c2a3-4bda-8da9-24988f29ab50",
   "metadata": {},
   "source": [
    "---\n",
    "Verify the `MTM1M3_inclinometerDatatelemetry` data is being published to the EFD with the following parameters:\n",
    "- timestamp\n",
    "- inclinometerAngle"
   ]
  },
  {
   "cell_type": "code",
   "execution_count": null,
   "id": "12e7f662-d10c-4c11-a64e-925cf15eebcb",
   "metadata": {},
   "outputs": [],
   "source": [
    "df_id = await client.select_time_series(\n",
    "    \"lsst.sal.MTM1M3.outerLoopData\", \n",
    "    fields=\"*\", \n",
    "    start=start.utc, \n",
    "    end=end.utc,\n",
    ")"
   ]
  },
  {
   "cell_type": "code",
   "execution_count": null,
   "id": "4b386744-c704-4b2c-80b2-4bfad8fad108",
   "metadata": {},
   "outputs": [],
   "source": [
    "df_id"
   ]
  },
  {
   "cell_type": "markdown",
   "id": "23b1eb56-12b4-4018-be5b-75eb4ad25c3f",
   "metadata": {},
   "source": [
    "---\n",
    "Verify the MTM1M3_pidData telemetry data is being published to the EFD with the following parameters:\n",
    "\n",
    "    measuredPID\n",
    "    timestamp\n",
    "    setpoint\n",
    "    error\n",
    "    errorT1\n",
    "    errorT2\n",
    "    control\n",
    "    controlT1\n",
    "    controlT2"
   ]
  },
  {
   "cell_type": "code",
   "execution_count": null,
   "id": "9a2fecb3-596c-4d7a-ac51-1c4587e32288",
   "metadata": {},
   "outputs": [],
   "source": [
    "df_pidData = await client.select_time_series(\n",
    "    \"lsst.sal.MTM1M3.pidData\", \n",
    "    fields=\"*\", \n",
    "    start=start.utc, \n",
    "    end=end.utc,\n",
    ")"
   ]
  },
  {
   "cell_type": "code",
   "execution_count": null,
   "id": "1c3ed6df-d7d3-47ac-8bfb-ec4b954f5ad5",
   "metadata": {},
   "outputs": [],
   "source": [
    "df_pidData"
   ]
  },
  {
   "cell_type": "code",
   "execution_count": null,
   "id": "8fc6cfaa-e013-4fba-b065-6548ef1703cd",
   "metadata": {},
   "outputs": [],
   "source": [
    "script.log.info(\"LVV-T12232 - LVV-E1285 - END\")"
   ]
  },
  {
   "cell_type": "markdown",
   "id": "4cea52a8-e1a9-4bae-af9f-8c14c0386ee0",
   "metadata": {},
   "source": [
    "---\n",
    "## Events Verification\n",
    "Verification that some events are initially published to the EFD:\n",
    " "
   ]
  },
  {
   "cell_type": "code",
   "execution_count": null,
   "id": "ae3f08ae-0210-4714-9a69-134005188765",
   "metadata": {},
   "outputs": [],
   "source": [
    "start = time.Time(\"2022-06-14T20:20\", scale=\"utc\", format=\"isot\")\n",
    "end = time.Time(\"2022-06-14T20:30\", scale=\"utc\", format=\"isot\")"
   ]
  },
  {
   "cell_type": "code",
   "execution_count": null,
   "id": "777d67e4-9901-4a8f-9afd-5b8dbc68f522",
   "metadata": {},
   "outputs": [],
   "source": [
    "events = ['lsst.sal.MTM1M3.logevent_hardpointActuatorInfo',\n",
    "          'lsst.sal.MTM1M3.logevent_hardpointMonitorInfo', \n",
    "          'lsst.sal.MTM1M3.logevent_forceActuatorInfo', \n",
    "          'lsst.sal.MTM1M3.logevent_forceActuatorState', \n",
    "          'lsst.sal.MTM1M3.logevent_hardpointActuatorSettings', \n",
    "          'lsst.sal.MTM1M3.logevent_displacementSensorSettings', \n",
    "          'lsst.sal.MTM1M3.logevent_pidSettings', \n",
    "          'lsst.sal.MTM1M3.logevent_gyroSettings', \n",
    "          'lsst.sal.MTM1M3.logevent_inclinometerSettings', \n",
    "          'lsst.sal.MTM1M3.logevent_positionControllerSettings', \n",
    "          'lsst.sal.MTM1M3.logevent_forceActuatorSettings', \n",
    "          'lsst.sal.MTM1M3.logevent_accelerometerSettings', \n",
    "          'lsst.sal.MTM1M3.logevent_interlockStatus', \n",
    "          'lsst.sal.MTM1M3.logevent_powerSupplyStatus' ]"
   ]
  },
  {
   "cell_type": "code",
   "execution_count": null,
   "id": "174b754e-4a8b-4791-a0e5-d231d8f3b9f9",
   "metadata": {
    "tags": []
   },
   "outputs": [],
   "source": [
    "for logevent in events:\n",
    "    #print(f'{logevent} between {start} and  {end}') \n",
    "    df = await client.select_time_series(\n",
    "        logevent, \n",
    "        fields=\"*\", \n",
    "        start=start.utc, \n",
    "        end=end.utc,\n",
    "    )\n",
    "    print(logevent.center(120, '*'))\n",
    "    print(f'\\n{df}\\n')\n",
    "    \n",
    "    df.to_csv(f'./logevent/m1m3/lVV-T2232_{logevent}.csv')"
   ]
  },
  {
   "cell_type": "markdown",
   "id": "b8c88e99-26ec-4107-9197-966abbefc1f2",
   "metadata": {},
   "source": [
    "---\n",
    "### Warning Events\n",
    "Note: The following steps are meant to verify the warning events are being published to the EFD via SAL, not as a result of an actual warning. \n",
    "\n",
    "Check that logevent warnings are being publisht to the EFD. "
   ]
  },
  {
   "cell_type": "code",
   "execution_count": null,
   "id": "da86e852-19aa-4e0b-9ec9-196e577e1a90",
   "metadata": {},
   "outputs": [],
   "source": [
    "warning_events = ['lsst.sal.MTM1M3.logevent_airSupplyWarning',\n",
    "            'lsst.sal.MTM1M3.logevent_ilcWarning',\n",
    "            'lsst.sal.MTM1M3.logevent_forceActuatorWarning',\n",
    "            'lsst.sal.MTM1M3.logevent_interlockWarning',\n",
    "            'lsst.sal.MTM1M3.logevent_displacementSensorWarning',\n",
    "            'lsst.sal.MTM1M3.logevent_inclinometerSensorWarning',\n",
    "            'lsst.sal.MTM1M3.logevent_accelerometerWarning',\n",
    "            'lsst.sal.MTM1M3.logevent_forceSetpointWarning',\n",
    "            'lsst.sal.MTM1M3.logevent_gyroWarning',\n",
    "            'lsst.sal.MTM1M3.logevent_forceActuatorForceWarning']\n",
    "            "
   ]
  },
  {
   "cell_type": "code",
   "execution_count": null,
   "id": "0b04125f-2337-4cf5-a935-73be5a8a62a1",
   "metadata": {},
   "outputs": [],
   "source": [
    "for warning in warning_events:\n",
    "    #print(f'{warning} between {start} and  {end}') \n",
    "    df = await client.select_time_series(\n",
    "        warning, \n",
    "        fields=\"*\", \n",
    "        start=start, \n",
    "        end=end,\n",
    "    )\n",
    "    print(warning.center(120, '*'))\n",
    "    print(f'\\n{df}\\n')\n",
    "    \n",
    "    df.to_csv(f'./logevent/m1m3/lVV-T2232_{warning}.csv')"
   ]
  },
  {
   "cell_type": "markdown",
   "id": "b06a0918-6c7b-46b5-8eee-c1cc5016cabd",
   "metadata": {
    "execution": {
     "iopub.execute_input": "2023-03-09T19:09:58.114478Z",
     "iopub.status.busy": "2023-03-09T19:09:58.113846Z",
     "iopub.status.idle": "2023-03-09T19:09:58.174259Z",
     "shell.execute_reply": "2023-03-09T19:09:58.173704Z",
     "shell.execute_reply.started": "2023-03-09T19:09:58.114443Z"
    },
    "tags": []
   },
   "source": [
    "---\n",
    "### Preclipped Events Verification\n",
    "Note: The following steps are meant to verify the preclipped related events are being published to the EFD via SAL at startup."
   ]
  },
  {
   "cell_type": "code",
   "execution_count": null,
   "id": "50413f50-1be3-4aa1-b913-8ea44e1be6a0",
   "metadata": {},
   "outputs": [],
   "source": [
    "preclipped_events = ['lsst.sal.MTM1M3.logevent_preclippedStaticForces',\n",
    "            'lsst.sal.MTM1M3.logevent_preclippedElevationForces',\n",
    "            'lsst.sal.MTM1M3.logevent_preclippedAzimuthForces',\n",
    "            'lsst.sal.MTM1M3.logevent_preclippedThermalForces',\n",
    "            'lsst.sal.MTM1M3.logevent_preclippedActiveOpticForces',\n",
    "            'lsst.sal.MTM1M3.logevent_preclippedBalanceForces',\n",
    "            'lsst.sal.MTM1M3.logevent_preclippedVelocityForces',\n",
    "            'lsst.sal.MTM1M3.logevent_preclippedAccelerationForces',\n",
    "            'lsst.sal.MTM1M3.logevent_preclippedOffsetForces',\n",
    "            'lsst.sal.MTM1M3.logevent_preclippedForces',\n",
    "            'lsst.sal.MTM1M3.logevent_preclippedCylinderForces']\n",
    "            "
   ]
  },
  {
   "cell_type": "code",
   "execution_count": null,
   "id": "f1b77ffa-b082-4460-8ced-6028f162450c",
   "metadata": {},
   "outputs": [],
   "source": [
    "for events in preclipped_events:\n",
    "    #print(f'{warning} between {start} and  {end}') \n",
    "    df = await client.select_time_series(\n",
    "        events, \n",
    "        fields=\"*\", \n",
    "        start=start, \n",
    "        end=end,\n",
    "    )\n",
    "    print(events.center(120, '*'))\n",
    "    print(f'\\n{df}\\n')\n",
    "    \n",
    "    df.to_csv(f'./logevent/m1m3/lVV-T2232_{warning}.csv')"
   ]
  },
  {
   "cell_type": "markdown",
   "id": "53620a94-22a6-4467-a833-04b275fd9ab8",
   "metadata": {
    "tags": []
   },
   "source": [
    "---\n",
    "## 61 - Engineering Mode Test\n",
    "\n",
    "While the M1M3 is enabled and in the PARKED state, send an `MTM1M3_command_enterEngineering` command. \n",
    "\n",
    "`PARKED` means that it is not raised."
   ]
  },
  {
   "cell_type": "code",
   "execution_count": null,
   "id": "b3af8e30-1361-4590-9b31-0d8e805bbc0b",
   "metadata": {},
   "outputs": [],
   "source": [
    "await mtcs.rem.mtm1m3.cmd_enterEngineering.set_start()"
   ]
  },
  {
   "cell_type": "code",
   "execution_count": null,
   "id": "174bc97e-fe94-43e2-b0e6-7f06582c6e3f",
   "metadata": {},
   "outputs": [],
   "source": [
    "from lsst.ts.idl.enums.MTM1M3 import DetailedState\n",
    "\n",
    "m1m3_dstate = mtcs.rem.mtm1m3.evt_detailedState.get()\n",
    "\n",
    "print(DetailedState.PARKEDENGINEERING == m1m3_dstate.detailedState)"
   ]
  },
  {
   "cell_type": "markdown",
   "id": "643f97b0-614e-4861-a24a-6615b4e253e9",
   "metadata": {},
   "source": [
    "---\n",
    "With the system in the ParkedEngineering state and the M1M3 cell lights off, send an MTM1M3_command_turnLightsOn command."
   ]
  },
  {
   "cell_type": "code",
   "execution_count": null,
   "id": "537a4c0e-d80c-4e73-b5d8-758d1b7e07ec",
   "metadata": {},
   "outputs": [],
   "source": [
    "await mtcs.rem.mtm1m3.cmd_turnLightsOn.set_start()"
   ]
  },
  {
   "cell_type": "code",
   "execution_count": null,
   "id": "034cdfc3-dfa0-4d00-968e-98ef99e46ab1",
   "metadata": {},
   "outputs": [],
   "source": [
    "print( mtcs.rem.mtm1m3.evt_cellLightStatus.get() )"
   ]
  },
  {
   "cell_type": "code",
   "execution_count": null,
   "id": "7039b2a8-8f2d-4b41-a243-c2a1fa8b7f15",
   "metadata": {},
   "outputs": [],
   "source": [
    "print( mtcs.rem.mtm1m3.evt_cellLightWarning.get() )"
   ]
  },
  {
   "cell_type": "markdown",
   "id": "b9f013cc-01c1-4b0c-a47b-274392d6a78a",
   "metadata": {},
   "source": [
    "---\n",
    "With the system in the ParkedEngineering state and the M1M3 cell lights off, send an MTM1M3_command_turnLightsOff command."
   ]
  },
  {
   "cell_type": "code",
   "execution_count": null,
   "id": "6a10b1c8-89c9-405a-8d97-a2c035106d31",
   "metadata": {},
   "outputs": [],
   "source": [
    "await mtcs.rem.mtm1m3.cmd_turnLightsOff.set_start()"
   ]
  },
  {
   "cell_type": "code",
   "execution_count": null,
   "id": "3d0be2cc-a1a2-483b-b5ce-0ccbface62f3",
   "metadata": {},
   "outputs": [],
   "source": [
    "print( mtcs.rem.mtm1m3.evt_cellLightStatus.get() )"
   ]
  },
  {
   "cell_type": "code",
   "execution_count": null,
   "id": "4c7103b0-d3de-46ad-95da-74275e1a8b4a",
   "metadata": {},
   "outputs": [],
   "source": [
    "print( mtcs.rem.mtm1m3.evt_cellLightWarning.get() )"
   ]
  },
  {
   "cell_type": "markdown",
   "id": "dd677325-9163-4d8c-b431-38d3e31d026d",
   "metadata": {},
   "source": [
    "---\n",
    "With the system in the ParkedEngineering state and the telescope is not moving, send an MTM1M3_command_setAirSlewFlag command to open the booster valves."
   ]
  },
  {
   "cell_type": "code",
   "execution_count": null,
   "id": "569ae6ea-ebc7-4ba0-98db-4afbbfa54da6",
   "metadata": {},
   "outputs": [],
   "source": [
    "print( mtcs.rem.mtm1m3.evt_forceActuatorState.get() )"
   ]
  },
  {
   "cell_type": "code",
   "execution_count": null,
   "id": "fe0507ed-8d15-42c6-a465-ece8ed6dd490",
   "metadata": {},
   "outputs": [],
   "source": [
    "await mtcs.rem.mtm1m3.cmd_setAirSlewFlag.set_start()"
   ]
  },
  {
   "cell_type": "code",
   "execution_count": null,
   "id": "600772f2-b634-4f63-8dc7-30fc5a154462",
   "metadata": {},
   "outputs": [],
   "source": [
    "print( mtcs.rem.mtm1m3.evt_forceActuatorState.get() )"
   ]
  },
  {
   "cell_type": "markdown",
   "id": "acdfc4b2-bae1-47af-b51d-db105e7d7189",
   "metadata": {
    "tags": []
   },
   "source": [
    "---\n",
    "In the ParkedEngineering state, send an MTM1M3_command_testHardpoint command."
   ]
  },
  {
   "cell_type": "code",
   "execution_count": null,
   "id": "3e592926-8767-4b05-af8f-b3713327b779",
   "metadata": {},
   "outputs": [],
   "source": [
    "await mtcs.rem.mtm1m3.cmd_killHardpointTest.set_start(hardpointActuator=1)"
   ]
  },
  {
   "cell_type": "code",
   "execution_count": null,
   "id": "ccc98fbb-eb0d-4cad-aa51-7ad0d460d42f",
   "metadata": {},
   "outputs": [],
   "source": [
    "print( mtcs.rem.mtm1m3.evt_hardpointTestStatus.get() )"
   ]
  },
  {
   "cell_type": "code",
   "execution_count": null,
   "id": "9f0cb5d2-65e4-404c-8e69-a16937bb9a83",
   "metadata": {},
   "outputs": [],
   "source": [
    "await mtcs.rem.mtm1m3.cmd_testHardpoint.set_start(hardpointActuator=1)"
   ]
  },
  {
   "cell_type": "markdown",
   "id": "fa8c2275-b014-41c0-83d1-647bd318b4f4",
   "metadata": {},
   "source": [
    "Verify the appropriate events are published"
   ]
  },
  {
   "cell_type": "code",
   "execution_count": null,
   "id": "537a506f-bc1f-47af-beeb-9194780918d6",
   "metadata": {},
   "outputs": [],
   "source": [
    "print( mtcs.rem.mtm1m3.evt_hardpointActuatorWarning.get() )"
   ]
  },
  {
   "cell_type": "code",
   "execution_count": null,
   "id": "83a2cfcb-d6e1-4157-86e3-25c584c5bc3e",
   "metadata": {},
   "outputs": [],
   "source": [
    "print( mtcs.rem.mtm1m3.evt_hardpointMonitorWarning.get() )"
   ]
  },
  {
   "cell_type": "code",
   "execution_count": null,
   "id": "6ddadf2c-2172-4436-9a49-bb96057e723d",
   "metadata": {},
   "outputs": [],
   "source": [
    "print( mtcs.rem.mtm1m3.evt_hardpointTestStatus.get() )"
   ]
  },
  {
   "cell_type": "code",
   "execution_count": null,
   "id": "cdab8669-605e-4e13-ba00-4e97d832d3a3",
   "metadata": {},
   "outputs": [],
   "source": [
    "print( mtcs.rem.mtm1m3.evt_hardpointActuatorState.get() )"
   ]
  },
  {
   "cell_type": "code",
   "execution_count": null,
   "id": "4260fc61-696a-4a35-b5ab-5e1d7aacedf4",
   "metadata": {},
   "outputs": [],
   "source": [
    "print( mtcs.rem.mtm1m3.evt_hardpointMonitorState.get() )"
   ]
  },
  {
   "cell_type": "markdown",
   "id": "e9f51650-fa30-4963-b9ac-0a23b7eea07a",
   "metadata": {},
   "source": [
    "---\n",
    "killHardpointTest command\n"
   ]
  },
  {
   "cell_type": "code",
   "execution_count": null,
   "id": "c8b4b293-4408-4145-adfa-989136cf1aad",
   "metadata": {},
   "outputs": [],
   "source": [
    "await mtcs.rem.mtm1m3.cmd_testHardpoint.set_start(hardpointActuator=1)\n",
    "await asyncio.sleep(5)\n",
    "await mtcs.rem.mtm1m3.cmd_killHardpointTest.set_start(hardpointActuator=1)"
   ]
  },
  {
   "cell_type": "code",
   "execution_count": null,
   "id": "b9975dd1-3f6a-41b7-b664-2ad5ced9075f",
   "metadata": {},
   "outputs": [],
   "source": [
    "print( mtcs.rem.mtm1m3.evt_hardpointActuatorWarning.get() )"
   ]
  },
  {
   "cell_type": "code",
   "execution_count": null,
   "id": "52e64f13-930c-4bf1-8e01-f701bbd6ba01",
   "metadata": {},
   "outputs": [],
   "source": [
    "print( mtcs.rem.mtm1m3.evt_hardpointMonitorWarning.get() )"
   ]
  },
  {
   "cell_type": "code",
   "execution_count": null,
   "id": "40370f30-1c73-440c-a2d6-b834695fcba1",
   "metadata": {},
   "outputs": [],
   "source": [
    "print( mtcs.rem.mtm1m3.evt_hardpointTestStatus.get() )"
   ]
  },
  {
   "cell_type": "code",
   "execution_count": null,
   "id": "b13b604f-4384-495b-83e1-730812220114",
   "metadata": {},
   "outputs": [],
   "source": [
    "print( mtcs.rem.mtm1m3.evt_hardpointActuatorState.get() )"
   ]
  },
  {
   "cell_type": "code",
   "execution_count": null,
   "id": "88346e95-977a-48a0-98d3-dda8b2c5a8a6",
   "metadata": {},
   "outputs": [],
   "source": [
    "print( mtcs.rem.mtm1m3.evt_hardpointMonitorState.get() )"
   ]
  },
  {
   "cell_type": "markdown",
   "id": "ed1d7b33-857a-4ad6-beca-da9e971dcc2f",
   "metadata": {},
   "source": [
    "---\n",
    "In the enabled state, send an MTM1M3_command_moveHardpointActuators command."
   ]
  },
  {
   "cell_type": "code",
   "execution_count": null,
   "id": "6ef729d1-4eb8-46ed-89f4-06f000475bcf",
   "metadata": {},
   "outputs": [],
   "source": [
    "await mtcs.rem.mtm1m3.cmd_moveHardpointActuators.set_start(steps=[1000]*6)"
   ]
  },
  {
   "cell_type": "markdown",
   "id": "25224bb2-5691-4398-8cc8-3bec75781955",
   "metadata": {},
   "source": [
    "---\n",
    "While the M1M3 is still in motion, send an MTM1M3_command_stopHardpointMotion command."
   ]
  },
  {
   "cell_type": "code",
   "execution_count": null,
   "id": "fb376fad-1114-47d5-b193-8d3583d15585",
   "metadata": {},
   "outputs": [],
   "source": [
    "# The range of the actuators is up to 64k \n",
    "await mtcs.rem.mtm1m3.cmd_moveHardpointActuators.set_start(steps=[10000]*6)\n",
    "await asyncio.sleep(3)\n",
    "await mtcs.rem.mtm1m3.cmd_stopHardpointMotion.set_start()"
   ]
  },
  {
   "cell_type": "code",
   "execution_count": null,
   "id": "34da198b-ac9a-4e7d-afc2-e02ee983ce64",
   "metadata": {},
   "outputs": [],
   "source": [
    "# Turned the air on again since I turned it off before by accident\n",
    "await mtcs.rem.mtm1m3.cmd_turnAirOn.set_start()"
   ]
  },
  {
   "cell_type": "markdown",
   "id": "e4034a16-e382-4b81-98c1-c8f5892a1eff",
   "metadata": {},
   "source": [
    "---\n",
    "In the enabled state, send an MTM1M3_command_moveHardpointActuators command."
   ]
  },
  {
   "cell_type": "code",
   "execution_count": null,
   "id": "7c213ccd-30f9-4198-a29b-09eeee2c13f2",
   "metadata": {},
   "outputs": [],
   "source": [
    "await mtcs.rem.mtm1m3.cmd_moveHardpointActuators.set_start(steps=[-10000]*6)"
   ]
  },
  {
   "cell_type": "markdown",
   "id": "63c88749-a786-4fab-a8c6-bc79aa596aa5",
   "metadata": {},
   "source": [
    "---\n",
    "## Enabled Force Actuator Test\n",
    "Verify the MTM1M3_logevent_enabledForceActuators event is published"
   ]
  },
  {
   "cell_type": "code",
   "execution_count": null,
   "id": "d5b5f35f-f4de-4f9d-9112-1965bdd15fc3",
   "metadata": {},
   "outputs": [],
   "source": [
    "await mtcs.rem.mtm1m3.cmd_disableForceActuator.set_start(actuatorId=225)"
   ]
  },
  {
   "cell_type": "code",
   "execution_count": null,
   "id": "a51c0a77-22af-4459-9ea9-0f0016c872ad",
   "metadata": {},
   "outputs": [],
   "source": [
    "print( mtcs.rem.mtm1m3.evt_enabledForceActuators.get().forceActuatorEnabled[60] )"
   ]
  },
  {
   "cell_type": "code",
   "execution_count": null,
   "id": "40a21e01-6124-4923-931c-c844b3dc6965",
   "metadata": {},
   "outputs": [],
   "source": [
    "await mtcs.rem.mtm1m3.cmd_enableForceActuator.set_start(actuatorId=225)"
   ]
  },
  {
   "cell_type": "code",
   "execution_count": null,
   "id": "73f87ea5-28f9-4c6c-885d-88d60150e473",
   "metadata": {},
   "outputs": [],
   "source": [
    "print( mtcs.rem.mtm1m3.evt_enabledForceActuators.get().forceActuatorEnabled[60] )"
   ]
  },
  {
   "cell_type": "markdown",
   "id": "bda98499-8334-4388-bf39-65dfb1385dd8",
   "metadata": {},
   "source": [
    "In the enabled state of the Engineering mode, disable at least two force actuators by sending an MTM1M3_command_disableForceActuator command one at a time.\n",
    "\n",
    "Note: Any Force actuators can be disabled as long as they're not near neighbors or next to near neighbors. The actuators will also need to be disabled one at a time. For example, use force actuators 208 (index 44) and 417 (index 130)."
   ]
  },
  {
   "cell_type": "code",
   "execution_count": null,
   "id": "61970730-a808-40d4-b27c-42086be2b458",
   "metadata": {},
   "outputs": [],
   "source": [
    "await mtcs.rem.mtm1m3.cmd_enableAllForceActuators.set_start()"
   ]
  },
  {
   "cell_type": "code",
   "execution_count": null,
   "id": "dfea4e57-5b7f-400a-9cd3-32799cf174fe",
   "metadata": {},
   "outputs": [],
   "source": [
    "await mtcs.rem.mtm1m3.cmd_disableForceActuator.set_start(actuatorId=208)\n",
    "print( mtcs.rem.mtm1m3.evt_enabledForceActuators.get().forceActuatorEnabled[44] )"
   ]
  },
  {
   "cell_type": "code",
   "execution_count": null,
   "id": "bb230a26-6363-4ebf-bd32-042d80429f57",
   "metadata": {},
   "outputs": [],
   "source": [
    "print( mtcs.rem.mtm1m3.evt_enabledForceActuators.get().forceActuatorEnabled[44] )"
   ]
  },
  {
   "cell_type": "code",
   "execution_count": null,
   "id": "a6882864-b3e2-4733-b8fe-fa8f0b2e8e12",
   "metadata": {},
   "outputs": [],
   "source": [
    "await mtcs.rem.mtm1m3.cmd_disableForceActuator.set_start(actuatorId=417)\n",
    "await asyncio.sleep(0.1)  # This is only to deal with the async behavior\n",
    "print( mtcs.rem.mtm1m3.evt_enabledForceActuators.get().forceActuatorEnabled[130] )"
   ]
  },
  {
   "cell_type": "markdown",
   "id": "d729f854-ff93-4d39-89d7-40e7152392fe",
   "metadata": {},
   "source": [
    "---\n",
    "In the enabled state of the Engineering mode, send an MTM1M3_command_enableAllForceActuators command.\n"
   ]
  },
  {
   "cell_type": "code",
   "execution_count": null,
   "id": "f4c98867-2bbc-4bb9-beb0-b469f7652653",
   "metadata": {},
   "outputs": [],
   "source": [
    "await mtcs.rem.mtm1m3.cmd_enableAllForceActuators.set_start()\n",
    "await asyncio.sleep(0.1)  # This is only to deal with the async behavior\n",
    "print(\"Actuator 208 enabled? \", mtcs.rem.mtm1m3.evt_enabledForceActuators.get().forceActuatorEnabled[44] )\n",
    "print(\"Actuator 417 enabled? \", mtcs.rem.mtm1m3.evt_enabledForceActuators.get().forceActuatorEnabled[130] )\n",
    "print(\"All actuators enabled?\", all(mtcs.rem.mtm1m3.evt_enabledForceActuators.get().forceActuatorEnabled) )"
   ]
  },
  {
   "cell_type": "markdown",
   "id": "5f33f9cd-cf06-4032-92dd-9d4af786f86d",
   "metadata": {},
   "source": [
    "---\n",
    "## Raise M1M3\n",
    "With the M1M3 in the enabled state, send an MTM1M3_command_raiseM1M3 command. However, before the mirror is fully raised, send an MTM1M3_command_abortRaiseM1M3command"
   ]
  },
  {
   "cell_type": "code",
   "execution_count": null,
   "id": "4790ca48-9cf6-4f42-b8ac-b4fb118d35de",
   "metadata": {},
   "outputs": [],
   "source": [
    "await mtcs.rem.mtm1m3.cmd_raiseM1M3.set_start()\n",
    "await asyncio.sleep(10)\n",
    "await mtcs.rem.mtm1m3.cmd_abortRaiseM1M3.set_start()"
   ]
  },
  {
   "cell_type": "markdown",
   "id": "f19b3093-58e7-4b9e-8c49-80092844ef4a",
   "metadata": {},
   "source": [
    "---\n",
    "Send an MTM1M3_command_raiseM1M3 command and allow the M1M3 to be fully raised."
   ]
  },
  {
   "cell_type": "code",
   "execution_count": null,
   "id": "4383261c-8318-4dc0-b7c3-bd40f8153daa",
   "metadata": {},
   "outputs": [],
   "source": [
    "await mtcs.rem.mtm1m3.cmd_raiseM1M3.set_start()"
   ]
  },
  {
   "cell_type": "markdown",
   "id": "65a064f7-143e-4912-926f-ab407d2871a3",
   "metadata": {},
   "source": [
    "---\n",
    "With the M1M3 fully raised and the system in the ActiveEngineering state, send an MTM1M3_command_lowerM1M3 command."
   ]
  },
  {
   "cell_type": "code",
   "execution_count": null,
   "id": "ba1cf4ac-05bb-4cf8-b674-beab581d5c67",
   "metadata": {},
   "outputs": [],
   "source": [
    "await mtcs.rem.mtm1m3.cmd_lowerM1M3.set_start()"
   ]
  },
  {
   "cell_type": "markdown",
   "id": "e10b3f91-3b03-4475-8e04-96e7b23df7c7",
   "metadata": {},
   "source": [
    "---\n",
    "With the M1M3 lowered and the system still in the ParkedEngineering state, send an MTM1M3_command_raiseM1M3 command. While the mirror begins to raise, send an MTM1M3_command_disableHardpointChase command."
   ]
  },
  {
   "cell_type": "code",
   "execution_count": null,
   "id": "c79ad621-fa9b-4d43-9238-f5770a4ac591",
   "metadata": {},
   "outputs": [],
   "source": [
    "await mtcs.rem.mtm1m3.cmd_raiseM1M3.set_start()\n",
    "await asyncio.sleep(10)\n",
    "await mtcs.rem.mtm1m3.cmd_disableHardpointChase.set_start()"
   ]
  },
  {
   "cell_type": "markdown",
   "id": "f8f296a6-c626-4c5a-b04c-012409f2fbe1",
   "metadata": {},
   "source": [
    "We expect the system to go into FAULT"
   ]
  },
  {
   "cell_type": "code",
   "execution_count": null,
   "id": "5a1fe854-67b4-4370-bee0-11afe2e4ebb6",
   "metadata": {},
   "outputs": [],
   "source": [
    "print( mtcs.rem.mtm1m3.evt_detailedState.get() )"
   ]
  },
  {
   "cell_type": "markdown",
   "id": "cf4b0fcd-9819-4e3a-9d23-863816d7b5bf",
   "metadata": {},
   "source": [
    "To recover the system, use the following steps:"
   ]
  },
  {
   "cell_type": "code",
   "execution_count": null,
   "id": "973fd8b4-cf28-44d1-a987-6c6a2dbb027d",
   "metadata": {},
   "outputs": [],
   "source": [
    "await mtcs.set_state(state=salobj.State.STANDBY, components=[\"mtm1m3\"])"
   ]
  },
  {
   "cell_type": "code",
   "execution_count": null,
   "id": "bcdd0aff-375d-4569-a0d9-d404ef89cca2",
   "metadata": {},
   "outputs": [],
   "source": [
    "await mtcs.set_state(state=salobj.State.DISABLED, components=[\"mtm1m3\"])"
   ]
  },
  {
   "cell_type": "code",
   "execution_count": null,
   "id": "2b238df7-42dc-4863-92c9-bbfe414f82e1",
   "metadata": {},
   "outputs": [],
   "source": [
    "await mtcs.set_state(state=salobj.State.ENABLED, components=[\"mtm1m3\"])"
   ]
  },
  {
   "cell_type": "markdown",
   "id": "23defe75-d9cf-4650-80b4-c3ffed5b01ea",
   "metadata": {},
   "source": [
    "---"
   ]
  },
  {
   "cell_type": "markdown",
   "id": "5e0cfc99-ecb9-47ba-a277-687cecf0b54b",
   "metadata": {},
   "source": [
    "Repeat the same sequence of steps as above but we do not expect a fault as the MTM1M3_command_enableHardpointChase command is sent before the M1M3 is fully raised"
   ]
  },
  {
   "cell_type": "code",
   "execution_count": null,
   "id": "ac459afb-d095-4511-ac74-f7bcf74afc68",
   "metadata": {},
   "outputs": [],
   "source": [
    "await mtcs.rem.mtm1m3.cmd_raiseM1M3.set_start()\n",
    "await asyncio.sleep(10)\n",
    "await mtcs.rem.mtm1m3.cmd_disableHardpointChase.set_start()\n",
    "await asyncio.sleep(10)\n",
    "await mtcs.rem.mtm1m3.cmd_enableHardpointChase.set_start()"
   ]
  },
  {
   "cell_type": "markdown",
   "id": "af3c8ad1-c336-4d8d-a6c7-4a72bea357fc",
   "metadata": {},
   "source": [
    "---\n",
    "In the ACTIVEENGINEERING state, send an MTM1M3_command_updatePID command with the following parameters:\n",
    "- pid: 2 (any number 1-6)\n",
    "- timestep: 0.03s (default is 0.02)\n",
    "- p: 0.02\n",
    "- i: 3.0\n",
    "- d: 0\n",
    "- n: 0"
   ]
  },
  {
   "cell_type": "code",
   "execution_count": null,
   "id": "ef1849f2-dce8-4b93-8e7d-98d4ba85e85d",
   "metadata": {},
   "outputs": [],
   "source": [
    "await mtcs.rem.mtm1m3.cmd_updatePID.set_start(\n",
    "    pid=2, timestep=0.03, p=0.02, i=3.0, d=0, n=0)"
   ]
  },
  {
   "cell_type": "code",
   "execution_count": null,
   "id": "c2b3e746-5771-46ff-876f-5a29643b6890",
   "metadata": {},
   "outputs": [],
   "source": [
    "print( mtcs.rem.mtm1m3.evt_forceActuatorState.get().balanceForcesApplied )"
   ]
  },
  {
   "cell_type": "code",
   "execution_count": null,
   "id": "87fa5fc9-5002-4237-b868-f460d6273ace",
   "metadata": {},
   "outputs": [],
   "source": [
    "print( mtcs.rem.mtm1m3.evt_pidInfo.get() )"
   ]
  },
  {
   "cell_type": "markdown",
   "id": "96db3241-bec5-4904-a6af-9942e766cf09",
   "metadata": {},
   "source": [
    "---\n",
    "In the ACTIVEENGINEERING state, send an MTM1M3_command_resetPID command for 2"
   ]
  },
  {
   "cell_type": "code",
   "execution_count": null,
   "id": "947607ae-f866-4e34-9c7b-8303db294f22",
   "metadata": {},
   "outputs": [],
   "source": [
    "await mtcs.rem.mtm1m3.cmd_resetPID.set_start(pid=2)"
   ]
  },
  {
   "cell_type": "code",
   "execution_count": null,
   "id": "088030a2-8651-4129-b386-699570f9298a",
   "metadata": {},
   "outputs": [],
   "source": [
    "print( mtcs.rem.mtm1m3.evt_forceActuatorState.get().balanceForcesApplied )"
   ]
  },
  {
   "cell_type": "code",
   "execution_count": null,
   "id": "38874529-9f25-4ea5-a7b6-cb0648373e0d",
   "metadata": {},
   "outputs": [],
   "source": [
    "print( mtcs.rem.mtm1m3.evt_pidInfo.get() )"
   ]
  },
  {
   "cell_type": "markdown",
   "id": "2bfd9be0-4d7b-4fe5-82ba-4a9fe6abe0e5",
   "metadata": {},
   "source": [
    "---\n",
    "In the ACTIVEENGINEERING state, send an MTM1M3_command_runMirrorForceProfile command of (10,10,10,10,10,10)"
   ]
  },
  {
   "cell_type": "code",
   "execution_count": null,
   "id": "30cab455-d4d0-4310-b7b6-8572243d8c0a",
   "metadata": {},
   "outputs": [],
   "source": [
    "await mtcs.rem.mtm1m3.cmd_runMirrorForceProfile.set_start(\n",
    "    xForce=[0]*1000, \n",
    "    yForce=10, zForce=10, xMoment=10, yMoment=10, zMoment=10)"
   ]
  },
  {
   "cell_type": "markdown",
   "id": "20a17b0b-91eb-42f2-a8b6-abd9105d4c1d",
   "metadata": {},
   "source": [
    "---\n",
    "Send an MTM1M3_command_abortProfile command."
   ]
  },
  {
   "cell_type": "code",
   "execution_count": null,
   "id": "095d7734-f882-43ff-9165-af07f991e69b",
   "metadata": {},
   "outputs": [],
   "source": [
    "await mtcs.rem.mtm1m3.cmd_abortProfile.set_start()"
   ]
  },
  {
   "cell_type": "markdown",
   "id": "0f3edb5b-9f60-40ac-addb-3f3ade09318a",
   "metadata": {},
   "source": [
    "---\n",
    "Verify the MTM1M3_logevent_forceActuatorBumpTestStatus event is published to the EFD.\n",
    "\n",
    "_LVV-T229 is called to test here to verify the MTM1M3_command_forceActuatorBumpTest command, MTM1M3_command_killForceActuatorBumpTest command and the MTM1M3_logevent_forceActuatorBumpTestStatus event; The test case itself cites a script to use_"
   ]
  },
  {
   "cell_type": "code",
   "execution_count": null,
   "id": "67e0afcd-31b7-443d-adb9-773d5663ceef",
   "metadata": {},
   "outputs": [],
   "source": [
    "print( mtcs.rem.mtm1m3.evt_forceActuatorBumpTestStatus.get() )\n",
    "t = time.Time(mtcs.rem.mtm1m3.evt_forceActuatorBumpTestStatus.get().private_sndStamp, format=\"unix\", scale=\"tai\")\n",
    "t.format = \"isot\"\n",
    "print(t)"
   ]
  },
  {
   "cell_type": "markdown",
   "id": "7dc7168e-1660-410b-b645-a2ab635ae272",
   "metadata": {},
   "source": [
    "---"
   ]
  },
  {
   "cell_type": "code",
   "execution_count": null,
   "id": "1c526008-9075-44eb-a72c-4ee4b6c1f2c5",
   "metadata": {},
   "outputs": [],
   "source": [
    "await mtcs.rem.mtm1m3.cmd_translateM1M3.set_start(\n",
    "    xTranslation=3, yTranslation=3, zTranslation=3, xRotation=0.5, yRotation=0.5, zRotation=0.5)"
   ]
  },
  {
   "cell_type": "code",
   "execution_count": null,
   "id": "a9502b63-0d95-4ac7-9a0c-ab4006270566",
   "metadata": {},
   "outputs": [],
   "source": [
    "fad_df = await client.select_time_series(\n",
    "    \"lsst.sal.MTM1M3.forceActuatorData\", \n",
    "    fields=\"*\", \n",
    "    start=start.utc, \n",
    "    end=end.utc,\n",
    ")"
   ]
  },
  {
   "cell_type": "code",
   "execution_count": null,
   "id": "7ec50f7a-8f93-4518-b46d-ff1cb67c916f",
   "metadata": {},
   "outputs": [],
   "source": [
    "fad_df"
   ]
  },
  {
   "cell_type": "code",
   "execution_count": null,
   "id": "e061525a-88d5-473e-a491-5aea3b3b8bf7",
   "metadata": {},
   "outputs": [],
   "source": [
    "await mtcs.lower_m1m3()"
   ]
  },
  {
   "cell_type": "code",
   "execution_count": null,
   "id": "10bf14a4-6c76-4007-a757-c82ba852ab1d",
   "metadata": {},
   "outputs": [],
   "source": [
    "script.log.info(f\"{test_case} - {test_execution} - End\")"
   ]
  },
  {
   "cell_type": "markdown",
   "id": "05f5c959-cb83-4da8-bbeb-51734503a236",
   "metadata": {},
   "source": [
    "---\n",
    "_Step 57 is to apply offset forces, but we need Petr's input as it was expected to apply a vector of forces_"
   ]
  },
  {
   "cell_type": "markdown",
   "id": "d4bb0d91-2cf2-4189-9f32-50a1c834f72c",
   "metadata": {},
   "source": [
    "await mtcs.rem.mtm1m3.cmd_applyOffsetForces.set_start(_xForces= ,yForces= ,zForces=_)"
   ]
  },
  {
   "cell_type": "code",
   "execution_count": null,
   "id": "4deb6e21-1719-4425-9559-a68d76bc05d3",
   "metadata": {},
   "outputs": [],
   "source": [
    "await mtcs.rem.mtm1m3.cmd_clearOffsetForces.set_start()"
   ]
  },
  {
   "cell_type": "code",
   "execution_count": null,
   "id": "705f3300-454d-4eaa-848b-088a09e0c26b",
   "metadata": {},
   "outputs": [],
   "source": [
    "await mtscs.rem.mtm1m3.cmd_applyOffsetForces(\n",
    "    xForces=2000, yForces=0, zForces=0)"
   ]
  },
  {
   "cell_type": "code",
   "execution_count": null,
   "id": "e00c99b2-7a5a-4ffc-a34f-785d22e4c9f3",
   "metadata": {},
   "outputs": [],
   "source": [
    "print( mtcs.rem.mtm1m3.evt_commandRejectionWarning.get() )"
   ]
  },
  {
   "cell_type": "markdown",
   "id": "56268cff-77fc-4bd9-ba97-3ebc3c172dc2",
   "metadata": {},
   "source": [
    "## Absolute Position Set"
   ]
  },
  {
   "cell_type": "markdown",
   "id": "787d54f9-2177-409f-b8c0-82b3e1e0d5a0",
   "metadata": {
    "execution": {
     "iopub.execute_input": "2023-03-17T17:35:06.116766Z",
     "iopub.status.busy": "2023-03-17T17:35:06.115940Z",
     "iopub.status.idle": "2023-03-17T17:35:06.121796Z",
     "shell.execute_reply": "2023-03-17T17:35:06.120757Z",
     "shell.execute_reply.started": "2023-03-17T17:35:06.116726Z"
    }
   },
   "source": [
    "In the ACTIVEENGINEERING state, send an MTM1M3_command_positionM1M3 command of (3mm, 3mm, 3mm, 0.1deg, 0.1deg, 0.1deg) "
   ]
  },
  {
   "cell_type": "code",
   "execution_count": null,
   "id": "9a3b035b-b130-4158-8b01-f3f1d9f6c0c0",
   "metadata": {},
   "outputs": [],
   "source": [
    "await mtcs.rem.mtm1m3.cmd_clearOffsetForces.set_start(\n",
    "    xPosition=3,yPosition=3,zPosition=3,xRotation=0.1,yRotation=0.1,zRotation=0.1)"
   ]
  },
  {
   "cell_type": "markdown",
   "id": "ccd9dbcf-e843-452f-9420-75fc34e95866",
   "metadata": {},
   "source": [
    "## Offset Forces"
   ]
  },
  {
   "cell_type": "markdown",
   "id": "3ec1f316-1352-46f4-84f4-a1e874772836",
   "metadata": {},
   "source": [
    "In the enabled, ACTIVEENGINEERING state, send an MTM1M3_command_applyOffsetForcesByMirrorForce command of (100N, 100N, 100N, 100Nm, 100Nm, 100Nm)."
   ]
  },
  {
   "cell_type": "code",
   "execution_count": null,
   "id": "b872d1f7-90dc-4bcf-b81d-6604f08dcee8",
   "metadata": {},
   "outputs": [],
   "source": [
    "await mtcs.rem.mtm1m3.cmd_applyOffsetForcesByMirrorForce.set_start(\n",
    "    xForce=100,yForce=100,zForce=100,xMoment=100,yMoment=100,zMoment=100)"
   ]
  },
  {
   "cell_type": "markdown",
   "id": "a097bdb0-bcab-4a20-88e2-006a754057c4",
   "metadata": {},
   "source": [
    "## Air Supply Test"
   ]
  },
  {
   "cell_type": "markdown",
   "id": "9a0bfff9-4eb0-4d20-a14a-c591cae49fd7",
   "metadata": {},
   "source": [
    "Lower the mirror before turning the air off and on."
   ]
  },
  {
   "cell_type": "code",
   "execution_count": null,
   "id": "67f31e4d-b3f4-4c47-8667-0ba45d735d77",
   "metadata": {},
   "outputs": [],
   "source": [
    "await mtcs.rem.mtm1m3.cmd_lowerM1M3.set_start()"
   ]
  },
  {
   "cell_type": "code",
   "execution_count": null,
   "id": "1e563cad-d940-4c0a-9e60-cab599c79494",
   "metadata": {},
   "outputs": [],
   "source": [
    "await mtcs.rem.mtm1m3.cmd_turnAirOff.set_start()"
   ]
  },
  {
   "cell_type": "code",
   "execution_count": null,
   "id": "77d8db21-1385-4b28-b370-b6b5a326f6c7",
   "metadata": {},
   "outputs": [],
   "source": [
    "print( mtcs.rem.mtm1m3.evt_airSupplyStatus.get() )\n",
    "print( mtcs.rem.mtm1m3.evt_airSupplyWarning.get() )"
   ]
  },
  {
   "cell_type": "code",
   "execution_count": null,
   "id": "93df0dba-d6cb-40e6-bc73-b18f6100bc7b",
   "metadata": {},
   "outputs": [],
   "source": [
    "await mtcs.rem.mtm1m3.cmd_turnAirOn.set_start()"
   ]
  },
  {
   "cell_type": "code",
   "execution_count": null,
   "id": "c51e4c1a-770e-4a48-85a9-32ca600ee3c9",
   "metadata": {},
   "outputs": [],
   "source": [
    "print( mtcs.rem.mtm1m3.evt_airSupplyStatus.get() )\n",
    "print( mtcs.rem.mtm1m3.evt_airSupplyWarning.get() )"
   ]
  },
  {
   "cell_type": "markdown",
   "id": "14e28fc2-c587-454c-a89e-ed6e6e4e7eb4",
   "metadata": {},
   "source": [
    "## Power On/Off"
   ]
  },
  {
   "cell_type": "markdown",
   "id": "3301623a-0a1a-4113-afbd-f73b3b971551",
   "metadata": {},
   "source": [
    "In the PARKEDENGINEERING state, send an MTM1M3_command_turnPowerOff and MTM1M3_command_turnPowerOn command.\n",
    "\n",
    "**Need Petr's input on which buses we can turn off that aren't responsible for the ILC's**"
   ]
  },
  {
   "cell_type": "code",
   "execution_count": null,
   "id": "c45f1e1d-faf2-429d-88a3-c87818809082",
   "metadata": {},
   "outputs": [],
   "source": [
    "await mtcs.rem.mtm1m3.cmd_turnPowerOff.set_start(\n",
    "    turnPowerNetworkAOff=true,\n",
    "    turnPowerNetworkBOff=false,\n",
    "    turnPowerNetworkCOff=false,\n",
    "    turnPowerNetworkDOff=false,\n",
    "    turnAuxPowerNetworkAOff=true, \n",
    "    turnAuxPowerNetworkBOff=false,\n",
    "    turnAuxPowerNetworkCOff=false,\n",
    "    turnAuxPowerNetworkDOff=false)"
   ]
  },
  {
   "cell_type": "code",
   "execution_count": null,
   "id": "f7ea1780-bf14-441d-a8e6-e08ff5fcbc18",
   "metadata": {},
   "outputs": [],
   "source": [
    "print( mtcs.rem.mtm1m3.evt_powerStatus.get() )\n",
    "print( mtcs.rem.mtm1m3.evt_powerWarning.get() )"
   ]
  },
  {
   "cell_type": "code",
   "execution_count": null,
   "id": "d1897c4a-f23f-4d71-b5b9-089ef74d26df",
   "metadata": {},
   "outputs": [],
   "source": [
    "await mtcs.rem.mtm1m3.cmd_turnPowerOff.set_start(\n",
    "    turnPowerNetworkAOff=true,\n",
    "    turnPowerNetworkBOff=false,\n",
    "    turnPowerNetworkCOff=false,\n",
    "    turnPowerNetworkDOff=false,\n",
    "    turnAuxPowerNetworkAOff=true, \n",
    "    turnAuxPowerNetworkBOff=false,\n",
    "    turnAuxPowerNetworkCOff=false,\n",
    "    turnAuxPowerNetworkDOff=false)"
   ]
  },
  {
   "cell_type": "code",
   "execution_count": null,
   "id": "8db7e14d-16bd-4013-a11f-26765c152668",
   "metadata": {},
   "outputs": [],
   "source": [
    "print( mtcs.rem.mtm1m3.evt_powerStatus.get() )\n",
    "print( mtcs.rem.mtm1m3.evt_powerWarning.get() )"
   ]
  },
  {
   "cell_type": "code",
   "execution_count": null,
   "id": "5f6196ee-0e42-43b6-a0af-f17f151596c6",
   "metadata": {},
   "outputs": [],
   "source": [
    "await mtcs.rem.mtm1m3.cmd_exitEngineering.set_start()"
   ]
  },
  {
   "cell_type": "markdown",
   "id": "21d95881-0fe4-4302-aba9-e10f434df532",
   "metadata": {},
   "source": [
    "## Aberration Force Test"
   ]
  },
  {
   "cell_type": "markdown",
   "id": "e1d98c7a-9751-456d-9d99-ed616df99d73",
   "metadata": {},
   "source": [
    "Send the MTM1M3_command_raiseMTM1M3 command and then record the data of the aberration forces\n",
    "\n",
    "**There are no aberration force events still so we will need to read the actuator data and compare to the initial data so at this point there is not much to be done through the notebook**"
   ]
  },
  {
   "cell_type": "code",
   "execution_count": null,
   "id": "fd5933b3-4f4e-4ef3-a908-0b87289c086c",
   "metadata": {},
   "outputs": [],
   "source": [
    "await mtcs.rem.mtm1m3.cmd_raiseM1M3.set_start()"
   ]
  },
  {
   "cell_type": "markdown",
   "id": "5044736d-f415-4bbc-8e7d-314668a8b34f",
   "metadata": {},
   "source": [
    "## Active Optic Forces Test"
   ]
  },
  {
   "cell_type": "markdown",
   "id": "b8fe0668-f189-4bf6-ad64-be8b2b62c3b9",
   "metadata": {},
   "source": [
    "Apply and clear Active Optic Forces"
   ]
  },
  {
   "cell_type": "markdown",
   "id": "d6d2400f-f6b4-4f3f-8325-5c7c826a1799",
   "metadata": {},
   "source": [
    "_what is an appropriate parameter to pass here_"
   ]
  },
  {
   "cell_type": "code",
   "execution_count": null,
   "id": "3ae31115-2c8e-409a-9f8a-2023cd734f02",
   "metadata": {},
   "outputs": [],
   "source": [
    "print( mtcs.rem.mtm1m3.evt_appliedActiveOpticForces.get() )"
   ]
  },
  {
   "cell_type": "markdown",
   "id": "19493db0-73a4-4372-8782-f37455234c72",
   "metadata": {},
   "source": [
    "**Update this step**\n",
    "\n",
    "await mtcs.rem.mtm1m3.cmd_applyActiveOpticForces.set_start(\n",
    "    zForces=)"
   ]
  },
  {
   "cell_type": "code",
   "execution_count": null,
   "id": "24892648-b2d8-422c-ab8a-14e91f8fcf7c",
   "metadata": {},
   "outputs": [],
   "source": [
    "print( mtcs.rem.mtm1m3.evt_appliedActiveOpticForces.get() )"
   ]
  },
  {
   "cell_type": "code",
   "execution_count": null,
   "id": "4796499d-2eaf-457c-9c7f-a9d6925e3cbc",
   "metadata": {},
   "outputs": [],
   "source": [
    "await mtcs.rem.mtm1m3.cmd_clearActiveOpticForces.set_start()"
   ]
  },
  {
   "cell_type": "markdown",
   "id": "2efe5b1c-6cac-4f1b-b864-f3e0ebcc0f7d",
   "metadata": {},
   "source": [
    "Verify an unsafe command of 2000N is rejected "
   ]
  },
  {
   "cell_type": "code",
   "execution_count": null,
   "id": "99fd9cb8-94dd-4cd3-abff-8836b4ce29f2",
   "metadata": {},
   "outputs": [],
   "source": [
    "await mtcs.rem.mtm1m3.cmd_applyActiveOpticForces.set_start(\n",
    "    zForces=2000)"
   ]
  },
  {
   "cell_type": "code",
   "execution_count": null,
   "id": "435f1a92-fc23-4d76-adda-23e63c80fc3d",
   "metadata": {},
   "outputs": [],
   "source": [
    "print( mtcs.rem.mtm1m3.evt_preclippedActiveOpticForces.get() )"
   ]
  },
  {
   "cell_type": "markdown",
   "id": "027e07e4-6f7f-4b98-98c3-da877b31270a",
   "metadata": {},
   "source": [
    "## Panic Test"
   ]
  },
  {
   "cell_type": "markdown",
   "id": "3298e995-2120-4072-b925-69290d48e931",
   "metadata": {},
   "source": [
    "Send a panic command to verify the system acts as expected"
   ]
  },
  {
   "cell_type": "markdown",
   "id": "e6c98ef3-bfa7-46af-b8cd-b60eeca52744",
   "metadata": {},
   "source": [
    "Panic the mirror while it's lowered"
   ]
  },
  {
   "cell_type": "code",
   "execution_count": null,
   "id": "c5c6b183-bbfb-4e0e-bca8-027aeccf48e2",
   "metadata": {},
   "outputs": [],
   "source": [
    "await mtcs.rem.mtm1m3.cmd_panic.set_start()"
   ]
  },
  {
   "cell_type": "code",
   "execution_count": null,
   "id": "ca6ee801-0591-4898-959a-8765088535c5",
   "metadata": {},
   "outputs": [],
   "source": [
    "print( mtcs.rem.mtm1m3.evt_detailedState.get() )"
   ]
  },
  {
   "cell_type": "markdown",
   "id": "c2691e0c-a7dc-479d-ba6a-6ba7bf68cc21",
   "metadata": {},
   "source": [
    "Recover the system"
   ]
  },
  {
   "cell_type": "code",
   "execution_count": null,
   "id": "176b9da7-c332-4b18-b3d0-81551adaa7a0",
   "metadata": {},
   "outputs": [],
   "source": [
    "await mtcs.set_state(state=salobj.State.STANDBY, components=[\"mtm1m3\"])"
   ]
  },
  {
   "cell_type": "code",
   "execution_count": null,
   "id": "eaf879ca-c1e9-4203-9d4d-29ab3b539aef",
   "metadata": {},
   "outputs": [],
   "source": [
    "await mtcs.set_state(state=salobj.State.DISABLED, components=[\"mtm1m3\"])"
   ]
  },
  {
   "cell_type": "code",
   "execution_count": null,
   "id": "6f4a026e-1a6a-4292-8926-1bd4244ee940",
   "metadata": {},
   "outputs": [],
   "source": [
    "await mtcs.set_state(state=salobj.State.ENABLED, components=[\"mtm1m3\"])"
   ]
  },
  {
   "cell_type": "markdown",
   "id": "e3d6ac8f-de76-4333-9985-07b9fab48cf0",
   "metadata": {},
   "source": [
    "Raise the mirror and send the panic command"
   ]
  },
  {
   "cell_type": "code",
   "execution_count": null,
   "id": "0662ae8d-f6b1-4ea3-9859-91889ad1bc50",
   "metadata": {},
   "outputs": [],
   "source": [
    "await mtcs.rem.mtm1m3.cmd_raiseM1M3.set_start()"
   ]
  },
  {
   "cell_type": "code",
   "execution_count": null,
   "id": "4c119d25-0f42-4dd2-a089-6b77560a56c5",
   "metadata": {},
   "outputs": [],
   "source": [
    "await mtcs.rem.mtm1m3.cmd_panic.set_start()"
   ]
  },
  {
   "cell_type": "code",
   "execution_count": null,
   "id": "d4b70248-8b94-494d-bed6-02598fe5c6b7",
   "metadata": {},
   "outputs": [],
   "source": [
    "print( mtcs.rem.mtm1m3.evt_detailedState.get() )"
   ]
  },
  {
   "cell_type": "markdown",
   "id": "833d6169-f35d-40bc-ae30-aad69279af8c",
   "metadata": {},
   "source": [
    "Recover the system"
   ]
  },
  {
   "cell_type": "code",
   "execution_count": null,
   "id": "b8b18404-2d5c-43f2-bf5b-dd147f00f259",
   "metadata": {},
   "outputs": [],
   "source": [
    "await mtcs.set_state(state=salobj.State.STANDBY, components=[\"mtm1m3\"])"
   ]
  },
  {
   "cell_type": "code",
   "execution_count": null,
   "id": "68c803ea-cc2d-4786-b29f-2db56335e2bf",
   "metadata": {},
   "outputs": [],
   "source": [
    "await mtcs.set_state(state=salobj.State.DISABLED, components=[\"mtm1m3\"])"
   ]
  },
  {
   "cell_type": "code",
   "execution_count": null,
   "id": "62919725-be96-478c-ba34-67b6db2ef9eb",
   "metadata": {},
   "outputs": [],
   "source": [
    "await mtcs.set_state(state=salobj.State.ENABLED, components=[\"mtm1m3\"])"
   ]
  },
  {
   "cell_type": "markdown",
   "id": "dc11a319-9023-4407-8550-f120f3c69e19",
   "metadata": {},
   "source": [
    "_At this point the mirror should be lowered and the test can end_"
   ]
  },
  {
   "cell_type": "code",
   "execution_count": null,
   "id": "cf2303a5-0512-4cee-a571-c6c0764af0a6",
   "metadata": {},
   "outputs": [],
   "source": [
    "print( mtcs.rem.mtm1m3.evt_forceActuatorBumpTestStatus.get() )\n",
    "t = time.Time(mtcs.rem.mtm1m3.evt_forceActuatorBumpTestStatus.get().private_sndStamp, format=\"unix\", scale=\"tai\")\n",
    "t.format = \"isot\"\n",
    "print(t)"
   ]
  },
  {
   "cell_type": "code",
   "execution_count": null,
   "id": "7c1153af-c5a4-4272-a1fb-9a8574f58bbf",
   "metadata": {},
   "outputs": [],
   "source": [
    "await mtcs.lower_m1m3()"
   ]
  },
  {
   "cell_type": "code",
   "execution_count": null,
   "id": "2652f4f1-bb6d-4ff1-89d3-422f0ef9767f",
   "metadata": {},
   "outputs": [],
   "source": [
    "script.log.info(f\"{test_case} - {test_execution} - End\")"
   ]
  }
 ],
 "metadata": {
  "kernelspec": {
   "display_name": "LSST",
   "language": "python",
   "name": "lsst"
  },
  "language_info": {
   "codemirror_mode": {
    "name": "ipython",
    "version": 3
   },
   "file_extension": ".py",
   "mimetype": "text/x-python",
   "name": "python",
   "nbconvert_exporter": "python",
   "pygments_lexer": "ipython3",
   "version": "3.10.9"
  }
 },
 "nbformat": 4,
 "nbformat_minor": 5
}
