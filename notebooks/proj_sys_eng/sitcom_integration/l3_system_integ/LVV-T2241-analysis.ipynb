{
 "cells": [
  {
   "cell_type": "markdown",
   "id": "c4b5be40-bab8-445b-993a-49941f4f3ae0",
   "metadata": {},
   "source": [
    "# [LVV-T2241 (v1.0)] MTAOS corrections accumulation\n",
    "\n",
    "This notebook is used to analyse the data colleted when running the [LVV-T2216] test case during System Spread Integration Tests on Level 3.  \n",
    "   \n",
    "**Requirements:**\n",
    " - You should have run this test case and record the time stamps on each step.\n",
    " \n",
    "Upon completion, save the notebook and its output as a pdf file to be attached to the test execution in JIRA. \n",
    "\n",
    "**Make sure you run this notebook on TTS before running at the summit.**\n",
    "\n",
    "Please, see the [README] file for the requirements to run this notebook.\n",
    "\n",
    "[LVV-T2241 (v1.0)]: https://jira.lsstcorp.org/secure/Tests.jspa#/testCase/LVV-T2241\n",
    "[README]: https://github.com/lsst-sitcom/notebooks_vandv/blob/develop/README.md"
   ]
  },
  {
   "cell_type": "code",
   "execution_count": null,
   "id": "93d957b0-cd27-4c33-9f4a-fba782f089fa",
   "metadata": {},
   "outputs": [],
   "source": [
    "test_case = \"LVV-T2241\"\n",
    "test_exec = \"LVV-EXXXX\""
   ]
  },
  {
   "cell_type": "code",
   "execution_count": null,
   "id": "2d5e7ca7-65f6-434c-9e23-a739c7e8ed4e",
   "metadata": {},
   "outputs": [],
   "source": [
    "%load_ext autoreload\n",
    "%autoreload 2\n",
    "import numpy as np\n",
    "import pandas as pd\n",
    "\n",
    "from astropy.time import Time\n",
    "from matplotlib import pyplot as plt\n",
    "\n",
    "from lsst.sitcom import vandv"
   ]
  },
  {
   "cell_type": "code",
   "execution_count": null,
   "id": "75d055be-bc0c-4f2b-aefc-ab063dce7f5d",
   "metadata": {},
   "outputs": [],
   "source": [
    "client = vandv.efd.create_efd_client()\n",
    "\n",
    "exec_info = vandv.ExecutionInfo()\n",
    "print(exec_info)"
   ]
  },
  {
   "cell_type": "markdown",
   "id": "22048035-4c26-45dd-9601-a9262049dcf8",
   "metadata": {},
   "source": [
    "## Check log from the EFD\n",
    "\n",
    "Use the code below to query the data from the EFD.  \n",
    "Remember that you can use the index to help selecting the data.  "
   ]
  },
  {
   "cell_type": "code",
   "execution_count": null,
   "id": "587f2028-7a24-4539-b55d-a63253c46773",
   "metadata": {},
   "outputs": [],
   "source": [
    "date = \"2022-07-29\"\n",
    "\n",
    "log_df = await client.select_time_series(\n",
    "    \"lsst.sal.Script.logevent_logMessage\", \n",
    "    \"message\",\n",
    "    Time(f\"{date}T00:00:00\", format=\"isot\", scale=\"utc\"),\n",
    "    Time(f\"{date}T23:59:00\", format=\"isot\", scale=\"utc\"),\n",
    "    index=-22410729\n",
    ")\n",
    "\n",
    "log_df"
   ]
  },
  {
   "cell_type": "code",
   "execution_count": null,
   "id": "98374212-8361-4664-ae5e-ec123d6702bc",
   "metadata": {},
   "outputs": [],
   "source": [
    "t_start = Time(log_df[log_df.message.str.contains(\"START\")].index[0], scale=\"utc\")\n",
    "t_end = Time(log_df[log_df.message.str.contains(\"STOP\")].index[0], scale=\"utc\")\n",
    "\n",
    "print(f\"Actual test happened between\\n {t_start}\\n and\\n {t_end}\\n\") "
   ]
  },
  {
   "cell_type": "markdown",
   "id": "35dbfd9f-6d54-45fd-be17-1d6bfe785e34",
   "metadata": {},
   "source": [
    "## Display degrees of freedom\n",
    "\n",
    "The degrees of freedom are the first step performed by the OFC in converting the wavefront errors into corrections.  \n",
    "\n",
    "It is composed of two parts, the \"aggregated\" and the \"visit\" degrees of freedom.  \n",
    "The \"aggregated\" is the combination of all corrections computed so far whereas the \"visit\" contains only the degrees of freedom from the last correction.    \n",
    "\n",
    "These values are published as vectors of 50 elements each in the \"degreeOfFreedom\" event.  \n",
    "As with the annularZernikeCoeff case above we need to query them individually and then build the vectors afterwards. \n",
    "\n",
    "Find more information in the [Document-14771: Active Optics Baseline Design] document, Table 1-1. Telescope degrees of Freedom.\n",
    "\n",
    "[Document-14771: Active Optics Baseline Design]: ls.st/Document-14771"
   ]
  },
  {
   "cell_type": "code",
   "execution_count": null,
   "id": "2c65d229-56af-4ec6-820a-993b5c493f4f",
   "metadata": {},
   "outputs": [],
   "source": [
    "aggregated_dof = await client.select_time_series(\n",
    "    'lsst.sal.MTAOS.logevent_degreeOfFreedom', \n",
    "    [f\"aggregatedDoF{i}\" for i in range(50)], \n",
    "    t_start, \n",
    "    t_end,\n",
    ")"
   ]
  },
  {
   "cell_type": "code",
   "execution_count": null,
   "id": "c2a6a5e0-b13a-47da-95f1-f4f4c427e9ae",
   "metadata": {},
   "outputs": [],
   "source": [
    "visit_dof = await client.select_time_series(\n",
    "    'lsst.sal.MTAOS.logevent_degreeOfFreedom', \n",
    "    [f\"visitDoF{i}\" for i in range(50)], \n",
    "    t_start, \n",
    "    t_end,\n",
    ")"
   ]
  },
  {
   "cell_type": "code",
   "execution_count": null,
   "id": "6097267a-1439-4cdb-9cb6-42f5e65eafaf",
   "metadata": {},
   "outputs": [],
   "source": [
    "fig, axs = fig, axs = plt.subplot_mosaic(\n",
    "    mosaic=\"AB\\nCC\\nDD\",\n",
    "    num=\"Degrees of Freedom\", \n",
    "    constrained_layout=True,\n",
    "    dpi=120,\n",
    "    figsize=(12, 6),\n",
    ")\n",
    "\n",
    "fig.suptitle(\"Degrees of Freedom\")\n",
    "labels = [\"1um\", \"1um+1um\", \"0um\", \"2um\"]\n",
    "vandv.mtaos.show_dof(axs[\"A\"], aggregated_dof, \"m2hex\", labels=labels)\n",
    "vandv.mtaos.show_dof(axs[\"B\"], aggregated_dof, \"camhex\", labels=labels)\n",
    "vandv.mtaos.show_dof(axs[\"C\"], aggregated_dof, \"m1m3\", labels=labels)\n",
    "vandv.mtaos.show_dof(axs[\"D\"], aggregated_dof, \"m2\", labels=labels)"
   ]
  },
  {
   "cell_type": "markdown",
   "id": "94dc688f-3eb5-4e46-aa32-44670f8fef57",
   "metadata": {},
   "source": [
    "## M1M3 Analysis\n",
    "\n",
    "Here we want to confirm that the difference between corrections between the 1um+1um position is the same as 2um."
   ]
  },
  {
   "cell_type": "code",
   "execution_count": null,
   "id": "11cb106e-1cea-44d8-ae76-b3ceae4da576",
   "metadata": {},
   "outputs": [],
   "source": [
    "m1m3_correction = await client.select_time_series(\n",
    "    'lsst.sal.MTAOS.logevent_m1m3Correction', \n",
    "    \"*\",\n",
    "    t_start, \n",
    "    t_end,\n",
    ")\n",
    "\n",
    "m1m3_correction = m1m3_correction.select_dtypes(['number'])"
   ]
  },
  {
   "cell_type": "code",
   "execution_count": null,
   "id": "07a1da1f-02c8-4709-ad45-4f81259732c3",
   "metadata": {},
   "outputs": [],
   "source": [
    "m1m3_correction_1um = m1m3_correction.iloc[0]\n",
    "m1m3_correction_1um1um = m1m3_correction.iloc[1]\n",
    "m1m3_correction_2um = m1m3_correction.iloc[3]\n",
    "m1m3_correction_diff =  m1m3_correction_2um - m1m3_correction_1um1um"
   ]
  },
  {
   "cell_type": "code",
   "execution_count": null,
   "id": "a6a76377-7e0e-428f-82cc-426bdf1097eb",
   "metadata": {},
   "outputs": [],
   "source": [
    "fig, axs = plt.subplot_mosaic(\n",
    "    mosaic=\"AAA\\nBCD\\nBCD\",\n",
    "    num=\"M1M3 Correction Difference\", \n",
    "    constrained_layout=True,\n",
    "    dpi=120,\n",
    "    figsize=(12, 6),\n",
    ")\n",
    "\n",
    "fig.suptitle(\"M1M3 Correction Difference\")\n",
    "_ = vandv.m1m3.snapshot_zforces(axs[\"A\"], [m1m3_correction_diff])\n",
    "_ = vandv.m1m3.snapshot_zforces_overview(axs[\"B\"], m1m3_correction_1um1um, title=\"1um+1um\")\n",
    "_ = vandv.m1m3.snapshot_zforces_overview(axs[\"C\"], m1m3_correction_2um, title=\"2um\")\n",
    "_ = vandv.m1m3.snapshot_zforces_overview(axs[\"D\"], m1m3_correction_diff, title=\"Difference\")"
   ]
  },
  {
   "cell_type": "code",
   "execution_count": null,
   "id": "f88ecd43-e085-4ebf-9ac5-e37878d56f50",
   "metadata": {},
   "outputs": [],
   "source": [
    "m1m3_applied = await client.select_time_series(\n",
    "    'lsst.sal.MTM1M3.command_applyActiveOpticForces', \n",
    "    [f\"zForces{i}\" for i in range(156)], \n",
    "    t_start, \n",
    "    t_end,\n",
    ")"
   ]
  },
  {
   "cell_type": "code",
   "execution_count": null,
   "id": "eafcdb94-cc3a-4c25-8cc8-5d3f537f6191",
   "metadata": {},
   "outputs": [],
   "source": [
    "m1m3_applied_1um = m1m3_applied.iloc[0]\n",
    "m1m3_applied_1um1um = m1m3_applied.iloc[1]\n",
    "m1m3_applied_2um = m1m3_applied.iloc[3]\n",
    "m1m3_applied_diff =  m1m3_applied_2um - m1m3_applied_1um1um"
   ]
  },
  {
   "cell_type": "code",
   "execution_count": null,
   "id": "7d64607b-feda-467d-a2f0-2dc3639ea57b",
   "metadata": {},
   "outputs": [],
   "source": [
    "fig, axs = plt.subplot_mosaic(\n",
    "    mosaic=\"AAA\\nBCD\\nBCD\",\n",
    "    num=\"M1M3 Corrections Applied Difference\", \n",
    "    constrained_layout=True,\n",
    "    dpi=120,\n",
    "    figsize=(12, 6),\n",
    ")\n",
    "\n",
    "fig.suptitle(\"M1M3 Corrections Applied Difference\")\n",
    "_ = vandv.m1m3.snapshot_zforces(axs[\"A\"], [m1m3_applied_diff])\n",
    "_ = vandv.m1m3.snapshot_zforces_overview(axs[\"B\"], m1m3_applied_1um1um, title=\"1um+1um\")\n",
    "_ = vandv.m1m3.snapshot_zforces_overview(axs[\"C\"], m1m3_applied_2um, title=\"2um\")\n",
    "_ = vandv.m1m3.snapshot_zforces_overview(axs[\"D\"], m1m3_applied_diff, title=\"Difference\")"
   ]
  },
  {
   "cell_type": "code",
   "execution_count": null,
   "id": "982922b8-3e18-44b0-a8c7-2bd4b7b3f912",
   "metadata": {},
   "outputs": [],
   "source": [
    "fig, axs = plt.subplot_mosaic(\n",
    "    mosaic=\"AAA\\nBCD\\nBCD\",\n",
    "    num=\"M1M3 Corrections Vs Applied\", \n",
    "    constrained_layout=True,\n",
    "    dpi=120,\n",
    "    figsize=(12, 6),\n",
    ")\n",
    "\n",
    "fig.suptitle(\"M1M3 Corrections Vs Applied\")\n",
    "_ = vandv.m1m3.snapshot_zforces(\n",
    "    axs[\"A\"], [\n",
    "        m1m3_correction_1um - m1m3_applied_1um, \n",
    "        m1m3_correction_1um1um - m1m3_applied_1um1um, \n",
    "        m1m3_correction_2um - m1m3_applied_2um,\n",
    "    ], \n",
    "    labels=[\"Diff 1um\", \"Diff 1um+1um\", \"Diff 2um\"]\n",
    ")\n",
    "\n",
    "_ = vandv.m1m3.snapshot_zforces_overview(axs[\"B\"], m1m3_correction_1um - m1m3_applied_1um, title=\"1um+1um\")\n",
    "_ = vandv.m1m3.snapshot_zforces_overview(axs[\"C\"], m1m3_correction_1um1um - m1m3_applied_1um1um, title=\"2um\")\n",
    "_ = vandv.m1m3.snapshot_zforces_overview(axs[\"D\"], m1m3_correction_2um - m1m3_applied_2um, title=\"Difference\")"
   ]
  },
  {
   "cell_type": "markdown",
   "id": "453c4b7b-e8fc-466c-ba9f-9860231bb52b",
   "metadata": {},
   "source": [
    "## M2 Analysis\n",
    "\n",
    "Same with m2"
   ]
  },
  {
   "cell_type": "code",
   "execution_count": null,
   "id": "ece1c7ee-f71a-475a-af4b-549780b7516f",
   "metadata": {},
   "outputs": [],
   "source": [
    "m2_correction = await client.select_time_series(\n",
    "    'lsst.sal.MTAOS.logevent_m2Correction', \n",
    "    [f\"zForces{i}\" for i in range(72)], \n",
    "    t_start, \n",
    "    t_end,\n",
    ")"
   ]
  },
  {
   "cell_type": "code",
   "execution_count": null,
   "id": "5dfde641-06c9-4660-8fec-bd45e977bfb1",
   "metadata": {},
   "outputs": [],
   "source": [
    "m2_applied = await client.select_time_series(\n",
    "    'lsst.sal.MTM2.command_applyForces', \n",
    "    [f\"axial{i}\" for i in range(72)], \n",
    "    t_start, \n",
    "    t_end,\n",
    ")"
   ]
  },
  {
   "cell_type": "code",
   "execution_count": null,
   "id": "3fb6aae1-32aa-4ff2-8c13-1c1d45711ad4",
   "metadata": {},
   "outputs": [],
   "source": [
    "m2_correction_1um1um = m2_correction.iloc[1]\n",
    "m2_correction_2um = m2_correction.iloc[3]\n",
    "m2_correction_diff = m2_correction_2um - m2_correction_1um1um"
   ]
  },
  {
   "cell_type": "code",
   "execution_count": null,
   "id": "73b8be7a-becc-41cc-801e-9d3dbd1eed88",
   "metadata": {},
   "outputs": [],
   "source": [
    "fig, axs = plt.subplot_mosaic(\n",
    "    mosaic=\"ABC\",\n",
    "    num=\"M2 Corrections\", \n",
    "    constrained_layout=True,\n",
    "    dpi=120,\n",
    "    figsize=(12, 4),\n",
    ")\n",
    "\n",
    "fig.suptitle(\"M2 Corrections\")\n",
    "_ = vandv.m2.snapshot_zforces_overview(axs[\"A\"], m2_correction_1um1um, prefix=\"zForces\", ms=200, fs=6)\n",
    "_ = vandv.m2.snapshot_zforces_overview(axs[\"B\"], m2_correction_2um, prefix=\"zForces\", ms=200, fs=6)\n",
    "_ = vandv.m2.snapshot_zforces_overview(axs[\"C\"], m2_correction_diff, prefix=\"zForces\", ms=200, fs=6)"
   ]
  },
  {
   "cell_type": "markdown",
   "id": "e152b841-95c3-4741-8251-a28f72abde9c",
   "metadata": {},
   "source": [
    "## Analyse CamHex"
   ]
  },
  {
   "cell_type": "code",
   "execution_count": null,
   "id": "a8efa42e-1e8e-4d01-87f8-4f10eaed51c7",
   "metadata": {},
   "outputs": [],
   "source": [
    "el = await client.select_time_series(\n",
    "    \"lsst.sal.MTMount.elevation\",\n",
    "    \"*\", \n",
    "    t_start,\n",
    "    t_end)"
   ]
  },
  {
   "cell_type": "code",
   "execution_count": null,
   "id": "60024c73-cbac-46c8-877c-6eefffde6f04",
   "metadata": {},
   "outputs": [],
   "source": [
    "# From the XML:\n",
    "#   Actual MTHexapod position, in order (X, Y, Z, U, V, W). \n",
    "#   Linear positions are in microns, angular positions are in degrees.\n",
    "pos = await client.select_time_series(\n",
    "    \"lsst.sal.MTHexapod.application\",\n",
    "    \"*\",\n",
    "    t_start,\n",
    "    t_end,\n",
    "    index=1\n",
    ")\n",
    "\n",
    "# Unravel in x/y/z/u/v/w\n",
    "for i, col in enumerate(\"xyzuvw\"):\n",
    "    pos[col] = pos[f\"position{i}\"]\n",
    "\n",
    "\n",
    "# Triggered at the end of a slew\n",
    "cpos = await client.select_time_series(\n",
    "    \"lsst.sal.MTHexapod.logevent_compensatedPosition\",\n",
    "    \"*\",\n",
    "    t_start,\n",
    "    t_end,\n",
    "    index=1\n",
    ")\n",
    "\n",
    "# Triggered only after move/offset. Should not see much. \n",
    "upos = await client.select_time_series(\n",
    "    \"lsst.sal.MTHexapod.logevent_uncompensatedPosition\",\n",
    "    \"*\",\n",
    "    t_start,\n",
    "    t_end,\n",
    "    index=1\n",
    ")\n",
    "\n",
    "# Estimate the LUT position\n",
    "lut_pred = vandv.hexapod.get_lut_positions(index=1, elevation=el.actualPosition)\n",
    "lut = pd.DataFrame(lut_pred, columns=[\"x\", \"y\", \"z\", \"u\", \"v\", \"w\"], index=el.index)"
   ]
  },
  {
   "cell_type": "code",
   "execution_count": null,
   "id": "f8c84b79-0b74-4c78-8ecd-d48d9b35550e",
   "metadata": {},
   "outputs": [],
   "source": [
    "fig, axs = plt.subplot_mosaic(\n",
    "    mosaic=\"AD\\nBE\\nCF\",\n",
    "    num=\"CamHex Analysis\", \n",
    "    dpi=120,\n",
    "    figsize=(10, 6),\n",
    "    sharex=True,\n",
    ")\n",
    "\n",
    "cols = \"xyzuvw\"\n",
    "for ax, col in zip(\"ABCDEF\", cols):\n",
    "    _ = vandv.hexapod.timeline_position(\n",
    "        axs[ax], \n",
    "        [pos, cpos, upos, lut], \n",
    "        column=col, \n",
    "        elevation=el, \n",
    "        symbols=[\"\", \"o\", \"s\", \"\"],\n",
    "        names=[\"Actual Position\", \"Compensated\", \"Uncompensated\", \"LUT\"]\n",
    "    )\n",
    "\n",
    "# Hide xlabel\n",
    "for i in \"ABDE\":\n",
    "    _ = axs[i].set_xlabel(\"\")\n",
    "    \n",
    "_ = axs[\"F\"].legend(loc='lower center', bbox_to_anchor=(0.5, -1.0), ncol=5)\n",
    "\n",
    "fig.suptitle(\"CamHex Timeline\")\n",
    "fig.autofmt_xdate()\n",
    "fig.tight_layout()"
   ]
  },
  {
   "cell_type": "markdown",
   "id": "bb35077c-d0c2-4ddc-9565-f36723cc0260",
   "metadata": {},
   "source": [
    "## Analyse M2Hex"
   ]
  },
  {
   "cell_type": "code",
   "execution_count": null,
   "id": "039b2410-0daf-4037-8551-11042eadb764",
   "metadata": {},
   "outputs": [],
   "source": [
    "# From the XML:\n",
    "#   Actual MTHexapod position, in order (X, Y, Z, U, V, W). \n",
    "#   Linear positions are in microns, angular positions are in degrees.\n",
    "pos = await client.select_time_series(\n",
    "    \"lsst.sal.MTHexapod.application\",\n",
    "    \"*\",\n",
    "    t_start,\n",
    "    t_end,\n",
    "    index=2\n",
    ")\n",
    "\n",
    "# Unravel in x/y/z/u/v/w\n",
    "for i, col in enumerate(\"xyzuvw\"):\n",
    "    pos[col] = pos[f\"position{i}\"]\n",
    "\n",
    "\n",
    "# Triggered at the end of a slew\n",
    "cpos = await client.select_time_series(\n",
    "    \"lsst.sal.MTHexapod.logevent_compensatedPosition\",\n",
    "    \"*\",\n",
    "    t_start,\n",
    "    t_end,\n",
    "    index=2\n",
    ")\n",
    "\n",
    "# Triggered only after move/offset. Should not see much. \n",
    "upos = await client.select_time_series(\n",
    "    \"lsst.sal.MTHexapod.logevent_uncompensatedPosition\",\n",
    "    \"*\",\n",
    "    t_start,\n",
    "    t_end,\n",
    "    index=2\n",
    ")\n",
    "\n",
    "# Estimate the LUT position\n",
    "lut_pred = vandv.hexapod.get_lut_positions(index=2, elevation=el.actualPosition)\n",
    "lut = pd.DataFrame(lut_pred, columns=[\"x\", \"y\", \"z\", \"u\", \"v\", \"w\"], index=el.index)"
   ]
  },
  {
   "cell_type": "code",
   "execution_count": null,
   "id": "11c6a4ee-558d-477c-8021-c653ee9c95c9",
   "metadata": {},
   "outputs": [],
   "source": [
    "fig, axs = plt.subplot_mosaic(\n",
    "    mosaic=\"AD\\nBE\\nCF\",\n",
    "    num=\"M2hex\", \n",
    "    dpi=120,\n",
    "    figsize=(10, 6),\n",
    "    sharex=True,\n",
    ")\n",
    "\n",
    "cols = \"xyzuvw\"\n",
    "for ax, col in zip(\"ABCDEF\", cols):\n",
    "    _ = vandv.hexapod.timeline_position(\n",
    "        axs[ax], \n",
    "        [pos, cpos, upos, lut], \n",
    "        column=col, \n",
    "        elevation=el, \n",
    "        symbols=[\"\", \"o\", \"s\", \"\"],\n",
    "        names=[\"Actual Position\", \"Compensated\", \"Uncompensated\", \"LUT\"]\n",
    "    )\n",
    "\n",
    "# Hide xlabel\n",
    "for i in \"ABDE\":\n",
    "    _ = axs[i].set_xlabel(\"\")\n",
    "    \n",
    "_ = axs[\"F\"].legend(loc='lower center', bbox_to_anchor=(0.5, -1), ncol=5)\n",
    "\n",
    "fig.suptitle(\"M2Hex Timeline\")\n",
    "fig.autofmt_xdate()\n",
    "fig.tight_layout()"
   ]
  }
 ],
 "metadata": {
  "kernelspec": {
   "display_name": "LSST",
   "language": "python",
   "name": "lsst"
  },
  "language_info": {
   "codemirror_mode": {
    "name": "ipython",
    "version": 3
   },
   "file_extension": ".py",
   "mimetype": "text/x-python",
   "name": "python",
   "nbconvert_exporter": "python",
   "pygments_lexer": "ipython3",
   "version": "3.10.5"
  }
 },
 "nbformat": 4,
 "nbformat_minor": 5
}
