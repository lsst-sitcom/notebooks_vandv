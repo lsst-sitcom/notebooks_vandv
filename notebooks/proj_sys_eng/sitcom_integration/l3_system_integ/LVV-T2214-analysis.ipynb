{
 "cells": [
  {
   "cell_type": "markdown",
   "metadata": {},
   "source": [
    "# [LVV-T2214] _ Plots\n",
    "\n",
    "This notebook will analyze the data collected when running LVV-T2214 test case during L3 integration tests.  \n",
    "\n",
    "[lsst-ts/ts_notebooks]: https://github.com/lsst-ts/ts_notebooks/blob/develop/bxin/aos2comp/aos2comp.ipynb\n",
    "[LVV-T2214]: https://jira.lsstcorp.org/secure/Tests.jspa#/testCase/LVV-T2214"
   ]
  },
  {
   "cell_type": "markdown",
   "metadata": {},
   "source": [
    "Requirements:\n",
    "\n",
    "    You should have run this test case and record the time stamps on each step.\n",
    "\n",
    "Upon completion, save the notebook and its output as a pdf file to be attached to the test execution in JIRA.\n",
    "\n",
    "Make sure you run this notebook on TTS before running at the summit.\n",
    "\n",
    "Please, see the README file for the requirements to run this notebook."
   ]
  },
  {
   "cell_type": "code",
   "execution_count": null,
   "metadata": {},
   "outputs": [],
   "source": [
    "test_case = \"LVV-T2214\"\n",
    "test_exec = \"LVV-D28Jul\""
   ]
  },
  {
   "cell_type": "code",
   "execution_count": null,
   "metadata": {},
   "outputs": [],
   "source": [
    "%load_ext autoreload\n",
    "%autoreload 2\n",
    "import numpy as np\n",
    "import pandas as pd\n",
    "\n",
    "from astropy.time import Time,TimeDelta\n",
    "from datetime import datetime, timedelta\n",
    "from matplotlib import pyplot as plt\n",
    "\n",
    "from lsst.sitcom import vandv"
   ]
  },
  {
   "cell_type": "code",
   "execution_count": null,
   "metadata": {},
   "outputs": [],
   "source": [
    "client = vandv.efd.create_efd_client()\n",
    "\n",
    "exec_info = vandv.ExecutionInfo()\n",
    "print(exec_info)"
   ]
  },
  {
   "cell_type": "markdown",
   "metadata": {
    "tags": []
   },
   "source": [
    "---- \n",
    "## Define time windows for the test execution \n",
    "    # Edit with date times. \n",
    "    Gathering data - without Aberrations - Start time: 2022-06-21T00:36:46.077\n",
    "    Gathering data - without Aberrations - End time: 2022-06-21T00:41:25.742\n",
    "\n",
    "    Gathering data - with Aberrations (reset every time) - Start time: 2022-06-21T01:51:30.700\n",
    "    Gathering data - with Aberrations (reset every time) - End time: 2022-06-21T01:56:32.971\n",
    "\n",
    "    Gathering data - with Aberrations Accumulated - Start time: 2022-06-21T01:57:36.178\n",
    "    Gathering data - with Aberrations Accumulated - End time: 2022-06-21T02:02:26.898"
   ]
  },
  {
   "cell_type": "code",
   "execution_count": null,
   "metadata": {},
   "outputs": [],
   "source": [
    "# Without aberrations\n",
    "t_start = \"2022-06-21T00:36:46.077\"\n",
    "t_start = Time(t_start, format=\"isot\", scale=\"utc\")\n",
    "\n",
    "t_end = \"2022-06-21T00:41:25.742\"\n",
    "t_end = Time(t_end, format=\"isot\", scale=\"utc\")"
   ]
  },
  {
   "cell_type": "markdown",
   "metadata": {},
   "source": [
    "Run the cell below that correspond to the test you want to analyze in this notebook (Declare only one of them) \n",
    "- With aberrations (Reset every time)\n",
    "- With aberrations (Accumulated)"
   ]
  },
  {
   "cell_type": "code",
   "execution_count": null,
   "metadata": {},
   "outputs": [],
   "source": [
    "# With aberrations (Reset every time)\n",
    "test_type = \"With aberrations (Reset every time)\"\n",
    "t_start_aberr = \"2022-06-21T01:51:30.700\"\n",
    "t_start_aberr = Time(t_start_aberr, format=\"isot\", scale=\"utc\")\n",
    "\n",
    "t_end_aberr = \"2022-06-21T01:56:32.971\"\n",
    "t_end_aberr = Time(t_end_aberr, format=\"isot\", scale=\"utc\")\n",
    "\n",
    "reset = 2"
   ]
  },
  {
   "cell_type": "code",
   "execution_count": null,
   "metadata": {},
   "outputs": [],
   "source": [
    "# With aberrations (Accumulated) \n",
    "test_type = \"With aberrations (Accumulated)\"\n",
    "t_start_aberr_accum = \"2022-06-21T01:57:36.178\"\n",
    "t_start_aberr = Time(t_start_aberr_accum, format=\"isot\", scale=\"utc\")\n",
    "\n",
    "t_end_aberr_accum = \"2022-07-28T18:54:18.825\"\n",
    "t_end_aberr = Time(t_end_aberr_accum, format=\"isot\", scale=\"utc\")\n",
    "\n",
    "reset = 1"
   ]
  },
  {
   "cell_type": "markdown",
   "metadata": {},
   "source": [
    "---\n",
    "## Helper Functions"
   ]
  },
  {
   "cell_type": "code",
   "execution_count": null,
   "metadata": {
    "tags": []
   },
   "outputs": [],
   "source": [
    "async def get_data_from_efd(start, end):\n",
    "    \"\"\"\n",
    "    Retrieves data relevant for analysis.\n",
    "    \n",
    "    Parameters\n",
    "    ----------\n",
    "    start : str or datetime\n",
    "        Start of the time-window.\n",
    "    end : str or datetime \n",
    "        End of the time-window.\n",
    "    \"\"\"\n",
    "    \n",
    "    _df_mount_el = await client.select_time_series(\n",
    "        \"lsst.sal.MTMount.elevation\", \n",
    "        fields=\"actualPosition\", \n",
    "        start=start, \n",
    "        end=end,\n",
    "    )\n",
    "    \n",
    "    _df_m1m3_z28 = await client.select_time_series(\n",
    "        \"lsst.sal.MTM1M3.forceActuatorData\",\n",
    "        fields=\"zForce28\",\n",
    "        start=start, \n",
    "        end=end,\n",
    "    )\n",
    "        \n",
    "    # M2 B1?\n",
    "    _df_m2 = await client.select_time_series(\n",
    "        \"lsst.sal.MTM2.axialForce\",\n",
    "        fields=[\n",
    "            \"applied0\",\n",
    "            \"lutGravity0\",\n",
    "            \"measured0\"\n",
    "        ],\n",
    "        start=start, \n",
    "        end=end,\n",
    "    )\n",
    "    \n",
    "    # CamHex Z position\n",
    "    _df_camhex = await client.select_time_series(\n",
    "        \"lsst.sal.MTHexapod.application\",\n",
    "        fields=[\n",
    "            \"position2\"\n",
    "        ],\n",
    "        index=1,\n",
    "        start=start, \n",
    "        end=end,\n",
    "    )\n",
    "    \n",
    "    # M2Hex Z position\n",
    "    _df_m2hex = await client.select_time_series(\n",
    "        \"lsst.sal.MTHexapod.application\",\n",
    "        fields=[\n",
    "            \"position2\"\n",
    "        ],\n",
    "        index=2,\n",
    "        start=start, \n",
    "        end=end,\n",
    "    )\n",
    "\n",
    "    # Rename columns\n",
    "    _df_mount_el.rename(columns={\"actualPosition\": \"mount_el\"}, inplace=True)\n",
    "    _df_m1m3_z28.rename(columns={\"zForce28\": \"m1m3_z28\"}, inplace=True)\n",
    "    _df_m2.rename(columns={\"applied0\": \"m2b1_applied\", \"lutGravity0\": \"m2b1_gravLut\", \"measured0\": \"m2b1_measured\"}, inplace=True)\n",
    "    _df_camhex.rename(columns={\"position2\": \"camhex_z\"}, inplace=True)\n",
    "    _df_m2hex.rename(columns={\"position2\": \"m2hex_z\"}, inplace=True)\n",
    "\n",
    "    \n",
    "    # Join dataframes\n",
    "    _df = _df_mount_el\n",
    "    \n",
    "    _df = pd.merge(\n",
    "        _df, \n",
    "        _df_m1m3_z28, \n",
    "        left_index=True, \n",
    "        right_index=True, \n",
    "        how=\"outer\"\n",
    "    )\n",
    "         \n",
    "    _df = pd.merge(\n",
    "        _df, \n",
    "        _df_m2, \n",
    "        left_index=True, \n",
    "        right_index=True, \n",
    "        how=\"outer\"\n",
    "    )\n",
    "    \n",
    "    _df = pd.merge(\n",
    "        _df, \n",
    "        _df_camhex, \n",
    "        left_index=True, \n",
    "        right_index=True, \n",
    "        how=\"outer\"\n",
    "    )\n",
    "\n",
    "    _df = pd.merge(\n",
    "        _df, \n",
    "        _df_m2hex, \n",
    "        left_index=True, \n",
    "        right_index=True, \n",
    "        how=\"outer\"\n",
    "    )\n",
    "    \n",
    "    return _df"
   ]
  },
  {
   "cell_type": "code",
   "execution_count": null,
   "metadata": {},
   "outputs": [],
   "source": [
    "async def get_track_info(start_time, end_time):\n",
    "    \n",
    "    \"\"\"\n",
    "    Retrieves tracking information for each slew returning StartTracking, StopTracking and moveToTarget times.\n",
    "    \n",
    "    Parameters\n",
    "    ----------\n",
    "    start_time : str or datetime\n",
    "        Start of the time-window.\n",
    "    end_time : str or datetime \n",
    "        End of the time-window.\n",
    "    \"\"\"\n",
    "    \n",
    "    moveToTarget_times = []\n",
    "    \n",
    "    startTracking_times = await client.select_time_series(\n",
    "        'lsst.sal.MTMount.command_startTracking', \n",
    "        ['*'], \n",
    "        start_time, \n",
    "        end_time\n",
    "    )\n",
    "\n",
    "    stopTracking_times = await client.select_time_series(\n",
    "        'lsst.sal.MTMount.command_stopTracking', \n",
    "        ['*'], \n",
    "        start_time, \n",
    "        end_time\n",
    "    )\n",
    "\n",
    "    _move = await client.select_time_series(\n",
    "        'lsst.sal.MTMount.command_moveToTarget', \n",
    "        ['*'], \n",
    "        start_time, \n",
    "        end_time\n",
    "    )  \n",
    "\n",
    "    for track in tracks:\n",
    "        # Find the time of the first moveToTarget command for each of the slews\n",
    "        if track ==0:\n",
    "            move_time = _move[(_move.index <= startTracking_times.index[track])].index[0]\n",
    "        else: \n",
    "            move_time = _move[(_move.index >= stopTracking_times.index[track-1]) \n",
    "                                        & (_move.index <= startTracking_times.index[track])].index[0]\n",
    "        \n",
    "        moveToTarget_times.append(move_time)\n",
    "        \n",
    "    return startTracking_times, stopTracking_times, moveToTarget_times"
   ]
  },
  {
   "cell_type": "code",
   "execution_count": null,
   "metadata": {},
   "outputs": [],
   "source": [
    "async def build_m1m3_snapshot_series(start, end):\n",
    "    fel = await client.select_time_series(\n",
    "        \"lsst.sal.MTM1M3.logevent_appliedElevationForces\", \n",
    "        \"*\", \n",
    "        start,\n",
    "        end)\n",
    "\n",
    "    fba = await client.select_time_series(\n",
    "        \"lsst.sal.MTM1M3.logevent_appliedBalanceForces\", \n",
    "        \"*\",\n",
    "        start,\n",
    "        end)\n",
    "\n",
    "    fst = await client.select_time_series(\n",
    "        \"lsst.sal.MTM1M3.logevent_appliedStaticForces\",\n",
    "        \"*\",\n",
    "        start,\n",
    "        end)\n",
    "\n",
    "    fao = await client.select_time_series(\n",
    "        \"lsst.sal.MTM1M3.logevent_appliedActiveOpticForces\",\n",
    "        \"*\", \n",
    "        start,\n",
    "        end)\n",
    "    \n",
    "    fad = await client.select_time_series(\n",
    "        \"lsst.sal.MTM1M3.forceActuatorData\", \n",
    "        \"*\", \n",
    "        start,\n",
    "        end)\n",
    "    \n",
    "    el = await client.select_time_series(\n",
    "        \"lsst.sal.MTMount.elevation\",\n",
    "        \"*\", \n",
    "        start,\n",
    "        end)\n",
    "\n",
    "    labels = [\n",
    "        \"appliedElevationForces\", \n",
    "        \"appliedBalanceForces\", \n",
    "        \"appliedStaticForces\",\n",
    "        \"appliedActiveOpticForces\",\n",
    "        \"ForceActuatorData\"\n",
    "    ]\n",
    "    \n",
    "    return fel,fba,fst,fao,fad,el,labels"
   ]
  },
  {
   "cell_type": "code",
   "execution_count": null,
   "metadata": {},
   "outputs": [],
   "source": [
    "async def build_m2_snapshot_series(start, end):\n",
    "\n",
    "    axf = await client.select_time_series(\n",
    "        \"lsst.sal.MTM2.axialForce\", \n",
    "        \"*\",\n",
    "        start,\n",
    "        end)\n",
    "\n",
    "    taf = await client.select_time_series(\n",
    "        \"lsst.sal.MTM2.tangentForce\", \n",
    "        \"*\",\n",
    "        start,\n",
    "        end)\n",
    "\n",
    "    cof = await client.select_time_series(\n",
    "        \"lsst.sal.MTM2.command_applyForces\",\n",
    "        \"*\", \n",
    "        start,\n",
    "        end)\n",
    "    \n",
    "    el = await client.select_time_series(\n",
    "        \"lsst.sal.MTMount.elevation\",\n",
    "        \"*\", \n",
    "        start,\n",
    "        end)\n",
    "    \n",
    "    labels = cols = [\n",
    "    # \"applied\", \n",
    "    # \"hardpointCorrection\", \n",
    "    \"lutGravity\", \n",
    "    # \"lutTemperature\", \n",
    "    \"measured\"\n",
    "    ]\n",
    "    \n",
    "    \n",
    "    return axf, taf, cof, el, labels "
   ]
  },
  {
   "cell_type": "code",
   "execution_count": null,
   "metadata": {},
   "outputs": [],
   "source": [
    "async def get_hex_positions(start,end, ind): # From the XML:\n",
    "    #   Actual MTHexapod position, in order (X, Y, Z, U, V, W). \n",
    "    #   Linear positions are in microns, angular positions are in degrees.\n",
    "    pos = await client.select_time_series(\n",
    "        \"lsst.sal.MTHexapod.application\",\n",
    "        \"*\",\n",
    "        start,\n",
    "        end,\n",
    "        index=ind\n",
    "    )\n",
    "\n",
    "    # Unravel in x/y/z/u/v/w\n",
    "    for i, col in enumerate(\"xyzuvw\"):\n",
    "        pos[col] = pos[f\"position{i}\"]\n",
    "\n",
    "\n",
    "    # Triggered at the end of a slew\n",
    "    cpos = await client.select_time_series(\n",
    "        \"lsst.sal.MTHexapod.logevent_compensatedPosition\",\n",
    "        \"*\",\n",
    "        start,\n",
    "        end,\n",
    "        index=ind\n",
    "    )\n",
    "\n",
    "    # Triggered only after move/offset. Should not see much. \n",
    "    upos = await client.select_time_series(\n",
    "        \"lsst.sal.MTHexapod.logevent_uncompensatedPosition\",\n",
    "        \"*\",\n",
    "        start,\n",
    "        end,\n",
    "        index=ind\n",
    "    ) \n",
    "    \n",
    "    el = await client.select_time_series(\n",
    "        \"lsst.sal.MTMount.elevation\",\n",
    "        \"*\", \n",
    "        start,\n",
    "        end)\n",
    "    \n",
    "    return pos, cpos, upos, el"
   ]
  },
  {
   "cell_type": "markdown",
   "metadata": {
    "tags": []
   },
   "source": [
    "----\n",
    "## Define tracks and get information for each track (MoveToTarget, StartTracking, StopTracking) and the times at which MTAOS corrections were issued. "
   ]
  },
  {
   "cell_type": "code",
   "execution_count": null,
   "metadata": {},
   "outputs": [],
   "source": [
    "tracks = [0,1,2,3]\n",
    "aberrations = ['Focus', 'Astigmatism', 'Coma', 'Trefoil']"
   ]
  },
  {
   "cell_type": "markdown",
   "metadata": {},
   "source": [
    "The cell below gets the required information for each track from the mount, such as when it started tracking, stopped tracking and when was it commanded to slew (first moveToTarget) "
   ]
  },
  {
   "cell_type": "code",
   "execution_count": null,
   "metadata": {},
   "outputs": [],
   "source": [
    "startTracking_without, stopTracking_without, move_without = await get_track_info(t_start, t_end)\n",
    "startTracking_withaberr, stopTracking_withaberr, move_withaberr = await get_track_info(t_start_aberr, t_end_aberr)"
   ]
  },
  {
   "cell_type": "markdown",
   "metadata": {
    "jp-MarkdownHeadingCollapsed": true,
    "tags": []
   },
   "source": [
    "Querying EFD times at which MTAOS corrections were issued in the test where aberrations were commanded. "
   ]
  },
  {
   "cell_type": "code",
   "execution_count": null,
   "metadata": {},
   "outputs": [],
   "source": [
    "corrections_issued = await client.select_time_series(\n",
    "    'lsst.sal.MTAOS.logevent_m1m3Correction', \n",
    "    [\"zForces28\"],       \n",
    "    t_start_aberr, \n",
    "    t_end_aberr\n",
    ")"
   ]
  },
  {
   "cell_type": "markdown",
   "metadata": {},
   "source": [
    "---\n",
    "## Plot optics vs time for each test. "
   ]
  },
  {
   "cell_type": "markdown",
   "metadata": {},
   "source": [
    "Query telemetry"
   ]
  },
  {
   "cell_type": "code",
   "execution_count": null,
   "metadata": {},
   "outputs": [],
   "source": [
    "df_without = await get_data_from_efd(t_start, t_end)\n",
    "\n",
    "df_aberr = await get_data_from_efd(t_start_aberr, t_end_aberr)\n"
   ]
  },
  {
   "cell_type": "code",
   "execution_count": null,
   "metadata": {
    "tags": []
   },
   "outputs": [],
   "source": [
    "# Without aberrations\n",
    "fig, axs = plt.subplots(figsize=(20, 12.5), nrows=5, sharex=True)\n",
    "\n",
    "axs[0].plot(df_without[\"mount_el\"].dropna(), \"C6o-\", label=\"Mount Elevation\")\n",
    "axs[0].set_ylabel(\"Mount El\\n[deg]\")\n",
    "\n",
    "axs[1].plot(df_without[\"m1m3_z28\"].dropna(), \"C7*-\", label=\"M1M3 zForce28\")\n",
    "axs[1].set_ylabel(\"M1M3 z28 \\n Force [N]\")\n",
    " \n",
    "axs[2].plot(df_without[\"m2b1_measured\"].dropna(), \"C8v-\", label=\"M2 B1 Measured\")\n",
    "axs[2].set_ylabel(\"M2 B1 Measured \\n Force [N]\")\n",
    "\n",
    "axs[3].plot(df_without[\"camhex_z\"].dropna(), \"C4x-\", label=\"CamHex Z\")\n",
    "axs[3].set_ylabel(\"Cam Hexapod \\n Z Position [um]\")\n",
    "\n",
    "axs[4].plot(df_without[\"m2hex_z\"].dropna(), \"C5+-\", label=\"M2Hex Z\")\n",
    "axs[4].set_ylabel(\"M2 Hexapod \\n Z Position [um]\")\n",
    "\n",
    "for ax in axs:\n",
    "    ax.grid(\":\", alpha=0.5)\n",
    "    ax.legend()\n",
    "    for k in np.arange(len(startTracking_without)):\n",
    "        l_start = ax.axvline(x=startTracking_without.index[k],c=\"green\",linewidth=2,zorder=0, clip_on=False, ls = \"-.\")\n",
    "        l_stop = ax.axvline(x=stopTracking_without.index[k],c=\"red\",linewidth=2, zorder=0,clip_on=False, ls = \"-.\")\n",
    "        l_move = ax.axvline(x=(move_without[k]), c=\"blue\", ls = \":\")\n",
    "        \n",
    "fig.legend([l_start,l_stop,l_move],['StartTracking','StopTracking','MoveToTarget'], \n",
    "           ncol=3, loc='upper right', bbox_to_anchor=(1.0, 0.99))\n",
    "\n",
    "fig.suptitle(f\"{test_exec} - M1M3/M2/Hexs/Elevation vs Time - No AOS aberrations added\")\n",
    "fig.tight_layout(h_pad=0.5)\n",
    "fig.patch.set_facecolor('white')   \n",
    "\n",
    "fig.savefig(f\"plots/{test_exec}_m1m3_m2_hexs_el_vs_time_without.png\")\n",
    "plt.show()"
   ]
  },
  {
   "cell_type": "code",
   "execution_count": null,
   "metadata": {},
   "outputs": [],
   "source": [
    "# With aberration\n",
    "\n",
    "fig, axs = plt.subplots(figsize=(20, 12.5), nrows=5, sharex=True)\n",
    "\n",
    "axs[0].plot(df_aberr[\"mount_el\"].dropna(), \"C6o-\", label=\"Mount Elevation Aberr\")\n",
    "axs[0].set_ylabel(\"Mount El\\n[deg]\")\n",
    "\n",
    "axs[0].text(startTracking_withaberr.index[0]+timedelta(seconds=15), 83, 'Focus')\n",
    "axs[0].text(startTracking_withaberr.index[1]+timedelta(seconds=10), 83, 'Astigmatism')\n",
    "axs[0].text(startTracking_withaberr.index[2]+timedelta(seconds=10), 83, 'Y-Coma')\n",
    "axs[0].text(startTracking_withaberr.index[3]+timedelta(seconds=12), 83, 'Trefoil')\n",
    "\n",
    "axs[1].plot(df_aberr[\"m1m3_z28\"].dropna(), \"C7*-\", label=\"M1M3 zForce28 Aberr\")\n",
    "axs[1].set_ylabel(\"M1M3 z28 \\n Force [N]\")\n",
    "\n",
    "axs[2].plot(df_aberr[\"m2b1_measured\"].dropna(), \"C8v-\", label=\"M2 B1 Measured Aberr\")\n",
    "axs[2].set_ylabel(\"M2 B1 Measured \\n Force [N]\")\n",
    "\n",
    "axs[3].plot(df_aberr[\"camhex_z\"].dropna(), \"C4x-\", label=\"CamHex Z Aberr\")\n",
    "axs[3].set_ylabel(\"Cam Hexapod \\n Z Position [um]\")\n",
    "\n",
    "axs[4].plot(df_aberr[\"m2hex_z\"].dropna(), \"C5+-\", label=\"M2Hex Z Aberr\")\n",
    "axs[4].set_ylabel(\"M2 Hexapod \\n Z Position [um]\")\n",
    "\n",
    "\n",
    "for ax in axs:\n",
    "    ax.grid(\":\", alpha=0.5)\n",
    "    ax.legend()\n",
    "    for track in np.arange(len(startTracking_without)):\n",
    "        l_start = ax.axvline(x=startTracking_withaberr.index[track],c=\"green\", ls = \"-.\")\n",
    "        l_stop = ax.axvline(x=stopTracking_withaberr.index[track],c=\"red\",ls = \"-.\")\n",
    "        l_move = ax.axvline(x=(move_withaberr[track]), c=\"blue\", ls = \":\")\n",
    "        l_aos = ax.axvline(x=corrections_issued.index[track*reset],c=\"cyan\",ls = \"--\")\n",
    "        \n",
    "fig.legend([l_start,l_stop,l_move,l_aos],['StartTracking','StopTracking','MoveToTarget','ApplyCorrections'], ncol=4, loc='upper right', bbox_to_anchor=(1.0, 0.99))\n",
    "\n",
    "\n",
    "fig.suptitle(f\"{test_exec} - M1M3/M2/Hexs/Elevation with AOS added aberrations\")\n",
    "fig.tight_layout(h_pad=0.3)\n",
    "fig.patch.set_facecolor('white')   \n",
    "\n",
    "fig.savefig(f\"plots/{test_exec}_m1m3_m2_hexs_el_vs_time_with_aberr.png\")\n",
    "plt.show()"
   ]
  },
  {
   "cell_type": "markdown",
   "metadata": {
    "tags": []
   },
   "source": [
    "---\n",
    "## Compare against the corrections sent by MTAOS. \n",
    "\n",
    "check the force and hexapod position differences between steps 10 and 12.\n",
    "\n",
    "Compare against the corrections sent by MTAOS. They should match."
   ]
  },
  {
   "cell_type": "markdown",
   "metadata": {},
   "source": [
    "Get the forces and hexapod positions approx. 1 second before moving to target for each track with \n",
    "and without aberrations. "
   ]
  },
  {
   "cell_type": "markdown",
   "metadata": {
    "tags": []
   },
   "source": [
    "---\n",
    "### M1 forces vs MTAOS corrections"
   ]
  },
  {
   "cell_type": "markdown",
   "metadata": {},
   "source": [
    "Get M1M3 corrections"
   ]
  },
  {
   "cell_type": "code",
   "execution_count": null,
   "metadata": {
    "tags": []
   },
   "outputs": [],
   "source": [
    "m1m3_correction = await client.select_time_series(\n",
    "    'lsst.sal.MTAOS.logevent_m1m3Correction', \n",
    "    [f\"zForces{i}\" for i in range(156)],       \n",
    "    t_start_aberr, \n",
    "    t_end_aberr\n",
    ")\n",
    "m1m3_correction.columns = m1m3_correction.columns.str.replace('zForces', 'zForce')"
   ]
  },
  {
   "cell_type": "markdown",
   "metadata": {},
   "source": [
    "Get data \n"
   ]
  },
  {
   "cell_type": "code",
   "execution_count": null,
   "metadata": {},
   "outputs": [],
   "source": [
    "fel_aberr, fba_aberr, fst_aberr, fao_aberr, fad_aberr, el_aberr, labels_aberr = await build_m1m3_snapshot_series(t_start_aberr, t_end_aberr)\n",
    "fel, fba, fst, fao, fad, el, labels = await build_m1m3_snapshot_series(t_start, t_end)\n"
   ]
  },
  {
   "cell_type": "markdown",
   "metadata": {},
   "source": [
    "M1M3 Timeline"
   ]
  },
  {
   "cell_type": "code",
   "execution_count": null,
   "metadata": {},
   "outputs": [],
   "source": [
    "fig, axs = plt.subplot_mosaic(\n",
    "    mosaic=\"A\",\n",
    "    num=\"Slew Without Correction - Snapshot Forces\", \n",
    "    constrained_layout=True,\n",
    "    dpi=120,\n",
    "    figsize=(12, 3),\n",
    ")\n",
    "\n",
    "fig.suptitle(\"M1M3 Timeline - Without Aberrations\")\n",
    "_ = vandv.m1m3.timeline_zforces(axs[\"A\"], fad, \"zForce\", elevation=el)"
   ]
  },
  {
   "cell_type": "code",
   "execution_count": null,
   "metadata": {},
   "outputs": [],
   "source": [
    "fig, axs = plt.subplot_mosaic(\n",
    "    mosaic=\"A\",\n",
    "    num=\"Slew With Correction - Snapshot Forces\", \n",
    "    constrained_layout=True,\n",
    "    dpi=120,\n",
    "    figsize=(12, 3),\n",
    ")\n",
    "\n",
    "fig.suptitle(\"M1M3 Timeline - With Aberrations\")\n",
    "_ = vandv.m1m3.timeline_zforces(axs[\"A\"], fad_aberr, \"zForce\", elevation=el_aberr)"
   ]
  },
  {
   "cell_type": "markdown",
   "metadata": {},
   "source": [
    "M1M3 Forces without and with Aberrations vs MTAOS corrections"
   ]
  },
  {
   "cell_type": "code",
   "execution_count": null,
   "metadata": {},
   "outputs": [],
   "source": [
    "for track,aberr in zip(tracks,aberrations):\n",
    "\n",
    "    fig, axs = plt.subplot_mosaic(\n",
    "    mosaic=\"ABCD\\nEFGH\\nIJKL\",\n",
    "    num=\"Slew Without Correction - Snapshot zForces Overview\", \n",
    "    constrained_layout=False,\n",
    "    dpi=120,\n",
    "    figsize=(15, 10)\n",
    "    )\n",
    "\n",
    "    fig.suptitle(f\"{test_exec} M1M3 Forces without and with 1um {aberr} aberration. \\n Force difference vs MTAOS corrections\")\n",
    "\n",
    "    #With aberration\n",
    "\n",
    "    series_aberr = [df_aberr[df_aberr.index < move_withaberr[track]].iloc[-10] for df_aberr in [fel_aberr, fba_aberr, fst_aberr, fao_aberr]]\n",
    "\n",
    "    for ax, s, label in zip(\"EFGH\", series_aberr, labels_aberr):\n",
    "        _ = vandv.m1m3.snapshot_zforces_overview(axs[ax], s, title=f'with added 1 um of {aberr}')\n",
    "\n",
    "    # Without \n",
    "\n",
    "    series = [df[df.index < move_without[track]].iloc[-10] for df in [fel, fba, fst, fao]]\n",
    "\n",
    "    for ax, s, label in zip(\"ABCD\", series, labels):\n",
    "        _ = vandv.m1m3.snapshot_zforces_overview(axs[ax], s, title=f'{label} \\n with no aberration')\n",
    "        \n",
    "    # Plot the m1m3 correction values \n",
    "    \n",
    "    _ = vandv.m1m3.snapshot_zforces_overview(axs['I'], m1m3_correction.iloc[track*reset], title = 'MTAOS commanded \\n corrections')\n",
    "    \n",
    "    # Plot the difference in Actuator Data between the tracks with aberration and without\n",
    "    \n",
    "    forces_aberr = fad_aberr[fad_aberr.index < move_withaberr[track]].iloc[-10]  \n",
    "    forces_without = fad[fad.index < move_without[track]].iloc[-10]\n",
    "    \n",
    "    cols = [c for c in forces_without.index if 'zForce' in c]\n",
    "    \n",
    "    difference_actuators = forces_aberr[cols] - forces_without[cols]\n",
    "\n",
    "            \n",
    "    _ = vandv.m1m3.snapshot_zforces_overview(axs['J'], difference_actuators, title = 'Actual Force Actuator Difference \\n (w - wo) Aberration')\n",
    "\n",
    "    # Difference between commanded correction and the actuator difference. \n",
    "    \n",
    "    \n",
    "    diff = difference_actuators[cols] - m1m3_correction.iloc[track*reset][cols]\n",
    "\n",
    "    _ = vandv.m1m3.snapshot_zforces_overview(axs['K'], diff, title = '(Actual - Commanded) ')\n",
    "    \n",
    "    \n",
    "    diff_perc = (difference_actuators[cols] - m1m3_correction.iloc[track*reset][cols])/m1m3_correction.iloc[track*reset][cols]\n",
    "\n",
    "    _ = vandv.m1m3.snapshot_zforces_overview(axs['L'], diff_perc, title = '(Actual - Commanded)/Commanded \\n [%]')\n",
    "            \n",
    "    plt.show()"
   ]
  },
  {
   "cell_type": "markdown",
   "metadata": {},
   "source": [
    "We compare numerically actuators 129 and 101."
   ]
  },
  {
   "cell_type": "markdown",
   "metadata": {
    "toc-hr-collapsed": true
   },
   "source": [
    "---\n",
    "### M2 forces vs MTAOS corrections"
   ]
  },
  {
   "cell_type": "markdown",
   "metadata": {},
   "source": [
    "Get corrections"
   ]
  },
  {
   "cell_type": "code",
   "execution_count": null,
   "metadata": {},
   "outputs": [],
   "source": [
    "m2_correction = await client.select_time_series(\n",
    "    'lsst.sal.MTAOS.logevent_m2Correction', \n",
    "    [f\"zForces{i}\" for i in range(72)], \n",
    "    t_start_aberr, \n",
    "    t_end_aberr\n",
    ")\n",
    "# Change column names to match that of commanded forces, aka axial. \n",
    "m2_correction.columns = m2_correction.columns.str.replace(\"zForces\", \"measured\")"
   ]
  },
  {
   "cell_type": "markdown",
   "metadata": {},
   "source": [
    "Get M2 force data"
   ]
  },
  {
   "cell_type": "code",
   "execution_count": null,
   "metadata": {},
   "outputs": [],
   "source": [
    "axf, taf, cof, el, labels = await build_m2_snapshot_series(t_start, t_end)\n",
    "axf_aberr, taf_aberr, cof_aberr, el_aberr, labels_aberr = await build_m2_snapshot_series(t_start_aberr, t_end_aberr)"
   ]
  },
  {
   "cell_type": "markdown",
   "metadata": {},
   "source": [
    "M2 Timelines"
   ]
  },
  {
   "cell_type": "code",
   "execution_count": null,
   "metadata": {},
   "outputs": [],
   "source": [
    "fig, axs = plt.subplot_mosaic(\n",
    "    mosaic=\"A\\nB\\nC\\nD\\nE\\nF\\nG\",\n",
    "    num=\"M2\", \n",
    "    constrained_layout=True,\n",
    "    dpi=120,\n",
    "    figsize=(12, 12),\n",
    ")\n",
    "\n",
    "fig.suptitle(\"M2 Timeline  - Without Aberrations\")\n",
    "_ = vandv.m2.timeline_axial_forces(axs[\"A\"], axf, elevation=el)\n",
    "_ = vandv.m2.timeline_axial_forces(axs[\"B\"], axf, elevation=el, column=\"applied\")\n",
    "_ = vandv.m2.timeline_axial_forces(axs[\"C\"], axf, elevation=el, column=\"lutGravity\")\n",
    "\n",
    "cols = [\n",
    "    # \"applied\", \n",
    "    # \"hardpointCorrection\", \n",
    "    \"lutGravity\", \n",
    "    # \"lutTemperature\", \n",
    "    \"measured\"\n",
    "]\n",
    "\n",
    "_ = vandv.m2.timeline_axial_forces_per_act(axs[\"D\"], axf, elevation=el, act=\"B1\", cols=cols)\n",
    "_ = vandv.m2.timeline_axial_forces_per_act(axs[\"E\"], axf, elevation=el, act=\"B8\", cols=cols)\n",
    "_ = vandv.m2.timeline_axial_forces_per_act(axs[\"F\"], axf, elevation=el, act=\"B16\", cols=cols)\n",
    "_ = vandv.m2.timeline_axial_forces_per_act(axs[\"G\"], axf, elevation=el, act=\"B24\", cols=cols)"
   ]
  },
  {
   "cell_type": "code",
   "execution_count": null,
   "metadata": {},
   "outputs": [],
   "source": [
    "fig, axs = plt.subplot_mosaic(\n",
    "    mosaic=\"A\\nB\\nC\\nD\\nE\\nF\\nG\",\n",
    "    num=\"M2\", \n",
    "    constrained_layout=True,\n",
    "    dpi=120,\n",
    "    figsize=(12, 12),\n",
    ")\n",
    "\n",
    "fig.suptitle(\"M2 Timeline  - Per force - Without Aberrations\")\n",
    "_ = vandv.m2.timeline_axial_forces(axs[\"A\"], axf_aberr, elevation=el_aberr)\n",
    "_ = vandv.m2.timeline_axial_forces(axs[\"B\"], axf_aberr, elevation=el_aberr, column=\"applied\")\n",
    "_ = vandv.m2.timeline_axial_forces(axs[\"C\"], axf_aberr, elevation=el_aberr, column=\"lutGravity\")\n",
    "\n",
    "cols = [\n",
    "    # \"applied\", \n",
    "    # \"hardpointCorrection\", \n",
    "    \"lutGravity\", \n",
    "    # \"lutTemperature\", \n",
    "    \"measured\"\n",
    "]\n",
    "\n",
    "_ = vandv.m2.timeline_axial_forces_per_act(axs[\"D\"], axf_aberr, elevation=el_aberr, act=\"B1\", cols=cols)\n",
    "_ = vandv.m2.timeline_axial_forces_per_act(axs[\"E\"], axf_aberr, elevation=el_aberr, act=\"B8\", cols=cols)\n",
    "_ = vandv.m2.timeline_axial_forces_per_act(axs[\"F\"], axf_aberr, elevation=el_aberr, act=\"B16\", cols=cols)\n",
    "_ = vandv.m2.timeline_axial_forces_per_act(axs[\"G\"], axf_aberr, elevation=el_aberr, act=\"B24\", cols=cols)"
   ]
  },
  {
   "cell_type": "markdown",
   "metadata": {},
   "source": [
    "M2 Forces without and with Aberrations vs MTAOS corrections"
   ]
  },
  {
   "cell_type": "code",
   "execution_count": null,
   "metadata": {},
   "outputs": [],
   "source": [
    "for track,aberr in zip(tracks,aberrations):\n",
    "\n",
    "    fig, axs = plt.subplot_mosaic(\n",
    "    mosaic=\"ABC\\nDEF\\nGHI\",\n",
    "    num=\"Slew Without Correction - M2 All Actuators\", \n",
    "    constrained_layout=False,\n",
    "    dpi=120,\n",
    "    figsize=(12, 8),\n",
    "    )\n",
    "    fig.suptitle(f\"{test_exec} M2 Forces without and with 1um {aberr} aberration. Force difference vs MTAOS corrections\")\n",
    "\n",
    "    #With aberration\n",
    "\n",
    "    axf_aberr_track = axf_aberr[axf_aberr.index < move_withaberr[track]].iloc[0]\n",
    "    _ = vandv.m2.snapshot_zforces_overview(axs[\"D\"], axf_aberr_track, ms=150, fs=6, title = f\"With 1 um {aberr}\")\n",
    "    _ = vandv.m2.snapshot_zforces_overview(axs[\"E\"], axf_aberr_track, prefix=\"lutGravity\", ms=150, fs=6,title = f\"With 1 um {aberr}\")\n",
    "    _ = vandv.m2.snapshot_zforces_overview(axs[\"F\"], axf_aberr_track, prefix=\"applied\", ms=150, fs=6,title = f\"With 1 um {aberr}\")\n",
    "    \n",
    "\n",
    "    # Without \n",
    "\n",
    "    axf_track = axf[axf.index < move_without[track]].iloc[0]\n",
    "\n",
    "    _ = vandv.m2.snapshot_zforces_overview(axs[\"A\"], axf_track, ms=150, fs=6, title = \"Measured axial Forces \\n without Aberration\")\n",
    "    _ = vandv.m2.snapshot_zforces_overview(axs[\"B\"], axf_track, prefix=\"lutGravity\", ms=150, fs=6, title =\"LutGravity Axial Forces \\n without Aberration\")\n",
    "    _ = vandv.m2.snapshot_zforces_overview(axs[\"C\"], axf_track, prefix=\"applied\", ms=150, fs=6, title = \"Applied Axial Forces \\n without Aberration\")\n",
    "    \n",
    "    \n",
    "    # MTAOS corrections\n",
    "    _ = vandv.m2.snapshot_zforces_overview(axs[\"G\"], m2_correction.iloc[track*reset], ms=150, fs=6, title = \"MTAOS corrections\")\n",
    "    \n",
    "    # Measured Force\n",
    "    measured = [c for c in axf_track.index if 'measured' in c]\n",
    "    force_diff = axf_aberr_track[measured] - axf_track[measured]\n",
    "    \n",
    "    _ = vandv.m2.snapshot_zforces_overview(axs[\"H\"], force_diff, ms=150, fs=6, title = \"Actual Force Actuator Difference \\n (w - wo) Aberration\")\n",
    "\n",
    "    # Actual Force Difference - Commanded \n",
    "    \n",
    "    diff = force_diff - m2_correction.iloc[track*reset] \n",
    "    _ = vandv.m2.snapshot_zforces_overview(axs[\"I\"], force_diff, ms=150, fs=6, title = \"Actual - commanded\")\n",
    "\n",
    "\n",
    "    plt.show()\n"
   ]
  },
  {
   "cell_type": "code",
   "execution_count": null,
   "metadata": {},
   "outputs": [],
   "source": [
    "    axf_aberr_track = axf_aberr[axf_aberr.index < move_withaberr[track]]\n"
   ]
  },
  {
   "cell_type": "markdown",
   "metadata": {},
   "source": [
    "---\n",
    "### CamHex vs MTAOS corrections"
   ]
  },
  {
   "cell_type": "markdown",
   "metadata": {},
   "source": [
    "Get position data"
   ]
  },
  {
   "cell_type": "code",
   "execution_count": null,
   "metadata": {},
   "outputs": [],
   "source": [
    "pos, cpos, upos, el = await get_hex_positions(t_start, t_end, ind=1)\n",
    "pos_aberr, cpos_aberr, upos_aberr, el_aberr = await get_hex_positions(t_start_aberr, t_end_aberr, ind=1)"
   ]
  },
  {
   "cell_type": "code",
   "execution_count": null,
   "metadata": {},
   "outputs": [],
   "source": [
    "Get the MTAOS corrections \n"
   ]
  },
  {
   "cell_type": "code",
   "execution_count": null,
   "metadata": {},
   "outputs": [],
   "source": [
    "cam_hexapod_correction_applied_xyz = await client.select_time_series(\n",
    "    'lsst.sal.MTHexapod.logevent_uncompensatedPosition', \n",
    "    [\"x\", \"y\", \"z\", \"u\", \"v\" , \"w\"], \n",
    "    t_start_aberr, \n",
    "    t_end_aberr,\n",
    "    index=1\n",
    ")"
   ]
  },
  {
   "cell_type": "code",
   "execution_count": null,
   "metadata": {},
   "outputs": [],
   "source": [
    "CamHex Timelines"
   ]
  },
  {
   "cell_type": "code",
   "execution_count": null,
   "metadata": {},
   "outputs": [],
   "source": [
    "fig, axs = plt.subplot_mosaic(\n",
    "    mosaic=\"AD\\nBE\\nCF\",\n",
    "    num=\"CamHex Actual Position\", \n",
    "    dpi=120,\n",
    "    figsize=(14, 10),\n",
    "    tight_layout = True,\n",
    "    sharex=False,\n",
    ")\n",
    "\n",
    "cols = \"xyz\"\n",
    "for ax, col in zip(\"ABC\", cols):\n",
    "    _ = vandv.hexapod.timeline_position(\n",
    "        axs[ax], \n",
    "        [pos, cpos, upos], \n",
    "        column=col, \n",
    "        elevation=el, \n",
    "        symbols=[\"\", \"o\", \"s\"],\n",
    "        names=[\"Actual Position\", \"Compensated\", \"Uncompensated\"]\n",
    "    )\n",
    "\n",
    "for ax, col in zip(\"DEF\", cols):\n",
    "    _ = vandv.hexapod.timeline_position(\n",
    "        axs[ax], \n",
    "        [pos_aberr, cpos_aberr, upos_aberr], \n",
    "        column=col, \n",
    "        elevation=el_aberr, \n",
    "        symbols=[\"C0o-\", \"C1x\", \"C2*\"],\n",
    "        names=[\"Actual Position with Aberr\", \"Compensated with Aberr\", \"Uncompensated with Aberr\"]\n",
    "    )\n",
    "# Hide xlabel\n",
    "for i in \"ABDE\":\n",
    "    _ = axs[i].set_xlabel(\"\")\n",
    "     \n",
    "_ = axs[\"F\"].legend(loc='lower center', bbox_to_anchor=(0.7, -0.7), ncol=1)\n",
    "\n",
    "\n",
    "fig.suptitle(\"CamHex Timeline - Without and with Added Aberrations\")\n",
    "fig.autofmt_xdate()\n",
    "fig.tight_layout()"
   ]
  },
  {
   "cell_type": "markdown",
   "metadata": {},
   "source": [
    "CamHex Positions without and with Aberrations vs MTAOS corrections"
   ]
  },
  {
   "cell_type": "code",
   "execution_count": null,
   "metadata": {},
   "outputs": [],
   "source": [
    "# set width of bar\n",
    "barWidth = 0.25\n",
    "plt.figure(figsize=(16,10))\n",
    "plt.subplots_adjust(hspace=0.3)\n",
    "\n",
    "for track,aberr in zip(tracks,aberrations):\n",
    "    ax = plt.subplot(2,2,track+1)\n",
    "    \n",
    "    plt.title(f\"{test_exec} CamHex Position Difference vs MTAOS corrections\")\n",
    "    \n",
    "    pos_track = pos[pos.index < move_without[track]].iloc[-10]\n",
    "    pos_aberr_track = pos_aberr[pos_aberr.index < move_withaberr[track]].iloc[-10]\n",
    "\n",
    "    cols = ['x', 'y','z','u','v','w']\n",
    "    pos_difference = pos_aberr_track[cols] - pos_track[cols]\n",
    "    \n",
    "    ind = np.arange(6)\n",
    "    \n",
    "    plt.bar(ind, pos_difference.values, color ='blue', width = barWidth,\n",
    "        edgecolor ='grey', label ='Position difference')\n",
    "    plt.bar([x+barWidth for x in ind], cam_hexapod_correction_applied_xyz.iloc[track*reset], color='orange', \n",
    "            width = barWidth, label = \"CamHex MTAOS corrections\")\n",
    "    \n",
    "    ax.set_xticks(ind, pos_difference.index)\n",
    "\n",
    "    ax.set_title(f'CamHex AOS Corrections vs Position Difference \\n with 1 um {aberr}', fontsize=11)\n",
    "    ax.grid(\":\", alpha=0.3)\n",
    "\n",
    "    \n",
    "ax.legend(ncol=1, bbox_to_anchor=(1.7,2.5), fontsize=12)\n",
    "plt.show()"
   ]
  },
  {
   "cell_type": "markdown",
   "metadata": {
    "tags": []
   },
   "source": [
    "---\n",
    "### M2Hex vs MTAOS corrections"
   ]
  },
  {
   "cell_type": "markdown",
   "metadata": {},
   "source": [
    "Get data"
   ]
  },
  {
   "cell_type": "code",
   "execution_count": null,
   "metadata": {},
   "outputs": [],
   "source": [
    "pos, cpos, upos, el = await get_hex_positions(t_start, t_end, ind=2)\n",
    "pos_aberr, cpos_aberr, upos_aberr, el_aberr = await get_hex_positions(t_start_aberr, t_end_aberr, ind=2)"
   ]
  },
  {
   "cell_type": "markdown",
   "metadata": {},
   "source": [
    "Get the MTAOS corrections \n"
   ]
  },
  {
   "cell_type": "code",
   "execution_count": null,
   "metadata": {},
   "outputs": [],
   "source": [
    "m2_hexapod_correction_applied_xyz = await client.select_time_series(\n",
    "    'lsst.sal.MTHexapod.logevent_uncompensatedPosition', \n",
    "    [\"x\", \"y\", \"z\", \"u\", \"v\" , \"w\"], \n",
    "    t_start_aberr, \n",
    "    t_end_aberr,\n",
    "    index=2\n",
    ")"
   ]
  },
  {
   "cell_type": "markdown",
   "metadata": {},
   "source": [
    "M2Hex Timeline"
   ]
  },
  {
   "cell_type": "code",
   "execution_count": null,
   "metadata": {},
   "outputs": [],
   "source": [
    "fig, axs = plt.subplot_mosaic(\n",
    "    mosaic=\"AD\\nBE\\nCF\",\n",
    "    num=\"M2Hex Actual Position\", \n",
    "    dpi=120,\n",
    "    figsize=(14, 10),\n",
    "    tight_layout = True,\n",
    "    sharex=False,\n",
    ")\n",
    "\n",
    "cols = \"xyz\"\n",
    "for ax, col in zip(\"ABC\", cols):\n",
    "    _ = vandv.hexapod.timeline_position(\n",
    "        axs[ax], \n",
    "        [pos, cpos, upos], \n",
    "        column=col, \n",
    "        elevation=el, \n",
    "        symbols=[\"\", \"o\", \"s\"],\n",
    "        names=[\"Actual Position\", \"Compensated\", \"Uncompensated\"]\n",
    "    )\n",
    "\n",
    "for ax, col in zip(\"DEF\", cols):\n",
    "    _ = vandv.hexapod.timeline_position(\n",
    "        axs[ax], \n",
    "        [pos_aberr, cpos_aberr, upos_aberr], \n",
    "        column=col, \n",
    "        elevation=el_aberr, \n",
    "        symbols=[\"C0o-\", \"C1x\", \"C2*\"],\n",
    "        names=[\"Actual Position with Aberr\", \"Compensated with Aberr\", \"Uncompensated with Aberr\"]\n",
    "    )\n",
    "# Hide xlabel\n",
    "for i in \"ABDE\":\n",
    "    _ = axs[i].set_xlabel(\"\")\n",
    "    \n",
    "\n",
    "    \n",
    "_ = axs[\"F\"].legend(loc='lower center', bbox_to_anchor=(0.7, -0.7), ncol=1)\n",
    "\n",
    "\n",
    "fig.suptitle(\"M2Hex Timeline - Without and with Added Aberrations\")\n",
    "fig.autofmt_xdate()\n",
    "fig.tight_layout()"
   ]
  },
  {
   "cell_type": "markdown",
   "metadata": {},
   "source": [
    "M2Hex Positions without and with Aberrations vs MTAOS corrections"
   ]
  },
  {
   "cell_type": "code",
   "execution_count": null,
   "metadata": {},
   "outputs": [],
   "source": [
    "# set width of bar\n",
    "barWidth = 0.25\n",
    "plt.figure(figsize=(16,10))\n",
    "plt.subplots_adjust(hspace=0.3)\n",
    "\n",
    "for track,aberr in zip(tracks,aberrations):\n",
    "    ax = plt.subplot(2,2,track+1)\n",
    "    \n",
    "    #plt.title(f\"{test_exec} M2 Position Difference vs MTAOS corrections\")\n",
    "    \n",
    "    pos_track = pos[pos.index < move_without[track]].iloc[-3]\n",
    "    pos_aberr_track = pos_aberr[pos_aberr.index < move_withaberr[track]].iloc[-3]\n",
    "\n",
    "    cols = ['x', 'y','z','u','v','w']\n",
    "    pos_difference = pos_aberr_track[cols] - pos_track[cols]\n",
    "    \n",
    "    ind = np.arange(6)\n",
    "    \n",
    "    plt.bar(ind, pos_difference.values, color ='blue', width = barWidth,\n",
    "        edgecolor ='grey', label ='Position difference')\n",
    "    plt.bar([x+barWidth for x in ind], m2_hexapod_correction_applied_xyz.iloc[track*reset], color='orange', \n",
    "            width = barWidth, label = \"M2 MTAOS corrections\")\n",
    "    \n",
    "    ax.set_xticks(ind, pos_difference.index)\n",
    "\n",
    "    ax.set_title(f'M2Hex AOS Corrections vs Position Difference \\n with 1 um {aberr}', fontsize=11)\n",
    "    ax.grid(\":\", alpha=0.3)\n",
    "\n",
    "    \n",
    "ax.legend(ncol=1, bbox_to_anchor=(1.6,2.5), fontsize=12)\n",
    "plt.show()\n",
    "        "
   ]
  }
 ],
 "metadata": {
  "kernelspec": {
   "display_name": "LSST",
   "language": "python",
   "name": "lsst"
  },
  "language_info": {
   "codemirror_mode": {
    "name": "ipython",
    "version": 3
   },
   "file_extension": ".py",
   "mimetype": "text/x-python",
   "name": "python",
   "nbconvert_exporter": "python",
   "pygments_lexer": "ipython3",
   "version": "3.10.5"
  },
  "toc-showmarkdowntxt": false
 },
 "nbformat": 4,
 "nbformat_minor": 4
}
