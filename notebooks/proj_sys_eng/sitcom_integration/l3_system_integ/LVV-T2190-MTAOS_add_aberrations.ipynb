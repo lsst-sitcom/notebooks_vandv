{
 "cells": [
  {
   "cell_type": "markdown",
   "id": "591ab664",
   "metadata": {},
   "source": [
    "# [LVV-T2190 (v1.0)] MTAOS add aberrations to M1M3+M2+Hexapods\n",
    "\n",
    "This notebook is used to execute the [LVV-T2190 (v1.0)] test script during System Spread Integration Tests on Level 3.  \n",
    "Execution steps are separated by horizontal lines.   \n",
    "Upon completion, save the notebook and its output as a pdf file to be attached to the test execution in JIRA.  \n",
    "\n",
    "**Requirements:**\n",
    " - All the MT components should be enabled.\n",
    " \n",
    "**Make sure you run this notebook on TTS before running at the summit.**\n",
    "\n",
    "Please, see the [README] file for the requirements to run this notebook.\n",
    "The log messages printed in this notebook are stored in the EFD Script using the `TTTTMMDD` format, where `TTTT` are the four last digits of the test case, `MM` is the 0-padded month, and `DD` is the 0-padded day of execution.\n",
    "\n",
    "[LVV-T2190 (v1.0)]: https://jira.lsstcorp.org/secure/Tests.jspa#/testCase/LVV-T2190\n",
    "[README]: https://github.com/lsst-sitcom/notebooks_vandv/blob/develop/README.md"
   ]
  },
  {
   "cell_type": "markdown",
   "id": "6f6476a9",
   "metadata": {},
   "source": [
    "***"
   ]
  },
  {
   "cell_type": "markdown",
   "id": "b0cf9364",
   "metadata": {},
   "source": [
    "## Prepare the environment\n",
    "\n",
    "Load all the needed libraries.\n",
    "Get the remotes ready\n",
    "Code in the notebook including section: \"Check the summary state of each CSC\"."
   ]
  },
  {
   "cell_type": "code",
   "execution_count": null,
   "id": "f4f15381-c2f8-4716-9586-1d6075a21ed5",
   "metadata": {},
   "outputs": [],
   "source": [
    "test_case = \"LVV-T2190\"\n",
    "test_exec = \"LVV-EXXXX\""
   ]
  },
  {
   "cell_type": "code",
   "execution_count": null,
   "id": "ef00e241",
   "metadata": {},
   "outputs": [],
   "source": [
    "%load_ext autoreload\n",
    "%autoreload 2\n",
    "\n",
    "import os\n",
    "import sys\n",
    "import asyncio\n",
    "import logging\n",
    "\n",
    "import pandas as pd\n",
    "import numpy as np\n",
    "\n",
    "from astropy import time\n",
    "from lsst.ts import utils\n",
    "\n",
    "from lsst.ts import salobj\n",
    "from lsst.ts.observatory.control.maintel import MTCS, ComCam\n",
    "from lsst.ts.observatory.control import RotType\n",
    "\n",
    "from lsst.sitcom import vandv"
   ]
  },
  {
   "cell_type": "code",
   "execution_count": null,
   "id": "3ffa80fb-6d04-4010-bfb3-ea63d1371787",
   "metadata": {},
   "outputs": [],
   "source": [
    "exec_info = vandv.ExecutionInfo()\n",
    "print(exec_info)"
   ]
  },
  {
   "cell_type": "markdown",
   "id": "a6c69035-3357-4d98-ba3e-ad0ad0701898",
   "metadata": {},
   "source": [
    "Use the `maintel/setup_mtcs.py` script in LOVE or the [LVV-T2344] to test case and notebook to setup all the main telescope components.  \n",
    "This includes simulators as well as real hardware when available (this will depend on when the test is conducted at TTS or on level 3 or on the telescope):  \n",
    "\n",
    "- pointing  \n",
    "- mount ( with the CCW)  \n",
    "- rotator  \n",
    "- ready M1M3: raise mirror, turn on FB, clear forces. Note that if used at level 3, we need to have M1M3 LUT use mount telemetry  \n",
    "- ready M2: turn on FB, clear forces. Note that if used at level 3, we need to have M2 LUT use mount telemetry  \n",
    "- Get cam hex Ready: check config; make sure LUT is on and has valid inputs; make sure hex is at LUT position  \n",
    "- Get M2 hex (simulator) Ready: check config; make sure LUT is on and has valid inputs; make sure hex is at LUT position  \n",
    "- Finally, get the MTAOS CSC ready  \n",
    "\n",
    "[LVV-T2344]: https://jira.lsstcorp.org/secure/Tests.jspa#/testCase/LVV-T2344"
   ]
  },
  {
   "cell_type": "code",
   "execution_count": null,
   "id": "8776dfda",
   "metadata": {},
   "outputs": [],
   "source": [
    "logging.basicConfig(format=\"%(asctime)s %(name)s: %(message)s\", level=logging.DEBUG)"
   ]
  },
  {
   "cell_type": "code",
   "execution_count": null,
   "id": "7b3038c6",
   "metadata": {},
   "outputs": [],
   "source": [
    "log = logging.getLogger(\"setup\")\n",
    "log.level = logging.DEBUG"
   ]
  },
  {
   "cell_type": "code",
   "execution_count": null,
   "id": "25b3b0da",
   "metadata": {},
   "outputs": [],
   "source": [
    "os.environ[\"LSST_DDS_HISTORYSYNC\"] = \"200\"\n",
    "domain = salobj.Domain()\n",
    "print(f\"My user_host is {domain.user_host!r}\\n\")"
   ]
  },
  {
   "cell_type": "code",
   "execution_count": null,
   "id": "fae46ba6",
   "metadata": {},
   "outputs": [],
   "source": [
    "mtcs = MTCS(domain=domain, log=log)\n",
    "mtcs.set_rem_loglevel(logging.ERROR)"
   ]
  },
  {
   "cell_type": "code",
   "execution_count": null,
   "id": "349e8108",
   "metadata": {},
   "outputs": [],
   "source": [
    "await mtcs.start_task"
   ]
  },
  {
   "cell_type": "markdown",
   "id": "3ecfb7f9-f657-4df3-a60c-9faa82b395bf",
   "metadata": {},
   "source": [
    "Run the cell below to hide all the messages related to the DDS and have a cleaner notebook."
   ]
  },
  {
   "cell_type": "code",
   "execution_count": null,
   "id": "ae6f613d-f3bc-4ed5-8cb7-639950b45612",
   "metadata": {},
   "outputs": [],
   "source": [
    "vandv.logger.add_filter_to_mtcs()"
   ]
  },
  {
   "cell_type": "markdown",
   "id": "6d7ed706-7bcc-4d0b-b354-63792d7934ac",
   "metadata": {},
   "source": [
    "The `Script` CSC is used to record test checkpoints and allow to easy search in the EFD."
   ]
  },
  {
   "cell_type": "code",
   "execution_count": null,
   "id": "75c9fe3d-7c67-4978-ae99-1489d5d7576b",
   "metadata": {},
   "outputs": [],
   "source": [
    "script = salobj.Controller(\"Script\", index=vandv.get_index(test_case))\n",
    "await asyncio.sleep(10) \n",
    "\n",
    "script.start_task"
   ]
  },
  {
   "cell_type": "markdown",
   "id": "521c9d22",
   "metadata": {},
   "source": [
    "***"
   ]
  },
  {
   "cell_type": "markdown",
   "id": "d295489a-77fa-450d-9deb-a365f9e23899",
   "metadata": {},
   "source": [
    "## Ready M1M3\n",
    "\n",
    "- Raise mirror \n",
    "- Turn on FB \n",
    "- Clear forces\n",
    "- Need to have M1M3 LUT use its inclinometer.\n",
    "\n",
    "In principle, this should be done above when running the setup notebook or the setup script."
   ]
  },
  {
   "cell_type": "code",
   "execution_count": null,
   "id": "34ae86d6-7ccb-4527-bdb3-e2da845af082",
   "metadata": {},
   "outputs": [],
   "source": [
    "await mtcs.set_state(\n",
    "    state=salobj.State.ENABLED, \n",
    "    components=[\"mtm1m3\"],\n",
    "    overrides=dict(mtm1m3=\"Default\")\n",
    ")"
   ]
  },
  {
   "cell_type": "code",
   "execution_count": null,
   "id": "ee04d5a2-e62a-42f7-ac73-72c2123ee387",
   "metadata": {},
   "outputs": [],
   "source": [
    "await mtcs.raise_m1m3()"
   ]
  },
  {
   "cell_type": "code",
   "execution_count": null,
   "id": "f421ad54-de4a-47df-8f4b-448e4ed2d8a4",
   "metadata": {},
   "outputs": [],
   "source": [
    "await mtcs.enable_m1m3_balance_system()"
   ]
  },
  {
   "cell_type": "code",
   "execution_count": null,
   "id": "de2e97c9-2291-4cc2-ac8e-f26ba4576171",
   "metadata": {},
   "outputs": [],
   "source": [
    "await mtcs.reset_m1m3_forces()"
   ]
  },
  {
   "cell_type": "code",
   "execution_count": null,
   "id": "360da1db-d43e-4363-96b7-a953e28c9742",
   "metadata": {},
   "outputs": [],
   "source": [
    "script.log.info(f\"{test_case} - {test_exec} - M1M3 ready\")"
   ]
  },
  {
   "cell_type": "markdown",
   "id": "ef2e7074",
   "metadata": {},
   "source": [
    "***"
   ]
  },
  {
   "cell_type": "markdown",
   "id": "ab5ca585-a407-44e3-9a03-2d00f924da07",
   "metadata": {},
   "source": [
    "## Ready M2\n",
    "- Turn on FB\n",
    "- Clear forces\n",
    "- Need to have M2 LUT use its inclinometer\n",
    "\n",
    "In principle, this should be done above when running the setup notebook or the setup script."
   ]
  },
  {
   "cell_type": "code",
   "execution_count": null,
   "id": "83a644ff-8ae8-4d3f-b304-32208fdff149",
   "metadata": {},
   "outputs": [],
   "source": [
    "await mtcs.set_state(\n",
    "    state=salobj.State.ENABLED, \n",
    "    components=[\"mtm2\"],\n",
    ")"
   ]
  },
  {
   "cell_type": "code",
   "execution_count": null,
   "id": "24cbef09-b56b-4b40-a0b1-22b7650eca9c",
   "metadata": {},
   "outputs": [],
   "source": [
    "await mtcs.enable_m2_balance_system()"
   ]
  },
  {
   "cell_type": "code",
   "execution_count": null,
   "id": "d042035e-3910-4c5e-bd57-59fd4e0dc08b",
   "metadata": {},
   "outputs": [],
   "source": [
    "await mtcs.reset_m2_forces()"
   ]
  },
  {
   "cell_type": "code",
   "execution_count": null,
   "id": "f35547e3-f3c5-4b58-b7e3-7ae567818997",
   "metadata": {},
   "outputs": [],
   "source": [
    "script.log.info(f\"{test_case} - {test_exec} - M2 ready\")"
   ]
  },
  {
   "cell_type": "markdown",
   "id": "e8d57db0",
   "metadata": {},
   "source": [
    "***"
   ]
  },
  {
   "cell_type": "markdown",
   "id": "3108bc0e-89cc-43b9-9392-9d2d81c851d1",
   "metadata": {},
   "source": [
    "## Get CamHex ready\n",
    "- Check config; \n",
    "- Make sure LUT is on, and has valid inputs; \n",
    "- Make sure hex is at LUT position"
   ]
  },
  {
   "cell_type": "code",
   "execution_count": null,
   "id": "5a79fac8-7caf-4f2e-9765-498aa0c34afe",
   "metadata": {},
   "outputs": [],
   "source": [
    "await mtcs.set_state(\n",
    "    state=salobj.State.ENABLED, \n",
    "    components=[\"mthexapod_1\"],\n",
    ")"
   ]
  },
  {
   "cell_type": "code",
   "execution_count": null,
   "id": "fac6fae0-8961-45bc-b9ba-64c70a40baed",
   "metadata": {},
   "outputs": [],
   "source": [
    "await vandv.hexapod.get_hexapod_configuration(mtcs.rem.mthexapod_1)"
   ]
  },
  {
   "cell_type": "code",
   "execution_count": null,
   "id": "539dc40c-93e1-4307-a19b-2ee7d0e17440",
   "metadata": {},
   "outputs": [],
   "source": [
    "await vandv.hexapod.check_hexapod_lut(mtcs.rem.mthexapod_1)"
   ]
  },
  {
   "cell_type": "code",
   "execution_count": null,
   "id": "28c45da7-3c83-485e-9fec-f567a0e65483",
   "metadata": {},
   "outputs": [],
   "source": [
    "await mtcs.reset_camera_hexapod_position()"
   ]
  },
  {
   "cell_type": "code",
   "execution_count": null,
   "id": "5258d818-7759-412f-9ac2-5808d854b8e1",
   "metadata": {},
   "outputs": [],
   "source": [
    "await vandv.hexapod.print_hexapod_compensation_values(mtcs.rem.mthexapod_1)\n",
    "await vandv.hexapod.print_hexapod_position(mtcs.rem.mthexapod_1)"
   ]
  },
  {
   "cell_type": "code",
   "execution_count": null,
   "id": "527eee25-e52c-4f75-972b-8dd17d1f0ff0",
   "metadata": {},
   "outputs": [],
   "source": [
    "script.log.info(f\"{test_case} - {test_exec} - CamHex ready\")"
   ]
  },
  {
   "cell_type": "markdown",
   "id": "d0dbcf1d",
   "metadata": {},
   "source": [
    "***"
   ]
  },
  {
   "cell_type": "markdown",
   "id": "08a1a6ec-8f48-4a0b-8c3e-e9142f6ade1b",
   "metadata": {},
   "source": [
    "## Get CamHex ready\n",
    "- Check config; \n",
    "- Make sure LUT is on, and has valid inputs; \n",
    "- Make sure hex is at LUT position"
   ]
  },
  {
   "cell_type": "code",
   "execution_count": null,
   "id": "18af655f-a36d-42a2-a4eb-021bc57e6e04",
   "metadata": {},
   "outputs": [],
   "source": [
    "await mtcs.set_state(\n",
    "    state=salobj.State.ENABLED, \n",
    "    components=[\"mthexapod_1\"],\n",
    ")"
   ]
  },
  {
   "cell_type": "code",
   "execution_count": null,
   "id": "72dcf8c1-3f3a-40ad-89b8-6d3ad0c6554a",
   "metadata": {},
   "outputs": [],
   "source": [
    "await vandv.hexapod.get_hexapod_configuration(mtcs.rem.mthexapod_1)"
   ]
  },
  {
   "cell_type": "code",
   "execution_count": null,
   "id": "8c5cb186-e2a6-4ca6-a56a-2527f675febd",
   "metadata": {},
   "outputs": [],
   "source": [
    "await vandv.hexapod.check_hexapod_lut(mtcs.rem.mthexapod_1)"
   ]
  },
  {
   "cell_type": "code",
   "execution_count": null,
   "id": "ee536080-0c8e-45f8-b7c0-5ba77bf5979b",
   "metadata": {},
   "outputs": [],
   "source": [
    "await mtcs.reset_camera_hexapod_position()"
   ]
  },
  {
   "cell_type": "code",
   "execution_count": null,
   "id": "cf7a441e-cb9b-48a8-a9e9-b7fd4a46e6c0",
   "metadata": {},
   "outputs": [],
   "source": [
    "await vandv.hexapod.print_hexapod_compensation_values(mtcs.rem.mthexapod_1)\n",
    "await vandv.hexapod.print_hexapod_position(mtcs.rem.mthexapod_1)"
   ]
  },
  {
   "cell_type": "code",
   "execution_count": null,
   "id": "04532e12-a696-4e84-8a0f-c4d8386875d3",
   "metadata": {},
   "outputs": [],
   "source": [
    "script.log.info(f\"{test_case} - {test_exec} - CamHex ready\")"
   ]
  },
  {
   "cell_type": "markdown",
   "id": "84972789-91d2-4712-9a37-4d202f3f92e8",
   "metadata": {},
   "source": [
    "---\n",
    "## Slew to a target and track.\n",
    "\n",
    "Choose a target such that the rotator stays within a couple of degrees of its initial position. (az = 120º, el = 60º, rotator type = PhysicalSky, rot=1.9º)\n",
    "\n",
    "This is because the CCW might not be running (MTmount in simulation mode)."
   ]
  },
  {
   "cell_type": "code",
   "execution_count": null,
   "id": "a7d6c629-5862-4643-8270-d4922712e2f6",
   "metadata": {},
   "outputs": [],
   "source": [
    "target = await mtcs.find_target(el=60, az=120, mag_limit=8)\n",
    "print(target)"
   ]
  },
  {
   "cell_type": "code",
   "execution_count": null,
   "id": "3c44a84e-beb9-4504-bb2b-d2cb052ce874",
   "metadata": {},
   "outputs": [],
   "source": [
    "await mtcs.slew_object(target, rot_type=RotType.PhysicalSky, rot=1.9)"
   ]
  },
  {
   "cell_type": "code",
   "execution_count": null,
   "id": "0b3ad8cf-9d9b-4bae-8363-79f06da4d579",
   "metadata": {},
   "outputs": [],
   "source": [
    "script.log.info(f\"{test_case} - {test_exec} - Slewed to target: {target}\")"
   ]
  },
  {
   "cell_type": "markdown",
   "id": "144fe790",
   "metadata": {},
   "source": [
    "***"
   ]
  },
  {
   "cell_type": "markdown",
   "id": "94412426",
   "metadata": {},
   "source": [
    "## Add 1um of z7 to the system via OFC\n",
    "\n",
    "Compare the corrections sent vs forces and position changes applied. \n",
    "This is currently done in a separate notebook."
   ]
  },
  {
   "cell_type": "code",
   "execution_count": null,
   "id": "2cb5d7cc-c7b0-498b-b4e0-6ad57dedd9aa",
   "metadata": {},
   "outputs": [],
   "source": [
    "script.log.info(f\"{test_case} - {test_exec} - START\")\n",
    "\n",
    "# The wavefront errors input is an array with 19 elements where the first \n",
    "#   element corresponds to z4\n",
    "wavefront_errors = np.zeros(19)\n",
    "\n",
    "# Add 1 um to z7\n",
    "wavefront_errors[3] += 1.0 # add1 um to z7\n",
    "\n",
    "script.log.info(f\"{test_case} - {test_exec} - Add 1um aberration\")\n",
    "await mtcs.rem.mtaos.cmd_addAberration.set_start(wf=wavefront_errors, timeout=10)\n",
    "\n",
    "script.log.info(f\"{test_case} - {test_exec} - Issue 1um aberration\")\n",
    "await mtcs.rem.mtaos.cmd_issueCorrection.start(timeout=60.)"
   ]
  },
  {
   "cell_type": "markdown",
   "id": "98e25594",
   "metadata": {},
   "source": [
    "***\n",
    "## Analyse changes in the aberrations\n",
    "\n",
    "Make plots using telemetry from each component to verify the changes in the DoFs."
   ]
  },
  {
   "cell_type": "markdown",
   "id": "56fbc63b",
   "metadata": {},
   "source": [
    "***\n",
    "## Reset the corrections using the resetCorrection command\n",
    "\n",
    "Compare the corrections sent vs forces and position changes applied (these are all expected to be zero).  \n",
    "This is currently done in a separate notebook or on Chronograf. "
   ]
  },
  {
   "cell_type": "code",
   "execution_count": null,
   "id": "9ac96d8a",
   "metadata": {},
   "outputs": [],
   "source": [
    "script.log.info(f\"{test_case} - {test_exec} - Reset corrections\")\n",
    "await mtcs.rem.mtaos.cmd_resetCorrection.start(timeout=60.)\n",
    "\n",
    "script.log.info(f\"{test_case} - {test_exec} - Issue reset corrections\")\n",
    "await mtcs.rem.mtaos.cmd_issueCorrection.start(timeout=60.)"
   ]
  },
  {
   "cell_type": "markdown",
   "id": "32b34689",
   "metadata": {},
   "source": [
    "***\n",
    "## Add 2um of z7 to the system via OFC\n",
    "\n",
    "Compare the corrections sent vs forces and position changes applied.  \n",
    "This is currently done in a separate notebook or on Chronograf. "
   ]
  },
  {
   "cell_type": "code",
   "execution_count": null,
   "id": "1bc5625c",
   "metadata": {},
   "outputs": [],
   "source": [
    "# Set 2 um to z7\n",
    "wavefront_errors[3] = 2.0\n",
    "\n",
    "script.log.info(f\"{test_case} - {test_exec} - Add 2um aberration\")\n",
    "await mtcs.rem.mtaos.cmd_addAberration.set_start(wf=wavefront_errors, timeout=10)\n",
    "\n",
    "script.log.info(f\"{test_case} - {test_exec} - Issue 2um aberration\")\n",
    "await mtcs.rem.mtaos.cmd_issueCorrection.start(timeout=60.)"
   ]
  },
  {
   "cell_type": "markdown",
   "id": "99a48e19",
   "metadata": {},
   "source": [
    "***\n",
    "## Stop Tracking"
   ]
  },
  {
   "cell_type": "code",
   "execution_count": null,
   "id": "ca763a73",
   "metadata": {},
   "outputs": [],
   "source": [
    "await mtcs.stop_tracking()"
   ]
  },
  {
   "cell_type": "code",
   "execution_count": null,
   "id": "45fda728-c298-42d2-93f8-99bc16f87aa8",
   "metadata": {},
   "outputs": [],
   "source": [
    "await mtcs.reset_m1m3_forces()\n",
    "await mtcs.reset_m2_forces()\n",
    "await mtcs.reset_camera_hexapod_position()\n",
    "await mtcs.reset_m2_hexapod_position()\n",
    "script.log.info(f\"{test_case} - {test_exec} - STOP\")"
   ]
  },
  {
   "cell_type": "markdown",
   "id": "c884702f",
   "metadata": {},
   "source": [
    "***\n",
    "Check that the corrections in step 10 are twice of those in step 7. This step does not currently involve running any commands in this notebook. This step must be verified using a separate noteboook. "
   ]
  },
  {
   "cell_type": "code",
   "execution_count": null,
   "id": "df9cbdb0-8c55-47bc-ad23-6826f3373724",
   "metadata": {},
   "outputs": [],
   "source": [
    "await mtcs.point_azel(az=0, el=80)\n",
    "await mtcs.stop_tracking()"
   ]
  },
  {
   "cell_type": "markdown",
   "id": "04633353",
   "metadata": {},
   "source": [
    "***\n",
    "Wrap up. Put each component to the following states:\n",
    "mtaos --> standby\n",
    "m1m3 --> lower mirror --> standby\n",
    "m2 --> standby\n",
    "camera hex --> standby\n",
    "m2 hex --> standby"
   ]
  },
  {
   "cell_type": "code",
   "execution_count": null,
   "id": "af21db61",
   "metadata": {},
   "outputs": [],
   "source": [
    "await mtcs.set_state(salobj.State.STANDBY, components=[\"mtaos\"])"
   ]
  },
  {
   "cell_type": "code",
   "execution_count": null,
   "id": "be5221d5",
   "metadata": {},
   "outputs": [],
   "source": [
    "await mtcs.lower_m1m3()"
   ]
  },
  {
   "cell_type": "code",
   "execution_count": null,
   "id": "28caaf13",
   "metadata": {},
   "outputs": [],
   "source": [
    "await mtcs.set_state(salobj.State.STANDBY, components=[\"mtm1m3\"])"
   ]
  },
  {
   "cell_type": "code",
   "execution_count": null,
   "id": "70237ed0",
   "metadata": {},
   "outputs": [],
   "source": [
    "await mtcs.set_state(salobj.State.STANDBY, components=[\"mtm2\"])"
   ]
  },
  {
   "cell_type": "code",
   "execution_count": null,
   "id": "72fe82b1",
   "metadata": {},
   "outputs": [],
   "source": [
    "await mtcs.set_state(salobj.State.STANDBY, components=[\"mthexapod_1\"])"
   ]
  },
  {
   "cell_type": "code",
   "execution_count": null,
   "id": "28860649",
   "metadata": {},
   "outputs": [],
   "source": [
    "await mtcs.set_state(salobj.State.STANDBY, components=[\"mthexapod_2\"])"
   ]
  },
  {
   "cell_type": "code",
   "execution_count": null,
   "id": "b6b36525",
   "metadata": {},
   "outputs": [],
   "source": [
    "await mtcs.standby()"
   ]
  }
 ],
 "metadata": {
  "kernelspec": {
   "display_name": "LSST",
   "language": "python",
   "name": "lsst"
  },
  "language_info": {
   "codemirror_mode": {
    "name": "ipython",
    "version": 3
   },
   "file_extension": ".py",
   "mimetype": "text/x-python",
   "name": "python",
   "nbconvert_exporter": "python",
   "pygments_lexer": "ipython3",
   "version": "3.10.5"
  },
  "toc-autonumbering": false,
  "toc-showcode": false,
  "toc-showmarkdowntxt": false
 },
 "nbformat": 4,
 "nbformat_minor": 5
}
