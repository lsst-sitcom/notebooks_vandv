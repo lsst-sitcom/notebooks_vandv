{
 "cells": [
  {
   "cell_type": "markdown",
   "id": "7baf7e7a-c5e9-4d4e-80f5-20424effb6f1",
   "metadata": {},
   "source": [
    "# [LVV-T2221] - MTMount Interface to SAL\n",
    "The objective of this test case is to verify \n",
    "the MTMount communication interface with SAL by testing the commands, events and telemetry defined by the latest version of the XML\n",
    "all topic parameters are filled with data\n",
    "the data are reasonable.\n",
    "\n",
    "This test case will exercise the functionality of the Telescope Mount and meet the following criteria:\n",
    "* Only requires the most current version of SAL\n",
    "* Requires the use of the DDS and the EFD\n",
    "\n",
    "[LVV-T2221]: https://jira.lsstcorp.org/secure/Tests.jspa#/testCase/LVV-T2221"
   ]
  },
  {
   "cell_type": "markdown",
   "id": "f682c694-36c4-4523-8188-c995a0788529",
   "metadata": {},
   "source": [
    "## Setting Up Test Environment"
   ]
  },
  {
   "cell_type": "code",
   "execution_count": null,
   "id": "654514b0-49c3-450b-9dd3-fdbb29092d9a",
   "metadata": {},
   "outputs": [],
   "source": [
    "test_case = \"LVV-T2221\"\n",
    "test_exec = \"LVV-EXXXX\""
   ]
  },
  {
   "cell_type": "code",
   "execution_count": null,
   "id": "3ad096b4-a2ec-4c28-ba8e-8acf4da570e7",
   "metadata": {},
   "outputs": [],
   "source": [
    "%load_ext autoreload\n",
    "%autoreload 2\n",
    "\n",
    "import asyncio\n",
    "import logging\n",
    "import os\n",
    "import yaml\n",
    "\n",
    "import astropy.units as u\n",
    "import numpy as np\n",
    "import pandas as pd\n",
    "\n",
    "from astropy.time import Time\n",
    "from datetime import datetime, timedelta\n",
    "from matplotlib import pyplot as plt\n",
    "\n",
    "from lsst_efd_client import EfdClient\n",
    "from lsst.ts import salobj\n",
    "from lsst.ts.idl.enums import MTMount\n",
    "\n",
    "from lsst.sitcom import vandv"
   ]
  },
  {
   "cell_type": "code",
   "execution_count": null,
   "id": "f84432e9-95de-44cb-b163-2d90f3bdad4e",
   "metadata": {},
   "outputs": [],
   "source": [
    "exec_info = vandv.ExecutionInfo()\n",
    "print(exec_info)"
   ]
  },
  {
   "cell_type": "code",
   "execution_count": null,
   "id": "be02ef53-0c5d-462f-b07a-52a98719d940",
   "metadata": {},
   "outputs": [],
   "source": [
    "client = vandv.efd.create_efd_client()"
   ]
  },
  {
   "cell_type": "markdown",
   "id": "8990f6d7-ea1b-45cd-9cf2-e03468a2e54c",
   "metadata": {},
   "source": [
    "The following block sets the necessary environment variables for setting up the DDS/SAL communication"
   ]
  },
  {
   "cell_type": "code",
   "execution_count": null,
   "id": "20046ce6-9ce2-484e-a842-12ebaa886dd5",
   "metadata": {},
   "outputs": [],
   "source": [
    "os.environ[\"LSST_DDS_HISTORYSYNC\"] = \"30\""
   ]
  },
  {
   "cell_type": "markdown",
   "id": "de384be5-2a32-45b8-a943-9d357b9c47f7",
   "metadata": {},
   "source": [
    "This sets up the logger for the test."
   ]
  },
  {
   "cell_type": "code",
   "execution_count": null,
   "id": "62c16a8d-9ac4-4a9a-9cc5-d83c6fb59135",
   "metadata": {},
   "outputs": [],
   "source": [
    "log = logging.getLogger(__name__)\n",
    "logging.basicConfig(level=logging.INFO)"
   ]
  },
  {
   "cell_type": "markdown",
   "id": "8ef8f0a3-f9ad-4cd4-8d5b-6cbcc166ae08",
   "metadata": {},
   "source": [
    "Getting unique index for Script"
   ]
  },
  {
   "cell_type": "code",
   "execution_count": null,
   "id": "ca0c8e5d-ba71-473f-baef-796a835ccf39",
   "metadata": {},
   "outputs": [],
   "source": [
    "log.info(f'Your UID is {os.getuid()}')\n",
    "index = os.getuid() * 10 + np.random.randint(0, 9)\n",
    "\n",
    "log.info(f'The generated index is {index}')"
   ]
  },
  {
   "cell_type": "markdown",
   "id": "ab611dc5-020b-410f-ae82-7d7f67e00de0",
   "metadata": {},
   "source": [
    "Starts a Script controller which allows putting custom messages into the EFD for later analysis.Probably do not need it."
   ]
  },
  {
   "cell_type": "code",
   "execution_count": null,
   "id": "66fe224e-b9ba-4573-a155-03e522cd7046",
   "metadata": {},
   "outputs": [],
   "source": [
    "start_time = datetime.now()\n",
    "test_message = \"MTMount Interface Test\"\n",
    "\n",
    "script = salobj.Controller(\"Script\", index=index)\n",
    "await script.start_task\n",
    "print(f\"{test_case} {test_exec} time to start is {datetime.now() - start_time} [s]\")"
   ]
  },
  {
   "cell_type": "markdown",
   "id": "c239c846-51f1-4fc7-bb1e-99b62c842f25",
   "metadata": {},
   "source": [
    "This is how you start the remote for the CSC."
   ]
  },
  {
   "cell_type": "code",
   "execution_count": null,
   "id": "e4c0ae6f-e9cf-4202-9984-6c1f0042fba6",
   "metadata": {},
   "outputs": [],
   "source": [
    "domain = salobj.Domain()\n",
    "print(domain)"
   ]
  },
  {
   "cell_type": "markdown",
   "id": "3d811715-55d9-4f8c-a393-73018e8ee84c",
   "metadata": {},
   "source": [
    "Create the remote to control the MTMount and start the service"
   ]
  },
  {
   "cell_type": "code",
   "execution_count": null,
   "id": "cbca12af-2daa-4cc0-935b-84a1b615f741",
   "metadata": {},
   "outputs": [],
   "source": [
    "mount = salobj.Remote(name=\"MTMount\", domain=domain)\n",
    "print(mount)\n",
    "await asyncio.sleep(10)\n",
    "await mount.start_task"
   ]
  },
  {
   "cell_type": "markdown",
   "id": "44ff7af0-a426-4a51-afb4-f1b1cea3528e",
   "metadata": {},
   "source": [
    "# State transitions"
   ]
  },
  {
   "cell_type": "markdown",
   "id": "f49a64d9-bd51-401f-bec3-f86ace0d9856",
   "metadata": {},
   "source": [
    "Check the summaryState. If, its not in the enable state, Transition the MTMount into enabledState, otherwise do nothing. "
   ]
  },
  {
   "cell_type": "code",
   "execution_count": null,
   "id": "dc0395e0-58c9-4640-81fd-0691c70f7c04",
   "metadata": {},
   "outputs": [],
   "source": [
    "e = mount.evt_summaryState.get()\n",
    "print(\"MTMount now in state:\", e.summaryState) \n",
    "# Summary State 2 = ENABLED\n",
    "# Summary State 1 = DISABLED\n",
    "if e.summaryState not in [2]:\n",
    "    print(\"  Transitioning to ENABLED state\")\n",
    "    await salobj.set_summary_state(mount, salobj.State.ENABLED)\n",
    "else:\n",
    "    print(\"  Nothing to do.\")"
   ]
  },
  {
   "cell_type": "markdown",
   "id": "04b444c4-f748-4029-b817-81ce27a92db1",
   "metadata": {},
   "source": [
    "# Step- Command the mount to AZ=90 deg and EL=80 deg."
   ]
  },
  {
   "cell_type": "markdown",
   "id": "57f90e00-1569-4611-8890-5df59c04df02",
   "metadata": {},
   "source": [
    "* Command the mount to AZ=90 deg and EL=80 deg.\n",
    "* Verify that the telemetry attached to this test step with their respective parameters are published and have reasonable values."
   ]
  },
  {
   "cell_type": "code",
   "execution_count": null,
   "id": "348b5a2b-c200-4eb5-983f-5ee3576c3b83",
   "metadata": {},
   "outputs": [],
   "source": [
    "await mount.cmd_moveToTarget.set_start(azimuth=90, elevation=80)"
   ]
  },
  {
   "cell_type": "markdown",
   "id": "3fdf299e-abdf-43d3-b34b-dd4d96cf1503",
   "metadata": {},
   "source": [
    "Step- Transition to Disabled State"
   ]
  },
  {
   "cell_type": "code",
   "execution_count": null,
   "id": "cd1ecb99-367a-485d-ae20-a8e16929b9af",
   "metadata": {},
   "outputs": [],
   "source": [
    "await salobj.set_summary_state(mount, salobj.State.DISABLED)\n",
    "e = mount.evt_summaryState.get()\n",
    "print(\"MTMount now in state:\", e.summaryState) "
   ]
  },
  {
   "cell_type": "markdown",
   "id": "9864027f-86fb-4039-8862-42806fb62544",
   "metadata": {},
   "source": [
    "# Steps- Telemetry Verification"
   ]
  },
  {
   "cell_type": "code",
   "execution_count": null,
   "id": "a43b8a25-b383-4c81-a9bd-972d049e77b4",
   "metadata": {},
   "outputs": [],
   "source": [
    "e = vandv.check_last_evt(mount.tel_azimuth)"
   ]
  },
  {
   "cell_type": "code",
   "execution_count": null,
   "id": "c97a8433-5ea0-41db-ac23-7c52b7aa526f",
   "metadata": {},
   "outputs": [],
   "source": [
    "e = await mount.tel_azimuth.next(flush=True, timeout=1)\n",
    "print(e)"
   ]
  },
  {
   "cell_type": "code",
   "execution_count": null,
   "id": "8ad671c5-9ae8-4954-b02f-a32283c471b4",
   "metadata": {},
   "outputs": [],
   "source": [
    "df = await client.select_top_n(\n",
    "    \"lsst.sal.MTMount.azimuth\", \n",
    "    fields=\"*\",\n",
    "    num=2,\n",
    ")\n",
    "\n",
    "print(df)"
   ]
  },
  {
   "cell_type": "markdown",
   "id": "c25e67fc-be6d-4a5e-b394-aeaa3f553e3a",
   "metadata": {},
   "source": [
    "Verify the MTMount_azimuthDrives telemetry topic is being published to the EFD. Need to change the function. \n",
    "<br> **Note: This telemetry is not published yet.** "
   ]
  },
  {
   "cell_type": "code",
   "execution_count": null,
   "id": "7dd8efec-e457-4be4-81ad-891010bac972",
   "metadata": {},
   "outputs": [],
   "source": [
    "e = await mount.tel_azimuthDrives.next(flush=True, timeout=1)"
   ]
  },
  {
   "cell_type": "code",
   "execution_count": null,
   "id": "56a05718-b748-48f8-8fe6-7a4b8bb99721",
   "metadata": {},
   "outputs": [],
   "source": [
    "e = vandv.check_last_evt(mount.tel_azimuthDrives)"
   ]
  },
  {
   "cell_type": "markdown",
   "id": "fad21a0e-4dfe-4bf9-942f-f8067a93909d",
   "metadata": {},
   "source": [
    "Verify that the MTMount_elevation telemetry topic is being published to the EFD."
   ]
  },
  {
   "cell_type": "code",
   "execution_count": null,
   "id": "9c78d436-8bb7-4a7c-958a-8460086657c9",
   "metadata": {},
   "outputs": [],
   "source": [
    "e = vandv.check_last_evt(mount.tel_elevation)"
   ]
  },
  {
   "cell_type": "code",
   "execution_count": null,
   "id": "98e3b427-c30a-4b7f-a0b2-79290ca564c2",
   "metadata": {},
   "outputs": [],
   "source": [
    "df = await client.select_top_n(\n",
    "    \"lsst.sal.MTMount.elevation\", \n",
    "    fields=\"*\",\n",
    "    num=2,\n",
    ")\n",
    "\n",
    "print(df)"
   ]
  },
  {
   "cell_type": "markdown",
   "id": "9fd33fb6-2959-4859-8d4d-6de414e8e1e4",
   "metadata": {},
   "source": [
    "Verify the MTMount_elevationDrives telemetry topic is being published to the EFD.\n",
    "<br> **Note, this telemetry is not published yet.**"
   ]
  },
  {
   "cell_type": "code",
   "execution_count": null,
   "id": "34576a39-65ae-4c11-ab80-f9ee1dd158e5",
   "metadata": {},
   "outputs": [],
   "source": [
    "e = await mount.tel_elevationDrives.next(flush=True, timeout=1)"
   ]
  },
  {
   "cell_type": "markdown",
   "id": "a667fad4-254b-472e-b545-b0a0f2e01cd9",
   "metadata": {},
   "source": [
    "Verify the MTMount_cameraCableWrap telemetry topic is being published to the EFD."
   ]
  },
  {
   "cell_type": "code",
   "execution_count": null,
   "id": "c5272a72-8669-4777-90a3-9ffa9a3497a0",
   "metadata": {},
   "outputs": [],
   "source": [
    "e = vandv.check_last_evt(mount.tel_cameraCableWrap)"
   ]
  },
  {
   "cell_type": "code",
   "execution_count": null,
   "id": "f932045a-c018-4324-b5d8-92b3395cc92b",
   "metadata": {},
   "outputs": [],
   "source": [
    "df = await client.select_top_n(\n",
    "    \"lsst.sal.MTMount.cameraCableWrap\", \n",
    "    fields=\"*\",\n",
    "    num=2,\n",
    ")\n",
    "\n",
    "print(df)"
   ]
  },
  {
   "cell_type": "markdown",
   "id": "1441e6f7-90ca-42cc-aad0-80ca8c547ec0",
   "metadata": {},
   "source": [
    "# Steps- Events Verification"
   ]
  },
  {
   "cell_type": "markdown",
   "id": "d253eece-4c3f-444e-9a7c-1d5379422bfa",
   "metadata": {},
   "source": [
    "Commandable By DDS Check\n",
    "* Verify the MTMount is commandable by DDS by checking that the MTMount_logevent_commander event is published to the EFD with reasonably values."
   ]
  },
  {
   "cell_type": "code",
   "execution_count": null,
   "id": "2d231a86-62ec-432a-b03b-313b4c461d90",
   "metadata": {},
   "outputs": [],
   "source": [
    "e = vandv.check_last_evt(mount.evt_commander)"
   ]
  },
  {
   "cell_type": "code",
   "execution_count": null,
   "id": "d8024e49-d26b-4275-bb43-22a5dd49ab2c",
   "metadata": {},
   "outputs": [],
   "source": [
    "df = await client.select_top_n(\n",
    "    \"lsst.sal.MTMount.logevent_commander\", \n",
    "    fields=\"commander\",\n",
    "    num=2,\n",
    ")\n",
    "\n",
    "print(df)"
   ]
  },
  {
   "cell_type": "markdown",
   "id": "9680bd34-e746-4316-ac6a-9b7a380bffca",
   "metadata": {},
   "source": [
    "Verify the TCP/IP is connected to the low level controller. Note: **MTMount connected not published yet** "
   ]
  },
  {
   "cell_type": "code",
   "execution_count": null,
   "id": "f82cbd02-2588-471b-93d4-b1dac39695f4",
   "metadata": {},
   "outputs": [],
   "source": [
    "e = vandv.check_last_evt(mount.evt_connected)"
   ]
  },
  {
   "cell_type": "code",
   "execution_count": null,
   "id": "60066cc0-0bc3-4ba9-8777-f55863d346ba",
   "metadata": {},
   "outputs": [],
   "source": [
    "df = await client.select_top_n(\n",
    "    \"lsst.sal.MTMount.logevent_connected\", \n",
    "    fields=\"*\",\n",
    "    num=5,\n",
    ")\n",
    "\n",
    "print(df)"
   ]
  },
  {
   "cell_type": "markdown",
   "id": "dd41f078-e836-4e35-9ed3-f9bdd593c7ed",
   "metadata": {},
   "source": [
    "Initial Warning Check\n",
    "* Verify there are no warnings from any subsystem. **Can not be triggered now**. \n",
    "* TBD: Trigger a warning."
   ]
  },
  {
   "cell_type": "code",
   "execution_count": null,
   "id": "f3a4ef6d-3b15-465f-87da-4304fef4f5b4",
   "metadata": {},
   "outputs": [],
   "source": [
    "df = await client.select_top_n(\n",
    "    \"lsst.sal.MTMount.logevent_warning\", \n",
    "    fields=\"*\",\n",
    "    num=5,\n",
    ")\n",
    "\n",
    "print(df)"
   ]
  },
  {
   "cell_type": "markdown",
   "id": "c3af95e5-0325-4197-bd9a-a5e71117c5c3",
   "metadata": {},
   "source": [
    "Verify the MTMount_logevent_availableSettings event is published to the EFD with reasonable parameters."
   ]
  },
  {
   "cell_type": "code",
   "execution_count": null,
   "id": "7c299025-44eb-4a0d-af0c-2543f53f51ad",
   "metadata": {},
   "outputs": [],
   "source": [
    "e = vandv.check_last_evt(mount.evt_availableSettings)"
   ]
  },
  {
   "cell_type": "code",
   "execution_count": null,
   "id": "72f13fc3-8060-4a28-a1a0-7db7ec21b6e6",
   "metadata": {},
   "outputs": [],
   "source": [
    "df = await client.select_top_n(\n",
    "    \"lsst.sal.MTMount.logevent_availableSettings\", \n",
    "    fields=\"*\",\n",
    "    num=2,\n",
    ")\n",
    "\n",
    "print(df)"
   ]
  },
  {
   "cell_type": "markdown",
   "id": "c7a14e23-c72b-4035-876f-a48cec2bd49a",
   "metadata": {},
   "source": [
    "Verify the MTMount_logevent_azimuthToppleBlock event is published to the EFD with reasonable parameters."
   ]
  },
  {
   "cell_type": "code",
   "execution_count": null,
   "id": "5365527f-f1c4-4125-8ea3-b70bbdb0a00b",
   "metadata": {},
   "outputs": [],
   "source": [
    "e = vandv.check_last_evt(mount.evt_azimuthToppleBlock)"
   ]
  },
  {
   "cell_type": "code",
   "execution_count": null,
   "id": "3577e906-5ef2-4973-83a1-22b5e7815410",
   "metadata": {},
   "outputs": [],
   "source": [
    "df = await client.select_top_n(\n",
    "    \"lsst.sal.MTMount.logevent_azimuthToppleBlock\", \n",
    "    fields=\"*\",\n",
    "    num=2,\n",
    ")\n",
    "\n",
    "print(df)"
   ]
  },
  {
   "cell_type": "markdown",
   "id": "dd964572-9f57-4c96-b3df-92f6958d06d0",
   "metadata": {},
   "source": [
    "Verify the MTMount_logevent_az0101CabinetThermalSystemState is published to the EFD with reasonable parameters."
   ]
  },
  {
   "cell_type": "code",
   "execution_count": null,
   "id": "6eb7b80d-2855-4ec4-8631-fd44d2073a28",
   "metadata": {},
   "outputs": [],
   "source": [
    "e = vandv.check_last_evt(mount.evt_az0101CabinetThermalSystemState)"
   ]
  },
  {
   "cell_type": "code",
   "execution_count": null,
   "id": "706669ca-064b-42b5-bc2b-b697a5bd73e6",
   "metadata": {},
   "outputs": [],
   "source": [
    "df = await client.select_top_n(\n",
    "    \"lsst.sal.MTMount.logevent_az0101CabinetThermalSystemState\", \n",
    "    fields=\"*\",\n",
    "    num=2,\n",
    ")\n",
    "\n",
    "print(df)"
   ]
  },
  {
   "cell_type": "markdown",
   "id": "b66152bd-108e-44ac-81f1-43ab5c807e16",
   "metadata": {},
   "source": [
    "Verify the MTMount_logevent_azimuthDrivesThermalSystemState is published to the EFD with reasonable parameters."
   ]
  },
  {
   "cell_type": "code",
   "execution_count": null,
   "id": "0c460680-0616-4a95-a049-ff0e62b4ab2d",
   "metadata": {},
   "outputs": [],
   "source": [
    "e = vandv.check_last_evt(mount.evt_azimuthDrivesThermalSystemState)"
   ]
  },
  {
   "cell_type": "code",
   "execution_count": null,
   "id": "a66a5edd-d9ba-49e0-b331-38e09acca1f1",
   "metadata": {},
   "outputs": [],
   "source": [
    "df = await client.select_top_n(\n",
    "    \"lsst.sal.MTMount.logevent_azimuthDrivesThermalSystemState\", \n",
    "    fields=\"*\",\n",
    "    num=2,\n",
    ")\n",
    "\n",
    "print(df)"
   ]
  },
  {
   "cell_type": "markdown",
   "id": "5b6b3ce2-5e30-46bf-aa26-0b7fe0cf5482",
   "metadata": {},
   "source": [
    "Verify the MTMount_logevent_elevationDrivesThermalSystemState is published to the EFD with reasonable parameters."
   ]
  },
  {
   "cell_type": "code",
   "execution_count": null,
   "id": "b15c9c64-9d0e-4e7c-82be-3bbc770d3450",
   "metadata": {},
   "outputs": [],
   "source": [
    "e = vandv.check_last_evt(mount.evt_elevationDrivesThermalSystemState)"
   ]
  },
  {
   "cell_type": "code",
   "execution_count": null,
   "id": "a3f240fb-c644-49b5-af79-8ca278f173a0",
   "metadata": {},
   "outputs": [],
   "source": [
    "df = await client.select_top_n(\n",
    "    \"lsst.sal.MTMount.logevent_elevationDrivesThermalSystemState\", \n",
    "    fields=\"*\",\n",
    "    num=2,\n",
    ")\n",
    "\n",
    "print(df)"
   ]
  },
  {
   "cell_type": "markdown",
   "id": "213f5dd1-be9d-4f95-b22d-daa75e5b5a0e",
   "metadata": {},
   "source": [
    "Verify the MTMount_logevent_topEndChillerSystemState is published to the EFD with reasonable parameters."
   ]
  },
  {
   "cell_type": "code",
   "execution_count": null,
   "id": "8d502b87-a3cd-4dfa-9b60-466d680c46f0",
   "metadata": {},
   "outputs": [],
   "source": [
    "e = vandv.check_last_evt(mount.evt_topEndChillerSystemState)"
   ]
  },
  {
   "cell_type": "code",
   "execution_count": null,
   "id": "c2afae67-c255-4798-876c-a5a3da9d14c0",
   "metadata": {},
   "outputs": [],
   "source": [
    "df = await client.select_top_n(\n",
    "    \"lsst.sal.MTMount.logevent_topEndChillerSystemState\", \n",
    "    fields=\"*\",\n",
    "    num=3,\n",
    ")\n",
    "\n",
    "print(df)"
   ]
  },
  {
   "cell_type": "markdown",
   "id": "92f37d55-8515-424d-a1ef-c9090d5c406f",
   "metadata": {},
   "source": [
    "**System State Verification**\n",
    "* Verify the MTMount_logevent_azimuthSystemState event is published to the EFD with reasonable parameters."
   ]
  },
  {
   "cell_type": "code",
   "execution_count": null,
   "id": "c3df7dac-e968-4f61-8089-f1a65bf4f7fe",
   "metadata": {},
   "outputs": [],
   "source": [
    "e = vandv.check_last_evt(mount.evt_azimuthSystemState)"
   ]
  },
  {
   "cell_type": "code",
   "execution_count": null,
   "id": "c771f2c8-35ae-4246-b267-2b17339306bb",
   "metadata": {},
   "outputs": [],
   "source": [
    "df = await client.select_top_n(\n",
    "    \"lsst.sal.MTMount.logevent_azimuthSystemState\", \n",
    "    fields=\"*\",\n",
    "    num=2,\n",
    ")\n",
    "\n",
    "print(df)"
   ]
  },
  {
   "cell_type": "markdown",
   "id": "abc3f751-2ecf-449c-ab87-899727223f91",
   "metadata": {},
   "source": [
    "Verify the MTMount_logevent_oilSupplySystemState event is published to the EFD with reasonable parameters."
   ]
  },
  {
   "cell_type": "code",
   "execution_count": null,
   "id": "e1cd423b-272b-4e36-87ef-5edb14d0288a",
   "metadata": {},
   "outputs": [],
   "source": [
    "e = vandv.check_last_evt(mount.evt_oilSupplySystemState)"
   ]
  },
  {
   "cell_type": "code",
   "execution_count": null,
   "id": "c577b87f-0898-45a5-afeb-3b602dd08326",
   "metadata": {},
   "outputs": [],
   "source": [
    "df = await client.select_top_n(\n",
    "    \"lsst.sal.MTMount.logevent_oilSupplySystemState\", \n",
    "    fields=\"*\",\n",
    "    num=3,\n",
    ")\n",
    "\n",
    "print(df)"
   ]
  },
  {
   "cell_type": "markdown",
   "id": "1d7a8cd6-cc0b-4a7e-ac02-d052e61ae0e3",
   "metadata": {},
   "source": [
    "Verify the MTMount_logevent_balanceSystemState event is published to the EFD with reasonable parameters."
   ]
  },
  {
   "cell_type": "code",
   "execution_count": null,
   "id": "1522b5f0-d803-4ccc-9d54-6fdd1e7190e1",
   "metadata": {},
   "outputs": [],
   "source": [
    "e = vandv.check_last_evt(mount.evt_balanceSystemState)"
   ]
  },
  {
   "cell_type": "code",
   "execution_count": null,
   "id": "6062f3b5-1506-48f2-9700-75dfd9be2388",
   "metadata": {},
   "outputs": [],
   "source": [
    "df = await client.select_top_n(\n",
    "    \"lsst.sal.MTMount.logevent_balanceSystemState\", \n",
    "    fields=\"*\",\n",
    "    num=2,\n",
    ")\n",
    "\n",
    "print(df)"
   ]
  },
  {
   "cell_type": "markdown",
   "id": "d01d12b9-f330-4b73-91b2-2c08e1f15d78",
   "metadata": {},
   "source": [
    "Verify the MTMount_logevent_cameraCableWrapSystemState event is published to the EFD with reasonable parameters."
   ]
  },
  {
   "cell_type": "code",
   "execution_count": null,
   "id": "2b2663bf-e48d-4f28-8def-e89409fbe101",
   "metadata": {},
   "outputs": [],
   "source": [
    "e = vandv.check_last_evt(mount.evt_cameraCableWrapSystemState)"
   ]
  },
  {
   "cell_type": "code",
   "execution_count": null,
   "id": "a2c5bc64-cf57-4213-a02b-1ec6afbd573a",
   "metadata": {},
   "outputs": [],
   "source": [
    "df = await client.select_top_n(\n",
    "    \"lsst.sal.MTMount.logevent_cameraCableWrapSystemState\", \n",
    "    fields=\"*\",\n",
    "    num=3,\n",
    ")\n",
    "\n",
    "print(df)"
   ]
  },
  {
   "cell_type": "markdown",
   "id": "a14bfbfd-d270-4dd0-a7ee-eba1c954caba",
   "metadata": {},
   "source": [
    "Verify the MTMount_logevent_deployablePlatformsSystemState event is published to the EFD with reasonable parameters."
   ]
  },
  {
   "cell_type": "code",
   "execution_count": null,
   "id": "57f42cf9-6d03-4db1-886d-c9e87085b12b",
   "metadata": {},
   "outputs": [],
   "source": [
    "e = vandv.check_last_evt(mount.evt_deployablePlatformsSystemState)"
   ]
  },
  {
   "cell_type": "code",
   "execution_count": null,
   "id": "9b0d39d1-7dba-46fe-a21b-2e756cc1cae1",
   "metadata": {},
   "outputs": [],
   "source": [
    "df = await client.select_top_n(\n",
    "    \"lsst.sal.MTMount.logevent_deployablePlatformsSystemState\", \n",
    "    fields=\"*\",\n",
    "    num=2,\n",
    ")\n",
    "\n",
    "print(df)"
   ]
  },
  {
   "cell_type": "markdown",
   "id": "1c3eec3b-002c-43e1-b1c2-f02fc3239454",
   "metadata": {},
   "source": [
    "The MTMount_logevent_deployablePlatformsMotionState shows that the deployable platforms are not moving."
   ]
  },
  {
   "cell_type": "code",
   "execution_count": null,
   "id": "a3a2488d-b269-452e-9d05-d9f85356cee6",
   "metadata": {},
   "outputs": [],
   "source": [
    "e = vandv.check_last_evt(mount.evt_deployablePlatformsMotionState)"
   ]
  },
  {
   "cell_type": "code",
   "execution_count": null,
   "id": "e23c45c0-c5f3-40c2-8361-af1948e5f4ea",
   "metadata": {},
   "outputs": [],
   "source": [
    "df = await client.select_top_n(\n",
    "    \"lsst.sal.MTMount.logevent_deployablePlatformsMotionState\", \n",
    "    fields=\"*\",\n",
    "    num=2,\n",
    ")\n",
    "\n",
    "print(df)"
   ]
  },
  {
   "cell_type": "markdown",
   "id": "7fee1e80-73be-4216-bc05-24a332ed7275",
   "metadata": {},
   "source": [
    "Verify the MTMount_logevent_elevationSystemState event is published to the EFD with reasonable parameters."
   ]
  },
  {
   "cell_type": "code",
   "execution_count": null,
   "id": "549ddb75-ef4d-4662-b68e-44b5c6a12034",
   "metadata": {},
   "outputs": [],
   "source": [
    "e = vandv.check_last_evt(mount.evt_elevationSystemState)"
   ]
  },
  {
   "cell_type": "code",
   "execution_count": null,
   "id": "d7b63e22-2efc-4dd6-be63-c3ce25a169ae",
   "metadata": {},
   "outputs": [],
   "source": [
    "df = await client.select_top_n(\n",
    "    \"lsst.sal.MTMount.logevent_elevationSystemState\", \n",
    "    fields=\"*\",\n",
    "    num=3,\n",
    ")\n",
    "\n",
    "print(df)"
   ]
  },
  {
   "cell_type": "markdown",
   "id": "d8c53361-5c26-4beb-a349-4e81b9b4a438",
   "metadata": {},
   "source": [
    "Verify that MTMount_logevent_mainAxesPowerSupplySystemState event is published to the EFD with reasonable parameters."
   ]
  },
  {
   "cell_type": "code",
   "execution_count": null,
   "id": "bc0eb45f-fc1d-4087-9bc6-47bbeacf7113",
   "metadata": {},
   "outputs": [],
   "source": [
    "e = vandv.check_last_evt(mount.evt_mainAxesPowerSupplySystemState)"
   ]
  },
  {
   "cell_type": "code",
   "execution_count": null,
   "id": "fe2abff9-c144-47ae-aa99-257d9abf3d51",
   "metadata": {},
   "outputs": [],
   "source": [
    "df = await client.select_top_n(\n",
    "    \"lsst.sal.MTMount.logevent_mainAxesPowerSupplySystemState\", \n",
    "    fields=\"*\",\n",
    "    num=3,\n",
    ")\n",
    "\n",
    "print(df)"
   ]
  },
  {
   "cell_type": "markdown",
   "id": "0ab79f8c-1519-47dc-bdb1-00d54fc737e6",
   "metadata": {},
   "source": [
    "Verify that the MTMount_logevent_mainCabinetThermalSystemState event is published to the EFD with reasonable parameters."
   ]
  },
  {
   "cell_type": "code",
   "execution_count": null,
   "id": "f38d50aa-bfd9-4592-ad16-6b0f2e9339e0",
   "metadata": {},
   "outputs": [],
   "source": [
    "e = vandv.check_last_evt(mount.evt_mainCabinetThermalSystemState)"
   ]
  },
  {
   "cell_type": "code",
   "execution_count": null,
   "id": "df6e6bdb-5f90-4f15-9212-2bbdfbd633a5",
   "metadata": {},
   "outputs": [],
   "source": [
    "df = await client.select_top_n(\n",
    "    \"lsst.sal.MTMount.logevent_mainCabinetThermalSystemState\", \n",
    "    fields=\"*\",\n",
    "    num=2,\n",
    ")\n",
    "\n",
    "print(df)"
   ]
  },
  {
   "cell_type": "markdown",
   "id": "f0d12adb-b1f5-4a5e-a1af-eb5f8c18931c",
   "metadata": {},
   "source": [
    "Verify that the MTMount_logevent_modbusTemperatureControllersSystemState event is published to the EFD with reasonable parameters."
   ]
  },
  {
   "cell_type": "code",
   "execution_count": null,
   "id": "e6e8e531-8787-4ced-92c4-95b2f21f6659",
   "metadata": {},
   "outputs": [],
   "source": [
    "e = vandv.check_last_evt(mount.evt_modbusTemperatureControllersSystemState)"
   ]
  },
  {
   "cell_type": "code",
   "execution_count": null,
   "id": "52f6cc9a-3ade-49f1-b2c8-3e24ae84aa35",
   "metadata": {},
   "outputs": [],
   "source": [
    "df = await client.select_top_n(\n",
    "    \"lsst.sal.MTMount.logevent_modbusTemperatureControllersSystemState\", \n",
    "    fields=\"*\",\n",
    "    num=2,\n",
    ")\n",
    "\n",
    "print(df)"
   ]
  },
  {
   "cell_type": "markdown",
   "id": "4fa16342-0291-4b20-905c-4d98ecb84da3",
   "metadata": {},
   "source": [
    "Verify that the MTMount_logevent_safetyInterlocks event is published to the EFD with reasonable parameters."
   ]
  },
  {
   "cell_type": "code",
   "execution_count": null,
   "id": "2b95a130-a745-4c85-ab22-13692a6c89e1",
   "metadata": {},
   "outputs": [],
   "source": [
    "e = vandv.check_last_evt(mount.evt_safetyInterlocks)"
   ]
  },
  {
   "cell_type": "code",
   "execution_count": null,
   "id": "bdd9e01e-618e-46ed-8ec3-0e105aa9a643",
   "metadata": {},
   "outputs": [],
   "source": [
    "df = await client.select_top_n(\n",
    "    \"lsst.sal.MTMount.logevent_safetyInterlocks\", \n",
    "    fields=\"*\",\n",
    "    num=2,\n",
    ")\n",
    "\n",
    "print(df)"
   ]
  },
  {
   "cell_type": "markdown",
   "id": "fd9e7a3b-72a7-46d8-a3dd-0ce04cc846a2",
   "metadata": {},
   "source": [
    "**Limits Verification** \n",
    "* Verify the MTMount_logevent_elevationLimits event is published to the EFD with reasonable parameters."
   ]
  },
  {
   "cell_type": "code",
   "execution_count": null,
   "id": "293775c1-dede-4e76-a07e-31ccf14b79db",
   "metadata": {},
   "outputs": [],
   "source": [
    "e = vandv.check_last_evt(mount.evt_elevationLimits)"
   ]
  },
  {
   "cell_type": "code",
   "execution_count": null,
   "id": "c0cc89a3-4cbc-4417-91b1-12a497e0ac0f",
   "metadata": {},
   "outputs": [],
   "source": [
    "df = await client.select_top_n(\n",
    "    \"lsst.sal.MTMount.logevent_elevationLimits\", \n",
    "    fields=\"limits\",\n",
    "    num=2,\n",
    ")\n",
    "\n",
    "print(df)"
   ]
  },
  {
   "cell_type": "markdown",
   "id": "6e44e48d-e815-48b6-b423-9ff76eb72fd2",
   "metadata": {},
   "source": [
    "Verify that the MTMount_logevent_azimuthLimits event is published to the EFD with reasonable parameters."
   ]
  },
  {
   "cell_type": "code",
   "execution_count": null,
   "id": "2268214e-a717-4c41-b244-b00d7d984a80",
   "metadata": {},
   "outputs": [],
   "source": [
    "e = vandv.check_last_evt(mount.evt_azimuthLimits)"
   ]
  },
  {
   "cell_type": "code",
   "execution_count": null,
   "id": "a161413e-865e-4b43-bb60-9dcabae05cf9",
   "metadata": {},
   "outputs": [],
   "source": [
    "df = await client.select_top_n(\n",
    "    \"lsst.sal.MTMount.logevent_azimuthLimits\", \n",
    "    fields=\"limits\",\n",
    "    num=2,\n",
    ")\n",
    "\n",
    "print(df)"
   ]
  },
  {
   "cell_type": "markdown",
   "id": "61cf94e6-9f4b-4f05-bab5-8f3ed933c511",
   "metadata": {},
   "source": [
    "Verify that the MTMount_logevent_cameraCableWrapLimits event is published to the EFD with reasonable parameters."
   ]
  },
  {
   "cell_type": "code",
   "execution_count": null,
   "id": "64f025c8-4b3f-4605-b7ca-b5fcc4dd9e2d",
   "metadata": {},
   "outputs": [],
   "source": [
    "e = vandv.check_last_evt(mount.evt_cameraCableWrapLimits)"
   ]
  },
  {
   "cell_type": "code",
   "execution_count": null,
   "id": "acd2e005-35aa-4340-b7f7-b123be0021b7",
   "metadata": {},
   "outputs": [],
   "source": [
    "df = await client.select_top_n(\n",
    "    \"lsst.sal.MTMount.logevent_cameraCableWrapLimits\", \n",
    "    fields=\"*\",\n",
    "    num=2,\n",
    ")\n",
    "\n",
    "print(df)"
   ]
  },
  {
   "cell_type": "markdown",
   "id": "f0ede8a7-54b9-4bd4-9aa9-58b74109fd44",
   "metadata": {},
   "source": [
    "**Controller Settings Verification**\n",
    "<br>Verify the MTMount_logevent_controllerSettingsName event is published to the EFD with reasonable parameters.\n",
    "<br>**Note**: The following steps are verifying the events related to the settings file used in the low-level controller and do not have any direct commands that cause the events to be published. Therefore, these should be verified to be published to the EFD at startup.\n",
    "<br> **Note: Not published yet**"
   ]
  },
  {
   "cell_type": "code",
   "execution_count": null,
   "id": "cf1fdbb4-bf0c-4c45-90fa-6d6187271d50",
   "metadata": {},
   "outputs": [],
   "source": [
    "e = vandv.check_last_evt(mount.evt_controllerSettingsName)"
   ]
  },
  {
   "cell_type": "markdown",
   "id": "08952a33-bcfb-40bd-8830-3c4786ba6f80",
   "metadata": {},
   "source": [
    "Verify the MTMount_logevent_azimuthControllerSettings event is published to the EFD with reasonable parameters."
   ]
  },
  {
   "cell_type": "code",
   "execution_count": null,
   "id": "d63280e3-95ae-4d5b-9d2d-2698fc29d3df",
   "metadata": {},
   "outputs": [],
   "source": [
    "e = vandv.check_last_evt(mount.evt_azimuthControllerSettings)"
   ]
  },
  {
   "cell_type": "code",
   "execution_count": null,
   "id": "402d9030-b36d-4382-b1a2-c2fcbbd8ca3d",
   "metadata": {},
   "outputs": [],
   "source": [
    "df = await client.select_top_n(\n",
    "    \"lsst.sal.MTMount.logevent_azimuthControllerSettings\", \n",
    "    fields=\"*\",\n",
    "    num=2,\n",
    ")\n",
    "\n",
    "print(df)"
   ]
  },
  {
   "cell_type": "markdown",
   "id": "2a7a913c-0819-43da-8f1e-6994224fdabf",
   "metadata": {},
   "source": [
    "Verify the MTMount_logevent_elevationControllerSettings event is published to the EFD with reasonable parameters."
   ]
  },
  {
   "cell_type": "code",
   "execution_count": null,
   "id": "ad46a75b-618a-4459-afc3-db7a3bcba604",
   "metadata": {},
   "outputs": [],
   "source": [
    "e = vandv.check_last_evt(mount.evt_elevationControllerSettings)"
   ]
  },
  {
   "cell_type": "code",
   "execution_count": null,
   "id": "bcc14135-9953-4656-8d03-2205d9205812",
   "metadata": {},
   "outputs": [],
   "source": [
    "df = await client.select_top_n(\n",
    "    \"lsst.sal.MTMount.logevent_elevationControllerSettings\", \n",
    "    fields=\"*\",\n",
    "    num=2,\n",
    ")\n",
    "\n",
    "print(df)"
   ]
  },
  {
   "cell_type": "markdown",
   "id": "7be7c0a3-ef5b-4c20-88e3-b9567108a15b",
   "metadata": {},
   "source": [
    "Verify the MTMount_logevent_cameraCableWrapControllerSettings event is published to the EFD with reasonable parameters."
   ]
  },
  {
   "cell_type": "code",
   "execution_count": null,
   "id": "9b4d30e6-2482-46ca-aa5a-21a74a590e12",
   "metadata": {},
   "outputs": [],
   "source": [
    "e = vandv.check_last_evt(mount.evt_cameraCableWrapControllerSettings)"
   ]
  },
  {
   "cell_type": "code",
   "execution_count": null,
   "id": "404c78ae-b3da-4e5e-b196-9fc1c18e607d",
   "metadata": {},
   "outputs": [],
   "source": [
    "df = await client.select_top_n(\n",
    "    \"lsst.sal.MTMount.logevent_cameraCableWrapControllerSettings\", \n",
    "    fields=\"*\",\n",
    "    num=2,\n",
    ")\n",
    "\n",
    "print(df)"
   ]
  },
  {
   "cell_type": "markdown",
   "id": "25255a0c-cc11-4120-a9a4-fdd9f05a1e31",
   "metadata": {},
   "source": [
    "# Mirror Cover Test"
   ]
  },
  {
   "cell_type": "markdown",
   "id": "02f80fb7-2a58-446c-a17d-bbd6375d3c49",
   "metadata": {},
   "source": [
    "Verify that the Mirror Cover locks are not locked."
   ]
  },
  {
   "cell_type": "code",
   "execution_count": null,
   "id": "f8f56659-88a9-41f1-bf69-150561d5018c",
   "metadata": {},
   "outputs": [],
   "source": [
    "e = vandv.check_last_evt(mount.evt_mirrorCoverLocksSystemState)"
   ]
  },
  {
   "cell_type": "code",
   "execution_count": null,
   "id": "a4ab8087-c88c-4ada-9470-f161f61e53e0",
   "metadata": {},
   "outputs": [],
   "source": [
    "df = await client.select_top_n(\n",
    "    \"lsst.sal.MTMount.logevent_mirrorCoverLocksSystemState\", \n",
    "    fields=\"*\",\n",
    "    num=2,\n",
    ")\n",
    "\n",
    "print(df)"
   ]
  },
  {
   "cell_type": "markdown",
   "id": "430a912d-ead8-4b82-aabc-6490fc99501e",
   "metadata": {},
   "source": [
    "The MTMount_logevent_mirrorCoverLocksMotionState event is published to the EFD and shows the locks are not in motion either( parameters reversed in testcase?)"
   ]
  },
  {
   "cell_type": "code",
   "execution_count": null,
   "id": "736165d8-26e4-498f-8203-39224fceb382",
   "metadata": {},
   "outputs": [],
   "source": [
    "e = vandv.check_last_evt(mount.evt_mirrorCoverLocksMotionState)"
   ]
  },
  {
   "cell_type": "code",
   "execution_count": null,
   "id": "7fbeb1d3-86bb-416e-b5d0-63e255a9e93a",
   "metadata": {},
   "outputs": [],
   "source": [
    "df = await client.select_top_n(\n",
    "    \"lsst.sal.MTMount.logevent_mirrorCoverLocksMotionState\", \n",
    "    fields=\"*\",\n",
    "    num=5,\n",
    ")\n",
    "\n",
    "print(df)"
   ]
  },
  {
   "cell_type": "markdown",
   "id": "5e5fdb5c-5b96-446d-bfcb-8b9e042cf49a",
   "metadata": {},
   "source": [
    "While the mirror covers are open and the system is in Enabled mode, send an MTMount_command_closeMirrorCovers command through SAL."
   ]
  },
  {
   "cell_type": "code",
   "execution_count": null,
   "id": "c2686425-d981-476a-bc03-84967508924b",
   "metadata": {},
   "outputs": [],
   "source": [
    "await salobj.set_summary_state(mount, salobj.State.ENABLED)\n",
    "await mount.cmd_closeMirrorCovers.set_start()"
   ]
  },
  {
   "cell_type": "markdown",
   "id": "072da067-79e8-43fe-b57b-84b81682a7f5",
   "metadata": {},
   "source": [
    "While the mirror covers are in motion, the MTMount_logevent_mirrorCoversMotionState is published to the EFD with reasonable parameters."
   ]
  },
  {
   "cell_type": "code",
   "execution_count": null,
   "id": "6edbe215-76ee-4b11-8dcf-8cddb61c26be",
   "metadata": {},
   "outputs": [],
   "source": [
    "e = vandv.check_last_evt(mount.evt_mirrorCoversMotionState)"
   ]
  },
  {
   "cell_type": "code",
   "execution_count": null,
   "id": "ae0f30d1-346d-4f46-8a37-8d4281bd4293",
   "metadata": {},
   "outputs": [],
   "source": [
    "df = await client.select_top_n(\n",
    "    \"lsst.sal.MTMount.logevent_mirrorCoversMotionState\", \n",
    "    fields=\"*\",\n",
    "    num=1,\n",
    ")\n",
    "\n",
    "print(df)"
   ]
  },
  {
   "cell_type": "markdown",
   "id": "2adc96d7-6bf2-4292-96a6-7bc0b81d03b2",
   "metadata": {},
   "source": [
    "The MTMount_logevent_mirrorCoversSystemState is updated at the end of the command with reasonable parameters."
   ]
  },
  {
   "cell_type": "code",
   "execution_count": null,
   "id": "9791ebf2-7200-4c0f-8731-15f41402fcb0",
   "metadata": {},
   "outputs": [],
   "source": [
    "e = vandv.check_last_evt(mount.evt_mirrorCoversSystemState)"
   ]
  },
  {
   "cell_type": "code",
   "execution_count": null,
   "id": "6f2bc11f-e846-4f2c-83b7-89f32802028f",
   "metadata": {},
   "outputs": [],
   "source": [
    "df = await client.select_top_n(\n",
    "    \"lsst.sal.MTMount.logevent_mirrorCoversSystemState\", \n",
    "    fields=\"*\",\n",
    "    num=1,\n",
    ")\n",
    "\n",
    "print(df)"
   ]
  },
  {
   "cell_type": "markdown",
   "id": "83b75898-ff70-4d41-9360-39e0ea3baa4a",
   "metadata": {},
   "source": [
    "With the mirror covers close, send an MTMount_command_openMirrorCovers command through SAL."
   ]
  },
  {
   "cell_type": "code",
   "execution_count": null,
   "id": "98596af7-aeaf-496a-9e9f-3fc52e62b69d",
   "metadata": {},
   "outputs": [],
   "source": [
    "await mount.cmd_openMirrorCovers.set_start()"
   ]
  },
  {
   "cell_type": "code",
   "execution_count": null,
   "id": "572f4edd-c352-4b46-aa37-189334c98b82",
   "metadata": {},
   "outputs": [],
   "source": [
    "e = vandv.check_last_evt(mount.evt_mirrorCoversMotionState)"
   ]
  },
  {
   "cell_type": "code",
   "execution_count": null,
   "id": "e3a53bb2-5cd4-4ac3-935e-7ba543ed28a4",
   "metadata": {},
   "outputs": [],
   "source": [
    "df = await client.select_top_n(\n",
    "    \"lsst.sal.MTMount.logevent_mirrorCoversMotionState\", \n",
    "    fields=\"*\",\n",
    "    num=3,\n",
    ")\n",
    "\n",
    "print(df)"
   ]
  },
  {
   "cell_type": "markdown",
   "id": "b13915a2-9cf0-495e-9119-2f0323f14a3f",
   "metadata": {},
   "source": [
    "The MTMount_logevent_mirrorCoversSystemState is updated at the end of the command with reasonable parameters."
   ]
  },
  {
   "cell_type": "code",
   "execution_count": null,
   "id": "137469e9-bdf3-4bfa-834e-7b9297e6e87d",
   "metadata": {},
   "outputs": [],
   "source": [
    "e = vandv.check_last_evt(mount.evt_mirrorCoversSystemState)"
   ]
  },
  {
   "cell_type": "code",
   "execution_count": null,
   "id": "09d1df3c-f56d-467a-8eed-6e95b9af66de",
   "metadata": {},
   "outputs": [],
   "source": [
    "df = await client.select_top_n(\n",
    "    \"lsst.sal.MTMount.logevent_mirrorCoversSystemState\", \n",
    "    fields=\"*\",\n",
    "    num=2,\n",
    ")\n",
    "\n",
    "print(df)"
   ]
  },
  {
   "cell_type": "markdown",
   "id": "9710453a-4f43-4af0-8f2a-bbd8b31b93ec",
   "metadata": {},
   "source": [
    "**Camera Cable Wrap Test**\n",
    "<br>Verify the MTMount_logevent_cameraCableWrapSystemState is in the Enabled state."
   ]
  },
  {
   "cell_type": "code",
   "execution_count": null,
   "id": "91246106-d3ea-4ca5-8be3-37b808a63256",
   "metadata": {},
   "outputs": [],
   "source": [
    "e = vandv.check_last_evt(mount.evt_cameraCableWrapSystemState)"
   ]
  },
  {
   "cell_type": "code",
   "execution_count": null,
   "id": "d18a96ad-c5ba-47b3-9bea-34a2d8fa8827",
   "metadata": {},
   "outputs": [],
   "source": [
    "df = await client.select_top_n(\n",
    "    \"lsst.sal.MTMount.logevent_cameraCableWrapSystemState\", \n",
    "    fields=\"*\",\n",
    "    num=2,\n",
    ")\n",
    "\n",
    "print(df)"
   ]
  },
  {
   "cell_type": "markdown",
   "id": "0302037b-5c67-4340-9a40-d454c04ce31a",
   "metadata": {},
   "source": [
    "With the CCW still following the Rotator, send an MTMount_command_disableCameraCableWrapFollowing command through SAL."
   ]
  },
  {
   "cell_type": "code",
   "execution_count": null,
   "id": "bf0feb13-f202-4057-b668-110951c22202",
   "metadata": {},
   "outputs": [],
   "source": [
    "await mount.cmd_disableCameraCableWrapFollowing.set_start()"
   ]
  },
  {
   "cell_type": "code",
   "execution_count": null,
   "id": "2719406c-668e-4c80-98f0-8256be7d8bbc",
   "metadata": {},
   "outputs": [],
   "source": [
    "e = vandv.check_last_evt(mount.evt_cameraCableWrapFollowing)"
   ]
  },
  {
   "cell_type": "code",
   "execution_count": null,
   "id": "5776d970-15fb-47f0-b284-ffd9f988ff28",
   "metadata": {},
   "outputs": [],
   "source": [
    "df = await client.select_top_n(\n",
    "    \"lsst.sal.MTMount.logevent_cameraCableWrapFollowing\", \n",
    "    fields=\"enabled\",\n",
    "    num=2,\n",
    ")\n",
    "\n",
    "print(df)"
   ]
  },
  {
   "cell_type": "markdown",
   "id": "b93c61a3-73be-4563-b67a-bc0d5df1d683",
   "metadata": {},
   "source": [
    "Send an MTMount_command_enablecameracableWrapFollowing command through SAL."
   ]
  },
  {
   "cell_type": "code",
   "execution_count": null,
   "id": "b9f461c7-abbf-4a42-be26-ef399d55915e",
   "metadata": {},
   "outputs": [],
   "source": [
    "await mount.cmd_enableCameraCableWrapFollowing.set_start()"
   ]
  },
  {
   "cell_type": "code",
   "execution_count": null,
   "id": "68f3030c-3405-40dd-9dec-6a4c246fbfd8",
   "metadata": {},
   "outputs": [],
   "source": [
    "e = vandv.check_last_evt(mount.evt_cameraCableWrapFollowing)"
   ]
  },
  {
   "cell_type": "code",
   "execution_count": null,
   "id": "07a44e84-4128-4146-94fe-cf9398937690",
   "metadata": {},
   "outputs": [],
   "source": [
    "df = await client.select_top_n(\n",
    "    \"lsst.sal.MTMount.logevent_cameraCableWrapFollowing\", \n",
    "    fields=\"enabled\",\n",
    "    num=2,\n",
    ")\n",
    "\n",
    "print(df)"
   ]
  },
  {
   "cell_type": "markdown",
   "id": "d26f54cf-9450-4d3e-b66a-5ebd9c95da88",
   "metadata": {},
   "source": [
    "# Move Test\n",
    "<br>Before conducting any movement in elevation, verify the elevation Locking Pins are not engaged."
   ]
  },
  {
   "cell_type": "code",
   "execution_count": null,
   "id": "52df1dc1-095c-4b59-827e-2e729350a884",
   "metadata": {},
   "outputs": [],
   "source": [
    "e = vandv.check_last_evt(mount.evt_elevationLockingPinMotionState)"
   ]
  },
  {
   "cell_type": "code",
   "execution_count": null,
   "id": "44d807e5-11be-42fc-9d7b-8d9b842558d4",
   "metadata": {},
   "outputs": [],
   "source": [
    "df = await client.select_top_n(\n",
    "    \"lsst.sal.MTMount.logevent_elevationLockingPinMotionState\", \n",
    "    fields=\"*\",\n",
    "    num=2,\n",
    ")\n",
    "\n",
    "print(df)"
   ]
  },
  {
   "cell_type": "markdown",
   "id": "f82d3554-a94f-4b4d-a62d-f1f0a06ed8aa",
   "metadata": {},
   "source": [
    "The MTMount_logevent_lockingPinsSystemState event also indicates no locking pins are engaged for any of the motion controllers."
   ]
  },
  {
   "cell_type": "code",
   "execution_count": null,
   "id": "0394c703-c75c-45bf-b71e-47dec9e2232b",
   "metadata": {},
   "outputs": [],
   "source": [
    "e = vandv.check_last_evt(mount.evt_lockingPinsSystemState)"
   ]
  },
  {
   "cell_type": "code",
   "execution_count": null,
   "id": "9190b1dd-d8b0-43a1-a60b-0f923c5f9d01",
   "metadata": {},
   "outputs": [],
   "source": [
    "df = await client.select_top_n(\n",
    "    \"lsst.sal.MTMount.logevent_lockingPinsSystemState\", \n",
    "    fields=\"*\",\n",
    "    num=2,\n",
    ")\n",
    "\n",
    "print(df)"
   ]
  },
  {
   "cell_type": "markdown",
   "id": "fb611d3e-8e76-4ff3-9bca-ad72560eb680",
   "metadata": {},
   "source": [
    "In the enabled state, send an MTMount_command_moveToTarget command of (30deg,30deg)"
   ]
  },
  {
   "cell_type": "code",
   "execution_count": null,
   "id": "2bd04835-d85e-4783-b3fb-8214e820c713",
   "metadata": {},
   "outputs": [],
   "source": [
    "await mount.cmd_moveToTarget.set_start(azimuth=30, elevation=30)"
   ]
  },
  {
   "cell_type": "markdown",
   "id": "d94f69d9-06bf-4692-b494-ea8f44be843d",
   "metadata": {},
   "source": [
    "The command is accepted and the system publishes the MTMount_logevent_azimuthInPosition and MTMount_logevent_elevationInPosition events once the \n",
    "command is reached with reasonable parameters."
   ]
  },
  {
   "cell_type": "code",
   "execution_count": null,
   "id": "1f740da7-47aa-49c9-b83e-6a7201ecde0e",
   "metadata": {},
   "outputs": [],
   "source": [
    "e = vandv.check_last_evt(mount.evt_azimuthInPosition)"
   ]
  },
  {
   "cell_type": "code",
   "execution_count": null,
   "id": "69e705e3-347f-472e-936a-8c7ec7115355",
   "metadata": {},
   "outputs": [],
   "source": [
    "df = await client.select_top_n(\n",
    "    \"lsst.sal.MTMount.logevent_azimuthInPosition\", \n",
    "    fields=\"inPosition\",\n",
    "    num=2,\n",
    ")\n",
    "\n",
    "print(df)"
   ]
  },
  {
   "cell_type": "code",
   "execution_count": null,
   "id": "879fd029-cac0-4f0b-8175-336a57e11f0a",
   "metadata": {},
   "outputs": [],
   "source": [
    "e = vandv.check_last_evt(mount.evt_elevationInPosition)"
   ]
  },
  {
   "cell_type": "code",
   "execution_count": null,
   "id": "72cd9d27-d3d3-46ef-a5d1-18fe277d6b71",
   "metadata": {},
   "outputs": [],
   "source": [
    "df = await client.select_top_n(\n",
    "    \"lsst.sal.MTMount.logevent_elevationInPosition\", \n",
    "    fields=\"inPosition\",\n",
    "    num=2,\n",
    ")\n",
    "\n",
    "print(df)"
   ]
  },
  {
   "cell_type": "markdown",
   "id": "a66915ef-400c-4b6f-bd76-535f137ac80b",
   "metadata": {},
   "source": [
    "The MTMount_logevent_azimuthMotionState and MTMount_logevent_elevationMotionState are published indicating they are in motion."
   ]
  },
  {
   "cell_type": "code",
   "execution_count": null,
   "id": "a6a53b55-44d5-46cf-b740-a5dd49f7e497",
   "metadata": {},
   "outputs": [],
   "source": [
    "e = vandv.check_last_evt(mount.evt_azimuthMotionState)"
   ]
  },
  {
   "cell_type": "code",
   "execution_count": null,
   "id": "d9ef1dbd-868a-4c0d-950f-f1e54cd76cea",
   "metadata": {},
   "outputs": [],
   "source": [
    "df = await client.select_top_n(\n",
    "    \"lsst.sal.MTMount.logevent_azimuthMotionState\", \n",
    "    fields=\"state\",\n",
    "    num=2,\n",
    ")\n",
    "\n",
    "print(df)"
   ]
  },
  {
   "cell_type": "code",
   "execution_count": null,
   "id": "c1a1d26b-cddf-4547-b1df-56e542908bdf",
   "metadata": {},
   "outputs": [],
   "source": [
    "e = vandv.check_last_evt(mount.evt_elevationMotionState)"
   ]
  },
  {
   "cell_type": "code",
   "execution_count": null,
   "id": "d2d159b1-9053-4ee8-bec2-83496ac53613",
   "metadata": {},
   "outputs": [],
   "source": [
    "df = await client.select_top_n(\n",
    "    \"lsst.sal.MTMount.logevent_elevationMotionState\", \n",
    "    fields=\"state\",\n",
    "    num=2,\n",
    ")\n",
    "\n",
    "print(df)"
   ]
  },
  {
   "cell_type": "markdown",
   "id": "3dc70241-d5b4-4775-a7b3-e2e06d3fa09f",
   "metadata": {},
   "source": [
    "The MTMount_logevent_cameraCableWrapMotionState event is updated with reasonable parameters as the CCW follows during this motion"
   ]
  },
  {
   "cell_type": "code",
   "execution_count": null,
   "id": "1b16bb5d-f722-4d63-90c4-54f5f366ecc5",
   "metadata": {},
   "outputs": [],
   "source": [
    "e = vandv.check_last_evt(mount.evt_cameraCableWrapMotionState)"
   ]
  },
  {
   "cell_type": "code",
   "execution_count": null,
   "id": "2099747f-8461-403e-b852-966d52767277",
   "metadata": {},
   "outputs": [],
   "source": [
    "df = await client.select_top_n(\n",
    "    \"lsst.sal.MTMount.logevent_cameraCableWrapMotionState\", \n",
    "    fields=\"state\",\n",
    "    num=2,\n",
    ")\n",
    "\n",
    "print(df)"
   ]
  },
  {
   "cell_type": "markdown",
   "id": "969fa51a-b624-4f88-8726-1329667082ce",
   "metadata": {},
   "source": [
    "Upon reaching the commanded position, the MTMount_logevent_cameraCableWrapInPosition event publishes to the EFD with reasonable parameters."
   ]
  },
  {
   "cell_type": "code",
   "execution_count": null,
   "id": "115891ab-3c5d-4677-81a7-f7265226f449",
   "metadata": {},
   "outputs": [],
   "source": [
    "e = vandv.check_last_evt(mount.evt_cameraCableWrapInPosition)"
   ]
  },
  {
   "cell_type": "code",
   "execution_count": null,
   "id": "a9c111d3-a548-4322-90c8-ff9574d437ce",
   "metadata": {},
   "outputs": [],
   "source": [
    "df = await client.select_top_n(\n",
    "    \"lsst.sal.MTMount.logevent_cameraCableWrapInPosition\", \n",
    "    fields=\"inPosition\",\n",
    "    num=2,\n",
    ")\n",
    "\n",
    "print(df)"
   ]
  },
  {
   "cell_type": "markdown",
   "id": "18b26a1c-9683-44eb-bade-c6745d312c9c",
   "metadata": {},
   "source": [
    "The MTMount_logevent_azimuthCableWrapSystemState event publishes to the EFD with reasonable parameters as the Cable Wrap moves."
   ]
  },
  {
   "cell_type": "code",
   "execution_count": null,
   "id": "4e442626-7820-4a92-9aa7-f1ee0a6abdab",
   "metadata": {},
   "outputs": [],
   "source": [
    "e = vandv.check_last_evt(mount.evt_azimuthCableWrapSystemState)"
   ]
  },
  {
   "cell_type": "code",
   "execution_count": null,
   "id": "dc2f239b-0f06-48ab-94f3-3fe3dbf743d0",
   "metadata": {},
   "outputs": [],
   "source": [
    "df = await client.select_top_n(\n",
    "    \"lsst.sal.MTMount.logevent_azimuthCableWrapSystemState\", \n",
    "    fields=\"*\",\n",
    "    num=2,\n",
    ")\n",
    "\n",
    "print(df)"
   ]
  },
  {
   "cell_type": "markdown",
   "id": "5efd089a-f7f1-4b94-8ac0-029993ebe055",
   "metadata": {},
   "source": [
    "**Stop Test**\n",
    "<br>Send a larger MTMount_command_moveToTarget command of (60deg,60deg)"
   ]
  },
  {
   "cell_type": "code",
   "execution_count": null,
   "id": "4dfc8827-f86b-4d30-b6df-3665d8fa9042",
   "metadata": {},
   "outputs": [],
   "source": [
    "await mount.cmd_moveToTarget.set_start(azimuth=60, elevation=60)"
   ]
  },
  {
   "cell_type": "markdown",
   "id": "99cc34a0-9e00-47bd-b6c8-2a6dbff8dd57",
   "metadata": {},
   "source": [
    "While the system is still in motion, send a MTMount_command_stop command."
   ]
  },
  {
   "cell_type": "code",
   "execution_count": null,
   "id": "e71b10d8-fde5-4f02-8d66-dcaf597833bc",
   "metadata": {},
   "outputs": [],
   "source": [
    "await mount.cmd_stop.set_start()"
   ]
  },
  {
   "cell_type": "markdown",
   "id": "a3bf93bc-071d-4ae6-8213-2adc903b4d56",
   "metadata": {},
   "source": [
    "# Tracking Test\n",
    "<br>Send an MTMount_command_homeBothAxes command to home the elevation and azimuth axes.\n",
    "<br>Notes: \n",
    "The encoder tapes have unique fiducial marks on the order of every few degrees.\n",
    "Elevation homing only occurs in the positive direction so if this command is sent while the telescope is in zenith, then this will cause an issue."
   ]
  },
  {
   "cell_type": "code",
   "execution_count": null,
   "id": "69deaa1b-da3a-4784-beb3-bb3d8366b84f",
   "metadata": {},
   "outputs": [],
   "source": [
    "await mount.cmd_homeBothAxes.set_start()"
   ]
  },
  {
   "cell_type": "markdown",
   "id": "3873463b-c96d-404c-92a6-356d02b67969",
   "metadata": {},
   "source": [
    "The MTMount_azimuth and MTMount_elevation telemetry topics publish data to the EFD with reasonable values"
   ]
  },
  {
   "cell_type": "code",
   "execution_count": null,
   "id": "3f91f254-cefa-4026-a988-ffaf155cc631",
   "metadata": {},
   "outputs": [],
   "source": [
    "e = vandv.check_last_evt(mount.tel_azimuth)"
   ]
  },
  {
   "cell_type": "code",
   "execution_count": null,
   "id": "adfd5a1c-ad45-4d07-99a3-1fdbf3bd8905",
   "metadata": {},
   "outputs": [],
   "source": [
    "df = await client.select_top_n(\n",
    "    \"lsst.sal.MTMount.azimuth\", \n",
    "    fields=\"*\",\n",
    "    num=2,\n",
    ")\n",
    "\n",
    "print(df)"
   ]
  },
  {
   "cell_type": "code",
   "execution_count": null,
   "id": "dd0f4daa-972b-4fee-960c-c2551b9474f6",
   "metadata": {},
   "outputs": [],
   "source": [
    "e = vandv.check_last_evt(mount.tel_elevation)"
   ]
  },
  {
   "cell_type": "code",
   "execution_count": null,
   "id": "4de0bed3-2882-408d-8dc4-4772c2ef477d",
   "metadata": {},
   "outputs": [],
   "source": [
    "df = await client.select_top_n(\n",
    "    \"lsst.sal.MTMount.elevation\", \n",
    "    fields=\"*\",\n",
    "    num=2,\n",
    ")\n",
    "\n",
    "print(df)"
   ]
  },
  {
   "cell_type": "markdown",
   "id": "6b95c184-8cd0-4e53-89f4-17c1696926a8",
   "metadata": {},
   "source": [
    "Send an MTMount_command_startTracking command through SAL."
   ]
  },
  {
   "cell_type": "code",
   "execution_count": null,
   "id": "45b7675d-a985-43d0-b18b-d849d5660deb",
   "metadata": {},
   "outputs": [],
   "source": [
    "await mount.cmd_startTracking.set_start()"
   ]
  },
  {
   "cell_type": "markdown",
   "id": "1488536a-778a-4b64-82b4-9f9115f7e70e",
   "metadata": {},
   "source": [
    "# Track Target Command"
   ]
  },
  {
   "cell_type": "markdown",
   "id": "60d17f94-269c-42ac-a5ba-b76cb27201e2",
   "metadata": {},
   "source": [
    "Send an MTMount_command_trackTarget command. Need Example parameters. (Need to send more data at once using multi line in a single cell)"
   ]
  },
  {
   "cell_type": "code",
   "execution_count": null,
   "id": "1ea7219b-9d32-4338-991b-22fe1a2c5b63",
   "metadata": {},
   "outputs": [],
   "source": [
    "await mount.cmd_trackTarget.set_start(azimuth=65, azimuthVelocity=0, elevation=65, elevationVelocity=0, taiTime=1.2, trackId =0 , tracksys = \"local\", radesys= \"ICRS\")"
   ]
  },
  {
   "cell_type": "markdown",
   "id": "d7c9eb31-9f50-40fe-b56b-7afda68db03b",
   "metadata": {},
   "source": [
    "Need to modify the following script to create a function for sending multiple track targert commands. "
   ]
  },
  {
   "cell_type": "code",
   "execution_count": null,
   "id": "edf0c746-fd21-4b43-9a1a-1de602cb85ed",
   "metadata": {},
   "outputs": [],
   "source": [
    "STD_TIMEOUT = 2\n",
    "TRACK_INTERVAL = 0.1 # interval between tracking updates (seconds)\n",
    "# How far in advance to set the time field of tracking commands (seconds)\n",
    "TRACK_ADVANCE_TIME = 0.05"
   ]
  },
  {
   "cell_type": "code",
   "execution_count": null,
   "id": "1155add7-3406-4832-a1f9-ae34d2613917",
   "metadata": {},
   "outputs": [],
   "source": [
    "az = [30,35,40,45,50]\n",
    "azVel = [0.2,0.4,0.6,0.8,1.0] \n",
    "el = [30,35,40,45,50]\n",
    "elVel = [0.2,0.4,0.6,0.8,1.0] \n",
    "ti = [0.1,0.2,0.3,0.6,1.1]\n",
    "tid = [1,2,3,4,5]\n",
    "iteration = [0,1,2,3,4]\n",
    "await mount.cmd_startTracking.set_start()\n",
    "for i in iteration:\n",
    "    await mount.cmd_trackTarget.set_start(\n",
    "                    azimuth=az[i],\n",
    "                    azimuthVelocity=azVel[i],\n",
    "                    elevation=el[i],\n",
    "                    elevationVelocity=elVel[i],\n",
    "                    taiTime=ti[i],\n",
    "                    trackId=tid[i],\n",
    "                    tracksys=\"local\",\n",
    "                    radesys=\"ICRS\",\n",
    "                )\n",
    "    await asyncio.sleep(TRACK_INTERVAL)\n"
   ]
  },
  {
   "cell_type": "markdown",
   "id": "3f42d20c-671d-4c45-8f02-a6a894347341",
   "metadata": {},
   "source": [
    "The MTMount_logevent_target event publishes the reached target to the EFD."
   ]
  },
  {
   "cell_type": "code",
   "execution_count": null,
   "id": "adc2ac56-608c-496d-b52a-7c00418d8e12",
   "metadata": {},
   "outputs": [],
   "source": [
    "e = vandv.check_last_evt(mount.evt_target)"
   ]
  },
  {
   "cell_type": "code",
   "execution_count": null,
   "id": "96a9ad18-0784-4ecd-af0e-75db22d253a5",
   "metadata": {},
   "outputs": [],
   "source": [
    "df = await client.select_top_n(\n",
    "    \"lsst.sal.MTMount.logevent_target\", \n",
    "    fields=\"*\",\n",
    "    num=2,\n",
    ")\n",
    "\n",
    "print(df)"
   ]
  },
  {
   "cell_type": "markdown",
   "id": "4a1bfd16-b6f4-4326-9fc5-9d7e533f0bcf",
   "metadata": {},
   "source": [
    "The CCW follows and publishes an MTMount_logevent_cameraCableWrapTarget event to the EFD with reasonable values."
   ]
  },
  {
   "cell_type": "code",
   "execution_count": null,
   "id": "e179cd59-37cc-4ec6-a7d3-8e44f3b88600",
   "metadata": {},
   "outputs": [],
   "source": [
    "e = vandv.check_last_evt(mount.evt_cameraCableWrapTarget )"
   ]
  },
  {
   "cell_type": "code",
   "execution_count": null,
   "id": "aad6fab8-e58e-44e7-a709-17d03837a802",
   "metadata": {},
   "outputs": [],
   "source": [
    "df = await client.select_top_n(\n",
    "    \"lsst.sal.MTMount.logevent_cameraCableWrapTarget\", \n",
    "    fields=\"*\",\n",
    "    num=2,\n",
    ")\n",
    "\n",
    "print(df)"
   ]
  },
  {
   "cell_type": "markdown",
   "id": "affb4a78-43cb-4e59-a193-14ea9fd22b5c",
   "metadata": {},
   "source": [
    "Send an MTAOS_command_stopTracking command through SAL."
   ]
  },
  {
   "cell_type": "code",
   "execution_count": null,
   "id": "346ff189-24d0-4da9-a5ab-91937e9b369f",
   "metadata": {},
   "outputs": [],
   "source": [
    "await mount.cmd_stopTracking.set_start()"
   ]
  },
  {
   "cell_type": "markdown",
   "id": "9fbf6e5d-d22b-4d34-a75a-21a3160f49a7",
   "metadata": {},
   "source": [
    "# Error Test\n",
    "<br>Send another MTMount_command_startTracking command."
   ]
  },
  {
   "cell_type": "code",
   "execution_count": null,
   "id": "36a0bb5b-7616-4a5a-a46f-27f48060444c",
   "metadata": {},
   "outputs": [],
   "source": [
    "await mount.cmd_startTracking.set_start()"
   ]
  },
  {
   "cell_type": "markdown",
   "id": "49d8c693-5091-42c9-9bce-5fca3d357328",
   "metadata": {},
   "source": [
    "Wait until an error is published due to a lack of MTMount_command_trackTarget commands."
   ]
  },
  {
   "cell_type": "code",
   "execution_count": null,
   "id": "645e33d4-a9d7-41a8-a916-82184a8b5be2",
   "metadata": {},
   "outputs": [],
   "source": [
    "e = vandv.check_last_evt(mount.evt_error)"
   ]
  },
  {
   "cell_type": "code",
   "execution_count": null,
   "id": "8a6a5a8c-9f93-4c79-9915-8e035e1b96ec",
   "metadata": {},
   "outputs": [],
   "source": [
    "df = await client.select_top_n(\n",
    "    \"lsst.sal.MTMount.logevent_error\", \n",
    "    fields=\"*\",\n",
    "    num=2,\n",
    ")\n",
    "\n",
    "print(df)"
   ]
  },
  {
   "cell_type": "code",
   "execution_count": null,
   "id": "8d00aeb1-4ce3-4673-a55c-d30d145549ab",
   "metadata": {},
   "outputs": [],
   "source": [
    "e = mount.evt_summaryState.get()\n",
    "print(\"MTMount now in state:\", e.summaryState)"
   ]
  },
  {
   "cell_type": "markdown",
   "id": "db9c69d6-090b-4da5-897c-9e9f9687af34",
   "metadata": {},
   "source": [
    "Send an MTMount_command_clearError command to transition the system out of the FAULT state."
   ]
  },
  {
   "cell_type": "code",
   "execution_count": null,
   "id": "51ad94cb-9b8c-452f-8146-87f2ed55bd33",
   "metadata": {},
   "outputs": [],
   "source": [
    "await mount.cmd_clearError.set_start()"
   ]
  },
  {
   "cell_type": "code",
   "execution_count": null,
   "id": "65e52874-f4eb-4671-9dc2-e96ee7515a3f",
   "metadata": {},
   "outputs": [],
   "source": [
    "print(\"  Transitioning to DISABLED state\")\n",
    "await salobj.set_summary_state(mount, salobj.State.DISABLED)"
   ]
  },
  {
   "cell_type": "code",
   "execution_count": null,
   "id": "a7fae500-085c-4f8e-ae7b-2071dcb4fe43",
   "metadata": {},
   "outputs": [],
   "source": [
    "e = mount.evt_summaryState.get()\n",
    "print(\"MTMount now in state:\", e.summaryState)"
   ]
  },
  {
   "cell_type": "code",
   "execution_count": null,
   "id": "421a2d07-1387-4296-8114-d8184abbfcfd",
   "metadata": {},
   "outputs": [],
   "source": []
  }
 ],
 "metadata": {
  "kernelspec": {
   "display_name": "LSST",
   "language": "python",
   "name": "lsst"
  },
  "language_info": {
   "codemirror_mode": {
    "name": "ipython",
    "version": 3
   },
   "file_extension": ".py",
   "mimetype": "text/x-python",
   "name": "python",
   "nbconvert_exporter": "python",
   "pygments_lexer": "ipython3",
   "version": "3.10.4"
  }
 },
 "nbformat": 4,
 "nbformat_minor": 5
}
