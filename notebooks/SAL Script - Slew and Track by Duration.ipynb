{
 "cells": [
  {
   "cell_type": "markdown",
   "id": "e7d9d9cf-3210-4c2d-befa-af8a77903778",
   "metadata": {},
   "source": [
    "# SAL Script - Slew and Track\n",
    "\n",
    "Performs a single slew and track using SAL Script.  \n",
    "It can be used as a minimum functionality prototype for the Soak Test."
   ]
  },
  {
   "cell_type": "markdown",
   "id": "cf031fc3-d721-4c42-84f0-c25925224a2b",
   "metadata": {},
   "source": [
    "## Notebook Setup\n",
    "\n",
    "Start by importing relevat libraries, setting up domain, remotes, logs, etc."
   ]
  },
  {
   "cell_type": "code",
   "execution_count": null,
   "id": "b69bce8b-339d-4669-9d77-d08178dbd46a",
   "metadata": {},
   "outputs": [],
   "source": [
    "%load_ext autoreload\n",
    "%autoreload 2\n",
    "\n",
    "import os\n",
    "import sys\n",
    "import asyncio\n",
    "import logging\n",
    "import yaml\n",
    "\n",
    "\n",
    "import numpy as np\n",
    "\n",
    "from astropy import units as u\n",
    "from astropy.time import Time\n",
    "\n",
    "from lsst.ts import salobj\n",
    "from lsst.ts.idl.enums.Script import ScriptState\n",
    "from lsst.ts.standardscripts.maintel.track_target import TrackTarget\n",
    "from lsst.sitcom import vandv"
   ]
  },
  {
   "cell_type": "code",
   "execution_count": null,
   "id": "1698f016-48f5-4a26-abe1-a35d1e84c724",
   "metadata": {
    "tags": []
   },
   "outputs": [],
   "source": [
    "track_target = TrackTarget(index=199)\n",
    "await track_target.start_task"
   ]
  },
  {
   "cell_type": "code",
   "execution_count": null,
   "id": "d22e9abb-a508-4d38-ad9f-036f22d0ace4",
   "metadata": {
    "tags": []
   },
   "outputs": [],
   "source": [
    "mtcs = track_target.tcs"
   ]
  },
  {
   "cell_type": "code",
   "execution_count": null,
   "id": "fa526a28-5ce6-49ed-a565-0b6579237d09",
   "metadata": {
    "tags": []
   },
   "outputs": [],
   "source": [
    "vandv.logger.add_filter_to_mtcs()"
   ]
  },
  {
   "cell_type": "markdown",
   "id": "4ce01a90-79b9-4f1a-8e57-291e6acb3b13",
   "metadata": {},
   "source": [
    "## Prepare Components"
   ]
  },
  {
   "cell_type": "code",
   "execution_count": null,
   "id": "85502763-9803-4b67-b444-9b59280c0f03",
   "metadata": {},
   "outputs": [],
   "source": [
    "await mtcs.set_state(\n",
    "    salobj.State.DISABLED, \n",
    "    components=[\n",
    "        \"mtmount\", \n",
    "        \"mtrotator\",\n",
    "        \"mtptg\",\n",
    "    ]\n",
    ")\n"
   ]
  },
  {
   "cell_type": "code",
   "execution_count": null,
   "id": "649baf8f-6fb2-463a-a4a4-53929ec66884",
   "metadata": {
    "tags": []
   },
   "outputs": [],
   "source": [
    "await mtcs.set_state(\n",
    "    salobj.State.ENABLED, \n",
    "    components=[\n",
    "        \"mtmount\",\n",
    "        # \"mtrotator\", \n",
    "        \"mtptg\",\n",
    "    ]\n",
    ")\n",
    "\n",
    "await mtcs.rem.mtmount.cmd_setLogLevel.set_start(level=15)\n",
    "\n",
    "# await mtcs.disable_ccw_following()"
   ]
  },
  {
   "cell_type": "code",
   "execution_count": null,
   "id": "f03341b2-5a7c-432c-8680-84d6854886e9",
   "metadata": {},
   "outputs": [],
   "source": [
    "az = mtcs.rem.mtmount.tel_azimuth.get().actualPosition\n",
    "el = mtcs.rem.mtmount.tel_elevation.get().actualPosition\n",
    "\n",
    "print(az, el)"
   ]
  },
  {
   "cell_type": "code",
   "execution_count": null,
   "id": "e5230190-bef3-4845-8d18-297c86d5d62f",
   "metadata": {},
   "outputs": [],
   "source": [
    "await mtcs.rem.mtmount.cmd_homeBothAxes.start(timeout=300)"
   ]
  },
  {
   "cell_type": "markdown",
   "id": "f84978c6-98d7-42c0-b12f-f979ee1f1633",
   "metadata": {},
   "source": [
    "## Helper Functions"
   ]
  },
  {
   "cell_type": "code",
   "execution_count": null,
   "id": "b95e77c8-5869-40af-9f97-866926295540",
   "metadata": {
    "tags": []
   },
   "outputs": [],
   "source": [
    "async def slew_and_track(az, el, track_for, rot_type=\"Physical\", rot_value=0):\n",
    "    \"\"\"Use the `TrackTarget` standard script to slew and track \n",
    "    one coordinate emulating the Script Queue.\n",
    "    \n",
    "    Parameters\n",
    "    ----------\n",
    "    az : `float`\n",
    "        Azimuth in hour angle.\n",
    "    el :  `float`\n",
    "        Elevation in degrees.\n",
    "    track_for : `float` \n",
    "        Number of seconds to track for.\n",
    "    rot_type : `str`\n",
    "        Type of rotation tracking. \n",
    "    rot_value : `float` \n",
    "        Rotation angle in degrees.\n",
    "    \"\"\"\n",
    "    radec = track_target.tcs.radec_from_azel(az, el)\n",
    "    \n",
    "    configuration = yaml.safe_dump(\n",
    "        {\n",
    "            \"slew_icrs\": {\n",
    "                \"ra\": float(radec.ra.hour),\n",
    "                \"dec\": float(radec.dec.deg),\n",
    "            }, \n",
    "            \"rot_value\": rot_value, \n",
    "            \"rot_type\": rot_type, \n",
    "            \"track_for\": track_for, \n",
    "            \"stop_when_done\": False,\n",
    "            \"ignore\": [\n",
    "                \"mtaos\",\n",
    "                \"mtdome\",\n",
    "                \"mtdometrajectory\",\n",
    "                \"mthexapod_1\",\n",
    "                \"mthexapod_2\", \n",
    "                \"mtm1m3\", \n",
    "                \"mtm2\",\n",
    "                \"mtrotator\",\n",
    "            ],\n",
    "        }\n",
    "    )\n",
    "\n",
    "    # Set script state to UNCONFIGURED\n",
    "    # this is required to run the script a 2nd time but otherwise is a no-op\n",
    "    await track_target.set_state(ScriptState.UNCONFIGURED)\n",
    "\n",
    "    # Configure the script, which puts the ScriptState to CONFIGURED\n",
    "    config_data = track_target.cmd_configure.DataType()\n",
    "    config_data.config = configuration\n",
    "\n",
    "    await track_target.do_configure(config_data)\n",
    "    results = await track_target.run()"
   ]
  },
  {
   "cell_type": "markdown",
   "id": "2b0db505-e6e5-47b5-8bd5-2f42d88d0d70",
   "metadata": {},
   "source": [
    "## Run Observation Simulation"
   ]
  },
  {
   "cell_type": "code",
   "execution_count": null,
   "id": "efb65f6c-e612-40cf-9fcf-6d64201deeed",
   "metadata": {},
   "outputs": [],
   "source": [
    "az = mtcs.rem.mtmount.tel_azimuth.get().actualPosition\n",
    "el = mtcs.rem.mtmount.tel_elevation.get().actualPosition\n",
    "\n",
    "print(az, el)"
   ]
  },
  {
   "cell_type": "code",
   "execution_count": null,
   "id": "4f4f7399-e306-4a33-91ec-9a6900420bcb",
   "metadata": {
    "tags": []
   },
   "outputs": [],
   "source": [
    "azel_generator = vandv.slew_and_track.random_walk_azel_by_time(\n",
    "    total_time=0.1 * 3600.,\n",
    "    mtmount=mtcs.rem.mtmount,\n",
    "    logger=track_target.log, \n",
    "    big_slew_prob=0.10, # 10% probability\n",
    "    big_slew_radius=9.0,\n",
    ")\n",
    "\n",
    "for az, el in azel_generator:\n",
    "\n",
    "    ## Comment the line below if you want to run with hardware\n",
    "    # await asyncio.sleep(1)\n",
    "    \n",
    "    ## Uncomment the line below if you want to run with hardware\n",
    "    await slew_and_track(az, el, 39, rot_type=\"Physical\", rot_value=0)"
   ]
  },
  {
   "cell_type": "code",
   "execution_count": null,
   "id": "552186d6-896f-4374-9411-dd15ea091013",
   "metadata": {},
   "outputs": [],
   "source": [
    "az_grid = [180, 135, 90, 45, 0, -45, -90]\n",
    "el_grid = [30, 60, 85]\n",
    "\n",
    "azel_generator = vandv.slew_and_track.azel_grid_by_time(\n",
    "    total_time=60, \n",
    "    _az_grid=az_grid, \n",
    "    _el_grid=el_grid,\n",
    "    logger=track_target.log,\n",
    ")\n",
    "\n",
    "for az, el in azel_generator:\n",
    "    \n",
    "    ## Comment the line below if you want to run with hardware\n",
    "    await asyncio.sleep(1)\n",
    "    \n",
    "    ## Uncomment the line below if you want to run with hardware\n",
    "    # await slew_and_track(az, el, 39, rot_type=\"Physical\", rot_value=0)"
   ]
  },
  {
   "cell_type": "code",
   "execution_count": null,
   "id": "6db9d5ae-a1a8-4fcd-95ea-14b2e15fde62",
   "metadata": {},
   "outputs": [],
   "source": [
    "await mtcs.point_azel(az=0, el=80)\n",
    "await mtcs.stop_tracking()"
   ]
  },
  {
   "cell_type": "code",
   "execution_count": null,
   "id": "91316f69-fa39-4726-a3f8-e831aa93bcbe",
   "metadata": {},
   "outputs": [],
   "source": []
  }
 ],
 "metadata": {
  "kernelspec": {
   "display_name": "LSST",
   "language": "python",
   "name": "lsst"
  },
  "language_info": {
   "codemirror_mode": {
    "name": "ipython",
    "version": 3
   },
   "file_extension": ".py",
   "mimetype": "text/x-python",
   "name": "python",
   "nbconvert_exporter": "python",
   "pygments_lexer": "ipython3",
   "version": "3.10.6"
  }
 },
 "nbformat": 4,
 "nbformat_minor": 5
}
