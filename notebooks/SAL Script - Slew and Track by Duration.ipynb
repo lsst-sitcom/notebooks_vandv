{
 "cells": [
  {
   "cell_type": "markdown",
   "id": "e7d9d9cf-3210-4c2d-befa-af8a77903778",
   "metadata": {},
   "source": [
    "# SAL Script - Slew and Track\n",
    "\n",
    "Performs a single slew and track using SAL Script.  \n",
    "It can be used as a minimum functionality prototype for the Soak Test."
   ]
  },
  {
   "cell_type": "markdown",
   "id": "cf031fc3-d721-4c42-84f0-c25925224a2b",
   "metadata": {},
   "source": [
    "## Notebook Setup\n",
    "\n",
    "Start by importing relevat libraries, setting up domain, remotes, logs, etc."
   ]
  },
  {
   "cell_type": "code",
   "execution_count": null,
   "id": "b69bce8b-339d-4669-9d77-d08178dbd46a",
   "metadata": {},
   "outputs": [],
   "source": [
    "%load_ext autoreload\n",
    "%autoreload 2\n",
    "\n",
    "import os\n",
    "import sys\n",
    "import asyncio\n",
    "import logging\n",
    "import yaml\n",
    "\n",
    "import numpy as np\n",
    "\n",
    "from astropy import units as u\n",
    "from astropy.time import Time\n",
    "\n",
    "from lsst.ts import salobj\n",
    "from lsst.ts.idl.enums.Script import ScriptState\n",
    "from lsst.ts.standardscripts.maintel.track_target import TrackTarget"
   ]
  },
  {
   "cell_type": "code",
   "execution_count": null,
   "id": "1698f016-48f5-4a26-abe1-a35d1e84c724",
   "metadata": {},
   "outputs": [],
   "source": [
    "track_target = TrackTarget(index=-20221117)\n",
    "await track_target.start_task"
   ]
  },
  {
   "cell_type": "code",
   "execution_count": null,
   "id": "d22e9abb-a508-4d38-ad9f-036f22d0ace4",
   "metadata": {},
   "outputs": [],
   "source": [
    "mtcs = track_target.tcs"
   ]
  },
  {
   "cell_type": "markdown",
   "id": "4ce01a90-79b9-4f1a-8e57-291e6acb3b13",
   "metadata": {},
   "source": [
    "## Prepare Components"
   ]
  },
  {
   "cell_type": "code",
   "execution_count": null,
   "id": "85502763-9803-4b67-b444-9b59280c0f03",
   "metadata": {},
   "outputs": [],
   "source": [
    "await mtcs.set_state(salobj.State.DISABLED, components=[\"mtmount\", \"mtrotator\"])"
   ]
  },
  {
   "cell_type": "code",
   "execution_count": null,
   "id": "649baf8f-6fb2-463a-a4a4-53929ec66884",
   "metadata": {},
   "outputs": [],
   "source": [
    "await mtcs.set_state(salobj.State.ENABLED, components=[\"mtmount\", \"mtrotator\"])"
   ]
  },
  {
   "cell_type": "code",
   "execution_count": null,
   "id": "f03341b2-5a7c-432c-8680-84d6854886e9",
   "metadata": {},
   "outputs": [],
   "source": [
    "az = mtcs.rem.mtmount.tel_azimuth.get().actualPosition\n",
    "el = mtcs.rem.mtmount.tel_elevation.get().actualPosition\n",
    "\n",
    "print(az, el)"
   ]
  },
  {
   "cell_type": "code",
   "execution_count": null,
   "id": "acd6ae4a-7a31-45a4-979d-17ef81705a64",
   "metadata": {},
   "outputs": [],
   "source": [
    "await mtcs.rem.mtmount.cmd_moveToTarget.set_start(azimuth=2, elevation=62)"
   ]
  },
  {
   "cell_type": "code",
   "execution_count": null,
   "id": "e5230190-bef3-4845-8d18-297c86d5d62f",
   "metadata": {},
   "outputs": [],
   "source": [
    "await mtcs.rem.mtmount.cmd_homeBothAxes.start(timeout=300)"
   ]
  },
  {
   "cell_type": "markdown",
   "id": "f84978c6-98d7-42c0-b12f-f979ee1f1633",
   "metadata": {},
   "source": [
    "## Helper Functions"
   ]
  },
  {
   "cell_type": "code",
   "execution_count": null,
   "id": "b60adcdf-f351-4e8d-b12f-6c795cb518a8",
   "metadata": {},
   "outputs": [],
   "source": [
    "def random_walk_azel_by_time(total_time, \n",
    "                             radius=3.5, \n",
    "                             min_az=-200., \n",
    "                             max_az=+200, \n",
    "                             min_el=30, \n",
    "                             max_el=80):\n",
    "    \"\"\"\n",
    "    Generate Az/El coordinates for a a long time so we can slew and track \n",
    "    to these targets. \n",
    "    \n",
    "    Parameters\n",
    "    ----------\n",
    "    total_time : `float`\n",
    "        Total observation time in seconds.\n",
    "    radius : `float`, default 3.5\n",
    "        Radius of the circle where the next coordinate will fall.\n",
    "    min_az :  `float`, default -200 \n",
    "        Minimum accepted azimuth in deg.\n",
    "    max_az :  `float`, default +200\n",
    "        Maximum accepted azimuth in deg.\n",
    "    min_el : `float`, default 30\n",
    "        Minimum accepted elevation in deg.\n",
    "    max_el : `float`, default 80\n",
    "        Maximum accepted elevation in deb.\n",
    "    \"\"\"\n",
    "\n",
    "    track_target.log.info(\n",
    "        f\"{'Time':25s}{'Steps':>10s}{'New Az':>10s}{'New El':>10s}\")\n",
    "        \n",
    "    step = 0\n",
    "    timer_task = asyncio.create_task(asyncio.sleep(total_time))\n",
    "    \n",
    "    while not timer_task.done():\n",
    "        \n",
    "        current_az = mtcs.rem.mtmount.tel_azimuth.get()\n",
    "        current_az = current_az.actualPosition\n",
    "        # current_az = _az\n",
    "        offset_az = np.sqrt(radius) * (2 * np.random.rand() - 1)\n",
    "        new_az = current_az + offset_az\n",
    "                \n",
    "        current_el = mtcs.rem.mtmount.tel_elevation.get()\n",
    "        current_el = current_el.actualPosition\n",
    "        # current_el = _el\n",
    "        offset_el = np.sqrt(radius) * (2 * np.random.rand() - 1)\n",
    "        new_el = current_el + offset_el\n",
    "        \n",
    "        if new_az <= min_az or new_az >= max_az:\n",
    "            new_az = current_az - offset_az\n",
    "            \n",
    "        if new_el <= min_el or new_el >= max_el:\n",
    "            new_el = current_el - offset_el\n",
    "\n",
    "        t = Time.now().to_value(\"isot\")\n",
    "        track_target.log.info(\n",
    "            f\"{t:25s}{step:10d}{new_az:10.2f}{new_el:10.2f}\")\n",
    "\n",
    "        yield new_az, new_el\n",
    "        step += 1"
   ]
  },
  {
   "cell_type": "code",
   "execution_count": null,
   "id": "b95e77c8-5869-40af-9f97-866926295540",
   "metadata": {},
   "outputs": [],
   "source": [
    "async def slew_and_track(az, el, track_for):\n",
    "    \"\"\"Use the `TrackTarget` standard script to slew and track \n",
    "    one coordinate emulating the Script Queue.\n",
    "    \n",
    "    Parameters\n",
    "    ----------\n",
    "    az : `float`\n",
    "        Azimuth in hour angle.\n",
    "    el :  `float`\n",
    "        Elevation in degrees.\n",
    "    track_for : `float` \n",
    "        Number of seconds to track for.\n",
    "    \"\"\"\n",
    "    radec = track_target.tcs.radec_from_azel(az, el)\n",
    "    \n",
    "    configuration = yaml.safe_dump(\n",
    "        {\n",
    "            \"slew_icrs\": {\n",
    "                \"ra\": float(radec.ra.hour),\n",
    "                \"dec\": float(radec.dec.deg),\n",
    "            }, \n",
    "            \"rot_value\": 0., \n",
    "            \"rot_type\": \"Physical\", \n",
    "            \"track_for\": track_for, \n",
    "            \"stop_when_done\": True,\n",
    "            # \"ignore\": [\n",
    "            #     \"mtaos\",\n",
    "            #     \"mtdome\",\n",
    "            #     \"mtdometrajectory\",\n",
    "            #     \"mthexapod_1\",\n",
    "            #     \"mthexapod_2\", \n",
    "            #     \"mtm1m3\", \n",
    "            #     \"mtm2\",\n",
    "            # ],\n",
    "        }\n",
    "    )\n",
    "\n",
    "    # Set script state to UNCONFIGURED\n",
    "    # this is required to run the script a 2nd time but otherwise is a no-op\n",
    "    await track_target.set_state(ScriptState.UNCONFIGURED)\n",
    "\n",
    "    # Configure the script, which puts the ScriptState to CONFIGURED\n",
    "    config_data = track_target.cmd_configure.DataType()\n",
    "    config_data.config = configuration\n",
    "\n",
    "    await track_target.do_configure(config_data)\n",
    "    results = await track_target.run()"
   ]
  },
  {
   "cell_type": "markdown",
   "id": "2b0db505-e6e5-47b5-8bd5-2f42d88d0d70",
   "metadata": {},
   "source": [
    "## Run Observation Simulation"
   ]
  },
  {
   "cell_type": "code",
   "execution_count": null,
   "id": "4f4f7399-e306-4a33-91ec-9a6900420bcb",
   "metadata": {},
   "outputs": [],
   "source": [
    "for az, el in random_walk_azel_by_time(120.):\n",
    "    # await asyncio.sleep(10)\n",
    "    await slew_and_track(az, el, 30)"
   ]
  },
  {
   "cell_type": "code",
   "execution_count": null,
   "id": "60ae6909-27cd-4ede-8c95-388ff68f8fd6",
   "metadata": {},
   "outputs": [],
   "source": []
  }
 ],
 "metadata": {
  "kernelspec": {
   "display_name": "LSST",
   "language": "python",
   "name": "lsst"
  },
  "language_info": {
   "codemirror_mode": {
    "name": "ipython",
    "version": 3
   },
   "file_extension": ".py",
   "mimetype": "text/x-python",
   "name": "python",
   "nbconvert_exporter": "python",
   "pygments_lexer": "ipython3",
   "version": "3.10.5"
  }
 },
 "nbformat": 4,
 "nbformat_minor": 5
}
