{
 "cells": [
  {
   "cell_type": "markdown",
   "id": "17ab5fe0-0b7d-4814-94d5-f8badc42f62a",
   "metadata": {},
   "source": [
    "# Error Trend Plot\n",
    "\n",
    "From Craig Lage's notebook collection"
   ]
  },
  {
   "cell_type": "code",
   "execution_count": null,
   "id": "e10463c5-3817-4914-aa80-e22ef27ed291",
   "metadata": {
    "tags": []
   },
   "outputs": [],
   "source": [
    "import numpy as np\n",
    "from datetime import date\n",
    "import matplotlib\n",
    "import matplotlib.pyplot as plt\n",
    "import pandas as pd\n",
    "import astropy.io.fits as pf\n",
    "from astropy.time import Time, TimeDelta"
   ]
  },
  {
   "cell_type": "code",
   "execution_count": null,
   "id": "199459e1-2f12-4aa9-976e-0b8a33fabf6b",
   "metadata": {
    "tags": []
   },
   "outputs": [],
   "source": [
    "def  readRubinTV_json(date, camera):\n",
    "    year = int(date/10000)\n",
    "    month = int((date - 10000 * year)/100)\n",
    "    day = int((date - 10000 * year - 100 * month))\n",
    "    if camera == 'Wide':\n",
    "        filename = f'/scratch/cslage/starTracker/startracker-wide_{year}-{month:02}-{day:02}.json'\n",
    "    elif camera == 'Narrow':\n",
    "        filename = f'/scratch/cslage/starTracker/startracker_{year}-{month:02}-{day:02}.json'\n",
    "    elif camera == 'AuxTel':\n",
    "        filename = f'/scratch/cslage/starTracker/auxtel_{year}-{month:02}-{day:02}.json'\n",
    "    df = pd.read_json(filename)\n",
    "    df = df.transpose()\n",
    "    print(filename)\n",
    "    return df\n",
    "\n",
    "def readOldStarTrackerFiles(date, camera):\n",
    "        filename = f\"/scratch/cslage/starTracker/StarTracker_Summary_{camera}_{date}.txt\"\n",
    "        data = np.loadtxt(filename, skiprows=1)\n",
    "        return data\n"
   ]
  },
  {
   "cell_type": "code",
   "execution_count": null,
   "id": "f7cb6986-4674-4cbd-85c0-0a65b5f8b6e1",
   "metadata": {
    "tags": []
   },
   "outputs": [],
   "source": [
    "[camera, num] = ['Narrow', 102]\n",
    "xaxis = []\n",
    "deltaazs = []\n",
    "deltaels = []\n",
    "dates = [20221123, 20221124, 20221128, 20221207, 20230130, 20230220,  20230221, 20230222, 20230307, 20230308, 20230309]\n",
    "counter = 1\n",
    "for date in dates:\n",
    "    year = int(date/10000)\n",
    "    month = int((date - 10000 * year)/100)\n",
    "    day = int((date - 10000 * year - 100 * month))\n",
    "    if date < 20230220:\n",
    "        data = readOldStarTrackerFiles(date, camera)\n",
    "        for j in range(data.shape[0]):\n",
    "            [seqNum,ra,dec,raSolve,decSolve,Az,El,azSolve,elSolve,deltaAz,deltaEl,\\\n",
    "             rot,rms_error] = data[j]\n",
    "            xaxis.append(counter)\n",
    "            deltaazs.append(abs(deltaAz) * 3600.0)\n",
    "            deltaels.append(abs(deltaEl) * 3600.0)\n",
    "    else:\n",
    "        df = readRubinTV_json(date, camera)\n",
    "        df = df[~df.isnull().any(axis=1)]\n",
    "        for seqNum in df.index.values.tolist():\n",
    "            row = df.loc[seqNum]\n",
    "            deltaAlt = row['Delta Alt Arcsec']\n",
    "            deltaAz = row['Delta Az Arcsec']\n",
    "            if date < 20230309 or (date == 20230309 and seqNum < 1138):\n",
    "                xaxis.append(counter)\n",
    "                deltaazs.append(abs(deltaAz))\n",
    "                deltaels.append(abs(deltaAlt))\n",
    "            if date == 20230309 and seqNum > 1138:\n",
    "                xaxis.append(counter + 1)\n",
    "                deltaazs.append(abs(deltaAz))\n",
    "                deltaels.append(abs(deltaAlt))\n",
    "                \n",
    "    counter += 1\n"
   ]
  },
  {
   "cell_type": "code",
   "execution_count": null,
   "id": "f32cfbc2-09ba-4288-8d64-56aed720d1ad",
   "metadata": {
    "tags": []
   },
   "outputs": [],
   "source": [
    "len(xaxis)"
   ]
  },
  {
   "cell_type": "code",
   "execution_count": null,
   "id": "88171987-edf2-40fe-9858-3b0438e0a86b",
   "metadata": {
    "tags": []
   },
   "outputs": [],
   "source": [
    "plot_dates = dates + [20230309]\n",
    "xticks = np.arange(1,13,1)\n",
    "plt.title(\"StarTracker Narrow Azimuth Error Trend\")\n",
    "plt.scatter(xaxis, deltaazs)\n",
    "plt.yscale('log')\n",
    "plt.ylim(1.0, 1.0E5)\n",
    "plt.xticks(xticks, plot_dates, rotation=-45)\n",
    "plt.xlabel(\"Date\")\n",
    "plt.ylabel(\"Azimuth Error (arcseconds)\")\n"
   ]
  },
  {
   "cell_type": "code",
   "execution_count": null,
   "id": "1c4cd8c1-cda8-46f1-a2ac-7055bfebfe52",
   "metadata": {},
   "outputs": [],
   "source": []
  }
 ],
 "metadata": {
  "kernelspec": {
   "display_name": "LSST",
   "language": "python",
   "name": "lsst"
  },
  "language_info": {
   "codemirror_mode": {
    "name": "ipython",
    "version": 3
   },
   "file_extension": ".py",
   "mimetype": "text/x-python",
   "name": "python",
   "nbconvert_exporter": "python",
   "pygments_lexer": "ipython3",
   "version": "3.10.9"
  }
 },
 "nbformat": 4,
 "nbformat_minor": 5
}
