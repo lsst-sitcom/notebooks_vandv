{
 "cells": [
  {
   "cell_type": "markdown",
   "id": "31ab2e53-46e3-4016-8424-cbe70189c648",
   "metadata": {},
   "source": [
    "# TMA Capacitor Bank discharge vs. current draw profiles\n",
    "\n",
    "# SITCOM-1224"
   ]
  },
  {
   "cell_type": "markdown",
   "id": "537f70a3-6883-4943-9595-218ce7a78d86",
   "metadata": {
    "execution": {
     "iopub.execute_input": "2024-03-05T10:06:56.612270Z",
     "iopub.status.busy": "2024-03-05T10:06:56.611935Z",
     "iopub.status.idle": "2024-03-05T10:06:56.615758Z",
     "shell.execute_reply": "2024-03-05T10:06:56.615218Z",
     "shell.execute_reply.started": "2024-03-05T10:06:56.612253Z"
    }
   },
   "source": [
    "**title**: TMA (Telescope Mount Assembly) Capacitor Bank discharge vs. current draw profiles\n",
    "\n",
    "**Description**: Continue in the analysis started in SITCOM-1146 (https://jira.lsstcorp.org/browse/SITCOM-1146). \n",
    "This ticket for looking at the relationship between the current draw (rather than power supply voltage) \n",
    "and also how much power was in the banks prior to a large drop. This was explored a bit in SITCOM-1146, but could be expanded.\n",
    "\n",
    "**Author**: Laura Toribio San Cipriano\n",
    "\n",
    "2024-03-13"
   ]
  },
  {
   "cell_type": "markdown",
   "id": "9fb99451-6f94-47ea-8be4-be3f2836bda1",
   "metadata": {
    "execution": {
     "iopub.execute_input": "2024-03-13T14:10:48.155196Z",
     "iopub.status.busy": "2024-03-13T14:10:48.154614Z",
     "iopub.status.idle": "2024-03-13T14:10:48.156968Z",
     "shell.execute_reply": "2024-03-13T14:10:48.156680Z",
     "shell.execute_reply.started": "2024-03-13T14:10:48.155178Z"
    }
   },
   "source": [
    "### Setup"
   ]
  },
  {
   "cell_type": "code",
   "execution_count": 57,
   "id": "be8e0006-9418-4d9f-ac85-660f4f7f4450",
   "metadata": {
    "execution": {
     "iopub.execute_input": "2024-03-14T13:42:18.508645Z",
     "iopub.status.busy": "2024-03-14T13:42:18.508095Z",
     "iopub.status.idle": "2024-03-14T13:42:18.558774Z",
     "shell.execute_reply": "2024-03-14T13:42:18.558342Z",
     "shell.execute_reply.started": "2024-03-14T13:42:18.508627Z"
    }
   },
   "outputs": [
    {
     "name": "stdout",
     "output_type": "stream",
     "text": [
      "The autoreload extension is already loaded. To reload it, use:\n",
      "  %reload_ext autoreload\n"
     ]
    }
   ],
   "source": [
    "%matplotlib inline\n",
    "%matplotlib widget\n",
    "%load_ext autoreload\n",
    "%autoreload 2"
   ]
  },
  {
   "cell_type": "code",
   "execution_count": 58,
   "id": "4977a6aa-7178-4e20-8ead-12b506889739",
   "metadata": {
    "execution": {
     "iopub.execute_input": "2024-03-14T13:42:26.175010Z",
     "iopub.status.busy": "2024-03-14T13:42:26.174546Z",
     "iopub.status.idle": "2024-03-14T13:42:26.217664Z",
     "shell.execute_reply": "2024-03-14T13:42:26.217202Z",
     "shell.execute_reply.started": "2024-03-14T13:42:26.174991Z"
    }
   },
   "outputs": [],
   "source": [
    "import pandas as pd\n",
    "import numpy as np\n",
    "import matplotlib.pyplot as plt\n",
    "from astropy.io import fits\n",
    "\n",
    "from lsst_efd_client import EfdClient, resample\n",
    "from lsst.summit.utils.tmaUtils import TMAEventMaker, TMAState\n",
    "\n",
    "from astropy.time import Time, TimeDelta\n",
    "from astropy.table import Table\n",
    "from scipy.interpolate import UnivariateSpline"
   ]
  },
  {
   "cell_type": "code",
   "execution_count": 59,
   "id": "8eee39e8-66bd-4fff-9934-4beee62ba3f4",
   "metadata": {
    "execution": {
     "iopub.execute_input": "2024-03-14T13:42:26.218827Z",
     "iopub.status.busy": "2024-03-14T13:42:26.218521Z",
     "iopub.status.idle": "2024-03-14T13:42:26.684114Z",
     "shell.execute_reply": "2024-03-14T13:42:26.683658Z",
     "shell.execute_reply.started": "2024-03-14T13:42:26.218811Z"
    }
   },
   "outputs": [],
   "source": [
    "client = EfdClient('usdf_efd')"
   ]
  },
  {
   "cell_type": "code",
   "execution_count": 60,
   "id": "32e4c340-b572-495d-9a47-86db2ad19a04",
   "metadata": {
    "execution": {
     "iopub.execute_input": "2024-03-14T13:42:26.684845Z",
     "iopub.status.busy": "2024-03-14T13:42:26.684709Z",
     "iopub.status.idle": "2024-03-14T13:42:26.724036Z",
     "shell.execute_reply": "2024-03-14T13:42:26.723618Z",
     "shell.execute_reply.started": "2024-03-14T13:42:26.684832Z"
    }
   },
   "outputs": [],
   "source": [
    "tma_power_topic = 'lsst.sal.MTMount.mainPowerSupply'\n",
    "tma_el_topic = 'lsst.sal.MTMount.elevation'\n",
    "tma_az_topic = 'lsst.sal.MTMount.azimuth'"
   ]
  },
  {
   "cell_type": "markdown",
   "id": "e1ed2ea1-d306-4c83-b2a3-75d26d7a2ba0",
   "metadata": {},
   "source": [
    "### Get Data"
   ]
  },
  {
   "cell_type": "code",
   "execution_count": 61,
   "id": "f408f88d-d536-4d17-929f-796c3caa8f24",
   "metadata": {
    "execution": {
     "iopub.execute_input": "2024-03-14T13:43:19.977985Z",
     "iopub.status.busy": "2024-03-14T13:43:19.977748Z",
     "iopub.status.idle": "2024-03-14T13:43:20.023189Z",
     "shell.execute_reply": "2024-03-14T13:43:20.022820Z",
     "shell.execute_reply.started": "2024-03-14T13:43:19.977970Z"
    }
   },
   "outputs": [],
   "source": [
    "obs_days = [20240301]#, 20240302, 20240303, 20240304, 20240305]"
   ]
  },
  {
   "cell_type": "code",
   "execution_count": 62,
   "id": "6f2656c8-dd0c-4ee5-bfdd-798cc5b8f013",
   "metadata": {
    "execution": {
     "iopub.execute_input": "2024-03-14T13:43:21.639476Z",
     "iopub.status.busy": "2024-03-14T13:43:21.639132Z",
     "iopub.status.idle": "2024-03-14T13:43:21.679387Z",
     "shell.execute_reply": "2024-03-14T13:43:21.679017Z",
     "shell.execute_reply.started": "2024-03-14T13:43:21.639461Z"
    }
   },
   "outputs": [],
   "source": [
    "def get_events(dayObs):\n",
    "    \"\"\"\n",
    "    Identify slew events for a given dayObs\n",
    "    \"\"\"\n",
    "    eventMaker = TMAEventMaker()\n",
    "    events = eventMaker.getEvents(dayObs)\n",
    "    \n",
    "    # Get lists of slew and track events\n",
    "    slews = [e for e in events if e.type == TMAState.SLEWING]\n",
    "    tracks = [e for e in events if e.type == TMAState.TRACKING]\n",
    "    print(f\"{dayObs}: Found {len(slews)} slews and {len(tracks)} tracks\")\n",
    "    return slews"
   ]
  },
  {
   "cell_type": "code",
   "execution_count": 63,
   "id": "ae7d20c6-1d1e-476f-b846-bd0f051e3b5c",
   "metadata": {
    "execution": {
     "iopub.execute_input": "2024-03-14T13:43:23.271678Z",
     "iopub.status.busy": "2024-03-14T13:43:23.271438Z",
     "iopub.status.idle": "2024-03-14T13:43:23.313599Z",
     "shell.execute_reply": "2024-03-14T13:43:23.313189Z",
     "shell.execute_reply.started": "2024-03-14T13:43:23.271662Z"
    }
   },
   "outputs": [],
   "source": [
    "def get_acc_jerk(time, velocity):\n",
    "    \"\"\"\n",
    "    From velocity data, calculate acceleration and jerk\n",
    "    \"\"\"\n",
    "    try:\n",
    "       smoothing_factor=0.2\n",
    "       kernel_size = 5\n",
    "       kernel = np.ones(kernel_size) / kernel_size\n",
    "    \n",
    "       VelSpline = UnivariateSpline(time, velocity, s=0)\n",
    "       smoothedVel = np.convolve(VelSpline(time), kernel, mode='same')\n",
    "       VelSpline = UnivariateSpline(time, smoothedVel, s=smoothing_factor)\n",
    "    \n",
    "       AccSpline = VelSpline.derivative(n=1)\n",
    "       smoothedAcc = np.convolve(AccSpline(time), kernel, mode='same')\n",
    "       AccSpline = UnivariateSpline(time, smoothedAcc, s=smoothing_factor)\n",
    "   \n",
    "       JerkSpline = AccSpline.derivative(n=1) \n",
    "\n",
    "       return VelSpline(time), AccSpline(time), JerkSpline(time)\n",
    "    except:\n",
    "        return False, False, False"
   ]
  },
  {
   "cell_type": "code",
   "execution_count": 65,
   "id": "c45874f6-abfe-44f2-85b4-6a8c19b155d9",
   "metadata": {
    "execution": {
     "iopub.execute_input": "2024-03-14T13:44:11.025839Z",
     "iopub.status.busy": "2024-03-14T13:44:11.025575Z",
     "iopub.status.idle": "2024-03-14T13:44:11.066259Z",
     "shell.execute_reply": "2024-03-14T13:44:11.065936Z",
     "shell.execute_reply.started": "2024-03-14T13:44:11.025825Z"
    }
   },
   "outputs": [],
   "source": [
    "async def data_per_slew(i, slew, debug=False):\n",
    "    \"\"\"\n",
    "    get TMA velocity data, power data for a given slew and e currren draw\n",
    "\n",
    "    Calculate maximum velocity, acceleration and jerk values and minimum power draw\n",
    "    \"\"\"\n",
    "    data = [i, slew.dayObs, slew.duration, slew.begin, slew.end]\n",
    "\n",
    "    power_df = await client.select_time_series(tma_power_topic, '*', slew.begin, slew.end)\n",
    "    data.append(np.min(power_df.powerSupplyVoltage))\n",
    "    data.append(np.max(power_df.powerSupplyCurrent))\n",
    "    \n",
    "    az = await client.select_time_series(tma_az_topic, ['*'], slew.begin, slew.end)\n",
    "    el = await client.select_time_series(tma_el_topic, ['*'], slew.begin, slew.end)\n",
    "   \n",
    "    AzBegin = az.actualPosition.iloc[0]\n",
    "    AzEnd   = az.actualPosition.iloc[-1]\n",
    "    ElBegin = el.actualPosition.iloc[0]\n",
    "    ElEnd   = el.actualPosition.iloc[-1]\n",
    "    \n",
    "    AzVel, AzAcc, AzJerk = get_acc_jerk(az.timestamp, az.actualVelocity)\n",
    "    ElVel, ElAcc, ElJerk = get_acc_jerk(el.timestamp, el.actualVelocity)\n",
    "\n",
    "    for var in [AzVel, AzAcc, AzJerk, ElVel, ElAcc, ElJerk, AzBegin, AzEnd, ElBegin, ElEnd]:\n",
    "        data.append(np.max(np.abs(var)))\n",
    "    if debug:\n",
    "        return az, el, power_df, data\n",
    "    else:\n",
    "        return data"
   ]
  },
  {
   "cell_type": "code",
   "execution_count": 66,
   "id": "48bfe826-fe02-4fc8-a4b3-58a611a5c643",
   "metadata": {
    "execution": {
     "iopub.execute_input": "2024-03-14T13:44:14.976144Z",
     "iopub.status.busy": "2024-03-14T13:44:14.975868Z",
     "iopub.status.idle": "2024-03-14T13:44:43.280241Z",
     "shell.execute_reply": "2024-03-14T13:44:43.279870Z",
     "shell.execute_reply.started": "2024-03-14T13:44:14.976129Z"
    }
   },
   "outputs": [
    {
     "data": {
      "text/html": [
       "<pre style=\"margin: 0.1em;\n",
       "padding-left: 0.25em;\n",
       "border-left-style: solid;\n",
       "font-family: var(--jp-code-font-family);\n",
       "font-size: var(--jp-code-font-size);\n",
       "line-height: var(--jp-code-line-height);\n",
       "\"><span style=\"color: var(--jp-warn-color2)\">lsst.summit.utils.tmaUtils</span> <span style=\"color: var(--jp-info-color0)\">INFO</span>: Retrieving mount data for 20240301 from the EFD</pre>"
      ],
      "text/plain": [
       "<IPython.core.display.HTML object>"
      ]
     },
     "metadata": {},
     "output_type": "display_data"
    },
    {
     "name": "stdout",
     "output_type": "stream",
     "text": [
      "20240301: Found 375 slews and 350 tracks\n"
     ]
    }
   ],
   "source": [
    "Data = []\n",
    "failed = []\n",
    "data_names = ['slew_id','dayobs','duration','begin','end','min_power','max_current','az_max_vel','az_max_acc','az_max_jerk','el_max_vel','el_max_acc','el_max_jerk', 'az_pos_begin', 'az_pos_end', 'el_pos_begin', 'el_pos_end'] #, 'dis_slew'\n",
    "for dayObs in obs_days:\n",
    "    try:\n",
    "        slews = get_events(dayObs)\n",
    "    except:\n",
    "        print(dayObs)\n",
    "    for i, slew in enumerate(slews):\n",
    "        try:\n",
    "            d = await data_per_slew(i, slew)\n",
    "            Data.append(d)\n",
    "        except Exception as e:\n",
    "            failed.append(i)\n",
    "            #print(i, e)\n",
    "df = pd.DataFrame(np.vstack(Data),columns=data_names)\n"
   ]
  },
  {
   "cell_type": "code",
   "execution_count": null,
   "id": "11cf1ce8-cc53-4dc0-b5fe-2d51d3b5c40b",
   "metadata": {},
   "outputs": [],
   "source": [
    "#Remove extreme outliers\n",
    "df = df[(df.el_max_jerk < 100)&(df.duration<3000)]"
   ]
  },
  {
   "cell_type": "markdown",
   "id": "a63e46bc-1b40-4ffd-8d8f-92e996bafffd",
   "metadata": {},
   "source": [
    "### Analysis"
   ]
  },
  {
   "cell_type": "code",
   "execution_count": null,
   "id": "71d35c2e-cbfe-4755-a2f0-b8cf2f45d057",
   "metadata": {},
   "outputs": [],
   "source": [
    "#### Relationship of min power supply voltage and distance of slew"
   ]
  }
 ],
 "metadata": {
  "kernelspec": {
   "display_name": "LSST",
   "language": "python",
   "name": "lsst"
  },
  "language_info": {
   "codemirror_mode": {
    "name": "ipython",
    "version": 3
   },
   "file_extension": ".py",
   "mimetype": "text/x-python",
   "name": "python",
   "nbconvert_exporter": "python",
   "pygments_lexer": "ipython3",
   "version": "3.11.7"
  }
 },
 "nbformat": 4,
 "nbformat_minor": 5
}
