{
 "cells": [
  {
   "cell_type": "markdown",
   "id": "31ab2e53-46e3-4016-8424-cbe70189c648",
   "metadata": {},
   "source": [
    "# TMA Capacitor Bank discharge vs. current draw profiles\n",
    "\n",
    "# SITCOM-1224"
   ]
  },
  {
   "cell_type": "markdown",
   "id": "537f70a3-6883-4943-9595-218ce7a78d86",
   "metadata": {
    "execution": {
     "iopub.execute_input": "2024-03-05T10:06:56.612270Z",
     "iopub.status.busy": "2024-03-05T10:06:56.611935Z",
     "iopub.status.idle": "2024-03-05T10:06:56.615758Z",
     "shell.execute_reply": "2024-03-05T10:06:56.615218Z",
     "shell.execute_reply.started": "2024-03-05T10:06:56.612253Z"
    }
   },
   "source": [
    "**title**: TMA (Telescope Mount Assembly) Capacitor Bank discharge vs. current draw profiles\n",
    "\n",
    "**Description**: Continue in the analysis started in SITCOM-1146 (https://jira.lsstcorp.org/browse/SITCOM-1146). \n",
    "This ticket for looking at the relationship between the current draw (rather than power supply voltage) \n",
    "and also how much power was in the banks prior to a large drop. This was explored a bit in SITCOM-1146, but could be expanded.\n",
    "\n",
    "**Author**: Laura Toribio San Cipriano\n",
    "\n",
    "2024-03-13"
   ]
  },
  {
   "cell_type": "markdown",
   "id": "9fb99451-6f94-47ea-8be4-be3f2836bda1",
   "metadata": {
    "execution": {
     "iopub.execute_input": "2024-03-13T14:10:48.155196Z",
     "iopub.status.busy": "2024-03-13T14:10:48.154614Z",
     "iopub.status.idle": "2024-03-13T14:10:48.156968Z",
     "shell.execute_reply": "2024-03-13T14:10:48.156680Z",
     "shell.execute_reply.started": "2024-03-13T14:10:48.155178Z"
    }
   },
   "source": [
    "### Setup"
   ]
  },
  {
   "cell_type": "code",
   "execution_count": null,
   "id": "be8e0006-9418-4d9f-ac85-660f4f7f4450",
   "metadata": {},
   "outputs": [],
   "source": [
    "%matplotlib inline\n",
    "%matplotlib widget\n",
    "%load_ext autoreload\n",
    "%autoreload 2"
   ]
  },
  {
   "cell_type": "code",
   "execution_count": null,
   "id": "4977a6aa-7178-4e20-8ead-12b506889739",
   "metadata": {},
   "outputs": [],
   "source": [
    "import pandas as pd\n",
    "import numpy as np\n",
    "import matplotlib.pyplot as plt\n",
    "from astropy.io import fits\n",
    "\n",
    "from lsst_efd_client import EfdClient, resample\n",
    "from lsst.summit.utils.tmaUtils import TMAEventMaker, TMAState\n",
    "\n",
    "from astropy.time import Time, TimeDelta\n",
    "from astropy.table import Table\n",
    "from scipy.interpolate import UnivariateSpline"
   ]
  },
  {
   "cell_type": "code",
   "execution_count": null,
   "id": "8eee39e8-66bd-4fff-9934-4beee62ba3f4",
   "metadata": {},
   "outputs": [],
   "source": [
    "client = EfdClient('usdf_efd')"
   ]
  },
  {
   "cell_type": "code",
   "execution_count": null,
   "id": "32e4c340-b572-495d-9a47-86db2ad19a04",
   "metadata": {},
   "outputs": [],
   "source": [
    "tma_power_topic = 'lsst.sal.MTMount.mainPowerSupply'\n",
    "tma_el_topic = 'lsst.sal.MTMount.elevation'\n",
    "tma_az_topic = 'lsst.sal.MTMount.azimuth'"
   ]
  },
  {
   "cell_type": "markdown",
   "id": "e1ed2ea1-d306-4c83-b2a3-75d26d7a2ba0",
   "metadata": {},
   "source": [
    "### Get Data"
   ]
  },
  {
   "cell_type": "code",
   "execution_count": null,
   "id": "f408f88d-d536-4d17-929f-796c3caa8f24",
   "metadata": {},
   "outputs": [],
   "source": [
    "obs_days = [20240301]#, 20240302, 20240303, 20240304, 20240305]"
   ]
  },
  {
   "cell_type": "code",
   "execution_count": null,
   "id": "6f2656c8-dd0c-4ee5-bfdd-798cc5b8f013",
   "metadata": {},
   "outputs": [],
   "source": [
    "def get_events(dayObs):\n",
    "    \"\"\"\n",
    "    Identify slew events for a given dayObs\n",
    "    \"\"\"\n",
    "    eventMaker = TMAEventMaker()\n",
    "    events = eventMaker.getEvents(dayObs)\n",
    "    \n",
    "    # Get lists of slew and track events\n",
    "    slews = [e for e in events if e.type == TMAState.SLEWING]\n",
    "    tracks = [e for e in events if e.type == TMAState.TRACKING]\n",
    "    print(f\"{dayObs}: Found {len(slews)} slews and {len(tracks)} tracks\")\n",
    "    return slews"
   ]
  },
  {
   "cell_type": "code",
   "execution_count": null,
   "id": "ae7d20c6-1d1e-476f-b846-bd0f051e3b5c",
   "metadata": {},
   "outputs": [],
   "source": [
    "def get_acc_jerk(time, velocity):\n",
    "    \"\"\"\n",
    "    From velocity data, calculate acceleration and jerk\n",
    "    \"\"\"\n",
    "    try:\n",
    "       smoothing_factor=0.2\n",
    "       kernel_size = 5\n",
    "       kernel = np.ones(kernel_size) / kernel_size\n",
    "    \n",
    "       VelSpline = UnivariateSpline(time, velocity, s=0)\n",
    "       smoothedVel = np.convolve(VelSpline(time), kernel, mode='same')\n",
    "       VelSpline = UnivariateSpline(time, smoothedVel, s=smoothing_factor)\n",
    "    \n",
    "       AccSpline = VelSpline.derivative(n=1)\n",
    "       smoothedAcc = np.convolve(AccSpline(time), kernel, mode='same')\n",
    "       AccSpline = UnivariateSpline(time, smoothedAcc, s=smoothing_factor)\n",
    "   \n",
    "       JerkSpline = AccSpline.derivative(n=1) \n",
    "\n",
    "       return VelSpline(time), AccSpline(time), JerkSpline(time)\n",
    "    except:\n",
    "        return False, False, False"
   ]
  },
  {
   "cell_type": "code",
   "execution_count": null,
   "id": "c45874f6-abfe-44f2-85b4-6a8c19b155d9",
   "metadata": {},
   "outputs": [],
   "source": [
    "async def data_per_slew(i, slew, debug=False):\n",
    "    \"\"\"\n",
    "    get TMA velocity data, power data for a given slew and e currren draw\n",
    "\n",
    "    Calculate maximum velocity, acceleration and jerk values and minimum power draw\n",
    "    \"\"\"\n",
    "    data = [i, slew.dayObs, slew.duration, slew.begin, slew.end]\n",
    "\n",
    "    power_df = await client.select_time_series(tma_power_topic, '*', slew.begin, slew.end)\n",
    "    \n",
    "    data.append(np.min(power_df.powerSupplyVoltage))\n",
    "    data.append(np.max(power_df.powerSupplyCurrent))\n",
    "    #charge = np.trapz(power_df.powerSupplyCurrent)\n",
    "    charge = np.trapz(power_df.powerSupplyCurrent * power_df.powerSupplyVoltage)\n",
    "    data.append(charge)\n",
    "    \n",
    "    az = await client.select_time_series(tma_az_topic, ['*'], slew.begin, slew.end)\n",
    "    el = await client.select_time_series(tma_el_topic, ['*'], slew.begin, slew.end)\n",
    "   \n",
    "    AzBegin = az.actualPosition.iloc[0]\n",
    "    AzEnd   = az.actualPosition.iloc[-1]\n",
    "    ElBegin = el.actualPosition.iloc[0]\n",
    "    ElEnd   = el.actualPosition.iloc[-1]\n",
    "    \n",
    "    AzVel, AzAcc, AzJerk = get_acc_jerk(az.timestamp, az.actualVelocity)\n",
    "    ElVel, ElAcc, ElJerk = get_acc_jerk(el.timestamp, el.actualVelocity)\n",
    "\n",
    "    for var in [AzVel, AzAcc, AzJerk, ElVel, ElAcc, ElJerk, AzBegin, AzEnd, ElBegin, ElEnd]:\n",
    "        data.append(np.max(np.abs(var)))\n",
    "    if debug:\n",
    "        return az, el, power_df, data\n",
    "    else:\n",
    "        return data"
   ]
  },
  {
   "cell_type": "code",
   "execution_count": null,
   "id": "48bfe826-fe02-4fc8-a4b3-58a611a5c643",
   "metadata": {},
   "outputs": [],
   "source": [
    "Data = []\n",
    "failed = []\n",
    "data_names = ['slew_id', 'dayobs', 'duration', 'begin', 'end', 'min_power', 'max_current', 'charge', \\\n",
    "              'az_max_vel', 'az_max_acc', 'az_max_jerk', 'el_max_vel', 'el_max_acc', 'el_max_jerk', \\\n",
    "              'az_pos_begin', 'az_pos_end', 'el_pos_begin', 'el_pos_end'] \n",
    "for dayObs in obs_days:\n",
    "    try:\n",
    "        slews = get_events(dayObs)\n",
    "    except:\n",
    "        print(dayObs)\n",
    "    for i, slew in enumerate(slews):\n",
    "        try:\n",
    "            d = await data_per_slew(i, slew)\n",
    "            Data.append(d)\n",
    "        except Exception as e:\n",
    "            failed.append(i)\n",
    "            #print(i, e)\n",
    "df = pd.DataFrame(np.vstack(Data),columns=data_names)\n"
   ]
  },
  {
   "cell_type": "code",
   "execution_count": null,
   "id": "11cf1ce8-cc53-4dc0-b5fe-2d51d3b5c40b",
   "metadata": {},
   "outputs": [],
   "source": [
    "#Remove extreme outliers\n",
    "df = df[(df.el_max_jerk < 100)&(df.duration<3000)]"
   ]
  },
  {
   "cell_type": "markdown",
   "id": "a63e46bc-1b40-4ffd-8d8f-92e996bafffd",
   "metadata": {},
   "source": [
    "### Analysis"
   ]
  },
  {
   "cell_type": "markdown",
   "id": "263a4165-dee6-4893-8d0f-9d5693598c1f",
   "metadata": {},
   "source": [
    "#### Relationship of max power supply Current draw and distance of slew"
   ]
  },
  {
   "cell_type": "markdown",
   "id": "dd67ddc1-1e75-4a54-96e8-4f7e68ff3a64",
   "metadata": {},
   "source": [
    "The `plot_spc_vs_dist` function performs a statistical analysis of how the maximum supply power current behaves during the slews. \n",
    "\n",
    "It provides histograms of the movements in azimuth and elevation, a histogram of the maximum supply power current, and how the maximum supply power currents are distributed based on the distance of the slews (in azimuth and elevation)."
   ]
  },
  {
   "cell_type": "code",
   "execution_count": null,
   "id": "c0b11a21-0938-47c7-aae7-c2472f2e40af",
   "metadata": {},
   "outputs": [],
   "source": [
    "def plot_spc_vs_dist(df_, title_date, name):\n",
    "    fig, (ax1) = plt.subplots(figsize=(8, 4))\n",
    "\n",
    "    # Scatter plot of slew distances vs. min_power\n",
    "    ax1.plot((df_.az_pos_begin - df_.az_pos_end), df_.max_current, 'x', color='C0', label='az')\n",
    "    ax1.plot((df_.el_pos_begin - df_.el_pos_end), df_.max_current, 'x',  alpha=0.7, color='C1', label='el')\n",
    "    #ax1.axhline(575, ls='--', c='k',label='voltage drop limit')\n",
    "    ax1.legend()\n",
    "    ax1.set_xlabel('Slew distances (az/el)')\n",
    "    ax1.set_ylabel('max supplyPowerCurrent (A)')\n",
    "    ax1.set_title(f'Max. TMA current vs. distance of slew for {title_date}')\n",
    "\n",
    "    fig2, (ax2, ax3) = plt.subplots(1, 2, figsize=(12, 4))\n",
    "    # Histogram of absolute values of position differences\n",
    "    ax2.hist(df_.az_pos_begin - df_.az_pos_end, color='C0', label='az')\n",
    "    ax2.hist(df_.el_pos_begin - df_.el_pos_end, color='C1', alpha=0.7, label='el')\n",
    "    ax2.legend()\n",
    "    ax2.set_xlabel('Slew distances (az/el)')\n",
    "    ax2.set_ylabel('Frequency')\n",
    "    ax2.set_title(f'Slew distance Histogram for {title_date}')\n",
    "    \n",
    "    # Histogram of min_power\n",
    "    ax3.hist(df_.max_current, bins=50, color='C0', edgecolor='black', alpha=0.5)\n",
    "    #ax3.axvline(575, ls='--', c='k', label='voltage drop limit')\n",
    "    ax3.legend()\n",
    "    ax3.set_xlabel('max supplyPowerCurrent (A)')\n",
    "    ax3.set_ylabel('Frequency')\n",
    "    ax3.set_title(f'Max. TMA current histogram for {title_date}')\n",
    "    \n",
    "    plt.tight_layout()\n",
    "    plt.show()\n",
    "    plt.savefig(f'{name}.png')"
   ]
  },
  {
   "cell_type": "code",
   "execution_count": null,
   "id": "2f2342e7-c1b3-4a47-8a3e-90f0ed94df26",
   "metadata": {},
   "outputs": [],
   "source": [
    "for dayObs in np.unique(df.dayobs):\n",
    "    df_ = df[df.dayobs == dayObs]\n",
    "    plot_spc_vs_dist(df_, dayObs,'tma_perf_mar_2024')"
   ]
  },
  {
   "cell_type": "markdown",
   "id": "38c57d73-2f75-4653-a958-efd8a7c0f08d",
   "metadata": {},
   "source": [
    "#### Look at Azimuth acceleration vs. power supply current"
   ]
  },
  {
   "cell_type": "markdown",
   "id": "61fac24f-3d94-4c68-a2cb-d480b30c51b5",
   "metadata": {},
   "source": [
    "The `plots_spc_vs_ax` function analyzes the behavior of the maximum supply power current and the maximum of velocity, acceleration, and jerk in each slew."
   ]
  },
  {
   "cell_type": "code",
   "execution_count": null,
   "id": "c90bad3f-386b-448a-b483-9a67074b43c0",
   "metadata": {},
   "outputs": [],
   "source": [
    "def plots_spc_vs_az(df_, title_date,name):\n",
    "    fig, (ax1, ax2, ax3) = plt.subplots(1,3, sharey=True, figsize=(12, 4))\n",
    "\n",
    "    ax1.plot(df_.az_max_vel, df_.max_current,'x',label='azVel')\n",
    "    #ax1.plot(df_.el_max_vel, df_.min_power,'x', label='elVel')\n",
    "    #ax1.axhline(575, ls='--', c='k',label='voltage drop limit')\n",
    "    ax1.legend()\n",
    "    #ax1.set_xlim(-1,12)\n",
    "    ax1.set_xlabel('max Velocity (m/s)')\n",
    "    ax1.set_ylabel('max supplyPowerCurrent (A)')\n",
    "\n",
    "    ax2.plot(df_.az_max_acc, df_.max_current,'x',label='azAcc')\n",
    "    #ax2.plot(df_.el_max_acc, df_.min_power,'x',label='elAcc')\n",
    "    #ax2.axhline(575, ls='--', c='k',label='voltage drop limit')\n",
    "    ax2.legend()\n",
    "    #ax2.set_xlim(-1,25)\n",
    "    ax2.set_xlabel('max Acceleration $(m/s^{2})$')\n",
    "    #ax2.set_ylabel('min supplyPowerVoltage (V)')\n",
    "               \n",
    "    ax3.plot(df_.az_max_jerk, df_.max_current,'x',label='azSlewDis')\n",
    "    #ax3.plot(df_.el_max_jerk, df_.min_power,'x', label='elJerk')\n",
    "    #ax3.axhline(575, ls='--', c='k',label='voltage drop limit')\n",
    "    ax3.legend()\n",
    "    #ax3.set_xlim(-100,800)\n",
    "    ax3.set_xlabel('max Jerk $(m/s^{3})$')\n",
    "    #ax3.set_ylabel('min supplyPowerVoltage (V)')\n",
    "               \n",
    "    fig.suptitle(f'Max. TMA current vs. TMA Performance for {title_date}')\n",
    "    fig.tight_layout()\n",
    "    plt.savefig(f'{name}.png')"
   ]
  },
  {
   "cell_type": "code",
   "execution_count": null,
   "id": "ff04be71-73db-48e3-b3a8-cc7184054262",
   "metadata": {},
   "outputs": [],
   "source": [
    "for dayObs in np.unique(df.dayobs):\n",
    "    df_ = df[df.\n",
    "    dayobs == dayObs]\n",
    "    plots_spc_vs_az(df_, dayObs,f'tma_perf_{dayObs}')\n"
   ]
  },
  {
   "cell_type": "markdown",
   "id": "3dad7b52-9fc8-4dc5-b7e4-76b1904d7d6c",
   "metadata": {},
   "source": [
    "#### Look at Azimuth acceleration vs. Total Discharged Energy"
   ]
  },
  {
   "cell_type": "markdown",
   "id": "03548f75-aa95-4329-a4d3-4c591680e571",
   "metadata": {},
   "source": [
    "The `plots_charge_vs_az` function analyzes the behavior of the charge and the maximum of velocity, acceleration, and jerk in each slew."
   ]
  },
  {
   "cell_type": "code",
   "execution_count": null,
   "id": "0667c89a-87ef-4f8e-be47-3fb87bd5cd3e",
   "metadata": {},
   "outputs": [],
   "source": [
    "def plots_charge_vs_az(df_, title_date,name):\n",
    "    fig, (ax1, ax2, ax3) = plt.subplots(1,3, sharey=True, figsize=(12, 4))\n",
    "\n",
    "    ax1.plot(df_.az_max_vel, df_.charge,'x',label='azVel')\n",
    "    #ax1.plot(df_.el_max_vel, df_.min_power,'x', label='elVel')\n",
    "    #ax1.axhline(575, ls='--', c='k',label='voltage drop limit')\n",
    "    ax1.legend()\n",
    "    #ax1.set_xlim(-1,12)\n",
    "    ax1.set_xlabel('max Velocity (m/s)')\n",
    "    ax1.set_ylabel('Total Discharged Energy (C)')\n",
    "\n",
    "    ax2.plot(df_.az_max_acc, df_.charge,'x',label='azAcc')\n",
    "    #ax2.plot(df_.el_max_acc, df_.min_power,'x',label='elAcc')\n",
    "    #ax2.axhline(575, ls='--', c='k',label='voltage drop limit')\n",
    "    ax2.legend()\n",
    "    #ax2.set_xlim(-1,25)\n",
    "    ax2.set_xlabel('max Acceleration $(m/s^{2})$')\n",
    "    #ax2.set_ylabel('min supplyPowerVoltage (V)')\n",
    "               \n",
    "    ax3.plot(df_.az_max_jerk, df_.charge,'x',label='azSlewDis')\n",
    "    #ax3.plot(df_.el_max_jerk, df_.min_power,'x', label='elJerk')\n",
    "    #ax3.axhline(575, ls='--', c='k',label='voltage drop limit')\n",
    "    ax3.legend()\n",
    "    #ax3.set_xlim(-100,800)\n",
    "    ax3.set_xlabel('max Jerk $(m/s^{3})$')\n",
    "    #ax3.set_ylabel('min supplyPowerVoltage (V)')\n",
    "\n",
    "    fig.suptitle(f'Charge vs. TMA Performance for {title_date}')\n",
    "    fig.tight_layout()\n",
    "    plt.savefig(f'{name}.png')"
   ]
  },
  {
   "cell_type": "code",
   "execution_count": null,
   "id": "6cf644b0-4d7f-46fc-b3a5-a575129f5a22",
   "metadata": {},
   "outputs": [],
   "source": [
    "def plot_charge_histogram(df_, title_date,name):\n",
    "    plt.figure(figsize=(8, 6))\n",
    "    plt.hist(df_.charge, bins=20, color='skyblue', edgecolor='black')\n",
    "    plt.xlabel('Total Discharged Energy (C)')\n",
    "    plt.ylabel('Frequency')\n",
    "    plt.title('Histogram of Total Discharged Energy')\n",
    "    plt.savefig(f'{name}_histogram.png')"
   ]
  },
  {
   "cell_type": "code",
   "execution_count": null,
   "id": "3b067111-49ad-4123-9279-386b6cfd3af8",
   "metadata": {},
   "outputs": [],
   "source": [
    "for dayObs in np.unique(df.dayobs):\n",
    "    df_ = df[df.dayobs == dayObs]\n",
    "    plots_charge_vs_az(df_, dayObs,f'tma_perf_{dayObs}')\n",
    "    plot_charge_histogram(df_, dayObs,f'tma_perf_{dayObs}')"
   ]
  },
  {
   "cell_type": "markdown",
   "id": "83cb6375-feee-4c0b-9410-3bb588cddedf",
   "metadata": {},
   "source": [
    "### Analysis of Energy (Charge, Voltage, and Current draw) During Slews"
   ]
  },
  {
   "cell_type": "markdown",
   "id": "f8fafe20-fc52-498c-948a-cc064570458f",
   "metadata": {},
   "source": [
    "The `plot_vel_charge` function analyzes changes in charge, voltage, and current consumption over the azimuth velocity, acceleration, and jerk during each slew. \n",
    "\n",
    "The charge is calculated as the integral of the current up to that moment in time. \n",
    "\n",
    "The graphs for each night are saved in a folder named `tma_perf_ObsDay`, where `ObsDay` corresponds to the observation night's date. Each figure indicates the corresponding slew number.\n"
   ]
  },
  {
   "cell_type": "code",
   "execution_count": null,
   "id": "c6752016-b955-4d1f-a656-d0034b0aeceb",
   "metadata": {},
   "outputs": [],
   "source": [
    "def plot_vel_charge(df_, title_date, name, slew, folder_name, az, el):\n",
    "    try:\n",
    "        voltage = df_.powerSupplyVoltage\n",
    "        current = df_.powerSupplyCurrent\n",
    "\n",
    "        # Convert the index to datetime type\n",
    "        voltage.index = pd.to_datetime(voltage.index)\n",
    "        current.index = pd.to_datetime(current.index)\n",
    "\n",
    "        # Initialize arrays to store integrated charge values\n",
    "        charge = np.zeros(len(current))\n",
    "        # charge_scale = 1e-6  # Scale factor for charge values\n",
    "\n",
    "        # Calculate the integrated charge progressively\n",
    "        for i in range(len(current)):\n",
    "            charge[i] = np.trapz(current[:i + 1])\n",
    "\n",
    "        AzVel, AzAcc, AzJerk = get_acc_jerk(az.timestamp, az.actualVelocity)\n",
    "        ElVel, ElAcc, ElJerk = get_acc_jerk(el.timestamp, el.actualVelocity)\n",
    "\n",
    "        # Check if AzVel, AzAcc, and AzJerk are empty\n",
    "        if not AzVel.any() or not AzAcc.any() or not AzJerk.any():\n",
    "            print(f\"No data available for azimuth plots for slew {slew.seqNum}\")\n",
    "            return\n",
    "\n",
    "        # Create artificial time vectors\n",
    "        AzTime = np.arange(len(AzVel))  # Assuming data occurs at fixed time intervals\n",
    "\n",
    "        charge_tick = np.arange(len(charge))\n",
    "        # Calculate scaling factor for charge_tick\n",
    "        charge_scale_factor = len(AzTime) / len(charge_tick)\n",
    "        # Scale charge_tick\n",
    "        charge_tick_scaled = charge_tick * charge_scale_factor\n",
    "\n",
    "        # Create the plot with nine subplots in a 3x3 grid\n",
    "        fig, axs = plt.subplots(3, 3, figsize=(15, 15))\n",
    "\n",
    "        # Plot AzVel\n",
    "        axs[0,0].plot(AzTime, AzVel, linestyle='-', color='b')\n",
    "        axs[0,0].set_xlabel('Time (s)')\n",
    "        axs[0,0].set_ylabel('Velocity (deg/s)')\n",
    "        axs[0,0].set_title(f'Azimuth Velocity for the slew {slew.seqNum}')\n",
    "        # Adjusting the y-axis scale of AxVel\n",
    "        axs[0,0].set_ylim(min(AzVel)- 0.1 * abs(min(AzVel)), max(AzVel)+ 0.1 * abs(max(AzVel)))\n",
    "\n",
    "\n",
    "        # Plot charge on the same axis as velocity\n",
    "        ax1_charge = axs[0,0].twinx()\n",
    "        ax1_charge.plot(charge_tick_scaled, charge, linestyle='-', color='r')\n",
    "        ax1_charge.set_ylabel('Charge (μC)', color='r')\n",
    "        ax1_charge.tick_params(axis='y', colors='r')\n",
    "\n",
    "        # Plot AzAcc\n",
    "        axs[0,1].plot(AzTime, AzAcc, linestyle='-', color='b')\n",
    "        axs[0,1].set_xlabel('Time (s)')\n",
    "        axs[0,1].set_ylabel('Acceleration (deg/s^2)')\n",
    "        axs[0,1].set_title(f'Azimuth Acceleration for the slew {slew.seqNum}')\n",
    "\n",
    "        # Plot charge on the same axis as acceleration\n",
    "        ax2_charge = axs[0,1].twinx()\n",
    "        ax2_charge.plot(charge_tick_scaled, charge, linestyle='-', color='r')\n",
    "        ax2_charge.set_ylabel('Charge (μC)', color='r')\n",
    "        ax2_charge.tick_params(axis='y', colors='r')\n",
    "\n",
    "        # Plot AzJerk\n",
    "        axs[0,2].plot(AzTime, AzJerk, linestyle='-', color='b')\n",
    "        axs[0,2].set_xlabel('Time (s)')\n",
    "        axs[0,2].set_ylabel('Jerk (deg/s^3)')\n",
    "        axs[0,2].set_title(f'Azimuth Jerk for the slew {slew.seqNum}')\n",
    "\n",
    "        # Plot charge on the same axis as jerk\n",
    "        ax3_charge = axs[0,2].twinx()\n",
    "        ax3_charge.plot(charge_tick_scaled, charge, linestyle='-', color='r')\n",
    "        ax3_charge.set_ylabel('Charge (μC)', color='r')\n",
    "        ax3_charge.tick_params(axis='y', colors='r')       \n",
    "\n",
    "       \n",
    "        ###### VOLTAGE #######\n",
    "        # Plot AzVel\n",
    "        axs[1,0].plot(AzTime, AzVel, linestyle='-', color='b')\n",
    "        axs[1,0].set_xlabel('Time (s)')\n",
    "        axs[1,0].set_ylabel('Velocity (deg/s)')\n",
    "        axs[1,0].set_title(f'Azimuth Velocity for the slew {slew.seqNum}')\n",
    "        # Adjusting the y-axis scale of AxVel\n",
    "        axs[1,0].set_ylim(min(AzVel)- 0.1 * abs(min(AzVel)), max(AzVel)+ 0.1 * abs(max(AzVel)))\n",
    "        \n",
    "        # Plot charge on the same axis as velocity\n",
    "        ax1_voltage = axs[1,0].twinx()\n",
    "        ax1_voltage.plot(charge_tick_scaled, voltage.values, linestyle='-', color='r')\n",
    "        ax1_voltage.set_ylabel('supplyPowerVoltage (V)', color='r')\n",
    "        ax1_voltage.tick_params(axis='y', colors='r')\n",
    "\n",
    "        # Plot AzAcc\n",
    "        axs[1,1].plot(AzTime, AzAcc, linestyle='-', color='b')\n",
    "        axs[1,1].set_xlabel('Time (s)')\n",
    "        axs[1,1].set_ylabel('Acceleration (deg/s^2)')\n",
    "        axs[1,1].set_title(f'Azimuth Acceleration for the slew {slew.seqNum}')\n",
    "\n",
    "        # Plot charge on the same axis as acceleration\n",
    "        ax2_voltage = axs[1,1].twinx()\n",
    "        ax2_voltage.plot(charge_tick_scaled, voltage.values, linestyle='-', color='r')\n",
    "        ax2_voltage.set_ylabel('supplyPowerVoltage (V)', color='r')\n",
    "        ax2_voltage.tick_params(axis='y', colors='r')\n",
    "\n",
    "        # Plot AzJerk\n",
    "        axs[1,2].plot(AzTime, AzJerk, linestyle='-', color='b')\n",
    "        axs[1,2].set_xlabel('Time (s)')\n",
    "        axs[1,2].set_ylabel('Jerk (deg/s^3)')\n",
    "        axs[1,2].set_title(f'Azimuth Jerk for the slew {slew.seqNum}')\n",
    "\n",
    "        # Plot charge on the same axis as jerk\n",
    "        ax3_voltage = axs[1,2].twinx()\n",
    "        ax3_voltage.plot(charge_tick_scaled, voltage.values, linestyle='-', color='r')\n",
    "        ax3_voltage.set_ylabel('supplyPowerVoltage (V)', color='r')\n",
    "        ax3_voltage.tick_params(axis='y', colors='r')\n",
    "        \n",
    "\n",
    "        ##### CURRENT DRAW #########\n",
    "        # Plot AzVel\n",
    "        axs[2,0].plot(AzTime, AzVel, linestyle='-', color='b')\n",
    "        axs[2,0].set_xlabel('Time (s)')\n",
    "        axs[2,0].set_ylabel('Velocity (deg/s)')\n",
    "        axs[2,0].set_title(f'Azimuth Velocity for the slew {slew.seqNum}')\n",
    "        # Adjusting the y-axis scale of AxVel\n",
    "        axs[2,0].set_ylim(min(AzVel)- 0.1 * abs(min(AzVel)), max(AzVel)+ 0.1 * abs(max(AzVel)))\n",
    "        \n",
    "        # Plot charge on the same axis as velocity\n",
    "        ax1_current = axs[2,0].twinx()\n",
    "        ax1_current.plot(charge_tick_scaled, current.values, linestyle='-', color='r')\n",
    "        ax1_current.set_ylabel('supplyPowerCurrent (A)', color='r')\n",
    "        ax1_current.tick_params(axis='y', colors='r')\n",
    "\n",
    "        # Plot AzAcc\n",
    "        axs[2,1].plot(AzTime, AzAcc, linestyle='-', color='b')\n",
    "        axs[2,1].set_xlabel('Time (s)')\n",
    "        axs[2,1].set_ylabel('Acceleration (deg/s^2)')\n",
    "        axs[2,1].set_title(f'Azimuth Acceleration for the slew {slew.seqNum}')\n",
    "\n",
    "        # Plot charge on the same axis as acceleration\n",
    "        ax1_current = axs[2,1].twinx()\n",
    "        ax1_current.plot(charge_tick_scaled, current.values, linestyle='-', color='r')\n",
    "        ax1_current.set_ylabel('supplyPowerCurrent (A)', color='r')\n",
    "        ax1_current.tick_params(axis='y', colors='r')\n",
    "        \n",
    "        # Plot AzJerk\n",
    "        axs[2,2].plot(AzTime, AzJerk, linestyle='-', color='b')\n",
    "        axs[2,2].set_xlabel('Time (s)')\n",
    "        axs[2,2].set_ylabel('Jerk (deg/s^3)')\n",
    "        axs[2,2].set_title(f'Azimuth Jerk for the slew {slew.seqNum}')\n",
    "\n",
    "        # Plot charge on the same axis as jerk\n",
    "        ax1_current = axs[2,2].twinx()\n",
    "        ax1_current.plot(charge_tick_scaled, current.values, linestyle='-', color='r')\n",
    "        ax1_current.set_ylabel('supplyPowerCurrent (A)', color='r')\n",
    "        ax1_current.tick_params(axis='y', colors='r')\n",
    "        \n",
    "\n",
    "        fig.tight_layout()\n",
    "\n",
    "        # Save the image with all plots\n",
    "        plt.savefig(os.path.join(folder_name, f'{name}_azimuth_plots.png'))\n",
    "\n",
    "        # Close the figure to release memory\n",
    "        plt.close()\n",
    "\n",
    "    except AttributeError:\n",
    "        pass\n"
   ]
  },
  {
   "cell_type": "code",
   "execution_count": null,
   "id": "6f9ac069-3f84-455a-8b07-2d9f15998902",
   "metadata": {},
   "outputs": [],
   "source": [
    "import os\n",
    "\n",
    "for dayObs in np.unique(df.dayobs):\n",
    "    try:\n",
    "        # Crear el nombre de la carpeta\n",
    "        folder_name = os.path.join(os.getcwd(), f\"tma_perf_{dayObs}\")\n",
    "        \n",
    "        # Crear la carpeta para la fecha si no existe\n",
    "        if not os.path.exists(folder_name):\n",
    "            os.makedirs(folder_name)\n",
    "        \n",
    "        slews = get_events(dayObs)\n",
    "        \n",
    "        for i, slew in enumerate(slews):\n",
    "            #data = [i, slew.dayObs, slew.duration, slew.begin, slew.end]\n",
    "            power_df = await client.select_time_series(tma_power_topic, '*', slew.begin, slew.end)\n",
    "            az = await client.select_time_series(tma_az_topic, ['*'], slew.begin, slew.end)\n",
    "            el = await client.select_time_series(tma_el_topic, ['*'], slew.begin, slew.end)            \n",
    "            #data.append(power_df)\n",
    "\n",
    "            # Llamar a plot_voltage con el nombre de la carpeta y el nombre del archivo modificado\n",
    "            plot_vel_charge(power_df, dayObs, f'tma_perf_{dayObs}_{slew.seqNum}', slew, folder_name, az, el)\n",
    "            \n",
    "    except Exception as e:\n",
    "        print(\"Error:\", e)\n",
    "        print(dayObs)"
   ]
  },
  {
   "cell_type": "markdown",
   "id": "88b4fa26-e530-4d97-845b-bb7912f93d49",
   "metadata": {},
   "source": [
    "### TEST"
   ]
  },
  {
   "cell_type": "markdown",
   "id": "79244e1d-b602-4278-a1fa-84ddc8188e9b",
   "metadata": {},
   "source": [
    "#### Analyse the voltage and the current draw during the slew"
   ]
  },
  {
   "cell_type": "code",
   "execution_count": null,
   "id": "22605b7c-3177-4df1-bf9f-8cb255b81f7e",
   "metadata": {},
   "outputs": [],
   "source": [
    "def plot_voltage(df_, title_date, name, slew, folder_name):\n",
    "    try:\n",
    "        voltage = df_.powerSupplyVoltage\n",
    "    \n",
    "        # Convert the index to datetime type\n",
    "        voltage.index = pd.to_datetime(voltage.index)\n",
    "        \n",
    "        # Check if the voltage is constant\n",
    "        if len(set(voltage.values)) == 1:\n",
    "            print(f\"The slew {slew.seqNum} has constant voltage\")\n",
    "            return\n",
    "\n",
    "        # Create the plot\n",
    "        fig, ax = plt.subplots(figsize=(10, 6))\n",
    "        ax.plot(voltage.index, voltage.values, linestyle='-')\n",
    "        ax.set_title(f'supplyPowerVoltage (V) for the slew {slew.seqNum}')\n",
    "        ax.set_xlabel('Time (s)')\n",
    "        ax.set_ylabel('supplyPowerVoltage (V)')\n",
    "\n",
    "        ax.tick_params(axis='x', rotation=45)\n",
    "\n",
    "        # Set x-axis limits\n",
    "        #ax.set_xlim(0, (voltage.index[-1] - voltage.index[0]).total_seconds())\n",
    "\n",
    "        fig.tight_layout()\n",
    "\n",
    "        # Save images\n",
    "        plt.savefig(os.path.join(folder_name, f'{name}_voltage.png'))\n",
    "\n",
    "        # Close the figure to release memory\n",
    "        plt.close()\n",
    "        \n",
    "    except AttributeError:\n",
    "        pass\n"
   ]
  },
  {
   "cell_type": "code",
   "execution_count": null,
   "id": "1306493f-d89c-4544-b3a4-f8a0046a326f",
   "metadata": {},
   "outputs": [],
   "source": [
    "import os\n",
    "\n",
    "for dayObs in np.unique(df.dayobs):\n",
    "    try:\n",
    "        # Create folder to save the plots\n",
    "        folder_name = os.path.join(os.getcwd(), f\"tma_perf_{dayObs}_voltage\")\n",
    "        if not os.path.exists(folder_name):\n",
    "            os.makedirs(folder_name)\n",
    "        \n",
    "        slews = get_events(dayObs)\n",
    "        \n",
    "        for i, slew in enumerate(slews):\n",
    "            #data = [i, slew.dayObs, slew.duration, slew.begin, slew.end]\n",
    "            power_df = await client.select_time_series(tma_power_topic, '*', slew.begin, slew.end)\n",
    "            plot_voltage(power_df, dayObs, f'tma_perf_{dayObs}_{slew.seqNum}', slew, folder_name)\n",
    "            \n",
    "    except Exception as e:\n",
    "        print(\"Error:\", e)\n",
    "        print(dayObs)\n"
   ]
  },
  {
   "cell_type": "code",
   "execution_count": null,
   "id": "bc97802c-0420-42a5-81ae-1d76da362df2",
   "metadata": {},
   "outputs": [],
   "source": []
  }
 ],
 "metadata": {
  "kernelspec": {
   "display_name": "LSST",
   "language": "python",
   "name": "lsst"
  },
  "language_info": {
   "codemirror_mode": {
    "name": "ipython",
    "version": 3
   },
   "file_extension": ".py",
   "mimetype": "text/x-python",
   "name": "python",
   "nbconvert_exporter": "python",
   "pygments_lexer": "ipython3",
   "version": "3.11.7"
  }
 },
 "nbformat": 4,
 "nbformat_minor": 5
}
