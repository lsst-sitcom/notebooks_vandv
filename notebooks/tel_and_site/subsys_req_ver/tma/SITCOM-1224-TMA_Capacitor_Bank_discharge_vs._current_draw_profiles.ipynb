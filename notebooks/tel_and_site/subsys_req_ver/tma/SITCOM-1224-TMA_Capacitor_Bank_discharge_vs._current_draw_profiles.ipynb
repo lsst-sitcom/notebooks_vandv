{
 "cells": [
  {
   "cell_type": "markdown",
   "id": "31ab2e53-46e3-4016-8424-cbe70189c648",
   "metadata": {},
   "source": [
    "# TMA Capacitor Bank discharge vs. current draw profiles\n",
    "\n",
    "# SITCOM-1224"
   ]
  },
  {
   "cell_type": "markdown",
   "id": "537f70a3-6883-4943-9595-218ce7a78d86",
   "metadata": {
    "execution": {
     "iopub.execute_input": "2024-03-05T10:06:56.612270Z",
     "iopub.status.busy": "2024-03-05T10:06:56.611935Z",
     "iopub.status.idle": "2024-03-05T10:06:56.615758Z",
     "shell.execute_reply": "2024-03-05T10:06:56.615218Z",
     "shell.execute_reply.started": "2024-03-05T10:06:56.612253Z"
    }
   },
   "source": [
    "**title**: TMA (Telescope Mount Assembly) Capacitor Bank discharge vs. current draw profiles\n",
    "\n",
    "**Description**: Continue in the analysis started in SITCOM-1146 (https://jira.lsstcorp.org/browse/SITCOM-1146). \n",
    "This ticket for looking at the relationship between the current draw (rather than power supply voltage) \n",
    "and also how much power was in the banks prior to a large drop. This was explored a bit in SITCOM-1146, but could be expanded.\n",
    "\n",
    "**Author**: Laura Toribio San Cipriano\n",
    "\n",
    "2024-03-13"
   ]
  },
  {
   "cell_type": "markdown",
   "id": "9fb99451-6f94-47ea-8be4-be3f2836bda1",
   "metadata": {
    "execution": {
     "iopub.execute_input": "2024-03-13T14:10:48.155196Z",
     "iopub.status.busy": "2024-03-13T14:10:48.154614Z",
     "iopub.status.idle": "2024-03-13T14:10:48.156968Z",
     "shell.execute_reply": "2024-03-13T14:10:48.156680Z",
     "shell.execute_reply.started": "2024-03-13T14:10:48.155178Z"
    }
   },
   "source": [
    "### Setup"
   ]
  },
  {
   "cell_type": "code",
   "execution_count": 2,
   "id": "be8e0006-9418-4d9f-ac85-660f4f7f4450",
   "metadata": {
    "execution": {
     "iopub.execute_input": "2024-03-22T08:32:16.005398Z",
     "iopub.status.busy": "2024-03-22T08:32:16.005171Z",
     "iopub.status.idle": "2024-03-22T08:32:16.020525Z",
     "shell.execute_reply": "2024-03-22T08:32:16.020046Z",
     "shell.execute_reply.started": "2024-03-22T08:32:16.005384Z"
    }
   },
   "outputs": [
    {
     "name": "stdout",
     "output_type": "stream",
     "text": [
      "The autoreload extension is already loaded. To reload it, use:\n",
      "  %reload_ext autoreload\n"
     ]
    }
   ],
   "source": [
    "%matplotlib inline\n",
    "%matplotlib widget\n",
    "%load_ext autoreload\n",
    "%autoreload 2"
   ]
  },
  {
   "cell_type": "code",
   "execution_count": 3,
   "id": "4977a6aa-7178-4e20-8ead-12b506889739",
   "metadata": {
    "execution": {
     "iopub.execute_input": "2024-03-22T08:32:23.524153Z",
     "iopub.status.busy": "2024-03-22T08:32:23.523492Z",
     "iopub.status.idle": "2024-03-22T08:32:30.711442Z",
     "shell.execute_reply": "2024-03-22T08:32:30.710980Z",
     "shell.execute_reply.started": "2024-03-22T08:32:23.524133Z"
    }
   },
   "outputs": [],
   "source": [
    "import pandas as pd\n",
    "import numpy as np\n",
    "import matplotlib.pyplot as plt\n",
    "from astropy.io import fits\n",
    "\n",
    "from lsst_efd_client import EfdClient, resample\n",
    "from lsst.summit.utils.tmaUtils import TMAEventMaker, TMAState\n",
    "\n",
    "from astropy.time import Time, TimeDelta\n",
    "from astropy.table import Table\n",
    "from scipy.interpolate import UnivariateSpline"
   ]
  },
  {
   "cell_type": "code",
   "execution_count": 4,
   "id": "8eee39e8-66bd-4fff-9934-4beee62ba3f4",
   "metadata": {
    "execution": {
     "iopub.execute_input": "2024-03-22T08:32:30.757504Z",
     "iopub.status.busy": "2024-03-22T08:32:30.757350Z",
     "iopub.status.idle": "2024-03-22T08:32:31.812612Z",
     "shell.execute_reply": "2024-03-22T08:32:31.811974Z",
     "shell.execute_reply.started": "2024-03-22T08:32:30.757485Z"
    }
   },
   "outputs": [],
   "source": [
    "client = EfdClient('usdf_efd')"
   ]
  },
  {
   "cell_type": "code",
   "execution_count": 5,
   "id": "32e4c340-b572-495d-9a47-86db2ad19a04",
   "metadata": {
    "execution": {
     "iopub.execute_input": "2024-03-22T08:32:31.814257Z",
     "iopub.status.busy": "2024-03-22T08:32:31.813961Z",
     "iopub.status.idle": "2024-03-22T08:32:31.856621Z",
     "shell.execute_reply": "2024-03-22T08:32:31.856229Z",
     "shell.execute_reply.started": "2024-03-22T08:32:31.814237Z"
    }
   },
   "outputs": [],
   "source": [
    "tma_power_topic = 'lsst.sal.MTMount.mainPowerSupply'\n",
    "tma_el_topic = 'lsst.sal.MTMount.elevation'\n",
    "tma_az_topic = 'lsst.sal.MTMount.azimuth'"
   ]
  },
  {
   "cell_type": "markdown",
   "id": "e1ed2ea1-d306-4c83-b2a3-75d26d7a2ba0",
   "metadata": {},
   "source": [
    "### Get Data"
   ]
  },
  {
   "cell_type": "code",
   "execution_count": 6,
   "id": "f408f88d-d536-4d17-929f-796c3caa8f24",
   "metadata": {
    "execution": {
     "iopub.execute_input": "2024-03-22T08:32:31.857323Z",
     "iopub.status.busy": "2024-03-22T08:32:31.857174Z",
     "iopub.status.idle": "2024-03-22T08:32:31.892992Z",
     "shell.execute_reply": "2024-03-22T08:32:31.892646Z",
     "shell.execute_reply.started": "2024-03-22T08:32:31.857310Z"
    }
   },
   "outputs": [],
   "source": [
    "obs_days = [20240301]#, 20240302, 20240303, 20240304, 20240305]"
   ]
  },
  {
   "cell_type": "code",
   "execution_count": 7,
   "id": "6f2656c8-dd0c-4ee5-bfdd-798cc5b8f013",
   "metadata": {
    "execution": {
     "iopub.execute_input": "2024-03-22T08:32:31.893571Z",
     "iopub.status.busy": "2024-03-22T08:32:31.893448Z",
     "iopub.status.idle": "2024-03-22T08:32:31.927967Z",
     "shell.execute_reply": "2024-03-22T08:32:31.927604Z",
     "shell.execute_reply.started": "2024-03-22T08:32:31.893558Z"
    }
   },
   "outputs": [],
   "source": [
    "def get_events(dayObs):\n",
    "    \"\"\"\n",
    "    Identify slew events for a given dayObs\n",
    "    \"\"\"\n",
    "    eventMaker = TMAEventMaker()\n",
    "    events = eventMaker.getEvents(dayObs)\n",
    "    \n",
    "    # Get lists of slew and track events\n",
    "    slews = [e for e in events if e.type == TMAState.SLEWING]\n",
    "    tracks = [e for e in events if e.type == TMAState.TRACKING]\n",
    "    print(f\"{dayObs}: Found {len(slews)} slews and {len(tracks)} tracks\")\n",
    "    return slews"
   ]
  },
  {
   "cell_type": "code",
   "execution_count": 8,
   "id": "ae7d20c6-1d1e-476f-b846-bd0f051e3b5c",
   "metadata": {
    "execution": {
     "iopub.execute_input": "2024-03-22T08:32:32.814421Z",
     "iopub.status.busy": "2024-03-22T08:32:32.814146Z",
     "iopub.status.idle": "2024-03-22T08:32:32.854472Z",
     "shell.execute_reply": "2024-03-22T08:32:32.854106Z",
     "shell.execute_reply.started": "2024-03-22T08:32:32.814406Z"
    }
   },
   "outputs": [],
   "source": [
    "def get_acc_jerk(time, velocity):\n",
    "    \"\"\"\n",
    "    From velocity data, calculate acceleration and jerk\n",
    "    \"\"\"\n",
    "    try:\n",
    "       smoothing_factor=0.2\n",
    "       kernel_size = 5\n",
    "       kernel = np.ones(kernel_size) / kernel_size\n",
    "    \n",
    "       VelSpline = UnivariateSpline(time, velocity, s=0)\n",
    "       smoothedVel = np.convolve(VelSpline(time), kernel, mode='same')\n",
    "       VelSpline = UnivariateSpline(time, smoothedVel, s=smoothing_factor)\n",
    "    \n",
    "       AccSpline = VelSpline.derivative(n=1)\n",
    "       smoothedAcc = np.convolve(AccSpline(time), kernel, mode='same')\n",
    "       AccSpline = UnivariateSpline(time, smoothedAcc, s=smoothing_factor)\n",
    "   \n",
    "       JerkSpline = AccSpline.derivative(n=1) \n",
    "\n",
    "       return VelSpline(time), AccSpline(time), JerkSpline(time)\n",
    "    except:\n",
    "        return False, False, False"
   ]
  },
  {
   "cell_type": "code",
   "execution_count": 9,
   "id": "c45874f6-abfe-44f2-85b4-6a8c19b155d9",
   "metadata": {
    "execution": {
     "iopub.execute_input": "2024-03-22T08:32:34.520823Z",
     "iopub.status.busy": "2024-03-22T08:32:34.520523Z",
     "iopub.status.idle": "2024-03-22T08:32:34.562986Z",
     "shell.execute_reply": "2024-03-22T08:32:34.562536Z",
     "shell.execute_reply.started": "2024-03-22T08:32:34.520808Z"
    }
   },
   "outputs": [],
   "source": [
    "async def data_per_slew(i, slew, debug=False):\n",
    "    \"\"\"\n",
    "    get TMA velocity data, power data for a given slew and e currren draw\n",
    "\n",
    "    Calculate maximum velocity, acceleration and jerk values and minimum power draw\n",
    "    \"\"\"\n",
    "    data = [i, slew.dayObs, slew.duration, slew.begin, slew.end]\n",
    "\n",
    "    power_df = await client.select_time_series(tma_power_topic, '*', slew.begin, slew.end)\n",
    "    \n",
    "    data.append(np.min(power_df.powerSupplyVoltage))\n",
    "    data.append(np.max(power_df.powerSupplyCurrent))\n",
    "    charge = np.trapz(power_df.powerSupplyCurrent)\n",
    "    data.append(charge)\n",
    "    \n",
    "    az = await client.select_time_series(tma_az_topic, ['*'], slew.begin, slew.end)\n",
    "    el = await client.select_time_series(tma_el_topic, ['*'], slew.begin, slew.end)\n",
    "   \n",
    "    AzBegin = az.actualPosition.iloc[0]\n",
    "    AzEnd   = az.actualPosition.iloc[-1]\n",
    "    ElBegin = el.actualPosition.iloc[0]\n",
    "    ElEnd   = el.actualPosition.iloc[-1]\n",
    "    \n",
    "    AzVel, AzAcc, AzJerk = get_acc_jerk(az.timestamp, az.actualVelocity)\n",
    "    ElVel, ElAcc, ElJerk = get_acc_jerk(el.timestamp, el.actualVelocity)\n",
    "\n",
    "    for var in [AzVel, AzAcc, AzJerk, ElVel, ElAcc, ElJerk, AzBegin, AzEnd, ElBegin, ElEnd]:\n",
    "        data.append(np.max(np.abs(var)))\n",
    "    if debug:\n",
    "        return az, el, power_df, data\n",
    "    else:\n",
    "        return data"
   ]
  },
  {
   "cell_type": "code",
   "execution_count": 10,
   "id": "48bfe826-fe02-4fc8-a4b3-58a611a5c643",
   "metadata": {
    "execution": {
     "iopub.execute_input": "2024-03-22T08:32:36.192969Z",
     "iopub.status.busy": "2024-03-22T08:32:36.192692Z",
     "iopub.status.idle": "2024-03-22T08:33:05.878323Z",
     "shell.execute_reply": "2024-03-22T08:33:05.877970Z",
     "shell.execute_reply.started": "2024-03-22T08:32:36.192955Z"
    }
   },
   "outputs": [
    {
     "data": {
      "text/html": [
       "<pre style=\"margin: 0.1em;\n",
       "padding-left: 0.25em;\n",
       "border-left-style: solid;\n",
       "font-family: var(--jp-code-font-family);\n",
       "font-size: var(--jp-code-font-size);\n",
       "line-height: var(--jp-code-line-height);\n",
       "\"><span style=\"color: var(--jp-warn-color2)\">lsst.summit.utils.tmaUtils</span> <span style=\"color: var(--jp-info-color0)\">INFO</span>: Retrieving mount data for 20240301 from the EFD</pre>"
      ],
      "text/plain": [
       "<IPython.core.display.HTML object>"
      ]
     },
     "metadata": {},
     "output_type": "display_data"
    },
    {
     "name": "stdout",
     "output_type": "stream",
     "text": [
      "20240301: Found 375 slews and 350 tracks\n"
     ]
    }
   ],
   "source": [
    "Data = []\n",
    "failed = []\n",
    "data_names = ['slew_id', 'dayobs', 'duration', 'begin', 'end', 'min_power', 'max_current', 'charge', \\\n",
    "              'az_max_vel', 'az_max_acc', 'az_max_jerk', 'el_max_vel', 'el_max_acc', 'el_max_jerk', \\\n",
    "              'az_pos_begin', 'az_pos_end', 'el_pos_begin', 'el_pos_end'] \n",
    "for dayObs in obs_days:\n",
    "    try:\n",
    "        slews = get_events(dayObs)\n",
    "    except:\n",
    "        print(dayObs)\n",
    "    for i, slew in enumerate(slews):\n",
    "        try:\n",
    "            d = await data_per_slew(i, slew)\n",
    "            Data.append(d)\n",
    "        except Exception as e:\n",
    "            failed.append(i)\n",
    "            #print(i, e)\n",
    "df = pd.DataFrame(np.vstack(Data),columns=data_names)\n"
   ]
  },
  {
   "cell_type": "code",
   "execution_count": 11,
   "id": "11cf1ce8-cc53-4dc0-b5fe-2d51d3b5c40b",
   "metadata": {
    "execution": {
     "iopub.execute_input": "2024-03-22T08:33:05.984024Z",
     "iopub.status.busy": "2024-03-22T08:33:05.983894Z",
     "iopub.status.idle": "2024-03-22T08:33:06.030974Z",
     "shell.execute_reply": "2024-03-22T08:33:06.030618Z",
     "shell.execute_reply.started": "2024-03-22T08:33:05.984011Z"
    }
   },
   "outputs": [],
   "source": [
    "#Remove extreme outliers\n",
    "df = df[(df.el_max_jerk < 100)&(df.duration<3000)]"
   ]
  },
  {
   "cell_type": "markdown",
   "id": "a63e46bc-1b40-4ffd-8d8f-92e996bafffd",
   "metadata": {},
   "source": [
    "### Analysis"
   ]
  },
  {
   "cell_type": "markdown",
   "id": "263a4165-dee6-4893-8d0f-9d5693598c1f",
   "metadata": {},
   "source": [
    "#### Relationship of max power supply Current draw and distance of slew"
   ]
  },
  {
   "cell_type": "code",
   "execution_count": 15,
   "id": "c0b11a21-0938-47c7-aae7-c2472f2e40af",
   "metadata": {
    "execution": {
     "iopub.execute_input": "2024-03-21T09:22:05.133200Z",
     "iopub.status.busy": "2024-03-21T09:22:05.132943Z",
     "iopub.status.idle": "2024-03-21T09:22:05.181059Z",
     "shell.execute_reply": "2024-03-21T09:22:05.180506Z",
     "shell.execute_reply.started": "2024-03-21T09:22:05.133184Z"
    }
   },
   "outputs": [],
   "source": [
    "def plot_spc_vs_dist(df_, title_date, name):\n",
    "    fig, (ax1) = plt.subplots(figsize=(8, 4))\n",
    "\n",
    "    # Scatter plot of slew distances vs. min_power\n",
    "    ax1.plot((df_.az_pos_begin - df_.az_pos_end), df_.max_current, 'x', color='C0', label='az')\n",
    "    ax1.plot((df_.el_pos_begin - df_.el_pos_end), df_.max_current, 'x',  alpha=0.7, color='C1', label='el')\n",
    "    #ax1.axhline(575, ls='--', c='k',label='voltage drop limit')\n",
    "    ax1.legend()\n",
    "    ax1.set_xlabel('Slew distances (az/el)')\n",
    "    ax1.set_ylabel('max supplyPowerCurrent (A)')\n",
    "    ax1.set_title(f'Max. TMA current vs. distance of slew for {title_date}')\n",
    "\n",
    "    fig2, (ax2, ax3) = plt.subplots(1, 2, figsize=(12, 4))\n",
    "    # Histogram of absolute values of position differences\n",
    "    ax2.hist(df_.az_pos_begin - df_.az_pos_end, color='C0', label='az')\n",
    "    ax2.hist(df_.el_pos_begin - df_.el_pos_end, color='C1', alpha=0.7, label='el')\n",
    "    ax2.legend()\n",
    "    ax2.set_xlabel('Slew distances (az/el)')\n",
    "    ax2.set_ylabel('Frequency')\n",
    "    ax2.set_title(f'Slew distance Histogram for {title_date}')\n",
    "    \n",
    "    # Histogram of min_power\n",
    "    ax3.hist(df_.max_current, bins=50, color='C0', edgecolor='black', alpha=0.5)\n",
    "    #ax3.axvline(575, ls='--', c='k', label='voltage drop limit')\n",
    "    ax3.legend()\n",
    "    ax3.set_xlabel('max supplyPowerCurrent (A)')\n",
    "    ax3.set_ylabel('Frequency')\n",
    "    ax3.set_title(f'Max. TMA current histogram for {title_date}')\n",
    "    \n",
    "    plt.tight_layout()\n",
    "    plt.show()\n",
    "    plt.savefig(f'{name}.png')"
   ]
  },
  {
   "cell_type": "code",
   "execution_count": null,
   "id": "2f2342e7-c1b3-4a47-8a3e-90f0ed94df26",
   "metadata": {},
   "outputs": [],
   "source": [
    "for dayObs in np.unique(df.dayobs):\n",
    "    df_ = df[df.dayobs == dayObs]\n",
    "    plot_spc_vs_dist(df_, dayObs,'tma_perf_mar_2024')"
   ]
  },
  {
   "cell_type": "markdown",
   "id": "38c57d73-2f75-4653-a958-efd8a7c0f08d",
   "metadata": {},
   "source": [
    "#### Look at Azimuth acceleration vs. power supply current"
   ]
  },
  {
   "cell_type": "code",
   "execution_count": null,
   "id": "c90bad3f-386b-448a-b483-9a67074b43c0",
   "metadata": {},
   "outputs": [],
   "source": [
    "def plots_spc_vs_az(df_, title_date,name):\n",
    "    fig, (ax1, ax2, ax3) = plt.subplots(1,3, sharey=True, figsize=(12, 4))\n",
    "\n",
    "    ax1.plot(df_.az_max_vel, df_.max_current,'x',label='azVel')\n",
    "    #ax1.plot(df_.el_max_vel, df_.min_power,'x', label='elVel')\n",
    "    #ax1.axhline(575, ls='--', c='k',label='voltage drop limit')\n",
    "    ax1.legend()\n",
    "    #ax1.set_xlim(-1,12)\n",
    "    ax1.set_xlabel('max Velocity (m/s)')\n",
    "    ax1.set_ylabel('max supplyPowerCurrent (A)')\n",
    "\n",
    "    ax2.plot(df_.az_max_acc, df_.max_current,'x',label='azAcc')\n",
    "    #ax2.plot(df_.el_max_acc, df_.min_power,'x',label='elAcc')\n",
    "    #ax2.axhline(575, ls='--', c='k',label='voltage drop limit')\n",
    "    ax2.legend()\n",
    "    #ax2.set_xlim(-1,25)\n",
    "    ax2.set_xlabel('max Acceleration $(m/s^{2})$')\n",
    "    #ax2.set_ylabel('min supplyPowerVoltage (V)')\n",
    "               \n",
    "    ax3.plot(df_.az_max_jerk, df_.max_current,'x',label='azSlewDis')\n",
    "    #ax3.plot(df_.el_max_jerk, df_.min_power,'x', label='elJerk')\n",
    "    #ax3.axhline(575, ls='--', c='k',label='voltage drop limit')\n",
    "    ax3.legend()\n",
    "    #ax3.set_xlim(-100,800)\n",
    "    ax3.set_xlabel('max Jerk $(m/s^{3})$')\n",
    "    #ax3.set_ylabel('min supplyPowerVoltage (V)')\n",
    "               \n",
    "    fig.suptitle(f'Max. TMA current vs. TMA Performance for {title_date}')\n",
    "    fig.tight_layout()\n",
    "    plt.savefig(f'{name}.png')"
   ]
  },
  {
   "cell_type": "code",
   "execution_count": null,
   "id": "ff04be71-73db-48e3-b3a8-cc7184054262",
   "metadata": {},
   "outputs": [],
   "source": [
    "for dayObs in np.unique(df.dayobs):\n",
    "    df_ = df[df.\n",
    "    dayobs == dayObs]\n",
    "    plots_spc_vs_az(df_, dayObs,f'tma_perf_{dayObs}')\n"
   ]
  },
  {
   "cell_type": "markdown",
   "id": "3dad7b52-9fc8-4dc5-b7e4-76b1904d7d6c",
   "metadata": {},
   "source": [
    "#### Look at Azimuth acceleration vs. charge"
   ]
  },
  {
   "cell_type": "code",
   "execution_count": null,
   "id": "0667c89a-87ef-4f8e-be47-3fb87bd5cd3e",
   "metadata": {},
   "outputs": [],
   "source": [
    "def plots_charge_vs_az(df_, title_date,name):\n",
    "    fig, (ax1, ax2, ax3) = plt.subplots(1,3, sharey=True, figsize=(12, 4))\n",
    "\n",
    "    ax1.plot(df_.az_max_vel, df_.charge,'x',label='azVel')\n",
    "    #ax1.plot(df_.el_max_vel, df_.min_power,'x', label='elVel')\n",
    "    #ax1.axhline(575, ls='--', c='k',label='voltage drop limit')\n",
    "    ax1.legend()\n",
    "    #ax1.set_xlim(-1,12)\n",
    "    ax1.set_xlabel('max Velocity (m/s)')\n",
    "    ax1.set_ylabel('Charge (C)')\n",
    "\n",
    "    ax2.plot(df_.az_max_acc, df_.charge,'x',label='azAcc')\n",
    "    #ax2.plot(df_.el_max_acc, df_.min_power,'x',label='elAcc')\n",
    "    #ax2.axhline(575, ls='--', c='k',label='voltage drop limit')\n",
    "    ax2.legend()\n",
    "    #ax2.set_xlim(-1,25)\n",
    "    ax2.set_xlabel('max Acceleration $(m/s^{2})$')\n",
    "    #ax2.set_ylabel('min supplyPowerVoltage (V)')\n",
    "               \n",
    "    ax3.plot(df_.az_max_jerk, df_.charge,'x',label='azSlewDis')\n",
    "    #ax3.plot(df_.el_max_jerk, df_.min_power,'x', label='elJerk')\n",
    "    #ax3.axhline(575, ls='--', c='k',label='voltage drop limit')\n",
    "    ax3.legend()\n",
    "    #ax3.set_xlim(-100,800)\n",
    "    ax3.set_xlabel('max Jerk $(m/s^{3})$')\n",
    "    #ax3.set_ylabel('min supplyPowerVoltage (V)')\n",
    "               \n",
    "    fig.suptitle(f'Charge vs. TMA Performance for {title_date}')\n",
    "    fig.tight_layout()\n",
    "    plt.savefig(f'{name}.png')"
   ]
  },
  {
   "cell_type": "code",
   "execution_count": null,
   "id": "3b067111-49ad-4123-9279-386b6cfd3af8",
   "metadata": {},
   "outputs": [],
   "source": [
    "for dayObs in np.unique(df.dayobs):\n",
    "    df_ = df[df.dayobs == dayObs]\n",
    "    plots_charge_vs_az(df_, dayObs,f'tma_perf_{dayObs}')"
   ]
  },
  {
   "cell_type": "markdown",
   "id": "c13f43e9-0447-4660-a622-21b69d870ac2",
   "metadata": {},
   "source": [
    "#### Analyse the voltage and the current draw during the slew"
   ]
  },
  {
   "cell_type": "code",
   "execution_count": 47,
   "id": "22605b7c-3177-4df1-bf9f-8cb255b81f7e",
   "metadata": {
    "execution": {
     "iopub.execute_input": "2024-03-21T10:26:03.549363Z",
     "iopub.status.busy": "2024-03-21T10:26:03.548897Z",
     "iopub.status.idle": "2024-03-21T10:26:03.592522Z",
     "shell.execute_reply": "2024-03-21T10:26:03.592206Z",
     "shell.execute_reply.started": "2024-03-21T10:26:03.549344Z"
    }
   },
   "outputs": [],
   "source": [
    "import os\n",
    "\n",
    "def plot_voltage(df_, title_date, name, slew, folder_name):\n",
    "    try:\n",
    "        voltage = df_.powerSupplyVoltage\n",
    "    \n",
    "        # Convert the index to datetime type\n",
    "        voltage.index = pd.to_datetime(voltage.index)\n",
    "        \n",
    "        # Check if the voltage is constant\n",
    "        if len(set(voltage.values)) == 1:\n",
    "            print(f\"The slew {slew.seqNum} has constant voltage\")\n",
    "            return\n",
    "\n",
    "        # Create the plot\n",
    "        fig, ax = plt.subplots(figsize=(10, 6))\n",
    "        ax.plot(voltage.index, voltage.values, linestyle='-')\n",
    "        ax.set_title(f'supplyPowerVoltage (V) for the slew {slew.seqNum}')\n",
    "        ax.set_xlabel('Time (s)')\n",
    "        ax.set_ylabel('supplyPowerVoltage (V)')\n",
    "\n",
    "        ax.tick_params(axis='x', rotation=45)\n",
    "\n",
    "        # Set x-axis limits\n",
    "        #ax.set_xlim(0, (voltage.index[-1] - voltage.index[0]).total_seconds())\n",
    "\n",
    "        fig.tight_layout()\n",
    "\n",
    "        # Save images\n",
    "        plt.savefig(os.path.join(folder_name, f'{name}_voltage.png'))\n",
    "\n",
    "        # Close the figure to release memory\n",
    "        plt.close()\n",
    "        \n",
    "    except AttributeError:\n",
    "        pass\n"
   ]
  },
  {
   "cell_type": "code",
   "execution_count": 48,
   "id": "1306493f-d89c-4544-b3a4-f8a0046a326f",
   "metadata": {
    "execution": {
     "iopub.execute_input": "2024-03-21T10:26:05.101126Z",
     "iopub.status.busy": "2024-03-21T10:26:05.100837Z",
     "iopub.status.idle": "2024-03-21T10:27:08.147535Z",
     "shell.execute_reply": "2024-03-21T10:27:08.147108Z",
     "shell.execute_reply.started": "2024-03-21T10:26:05.101110Z"
    }
   },
   "outputs": [
    {
     "data": {
      "text/html": [
       "<pre style=\"margin: 0.1em;\n",
       "padding-left: 0.25em;\n",
       "border-left-style: solid;\n",
       "font-family: var(--jp-code-font-family);\n",
       "font-size: var(--jp-code-font-size);\n",
       "line-height: var(--jp-code-line-height);\n",
       "\"><span style=\"color: var(--jp-warn-color2)\">lsst.summit.utils.tmaUtils</span> <span style=\"color: var(--jp-info-color0)\">INFO</span>: Retrieving mount data for 20240301 from the EFD</pre>"
      ],
      "text/plain": [
       "<IPython.core.display.HTML object>"
      ]
     },
     "metadata": {},
     "output_type": "display_data"
    },
    {
     "name": "stdout",
     "output_type": "stream",
     "text": [
      "20240301: Found 375 slews and 350 tracks\n",
      "The slew 0 has constant voltage\n",
      "The slew 1 has constant voltage\n",
      "The slew 7 has constant voltage\n",
      "The slew 8 has constant voltage\n",
      "The slew 18 has constant voltage\n",
      "The slew 19 has constant voltage\n",
      "The slew 21 has constant voltage\n",
      "The slew 364 has constant voltage\n",
      "The slew 365 has constant voltage\n",
      "The slew 366 has constant voltage\n",
      "The slew 367 has constant voltage\n",
      "The slew 369 has constant voltage\n",
      "The slew 370 has constant voltage\n",
      "The slew 371 has constant voltage\n",
      "The slew 372 has constant voltage\n",
      "The slew 376 has constant voltage\n",
      "The slew 377 has constant voltage\n",
      "The slew 379 has constant voltage\n",
      "The slew 393 has constant voltage\n",
      "The slew 395 has constant voltage\n"
     ]
    }
   ],
   "source": [
    "import os\n",
    "\n",
    "for dayObs in np.unique(df.dayobs):\n",
    "    try:\n",
    "        # Create folder to save the plots\n",
    "        folder_name = os.path.join(os.getcwd(), f\"tma_perf_{dayObs}_voltage\")\n",
    "        if not os.path.exists(folder_name):\n",
    "            os.makedirs(folder_name)\n",
    "        \n",
    "        slews = get_events(dayObs)\n",
    "        \n",
    "        for i, slew in enumerate(slews):\n",
    "            #data = [i, slew.dayObs, slew.duration, slew.begin, slew.end]\n",
    "            power_df = await client.select_time_series(tma_power_topic, '*', slew.begin, slew.end)\n",
    "            plot_voltage(power_df, dayObs, f'tma_perf_{dayObs}_{slew.seqNum}', slew, folder_name)\n",
    "            \n",
    "    except Exception as e:\n",
    "        print(\"Error:\", e)\n",
    "        print(dayObs)\n"
   ]
  },
  {
   "cell_type": "code",
   "execution_count": null,
   "id": "653e74b8-e6de-4072-a659-d71f68258de0",
   "metadata": {},
   "outputs": [],
   "source": []
  },
  {
   "cell_type": "code",
   "execution_count": 12,
   "id": "e3277c48-b71f-4cb8-8061-656848d7a284",
   "metadata": {
    "execution": {
     "iopub.execute_input": "2024-03-22T08:34:20.553483Z",
     "iopub.status.busy": "2024-03-22T08:34:20.553206Z",
     "iopub.status.idle": "2024-03-22T08:34:20.602190Z",
     "shell.execute_reply": "2024-03-22T08:34:20.601706Z",
     "shell.execute_reply.started": "2024-03-22T08:34:20.553468Z"
    }
   },
   "outputs": [],
   "source": [
    "import os\n",
    "\n",
    "def plot_vel_charge(df_, title_date, name, slew, folder_name, az, el):\n",
    "    try:\n",
    "        voltage = df_.powerSupplyVoltage\n",
    "        current = df_.powerSupplyCurrent\n",
    "    \n",
    "        # Convert the index to datetime type\n",
    "        voltage.index = pd.to_datetime(voltage.index)\n",
    "        current.index = pd.to_datetime(current.index)\n",
    "        charge = np.trapz(current)  # Quiza esto hay que hacerlo con el tiempo. No todo junto aqui\n",
    "\n",
    "        AzVel, AzAcc, AzJerk = get_acc_jerk(az.timestamp, az.actualVelocity)\n",
    "        ElVel, ElAcc, ElJerk = get_acc_jerk(el.timestamp, el.actualVelocity)\n",
    "            \n",
    "        # Calculate elapsed time in seconds for voltage and current\n",
    "        elapsed_time_voltage = (voltage.index - voltage.index[0]).total_seconds()\n",
    "        elapsed_time_current = (current.index - current.index[0]).total_seconds()\n",
    "\n",
    "        # Check if AzVel, AzAcc, and AzJerk are empty\n",
    "        if not AzVel.any() or not AzAcc.any() or not AzJerk.any():\n",
    "            print(f\"No data available for azimuth plots for slew {slew.seqNum}\")\n",
    "            return\n",
    "        \n",
    "        # Create artificial time vectors\n",
    "        AzTime = np.arange(len(AzVel))  # Assuming data occurs at fixed time intervals\n",
    "\n",
    "        # Create the plot with three subplots in a single row\n",
    "        fig, (ax1, ax2, ax3) = plt.subplots(1, 3, figsize=(15, 6))\n",
    "\n",
    "        # Plot AzVel\n",
    "        ax1.plot(AzTime, AzVel, linestyle='-', color='b')\n",
    "        ax1.set_xlabel('Time (s)')\n",
    "        ax1.set_ylabel('Velocity (deg/s)')\n",
    "        ax1.set_title(f'Azimuth Velocity for the slew {slew.seqNum}')\n",
    "\n",
    "        # Plot AzAcc\n",
    "        ax2.plot(AzTime, AzAcc, linestyle='-', color='r')\n",
    "        ax2.set_xlabel('Time (s)')\n",
    "        ax2.set_ylabel('Acceleration (deg/s^2)')\n",
    "        ax2.set_title(f'Azimuth Acceleration for the slew {slew.seqNum}')\n",
    "\n",
    "        # Plot AzJerk\n",
    "        ax3.plot(AzTime, AzJerk, linestyle='-', color='g')\n",
    "        ax3.set_xlabel('Time (s)')\n",
    "        ax3.set_ylabel('Jerk (deg/s^3)')\n",
    "        ax3.set_title(f'Azimuth Jerk for the slew {slew.seqNum}')\n",
    "\n",
    "        fig.tight_layout()\n",
    "\n",
    "        # Save the image with all plots\n",
    "        plt.savefig(os.path.join(folder_name, f'{name}_azimuth_plots.png'))\n",
    "\n",
    "        # Close the figure to release memory\n",
    "        plt.close()\n",
    "        \n",
    "    except AttributeError:\n",
    "        pass"
   ]
  },
  {
   "cell_type": "code",
   "execution_count": null,
   "id": "99cd20cf-39ac-43a1-a03c-949e2ce1ca4e",
   "metadata": {},
   "outputs": [],
   "source": []
  }
 ],
 "metadata": {
  "kernelspec": {
   "display_name": "LSST",
   "language": "python",
   "name": "lsst"
  },
  "language_info": {
   "codemirror_mode": {
    "name": "ipython",
    "version": 3
   },
   "file_extension": ".py",
   "mimetype": "text/x-python",
   "name": "python",
   "nbconvert_exporter": "python",
   "pygments_lexer": "ipython3",
   "version": "3.11.7"
  }
 },
 "nbformat": 4,
 "nbformat_minor": 5
}
