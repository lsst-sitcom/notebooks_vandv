{
 "cells": [
  {
   "cell_type": "markdown",
   "id": "d5066b70-de7b-4618-b0f4-746e029f8ebc",
   "metadata": {},
   "source": [
    "## SITCOM-1276: Notebook to find pairs of stars for star-tracker tests with slew and settle¶\n",
    "\n",
    "This notebook will produce a list of pairs of stars brighter than Vmag_max, at a given UTC t0, separated by an angular range between sep_lo and sep_hi, and higher than elevation elevation_min.\n",
    "\n",
    "This is to produce these positions manually. This notebook will be followed up by script that produces a file with the positions and write a json BLOCK for the corresponding observations."
   ]
  },
  {
   "cell_type": "code",
   "execution_count": null,
   "id": "3098bdeb-30c9-4818-86ee-11ea1ca826f4",
   "metadata": {},
   "outputs": [],
   "source": [
    "import astropy.units as u\n",
    "from astropy.coordinates import AltAz, EarthLocation, SkyCoord\n",
    "from astropy.time import Time\n",
    "from astroquery.vizier import Vizier\n",
    "import pandas as pd"
   ]
  },
  {
   "cell_type": "code",
   "execution_count": null,
   "id": "6f6a9f9c-50b2-4019-a3cb-813b666763f6",
   "metadata": {},
   "outputs": [],
   "source": [
    "# Define some configuration variables\n",
    "Vmag_max = 5 # maximum magnitude of the stars in the list\n",
    "t0 = '2024-3-8 01:00:00' #in UTC, ideally the central time at which observations will take place\n",
    "sep_lo = 3.3 #in degrees, minimum separation between stars\n",
    "sep_hi = 3.7 #in degrees, maximum separation between stars\n",
    "elevation_min = 45. #  minimum elevation for stars in the pair, NOTE that some might go below\n",
    "                    # this elevation threshold as the sky rotates during the BLOCK"
   ]
  },
  {
   "cell_type": "code",
   "execution_count": null,
   "id": "002fa1f5-4ecf-4dd7-86c5-054496185fe8",
   "metadata": {},
   "outputs": [],
   "source": [
    "# select the site\n",
    "rubin_site = EarthLocation.of_site('Rubin Observatory') ## equivalent to 'LSST 8.4m' in astropy"
   ]
  },
  {
   "cell_type": "code",
   "execution_count": null,
   "id": "283b5c5f-973b-4e4d-8287-64afce1eace5",
   "metadata": {},
   "outputs": [],
   "source": [
    "Vizier.ROW_LIMIT=-1\n",
    "catalogs = Vizier.get_catalogs('V/50') #this the Yale Bright Star Catalog\n",
    "table = catalogs[0] ## 0 corresponds to catalog in astropy Table format, [1] corresponds to notes"
   ]
  },
  {
   "cell_type": "code",
   "execution_count": null,
   "id": "0d73751a-e2c1-4105-aac8-cae8ed57096a",
   "metadata": {},
   "outputs": [],
   "source": [
    "# select brightest stars\n",
    "selection_vmag = (table['Vmag'] < Vmag_max)\n",
    "print(len(table[selection_vmag]))"
   ]
  },
  {
   "cell_type": "code",
   "execution_count": null,
   "id": "cfea78a4-a894-45cc-83c2-4dfaa7e437d2",
   "metadata": {},
   "outputs": [],
   "source": [
    "ra = table[selection_vmag]['RAJ2000']\n",
    "dec = table[selection_vmag]['DEJ2000']\n",
    "stars_radec = SkyCoord(ra,dec,unit=(u.hourangle,u.deg),frame='fk5') #YBSC is in FK5 ref frame"
   ]
  },
  {
   "cell_type": "code",
   "execution_count": null,
   "id": "4583fa89-598a-4555-967c-f37f4050c474",
   "metadata": {},
   "outputs": [],
   "source": [
    "time = Time(t0) #in UTC\n",
    "stars_altaz = stars_radec.transform_to(AltAz(obstime=time,location=rubin_site))"
   ]
  },
  {
   "cell_type": "code",
   "execution_count": null,
   "id": "f3e008f8-a11f-417a-96b5-456edfb08ee9",
   "metadata": {},
   "outputs": [],
   "source": [
    "# select stars that are high enough\n",
    "selection_alt = (stars_altaz.alt > elevation_min*u.deg)\n",
    "print(\"Number of stars above elevation threshold:\",len(stars_altaz.alt[selection_alt]))"
   ]
  },
  {
   "cell_type": "code",
   "execution_count": null,
   "id": "85b14159-0a9a-470c-a769-6e2a046fb222",
   "metadata": {},
   "outputs": [],
   "source": [
    "# print the list\n",
    "# note that currently the pairs will be repeated as the loop goes through the whole list\n",
    "# (should be easily fixable)\n",
    "tmp_list = []\n",
    "for i,refstar in enumerate(stars_altaz[selection_alt]):\n",
    "    sep = refstar.separation(stars_altaz[selection_alt])\n",
    "    selection_sep = (sep > sep_lo*u.deg ) & (sep < sep_hi*u.deg)\n",
    "    if len(sep[selection_sep]) > 0:\n",
    "        for j in range(len(sep[selection_sep])):\n",
    "            tmp_list.append([refstar.transform_to('icrs').ra.deg,\n",
    "                  refstar.transform_to('icrs').dec.deg,\n",
    "                  stars_altaz[selection_alt][selection_sep][j].transform_to('icrs').ra.deg,\n",
    "                  stars_altaz[selection_alt][selection_sep][j].transform_to('icrs').dec.deg,\n",
    "                  sep[selection_sep][j].deg])\n",
    "pair_table = pd.DataFrame(tmp_list,columns=['RA star 1 (deg)','Dec star 1 (deg)', \n",
    "                                   'RA star 2 (deg)','Dec star 2 (deg)',\n",
    "                                   'Separation (deg)'])\n",
    "print(pair_table)\n"
   ]
  },
  {
   "cell_type": "markdown",
   "id": "47993cf7-86cf-487e-a7e8-5a15335bbc8f",
   "metadata": {
    "execution": {
     "iopub.execute_input": "2024-03-12T14:30:46.777607Z",
     "iopub.status.busy": "2024-03-12T14:30:46.776999Z",
     "iopub.status.idle": "2024-03-12T14:30:46.780630Z",
     "shell.execute_reply": "2024-03-12T14:30:46.780144Z",
     "shell.execute_reply.started": "2024-03-12T14:30:46.777584Z"
    }
   },
   "source": [
    "### Visibility of an object\n",
    "The following cells are a simple set of instructions to find out whether a given position is visible or not"
   ]
  },
  {
   "cell_type": "code",
   "execution_count": null,
   "id": "3e0b7446-9dd3-4862-be5a-2dea2882892f",
   "metadata": {},
   "outputs": [],
   "source": [
    "# check visibility of a star\n",
    "# HD 37128 RA=84.0533889 DE=-01.2019191\n",
    "ra = 84.0533889 \n",
    "dec = -01.2019191\n",
    "time = Time('2024-3-9 02:14:02') #in UTC"
   ]
  },
  {
   "cell_type": "code",
   "execution_count": null,
   "id": "3f148660-d8ce-4922-858c-41886e09856e",
   "metadata": {},
   "outputs": [],
   "source": [
    "stars_radec = SkyCoord(ra,dec,unit=(u.deg,u.deg)) #YBSC is in FK5 ref frame\n",
    "stars_altaz = stars_radec.transform_to(AltAz(obstime=time,location=rubin_site))"
   ]
  },
  {
   "cell_type": "code",
   "execution_count": null,
   "id": "09ba494a-c98e-4441-851a-dcc8ac65a38d",
   "metadata": {},
   "outputs": [],
   "source": [
    "print(stars_altaz)"
   ]
  },
  {
   "cell_type": "code",
   "execution_count": null,
   "id": "54128591-f8a7-4c95-b71b-f7d84530cd1b",
   "metadata": {},
   "outputs": [],
   "source": []
  }
 ],
 "metadata": {
  "kernelspec": {
   "display_name": "LSST",
   "language": "python",
   "name": "lsst"
  },
  "language_info": {
   "codemirror_mode": {
    "name": "ipython",
    "version": 3
   },
   "file_extension": ".py",
   "mimetype": "text/x-python",
   "name": "python",
   "nbconvert_exporter": "python",
   "pygments_lexer": "ipython3",
   "version": "3.11.7"
  }
 },
 "nbformat": 4,
 "nbformat_minor": 5
}
