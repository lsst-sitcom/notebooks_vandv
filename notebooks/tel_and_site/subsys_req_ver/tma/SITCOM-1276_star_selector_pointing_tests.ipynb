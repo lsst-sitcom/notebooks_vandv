{
 "cells": [
  {
   "cell_type": "code",
   "execution_count": null,
   "id": "3098bdeb-30c9-4818-86ee-11ea1ca826f4",
   "metadata": {},
   "outputs": [],
   "source": [
    "import astropy.units as u\n",
    "from astropy.coordinates import AltAz, EarthLocation, SkyCoord\n",
    "from astropy.time import Time\n",
    "from astroquery.vizier import Vizier"
   ]
  },
  {
   "cell_type": "code",
   "execution_count": null,
   "id": "002fa1f5-4ecf-4dd7-86c5-054496185fe8",
   "metadata": {},
   "outputs": [],
   "source": [
    "pachon_site = EarthLocation(lat=-30.2407216*u.deg,lon=-70.736583*u.deg,height=2700*u.m)"
   ]
  },
  {
   "cell_type": "code",
   "execution_count": null,
   "id": "da8eedbd-c529-4f6d-854b-604f8f652bde",
   "metadata": {},
   "outputs": [],
   "source": [
    "catalog_list = Vizier.find_catalogs('Yale')\n",
    "print({k:v.description for k,v in catalog_list.items()})"
   ]
  },
  {
   "cell_type": "code",
   "execution_count": null,
   "id": "283b5c5f-973b-4e4d-8287-64afce1eace5",
   "metadata": {},
   "outputs": [],
   "source": [
    "Vizier.ROW_LIMIT=-1\n",
    "catalogs = Vizier.get_catalogs('V/50') #this the Yale Bright Star Catalog\n",
    "table = catalogs[0]"
   ]
  },
  {
   "cell_type": "code",
   "execution_count": null,
   "id": "0d73751a-e2c1-4105-aac8-cae8ed57096a",
   "metadata": {},
   "outputs": [],
   "source": [
    "selection_vmag = (table['Vmag'] < 5)\n",
    "print(len(table[selection_vmag]))"
   ]
  },
  {
   "cell_type": "code",
   "execution_count": null,
   "id": "cfea78a4-a894-45cc-83c2-4dfaa7e437d2",
   "metadata": {},
   "outputs": [],
   "source": [
    "ra = table[selection_vmag]['RAJ2000']\n",
    "dec = table[selection_vmag]['DEJ2000']\n",
    "stars_radec = SkyCoord(ra,dec,unit=(u.hourangle,u.deg),frame='fk5') #YBSC is in FK5 ref frame"
   ]
  },
  {
   "cell_type": "code",
   "execution_count": null,
   "id": "4583fa89-598a-4555-967c-f37f4050c474",
   "metadata": {},
   "outputs": [],
   "source": [
    "time = Time('2024-3-8 01:00:00') #in UTC\n",
    "stars_altaz = stars_radec.transform_to(AltAz(obstime=time,location=pachon_site))"
   ]
  },
  {
   "cell_type": "code",
   "execution_count": null,
   "id": "f3e008f8-a11f-417a-96b5-456edfb08ee9",
   "metadata": {},
   "outputs": [],
   "source": [
    "selection_alt = (stars_altaz.alt > 30*u.deg)\n",
    "print(len(stars_altaz.alt[selection_alt]))"
   ]
  },
  {
   "cell_type": "code",
   "execution_count": null,
   "id": "85b14159-0a9a-470c-a769-6e2a046fb222",
   "metadata": {},
   "outputs": [],
   "source": [
    "sep_lo = 3.3\n",
    "sep_hi = 3.7\n",
    "for i,refstar in enumerate(stars_altaz[selection_alt]):\n",
    "    sep = refstar.separation(stars_altaz[selection_alt])\n",
    "    selection_sep = (sep > sep_lo*u.deg ) & (sep < sep_hi*u.deg)\n",
    "    if len(sep[selection_sep]) > 0:\n",
    "        for j in range(len(sep[selection_sep])):\n",
    "            print(refstar.transform_to('icrs').ra.deg,\n",
    "                  refstar.transform_to('icrs').dec.deg,\n",
    "                  stars_altaz[selection_alt][selection_sep][j].transform_to('icrs').ra.deg,\n",
    "                  stars_altaz[selection_alt][selection_sep][j].transform_to('icrs').dec.deg,\n",
    "                  sep[selection_sep][j].deg)\n",
    "        print()"
   ]
  },
  {
   "cell_type": "code",
   "execution_count": null,
   "id": "3e0b7446-9dd3-4862-be5a-2dea2882892f",
   "metadata": {},
   "outputs": [],
   "source": [
    "# check visibility of a star\n",
    "# HD 37128 RA=84.0533889 DE=-01.2019191\n",
    "ra = 84.0533889 \n",
    "dec = -01.2019191\n",
    "time = Time('2024-3-9 02:14:02') #in UTC"
   ]
  },
  {
   "cell_type": "code",
   "execution_count": null,
   "id": "3f148660-d8ce-4922-858c-41886e09856e",
   "metadata": {},
   "outputs": [],
   "source": [
    "stars_radec = SkyCoord(ra,dec,unit=(u.deg,u.deg)) #YBSC is in FK5 ref frame\n",
    "stars_altaz = stars_radec.transform_to(AltAz(obstime=time,location=pachon_site))"
   ]
  },
  {
   "cell_type": "code",
   "execution_count": null,
   "id": "09ba494a-c98e-4441-851a-dcc8ac65a38d",
   "metadata": {},
   "outputs": [],
   "source": [
    "print(stars_altaz)"
   ]
  }
 ],
 "metadata": {
  "kernelspec": {
   "display_name": "LSST",
   "language": "python",
   "name": "lsst"
  },
  "language_info": {
   "codemirror_mode": {
    "name": "ipython",
    "version": 3
   },
   "file_extension": ".py",
   "mimetype": "text/x-python",
   "name": "python",
   "nbconvert_exporter": "python",
   "pygments_lexer": "ipython3",
   "version": "3.11.7"
  }
 },
 "nbformat": 4,
 "nbformat_minor": 5
}
