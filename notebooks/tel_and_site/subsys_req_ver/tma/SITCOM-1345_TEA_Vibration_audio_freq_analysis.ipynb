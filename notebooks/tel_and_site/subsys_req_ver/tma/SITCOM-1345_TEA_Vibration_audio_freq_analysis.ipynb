{
 "cells": [
  {
   "cell_type": "code",
   "execution_count": 1,
   "id": "c3b2b0c6-deb4-438a-b7c2-147ff8f3a1a0",
   "metadata": {
    "execution": {
     "iopub.execute_input": "2024-06-07T02:00:57.983507Z",
     "iopub.status.busy": "2024-06-07T02:00:57.983159Z",
     "iopub.status.idle": "2024-06-07T02:00:58.517306Z",
     "shell.execute_reply": "2024-06-07T02:00:58.516936Z",
     "shell.execute_reply.started": "2024-06-07T02:00:57.983493Z"
    }
   },
   "outputs": [],
   "source": [
    "import pandas as pd\n",
    "from wave import open as open_wave\n",
    "import numpy as np\n",
    "from scipy import fftpack\n",
    "import matplotlib.pyplot as plt\n",
    "from scipy.signal import find_peaks"
   ]
  },
  {
   "cell_type": "markdown",
   "id": "35bfe981-06f6-4e62-9161-32290472d664",
   "metadata": {},
   "source": [
    "## Opening the audio file to construct the signal"
   ]
  },
  {
   "cell_type": "markdown",
   "id": "27f2b548-a29c-4f45-a602-d38e387e26fe",
   "metadata": {},
   "source": [
    "### There are three audio files "
   ]
  },
  {
   "cell_type": "markdown",
   "id": "c1b1dbf2-12c2-43e8-acd0-9b20d36b4be6",
   "metadata": {},
   "source": [
    "##### The names of the audio files is the format 'Audio_<date>_<time>.wav'. The three instance are as follows - \n",
    "##### event 1: 2024-03-09_23.41.07\n",
    "##### event 2: 2024-03-10_11.21.01\n",
    "##### event 3: 2024-03-10_13.13.06\n",
    "\n",
    "##### Each of the above instances are used to create the analysis below. "
   ]
  },
  {
   "cell_type": "code",
   "execution_count": 24,
   "id": "93990ff7-65a4-4a04-877f-bae320455835",
   "metadata": {
    "execution": {
     "iopub.execute_input": "2024-06-07T02:43:29.684165Z",
     "iopub.status.busy": "2024-06-07T02:43:29.683969Z",
     "iopub.status.idle": "2024-06-07T02:43:29.686498Z",
     "shell.execute_reply": "2024-06-07T02:43:29.686125Z",
     "shell.execute_reply.started": "2024-06-07T02:43:29.684153Z"
    }
   },
   "outputs": [],
   "source": [
    "n= str('2024-03-10_13.13.06') # event instances mentioned above number of the audio file.  "
   ]
  },
  {
   "cell_type": "code",
   "execution_count": 25,
   "id": "02a6a4c8-2472-49a1-9141-12fb6698a8d6",
   "metadata": {
    "execution": {
     "iopub.execute_input": "2024-06-07T02:43:38.472406Z",
     "iopub.status.busy": "2024-06-07T02:43:38.471876Z",
     "iopub.status.idle": "2024-06-07T02:43:38.475272Z",
     "shell.execute_reply": "2024-06-07T02:43:38.474925Z",
     "shell.execute_reply.started": "2024-06-07T02:43:38.472391Z"
    }
   },
   "outputs": [],
   "source": [
    "raw = open_wave('Audio_'+n+'.wav','rb')\n",
    "signal= raw.readframes(-1)\n",
    "signal = np.frombuffer(signal, dtype=np.int16)\n",
    "f_rate=raw.getframerate() "
   ]
  },
  {
   "cell_type": "markdown",
   "id": "1b56823d-feee-4cf2-aea8-4cf3a65a9669",
   "metadata": {},
   "source": [
    "### creating a time vector to plot the signal  "
   ]
  },
  {
   "cell_type": "code",
   "execution_count": 26,
   "id": "9f0afbef-528a-4b87-a6d0-14121c0966e5",
   "metadata": {
    "execution": {
     "iopub.execute_input": "2024-06-07T02:43:40.283779Z",
     "iopub.status.busy": "2024-06-07T02:43:40.283486Z",
     "iopub.status.idle": "2024-06-07T02:43:40.287310Z",
     "shell.execute_reply": "2024-06-07T02:43:40.287003Z",
     "shell.execute_reply.started": "2024-06-07T02:43:40.283766Z"
    }
   },
   "outputs": [],
   "source": [
    "time = np.linspace( \n",
    "        0, # start \n",
    "        len(signal) / f_rate, \n",
    "        num = len(signal) \n",
    "    ) "
   ]
  },
  {
   "cell_type": "code",
   "execution_count": null,
   "id": "f9cd571a-1ee0-463f-8a7b-848d12aa972d",
   "metadata": {
    "execution": {
     "iopub.execute_input": "2024-06-07T02:43:43.814481Z",
     "iopub.status.busy": "2024-06-07T02:43:43.814202Z",
     "iopub.status.idle": "2024-06-07T02:43:44.290070Z",
     "shell.execute_reply": "2024-06-07T02:43:44.289695Z",
     "shell.execute_reply.started": "2024-06-07T02:43:43.814469Z"
    }
   },
   "outputs": [],
   "source": [
    "plt.figure(1) \n",
    "plt.title('TEA clip '+ n) \n",
    "plt.xlabel('Time (s)') \n",
    "plt.ylabel('Amplitude')\n",
    "plt.plot(time, signal) \n",
    "plt.savefig('./plots/tea_'+n+'_signal.png')\n",
    "plt.show() "
   ]
  },
  {
   "cell_type": "markdown",
   "id": "cf3b68d3-ca9f-451a-9c15-89b8030d9222",
   "metadata": {},
   "source": [
    "## Finding dominant frequencies using FFT "
   ]
  },
  {
   "cell_type": "markdown",
   "id": "915ac847-4f39-4764-9290-b5d3869aa924",
   "metadata": {},
   "source": [
    "##### we use fourier transform analysis to identify coonstituent frequencies in the above signal. Note that we do not use the 'rfft' or real FFT even if the signal is real. The reason for this is to retain the directionality of frequencies i.e. +ve or forward going frequencies or -ve or reverse frequencies. These can potentially be a way of identifying/separating out the frequency of the vibrations. \n",
    "\n",
    "##### for example: the instrument can have a base continuum sound with a specific frequency(s) that can be identied as positive while an unexpected/resistive vibration could be detected as a -ve frequency. "
   ]
  },
  {
   "cell_type": "code",
   "execution_count": 28,
   "id": "e30b35aa-b3bb-49b0-936d-b487de4e357e",
   "metadata": {
    "execution": {
     "iopub.execute_input": "2024-06-07T02:43:51.649374Z",
     "iopub.status.busy": "2024-06-07T02:43:51.649095Z",
     "iopub.status.idle": "2024-06-07T02:43:51.793393Z",
     "shell.execute_reply": "2024-06-07T02:43:51.792926Z",
     "shell.execute_reply.started": "2024-06-07T02:43:51.649362Z"
    }
   },
   "outputs": [],
   "source": [
    "sig_fft = fftpack.fft(signal)\n",
    "power = np.abs(sig_fft)**2\n",
    "sample_freq = fftpack.fftfreq(len(signal),time)\n"
   ]
  },
  {
   "cell_type": "code",
   "execution_count": null,
   "id": "73531120-234b-4665-a65c-5d9afd1f3354",
   "metadata": {
    "execution": {
     "iopub.execute_input": "2024-06-07T02:43:52.886515Z",
     "iopub.status.busy": "2024-06-07T02:43:52.886248Z",
     "iopub.status.idle": "2024-06-07T02:43:53.222809Z",
     "shell.execute_reply": "2024-06-07T02:43:53.222415Z",
     "shell.execute_reply.started": "2024-06-07T02:43:52.886498Z"
    }
   },
   "outputs": [],
   "source": [
    "plt.figure(figsize=(6, 5))\n",
    "plt.plot(sample_freq, power)\n",
    "plt.xlabel('Frequency [Hz]')\n",
    "plt.ylabel('Power')\n",
    "plt.title('TEA clip '+n)\n",
    "plt.savefig('./plots/tea_'+n+'_fft_freq.png')\n",
    "plt.show()"
   ]
  },
  {
   "cell_type": "markdown",
   "id": "d77c13af-340f-4e48-b011-259c16a1d266",
   "metadata": {},
   "source": [
    "### Conclusion: The identified are too small to be even detectable. Hence this analysis cannot give us a conlusive identification of the frequency of the vibrations. \n",
    "#### This is applicable to all the three audio signals even if two of them were captured during the top-end assembly vibration event.\n"
   ]
  },
  {
   "cell_type": "markdown",
   "id": "f42f327d-d10f-4c71-a147-a1c4ab86ccbc",
   "metadata": {
    "execution": {
     "iopub.execute_input": "2024-05-15T04:18:31.289657Z",
     "iopub.status.busy": "2024-05-15T04:18:31.289318Z",
     "iopub.status.idle": "2024-05-15T04:18:31.302362Z",
     "shell.execute_reply": "2024-05-15T04:18:31.301870Z",
     "shell.execute_reply.started": "2024-05-15T04:18:31.289645Z"
    }
   },
   "source": [
    "### SANITY CHECK OF THE FFT"
   ]
  },
  {
   "cell_type": "markdown",
   "id": "bd66da67-0116-474e-bf82-2e8abcaebd87",
   "metadata": {},
   "source": [
    "##### we pick the frequency with the highest power, use it to construct a signal and substract it from the original signal. If the FFT has been done correctly, the residual should be minimal but with similar shape. This is signal filtering using only dominant /peak frequency.  "
   ]
  },
  {
   "cell_type": "code",
   "execution_count": 30,
   "id": "8e914b9e-7069-4f1d-9877-5ecb8deb795d",
   "metadata": {
    "execution": {
     "iopub.execute_input": "2024-06-07T02:44:00.637091Z",
     "iopub.status.busy": "2024-06-07T02:44:00.636902Z",
     "iopub.status.idle": "2024-06-07T02:44:00.855421Z",
     "shell.execute_reply": "2024-06-07T02:44:00.854925Z",
     "shell.execute_reply.started": "2024-06-07T02:44:00.637079Z"
    }
   },
   "outputs": [],
   "source": [
    "peak_freq = sample_freq[power.argmax()]\n",
    "high_freq_fft = sig_fft.copy()\n",
    "high_freq_fft[np.abs(sample_freq) > peak_freq] = 0\n",
    "filtered_sig = fftpack.ifft(high_freq_fft)"
   ]
  },
  {
   "cell_type": "code",
   "execution_count": null,
   "id": "f1731655-079f-429e-9265-7ffc560204ad",
   "metadata": {
    "execution": {
     "iopub.execute_input": "2024-06-07T02:44:02.236700Z",
     "iopub.status.busy": "2024-06-07T02:44:02.236523Z",
     "iopub.status.idle": "2024-06-07T02:44:06.145981Z",
     "shell.execute_reply": "2024-06-07T02:44:06.145532Z",
     "shell.execute_reply.started": "2024-06-07T02:44:02.236688Z"
    }
   },
   "outputs": [],
   "source": [
    "plt.figure(figsize=(6, 5))\n",
    "plt.plot(time, signal, label='Original signal')\n",
    "plt.plot(time, filtered_sig, linewidth=3, label='Filtered signal')\n",
    "plt.xlabel('Time [s]')\n",
    "plt.ylabel('Amplitude')\n",
    "plt.legend(loc='best')\n",
    "plt.title('TEA clip_'+n+': Peak frequency removed')\n",
    "plt.savefig('./plots/tea_'+n+'_filtered_signal.png')\n",
    "plt.show()"
   ]
  }
 ],
 "metadata": {
  "kernelspec": {
   "display_name": "LSST",
   "language": "python",
   "name": "lsst"
  },
  "language_info": {
   "codemirror_mode": {
    "name": "ipython",
    "version": 3
   },
   "file_extension": ".py",
   "mimetype": "text/x-python",
   "name": "python",
   "nbconvert_exporter": "python",
   "pygments_lexer": "ipython3",
   "version": "3.11.7"
  }
 },
 "nbformat": 4,
 "nbformat_minor": 5
}
