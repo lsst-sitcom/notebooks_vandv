{
 "cells": [
  {
   "cell_type": "code",
   "execution_count": 6,
   "id": "c3b2b0c6-deb4-438a-b7c2-147ff8f3a1a0",
   "metadata": {
    "execution": {
     "iopub.execute_input": "2024-06-18T04:45:12.697666Z",
     "iopub.status.busy": "2024-06-18T04:45:12.697164Z",
     "iopub.status.idle": "2024-06-18T04:45:12.700261Z",
     "shell.execute_reply": "2024-06-18T04:45:12.699817Z",
     "shell.execute_reply.started": "2024-06-18T04:45:12.697651Z"
    }
   },
   "outputs": [],
   "source": [
    "import pandas as pd\n",
    "from wave import open as open_wave\n",
    "import numpy as np\n",
    "\n",
    "from scipy.fft import fft, fftfreq\n",
    "import matplotlib.pyplot as plt\n",
    "from scipy.signal import find_peaks"
   ]
  },
  {
   "cell_type": "markdown",
   "id": "35bfe981-06f6-4e62-9161-32290472d664",
   "metadata": {},
   "source": [
    "## Opening the audio file to construct the signal"
   ]
  },
  {
   "cell_type": "markdown",
   "id": "27f2b548-a29c-4f45-a602-d38e387e26fe",
   "metadata": {},
   "source": [
    "### There are three audio files "
   ]
  },
  {
   "cell_type": "markdown",
   "id": "c1b1dbf2-12c2-43e8-acd0-9b20d36b4be6",
   "metadata": {},
   "source": [
    "##### The names of the audio files is the format 'Audio_<date>_<time>.wav'. The three instance are as follows - \n",
    "##### event 1: 2024-03-09_23.41.07\n",
    "##### event 2: 2024-03-10_11.21.01\n",
    "##### event 3: 2024-03-10_13.13.06\n",
    "\n",
    "##### Each of the above instances are used to create the analysis below. "
   ]
  },
  {
   "cell_type": "code",
   "execution_count": 2,
   "id": "93990ff7-65a4-4a04-877f-bae320455835",
   "metadata": {
    "execution": {
     "iopub.execute_input": "2024-06-18T04:40:18.802266Z",
     "iopub.status.busy": "2024-06-18T04:40:18.801771Z",
     "iopub.status.idle": "2024-06-18T04:40:18.804545Z",
     "shell.execute_reply": "2024-06-18T04:40:18.804114Z",
     "shell.execute_reply.started": "2024-06-18T04:40:18.802250Z"
    }
   },
   "outputs": [],
   "source": [
    "n= str('2024-03-10_13.13.06') # event instances mentioned above number of the audio file.  \n",
    "ch=1"
   ]
  },
  {
   "cell_type": "code",
   "execution_count": 3,
   "id": "02a6a4c8-2472-49a1-9141-12fb6698a8d6",
   "metadata": {
    "execution": {
     "iopub.execute_input": "2024-06-18T04:40:22.460720Z",
     "iopub.status.busy": "2024-06-18T04:40:22.460439Z",
     "iopub.status.idle": "2024-06-18T04:40:22.464753Z",
     "shell.execute_reply": "2024-06-18T04:40:22.464334Z",
     "shell.execute_reply.started": "2024-06-18T04:40:22.460706Z"
    }
   },
   "outputs": [],
   "source": [
    "raw = open_wave(f'Audio_{n}_Ch{ch}.wav','rb')\n",
    "signal= raw.readframes(-1)\n",
    "signal = np.frombuffer(signal, dtype=np.int16)\n",
    "f_rate=raw.getframerate() "
   ]
  },
  {
   "cell_type": "markdown",
   "id": "1b56823d-feee-4cf2-aea8-4cf3a65a9669",
   "metadata": {},
   "source": [
    "### creating a time vector to plot the signal  "
   ]
  },
  {
   "cell_type": "code",
   "execution_count": 7,
   "id": "9f0afbef-528a-4b87-a6d0-14121c0966e5",
   "metadata": {
    "execution": {
     "iopub.execute_input": "2024-06-18T04:45:38.134888Z",
     "iopub.status.busy": "2024-06-18T04:45:38.134351Z",
     "iopub.status.idle": "2024-06-18T04:45:38.175620Z",
     "shell.execute_reply": "2024-06-18T04:45:38.175096Z",
     "shell.execute_reply.started": "2024-06-18T04:45:38.134874Z"
    }
   },
   "outputs": [],
   "source": [
    "time = np.linspace( \n",
    "        0, # start \n",
    "        len(signal) / f_rate, \n",
    "        num = len(signal) \n",
    "    ) "
   ]
  },
  {
   "cell_type": "code",
   "execution_count": null,
   "id": "f9cd571a-1ee0-463f-8a7b-848d12aa972d",
   "metadata": {
    "execution": {
     "iopub.execute_input": "2024-06-07T02:43:43.814481Z",
     "iopub.status.busy": "2024-06-07T02:43:43.814202Z",
     "iopub.status.idle": "2024-06-07T02:43:44.290070Z",
     "shell.execute_reply": "2024-06-07T02:43:44.289695Z",
     "shell.execute_reply.started": "2024-06-07T02:43:43.814469Z"
    }
   },
   "outputs": [],
   "source": [
    "plt.figure(1) \n",
    "plt.title('TEA clip '+ n) \n",
    "plt.xlabel('Time (s)') \n",
    "plt.ylabel('Amplitude')\n",
    "plt.plot(time, signal) \n",
    "plt.savefig('./plots/tea_'+n+'_signal.png')\n",
    "plt.show() "
   ]
  },
  {
   "cell_type": "markdown",
   "id": "cf3b68d3-ca9f-451a-9c15-89b8030d9222",
   "metadata": {},
   "source": [
    "## METHOD 1: Finding dominant frequencies using FFT "
   ]
  },
  {
   "cell_type": "markdown",
   "id": "915ac847-4f39-4764-9290-b5d3869aa924",
   "metadata": {},
   "source": [
    "##### we use fourier transform analysis to identify coonstituent frequencies in the above signal. Note that we do not use the 'rfft' or real FFT even if the signal is real. The reason for this is to retain the directionality of frequencies i.e. +ve or forward going frequencies or -ve or reverse frequencies. These can potentially be a way of identifying/separating out the frequency of the vibrations. \n",
    "\n",
    "##### for example: the instrument can have a base continuum sound with a specific frequency(s) that can be identied as positive while an unexpected/resistive vibration could be detected as a -ve frequency. "
   ]
  },
  {
   "cell_type": "code",
   "execution_count": 8,
   "id": "e30b35aa-b3bb-49b0-936d-b487de4e357e",
   "metadata": {
    "execution": {
     "iopub.execute_input": "2024-06-18T04:56:38.425245Z",
     "iopub.status.busy": "2024-06-18T04:56:38.424841Z",
     "iopub.status.idle": "2024-06-18T04:56:38.619651Z",
     "shell.execute_reply": "2024-06-18T04:56:38.619284Z",
     "shell.execute_reply.started": "2024-06-18T04:56:38.425231Z"
    }
   },
   "outputs": [
    {
     "name": "stderr",
     "output_type": "stream",
     "text": [
      "/opt/lsst/software/stack/conda/miniconda3-py38_4.9.2/envs/lsst-scipipe-8.0.0/lib/python3.11/site-packages/numpy/fft/helper.py:162: RuntimeWarning: divide by zero encountered in divide\n",
      "  val = 1.0 / (n * d)\n",
      "/opt/lsst/software/stack/conda/miniconda3-py38_4.9.2/envs/lsst-scipipe-8.0.0/lib/python3.11/site-packages/numpy/fft/helper.py:169: RuntimeWarning: invalid value encountered in multiply\n",
      "  return results * val\n"
     ]
    }
   ],
   "source": [
    "#sig_fft = fftpack.fft(signal)\n",
    "sig_fft=fft(signal)\n",
    "power = np.abs(sig_fft)**2\n",
    "#sample_freq = fftpack.fftfreq(len(signal),time)\n",
    "sample_freq = fftfreq(len(signal),time)\n"
   ]
  },
  {
   "cell_type": "code",
   "execution_count": 14,
   "id": "73531120-234b-4665-a65c-5d9afd1f3354",
   "metadata": {
    "execution": {
     "iopub.execute_input": "2024-06-18T05:01:50.564482Z",
     "iopub.status.busy": "2024-06-18T05:01:50.564008Z",
     "iopub.status.idle": "2024-06-18T05:01:51.100178Z",
     "shell.execute_reply": "2024-06-18T05:01:51.099786Z",
     "shell.execute_reply.started": "2024-06-18T05:01:50.564467Z"
    }
   },
   "outputs": [
    {
     "data": {
      "image/png": "[encoded data removed]",
      "text/plain": [
       "<Figure size 600x500 with 1 Axes>"
      ]
     },
     "metadata": {},
     "output_type": "display_data"
    }
   ],
   "source": [
    "plt.figure(figsize=(6, 5))\n",
    "plt.plot(sample_freq*f_rate, power)\n",
    "plt.xlabel('Frequency [Hz]')\n",
    "plt.ylabel('Power')\n",
    "plt.title('TEA clip '+n+':Chan '+str(ch))\n",
    "plt.savefig('./plots/tea_'+n+'_fft_freq.png')\n",
    "plt.show()"
   ]
  },
  {
   "cell_type": "markdown",
   "id": "d77c13af-340f-4e48-b011-259c16a1d266",
   "metadata": {},
   "source": [
    "### Conclusion: The identified are too small to be even detectable. Hence this analysis cannot give us a conlusive identification of the frequency of the vibrations. \n",
    "#### This is applicable to all the three audio signals even if two of them were captured during the top-end assembly vibration event.\n"
   ]
  },
  {
   "cell_type": "markdown",
   "id": "58a7f198-cbb1-4016-8688-0874f950d25a",
   "metadata": {},
   "source": [
    "## METHOD 2: Finding dominant frequencies using Power spectral density (PSD) "
   ]
  },
  {
   "cell_type": "code",
   "execution_count": null,
   "id": "1b52b6f5-317e-4c63-9bf8-8fd8264f9fd0",
   "metadata": {},
   "outputs": [],
   "source": []
  },
  {
   "cell_type": "markdown",
   "id": "f42f327d-d10f-4c71-a147-a1c4ab86ccbc",
   "metadata": {
    "execution": {
     "iopub.execute_input": "2024-05-15T04:18:31.289657Z",
     "iopub.status.busy": "2024-05-15T04:18:31.289318Z",
     "iopub.status.idle": "2024-05-15T04:18:31.302362Z",
     "shell.execute_reply": "2024-05-15T04:18:31.301870Z",
     "shell.execute_reply.started": "2024-05-15T04:18:31.289645Z"
    }
   },
   "source": [
    "### SANITY CHECK OF THE FFT"
   ]
  },
  {
   "cell_type": "markdown",
   "id": "bd66da67-0116-474e-bf82-2e8abcaebd87",
   "metadata": {},
   "source": [
    "##### we pick the frequency with the highest power, use it to construct a signal and substract it from the original signal. If the FFT has been done correctly, the residual should be minimal but with similar shape. This is signal filtering using only dominant /peak frequency.  "
   ]
  },
  {
   "cell_type": "code",
   "execution_count": 12,
   "id": "8e914b9e-7069-4f1d-9877-5ecb8deb795d",
   "metadata": {
    "execution": {
     "iopub.execute_input": "2024-06-18T04:58:21.665288Z",
     "iopub.status.busy": "2024-06-18T04:58:21.665032Z",
     "iopub.status.idle": "2024-06-18T04:58:21.848439Z",
     "shell.execute_reply": "2024-06-18T04:58:21.847920Z",
     "shell.execute_reply.started": "2024-06-18T04:58:21.665274Z"
    }
   },
   "outputs": [
    {
     "ename": "NameError",
     "evalue": "name 'ifft' is not defined",
     "output_type": "error",
     "traceback": [
      "\u001b[0;31m---------------------------------------------------------------------------\u001b[0m",
      "\u001b[0;31mNameError\u001b[0m                                 Traceback (most recent call last)",
      "Cell \u001b[0;32mIn[12], line 5\u001b[0m\n\u001b[1;32m      3\u001b[0m high_freq_fft[np\u001b[38;5;241m.\u001b[39mabs(sample_freq) \u001b[38;5;241m>\u001b[39m peak_freq] \u001b[38;5;241m=\u001b[39m \u001b[38;5;241m0\u001b[39m\n\u001b[1;32m      4\u001b[0m \u001b[38;5;66;03m#filtered_sig = fftpack.ifft(high_freq_fft)\u001b[39;00m\n\u001b[0;32m----> 5\u001b[0m filtered_sig \u001b[38;5;241m=\u001b[39m \u001b[43mifft\u001b[49m(high_freq_fft)\n",
      "\u001b[0;31mNameError\u001b[0m: name 'ifft' is not defined"
     ]
    }
   ],
   "source": [
    "#peak_freq = sample_freq[power.argmax()]\n",
    "#high_freq_fft = sig_fft.copy()\n",
    "#high_freq_fft[np.abs(sample_freq) > peak_freq] = 0\n",
    "#filtered_sig = fftpack.ifft(high_freq_fft)\n",
    "#filtered_sig = ifft(high_freq_fft)"
   ]
  },
  {
   "cell_type": "code",
   "execution_count": null,
   "id": "f1731655-079f-429e-9265-7ffc560204ad",
   "metadata": {
    "execution": {
     "iopub.execute_input": "2024-06-07T02:44:02.236700Z",
     "iopub.status.busy": "2024-06-07T02:44:02.236523Z",
     "iopub.status.idle": "2024-06-07T02:44:06.145981Z",
     "shell.execute_reply": "2024-06-07T02:44:06.145532Z",
     "shell.execute_reply.started": "2024-06-07T02:44:02.236688Z"
    }
   },
   "outputs": [],
   "source": [
    "#plt.figure(figsize=(6, 5))\n",
    "#plt.plot(time, signal, label='Original signal')\n",
    "#plt.plot(time, filtered_sig, linewidth=3, label='Filtered signal')\n",
    "#plt.xlabel('Time [s]')\n",
    "#plt.legend(loc='best')\n",
    "#plt.title('TEA clip_'+n+': Peak frequency removed')\n",
    "#plt.savefig('./plots/tea_'+n+'_filtered_signal.png')\n",
    "#plt.show()"
   ]
  }
 ],
 "metadata": {
  "kernelspec": {
   "display_name": "LSST",
   "language": "python",
   "name": "lsst"
  },
  "language_info": {
   "codemirror_mode": {
    "name": "ipython",
    "version": 3
   },
   "file_extension": ".py",
   "mimetype": "text/x-python",
   "name": "python",
   "nbconvert_exporter": "python",
   "pygments_lexer": "ipython3",
   "version": "3.11.7"
  }
 },
 "nbformat": 4,
 "nbformat_minor": 5
}
