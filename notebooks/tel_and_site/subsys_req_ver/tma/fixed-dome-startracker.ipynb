{
 "cells": [
  {
   "cell_type": "markdown",
   "id": "0a3f99fb-8b55-4426-a6f1-5c02cbe4f3ce",
   "metadata": {},
   "source": [
    "# [LVV-TXXXX] - StarTracker Pointing and Tracking Test - Fixed Dome case.\n",
    "\n",
    "Collect data with the StarTracker with the dome fixed and the telescope pointing at the South Celestial Pole.\n",
    "\n",
    "This test is a preliminary check of collecting data before the tests with telescope movement.\n",
    "\n",
    "**Requirements:**\n",
    " - The MTRotator should be in either ENABLED or DISABLED and the MTPtg should be ENABLED.\n",
    " - Need the `notebooks_vandv` module installed.\n",
    "\n",
    "Please, see the [README] file for the requirements to run this notebook.  \n",
    "The log messages printed in this notebook are stored in the EFD Script using the `-TTTTMMDD` format, where `TTTT` are the four last digits of the test case, `MM` is the 0-padded month, and `DD` is the 0-padded day of execution.\n",
    "\n",
    "[README]: https://github.com/lsst-sitcom/notebooks_vandv/blob/develop/README.md\n",
    "[LVV-T2730]: https://jira.lsstcorp.org/secure/Tests.jspa#/testCase/LVV-T2730"
   ]
  },
  {
   "cell_type": "markdown",
   "id": "4dcbd2d1-e698-478d-9c26-fdedc022541f",
   "metadata": {
    "tags": []
   },
   "source": [
    "## Setup"
   ]
  },
  {
   "cell_type": "code",
   "execution_count": null,
   "id": "1acfa6f7-8575-4d9e-8228-f6e03f0308bc",
   "metadata": {},
   "outputs": [],
   "source": [
    "test_case = \"LVV-TXXX\"\n",
    "test_exec = \"LVV-EXXXX\"\n",
    "\n",
    "camera_sal_indexes = [101, 102]\n",
    "exposure_times = [10., 5.]  # s\n",
    "base_msg = f\"{test_case} {test_exec}:\""
   ]
  },
  {
   "cell_type": "markdown",
   "id": "7724453e-0b6d-49e5-9a35-a0a3cef39326",
   "metadata": {
    "tags": []
   },
   "source": [
    "### Prepare Notebook\n",
    "\n",
    "Start with importing libraries:"
   ]
  },
  {
   "cell_type": "code",
   "execution_count": null,
   "id": "8e237202-1e4d-4aa0-8647-6c2942ddc547",
   "metadata": {},
   "outputs": [],
   "source": [
    "%load_ext autoreload\n",
    "%autoreload 2\n",
    "\n",
    "import asyncio\n",
    "import logging\n",
    "import sys\n",
    "import yaml\n",
    "\n",
    "from astropy.time import Time\n",
    "\n",
    "from lsst.ts import salobj\n",
    "from lsst.ts.idl.enums.Script import ScriptState\n",
    "from lsst.ts.observatory.control import RotType\n",
    "from lsst.ts.observatory.control.maintel import MTCS, ComCam\n",
    "from lsst.ts.observatory.control.generic_camera import GenericCamera\n",
    "\n",
    "from lsst.sitcom import vandv"
   ]
  },
  {
   "cell_type": "markdown",
   "id": "16e0c07d-90b0-42ed-8627-37a7f7d00642",
   "metadata": {},
   "source": [
    "---\n",
    "Print out the execution info for future reference."
   ]
  },
  {
   "cell_type": "code",
   "execution_count": null,
   "id": "6a909cb6-5bc8-480a-9766-3a0483d88eeb",
   "metadata": {},
   "outputs": [],
   "source": [
    "exec_info = vandv.ExecutionInfo()\n",
    "print(exec_info)"
   ]
  },
  {
   "cell_type": "markdown",
   "id": "cb5b8029-f1ae-4873-bda9-a34425cc3a2f",
   "metadata": {},
   "source": [
    "---\n",
    "\n",
    "Use LOVE to put MTRotator into either ENABLED or DISABLED and MTPtg to ENABLED.\n",
    "\n",
    "---\n",
    "Setup the logger, the Domain, and the remote for the telescope control."
   ]
  },
  {
   "cell_type": "code",
   "execution_count": null,
   "id": "4d8be9f3-c15a-4f84-82d2-0ac28567c9e4",
   "metadata": {},
   "outputs": [],
   "source": [
    "logging.basicConfig(format=\"%(asctime)s %(name)s: %(message)s\", level=logging.DEBUG)\n",
    "log = logging.getLogger(\"setup\")\n",
    "log.level = logging.INFO"
   ]
  },
  {
   "cell_type": "code",
   "execution_count": null,
   "id": "16984334-3408-4840-b3a7-b349d8aaf8b3",
   "metadata": {},
   "outputs": [],
   "source": [
    "os.environ[\"LSST_DDS_HISTORYSYNC\"] = \"200\"\n",
    "domain = salobj.Domain()\n",
    "print(f\"My user_host is {domain.user_host!r}\\n\")"
   ]
  },
  {
   "cell_type": "markdown",
   "id": "9c819a6d-e478-4b79-98fe-43b8a19163d2",
   "metadata": {},
   "source": [
    "Initialize the GenericCamera."
   ]
  },
  {
   "cell_type": "code",
   "execution_count": null,
   "id": "f72d8e4d-09d0-4042-b545-7cd6e7a50335",
   "metadata": {},
   "outputs": [],
   "source": [
    "camera_list = []\n",
    "\n",
    "for index in camera_sal_indexes:\n",
    "\n",
    "    gencam = GenericCamera(domain=domain, index=index, log=log)\n",
    "    await gencam.start_task\n",
    "\n",
    "    camera_list.append(gencam)\n"
   ]
  },
  {
   "cell_type": "code",
   "execution_count": null,
   "id": "2a4148d7",
   "metadata": {},
   "outputs": [],
   "source": [
    "await asyncio.gather(*[camera.start_task for camera in camera_list])"
   ]
  },
  {
   "cell_type": "markdown",
   "id": "70586862-68c5-40b5-8d4e-c1cf28bab51d",
   "metadata": {},
   "source": [
    "Run the cell below to hide all the messages related to the DDS and have a cleaner notebook."
   ]
  },
  {
   "cell_type": "code",
   "execution_count": null,
   "id": "5957d088-f2ce-4118-aea5-debc106e0633",
   "metadata": {},
   "outputs": [],
   "source": [
    "vandv.logger.add_filter_to_mtcs()"
   ]
  },
  {
   "cell_type": "markdown",
   "id": "60009800-8892-4d76-9585-8dc12f9e0c59",
   "metadata": {},
   "source": [
    "---\n",
    "The `Script` CSC is used to record test checkpoints and allow to easy search in the EFD."
   ]
  },
  {
   "cell_type": "markdown",
   "id": "7b5772b8-156a-4d17-8e05-4f2d3f467d86",
   "metadata": {
    "tags": []
   },
   "source": [
    "### Check CSC Status"
   ]
  },
  {
   "cell_type": "code",
   "execution_count": null,
   "id": "f5d0cb14-e352-4167-8c85-9ae6b36796b0",
   "metadata": {},
   "outputs": [],
   "source": [
    "for cam in camera_list:\n",
    "    await cam.assert_liveliness()\n",
    "    await cam.assert_all_enabled()"
   ]
  },
  {
   "cell_type": "markdown",
   "id": "3b1f19b4-f2f0-47c9-8e97-63d2efe93821",
   "metadata": {},
   "source": [
    "## Helper Functions"
   ]
  },
  {
   "cell_type": "code",
   "execution_count": null,
   "id": "26b16763-fb53-4103-9bf1-e197e6478bf5",
   "metadata": {},
   "outputs": [],
   "source": [
    "async def take_images(cams, exp_times, n_exps, reason):\n",
    "    \"\"\"Takes images with multiple cameras at the same time.\n",
    "    \n",
    "    cams : `list`\n",
    "        Contains camera instances.\n",
    "    exp_times : `list` [`float`]\n",
    "        The exposure time for each camera. \n",
    "    n_exps : `list` [`float`]\n",
    "        The numer of exposures for each camera.\n",
    "    reason : `str`\n",
    "        Reason passed to the `take_object` command.\n",
    "    \"\"\" \n",
    "    reason = reason.replace(\" \", \"_\")\n",
    "    \n",
    "    tasks = [asyncio.create_task(cam.take_object(exptime, n=n_exp, reason=reason))\n",
    "             for (cam, exptime, n_exp) in zip(cams, exp_times, n_exps)]\n",
    "    \n",
    "    await asyncio.gather(*tasks)"
   ]
  },
  {
   "cell_type": "markdown",
   "id": "cda271b5-ac7d-40d5-8925-dc7f60cefa2a",
   "metadata": {},
   "source": [
    "## Data Acquisition"
   ]
  },
  {
   "cell_type": "code",
   "execution_count": null,
   "id": "893f09b7-7a29-488c-87d0-9d72a6118f33",
   "metadata": {},
   "outputs": [],
   "source": [
    "num_exposures = [5, 5]\n",
    "exposure_times = [0.5, 0.5]\n",
    "reason = \"Test exposures with fixed TMA\"\n",
    "\n",
    "\n",
    "#script.log.info(f\"{base_msg} TEST of notebook for fixed TMA position with startrackers - Start\")\n",
    "\n",
    "# Take images\n",
    "#script.log.info(f\"{base_msg} Take {num_exposures} image(s) with both star trackers - Start\")\n",
    "await take_images(camera_list, exposure_times, num_exposures, reason)\n",
    "#script.log.info(f\"{base_msg} Take {num_exposures} image(s) with both star trackers - Done\")\n",
    "\n",
    "\n",
    "#script.log.info(f\"{base_msg} TEST of notebook for fixed TMA position with startrackers - Stop\")"
   ]
  },
  {
   "cell_type": "code",
   "execution_count": null,
   "id": "260fc0d0-0a5d-41ac-8263-fb59983244c6",
   "metadata": {},
   "outputs": [],
   "source": []
  }
 ],
 "metadata": {
  "kernelspec": {
   "display_name": "LSST",
   "language": "python",
   "name": "lsst"
  },
  "language_info": {
   "codemirror_mode": {
    "name": "ipython",
    "version": 3
   },
   "file_extension": ".py",
   "mimetype": "text/x-python",
   "name": "python",
   "nbconvert_exporter": "python",
   "pygments_lexer": "ipython3",
   "version": "3.10.5"
  }
 },
 "nbformat": 4,
 "nbformat_minor": 5
}
