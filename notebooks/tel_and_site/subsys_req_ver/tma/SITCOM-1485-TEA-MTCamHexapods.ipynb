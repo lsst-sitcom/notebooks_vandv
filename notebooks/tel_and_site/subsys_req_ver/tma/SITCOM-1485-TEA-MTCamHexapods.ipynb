{
 "cells": [
  {
   "cell_type": "markdown",
   "id": "efeaa660-6df0-4ea3-8253-cf56e12467a7",
   "metadata": {},
   "source": [
    "# Top End Assembly Vibration Study-- MTCamHexapod Telemetries\n",
    "\n",
    "##### As described in OBS-467, we have been noticing strong vibrations on the Top End Assembly (TEA) of the Simonyi Survey Telescope (SST). The first time we saw these vibrations was on March 9th (Saturday) and on March 10th (Sunday).\n",
    "\n",
    "##### Accordingly to SITCOM-1285, on March 15th (Friday), we ran soak tests using the Rotator at different configurations. We want to investigate any possible vibrations during that period to confirm the hypothesis that the Rotator could be causing this vibration.\n",
    "\n",
    "#### Analysis details \n",
    "\n",
    "##### The idea is to explore possible sources and /or components affected by the vibrations. This analysis focusses on MTCam hexapods and vibrations it may/may not have experienced during the above event. \n",
    "\n",
    "##### Note: The natural frequency of both Camera and M2 hexapods is around 12 Hz. \n",
    "##### Douglas R Neill 2024 04 18\n",
    "##### Regarding Bruno SITCOM-1285.\n",
    "##### It is unlikely that the large accelerations of 1.2 m/s2 could be produced by anything other than the TMA drives. This contradicts the statements that the TMA was locked out at this time. The TEA has very low damping and a vibration amplification of 20 would not be unexpected. If the excitation is near a natural frequency, this could be produced by an excitation of only .06 m/s2 somewhere else. The natural frequencies of the camera and M2 on their hexapods are both around 12 Hz. This large acceleration is reported to be on the M2 surrogate, but I was later informed in a meeting that it is unclear where these accelerometers actually are.\n",
    "##### The rotator is shown to have oscillation of order +/- .2 e-3 deg. The CG of ComCam is supposed to be off from the rotational axis of order 10mm. This rotation is consistent with the effects of transverse vibration being applied to the camera thru the TEA.  A transverse vibration would result in a small rotation. This effect can also be produced by a torque in the system produced by a wire, interference etc. I will just call it an out of balance.\n",
    "##### Page 12. Both the SST M2 surrogate and the top end ring accelerometers show large accelerations. Knowing the frequency of these vibrations would be useful. The natural frequency of the hexapods are both around 12 Hz. This amplifies vibrations near this frequency, and attenuate them for frequencies greater than ~18 hz. If the excitation came from the camera or rotator and is around 12 Hz, it would excite the M2. If it is greater than 18 Hz it would be almost impossible for the camera or rotator to be producing this vibration. The strange rotations of the rotor are difficult to unexplained unless they are the result of a transverse impulse as described above.\n",
    "##### If the excitation is from an external source, we would still expect to see some variations if the rotation is on or off. The rotator control system would attempt to counteract the vibration. The figures on Pages 18 and 19 show negligible change in the spider, M2 and top end vibrations with the rotator on or off.\n",
    "##### Page 19 show M2 accelerations at frequencies of ~50 Hz. A frequency this high cannot come from the camera or rotator. It would be attenuated by their natural frequencies. The small vibration at ~12 hz is consistent with the M2 natural frequency. The ~50Hz may just be an error produced by 50 Hz power. Later it is theorized this is a data sampling error.\n",
    "##### Bruno message at 3:50. Important clarification.  The maximum TMA acceleration is ~0.06G or 0.6 m/s2. The message says 0.6G. Easy to get this confused.\n",
    "##### Bruno message 4:01 The figure shows spikes in the M2 IMS in the y direction corresponding with rotation in the rotator. This is consistent with an excitation of the top end in the y direction (rotation in the elevation axis) and a camera CG off set in the X direction. This would be true if the excitation was from an internal source, TMA drives or an internal source to the top end. However, there is nothing in the top end that can make this order of vibrations and the TMA drive system was off.\n",
    "##### Bruno message 4:49. The motions of the M2 IMS are consistent with rotations in elevation. As the gravity vector changes the displacement changes between Y and Z. the X displacement is almost zero. The rotator angle is consistent with the elevation torque if there is an out of balance in the X. If we rotated the camera 90 degrees, we would expect this behavior to change substantially.\n",
    "##### Bruno message 4:49 second plot. I am suspecting that we are seeing two manifestations of the same issue. Perhaps there is a larger out of balance in ComCam than is expected. This would produce rotations from Y vibration accelerations. The rotator might also have trouble holding its position.\n",
    "##### After reviewing this message stream, I find it unlikely that the vibrations are produced by either the rotator or ComCam. They appear to be the recipients of the vibration and not the cause. I cannot see anything that could cause these levels of accelerations other than the TMA drives which are reported to be off.\n",
    "##### It appears that all the tests were with the rotator at zero. I suspect that there is a large out of balance in ComCam which is causing a correlation between y displacement and rotation. This can be demonstrated by rotating near +/-90 degrees. The behavior should change significantly. If the out of balance is initially along the X direction it will now be along the Y direction. We would then see a correlation between X motion and rotation. The X motion is not produced by the elevation motion. It is only produced by Azimuth rotations away from zenith pointing.\n"
   ]
  },
  {
   "cell_type": "markdown",
   "id": "38fe289f-8fde-4698-b5a6-de02da661082",
   "metadata": {},
   "source": [
    "### Import modules"
   ]
  },
  {
   "cell_type": "code",
   "execution_count": 1,
   "id": "a02601b2-812c-44b8-838d-ccd06be01f05",
   "metadata": {
    "execution": {
     "iopub.execute_input": "2024-08-28T03:19:55.585892Z",
     "iopub.status.busy": "2024-08-28T03:19:55.585509Z",
     "iopub.status.idle": "2024-08-28T03:19:56.395061Z",
     "shell.execute_reply": "2024-08-28T03:19:56.394613Z",
     "shell.execute_reply.started": "2024-08-28T03:19:55.585875Z"
    }
   },
   "outputs": [],
   "source": [
    "%matplotlib inline\n",
    "%matplotlib widget\n",
    "from datetime import datetime\n",
    "import time\n",
    "from astropy.time import Time\n",
    "import pandas as pd\n",
    "from pandas.core.frame import DataFrame\n",
    "import numpy as np\n",
    "import matplotlib.pyplot as plt\n",
    "from scipy.fft import fft, fftfreq\n",
    "from scipy.signal import detrend\n",
    "\n",
    "from lsst_efd_client import EfdClient\n"
   ]
  },
  {
   "cell_type": "markdown",
   "id": "db303a31-b8e7-43e2-b707-4ee5de52fa83",
   "metadata": {
    "execution": {
     "iopub.execute_input": "2024-08-19T20:55:20.049070Z",
     "iopub.status.busy": "2024-08-19T20:55:20.048781Z",
     "iopub.status.idle": "2024-08-19T20:55:33.181070Z",
     "shell.execute_reply": "2024-08-19T20:55:33.180592Z",
     "shell.execute_reply.started": "2024-08-19T20:55:20.049053Z"
    }
   },
   "source": [
    "### Declaration of User-defined Functions"
   ]
  },
  {
   "cell_type": "code",
   "execution_count": 2,
   "id": "768621db-2fd3-4783-ba27-d01e30685099",
   "metadata": {
    "execution": {
     "iopub.execute_input": "2024-08-28T03:22:24.075129Z",
     "iopub.status.busy": "2024-08-28T03:22:24.074794Z",
     "iopub.status.idle": "2024-08-28T03:22:24.078062Z",
     "shell.execute_reply": "2024-08-28T03:22:24.077701Z",
     "shell.execute_reply.started": "2024-08-28T03:22:24.075114Z"
    }
   },
   "outputs": [],
   "source": [
    "async def get_efd_data(\n",
    "    efd_client: EfdClient,\n",
    "    time_start: Time,\n",
    "    time_end: Time,\n",
    ") -> DataFrame:\n",
    "    \"\"\"Get the EFD data.\n",
    "\n",
    "    Parameters\n",
    "    ----------\n",
    "    efd_client : `lsst_efd_client.EfdClient`\n",
    "        EFD client.\n",
    "    time_start : `astropy.time.Time`\n",
    "        Start time.\n",
    "    time_end : `astropy.time.Time`\n",
    "        End time.\n",
    "\n",
    "    Returns\n",
    "    -------\n",
    "    `pandas.core.frame.DataFrame`\n",
    "        Queried data.\n",
    "    \"\"\"\n",
    "    data = await efd_client.select_time_series(\n",
    "    \"lsst.sal.MTHexapod.application\", \n",
    "    fields=[\"demand\", \"position\", \"timestamp\"], \n",
    "    start=time_start, \n",
    "    end=time_end)\n",
    "\n",
    "    return data"
   ]
  },
  {
   "cell_type": "code",
   "execution_count": 3,
   "id": "ea9a3269-65db-4c64-9d35-9ae89b412714",
   "metadata": {
    "execution": {
     "iopub.execute_input": "2024-08-28T03:25:56.835501Z",
     "iopub.status.busy": "2024-08-28T03:25:56.835162Z",
     "iopub.status.idle": "2024-08-28T03:25:57.062129Z",
     "shell.execute_reply": "2024-08-28T03:25:57.061521Z",
     "shell.execute_reply.started": "2024-08-28T03:25:56.835481Z"
    }
   },
   "outputs": [
    {
     "ename": "NameError",
     "evalue": "name 'data' is not defined",
     "output_type": "error",
     "traceback": [
      "\u001b[0;31m---------------------------------------------------------------------------\u001b[0m",
      "\u001b[0;31mNameError\u001b[0m                                 Traceback (most recent call last)",
      "Cell \u001b[0;32mIn[3], line 1\u001b[0m\n\u001b[0;32m----> 1\u001b[0m \u001b[43mdata\u001b[49m\u001b[38;5;241m.\u001b[39mposition\n",
      "\u001b[0;31mNameError\u001b[0m: name 'data' is not defined"
     ]
    }
   ],
   "source": [
    "data.position"
   ]
  },
  {
   "cell_type": "code",
   "execution_count": 5,
   "id": "23726ce8-c23c-45b2-865f-50fbcc565268",
   "metadata": {
    "execution": {
     "iopub.execute_input": "2024-08-28T03:28:18.255523Z",
     "iopub.status.busy": "2024-08-28T03:28:18.255311Z",
     "iopub.status.idle": "2024-08-28T03:28:18.260930Z",
     "shell.execute_reply": "2024-08-28T03:28:18.260434Z",
     "shell.execute_reply.started": "2024-08-28T03:28:18.255508Z"
    }
   },
   "outputs": [
    {
     "ename": "SyntaxError",
     "evalue": "non-default argument follows default argument (3694617241.py, line 6)",
     "output_type": "error",
     "traceback": [
      "\u001b[0;36m  Cell \u001b[0;32mIn[5], line 6\u001b[0;36m\u001b[0m\n\u001b[0;31m    n: int\u001b[0m\n\u001b[0m    ^\u001b[0m\n\u001b[0;31mSyntaxError\u001b[0m\u001b[0;31m:\u001b[0m non-default argument follows default argument\n"
     ]
    }
   ],
   "source": [
    "def plot_position_and_frequency(\n",
    "    data: DataFrame,\n",
    "    freq_range: tuple[float] | None = None,\n",
    "    snr: int | None = None,\n",
    "    threshold: float = 1e-3, \n",
    "    n: int \n",
    ") -> None:\n",
    "    \"\"\"Plot the position and frequency data.\n",
    "\n",
    "    Parameters\n",
    "    ----------\n",
    "    data : `pandas.core.frame.DataFrame`\n",
    "        EFD data.\n",
    "    freq_range : `tuple` [`float`], optional\n",
    "        Frequency range (low, high) to monitor in Hz. If None, do not\n",
    "        check. (the default is None)\n",
    "    snr : `int`, optional\n",
    "        Signal-to-noise ratio when checking the frequency range.\n",
    "    threshold : `float`, optional\n",
    "        Threshold to check the detrend data is good or not.\n",
    "    n : in order (X, Y, Z, U, V, W)\n",
    "    \"\"\"\n",
    "    n\n",
    "    actual_position = np.array(data.position[n])\n",
    "    demand_position = np.array(data.demandPosition[n])\n",
    "    displacement_error = actual_position - demand_position\n",
    "\n",
    "    timestamps = np.array(data.timestamp)\n",
    "    timestamps = timestamps - timestamps[0]\n",
    "\n",
    "    detrend_displacement_error = detrend(displacement_error, type=\"linear\");\n",
    "\n",
    "    is_detrend_data_ok = np.all(np.abs(detrend_displacement_error) <= threshold)\n",
    "    print(f\"{is_detrend_data_ok=}\")\n",
    "\n",
    "    data_fft_position, frequency_fft_position = calculate_fft(\n",
    "        detrend_displacement_error,\n",
    "        timestamps[1] - timestamps[0],\n",
    "    )\n",
    "\n",
    "    fig, ax = plt.subplots(1, 3, figsize=(12, 4))\n",
    "    ax[0].plot(timestamps, actual_position, \"b\")\n",
    "    ax[0].plot(timestamps, demand_position, \"r--\")\n",
    "    ax[0].set_xlabel(\"Time (s)\")\n",
    "    ax[0].set_ylabel(\"Position (um)\")\n",
    "    ax[0].legend([\"Actual\", \"Demand\"])\n",
    "    \n",
    "    ax[1].plot(timestamps, displacement_error, \"b\")\n",
    "    ax[1].plot(timestamps, detrend_displacement_error, \"r-\")\n",
    "    ax[1].set_xlabel(\"Time (s)\")\n",
    "    ax[1].set_ylabel(\"Displacement (um)\")\n",
    "    ax[1].legend([\"Displacement Error\", \"Detrend Displacement Error\"])\n",
    "\n",
    "    ax[2].plot(frequency_fft_position, data_fft_position[0:len(actual_position)//2])\n",
    "    ax[2].set_xlabel(\"Frequency (Hz)\")\n",
    "\n",
    "    plt.show()\n",
    "\n",
    "    if (freq_range is not None) and (snr is not None):\n",
    "        freq = check_low_freq(\n",
    "            detrend_displacement_error,\n",
    "            timestamps[1] - timestamps[0],\n",
    "            freq_range[0],\n",
    "            freq_range[1],\n",
    "            snr,\n",
    "        )\n",
    "\n",
    "        if (freq == 0.0) or (not is_detrend_data_ok):\n",
    "            print(\"No frequency peak found in the range.\")\n",
    "        else:\n",
    "            print(f\"The maximum frequency peak found is {freq:.2f} Hz\")"
   ]
  },
  {
   "cell_type": "code",
   "execution_count": null,
   "id": "bddef91b-c16e-4d3d-9aeb-c173dfa965ec",
   "metadata": {},
   "outputs": [],
   "source": []
  }
 ],
 "metadata": {
  "kernelspec": {
   "display_name": "LSST",
   "language": "python",
   "name": "lsst"
  },
  "language_info": {
   "codemirror_mode": {
    "name": "ipython",
    "version": 3
   },
   "file_extension": ".py",
   "mimetype": "text/x-python",
   "name": "python",
   "nbconvert_exporter": "python",
   "pygments_lexer": "ipython3",
   "version": "3.11.9"
  }
 },
 "nbformat": 4,
 "nbformat_minor": 5
}
