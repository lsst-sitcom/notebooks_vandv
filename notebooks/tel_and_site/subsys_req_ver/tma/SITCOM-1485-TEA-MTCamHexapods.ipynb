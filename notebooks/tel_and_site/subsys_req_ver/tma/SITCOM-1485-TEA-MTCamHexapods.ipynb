{
 "cells": [
  {
   "cell_type": "markdown",
   "id": "efeaa660-6df0-4ea3-8253-cf56e12467a7",
   "metadata": {},
   "source": [
    "# Top End Assembly Vibration Study-- MTCamHexapod Telemetries\n",
    "\n",
    "##### As described in OBS-467, we have been noticing strong vibrations on the Top End Assembly (TEA) of the Simonyi Survey Telescope (SST). The first time we saw these vibrations was on March 9th (Saturday) and on March 10th (Sunday).\n",
    "\n",
    "##### Accordingly to SITCOM-1285, on March 15th (Friday), we ran soak tests using the Rotator at different configurations. We want to investigate any possible vibrations during that period to confirm the hypothesis that the Rotator could be causing this vibration.\n",
    "\n"
   ]
  },
  {
   "cell_type": "code",
   "execution_count": 1,
   "id": "a02601b2-812c-44b8-838d-ccd06be01f05",
   "metadata": {
    "execution": {
     "iopub.execute_input": "2024-08-19T20:51:23.794555Z",
     "iopub.status.busy": "2024-08-19T20:51:23.794207Z",
     "iopub.status.idle": "2024-08-19T20:51:23.883095Z",
     "shell.execute_reply": "2024-08-19T20:51:23.882656Z",
     "shell.execute_reply.started": "2024-08-19T20:51:23.794537Z"
    }
   },
   "outputs": [],
   "source": [
    "%load_ext lab_black\n",
    "%load_ext autoreload\n",
    "%autoreload 2"
   ]
  },
  {
   "cell_type": "code",
   "execution_count": 2,
   "id": "5b002f04-a7bd-47a6-9267-e5e0a58657a4",
   "metadata": {
    "execution": {
     "iopub.execute_input": "2024-08-19T20:55:20.049070Z",
     "iopub.status.busy": "2024-08-19T20:55:20.048781Z",
     "iopub.status.idle": "2024-08-19T20:55:33.181070Z",
     "shell.execute_reply": "2024-08-19T20:55:33.180592Z",
     "shell.execute_reply.started": "2024-08-19T20:55:20.049053Z"
    }
   },
   "outputs": [],
   "source": [
    "import asyncio\n",
    "import matplotlib.pyplot as plt\n",
    "import numpy as np\n",
    "import os\n",
    "import pandas as pd\n",
    "import sys\n",
    "import time\n",
    "import warnings\n",
    "\n",
    "from argparse import Namespace\n",
    "from astropy.time import Time, TimeDelta\n",
    "from scipy.fft import fft, fftfreq\n",
    "from scipy.signal import detrend, get_window, welch\n",
    "from lsst.summit.utils.blockUtils import BlockParser\n",
    "from lsst.summit.utils.efdUtils import makeEfdClient, getEfdData\n",
    "from lsst_efd_client.efd_helper import merge_packed_time_series\n",
    "\n",
    "\n",
    "# Ignore the many warning messages from ``merge_packed_time_series``\n",
    "warnings.simplefilter(action=\"ignore\", category=FutureWarning)\n",
    "\n",
    "# Create an EFD client\n",
    "client = makeEfdClient()\n",
    "\n",
    "# Global variables definition\n",
    "sensorNames = [\n",
    "    \"SST top end ring +x -y\",\n",
    "    \"SST top end ring -x -y\",\n",
    "    \"SST spider spindle\",\n",
    "    \"SST M2 surrogate\",\n",
    "]\n",
    "sensorNamesShort = [\"ter_pxmy\", \"ter_mxmy\", \"spider\", \"m2surr\"]\n",
    "\n",
    "# Create a folder for plots\n",
    "os.makedirs(\"./plots\", exist_ok=True)"
   ]
  },
  {
   "cell_type": "code",
   "execution_count": null,
   "id": "768621db-2fd3-4783-ba27-d01e30685099",
   "metadata": {},
   "outputs": [],
   "source": []
  }
 ],
 "metadata": {
  "kernelspec": {
   "display_name": "LSST",
   "language": "python",
   "name": "lsst"
  },
  "language_info": {
   "codemirror_mode": {
    "name": "ipython",
    "version": 3
   },
   "file_extension": ".py",
   "mimetype": "text/x-python",
   "name": "python",
   "nbconvert_exporter": "python",
   "pygments_lexer": "ipython3",
   "version": "3.11.7"
  }
 },
 "nbformat": 4,
 "nbformat_minor": 5
}
