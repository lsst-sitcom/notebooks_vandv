{
 "cells": [
  {
   "cell_type": "markdown",
   "metadata": {},
   "source": [
    "# TMA Analysis code supporting technote SITCOMTN-112\n",
    "Craig Lage - 19-Feb-24\n",
    "\n",
    "This notebook attempts to answer the following questions associated with the TMA: \n",
    "\n",
    "(1) What is the tracking error at the InPosition timestamp?\\\n",
    "(2) How long does the TMA take to settle after the InPosition timestamp?\\\n",
    "(3) What is the RMS tracking jitter for a 15 second period after the InPosition timestamp?\\\n",
    "(4) What is the time from the beginning of a slew until the TMA is InPosition and settled?\n",
    "\n"
   ]
  },
  {
   "cell_type": "markdown",
   "metadata": {
    "execution": {
     "iopub.execute_input": "2024-02-19T18:42:42.357601Z",
     "iopub.status.busy": "2024-02-19T18:42:42.357389Z",
     "iopub.status.idle": "2024-02-19T18:42:42.359965Z",
     "shell.execute_reply": "2024-02-19T18:42:42.359603Z",
     "shell.execute_reply.started": "2024-02-19T18:42:42.357587Z"
    }
   },
   "source": [
    "# Note that this must use the summit_utils tickets/DM-42039 branch until this branch is merged."
   ]
  },
  {
   "cell_type": "markdown",
   "metadata": {},
   "source": [
    "# Prepare the notebook"
   ]
  },
  {
   "cell_type": "code",
   "execution_count": 1,
   "metadata": {
    "execution": {
     "iopub.execute_input": "2024-02-21T13:51:14.584684Z",
     "iopub.status.busy": "2024-02-21T13:51:14.584310Z",
     "iopub.status.idle": "2024-02-21T13:51:14.587260Z",
     "shell.execute_reply": "2024-02-21T13:51:14.586885Z",
     "shell.execute_reply.started": "2024-02-21T13:51:14.584668Z"
    },
    "tags": []
   },
   "outputs": [],
   "source": [
    "# Directory to store the data\n",
    "from pathlib import Path\n",
    "dataDir = Path(\"./plots\")\n",
    "dataDir.mkdir(exist_ok=True, parents=True)\n",
    "\n",
    "# You can include a list of different days and blocks,\n",
    "# including more than one block on the same day, if desired\n",
    "# You can also create a loop to build this list.\n",
    "#dayBlockPairs = [[20231214, 146], [20231215, 146]]\n",
    "#dayBlockPairs = [[20231220, 146], [20231221, 146]]\n",
    "#dayBlockPairs = [[20240212, 190], [20240212, 225]]\n",
    "dayBlockPairs = [[20240208, 227]]\n"
   ]
  },
  {
   "cell_type": "code",
   "execution_count": 2,
   "metadata": {
    "execution": {
     "iopub.execute_input": "2024-02-21T13:51:16.534519Z",
     "iopub.status.busy": "2024-02-21T13:51:16.533889Z",
     "iopub.status.idle": "2024-02-21T13:51:23.634552Z",
     "shell.execute_reply": "2024-02-21T13:51:23.634081Z",
     "shell.execute_reply.started": "2024-02-21T13:51:16.534492Z"
    },
    "tags": []
   },
   "outputs": [],
   "source": [
    "import sys, time, os, asyncio, glob\n",
    "from datetime import datetime\n",
    "import numpy as np\n",
    "import matplotlib.pyplot as plt\n",
    "from matplotlib.ticker import FuncFormatter\n",
    "import matplotlib.dates as mdates\n",
    "from matplotlib.backends.backend_pdf import PdfPages\n",
    "import pickle as pkl\n",
    "from astropy.time import Time, TimeDelta\n",
    "from scipy.interpolate import UnivariateSpline\n",
    "from scipy.optimize import minimize\n",
    "from lsst_efd_client import EfdClient\n",
    "from lsst.summit.utils import getCurrentDayObs_int, dayObsIntToString\n",
    "from lsst.summit.utils.tmaUtils import TMAEventMaker, plotEvent, getAzimuthElevationDataForEvent\n",
    "from lsst.summit.utils.blockUtils import BlockParser\n",
    "from lsst.summit.utils.efdUtils import getEfdData"
   ]
  },
  {
   "cell_type": "code",
   "execution_count": 3,
   "metadata": {
    "execution": {
     "iopub.execute_input": "2024-02-21T13:51:23.642646Z",
     "iopub.status.busy": "2024-02-21T13:51:23.642427Z",
     "iopub.status.idle": "2024-02-21T13:51:24.460719Z",
     "shell.execute_reply": "2024-02-21T13:51:24.460241Z",
     "shell.execute_reply.started": "2024-02-21T13:51:23.642633Z"
    },
    "scrolled": true
   },
   "outputs": [],
   "source": [
    "client = EfdClient(\"usdf_efd\")\n",
    "eventMaker = TMAEventMaker()"
   ]
  },
  {
   "cell_type": "code",
   "execution_count": null,
   "metadata": {},
   "outputs": [],
   "source": [
    "def getPreviousSlew(events, seqNum):\n",
    "    # Find the previous slew associated with an event\n",
    "    for event in events:\n",
    "        if event.seqNum == seqNum - 1:\n",
    "            return event\n",
    "\n",
    "def filterBadValues(values, maxDelta=0.05):\n",
    "    # Find non-physical points and replace with extrapolation \n",
    "    # This is in summit_utils, but is reproduced here to allow changes\n",
    "    badCounter = 0\n",
    "    consecutiveCounter = 0\n",
    "    lastIndexReplaced = 0\n",
    "    for i in range(2, len(values)):\n",
    "        if consecutiveCounter > 3:\n",
    "            #print(\"Hitting consecutive counter limit\")\n",
    "            consecutiveCounter = 0\n",
    "            continue\n",
    "        if abs(values[i] - values[i-1]) > maxDelta:\n",
    "            #print(f\"Index {i} is bad!\")\n",
    "            # This is a bogus value - replace it with an extrapolation                                                            \n",
    "            # Of the preceding two values\n",
    "            if i == lastIndexReplaced + 1:\n",
    "                consecutiveCounter += 1\n",
    "            else:\n",
    "                consecutiveCounter = 0\n",
    "            values[i] = (2.0 * values[i-1] - values[i-2])\n",
    "            badCounter += 1\n",
    "            lastIndexReplaced = i\n",
    "    return badCounter\n",
    "\n",
    "def jitterNextFifteen(track, azimuthData, elevationData, thisEl, delay):\n",
    "    start = track.begin + TimeDelta(delay, format='sec')\n",
    "    end = start + TimeDelta(15.0, format='sec')\n",
    "    thisAzData = azimuthData.loc[start.isot:end.isot]\n",
    "    thisAzError = thisAzData['azError']\n",
    "    thisElData = elevationData.loc[start.isot:end.isot]\n",
    "    thisElError = thisElData['elError']\n",
    "    thisAzRms = np.sqrt(np.mean(thisAzError**2))\n",
    "    thisElRms = np.sqrt(np.mean(thisElError**2))\n",
    "    rmsError = np.sqrt(thisElRms**2 \n",
    "                   + (thisAzRms * np.cos(thisEl * np.pi / 180.0))**2)\n",
    "    return rmsError\n",
    "\n",
    "def binary_search(track, azimuthData, elevationData, thisEl, \n",
    "                  delay_start, delay_end, precision=0.1):\n",
    "\n",
    "        \n",
    "    if jitterNextFifteen(track, azimuthData, elevationData, \n",
    "                         thisEl, delay_start) < 0.01:\n",
    "        return(delay_start)\n",
    "    if jitterNextFifteen(track, azimuthData, elevationData, \n",
    "                         thisEl, delay_end) > 0.01:\n",
    "        return(delay_end)\n",
    "    while (delay_end - delay_start) > precision:\n",
    "        delay_mid = (delay_start + delay_end) / 2\n",
    "        rmsError = jitterNextFifteen(track, azimuthData, \n",
    "                                     elevationData, thisEl, delay_mid)\n",
    "        if rmsError < 0.01:\n",
    "            delay_end = delay_mid\n",
    "            last_good = delay_mid\n",
    "        else:\n",
    "            delay_start = delay_mid\n",
    "            delay_end = last_good\n",
    "    rmsError = jitterNextFifteen(track, azimuthData, \n",
    "                                     elevationData, thisEl, last_good)\n",
    "    return delay_start\n",
    "\n"
   ]
  },
  {
   "cell_type": "markdown",
   "metadata": {},
   "source": [
    "# Make a tracking plot for a single event."
   ]
  },
  {
   "cell_type": "code",
   "execution_count": null,
   "metadata": {},
   "outputs": [],
   "source": [
    "%matplotlib inline\n",
    "dayObs = 20231220\n",
    "seqNum = 431\n",
    "event = eventMaker.getEvent(dayObs, seqNum)\n",
    "fig = plt.figure(figsize=(10, 8))\n",
    "plotEvent(client, event, fig, doFilterResiduals=True)\n",
    "plt.savefig(str(dataDir / f\"RubinTV_Tracking_{dayObs}-{seqNum}.png\"))"
   ]
  },
  {
   "cell_type": "markdown",
   "metadata": {},
   "source": [
    "# Now cycle through many events plotting the tracking errors, and getting the data for the slew time histogram and the jitter error histograms."
   ]
  },
  {
   "cell_type": "code",
   "execution_count": null,
   "metadata": {
    "tags": []
   },
   "outputs": [],
   "source": [
    "# These are for plotting the slew time distributions\n",
    "slewTimesInPosition = []\n",
    "slewTimesSettled = []\n",
    "slewDistance = []\n",
    "azVals = []\n",
    "elVals = []\n",
    "shifts = []\n",
    "\n",
    "rmsError0s = [] # This is the error at the inPosition\n",
    "\n",
    "# These are for plotting the jitter distributions\n",
    "#We do this for several delays after the InPosition\n",
    "delays = [0.0, 1.0, 2.0, 3.0]\n",
    "rmsErrors = {}\n",
    "for delay in delays:\n",
    "    rmsErrors[delay] = []\n",
    "\n",
    "timeToSettles = []\n",
    "\n",
    "firstDayObs = dayBlockPairs[0][0]\n",
    "lastDayObs = dayBlockPairs[-1][0]\n",
    "\n",
    "pdf = PdfPages(str(dataDir / f\"Mount_Jitter_Plots_MTMount_{firstDayObs}-{lastDayObs}.pdf\"))\n",
    "fig = plt.figure(figsize=(10, 8))\n",
    "\n",
    "for i, [dayObs, blockNum] in enumerate(dayBlockPairs):\n",
    "    events = eventMaker.getEvents(dayObs)\n",
    "    these_events = []\n",
    "    for e in events:\n",
    "        try:\n",
    "            for b in e.blockInfos:\n",
    "                if b.blockNumber==blockNum:\n",
    "                    these_events.append(e)\n",
    "                    break\n",
    "        except:\n",
    "            continue\n",
    "    tracks = [e for e in these_events if e.type.name==\"TRACKING\"]\n",
    "    for track in tracks:\n",
    "        try:\n",
    "            # Get the information from the previous slew\n",
    "            try:\n",
    "                seqNum = track.seqNum\n",
    "                previous_slew = getPreviousSlew(these_events, seqNum)\n",
    "                if previous_slew.type.name == 'SLEWING':\n",
    "                    azimuthData, elevationData = getAzimuthElevationDataForEvent(\n",
    "                        client, previous_slew)\n",
    "                    azShift = abs(azimuthData['actualPosition'].iloc[0]\n",
    "                                  - azimuthData['actualPosition'].iloc[-1])\n",
    "                    elShift = abs(elevationData['actualPosition'].iloc[0]\n",
    "                                  - elevationData['actualPosition'].iloc[-1])\n",
    "                    azShiftMod = azShift * np.cos(elevationData['actualPosition'].iloc[0]*np.pi/180.0)\n",
    "                    shift = np.sqrt(elShift*elShift + azShiftMod*azShiftMod)\n",
    "                    if shift < 0.2 or shift > 10.0:\n",
    "                        continue\n",
    "                else:\n",
    "                    # If the previous event wasn't a slew, we won't use this track.\n",
    "                    print(f\"Discarding {dayObs}-{seqNum} because it isn't preceded by a slew\")\n",
    "                    continue\n",
    "            except:\n",
    "                print(f\"Discarding {dayObs}-{seqNum} because of an error processing the slew\")\n",
    "                continue\n",
    "    \n",
    "            # Now get the track information\n",
    "            azimuthData, elevationData = getAzimuthElevationDataForEvent(\n",
    "                    client, track, postPadding = -1.0)\n",
    "            thisEl = elevationData['actualPosition'].iloc[0]\n",
    "            azError = azimuthData['azError'].values\n",
    "            elError = elevationData['elError'].values\n",
    "            azBadValues = filterBadValues(azError)\n",
    "            elBadValues = filterBadValues(elError)\n",
    "            azimuthData['azError'] = azError\n",
    "            elevationData['elError'] = elError\n",
    "            azError = azimuthData['azError']\n",
    "            elError = elevationData['elError']\n",
    "\n",
    "            initialAzRms = np.sqrt(np.mean(azError**2))\n",
    "            initialElRms = np.sqrt(np.mean(elError**2))\n",
    "            if initialAzRms > 10.0 or initialElRms > 10.0:\n",
    "                print(f\"Discarding {dayObs}-{seqNum} because the slew is out of limits\")\n",
    "                continue\n",
    "    \n",
    "            \n",
    "            # Now calculate the settling time\n",
    "            timeToSettle = binary_search(track, azimuthData, elevationData, thisEl, \n",
    "                  0.0, 10.0, precision=0.1)\n",
    "            timeSettled = track.begin + TimeDelta(timeToSettle, format='sec')\n",
    "            timeToSettles.append(timeToSettle)\n",
    "            slewTimesSettled.append(previous_slew.duration + timeToSettle)\n",
    "\n",
    "            # Now calculate the RMS error from the inPosition time\n",
    "            # plus an offset and for 15 seconds afterward\n",
    "            for delay in delays:\n",
    "                rmsError = jitterNextFifteen(track, azimuthData, \n",
    "                                             elevationData, thisEl, delay)\n",
    "                rmsErrors[delay].append(rmsError)\n",
    "\n",
    "            # Save the slewing information\n",
    "            slewDistance.append(shift)\n",
    "            slewTimesInPosition.append(previous_slew.duration)\n",
    "            azVals.append(azimuthData['actualPosition'].iloc[0])\n",
    "            elVals.append(thisEl)\n",
    "            rmsError0s.append(max(azError.iloc[0], elError.iloc[0]))\n",
    "            \n",
    "            # Now make the plots\n",
    "            plotEvent(client, track, fig, azimuthData=azimuthData, \n",
    "              elevationData=elevationData)\n",
    "            ax = fig.get_axes()[1]\n",
    "            ax.axvline(track.begin.utc.datetime, ls='--', color='black')\n",
    "            ax.axvline(timeSettled.utc.datetime, ls='--', color='green')\n",
    "            ax.text(0.1, 0.8,\n",
    "                   f'{azBadValues} bad azimuth values and {elBadValues} bad elevation values were replaced',\n",
    "                       transform=ax.transAxes)\n",
    "            print(f\"Event {dayObs}-{seqNum} was a success\")\n",
    "            pdf.savefig(fig)  # saves the current figure into a pdf page\n",
    "            plt.clf()\n",
    "        except:\n",
    "            print(\"Unkown failure\")\n",
    "            continue\n",
    "pdf.close()"
   ]
  },
  {
   "cell_type": "markdown",
   "metadata": {},
   "source": [
    "# Now plot the slew / settle time histograms."
   ]
  },
  {
   "cell_type": "code",
   "execution_count": null,
   "metadata": {},
   "outputs": [],
   "source": [
    "%matplotlib inline\n",
    "timeToSettles = np.array(timeToSettles)\n",
    "goodSettles = timeToSettles[timeToSettles < 0.000001]\n",
    "percentGoodSettles = len(goodSettles) / len(timeToSettles) * 100.0\n",
    "\n",
    "fig = plt.figure(figsize=(10, 5))\n",
    "plt.subplots_adjust(wspace=0.5)\n",
    "plt.suptitle(f\"MT Mount Time for jitter to settle\\n{firstDayObs}-{lastDayObs}\", fontsize = 18, y=1.05)\n",
    "plt.subplot(1,1,1)\n",
    "plt.title(f\"N = {len(timeToSettles)}, {percentGoodSettles:.1f} % are settled at InPosition\")\n",
    "plt.hist(timeToSettles, bins=100, range=(0,10))\n",
    "plt.xlim(0,10)\n",
    "plt.xlabel(\"Time to settle (seconds)\")\n",
    "plt.savefig(str(dataDir / f\"Settling_Time_{firstDayObs}-{lastDayObs}.png\"))"
   ]
  },
  {
   "cell_type": "code",
   "execution_count": null,
   "metadata": {},
   "outputs": [],
   "source": [
    "%matplotlib inline\n",
    "slewsLessThan3p5 = 0\n",
    "slewsMeetingSpec = 0\n",
    "for i in range(len(slewTimesInPosition)):\n",
    "    if slewDistance[i] <= 3.5:\n",
    "        slewsLessThan3p5 += 1\n",
    "        if slewTimesInPosition[i] < 4.0:\n",
    "            slewsMeetingSpec += 1\n",
    "percentInSpec = slewsMeetingSpec / slewsLessThan3p5 *100.0\n",
    "fig = plt.figure(figsize=(10, 5))\n",
    "plt.subplots_adjust(wspace=0.5)\n",
    "plt.suptitle(f\"MT Mount Time from Slew Start to InPosition\\n{firstDayObs}-{lastDayObs}\", fontsize = 18, y=1.05)\n",
    "plt.subplot(1,2,1)\n",
    "plt.hist(slewTimesInPosition, bins=50, range=(0,50))\n",
    "plt.xlim(0,10)\n",
    "plt.xlabel(\"Slew and settle time (seconds)\")\n",
    "plt.subplot(1,2,2)\n",
    "plt.scatter(slewDistance, slewTimesInPosition)\n",
    "plt.ylabel(\"Slew and settle time(sec)\")\n",
    "plt.xlabel(\"Slew distance (degrees)\")\n",
    "plt.plot([3.5,3.5],[0,10], ls='--', color='black')\n",
    "plt.plot([0,10],[4.0,4.0], ls='--', color='black')\n",
    "plt.text(4.0, 8.0,f\"{percentInSpec:.1f} percent of the slews \\nless than 3.5 degrees take \\nless than 4 seconds\")\n",
    "plt.xlim(0,10)\n",
    "plt.ylim(0,10)\n",
    "plt.savefig(str(dataDir / f\"Slew_Settle_Times_InPosition_{firstDayObs}-{lastDayObs}.png\"))"
   ]
  },
  {
   "cell_type": "code",
   "execution_count": null,
   "metadata": {},
   "outputs": [],
   "source": [
    "%matplotlib inline\n",
    "slewsLessThan3p5 = 0\n",
    "slewsMeetingSpec = 0\n",
    "for i in range(len(slewTimesSettled)):\n",
    "    if slewDistance[i] <= 3.5:\n",
    "        slewsLessThan3p5 += 1\n",
    "        if slewTimesSettled[i] < 4.0:\n",
    "            slewsMeetingSpec += 1\n",
    "percentInSpec = slewsMeetingSpec / slewsLessThan3p5 *100.0\n",
    "\n",
    "fig = plt.figure(figsize=(10, 5))\n",
    "plt.subplots_adjust(wspace=0.5)\n",
    "plt.suptitle(f\"MT Mount Time from Slew Start to Jitter Settled\\n{firstDayObs}-{lastDayObs}\", fontsize = 18, y=1.05)\n",
    "plt.subplot(1,2,1)\n",
    "plt.hist(slewTimesSettled, bins=50, range=(0,50))\n",
    "plt.xlim(0,20)\n",
    "plt.xlabel(\"Slew and settle time (seconds)\")\n",
    "plt.subplot(1,2,2)\n",
    "plt.scatter(slewDistance, slewTimesSettled)\n",
    "plt.ylabel(\"Slew and settle time(sec)\")\n",
    "plt.xlabel(\"Slew distance (degrees)\")\n",
    "plt.plot([3.5,3.5],[0,10], ls='--', color='black')\n",
    "plt.plot([0,10],[4.0,4.0], ls='--', color='black')\n",
    "plt.text(4.0, 8.0,f\"{percentInSpec:.1f} percent of the slews \\nless than 3.5 degrees take \\nless than 4 seconds\")\n",
    "plt.xlim(0,10)\n",
    "plt.ylim(0,10)\n",
    "plt.savefig(str(dataDir / f\"Slew_Settle_Times_Settled_{firstDayObs}-{lastDayObs}.png\"))"
   ]
  },
  {
   "cell_type": "markdown",
   "metadata": {},
   "source": [
    "# This plots histograms of the tracking jitter."
   ]
  },
  {
   "cell_type": "code",
   "execution_count": null,
   "metadata": {
    "tags": []
   },
   "outputs": [],
   "source": [
    "%matplotlib inline\n",
    "fig, azs = plt.subplots(2,2,figsize=(10,10))\n",
    "plt.suptitle(f\"MT Mount Error histograms - {firstDayObs}-{lastDayObs}\", fontsize = 18)#, y=1.05)\n",
    "plt.subplots_adjust(hspace=0.5)\n",
    "for i, delay in enumerate(delays):\n",
    "    azx = i % 2\n",
    "    azy = int(i / 2)\n",
    "    rmsError = rmsErrors[delay]\n",
    "    rmsError = np.array(rmsError)\n",
    "    goodRms = rmsError[rmsError < 0.01]\n",
    "    percentGoodRms = len(goodRms) / len(rmsError) * 100.0\n",
    "    rmsMed = np.nanmedian(rmsError)\n",
    "    azs[azy][azx].set_title(f\"From InPosition + {delay:.0f} sec, ending 15 sec later.\\nN={len(rmsError)}, Median={rmsMed:.3f}, Less than 0.01 = {percentGoodRms:.1f}\")\n",
    "    azs[azy][azx].hist(rmsError, range=(0,0.1), bins=100)\n",
    "    azs[azy][azx].axvline(0.01, color='black', ls = '--')\n",
    "    azs[azy][azx].set_xlim(0,0.05)\n",
    "    azs[azy][azx].set_xlabel(\"RMS Jitter (arcseconds)\")\n",
    "plt.savefig(str(dataDir / f\"Jitter_Summary_{firstDayObs}-{lastDayObs}.png\"))"
   ]
  },
  {
   "cell_type": "markdown",
   "metadata": {},
   "source": [
    "# This plots histograms of the tracking error at the beginning of the time period."
   ]
  },
  {
   "cell_type": "code",
   "execution_count": null,
   "metadata": {
    "tags": []
   },
   "outputs": [],
   "source": [
    "%matplotlib inline\n",
    "rmsError0s = np.array(rmsError0s)\n",
    "goodErrors = rmsError0s[rmsError0s < 0.1]\n",
    "percentGoodErrors = len(goodErrors) / len(rmsError0s) * 100.0\n",
    "fig = plt.figure(figsize=(10,5))\n",
    "plt.suptitle(f\"MT Mount Error at inPosition - {firstDayObs}-{lastDayObs}\", fontsize = 18, y=1.05)\n",
    "rmsMed = np.nanmedian(rmsError0s)\n",
    "plt.subplot(1,1,1)\n",
    "plt.title(f\"Worst case tracking error at inPosition\\n N={len(rmsError0s)} Median = {rmsMed:.3f}  Less than 0.1 = {percentGoodErrors:.1f} %\")\n",
    "plt.hist(rmsError0s, range=(0,0.5), bins=50)\n",
    "plt.axvline(0.1, color='black', ls = '--')\n",
    "plt.xlim(0,0.5)\n",
    "plt.xlabel(\"Tracking error (arcseconds)\")\n",
    "plt.savefig(str(dataDir / f\"InPosition_Error_{firstDayObs}-{lastDayObs}.png\"))"
   ]
  },
  {
   "cell_type": "code",
   "execution_count": null,
   "metadata": {},
   "outputs": [],
   "source": []
  }
 ],
 "metadata": {
  "kernelspec": {
   "display_name": "LSST",
   "language": "python",
   "name": "lsst"
  },
  "language_info": {
   "codemirror_mode": {
    "name": "ipython",
    "version": 3
   },
   "file_extension": ".py",
   "mimetype": "text/x-python",
   "name": "python",
   "nbconvert_exporter": "python",
   "pygments_lexer": "ipython3",
   "version": "3.11.7"
  }
 },
 "nbformat": 4,
 "nbformat_minor": 4
}
