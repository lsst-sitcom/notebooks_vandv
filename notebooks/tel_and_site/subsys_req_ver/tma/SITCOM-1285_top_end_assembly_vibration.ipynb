{
 "cells": [
  {
   "cell_type": "markdown",
   "id": "43768b29-bac1-46c1-a2c8-edaf51bcae3d",
   "metadata": {},
   "source": [
    "# Top End Assembly Vibration Study\n",
    "\n",
    "As described in [OBS-467], we have been noticing strong vibrations on the Top End Assembly (TEA) of the Simonyi Survey Telescope (SST). \n",
    "The first time we saw these vibrations was on March 9th (Saturday) and on March 10th (Sunday). \n",
    "\n",
    "Accordingly to [SITCOM-1285], on March 15th (Friday), we ran soak tests using the Rotator at different configurations. \n",
    "We want to investigate any possible vibrations during that period to confirm the hypothesis that the Rotator could be causing this vibration.\n",
    "\n",
    "In addition to both cases, on Marth 21th (Thursday), we executed [BLOCK-197] a couple of times. \n",
    "[OBS-498] reports multiple faults on the hexapods associated with the compensation mode. \n",
    "It also indicates that we might have vibrations during its execution, we need to review it. \n",
    "\n",
    "Finally, on March 25th, we executed [BLOCK-197] twice. \n",
    "First with the rotator in ENABLED. \n",
    "Second with the rotator in STANDBY and with its cabinet turned off. \n",
    "We want to compare both cases. \n",
    "\n",
    "[BLOCK-197]: https://rubinobs.atlassian.net/browse/BLOCK-197\n",
    "[OBS-467]: https://rubinobs.atlassian.net/browse/OBS-467\n",
    "[OBS-498]: https://rubinobs.atlassian.net/browse/OBS-498\n",
    "[SITCOM-1285]: https://rubinobs.atlassian.net/browse/SITCOM-1285\n",
    "\n",
    "## Notebook Preparation"
   ]
  },
  {
   "cell_type": "code",
   "execution_count": null,
   "id": "19f76423-8b28-4b27-a6ff-a7bafb3e55fb",
   "metadata": {},
   "outputs": [],
   "source": [
    "%load_ext lab_black\n",
    "%load_ext autoreload\n",
    "%autoreload 2"
   ]
  },
  {
   "cell_type": "code",
   "execution_count": null,
   "id": "a4fd8487-46b6-4976-994c-301e9c632e29",
   "metadata": {},
   "outputs": [],
   "source": [
    "import asyncio\n",
    "import matplotlib.pyplot as plt\n",
    "import numpy as np\n",
    "import os\n",
    "import pandas as pd\n",
    "import sys\n",
    "import time\n",
    "import warnings\n",
    "\n",
    "from argparse import Namespace\n",
    "from astropy.time import Time, TimeDelta\n",
    "from scipy.fft import fft, fftfreq\n",
    "from scipy.signal import detrend, get_window, welch\n",
    "from lsst.summit.utils.blockUtils import BlockParser\n",
    "from lsst.summit.utils.efdUtils import makeEfdClient, getEfdData\n",
    "from lsst_efd_client.efd_helper import merge_packed_time_series\n",
    "\n",
    "\n",
    "# Ignore the many warning messages from ``merge_packed_time_series``\n",
    "warnings.simplefilter(action=\"ignore\", category=FutureWarning)\n",
    "\n",
    "# Create an EFD client\n",
    "client = makeEfdClient()\n",
    "\n",
    "# Global variables definition\n",
    "sensorNames = [\n",
    "    \"SST top end ring +x -y\",\n",
    "    \"SST top end ring -x -y\",\n",
    "    \"SST spider spindle\",\n",
    "    \"SST M2 surrogate\",\n",
    "]\n",
    "sensorNamesShort = [\"ter_pxmy\", \"ter_mxmy\", \"spider\", \"m2surr\"]"
   ]
  },
  {
   "cell_type": "markdown",
   "id": "de9ba8c6-c8ef-4108-ae9b-022a77414784",
   "metadata": {},
   "source": [
    "## OBS-467 - The initial problem"
   ]
  },
  {
   "cell_type": "code",
   "execution_count": null,
   "id": "f6ac74bd-14bd-44e7-8750-fa7a1f33c258",
   "metadata": {},
   "outputs": [],
   "source": [
    "start = Time(\"2024-03-09T10:00:00Z\", scale=\"utc\", format=\"isot\")\n",
    "end = Time(\"2024-03-11T06:00:00Z\", scale=\"utc\", format=\"isot\")\n",
    "\n",
    "df_rot = getEfdData(\n",
    "    client,\n",
    "    \"lsst.sal.MTRotator.rotation\",\n",
    "    columns=[\"actualPosition\"],\n",
    "    begin=start,\n",
    "    end=end,\n",
    ")\n",
    "\n",
    "df_m2 = getEfdData(\n",
    "    client,\n",
    "    \"lsst.sal.MTM2.positionIMS\",\n",
    "    columns=[\"x\", \"y\", \"z\"],\n",
    "    begin=start,\n",
    "    end=end,\n",
    ")\n",
    "\n",
    "df_hex = getEfdData(\n",
    "    client,\n",
    "    \"lsst.sal.MTHexapod.application\",\n",
    "    columns=[f\"position{i}\" for i in range(3)] + [\"salIndex\"],\n",
    "    begin=start,\n",
    "    end=end,\n",
    ")"
   ]
  },
  {
   "cell_type": "code",
   "execution_count": null,
   "id": "fe1a7ef2-154f-4101-8db2-c537354643de",
   "metadata": {},
   "outputs": [],
   "source": [
    "df_m2 = df_m2 - df_m2.rolling(\"1s\").mean()\n",
    "df_camhex = df_hex[df_hex.salIndex == 1]\n",
    "df_m2hex = df_hex[df_hex.salIndex == 2]"
   ]
  },
  {
   "cell_type": "markdown",
   "id": "3586cced-683c-4518-9d64-c1f834f6e92a",
   "metadata": {},
   "source": [
    "<div class=\"alert alert-warning\">\n",
    "The plot below takes a 2.5 min to be executed. \n",
    "</div>"
   ]
  },
  {
   "cell_type": "code",
   "execution_count": null,
   "id": "6c911ab2-dd1f-4f34-9846-c361fdb53dca",
   "metadata": {},
   "outputs": [],
   "source": [
    "%matplotlib inline\n",
    "fig, (ax_m2, ax_camhex, ax_m2hex, ax_rot) = plt.subplots(\n",
    "    nrows=4, figsize=(16, 7), sharex=True\n",
    ")\n",
    "\n",
    "ax_m2.plot(df_m2.x, label=\"x\")\n",
    "ax_m2.plot(df_m2.y, label=\"y\")\n",
    "ax_m2.plot(df_m2.z, label=\"z\")\n",
    "ax_m2.grid(\":\", alpha=0.25)\n",
    "ax_m2.set_ylabel(\"M2 IMS\\n Position [um]\")\n",
    "ax_m2.legend(loc=\"upper left\")\n",
    "\n",
    "ax_camhex.plot(df_camhex.position0, label=\"x\")\n",
    "ax_camhex.plot(df_camhex.position1, label=\"y\")\n",
    "ax_camhex.plot(df_camhex.position2, label=\"z\")\n",
    "ax_camhex.grid(\":\", alpha=0.25)\n",
    "ax_camhex.set_ylabel(\"CamHex\\n Position [um]\")\n",
    "ax_camhex.legend(loc=\"upper left\")\n",
    "\n",
    "ax_m2hex.plot(df_m2hex.position0, label=\"x\")\n",
    "ax_m2hex.plot(df_m2hex.position1, label=\"y\")\n",
    "ax_m2hex.plot(df_m2hex.position2, label=\"z\")\n",
    "ax_m2hex.grid(\":\", alpha=0.25)\n",
    "ax_m2hex.set_ylabel(\"M2\\n Position [um]\")\n",
    "ax_m2hex.legend(loc=\"upper left\")\n",
    "\n",
    "ax_rot.plot(df_rot.actualPosition * 1e3, label=\"Actual Position\")\n",
    "ax_rot.grid(\":\", alpha=0.25)\n",
    "ax_rot.set_ylabel(\"Rotator Angle\\n [$10^-3$ deg]\")\n",
    "ax_rot.set_xlim(df_rot.index[0], df_rot.index[-1])\n",
    "ax_rot.set_xlabel(\"Time [utc]\")\n",
    "ax_rot.legend(loc=\"upper left\")\n",
    "\n",
    "fig.suptitle(\n",
    "    \"OBS-467 Investigation - M2/Rotator/Hexapods Vibrrations\\n\"\n",
    "    f\"From {start.to_value('iso', subfmt='date_hm')} to {end.to_value('iso', subfmt='date_hm')}\"\n",
    ")\n",
    "\n",
    "fig.autofmt_xdate()\n",
    "fig.tight_layout()\n",
    "\n",
    "fig.savefig(\"obs467_investigation.png\")\n",
    "plt.show()"
   ]
  },
  {
   "cell_type": "markdown",
   "id": "6f363bf9-2551-40cf-bb52-c16bf11d3e16",
   "metadata": {},
   "source": [
    "The plots above show a low amplitude vibration on the Rotator and on M2 from 00:40 to 15:00 UTC on March 10th.  \n",
    "Following the logs in OLE, the first problematic measurements using the Laser Tracker started to appear around 00:44. \n",
    "This is consistent with what we see above. \n",
    "\n",
    "We checked the vibrations on the rotator actual position on Chronograf, we found that the exact time that it started was at `00:37:55`.\n",
    "At `14:41:13`, the amplitude of these oscillations are smaller and last until `16:08:41`.  \n",
    "\n",
    "Alysha confirmed that all the vibrations/oscillations after 17h UTC come from other tests and are unrelated to the sounds we hear when going to Level 8. \n",
    "\n",
    "Another important aspect to consider are the amplitudes of the vibrations. \n",
    "A quick eye inspection show that the oscillation on the rotator have an amplitude of about 0.1 x 10^-3 degrees. \n",
    "The M2 have oscillations around 1 um. \n",
    "None of these two justify the 2 mm displacement that we were measuring with the Laser Tracker.\n",
    "\n",
    "When looking at the hexapods data, we can see the warm-up sequence twice. \n",
    "First, at around 18h UTC on March 9th and, second, near 14h UTC on March 10th. \n",
    "These two data sets give us an example of the range of movement on the hexapods. \n",
    "\n",
    "We can also see both hexapods being exercised quite a lot near the time when the vibrations/oscillations started. \n",
    "\n",
    "Several questions remain for this time window and we can use the following events/commands to investigate a bit more:\n",
    "- summary states for the hexapods and the rotator\n",
    "- drive states for the hexapods and the rotator\n",
    "- when was the compensation mode enabled/disabled?"
   ]
  },
  {
   "cell_type": "markdown",
   "id": "d1625245-ed50-4366-ad33-f53387e364c3",
   "metadata": {},
   "source": [
    "## BLOCK-197 w/ Rotator PXI powered On\n",
    "\n",
    "[BLOCK-197] is the test we were running when the vibration happened. \n",
    "We want to compare its execution with the Rotator PXI and drives powered on versus powered off. \n",
    "We executed both tests on the night of March 29th, 2024. \n",
    "The day obs is `20240329`. The code below grabs the scripts ran for this block. \n",
    "\n",
    "[BLOCK-197]: https://rubinobs.atlassian.net/browse/BLOCK-197"
   ]
  },
  {
   "cell_type": "code",
   "execution_count": null,
   "id": "67b5e50b-e929-4317-987f-b87e9228b1bb",
   "metadata": {},
   "outputs": [],
   "source": [
    "day_obs = 20240329\n",
    "block_id = 197\n",
    "\n",
    "block_parser = BlockParser(day_obs)\n",
    "blocks = block_parser.getBlockNums()\n",
    "list_of_blocks = block_parser.getSeqNums(block_id)"
   ]
  },
  {
   "cell_type": "code",
   "execution_count": null,
   "id": "61018714-66b6-4bd1-876d-cfa1a6845739",
   "metadata": {},
   "outputs": [],
   "source": [
    "for num in list_of_blocks:\n",
    "    block = block_parser.getBlockInfo(block_id, num)\n",
    "    print(f\"{num:02} {block.begin.iso} {block.end.iso}\")"
   ]
  },
  {
   "cell_type": "markdown",
   "id": "179f3f70-e713-4d5f-bac1-cdee7a031812",
   "metadata": {},
   "source": [
    "Considering the timestamps and the number of scripts, it is reasonable to say that `seqNum` from 1 to 10 belong to BLOCK-197's first execution (rotator ON). The rest belong to the second execution (rotator OFF). "
   ]
  },
  {
   "cell_type": "code",
   "execution_count": null,
   "id": "00be5538-a395-4ee8-b449-331511c8b6fe",
   "metadata": {
    "jupyter": {
     "source_hidden": true
    }
   },
   "outputs": [],
   "source": [
    "def query_efd_data(start, end):\n",
    "    dfs = Namespace()\n",
    "\n",
    "    dfs.rot = getEfdData(\n",
    "        client,\n",
    "        \"lsst.sal.MTRotator.rotation\",\n",
    "        columns=[\"actualPosition\"],\n",
    "        begin=start,\n",
    "        end=end,\n",
    "    )\n",
    "\n",
    "    dfs.m2 = getEfdData(\n",
    "        client,\n",
    "        \"lsst.sal.MTM2.positionIMS\",\n",
    "        columns=[\"x\", \"y\", \"z\"],\n",
    "        begin=start,\n",
    "        end=end,\n",
    "    )\n",
    "    dfs.m2 = dfs.m2 - dfs.m2.rolling(\"1s\").mean()\n",
    "\n",
    "    dfs.hexs = getEfdData(\n",
    "        client,\n",
    "        \"lsst.sal.MTHexapod.application\",\n",
    "        columns=[f\"position{i}\" for i in range(3)] + [\"salIndex\"],\n",
    "        begin=start,\n",
    "        end=end,\n",
    "    )\n",
    "    dfs.camhex = dfs.hexs[dfs.hexs.salIndex == 1]\n",
    "    dfs.m2hex = dfs.hexs[dfs.hexs.salIndex == 2]\n",
    "\n",
    "    packed_ess_df = getEfdData(\n",
    "        client,\n",
    "        \"lsst.sal.ESS.accelerometer\",\n",
    "        columns=\"*\",\n",
    "        begin=start,\n",
    "        end=end,\n",
    "    )\n",
    "\n",
    "    for short_name, long_name in zip(sensorNamesShort, sensorNames):\n",
    "        fields_df = {}\n",
    "        sub_df = packed_ess_df.loc[packed_ess_df.sensorName == long_name]\n",
    "\n",
    "        baseFields = [\"accelerationX\", \"accelerationY\", \"accelerationZ\"]\n",
    "\n",
    "        for base_field in baseFields:\n",
    "            fields_df[base_field] = merge_packed_time_series(\n",
    "                sub_df,\n",
    "                base_field,\n",
    "                stride=1,\n",
    "                ref_timestamp_col=\"timestamp\",\n",
    "                fmt=\"unix_tai\",\n",
    "                scale=\"tai\",\n",
    "            )\n",
    "            fields_df[base_field] = fields_df[base_field].sort_index()\n",
    "\n",
    "        sub_df = pd.merge_asof(\n",
    "            pd.merge_asof(\n",
    "                fields_df[baseFields[0]],\n",
    "                fields_df[baseFields[1]],\n",
    "                left_index=True,\n",
    "                right_index=True,\n",
    "            ),\n",
    "            fields_df[baseFields[2]],\n",
    "            left_index=True,\n",
    "            right_index=True,\n",
    "        )\n",
    "        sub_df = sub_df - sub_df.mean()\n",
    "        setattr(dfs, short_name, sub_df)\n",
    "\n",
    "    return dfs"
   ]
  },
  {
   "cell_type": "code",
   "execution_count": null,
   "id": "ed3693b2-0220-4f8c-bcb7-3b381c1dade5",
   "metadata": {},
   "outputs": [],
   "source": [
    "def plot_dataframes(dfs):\n",
    "    fig, (\n",
    "        ax_m2,\n",
    "        ax_camhex,\n",
    "        ax_m2hex,\n",
    "        ax_rot,\n",
    "        ax_spider,\n",
    "        ax_m2surr,\n",
    "        ax_ter_pxmy,\n",
    "        ax_ter_mxmy,\n",
    "    ) = plt.subplots(nrows=8, figsize=(16, 16), sharex=True)\n",
    "\n",
    "    ax_m2.plot(dfs.m2.x, label=\"x\")\n",
    "    ax_m2.plot(dfs.m2.y, label=\"y\")\n",
    "    ax_m2.plot(dfs.m2.z, label=\"z\")\n",
    "    ax_m2.grid(\":\", alpha=0.25)\n",
    "    ax_m2.set_ylabel(\"M2 IMS\\n Position [um]\")\n",
    "    ax_m2.legend(loc=\"upper left\")\n",
    "\n",
    "    ax_camhex.plot(dfs.camhex.position0, label=\"x\")\n",
    "    ax_camhex.plot(dfs.camhex.position1, label=\"y\")\n",
    "    ax_camhex.plot(dfs.camhex.position2, label=\"z\")\n",
    "    ax_camhex.grid(\":\", alpha=0.25)\n",
    "    ax_camhex.set_ylabel(\"CamHex\\n Position [um]\")\n",
    "    ax_camhex.legend(loc=\"upper left\")\n",
    "\n",
    "    ax_m2hex.plot(dfs.m2hex.position0, label=\"x\")\n",
    "    ax_m2hex.plot(dfs.m2hex.position1, label=\"y\")\n",
    "    ax_m2hex.plot(dfs.m2hex.position2, label=\"z\")\n",
    "    ax_m2hex.grid(\":\", alpha=0.25)\n",
    "    ax_m2hex.set_ylabel(\"M2\\n Position [um]\")\n",
    "    ax_m2hex.legend(loc=\"upper left\")\n",
    "\n",
    "    try:\n",
    "        ax_rot.plot(dfs.rot.actualPosition * 1e3, label=\"Actual Position\")\n",
    "        ax_rot.set_xlim(df_rot.index[0], df_rot.index[-1])\n",
    "    except (AttributeError, IndexError):\n",
    "        pass\n",
    "\n",
    "    ax_rot.grid(\":\", alpha=0.25)\n",
    "    ax_rot.set_ylabel(\"Rotator Angle\\n [$10^-3$ deg]\")\n",
    "    ax_rot.set_xlabel(\"Time [utc]\")\n",
    "    ax_rot.legend(loc=\"upper left\")\n",
    "\n",
    "    ax_spider.plot(dfs.spider.accelerationX, label=\"x\", alpha=0.3)\n",
    "    ax_spider.plot(dfs.spider.accelerationY, label=\"y\", alpha=0.3)\n",
    "    ax_spider.plot(dfs.spider.accelerationZ, label=\"z\", alpha=0.3)\n",
    "    ax_spider.grid(\":\", alpha=0.25)\n",
    "    ax_spider.set_ylabel(\"SST Spider\\nAcceleration [$m.s^{-2}$]\")\n",
    "    ax_spider.legend(loc=\"upper left\")\n",
    "\n",
    "    ax_m2surr.plot(dfs.m2surr.accelerationX, label=\"x\", alpha=0.3)\n",
    "    ax_m2surr.plot(dfs.m2surr.accelerationY, label=\"y\", alpha=0.3)\n",
    "    ax_m2surr.plot(dfs.m2surr.accelerationZ, label=\"z\", alpha=0.3)\n",
    "    ax_m2surr.grid(\":\", alpha=0.25)\n",
    "    ax_m2surr.set_ylabel(\"SST M2 Surrogate\\nAcceleration [$m.s^{-2}$]\")\n",
    "    ax_m2surr.legend(loc=\"upper left\")\n",
    "\n",
    "    ax_ter_mxmy.plot(dfs.ter_mxmy.accelerationX, label=\"x\", alpha=0.3)\n",
    "    ax_ter_mxmy.plot(dfs.ter_mxmy.accelerationY, label=\"y\", alpha=0.3)\n",
    "    ax_ter_mxmy.plot(dfs.ter_mxmy.accelerationZ, label=\"z\", alpha=0.3)\n",
    "    ax_ter_mxmy.grid(\":\", alpha=0.25)\n",
    "    ax_ter_mxmy.set_ylabel(\"SST top end ring -x -y\\nAcceleration [$m.s^{-2}$]\")\n",
    "    ax_ter_mxmy.legend(loc=\"upper left\")\n",
    "\n",
    "    ax_ter_pxmy.plot(dfs.ter_pxmy.accelerationX, label=\"x\", alpha=0.3)\n",
    "    ax_ter_pxmy.plot(dfs.ter_pxmy.accelerationY, label=\"y\", alpha=0.3)\n",
    "    ax_ter_pxmy.plot(dfs.ter_pxmy.accelerationZ, label=\"z\", alpha=0.3)\n",
    "    ax_ter_pxmy.grid(\":\", alpha=0.25)\n",
    "    ax_ter_pxmy.set_ylabel(\"SST top end ring +x -y\\nAcceleration [$m.s^{-2}$]\")\n",
    "    ax_ter_pxmy.legend(loc=\"upper left\")\n",
    "\n",
    "    fig.suptitle(\n",
    "        \"OBS-467 Investigation - M2/Rotator/Hexapods Vibrrations\\n\"\n",
    "        f\"From {start.to_value('iso', subfmt='date_hm')} to {end.to_value('iso', subfmt='date_hm')}\"\n",
    "    )\n",
    "\n",
    "    fig.autofmt_xdate()\n",
    "    fig.tight_layout()\n",
    "\n",
    "    fig.savefig(\"obs467_investigation.png\")\n",
    "    plt.show()"
   ]
  },
  {
   "cell_type": "code",
   "execution_count": null,
   "id": "ed6d0c1f-fb67-4d4f-b868-99b790b07df1",
   "metadata": {},
   "outputs": [],
   "source": [
    "start = block_parser.getBlockInfo(block_id, 1).begin\n",
    "end = block_parser.getBlockInfo(block_id, 10).end"
   ]
  },
  {
   "cell_type": "code",
   "execution_count": null,
   "id": "abfb45e3-8ea1-44e1-91db-ce038ee18798",
   "metadata": {},
   "outputs": [],
   "source": [
    "dfs_off = query_efd_data(start, end)"
   ]
  },
  {
   "cell_type": "code",
   "execution_count": null,
   "id": "61ebbe40-001c-482b-8149-8cf77e5ca1e1",
   "metadata": {},
   "outputs": [],
   "source": [
    "%matplotlib inline\n",
    "plot_dataframes(dfs_off)"
   ]
  },
  {
   "cell_type": "markdown",
   "id": "dca82d86-4732-4a91-947b-177dce67d6fe",
   "metadata": {},
   "source": [
    "## BLOCK-197 w/ Rotator PXI powered Off\n"
   ]
  },
  {
   "cell_type": "code",
   "execution_count": null,
   "id": "fae935c4-4c2f-40d0-b759-6686e0d6bd18",
   "metadata": {},
   "outputs": [],
   "source": [
    "start = block_parser.getBlockInfo(block_id, 11).begin\n",
    "end = block_parser.getBlockInfo(block_id, 20).end"
   ]
  },
  {
   "cell_type": "code",
   "execution_count": null,
   "id": "5b9491e4-d7fc-4f3b-ace8-eeb131d4e942",
   "metadata": {},
   "outputs": [],
   "source": [
    "dfs_on = query_efd_data(start, end)"
   ]
  },
  {
   "cell_type": "code",
   "execution_count": null,
   "id": "9f1f3b72-7369-4082-8580-5a7c5c95e747",
   "metadata": {},
   "outputs": [],
   "source": [
    "%matplotlib inline\n",
    "plot_dataframes(dfs_on)"
   ]
  },
  {
   "cell_type": "markdown",
   "id": "ece490f1-28b7-499f-b765-bd1906577126",
   "metadata": {},
   "source": [
    "## BLOCK-197 - Rotator On/Off comparison\n",
    "\n",
    "The plots above shows how the Rotator and the Accelerometers respond to the hexapod movements. \n",
    "We are interested in knowing the amplitude of the vibrations and their main frequencies. \n",
    "\n",
    "Assuming, for simplicity, that the vibration was tangencial to the circle containing the SMRs.\n",
    "For the Camera SMRs, a displacement of 2 mm in a circle of 850 mm would need the rotator to oscillate with an amplitude of 0.135 deg.\n",
    "For the M2 SMRs, a displacement of 2 mm in a circle of 1740 mm would need the rotator to oscillate with an amplitude of 0.065 deg.\n",
    "\n",
    "We could lock on M2 SMRs. Oscillations about 0.1 mm. In contrast of Cam SMRs, of 2 mm. "
   ]
  },
  {
   "cell_type": "code",
   "execution_count": null,
   "id": "57eac0df-8c36-441a-82b5-1469a1a7793d",
   "metadata": {},
   "outputs": [],
   "source": [
    "def print_amplitudes(dfs):\n",
    "    for short_name, long_name in zip(sensorNamesShort, sensorNames):\n",
    "        df = getattr(dfs, short_name)\n",
    "        print(\n",
    "            f\"Amplitude for accelerometer {long_name}\\n\"\n",
    "            f\"  Acceleration in X: {np.ptp(df.accelerationX):.4f} m/s2,\"\n",
    "            f\" rms = {np.sqrt(np.mean(df.accelerationX**2)):.4f}\\n\"\n",
    "            f\"  Acceleration in Y: {np.ptp(df.accelerationY):.4f} m/s2,\"\n",
    "            f\" rms = {np.sqrt(np.mean(df.accelerationY**2)):.4f}\\n\"\n",
    "            f\"  Acceleration in Z: {np.ptp(df.accelerationZ):.4f} m/s2,\"\n",
    "            f\" rms = {np.sqrt(np.mean(df.accelerationZ**2)):.4f}\\n\"\n",
    "        )"
   ]
  },
  {
   "cell_type": "code",
   "execution_count": null,
   "id": "617a4e95-2736-4581-a338-d23969c00642",
   "metadata": {},
   "outputs": [],
   "source": [
    "print_amplitudes(dfs_on)"
   ]
  },
  {
   "cell_type": "code",
   "execution_count": null,
   "id": "1cb4f0ce-9ece-45c7-9ac5-67f609176f57",
   "metadata": {},
   "outputs": [],
   "source": [
    "print_amplitudes(dfs_off)"
   ]
  },
  {
   "cell_type": "markdown",
   "id": "1de2ea56-ef48-45e4-8972-6fb1855d3458",
   "metadata": {},
   "source": [
    "## Frequency Analysis"
   ]
  },
  {
   "cell_type": "code",
   "execution_count": null,
   "id": "23842ab2-14b9-484c-9c6f-b0a7583b3fef",
   "metadata": {},
   "outputs": [],
   "source": [
    "def frequency_analysis(data, long_name):\n",
    "    # Start Plot\n",
    "    plt.figure(figsize=(10, 6))\n",
    "\n",
    "    # Assuming 'times' column is in seconds and is relative to the start of the measurement\n",
    "    # Convert times to relative seconds from the start\n",
    "    data[\"relative_time\"] = data[\"times\"] - data[\"times\"].min()\n",
    "\n",
    "    for i, col in enumerate([\"accelerationX\", \"accelerationY\", \"accelerationZ\"]):\n",
    "        # Interpolate data to have uniform time intervals if necessary\n",
    "        # For simplicity, let's assume the data is already uniformly sampled in this case\n",
    "\n",
    "        # Detrend the data to remove linear trend\n",
    "        detrended_acc = detrend(data[col])\n",
    "\n",
    "        # Apply a window function (e.g., Hamming window)\n",
    "        window = get_window(\"hamming\", len(detrended_acc))\n",
    "        windowed_acc = detrended_acc * window\n",
    "\n",
    "        # Perform FFT\n",
    "        fft_acc = fft(windowed_acc)\n",
    "        fft_freqs = fftfreq(\n",
    "            len(windowed_acc),\n",
    "            (data[\"relative_time\"].iloc[1] - data[\"relative_time\"].iloc[0]),\n",
    "        )\n",
    "\n",
    "        # Get the positive half of the spectrum and frequencies\n",
    "        positive_freqs = fft_freqs[: len(fft_freqs) // 2]\n",
    "        positive_fft = np.abs(fft_acc[: len(fft_acc) // 2])\n",
    "\n",
    "        plt.plot(positive_freqs, positive_fft + 500 * i, label=col, alpha=0.5)\n",
    "\n",
    "    plt.legend()\n",
    "    plt.title(f\"FFT of {long_name}\")\n",
    "    plt.xlabel(\"Frequency (Hz)\")\n",
    "    plt.ylabel(\"Magnitude\")\n",
    "    plt.grid(True)\n",
    "    plt.show()"
   ]
  },
  {
   "cell_type": "markdown",
   "id": "14b40ce0-c71d-4c55-a447-e8ef3d4ff17b",
   "metadata": {},
   "source": [
    "### Rotator Off"
   ]
  },
  {
   "cell_type": "code",
   "execution_count": null,
   "id": "f94a1363-62f4-4fa6-a1eb-64e9a46e0b4b",
   "metadata": {},
   "outputs": [],
   "source": [
    "%matplotlib inline\n",
    "frequency_analysis(dfs_off.m2surr, \"SST M2 Surrogate\")"
   ]
  },
  {
   "cell_type": "code",
   "execution_count": null,
   "id": "9c295923-69a9-4ef9-bc92-a23e7174cce4",
   "metadata": {},
   "outputs": [],
   "source": [
    "%matplotlib inline\n",
    "frequency_analysis(dfs_off.spider, \"SST spider spindle\")"
   ]
  },
  {
   "cell_type": "code",
   "execution_count": null,
   "id": "6432b531-7f36-4a20-b26c-25403e3d5573",
   "metadata": {},
   "outputs": [],
   "source": [
    "%matplotlib inline\n",
    "frequency_analysis(dfs_off.ter_pxmy, \"SST top end ring +x -y\")"
   ]
  },
  {
   "cell_type": "code",
   "execution_count": null,
   "id": "b263a2b1-c5ed-42f1-8e15-54dfe010b51d",
   "metadata": {},
   "outputs": [],
   "source": [
    "%matplotlib inline\n",
    "frequency_analysis(dfs_off.ter_mxmy, \"SST top end ring -x -y\")"
   ]
  },
  {
   "cell_type": "markdown",
   "id": "c3ab596e-5e9d-40e7-b8a9-302656f33254",
   "metadata": {},
   "source": [
    "### Rotator On"
   ]
  },
  {
   "cell_type": "code",
   "execution_count": null,
   "id": "a0773c0d-bc61-4377-8e75-b083564371c3",
   "metadata": {},
   "outputs": [],
   "source": [
    "%matplotlib inline\n",
    "frequency_analysis(dfs_on.m2surr, \"SST M2 Surrogate\")"
   ]
  },
  {
   "cell_type": "code",
   "execution_count": null,
   "id": "bf26897d-951e-4677-8739-6e830965cc97",
   "metadata": {},
   "outputs": [],
   "source": [
    "%matplotlib inline\n",
    "frequency_analysis(dfs_on.spider, \"SST spider spindle\")"
   ]
  },
  {
   "cell_type": "code",
   "execution_count": null,
   "id": "0c03166e-b38c-44a9-a53f-a4e49d9ef199",
   "metadata": {},
   "outputs": [],
   "source": [
    "%matplotlib inline\n",
    "frequency_analysis(dfs_on.ter_pxmy, \"SST top end ring +x -y\")"
   ]
  },
  {
   "cell_type": "code",
   "execution_count": null,
   "id": "ea244918-b055-4a8d-bee9-e590e1f02731",
   "metadata": {},
   "outputs": [],
   "source": [
    "%matplotlib inline\n",
    "frequency_analysis(dfs_on.ter_mxmy, \"SST top end ring -x -y\")"
   ]
  },
  {
   "cell_type": "code",
   "execution_count": null,
   "id": "ae264342-c174-4950-8971-662da898fda9",
   "metadata": {},
   "outputs": [],
   "source": []
  }
 ],
 "metadata": {
  "kernelspec": {
   "display_name": "LSST",
   "language": "python",
   "name": "lsst"
  },
  "language_info": {
   "codemirror_mode": {
    "name": "ipython",
    "version": 3
   },
   "file_extension": ".py",
   "mimetype": "text/x-python",
   "name": "python",
   "nbconvert_exporter": "python",
   "pygments_lexer": "ipython3",
   "version": "3.11.7"
  }
 },
 "nbformat": 4,
 "nbformat_minor": 5
}
