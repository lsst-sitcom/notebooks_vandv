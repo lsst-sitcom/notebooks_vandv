{
 "cells": [
  {
   "cell_type": "markdown",
   "id": "43768b29-bac1-46c1-a2c8-edaf51bcae3d",
   "metadata": {},
   "source": [
    "# Top End Assembly Vibration Study\n",
    "\n",
    "As described in [OBS-467], we have been noticing strong vibrations on the Top End Assembly (TEA) of the Simonyi Survey Telescope (SST). \n",
    "The first time we saw these vibrations was on March 9th (Saturday) and on March 10th (Sunday). \n",
    "\n",
    "Accordingly to [SITCOM-1285], on March 15th (Friday), we ran soak tests using the Rotator at different configurations. \n",
    "We want to investigate any possible vibrations during that period to confirm the hypothesis that the Rotator could be causing this vibration.\n",
    "\n",
    "In addition to both cases, on Marth 21th (Thursday), we executed [BLOCK-197] a couple of times. \n",
    "[OBS-498] reports multiple faults on the hexapods associated with the compensation mode. \n",
    "It also indicates that we might have vibrations during its execution, we need to review it. \n",
    "\n",
    "Finally, on March 25th, we executed [BLOCK-197] twice. \n",
    "First with the rotator in ENABLED. \n",
    "Second with the rotator in STANDBY and with its cabinet turned off. \n",
    "We want to compare both cases. \n",
    "\n",
    "[BLOCK-197]: https://rubinobs.atlassian.net/browse/BLOCK-197\n",
    "[OBS-467]: https://rubinobs.atlassian.net/browse/OBS-467\n",
    "[OBS-498]: https://rubinobs.atlassian.net/browse/OBS-498\n",
    "[SITCOM-1285]: https://rubinobs.atlassian.net/browse/SITCOM-1285\n",
    "\n",
    "## Notebook Preparation"
   ]
  },
  {
   "cell_type": "code",
   "execution_count": null,
   "id": "19f76423-8b28-4b27-a6ff-a7bafb3e55fb",
   "metadata": {},
   "outputs": [],
   "source": [
    "%load_ext lab_black\n",
    "%load_ext autoreload\n",
    "%autoreload 2"
   ]
  },
  {
   "cell_type": "code",
   "execution_count": null,
   "id": "a4fd8487-46b6-4976-994c-301e9c632e29",
   "metadata": {},
   "outputs": [],
   "source": [
    "import asyncio\n",
    "import matplotlib.pyplot as plt\n",
    "import numpy as np\n",
    "import os\n",
    "import pandas as pd\n",
    "import sys\n",
    "import time\n",
    "import warnings\n",
    "\n",
    "from astropy.time import Time, TimeDelta\n",
    "from lsst_efd_client.efd_helper import EfdClient, merge_packed_time_series\n",
    "\n",
    "# Ignore the many warning messages from ``merge_packed_time_series``\n",
    "warnings.simplefilter(action=\"ignore\", category=FutureWarning)"
   ]
  }
 ],
 "metadata": {
  "kernelspec": {
   "display_name": "LSST",
   "language": "python",
   "name": "lsst"
  },
  "language_info": {
   "codemirror_mode": {
    "name": "ipython",
    "version": 3
   },
   "file_extension": ".py",
   "mimetype": "text/x-python",
   "name": "python",
   "nbconvert_exporter": "python",
   "pygments_lexer": "ipython3",
   "version": "3.11.7"
  }
 },
 "nbformat": 4,
 "nbformat_minor": 5
}
