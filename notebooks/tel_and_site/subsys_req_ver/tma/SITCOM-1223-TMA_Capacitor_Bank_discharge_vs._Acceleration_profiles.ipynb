{
 "cells": [
  {
   "cell_type": "markdown",
   "id": "a6db2928-1a8c-4c56-b823-d75d65991952",
   "metadata": {},
   "source": [
    "# TMA Capacitor Bank discharge vs. Acceleration profiles \n",
    "# [SITCOM-1223]"
   ]
  },
  {
   "cell_type": "markdown",
   "id": "7ff13bd8-b9ff-458a-a6c0-ccbd53a7bc2b",
   "metadata": {
    "execution": {
     "iopub.execute_input": "2024-02-14T14:17:04.446533Z",
     "iopub.status.busy": "2024-02-14T14:17:04.446208Z",
     "iopub.status.idle": "2024-02-14T14:17:04.449678Z",
     "shell.execute_reply": "2024-02-14T14:17:04.449307Z",
     "shell.execute_reply.started": "2024-02-14T14:17:04.446507Z"
    }
   },
   "source": [
    "Laura Toribio San Cipriano\n",
    "\"Feb. 14, 2024\""
   ]
  },
  {
   "cell_type": "markdown",
   "id": "7c8f1ee3-802f-4c11-9d41-5b182cc76481",
   "metadata": {},
   "source": [
    "https://jira.lsstcorp.org/browse/SITCOM-1223"
   ]
  },
  {
   "cell_type": "markdown",
   "id": "b2b1dc88-117b-4e40-a170-dd915bd48c62",
   "metadata": {
    "execution": {
     "iopub.execute_input": "2024-02-16T12:18:56.356048Z",
     "iopub.status.busy": "2024-02-16T12:18:56.355646Z",
     "iopub.status.idle": "2024-02-16T12:18:56.395555Z",
     "shell.execute_reply": "2024-02-16T12:18:56.395109Z",
     "shell.execute_reply.started": "2024-02-16T12:18:56.356030Z"
    }
   },
   "source": [
    "**Description:**\n",
    "Continue the analysis started in SITCOM-1146. Based on the input from a team review, focusing on aspects below. Another ticket opened to investigate current draw profiles.\n",
    "\n",
    "- Relationship of min power supply voltage and distance of slew\n",
    "- Explore when Az and El moved at same time, rather than separately\n",
    "- Look at Azimuth acceleration vs. power supply voltage\n",
    "\n",
    "Results and analysis to be added to SITCOMTN-110"
   ]
  },
  {
   "cell_type": "markdown",
   "id": "7036903c-829f-4bb2-b01a-fa131a7afeec",
   "metadata": {
    "execution": {
     "iopub.execute_input": "2024-02-16T12:35:06.494481Z",
     "iopub.status.busy": "2024-02-16T12:35:06.494086Z",
     "iopub.status.idle": "2024-02-16T12:35:06.540939Z",
     "shell.execute_reply": "2024-02-16T12:35:06.540579Z",
     "shell.execute_reply.started": "2024-02-16T12:35:06.494465Z"
    }
   },
   "source": [
    "### Setup"
   ]
  },
  {
   "cell_type": "code",
   "execution_count": 33,
   "id": "19d58718-e810-40ff-acda-945b6cbd212a",
   "metadata": {
    "execution": {
     "iopub.execute_input": "2024-02-27T13:22:06.185641Z",
     "iopub.status.busy": "2024-02-27T13:22:06.185350Z",
     "iopub.status.idle": "2024-02-27T13:22:06.248679Z",
     "shell.execute_reply": "2024-02-27T13:22:06.248305Z",
     "shell.execute_reply.started": "2024-02-27T13:22:06.185627Z"
    }
   },
   "outputs": [
    {
     "name": "stdout",
     "output_type": "stream",
     "text": [
      "The autoreload extension is already loaded. To reload it, use:\n",
      "  %reload_ext autoreload\n"
     ]
    }
   ],
   "source": [
    "%matplotlib inline\n",
    "%matplotlib widget\n",
    "%load_ext autoreload\n",
    "%autoreload 2"
   ]
  },
  {
   "cell_type": "code",
   "execution_count": 34,
   "id": "66513868-8595-4eac-9346-f1037aa3684d",
   "metadata": {
    "execution": {
     "iopub.execute_input": "2024-02-27T13:22:12.752774Z",
     "iopub.status.busy": "2024-02-27T13:22:12.752221Z",
     "iopub.status.idle": "2024-02-27T13:22:12.794666Z",
     "shell.execute_reply": "2024-02-27T13:22:12.794211Z",
     "shell.execute_reply.started": "2024-02-27T13:22:12.752757Z"
    }
   },
   "outputs": [],
   "source": [
    "import pandas as pd\n",
    "import numpy as np\n",
    "import matplotlib.pyplot as plt\n",
    "from astropy.io import fits\n",
    "\n",
    "from lsst_efd_client import EfdClient, resample\n",
    "from lsst.summit.utils.tmaUtils import TMAEventMaker, TMAState\n",
    "\n",
    "from astropy.time import Time, TimeDelta\n",
    "from astropy.table import Table\n",
    "from scipy.interpolate import UnivariateSpline"
   ]
  },
  {
   "cell_type": "code",
   "execution_count": 35,
   "id": "cf0c56c6-dbfe-4a93-80c4-2cdfa138099d",
   "metadata": {
    "execution": {
     "iopub.execute_input": "2024-02-27T13:22:16.097944Z",
     "iopub.status.busy": "2024-02-27T13:22:16.097510Z",
     "iopub.status.idle": "2024-02-27T13:22:16.545696Z",
     "shell.execute_reply": "2024-02-27T13:22:16.545239Z",
     "shell.execute_reply.started": "2024-02-27T13:22:16.097927Z"
    }
   },
   "outputs": [],
   "source": [
    "client = EfdClient('usdf_efd')"
   ]
  },
  {
   "cell_type": "code",
   "execution_count": 36,
   "id": "837ad61c-b26c-4178-b788-f24a401d8a40",
   "metadata": {
    "execution": {
     "iopub.execute_input": "2024-02-27T13:22:17.646900Z",
     "iopub.status.busy": "2024-02-27T13:22:17.646324Z",
     "iopub.status.idle": "2024-02-27T13:22:17.688021Z",
     "shell.execute_reply": "2024-02-27T13:22:17.687604Z",
     "shell.execute_reply.started": "2024-02-27T13:22:17.646882Z"
    }
   },
   "outputs": [],
   "source": [
    "tma_power_topic = 'lsst.sal.MTMount.mainPowerSupply'\n",
    "tma_el_topic = 'lsst.sal.MTMount.elevation'\n",
    "tma_az_topic = 'lsst.sal.MTMount.azimuth'"
   ]
  },
  {
   "cell_type": "markdown",
   "id": "7548b05f-1d0d-4c5a-b58e-66bfd6e9ff43",
   "metadata": {},
   "source": [
    "### Get Data"
   ]
  },
  {
   "cell_type": "markdown",
   "id": "763dc9f5-bf40-4f8e-99d3-20c82b1edc02",
   "metadata": {},
   "source": [
    "Getting data corresponding to these: With this dates no!\n",
    " * [BLOCK-227](https://jira.lsstcorp.org/browse/BLOCK-227)"
   ]
  },
  {
   "cell_type": "code",
   "execution_count": 37,
   "id": "45291eff-5742-483e-aeba-b48cef30f7ec",
   "metadata": {
    "execution": {
     "iopub.execute_input": "2024-02-27T13:22:20.605704Z",
     "iopub.status.busy": "2024-02-27T13:22:20.605244Z",
     "iopub.status.idle": "2024-02-27T13:22:20.645792Z",
     "shell.execute_reply": "2024-02-27T13:22:20.645360Z",
     "shell.execute_reply.started": "2024-02-27T13:22:20.605689Z"
    }
   },
   "outputs": [],
   "source": [
    "obs_days = [20231211, 20231212, 20231213, 20231214, 20231215, 20231218]"
   ]
  },
  {
   "cell_type": "code",
   "execution_count": 38,
   "id": "6040f80f-f9c7-4b6d-b866-a37a7d41a243",
   "metadata": {
    "execution": {
     "iopub.execute_input": "2024-02-27T13:22:22.541513Z",
     "iopub.status.busy": "2024-02-27T13:22:22.540954Z",
     "iopub.status.idle": "2024-02-27T13:22:22.582729Z",
     "shell.execute_reply": "2024-02-27T13:22:22.582332Z",
     "shell.execute_reply.started": "2024-02-27T13:22:22.541498Z"
    }
   },
   "outputs": [],
   "source": [
    "def get_events(dayObs):\n",
    "    \"\"\"\n",
    "    Identify slew events for a given dayObs\n",
    "    \"\"\"\n",
    "    eventMaker = TMAEventMaker()\n",
    "    events = eventMaker.getEvents(dayObs)\n",
    "    \n",
    "    # Get lists of slew and track events\n",
    "    slews = [e for e in events if e.type == TMAState.SLEWING]\n",
    "    tracks = [e for e in events if e.type == TMAState.TRACKING]\n",
    "    print(f\"{dayObs}: Found {len(slews)} slews and {len(tracks)} tracks\")\n",
    "    return slews"
   ]
  },
  {
   "cell_type": "code",
   "execution_count": 7,
   "id": "34564d44-e718-4b2b-b18a-2bb81eb34f05",
   "metadata": {
    "execution": {
     "iopub.execute_input": "2024-02-27T13:10:21.497026Z",
     "iopub.status.busy": "2024-02-27T13:10:21.496790Z",
     "iopub.status.idle": "2024-02-27T13:10:21.537932Z",
     "shell.execute_reply": "2024-02-27T13:10:21.537578Z",
     "shell.execute_reply.started": "2024-02-27T13:10:21.497011Z"
    }
   },
   "outputs": [],
   "source": [
    "def get_acc_jerk(time, velocity):\n",
    "    \"\"\"\n",
    "    From velocity data, calculate acceleration and jerk\n",
    "    \"\"\"\n",
    "    smoothing_factor=0.2\n",
    "    kernel_size = 5\n",
    "    kernel = np.ones(kernel_size) / kernel_size\n",
    "    \n",
    "    VelSpline = UnivariateSpline(time, velocity, s=0)\n",
    "    smoothedVel = np.convolve(VelSpline(time), kernel, mode='same')\n",
    "    VelSpline = UnivariateSpline(time, smoothedVel, s=smoothing_factor)\n",
    "\n",
    "    AccSpline = VelSpline.derivative(n=1)\n",
    "    smoothedAcc = np.convolve(AccSpline(time), kernel, mode='same')\n",
    "    AccSpline = UnivariateSpline(time, smoothedAcc, s=smoothing_factor)\n",
    "    \n",
    "    JerkSpline = AccSpline.derivative(n=1) \n",
    "\n",
    "    return VelSpline(time), AccSpline(time), JerkSpline(time)"
   ]
  },
  {
   "cell_type": "code",
   "execution_count": 8,
   "id": "1cca7704-b62d-4d98-92bc-d114f50b528a",
   "metadata": {
    "execution": {
     "iopub.execute_input": "2024-02-27T13:10:25.274947Z",
     "iopub.status.busy": "2024-02-27T13:10:25.274616Z",
     "iopub.status.idle": "2024-02-27T13:10:25.317638Z",
     "shell.execute_reply": "2024-02-27T13:10:25.317285Z",
     "shell.execute_reply.started": "2024-02-27T13:10:25.274933Z"
    }
   },
   "outputs": [],
   "source": [
    "async def data_per_slew(i, slew, debug=False):\n",
    "    \"\"\"\n",
    "    get TMA velocity data and power data for a given slew.\n",
    "\n",
    "    Calculate maximum velocity, acceleration and jerk values and minimum power draw\n",
    "    \"\"\"\n",
    "    data = [i, slew.dayObs, slew.duration, slew.begin, slew.end]\n",
    "    power_df = await client.select_time_series(tma_power_topic, '*', slew.begin, slew.end)\n",
    "    data.append(np.min(power_df.powerSupplyVoltage))\n",
    "\n",
    "    az = await client.select_time_series(tma_az_topic, ['*'], slew.begin, slew.end)\n",
    "    el = await client.select_time_series(tma_el_topic, ['*'], slew.begin, slew.end)\n",
    "    \n",
    "    AzBegin = az.actualPosition.iloc[0]\n",
    "    AzEnd   = az.actualPosition.iloc[-1]\n",
    "    ElBegin = el.actualPosition.iloc[0]\n",
    "    ElEnd   = el.actualPosition.iloc[-1]\n",
    "\n",
    "    AzVel, AzAcc, AzJerk = get_acc_jerk(az.timestamp, az.actualVelocity)\n",
    "    ElVel, ElAcc, ElJerk = get_acc_jerk(el.timestamp, el.actualVelocity)\n",
    "\n",
    "    #theta = calculate_angular_distance(ElBegin, AzBegin, ElEnd, AzEnd)\n",
    "    for var in [AzVel, AzAcc, AzJerk, ElVel, ElAcc, ElJerk, AzBegin, AzEnd, ElBegin, ElEnd]: #, theta\n",
    "        data.append(np.max(np.abs(var)))\n",
    "    if debug:\n",
    "        return az, el, power_df, data\n",
    "    else:\n",
    "        return data"
   ]
  },
  {
   "cell_type": "code",
   "execution_count": 9,
   "id": "cda71afb-bd9a-4c20-9336-e1f928ec5133",
   "metadata": {
    "execution": {
     "iopub.execute_input": "2024-02-27T13:10:27.062110Z",
     "iopub.status.busy": "2024-02-27T13:10:27.061853Z",
     "iopub.status.idle": "2024-02-27T13:13:01.853045Z",
     "shell.execute_reply": "2024-02-27T13:13:01.852515Z",
     "shell.execute_reply.started": "2024-02-27T13:10:27.062095Z"
    }
   },
   "outputs": [
    {
     "data": {
      "text/html": [
       "<pre style=\"margin: 0.1em;\n",
       "padding-left: 0.25em;\n",
       "border-left-style: solid;\n",
       "font-family: var(--jp-code-font-family);\n",
       "font-size: var(--jp-code-font-size);\n",
       "line-height: var(--jp-code-line-height);\n",
       "\"><span style=\"color: var(--jp-warn-color2)\">lsst.summit.utils.tmaUtils</span> <span style=\"color: var(--jp-info-color0)\">INFO</span>: Retrieving mount data for 20231211 from the EFD</pre>"
      ],
      "text/plain": [
       "<IPython.core.display.HTML object>"
      ]
     },
     "metadata": {},
     "output_type": "display_data"
    },
    {
     "name": "stdout",
     "output_type": "stream",
     "text": [
      "20231211: Found 528 slews and 449 tracks\n"
     ]
    },
    {
     "data": {
      "text/html": [
       "<pre style=\"margin: 0.1em;\n",
       "padding-left: 0.25em;\n",
       "border-left-style: solid;\n",
       "font-family: var(--jp-code-font-family);\n",
       "font-size: var(--jp-code-font-size);\n",
       "line-height: var(--jp-code-line-height);\n",
       "\"><span style=\"color: var(--jp-warn-color2)\">lsst.summit.utils.tmaUtils</span> <span style=\"color: var(--jp-info-color0)\">INFO</span>: Retrieving mount data for 20231212 from the EFD</pre>"
      ],
      "text/plain": [
       "<IPython.core.display.HTML object>"
      ]
     },
     "metadata": {},
     "output_type": "display_data"
    },
    {
     "name": "stdout",
     "output_type": "stream",
     "text": [
      "20231212: Found 211 slews and 124 tracks\n"
     ]
    },
    {
     "data": {
      "text/html": [
       "<pre style=\"margin: 0.1em;\n",
       "padding-left: 0.25em;\n",
       "border-left-style: solid;\n",
       "font-family: var(--jp-code-font-family);\n",
       "font-size: var(--jp-code-font-size);\n",
       "line-height: var(--jp-code-line-height);\n",
       "\"><span style=\"color: var(--jp-warn-color2)\">lsst.summit.utils.tmaUtils</span> <span style=\"color: var(--jp-info-color0)\">INFO</span>: Retrieving mount data for 20231213 from the EFD</pre>"
      ],
      "text/plain": [
       "<IPython.core.display.HTML object>"
      ]
     },
     "metadata": {},
     "output_type": "display_data"
    },
    {
     "name": "stdout",
     "output_type": "stream",
     "text": [
      "20231213: Found 75 slews and 2 tracks\n"
     ]
    },
    {
     "data": {
      "text/html": [
       "<pre style=\"margin: 0.1em;\n",
       "padding-left: 0.25em;\n",
       "border-left-style: solid;\n",
       "font-family: var(--jp-code-font-family);\n",
       "font-size: var(--jp-code-font-size);\n",
       "line-height: var(--jp-code-line-height);\n",
       "\"><span style=\"color: var(--jp-warn-color2)\">lsst.summit.utils.tmaUtils</span> <span style=\"color: var(--jp-info-color0)\">INFO</span>: Retrieving mount data for 20231214 from the EFD</pre>"
      ],
      "text/plain": [
       "<IPython.core.display.HTML object>"
      ]
     },
     "metadata": {},
     "output_type": "display_data"
    },
    {
     "name": "stdout",
     "output_type": "stream",
     "text": [
      "20231214: Found 398 slews and 265 tracks\n"
     ]
    },
    {
     "data": {
      "text/html": [
       "<pre style=\"margin: 0.1em;\n",
       "padding-left: 0.25em;\n",
       "border-left-style: solid;\n",
       "font-family: var(--jp-code-font-family);\n",
       "font-size: var(--jp-code-font-size);\n",
       "line-height: var(--jp-code-line-height);\n",
       "\"><span style=\"color: var(--jp-warn-color2)\">lsst.summit.utils.tmaUtils</span> <span style=\"color: var(--jp-info-color0)\">INFO</span>: Retrieving mount data for 20231215 from the EFD</pre>"
      ],
      "text/plain": [
       "<IPython.core.display.HTML object>"
      ]
     },
     "metadata": {},
     "output_type": "display_data"
    },
    {
     "name": "stdout",
     "output_type": "stream",
     "text": [
      "20231215: Found 239 slews and 126 tracks\n"
     ]
    },
    {
     "data": {
      "text/html": [
       "<pre style=\"margin: 0.1em;\n",
       "padding-left: 0.25em;\n",
       "border-left-style: solid;\n",
       "font-family: var(--jp-code-font-family);\n",
       "font-size: var(--jp-code-font-size);\n",
       "line-height: var(--jp-code-line-height);\n",
       "\"><span style=\"color: var(--jp-warn-color2)\">lsst.summit.utils.tmaUtils</span> <span style=\"color: var(--jp-info-color0)\">INFO</span>: Retrieving mount data for 20231218 from the EFD</pre>"
      ],
      "text/plain": [
       "<IPython.core.display.HTML object>"
      ]
     },
     "metadata": {},
     "output_type": "display_data"
    },
    {
     "name": "stdout",
     "output_type": "stream",
     "text": [
      "20231218: Found 227 slews and 39 tracks\n"
     ]
    }
   ],
   "source": [
    "Data = []\n",
    "failed = []\n",
    "data_names = ['slew_id','dayobs','duration','begin','end','min_power','az_max_vel','az_max_acc','az_max_jerk','el_max_vel','el_max_acc','el_max_jerk', 'az_pos_begin', 'az_pos_end', 'el_pos_begin', 'el_pos_end'] #, 'dis_slew'\n",
    "for dayObs in obs_days:\n",
    "    try:\n",
    "        slews = get_events(dayObs)\n",
    "    except:\n",
    "        print(dayObs)\n",
    "    for i, slew in enumerate(slews):\n",
    "        try:\n",
    "            d = await data_per_slew(i, slew)\n",
    "            Data.append(d)\n",
    "        except Exception as e:\n",
    "            failed.append(i)\n",
    "            #print(i, e)\n",
    "df = pd.DataFrame(np.vstack(Data),columns=data_names)\n"
   ]
  },
  {
   "cell_type": "code",
   "execution_count": 10,
   "id": "36a0fbcc-5d88-4c1a-afc6-ecef8abba4a7",
   "metadata": {
    "execution": {
     "iopub.execute_input": "2024-02-27T13:13:02.084474Z",
     "iopub.status.busy": "2024-02-27T13:13:02.084342Z",
     "iopub.status.idle": "2024-02-27T13:13:02.137054Z",
     "shell.execute_reply": "2024-02-27T13:13:02.136681Z",
     "shell.execute_reply.started": "2024-02-27T13:13:02.084462Z"
    }
   },
   "outputs": [],
   "source": [
    "#Remove extreme outliers\n",
    "df = df[(df.el_max_jerk < 100)&(df.duration<3000)]"
   ]
  },
  {
   "cell_type": "markdown",
   "id": "61ac92fc-1c16-4102-9b08-094525142f7e",
   "metadata": {},
   "source": [
    "### Analysis"
   ]
  },
  {
   "cell_type": "markdown",
   "id": "406fed55-1613-4a73-a6c3-89441603d876",
   "metadata": {},
   "source": [
    "#### Relationship of min power supply voltage and distance of slew"
   ]
  },
  {
   "cell_type": "markdown",
   "id": "ab72bc6c-dd0c-46fa-bb6d-89179d1a7bbf",
   "metadata": {},
   "source": [
    "We have investigated the relationship between the minimum power supply voltage and the distance of slew. \n",
    "\n",
    "Initially, we attempted to calculate the slew distance using the formula for angular distance. In this analysis, we included an explanation of the formula and the function `calculate_angular_distance`, although ultimately, it was not used due to errors it generated.\n",
    "\n",
    "Therefore, to analyze the slew distance, we calculated the azimuth and elevation distances. For each observation day, we examined the scatter of the differences in azimuth and elevation at the start and end of the slew with their respective minimum supply power voltage. Additionally, we created histograms of these differences in the slew and of the minimum supply power voltage used.\n"
   ]
  },
  {
   "cell_type": "markdown",
   "id": "d18c07d6-f9b0-429e-9e97-133f6dbb33fc",
   "metadata": {},
   "source": [
    "##### Angular Distance Formula\n",
    "\n",
    "WARNING: We have not been able to measure the distance in this way because the angles are too small and it gave us an error in the calculation.\n",
    "\n",
    "The formula used to calculate the angular distance between two points on the celestial sphere is based on the Spherical Law of Cosines.\n",
    "\n",
    "\\[ \\cos(\\theta) = \\sin(\\text{elevation}_1) \\sin(\\text{elevation}_2) + \\cos(\\text{elevation}_1) \\cos(\\text{elevation}_2) \\cos(\\text{azimuth}_1 - \\text{azimuth}_2) \\]\n",
    "\n",
    "Where:\n",
    "- \\( \\theta \\) is the angular distance between the two points on the celestial sphere.\n",
    "- \\( \\text{elevation}_1 \\) and \\( \\text{elevation}_2 \\) are the elevations of the two points, respectively, measured in radians.\n",
    "- \\( \\text{azimuth}_1 \\) and \\( \\text{azimuth}_2 \\) are the azimuths of the two points, respectively, measured in radians."
   ]
  },
  {
   "cell_type": "code",
   "execution_count": 11,
   "id": "43ae3b6b-ea9b-4a01-b5b9-c7887e29369b",
   "metadata": {
    "execution": {
     "iopub.execute_input": "2024-02-27T13:14:13.913162Z",
     "iopub.status.busy": "2024-02-27T13:14:13.912588Z",
     "iopub.status.idle": "2024-02-27T13:14:13.965026Z",
     "shell.execute_reply": "2024-02-27T13:14:13.964687Z",
     "shell.execute_reply.started": "2024-02-27T13:14:13.913145Z"
    }
   },
   "outputs": [],
   "source": [
    "# Function to calculate the angular distance between two points in the celestial sphere\n",
    "def calculate_angular_distance(el_start, az_start, el_end, az_end):\n",
    "\n",
    "    # Convert elevation and azimuth to radians\n",
    "    el_start_rad = np.radians(el_start)\n",
    "    az_start_rad = np.radians(az_start)\n",
    "    el_end_rad = np.radians(el_end)\n",
    "    a_end_rad = np.radians(az_end)\n",
    "    \n",
    "    # Calculate the angular distance using the cosine formula\n",
    "    cos_theta = np.sin(el_start_rad) * np.sin(el_end_rad) + np.cos(el_start_rad) * np.cos(el_end_rad) * np.cos(az_start_rad - az_end_rad)\n",
    "    \n",
    "    # Calculate the angle (in radians) between the two points\n",
    "    theta_rad = np.arccos(cos_theta)\n",
    "\n",
    "    # Convert from radians to degrees and return the result\n",
    "    return np.degrees(theta_rad)\n"
   ]
  },
  {
   "cell_type": "code",
   "execution_count": 23,
   "id": "4a0fdf1d-fca1-40e4-883d-e85c72f27dad",
   "metadata": {
    "execution": {
     "iopub.execute_input": "2024-02-27T13:17:16.085338Z",
     "iopub.status.busy": "2024-02-27T13:17:16.084870Z",
     "iopub.status.idle": "2024-02-27T13:17:16.127881Z",
     "shell.execute_reply": "2024-02-27T13:17:16.127541Z",
     "shell.execute_reply.started": "2024-02-27T13:17:16.085323Z"
    }
   },
   "outputs": [],
   "source": [
    "def plot_spv_vs_dist(df_, title_date, name):\n",
    "    fig, (ax1) = plt.subplots(figsize=(8, 4))\n",
    "\n",
    "    # Scatter plot of slew distances vs. min_power\n",
    "    ax1.plot((df_.az_pos_begin - df_.az_pos_end), df_.min_power, 'x', color='C0', label='az')\n",
    "    ax1.plot((df_.el_pos_begin - df_.el_pos_end), df_.min_power, 'x',  alpha=0.7, color='C1', label='el')\n",
    "    ax1.axhline(575, ls='--', c='k',label='voltage drop limit')\n",
    "    ax1.legend()\n",
    "    ax1.set_xlabel('Slew distances (az/el)')\n",
    "    ax1.set_ylabel('min supplyPowerVoltage (V)')\n",
    "    ax1.set_title(f'Min. TMA voltage vs. distance of slew for {title_date}')\n",
    "\n",
    "    fig2, (ax2, ax3) = plt.subplots(1, 2, figsize=(12, 4))\n",
    "    # Histogram of absolute values of position differences\n",
    "    ax2.hist(df_.az_pos_begin - df_.az_pos_end, color='C0', label='az')\n",
    "    ax2.hist(df_.el_pos_begin - df_.el_pos_end, color='C1', alpha=0.7, label='el')\n",
    "    ax2.legend()\n",
    "    ax2.set_xlabel('Slew distances (az/el)')\n",
    "    ax2.set_ylabel('Frequency')\n",
    "    ax2.set_title(f'Slew distance Histogram for {title_date}')\n",
    "    \n",
    "    # Histogram of min_power\n",
    "    ax3.hist(df_.min_power, bins=20, color='C0', edgecolor='black', alpha=0.5)\n",
    "    ax3.axvline(575, ls='--', c='k', label='voltage drop limit')\n",
    "    ax3.legend()\n",
    "    ax3.set_xlabel('min supplyPowerVoltage (V)')\n",
    "    ax3.set_ylabel('Frequency')\n",
    "    ax3.set_title(f'Min. TMA voltage histogram for {title_date}')\n",
    "    \n",
    "    plt.tight_layout()  \n",
    "    plt.savefig(f'{name}.png')\n",
    "    plt.show()"
   ]
  },
  {
   "cell_type": "code",
   "execution_count": null,
   "id": "d06aad36-444a-4edc-bbc7-84e8146cba70",
   "metadata": {
    "execution": {
     "iopub.execute_input": "2024-02-27T13:22:29.375092Z",
     "iopub.status.busy": "2024-02-27T13:22:29.374487Z"
    }
   },
   "outputs": [
    {
     "data": {
      "application/vnd.jupyter.widget-view+json": {
       "model_id": "6ccc102c69494dfdb58ebe1361dc143a",
       "version_major": 2,
       "version_minor": 0
      },
      "image/png": "[encoded data removed]",
      "text/html": [
       "\n",
       "            <div style=\"display: inline-block;\">\n",
       "                <div class=\"jupyter-widgets widget-label\" style=\"text-align: center;\">\n",
       "                    Figure\n",
       "                </div>\n",
       "                <img src='data:image/png;base64,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' width=800.0/>\n",
       "            </div>\n",
       "        "
      ],
      "text/plain": [
       "Canvas(toolbar=Toolbar(toolitems=[('Home', 'Reset original view', 'home', 'home'), ('Back', 'Back to previous …"
      ]
     },
     "metadata": {},
     "output_type": "display_data"
    }
   ],
   "source": [
    "for dayObs in np.unique(df.dayobs):\n",
    "    df_ = df[df.dayobs == dayObs]\n",
    "    plot_spv_vs_dist(df_, dayObs,'tma_perf_feb_2024')"
   ]
  },
  {
   "cell_type": "markdown",
   "id": "a190b326-acf8-41ef-8970-af50efae21aa",
   "metadata": {},
   "source": [
    "#### Explore when Az and El moved at same time, rather than separately"
   ]
  },
  {
   "cell_type": "markdown",
   "id": "35bc3c1f-1d9c-4a08-910f-852c73204a16",
   "metadata": {},
   "source": [
    "We are going to  analyze the data for different days to identify instances when the telescope moves simultaneously in both azimuth and elevation.\n",
    "\n",
    "To accomplish this, we'll initially compare the *timestamp*  at the beginning and end of each slew for both azimuth and elevation.\n",
    "\n",
    "We've categorized our observations into two groups: instances where the telescope moves in azimuth and elevation simultaneously, and instances where it doesn't.\n",
    "\n",
    "We observed that in all cases, the start and end times of the movements in azimuth and elevation were different. However, upon closer examination, we found that these differences were consistently minimal, typically less than 0.1 seconds."
   ]
  },
  {
   "cell_type": "code",
   "execution_count": 27,
   "id": "18daad65-ab85-49be-b6b3-546a8dfd2faa",
   "metadata": {
    "execution": {
     "iopub.execute_input": "2024-02-27T13:18:40.980471Z",
     "iopub.status.busy": "2024-02-27T13:18:40.979924Z",
     "iopub.status.idle": "2024-02-27T13:18:41.025925Z",
     "shell.execute_reply": "2024-02-27T13:18:41.025548Z",
     "shell.execute_reply.started": "2024-02-27T13:18:40.980456Z"
    }
   },
   "outputs": [],
   "source": [
    "def move_az_el(az, el):\n",
    "    if not az.empty and not el.empty:\n",
    "        init = az.timestamp.iloc[0] == el.timestamp.iloc[0]\n",
    "        end = az.timestamp.iloc[-1] == el.timestamp.iloc[-1]\n",
    "        return init, end\n",
    "    else:\n",
    "        # Empty Data\n",
    "        return False, False"
   ]
  },
  {
   "cell_type": "code",
   "execution_count": 28,
   "id": "90aaf540-dbb5-4356-a1a4-72faa2f71780",
   "metadata": {
    "execution": {
     "iopub.execute_input": "2024-02-27T13:18:42.443477Z",
     "iopub.status.busy": "2024-02-27T13:18:42.443253Z",
     "iopub.status.idle": "2024-02-27T13:18:42.484339Z",
     "shell.execute_reply": "2024-02-27T13:18:42.484011Z",
     "shell.execute_reply.started": "2024-02-27T13:18:42.443464Z"
    }
   },
   "outputs": [],
   "source": [
    "def plot_az_el_slew_analysis(dayObs, simultaneous_movements, No_simultaneous_movements, init_diffs, end_diffs):\n",
    "    fig, axs = plt.subplots(1, 2, figsize=(10, 5))\n",
    "\n",
    "    labels = ['At same time', 'No Simultaneous']\n",
    "    counts = [len(simultaneous_movements), len(No_simultaneous_movements)]\n",
    "\n",
    "    axs[0].bar(labels, counts)\n",
    "    axs[0].set_title(f\"Az and El moved at same time for: {dayObs}\")\n",
    "    axs[0].set_xlabel('Movement Type')\n",
    "    axs[0].set_ylabel('Num of slews')\n",
    "\n",
    "    # Values None\n",
    "    init_diffs = [diff for diff in init_diffs if diff is not None]\n",
    "    end_diffs = [diff for diff in end_diffs if diff is not None]\n",
    "\n",
    "    axs[1].hist(init_diffs, alpha=0.5, label='Init Difference')\n",
    "    axs[1].hist(end_diffs, alpha=0.5, label='End Difference')\n",
    "    axs[1].set_title(f\"Time Differences at Slew Start and End for: {dayObs}\")\n",
    "    axs[1].set_xlabel('Time Difference (s)')\n",
    "    axs[1].set_ylabel('Frequency')\n",
    "    axs[1].legend()\n",
    "\n",
    "    plt.tight_layout()\n",
    "    plt.show()"
   ]
  },
  {
   "cell_type": "code",
   "execution_count": 29,
   "id": "47d51210-38b3-4839-ab3a-2a7b9fe35d62",
   "metadata": {
    "execution": {
     "iopub.execute_input": "2024-02-27T13:18:44.964634Z",
     "iopub.status.busy": "2024-02-27T13:18:44.964253Z",
     "iopub.status.idle": "2024-02-27T13:21:00.995523Z",
     "shell.execute_reply": "2024-02-27T13:21:00.995097Z",
     "shell.execute_reply.started": "2024-02-27T13:18:44.964619Z"
    }
   },
   "outputs": [
    {
     "data": {
      "text/html": [
       "<pre style=\"margin: 0.1em;\n",
       "padding-left: 0.25em;\n",
       "border-left-style: solid;\n",
       "font-family: var(--jp-code-font-family);\n",
       "font-size: var(--jp-code-font-size);\n",
       "line-height: var(--jp-code-line-height);\n",
       "\"><span style=\"color: var(--jp-warn-color2)\">lsst.summit.utils.tmaUtils</span> <span style=\"color: var(--jp-info-color0)\">INFO</span>: Retrieving mount data for 20231211 from the EFD</pre>"
      ],
      "text/plain": [
       "<IPython.core.display.HTML object>"
      ]
     },
     "metadata": {},
     "output_type": "display_data"
    },
    {
     "name": "stdout",
     "output_type": "stream",
     "text": [
      "20231211: Found 528 slews and 449 tracks\n"
     ]
    },
    {
     "data": {
      "text/html": [
       "<pre style=\"margin: 0.1em;\n",
       "padding-left: 0.25em;\n",
       "border-left-style: solid;\n",
       "font-family: var(--jp-code-font-family);\n",
       "font-size: var(--jp-code-font-size);\n",
       "line-height: var(--jp-code-line-height);\n",
       "\"><span style=\"color: var(--jp-warn-color2)\">lsst.summit.utils.tmaUtils</span> <span style=\"color: var(--jp-info-color0)\">INFO</span>: Retrieving mount data for 20231212 from the EFD</pre>"
      ],
      "text/plain": [
       "<IPython.core.display.HTML object>"
      ]
     },
     "metadata": {},
     "output_type": "display_data"
    },
    {
     "name": "stdout",
     "output_type": "stream",
     "text": [
      "20231212: Found 211 slews and 124 tracks\n"
     ]
    },
    {
     "data": {
      "text/html": [
       "<pre style=\"margin: 0.1em;\n",
       "padding-left: 0.25em;\n",
       "border-left-style: solid;\n",
       "font-family: var(--jp-code-font-family);\n",
       "font-size: var(--jp-code-font-size);\n",
       "line-height: var(--jp-code-line-height);\n",
       "\"><span style=\"color: var(--jp-warn-color2)\">lsst.summit.utils.tmaUtils</span> <span style=\"color: var(--jp-info-color0)\">INFO</span>: Retrieving mount data for 20231213 from the EFD</pre>"
      ],
      "text/plain": [
       "<IPython.core.display.HTML object>"
      ]
     },
     "metadata": {},
     "output_type": "display_data"
    },
    {
     "name": "stdout",
     "output_type": "stream",
     "text": [
      "20231213: Found 75 slews and 2 tracks\n"
     ]
    },
    {
     "data": {
      "text/html": [
       "<pre style=\"margin: 0.1em;\n",
       "padding-left: 0.25em;\n",
       "border-left-style: solid;\n",
       "font-family: var(--jp-code-font-family);\n",
       "font-size: var(--jp-code-font-size);\n",
       "line-height: var(--jp-code-line-height);\n",
       "\"><span style=\"color: var(--jp-warn-color2)\">lsst.summit.utils.tmaUtils</span> <span style=\"color: var(--jp-info-color0)\">INFO</span>: Retrieving mount data for 20231214 from the EFD</pre>"
      ],
      "text/plain": [
       "<IPython.core.display.HTML object>"
      ]
     },
     "metadata": {},
     "output_type": "display_data"
    },
    {
     "name": "stdout",
     "output_type": "stream",
     "text": [
      "20231214: Found 398 slews and 265 tracks\n"
     ]
    },
    {
     "data": {
      "text/html": [
       "<pre style=\"margin: 0.1em;\n",
       "padding-left: 0.25em;\n",
       "border-left-style: solid;\n",
       "font-family: var(--jp-code-font-family);\n",
       "font-size: var(--jp-code-font-size);\n",
       "line-height: var(--jp-code-line-height);\n",
       "\"><span style=\"color: var(--jp-warn-color2)\">lsst.summit.utils.tmaUtils</span> <span style=\"color: var(--jp-info-color0)\">INFO</span>: Retrieving mount data for 20231215 from the EFD</pre>"
      ],
      "text/plain": [
       "<IPython.core.display.HTML object>"
      ]
     },
     "metadata": {},
     "output_type": "display_data"
    },
    {
     "name": "stdout",
     "output_type": "stream",
     "text": [
      "20231215: Found 239 slews and 126 tracks\n"
     ]
    },
    {
     "data": {
      "text/html": [
       "<pre style=\"margin: 0.1em;\n",
       "padding-left: 0.25em;\n",
       "border-left-style: solid;\n",
       "font-family: var(--jp-code-font-family);\n",
       "font-size: var(--jp-code-font-size);\n",
       "line-height: var(--jp-code-line-height);\n",
       "\"><span style=\"color: var(--jp-warn-color2)\">lsst.summit.utils.tmaUtils</span> <span style=\"color: var(--jp-info-color0)\">INFO</span>: Retrieving mount data for 20231218 from the EFD</pre>"
      ],
      "text/plain": [
       "<IPython.core.display.HTML object>"
      ]
     },
     "metadata": {},
     "output_type": "display_data"
    },
    {
     "name": "stdout",
     "output_type": "stream",
     "text": [
      "20231218: Found 227 slews and 39 tracks\n"
     ]
    }
   ],
   "source": [
    "for dayObs in obs_days:\n",
    "    simultaneous_movements = []    # Save slews with simultaneous movements in az and el.\n",
    "    No_simultaneous_movements = [] # Save slews with NO simultaneous movements in az and el.\n",
    "    init_diffs = [] # Save difference in time (s) of az and el in the start of the slews.\n",
    "    end_diffs = []  # Save difference in time (s) of az and el in the end of the slews.\n",
    "    try:\n",
    "        slews = get_events(dayObs)\n",
    "    except:\n",
    "        print(dayObs)\n",
    "    for i, slew in enumerate(slews):\n",
    "        az = await client.select_time_series(tma_az_topic, ['*'], slew.begin, slew.end)\n",
    "        el = await client.select_time_series(tma_el_topic, ['*'], slew.begin, slew.end)\n",
    "        init, end = move_az_el(az, el)\n",
    "        if init and end:\n",
    "            simultaneous_movements.append(i)\n",
    "        else:\n",
    "            No_simultaneous_movements.append(i)\n",
    "            az_diff = az.timestamp.iloc[0] - el.timestamp.iloc[0] if not az.empty and not el.empty else None\n",
    "            el_diff = az.timestamp.iloc[-1] - el.timestamp.iloc[-1] if not az.empty and not el.empty else None\n",
    "            init_diffs.append(az_diff)\n",
    "            end_diffs.append(el_diff)\n",
    "        \n",
    "    plot_az_el_slew_analysis(dayObs, simultaneous_movements, No_simultaneous_movements, init_diffs, end_diffs)\n"
   ]
  },
  {
   "cell_type": "markdown",
   "id": "1bb5a617-fc34-48c3-baed-5cbe5b326fb3",
   "metadata": {},
   "source": [
    "#### Look at Azimuth acceleration vs. power supply voltage"
   ]
  },
  {
   "cell_type": "markdown",
   "id": "8ead846c-784f-44c3-bee3-ff6221753cbe",
   "metadata": {},
   "source": [
    "We have analyzed the relationship between velocity and mass acceleration with respect to the minimum supply power voltage, as well as the slew distance for azimuth. \n",
    "\n",
    "Subsequently, we selected those slews with a supply power voltage lower than 575 (V) and analyzed the slew distance.\n"
   ]
  },
  {
   "cell_type": "code",
   "execution_count": 30,
   "id": "00664f30-2a8e-43b5-8b1b-1ba0150b3d8f",
   "metadata": {
    "execution": {
     "iopub.execute_input": "2024-02-27T13:21:29.499958Z",
     "iopub.status.busy": "2024-02-27T13:21:29.499437Z",
     "iopub.status.idle": "2024-02-27T13:21:29.542339Z",
     "shell.execute_reply": "2024-02-27T13:21:29.541941Z",
     "shell.execute_reply.started": "2024-02-27T13:21:29.499942Z"
    }
   },
   "outputs": [],
   "source": [
    "def plots_spv_vs_az(df_, title_date,name):\n",
    "    fig, (ax1, ax2, ax3) = plt.subplots(1,3, sharey=True, figsize=(12, 4))\n",
    "\n",
    "    ax1.plot(df_.az_max_vel, df_.min_power,'x',label='azVel')\n",
    "    #ax1.plot(df_.el_max_vel, df_.min_power,'x', label='elVel')\n",
    "    ax1.axhline(575, ls='--', c='k',label='voltage drop limit')\n",
    "    ax1.legend()\n",
    "    #ax1.set_xlim(-1,12)\n",
    "    ax1.set_xlabel('max Velocity (m/s)')\n",
    "    ax1.set_ylabel('min supplyPowerVoltage (V)')\n",
    "\n",
    "    ax2.plot(df_.az_max_acc, df_.min_power,'x',label='azAcc')\n",
    "    #ax2.plot(df_.el_max_acc, df_.min_power,'x',label='elAcc')\n",
    "    ax2.axhline(575, ls='--', c='k',label='voltage drop limit')\n",
    "    ax2.legend()\n",
    "    #ax2.set_xlim(-1,25)\n",
    "    ax2.set_xlabel('max Acceleration $(m/s^{2})$')\n",
    "    #ax2.set_ylabel('min supplyPowerVoltage (V)')\n",
    "               \n",
    "    ax3.plot((df_.az_pos_begin - df_.az_pos_end), df_.min_power,'x',label='azSlewDis')\n",
    "    #ax3.plot(df_.el_max_jerk, df_.min_power,'x', label='elJerk')\n",
    "    ax3.axhline(575, ls='--', c='k',label='voltage drop limit')\n",
    "    ax3.legend()\n",
    "    #ax3.set_xlim(-100,800)\n",
    "    ax3.set_xlabel('Slew distances')\n",
    "    #ax3.set_ylabel('min supplyPowerVoltage (V)')\n",
    "               \n",
    "    fig.suptitle(f'Min. TMA voltage vs. TMA Performance for {title_date}')\n",
    "    fig.tight_layout()\n",
    "    plt.savefig(f'{name}.png')"
   ]
  },
  {
   "cell_type": "code",
   "execution_count": 31,
   "id": "9d2d6156-621d-4cf3-b5c4-f6b409cbf945",
   "metadata": {
    "execution": {
     "iopub.execute_input": "2024-02-27T13:21:33.011584Z",
     "iopub.status.busy": "2024-02-27T13:21:33.011034Z",
     "iopub.status.idle": "2024-02-27T13:21:33.053087Z",
     "shell.execute_reply": "2024-02-27T13:21:33.052694Z",
     "shell.execute_reply.started": "2024-02-27T13:21:33.011565Z"
    }
   },
   "outputs": [],
   "source": [
    "def plots_az(df_, title_date,name):\n",
    "    df_ = df_[(df_.min_power<575)]\n",
    "    \n",
    "    fig, (ax1, ax2) = plt.subplots(1, 2, sharey=False, figsize=(12, 4))\n",
    "     \n",
    "    ax1.plot((df_.az_pos_begin - df_.az_pos_end), df_.min_power,'x',label='azSlewDis for Min. Power < 575V')\n",
    "    ax1.axhline(575, ls='--', c='k',label='voltage drop limit')\n",
    "    ax1.legend()\n",
    "    ax1.set_xlabel('Slew distances')\n",
    "    ax1.set_ylabel('min supplyPowerVoltage (V)')\n",
    "    \n",
    "    bins = np.linspace(-150, +150, 25)\n",
    "    ax2.hist(df_.az_pos_begin - df_.az_pos_end, alpha=0.5, bins=bins, color='C0')\n",
    "    ax2.hist(df_.az_pos_begin - df_.az_pos_end, alpha=0.7, bins=bins, label='Min. Power < 575V')  \n",
    "    ax2.set_xlabel('Slew distances')\n",
    "    ax2.set_ylabel('Azimuth')\n",
    "\n",
    "    \n",
    "    fig.suptitle(f'Min. TMA voltage vs. TMA Performance for {title_date} for min_power<575')\n",
    "    fig.tight_layout()\n",
    "    plt.savefig(f'{name}.png')"
   ]
  },
  {
   "cell_type": "code",
   "execution_count": 32,
   "id": "193195a1-a928-4929-9fc6-9dedb5a9ba05",
   "metadata": {
    "execution": {
     "iopub.execute_input": "2024-02-27T13:21:35.328114Z",
     "iopub.status.busy": "2024-02-27T13:21:35.327454Z",
     "iopub.status.idle": "2024-02-27T13:21:38.023528Z",
     "shell.execute_reply": "2024-02-27T13:21:38.023064Z",
     "shell.execute_reply.started": "2024-02-27T13:21:35.328097Z"
    }
   },
   "outputs": [],
   "source": [
    "for dayObs in np.unique(df.dayobs):\n",
    "    df_ = df[df.dayobs == dayObs]\n",
    "    plots_spv_vs_az(df_, dayObs,f'tma_perf_{dayObs}')\n",
    "    plots_az(df_, dayObs,f'tma_perf_{dayObs}')"
   ]
  },
  {
   "cell_type": "code",
   "execution_count": null,
   "id": "728ec63f-e0f8-4e5a-9216-4d0196488c3b",
   "metadata": {},
   "outputs": [],
   "source": []
  }
 ],
 "metadata": {
  "kernelspec": {
   "display_name": "LSST",
   "language": "python",
   "name": "lsst"
  },
  "language_info": {
   "codemirror_mode": {
    "name": "ipython",
    "version": 3
   },
   "file_extension": ".py",
   "mimetype": "text/x-python",
   "name": "python",
   "nbconvert_exporter": "python",
   "pygments_lexer": "ipython3",
   "version": "3.11.7"
  }
 },
 "nbformat": 4,
 "nbformat_minor": 5
}
