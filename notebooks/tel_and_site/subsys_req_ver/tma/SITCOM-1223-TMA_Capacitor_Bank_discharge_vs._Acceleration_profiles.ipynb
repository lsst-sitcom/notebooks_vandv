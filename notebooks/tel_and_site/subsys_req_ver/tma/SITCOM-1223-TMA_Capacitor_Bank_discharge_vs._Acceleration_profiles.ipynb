{
 "cells": [
  {
   "cell_type": "markdown",
   "id": "a6db2928-1a8c-4c56-b823-d75d65991952",
   "metadata": {},
   "source": [
    "# TMA Capacitor Bank discharge vs. Acceleration profiles \n",
    "# [SITCOM-1223]"
   ]
  },
  {
   "cell_type": "markdown",
   "id": "7ff13bd8-b9ff-458a-a6c0-ccbd53a7bc2b",
   "metadata": {
    "execution": {
     "iopub.execute_input": "2024-02-14T14:17:04.446533Z",
     "iopub.status.busy": "2024-02-14T14:17:04.446208Z",
     "iopub.status.idle": "2024-02-14T14:17:04.449678Z",
     "shell.execute_reply": "2024-02-14T14:17:04.449307Z",
     "shell.execute_reply.started": "2024-02-14T14:17:04.446507Z"
    }
   },
   "source": [
    "Laura Toribio San Cipriano\n",
    "\"Feb. 14, 2024\""
   ]
  },
  {
   "cell_type": "markdown",
   "id": "7c8f1ee3-802f-4c11-9d41-5b182cc76481",
   "metadata": {},
   "source": [
    "https://jira.lsstcorp.org/browse/SITCOM-1223"
   ]
  },
  {
   "cell_type": "markdown",
   "id": "b2b1dc88-117b-4e40-a170-dd915bd48c62",
   "metadata": {
    "execution": {
     "iopub.execute_input": "2024-02-16T12:18:56.356048Z",
     "iopub.status.busy": "2024-02-16T12:18:56.355646Z",
     "iopub.status.idle": "2024-02-16T12:18:56.395555Z",
     "shell.execute_reply": "2024-02-16T12:18:56.395109Z",
     "shell.execute_reply.started": "2024-02-16T12:18:56.356030Z"
    }
   },
   "source": [
    "**Description:**\n",
    "Continue the analysis started in SITCOM-1146. Based on the input from a team review, focusing on aspects below. Another ticket opened to investigate current draw profiles.\n",
    "\n",
    "- Relationship of min power supply voltage and distance of slew\n",
    "- Explore when Az and El moved at same time, rather than separately\n",
    "- Look at Azimuth acceleration vs. power supply voltage\n",
    "\n",
    "Results and analysis to be added to SITCOMTN-110"
   ]
  },
  {
   "cell_type": "markdown",
   "id": "7036903c-829f-4bb2-b01a-fa131a7afeec",
   "metadata": {
    "execution": {
     "iopub.execute_input": "2024-02-16T12:35:06.494481Z",
     "iopub.status.busy": "2024-02-16T12:35:06.494086Z",
     "iopub.status.idle": "2024-02-16T12:35:06.540939Z",
     "shell.execute_reply": "2024-02-16T12:35:06.540579Z",
     "shell.execute_reply.started": "2024-02-16T12:35:06.494465Z"
    }
   },
   "source": [
    "### Setup"
   ]
  },
  {
   "cell_type": "code",
   "execution_count": null,
   "id": "19d58718-e810-40ff-acda-945b6cbd212a",
   "metadata": {},
   "outputs": [],
   "source": [
    "%matplotlib inline\n",
    "%load_ext autoreload\n",
    "%autoreload 2"
   ]
  },
  {
   "cell_type": "code",
   "execution_count": null,
   "id": "66513868-8595-4eac-9346-f1037aa3684d",
   "metadata": {},
   "outputs": [],
   "source": [
    "import pandas as pd\n",
    "import numpy as np\n",
    "import matplotlib.pyplot as plt\n",
    "from astropy.io import fits\n",
    "\n",
    "from lsst_efd_client import EfdClient, resample\n",
    "from lsst.summit.utils.tmaUtils import TMAEventMaker, TMAState\n",
    "\n",
    "from astropy.time import Time, TimeDelta\n",
    "from astropy.table import Table\n",
    "from scipy.interpolate import UnivariateSpline"
   ]
  },
  {
   "cell_type": "code",
   "execution_count": null,
   "id": "cf0c56c6-dbfe-4a93-80c4-2cdfa138099d",
   "metadata": {},
   "outputs": [],
   "source": [
    "client = EfdClient('usdf_efd')"
   ]
  },
  {
   "cell_type": "code",
   "execution_count": null,
   "id": "837ad61c-b26c-4178-b788-f24a401d8a40",
   "metadata": {},
   "outputs": [],
   "source": [
    "tma_power_topic = 'lsst.sal.MTMount.mainPowerSupply'\n",
    "tma_el_topic = 'lsst.sal.MTMount.elevation'\n",
    "tma_az_topic = 'lsst.sal.MTMount.azimuth'"
   ]
  },
  {
   "cell_type": "markdown",
   "id": "7548b05f-1d0d-4c5a-b58e-66bfd6e9ff43",
   "metadata": {},
   "source": [
    "### Get Data"
   ]
  },
  {
   "cell_type": "markdown",
   "id": "763dc9f5-bf40-4f8e-99d3-20c82b1edc02",
   "metadata": {},
   "source": [
    "Getting data corresponding to these:\n",
    " * [BLOCK-160](https://jira.lsstcorp.org/browse/BLOCK-160)\n",
    " * [BLOCK-164](https://jira.lsstcorp.org/browse/BLOCK-164)"
   ]
  },
  {
   "cell_type": "code",
   "execution_count": null,
   "id": "45291eff-5742-483e-aeba-b48cef30f7ec",
   "metadata": {},
   "outputs": [],
   "source": [
    "obs_days = [20231211, 20231212, 20231213, 20231214, 20231215, 20231218]"
   ]
  },
  {
   "cell_type": "code",
   "execution_count": null,
   "id": "6040f80f-f9c7-4b6d-b866-a37a7d41a243",
   "metadata": {},
   "outputs": [],
   "source": [
    "def get_events(dayObs):\n",
    "    \"\"\"\n",
    "    Identify slew events for a given dayObs\n",
    "    \"\"\"\n",
    "    eventMaker = TMAEventMaker()\n",
    "    events = eventMaker.getEvents(dayObs)\n",
    "    \n",
    "    # Get lists of slew and track events\n",
    "    slews = [e for e in events if e.type == TMAState.SLEWING]\n",
    "    tracks = [e for e in events if e.type == TMAState.TRACKING]\n",
    "    print(f\"{dayObs}: Found {len(slews)} slews and {len(tracks)} tracks\")\n",
    "    return slews"
   ]
  },
  {
   "cell_type": "code",
   "execution_count": null,
   "id": "34564d44-e718-4b2b-b18a-2bb81eb34f05",
   "metadata": {},
   "outputs": [],
   "source": [
    "def get_acc_jerk(time, velocity):\n",
    "    \"\"\"\n",
    "    From velocity data, calculate acceleration and jerk\n",
    "    \"\"\"\n",
    "    smoothing_factor=0.2\n",
    "    kernel_size = 5\n",
    "    kernel = np.ones(kernel_size) / kernel_size\n",
    "    \n",
    "    VelSpline = UnivariateSpline(time, velocity, s=0)\n",
    "    smoothedVel = np.convolve(VelSpline(time), kernel, mode='same')\n",
    "    VelSpline = UnivariateSpline(time, smoothedVel, s=smoothing_factor)\n",
    "\n",
    "    AccSpline = VelSpline.derivative(n=1)\n",
    "    smoothedAcc = np.convolve(AccSpline(time), kernel, mode='same')\n",
    "    AccSpline = UnivariateSpline(time, smoothedAcc, s=smoothing_factor)\n",
    "    print('AccSpline')\n",
    "    print(len(AccSpline(time)))\n",
    "    print('****')\n",
    "    \n",
    "    JerkSpline = AccSpline.derivative(n=1) \n",
    "\n",
    "    return VelSpline(time), AccSpline(time), JerkSpline(time)"
   ]
  },
  {
   "cell_type": "markdown",
   "id": "d18c07d6-f9b0-429e-9e97-133f6dbb33fc",
   "metadata": {},
   "source": [
    "#### Angular Distance Formula\n",
    "\n",
    "WARNING: We have not been able to measure the distance in this way because the angles are too small and it gave us an error in the calculation.\n",
    "\n",
    "The formula used to calculate the angular distance between two points on the celestial sphere is based on the Spherical Law of Cosines.\n",
    "\n",
    "\\[ \\cos(\\theta) = \\sin(\\text{elevation}_1) \\sin(\\text{elevation}_2) + \\cos(\\text{elevation}_1) \\cos(\\text{elevation}_2) \\cos(\\text{azimuth}_1 - \\text{azimuth}_2) \\]\n",
    "\n",
    "Where:\n",
    "- \\( \\theta \\) is the angular distance between the two points on the celestial sphere.\n",
    "- \\( \\text{elevation}_1 \\) and \\( \\text{elevation}_2 \\) are the elevations of the two points, respectively, measured in radians.\n",
    "- \\( \\text{azimuth}_1 \\) and \\( \\text{azimuth}_2 \\) are the azimuths of the two points, respectively, measured in radians."
   ]
  },
  {
   "cell_type": "code",
   "execution_count": null,
   "id": "43ae3b6b-ea9b-4a01-b5b9-c7887e29369b",
   "metadata": {},
   "outputs": [],
   "source": [
    "# Function to calculate the angular distance between two points in the celestial sphere\n",
    "def calculate_angular_distance(el_start, az_start, el_end, az_end):\n",
    "    print(el_start)\n",
    "    print(el_end)\n",
    "    print(az_start)\n",
    "    print(az_end)\n",
    "    # Convert elevation and azimuth to radians\n",
    "    el_start_rad = np.radians(el_start)\n",
    "    az_start_rad = np.radians(az_start)\n",
    "    el_end_rad = np.radians(el_end)\n",
    "    a_end_rad = np.radians(az_end)\n",
    "    # Calculate the angular distance using the cosine formula\n",
    "    cos_theta = np.sin(el_start_rad) * np.sin(el_end_rad) + np.cos(el_start_rad) * np.cos(el_end_rad) * np.cos(az_start_rad - az_end_rad)\n",
    "    print('3')\n",
    "    print(cos_theta)\n",
    "    \n",
    "    # Calculate the angle (in radians) between the two points\n",
    "    theta_rad = np.arccos(cos_theta)\n",
    "    print('4')\n",
    "    print(theta_rad)\n",
    "    # Convert from radians to degrees and return the result\n",
    "    return np.degrees(theta_rad)\n"
   ]
  },
  {
   "cell_type": "code",
   "execution_count": null,
   "id": "1cca7704-b62d-4d98-92bc-d114f50b528a",
   "metadata": {},
   "outputs": [],
   "source": [
    "async def data_per_slew(i, slew, debug=False):\n",
    "    \"\"\"\n",
    "    get TMA velocity data and power data for a given slew.\n",
    "\n",
    "    Calculate maximum velocity, acceleration and jerk values and minimum power draw\n",
    "    \"\"\"\n",
    "    data = [i, slew.dayObs, slew.duration, slew.begin, slew.end]\n",
    "    power_df = await client.select_time_series(tma_power_topic, '*', slew.begin, slew.end)\n",
    "    data.append(np.min(power_df.powerSupplyVoltage))\n",
    "    print('power_df')\n",
    "    print(power_df)\n",
    "\n",
    "    az = await client.select_time_series(tma_az_topic, ['*'], slew.begin, slew.end)\n",
    "    el = await client.select_time_series(tma_el_topic, ['*'], slew.begin, slew.end)\n",
    "\n",
    "    AzBegin = az.actualPosition.iloc[0]\n",
    "    AzEnd   = az.actualPosition.iloc[-1]\n",
    "    ElBegin = el.actualPosition.iloc[0]\n",
    "    ElEnd   = el.actualPosition.iloc[-1]\n",
    "\n",
    "    #print('az')\n",
    "    #print(az)\n",
    "    AzVel, AzAcc, AzJerk = get_acc_jerk(az.timestamp, az.actualVelocity)\n",
    "    ElVel, ElAcc, ElJerk = get_acc_jerk(el.timestamp, el.actualVelocity)\n",
    "\n",
    "    #theta = calculate_angular_distance(ElBegin, AzBegin, ElEnd, AzEnd)\n",
    "    \n",
    "    for var in [AzVel, AzAcc, AzJerk, ElVel, ElAcc, ElJerk, AzBegin, AzEnd, ElBegin, ElEnd]: #, theta\n",
    "        data.append(np.max(np.abs(var)))\n",
    "    if debug:\n",
    "        return az, el, power_df, data\n",
    "    else:\n",
    "        return data"
   ]
  },
  {
   "cell_type": "code",
   "execution_count": null,
   "id": "cda71afb-bd9a-4c20-9336-e1f928ec5133",
   "metadata": {},
   "outputs": [],
   "source": [
    "Data = []\n",
    "failed = []\n",
    "data_names = ['slew_id','dayobs','duration','begin','end','min_power','az_max_vel','az_max_acc','az_max_jerk','el_max_vel','el_max_acc','el_max_jerk', 'az_pos_begin', 'az_pos_end', 'el_pos_begin', 'el_pos_end'] #, 'dis_slew'\n",
    "for dayObs in obs_days:\n",
    "    try:\n",
    "        slews = get_events(dayObs)\n",
    "    except:\n",
    "        print(dayObs)\n",
    "    for i, slew in enumerate(slews):\n",
    "        try:\n",
    "            d = await data_per_slew(i, slew)\n",
    "            Data.append(d)\n",
    "        except Exception as e:\n",
    "            failed.append(i)\n",
    "            #print(i, e)\n",
    "df = pd.DataFrame(np.vstack(Data),columns=data_names)\n",
    "len(df)"
   ]
  },
  {
   "cell_type": "code",
   "execution_count": null,
   "id": "36a0fbcc-5d88-4c1a-afc6-ecef8abba4a7",
   "metadata": {},
   "outputs": [],
   "source": [
    "#Remove extreme outliers\n",
    "df = df[(df.el_max_jerk < 100)&(df.duration<3000)]"
   ]
  },
  {
   "cell_type": "markdown",
   "id": "61ac92fc-1c16-4102-9b08-094525142f7e",
   "metadata": {},
   "source": [
    "### Analysis"
   ]
  },
  {
   "cell_type": "markdown",
   "id": "406fed55-1613-4a73-a6c3-89441603d876",
   "metadata": {},
   "source": [
    "Relationship of min power supply voltage and distance of slew"
   ]
  },
  {
   "cell_type": "code",
   "execution_count": null,
   "id": "1642ab2d-1584-45be-a5f4-83765968cd03",
   "metadata": {},
   "outputs": [],
   "source": [
    "def plot_psv_vs_dist(df_, title_date,name):\n",
    "    fig, ax = plt.subplots(1, 1, figsize=(6, 4))\n",
    "\n",
    "    ax.plot((df_.az_pos_begin - df_.az_pos_end), df_.min_power,'x', color='C0', label='azPos')\n",
    "    ax.plot((df_.el_pos_begin - df_.el_pos_end), df_.min_power,'x', color='C1', label='elPos')\n",
    "    #ax1.axhline(575, ls='--', c='k',label='voltage drop limit')\n",
    "    ax.legend()\n",
    "    #ax1.set_xlim(-1,12)\n",
    "    ax.set_xlabel('distance of slew')\n",
    "    ax.set_ylabel('min supplyPowerVoltage (V)')\n",
    "\n",
    "    plt.savefig(f'{name}.png')"
   ]
  },
  {
   "cell_type": "code",
   "execution_count": null,
   "id": "d06aad36-444a-4edc-bbc7-84e8146cba70",
   "metadata": {},
   "outputs": [],
   "source": [
    "plot_psv_vs_dist(df, 'BLOCK-160/164','tma_perf_dec_2023')"
   ]
  },
  {
   "cell_type": "markdown",
   "id": "1bb5a617-fc34-48c3-baed-5cbe5b326fb3",
   "metadata": {},
   "source": [
    "Look at Azimuth acceleration vs. power supply voltage"
   ]
  },
  {
   "cell_type": "code",
   "execution_count": null,
   "id": "00664f30-2a8e-43b5-8b1b-1ba0150b3d8f",
   "metadata": {},
   "outputs": [],
   "source": []
  }
 ],
 "metadata": {
  "kernelspec": {
   "display_name": "LSST",
   "language": "python",
   "name": "lsst"
  },
  "language_info": {
   "codemirror_mode": {
    "name": "ipython",
    "version": 3
   },
   "file_extension": ".py",
   "mimetype": "text/x-python",
   "name": "python",
   "nbconvert_exporter": "python",
   "pygments_lexer": "ipython3",
   "version": "3.11.7"
  }
 },
 "nbformat": 4,
 "nbformat_minor": 5
}
