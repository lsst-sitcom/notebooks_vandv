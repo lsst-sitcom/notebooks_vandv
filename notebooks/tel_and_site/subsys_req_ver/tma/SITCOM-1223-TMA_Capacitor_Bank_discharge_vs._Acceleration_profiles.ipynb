{
 "cells": [
  {
   "cell_type": "markdown",
   "id": "a6db2928-1a8c-4c56-b823-d75d65991952",
   "metadata": {},
   "source": [
    "# TMA Capacitor Bank discharge vs. Acceleration profiles \n",
    "# [SITCOM-1223]"
   ]
  },
  {
   "cell_type": "markdown",
   "id": "7ff13bd8-b9ff-458a-a6c0-ccbd53a7bc2b",
   "metadata": {
    "execution": {
     "iopub.execute_input": "2024-02-14T14:17:04.446533Z",
     "iopub.status.busy": "2024-02-14T14:17:04.446208Z",
     "iopub.status.idle": "2024-02-14T14:17:04.449678Z",
     "shell.execute_reply": "2024-02-14T14:17:04.449307Z",
     "shell.execute_reply.started": "2024-02-14T14:17:04.446507Z"
    }
   },
   "source": [
    "Laura Toribio San Cipriano\n",
    "\"Feb. 14, 2024\""
   ]
  },
  {
   "cell_type": "markdown",
   "id": "7c8f1ee3-802f-4c11-9d41-5b182cc76481",
   "metadata": {},
   "source": [
    "https://jira.lsstcorp.org/browse/SITCOM-1223"
   ]
  },
  {
   "cell_type": "markdown",
   "id": "b2b1dc88-117b-4e40-a170-dd915bd48c62",
   "metadata": {
    "execution": {
     "iopub.execute_input": "2024-02-16T12:18:56.356048Z",
     "iopub.status.busy": "2024-02-16T12:18:56.355646Z",
     "iopub.status.idle": "2024-02-16T12:18:56.395555Z",
     "shell.execute_reply": "2024-02-16T12:18:56.395109Z",
     "shell.execute_reply.started": "2024-02-16T12:18:56.356030Z"
    }
   },
   "source": [
    "**Description:**\n",
    "Continue the analysis started in SITCOM-1146. Based on the input from a team review, focusing on aspects below. Another ticket opened to investigate current draw profiles.\n",
    "\n",
    "- Relationship of min power supply voltage and distance of slew\n",
    "- Explore when Az and El moved at same time, rather than separately\n",
    "- Look at Azimuth acceleration vs. power supply voltage\n",
    "\n",
    "Results and analysis to be added to SITCOMTN-110"
   ]
  },
  {
   "cell_type": "markdown",
   "id": "7036903c-829f-4bb2-b01a-fa131a7afeec",
   "metadata": {
    "execution": {
     "iopub.execute_input": "2024-02-16T12:35:06.494481Z",
     "iopub.status.busy": "2024-02-16T12:35:06.494086Z",
     "iopub.status.idle": "2024-02-16T12:35:06.540939Z",
     "shell.execute_reply": "2024-02-16T12:35:06.540579Z",
     "shell.execute_reply.started": "2024-02-16T12:35:06.494465Z"
    }
   },
   "source": [
    "### Setup"
   ]
  },
  {
   "cell_type": "code",
   "execution_count": 146,
   "id": "19d58718-e810-40ff-acda-945b6cbd212a",
   "metadata": {
    "execution": {
     "iopub.execute_input": "2024-02-19T14:34:28.969239Z",
     "iopub.status.busy": "2024-02-19T14:34:28.969030Z",
     "iopub.status.idle": "2024-02-19T14:34:29.018445Z",
     "shell.execute_reply": "2024-02-19T14:34:29.017990Z",
     "shell.execute_reply.started": "2024-02-19T14:34:28.969225Z"
    }
   },
   "outputs": [
    {
     "name": "stdout",
     "output_type": "stream",
     "text": [
      "The autoreload extension is already loaded. To reload it, use:\n",
      "  %reload_ext autoreload\n"
     ]
    }
   ],
   "source": [
    "%matplotlib inline\n",
    "%load_ext autoreload\n",
    "%autoreload 2"
   ]
  },
  {
   "cell_type": "code",
   "execution_count": 147,
   "id": "66513868-8595-4eac-9346-f1037aa3684d",
   "metadata": {
    "execution": {
     "iopub.execute_input": "2024-02-19T14:34:30.489422Z",
     "iopub.status.busy": "2024-02-19T14:34:30.489140Z",
     "iopub.status.idle": "2024-02-19T14:34:30.528295Z",
     "shell.execute_reply": "2024-02-19T14:34:30.527917Z",
     "shell.execute_reply.started": "2024-02-19T14:34:30.489407Z"
    }
   },
   "outputs": [],
   "source": [
    "import pandas as pd\n",
    "import numpy as np\n",
    "import matplotlib.pyplot as plt\n",
    "from astropy.io import fits\n",
    "\n",
    "from lsst_efd_client import EfdClient, resample\n",
    "from lsst.summit.utils.tmaUtils import TMAEventMaker, TMAState\n",
    "\n",
    "from astropy.time import Time, TimeDelta\n",
    "from astropy.table import Table\n",
    "from scipy.interpolate import UnivariateSpline"
   ]
  },
  {
   "cell_type": "code",
   "execution_count": 148,
   "id": "cf0c56c6-dbfe-4a93-80c4-2cdfa138099d",
   "metadata": {
    "execution": {
     "iopub.execute_input": "2024-02-19T14:34:33.037005Z",
     "iopub.status.busy": "2024-02-19T14:34:33.036818Z",
     "iopub.status.idle": "2024-02-19T14:34:33.487878Z",
     "shell.execute_reply": "2024-02-19T14:34:33.487524Z",
     "shell.execute_reply.started": "2024-02-19T14:34:33.036992Z"
    }
   },
   "outputs": [],
   "source": [
    "client = EfdClient('usdf_efd')"
   ]
  },
  {
   "cell_type": "code",
   "execution_count": 149,
   "id": "837ad61c-b26c-4178-b788-f24a401d8a40",
   "metadata": {
    "execution": {
     "iopub.execute_input": "2024-02-19T14:34:34.643286Z",
     "iopub.status.busy": "2024-02-19T14:34:34.642977Z",
     "iopub.status.idle": "2024-02-19T14:34:34.681252Z",
     "shell.execute_reply": "2024-02-19T14:34:34.680877Z",
     "shell.execute_reply.started": "2024-02-19T14:34:34.643272Z"
    }
   },
   "outputs": [],
   "source": [
    "tma_power_topic = 'lsst.sal.MTMount.mainPowerSupply'\n",
    "tma_el_topic = 'lsst.sal.MTMount.elevation'\n",
    "tma_az_topic = 'lsst.sal.MTMount.azimuth'"
   ]
  },
  {
   "cell_type": "markdown",
   "id": "7548b05f-1d0d-4c5a-b58e-66bfd6e9ff43",
   "metadata": {},
   "source": [
    "### Get Data"
   ]
  },
  {
   "cell_type": "markdown",
   "id": "763dc9f5-bf40-4f8e-99d3-20c82b1edc02",
   "metadata": {},
   "source": [
    "Getting data corresponding to these:\n",
    " * [BLOCK-160](https://jira.lsstcorp.org/browse/BLOCK-160)\n",
    " * [BLOCK-164](https://jira.lsstcorp.org/browse/BLOCK-164)"
   ]
  },
  {
   "cell_type": "code",
   "execution_count": 150,
   "id": "45291eff-5742-483e-aeba-b48cef30f7ec",
   "metadata": {
    "execution": {
     "iopub.execute_input": "2024-02-19T14:34:37.195153Z",
     "iopub.status.busy": "2024-02-19T14:34:37.194846Z",
     "iopub.status.idle": "2024-02-19T14:34:37.232579Z",
     "shell.execute_reply": "2024-02-19T14:34:37.232217Z",
     "shell.execute_reply.started": "2024-02-19T14:34:37.195136Z"
    }
   },
   "outputs": [],
   "source": [
    "obs_days = [20231211, 20231212, 20231213, 20231214, 20231215, 20231218]"
   ]
  },
  {
   "cell_type": "code",
   "execution_count": 151,
   "id": "6040f80f-f9c7-4b6d-b866-a37a7d41a243",
   "metadata": {
    "execution": {
     "iopub.execute_input": "2024-02-19T14:34:38.585652Z",
     "iopub.status.busy": "2024-02-19T14:34:38.585454Z",
     "iopub.status.idle": "2024-02-19T14:34:38.627692Z",
     "shell.execute_reply": "2024-02-19T14:34:38.627248Z",
     "shell.execute_reply.started": "2024-02-19T14:34:38.585637Z"
    }
   },
   "outputs": [],
   "source": [
    "def get_events(dayObs):\n",
    "    \"\"\"\n",
    "    Identify slew events for a given dayObs\n",
    "    \"\"\"\n",
    "    eventMaker = TMAEventMaker()\n",
    "    events = eventMaker.getEvents(dayObs)\n",
    "    \n",
    "    # Get lists of slew and track events\n",
    "    slews = [e for e in events if e.type == TMAState.SLEWING]\n",
    "    tracks = [e for e in events if e.type == TMAState.TRACKING]\n",
    "    print(f\"{dayObs}: Found {len(slews)} slews and {len(tracks)} tracks\")\n",
    "    return slews"
   ]
  },
  {
   "cell_type": "code",
   "execution_count": 152,
   "id": "34564d44-e718-4b2b-b18a-2bb81eb34f05",
   "metadata": {
    "execution": {
     "iopub.execute_input": "2024-02-19T14:34:45.015564Z",
     "iopub.status.busy": "2024-02-19T14:34:45.015269Z",
     "iopub.status.idle": "2024-02-19T14:34:45.056568Z",
     "shell.execute_reply": "2024-02-19T14:34:45.056168Z",
     "shell.execute_reply.started": "2024-02-19T14:34:45.015550Z"
    }
   },
   "outputs": [],
   "source": [
    "def get_acc_jerk(time, velocity):\n",
    "    \"\"\"\n",
    "    From velocity data, calculate acceleration and jerk\n",
    "    \"\"\"\n",
    "    smoothing_factor=0.2\n",
    "    kernel_size = 5\n",
    "    kernel = np.ones(kernel_size) / kernel_size\n",
    "    \n",
    "    VelSpline = UnivariateSpline(time, velocity, s=0)\n",
    "    smoothedVel = np.convolve(VelSpline(time), kernel, mode='same')\n",
    "    VelSpline = UnivariateSpline(time, smoothedVel, s=smoothing_factor)\n",
    "\n",
    "    AccSpline = VelSpline.derivative(n=1)\n",
    "    smoothedAcc = np.convolve(AccSpline(time), kernel, mode='same')\n",
    "    AccSpline = UnivariateSpline(time, smoothedAcc, s=smoothing_factor)\n",
    "    \n",
    "    JerkSpline = AccSpline.derivative(n=1) \n",
    "\n",
    "    return VelSpline(time), AccSpline(time), JerkSpline(time)"
   ]
  },
  {
   "cell_type": "markdown",
   "id": "d18c07d6-f9b0-429e-9e97-133f6dbb33fc",
   "metadata": {},
   "source": [
    "#### Angular Distance Formula\n",
    "\n",
    "The formula used to calculate the angular distance between two points on the celestial sphere is based on the Spherical Law of Cosines.\n",
    "\n",
    "\\[ \\cos(\\theta) = \\sin(\\text{elevation}_1) \\sin(\\text{elevation}_2) + \\cos(\\text{elevation}_1) \\cos(\\text{elevation}_2) \\cos(\\text{azimuth}_1 - \\text{azimuth}_2) \\]\n",
    "\n",
    "Where:\n",
    "- \\( \\theta \\) is the angular distance between the two points on the celestial sphere.\n",
    "- \\( \\text{elevation}_1 \\) and \\( \\text{elevation}_2 \\) are the elevations of the two points, respectively, measured in radians.\n",
    "- \\( \\text{azimuth}_1 \\) and \\( \\text{azimuth}_2 \\) are the azimuths of the two points, respectively, measured in radians."
   ]
  },
  {
   "cell_type": "code",
   "execution_count": 144,
   "id": "43ae3b6b-ea9b-4a01-b5b9-c7887e29369b",
   "metadata": {
    "execution": {
     "iopub.execute_input": "2024-02-19T14:32:38.206559Z",
     "iopub.status.busy": "2024-02-19T14:32:38.206360Z",
     "iopub.status.idle": "2024-02-19T14:32:38.256412Z",
     "shell.execute_reply": "2024-02-19T14:32:38.255968Z",
     "shell.execute_reply.started": "2024-02-19T14:32:38.206545Z"
    }
   },
   "outputs": [],
   "source": [
    "# Function to calculate the angular distance between two points in the celestial sphere\n",
    "def calculate_angular_distance(el_start, az_start, el_end, az_end):\n",
    "    print(el_start)\n",
    "    print(el_end)\n",
    "    print(az_start)\n",
    "    print(az_end)\n",
    "    # Convert elevation and azimuth to radians\n",
    "    el_start_rad = np.radians(el_start)\n",
    "    az_start_rad = np.radians(az_start)\n",
    "    el_end_rad = np.radians(el_end)\n",
    "    a_end_rad = np.radians(az_end)\n",
    "    print('2')\n",
    "    # Calculate the angular distance using the cosine formula\n",
    "    cos_theta = np.sin(el_start_rad) * np.sin(el_end_rad) + np.cos(el_start_rad) * np.cos(el_end_rad) * cos_temp\n",
    "    print('3')\n",
    "    print(cos_theta)\n",
    "    \n",
    "    # Calculate the angle (in radians) between the two points\n",
    "    theta_rad = np.arccos(cos_theta)\n",
    "    print('4')\n",
    "    print(theta_rad)\n",
    "    # Convert from radians to degrees and return the result\n",
    "    return np.degrees(theta_rad)\n"
   ]
  },
  {
   "cell_type": "code",
   "execution_count": 153,
   "id": "1cca7704-b62d-4d98-92bc-d114f50b528a",
   "metadata": {
    "execution": {
     "iopub.execute_input": "2024-02-19T14:34:49.665877Z",
     "iopub.status.busy": "2024-02-19T14:34:49.665656Z",
     "iopub.status.idle": "2024-02-19T14:34:49.707679Z",
     "shell.execute_reply": "2024-02-19T14:34:49.707268Z",
     "shell.execute_reply.started": "2024-02-19T14:34:49.665862Z"
    }
   },
   "outputs": [],
   "source": [
    "async def data_per_slew(i, slew, debug=False):\n",
    "    \"\"\"\n",
    "    get TMA velocity data and power data for a given slew.\n",
    "\n",
    "    Calculate maximum velocity, acceleration and jerk values and minimum power draw\n",
    "    \"\"\"\n",
    "    data = [i, slew.dayObs, slew.duration, slew.begin, slew.end]\n",
    "    power_df = await client.select_time_series(tma_power_topic, '*', slew.begin, slew.end)\n",
    "    data.append(np.min(power_df.powerSupplyVoltage))\n",
    "\n",
    "    az = await client.select_time_series(tma_az_topic, ['*'], slew.begin, slew.end)\n",
    "    el = await client.select_time_series(tma_el_topic, ['*'], slew.begin, slew.end)\n",
    "\n",
    "    AzBegin = az.actualPosition.iloc[0]\n",
    "    AzEnd   = az.actualPosition.iloc[-1]\n",
    "    ElBegin = el.actualPosition.iloc[0]\n",
    "    ElEnd   = el.actualPosition.iloc[-1]\n",
    "\n",
    "    AzVel, AzAcc, AzJerk = get_acc_jerk(az.timestamp, az.actualVelocity)\n",
    "    ElVel, ElAcc, ElJerk = get_acc_jerk(el.timestamp, el.actualVelocity)\n",
    "\n",
    "    #theta = calculate_angular_distance(ElBegin, AzBegin, ElEnd, AzEnd)\n",
    "    \n",
    "    for var in [AzVel, AzAcc, AzJerk, ElVel, ElAcc, ElJerk, AzBegin, AzEnd, ElBegin, ElEnd]: #, theta\n",
    "        data.append(np.max(np.abs(var)))\n",
    "    if debug:\n",
    "        return az, el, power_df, data\n",
    "    else:\n",
    "        return data"
   ]
  },
  {
   "cell_type": "code",
   "execution_count": 155,
   "id": "cda71afb-bd9a-4c20-9336-e1f928ec5133",
   "metadata": {
    "execution": {
     "iopub.execute_input": "2024-02-19T14:38:34.869966Z",
     "iopub.status.busy": "2024-02-19T14:38:34.869610Z",
     "iopub.status.idle": "2024-02-19T14:41:12.960082Z",
     "shell.execute_reply": "2024-02-19T14:41:12.959708Z",
     "shell.execute_reply.started": "2024-02-19T14:38:34.869951Z"
    }
   },
   "outputs": [
    {
     "data": {
      "text/html": [
       "<pre style=\"margin: 0.1em;\n",
       "padding-left: 0.25em;\n",
       "border-left-style: solid;\n",
       "font-family: var(--jp-code-font-family);\n",
       "font-size: var(--jp-code-font-size);\n",
       "line-height: var(--jp-code-line-height);\n",
       "\"><span style=\"color: var(--jp-warn-color2)\">lsst.summit.utils.tmaUtils</span> <span style=\"color: var(--jp-info-color0)\">INFO</span>: Retrieving mount data for 20231211 from the EFD</pre>"
      ],
      "text/plain": [
       "<IPython.core.display.HTML object>"
      ]
     },
     "metadata": {},
     "output_type": "display_data"
    },
    {
     "name": "stdout",
     "output_type": "stream",
     "text": [
      "20231211: Found 528 slews and 449 tracks\n"
     ]
    },
    {
     "data": {
      "text/html": [
       "<pre style=\"margin: 0.1em;\n",
       "padding-left: 0.25em;\n",
       "border-left-style: solid;\n",
       "font-family: var(--jp-code-font-family);\n",
       "font-size: var(--jp-code-font-size);\n",
       "line-height: var(--jp-code-line-height);\n",
       "\"><span style=\"color: var(--jp-warn-color2)\">lsst.summit.utils.tmaUtils</span> <span style=\"color: var(--jp-info-color0)\">INFO</span>: Retrieving mount data for 20231212 from the EFD</pre>"
      ],
      "text/plain": [
       "<IPython.core.display.HTML object>"
      ]
     },
     "metadata": {},
     "output_type": "display_data"
    },
    {
     "name": "stdout",
     "output_type": "stream",
     "text": [
      "20231212: Found 211 slews and 124 tracks\n"
     ]
    },
    {
     "data": {
      "text/html": [
       "<pre style=\"margin: 0.1em;\n",
       "padding-left: 0.25em;\n",
       "border-left-style: solid;\n",
       "font-family: var(--jp-code-font-family);\n",
       "font-size: var(--jp-code-font-size);\n",
       "line-height: var(--jp-code-line-height);\n",
       "\"><span style=\"color: var(--jp-warn-color2)\">lsst.summit.utils.tmaUtils</span> <span style=\"color: var(--jp-info-color0)\">INFO</span>: Retrieving mount data for 20231213 from the EFD</pre>"
      ],
      "text/plain": [
       "<IPython.core.display.HTML object>"
      ]
     },
     "metadata": {},
     "output_type": "display_data"
    },
    {
     "name": "stdout",
     "output_type": "stream",
     "text": [
      "20231213: Found 75 slews and 2 tracks\n"
     ]
    },
    {
     "data": {
      "text/html": [
       "<pre style=\"margin: 0.1em;\n",
       "padding-left: 0.25em;\n",
       "border-left-style: solid;\n",
       "font-family: var(--jp-code-font-family);\n",
       "font-size: var(--jp-code-font-size);\n",
       "line-height: var(--jp-code-line-height);\n",
       "\"><span style=\"color: var(--jp-warn-color2)\">lsst.summit.utils.tmaUtils</span> <span style=\"color: var(--jp-info-color0)\">INFO</span>: Retrieving mount data for 20231214 from the EFD</pre>"
      ],
      "text/plain": [
       "<IPython.core.display.HTML object>"
      ]
     },
     "metadata": {},
     "output_type": "display_data"
    },
    {
     "name": "stdout",
     "output_type": "stream",
     "text": [
      "20231214: Found 398 slews and 265 tracks\n"
     ]
    },
    {
     "data": {
      "text/html": [
       "<pre style=\"margin: 0.1em;\n",
       "padding-left: 0.25em;\n",
       "border-left-style: solid;\n",
       "font-family: var(--jp-code-font-family);\n",
       "font-size: var(--jp-code-font-size);\n",
       "line-height: var(--jp-code-line-height);\n",
       "\"><span style=\"color: var(--jp-warn-color2)\">lsst.summit.utils.tmaUtils</span> <span style=\"color: var(--jp-info-color0)\">INFO</span>: Retrieving mount data for 20231215 from the EFD</pre>"
      ],
      "text/plain": [
       "<IPython.core.display.HTML object>"
      ]
     },
     "metadata": {},
     "output_type": "display_data"
    },
    {
     "name": "stdout",
     "output_type": "stream",
     "text": [
      "20231215: Found 239 slews and 126 tracks\n"
     ]
    },
    {
     "data": {
      "text/html": [
       "<pre style=\"margin: 0.1em;\n",
       "padding-left: 0.25em;\n",
       "border-left-style: solid;\n",
       "font-family: var(--jp-code-font-family);\n",
       "font-size: var(--jp-code-font-size);\n",
       "line-height: var(--jp-code-line-height);\n",
       "\"><span style=\"color: var(--jp-warn-color2)\">lsst.summit.utils.tmaUtils</span> <span style=\"color: var(--jp-info-color0)\">INFO</span>: Retrieving mount data for 20231218 from the EFD</pre>"
      ],
      "text/plain": [
       "<IPython.core.display.HTML object>"
      ]
     },
     "metadata": {},
     "output_type": "display_data"
    },
    {
     "name": "stdout",
     "output_type": "stream",
     "text": [
      "20231218: Found 227 slews and 39 tracks\n"
     ]
    },
    {
     "data": {
      "text/plain": [
       "1580"
      ]
     },
     "execution_count": 155,
     "metadata": {},
     "output_type": "execute_result"
    }
   ],
   "source": [
    "Data = []\n",
    "failed = []\n",
    "data_names = ['slew_id','dayobs','duration','begin','end','min_power','az_max_vel','az_max_acc','az_max_jerk','el_max_vel','el_max_acc','el_max_jerk', 'az_pos_begin', 'az_pos_end', 'el_pos_begin', 'el_pos_end'] #, 'dis_slew'\n",
    "for dayObs in obs_days:\n",
    "    try:\n",
    "        slews = get_events(dayObs)\n",
    "    except:\n",
    "        print(dayObs)\n",
    "    for i, slew in enumerate(slews):\n",
    "        try:\n",
    "            d = await data_per_slew(i, slew)\n",
    "            Data.append(d)\n",
    "        except Exception as e:\n",
    "            failed.append(i)\n",
    "            #print(i, e)\n",
    "df = pd.DataFrame(np.vstack(Data),columns=data_names)\n",
    "len(df)"
   ]
  },
  {
   "cell_type": "code",
   "execution_count": 20,
   "id": "36a0fbcc-5d88-4c1a-afc6-ecef8abba4a7",
   "metadata": {
    "execution": {
     "iopub.execute_input": "2024-02-19T08:01:10.668254Z",
     "iopub.status.busy": "2024-02-19T08:01:10.667943Z",
     "iopub.status.idle": "2024-02-19T08:01:10.724270Z",
     "shell.execute_reply": "2024-02-19T08:01:10.723738Z",
     "shell.execute_reply.started": "2024-02-19T08:01:10.668239Z"
    }
   },
   "outputs": [
    {
     "ename": "NameError",
     "evalue": "name 'df' is not defined",
     "output_type": "error",
     "traceback": [
      "\u001b[0;31m---------------------------------------------------------------------------\u001b[0m",
      "\u001b[0;31mNameError\u001b[0m                                 Traceback (most recent call last)",
      "Cell \u001b[0;32mIn[20], line 2\u001b[0m\n\u001b[1;32m      1\u001b[0m \u001b[38;5;66;03m#Remove extreme outliers\u001b[39;00m\n\u001b[0;32m----> 2\u001b[0m df \u001b[38;5;241m=\u001b[39m \u001b[43mdf\u001b[49m[(df\u001b[38;5;241m.\u001b[39mel_max_jerk \u001b[38;5;241m<\u001b[39m \u001b[38;5;241m100\u001b[39m)\u001b[38;5;241m&\u001b[39m(df\u001b[38;5;241m.\u001b[39mduration\u001b[38;5;241m<\u001b[39m\u001b[38;5;241m3000\u001b[39m)]\n",
      "\u001b[0;31mNameError\u001b[0m: name 'df' is not defined"
     ]
    }
   ],
   "source": [
    "#Remove extreme outliers\n",
    "df = df[(df.el_max_jerk < 100)&(df.duration<3000)]"
   ]
  },
  {
   "cell_type": "markdown",
   "id": "61ac92fc-1c16-4102-9b08-094525142f7e",
   "metadata": {},
   "source": [
    "### Analysis"
   ]
  },
  {
   "cell_type": "markdown",
   "id": "406fed55-1613-4a73-a6c3-89441603d876",
   "metadata": {},
   "source": [
    "Relationship of min power supply voltage and distance of slew"
   ]
  },
  {
   "cell_type": "code",
   "execution_count": 93,
   "id": "1642ab2d-1584-45be-a5f4-83765968cd03",
   "metadata": {
    "execution": {
     "iopub.execute_input": "2024-02-19T13:24:50.962367Z",
     "iopub.status.busy": "2024-02-19T13:24:50.962140Z",
     "iopub.status.idle": "2024-02-19T13:24:51.010187Z",
     "shell.execute_reply": "2024-02-19T13:24:51.009829Z",
     "shell.execute_reply.started": "2024-02-19T13:24:50.962353Z"
    }
   },
   "outputs": [],
   "source": [
    "def make_plots(df_, title_date,name):\n",
    "    fig, (ax1, ax2, ax3) = plt.subplots(1,3, sharey=True, figsize=(12, 4))\n",
    "\n",
    "    ax1.plot((df_.az_pos_begin - df_.az_pos_end), df_.min_power,'x', color='C0', label='azPos')\n",
    "    ax1.plot((df_.el_pos_begin - df_.el_pos_end), df_.min_power,'x', color='C1', label='elPos')\n",
    "    #ax1.axhline(575, ls='--', c='k',label='voltage drop limit')\n",
    "    ax1.legend()\n",
    "    #ax1.set_xlim(-1,12)\n",
    "    ax1.set_xlabel('distance of slew')\n",
    "    ax1.set_ylabel('min supplyPowerVoltage (V)')\n",
    "\n",
    "    #ax2.plot(df_.az_max_acc, df_.min_power,'x',label='azAcc')\n",
    "    #ax2.plot(df_.el_max_acc, df_.min_power,'x',label='elAcc')\n",
    "    #ax2.axhline(575, ls='--', c='k',label='voltage drop limit')\n",
    "    #ax2.legend()\n",
    "    #ax2.set_xlim(-1,25)\n",
    "    #ax2.set_xlabel('max Acceleration $(m/s^{2})$')\n",
    "    #ax2.set_ylabel('min supplyPowerVoltage (V)')\n",
    "               \n",
    "    #ax3.plot(df_.az_max_jerk, df_.min_power,'x',label='azJerk')\n",
    "    #ax3.plot(df_.el_max_jerk, df_.min_power,'x', label='elJerk')\n",
    "    #ax3.axhline(575, ls='--', c='k',label='voltage drop limit')\n",
    "    #ax3.legend()\n",
    "    #ax3.set_xlim(-100,800)\n",
    "    #ax3.set_xlabel('max Jerk $(m/s^{3})$')\n",
    "    #ax3.set_ylabel('min supplyPowerVoltage (V)')\n",
    "               \n",
    "    #fig.suptitle(f'Min. TMA voltage vs. TMA Performance for {title_date}')\n",
    "    #fig.tight_layout()\n",
    "    plt.savefig(f'{name}.png')"
   ]
  },
  {
   "cell_type": "code",
   "execution_count": 95,
   "id": "d06aad36-444a-4edc-bbc7-84e8146cba70",
   "metadata": {
    "execution": {
     "iopub.execute_input": "2024-02-19T13:26:37.496174Z",
     "iopub.status.busy": "2024-02-19T13:26:37.495715Z",
     "iopub.status.idle": "2024-02-19T13:26:37.831144Z",
     "shell.execute_reply": "2024-02-19T13:26:37.830787Z",
     "shell.execute_reply.started": "2024-02-19T13:26:37.496156Z"
    }
   },
   "outputs": [
    {
     "data": {
      "image/png": "[encoded data removed]",
      "text/plain": [
       "<Figure size 1200x400 with 3 Axes>"
      ]
     },
     "metadata": {},
     "output_type": "display_data"
    }
   ],
   "source": [
    "make_plots(df, 'BLOCK-160/164','tma_perf_dec_2023')"
   ]
  },
  {
   "cell_type": "code",
   "execution_count": null,
   "id": "786d532f-5c7d-4efe-9be3-8dbe70eef37b",
   "metadata": {},
   "outputs": [],
   "source": []
  }
 ],
 "metadata": {
  "kernelspec": {
   "display_name": "LSST",
   "language": "python",
   "name": "lsst"
  },
  "language_info": {
   "codemirror_mode": {
    "name": "ipython",
    "version": 3
   },
   "file_extension": ".py",
   "mimetype": "text/x-python",
   "name": "python",
   "nbconvert_exporter": "python",
   "pygments_lexer": "ipython3",
   "version": "3.11.7"
  }
 },
 "nbformat": 4,
 "nbformat_minor": 5
}
