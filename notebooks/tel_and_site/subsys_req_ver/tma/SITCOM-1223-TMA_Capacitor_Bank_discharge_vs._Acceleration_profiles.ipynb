{
 "cells": [
  {
   "cell_type": "markdown",
   "id": "a6db2928-1a8c-4c56-b823-d75d65991952",
   "metadata": {},
   "source": [
    "# TMA Capacitor Bank discharge vs. Acceleration profiles \n",
    "# [SITCOM-1223]"
   ]
  },
  {
   "cell_type": "markdown",
   "id": "7ff13bd8-b9ff-458a-a6c0-ccbd53a7bc2b",
   "metadata": {
    "execution": {
     "iopub.execute_input": "2024-02-14T14:17:04.446533Z",
     "iopub.status.busy": "2024-02-14T14:17:04.446208Z",
     "iopub.status.idle": "2024-02-14T14:17:04.449678Z",
     "shell.execute_reply": "2024-02-14T14:17:04.449307Z",
     "shell.execute_reply.started": "2024-02-14T14:17:04.446507Z"
    }
   },
   "source": [
    "Laura Toribio San Cipriano\n",
    "\"Feb. 14, 2024\""
   ]
  },
  {
   "cell_type": "markdown",
   "id": "7c8f1ee3-802f-4c11-9d41-5b182cc76481",
   "metadata": {},
   "source": [
    "https://jira.lsstcorp.org/browse/SITCOM-1223"
   ]
  },
  {
   "cell_type": "code",
   "execution_count": null,
   "id": "23127431-c25c-47ac-8de9-40f4b8c6e00d",
   "metadata": {},
   "outputs": [],
   "source": [
    "**Description:**\n",
    "Continue the analysis started in SITCOM-1146. Based on the input from a team review, focusing on aspects below. Another ticket opened to investigate current draw profiles.\n",
    "\n",
    "Relationship of min power supply voltage and distance of slew\n",
    "Explore when Az and El moved at same time, rather than separately\n",
    "Look at Azimuth acceleration vs. power supply voltage\n",
    "Results and analysis to be added to SITCOMTN-110"
   ]
  }
 ],
 "metadata": {
  "kernelspec": {
   "display_name": "LSST",
   "language": "python",
   "name": "lsst"
  },
  "language_info": {
   "codemirror_mode": {
    "name": "ipython",
    "version": 3
   },
   "file_extension": ".py",
   "mimetype": "text/x-python",
   "name": "python",
   "nbconvert_exporter": "python",
   "pygments_lexer": "ipython3",
   "version": "3.11.7"
  }
 },
 "nbformat": 4,
 "nbformat_minor": 5
}
