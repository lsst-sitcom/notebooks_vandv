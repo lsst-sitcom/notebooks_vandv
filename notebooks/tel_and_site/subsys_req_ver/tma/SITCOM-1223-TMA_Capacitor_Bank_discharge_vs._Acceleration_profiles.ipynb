{
 "cells": [
  {
   "cell_type": "markdown",
   "id": "a6db2928-1a8c-4c56-b823-d75d65991952",
   "metadata": {},
   "source": [
    "# TMA Capacitor Bank discharge vs. Acceleration profiles \n",
    "# [SITCOM-1223]"
   ]
  },
  {
   "cell_type": "markdown",
   "id": "7ff13bd8-b9ff-458a-a6c0-ccbd53a7bc2b",
   "metadata": {
    "execution": {
     "iopub.execute_input": "2024-02-14T14:17:04.446533Z",
     "iopub.status.busy": "2024-02-14T14:17:04.446208Z",
     "iopub.status.idle": "2024-02-14T14:17:04.449678Z",
     "shell.execute_reply": "2024-02-14T14:17:04.449307Z",
     "shell.execute_reply.started": "2024-02-14T14:17:04.446507Z"
    }
   },
   "source": [
    "Laura Toribio San Cipriano\n",
    "\"Feb. 14, 2024\""
   ]
  },
  {
   "cell_type": "markdown",
   "id": "7c8f1ee3-802f-4c11-9d41-5b182cc76481",
   "metadata": {},
   "source": [
    "https://jira.lsstcorp.org/browse/SITCOM-1223"
   ]
  },
  {
   "cell_type": "markdown",
   "id": "b2b1dc88-117b-4e40-a170-dd915bd48c62",
   "metadata": {
    "execution": {
     "iopub.execute_input": "2024-02-16T12:18:56.356048Z",
     "iopub.status.busy": "2024-02-16T12:18:56.355646Z",
     "iopub.status.idle": "2024-02-16T12:18:56.395555Z",
     "shell.execute_reply": "2024-02-16T12:18:56.395109Z",
     "shell.execute_reply.started": "2024-02-16T12:18:56.356030Z"
    }
   },
   "source": [
    "**Description:**\n",
    "Continue the analysis started in SITCOM-1146. Based on the input from a team review, focusing on aspects below. Another ticket opened to investigate current draw profiles.\n",
    "\n",
    "- Relationship of min power supply voltage and distance of slew\n",
    "- Explore when Az and El moved at same time, rather than separately\n",
    "- Look at Azimuth acceleration vs. power supply voltage\n",
    "\n",
    "Results and analysis to be added to SITCOMTN-110"
   ]
  },
  {
   "cell_type": "markdown",
   "id": "7036903c-829f-4bb2-b01a-fa131a7afeec",
   "metadata": {
    "execution": {
     "iopub.execute_input": "2024-02-16T12:35:06.494481Z",
     "iopub.status.busy": "2024-02-16T12:35:06.494086Z",
     "iopub.status.idle": "2024-02-16T12:35:06.540939Z",
     "shell.execute_reply": "2024-02-16T12:35:06.540579Z",
     "shell.execute_reply.started": "2024-02-16T12:35:06.494465Z"
    }
   },
   "source": [
    "### Setup"
   ]
  },
  {
   "cell_type": "code",
   "execution_count": 82,
   "id": "19d58718-e810-40ff-acda-945b6cbd212a",
   "metadata": {
    "execution": {
     "iopub.execute_input": "2024-02-19T12:10:17.316933Z",
     "iopub.status.busy": "2024-02-19T12:10:17.316726Z",
     "iopub.status.idle": "2024-02-19T12:10:17.356964Z",
     "shell.execute_reply": "2024-02-19T12:10:17.356647Z",
     "shell.execute_reply.started": "2024-02-19T12:10:17.316918Z"
    }
   },
   "outputs": [
    {
     "name": "stdout",
     "output_type": "stream",
     "text": [
      "The autoreload extension is already loaded. To reload it, use:\n",
      "  %reload_ext autoreload\n"
     ]
    }
   ],
   "source": [
    "%matplotlib inline\n",
    "%load_ext autoreload\n",
    "%autoreload 2"
   ]
  },
  {
   "cell_type": "code",
   "execution_count": 83,
   "id": "66513868-8595-4eac-9346-f1037aa3684d",
   "metadata": {
    "execution": {
     "iopub.execute_input": "2024-02-19T12:10:18.928997Z",
     "iopub.status.busy": "2024-02-19T12:10:18.928703Z",
     "iopub.status.idle": "2024-02-19T12:10:19.192369Z",
     "shell.execute_reply": "2024-02-19T12:10:19.191963Z",
     "shell.execute_reply.started": "2024-02-19T12:10:18.928983Z"
    }
   },
   "outputs": [],
   "source": [
    "import pandas as pd\n",
    "import numpy as np\n",
    "import matplotlib.pyplot as plt\n",
    "from astropy.io import fits\n",
    "\n",
    "from lsst_efd_client import EfdClient, resample\n",
    "from lsst.summit.utils.tmaUtils import TMAEventMaker, TMAState\n",
    "\n",
    "from astropy.time import Time, TimeDelta\n",
    "from astropy.table import Table\n",
    "from scipy.interpolate import UnivariateSpline"
   ]
  },
  {
   "cell_type": "code",
   "execution_count": 84,
   "id": "cf0c56c6-dbfe-4a93-80c4-2cdfa138099d",
   "metadata": {
    "execution": {
     "iopub.execute_input": "2024-02-19T12:10:21.422901Z",
     "iopub.status.busy": "2024-02-19T12:10:21.422511Z",
     "iopub.status.idle": "2024-02-19T12:10:22.053111Z",
     "shell.execute_reply": "2024-02-19T12:10:22.052676Z",
     "shell.execute_reply.started": "2024-02-19T12:10:21.422884Z"
    }
   },
   "outputs": [],
   "source": [
    "client = EfdClient('usdf_efd')"
   ]
  },
  {
   "cell_type": "code",
   "execution_count": 85,
   "id": "837ad61c-b26c-4178-b788-f24a401d8a40",
   "metadata": {
    "execution": {
     "iopub.execute_input": "2024-02-19T12:10:22.781010Z",
     "iopub.status.busy": "2024-02-19T12:10:22.780825Z",
     "iopub.status.idle": "2024-02-19T12:10:22.818539Z",
     "shell.execute_reply": "2024-02-19T12:10:22.818179Z",
     "shell.execute_reply.started": "2024-02-19T12:10:22.780997Z"
    }
   },
   "outputs": [],
   "source": [
    "tma_power_topic = 'lsst.sal.MTMount.mainPowerSupply'\n",
    "tma_el_topic = 'lsst.sal.MTMount.elevation'\n",
    "tma_az_topic = 'lsst.sal.MTMount.azimuth'"
   ]
  },
  {
   "cell_type": "markdown",
   "id": "7548b05f-1d0d-4c5a-b58e-66bfd6e9ff43",
   "metadata": {},
   "source": [
    "### Get Data"
   ]
  },
  {
   "cell_type": "markdown",
   "id": "763dc9f5-bf40-4f8e-99d3-20c82b1edc02",
   "metadata": {},
   "source": [
    "Getting data corresponding to these:\n",
    " * [BLOCK-160](https://jira.lsstcorp.org/browse/BLOCK-160)\n",
    " * [BLOCK-164](https://jira.lsstcorp.org/browse/BLOCK-164)"
   ]
  },
  {
   "cell_type": "code",
   "execution_count": 86,
   "id": "45291eff-5742-483e-aeba-b48cef30f7ec",
   "metadata": {
    "execution": {
     "iopub.execute_input": "2024-02-19T12:10:25.481363Z",
     "iopub.status.busy": "2024-02-19T12:10:25.480804Z",
     "iopub.status.idle": "2024-02-19T12:10:25.520623Z",
     "shell.execute_reply": "2024-02-19T12:10:25.520156Z",
     "shell.execute_reply.started": "2024-02-19T12:10:25.481348Z"
    }
   },
   "outputs": [],
   "source": [
    "obs_days = [20231211, 20231212, 20231213, 20231214, 20231215, 20231218]"
   ]
  },
  {
   "cell_type": "code",
   "execution_count": 87,
   "id": "6040f80f-f9c7-4b6d-b866-a37a7d41a243",
   "metadata": {
    "execution": {
     "iopub.execute_input": "2024-02-19T12:10:26.711135Z",
     "iopub.status.busy": "2024-02-19T12:10:26.710703Z",
     "iopub.status.idle": "2024-02-19T12:10:26.752063Z",
     "shell.execute_reply": "2024-02-19T12:10:26.751663Z",
     "shell.execute_reply.started": "2024-02-19T12:10:26.711120Z"
    }
   },
   "outputs": [],
   "source": [
    "def get_events(dayObs):\n",
    "    \"\"\"\n",
    "    Identify slew events for a given dayObs\n",
    "    \"\"\"\n",
    "    eventMaker = TMAEventMaker()\n",
    "    events = eventMaker.getEvents(dayObs)\n",
    "    \n",
    "    # Get lists of slew and track events\n",
    "    slews = [e for e in events if e.type == TMAState.SLEWING]\n",
    "    tracks = [e for e in events if e.type == TMAState.TRACKING]\n",
    "    print(f\"{dayObs}: Found {len(slews)} slews and {len(tracks)} tracks\")\n",
    "    return slews"
   ]
  },
  {
   "cell_type": "code",
   "execution_count": 88,
   "id": "34564d44-e718-4b2b-b18a-2bb81eb34f05",
   "metadata": {
    "execution": {
     "iopub.execute_input": "2024-02-19T12:10:29.543605Z",
     "iopub.status.busy": "2024-02-19T12:10:29.543077Z",
     "iopub.status.idle": "2024-02-19T12:10:29.584835Z",
     "shell.execute_reply": "2024-02-19T12:10:29.584369Z",
     "shell.execute_reply.started": "2024-02-19T12:10:29.543585Z"
    }
   },
   "outputs": [],
   "source": [
    "def get_acc_jerk(time, velocity):\n",
    "    \"\"\"\n",
    "    From velocity data, calculate acceleration and jerk\n",
    "    \"\"\"\n",
    "    smoothing_factor=0.2\n",
    "    kernel_size = 5\n",
    "    kernel = np.ones(kernel_size) / kernel_size\n",
    "    \n",
    "    VelSpline = UnivariateSpline(time, velocity, s=0)\n",
    "    smoothedVel = np.convolve(VelSpline(time), kernel, mode='same')\n",
    "    VelSpline = UnivariateSpline(time, smoothedVel, s=smoothing_factor)\n",
    "\n",
    "    AccSpline = VelSpline.derivative(n=1)\n",
    "    smoothedAcc = np.convolve(AccSpline(time), kernel, mode='same')\n",
    "    AccSpline = UnivariateSpline(time, smoothedAcc, s=smoothing_factor)\n",
    "    \n",
    "    JerkSpline = AccSpline.derivative(n=1) \n",
    "\n",
    "    return VelSpline(time), AccSpline(time), JerkSpline(time)"
   ]
  },
  {
   "cell_type": "code",
   "execution_count": 89,
   "id": "1cca7704-b62d-4d98-92bc-d114f50b528a",
   "metadata": {
    "execution": {
     "iopub.execute_input": "2024-02-19T12:10:30.887133Z",
     "iopub.status.busy": "2024-02-19T12:10:30.886586Z",
     "iopub.status.idle": "2024-02-19T12:10:30.926265Z",
     "shell.execute_reply": "2024-02-19T12:10:30.925902Z",
     "shell.execute_reply.started": "2024-02-19T12:10:30.887117Z"
    }
   },
   "outputs": [],
   "source": [
    "async def data_per_slew(i, slew, debug=False):\n",
    "    \"\"\"\n",
    "    get TMA velocity data and power data for a given slew.\n",
    "\n",
    "    Calculate maximum velocity, acceleration and jerk values and minimum power draw\n",
    "    \"\"\"\n",
    "    data = [i, slew.dayObs, slew.duration, slew.begin, slew.end]\n",
    "    power_df = await client.select_time_series(tma_power_topic, '*', slew.begin, slew.end)\n",
    "    data.append(np.min(power_df.powerSupplyVoltage))\n",
    "\n",
    "    az = await client.select_time_series(tma_az_topic, ['*'], slew.begin, slew.end)\n",
    "    el = await client.select_time_series(tma_el_topic, ['*'], slew.begin, slew.end)\n",
    "\n",
    "    AzBegin = az.actualPosition.iloc[0]\n",
    "    AzEnd   = az.actualPosition.iloc[-1]\n",
    "    ElBegin = el.actualPosition.iloc[0]\n",
    "    ElEnd   = el.actualPosition.iloc[-1]\n",
    "\n",
    "    AzVel, AzAcc, AzJerk = get_acc_jerk(az.timestamp, az.actualVelocity)\n",
    "    ElVel, ElAcc, ElJerk = get_acc_jerk(el.timestamp, el.actualVelocity)\n",
    "\n",
    "    for var in [AzVel, AzAcc, AzJerk, ElVel, ElAcc, ElJerk, AzBegin, AzEnd, ElBegin, ElEnd]:\n",
    "        data.append(np.max(np.abs(var)))\n",
    "    if debug:\n",
    "        return az, el, power_df, data\n",
    "    else:\n",
    "        return data"
   ]
  },
  {
   "cell_type": "code",
   "execution_count": 90,
   "id": "cda71afb-bd9a-4c20-9336-e1f928ec5133",
   "metadata": {
    "execution": {
     "iopub.execute_input": "2024-02-19T12:10:33.538859Z",
     "iopub.status.busy": "2024-02-19T12:10:33.538314Z",
     "iopub.status.idle": "2024-02-19T12:13:13.582145Z",
     "shell.execute_reply": "2024-02-19T12:13:13.581721Z",
     "shell.execute_reply.started": "2024-02-19T12:10:33.538842Z"
    }
   },
   "outputs": [
    {
     "data": {
      "text/html": [
       "<pre style=\"margin: 0.1em;\n",
       "padding-left: 0.25em;\n",
       "border-left-style: solid;\n",
       "font-family: var(--jp-code-font-family);\n",
       "font-size: var(--jp-code-font-size);\n",
       "line-height: var(--jp-code-line-height);\n",
       "\"><span style=\"color: var(--jp-warn-color2)\">lsst.summit.utils.tmaUtils</span> <span style=\"color: var(--jp-info-color0)\">INFO</span>: Retrieving mount data for 20231211 from the EFD</pre>"
      ],
      "text/plain": [
       "<IPython.core.display.HTML object>"
      ]
     },
     "metadata": {},
     "output_type": "display_data"
    },
    {
     "name": "stdout",
     "output_type": "stream",
     "text": [
      "20231211: Found 528 slews and 449 tracks\n"
     ]
    },
    {
     "data": {
      "text/html": [
       "<pre style=\"margin: 0.1em;\n",
       "padding-left: 0.25em;\n",
       "border-left-style: solid;\n",
       "font-family: var(--jp-code-font-family);\n",
       "font-size: var(--jp-code-font-size);\n",
       "line-height: var(--jp-code-line-height);\n",
       "\"><span style=\"color: var(--jp-warn-color2)\">lsst.summit.utils.tmaUtils</span> <span style=\"color: var(--jp-info-color0)\">INFO</span>: Retrieving mount data for 20231212 from the EFD</pre>"
      ],
      "text/plain": [
       "<IPython.core.display.HTML object>"
      ]
     },
     "metadata": {},
     "output_type": "display_data"
    },
    {
     "name": "stdout",
     "output_type": "stream",
     "text": [
      "20231212: Found 211 slews and 124 tracks\n"
     ]
    },
    {
     "data": {
      "text/html": [
       "<pre style=\"margin: 0.1em;\n",
       "padding-left: 0.25em;\n",
       "border-left-style: solid;\n",
       "font-family: var(--jp-code-font-family);\n",
       "font-size: var(--jp-code-font-size);\n",
       "line-height: var(--jp-code-line-height);\n",
       "\"><span style=\"color: var(--jp-warn-color2)\">lsst.summit.utils.tmaUtils</span> <span style=\"color: var(--jp-info-color0)\">INFO</span>: Retrieving mount data for 20231213 from the EFD</pre>"
      ],
      "text/plain": [
       "<IPython.core.display.HTML object>"
      ]
     },
     "metadata": {},
     "output_type": "display_data"
    },
    {
     "name": "stdout",
     "output_type": "stream",
     "text": [
      "20231213: Found 75 slews and 2 tracks\n"
     ]
    },
    {
     "data": {
      "text/html": [
       "<pre style=\"margin: 0.1em;\n",
       "padding-left: 0.25em;\n",
       "border-left-style: solid;\n",
       "font-family: var(--jp-code-font-family);\n",
       "font-size: var(--jp-code-font-size);\n",
       "line-height: var(--jp-code-line-height);\n",
       "\"><span style=\"color: var(--jp-warn-color2)\">lsst.summit.utils.tmaUtils</span> <span style=\"color: var(--jp-info-color0)\">INFO</span>: Retrieving mount data for 20231214 from the EFD</pre>"
      ],
      "text/plain": [
       "<IPython.core.display.HTML object>"
      ]
     },
     "metadata": {},
     "output_type": "display_data"
    },
    {
     "name": "stdout",
     "output_type": "stream",
     "text": [
      "20231214: Found 398 slews and 265 tracks\n"
     ]
    },
    {
     "data": {
      "text/html": [
       "<pre style=\"margin: 0.1em;\n",
       "padding-left: 0.25em;\n",
       "border-left-style: solid;\n",
       "font-family: var(--jp-code-font-family);\n",
       "font-size: var(--jp-code-font-size);\n",
       "line-height: var(--jp-code-line-height);\n",
       "\"><span style=\"color: var(--jp-warn-color2)\">lsst.summit.utils.tmaUtils</span> <span style=\"color: var(--jp-info-color0)\">INFO</span>: Retrieving mount data for 20231215 from the EFD</pre>"
      ],
      "text/plain": [
       "<IPython.core.display.HTML object>"
      ]
     },
     "metadata": {},
     "output_type": "display_data"
    },
    {
     "name": "stdout",
     "output_type": "stream",
     "text": [
      "20231215: Found 239 slews and 126 tracks\n"
     ]
    },
    {
     "data": {
      "text/html": [
       "<pre style=\"margin: 0.1em;\n",
       "padding-left: 0.25em;\n",
       "border-left-style: solid;\n",
       "font-family: var(--jp-code-font-family);\n",
       "font-size: var(--jp-code-font-size);\n",
       "line-height: var(--jp-code-line-height);\n",
       "\"><span style=\"color: var(--jp-warn-color2)\">lsst.summit.utils.tmaUtils</span> <span style=\"color: var(--jp-info-color0)\">INFO</span>: Retrieving mount data for 20231218 from the EFD</pre>"
      ],
      "text/plain": [
       "<IPython.core.display.HTML object>"
      ]
     },
     "metadata": {},
     "output_type": "display_data"
    },
    {
     "name": "stdout",
     "output_type": "stream",
     "text": [
      "20231218: Found 227 slews and 39 tracks\n"
     ]
    },
    {
     "data": {
      "text/plain": [
       "1580"
      ]
     },
     "execution_count": 90,
     "metadata": {},
     "output_type": "execute_result"
    }
   ],
   "source": [
    "Data = []\n",
    "failed = []\n",
    "data_names = ['slew_id','dayobs','duration','begin','end','min_power','az_max_vel','az_max_acc','az_max_jerk','el_max_vel','el_max_acc','el_max_jerk', 'az_pos_begin', 'az_pos_end', 'el_pos_begin', 'el_pos_end']\n",
    "for dayObs in obs_days:\n",
    "    try:\n",
    "        slews = get_events(dayObs)\n",
    "    except:\n",
    "        print(dayObs)\n",
    "    for i, slew in enumerate(slews):\n",
    "        try:\n",
    "            d = await data_per_slew(i, slew)\n",
    "            Data.append(d)\n",
    "        except Exception as e:\n",
    "            failed.append(i)\n",
    "            #print(i, e)\n",
    "df = pd.DataFrame(np.vstack(Data),columns=data_names)\n",
    "len(df)"
   ]
  },
  {
   "cell_type": "code",
   "execution_count": 20,
   "id": "36a0fbcc-5d88-4c1a-afc6-ecef8abba4a7",
   "metadata": {
    "execution": {
     "iopub.execute_input": "2024-02-19T08:01:10.668254Z",
     "iopub.status.busy": "2024-02-19T08:01:10.667943Z",
     "iopub.status.idle": "2024-02-19T08:01:10.724270Z",
     "shell.execute_reply": "2024-02-19T08:01:10.723738Z",
     "shell.execute_reply.started": "2024-02-19T08:01:10.668239Z"
    }
   },
   "outputs": [
    {
     "ename": "NameError",
     "evalue": "name 'df' is not defined",
     "output_type": "error",
     "traceback": [
      "\u001b[0;31m---------------------------------------------------------------------------\u001b[0m",
      "\u001b[0;31mNameError\u001b[0m                                 Traceback (most recent call last)",
      "Cell \u001b[0;32mIn[20], line 2\u001b[0m\n\u001b[1;32m      1\u001b[0m \u001b[38;5;66;03m#Remove extreme outliers\u001b[39;00m\n\u001b[0;32m----> 2\u001b[0m df \u001b[38;5;241m=\u001b[39m \u001b[43mdf\u001b[49m[(df\u001b[38;5;241m.\u001b[39mel_max_jerk \u001b[38;5;241m<\u001b[39m \u001b[38;5;241m100\u001b[39m)\u001b[38;5;241m&\u001b[39m(df\u001b[38;5;241m.\u001b[39mduration\u001b[38;5;241m<\u001b[39m\u001b[38;5;241m3000\u001b[39m)]\n",
      "\u001b[0;31mNameError\u001b[0m: name 'df' is not defined"
     ]
    }
   ],
   "source": [
    "#Remove extreme outliers\n",
    "df = df[(df.el_max_jerk < 100)&(df.duration<3000)]"
   ]
  },
  {
   "cell_type": "markdown",
   "id": "61ac92fc-1c16-4102-9b08-094525142f7e",
   "metadata": {},
   "source": [
    "### Analysis"
   ]
  },
  {
   "cell_type": "code",
   "execution_count": null,
   "id": "1642ab2d-1584-45be-a5f4-83765968cd03",
   "metadata": {},
   "outputs": [],
   "source": []
  }
 ],
 "metadata": {
  "kernelspec": {
   "display_name": "LSST",
   "language": "python",
   "name": "lsst"
  },
  "language_info": {
   "codemirror_mode": {
    "name": "ipython",
    "version": 3
   },
   "file_extension": ".py",
   "mimetype": "text/x-python",
   "name": "python",
   "nbconvert_exporter": "python",
   "pygments_lexer": "ipython3",
   "version": "3.11.7"
  }
 },
 "nbformat": 4,
 "nbformat_minor": 5
}
