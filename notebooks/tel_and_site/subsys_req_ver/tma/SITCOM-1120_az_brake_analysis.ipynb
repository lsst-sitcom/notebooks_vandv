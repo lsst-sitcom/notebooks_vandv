{
 "cells": [
  {
   "cell_type": "markdown",
   "id": "2158adab-9adf-4587-b2c2-3421c0ff3467",
   "metadata": {},
   "source": [
    "# SITCOM-1120: Brake analysis"
   ]
  },
  {
   "cell_type": "markdown",
   "id": "757a4561-0528-492d-bf39-280d740c97db",
   "metadata": {},
   "source": [
    "# Data\n",
    "#### e-stop - rolex\n",
    " * 22-11-2023\n",
    " 1.  Fisrt log TMA:  2023-11-22T19:56:33.622523   /// bquint@love01.cp.lsst.org  /\n",
    " 2.  by 2023-11-23T00:51:28 / running the TMA Az/El breaks tests( E-stop ) /// ashugart@love01.cp.lsst.org \n",
    " 3.  by 2023-11-23T02:32:17.254532 /    bquint@love01.cp.lsst.org \n",
    "   * We ran another TMA Brake Test earlier today. Taking note now. 2023-11-23 00:38 UTC - 2023-11-23 00:42 UTC\n",
    "   * TMA Brake tests in Azimuth - Going from 151º to 0º\n",
    "   * We stopped around 102.5º, and we overshot until 89.67º\n",
    " 4. 2023-11-23T03:08:50.50 /   bquint@love01.cp.lsst.org \n",
    "   * - 2023-11-23 01:02 UTC - 2023-11-23 01:05 UTC\n",
    "   * - TMA Brake tests in Elevation - Going up from 20º to 80º.\n",
    "   * - We stopped around 40º, and we overshooted until 45º.\n",
    " 5.  2023-11-23 01:35 UTC - 2023-11-23 01:40 UTC / by bquint@love01.cp.lsst.org 2023-11-23T03:10:09\n",
    "   * - TMA Brake tests in Elevation - Going down from 80º to 20º.\n",
    "   * - We stopped around 57.8º, and we overshooted until 53.8º.\n",
    " * \n",
    "\n",
    "\n"
   ]
  },
  {
   "cell_type": "code",
   "execution_count": null,
   "id": "479e57a1-08a7-4ca1-a322-1769f1a5468f",
   "metadata": {},
   "outputs": [],
   "source": [
    "import sys, time, os, asyncio, glob\n",
    "from datetime import datetime\n",
    "import numpy as np\n",
    "import matplotlib.pyplot as plt\n",
    "import pickle as pkl\n",
    "from astropy.time import Time, TimeDelta\n",
    "\n",
    "from lsst_efd_client import EfdClient\n",
    "\n",
    "client = EfdClient(\"usdf_efd\")"
   ]
  },
  {
   "cell_type": "code",
   "execution_count": null,
   "id": "cbaa3202-2505-4d5d-8263-e65b018df0bc",
   "metadata": {},
   "outputs": [],
   "source": [
    "%load_ext lab_black\n",
    "%load_ext autoreload\n",
    "%autoreload 2"
   ]
  },
  {
   "cell_type": "code",
   "execution_count": null,
   "id": "536cb813-1441-4f31-880b-15722d070e42",
   "metadata": {},
   "outputs": [],
   "source": [
    "def addTime(t_start, t_end):\n",
    "    start = Time(t_start, scale=\"utc\")\n",
    "    end = Time(t_end, scale=\"utc\")\n",
    "    return (start, end)\n",
    "\n",
    "\n",
    "def accel(v, t):\n",
    "    a = np.gradient(v, t)\n",
    "    return a\n",
    "\n",
    "\n",
    "def plotAz(az, acceleration=None):\n",
    "    plt.figure(figsize=(16, 12))\n",
    "    plt.suptitle(\"lsst.sal.MTMount.azimuth\", fontsize=16)\n",
    "    # Position\n",
    "    plt.subplot(3, 1, 1)\n",
    "    plt.plot(az[\"actualPosition\"], label=\"Position\")\n",
    "    plt.plot(az[\"demandPosition\"], label=\"demandPosition\")\n",
    "    plt.xlabel(\"Time\")\n",
    "    plt.ylabel(\"Posición\")\n",
    "    plt.legend()\n",
    "\n",
    "    # Velocity\n",
    "    plt.subplot(3, 1, 2)\n",
    "    plt.plot(az[\"actualVelocity\"], label=\"Velocity\")\n",
    "    plt.plot(az[\"demandVelocity\"], label=\"demandVelocity\")\n",
    "    plt.xlabel(\"Time\")\n",
    "    plt.ylabel(\"Velocity\")\n",
    "    plt.legend()\n",
    "\n",
    "    # Acceleration\n",
    "    if acceleration is not None:\n",
    "        plt.subplot(3, 1, 3)\n",
    "        plt.plot(acceleration, label=\"Acceleration\")\n",
    "        plt.xlabel(\"Time\")\n",
    "        plt.ylabel(\"Acceleration\")\n",
    "        plt.legend()\n",
    "\n",
    "    # disign\n",
    "    plt.grid(True, color=\"gray\")\n",
    "    plt.tight_layout()\n",
    "    plt.show()\n",
    "    return\n",
    "\n",
    "\n",
    "def plotEl(el, acceleration=None):\n",
    "    plt.figure(figsize=(16, 12))\n",
    "    # Common title for all subplots\n",
    "    plt.suptitle(\"lsst.sal.MTMount.elevation\", fontsize=16)\n",
    "    # Position\n",
    "    plt.subplot(3, 1, 1)\n",
    "    plt.plot(el[\"actualPosition\"], label=\"Position\")\n",
    "    plt.plot(el[\"demandPosition\"], label=\"demandPosition\")\n",
    "    plt.xlabel(\"Time\")\n",
    "    plt.ylabel(\"Posición\")\n",
    "    plt.legend()\n",
    "\n",
    "    # Velocity\n",
    "    plt.subplot(3, 1, 2)\n",
    "    plt.plot(el[\"actualVelocity\"], label=\"Velocity\")\n",
    "    plt.plot(el[\"demandVelocity\"], label=\"demandVelocity\")\n",
    "    plt.xlabel(\"Time\")\n",
    "    plt.ylabel(\"Velocity\")\n",
    "    plt.legend()\n",
    "\n",
    "    # Acceleration\n",
    "    if acceleration is not None:\n",
    "        plt.subplot(3, 1, 3)\n",
    "        plt.plot(acceleration, label=\"Acceleration\")\n",
    "        plt.xlabel(\"Time\")\n",
    "        plt.ylabel(\"Acceleration\")\n",
    "        plt.legend()\n",
    "        plt.ylim(10, -10)\n",
    "\n",
    "    # disign\n",
    "    plt.grid(True, color=\"gray\")\n",
    "    plt.tight_layout()\n",
    "    plt.show()\n",
    "    return"
   ]
  },
  {
   "cell_type": "markdown",
   "id": "53e51b88-03e2-4735-bdd1-945857615924",
   "metadata": {},
   "source": [
    "# Running "
   ]
  },
  {
   "cell_type": "markdown",
   "id": "a75625d8-4578-403d-9076-6a9be3e6a6d1",
   "metadata": {},
   "source": [
    "## Case 1:\n",
    " 1.  Observing time started at : Fisrt log TMA:  2023-11-22T19:56:33.622523   /// bquint@love01.cp.lsst.org  /"
   ]
  },
  {
   "cell_type": "code",
   "execution_count": null,
   "id": "1a1f8c58-7e12-4bf9-9adf-e926373724ed",
   "metadata": {},
   "outputs": [],
   "source": [
    "# obsTime = addTime(\"2023-11-22T18:00:00\", \"2023-11-23T06:00:00\")\n",
    "obsTime = addTime(\"2023-11-22T20:00:00\", \"2023-11-23T04:00:00\")\n",
    "\n",
    "az = await client.select_time_series(\n",
    "    \"lsst.sal.MTMount.azimuth\",\n",
    "    [\n",
    "        \"actualPosition\",\n",
    "        \"actualVelocity\",\n",
    "        \"demandPosition\",\n",
    "        \"demandVelocity\",\n",
    "        \"actualAcceleration\",\n",
    "        \"timestamp\",\n",
    "    ],\n",
    "    obsTime[0],\n",
    "    obsTime[1],\n",
    ")\n",
    "\n",
    "el = await client.select_time_series(\n",
    "    \"lsst.sal.MTMount.elevation\",\n",
    "    [\n",
    "        \"actualPosition\",\n",
    "        \"actualVelocity\",\n",
    "        \"demandPosition\",\n",
    "        \"demandVelocity\",\n",
    "        \"actualAcceleration\",\n",
    "        \"timestamp\",\n",
    "    ],\n",
    "    obsTime[0],\n",
    "    obsTime[1],\n",
    ")\n",
    "\n",
    "print(len(az), len(el))"
   ]
  },
  {
   "cell_type": "code",
   "execution_count": null,
   "id": "0996f891-af49-4473-99e9-4c7771caffa6",
   "metadata": {},
   "outputs": [],
   "source": [
    "accAz = accel(az[\"actualVelocity\"], az[\"timestamp\"])\n",
    "accEl = accel(el[\"actualVelocity\"], el[\"timestamp\"])"
   ]
  },
  {
   "cell_type": "code",
   "execution_count": null,
   "id": "bda21ec9-d7c6-451d-97a1-a0cf1e8b871e",
   "metadata": {},
   "outputs": [],
   "source": [
    "# plotAz(az, acceleration=None)\n",
    "plotAz(az, accAz)"
   ]
  },
  {
   "cell_type": "code",
   "execution_count": null,
   "id": "df54b7aa-3656-4f7c-aa9f-e4e1f9fd2f6b",
   "metadata": {},
   "outputs": [],
   "source": [
    "# plotEl(el, acceleration=None)\n",
    "plotEl(el, accEl)"
   ]
  },
  {
   "cell_type": "markdown",
   "id": "4ce794d1-9d13-4d9a-a5ef-235369c7d829",
   "metadata": {},
   "source": [
    "# Case 2:\n",
    " 2.  by 2023-11-23T00:51:28 / running the TMA Az/El breaks tests( E-stop ) /// ashugart@love01.cp.lsst.org \n"
   ]
  },
  {
   "cell_type": "code",
   "execution_count": null,
   "id": "1bc17596-04ed-4009-b8fc-e7fd5c7ad173",
   "metadata": {},
   "outputs": [],
   "source": [
    "obsTime = addTime(\"2023-11-23T00:30:00\", \"2023-11-23T01:05:00\")\n",
    "\n",
    "az = await client.select_time_series(\n",
    "    \"lsst.sal.MTMount.azimuth\",\n",
    "    [\n",
    "        \"actualPosition\",\n",
    "        \"actualVelocity\",\n",
    "        \"demandPosition\",\n",
    "        \"demandVelocity\",\n",
    "        \"actualAcceleration\",\n",
    "        \"timestamp\",\n",
    "    ],\n",
    "    obsTime[0],\n",
    "    obsTime[1],\n",
    ")\n",
    "\n",
    "el = await client.select_time_series(\n",
    "    \"lsst.sal.MTMount.elevation\",\n",
    "    [\n",
    "        \"actualPosition\",\n",
    "        \"actualVelocity\",\n",
    "        \"demandPosition\",\n",
    "        \"demandVelocity\",\n",
    "        \"actualAcceleration\",\n",
    "        \"timestamp\",\n",
    "    ],\n",
    "    obsTime[0],\n",
    "    obsTime[1],\n",
    ")\n",
    "\n",
    "accAz = accel(az[\"actualVelocity\"], az[\"timestamp\"])\n",
    "accEl = accel(el[\"actualVelocity\"], el[\"timestamp\"])"
   ]
  },
  {
   "cell_type": "code",
   "execution_count": null,
   "id": "0168ec7c-ceb6-47fa-a503-7cf3819ad57f",
   "metadata": {},
   "outputs": [],
   "source": [
    "# plotAz(az, acceleration=None)\n",
    "plotAz(az, accAz)"
   ]
  },
  {
   "cell_type": "code",
   "execution_count": null,
   "id": "3535fabf-2e3b-45ea-bd36-78a5a98c9660",
   "metadata": {},
   "outputs": [],
   "source": [
    "# plotEl(el, acceleration=None)\n",
    "plotEl(el, accEl)"
   ]
  },
  {
   "cell_type": "markdown",
   "id": "f36c93f1-642f-4639-90df-f15dd43b535a",
   "metadata": {},
   "source": [
    "# Case 3:\n",
    " 3.  by 2023-11-23T02:32:17.254532 /    bquint@love01.cp.lsst.org \n",
    "   * We ran another TMA Brake Test earlier today. Taking note now. 2023-11-23 00:38 UTC - 2023-11-23 00:42 UTC\n",
    "   * TMA Brake tests in Azimuth - Going from 151º to 0º\n",
    "   * We stopped around 102.5º, and we overshot until 89.67º\n"
   ]
  },
  {
   "cell_type": "code",
   "execution_count": null,
   "id": "6292040e-3171-4d7a-ad38-d2c5cf26ec93",
   "metadata": {},
   "outputs": [],
   "source": [
    "obsTime = addTime(\"2023-11-23T00:30:00\", \"2023-11-23T00:50:00\")\n",
    "\n",
    "az = await client.select_time_series(\n",
    "    \"lsst.sal.MTMount.azimuth\",\n",
    "    [\n",
    "        \"actualPosition\",\n",
    "        \"actualVelocity\",\n",
    "        \"demandPosition\",\n",
    "        \"demandVelocity\",\n",
    "        \"actualAcceleration\",\n",
    "        \"timestamp\",\n",
    "    ],\n",
    "    obsTime[0],\n",
    "    obsTime[1],\n",
    ")\n",
    "\n",
    "el = await client.select_time_series(\n",
    "    \"lsst.sal.MTMount.elevation\",\n",
    "    [\n",
    "        \"actualPosition\",\n",
    "        \"actualVelocity\",\n",
    "        \"demandPosition\",\n",
    "        \"demandVelocity\",\n",
    "        \"actualAcceleration\",\n",
    "        \"timestamp\",\n",
    "    ],\n",
    "    obsTime[0],\n",
    "    obsTime[1],\n",
    ")\n",
    "\n",
    "accAz = accel(az[\"actualVelocity\"], az[\"timestamp\"])\n",
    "accEl = accel(el[\"actualVelocity\"], el[\"timestamp\"])"
   ]
  },
  {
   "cell_type": "code",
   "execution_count": null,
   "id": "12bec242-5f61-46e9-8c2b-1156ecb24ca4",
   "metadata": {},
   "outputs": [],
   "source": [
    "# plotAz(az, acceleration=None)\n",
    "plotAz(az, accAz)"
   ]
  },
  {
   "cell_type": "code",
   "execution_count": null,
   "id": "673e9c40-fbec-4ff5-be4c-6b9f6c1817c4",
   "metadata": {},
   "outputs": [],
   "source": [
    "plotEl(el, accEl)"
   ]
  },
  {
   "cell_type": "markdown",
   "id": "c9531cdb-e5d1-4cd5-8e59-58d3bd9e67fd",
   "metadata": {},
   "source": [
    "# Case 4:\n",
    " 4. 2023-11-23T03:08:50.50 /   bquint@love01.cp.lsst.org \n",
    "   * - 2023-11-23 01:02 UTC - 2023-11-23 01:05 UTC\n",
    "   * - TMA Brake tests in Elevation - Going up from 20º to 80º.\n",
    "   * - We stopped around 40º, and we overshooted until 45º.\n"
   ]
  },
  {
   "cell_type": "code",
   "execution_count": null,
   "id": "18b098da-a4a3-4447-b3c4-dda385402035",
   "metadata": {},
   "outputs": [],
   "source": [
    "obsTime = addTime(\"2023-11-23T00:55:00\", \"2023-11-23T01:10:00\")\n",
    "\n",
    "az = await client.select_time_series(\n",
    "    \"lsst.sal.MTMount.azimuth\",\n",
    "    [\n",
    "        \"actualPosition\",\n",
    "        \"actualVelocity\",\n",
    "        \"demandPosition\",\n",
    "        \"demandVelocity\",\n",
    "        \"actualAcceleration\",\n",
    "        \"timestamp\",\n",
    "    ],\n",
    "    obsTime[0],\n",
    "    obsTime[1],\n",
    ")\n",
    "\n",
    "el = await client.select_time_series(\n",
    "    \"lsst.sal.MTMount.elevation\",\n",
    "    [\n",
    "        \"actualPosition\",\n",
    "        \"actualVelocity\",\n",
    "        \"demandPosition\",\n",
    "        \"demandVelocity\",\n",
    "        \"actualAcceleration\",\n",
    "        \"timestamp\",\n",
    "    ],\n",
    "    obsTime[0],\n",
    "    obsTime[1],\n",
    ")\n",
    "\n",
    "accAz = accel(az[\"actualVelocity\"], az[\"timestamp\"])\n",
    "accEl = accel(el[\"actualVelocity\"], el[\"timestamp\"])"
   ]
  },
  {
   "cell_type": "code",
   "execution_count": null,
   "id": "161895ae-8bf8-4125-8c2e-a1865a83e21d",
   "metadata": {},
   "outputs": [],
   "source": [
    "# plotAz(az, acceleration=None)\n",
    "plotAz(az, accAz)"
   ]
  },
  {
   "cell_type": "code",
   "execution_count": null,
   "id": "ec105829-2503-4517-8810-eac5ecbadcb3",
   "metadata": {},
   "outputs": [],
   "source": [
    "plotEl(el, accEl)"
   ]
  },
  {
   "cell_type": "markdown",
   "id": "f622a396-d58b-44f5-b187-63d495edfb8e",
   "metadata": {},
   "source": [
    "# Case 5:\n",
    " 5.  2023-11-23 01:35 UTC - 2023-11-23 01:40 UTC / by bquint@love01.cp.lsst.org 2023-11-23T03:10:09\n",
    "   * - TMA Brake tests in Elevation - Going down from 80º to 20º.\n",
    "   * - We stopped around 57.8º, and we overshooted until 53.8º."
   ]
  },
  {
   "cell_type": "code",
   "execution_count": null,
   "id": "350b07a6-fa58-440d-8bff-bcd34a3145b1",
   "metadata": {},
   "outputs": [],
   "source": [
    "obsTime = addTime(\"2023-11-23T00:30:00\", \"2023-11-23T01:00:00\")\n",
    "\n",
    "az = await client.select_time_series(\n",
    "    \"lsst.sal.MTMount.azimuth\",\n",
    "    [\n",
    "        \"actualPosition\",\n",
    "        \"actualVelocity\",\n",
    "        \"demandPosition\",\n",
    "        \"demandVelocity\",\n",
    "        \"actualAcceleration\",\n",
    "        \"timestamp\",\n",
    "    ],\n",
    "    obsTime[0],\n",
    "    obsTime[1],\n",
    ")\n",
    "\n",
    "el = await client.select_time_series(\n",
    "    \"lsst.sal.MTMount.elevation\",\n",
    "    [\n",
    "        \"actualPosition\",\n",
    "        \"actualVelocity\",\n",
    "        \"demandPosition\",\n",
    "        \"demandVelocity\",\n",
    "        \"actualAcceleration\",\n",
    "        \"timestamp\",\n",
    "    ],\n",
    "    obsTime[0],\n",
    "    obsTime[1],\n",
    ")\n",
    "\n",
    "accAz = accel(az[\"actualVelocity\"], az[\"timestamp\"])\n",
    "accEl = accel(el[\"actualVelocity\"], el[\"timestamp\"])"
   ]
  },
  {
   "cell_type": "code",
   "execution_count": null,
   "id": "c0fc6e32-c021-4a05-b9c4-f954e82c6d0f",
   "metadata": {},
   "outputs": [],
   "source": [
    "# plotAz(az, acceleration=None)\n",
    "plotAz(az, accAz)"
   ]
  },
  {
   "cell_type": "code",
   "execution_count": null,
   "id": "f724e27a-960c-490a-aa2e-da5f4aedf66c",
   "metadata": {},
   "outputs": [],
   "source": [
    "plotEl(el, accEl)"
   ]
  },
  {
   "cell_type": "markdown",
   "id": "c7d91780-4c98-47b9-b994-8965c0bd77f0",
   "metadata": {},
   "source": [
    "## Next:\n",
    "1. Summary state error , search for logs .. each one\n",
    "2. Search in GIS. / Search for FAULT \n",
    "3. Search for cmd_fault an E-Stop words?"
   ]
  },
  {
   "cell_type": "code",
   "execution_count": null,
   "id": "37e0ebaf-e3e9-47ae-8ec1-8189afd7f451",
   "metadata": {},
   "outputs": [],
   "source": []
  }
 ],
 "metadata": {
  "kernelspec": {
   "display_name": "LSST",
   "language": "python",
   "name": "lsst"
  },
  "language_info": {
   "codemirror_mode": {
    "name": "ipython",
    "version": 3
   },
   "file_extension": ".py",
   "mimetype": "text/x-python",
   "name": "python",
   "nbconvert_exporter": "python",
   "pygments_lexer": "ipython3",
   "version": "3.11.7"
  }
 },
 "nbformat": 4,
 "nbformat_minor": 5
}
