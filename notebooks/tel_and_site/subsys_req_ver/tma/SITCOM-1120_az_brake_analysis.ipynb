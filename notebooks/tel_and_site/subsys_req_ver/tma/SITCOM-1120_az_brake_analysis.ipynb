{
 "cells": [
  {
   "cell_type": "markdown",
   "id": "2158adab-9adf-4587-b2c2-3421c0ff3467",
   "metadata": {},
   "source": [
    "# SITCOM-1120: Brake analysis"
   ]
  },
  {
   "cell_type": "code",
   "execution_count": null,
   "id": "479e57a1-08a7-4ca1-a322-1769f1a5468f",
   "metadata": {},
   "outputs": [],
   "source": [
    "import sys, time, os, asyncio, glob\n",
    "from datetime import datetime\n",
    "import numpy as np\n",
    "import matplotlib.pyplot as plt\n",
    "import pickle as pkl\n",
    "from astropy.time import Time, TimeDelta\n",
    "\n",
    "from lsst_efd_client import EfdClient\n",
    "client = EfdClient(\"usdf_efd\")"
   ]
  },
  {
   "cell_type": "code",
   "execution_count": null,
   "id": "6e9f0c95-b248-48db-b381-00b0986a5b4c",
   "metadata": {},
   "outputs": [],
   "source": [
    "def TranTime(t_start, t_end):    \n",
    "    start = Time(t_start, scale='utc')\n",
    "    end = Time(t_end, scale='utc')\n",
    "    return (start, end)\n",
    "    \n",
    "def accel(v, t):\n",
    "    a = np.gradient(v, t)\n",
    "    return "
   ]
  },
  {
   "cell_type": "code",
   "execution_count": null,
   "id": "2663b9e1-fbbf-42c2-bb2d-b280d44884c6",
   "metadata": {},
   "outputs": [],
   "source": []
  },
  {
   "cell_type": "code",
   "execution_count": null,
   "id": "1a1f8c58-7e12-4bf9-9adf-e926373724ed",
   "metadata": {},
   "outputs": [],
   "source": [
    "t_start = \"2023-11-22T18:00:00\"\n",
    "t_end   = \"2023-11-23T06:00:00\"\n",
    "\n",
    "start = Time(t_start, scale='utc')\n",
    "end = Time(t_end, scale='utc')\n",
    "\n",
    "az = await client.select_time_series('lsst.sal.MTMount.azimuth', \\\n",
    "                                            ['actualPosition', 'actualVelocity','demandPosition','demandVelocity','actualAcceleration', 'timestamp'],  start, end)\n",
    "\n",
    "el = await client.select_time_series('lsst.sal.MTMount.elevation', \\\n",
    "                                            ['actualPosition', 'actualVelocity','demandPosition','demandVelocity','actualAcceleration', 'timestamp'],  start, end)\n",
    "\n",
    "print(len(az), len(el))"
   ]
  },
  {
   "cell_type": "code",
   "execution_count": null,
   "id": "536cb813-1441-4f31-880b-15722d070e42",
   "metadata": {},
   "outputs": [],
   "source": [
    "def plot3( ):\n",
    "    plt.figure(figsize=(16, 12 ))\n",
    "\n",
    "    # Position \n",
    "    plt.subplot(3, 1, 1)\n",
    "    plt.plot(az['actualPosition'], label='Position')\n",
    "    plt.plot(az['demandPosition'], label='demandPosition')\n",
    "    plt.xlabel('Time')\n",
    "    plt.ylabel('Posición')\n",
    "    plt.legend()\n",
    "\n",
    "    # Velocity\n",
    "    plt.subplot(3, 1, 2)\n",
    "    plt.plot(az['actualVelocity'], label='Velocity')\n",
    "    plt.plot(az['demandVelocity'], label='demandVelocity')\n",
    "    plt.xlabel('Time')\n",
    "    plt.ylabel('Velocity')\n",
    "    plt.legend()\n",
    "\n",
    "    # Acceleration\n",
    "    plt.subplot(3, 1, 3)\n",
    "    plt.plot(az['actualAcceleration'], label='Acceleration')\n",
    "    plt.xlabel('Time')\n",
    "    plt.ylabel('Acceleration')\n",
    "    plt.legend()\n",
    "\n",
    "    # disign\n",
    "    plt.grid(True)\n",
    "    plt.tight_layout()\n",
    "    plt.show()\n",
    "    return"
   ]
  },
  {
   "cell_type": "code",
   "execution_count": null,
   "id": "364c2a06-67e5-4626-96d6-dcde37de0118",
   "metadata": {},
   "outputs": [],
   "source": []
  },
  {
   "cell_type": "code",
   "execution_count": null,
   "id": "77f5a69e-a3c9-4d7c-8958-c9cb556c7689",
   "metadata": {},
   "outputs": [],
   "source": [
    "az['actualAcceleration'].tail()"
   ]
  },
  {
   "cell_type": "code",
   "execution_count": null,
   "id": "bda21ec9-d7c6-451d-97a1-a0cf1e8b871e",
   "metadata": {},
   "outputs": [],
   "source": []
  },
  {
   "cell_type": "code",
   "execution_count": null,
   "id": "6a97b075-4816-49d3-817f-cee0b78b4ddb",
   "metadata": {},
   "outputs": [],
   "source": [
    "def plot3( ):\n",
    "    plt.figure(figsize=(16, 12 ))\n",
    "\n",
    "    # Position \n",
    "    plt.subplot(3, 1, 1)\n",
    "    plt.plot(az['actualPosition'], label='Position')\n",
    "    plt.plot(az['demandPosition'], label='demandPosition')\n",
    "    plt.xlabel('Time')\n",
    "    plt.ylabel('Posición')\n",
    "    plt.legend()\n",
    "\n",
    "    # Velocity\n",
    "    plt.subplot(3, 1, 2)\n",
    "    plt.plot(az['actualVelocity'], label='Velocity')\n",
    "    plt.plot(az['demandVelocity'], label='demandVelocity')\n",
    "    plt.xlabel('Time')\n",
    "    plt.ylabel('Velocity')\n",
    "    plt.legend()\n",
    "\n",
    "    # Acceleration\n",
    "    plt.subplot(3, 1, 3)\n",
    "    plt.plot(az['actualAcceleration'], label='Acceleration')\n",
    "    plt.xlabel('Time')\n",
    "    plt.ylabel('Acceleration')\n",
    "    plt.legend()\n",
    "\n",
    "    # disign\n",
    "    plt.grid(True)\n",
    "    plt.tight_layout()\n",
    "    plt.show()\n",
    "    return"
   ]
  },
  {
   "cell_type": "code",
   "execution_count": null,
   "id": "910ba815-9ce8-4f84-9412-9b1b83971781",
   "metadata": {},
   "outputs": [],
   "source": []
  },
  {
   "cell_type": "code",
   "execution_count": null,
   "id": "526e31fb-30cb-42e6-b2ca-26d7212107d7",
   "metadata": {},
   "outputs": [],
   "source": [
    "t_start = \"2023-11-22T123:50:00\"\n",
    "t_end   = \"2023-11-23T06:00:00\"\n",
    "\n",
    "start = Time(t_start, scale='utc')\n",
    "end = Time(t_end, scale='utc')\n",
    "\n",
    "az = await client.select_time_series('lsst.sal.MTMount.azimuth', \\\n",
    "                                            ['actualPosition', 'actualVelocity','demandPosition','demandVelocity','actualAcceleration', 'timestamp'],  start, end)\n",
    "\n",
    "el = await client.select_time_series('lsst.sal.MTMount.elevation', \\\n",
    "                                            ['actualPosition', 'actualVelocity','demandPosition','demandVelocity','actualAcceleration', 'timestamp'],  start, end)\n"
   ]
  }
 ],
 "metadata": {
  "kernelspec": {
   "display_name": "LSST",
   "language": "python",
   "name": "lsst"
  },
  "language_info": {
   "codemirror_mode": {
    "name": "ipython",
    "version": 3
   },
   "file_extension": ".py",
   "mimetype": "text/x-python",
   "name": "python",
   "nbconvert_exporter": "python",
   "pygments_lexer": "ipython3",
   "version": "3.11.7"
  }
 },
 "nbformat": 4,
 "nbformat_minor": 5
}
