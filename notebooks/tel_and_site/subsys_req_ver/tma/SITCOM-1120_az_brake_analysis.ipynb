{
 "cells": [
  {
   "cell_type": "markdown",
   "id": "2158adab-9adf-4587-b2c2-3421c0ff3467",
   "metadata": {},
   "source": [
    "# SITCOM-1120: Brake analysis"
   ]
  },
  {
   "cell_type": "markdown",
   "id": "757a4561-0528-492d-bf39-280d740c97db",
   "metadata": {},
   "source": [
    "# Data\n",
    "#### e-stop - rolex\n",
    " * 22-11-2023\n",
    " 0.  Fisrt log TMA:  2023-11-22T19:56:33.622523   /// bquint@love01.cp.lsst.org  /\n",
    " 1.  by 2023-11-23T00:51:28 / running the TMA Az/El breaks tests( E-stop ) /// ashugart@love01.cp.lsst.org \n",
    " 2.  by 2023-11-23T02:32:17.254532 /    bquint@love01.cp.lsst.org \n",
    "   * We ran another TMA Brake Test earlier today. Taking note now. 2023-11-23 00:38 UTC - 2023-11-23 00:42 UTC\n",
    "   * TMA Brake tests in Azimuth - Going from 151º to 0º\n",
    "   * We stopped around 102.5º, and we overshot until 89.67º\n",
    " 3. 2023-11-23T03:08:50.50 /   bquint@love01.cp.lsst.org \n",
    "   * - 2023-11-23 01:02 UTC - 2023-11-23 01:05 UTC\n",
    "   * - TMA Brake tests in Elevation - Going up from 20º to 80º.\n",
    "   * - We stopped around 40º, and we overshooted until 45º.\n",
    " 4.  2023-11-23 01:35 UTC - 2023-11-23 01:40 UTC / by bquint@love01.cp.lsst.org 2023-11-23T03:10:09\n",
    "   * - TMA Brake tests in Elevation - Going down from 80º to 20º.\n",
    "   * - We stopped around 57.8º, and we overshooted until 53.8º.\n",
    "    \n",
    "---\n",
    "\n",
    " * BLOCK-142 : https://jira.lsstcorp.org/browse/BLOCK-142\n",
    "\n",
    "\n"
   ]
  },
  {
   "cell_type": "markdown",
   "id": "b78af94d-d6aa-490f-811e-d1d8f86ea953",
   "metadata": {},
   "source": [
    "# Imports"
   ]
  },
  {
   "cell_type": "code",
   "execution_count": null,
   "id": "479e57a1-08a7-4ca1-a322-1769f1a5468f",
   "metadata": {},
   "outputs": [],
   "source": [
    "import sys, time, os, asyncio, glob\n",
    "import numpy as np\n",
    "import pandas as pd\n",
    "import matplotlib.pyplot as plt\n",
    "import pickle as pkl\n",
    "from datetime import datetime\n",
    "from astropy.time import Time, TimeDelta\n",
    "\n",
    "from lsst_efd_client import EfdClient\n",
    "from lsst.summit.utils.efdUtils import makeEfdClient, getEfdData\n",
    "from scipy.interpolate import UnivariateSpline\n",
    "\n",
    "client = EfdClient(\"usdf_efd\")\n",
    "\n",
    "%load_ext lab_black\n",
    "%load_ext autoreload\n",
    "%autoreload 2\n",
    "%matplotlib inline"
   ]
  },
  {
   "cell_type": "markdown",
   "id": "6a12e4a0-ceec-4dc7-8086-3ece77d5bd66",
   "metadata": {},
   "source": [
    "# Functions"
   ]
  },
  {
   "cell_type": "markdown",
   "id": "97a0f6b4-0f64-42b9-ad2a-0c3d3ea8652a",
   "metadata": {},
   "source": [
    "## plot Azimuht(az, azXs, azVs, event1 = None event2=None)"
   ]
  },
  {
   "cell_type": "code",
   "execution_count": null,
   "id": "7f80130c-e20b-469f-9e7f-333a3faec40e",
   "metadata": {},
   "outputs": [],
   "source": [
    "def plot_az(az, azXs, azVs, event_1=None, event_2=None):\n",
    "    plt.figure(figsize=(16, 15))\n",
    "    plt.suptitle(\"lsst.sal.MTMount.azimuth\", fontsize=18, fontweight=\"bold\")\n",
    "\n",
    "    ###########\n",
    "    # Position\n",
    "    plt.subplot(4, 1, 1)\n",
    "    plt.plot(\n",
    "        az.index,\n",
    "        az[\"actualPosition\"],\n",
    "        label=\"Position\",\n",
    "    )\n",
    "    plt.plot(\n",
    "        az.index,\n",
    "        az[\"demandPosition\"],\n",
    "        label=\"demandPosition\",\n",
    "    )\n",
    "    plt.xlabel(\"Time\", fontsize=14)\n",
    "    plt.ylabel(\"Position\", fontsize=14)\n",
    "    plt.grid(\":\", alpha=0.5)  # or alpha=0.3\n",
    "    plt.legend(fontsize=14)\n",
    "    plt.xticks(fontsize=12.5, fontweight=\"bold\")\n",
    "    plt.yticks(fontsize=14)\n",
    "\n",
    "    # ++++++++++++++++++++++++++++++++++++++++++#\n",
    "    ############################################\n",
    "    if event_1 and event_2 is not None:\n",
    "        # Event line\n",
    "        event_datetime_1 = event_1.to_datetime()\n",
    "        event_datetime_2 = event_2.to_datetime()\n",
    "        event_time1 = pd.Timestamp(event_datetime_1)\n",
    "        event_time2 = pd.Timestamp(event_datetime_2)\n",
    "        plt.axvline(\n",
    "            x=event_time1,\n",
    "            color=\"r\",\n",
    "            linestyle=\"--\",\n",
    "            label=f\"status change: {event_time1}\",\n",
    "        )\n",
    "        plt.axvline(\n",
    "            x=event_time2,\n",
    "            color=\"r\",\n",
    "            linestyle=\"--\",\n",
    "            label=f\"status change: {event_time2}\",\n",
    "        )\n",
    "        plt.legend()\n",
    "    ############################################\n",
    "    # ++++++++++++++++++++++++++++++++++++++++++#\n",
    "\n",
    "    # Velocity\n",
    "    plt.subplot(4, 1, 2)\n",
    "    plt.plot(\n",
    "        az[\"actualVelocity\"],\n",
    "        label=\"Velocity\",\n",
    "    )\n",
    "    plt.plot(\n",
    "        az[\"demandVelocity\"],\n",
    "        label=\"demandVelocity\",\n",
    "    )\n",
    "\n",
    "    plt.xlabel(\"Time\", fontsize=14)\n",
    "    plt.ylabel(\"Velocity\", fontsize=14)\n",
    "    plt.grid(\":\", alpha=0.5)  # or alpha=0.3\n",
    "    plt.legend(fontsize=14)\n",
    "    plt.xticks(fontsize=12.5, fontweight=\"bold\")\n",
    "    plt.yticks(fontsize=14)\n",
    "\n",
    "    # ++++++++++++++++++++++++++++++++++++++++++#\n",
    "    ############################################\n",
    "    if event_1 and event_2 is not None:\n",
    "        # Event line\n",
    "        event_datetime_1 = event_1.to_datetime()\n",
    "        event_datetime_2 = event_2.to_datetime()\n",
    "        event_time1 = pd.Timestamp(event_datetime_1)\n",
    "        event_time2 = pd.Timestamp(event_datetime_2)\n",
    "        plt.axvline(\n",
    "            x=event_time1,\n",
    "            color=\"r\",\n",
    "            linestyle=\"--\",\n",
    "            label=f\"status change: {event_time1}\",\n",
    "        )\n",
    "        plt.axvline(\n",
    "            x=event_time2,\n",
    "            color=\"r\",\n",
    "            linestyle=\"--\",\n",
    "            label=f\"status change: {event_time2}\",\n",
    "        )\n",
    "        plt.legend()\n",
    "    ############################################\n",
    "    # ++++++++++++++++++++++++++++++++++++++++++#\n",
    "\n",
    "    # Interpolation\n",
    "    plt.subplot(4, 1, 3)\n",
    "    plt.plot(\n",
    "        azXs,\n",
    "        azVs,\n",
    "        label=\"Velocity\",\n",
    "    )\n",
    "    plt.xlabel(\"Time\", fontsize=14)\n",
    "    plt.ylabel(\"Velocity\", fontsize=14)\n",
    "    plt.grid(\":\", alpha=0.5)  # or alpha=0.3\n",
    "    plt.legend(fontsize=14)\n",
    "    plt.xticks(fontsize=12.5, fontweight=\"bold\")\n",
    "    plt.yticks(fontsize=14)\n",
    "\n",
    "    ###########\n",
    "    plt.subplot(4, 1, 4)\n",
    "    plt.plot(\n",
    "        azXs,\n",
    "        azAccSpline(azXs),\n",
    "        label=\"Interpolated Acceleration \",\n",
    "    )\n",
    "    plt.xlabel(\"Time\", fontsize=14)\n",
    "    plt.ylabel(\"Acceleration\", fontsize=14)\n",
    "    plt.grid(\":\", alpha=0.5)  # or alpha=0.3\n",
    "    plt.legend(fontsize=14)\n",
    "    plt.xticks(fontsize=12.5, fontweight=\"bold\")\n",
    "    plt.yticks(fontsize=14)\n",
    "\n",
    "    # disign\n",
    "    plt.tight_layout()\n",
    "    plt.show()\n",
    "    return"
   ]
  },
  {
   "cell_type": "markdown",
   "id": "cc6bf7e2-79a2-4513-be05-2db6e8535ba6",
   "metadata": {},
   "source": [
    "## format_time(t_start, t_end)\n",
    "input --> output\n",
    "\n",
    "t_start, t_end **-->** start, end"
   ]
  },
  {
   "cell_type": "code",
   "execution_count": null,
   "id": "df7d1d7d-f150-4a4c-b8f7-696af223b52c",
   "metadata": {},
   "outputs": [],
   "source": [
    "def format_time(t_start, t_end):\n",
    "    start = Time(t_start, scale=\"utc\", format=\"isot\")\n",
    "    end = Time(t_end, scale=\"utc\", format=\"isot\")\n",
    "    return (start, end)"
   ]
  },
  {
   "cell_type": "markdown",
   "id": "8b4745c2-fb6d-42a8-b26b-e0b7bc4212cb",
   "metadata": {},
   "source": [
    "## call_az_data_range"
   ]
  },
  {
   "cell_type": "code",
   "execution_count": null,
   "id": "943ae820-5376-43f5-aca6-73df87f85e07",
   "metadata": {},
   "outputs": [],
   "source": [
    "def call_az_data_range(start, end):\n",
    "    df_az = getEfdData(\n",
    "        client,\n",
    "        \"lsst.sal.MTMount.azimuth\",\n",
    "        columns=[\n",
    "            \"actualPosition\",\n",
    "            \"actualVelocity\",\n",
    "            \"demandPosition\",\n",
    "            \"demandVelocity\",\n",
    "            \"timestamp\",\n",
    "        ],\n",
    "        begin=start,\n",
    "        end=end,\n",
    "    )\n",
    "    return df_az"
   ]
  },
  {
   "cell_type": "markdown",
   "id": "c0edb6cc-9b3e-418e-b24f-c641faaf71f4",
   "metadata": {},
   "source": [
    "## call_el_data_range"
   ]
  },
  {
   "cell_type": "code",
   "execution_count": null,
   "id": "046530eb-c68c-4eb6-bc63-81fcc036d6d4",
   "metadata": {},
   "outputs": [],
   "source": [
    "def call_el_data_range(start, end):\n",
    "    df_el = getEfdData(\n",
    "        client,\n",
    "        \"lsst.sal.MTMount.elevation\",\n",
    "        columns=[\n",
    "            \"actualPosition\",\n",
    "            \"actualVelocity\",\n",
    "            \"demandPosition\",\n",
    "            \"demandVelocity\",\n",
    "            \"timestamp\",\n",
    "        ],\n",
    "        begin=start,\n",
    "        end=end,\n",
    "    )\n",
    "    return df_el"
   ]
  },
  {
   "cell_type": "markdown",
   "id": "3e1e0c8b-4382-481f-9331-ed236135f628",
   "metadata": {},
   "source": [
    "## acc_spline(df_test)"
   ]
  },
  {
   "cell_type": "code",
   "execution_count": null,
   "id": "b4dc39ba-9976-4d78-a210-fe58ddbc1ba8",
   "metadata": {},
   "outputs": [],
   "source": [
    "def acc_spline(df_test):\n",
    "    elXs = df_test[\"timestamp\"].values - df_test[\"timestamp\"].values[0]\n",
    "    elVs = df_test[\"actualVelocity\"].values\n",
    "    elVelSpline = UnivariateSpline(elXs, elVs, s=0)\n",
    "    elAccSpline = elVelSpline.derivative(n=1)\n",
    "    return (elAccSpline, elXs, elVs)"
   ]
  },
  {
   "cell_type": "markdown",
   "id": "cb91aecf-c73c-4c47-a356-1f9f46842458",
   "metadata": {},
   "source": [
    "## miniformat(result)\n",
    "Formatting date"
   ]
  },
  {
   "cell_type": "code",
   "execution_count": null,
   "id": "ab7809ce-cf94-47b7-9ace-d2dfb2cab989",
   "metadata": {},
   "outputs": [],
   "source": [
    "def miniformat(df):\n",
    "    # Reiniciar el índice\n",
    "    df.reset_index(inplace=True)\n",
    "    # Asignar un nombre al índice\n",
    "    df.index.name = \"Axis\"\n",
    "    df = df.rename(columns={\"index\": \"time\"})\n",
    "    print(df)\n",
    "    df = str(df[\"time\"][0])\n",
    "    event = datetime.strptime(df, \"%Y-%m-%d %H:%M:%S.%f%z\").strftime(\n",
    "        \"%Y-%m-%dT%H:%M:%S.%f\"\n",
    "    )\n",
    "    print()\n",
    "    print(\"Event happened at: \", event)\n",
    "    event = Time(event, scale=\"utc\", format=\"isot\")\n",
    "    return event"
   ]
  },
  {
   "cell_type": "markdown",
   "id": "62afce52-dfff-411b-95b5-b8f55291869d",
   "metadata": {},
   "source": [
    "## get_event(start, end)\n",
    "    \"\"\"\n",
    "    Fetch an event from a Axis stopped in a defined range of time.\n",
    "    This need the find_state() function.\n",
    "\n",
    "    Parameters:\n",
    "     start, end : range of time to search.\n",
    "    \"\"\""
   ]
  },
  {
   "cell_type": "code",
   "execution_count": null,
   "id": "57e8c201-c288-4a51-aedf-19425234ac77",
   "metadata": {},
   "outputs": [],
   "source": [
    "def get_event(start, end):\n",
    "    \"\"\"\n",
    "    Fetch an event from a Axis stopped in a defined range of time.\n",
    "    This need the find_state() function.\n",
    "\n",
    "    Parameters:\n",
    "     start, end : range of time to search.\n",
    "    \"\"\"\n",
    "    df_az_state = getEfdData(\n",
    "        client,\n",
    "        \"lsst.sal.MTMount.logevent_azimuthMotionState\",\n",
    "        columns=[\n",
    "            \"state\",\n",
    "            \"timestamp\",\n",
    "        ],\n",
    "        begin=start,\n",
    "        end=end,\n",
    "    )\n",
    "\n",
    "    df_el_state = getEfdData(\n",
    "        client,\n",
    "        \"lsst.sal.MTMount.logevent_elevationMotionState\",\n",
    "        columns=[\n",
    "            \"state\",\n",
    "            \"timestamp\",\n",
    "        ],\n",
    "        begin=start,\n",
    "        end=end,\n",
    "    )\n",
    "\n",
    "    df_move = getEfdData(\n",
    "        client,\n",
    "        # \"lsst.sal.MTMount.logevent_azimuthInPosition\",\n",
    "        \"lsst.sal.MTMount.logevent_azimuthSystemState\",\n",
    "        columns=[\n",
    "            \"motionControllerState0\",\n",
    "            \"motionControllerState5\",\n",
    "            \"motionControllerState10\",\n",
    "        ],\n",
    "        begin=start,\n",
    "        end=end,\n",
    "    )\n",
    "\n",
    "    print()\n",
    "    print(\"MTMount_logevent_azimuthSystemState (op-1): \")\n",
    "    print(df_move)\n",
    "    print()\n",
    "    print(\"MTMount.logevent_azimuthMotionState (op-2): \")\n",
    "    print(df_az_state)\n",
    "    print()\n",
    "    print(\"MTMount.logevent_elevationMotionState (op-3): \")\n",
    "    print(df_el_state)\n",
    "    print()\n",
    "\n",
    "    # interactive_input():\n",
    "    \"\"\"\n",
    "    Prompt the user for interactive input and execute an action based on the selected option.\n",
    "    \"\"\"\n",
    "    # Prompt the user for input\n",
    "    user_input = input(\"Please enter your option: \")\n",
    "\n",
    "    # Use the user input in the notebook\n",
    "    print(f\"You have entered: {user_input}\")\n",
    "\n",
    "    # Continue with code based on the input\n",
    "    if user_input == \"1\":\n",
    "        print(\"You selected azimuthSystemState\")\n",
    "        event = miniformat(df_move)\n",
    "    elif user_input == \"2\":\n",
    "        print(\"You selected azimuthMotionState\")\n",
    "        event = miniformat(df_az_state)\n",
    "    else:\n",
    "        print(\"You selected elevationMotionState\")\n",
    "        event = miniformat(df_el_state)\n",
    "\n",
    "    print()\n",
    "\n",
    "    return event"
   ]
  },
  {
   "cell_type": "markdown",
   "id": "ffdf7c69-9941-4b2f-ba70-0b8b889aad79",
   "metadata": {},
   "source": [
    "## plot Elevation  / (el, elXs, elVs, event=None):"
   ]
  },
  {
   "cell_type": "code",
   "execution_count": null,
   "id": "d3f276d7-9184-4946-8d00-08cbf957dbc9",
   "metadata": {},
   "outputs": [],
   "source": [
    "def plot_el(el, elXs, elVs, event_1=None, event_2=None):\n",
    "    plt.figure(figsize=(16, 15))\n",
    "    plt.suptitle(\"lsst.sal.MTMount.elevation\", fontsize=18, fontweight=\"bold\")\n",
    "\n",
    "    ###########\n",
    "    # Position\n",
    "    plt.subplot(4, 1, 1)\n",
    "    plt.plot(\n",
    "        el.index,\n",
    "        el[\"actualPosition\"],\n",
    "        label=\"Position\",\n",
    "    )\n",
    "    plt.plot(\n",
    "        el.index,\n",
    "        el[\"demandPosition\"],\n",
    "        label=\"demandPosition\",\n",
    "    )\n",
    "    plt.xlabel(\"Time\", fontsize=14)\n",
    "    plt.ylabel(\"Position\", fontsize=14)\n",
    "    plt.grid(\":\", alpha=0.5)  # or alpha=0.3\n",
    "    plt.legend(fontsize=14)\n",
    "    plt.xticks(fontsize=12.5, fontweight=\"bold\")\n",
    "    plt.yticks(fontsize=14)\n",
    "\n",
    "    # ++++++++++++++++++++++++++++++++++++++++++#\n",
    "    ############################################\n",
    "    if event_1 and event_2 is not None:\n",
    "        # Event line\n",
    "        event_datetime_1 = event_1.to_datetime()\n",
    "        event_datetime_2 = event_2.to_datetime()\n",
    "        event_time1 = pd.Timestamp(event_datetime_1)\n",
    "        event_time2 = pd.Timestamp(event_datetime_2)\n",
    "        plt.axvline(\n",
    "            x=event_time1,\n",
    "            color=\"r\",\n",
    "            linestyle=\"--\",\n",
    "            label=f\"status change: {event_time1}\",\n",
    "        )\n",
    "        plt.axvline(\n",
    "            x=event_time2,\n",
    "            color=\"r\",\n",
    "            linestyle=\"--\",\n",
    "            label=f\"status change: {event_time2}\",\n",
    "        )\n",
    "        plt.legend()\n",
    "    ############################################\n",
    "    # ++++++++++++++++++++++++++++++++++++++++++#\n",
    "\n",
    "    # Velocity\n",
    "    plt.subplot(4, 1, 2)\n",
    "    plt.plot(\n",
    "        el[\"actualVelocity\"],\n",
    "        label=\"Velocity\",\n",
    "    )\n",
    "    plt.plot(\n",
    "        el[\"demandVelocity\"],\n",
    "        label=\"demandVelocity\",\n",
    "    )\n",
    "\n",
    "    plt.xlabel(\"Time\", fontsize=14)\n",
    "    plt.ylabel(\"Velocity\", fontsize=14)\n",
    "    plt.grid(\":\", alpha=0.5)  # or alpha=0.3\n",
    "    plt.legend(fontsize=14)\n",
    "    plt.xticks(fontsize=12.5, fontweight=\"bold\")\n",
    "    plt.yticks(fontsize=14)\n",
    "\n",
    "    # ++++++++++++++++++++++++++++++++++++++++++#\n",
    "    ############################################\n",
    "    if event_1 and event_2 is not None:\n",
    "        # Event line\n",
    "        event_datetime_1 = event_1.to_datetime()\n",
    "        event_datetime_2 = event_2.to_datetime()\n",
    "        event_time1 = pd.Timestamp(event_datetime_1)\n",
    "        event_time2 = pd.Timestamp(event_datetime_2)\n",
    "        plt.axvline(\n",
    "            x=event_time1,\n",
    "            color=\"r\",\n",
    "            linestyle=\"--\",\n",
    "            label=f\"status change: {event_time1}\",\n",
    "        )\n",
    "        plt.axvline(\n",
    "            x=event_time2,\n",
    "            color=\"r\",\n",
    "            linestyle=\"--\",\n",
    "            label=f\"status change: {event_time2}\",\n",
    "        )\n",
    "        plt.legend()\n",
    "    ############################################\n",
    "    # ++++++++++++++++++++++++++++++++++++++++++#\n",
    "\n",
    "    ############################################\n",
    "    # Interpolation\n",
    "    plt.subplot(4, 1, 3)\n",
    "    plt.plot(\n",
    "        elXs,\n",
    "        elVs,\n",
    "        label=\"Velocity\",\n",
    "    )\n",
    "    plt.xlabel(\"Time\", fontsize=14)\n",
    "    plt.ylabel(\"Velocity\", fontsize=14)\n",
    "    plt.grid(\":\", alpha=0.5)  # or alpha=0.3\n",
    "    plt.legend(fontsize=14)\n",
    "    plt.xticks(fontsize=12.5, fontweight=\"bold\")\n",
    "    plt.yticks(fontsize=14)\n",
    "    ############\n",
    "    plt.subplot(4, 1, 4)\n",
    "    plt.plot(\n",
    "        elXs,\n",
    "        elAccSpline(elXs),\n",
    "        label=\"Interpolated Acceleration \",\n",
    "    )\n",
    "    plt.xlabel(\"Time\", fontsize=14)\n",
    "    plt.ylabel(\"Acceleration\", fontsize=14)\n",
    "    plt.grid(\":\", alpha=0.5)  # or alpha=0.3\n",
    "    plt.legend(fontsize=14)\n",
    "    plt.xticks(fontsize=12.5, fontweight=\"bold\")\n",
    "    plt.yticks(fontsize=14)\n",
    "    ############################################\n",
    "\n",
    "    # disign\n",
    "    plt.tight_layout()\n",
    "    plt.show()\n",
    "    return"
   ]
  },
  {
   "cell_type": "markdown",
   "id": "77bbec05-dcc8-4645-9f6a-caa2d879fd12",
   "metadata": {},
   "source": [
    "## delta_time"
   ]
  },
  {
   "cell_type": "code",
   "execution_count": null,
   "id": "b8f6fdc3-3b64-43fa-a1af-0448b80d79b2",
   "metadata": {},
   "outputs": [],
   "source": [
    "#################################\n",
    "def delta_time(timestamp1, timestamp2):\n",
    "    # Convert to datetime objects\n",
    "    dt1 = datetime.fromisoformat(timestamp1)\n",
    "    dt2 = datetime.fromisoformat(timestamp2)\n",
    "\n",
    "    # Calculate time difference\n",
    "    diff = dt2 - dt1\n",
    "    print(f\"Time difference: {diff}\")\n",
    "    return diff\n",
    "\n",
    "    #################################"
   ]
  },
  {
   "cell_type": "markdown",
   "id": "1687913e-d19b-4146-97c2-ea835607c0a3",
   "metadata": {},
   "source": [
    "## get_format_h(df)"
   ]
  },
  {
   "cell_type": "code",
   "execution_count": null,
   "id": "91c17b65-479f-4bb3-84e9-28835275bd81",
   "metadata": {},
   "outputs": [],
   "source": [
    "def get_format_h(df):\n",
    "    try:\n",
    "        date_stop = str(df[\"time\"][0])\n",
    "        h_event = datetime.strptime(date_stop, \"%Y-%m-%d %H:%M:%S.%f%z\").strftime(\n",
    "            \"%H:%M:%S.%f\"\n",
    "        )[:-3]\n",
    "\n",
    "        # Convertir el evento a objeto datetime\n",
    "        h_event = pd.to_datetime(h_event)\n",
    "\n",
    "    except:\n",
    "        pos_time = str(df)\n",
    "        h_event = datetime.strptime(pos_time, \"%Y-%m-%d %H:%M:%S.%f%z\").strftime(\n",
    "            \"%Y-%m-%dT%H:%M:%S.%f\"\n",
    "        )\n",
    "\n",
    "    return h_event"
   ]
  },
  {
   "cell_type": "markdown",
   "id": "3a998469-7e32-436e-8c38-196979bfecab",
   "metadata": {},
   "source": [
    "## find_first_non_zero_from_end"
   ]
  },
  {
   "cell_type": "code",
   "execution_count": null,
   "id": "ce5ee2b4-5882-4146-8cda-812f18f5aea1",
   "metadata": {},
   "outputs": [],
   "source": [
    "def find_first_non_zero_from_end(df, col_name, threshold=0.01):\n",
    "    \"\"\"\n",
    "    Parameters:\n",
    "    df (pd.DataFrame): The DataFrame to search.\n",
    "    col_name (str): The name of the column to check.\n",
    "    threshold (float): The tolerance threshold for considering a value as zero.\n",
    "\n",
    "    Returns:\n",
    "    tuple: A tuple containing:\n",
    "        - The row where the value stops being zero.\n",
    "        - The name of the column.\n",
    "        - The value in the column at that row.\n",
    "    \"\"\"\n",
    "    # Reverse the DataFrame to search from the end\n",
    "    reversed_df = df.iloc[::-1]\n",
    "\n",
    "    # Iterate over the reversed DataFrame\n",
    "    for i in range(len(reversed_df)):\n",
    "        if abs(reversed_df[col_name].iloc[i]) > threshold:\n",
    "            # Get the row index in the original DataFrame\n",
    "            original_index = reversed_df.index[i]\n",
    "            # Get the row, column name, and value\n",
    "            row = df.loc[original_index]\n",
    "            value = df.at[original_index, col_name]\n",
    "            return (row, col_name, value)\n",
    "\n",
    "    # If no non-zero value is found, return None\n",
    "    return None"
   ]
  },
  {
   "attachments": {},
   "cell_type": "markdown",
   "id": "5dfaf6b2-f3c0-4191-b114-54525c2624a3",
   "metadata": {},
   "source": [
    "## Period TimeStamp:\n",
    "##################################################\n",
    "\n",
    "start, end = format_time(\"2023-11-22T20:05:00\", \"2023-11-23T06:07:00\")\n",
    "\n",
    "##################################################\n",
    "\n",
    "test: lsst.sal.mtmount.command_stop"
   ]
  },
  {
   "cell_type": "markdown",
   "id": "e27cff00-ca99-45f9-8ce2-8f5521788326",
   "metadata": {},
   "source": [
    "# Cases"
   ]
  },
  {
   "cell_type": "markdown",
   "id": "4ce794d1-9d13-4d9a-a5ef-235369c7d829",
   "metadata": {},
   "source": [
    "## Same data than case 2 / Case 1: \n",
    " 1.  by 2023-11-23T00:51:28 / running the TMA Az/El breaks tests( E-stop ) /// ashugart@love01.cp.lsst.org \n"
   ]
  },
  {
   "cell_type": "code",
   "execution_count": null,
   "id": "1bc17596-04ed-4009-b8fc-e7fd5c7ad173",
   "metadata": {},
   "outputs": [],
   "source": [
    "##################################################\n",
    "time_start = \"2023-11-23T00:38:05\"\n",
    "time_ends = \"2023-11-23T00:40:15\"\n",
    "##################################################"
   ]
  },
  {
   "cell_type": "markdown",
   "id": "f36c93f1-642f-4639-90df-f15dd43b535a",
   "metadata": {},
   "source": [
    "## Case 2:\n",
    " 2.  by 2023-11-23T02:32:17.254532 /    bquint@love01.cp.lsst.org \n",
    "   * We ran another TMA Brake Test earlier today. Taking note now. 2023-11-23 00:38 UTC - 2023-11-23 00:42 UTC\n",
    "   * TMA Brake tests in Azimuth - Going from 151º to 0º\n",
    "   * We stopped around 102.5º, and we overshot until 89.67º\n"
   ]
  },
  {
   "cell_type": "code",
   "execution_count": null,
   "id": "6292040e-3171-4d7a-ad38-d2c5cf26ec93",
   "metadata": {},
   "outputs": [],
   "source": [
    "##################################################\n",
    "time_start = \"2023-11-23T00:40:20\"\n",
    "time_ends = \"2023-11-23T00:42:10\"\n",
    "##################################################\n",
    "start, end = format_time(time_start, time_ends)\n",
    "df_az = call_az_data_range(start, end)\n",
    "event1 = get_event(start, end)\n",
    "##################################################"
   ]
  },
  {
   "cell_type": "code",
   "execution_count": null,
   "id": "d9b5076e-0d8a-4f1f-bd80-bbd6e03812c6",
   "metadata": {},
   "outputs": [],
   "source": []
  },
  {
   "cell_type": "code",
   "execution_count": null,
   "id": "dd54de70-0a19-4695-9cfb-ee6b2bbf0fe1",
   "metadata": {},
   "outputs": [],
   "source": [
    "event2 = get_event(start, end)"
   ]
  },
  {
   "cell_type": "code",
   "execution_count": null,
   "id": "f70b2a1d-14a0-445f-8ff5-f06e269f8cf2",
   "metadata": {},
   "outputs": [],
   "source": [
    "##################################################\n",
    "azAccSpline, azXs, azVs = acc_spline(df_az)\n",
    "plot_az(df_az, azXs, azVs, event1, event2)\n",
    "##################################################"
   ]
  },
  {
   "cell_type": "markdown",
   "id": "7eb45d61-33e7-49cb-b770-7d6e5a719d5a",
   "metadata": {},
   "source": [
    "### ZOOM"
   ]
  },
  {
   "cell_type": "code",
   "execution_count": null,
   "id": "5d843c0c-0260-4735-8829-2231463a6f6b",
   "metadata": {},
   "outputs": [],
   "source": [
    "##################################################\n",
    "time_start = \"2023-11-23T00:40:35\"\n",
    "time_ends = \"2023-11-23T00:40:40\"\n",
    "##################################################\n",
    "start, end = format_time(time_start, time_ends)\n",
    "df_az = call_az_data_range(start, end)\n",
    "##################################################\n",
    "azAccSpline, azXs, azVs = acc_spline(df_az)\n",
    "plot_az(df_az, azXs, azVs, event1, event2)"
   ]
  },
  {
   "cell_type": "code",
   "execution_count": null,
   "id": "f1a55131-dbef-494d-8cc8-612beb76d70d",
   "metadata": {},
   "outputs": [],
   "source": [
    "##################################################\n",
    "df_el = call_el_data_range(start, end)\n",
    "elAccSpline, elXs, elVs = acc_spline(df_el)\n",
    "plot_el(df_el, elXs, elVs)\n",
    "##################################################"
   ]
  },
  {
   "cell_type": "markdown",
   "id": "d65fc627-0acf-41bf-81d9-3ac2096f57a8",
   "metadata": {},
   "source": [
    "### Note.\n",
    "Input: e-stop triggered  p2p ///   \n",
    "\n",
    "    * 2023-11-23 00:40:36.120481+00:00   ///  * Name: 2023-11-23 00:40:39.990298+00:00"
   ]
  },
  {
   "cell_type": "markdown",
   "id": "fa1852c6-d489-4f67-991b-9c0024208ad9",
   "metadata": {},
   "source": [
    "### When Telescope stop moving?"
   ]
  },
  {
   "cell_type": "code",
   "execution_count": null,
   "id": "117d8c2e-6801-4312-8264-c0b8cd0451fe",
   "metadata": {},
   "outputs": [],
   "source": [
    "difference = df_az[\"demandPosition\"] - df_az[\"actualPosition\"]"
   ]
  },
  {
   "cell_type": "code",
   "execution_count": null,
   "id": "fac6ab60-5a63-462e-bd60-15e8dea29be9",
   "metadata": {},
   "outputs": [],
   "source": [
    "df_az[\"difference\"] = difference"
   ]
  },
  {
   "cell_type": "code",
   "execution_count": null,
   "id": "a3e5839c-ec4d-4063-9e99-9c789456be4c",
   "metadata": {},
   "outputs": [],
   "source": [
    "df_az[\"difference\"].tail(10)"
   ]
  },
  {
   "cell_type": "markdown",
   "id": "41b8ac0c-8d0f-4fe4-b655-18bc2b52fc7c",
   "metadata": {},
   "source": [
    "####  Distance that the telescope moves once the systems recieve the siganl. Ref: Position figure.\n",
    "#### This is not the e-stop time triggeret .... "
   ]
  },
  {
   "cell_type": "markdown",
   "id": "1acc8d1a-f958-4d34-8442-b450f34e543b",
   "metadata": {},
   "source": [
    "### D = 7.54 [deg]"
   ]
  },
  {
   "cell_type": "markdown",
   "id": "9f6dbd5b-43f7-4676-bec6-ef9ecbce8455",
   "metadata": {},
   "source": [
    "### Distance determination"
   ]
  },
  {
   "cell_type": "markdown",
   "id": "d02c88ac-2214-4ff3-88d1-6748058b1ece",
   "metadata": {},
   "source": [
    "#### a). Actual Position - Last position of ... (data from the zoom)"
   ]
  },
  {
   "cell_type": "code",
   "execution_count": null,
   "id": "07b8c43d-d72d-41b7-829d-e9cca597ac13",
   "metadata": {},
   "outputs": [],
   "source": [
    "# Last azimuth position:\n",
    "last_aPos = df_az[\"actualPosition\"].iloc[-1]  # --> 89.672343\n",
    "print(\"Last azimuth position: \", \"%.3f\" % last_aPos, \" [deg]\")"
   ]
  },
  {
   "cell_type": "markdown",
   "id": "06b7d2b8-8381-4a3e-8285-145d0f6a1a32",
   "metadata": {},
   "source": [
    "#### b) from velocity figure. \n",
    "\n",
    "When velocity start changing the position can be determined\n",
    "\n",
    "value_to_find = \"2023-11-23 00:40:36.120481+00:00\"\n",
    "\n",
    "* value when velocity start changing."
   ]
  },
  {
   "cell_type": "code",
   "execution_count": null,
   "id": "a8ad4b03-aaef-4430-8f4c-6f41be045748",
   "metadata": {},
   "outputs": [],
   "source": [
    "df_az.index"
   ]
  },
  {
   "cell_type": "code",
   "execution_count": null,
   "id": "38a7bb4f-5444-42c7-a428-995a9ca648ce",
   "metadata": {},
   "outputs": [],
   "source": [
    "# El numero mas cercano al anterior\n",
    "#'2023-11-23 00:40:36.157645+00:00'"
   ]
  },
  {
   "cell_type": "code",
   "execution_count": null,
   "id": "79be9e02-b44e-4536-8e27-0757eb965107",
   "metadata": {},
   "outputs": [],
   "source": [
    "df_az[\"timestamp\"] = df_az.index  # Establecer la columna 'timestamp' como índice\n",
    "\n",
    "# Convertir timestamps a strings\n",
    "df_az[\"timestamp\"] = df_az[\"timestamp\"].astype(str)\n",
    "\n",
    "# Valor a buscar\n",
    "search_value = \"2023-11-23 00:40:36.157645+00:00\"\n",
    "\n",
    "# Buscar en la columna 'timestamp' como string\n",
    "matching_rows = df_az[df_az[\"timestamp\"] == search_value]\n",
    "\n",
    "if not matching_rows.empty:\n",
    "    print(f\"Rows corresponding to the timestamp '{search_value}':\")\n",
    "    print(matching_rows)\n",
    "    first_aPos = matching_rows[\"actualPosition\"]\n",
    "else:\n",
    "    print(f\"Timestamp '{search_value}' not found in the column.\")\n",
    "\n",
    "aPos = first_aPos - last_aPos\n",
    "print()\n",
    "print(\"aPos = first_azPos - last_azPos\")\n",
    "print(\" > Difference on azimuth positions: \", aPos, \" [deg]\")"
   ]
  },
  {
   "cell_type": "markdown",
   "id": "31d66871-257a-4bcd-9b0d-bc07d6a92dba",
   "metadata": {},
   "source": [
    "### D = 12.874 [deg]"
   ]
  },
  {
   "cell_type": "markdown",
   "id": "93a07a76-676a-40f6-9ac2-74c5fe50e7dd",
   "metadata": {},
   "source": [
    "### Calculo : \n",
    "\n",
    "Input: e-stop triggered\n",
    "\n",
    "    * 2023-11-23 00:40:36.120481+00:00 \n",
    "    \n",
    "Input: Point when velocity is diff from 0.0\n",
    "\n",
    "    * Name: 2023-11-23 00:40:39.990298+00:00"
   ]
  },
  {
   "cell_type": "code",
   "execution_count": null,
   "id": "f32cc910-1b96-47e5-a3b5-abfed08f4623",
   "metadata": {},
   "outputs": [],
   "source": [
    "#### First_non_zero_from_end /  function pending for verification !!\n",
    "# Call the function to find the first non-zero row from the end\n",
    "result = find_first_non_zero_from_end(df_az, \"actualVelocity\")\n",
    "if result is not None:\n",
    "    row, col_name, value = result\n",
    "    print(\"Row where values stop being zero:\")\n",
    "    print(row)\n",
    "    print(f\"Column name: {col_name}\")\n",
    "    print(f\"Value in the column: {value}\")\n",
    "else:\n",
    "    print(\"All values are zero.\")"
   ]
  },
  {
   "cell_type": "markdown",
   "id": "605669ec-0c24-4e41-97b8-36f1b079a9fa",
   "metadata": {},
   "source": [
    "#### F(t) Delta Time"
   ]
  },
  {
   "cell_type": "code",
   "execution_count": null,
   "id": "d9024201-a791-4e50-8e01-1ddf595cb0a5",
   "metadata": {},
   "outputs": [],
   "source": [
    "#################################\n",
    "def delta_time(timestamp1, timestamp2):\n",
    "    # Convert to datetime objects\n",
    "    dt1 = datetime.fromisoformat(timestamp1)\n",
    "    dt2 = datetime.fromisoformat(timestamp2)\n",
    "\n",
    "    # Calculate time difference\n",
    "    diff = dt2 - dt1\n",
    "    print(f\"Time difference: {diff}\")\n",
    "    return diff\n",
    "\n",
    "\n",
    "#################################"
   ]
  },
  {
   "cell_type": "code",
   "execution_count": null,
   "id": "ece4395a-3fb6-4a9e-99d2-14e157a9801f",
   "metadata": {},
   "outputs": [],
   "source": [
    "# data from motionControllerState10\n",
    "timestamp1 = \"2023-11-23 00:40:36.120481+00:00\"\n",
    "\n",
    "# Data from \"find_first_non_zero_from_end\"\n",
    "timestamp2 = \"2023-11-23 00:40:39.990298+00:00\"\n",
    "\n",
    "delta_time(timestamp1, timestamp2)"
   ]
  },
  {
   "cell_type": "markdown",
   "id": "33d8a809-cf5e-457f-8ac0-bbffd9a9b097",
   "metadata": {},
   "source": [
    "#### Time difference: 0:00:03.869817"
   ]
  },
  {
   "cell_type": "markdown",
   "id": "c9531cdb-e5d1-4cd5-8e59-58d3bd9e67fd",
   "metadata": {},
   "source": [
    "## Case 3:\n",
    " 3. 2023-11-23T03:08:50.50 /   bquint@love01.cp.lsst.org \n",
    "   * - 2023-11-23 01:02 UTC - 2023-11-23 01:05 UTC\n",
    "   * - TMA Brake tests in Elevation - Going up from 20º to 80º.\n",
    "   * - We stopped around 40º, and we overshooted until 45º.\n"
   ]
  },
  {
   "cell_type": "code",
   "execution_count": null,
   "id": "1093e458-5858-4954-a77e-52ab9a8264de",
   "metadata": {},
   "outputs": [],
   "source": [
    "##################################################\n",
    "time_start = \"2023-11-23T01:03:50\"\n",
    "time_ends = \"2023-11-23T01:04:15\"\n",
    "##################################################"
   ]
  },
  {
   "cell_type": "markdown",
   "id": "f622a396-d58b-44f5-b187-63d495edfb8e",
   "metadata": {},
   "source": [
    "## Case 4:\n",
    " 4.  2023-11-23 01:35 UTC - 2023-11-23 01:40 UTC / by bquint@love01.cp.lsst.org 2023-11-23T03:10:09\n",
    "   * - TMA Brake tests in Elevation - Going down from 80º to 20º.\n",
    "   * - We stopped around 57.8º, and we overshooted until 53.8º."
   ]
  },
  {
   "cell_type": "code",
   "execution_count": null,
   "id": "350b07a6-fa58-440d-8bff-bcd34a3145b1",
   "metadata": {},
   "outputs": [],
   "source": [
    "time_start = \"2023-11-23T01:43:00\"\n",
    "time_ends = \"2023-11-23T02:00:00\""
   ]
  },
  {
   "cell_type": "code",
   "execution_count": null,
   "id": "d0d07a2a-64eb-4f2c-87c7-15b4fa81eae7",
   "metadata": {},
   "outputs": [],
   "source": []
  }
 ],
 "metadata": {
  "kernelspec": {
   "display_name": "LSST",
   "language": "python",
   "name": "lsst"
  },
  "language_info": {
   "codemirror_mode": {
    "name": "ipython",
    "version": 3
   },
   "file_extension": ".py",
   "mimetype": "text/x-python",
   "name": "python",
   "nbconvert_exporter": "python",
   "pygments_lexer": "ipython3",
   "version": "3.11.7"
  }
 },
 "nbformat": 4,
 "nbformat_minor": 5
}
