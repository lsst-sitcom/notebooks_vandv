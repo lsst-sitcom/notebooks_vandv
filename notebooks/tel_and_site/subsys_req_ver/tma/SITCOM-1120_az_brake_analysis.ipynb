{
 "cells": [
  {
<<<<<<< HEAD
<<<<<<< HEAD
   "cell_type": "markdown",
   "id": "40dbacfa-0b38-42a9-8f94-c17fbf3397b4",
   "metadata": {},
=======
   "cell_type": "code",
   "execution_count": null,
   "id": "8096a0d1-3ae4-424d-815d-bdd3055c7983",
   "metadata": {},
   "outputs": [],
>>>>>>> 2241cc9 (pre-commit fails, clear output)
=======
   "cell_type": "markdown",
   "id": "40dbacfa-0b38-42a9-8f94-c17fbf3397b4",
   "metadata": {},
>>>>>>> 896568d (First Commit SITCOM-1120 - Draft)
   "source": [
    "# SITCOM-1120: Brake analysis"
   ]
  },
  {
   "cell_type": "code",
   "execution_count": null,
   "id": "26467d93-b18d-4575-8420-108b224e6fe2",
   "metadata": {},
   "outputs": [],
   "source": [
    "import sys, time, os, asyncio, glob\n",
    "from datetime import datetime\n",
    "import numpy as np\n",
    "import matplotlib.pyplot as plt\n",
    "import pickle as pkl\n",
    "from astropy.time import Time, TimeDelta\n",
    "\n",
    "from lsst_efd_client import EfdClient\n",
    "client = EfdClient(\"usdf_efd\")"
   ]
  },
  {
   "cell_type": "code",
   "execution_count": null,
   "id": "2c059b00-f464-4cc2-a06c-eb7af1c3ec13",
   "metadata": {},
   "outputs": [],
   "source": []
  },
  {
   "cell_type": "code",
   "execution_count": null,
   "id": "f3475765-2050-430f-811b-b1b2d5b99ea5",
   "metadata": {},
   "outputs": [],
   "source": [
    "def TranTime(t_start, t_end):    \n",
    "    start = Time(t_start, scale='utc')\n",
    "    end = Time(t_end, scale='utc')\n",
    "    return (start, end)\n",
    "    \n",
    "def accel(v, t):\n",
    "    a = np.gradient(v, t)\n",
    "    return \n"
   ]
  },
  {
   "cell_type": "code",
   "execution_count": null,
   "id": "9887c32e-13ba-4b33-bf36-a29af8d8f968",
   "metadata": {},
   "outputs": [],
   "source": [
    "t_start = \"2023-11-22T18:00:00\"\n",
    "t_end   = \"2023-11-23T06:00:00\"\n",
    "\n",
    "start = Time(t_start, scale='utc')\n",
    "end = Time(t_end, scale='utc')\n",
    "\n",
    "az = await client.select_time_series('lsst.sal.MTMount.azimuth', \\\n",
    "                                            ['actualPosition', 'actualVelocity','demandPosition','demandVelocity','actualAcceleration', 'timestamp'],  start, end)\n",
    "\n",
    "el = await client.select_time_series('lsst.sal.MTMount.elevation', \\\n",
    "                                            ['actualPosition', 'actualVelocity','demandPosition','demandVelocity','actualAcceleration', 'timestamp'],  start, end)\n",
    "\n",
    "print(len(az), len(el))"
   ]
  },
  {
   "cell_type": "markdown",
   "id": "abe232e8-1974-4bbe-a008-b3862c123035",
   "metadata": {},
   "source": [
    "## Plots"
   ]
  },
  {
   "cell_type": "code",
   "execution_count": null,
   "id": "ec0f420d-2028-4770-a17d-6f706ae3febb",
   "metadata": {},
   "outputs": [],
   "source": [
    "def plot3( ):\n",
    "    plt.figure(figsize=(16, 12 ))\n",
    "\n",
    "    # Position \n",
    "    plt.subplot(3, 1, 1)\n",
    "    plt.plot(az['actualPosition'], label='Position')\n",
    "    plt.plot(az['demandPosition'], label='demandPosition')\n",
    "    plt.xlabel('Time')\n",
    "    plt.ylabel('Posición')\n",
    "    plt.legend()\n",
    "\n",
    "    # Velocity\n",
    "    plt.subplot(3, 1, 2)\n",
    "    plt.plot(az['actualVelocity'], label='Velocity')\n",
    "    plt.plot(az['demandVelocity'], label='demandVelocity')\n",
    "    plt.xlabel('Time')\n",
    "    plt.ylabel('Velocity')\n",
    "    plt.legend()\n",
    "\n",
    "    # Acceleration\n",
    "    plt.subplot(3, 1, 3)\n",
    "    plt.plot(az['actualAcceleration'], label='Acceleration')\n",
    "    plt.xlabel('Time')\n",
    "    plt.ylabel('Acceleration')\n",
    "    plt.legend()\n",
    "\n",
    "    # disign\n",
    "    plt.grid(True)\n",
    "    plt.tight_layout()\n",
    "    plt.show()\n",
    "    return"
   ]
  },
  {
   "cell_type": "code",
   "execution_count": null,
   "id": "0c67aa86-0715-4a31-a2cc-5fe6911ce877",
   "metadata": {},
   "outputs": [],
   "source": [
    "az['actualAcceleration'].tail()"
   ]
  },
  {
   "cell_type": "code",
   "execution_count": null,
<<<<<<< HEAD
   "id": "44c41912-8b80-49f0-a90e-32c16ed5ad3d",
   "metadata": {},
   "outputs": [],
   "source": []
  },
  {
   "cell_type": "code",
   "execution_count": null,
=======
>>>>>>> 896568d (First Commit SITCOM-1120 - Draft)
   "id": "51b378ec-99b1-4769-bf6b-d86ea2cfba27",
   "metadata": {},
   "outputs": [],
   "source": [
    "plot3()"
   ]
  },
  {
   "cell_type": "code",
   "execution_count": null,
   "id": "4a9547a9-1708-4813-abc7-c60e4362b1ee",
   "metadata": {},
   "outputs": [],
   "source": []
  }
 ],
 "metadata": {
  "kernelspec": {
   "display_name": "LSST",
   "language": "python",
   "name": "lsst"
  },
  "language_info": {
   "codemirror_mode": {
    "name": "ipython",
    "version": 3
   },
   "file_extension": ".py",
   "mimetype": "text/x-python",
   "name": "python",
   "nbconvert_exporter": "python",
   "pygments_lexer": "ipython3",
   "version": "3.11.7"
  }
 },
 "nbformat": 4,
 "nbformat_minor": 5
}
