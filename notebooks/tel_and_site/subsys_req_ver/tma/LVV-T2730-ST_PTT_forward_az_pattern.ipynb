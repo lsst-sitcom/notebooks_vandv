{
 "cells": [
  {
   "cell_type": "markdown",
   "id": "0a3f99fb-8b55-4426-a6f1-5c02cbe4f3ce",
   "metadata": {},
   "source": [
    "# [LVV-T2730] - StarTracker Pointing and Tracking Test - Forward Azimuth Pattern\n",
    "\n",
    "Collect data with the StarTracker following the azimuth pattern -270, -180, -90, 0, 90, 180, 270 deg.  \n",
    "Nominal at four elevation angle 15, 45, 75, 86.5 deg.  \n",
    "Minimum at the three angle: 15, 45, 86.5 deg.  \n",
    "\n",
    "This test is forseen the first of four tests takes about one summer night (7 hours) in full version and a bit more than 5hours in the shortened version.  \n",
    "\n",
    "Can we track for 10 min without moving the dome?\n",
    "\n",
    "**Requirements:**\n",
    " - All the MT components should be enabled.\n",
    " - Need the `notebooks_vandv` module installed.\n",
    "\n",
    "Please, see the [README] file for the requirements to run this notebook.  \n",
    "The log messages printed in this notebook are stored in the EFD Script using the `-TTTTMMDD` format, where `TTTT` are the four last digits of the test case, `MM` is the 0-padded month, and `DD` is the 0-padded day of execution.\n",
    "\n",
    "[README]: https://github.com/lsst-sitcom/notebooks_vandv/blob/develop/README.md\n",
    "[LVV-T2730]: https://jira.lsstcorp.org/secure/Tests.jspa#/testCase/LVV-T2730"
   ]
  },
  {
   "cell_type": "markdown",
   "id": "4dcbd2d1-e698-478d-9c26-fdedc022541f",
   "metadata": {
    "tags": []
   },
   "source": [
    "## Setup"
   ]
  },
  {
   "cell_type": "code",
   "execution_count": 18,
   "id": "1acfa6f7-8575-4d9e-8228-f6e03f0308bc",
   "metadata": {},
   "outputs": [],
   "source": [
    "test_case = \"LVV-T2730\"\n",
    "test_exec = \"LVV-EXXXX\"\n",
    "\n",
    "az_grid = [-270, -180, -90, 0, 90, 180, 270]\n",
    "# el_grid = [16, 45, 75, 86.5] # Nominal Elevation Angle - M1M3 goes to fault at 16 deg.\n",
    "el_grid = [20, 45, 75, 86.5] # Nominal Elevation Angle\n",
    "el_grid_min = [15, 45, 86.5] # Minimum Elevation Angle\n",
    "\n",
    "mag_limit = 4\n",
    "mag_range = 2\n",
    "radius = 5.0\n",
    "\n",
    "camera_sal_indexes = [1, 2]\n",
    "exposure_times = [10., 5.]  # s\n",
    "track_time = 30.  # 10 min\n",
    "base_msg = f\"{test_case} {test_exec}:\""
   ]
  },
  {
   "cell_type": "markdown",
   "id": "7724453e-0b6d-49e5-9a35-a0a3cef39326",
   "metadata": {
    "tags": []
   },
   "source": [
    "### Prepare Notebook\n",
    "\n",
    "Start with importing libraries:"
   ]
  },
  {
   "cell_type": "code",
   "execution_count": 19,
   "id": "8e237202-1e4d-4aa0-8647-6c2942ddc547",
   "metadata": {},
   "outputs": [
    {
     "name": "stdout",
     "output_type": "stream",
     "text": [
      "The autoreload extension is already loaded. To reload it, use:\n",
      "  %reload_ext autoreload\n"
     ]
    }
   ],
   "source": [
    "%load_ext autoreload\n",
    "%autoreload 2\n",
    "\n",
    "import asyncio\n",
    "import logging\n",
    "import sys\n",
    "import yaml\n",
    "\n",
    "from astropy.time import Time\n",
    "\n",
    "from lsst.ts import salobj\n",
    "from lsst.ts.idl.enums.Script import ScriptState\n",
    "from lsst.ts.observatory.control import RotType\n",
    "from lsst.ts.observatory.control.maintel import MTCS, ComCam\n",
    "from lsst.ts.observatory.control.generic_camera import GenericCamera\n",
    "\n",
    "from lsst.sitcom import vandv"
   ]
  },
  {
   "cell_type": "markdown",
   "id": "16e0c07d-90b0-42ed-8627-37a7f7d00642",
   "metadata": {},
   "source": [
    "---\n",
    "Print out the execution info for future reference."
   ]
  },
  {
   "cell_type": "code",
   "execution_count": 20,
   "id": "6a909cb6-5bc8-480a-9766-3a0483d88eeb",
   "metadata": {},
   "outputs": [
    {
     "name": "stdout",
     "output_type": "stream",
     "text": [
      "\n",
      "Executed by b1quint on 2022-11-08T19:29:28.492.\n",
      "  Running in pillan06 at tucson\n",
      "\n"
     ]
    }
   ],
   "source": [
    "exec_info = vandv.ExecutionInfo()\n",
    "print(exec_info)"
   ]
  },
  {
   "cell_type": "markdown",
   "id": "cb5b8029-f1ae-4873-bda9-a34425cc3a2f",
   "metadata": {},
   "source": [
    "---\n",
    "Use the `maintel/setup_mtcs.py` script in LOVE or the [LVV-T2344] to test case and notebook to setup all the main telescope components.  \n",
    "This includes simulators as well as real hardware when available (this will depend on when the test is conducted at TTS or on level 3 or on the telescope):  \n",
    "\n",
    "- pointing  \n",
    "- mount ( with the CCW)  \n",
    "- rotator  \n",
    "- ready M1M3: raise mirror, turn on FB, clear forces. Note that if used at level 3, we need to have M1M3 LUT use mount telemetry  \n",
    "- ready M2: turn on FB, clear forces. Note that if used at level 3, we need to have M2 LUT use mount telemetry  \n",
    "- Get cam hex Ready: check config; make sure LUT is on and has valid inputs; make sure hex is at LUT position  \n",
    "- Get M2 hex (simulator) Ready: check config; make sure LUT is on and has valid inputs; make sure hex is at LUT position  \n",
    "- Finally, get the MTAOS CSC ready  \n",
    "\n",
    "[LVV-T2344]: https://jira.lsstcorp.org/secure/Tests.jspa#/testCase/LVV-T2344\n",
    "\n",
    "---\n",
    "Setup the logger, the Domain, and the remote for the telescope control."
   ]
  },
  {
   "cell_type": "code",
   "execution_count": 21,
   "id": "4d8be9f3-c15a-4f84-82d2-0ac28567c9e4",
   "metadata": {},
   "outputs": [],
   "source": [
    "logging.basicConfig(format=\"%(asctime)s %(name)s: %(message)s\", level=logging.DEBUG)\n",
    "log = logging.getLogger(\"setup\")\n",
    "log.level = logging.INFO"
   ]
  },
  {
   "cell_type": "code",
   "execution_count": 22,
   "id": "16984334-3408-4840-b3a7-b349d8aaf8b3",
   "metadata": {},
   "outputs": [
    {
     "name": "stdout",
     "output_type": "stream",
     "text": [
      "My user_host is 'b1quint@nb-b1quint'\n",
      "\n"
     ]
    }
   ],
   "source": [
    "os.environ[\"LSST_DDS_HISTORYSYNC\"] = \"200\"\n",
    "domain = salobj.Domain()\n",
    "print(f\"My user_host is {domain.user_host!r}\\n\")"
   ]
  },
  {
   "cell_type": "markdown",
   "id": "73948eaa-cffa-47f9-bad4-f161fa12b2e2",
   "metadata": {},
   "source": [
    "Instanciate the MTCS."
   ]
  },
  {
   "cell_type": "code",
   "execution_count": 23,
   "id": "2fb2580c-4e11-49d3-a96e-c973a9718d3f",
   "metadata": {},
   "outputs": [
    {
     "data": {
      "text/plain": [
       "[None, None, None, None, None, None, None, None, None, None]"
      ]
     },
     "execution_count": 23,
     "metadata": {},
     "output_type": "execute_result"
    }
   ],
   "source": [
    "mtcs = MTCS(domain=domain, log=log)\n",
    "await asyncio.sleep(2.5)\n",
    "await mtcs.start_task"
   ]
  },
  {
   "cell_type": "markdown",
   "id": "9c819a6d-e478-4b79-98fe-43b8a19163d2",
   "metadata": {},
   "source": [
    "Initialize the GenericCamera and ComCam."
   ]
  },
  {
   "cell_type": "code",
   "execution_count": 24,
   "id": "f72d8e4d-09d0-4042-b545-7cd6e7a50335",
   "metadata": {},
   "outputs": [
    {
     "data": {
      "text/html": [
       "<pre style=\"margin: 0.1em;\n",
       "padding-left: 0.25em;\n",
       "border-left-style: solid;\n",
       "font-family: var(--jp-code-font-family);\n",
       "font-size: var(--jp-code-font-size);\n",
       "line-height: var(--jp-code-line-height);\n",
       "\"><span style=\"color: var(--jp-warn-color2)\">GenericCamera</span> <span style=\"color: var(--jp-info-color0)\">INFO</span>: Disabling authlist-based command authorization</pre>"
      ],
      "text/plain": [
       "<IPython.core.display.HTML object>"
      ]
     },
     "metadata": {},
     "output_type": "display_data"
    },
    {
     "data": {
      "text/html": [
       "<pre style=\"margin: 0.1em;\n",
       "padding-left: 0.25em;\n",
       "border-left-style: solid;\n",
       "font-family: var(--jp-code-font-family);\n",
       "font-size: var(--jp-code-font-size);\n",
       "line-height: var(--jp-code-line-height);\n",
       "\"><span style=\"color: var(--jp-warn-color2)\">GenericCamera</span> <span style=\"color: var(--jp-info-color0)\">INFO</span>: Read historical data in 0.18 sec</pre>"
      ],
      "text/plain": [
       "<IPython.core.display.HTML object>"
      ]
     },
     "metadata": {},
     "output_type": "display_data"
    }
   ],
   "source": [
    "camera_list = []\n",
    "\n",
    "for index in camera_sal_indexes:\n",
    "\n",
    "    gencam = GenericCamera(index=index)\n",
    "    await asyncio.sleep(2.5)\n",
    "    await gencam.start_task\n",
    "\n",
    "    camera_list.append(gencam)\n",
    "    \n",
    "    break\n",
    "    \n",
    "\n",
    "comcam = ComCam()\n",
    "await asyncio.sleep(2.5)\n",
    "await comcam.start_task\n",
    "\n",
    "camera_list.append(comcam)"
   ]
  },
  {
   "cell_type": "markdown",
   "id": "70586862-68c5-40b5-8d4e-c1cf28bab51d",
   "metadata": {},
   "source": [
    "Run the cell below to hide all the messages related to the DDS and have a cleaner notebook."
   ]
  },
  {
   "cell_type": "code",
   "execution_count": 25,
   "id": "5957d088-f2ce-4118-aea5-debc106e0633",
   "metadata": {},
   "outputs": [],
   "source": [
    "vandv.logger.add_filter_to_mtcs()"
   ]
  },
  {
   "cell_type": "markdown",
   "id": "60009800-8892-4d76-9585-8dc12f9e0c59",
   "metadata": {},
   "source": [
    "---\n",
    "The `Script` CSC is used to record test checkpoints and allow to easy search in the EFD."
   ]
  },
  {
   "cell_type": "code",
   "execution_count": 26,
   "id": "2f1bdc63-bcf3-42cf-a4d4-54aac4c0e283",
   "metadata": {},
   "outputs": [
    {
     "name": "stdout",
     "output_type": "stream",
     "text": [
      "\n",
      "  Using script index: -27301108\n",
      "\n"
     ]
    },
    {
     "data": {
      "text/html": [
       "<pre style=\"margin: 0.1em;\n",
       "padding-left: 0.25em;\n",
       "border-left-style: solid;\n",
       "font-family: var(--jp-code-font-family);\n",
       "font-size: var(--jp-code-font-size);\n",
       "line-height: var(--jp-code-line-height);\n",
       "\"><span style=\"color: var(--jp-warn-color2)\">Script</span> <span style=\"color: var(--jp-info-color0)\">INFO</span>: Disabling authlist-based command authorization</pre>"
      ],
      "text/plain": [
       "<IPython.core.display.HTML object>"
      ]
     },
     "metadata": {},
     "output_type": "display_data"
    },
    {
     "data": {
      "text/html": [
       "<pre style=\"margin: 0.1em;\n",
       "padding-left: 0.25em;\n",
       "border-left-style: solid;\n",
       "font-family: var(--jp-code-font-family);\n",
       "font-size: var(--jp-code-font-size);\n",
       "line-height: var(--jp-code-line-height);\n",
       "\"><span style=\"color: var(--jp-warn-color2)\">Script</span> <span style=\"color: var(--jp-info-color0)\">INFO</span>: Read historical data in 0.00 sec</pre>"
      ],
      "text/plain": [
       "<IPython.core.display.HTML object>"
      ]
     },
     "metadata": {},
     "output_type": "display_data"
    }
   ],
   "source": [
    "script = salobj.Controller(\"Script\", index=vandv.get_index(test_case))\n",
    "await asyncio.sleep(2.5) \n",
    "await script.start_task"
   ]
  },
  {
   "cell_type": "markdown",
   "id": "61c4bf74-79b1-407a-a9cd-fafb2fe5cf44",
   "metadata": {},
   "source": [
    "Default wait time in the steps."
   ]
  },
  {
   "cell_type": "code",
   "execution_count": 27,
   "id": "cd0aeadd-925b-4bd7-9dbb-76c8e86fa1ee",
   "metadata": {},
   "outputs": [],
   "source": [
    "STDWAIT = 20"
   ]
  },
  {
   "cell_type": "code",
   "execution_count": 28,
   "id": "e1cb023d-64b7-4a4f-b9e2-bc5a31c2826b",
   "metadata": {},
   "outputs": [
    {
     "data": {
      "text/html": [
       "<pre style=\"margin: 0.1em;\n",
       "padding-left: 0.25em;\n",
       "border-left-style: solid;\n",
       "font-family: var(--jp-code-font-family);\n",
       "font-size: var(--jp-code-font-size);\n",
       "line-height: var(--jp-code-line-height);\n",
       "\"><span style=\"color: var(--jp-warn-color2)\">ComCam</span> <span style=\"color: var(--jp-info-color0)\">INFO</span>: Enabling all components</pre>"
      ],
      "text/plain": [
       "<IPython.core.display.HTML object>"
      ]
     },
     "metadata": {},
     "output_type": "display_data"
    },
    {
     "data": {
      "text/html": [
       "<pre style=\"margin: 0.1em;\n",
       "padding-left: 0.25em;\n",
       "border-left-style: solid;\n",
       "font-family: var(--jp-code-font-family);\n",
       "font-size: var(--jp-code-font-size);\n",
       "line-height: var(--jp-code-line-height);\n",
       "\"><span style=\"color: var(--jp-warn-color2)\">ComCam</span> <span style=\"color: var(--jp-info-color0)\">INFO</span>: All components in &lt;State.ENABLED: 2&gt;.</pre>"
      ],
      "text/plain": [
       "<IPython.core.display.HTML object>"
      ]
     },
     "metadata": {},
     "output_type": "display_data"
    }
   ],
   "source": [
    "await comcam.enable()"
   ]
  },
  {
   "cell_type": "markdown",
   "id": "7b5772b8-156a-4d17-8e05-4f2d3f467d86",
   "metadata": {
    "tags": []
   },
   "source": [
    "### Check CSC Status"
   ]
  },
  {
   "cell_type": "code",
   "execution_count": 29,
   "id": "18ba96b4-07f1-4b0c-b9c8-13cd34fc482e",
   "metadata": {},
   "outputs": [],
   "source": [
    "await mtcs.assert_liveliness()"
   ]
  },
  {
   "cell_type": "code",
   "execution_count": 30,
   "id": "9f5412a2-2ba2-43af-aaf9-33a0813ae6d9",
   "metadata": {},
   "outputs": [],
   "source": [
    "await mtcs.assert_all_enabled()"
   ]
  },
  {
   "cell_type": "code",
   "execution_count": 31,
   "id": "f5d0cb14-e352-4167-8c85-9ae6b36796b0",
   "metadata": {},
   "outputs": [],
   "source": [
    "for cam in camera_list:\n",
    "    await cam.assert_liveliness()\n",
    "    await cam.assert_all_enabled()"
   ]
  },
  {
   "cell_type": "markdown",
   "id": "b4c2c5f0-256a-41ce-9074-f55eb74c9830",
   "metadata": {
    "jp-MarkdownHeadingCollapsed": true,
    "tags": []
   },
   "source": [
    "### Other preparation\n",
    "\n",
    "- LVV-T2713 (1.0) Establish TMA - StarTracker Axis Angle Reference"
   ]
  },
  {
   "cell_type": "markdown",
   "id": "3b1f19b4-f2f0-47c9-8e97-63d2efe93821",
   "metadata": {},
   "source": [
    "## Helper Functions"
   ]
  },
  {
   "cell_type": "code",
   "execution_count": 32,
   "id": "efa70623-65a8-4276-ac4e-264ae98ceb23",
   "metadata": {},
   "outputs": [],
   "source": [
    "def generate_azel_sequence(az_seq, el_seq):\n",
    "    \"\"\"A generator that cicles through the input azimuth and elevation sequences\n",
    "    forward and backwards.\n",
    "    \n",
    "    Parameters\n",
    "    ----------\n",
    "    az_seq : `list` [`float`]\n",
    "        A sequence of azimuth values to cicle through\n",
    "    el_seq : `list` [`float`]\n",
    "        A sequence of elevation values to cicle through     \n",
    "    Yields\n",
    "    ------\n",
    "    `list`\n",
    "        Values from the sequence.\n",
    "    Notes\n",
    "    -----\n",
    "    This generator is designed to generate sequence of values cicling through\n",
    "    the input forward and backwards. It will also reverse the list when moving\n",
    "    backwards.\n",
    "    Use it as follows:\n",
    "    >>> az_seq = [0, 180]\n",
    "    >>> el_seq = [15, 45]\n",
    "    >>> seq_gen = generate_azel_sequence(az_seq, el_seq)\n",
    "    >>> next(seq_gen)\n",
    "    [0, 15]\n",
    "    >>> next(seq_gen)\n",
    "    [0, 45]\n",
    "    >>> next(seq_gen)\n",
    "    [180, 45]\n",
    "    >>> next(seq_gen)\n",
    "    [180, 15]\n",
    "    >>> next(seq_gen)\n",
    "    [0, 15]\n",
    "    \"\"\"\n",
    "    i = 1\n",
    "    for az in az_seq:\n",
    "        for el in el_seq[::i]:\n",
    "            yield (az, el)\n",
    "        i *= -1"
   ]
  },
  {
   "cell_type": "code",
   "execution_count": 33,
   "id": "26b16763-fb53-4103-9bf1-e197e6478bf5",
   "metadata": {},
   "outputs": [],
   "source": [
    "async def take_images(cams, exp_times, n_exps, reason):\n",
    "    \"\"\"Takes images with multiple cameras at the same time.\n",
    "    \n",
    "    cams : `list`\n",
    "        Contains camera instances.\n",
    "    exp_times : `list` [`float`]\n",
    "        The exposure time for each camera. \n",
    "    n_exps : `list` [`float`]\n",
    "        The numer of exposures for each camera.\n",
    "    reason : `str`\n",
    "        Reason passed to the `take_object` command.\n",
    "    \"\"\" \n",
    "    reason = reason.replace(\" \", \"_\")\n",
    "    \n",
    "    # tasks = [cam.take_object(exptime, n=n_exp, reason=reason) \n",
    "    tasks = [asyncio.create_task(cam.take_object(exptime, n=n_exp, reason=reason))\n",
    "             for (cam, exptime, n_exp) in zip(cams, exp_times, n_exps)]\n",
    "    \n",
    "    await asyncio.gather(*tasks)"
   ]
  },
  {
   "cell_type": "markdown",
   "id": "cda271b5-ac7d-40d5-8925-dc7f60cefa2a",
   "metadata": {},
   "source": [
    "## Data Acquisition"
   ]
  },
  {
   "cell_type": "code",
   "execution_count": 34,
   "id": "acc2aeb9-d119-4868-b610-1280adcb9c5b",
   "metadata": {},
   "outputs": [
    {
     "data": {
      "text/html": [
       "<pre style=\"margin: 0.1em;\n",
       "padding-left: 0.25em;\n",
       "border-left-style: solid;\n",
       "font-family: var(--jp-code-font-family);\n",
       "font-size: var(--jp-code-font-size);\n",
       "line-height: var(--jp-code-line-height);\n",
       "\"><span style=\"color: var(--jp-warn-color2)\">Script</span> <span style=\"color: var(--jp-info-color0)\">INFO</span>: LVV-T2730 LVV-EXXXX: Data acquisition at az=0 and el=71 - Start</pre>"
      ],
      "text/plain": [
       "<IPython.core.display.HTML object>"
      ]
     },
     "metadata": {},
     "output_type": "display_data"
    },
    {
     "data": {
      "text/html": [
       "<pre style=\"margin: 0.1em;\n",
       "padding-left: 0.25em;\n",
       "border-left-style: solid;\n",
       "font-family: var(--jp-code-font-family);\n",
       "font-size: var(--jp-code-font-size);\n",
       "line-height: var(--jp-code-line-height);\n",
       "\"><span style=\"color: var(--jp-warn-color2)\">Script</span> <span style=\"color: var(--jp-info-color0)\">INFO</span>: LVV-T2730 LVV-EXXXX: Dome following - Enable</pre>"
      ],
      "text/plain": [
       "<IPython.core.display.HTML object>"
      ]
     },
     "metadata": {},
     "output_type": "display_data"
    },
    {
     "data": {
      "text/html": [
       "<pre style=\"margin: 0.1em;\n",
       "padding-left: 0.25em;\n",
       "border-left-style: solid;\n",
       "font-family: var(--jp-code-font-family);\n",
       "font-size: var(--jp-code-font-size);\n",
       "line-height: var(--jp-code-line-height);\n",
       "\"><span style=\"color: var(--jp-warn-color2)\">Script</span> <span style=\"color: var(--jp-info-color0)\">INFO</span>: LVV-T2730 LVV-EXXXX: Point to az=0, el=71 - Start</pre>"
      ],
      "text/plain": [
       "<IPython.core.display.HTML object>"
      ]
     },
     "metadata": {},
     "output_type": "display_data"
    },
    {
     "data": {
      "text/html": [
       "<pre style=\"margin: 0.1em;\n",
       "padding-left: 0.25em;\n",
       "border-left-style: solid;\n",
       "font-family: var(--jp-code-font-family);\n",
       "font-size: var(--jp-code-font-size);\n",
       "line-height: var(--jp-code-line-height);\n",
       "\"><span style=\"color: var(--jp-warn-color2)\">setup.MTCS</span> <span style=\"color: var(--jp-info-color0)\">INFO</span>: MTMount elevation in position: True.</pre>"
      ],
      "text/plain": [
       "<IPython.core.display.HTML object>"
      ]
     },
     "metadata": {},
     "output_type": "display_data"
    },
    {
     "data": {
      "text/html": [
       "<pre style=\"margin: 0.1em;\n",
       "padding-left: 0.25em;\n",
       "border-left-style: solid;\n",
       "font-family: var(--jp-code-font-family);\n",
       "font-size: var(--jp-code-font-size);\n",
       "line-height: var(--jp-code-line-height);\n",
       "\"><span style=\"color: var(--jp-warn-color2)\">setup.MTCS</span> <span style=\"color: var(--jp-info-color0)\">INFO</span>: MTMount azimuth in position: True.</pre>"
      ],
      "text/plain": [
       "<IPython.core.display.HTML object>"
      ]
     },
     "metadata": {},
     "output_type": "display_data"
    },
    {
     "data": {
      "text/html": [
       "<pre style=\"margin: 0.1em;\n",
       "padding-left: 0.25em;\n",
       "border-left-style: solid;\n",
       "font-family: var(--jp-code-font-family);\n",
       "font-size: var(--jp-code-font-size);\n",
       "line-height: var(--jp-code-line-height);\n",
       "\"><span style=\"color: var(--jp-warn-color2)\">setup.MTCS</span> <span style=\"color: var(--jp-info-color0)\">INFO</span>: MTRotator in position: True.</pre>"
      ],
      "text/plain": [
       "<IPython.core.display.HTML object>"
      ]
     },
     "metadata": {},
     "output_type": "display_data"
    },
    {
     "data": {
      "text/html": [
       "<pre style=\"margin: 0.1em;\n",
       "padding-left: 0.25em;\n",
       "border-left-style: solid;\n",
       "font-family: var(--jp-code-font-family);\n",
       "font-size: var(--jp-code-font-size);\n",
       "line-height: var(--jp-code-line-height);\n",
       "\"><span style=\"color: var(--jp-warn-color2)\">Script</span> <span style=\"color: var(--jp-info-color0)\">INFO</span>: LVV-T2730 LVV-EXXXX: Point to az=0, el=71 - Done</pre>"
      ],
      "text/plain": [
       "<IPython.core.display.HTML object>"
      ]
     },
     "metadata": {},
     "output_type": "display_data"
    },
    {
     "data": {
      "text/html": [
       "<pre style=\"margin: 0.1em;\n",
       "padding-left: 0.25em;\n",
       "border-left-style: solid;\n",
       "font-family: var(--jp-code-font-family);\n",
       "font-size: var(--jp-code-font-size);\n",
       "line-height: var(--jp-code-line-height);\n",
       "\"><span style=\"color: var(--jp-warn-color2)\">Script</span> <span style=\"color: var(--jp-info-color0)\">INFO</span>: LVV-T2730 LVV-EXXXX: Tracking - Start</pre>"
      ],
      "text/plain": [
       "<IPython.core.display.HTML object>"
      ]
     },
     "metadata": {},
     "output_type": "display_data"
    },
    {
     "data": {
      "text/html": [
       "<pre style=\"margin: 0.1em;\n",
       "padding-left: 0.25em;\n",
       "border-left-style: solid;\n",
       "font-family: var(--jp-code-font-family);\n",
       "font-size: var(--jp-code-font-size);\n",
       "line-height: var(--jp-code-line-height);\n",
       "\"><span style=\"color: var(--jp-warn-color2)\">Script</span> <span style=\"color: var(--jp-info-color0)\">INFO</span>: LVV-T2730 LVV-EXXXX: Dome following - Disable</pre>"
      ],
      "text/plain": [
       "<IPython.core.display.HTML object>"
      ]
     },
     "metadata": {},
     "output_type": "display_data"
    },
    {
     "data": {
      "text/html": [
       "<pre style=\"margin: 0.1em;\n",
       "padding-left: 0.25em;\n",
       "border-left-style: solid;\n",
       "font-family: var(--jp-code-font-family);\n",
       "font-size: var(--jp-code-font-size);\n",
       "line-height: var(--jp-code-line-height);\n",
       "\"><span style=\"color: var(--jp-warn-color2)\">Script</span> <span style=\"color: var(--jp-info-color0)\">INFO</span>: LVV-T2730 LVV-EXXXX: Take 3/6 image(s) while tracking - Start</pre>"
      ],
      "text/plain": [
       "<IPython.core.display.HTML object>"
      ]
     },
     "metadata": {},
     "output_type": "display_data"
    },
    {
     "data": {
      "text/html": [
       "<pre style=\"margin: 0.1em;\n",
       "padding-left: 0.25em;\n",
       "border-left-style: solid;\n",
       "font-family: var(--jp-code-font-family);\n",
       "font-size: var(--jp-code-font-size);\n",
       "line-height: var(--jp-code-line-height);\n",
       "\"><span style=\"color: var(--jp-warn-color2)\">Script</span> <span style=\"color: var(--jp-info-color0)\">INFO</span>: LVV-T2730 LVV-EXXXX: Take 3/6 image(s) while tracking - Done</pre>"
      ],
      "text/plain": [
       "<IPython.core.display.HTML object>"
      ]
     },
     "metadata": {},
     "output_type": "display_data"
    },
    {
     "data": {
      "text/html": [
       "<pre style=\"margin: 0.1em;\n",
       "padding-left: 0.25em;\n",
       "border-left-style: solid;\n",
       "font-family: var(--jp-code-font-family);\n",
       "font-size: var(--jp-code-font-size);\n",
       "line-height: var(--jp-code-line-height);\n",
       "\"><span style=\"color: var(--jp-warn-color2)\">Script</span> <span style=\"color: var(--jp-info-color0)\">INFO</span>: LVV-T2730 LVV-EXXXX: Images acquisition took 67.13957400000652.</pre>"
      ],
      "text/plain": [
       "<IPython.core.display.HTML object>"
      ]
     },
     "metadata": {},
     "output_type": "display_data"
    },
    {
     "data": {
      "text/html": [
       "<pre style=\"margin: 0.1em;\n",
       "padding-left: 0.25em;\n",
       "border-left-style: solid;\n",
       "font-family: var(--jp-code-font-family);\n",
       "font-size: var(--jp-code-font-size);\n",
       "line-height: var(--jp-code-line-height);\n",
       "\"><span style=\"color: var(--jp-warn-color2)\">Script</span> <span style=\"color: var(--jp-info-color0)\">INFO</span>: LVV-T2730 LVV-EXXXX: Tracking - Stop</pre>"
      ],
      "text/plain": [
       "<IPython.core.display.HTML object>"
      ]
     },
     "metadata": {},
     "output_type": "display_data"
    },
    {
     "data": {
      "text/html": [
       "<pre style=\"margin: 0.1em;\n",
       "padding-left: 0.25em;\n",
       "border-left-style: solid;\n",
       "font-family: var(--jp-code-font-family);\n",
       "font-size: var(--jp-code-font-size);\n",
       "line-height: var(--jp-code-line-height);\n",
       "\"><span style=\"color: var(--jp-warn-color2)\">Script</span> <span style=\"color: var(--jp-info-color0)\">INFO</span>: LVV-T2730 LVV-EXXXX: Data acquisition at az=0 and el=71 - Done</pre>"
      ],
      "text/plain": [
       "<IPython.core.display.HTML object>"
      ]
     },
     "metadata": {},
     "output_type": "display_data"
    }
   ],
   "source": [
    "az_grid = [0]\n",
    "el_grid = [71]\n",
    "\n",
    "for az, el in generate_azel_sequence(az_grid, el_grid):\n",
    "\n",
    "    ## All of the following steps should be included in the point_azel command\n",
    "    ## - Point the Dome\n",
    "    ## - Wait the Dome to arrive    \n",
    "    ## - Point the TMA\n",
    "    ## - Wait the TMA to arrive\n",
    "    script.log.info(f\"{base_msg} Data acquisition at az={az} and el={el} - Start\")\n",
    "    \n",
    "    # Ignore error in the Dome for now\n",
    "    mtcs.check.mtdome = False\n",
    "    \n",
    "    ## Enable dome following\n",
    "    script.log.info(f\"{base_msg} Dome following - Enable\")\n",
    "    await mtcs.enable_dome_following()    \n",
    "    \n",
    "    ## Point Az/El\n",
    "    script.log.info(f\"{base_msg} Point to az={az}, el={el} - Start\")\n",
    "    await mtcs.point_azel(az, el)\n",
    "    script.log.info(f\"{base_msg} Point to az={az}, el={el} - Done\")\n",
    "        \n",
    "    ## Start tracking.\n",
    "    script.log.info(f\"{base_msg} Tracking - Start\")\n",
    "    await mtcs.rem.mtptg.cmd_startTracking.set_start()\n",
    "    \n",
    "    ## Disable dome following\n",
    "    script.log.info(f\"{base_msg} Dome following - Disable\")\n",
    "    await mtcs.disable_dome_following()\n",
    "    \n",
    "    n_images = [int(track_time / t_exp) for t_exp in exposure_times] \n",
    "    n_images_str = \"/\".join([str(i) for i in n_images])\n",
    "    \n",
    "    exp_start = Time.now()\n",
    "    script.log.info(f\"{base_msg} Take {n_images_str} image(s) while tracking - Start\")\n",
    "    await take_images(camera_list, exposure_times, n_images, base_msg[:-1]) \n",
    "    script.log.info(f\"{base_msg} Take {n_images_str} image(s) while tracking - Done\")\n",
    "\n",
    "    exp_end = Time.now()\n",
    "    delta = exp_end - exp_start\n",
    "    delta.format = \"sec\"\n",
    "    script.log.info(f\"{base_msg} Images acquisition took {delta}.\")\n",
    "    \n",
    "    ## Stop tracking\n",
    "    script.log.info(f\"{base_msg} Tracking - Stop\")\n",
    "    await mtcs.rem.mtptg.cmd_stopTracking.set_start()\n",
    "    \n",
    "    script.log.info(f\"{base_msg} Data acquisition at az={az} and el={el} - Done\")"
   ]
  },
  {
   "cell_type": "code",
   "execution_count": null,
   "id": "a4aee521-e610-49e6-8642-b585e42e966c",
   "metadata": {},
   "outputs": [],
   "source": []
  }
 ],
 "metadata": {
  "kernelspec": {
   "display_name": "LSST",
   "language": "python",
   "name": "lsst"
  },
  "language_info": {
   "codemirror_mode": {
    "name": "ipython",
    "version": 3
   },
   "file_extension": ".py",
   "mimetype": "text/x-python",
   "name": "python",
   "nbconvert_exporter": "python",
   "pygments_lexer": "ipython3",
   "version": "3.10.5"
  }
 },
 "nbformat": 4,
 "nbformat_minor": 5
}
