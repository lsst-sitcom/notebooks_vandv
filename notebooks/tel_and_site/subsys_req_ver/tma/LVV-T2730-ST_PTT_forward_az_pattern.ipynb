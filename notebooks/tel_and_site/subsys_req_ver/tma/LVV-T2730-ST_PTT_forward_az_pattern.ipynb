{
 "cells": [
  {
   "cell_type": "markdown",
   "id": "0a3f99fb-8b55-4426-a6f1-5c02cbe4f3ce",
   "metadata": {},
   "source": [
    "# [LVV-T2730] - StarTracker Pointing and Tracking Test - Forward Azimuth Pattern\n",
    "\n",
    "Collect data with the StarTracker following the azimuth pattern -270, -180, -90, 0, 90, 180, 270 deg.  \n",
    "Nominal at four elevation angle 15, 45, 75, 86.5 deg.  \n",
    "Minimum at the three angle: 15, 45, 86.5 deg.  \n",
    "\n",
    "This test is forseen the first of four tests takes about one summer night (7 hours) in full version and a bit more than 5hours in the shortened version.  \n",
    "\n",
    "Can we track for 10 min without moving the dome?\n",
    "\n",
    "**Requirements:**\n",
    " - All the MT components should be enabled.\n",
    " - Need the `notebooks_vandv` module installed.\n",
    "\n",
    "Please, see the [README] file for the requirements to run this notebook.  \n",
    "The log messages printed in this notebook are stored in the EFD Script using the `-TTTTMMDD` format, where `TTTT` are the four last digits of the test case, `MM` is the 0-padded month, and `DD` is the 0-padded day of execution.\n",
    "\n",
    "[README]: https://github.com/lsst-sitcom/notebooks_vandv/blob/develop/README.md\n",
    "[LVV-T2730]: https://jira.lsstcorp.org/secure/Tests.jspa#/testCase/LVV-T2730"
   ]
  },
  {
   "cell_type": "markdown",
   "id": "4dcbd2d1-e698-478d-9c26-fdedc022541f",
   "metadata": {
    "tags": []
   },
   "source": [
    "## Setup"
   ]
  },
  {
   "cell_type": "code",
   "execution_count": null,
   "id": "1acfa6f7-8575-4d9e-8228-f6e03f0308bc",
   "metadata": {
    "tags": []
   },
   "outputs": [],
   "source": [
    "test_case = \"LVV-T2730\"\n",
    "test_exec = \"LVV-EXXXX\"\n",
    "\n",
    "# az_grid = [-270, -180, -90, 0, 90, 180, 270]\n",
    "az_grid = [180, 90, 0, -90]\n",
    "# el_grid = [16, 45, 75, 86.5] # Nominal Elevation Angle - M1M3 goes to fault at 16 deg.\n",
    "el_grid = [20, 45, 60, 75, 86] # Nominal Elevation Angle\n",
    "# el_grid_min = [15, 45, 86.5] # Minimum Elevation Angle\n",
    "\n",
    "mag_limit = 4\n",
    "mag_range = 2\n",
    "radius = 5.0\n",
    "\n",
    "# 101 - Narrow Camera\n",
    "# 102 - Wide Camera\n",
    "# 103 - DIMM\n",
    "camera_sal_indexes = [101, 102, 103]\n",
    "exposure_times = [5., 3., 1.]  # s\n",
    "base_msg = f\"{test_case} {test_exec}:\"\n",
    "\n",
    "track_time = 30.  # 10 min\n",
    "number_of_exposures = 2\n",
    "\n",
    "# Set this to True to have the cameras taking images at the same time\n",
    "sync_images = True"
   ]
  },
  {
   "cell_type": "markdown",
   "id": "7724453e-0b6d-49e5-9a35-a0a3cef39326",
   "metadata": {
    "tags": []
   },
   "source": [
    "### Prepare Notebook\n",
    "\n",
    "Start with importing libraries:"
   ]
  },
  {
   "cell_type": "code",
   "execution_count": null,
   "id": "8e237202-1e4d-4aa0-8647-6c2942ddc547",
   "metadata": {
    "tags": []
   },
   "outputs": [],
   "source": [
    "%load_ext autoreload\n",
    "%autoreload 2\n",
    "\n",
    "import asyncio\n",
    "import logging\n",
    "import sys\n",
    "import yaml\n",
    "\n",
    "from astropy import units as u\n",
    "from astropy.coordinates import SkyCoord\n",
    "from astropy.time import Time\n",
    "\n",
    "from lsst.ts import salobj\n",
    "from lsst.ts.idl.enums.MTDome import SubSystemId\n",
    "from lsst.ts.idl.enums.Script import ScriptState\n",
    "from lsst.ts.observatory.control import RotType\n",
    "from lsst.ts.observatory.control.maintel import MTCS, ComCam\n",
    "from lsst.ts.observatory.control.generic_camera import GenericCamera\n",
    "\n",
    "from lsst.sitcom import vandv"
   ]
  },
  {
   "cell_type": "markdown",
   "id": "16e0c07d-90b0-42ed-8627-37a7f7d00642",
   "metadata": {},
   "source": [
    "---\n",
    "Print out the execution info for future reference."
   ]
  },
  {
   "cell_type": "code",
   "execution_count": null,
   "id": "6a909cb6-5bc8-480a-9766-3a0483d88eeb",
   "metadata": {},
   "outputs": [],
   "source": [
    "exec_info = vandv.ExecutionInfo()\n",
    "print(exec_info)"
   ]
  },
  {
   "cell_type": "markdown",
   "id": "cb5b8029-f1ae-4873-bda9-a34425cc3a2f",
   "metadata": {},
   "source": [
    "---\n",
    "Use the `maintel/setup_mtcs.py` script in LOVE or the [LVV-T2344] to test case and notebook to setup all the main telescope components.  \n",
    "This includes simulators as well as real hardware when available (this will depend on when the test is conducted at TTS or on level 3 or on the telescope):  \n",
    "\n",
    "- pointing  \n",
    "- mount ( with the CCW)  \n",
    "- rotator  \n",
    "- ready M1M3: raise mirror, turn on FB, clear forces. Note that if used at level 3, we need to have M1M3 LUT use mount telemetry  \n",
    "- ready M2: turn on FB, clear forces. Note that if used at level 3, we need to have M2 LUT use mount telemetry  \n",
    "- Get cam hex Ready: check config; make sure LUT is on and has valid inputs; make sure hex is at LUT position  \n",
    "- Get M2 hex (simulator) Ready: check config; make sure LUT is on and has valid inputs; make sure hex is at LUT position  \n",
    "- Finally, get the MTAOS CSC ready  \n",
    "\n",
    "[LVV-T2344]: https://jira.lsstcorp.org/secure/Tests.jspa#/testCase/LVV-T2344\n",
    "\n",
    "---\n",
    "Setup the logger, the Domain, and the remote for the telescope control."
   ]
  },
  {
   "cell_type": "code",
   "execution_count": null,
   "id": "4d8be9f3-c15a-4f84-82d2-0ac28567c9e4",
   "metadata": {},
   "outputs": [],
   "source": [
    "logging.basicConfig(format=\"%(asctime)s %(name)s: %(message)s\", level=logging.DEBUG)\n",
    "log = logging.getLogger(f\"{test_case}\")"
   ]
  },
  {
   "cell_type": "code",
   "execution_count": null,
   "id": "16984334-3408-4840-b3a7-b349d8aaf8b3",
   "metadata": {},
   "outputs": [],
   "source": [
    "os.environ[\"LSST_DDS_HISTORYSYNC\"] = \"200\"\n",
    "domain = salobj.Domain()\n",
    "print(f\"My user_host is {domain.user_host!r}\\n\")"
   ]
  },
  {
   "cell_type": "markdown",
   "id": "60009800-8892-4d76-9585-8dc12f9e0c59",
   "metadata": {},
   "source": [
    "---\n",
    "The `Script` CSC is used to record test checkpoints and allow to easy search in the EFD."
   ]
  },
  {
   "cell_type": "code",
   "execution_count": null,
   "id": "2f1bdc63-bcf3-42cf-a4d4-54aac4c0e283",
   "metadata": {},
   "outputs": [],
   "source": [
    "script = salobj.Controller(\"Script\", index=199)\n",
    "await script.start_task"
   ]
  },
  {
   "cell_type": "code",
   "execution_count": null,
   "id": "0e18753a-b20e-4013-8a73-d75ef03bd9a3",
   "metadata": {},
   "outputs": [],
   "source": [
    "script.log.info(\"foo\")"
   ]
  },
  {
   "cell_type": "markdown",
   "id": "73948eaa-cffa-47f9-bad4-f161fa12b2e2",
   "metadata": {},
   "source": [
    "Instanciate the MTCS."
   ]
  },
  {
   "cell_type": "code",
   "execution_count": null,
   "id": "2fb2580c-4e11-49d3-a96e-c973a9718d3f",
   "metadata": {
    "tags": []
   },
   "outputs": [],
   "source": [
    "mtcs = MTCS(domain=domain, log=script.log)\n",
    "vandv.logger.add_filter_to_mtcs()\n",
    "await mtcs.start_task"
   ]
  },
  {
   "cell_type": "markdown",
   "id": "9c819a6d-e478-4b79-98fe-43b8a19163d2",
   "metadata": {},
   "source": [
    "--- \n",
    "Initialize the GenericCamera and ComCam.  \n",
    "The ComCam is used to ensure that we can take exposures using two cameras at the same time.  \n",
    "You might need to modify the cell below. "
   ]
  },
  {
   "cell_type": "code",
   "execution_count": null,
   "id": "f72d8e4d-09d0-4042-b545-7cd6e7a50335",
   "metadata": {},
   "outputs": [],
   "source": [
    "camera_list = []\n",
    "\n",
    "for index in camera_sal_indexes:\n",
    "\n",
    "    gencam = GenericCamera(domain=domain, index=index, log=script.log)\n",
    "    await gencam.start_task\n",
    "    await gencam.enable()\n",
    "\n",
    "    camera_list.append(gencam)"
   ]
  },
  {
   "cell_type": "markdown",
   "id": "70586862-68c5-40b5-8d4e-c1cf28bab51d",
   "metadata": {},
   "source": [
    "Run the cell below to hide all the messages related to the DDS and have a cleaner notebook."
   ]
  },
  {
   "cell_type": "code",
   "execution_count": null,
   "id": "5957d088-f2ce-4118-aea5-debc106e0633",
   "metadata": {},
   "outputs": [],
   "source": [
    "vandv.logger.add_filter_to_mtcs()"
   ]
  },
  {
   "cell_type": "markdown",
   "id": "61c4bf74-79b1-407a-a9cd-fafb2fe5cf44",
   "metadata": {},
   "source": [
    "Default wait time in the steps."
   ]
  },
  {
   "cell_type": "code",
   "execution_count": null,
   "id": "cd0aeadd-925b-4bd7-9dbb-76c8e86fa1ee",
   "metadata": {},
   "outputs": [],
   "source": [
    "STDWAIT = 20"
   ]
  },
  {
   "cell_type": "markdown",
   "id": "7b5772b8-156a-4d17-8e05-4f2d3f467d86",
   "metadata": {
    "tags": []
   },
   "source": [
    "### Check CSC Status"
   ]
  },
  {
   "cell_type": "code",
   "execution_count": null,
   "id": "18ba96b4-07f1-4b0c-b9c8-13cd34fc482e",
   "metadata": {},
   "outputs": [],
   "source": [
    "await mtcs.assert_liveliness()"
   ]
  },
  {
   "cell_type": "code",
   "execution_count": null,
   "id": "9f5412a2-2ba2-43af-aaf9-33a0813ae6d9",
   "metadata": {},
   "outputs": [],
   "source": [
    "await mtcs.assert_all_enabled()"
   ]
  },
  {
   "cell_type": "code",
   "execution_count": null,
   "id": "f5d0cb14-e352-4167-8c85-9ae6b36796b0",
   "metadata": {},
   "outputs": [],
   "source": [
    "for cam in camera_list:\n",
    "    await cam.assert_liveliness()\n",
    "    await cam.assert_all_enabled()"
   ]
  },
  {
   "cell_type": "markdown",
   "id": "a9443c16-7d8a-4c5d-a8d5-77e73afdbe5d",
   "metadata": {},
   "source": [
    "### Confirm take image each camera"
   ]
  },
  {
   "cell_type": "code",
   "execution_count": null,
   "id": "ddb585cd-36c6-41d6-9b03-37bb5de09de5",
   "metadata": {},
   "outputs": [],
   "source": [
    "await camera_list[0].take_object(exptime=1., reason=\"sanity_check\")"
   ]
  },
  {
   "cell_type": "code",
   "execution_count": null,
   "id": "b3dc6134-706f-430c-9a80-c79e5a35d66f",
   "metadata": {},
   "outputs": [],
   "source": [
    "await camera_list[1].take_object(exptime=1., reason=\"sanity_check\")"
   ]
  },
  {
   "cell_type": "code",
   "execution_count": null,
   "id": "9a18e96d-48a0-4b15-9dda-90858f5352b0",
   "metadata": {},
   "outputs": [],
   "source": [
    "await camera_list[2].take_object(exptime=1., reason=\"sanity_check\")"
   ]
  },
  {
   "cell_type": "markdown",
   "id": "c6f1de9d-4155-4c7f-ae47-4e0dd3a100e5",
   "metadata": {},
   "source": [
    "### Confirm Take Images in Sync"
   ]
  },
  {
   "cell_type": "code",
   "execution_count": null,
   "id": "adcebc97-8f01-4484-b390-3409364e06e1",
   "metadata": {},
   "outputs": [],
   "source": [
    "res = (number_of_exposures) * len(camera_list)\n",
    "for n in range(number_of_exposures):\n",
    "    tasks = [asyncio.create_task(cam.take_object(exptime, reason=base_msg[:-1])) \n",
    "             for (cam, exptime) in zip(camera_list, exposure_times)]\n",
    "    await asyncio.gather(*tasks)"
   ]
  },
  {
   "cell_type": "markdown",
   "id": "b4c2c5f0-256a-41ce-9074-f55eb74c9830",
   "metadata": {
    "jp-MarkdownHeadingCollapsed": true,
    "tags": []
   },
   "source": [
    "### Other preparation\n",
    "\n",
    "- LVV-T2713 (1.0) Establish TMA - StarTracker Axis Angle Reference"
   ]
  },
  {
   "cell_type": "markdown",
   "id": "3b1f19b4-f2f0-47c9-8e97-63d2efe93821",
   "metadata": {},
   "source": [
    "## Helper Functions"
   ]
  },
  {
   "cell_type": "code",
   "execution_count": null,
   "id": "efa70623-65a8-4276-ac4e-264ae98ceb23",
   "metadata": {},
   "outputs": [],
   "source": [
    "def generate_azel_sequence(az_seq, el_seq, el_limit=90):\n",
    "    \"\"\"A generator that cicles through the input azimuth and elevation sequences\n",
    "    forward and backwards.\n",
    "    \n",
    "    Parameters\n",
    "    ----------\n",
    "    az_seq : `list` [`float`]\n",
    "        A sequence of azimuth values to cicle through\n",
    "    el_seq : `list` [`float`]\n",
    "        A sequence of elevation values to cicle through\n",
    "    el_limit : `float`\n",
    "        Cut off limit angle in elevation to skip points when going down. \n",
    "    Yields\n",
    "    ------\n",
    "    `list`\n",
    "        Values from the sequence.\n",
    "    Notes\n",
    "    -----\n",
    "    This generator is designed to generate sequence of values cicling through\n",
    "    the input forward and backwards. It will also reverse the list when moving\n",
    "    backwards.\n",
    "    Use it as follows:\n",
    "    >>> az_seq = [0, 180]\n",
    "    >>> el_seq = [15, 45]\n",
    "    >>> seq_gen = generate_azel_sequence(az_seq, el_seq)\n",
    "    >>> next(seq_gen)\n",
    "    [0, 15]\n",
    "    >>> next(seq_gen)\n",
    "    [0, 45]\n",
    "    >>> next(seq_gen)\n",
    "    [180, 45]\n",
    "    >>> next(seq_gen)\n",
    "    [180, 15]\n",
    "    >>> next(seq_gen)\n",
    "    [0, 15]\n",
    "    \"\"\"\n",
    "    i = 1\n",
    "    for az in az_seq:\n",
    "        for el in el_seq[::i]:\n",
    "            if el > el_limit and i == -1:\n",
    "                continue\n",
    "            else:\n",
    "                yield (az, el)\n",
    "        i *= -1"
   ]
  },
  {
   "cell_type": "code",
   "execution_count": null,
   "id": "26b16763-fb53-4103-9bf1-e197e6478bf5",
   "metadata": {},
   "outputs": [],
   "source": [
    "async def take_images_for_time(cam, exptime, reason, tracktime):\n",
    "    \"\"\" Takes images while tracking for some time. \n",
    "    \n",
    "    Parameters\n",
    "    ----------\n",
    "    cam : `lsst.ts.observatory.control.base_camera.BaseCamera`\n",
    "        Contains a camera instance. \n",
    "    exptime : `float`\n",
    "        The exposure time.\n",
    "    reason : `str`\n",
    "        Reason passed to the `take_object` command.\n",
    "    tracktime : `float`\n",
    "        How long will we be tracking?\n",
    "        \n",
    "    Returns\n",
    "    -------\n",
    "    int : number of images obtained.\n",
    "    \"\"\" \n",
    "    reason = reason.replace(\" \", \"_\")\n",
    "    timer_task = asyncio.create_task(asyncio.sleep(tracktime - exptime))\n",
    "    n_images = 0\n",
    "\n",
    "    while not timer_task.done():\n",
    "        await cam.take_object(exptime, reason=reason)\n",
    "        n_images += 1\n",
    "        \n",
    "    return n_images"
   ]
  },
  {
   "cell_type": "code",
   "execution_count": null,
   "id": "5e62e08b-dae8-4836-9c82-3cc357a60f12",
   "metadata": {},
   "outputs": [],
   "source": [
    "async def wait_for_dome_in_position():\n",
    "    \"\"\"Wait until the dome is in position\"\"\"\n",
    "    await asyncio.sleep(20)\n",
    "    azMotion = await mtcs.rem.mtdome.evt_azMotion.aget()\n",
    "\n",
    "    while not azMotion.inPosition:\n",
    "        azMotion = await mtcs.rem.mtdome.evt_azMotion.aget()\n",
    "        await asyncio.sleep(5.)\n",
    "        \n",
    "    if azMotion.state == 1.:\n",
    "        await mtcs.rem.mtdome.cmd_exitFault.set_start()"
   ]
  },
  {
   "cell_type": "code",
   "execution_count": null,
   "id": "73943913-e3a4-4806-b74e-81f1d132443d",
   "metadata": {},
   "outputs": [],
   "source": [
    "await camera_list[0].take_object(5)\n",
    "await camera_list[1].take_object(2)"
   ]
  },
  {
   "cell_type": "code",
   "execution_count": null,
   "id": "f8d69ca5-9f49-4199-b308-34586fd71b44",
   "metadata": {},
   "outputs": [],
   "source": []
  },
  {
   "cell_type": "markdown",
   "id": "cda271b5-ac7d-40d5-8925-dc7f60cefa2a",
   "metadata": {},
   "source": [
    "## Data Acquisition"
   ]
  },
  {
   "cell_type": "markdown",
   "id": "e5e70768-b817-418f-a04b-7ef0c0a7b2a8",
   "metadata": {
    "tags": []
   },
   "source": [
    "## Loop with TMA Tracking and Dome Following"
   ]
  },
  {
   "cell_type": "code",
   "execution_count": null,
   "id": "acc2aeb9-d119-4868-b610-1280adcb9c5b",
   "metadata": {},
   "outputs": [],
   "source": [
    "# for az, el in generate_azel_sequence(az_grid, el_grid):\n",
    "    \n",
    "#     ## All of the following steps should be included in the point_azel command\n",
    "#     ## - Point the Dome\n",
    "#     ## - Wait the Dome to arrive    \n",
    "#     ## - Point the TMA\n",
    "#     ## - Wait the TMA to arrive\n",
    "#     script.log.info(f\"{base_msg} Data acquisition at az={az} and el={el} - Start\")\n",
    "    \n",
    "#     # Enable error in the Dome for now\n",
    "#     mtcs.check.mtdome = False\n",
    "    \n",
    "#     ## Disable dome following for now\n",
    "#     script.log.info(f\"{base_msg} Dome following - Enable\")\n",
    "#     await mtcs.enable_dome_following()    \n",
    "    \n",
    "#     ## Point Az/El\n",
    "#     script.log.info(f\"{base_msg} Point to az={az} (tma_az={tma_az}), el={el} - Start\")\n",
    "#     # radec_icrs = mtcs.radec_from_azel(az=az, el=el)\n",
    "#     # await mtcs.slew_icrs(radec_icrs.ra, radec_icrs.dec)\n",
    "#     await mtcs.rem.mtmount.cmd_moveToTarget.set_start(azimuth=az, elevation=el)\n",
    "#     script.log.info(f\"{base_msg} Point to az={az} (tma_az={tma_az}), el={el} - Done\")\n",
    "    \n",
    "#     ## Disable dome following\n",
    "#     script.log.info(f\"{base_msg} Dome following - Disable\")\n",
    "#     await mtcs.disable_dome_following()\n",
    "    \n",
    "#     exp_start = Time.now()\n",
    "#     script.log.info(f\"{base_msg} Take image(s) while tracking - Start\")\n",
    "            \n",
    "#     tasks = [asyncio.create_task(take_images_for_time(cam, exptime, base_msg[:-1], track_time)) \n",
    "#              for (cam, exptime) in zip(camera_list, exposure_times)]\n",
    "#     res = await asyncio.gather(*tasks)\n",
    "    \n",
    "#     script.log.info(f\"{base_msg} Take image(s) while tracking - Done\")\n",
    "\n",
    "#     exp_end = Time.now()\n",
    "#     delta = exp_end - exp_start\n",
    "#     delta.format = \"sec\"\n",
    "#     script.log.info(f\"{base_msg} Took {'/'.join([str(i) for i in res])} images in {delta.to_value(1 * u.s):.2f} seconds.\")\n",
    "    \n",
    "#     script.log.info(f\"{base_msg} Data acquisition at az={az} and el={el} - Done\")"
   ]
  },
  {
   "cell_type": "markdown",
   "id": "e3ef9f4a-f004-4a16-9b0f-00d25cfe5dc4",
   "metadata": {},
   "source": [
    "## Loop without TMA tracking and without Dome Following"
   ]
  },
  {
   "cell_type": "markdown",
   "id": "a247c385-bc3b-4a8b-b198-0194af559228",
   "metadata": {},
   "source": [
    "The following cell is isolated to allow continuing the grid from a point where you stopped. "
   ]
  },
  {
   "cell_type": "code",
   "execution_count": null,
   "id": "cbd68403-9a42-4654-baf9-cdb12ed855bd",
   "metadata": {},
   "outputs": [],
   "source": [
    "azel = [(az, el) for az, el in generate_azel_sequence(az_grid, el_grid)]\n",
    "\n",
    "for i, (az, el) in enumerate(azel):\n",
    "    print(i, az, el)"
   ]
  },
  {
   "cell_type": "markdown",
   "id": "fd67f7fc-f2c3-4d78-b1db-9bf893d25dfb",
   "metadata": {},
   "source": [
    "---\n",
    "Uncomment and edit the lines below if you need a smaller grid for now."
   ]
  },
  {
   "cell_type": "code",
   "execution_count": null,
   "id": "83080e4d-9824-427d-8ca8-0c2cadc24ef7",
   "metadata": {
    "tags": []
   },
   "outputs": [],
   "source": [
    "# az_grid_tiny = [130]\n",
    "# el_grid_tiny = [40]\n",
    "# azel = [(az, el) for az, el in generate_azel_sequence(az_grid_tiny, el_grid_tiny)]"
   ]
  },
  {
   "cell_type": "markdown",
   "id": "1df2b6ac-749a-4846-8525-330bbb008db9",
   "metadata": {},
   "source": [
    "---\n",
    "Uncomment the line bellow and replace i with the position index from the loop below"
   ]
  },
  {
   "cell_type": "code",
   "execution_count": null,
   "id": "1ba0974d-c4eb-438e-8353-5afc46703c32",
   "metadata": {},
   "outputs": [],
   "source": [
    "# azel = azel[i::]"
   ]
  },
  {
   "cell_type": "markdown",
   "id": "53004102-6101-4a84-935c-23be5da7c236",
   "metadata": {},
   "source": [
    "---\n",
    "This is the main loop. See comments in the code for details."
   ]
  },
  {
   "cell_type": "code",
   "execution_count": null,
   "id": "48b33ccc-41c1-43c8-94f3-d2cbcb579a90",
   "metadata": {
    "tags": []
   },
   "outputs": [],
   "source": [
    "## Ignore (set check to False) the following components:\n",
    "mtcs.check.mtaos = False\n",
    "mtcs.check.mtdome = False\n",
    "mtcs.check.mtdometrajectory = False\n",
    "mtcs.check.mthexapod_1 = False\n",
    "mtcs.check.mthexapod_2 = False\n",
    "mtcs.check.mtm1m3 = False\n",
    "mtcs.check.mtm2 = False\n",
    "mtcs.check.mtrotator = False\n",
    "\n",
    "for i, (az, el) in enumerate(azel):\n",
    "    \n",
    "    ## All of the following steps should be included in the point_azel command\n",
    "    ## - Point the Dome\n",
    "    ## - Wait the Dome to arrive    \n",
    "    ## - Point the TMA\n",
    "    ## - Wait the TMA to arrive\n",
    "    script.log.info(f\"{base_msg} Data acquisition #{i} at az={az} and el={el} - Start\")\n",
    "    \n",
    "    ## Disable dome following for now\n",
    "    script.log.info(f\"{base_msg} Dome following - Disable\")\n",
    "    # await mtcs.disable_dome_following()    \n",
    "    mtcs.check.mtdometrajectory = False\n",
    "    \n",
    "    ## Start moving the Dome\n",
    "    script.log.info(f\"{base_msg} Moving Dome to az={az} - START\")\n",
    "    await mtcs.rem.mtdome.cmd_exitFault.set_start()\n",
    "    await asyncio.sleep(5)\n",
    "    await mtcs.rem.mtdome.cmd_moveAz.set_start(position=az, velocity=0)\n",
    "    dome_task = asyncio.create_task(wait_for_dome_in_position())\n",
    "    \n",
    "    ## Point Az/El\n",
    "    script.log.info(f\"{base_msg} Point to az={az}, el={el} - Start\")\n",
    "    # await mtcs.rem.mtmount.cmd_moveToTarget.set_start(azimuth=tma_az, elevation=el)\n",
    "    radec = mtcs.radec_from_azel(az, el)\n",
    "    await mtcs.slew_icrs(ra=radec.ra, dec=radec.dec, rot=0, rot_type=RotType.Physical)\n",
    "    script.log.info(f\"{base_msg} Point to az={az}, el={el} - Done\")\n",
    "    \n",
    "    ## Wait until dome in position\n",
    "    await dome_task\n",
    "    script.log.info(f\"{base_msg} Moving Dome to az={az} - DONE\")\n",
    "\n",
    "    ## Sleep and engage dome breaks\n",
    "    script.log.info(f\"{base_msg} Dome Brakes - Start\")\n",
    "    await asyncio.sleep(10)\n",
    "    sub_system_ids = SubSystemId.AMCS\n",
    "    await mtcs.rem.mtdome.cmd_stop.set_start(engageBrakes=True, subSystemIds=sub_system_ids)\n",
    "    script.log.info(f\"{base_msg} Dome Brakes - Done\")\n",
    "    \n",
    "    exp_start = Time.now()\n",
    "    script.log.info(f\"{base_msg} Take image(s) - Start\")\n",
    "    \n",
    "    ## Take images out of sync for while tracking for some time.\n",
    "    # tasks = [asyncio.create_task(take_images_for_time(cam, exptime, base_msg[:-1], track_time)) \n",
    "    #          for (cam, exptime) in zip(camera_list, exposure_times)]\n",
    "    # res = await asyncio.gather(*tasks)\n",
    "    \n",
    "    ## Take images in sync - this will increase overhead on the camera with shorter exposure time.\n",
    "    res = (number_of_exposures) * len(camera_list)\n",
    "    for n in range(number_of_exposures):\n",
    "        tasks = [asyncio.create_task(cam.take_object(exptime, reason=base_msg[:-1])) \n",
    "                 for (cam, exptime) in zip(camera_list, exposure_times)]\n",
    "        await asyncio.gather(*tasks)\n",
    "\n",
    "    script.log.info(f\"{base_msg} Take image(s) - Done\")\n",
    "\n",
    "    exp_end = Time.now()\n",
    "    delta = exp_end - exp_start\n",
    "    delta.format = \"sec\"\n",
    "    script.log.info(f\"{base_msg} Took {'/'.join([str(i) for i in res])} images in {delta.to_value(1 * u.s):.2f} seconds.\")\n",
    "    \n",
    "    script.log.info(f\"{base_msg} Data acquisition #{i} at az={az} and el={el} - Done\")\n",
    "    await mtcs.rem.mtdome.cmd_exitFault.set_start()"
   ]
  },
  {
   "cell_type": "markdown",
   "id": "50ebb454-6448-44d7-be9d-e555c963f6fe",
   "metadata": {},
   "source": [
    "## Slew and track a single target using Ra/Dec"
   ]
  },
  {
   "cell_type": "markdown",
   "id": "3e458ef1-884c-4715-84e6-ceb2095a5c8f",
   "metadata": {},
   "source": [
    "Read Ra/Dec and convert to Az/El:"
   ]
  },
  {
   "cell_type": "code",
   "execution_count": null,
   "id": "d80de3df-5084-4a63-bd41-7d9fed4f6073",
   "metadata": {
    "tags": []
   },
   "outputs": [],
   "source": [
    "coord = SkyCoord(\"05h23m27.4s -69°43'59.5\", unit=(u.hourangle, u.deg), frame=\"icrs\")\n",
    "print(coord)\n",
    "\n",
    "azel = mtcs.azel_from_radec(coord.ra, coord.dec)\n",
    "az, el = azel.az.deg, azel.alt.deg\n",
    "print(az, el)"
   ]
  },
  {
   "cell_type": "code",
   "execution_count": null,
   "id": "db89d523-9a8e-4122-9318-1455e6c48132",
   "metadata": {
    "tags": []
   },
   "outputs": [],
   "source": [
    "## Disable dome following for now\n",
    "script.log.info(f\"{base_msg} Dome following - Disable\")\n",
    "# await mtcs.disable_dome_following()    \n",
    "mtcs.check.mtdometrajectory = False\n",
    "\n",
    "## Start moving the Dome\n",
    "script.log.info(f\"{base_msg} Moving Dome to az={az} - START\")\n",
    "await mtcs.rem.mtdome.cmd_exitFault.set_start()\n",
    "await asyncio.sleep(5)\n",
    "await mtcs.rem.mtdome.cmd_moveAz.set_start(position=az, velocity=0)\n",
    "dome_task = asyncio.create_task(wait_for_dome_in_position())\n",
    "\n",
    "## Point Az/El\n",
    "script.log.info(f\"{base_msg} Point to az={az}, el={el} - Start\")\n",
    "# await mtcs.rem.mtmount.cmd_moveToTarget.set_start(azimuth=tma_az, elevation=el)\n",
    "radec = mtcs.radec_from_azel(az, el)\n",
    "await mtcs.slew_icrs(ra=radec.ra, dec=radec.dec, rot=0, rot_type=RotType.Physical)\n",
    "script.log.info(f\"{base_msg} Point to az={az}, el={el} - Done\")\n",
    "\n",
    "## Wait until dome in position\n",
    "await dome_task\n",
    "script.log.info(f\"{base_msg} Moving Dome to az={az} - DONE\")\n",
    "\n",
    "## Sleep and engage dome breaks\n",
    "script.log.info(f\"{base_msg} Dome Brakes - Start\")\n",
    "await asyncio.sleep(10)\n",
    "sub_system_ids = SubSystemId.AMCS\n",
    "await mtcs.rem.mtdome.cmd_stop.set_start(engageBrakes=True, subSystemIds=sub_system_ids)\n",
    "script.log.info(f\"{base_msg} Dome Brakes - Done\")"
   ]
  },
  {
   "cell_type": "code",
   "execution_count": null,
   "id": "5faf7bde-166d-4e90-9a57-dd477bd48a3b",
   "metadata": {
    "tags": []
   },
   "outputs": [],
   "source": [
    "await mtcs.offset_azel(az=0, el=3600*0.5)"
   ]
  },
  {
   "cell_type": "markdown",
   "id": "6f708ec4-f2f2-41a0-a8f7-fca8a11990d2",
   "metadata": {},
   "source": [
    "## Dome Commands"
   ]
  },
  {
   "cell_type": "markdown",
   "id": "c89fba1c-d0e4-4862-a72c-7585ef1b4ae8",
   "metadata": {},
   "source": [
    "The following commands allow to control the Dome. However, make sure it is in ENABLED state. Use LOVE to change its state."
   ]
  },
  {
   "cell_type": "markdown",
   "id": "731387e8-1fba-4ed7-8628-5c6221e1f2f6",
   "metadata": {},
   "source": [
    "### Move to position"
   ]
  },
  {
   "cell_type": "code",
   "execution_count": null,
   "id": "4f046175-b4ea-42dd-89e3-0dcd5b2d945d",
   "metadata": {},
   "outputs": [],
   "source": [
    "await mtcs.rem.mtdome.cmd_moveAz.set_start(position=186, velocity=0)"
   ]
  },
  {
   "cell_type": "markdown",
   "id": "244e87eb-0056-4375-8111-359413355878",
   "metadata": {},
   "source": [
    "### Stop the Dome"
   ]
  },
  {
   "cell_type": "code",
   "execution_count": null,
   "id": "f088418a-27cb-41ee-9977-93a6fdbef22d",
   "metadata": {},
   "outputs": [],
   "source": [
    "sub_system_ids = SubSystemId.AMCS\n",
    "await dome.cmd_stop.set_start(engageBrakes=True, subSystemIds=sub_system_ids)"
   ]
  },
  {
   "cell_type": "markdown",
   "id": "281a7103-3b12-45a0-9b4b-eeef51fe53ed",
   "metadata": {},
   "source": [
    "### Recover from fault when stopping"
   ]
  },
  {
   "cell_type": "code",
   "execution_count": null,
   "id": "87a171f0-4d95-4aeb-bd6e-47fdeb54f2e8",
   "metadata": {},
   "outputs": [],
   "source": [
    "await mtcs.rem.mtdome.cmd_exitFault.set_start()"
   ]
  }
 ],
 "metadata": {
  "kernelspec": {
   "display_name": "LSST",
   "language": "python",
   "name": "lsst"
  },
  "language_info": {
   "codemirror_mode": {
    "name": "ipython",
    "version": 3
   },
   "file_extension": ".py",
   "mimetype": "text/x-python",
   "name": "python",
   "nbconvert_exporter": "python",
   "pygments_lexer": "ipython3",
   "version": "3.10.6"
  }
 },
 "nbformat": 4,
 "nbformat_minor": 5
}
