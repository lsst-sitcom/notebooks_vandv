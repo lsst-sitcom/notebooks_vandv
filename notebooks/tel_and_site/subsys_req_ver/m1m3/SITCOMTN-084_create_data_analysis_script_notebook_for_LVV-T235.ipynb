{
 "cells": [
  {
   "cell_type": "markdown",
   "id": "2d47a270-59e2-494e-83b5-df83748eaa5c",
   "metadata": {},
   "source": [
    "# [LVV-T235] - M13T-012: Position Repeatability After Parking - SITCOM-810\n",
    "\n",
    "Notebook containing data analysis for the [LVV-T235] test case and adressing the ticket [SITCOM-810]\n",
    "The purpose of the notebook is to fit a line to the final raised position and confirm that the slope is close to 0\n",
    "\n",
    "This notebook is derived from [LVV-T235-analysis.ipynb]\n",
    "\n",
    "The script used to run this test case can be found in [lsst-ts/ts_m1m3supporttesting/M13T012.py].  \n",
    "\n",
    "[LVV-T235]: https://jira.lsstcorp.org/secure/Tests.jspa#/testCase/LVV-T235\n",
    "[lsst-ts/ts_m1m3supporttesting/M13T012.py]: https://github.com/lsst-ts/ts_m1m3supporttesting/blob/develop/M13T012.py\n",
    "[SITCOM-810]: https://jira.lsstcorp.org/browse/SITCOM-810\n",
    "[LVV-T235-analysis.ipynb]: https://github.com/lsst-sitcom/notebooks_vandv/blob/develop/notebooks/tel_and_site/subsys_req_ver/m1m3/LVV-T235-analysis.ipynb\n",
    "\n",
    "## Prepare Notebook"
   ]
  },
  {
   "cell_type": "code",
   "execution_count": null,
   "id": "e72be6d9-23db-40d4-9846-5b250462f0dc",
   "metadata": {
    "tags": []
   },
   "outputs": [],
   "source": [
    "test_case = \"LVV-T235\"\n",
    "test_exec = \"LVV-E985\"\n",
    "\n",
    "#t_start = \"2023-03-07T18:48:20\" \n",
    "#t_end = \"2023-03-07T19:30:00\"\n",
    "\n",
    "t_start = \"2023-05-04T01:11:00\"\n",
    "t_end = \"2023-05-04T02:30:00\"\n",
    "\n",
    "\n",
    "delta_t = 2 # seconds"
   ]
  },
  {
   "cell_type": "code",
   "execution_count": null,
   "id": "13e338cc-d21e-415a-b7ad-bad6d51fd84f",
   "metadata": {
    "tags": []
   },
   "outputs": [],
   "source": [
    "%matplotlib inline\n",
    "%load_ext autoreload\n",
    "%autoreload 2"
   ]
  },
  {
   "cell_type": "code",
   "execution_count": null,
   "id": "61327752-45ee-45a1-89f4-6fc1a71e3882",
   "metadata": {
    "tags": []
   },
   "outputs": [],
   "source": [
    "import itertools as itt\n",
    "import pandas as pd\n",
    "import matplotlib.dates as mdates\n",
    "import matplotlib.pyplot as plt\n",
    "import numpy as np\n",
    "import seaborn as sns\n",
    "\n",
    "from astropy import units as u\n",
    "from astropy.time import Time, TimezoneInfo\n",
    "\n",
    "from lsst.sitcom import vandv\n",
    "from lsst.ts.idl.enums import MTM1M3"
   ]
  },
  {
   "cell_type": "markdown",
   "id": "e4846f00-da3c-4fc3-8939-e86437869bad",
   "metadata": {},
   "source": [
    "## Query Data"
   ]
  },
  {
   "cell_type": "code",
   "execution_count": null,
   "id": "13f53746-71ab-4b5f-80de-5208a612f17a",
   "metadata": {
    "tags": []
   },
   "outputs": [],
   "source": [
    "pos_columns = [\"xPosition\", \"yPosition\"]\n",
    "delta_t = pd.Timedelta(delta_t, \"seconds\")\n",
    "client = vandv.efd.create_efd_client()"
   ]
  },
  {
   "cell_type": "code",
   "execution_count": null,
   "id": "c4bafc07-fef2-4fd1-94e8-431e3dd6cc2b",
   "metadata": {
    "tags": []
   },
   "outputs": [],
   "source": [
    "# Get data from the Independent Measuring System (ims)\n",
    "df_ims = await client.select_time_series(\n",
    "    \"lsst.sal.MTM1M3.imsData\", \n",
    "    \"*\", \n",
    "    Time(t_start, format=\"isot\", scale=\"utc\"),\n",
    "    Time(t_end, format=\"isot\", scale=\"utc\"), \n",
    ")\n",
    "\n",
    "df_ims = df_ims.set_index(\"private_rcvStamp\")\n",
    "df_ims.index = pd.to_datetime(df_ims.index, unit=\"s\")\n",
    "\n",
    "# Get x and y position columns and convert to milimeter\n",
    "df_ims = df_ims[pos_columns] * 1e3"
   ]
  },
  {
   "cell_type": "code",
   "execution_count": null,
   "id": "82f13b1d-d88e-4dea-8300-534894be7075",
   "metadata": {
    "tags": []
   },
   "outputs": [],
   "source": [
    "df_state = await client.select_time_series(\n",
    "    \"lsst.sal.MTM1M3.logevent_detailedState\", \n",
    "    \"*\", \n",
    "    Time(t_start, format=\"isot\", scale=\"utc\"),\n",
    "    Time(t_end, format=\"isot\", scale=\"utc\"), \n",
    ")\n",
    "\n",
    "df_state[\"detailedStateName\"] = \\\n",
    "    df_state[\"detailedState\"].map(lambda x: MTM1M3.DetailedState(x).name)\n",
    "\n",
    "df_state = df_state.set_index(\"private_rcvStamp\")\n",
    "df_state.index = pd.to_datetime(df_state.index, unit=\"s\")"
   ]
  },
  {
   "cell_type": "code",
   "execution_count": null,
   "id": "aa0f4c6a-6deb-418d-9795-71002651dd6b",
   "metadata": {
    "tags": []
   },
   "outputs": [],
   "source": [
    "df_cmdPos = await client.select_time_series(\n",
    "    \"lsst.sal.MTM1M3.command_positionM1M3\", \n",
    "    \"*\", \n",
    "    Time(t_start, format=\"isot\", scale=\"utc\"),\n",
    "    Time(t_end, format=\"isot\", scale=\"utc\"), \n",
    ")\n",
    "\n",
    "df_cmdPos = df_cmdPos.set_index(\"private_rcvStamp\")\n",
    "df_cmdPos.index = pd.to_datetime(df_cmdPos.index, unit=\"s\")\n",
    "df_cmdPos = df_cmdPos[pos_columns]\n",
    "df_cmdPos = df_cmdPos * 1e3 # Convert meter to milimeter to make is easier to analyse"
   ]
  },
  {
   "cell_type": "code",
   "execution_count": null,
   "id": "d8077883-889a-4d8f-99f5-43a623cabe4b",
   "metadata": {
    "tags": []
   },
   "outputs": [],
   "source": [
    "df_HPState = await client.select_time_series(\n",
    "    \"lsst.sal.MTM1M3.logevent_hardpointActuatorState\", \n",
    "    \"*\", \n",
    "    Time(t_start, format=\"isot\", scale=\"utc\"),\n",
    "    Time(t_end, format=\"isot\", scale=\"utc\"), \n",
    ")\n",
    "\n",
    "df_HPState = df_HPState.set_index(\"private_rcvStamp\")\n",
    "df_HPState.index = pd.to_datetime(df_HPState.index, unit=\"s\")"
   ]
  },
  {
   "cell_type": "markdown",
   "id": "235dcbdc-3b14-47aa-bf79-239fcba7cad8",
   "metadata": {},
   "source": [
    "## Initial Data Display "
   ]
  },
  {
   "cell_type": "markdown",
   "id": "a7fb98b7-98c6-4f71-a42f-bb9388923d0e",
   "metadata": {},
   "source": [
    "The plot below shows the whole data collection.  \n",
    "There you can see a loop repeated seven times. "
   ]
  },
  {
   "cell_type": "code",
   "execution_count": null,
   "id": "73bdb99b-f780-4620-b89b-19bcc650c006",
   "metadata": {
    "tags": []
   },
   "outputs": [],
   "source": [
    "plt.rc('xtick', labelsize=10)\n",
    "\n",
    "title = f\"{test_case} {test_exec}\\nData Overview\"\n",
    "fig, axs = plt.subplots(num=title, nrows=2, sharex=True, figsize=(10, 5))\n",
    "\n",
    "when_parked = df_state[df_state[\"detailedStateName\"] == \"PARKED\"].index\n",
    "when_rasing = df_state[df_state[\"detailedStateName\"] == \"RAISINGENGINEERING\"].index\n",
    "when_lowering = df_state[df_state[\"detailedStateName\"] == \"LOWERINGENGINEERING\"].index\n",
    "when_active = df_state[df_state[\"detailedStateName\"] == \"ACTIVEENGINEERING\"].index\n",
    "\n",
    "for i, label in enumerate(pos_columns):\n",
    "    ax = axs[i]\n",
    "    ax.plot(df_ims[label])\n",
    "    \n",
    "    for idx in when_parked:\n",
    "        l1 = ax.axvline(idx, lw=\"0.5\", c=\"k\")\n",
    "        \n",
    "    for idx in when_rasing:\n",
    "        l2 = ax.axvline(idx, lw=\"0.5\", c=\"k\", ls=\"--\")\n",
    "        \n",
    "    for idx in when_lowering:\n",
    "        l3 = ax.axvline(idx, lw=\"0.5\", c=\"k\", ls=\":\")\n",
    "        \n",
    "    for idx in when_active:\n",
    "        l4 = ax.axvline(idx, lw=\"0.5\", c=\"C1\", ls=\"-\")\n",
    "\n",
    "    ax.grid(\":\", lw=0.1)\n",
    "    ax.set_xlabel(\"Time [UTC]\")\n",
    "    ax.set_ylabel(f\"{label} [mm]\")\n",
    "\n",
    "fig.legend(\n",
    "    [l1, l2, l3, l4], \n",
    "    [\"PARKED\", \"RAISINGENGINEERING\", \"LOWERINGENGINEERING\", \"ACTIVEENGINEERING\"], \n",
    "    ncols=4, \n",
    "    loc=\"upper right\", \n",
    "    bbox_to_anchor=(0.93, 0.92)\n",
    ")\n",
    "fig.suptitle(title + \"\\n\")\n",
    "fig.autofmt_xdate()\n",
    "fig.tight_layout() \n",
    "\n",
    "plt.show()"
   ]
  },
  {
   "cell_type": "markdown",
   "id": "5db67480-f4e6-44f1-9854-26c33a872b76",
   "metadata": {},
   "source": [
    "### Find and Subtract Reference Value\n",
    "\n",
    "As you can see, the initial M1M3 position is not zero on both x and y directions.  \n",
    "It will be much easier if we can do the data analysis on data that is centered at zero.  \n",
    "From the plot above, we can get the telemetry close to when the ACTIVEENGINEERING detailed state is as a reference.\n",
    "  \n",
    "The cell bellow shows how we extract the median near the detailed state event associated with ACTIVEENGINEERING."
   ]
  },
  {
   "cell_type": "code",
   "execution_count": null,
   "id": "2f82135b-c4e4-479b-b2cc-2c4180aff519",
   "metadata": {
    "tags": []
   },
   "outputs": [],
   "source": [
    "when_active = df_state[df_state[\"detailedStateName\"] == \"ACTIVEENGINEERING\"].index\n",
    "\n",
    "sub_df = pd.DataFrame(columns=df_ims.columns.to_list())\n",
    "\n",
    "for idx in when_active:\n",
    "    dt = pd.Timedelta(2, \"sec\")\n",
    "    temp = df_ims.loc[idx:idx+dt]\n",
    "    sub_df = pd.concat((sub_df, temp), axis=0)\n",
    "    \n",
    "median_vals = sub_df.median()\n",
    "print(median_vals)"
   ]
  },
  {
   "cell_type": "markdown",
   "id": "0d042f4f-c498-4e68-8443-d843efd83e7b",
   "metadata": {},
   "source": [
    "Now we copy the IMS dataframe and subtract the reference values from all the position columns. "
   ]
  },
  {
   "cell_type": "code",
   "execution_count": null,
   "id": "ca99ac7f-ed42-49f9-a7d0-363817ec49dd",
   "metadata": {
    "tags": []
   },
   "outputs": [],
   "source": [
    "df_results = df_ims.copy() \n",
    "\n",
    "for col in pos_columns:\n",
    "    df_results[col] = df_results[col] - median_vals[col]"
   ]
  },
  {
   "cell_type": "markdown",
   "id": "8e072949-8659-4064-9855-8425103952a1",
   "metadata": {},
   "source": [
    "and plot them..."
   ]
  },
  {
   "cell_type": "code",
   "execution_count": null,
   "id": "bdb96811-607e-44e9-a6ce-13e12c87ddec",
   "metadata": {
    "tags": []
   },
   "outputs": [],
   "source": [
    "title = f\"{test_case} {test_exec}\\nData Overview with Reference Subtracted\"\n",
    "fig, axs = plt.subplots(num=title, nrows=2, sharex=True, figsize=(10, 5))\n",
    "\n",
    "when_parked = df_state[df_state[\"detailedStateName\"] == \"PARKED\"].index\n",
    "\n",
    "for i, label in enumerate([\"xPosition\", \"yPosition\"]):\n",
    "    ax = axs[i]\n",
    "    ax.plot(df_results[label])\n",
    "    \n",
    "    for idx in when_parked:\n",
    "        ax.axvline(idx, lw=\"0.5\", c=\"k\")\n",
    "        \n",
    "    for idx in when_rasing:\n",
    "        ax.axvline(idx, lw=\"0.5\", c=\"k\", ls=\"--\")\n",
    "        \n",
    "    for idx in when_lowering:\n",
    "        ax.axvline(idx, lw=\"0.5\", c=\"k\", ls=\":\")\n",
    "        \n",
    "    for idx in when_active:\n",
    "        ax.axvline(idx, lw=\"0.5\", c=\"C1\", ls=\"-\")\n",
    "        \n",
    "    ax.grid(\":\", lw=0.1)\n",
    "    ax.set_xlabel(\"Time [UTC]\")\n",
    "    ax.set_ylabel(f\"{label} [mm]\")\n",
    "    \n",
    "fig.legend(\n",
    "    [l1, l2, l3, l4], \n",
    "    [\"PARKED\", \"RAISINGENGINEERING\", \"LOWERINGENGINEERING\", \"ACTIVEENGINEERING\"], \n",
    "    ncols=4, \n",
    "    loc=\"upper right\", \n",
    "    bbox_to_anchor=(0.93, 0.92)\n",
    ")\n",
    "    \n",
    "fig.suptitle(title + \"\\n\")\n",
    "fig.autofmt_xdate()\n",
    "fig.tight_layout()\n",
    "\n",
    "plt.show()"
   ]
  },
  {
   "cell_type": "markdown",
   "id": "ab700aaa-b696-4630-9b31-6fe4141e58aa",
   "metadata": {},
   "source": [
    "### Zoom Single Loop\n",
    "\n",
    "The plots above show the whole data acquisition process.  \n",
    "They show a loop of seven iterations through the different positions.  \n",
    "The plot below shows a zoom in the first interation that starts in the first PARK state event and finished in the second PARK state event. \n",
    "It also shows the commanded positions "
   ]
  },
  {
   "cell_type": "code",
   "execution_count": null,
   "id": "eb13ee0a-6d90-429b-a856-367ef360bbd6",
   "metadata": {
    "tags": []
   },
   "outputs": [],
   "source": [
    "title = f\"{test_case} {test_exec}\\nZoom Single Loop\"\n",
    "fig, axs = plt.subplots(num=title, nrows=2, sharex=True, figsize=(10, 5))\n",
    "\n",
    "when_parked = df_state[df_state[\"detailedStateName\"] == \"PARKED\"].index\n",
    "axes = [\"x\", \"y\"]\n",
    "colors = [\"g\", \"b\"]\n",
    "\n",
    "for i, label in enumerate([\"xPosition\", \"yPosition\"]):\n",
    "    ax = axs[i]\n",
    "    sub_df_results = df_results[when_parked[0]:when_parked[1]]\n",
    "    sub_df_cmdPos = df_cmdPos[when_parked[0]:when_parked[1]]\n",
    "    \n",
    "    l1, = ax.plot(sub_df_results[label])\n",
    "    \n",
    "    sub_sub_df_cmdPos = sub_df_cmdPos[sub_df_cmdPos[label] != 0]\n",
    "\n",
    "    for idx in sub_sub_df_cmdPos.index:\n",
    "                \n",
    "        sub_df_HPState = df_HPState[idx:]        \n",
    "        mask = (sub_df_HPState[[f\"motionState{j}\" for j in range(1, 6)]] == 0).all(axis=1) \n",
    "        idx_hp = sub_df_HPState[mask].index[0]\n",
    "\n",
    "        l3 = ax.axvline(idx_hp, c=\"k\", ls=\":\")\n",
    "        l2 = ax.axvline(idx, c=\"k\", ls=\"-\")\n",
    "\n",
    "    ax.grid(\":\", lw=0.2)\n",
    "    ax.set_xlabel(\"Time [UTC]\")\n",
    "    ax.set_xlim(sub_df_results.index[0], sub_df_results.index[-1])\n",
    "    ax.set_ylabel(f\"{label} [mm]\")\n",
    "\n",
    "leg = fig.legend(\n",
    "    [l1, l2, l3], \n",
    "    [\"Position\", \"Commanded Position\", \"Hard-Points in StandBy\"], \n",
    "    ncols=3,\n",
    "    loc=\"upper right\",\n",
    "    bbox_to_anchor=(0.80, 0.91)\n",
    ")\n",
    "leg.get_frame().set_linewidth(0.0)\n",
    "\n",
    "fig.suptitle(title + \"\\n\")\n",
    "fig.autofmt_xdate()\n",
    "fig.tight_layout()\n",
    "\n",
    "plt.show()"
   ]
  },
  {
   "cell_type": "markdown",
   "id": "9e0e325d-d520-4d38-9dec-633465d1b67b",
   "metadata": {},
   "source": [
    "## Super Zoom in each commanded position\n",
    "\n",
    "Here we do a preliminary analysis on each of the commanded X/Y position.  \n",
    "We are interested by the data corresponding to the flat part of the curve after the Commanded Position and \n",
    "up to the Hard Point in StandBy"
   ]
  },
  {
   "cell_type": "code",
   "execution_count": null,
   "id": "c21b469d-f3ef-47cb-a120-14dc14f73350",
   "metadata": {
    "tags": []
   },
   "outputs": [],
   "source": [
    "# Select timestamps corresponding to the ACTIVEENGINEERING states\n",
    "sub_df_state_AE = df_state[df_state[\"detailedStateName\"] == \"ACTIVEENGINEERING\"]\n",
    "index_AE = sub_df_state_AE.index\n",
    "\n",
    "# Select timestamps corresponding to the LOWERENGINEERING states\n",
    "sub_df_state_LOW = df_state[df_state[\"detailedStateName\"] == \"LOWERINGENGINEERING\"]\n",
    "index_LOW = sub_df_state_LOW.index\n",
    "\n",
    "sub_df_cmdPos = df_cmdPos[index_AE[0]:index_LOW[0]]"
   ]
  },
  {
   "cell_type": "code",
   "execution_count": null,
   "id": "c7b166ae-d64e-4396-98ef-94cbe26c7368",
   "metadata": {
    "tags": []
   },
   "outputs": [],
   "source": [
    "sub_df_cmdPos"
   ]
  },
  {
   "cell_type": "code",
   "execution_count": null,
   "id": "6d4d6396-0a9c-429d-a7d6-3e94b25404dd",
   "metadata": {
    "tags": []
   },
   "outputs": [],
   "source": [
    "# Between successive ACTIVEENGINEERING and LOWERINGENGINEERING states we select timestamps where a command has been issued\n",
    "# on the selected axis (\"xPosition\" in this case)\n",
    "sub_sub_df_cmdPos = sub_df_cmdPos[sub_df_cmdPos[\"xPosition\"] != 0]\n",
    "index_cmdPos = sub_sub_df_cmdPos.index\n",
    "\n",
    "# We then get the measured positions on the selected axis between the timestamps between the time when the command is\n",
    "# issued and the next LOWERINGENGINEERING state\n",
    "sub_df_results = df_results[\"xPosition\"][index_cmdPos[0]:index_LOW[0]]\n",
    "\n",
    "# Plot the measured position for these timestamps\n",
    "title = f\"{test_case} {test_exec}\\nSuperZoom on a Single Loop\"\n",
    "fig, axs = plt.subplots(num=title, ncols=2, figsize=(10, 5))\n",
    "\n",
    "axs[0].plot(sub_df_results)\n",
    "axs[0].set_xlabel(\"Time [UTC]\")\n",
    "axs[0].set_ylabel(\"xPosition [mm]\")\n",
    "axs[0].set_title(\"Selected data cycle\")\n",
    "\n",
    "# We are now going to restrict the dataset to the region of interest\n",
    "# We now get the Hard Point states in the same time period\n",
    "sub_df_HPState = df_HPState[index_cmdPos[0]:index_LOW[0]]\n",
    "\n",
    "# Select timestamps where all 6 Hard Points are in standby (motionState == 0) \n",
    "mask = (sub_df_HPState[[f\"motionState{j}\" for j in range(1, 6)]] == 0).all(axis=1) \n",
    "index_HP = sub_df_HPState[mask].index\n",
    "\n",
    "axs[1].plot(sub_df_results[index_cmdPos[0]:index_HP[0]])\n",
    "axs[1].set_xlabel(\"Time [UTC]\")\n",
    "axs[1].set_ylabel(\"xPosition [mm]\")\n",
    "axs[1].set_title(\"Final data selection\")\n",
    "\n",
    "fig.suptitle(title + \"\\n\")\n",
    "fig.autofmt_xdate()\n",
    "fig.tight_layout()"
   ]
  },
  {
   "cell_type": "code",
   "execution_count": null,
   "id": "0f361997-acfe-4e27-ad4a-591f2b32198f",
   "metadata": {
    "tags": []
   },
   "outputs": [],
   "source": [
    "# we are now selecting the data corresponding to the last second before the Hard Point is in a standby state\n",
    "delta_t1 = pd.Timedelta(1, \"seconds\")\n",
    "flat_position = sub_df_results[index_HP[0]-delta_t1:index_HP[0]]\n",
    "\n",
    "# Fit a straight line through these data points\n",
    "# if we have reached a stable position the slope (s0) should be close to 0\n",
    "index_time = flat_position.index.to_numpy()\n",
    "\n",
    "# The time is converted to miliseconds since the first ACTIVEENGINEERING state\n",
    "time = (index_time - np.datetime64(index_AE[0])) / np.timedelta64(1, 'ms')\n",
    "s0,s1 = np.polyfit(time, np.array(flat_position), 1)\n",
    "print(f\"Slope before reaching Hard Point in Standby state: {s0*1000} mm/s\")"
   ]
  },
  {
   "cell_type": "markdown",
   "id": "e264d725-04cf-4ed1-b92c-6b6b526407f3",
   "metadata": {},
   "source": [
    "## Do the slope measurement on both axis (x and y) and on the whole dataset (multiple cycles)\n",
    "\n",
    "The summary of the results is printed"
   ]
  },
  {
   "cell_type": "code",
   "execution_count": null,
   "id": "3a6eef87-b224-4f23-82b0-57fb6245a616",
   "metadata": {
    "tags": []
   },
   "outputs": [],
   "source": [
    "delta_t1 = pd.Timedelta(1, \"seconds\")\n",
    "\n",
    "sub_df_state_AE = df_state[df_state[\"detailedStateName\"] == \"ACTIVEENGINEERING\"]\n",
    "index_AE = sub_df_state_AE.index\n",
    "sub_df_state_LOW = df_state[df_state[\"detailedStateName\"] == \"LOWERINGENGINEERING\"]\n",
    "index_LOW = sub_df_state_LOW.index\n",
    "\n",
    "# We store results in a dataframe in order to plot them later\n",
    "results = pd.DataFrame(columns=[\"cycle\", \"axis\", \"cmd_pos\", \"meas_pos\", \"time\", \"slope\"])\n",
    "\n",
    "for i_AE in range(index_AE.size):\n",
    "    print(f\"Cycle number: {i_AE}\")\n",
    "    sub_df_cmdPos = df_cmdPos[index_AE[i_AE]:index_LOW[i_AE]]\n",
    "    \n",
    "    for i_pos, label in enumerate([\"xPosition\", \"yPosition\"]):\n",
    "        sub_sub_df_cmdPos = sub_df_cmdPos[sub_df_cmdPos[label] != 0]\n",
    "        index_cmdPos = sub_sub_df_cmdPos.index\n",
    "        for i_pos, timestamp in enumerate(index_cmdPos):\n",
    "            sub_df_results = df_results[label][timestamp:index_LOW[i_AE]]\n",
    "            sub_df_HPState = df_HPState[timestamp:index_LOW[i_AE]]\n",
    "            mask = (sub_df_HPState[[f\"motionState{j}\" for j in range(1, 6)]] == 0).all(axis=1)\n",
    "            index_HP = sub_df_HPState[mask].index[0]\n",
    "            sel_data = sub_df_results[index_HP-delta_t1:index_HP]\n",
    "            time = sel_data.index.to_numpy()\n",
    "            ts = (time - np.datetime64(index_AE[i_AE])) / np.timedelta64(1, 'ms')\n",
    "            s0,s1 = np.polyfit(ts, np.array(sel_data), 1)\n",
    "            print(f\"{time[0]} - axis: {label} - target posision: {sub_sub_df_cmdPos[timestamp:timestamp][label][0]} - slope: {s0*1000} mm/s\")\n",
    "            \n",
    "            # Store results in dataframe\n",
    "            row = pd.DataFrame({\"cycle\":i_AE, \"axis\":label, \"cmd_pos\":sub_sub_df_cmdPos[label][i_pos], \n",
    "                                \"meas_pos\":[np.array(sel_data)], \"time\": [time], \"slope\":s0})\n",
    "            results = pd.concat([results, row])\n",
    "\n",
    "# Populate index\n",
    "results.index = range(len(results))"
   ]
  },
  {
   "cell_type": "markdown",
   "id": "344cfdfc-8c72-4c1d-8299-ee79ed5e216d",
   "metadata": {},
   "source": [
    "## Summarize results in a set of plots"
   ]
  },
  {
   "cell_type": "code",
   "execution_count": null,
   "id": "1bd5de34-b8b8-473e-a1aa-129bec6483f1",
   "metadata": {
    "tags": []
   },
   "outputs": [],
   "source": [
    "import matplotlib.dates as mdates\n",
    "\n",
    "locator = mdates.AutoDateLocator(minticks=3, maxticks=3)\n",
    "formatter = mdates.ConciseDateFormatter(locator)\n",
    "n_cycles = len(set(results.cycle))\n",
    "\n",
    "plt.rc('xtick', labelsize=6) \n",
    "\n",
    "title = f\"{test_case} {test_exec}\\nPosition stability before reaching stanby state \"\n",
    "fig, axs = plt.subplots(num=title, nrows=n_cycles, ncols=4, figsize=(10, 3*n_cycles))\n",
    "\n",
    "for i_cycle in range(n_cycles):\n",
    "    for i_pos in range(len(results[results.cycle==i_cycle])):\n",
    "        axis = np.array(results[results.cycle==i_cycle][\"axis\"])[i_pos]\n",
    "        cmd = np.array(results[results.cycle==i_cycle][\"cmd_pos\"])[i_pos]\n",
    "        meas = np.array(results[results.cycle==i_cycle][\"meas_pos\"])[i_pos]\n",
    "        time = np.array(results[results.cycle==i_cycle][\"time\"])[i_pos]\n",
    "        slope = np.array(results[results.cycle==i_cycle][\"slope\"])[i_pos]\n",
    "        axs[i_cycle, i_pos].plot(time, meas)\n",
    "        axs[i_cycle, i_pos].set_ylim([cmd-0.1, cmd+0.1])\n",
    "        #axs[i_cycle, i_pos].xaxis.set_major_locator(locator)\n",
    "        axs[i_cycle, i_pos].xaxis.set_major_formatter(formatter)\n",
    "        axs[i_cycle, i_pos].set_ylabel(f\"{axis} (mm)\")\n",
    "        axs[i_cycle, i_pos].set_title(\"slope: %.2e mm/s\" %slope, fontsize=10)\n",
    "\n",
    "        \n",
    "fig.suptitle(title + \"\\n\")\n",
    "#fig.autofmt_xdate()\n",
    "fig.tight_layout()\n",
    "plt.subplots_adjust(top=0.96)\n",
    "\n",
    "plt.show()"
   ]
  },
  {
   "cell_type": "markdown",
   "id": "4b325d83-dddb-4bba-a958-4c08781a73cb",
   "metadata": {},
   "source": [
    "## Print some statistics"
   ]
  },
  {
   "cell_type": "code",
   "execution_count": null,
   "id": "644da878-4096-4d15-9d42-22e278ebea84",
   "metadata": {
    "tags": []
   },
   "outputs": [],
   "source": [
    "max_slope = max(abs(results.slope))\n",
    "min_slope = min(abs(results.slope))\n",
    "avg_slope = np.mean(abs(results.slope))\n",
    "\n",
    "max_slope_pos = max(abs(results[results.cmd_pos>0].slope))\n",
    "min_slope_pos = min(abs(results[results.cmd_pos>0].slope))\n",
    "avg_slope_pos = np.mean(abs(results[results.cmd_pos>0].slope))\n",
    "\n",
    "max_slope_neg = max(abs(results[results.cmd_pos<0].slope))\n",
    "min_slope_neg = min(abs(results[results.cmd_pos<0].slope))\n",
    "avg_slope_neg = np.mean(abs(results[results.cmd_pos<0].slope))\n",
    "\n",
    "max_slope_x = max(abs(results[results.axis==\"xPosition\"].slope))\n",
    "min_slope_x = min(abs(results[results.axis==\"xPosition\"].slope))\n",
    "avg_slope_x = np.mean(abs(results[results.axis==\"xPosition\"].slope))\n",
    "\n",
    "max_slope_pos_x = max(abs(results[(results.cmd_pos>0) & (results.axis==\"xPosition\")].slope))\n",
    "min_slope_pos_x = min(abs(results[(results.cmd_pos>0) & (results.axis==\"xPosition\")].slope))\n",
    "avg_slope_pos_x = np.mean(abs(results[(results.cmd_pos>0) & (results.axis==\"xPosition\")].slope))\n",
    "\n",
    "max_slope_neg_x = max(abs(results[(results.cmd_pos<0) & (results.axis==\"xPosition\")].slope))\n",
    "min_slope_neg_x = min(abs(results[(results.cmd_pos<0) & (results.axis==\"xPosition\")].slope))\n",
    "avg_slope_neg_x = np.mean(abs(results[(results.cmd_pos<0) & (results.axis==\"xPosition\")].slope))\n",
    "\n",
    "max_slope_y = max(abs(results[results.axis==\"yPosition\"].slope))\n",
    "min_slope_y = min(abs(results[results.axis==\"yPosition\"].slope))\n",
    "avg_slope_y = np.mean(abs(results[results.axis==\"yPosition\"].slope))\n",
    "\n",
    "max_slope_pos_y = max(abs(results[(results.cmd_pos>0) & (results.axis==\"yPosition\")].slope))\n",
    "min_slope_pos_y = min(abs(results[(results.cmd_pos>0) & (results.axis==\"yPosition\")].slope))\n",
    "avg_slope_pos_y = np.mean(abs(results[(results.cmd_pos>0) & (results.axis==\"yPosition\")].slope))\n",
    "\n",
    "max_slope_neg_y = max(abs(results[(results.cmd_pos<0) & (results.axis==\"yPosition\")].slope))\n",
    "min_slope_neg_y = min(abs(results[(results.cmd_pos<0) & (results.axis==\"yPosition\")].slope))\n",
    "avg_slope_neg_y = np.mean(abs(results[(results.cmd_pos<0) & (results.axis==\"yPosition\")].slope))\n",
    "\n",
    "stats = [[max_slope, max_slope_pos, max_slope_neg, max_slope_x, max_slope_pos_x, max_slope_neg_x, max_slope_y, max_slope_pos_y, max_slope_neg_y], \n",
    "    [min_slope, min_slope_pos, min_slope_neg, min_slope_x, min_slope_pos_x, min_slope_neg_x, min_slope_y, min_slope_pos_y, min_slope_neg_y],\n",
    "    [avg_slope, avg_slope_pos, avg_slope_neg, avg_slope_x, avg_slope_pos_x, avg_slope_neg_x, avg_slope_y, avg_slope_pos_y, avg_slope_neg_y]]"
   ]
  },
  {
   "cell_type": "code",
   "execution_count": null,
   "id": "e64e645b-c87b-4d50-975a-34215addc12d",
   "metadata": {
    "tags": []
   },
   "outputs": [],
   "source": [
    "# Print results in an html table\n",
    "\n",
    "from IPython.display import HTML, display\n",
    "\n",
    "def display_table(data):\n",
    "    html = \"<table>\"\n",
    "    html += \"<caption><h2>Statistics on slopes in mm/s</h2></caption>\"\n",
    "    html += \"<th></th><th>All</th> <th>Up</th> <th>Down</th> <th>All X</th> <th>Up X</th> <th>Down X</th> <th>All Y</th> <th>Up Y</th> <th>Down Y</th>\"\n",
    "    title = [\"Max\", \"Min\", \"Average\"]\n",
    "    for row in data:\n",
    "        html += \"<tr>\"\n",
    "        html += f\"<td><h3>{title.pop(0)}</h3></td>\"\n",
    "        for field in row:\n",
    "            html += \"<td><h4>%.1e</h4></td>\"%(field)\n",
    "        html += \"</tr>\"\n",
    "    html += \"</table>\"\n",
    "    display(HTML(html))\n",
    "\n",
    "display_table(stats)"
   ]
  },
  {
   "cell_type": "code",
   "execution_count": null,
   "id": "8914b376-3fa6-490b-b78a-fbf3866e105b",
   "metadata": {},
   "outputs": [],
   "source": []
  }
 ],
 "metadata": {
  "kernelspec": {
   "display_name": "LSST",
   "language": "python",
   "name": "lsst"
  },
  "language_info": {
   "codemirror_mode": {
    "name": "ipython",
    "version": 3
   },
   "file_extension": ".py",
   "mimetype": "text/x-python",
   "name": "python",
   "nbconvert_exporter": "python",
   "pygments_lexer": "ipython3",
   "version": "3.10.9"
  }
 },
 "nbformat": 4,
 "nbformat_minor": 5
}
