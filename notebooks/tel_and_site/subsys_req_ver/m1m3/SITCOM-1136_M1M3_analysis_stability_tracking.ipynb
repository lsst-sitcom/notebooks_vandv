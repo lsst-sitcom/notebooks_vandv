{
 "cells": [
  {
   "cell_type": "markdown",
   "id": "4f9debea-aa94-4f87-8d9b-0c74c3d648dd",
   "metadata": {
    "editable": true,
    "slideshow": {
     "slide_type": ""
    },
    "tags": []
   },
   "source": [
    "# SITCOM-1136 - M1M3 - analyze position and rotation stability throughout a tracking period\n",
    "\n",
    "2023-12-14 Laura"
   ]
  },
  {
   "cell_type": "markdown",
   "id": "85c3752d-e637-4cd9-bc10-01e40621baf5",
   "metadata": {},
   "source": [
    "## Overview"
   ]
  },
  {
   "cell_type": "markdown",
   "id": "14359467-6e2f-4874-9277-1031dee8d490",
   "metadata": {},
   "source": [
    "This notebook evaluates displacements of M1M3 for X, Y, Z, RX, RY, and RZ during the period between slews while tracking (approximately 30 s) and check if they comply with the 2 micron and 2e-5 degree requirement.\n",
    "\n"
   ]
  },
  {
   "cell_type": "code",
   "execution_count": 1,
   "id": "2dbd7a63-897f-4093-b397-3e1c6b145e56",
   "metadata": {
    "execution": {
     "iopub.execute_input": "2024-02-09T09:01:35.767300Z",
     "iopub.status.busy": "2024-02-09T09:01:35.766753Z",
     "iopub.status.idle": "2024-02-09T09:01:36.015549Z",
     "shell.execute_reply": "2024-02-09T09:01:36.015073Z",
     "shell.execute_reply.started": "2024-02-09T09:01:35.767280Z"
    }
   },
   "outputs": [],
   "source": [
    "%matplotlib inline\n",
    "%load_ext autoreload\n",
    "%autoreload 2"
   ]
  },
  {
   "cell_type": "code",
   "execution_count": 2,
   "id": "8c1640f9-f391-495f-8267-788011435bc5",
   "metadata": {
    "execution": {
     "iopub.execute_input": "2024-02-09T09:01:37.832834Z",
     "iopub.status.busy": "2024-02-09T09:01:37.832282Z",
     "iopub.status.idle": "2024-02-09T09:01:44.718097Z",
     "shell.execute_reply": "2024-02-09T09:01:44.717646Z",
     "shell.execute_reply.started": "2024-02-09T09:01:37.832817Z"
    }
   },
   "outputs": [],
   "source": [
    "import pandas as pd\n",
    "import matplotlib.pyplot as plt\n",
    "import numpy as np\n",
    "import seaborn as sns\n",
    "\n",
    "from astropy.time import Time, TimezoneInfo\n",
    "from statsmodels.tsa.stattools import adfuller\n",
    "\n",
    "from lsst.summit.utils.tmaUtils import TMAEventMaker, TMAState\n",
    "from lsst.summit.utils.efdUtils import getEfdData, makeEfdClient\n",
    "\n",
    "from datetime import timedelta, datetime\n",
    "import warnings\n",
    "warnings.filterwarnings('ignore')\n",
    "\n",
    "from scipy import stats "
   ]
  },
  {
   "cell_type": "code",
   "execution_count": 3,
   "id": "8e5f2a7a-0924-41ce-863e-1ae9885144f8",
   "metadata": {
    "execution": {
     "iopub.execute_input": "2024-02-09T09:01:44.764598Z",
     "iopub.status.busy": "2024-02-09T09:01:44.764473Z",
     "iopub.status.idle": "2024-02-09T09:01:45.206284Z",
     "shell.execute_reply": "2024-02-09T09:01:45.205901Z",
     "shell.execute_reply.started": "2024-02-09T09:01:44.764587Z"
    }
   },
   "outputs": [],
   "source": [
    "# create a client to retrieve datasets in the EFD database\n",
    "client = makeEfdClient()"
   ]
  },
  {
   "cell_type": "markdown",
   "id": "3a36e392-2395-4980-9018-029f08a4b83f",
   "metadata": {
    "execution": {
     "iopub.execute_input": "2023-12-14T17:20:47.856706Z",
     "iopub.status.busy": "2023-12-14T17:20:47.856507Z",
     "iopub.status.idle": "2023-12-14T17:20:47.902144Z",
     "shell.execute_reply": "2023-12-14T17:20:47.901630Z",
     "shell.execute_reply.started": "2023-12-14T17:20:47.856691Z"
    }
   },
   "source": [
    "### Define relevant settings"
   ]
  },
  {
   "cell_type": "markdown",
   "id": "1c266157-70b8-4a8e-921c-9ca92c88520a",
   "metadata": {},
   "source": [
    "#### Requirements"
   ]
  },
  {
   "cell_type": "code",
   "execution_count": 4,
   "id": "b37c795f-8705-4dd1-9b5a-06084872d61a",
   "metadata": {
    "execution": {
     "iopub.execute_input": "2024-02-09T09:01:45.207261Z",
     "iopub.status.busy": "2024-02-09T09:01:45.207131Z",
     "iopub.status.idle": "2024-02-09T09:01:45.247522Z",
     "shell.execute_reply": "2024-02-09T09:01:45.247124Z",
     "shell.execute_reply.started": "2024-02-09T09:01:45.207249Z"
    }
   },
   "outputs": [],
   "source": [
    "req_rms_position = 2e-3 ## mm, tolerance from repeatability requirement for IMS positional\n",
    "req_rms_rotation = 2e-5 ## degrees, tolerance from repeatability requirement for IMS rotational"
   ]
  },
  {
   "cell_type": "markdown",
   "id": "14c09626-6275-45f7-9c7b-eb5a8ba5faaf",
   "metadata": {},
   "source": [
    "### Define helper fuctions"
   ]
  },
  {
   "cell_type": "code",
   "execution_count": 5,
   "id": "c188df94-28fe-43b9-8841-9f622ac0f7a2",
   "metadata": {
    "execution": {
     "iopub.execute_input": "2024-02-09T09:01:45.248141Z",
     "iopub.status.busy": "2024-02-09T09:01:45.248016Z",
     "iopub.status.idle": "2024-02-09T09:01:45.526919Z",
     "shell.execute_reply": "2024-02-09T09:01:45.526498Z",
     "shell.execute_reply.started": "2024-02-09T09:01:45.248129Z"
    }
   },
   "outputs": [],
   "source": [
    "def computeSettleTrack(\n",
    "    df_ims,  # input data frame\n",
    "    tt_start=\"2023-06-01T06:00:0Z\",  # time for slew start\n",
    "    tt_end = \"2023-06-01T06:00:0Z\",  # time for track stop\n",
    "    imsColumn=\"xPosition\",  # IMS column\n",
    "    rmsReq=2e-3,  # requirement in appropriate units\n",
    "    delta_t=5,\n",
    "    seqNum=000\n",
    "):\n",
    "    if \"Position\" in imsColumn:\n",
    "        units = \"mm\"\n",
    "        ylimMax = rmsReq + 0.005\n",
    "    elif \"Rotation\" in imsColumn:\n",
    "        units = \"deg\"\n",
    "        ylimMax = rmsReq + 0.00005\n",
    "    else:\n",
    "        print(\"Unidentified column\")\n",
    "        return -1\n",
    " \n",
    "    # Define Times\n",
    "    T0 = pd.to_datetime(tt_start) - pd.to_timedelta(delta_t, unit=\"s\")\n",
    "    T1 = pd.to_datetime(tt_end) + pd.to_timedelta(delta_t, unit=\"s\")\n",
    "    t_track_starts = pd.to_datetime(tt_start)\n",
    "    t_track_ends = pd.to_datetime(tt_end)\n",
    "    # We removed 0.1s from the tracking (to eliminate the moment when the telescope starts moving) in order to calculate de RMS in the start and end of the tracking.\n",
    "    # The RMS is calculated with values close to a specific time of the tracking, in this way we avoid taking velues from the slew\n",
    "    t_track_starts_check = pd.to_datetime(tt_start) + pd.to_timedelta(0.1, unit=\"s\")\n",
    "    t_track_ends_check = pd.to_datetime(tt_end) - pd.to_timedelta(0.1, unit=\"s\")\n",
    "\n",
    "    # Define Target\n",
    "    # targetVariablePlot takes the data frame for the complete plot range\n",
    "    targetVariablePlot = df_ims[imsColumn][T0 : T1]\n",
    "    \n",
    "    # Define index\n",
    "    idxT0 = df_ims.index[  # index in dataframe closest in time to start of plot\n",
    "        df_ims.index.get_indexer([pd.to_datetime(t_track_starts)+ pd.to_timedelta(10, unit=\"s\")], method=\"nearest\")\n",
    "    ]\n",
    "    idxT1 = df_ims.index[  # index in dataframe closest in time to + pd.to_timedelta(delta_t, unit=\"s\")end of plot\n",
    "            df_ims.index.get_indexer([pd.to_datetime(t_track_ends)- pd.to_timedelta(10, unit=\"s\")], method=\"nearest\")\n",
    "    ] \n",
    "\n",
    "    targetVariableReference = [\n",
    "        float(df_ims[imsColumn][idxT0]),\n",
    "        float(df_ims[imsColumn][idxT1]),\n",
    "    ]\n",
    "    if len(targetVariablePlot.index) == 0:\n",
    "        print(\"Data frame is empty\")\n",
    "        return -1\n",
    "    \n",
    "    correctedVariablePlot = targetVariablePlot - targetVariableReference[1]\n",
    "\n",
    "    # Tracking time\n",
    "    tts_unix = Time(t_track_starts).unix\n",
    "    tte_unix = Time(t_track_ends).unix\n",
    "    seconds = tte_unix - tts_unix\n",
    "    seconds_decimal = round(seconds,2)\n",
    "\n",
    "    # Check stability\n",
    "    filtered_correctedVariablePlot = correctedVariablePlot.loc[t_track_starts_check:t_track_ends_check]\n",
    "    \n",
    "    # rms\n",
    "    rolling = 10  # 50 is approx. 1 s\n",
    "    rms = filtered_correctedVariablePlot.rolling(rolling).std()\n",
    "    \n",
    "    # Plot\n",
    "    title = f\"Tracking time: {seconds_decimal} seconds. SeqNum:\" '{:.2f}'.format(seqNum)\n",
    "    fig = plt.figure()\n",
    "    label = \"Corrected \" + imsColumn + \"(\" + units + \") difference wrt end of plot\"\n",
    "    plt.title(title)    \n",
    "    \n",
    "    plt.plot(\n",
    "            correctedVariablePlot,\n",
    "            color=\"red\",\n",
    "            ls=\"dashed\",\n",
    "            lw=\"0.5\",\n",
    "            label=label,\n",
    "    )\n",
    "\n",
    "    plt.plot(rms, lw=1.2, c='blue', label=\"RMS\") \n",
    "        \n",
    "    plt.axhline(-rmsReq, lw=\"0.75\", c=\"k\", ls=\"dashed\", label=f\"IMS repeatability req.\")\n",
    "    plt.axhline(rmsReq, lw=\"0.75\", c=\"k\", ls=\"dashed\")\n",
    "    plt.axvline(x=t_track_starts, color='black', linestyle='dashed', linewidth=1.2, label='Start of Tracking')\n",
    "    plt.axvline(x=t_track_ends, color='black', linestyle='dashed', linewidth=1.2, label='End of Tracking')\n",
    "    plt.axvspan(t_track_starts, t_track_starts + pd.to_timedelta(3, unit=\"s\"), color='lightblue', alpha=0.5, label='settling time? 3s')\n",
    "\n",
    "    division = seconds / 5.\n",
    "    plt.xticks([t_track_starts, t_track_starts + pd.to_timedelta(division, unit=\"s\") ,\n",
    "                t_track_starts + pd.to_timedelta(2*division, unit=\"s\"),\n",
    "                t_track_starts + pd.to_timedelta(3*division, unit=\"s\"),\n",
    "                t_track_starts + pd.to_timedelta(4*division, unit=\"s\"),\n",
    "                t_track_ends], \n",
    "               [0, round(division,2), round(2*division,2), round(3*division,2) , round(4*division,2),round((tte_unix - tts_unix), 2)])\n",
    "\n",
    "\n",
    "    \n",
    "    plt.xlabel(\"Time [UTC]\")\n",
    "    plt.ylabel(f\"{imsColumn} {units}\")\n",
    "    plt.ylim(-ylimMax, ylimMax)\n",
    "    fig.autofmt_xdate()\n",
    "    plt.legend(loc=\"upper right\", fontsize=\"8\")\n",
    "    fig.tight_layout()\n"
   ]
  },
  {
   "cell_type": "code",
   "execution_count": null,
   "id": "2c892fe3-b2f5-422d-ab5c-60cd85237048",
   "metadata": {},
   "outputs": [],
   "source": [
    "def detectUnstableEvents(\n",
    "    df_ims,  # input data frame\n",
    "    tt_start=\"2023-06-01T06:00:0Z\",  # time for slew start\n",
    "    tt_end = \"2023-06-01T06:00:0Z\",  # time for track stop\n",
    "    imsColumn=\"xPosition\",  # IMS column\n",
    "    rmsReq=2e-3,  # requirement in appropriate units\n",
    "    delta_t=5\n",
    "):\n",
    "    if \"Position\" in imsColumn:\n",
    "        units = \"mm\"\n",
    "        ylimMax = rmsReq + 0.005\n",
    "    elif \"Rotation\" in imsColumn:\n",
    "        units = \"deg\"\n",
    "        ylimMax = rmsReq + 0.00005\n",
    "    else:\n",
    "        print(\"Unidentified column\")\n",
    "        return -1\n",
    " \n",
    "    # Define Times\n",
    "    T0 = pd.to_datetime(tt_start) - pd.to_timedelta(delta_t, unit=\"s\")\n",
    "    T1 = pd.to_datetime(tt_end) + pd.to_timedelta(delta_t, unit=\"s\")\n",
    "    t_track_starts = pd.to_datetime(tt_start)\n",
    "    t_track_ends = pd.to_datetime(tt_end)\n",
    "    # We removed 0.1s from the tracking check to eliminate the moment when the telescope starts moving.\n",
    "    t_track_starts_check = pd.to_datetime(tt_start) + pd.to_timedelta(0.1, unit=\"s\")\n",
    "    t_track_ends_check = pd.to_datetime(tt_end) - pd.to_timedelta(0.3, unit=\"s\")\n",
    "\n",
    "\n",
    "    \n",
    "    # Define Target\n",
    "    targetVariablePlot = df_ims[imsColumn][T0 : T1]\n",
    "    \n",
    "    # Define index\n",
    "    idxT0 = df_ims.index[  # index in dataframe closest in time to start of plot\n",
    "        df_ims.index.get_indexer([pd.to_datetime(t_track_starts)+ pd.to_timedelta(10, unit=\"s\")], method=\"nearest\")\n",
    "    ]\n",
    "    idxT1 = df_ims.index[  # index in dataframe closest in time to + pd.to_timedelta(delta_t, unit=\"s\")end of plot\n",
    "            df_ims.index.get_indexer([pd.to_datetime(t_track_ends)- pd.to_timedelta(10, unit=\"s\")], method=\"nearest\")\n",
    "    ] \n",
    "\n",
    "    targetVariableReference = [\n",
    "        float(df_ims[imsColumn][idxT0]),\n",
    "        float(df_ims[imsColumn][idxT1]),\n",
    "    ]\n",
    "    if len(targetVariablePlot.index) == 0:\n",
    "        print(\"Data frame is empty\")\n",
    "        return -1\n",
    "    \n",
    "    correctedVariablePlot = targetVariablePlot - targetVariableReference[1]\n",
    "\n",
    "    tts_unix = Time(t_track_starts).unix\n",
    "    tte_unix =  Time(t_track_ends).unix\n",
    "    time = tte_unix - tts_unix\n",
    "\n",
    "    \n",
    "    if time < 2:\n",
    "        #print(\"Warning: tracking duration less than 2 seconds\")\n",
    "        return -1\n",
    "        \n",
    "    # Check stability\n",
    "    filtered_correctedVariablePlot = correctedVariablePlot.loc[t_track_starts_check:t_track_ends_check]\n",
    "    \n",
    "    # rms\n",
    "    rolling = 10  # 50 is approx. 1 s\n",
    "    rms = filtered_correctedVariablePlot.rolling(rolling).std()\n",
    "    \n",
    "    for valor in rms:\n",
    "      if valor > rmsReq:\n",
    "        #print(\"Warning! Telescope movement during tracking exceeds the required rms limits\")\n",
    "        return -2\n",
    "        break  \n",
    "     \n",
    "    return +1"
   ]
  },
  {
   "cell_type": "markdown",
   "id": "4fff67a7-99b9-4964-8823-77a01672052d",
   "metadata": {},
   "source": [
    "### Definition of case"
   ]
  },
  {
   "cell_type": "markdown",
   "id": "39adbb67-5753-4e64-8a03-2f612d683d13",
   "metadata": {},
   "source": [
    "#### Observation day"
   ]
  },
  {
   "cell_type": "code",
   "execution_count": 6,
   "id": "bea3e21b-b27c-4eb2-814e-726c80b6a0d2",
   "metadata": {
    "editable": true,
    "execution": {
     "iopub.execute_input": "2024-02-09T09:01:48.999136Z",
     "iopub.status.busy": "2024-02-09T09:01:48.998679Z",
     "iopub.status.idle": "2024-02-09T09:01:49.042329Z",
     "shell.execute_reply": "2024-02-09T09:01:49.041879Z",
     "shell.execute_reply.started": "2024-02-09T09:01:48.999121Z"
    },
    "slideshow": {
     "slide_type": ""
    },
    "tags": []
   },
   "outputs": [],
   "source": [
    "dayObs = 20231220  \n",
    "\n",
    "# days of observation also analysed\n",
    "# 20231129 20231222 \n",
    "# The date of 20231129 was selected because it contained block 139. Afterwards, block 146 was studied and these nights were analysed for suggestions of a meeting."
   ]
  },
  {
   "cell_type": "markdown",
   "id": "235fc1fa-0199-472b-8358-fbd8a0a6b30a",
   "metadata": {},
   "source": [
    "#### Define column names"
   ]
  },
  {
   "cell_type": "code",
   "execution_count": 7,
   "id": "c2abeac4-89b9-4499-a532-5d8d3bc79e43",
   "metadata": {
    "execution": {
     "iopub.execute_input": "2024-02-09T09:01:50.878680Z",
     "iopub.status.busy": "2024-02-09T09:01:50.878261Z",
     "iopub.status.idle": "2024-02-09T09:01:50.920922Z",
     "shell.execute_reply": "2024-02-09T09:01:50.920564Z",
     "shell.execute_reply.started": "2024-02-09T09:01:50.878665Z"
    }
   },
   "outputs": [],
   "source": [
    "# There are 6 columns to analyse: 3 for position and 3 for rotation.\n",
    "# Comment and uncomment the different columns according to the movement you want to study. If you want to study them all at the same time, decompose all the columns.\n",
    "all_columns = [\n",
    "    \"xPosition\",\n",
    "    #\"yPosition\",\n",
    "    #\"zPosition\",\n",
    "    #\"xRotation\",\n",
    "    #\"yRotation\",\n",
    "    #\"zRotation\",\n",
    "]\n",
    "pos_columns = [c for c in all_columns if \"Position\" in c]\n",
    "rot_columns = [c for c in all_columns if \"Rotation\" in c]"
   ]
  },
  {
   "cell_type": "code",
   "execution_count": 8,
   "id": "957f9a12-4d6d-4c27-8f15-12bc33428449",
   "metadata": {
    "execution": {
     "iopub.execute_input": "2024-02-09T09:01:53.588483Z",
     "iopub.status.busy": "2024-02-09T09:01:53.588300Z",
     "iopub.status.idle": "2024-02-09T09:01:53.631250Z",
     "shell.execute_reply": "2024-02-09T09:01:53.630827Z",
     "shell.execute_reply.started": "2024-02-09T09:01:53.588470Z"
    }
   },
   "outputs": [],
   "source": [
    "# time (in seconds) to be represented before and after tracking\n",
    "delta_t = 5"
   ]
  },
  {
   "cell_type": "markdown",
   "id": "59f07df4-ae52-43f9-9e21-d9cac7a6cf83",
   "metadata": {},
   "source": [
    "#### Get slew stops"
   ]
  },
  {
   "cell_type": "code",
   "execution_count": 13,
   "id": "035d7b4f-4b32-4e5e-a927-755dde632735",
   "metadata": {
    "editable": true,
    "execution": {
     "iopub.execute_input": "2024-02-09T09:02:55.148965Z",
     "iopub.status.busy": "2024-02-09T09:02:55.148773Z",
     "iopub.status.idle": "2024-02-09T09:03:09.918455Z",
     "shell.execute_reply": "2024-02-09T09:03:09.917997Z",
     "shell.execute_reply.started": "2024-02-09T09:02:55.148951Z"
    },
    "slideshow": {
     "slide_type": ""
    },
    "tags": []
   },
   "outputs": [
    {
     "data": {
      "text/html": [
       "<pre style=\"margin: 0.1em;\n",
       "padding-left: 0.25em;\n",
       "border-left-style: solid;\n",
       "font-family: var(--jp-code-font-family);\n",
       "font-size: var(--jp-code-font-size);\n",
       "line-height: var(--jp-code-line-height);\n",
       "\"><span style=\"color: var(--jp-warn-color2)\">lsst.summit.utils.tmaUtils</span> <span style=\"color: var(--jp-info-color0)\">INFO</span>: Retrieving mount data for 20231220 from the EFD</pre>"
      ],
      "text/plain": [
       "<IPython.core.display.HTML object>"
      ]
     },
     "metadata": {},
     "output_type": "display_data"
    },
    {
     "name": "stdout",
     "output_type": "stream",
     "text": [
      "Found 549 slews and 234 tracks\n"
     ]
    }
   ],
   "source": [
    "# Select data from a given date\n",
    "eventMaker = TMAEventMaker()\n",
    "events = eventMaker.getEvents(dayObs)\n",
    "\n",
    "# Get lists of slew and track events\n",
    "slews = [e for e in events if e.type==TMAState.SLEWING]\n",
    "tracks = [e for e in events if e.type==TMAState.TRACKING]\n",
    "print(f'Found {len(slews)} slews and {len(tracks)} tracks')"
   ]
  },
  {
   "cell_type": "code",
   "execution_count": 14,
   "id": "862dc15a-8d4b-4f66-afff-5dc16e3e046b",
   "metadata": {
    "execution": {
     "iopub.execute_input": "2024-02-09T09:03:10.079553Z",
     "iopub.status.busy": "2024-02-09T09:03:10.079421Z",
     "iopub.status.idle": "2024-02-09T09:03:10.121996Z",
     "shell.execute_reply": "2024-02-09T09:03:10.121614Z",
     "shell.execute_reply.started": "2024-02-09T09:03:10.079540Z"
    }
   },
   "outputs": [
    {
     "name": "stdout",
     "output_type": "stream",
     "text": [
      "Of the 783 events, 454 relate to block 146.\n"
     ]
    }
   ],
   "source": [
    "# Get events related to soak tests (block 146 currently)\n",
    "block146Events = []\n",
    "for event in events:\n",
    "    blockInfos = event.blockInfos\n",
    "    if blockInfos is None:\n",
    "        continue  # no block info attached to event at all\n",
    "\n",
    "    # check if any of the attached blockInfos are for block 146\n",
    "    blockNums = {b.blockNumber for b in blockInfos}\n",
    "    if 146 in blockNums:\n",
    "        block146Events.append(event)\n",
    "\n",
    "print(f\"Of the {len(events)} events, {len(block146Events)} relate to block 146.\")"
   ]
  },
  {
   "cell_type": "code",
   "execution_count": 11,
   "id": "a65e511d-8fbc-4eca-8d64-6f7bbb5826bc",
   "metadata": {
    "execution": {
     "iopub.execute_input": "2024-02-09T09:02:02.588587Z",
     "iopub.status.busy": "2024-02-09T09:02:02.588393Z",
     "iopub.status.idle": "2024-02-09T09:02:02.632945Z",
     "shell.execute_reply": "2024-02-09T09:02:02.632549Z",
     "shell.execute_reply.started": "2024-02-09T09:02:02.588574Z"
    }
   },
   "outputs": [],
   "source": [
    "# Print out sequential number of events that have certain characteristics\n",
    "t = 0\n",
    "tracks_block146 = []\n",
    "for i in range(len(block146Events)):\n",
    "    if (\n",
    "        block146Events[i].endReason == TMAState.SLEWING\n",
    "        and block146Events[i].type == TMAState.TRACKING\n",
    "    ):\n",
    "        #print(block146Events[i].seqNum, \" \", block146Events[i].duration)\n",
    "        t = t + 1\n",
    "        print(block146Events[i].seqNum, end=\", \")\n",
    "        tracks_block146.append(block146Events[i])"
   ]
  },
  {
   "cell_type": "code",
   "execution_count": 12,
   "id": "b13bf84c-dda1-45ff-b52d-f02c3da68e2e",
   "metadata": {
    "execution": {
     "iopub.execute_input": "2024-02-09T09:02:05.095362Z",
     "iopub.status.busy": "2024-02-09T09:02:05.095156Z",
     "iopub.status.idle": "2024-02-09T09:02:05.138980Z",
     "shell.execute_reply": "2024-02-09T09:02:05.138567Z",
     "shell.execute_reply.started": "2024-02-09T09:02:05.095348Z"
    }
   },
   "outputs": [
    {
     "name": "stdout",
     "output_type": "stream",
     "text": [
      "Of the 0 events of block 146, 0 are trackings.\n"
     ]
    }
   ],
   "source": [
    "# Number of TRACKING in block 146\n",
    "print(f\"Of the {len(block146Events)} events of block 146, {t} are trackings.\")"
   ]
  },
  {
   "cell_type": "code",
   "execution_count": null,
   "id": "09d16dd2-11c9-4ac9-a294-2dc1dc0f4403",
   "metadata": {
    "editable": true,
    "slideshow": {
     "slide_type": ""
    },
    "tags": []
   },
   "outputs": [],
   "source": [
    "# Identify and save those events where the rms is higher than required.\n",
    "unstable_events = {} # Saves information about each event, including whether it is classified as unstable or not.\n",
    "outRMSLimits_event = [] # Save the seqNum of only unstable events\n",
    "for event in enumerate(tracks_block146):\n",
    "    targetSeqNum = event[1].seqNum\n",
    "    is_unstable = False\n",
    "    unstable_reason = \"stable\"\n",
    "    #print(targetSeqNum)\n",
    "    for t, tl in enumerate(tracks):\n",
    "        if tl.seqNum == targetSeqNum:\n",
    "            #print(\"tracking number seq Num: \", targetSeqNum)\n",
    "            i_track = t\n",
    "\n",
    "            # Select the information during the tracking\n",
    "            t0 = Time(tracks[i_track].begin, format=\"isot\", scale=\"utc\")\n",
    "            t0 = pd.to_datetime(t0.value, utc=True)  # astropy Time to Timestamp conversion\n",
    "            t1 = Time(tracks[i_track].end, format=\"isot\", scale=\"utc\")\n",
    "            t1 = pd.to_datetime(t1.value, utc=True)  # astropy Time to Timestamp conversion\n",
    "            #print(\"Tracking stop at:\", t1)\n",
    "            \n",
    "            # Get IMS data\n",
    "            df_ims = getEfdData(\n",
    "                     client, \"lsst.sal.MTM1M3.imsData\", event=tracks[i_track], postPadding=delta_t, prePadding=delta_t)\n",
    "            df_ims = df_ims[all_columns]\n",
    "            # Convert meter to milimeter\n",
    "            df_ims[pos_columns] = df_ims[pos_columns] * 1e3\n",
    "            \n",
    "            #stability throughout a tracking period\n",
    "            %matplotlib inline\n",
    "            \n",
    "            settle_intervals = np.empty(6)\n",
    "            c = 0.\n",
    "\n",
    "            for col in all_columns:\n",
    "                if col in pos_columns:\n",
    "                   req = req_rms_position\n",
    "                else:\n",
    "                   req = req_rms_rotation\n",
    "\n",
    "                Unstable = detectUnstableEvents(\n",
    "                           df_ims=df_ims,\n",
    "                           tt_start=t0,\n",
    "                           tt_end=t1,        \n",
    "                           imsColumn=col,\n",
    "                           rmsReq=req,\n",
    "                           delta_t=5\n",
    "                           )\n",
    "                \n",
    "                if Unstable == -1:\n",
    "                   is_unstable = True\n",
    "                   unstable_reason = \"sortTime\"\n",
    "                   break\n",
    "                if Unstable == -2:\n",
    "                   is_unstable = True\n",
    "                   unstable_reason = \"outRMSLimits\"\n",
    "                   outRMSLimits_event.append(targetSeqNum)\n",
    "                   break\n",
    "\n",
    "    unstable_events[targetSeqNum] = {\"is_unstable\": is_unstable, \"reason\": unstable_reason}  \n",
    "\n",
    "    if unstable_reason == \"outRMSLimits\": #\"outRMSLimits\":\n",
    "        \n",
    "        for col in all_columns:\n",
    "                if col in pos_columns:\n",
    "                   req = req_rms_position\n",
    "                else:\n",
    "                   req = req_rms_rotation \n",
    "                    \n",
    "                settle_interval = computeSettleTrack(\n",
    "                   df_ims=df_ims,\n",
    "                   tt_start=t0,\n",
    "                   tt_end=t1,        \n",
    "                   imsColumn=col,\n",
    "                   rmsReq=req,\n",
    "                   #req_delta_t=req_delta_t,\n",
    "                   #chi2prob=0.99,\n",
    "                   delta_t=5,\n",
    "                   seqNum=targetSeqNum\n",
    "                   )   \n",
    "                "
   ]
  },
  {
   "cell_type": "code",
   "execution_count": null,
   "id": "578fbf04-d06b-49ac-a14d-0d9c8a0fbe37",
   "metadata": {},
   "outputs": [],
   "source": [
    "# The following code calculates the count of events classified as unstable and stable based \n",
    "# on the 'is_unstable' flag.\n",
    "# The 'count_is_unstable' dictionary stores the count of events classified \n",
    "# as unstable (True) and stable (False).\n",
    "\n",
    "count_is_unstable = {\"True\": sum(event[\"is_unstable\"] for event in unstable_events.values()),\n",
    "               \n",
    "                     \"False\": sum(not event[\"is_unstable\"] for event in unstable_events.values())}\n",
    "print(count_is_unstable)"
   ]
  },
  {
   "cell_type": "code",
   "execution_count": null,
   "id": "957b631d-db9f-4fa7-b721-21fe42099919",
   "metadata": {},
   "outputs": [],
   "source": [
    "from collections import Counter\n",
    "count_reason = [event[\"reason\"] for event in unstable_events.values()]\n",
    "\n",
    "print(Counter(count_reason))"
   ]
  },
  {
   "cell_type": "markdown",
   "id": "193ae55f-6b45-4c2f-8318-7df30ebd6f13",
   "metadata": {},
   "source": [
    "## Tracking duration"
   ]
  },
  {
   "cell_type": "markdown",
   "id": "770a31de-620d-4230-a398-84840bbe2da7",
   "metadata": {},
   "source": [
    "When analyzing all the two observation nights, we observed that the duration was not 30 seconds, as expected, but 42 seconds.\n",
    "\n",
    "Here we include a quick analysis to verify that it really was 42 seconds"
   ]
  },
  {
   "cell_type": "code",
   "execution_count": null,
   "id": "e5a2f139-50b8-4836-9c57-7adaf4899dd2",
   "metadata": {},
   "outputs": [],
   "source": [
    "# INFORMATION\n",
    "# I f when executing this cell you get an error type: \n",
    "# RuntimeError: Found multiple blockIds ({'BL13_O_20231219_000001', 'BL13_O_20231220_000001'}) for seqNum=1\n",
    "# you must do the following:\n",
    "# Change to the summit_utils directory\n",
    "# Follow the branch sitcom-performance-analysis\n",
    "# git fetch --all; git checkout sitcom-performance-analysis\n",
    "# git pull\n",
    "\n",
    "dayObs = 20231220\n",
    "\n",
    "# Select data from a given date\n",
    "eventMaker = TMAEventMaker()\n",
    "events = eventMaker.getEvents(dayObs)\n",
    "\n",
    "# Get lists of slew and track events\n",
    "slews = [e for e in events if e.type==TMAState.SLEWING]\n",
    "tracks = [e for e in events if e.type==TMAState.TRACKING]\n",
    "print(f'Found {len(slews)} slews and {len(tracks)} tracks')\n",
    "\n",
    "# Get events related to soak tests (block 146 currently)\n",
    "block146Events = []\n",
    "for event in events:\n",
    "    blockInfos = event.blockInfos\n",
    "    if blockInfos is None:\n",
    "        continue  # no block info attached to event at all\n",
    "\n",
    "    # check if any of the attached blockInfos are for block 146\n",
    "    blockNums = {b.blockNumber for b in blockInfos}\n",
    "    if 146 in blockNums:\n",
    "        block146Events.append(event)\n",
    "\n",
    "print(f\"Of the {len(events)} events, {len(block146Events)} relate to block 146.\")\n",
    "\n",
    "# Print out sequential number of events that have certain characteristics\n",
    "t = 0\n",
    "tracks_block146 = []\n",
    "for i in range(len(block146Events)):\n",
    "    if (\n",
    "        block146Events[i].endReason == TMAState.SLEWING\n",
    "        and block146Events[i].type == TMAState.TRACKING\n",
    "    ):\n",
    "        print(block146Events[i].seqNum, \" \", block146Events[i].duration)\n",
    "        t = t + 1\n",
    "        #print(block146Events[i].seqNum, end=\", \")\n",
    "        tracks_block146.append(block146Events[i])\n",
    "\n",
    "# Number of TRACKING in block 146\n",
    "print(f\"Of the {len(block146Events)} events of block 146, {t} are trackings.\")"
   ]
  },
  {
   "cell_type": "code",
   "execution_count": null,
   "id": "cf3f2523-4ed6-4daa-8c86-9364f83ad45d",
   "metadata": {},
   "outputs": [],
   "source": [
    "## Time of the tracking:\n",
    "\n",
    "# Get durations of the tracking\n",
    "durations = [track.duration for track in tracks_block146]\n",
    "\n",
    "# Calculate mean, standard deviation, and variance\n",
    "mean_duration = np.mean(durations)\n",
    "standard_deviation = np.std(durations)\n",
    "variance = np.var(durations)\n",
    "median_duration = np.median(durations)\n",
    "\n",
    "# Round the durations for mode calculation\n",
    "rounded_durations = [round(track.duration) for track in tracks_block146]\n",
    "\n",
    "# Calculate mode of rounded durations\n",
    "mode_duration = stats.mode(rounded_durations)\n",
    "\n",
    "\n",
    "# Print the results\n",
    "print(\"Number of trackings:\", len(durations))\n",
    "print(\"Mean duration of tracking:\", mean_duration)\n",
    "print(\"Median duration of tracking:\", median_duration)\n",
    "print(\"Mode of tracking duration (rounded):\", mode_duration.mode[0])\n",
    "print(\"Standard deviation of tracking duration:\", standard_deviation)\n",
    "print(\"Variance of tracking duration:\", variance)\n",
    "print(\"Maximum duration of tracking:\", np.max(durations))\n",
    "print(\"Minimum duration of tracking:\", np.min(durations))\n",
    "\n",
    "\n",
    "# Create a boxplot using seaborn\n",
    "plt.figure(figsize=(8, 6))\n",
    "sns.boxplot(y=durations, width=0.5)\n",
    "plt.title('Boxplot of Tracking Duration')\n",
    "plt.ylabel('Duration (s)')\n",
    "plt.show()\n",
    "\n",
    "# Create a boxplot using seaborn (zoom)\n",
    "plt.figure(figsize=(8, 6))\n",
    "sns.boxplot(y=durations, width=0.5)\n",
    "plt.ylim(np.percentile(durations, 7), np.percentile(durations, 93))\n",
    "plt.title('Zoomed Boxplot of Tracking Duration')\n",
    "plt.ylabel('Duration (s)')\n",
    "plt.show()\n"
   ]
  },
  {
   "cell_type": "code",
   "execution_count": null,
   "id": "a2db773b-ab32-43e4-9fe4-bdea341e23d5",
   "metadata": {},
   "outputs": [],
   "source": []
  }
 ],
 "metadata": {
  "kernelspec": {
   "display_name": "LSST",
   "language": "python",
   "name": "lsst"
  },
  "language_info": {
   "codemirror_mode": {
    "name": "ipython",
    "version": 3
   },
   "file_extension": ".py",
   "mimetype": "text/x-python",
   "name": "python",
   "nbconvert_exporter": "python",
   "pygments_lexer": "ipython3",
   "version": "3.11.7"
  }
 },
 "nbformat": 4,
 "nbformat_minor": 5
}
