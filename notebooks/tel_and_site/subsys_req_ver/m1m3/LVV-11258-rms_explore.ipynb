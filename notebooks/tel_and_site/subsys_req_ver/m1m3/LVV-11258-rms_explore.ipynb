{
 "cells": [
  {
   "cell_type": "code",
   "execution_count": null,
   "id": "029b16c6-a217-4e52-99cd-efdc7caa3d20",
   "metadata": {
    "tags": []
   },
   "outputs": [],
   "source": [
    "import pandas as pd\n",
    "import matplotlib.pyplot as plt\n",
    "import numpy as np\n",
    "\n",
    "from astropy.time import Time, TimezoneInfo\n",
    "from statsmodels.tsa.stattools import adfuller\n",
    "\n",
    "from lsst.sitcom import vandv\n",
    "from lsst.ts.idl.enums import MTM1M3\n",
    "\n",
    "from lsst.summit.utils.tmaUtils import TMAEventMaker, TMAState\n",
    "from lsst.summit.utils.efdUtils import getEfdData, makeEfdClient\n",
    "\n",
    "import warnings\n",
    "warnings.filterwarnings('ignore')"
   ]
  },
  {
   "cell_type": "code",
   "execution_count": null,
   "id": "faa88ca6-9315-469c-aa1c-489a7c3015f0",
   "metadata": {},
   "outputs": [],
   "source": [
    "%matplotlib inline\n",
    "%load_ext autoreload\n",
    "%autoreload 2"
   ]
  },
  {
   "cell_type": "code",
   "execution_count": null,
   "id": "a054140a-78e8-432d-a7d8-25211a797d02",
   "metadata": {
    "tags": []
   },
   "outputs": [],
   "source": [
    "# Select data from a given date\n",
    "dayObs = 20230717\n",
    "eventMaker = TMAEventMaker()\n",
    "events = eventMaker.getEvents(dayObs)\n",
    "\n",
    "# Get lists of slew and track events\n",
    "slews = [e for e in events if e.type==TMAState.SLEWING]\n",
    "client = eventMaker.client\n",
    "\n",
    "print(f\"{len(slews)} slews\\nbegin: {slews[0].begin.iso}\\nend: {slews[-1].end.iso}\")"
   ]
  },
  {
   "cell_type": "code",
   "execution_count": null,
   "id": "19cf8430-7cb8-4479-a359-7c2550a963c5",
   "metadata": {
    "tags": []
   },
   "outputs": [],
   "source": [
    "slew_begin_utc=[]\n",
    "slew_end_utc=[]\n",
    "for slew in slews:\n",
    "    slew_begin_utc.append(slew.begin.utc)\n",
    "    slew_end_utc.append(slew.end.utc)"
   ]
  },
  {
   "cell_type": "code",
   "execution_count": null,
   "id": "51eda0ea-9872-42bb-b877-864ff5f8c9b3",
   "metadata": {
    "tags": []
   },
   "outputs": [],
   "source": [
    "begin_time=Time('2023-07-18 04:57:04')\n",
    "end_time=Time('2023-07-18 05:02:04')"
   ]
  },
  {
   "cell_type": "code",
   "execution_count": null,
   "id": "ffe45dcf-b449-4057-9b00-fecd56f8367b",
   "metadata": {
    "tags": []
   },
   "outputs": [],
   "source": [
    "df_mtmount_ele = getEfdData(client,'lsst.sal.MTMount.elevation', \n",
    "                            begin=begin_time,\n",
    "                            end=end_time,\n",
    "                            postPadding = postPadding)\n",
    "df_mtmount_azi = getEfdData(client,'lsst.sal.MTMount.azimuth', \n",
    "                            begin=begin_time,\n",
    "                            end=end_time, \n",
    "                            postPadding = postPadding)\n",
    "df_ims = getEfdData(client, 'lsst.sal.MTM1M3.imsData', \n",
    "                    begin=begin_time,\n",
    "                    end=end_time, \n",
    "                    postPadding = postPadding)"
   ]
  },
  {
   "cell_type": "code",
   "execution_count": null,
   "id": "a7c6dc47-4d11-4ebc-9265-b4e594f0e43c",
   "metadata": {
    "tags": []
   },
   "outputs": [],
   "source": [
    "def add_slew_ends(ax, timex, j):\n",
    "    for i, slew in enumerate(slews):\n",
    "        if (slew_end_utc[i].datetime > timex.min()) & (slew_end_utc[i].datetime < timex.max()):\n",
    "            if j == 0:\n",
    "                ax.axvline(slew_end_utc[i].datetime, c=\"k\", zorder=1, ls=\"dashed\", label=\"slew ends\")\n",
    "                j+=1\n",
    "            else:\n",
    "                ax.axvline(slew_end_utc[i].datetime, c=\"k\", zorder=1, ls=\"dashed\")\n",
    "    return j"
   ]
  },
  {
   "cell_type": "code",
   "execution_count": null,
   "id": "603660fd-fecf-4c77-9078-b2bd83aa688a",
   "metadata": {
    "tags": []
   },
   "outputs": [],
   "source": []
  },
  {
   "cell_type": "code",
   "execution_count": null,
   "id": "2994de88-16fd-4fcd-bc17-1b6219c103b0",
   "metadata": {
    "tags": []
   },
   "outputs": [],
   "source": [
    "fig, axs=plt.subplots(4, dpi=125, figsize=(10,5), sharex=True)\n",
    "\n",
    "ax=axs[0]\n",
    "ax.set_title(begin_time.iso + \" to \" + end_time.iso)\n",
    "key=\"xPosition\"\n",
    "timex=Time(df_ims[\"timestamp\"], format=\"unix_tai\",scale=\"utc\").datetime\n",
    "\n",
    "ax.plot(timex, df_ims[key]*1e3, zorder=2, label=key)\n",
    "j=0\n",
    "j=add_slew_ends(ax,timex, j)\n",
    "ax.legend(ncol=2)\n",
    "ax.set(xlim=(timex.min(), timex.max()), \n",
    "       ylim=np.percentile(df_ims[key]*1e3,[1.5,98]),\n",
    "       ylabel=key + \"\\nmm\")\n",
    "\n",
    "\n",
    "ax=axs[1]\n",
    "key=\"yPosition\"\n",
    "ax.plot(timex, df_ims[key]*1e3, zorder=2, label=key, c=\"tab:orange\")\n",
    "j=add_slew_ends(ax,timex, j)\n",
    "ax.legend()\n",
    "ax.set(xlim=(timex.min(), timex.max()), \n",
    "       ylim=np.percentile(df_ims[key]*1e3,[1.5,98]),\n",
    "       ylabel=key + \"\\nmm\")\n",
    "\n",
    "\n",
    "ax=axs[2]\n",
    "key=\"zPosition\"\n",
    "ax.plot(timex, df_ims[key]*1e3, zorder=2, label=key, c=\"tab:green\")\n",
    "j=add_slew_ends(ax,timex, j)\n",
    "ax.legend()\n",
    "ax.set(xlim=(timex.min(), timex.max()), \n",
    "       ylim=np.percentile(df_ims[key]*1e3,[1.5,98]),\n",
    "       ylabel=key + \"\\nmm\")\n",
    "\n",
    "\n",
    "ax=axs[3]\n",
    "timex=Time(df_mtmount_ele[\"timestamp\"], format=\"unix_tai\",scale=\"utc\").datetime\n",
    "ax.plot(timex, df_mtmount_ele[\"actualPosition\"], label=\"Position\", zorder=2)\n",
    "ax.legend(loc=2)\n",
    "ax2=ax.twinx()\n",
    "ax2.plot(timex, df_mtmount_ele[\"actualVelocity\"], label=\"Velocity\", c=\"tab:orange\")\n",
    "ax2.legend()\n",
    "for i, slew in enumerate(slews):\n",
    "    if (slew_end_utc[i].datetime > timex.min()) & (slew_end_utc[i].datetime < timex.max()):\n",
    "        ax2.axvline(slew_end_utc[i].datetime, c=\"k\", zorder=1, ls=\"dashed\")\n",
    "ax.set(xlabel=\"Time\", ylabel=\"elevation\")\n",
    "ax2.set(ylabel=\"velocity deg/s\")\n",
    "ax.set_zorder(ax2.get_zorder()+1)\n",
    "ax.set_frame_on(False)\n",
    "plt.subplots_adjust(hspace=0)"
   ]
  },
  {
   "cell_type": "code",
   "execution_count": null,
   "id": "c5ca6719-0233-44d8-9804-9ec9bd6fb38d",
   "metadata": {
    "tags": []
   },
   "outputs": [],
   "source": [
    "i=80\n",
    "postPadding=60\n",
    "slews[i].begin.iso"
   ]
  },
  {
   "cell_type": "code",
   "execution_count": null,
   "id": "050de57e-25fe-4cbd-a632-fbd20104a813",
   "metadata": {
    "tags": []
   },
   "outputs": [],
   "source": [
    "df_mtmount_ele = getEfdData(client,'lsst.sal.MTMount.elevation', \n",
    "                            event=slews[i], \n",
    "                            postPadding = postPadding)\n",
    "df_mtmount_azi = getEfdData(client,'lsst.sal.MTMount.azimuth', \n",
    "                            event=slews[i], \n",
    "                            postPadding = postPadding)\n",
    "df_ims = getEfdData(client, 'lsst.sal.MTM1M3.imsData', \n",
    "                    event=slews[i], \n",
    "                    postPadding = postPadding)"
   ]
  },
  {
   "cell_type": "code",
   "execution_count": null,
   "id": "48ca0160-8363-49f0-8458-dc4e7f3e3e06",
   "metadata": {
    "tags": []
   },
   "outputs": [],
   "source": []
  },
  {
   "cell_type": "code",
   "execution_count": null,
   "id": "3fa072e5-9bca-4a14-8a89-6a7f8c583ed6",
   "metadata": {
    "tags": []
   },
   "outputs": [],
   "source": [
    "vtime"
   ]
  },
  {
   "cell_type": "code",
   "execution_count": null,
   "id": "dd1ba4c7-a7d1-4c31-97f2-608c21f7e60b",
   "metadata": {
    "tags": []
   },
   "outputs": [],
   "source": [
    "meanval"
   ]
  },
  {
   "cell_type": "code",
   "execution_count": null,
   "id": "c4f8d223-588f-4428-89a2-f660f594a5b6",
   "metadata": {
    "tags": []
   },
   "outputs": [],
   "source": [
    "fig, ax=plt.subplots(dpi=125)\n",
    "timex=Time(df_ims[\"timestamp\"], format=\"unix_tai\",scale=\"utc\").datetime\n",
    "ax.plot(timex, df_ims[\"zPosition\"])\n",
    "vtime=slews[i].end.utc\n",
    "etime=slews[i+1].begin.utc\n",
    "ax.axvline(vtime.datetime, c=\"k\")\n",
    "ax.axvline(etime.datetime, c=\"k\", ls=\"dashed\")\n",
    "sel=(timex > vtime.datetime) & (timex < etime.datetime)\n",
    "meanval=np.median(df_ims[\"zPosition\"][sel])\n",
    "ax2=ax.twinx()\n",
    "ax2.plot(timex, df_ims[\"zPosition\"].rolling(30).std(), c=\"tab:orange\")\n",
    "ax2.plot(timex, df_ims[\"zPosition\"]-meanval, c=\"tab:green\")"
   ]
  },
  {
   "cell_type": "code",
   "execution_count": null,
   "id": "6b4f6f52-7b92-44eb-b9bf-e04a14554fd1",
   "metadata": {
    "tags": []
   },
   "outputs": [],
   "source": [
    "slews[i].end"
   ]
  },
  {
   "cell_type": "code",
   "execution_count": null,
   "id": "27cf2ba6-2d1c-4a2c-8ce4-e1fcd9b38e7e",
   "metadata": {},
   "outputs": [],
   "source": []
  }
 ],
 "metadata": {
  "kernelspec": {
   "display_name": "LSST",
   "language": "python",
   "name": "lsst"
  },
  "language_info": {
   "codemirror_mode": {
    "name": "ipython",
    "version": 3
   },
   "file_extension": ".py",
   "mimetype": "text/x-python",
   "name": "python",
   "nbconvert_exporter": "python",
   "pygments_lexer": "ipython3",
   "version": "3.11.4"
  }
 },
 "nbformat": 4,
 "nbformat_minor": 5
}
