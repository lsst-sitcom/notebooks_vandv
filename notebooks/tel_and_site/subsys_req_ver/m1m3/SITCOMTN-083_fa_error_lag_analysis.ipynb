{
 "cells": [
  {
   "cell_type": "markdown",
   "id": "fae5e385-34a2-4b58-ba63-f71ca1e6de7a",
   "metadata": {},
   "source": [
    "# SITCOMTN-083 - Force Actuator Following Error Lag Analysis\n",
    "\n",
    "As described in [SITCOM-1167], we are seeing delays in the Force Actuators applied forces when comparing them with the demanded forces.  \n",
    "Now, we want to quantify those delays and have statistics on all the actuators.  \n",
    "  \n",
    "The [M1M3 Actuator Forces dashboard in USDF] contains the forces we want to use for this analysis.  \n",
    "The url for this dashboard is created using the [m1m3_bump_test_times.py] Python script.  \n",
    "\n",
    "The easiest way to do this is with the bump test results, since here there is a well defined applied force.  \n",
    "This is why this notebook is associated with the technote [SITCOMTN-083].  \n",
    "The notebook works by taking the applied force and the measured force, then finding the delay which minimizes the difference between these two forces.\n",
    "\n",
    "[SITCOM-1167]: https://jira.lsstcorp.org/browse/SITCOM-1167\n",
    "[SITCOMTN-083]: https://sitcomtn-083.lsst.io/\n",
    "[M1M3 Actuator Forces dashboard in USDF]: https://usdf-rsp.slac.stanford.edu/chronograf/sources/1/dashboards/61?refresh=Paused&tempVars%5Bz_index%5D=112&tempVars%5By_index%5D=0&tempVars%5Bx_index%5D=112&tempVars%5Bs_index%5D=112&lower=now%28%29%20-%205m\n",
    "[m1m3_bump_test_times.py]: https://github.com/lsst-ts/ts_criopy/blob/develop/python/lsst/ts/criopy/m1m3_bump_tests_times.py\n",
    "\n",
    "This notebook and the associated Python code has been modified so that it now can calculate the delays from either bump tests or from actual slews of the TMA\n",
    "\n",
    "## Notebook Preparations\n",
    "\n",
    "Let's have here all the imports and global variables we will need during the notebook execution.  "
   ]
  },
  {
   "cell_type": "code",
   "execution_count": null,
   "id": "672d5c98-4bc8-4d14-9b8c-16f803fb9cae",
   "metadata": {},
   "outputs": [],
   "source": [
    "# Initial time to find out executions of bump tests\n",
    "start_time = \"2024-01-04T10:00:00\"\n",
    "\n",
    "# End time to find out executions of bump tests\n",
    "end_time = \"2024-01-04T11:15:00\"\n",
    "\n",
    "# \"Gentle\" slew event\n",
    "gentle = [20240105, 1047, 320]\n",
    "\n",
    "# \"Aggressive\" slew event\n",
    "aggressive = [20240102, 607, 108]"
   ]
  },
  {
   "cell_type": "code",
   "execution_count": null,
   "id": "a6591e2d-a22b-4b2a-8daf-56cdb365d6fb",
   "metadata": {},
   "outputs": [],
   "source": [
    "%load_ext lab_black\n",
    "%load_ext autoreload\n",
    "%autoreload 2"
   ]
  },
  {
   "cell_type": "code",
   "execution_count": null,
   "id": "b16e208a-d1c6-4501-ab8c-7e583cf52887",
   "metadata": {},
   "outputs": [],
   "source": [
    "import asyncio\n",
    "import glob\n",
    "import os\n",
    "import sys\n",
    "import time\n",
    "\n",
    "import matplotlib.pyplot as plt\n",
    "import numpy as np\n",
    "\n",
    "from astropy.time import Time, TimeDelta\n",
    "from datetime import datetime\n",
    "from matplotlib.backends.backend_pdf import PdfPages\n",
    "from pathlib import Path\n",
    "from scipy.optimize import minimize\n",
    "\n",
    "from lsst.summit.utils.efdUtils import getEfdData, makeEfdClient\n",
    "from lsst.summit.utils.tmaUtils import TMAEventMaker\n",
    "from lsst.sitcom.vandv.m1m3 import actuator_analysis as act\n",
    "from lsst.ts.xml.tables.m1m3 import FATable"
   ]
  },
  {
   "cell_type": "code",
   "execution_count": null,
   "id": "ba9aff38-a8dc-404e-84e3-fb43cf2d6707",
   "metadata": {},
   "outputs": [],
   "source": [
    "# Create an EFD client for queries in the notebook\n",
    "efd_client = makeEfdClient()\n",
    "eventMaker = TMAEventMaker()\n",
    "# Create a folder to store plots\n",
    "plot_dir = Path(\"./plots\")\n",
    "plot_dir.mkdir(exist_ok=True, parents=True)"
   ]
  },
  {
   "cell_type": "markdown",
   "id": "4b0018af-5122-48c8-8516-bb66878a4c94",
   "metadata": {},
   "source": [
    "# First, analyze delays from bump tests."
   ]
  },
  {
   "cell_type": "markdown",
   "id": "26c38e09-879a-44a5-9e47-8f7c5ce09ca5",
   "metadata": {},
   "source": [
    "## Single Actuator Analysis"
   ]
  },
  {
   "cell_type": "code",
   "execution_count": null,
   "id": "895edb84-77bc-4694-ac6c-7efc57b59385",
   "metadata": {},
   "outputs": [],
   "source": [
    "bump_test_status = getEfdData(\n",
    "    client=efd_client,\n",
    "    topic=\"lsst.sal.MTM1M3.logevent_forceActuatorBumpTestStatus\",\n",
    "    columns=\"*\",\n",
    "    begin=Time(start_time, scale=\"utc\", format=\"isot\"),\n",
    "    end=Time(end_time, scale=\"utc\", format=\"isot\"),\n",
    ")"
   ]
  },
  {
   "cell_type": "code",
   "execution_count": null,
   "id": "456da38f-04e5-4f52-ad0c-4619653956f6",
   "metadata": {},
   "outputs": [],
   "source": [
    "%matplotlib inline\n",
    "\n",
    "# The actuator fa_id runs from 101 to 443, as described in\n",
    "# Section 2 of https://sitcomtn-083.lsst.io/\n",
    "force_actuator_id = 212\n",
    "\n",
    "# Grab the first bump test within the date range\n",
    "bump_test_index = 0\n",
    "\n",
    "fig = plt.figure(figsize=(10, 10))\n",
    "\n",
    "[delay_primary, delay_secondary] = act.plot_actuator_delay(\n",
    "    fig, efd_client, force_actuator_id, bt_results=bump_test_status\n",
    ")\n",
    "\n",
    "plt.savefig(str(plot_dir / f\"Bump_Test_Delays_{force_actuator_id}.png\"))"
   ]
  },
  {
   "cell_type": "markdown",
   "id": "53f4ad64-c90a-47df-9506-b1e54a1e826e",
   "metadata": {},
   "source": [
    "## Analyze all the Force actuators"
   ]
  },
  {
   "cell_type": "code",
   "execution_count": null,
   "id": "82c694a4-7043-4e9a-8884-f1ee825e6256",
   "metadata": {},
   "outputs": [],
   "source": [
    "# Allocate space to store the data\n",
    "delay_dict = {}\n",
    "\n",
    "# Create a PDF file to fill with data\n",
    "timestamp = (\n",
    "    bump_test_status.index[0]\n",
    "    .isoformat()\n",
    "    .split(\".\")[0]\n",
    "    .replace(\"-\", \"\")\n",
    "    .replace(\":\", \"\")\n",
    ")\n",
    "pdf = PdfPages(str(plot_dir / f\"Bump_Test_Delays_{timestamp}.pdf\"))\n",
    "\n",
    "# Create a figure\n",
    "fig = plt.figure(figsize=(10, 10))\n",
    "\n",
    "# Loop over all the force actuators\n",
    "for index in range(len(FATable)):\n",
    "    # try:\n",
    "    # Extract actuator data\n",
    "    id = FATable[index].actuator_id\n",
    "    [primary_delay, secondary_delay] = act.plot_actuator_delay(\n",
    "        fig, efd_client, id, bt_results=bump_test_status\n",
    "    )\n",
    "    print(f\"Plot for actuator {id} succeeded!\")\n",
    "\n",
    "    # Saves the current figure into a pdf page\n",
    "    pdf.savefig(fig)\n",
    "\n",
    "    # Clear figure\n",
    "    plt.clf()\n",
    "\n",
    "    # Store delays\n",
    "    delay_dict[id] = [primary_delay, secondary_delay]\n",
    "\n",
    "    ## Todo: find a more specific exeption.\n",
    "    ## @b1quint - I will leave this commented out until we find the proper error\n",
    "    # except:\n",
    "    #     print(f\"Plot for actuator {id} failed!\")\n",
    "    #     delay_dict[id] = [None, None]\n",
    "    #     continue\n",
    "pdf.close()\n",
    "print(f\"Plots completed and PDF closed\")"
   ]
  },
  {
   "cell_type": "markdown",
   "id": "542861c0-d68c-474c-9af5-6b38bb9b9bdf",
   "metadata": {},
   "source": [
    "## Delay Histograms"
   ]
  },
  {
   "cell_type": "code",
   "execution_count": null,
   "id": "4bcd5394-b1c1-4e73-8ee8-520387c1f9c2",
   "metadata": {},
   "outputs": [],
   "source": [
    "# Create placeholders\n",
    "primary_delays = []\n",
    "secondary_delays = []\n",
    "\n",
    "# Strip primary and secondary delays from the dictionary above\n",
    "for index in range(len(FATable)):\n",
    "    id = FATable[index].actuator_id\n",
    "\n",
    "    try:\n",
    "        [primary_delay, secondary_delay] = delay_dict[id]\n",
    "    except KeyError:\n",
    "        print(\"Empty dictionary. Make sure you run previous cell.\")\n",
    "    except NameError:\n",
    "        print(\"Delay dictionary not defined. Make sure you run previous cell.\")\n",
    "\n",
    "    primary_delays.append(primary_delay)\n",
    "    secondary_delays.append(secondary_delay)\n",
    "\n",
    "# Convert lists into arrays\n",
    "primary_delays = np.array(primary_delays, dtype=float)\n",
    "secondary_delays = np.array(secondary_delays, dtype=float)\n",
    "\n",
    "# Remove NaNs\n",
    "primary_delays = primary_delays[~np.isnan(primary_delays)]\n",
    "secondary_delays = secondary_delays[~np.isnan(secondary_delays)]\n",
    "\n",
    "# Remove outliers\n",
    "primary_delays = primary_delays[primary_delays < 500]\n",
    "secondary_delays = secondary_delays[secondary_delays < 500]\n",
    "\n",
    "# Extract timestamp\n",
    "timestamp = bump_test_status.index[0].isoformat().split(\".\")[0]\n",
    "\n",
    "# Create histograms and save them\n",
    "fig = plt.figure(figsize=(10, 5))\n",
    "act.plot_delay_histograms(fig, timestamp, primary_delays, secondary_delays)\n",
    "plt.savefig(\n",
    "    str(\n",
    "        plot_dir\n",
    "        / f\"Bump_Test_Delay_Histograms_{timestamp.replace('-', '').replace(':', '')}.png\"\n",
    "    )\n",
    ")"
   ]
  },
  {
   "cell_type": "markdown",
   "id": "e01890a9-62e9-416d-a064-3b62730b358e",
   "metadata": {},
   "source": [
    "# Next, analyze delays from actual slews."
   ]
  },
  {
   "cell_type": "markdown",
   "id": "497c71d9-76e7-485f-b4db-362feb1e7f34",
   "metadata": {},
   "source": [
    "## Start with a \"gentle\" slew, with these parameters:\n",
    "Azimuth Velocity - 4.0 degrees/sec\n",
    "\n",
    "Azimuth acceleration - 4.0 degrees/sec^2\n",
    "\n",
    "Azimuth jerk - 2.0 degrees/sec^3\n",
    "\n",
    "Elevation Velocity - 2.0 degrees/sec\n",
    "\n",
    "Elevation acceleration - 2.0 degrees/sec^2\n",
    "\n",
    "Elevation jerk - 1.0 degrees/sec^3"
   ]
  },
  {
   "cell_type": "code",
   "execution_count": null,
   "id": "2a15fe06-106e-47ca-ad43-7dd39c3cc009",
   "metadata": {},
   "outputs": [],
   "source": [
    "%matplotlib inline\n",
    "\n",
    "[dayObs, seqNum, force_actuator_id] = gentle\n",
    "event = eventMaker.getEvent(dayObs, seqNum)\n",
    "\n",
    "fig = plt.figure(figsize=(10, 10))\n",
    "\n",
    "[delay_primary, delay_secondary] = act.plot_actuator_delay(\n",
    "    fig, efd_client, force_actuator_id, event=event\n",
    ")\n",
    "\n",
    "plt.savefig(str(plot_dir / f\"Event_{dayObs}-{seqNum}_Delays_{force_actuator_id}.png\"))"
   ]
  },
  {
   "cell_type": "markdown",
   "id": "225081f9-abe5-479f-b3ec-392c48640365",
   "metadata": {},
   "source": [
    "## Now a more aggressive slew, with these parameters:\n",
    "Azimuth Velocity - 7.0 degrees/sec\n",
    "\n",
    "Azimuth acceleration - 7.0 degrees/sec^2\n",
    "\n",
    "Azimuth jerk - 28.0 degrees/sec^3\n",
    "\n",
    "Elevation Velocity - 3.5 degrees/sec\n",
    "\n",
    "Elevation acceleration - 3.5 degrees/sec^2\n",
    "\n",
    "Elevation jerk - 14.0 degrees/sec^3\n",
    "\n",
    "## In this case the measured forces look nothing like the applied forces, so the calculated delay is suspect."
   ]
  },
  {
   "cell_type": "code",
   "execution_count": null,
   "id": "79642b13-d088-45ca-aa1f-27640c8e05c6",
   "metadata": {},
   "outputs": [],
   "source": [
    "%matplotlib inline\n",
    "\n",
    "[dayObs, seqNum, force_actuator_id] = aggressive\n",
    "event = eventMaker.getEvent(dayObs, seqNum)\n",
    "\n",
    "fig = plt.figure(figsize=(10, 10))\n",
    "\n",
    "[delay_primary, delay_secondary] = act.plot_actuator_delay(\n",
    "    fig, efd_client, force_actuator_id, event=event\n",
    ")\n",
    "\n",
    "plt.savefig(str(plot_dir / f\"Event {dayObs}-{seqNum}_Delays_{force_actuator_id}.png\"))"
   ]
  },
  {
   "cell_type": "code",
   "execution_count": null,
   "id": "e9e65277-81f8-4508-b337-6a94c086422a",
   "metadata": {},
   "outputs": [],
   "source": []
  }
 ],
 "metadata": {
  "kernelspec": {
   "display_name": "LSST",
   "language": "python",
   "name": "lsst"
  },
  "language_info": {
   "codemirror_mode": {
    "name": "ipython",
    "version": 3
   },
   "file_extension": ".py",
   "mimetype": "text/x-python",
   "name": "python",
   "nbconvert_exporter": "python",
   "pygments_lexer": "ipython3",
   "version": "3.11.7"
  }
 },
 "nbformat": 4,
 "nbformat_minor": 5
}
