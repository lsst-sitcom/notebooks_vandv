{
 "cells": [
  {
   "cell_type": "markdown",
   "id": "fae5e385-34a2-4b58-ba63-f71ca1e6de7a",
   "metadata": {},
   "source": [
    "# SITCOMTN-083 - Force Actuator Following Error Lag Analysis\n",
    "\n",
    "As described in [SITCOM-1167], we are seeing delays in the Force Actuators applied forces when comparing them with the demanded forces.  \n",
    "Now, we want to quantify those delays and have statistics on all the actuators.  \n",
    "  \n",
    "The [M1M3 Actuator Forces dashboard in USDF] contains the forces we want to use for this analysis.  \n",
    "The url for this dashboard is created using the [m1m3_bump_test_times.py] Python script.  \n",
    "\n",
    "This notebooks starts with mimicking [m1m3_bump_test_times.py] and bump tests analysis.  \n",
    "Later, we will want to do similar analysis on slews (new ticket).  \n",
    "We still need to think on how can we visualize this data (maybe new ticket).\n",
    "\n",
    "[SITCOM-1167]: https://jira.lsstcorp.org/browse/SITCOM-1167\n",
    "[M1M3 Actuator Forces dashboard in USDF]: https://usdf-rsp.slac.stanford.edu/chronograf/sources/1/dashboards/61?refresh=Paused&tempVars%5Bz_index%5D=112&tempVars%5By_index%5D=0&tempVars%5Bx_index%5D=112&tempVars%5Bs_index%5D=112&lower=now%28%29%20-%205m\n",
    "[m1m3_bump_test_times.py]: https://github.com/lsst-ts/ts_criopy/blob/develop/python/lsst/ts/criopy/m1m3_bump_tests_times.py\n",
    "\n",
    "\n",
    "## Notebook Preparations\n",
    "\n",
    "Let's have here all the imports and global variables we will need during the notebook execution.  "
   ]
  },
  {
   "cell_type": "code",
   "execution_count": null,
   "id": "a6591e2d-a22b-4b2a-8daf-56cdb365d6fb",
   "metadata": {},
   "outputs": [],
   "source": [
    "%load_ext lab_black\n",
    "%load_ext autoreload\n",
    "%autoreload 2"
   ]
  },
  {
   "cell_type": "code",
   "execution_count": null,
   "id": "b16e208a-d1c6-4501-ab8c-7e583cf52887",
   "metadata": {},
   "outputs": [],
   "source": [
    "import matplotlib.pyplot as plt\n",
    "import numpy as np\n",
    "import pandas as pd\n",
    "\n",
    "from astropy.time import Time\n",
    "from pathlib import Path\n",
    "\n",
    "from lsst.sitcom.vandv.logger import create_logger\n",
    "from lsst.summit.utils.efdUtils import getEfdData, makeEfdClient\n",
    "from lsst.summit.utils.tmaUtils import TMAEvent, TMAEventMaker\n",
    "from lsst.ts.criopy.m1m3 import BumpTestTimes, ForceActuatorForces\n",
    "\n",
    "from datetime import timezone\n",
    "from pathlib import Path"
   ]
  },
  {
   "cell_type": "code",
   "execution_count": null,
   "id": "672d5c98-4bc8-4d14-9b8c-16f803fb9cae",
   "metadata": {},
   "outputs": [],
   "source": [
    "# Initial time to find out executions of bump tests\n",
    "start_time = \"2024-01-01T00:00:00\"\n",
    "\n",
    "# End time to find out executions of bump tests\n",
    "end_time = \"2024-01-10T00:00:00\"\n",
    "\n",
    "# List of force-actuators. If empty, look for them all\n",
    "actuators = []"
   ]
  },
  {
   "cell_type": "code",
   "execution_count": null,
   "id": "f00cade8-18f4-4670-a6c6-68d92aab4697",
   "metadata": {},
   "outputs": [],
   "source": [
    "# Create EFD Client\n",
    "client = makeEfdClient()\n",
    "\n",
    "# Initialize class to search for bump tests\n",
    "bump_test_times = BumpTestTimes(client)"
   ]
  },
  {
   "cell_type": "code",
   "execution_count": null,
   "id": "6a4d8a93-4342-4279-b9eb-807745254c5f",
   "metadata": {},
   "outputs": [],
   "source": []
  }
 ],
 "metadata": {
  "kernelspec": {
   "display_name": "LSST",
   "language": "python",
   "name": "lsst"
  },
  "language_info": {
   "codemirror_mode": {
    "name": "ipython",
    "version": 3
   },
   "file_extension": ".py",
   "mimetype": "text/x-python",
   "name": "python",
   "nbconvert_exporter": "python",
   "pygments_lexer": "ipython3",
   "version": "3.11.4"
  }
 },
 "nbformat": 4,
 "nbformat_minor": 5
}
