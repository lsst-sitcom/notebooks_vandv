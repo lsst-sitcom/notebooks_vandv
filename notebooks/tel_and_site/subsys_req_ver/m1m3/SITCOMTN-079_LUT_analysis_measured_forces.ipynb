{
 "cells": [
  {
   "cell_type": "markdown",
   "id": "3a8f0152-204e-47c0-9ab8-566fc6ab66d3",
   "metadata": {},
   "source": [
    "# M1M3 LUT Verification\n",
    "## Analysis Measured Forces vs LUT (no force balance!)\n",
    "\n",
    "This notebook plots the LUT actuator forces in the M1M3 mirror and LUT vs measured forces.\n",
    "\n",
    "We need to verify that M1M3 is applying the correct force balances in different stages of the tests. Part of this verification includes comparing the calculated elevation forces from the Elevation Look-Up Tables with the measured applied forces.  Remember that comparing this values with the applied forces only if the balance forces are turned off.   \n",
    "\n",
    "## Notebook Setup\n",
    "\n",
    "Setup input variables, import extensions and packages."
   ]
  },
  {
   "cell_type": "code",
   "execution_count": null,
   "id": "b4882f72-6df7-45af-ab4d-8026eb8e1161",
   "metadata": {
    "tags": []
   },
   "outputs": [],
   "source": [
    "elevation_angle = 45."
   ]
  },
  {
   "cell_type": "code",
   "execution_count": null,
   "id": "4cc3e86e-c148-4ac4-8a28-c5b2f4acf7e8",
   "metadata": {
    "tags": []
   },
   "outputs": [],
   "source": [
    "%matplotlib inline\n",
    "%load_ext autoreload\n",
    "%autoreload 2\n",
    "import warnings\n",
    "warnings.filterwarnings('ignore')\n",
    "\n",
    "from astropy.time import Time, TimeDelta\n",
    "import asyncio\n",
    "import glob\n",
    "import os\n",
    "import shlex\n",
    "import subprocess\n",
    "import sys\n",
    "\n",
    "from datetime import datetime\n",
    "import matplotlib.pyplot as plt\n",
    "from matplotlib.colors import LightSource\n",
    "import numpy as np\n",
    "import pandas as pd\n",
    "from pathlib import Path\n",
    "\n",
    "from lsst_efd_client import EfdClient\n",
    "from lsst.ts.idl.enums import MTM1M3\n",
    "from lsst.ts.xml.tables.m1m3 import FATable\n",
    "from lsst.sitcom import vandv"
   ]
  },
  {
   "cell_type": "markdown",
   "id": "b8a1c57b-af99-4646-91fd-a4a57663e544",
   "metadata": {},
   "source": [
    "### What data can we retrieve from EFD?"
   ]
  },
  {
   "cell_type": "code",
   "execution_count": null,
   "id": "2156c53c-c32e-4eda-89e4-9547416fad32",
   "metadata": {
    "tags": []
   },
   "outputs": [],
   "source": [
    "client = EfdClient('usdf_efd')"
   ]
  },
  {
   "cell_type": "markdown",
   "id": "e8bc34f1-97c7-43b8-9e1a-d41a42dbef99",
   "metadata": {},
   "source": [
    "## Calculate Elevation Forces "
   ]
  },
  {
   "cell_type": "code",
   "execution_count": null,
   "id": "9b6d6f4f-4366-4699-87f8-855dca11f241",
   "metadata": {
    "tags": []
   },
   "outputs": [],
   "source": [
    "ids = np.array([fa.actuator_id for fa in FATable])\n",
    "\n",
    "# Create a Series emulating data format from the EFD\n",
    "lut_elevation_x_forces = pd.Series(\n",
    "    data=vandv.m1m3.lut_elevation_xforces(elevation_angle), \n",
    "    index=[f\"xForces{i}\" for i in range(ids.size)],\n",
    ")\n",
    "\n",
    "lut_elevation_y_forces = pd.Series(\n",
    "    data=vandv.m1m3.lut_elevation_yforces(elevation_angle), \n",
    "    index=[f\"yForces{i}\" for i in range(ids.size)],\n",
    ")\n",
    "\n",
    "lut_elevation_z_forces = pd.Series(\n",
    "    data=vandv.m1m3.lut_elevation_zforces(elevation_angle), \n",
    "    index=[f\"zForces{i}\" for i in range(ids.size)],\n",
    ")"
   ]
  },
  {
   "cell_type": "markdown",
   "id": "1daf82d8-db3b-4c43-aabc-4879b7d91b33",
   "metadata": {},
   "source": [
    "The LUT Elevation X forces should be all zero. "
   ]
  },
  {
   "cell_type": "markdown",
   "id": "d3b85a79-cdff-4bd4-a593-4a7b4288af4c",
   "metadata": {},
   "source": [
    "## Display Elevation Forces\n",
    "\n",
    "Here we just plot the LUT forces in each of the actuators at elevation 45.0 deg. Nothing else! No comparison with the applied forces at all."
   ]
  },
  {
   "cell_type": "code",
   "execution_count": null,
   "id": "b9e9787b-6672-49bc-ad11-7e35b7ff9e9e",
   "metadata": {
    "tags": []
   },
   "outputs": [],
   "source": [
    "%matplotlib inline\n",
    "fig, (ax1, ax2) = plt.subplots(\n",
    "    num=\"Elevation Forces from Look-Up Table\",\n",
    "    nrows=1,\n",
    "    ncols = 2,\n",
    "    figsize=(12, 6),\n",
    "    dpi=90)\n",
    "\n",
    "fig.suptitle(f'LUT Forces at elevation {elevation_angle}')\n",
    "\n",
    "ax1 = vandv.m1m3.snapshot_forces_fa_map(ax1, lut_elevation_y_forces, prefix=\"yForces\", size=200)\n",
    "ax1.set_title('Y forces')\n",
    "\n",
    "ax2 = vandv.m1m3.snapshot_forces_fa_map(ax2, lut_elevation_z_forces, prefix=\"zForces\", size=200)\n",
    "ax2.set_title('Z forces')\n",
    "\n",
    "plt.tight_layout()\n",
    "plt.show()"
   ]
  },
  {
   "cell_type": "markdown",
   "id": "182214c6-4dca-4475-8862-b451cd5ee62b",
   "metadata": {},
   "source": [
    "## Comparison between LUT and measured applied forces\n",
    "\n",
    "#### Retrieve data from EFD"
   ]
  },
  {
   "cell_type": "code",
   "execution_count": null,
   "id": "a48b991b-33ba-4f44-8d83-8c275e6dca03",
   "metadata": {
    "tags": []
   },
   "outputs": [],
   "source": [
    "start = Time('2023-05-30 10:15:0Z', scale='utc')\n",
    "end = Time('2023-05-30 11:30:0Z', scale='utc') \n",
    "two_cycles = '2023-05-30 10:15:00Z'"
   ]
  },
  {
   "cell_type": "code",
   "execution_count": null,
   "id": "33382472-15e0-402c-9bba-788d9598a085",
   "metadata": {
    "tags": []
   },
   "outputs": [],
   "source": [
    "xForce = [str(\"\".join((\"xForce\",str(i)))) for i in range(156)]\n",
    "yForce = [str(\"\".join((\"yForce\",str(i)))) for i in range(156)]\n",
    "zForce = [str(\"\".join((\"zForce\",str(i)))) for i in range(156)]\n",
    "\n",
    "df_all_x_forces = await client.select_time_series(\n",
    "    \"lsst.sal.MTM1M3.forceActuatorData\", \n",
    "    xForce, \n",
    "    start,\n",
    "    end\n",
    ")\n",
    "\n",
    "df_all_y_forces = await client.select_time_series(\n",
    "    \"lsst.sal.MTM1M3.forceActuatorData\", \n",
    "    yForce, \n",
    "    start,\n",
    "    end\n",
    ")\n",
    "\n",
    "df_all_z_forces = await client.select_time_series(\n",
    "    \"lsst.sal.MTM1M3.forceActuatorData\", \n",
    "    zForce, \n",
    "    start,\n",
    "    end\n",
    ")"
   ]
  },
  {
   "cell_type": "code",
   "execution_count": null,
   "id": "31ff9688-eeb8-4357-a978-baa0f9e31ce2",
   "metadata": {
    "tags": []
   },
   "outputs": [],
   "source": [
    "df_all_forces = pd.concat([df_all_x_forces.dropna(axis = 1), df_all_y_forces.dropna(axis = 1), df_all_z_forces.dropna(axis = 1)])\n",
    "forces_resampled = df_all_forces.resample('1T').mean()"
   ]
  },
  {
   "cell_type": "code",
   "execution_count": null,
   "id": "4d8157d8-165b-4939-a113-12cd058c6e84",
   "metadata": {
    "tags": []
   },
   "outputs": [],
   "source": [
    "df_static_x_forces = await client.select_time_series(\n",
    "    \"lsst.sal.MTM1M3.forceActuatorData\", \n",
    "    xForce, \n",
    "    start,\n",
    "    end\n",
    ")\n",
    "\n",
    "df_static_y_forces = await client.select_time_series(\n",
    "    \"lsst.sal.MTM1M3.forceActuatorData\", \n",
    "    yForce, \n",
    "    start,\n",
    "    end\n",
    ")\n",
    "\n",
    "df_static_z_forces = await client.select_time_series(\n",
    "    \"lsst.sal.MTM1M3.forceActuatorData\", \n",
    "    zForce, \n",
    "    start,\n",
    "    end\n",
    ")"
   ]
  },
  {
   "cell_type": "code",
   "execution_count": null,
   "id": "f5cf46b0-d41b-42ae-b4fb-952a28cd4fe5",
   "metadata": {
    "tags": []
   },
   "outputs": [],
   "source": [
    "df_all_static_forces = pd.concat([df_static_x_forces.dropna(axis = 1), df_static_y_forces.dropna(axis = 1), df_static_z_forces.dropna(axis = 1)])\n",
    "static_resampled = df_all_static_forces.resample('1T').mean()"
   ]
  },
  {
   "cell_type": "code",
   "execution_count": null,
   "id": "cca70b42-b022-4f29-af4d-6b7244e8b0cd",
   "metadata": {
    "tags": []
   },
   "outputs": [],
   "source": [
    "# Retrieve detailed state from system\n",
    "df_state = await client.select_time_series(\n",
    "    \"lsst.sal.MTM1M3.logevent_detailedState\", \n",
    "    \"*\", \n",
    "    start,\n",
    "    end, \n",
    ")\n",
    "print(len(df_state))\n",
    "df_state[\"detailedStateName\"] = \\\n",
    "    df_state[\"detailedState\"].map(lambda x: MTM1M3.DetailedState(x).name)\n",
    "\n",
    "df_state = df_state.set_index(\"private_rcvStamp\")\n",
    "df_state.index = pd.to_datetime(df_state.index, unit=\"s\")"
   ]
  },
  {
   "cell_type": "code",
   "execution_count": null,
   "id": "064a0b3b-fb8c-4c1b-9689-41b04bb8ff0f",
   "metadata": {
    "tags": []
   },
   "outputs": [],
   "source": [
    "# Retrieve elevations\n",
    "elevations = await client.select_time_series(\n",
    "    'lsst.sal.MTMount.elevation',\n",
    "    ['actualPosition', 'timestamp'],  \n",
    "    start, \n",
    "    end,\n",
    ")  \n",
    "elevations = elevations['actualPosition'].resample('1T').mean()\n"
   ]
  },
  {
   "cell_type": "markdown",
   "id": "bc6d35ef-a7d7-46fc-8b2d-3e5d43024fe1",
   "metadata": {},
   "source": [
    "#### Generate data when actuators were Active"
   ]
  },
  {
   "cell_type": "code",
   "execution_count": null,
   "id": "621ee78e-73ee-4d7a-bf79-0fab440c04e0",
   "metadata": {
    "tags": []
   },
   "outputs": [],
   "source": [
    "when_parked = df_state[df_state[\"detailedStateName\"] == \"PARKED\"].index.tz_localize('UTC').tz_convert(forces_resampled.index.tz)\n",
    "when_raising = df_state[df_state[\"detailedStateName\"] == \"RAISING\"].index.tz_localize('UTC').tz_convert(forces_resampled.index.tz)\n",
    "when_active = df_state[df_state[\"detailedStateName\"] == \"ACTIVE\"].index.tz_localize('UTC').tz_convert(forces_resampled.index.tz)\n",
    "\n",
    "forces_parked = forces_resampled.loc[(forces_resampled.index >= when_parked[0]) & (forces_resampled.index <= when_raising[0])]\n",
    "el_parked = elevations.loc[(elevations.index >= when_parked[0]) & (elevations.index <= when_raising[0])]\n",
    "forces_raising = forces_resampled.loc[(forces_resampled.index >= when_raising[0]) & (forces_resampled.index <= when_active[0])]\n",
    "el_raising = elevations.loc[(elevations.index >= when_raising[0]) & (elevations.index <= when_active[0])]\n",
    "forces_active = forces_resampled.loc[forces_resampled.index >= when_active[0]]\n",
    "el_active = elevations.loc[elevations.index >= when_active[0]]\n",
    "\n",
    "when_2cycles = pd.to_datetime(two_cycles, utc=True)\n",
    "forces_2cycles = forces_resampled.loc[forces_resampled.index >= when_2cycles]\n",
    "el_2cycles = elevations.loc[elevations.index >= when_2cycles]"
   ]
  },
  {
   "cell_type": "markdown",
   "id": "654a2170-102f-476a-8161-b6bfa28252f8",
   "metadata": {},
   "source": [
    "#### Plot elevation and single actuator force time plot"
   ]
  },
  {
   "cell_type": "code",
   "execution_count": null,
   "id": "b26c3bfd-ecd7-47aa-b482-35466e61615b",
   "metadata": {
    "tags": []
   },
   "outputs": [],
   "source": [
    "fig = plt.figure(figsize = (8,5))\n",
    "elevations.plot()\n",
    "\n",
    "plt.xlabel('Timestamp [UTC]')\n",
    "plt.ylabel('Elevation (deg)')\n",
    "l1 = plt.axvline(when_parked[0], lw=\"0.5\", c=\"k\")\n",
    "l2 = plt.axvline(when_raising[0], lw=\"0.5\", c=\"k\", ls=\"--\")\n",
    "l3 = plt.axvline(when_active[0], lw=\"0.5\", c=\"C1\", ls=\"-\")\n",
    "plt.grid(\":\", lw=0.1)\n",
    "\n",
    "fig.legend(\n",
    "    [l1, l2, l3], \n",
    "    [\"PARKED\", \"RAISING\", \"ACTIVE\"], \n",
    "    ncols=4, \n",
    "    loc=\"upper right\", \n",
    "    bbox_to_anchor=(0.75, 0.97)\n",
    ")"
   ]
  },
  {
   "cell_type": "markdown",
   "id": "f0b7c10f-56b7-4833-a564-2e13ef37c916",
   "metadata": {},
   "source": [
    "These plots below correspond to the zForces for the actuator zForce0 at different elevations from 9:30 to 11:30"
   ]
  },
  {
   "cell_type": "code",
   "execution_count": null,
   "id": "3437ad3e-fd44-4a22-ac01-ce38cf31bf18",
   "metadata": {
    "tags": []
   },
   "outputs": [],
   "source": [
    "fig = plt.figure(figsize = (13,5))\n",
    "\n",
    "# Plot forces vs time for zForce[0]\n",
    "plt.subplot(1,2,1)\n",
    "plt.title('zForces0')\n",
    "forces_active['zForce0'].plot(marker='.')\n",
    "forces_parked['zForce0'].plot(marker='.', linestyle='--', color = 'gray')\n",
    "forces_raising['zForce0'].plot(marker='.', linestyle='--', color = 'gray')\n",
    "\n",
    "# Customize plot\n",
    "plt.xlabel('Timestamp [UTC]')\n",
    "plt.ylabel('Applied Force (N)')\n",
    "plt.grid(\":\", lw=0.1)\n",
    "# Add detailedState events\n",
    "l1 = plt.axvline(when_parked[0], lw=\"0.5\", c=\"k\")\n",
    "l2 = plt.axvline(when_raising[0], lw=\"0.5\", c=\"k\", ls=\"--\")\n",
    "l3 = plt.axvline(when_active[0], lw=\"0.5\", c=\"C1\", ls=\"-\")\n",
    "fig.legend(\n",
    "    [l1, l2, l3], \n",
    "    [\"PARKED\", \"RAISING\", \"ACTIVE\"], \n",
    "    ncols=4, \n",
    "    loc=\"upper right\", \n",
    "    bbox_to_anchor=(0.65, 1.0)\n",
    ")\n",
    "\n",
    "# Plot force vs elevation\n",
    "plt.subplot(1,2,2)\n",
    "plt.title('Force vs elevation')\n",
    "plt.plot(el_active, forces_active['zForce0'], '.-', label = 'active')\n",
    "plt.plot(el_parked, forces_parked['zForce0'], '.--', color='gray', label = 'not active')\n",
    "plt.plot(el_raising, forces_raising['zForce0'], '.--', color='gray')\n",
    "\n",
    "# Customize plot\n",
    "plt.xlabel('Elevation (deg)')\n",
    "plt.ylabel('Applied Force (N)')\n",
    "plt.grid(\":\", lw=0.1)\n",
    "plt.legend(\n",
    "    bbox_to_anchor=(1.02, 1)\n",
    ")"
   ]
  },
  {
   "cell_type": "markdown",
   "id": "9c3e30b8-57bf-4681-b5f1-fc7af1c8a95f",
   "metadata": {},
   "source": [
    "## Plotting LUT and measured Actuator forces as a function of elevation\n",
    "\n",
    "Given the scale it is not possible to see how much do they differ, so we plot below the error as well. Keep scrolling!\n",
    "\n",
    "In z axis one cannot appreciate it, but we go over the same elevation twice, so x axis plots show a cycle!"
   ]
  },
  {
   "cell_type": "code",
   "execution_count": null,
   "id": "c87e861b-b038-406b-87af-657de003cca1",
   "metadata": {
    "tags": []
   },
   "outputs": [],
   "source": [
    "# Get LUT elevation forces\n",
    "elevations_lut = np.linspace(0, 90, 90)\n",
    "lut_xforces = vandv.m1m3.lut_elevation_xforces(elevations_lut, as_array=True)\n",
    "lut_yforces = vandv.m1m3.lut_elevation_yforces(elevations_lut, as_array=True)\n",
    "lut_zforces = vandv.m1m3.lut_elevation_zforces(elevations_lut, as_array=True)\n",
    "labels_z = [f\"zForce{i}\" for i in range(ids.size)]\n",
    "labels_y = [f\"yForce{i}\" for i in range(ids.size)]\n",
    "labels_x = [f\"xForce{i}\" for i in range(ids.size)]\n"
   ]
  },
  {
   "cell_type": "markdown",
   "id": "5cd135f1-4218-4646-a0aa-31c9e6f97d46",
   "metadata": {},
   "source": [
    "#### Z axis"
   ]
  },
  {
   "cell_type": "code",
   "execution_count": null,
   "id": "b6768d83-e29f-4adc-b398-f645eed2a5d1",
   "metadata": {
    "tags": []
   },
   "outputs": [],
   "source": [
    "fig = plt.figure(figsize = (15,120))\n",
    "for idx in range(156):\n",
    "    plt.subplot(40,4,idx + 1)\n",
    "    plt.plot(elevations_lut, lut_zforces[idx], '-', label='LUT')\n",
    "    plt.plot(el_active, forces_active[f\"zForce{idx}\"], '-', label='Actuators')\n",
    "    plt.title(labels_z[idx])\n",
    "    plt.ylabel('Force (N)')\n",
    "    plt.xlabel('Elevation (deg)')\n",
    "    plt.legend()\n",
    "plt.tight_layout()\n"
   ]
  },
  {
   "cell_type": "markdown",
   "id": "2fe6fe91-4edf-46e0-9127-cb931b6db04e",
   "metadata": {},
   "source": [
    "#### Y axis\n",
    "\n",
    "At the time of the making of these plots, it is unclear to me if the data that I am retrieveing from the LUT is correct for y axis. It seems that for some actuators the lut is zero when it shouldn't be. "
   ]
  },
  {
   "cell_type": "code",
   "execution_count": null,
   "id": "70bcab09-c6cb-4a79-adc5-1596c9e0d3bf",
   "metadata": {
    "tags": []
   },
   "outputs": [],
   "source": [
    "fig = plt.figure(figsize = (15,75))\n",
    "for idx in range(100):\n",
    "    plt.subplot(25,4,idx + 1)\n",
    "    plt.plot(elevations_lut, lut_yforces[idx], '-', label='LUT')\n",
    "    plt.plot(el_active, forces_active[f\"yForce{idx}\"], '-', label='Actuators')\n",
    "    plt.title(labels_y[idx])\n",
    "    plt.ylabel('Force (N)')\n",
    "    plt.xlabel('Elevation (deg)')\n",
    "    plt.legend()\n",
    "plt.tight_layout()"
   ]
  },
  {
   "cell_type": "markdown",
   "id": "406e5734-6b49-4b3f-916d-2994be0f72e0",
   "metadata": {},
   "source": [
    "#### X axis\n",
    "\n",
    "Here we are always very close to zero, given the scale of the subplots."
   ]
  },
  {
   "cell_type": "code",
   "execution_count": null,
   "id": "77915bc2-cf15-45e5-8080-9a0ca5161986",
   "metadata": {
    "tags": []
   },
   "outputs": [],
   "source": [
    "fig = plt.figure(figsize = (15,16))\n",
    "for idx in range(12):\n",
    "    plt.subplot(5,4,idx + 1)\n",
    "    plt.plot(elevations_lut, lut_xforces[idx], '-', label='LUT')\n",
    "    plt.plot(el_active, forces_active[f\"xForce{idx}\"], '-', label='Actuators')\n",
    "    plt.title(labels_x[idx])\n",
    "    plt.ylabel('Force (N)')\n",
    "    plt.xlabel('Elevation (deg)')\n",
    "    plt.legend()\n",
    "plt.tight_layout()"
   ]
  },
  {
   "cell_type": "markdown",
   "id": "9ce9396f-f1c5-4ecd-99c4-a3eaab972457",
   "metadata": {},
   "source": [
    "### LUT - Actuator Force Error\n",
    "\n",
    "These plots show the difference for z, y and x axis actuator forces. It shows the differences from 10:15 UTC to 11:30 UTC, which corresponds to 90 -> 0 -> 90 deg."
   ]
  },
  {
   "cell_type": "code",
   "execution_count": null,
   "id": "bec81dca-ecfb-451e-8b26-338140fa5b18",
   "metadata": {
    "tags": []
   },
   "outputs": [],
   "source": [
    "lut_xforces = vandv.m1m3.lut_elevation_xforces(el_2cycles, as_array=True)\n",
    "lut_yforces = vandv.m1m3.lut_elevation_yforces(el_2cycles, as_array=True)\n",
    "lut_zforces = vandv.m1m3.lut_elevation_zforces(el_2cycles, as_array=True)\n",
    "\n",
    "plt.figure(figsize = (15,120))\n",
    "for idx in range(156):\n",
    "    plt.subplot(40,4,idx + 1)\n",
    "    plt.plot(el_2cycles, lut_zforces[idx] - forces_2cycles[f\"zForce{idx}\"], '-')\n",
    "    plt.title(labels_z[idx])\n",
    "    plt.ylabel('Force Difference (N)')\n",
    "    plt.xlabel('Elevation (deg)')\n",
    "    plt.grid(\":\", lw=0.1)\n",
    "plt.tight_layout()"
   ]
  },
  {
   "cell_type": "code",
   "execution_count": null,
   "id": "51578d3c-14c1-412c-988c-e36c9cfabf86",
   "metadata": {
    "tags": []
   },
   "outputs": [],
   "source": [
    "lut_yforces = vandv.m1m3.lut_elevation_yforces(el_2cycles, as_array=True)\n",
    "\n",
    "plt.figure(figsize = (15,75))\n",
    "for idx in range(100):\n",
    "    plt.subplot(25,4,idx + 1)\n",
    "    plt.plot(el_2cycles, lut_yforces[idx] - forces_2cycles[f\"yForce{idx}\"], '-')\n",
    "    plt.title(labels_y[idx])\n",
    "    plt.ylabel('Force Difference (N)')\n",
    "    plt.xlabel('Elevation (deg)')\n",
    "    plt.grid(\":\", lw=0.1)\n",
    "plt.tight_layout()"
   ]
  },
  {
   "cell_type": "code",
   "execution_count": null,
   "id": "af8ba5d1-d878-4895-8a7c-6d2292a286d4",
   "metadata": {
    "tags": []
   },
   "outputs": [],
   "source": [
    "lut_xforces = vandv.m1m3.lut_elevation_xforces(el_2cycles, as_array=True)\n",
    "\n",
    "plt.figure(figsize = (15,15))\n",
    "for idx in range(12):\n",
    "    plt.subplot(5,4,idx + 1)\n",
    "    plt.plot(el_2cycles, lut_xforces[idx] - forces_2cycles[f\"xForce{idx}\"], '-')\n",
    "    plt.title(labels_x[idx])\n",
    "    plt.ylabel('Force Difference (N)')\n",
    "    plt.xlabel('Elevation (deg)')\n",
    "    plt.grid(\":\", lw=0.1)\n",
    "plt.tight_layout()"
   ]
  },
  {
   "cell_type": "code",
   "execution_count": null,
   "id": "eed15051-de61-4bca-918f-ff2eb72b6ba5",
   "metadata": {},
   "outputs": [],
   "source": []
  }
 ],
 "metadata": {
  "kernelspec": {
   "display_name": "LSST",
   "language": "python",
   "name": "lsst"
  },
  "language_info": {
   "codemirror_mode": {
    "name": "ipython",
    "version": 3
   },
   "file_extension": ".py",
   "mimetype": "text/x-python",
   "name": "python",
   "nbconvert_exporter": "python",
   "pygments_lexer": "ipython3",
   "version": "3.11.7"
  }
 },
 "nbformat": 4,
 "nbformat_minor": 5
}
