{
 "cells": [
  {
   "cell_type": "markdown",
   "id": "3b3955de-fb8c-410a-a1c5-10c064d19e0b",
   "metadata": {},
   "source": [
    "# SITCOM-1089 - Strong Vibration Analysis\n",
    "\n",
    "[SITCOM-1089]: https://jira.lsstcorp.org/browse/SITCOM-1089"
   ]
  },
  {
   "cell_type": "code",
   "execution_count": null,
   "id": "39cc7127-349f-473c-b8b5-ba1d175c8e60",
   "metadata": {
    "tags": []
   },
   "outputs": [],
   "source": [
    "import sys, time, os, asyncio\n",
    "\n",
    "\n",
    "import matplotlib.pyplot as plt\n",
    "import numpy as np\n",
    "import pandas as pd\n",
    "\n",
    "from astropy.time import Time\n",
    "from matplotlib.ticker import FormatStrFormatter\n",
    "from scipy.signal import find_peaks\n",
    "from lsst.ts.xml.tables.m1m3 import HP_COUNT\n",
    "from lsst_efd_client import EfdClient\n",
    "\n",
    "from lsst.summit.utils.efdUtils import (\n",
    "    getEfdData,\n",
    ")\n",
    "\n",
    "%matplotlib inline\n",
    "%load_ext lab_black\n",
    "%load_ext autoreload\n",
    "%autoreload 2\n",
    "\n",
    "from lsst.sitcom.vandv.m1m3 import sitcom1089"
   ]
  },
  {
   "cell_type": "code",
   "execution_count": null,
   "id": "4b9464ea-888f-450a-be67-2ded3c335b32",
   "metadata": {
    "tags": []
   },
   "outputs": [],
   "source": [
    "el_limit_dict = {\n",
    "    \"max_velocity\": 5.25,\n",
    "    \"max_acceleration\": 5.25,\n",
    "    \"max_jerk\": 21,\n",
    "    \"design_velocity\": 3.5,\n",
    "    \"design_acceleration\": 3.5,\n",
    "    \"design_jerk\": 14,\n",
    "}"
   ]
  },
  {
   "cell_type": "code",
   "execution_count": null,
   "id": "c175e5fb-e307-4941-9389-1ded3565dbd5",
   "metadata": {
    "tags": []
   },
   "outputs": [],
   "source": [
    "begin_time = Time(\"2023-06-28 01:08:00\", format=\"iso\", scale=\"utc\")\n",
    "end_time = Time(\"2023-06-28 01:20:00\", format=\"iso\", scale=\"utc\")\n",
    "raised_begin = Time(\"2023-06-28 01:08:15\", format=\"iso\", scale=\"utc\")\n",
    "raised_end = Time(\"2023-06-28 01:11:55\", format=\"iso\", scale=\"utc\")\n",
    "lowering_end = Time(\"2023-06-28 01:15:15\", format=\"iso\", scale=\"utc\")\n",
    "down_end = Time(\"2023-06-28 01:20:00\", format=\"iso\", scale=\"utc\")\n",
    "\n",
    "time_dict = {}\n",
    "time_dict[\"total\"] = {\"begin\": begin_time, \"end\": end_time}\n",
    "time_dict[\"raised\"] = {\"begin\": begin_time, \"end\": raised_end}\n",
    "time_dict[\"lowering\"] = {\"begin\": raised_end, \"end\": lowering_end}\n",
    "time_dict[\"down\"] = {\"begin\": lowering_end, \"end\": end_time}\n",
    "\n",
    "\n",
    "MEASURED_FORCES_TOPICS = [f\"measuredForce{i}\" for i in range(HP_COUNT)]"
   ]
  },
  {
   "cell_type": "code",
   "execution_count": null,
   "id": "50f84237-d50c-455e-8a71-6812e153ffbb",
   "metadata": {
    "tags": []
   },
   "outputs": [],
   "source": [
    "client = EfdClient(\"idf_efd\")\n",
    "\n",
    "efd_dict = sitcom1089.get_efd_data(begin_time, end_time, client)"
   ]
  },
  {
   "cell_type": "markdown",
   "id": "969d0039-f86f-4c92-bca2-02da0910976d",
   "metadata": {},
   "source": [
    "# Plots organized as follows\n",
    "Telemetry\n",
    "1. TMA telemetry\n",
    "2. TMA telemetry Zoomed in\n",
    "3. TMA slew profile\n",
    "4. TMA slew profile zoomed in\n",
    "5. IMS position telemetry\n",
    "6. IMS rotation telemetry\n",
    "7. hardpoint measured force telemetry\n",
    "8. hardpoint measured force telemetry zoomed in\n",
    "\n",
    "PSDs\n",
    "1. TMA torque psd\n",
    "2. IMS position psd\n",
    "3. TODO: IMS rotaton\n",
    "4. Hardpoint psd\n"
   ]
  },
  {
   "cell_type": "markdown",
   "id": "8059432a-9494-4cc9-b9bd-db4acddd05e3",
   "metadata": {},
   "source": [
    "## Telemetry "
   ]
  },
  {
   "cell_type": "markdown",
   "id": "390d0e0b-e36a-4bca-8c44-65afbb83a6dd",
   "metadata": {
    "execution": {
     "iopub.execute_input": "2023-11-08T20:49:27.143633Z",
     "iopub.status.busy": "2023-11-08T20:49:27.143433Z",
     "iopub.status.idle": "2023-11-08T20:49:27.145856Z",
     "shell.execute_reply": "2023-11-08T20:49:27.145516Z",
     "shell.execute_reply.started": "2023-11-08T20:49:27.143617Z"
    },
    "tags": []
   },
   "source": [
    "#### 1. TMA telemetry"
   ]
  },
  {
   "cell_type": "code",
   "execution_count": null,
   "id": "ee4086e9-74e0-4c45-b650-7dc71ade2a0e",
   "metadata": {
    "tags": []
   },
   "outputs": [],
   "source": [
    "# TMA telemetry\n",
    "fig, axs = plt.subplots(2, dpi=125, figsize=(12, 3), sharex=True)\n",
    "for i, key in enumerate([\"actualTorque\", \"actualPosition\"]):\n",
    "    scale = 1\n",
    "    if key == \"actualTorque\":\n",
    "        scale = 1e3\n",
    "        axs[i].set_ylabel(key + \"\\n [kN]\")\n",
    "    elif key == \"actualPosition\":\n",
    "        scale = 1\n",
    "        axs[i].set_ylabel(key + \"\\n [deg]\")\n",
    "    else:\n",
    "        axs[i].set_ylabel(key)\n",
    "    vals = efd_dict[\"el\"][key] / scale\n",
    "    x, y = sitcom1089.resample_times(efd_dict[\"el\"][\"timestamp\"], vals, 0.02)\n",
    "    times = Time(x, format=\"unix_tai\", scale=\"utc\").datetime\n",
    "    axs[i].plot(\n",
    "        times,\n",
    "        y,\n",
    "        label=key,\n",
    "        lw=0.2,\n",
    "    )\n",
    "    axs[i].legend(ncol=3, loc=9)\n",
    "axs[i].set_xlabel(\"Time\")\n",
    "\n",
    "axs[0].set_title(\n",
    "    f\"TMA Elevation\\n{begin_time.iso[:10]} {begin_time.iso[11:19]}-{end_time.iso[11:19]}\"\n",
    ")\n",
    "axs[0].set_ylim(-500, 600)\n",
    "_ = axs[0].set_yticks(np.arange(-500, 750, 250))"
   ]
  },
  {
   "cell_type": "markdown",
   "id": "5f1da270-f323-41b9-b13a-80d6f907edcf",
   "metadata": {},
   "source": [
    "#### 2. TMA telemetry zoom"
   ]
  },
  {
   "cell_type": "code",
   "execution_count": null,
   "id": "e696d822-25da-404e-93ef-742aea3afce1",
   "metadata": {
    "tags": []
   },
   "outputs": [],
   "source": [
    "# TMA telemetry zoom\n",
    "fig, axs = plt.subplots(3, dpi=125, figsize=(12, 3), sharex=True)\n",
    "for i, key in enumerate([\"actualTorque\", \"actualPosition\", \"actualVelocity\"]):\n",
    "    scale = 1\n",
    "    if key == \"actualTorque\":\n",
    "        scale = 1e3\n",
    "        axs[i].set_ylabel(key + \"\\n [kN]\")\n",
    "    elif key == \"actualPosition\":\n",
    "        scale = 1\n",
    "        axs[i].set_ylabel(key + \"\\n [deg]\")\n",
    "\n",
    "    elif key == \"actualVelocity\":\n",
    "        scale = 1\n",
    "        axs[i].set_ylabel(key + \"\\n [deg/s]\")\n",
    "    else:\n",
    "        axs[i].set_ylabel(key)\n",
    "    vals = efd_dict[\"el\"][key] / scale\n",
    "    x, y = sitcom1089.resample_times(efd_dict[\"el\"][\"timestamp\"], vals, 0.02)\n",
    "    times = Time(x, format=\"unix_tai\", scale=\"utc\").datetime\n",
    "    mintime = 3000\n",
    "    maxtime = 3150\n",
    "    sel = (times > times[mintime]) & (times < times[maxtime])\n",
    "\n",
    "    axs[i].scatter(\n",
    "        times[sel],\n",
    "        y[sel],\n",
    "        label=key,\n",
    "        lw=0.3,\n",
    "    )\n",
    "    axs[i].legend(ncol=3, loc=9)\n",
    "\n",
    "    if key == \"actualPosition\":\n",
    "        maxpos = y[sel].max()\n",
    "        minpos = y[sel].min()\n",
    "        axs[i].set_ylim(minpos - 0.025, maxpos + 0.025)\n",
    "        _ = axs[i].set_yticks(\n",
    "            np.arange(np.round(minpos - 0.025, 3), maxpos + 0.025, 0.025)\n",
    "        )\n",
    "axs[i].set_xlabel(\"Time\")\n",
    "\n",
    "axs[0].set_title(\n",
    "    f\"TMA Elevation Zoom\\n{begin_time.iso[:10]} {begin_time.iso[11:19]}-{end_time.iso[11:19]}\"\n",
    ")\n",
    "axs[0].set_ylim(-500, 600)\n",
    "axs[0].set_yticks(np.arange(-500, 750, 250))\n",
    "\n",
    "\n",
    "axs[1].set_xlim(times[mintime], times[maxtime])"
   ]
  },
  {
   "cell_type": "markdown",
   "id": "97f043e9-199c-4eed-8540-8acbb4938b46",
   "metadata": {},
   "source": [
    "### 3 TMA slew profile"
   ]
  },
  {
   "cell_type": "code",
   "execution_count": null,
   "id": "2192fe48-9388-4c57-b07d-78697476604c",
   "metadata": {
    "tags": []
   },
   "outputs": [],
   "source": [
    "# TMA Slew Profile\n",
    "kernel_size = 1\n",
    "kernel = np.ones(kernel_size) / kernel_size\n",
    "vals = efd_dict[\"el\"][\"actualPosition\"]\n",
    "x, y_pos = sitcom1089.resample_times(efd_dict[\"el\"][\"timestamp\"], vals, 0.02)\n",
    "vals = efd_dict[\"el\"][\"actualVelocity\"]\n",
    "x, y_vel = sitcom1089.resample_times(efd_dict[\"el\"][\"timestamp\"], vals, 0.02)\n",
    "splines = sitcom1089.get_univariate_splines(\n",
    "    x, y_pos, y_vel, x, kernel=kernel, smoothingFactor=0\n",
    ")\n",
    "fig, axs = plt.subplots(4, 1, dpi=175, figsize=(12, 6), sharex=True)\n",
    "ax = axs[0]\n",
    "t_start = efd_dict[\"el\"][\"timestamp\"].min()\n",
    "ax.set_title(\n",
    "    f\"TMA dynamics\\n{begin_time.iso[:10]} {begin_time.iso[11:19]}-{end_time.iso[11:19]}\"\n",
    ")\n",
    "ax.scatter(\n",
    "    efd_dict[\"el\"][\"timestamp\"] - t_start,\n",
    "    efd_dict[\"el\"][\"actualPosition\"],\n",
    "    marker=\".\",\n",
    "    s=1,\n",
    "    label=\"position data\",\n",
    ")\n",
    "ax.set_ylabel(\"Position\")\n",
    "ax.legend()\n",
    "ax = axs[1]\n",
    "ax.scatter(\n",
    "    efd_dict[\"el\"][\"timestamp\"] - t_start,\n",
    "    efd_dict[\"el\"][\"actualVelocity\"],\n",
    "    marker=\".\",\n",
    "    s=10,\n",
    "    label=\"velocity data\",\n",
    ")\n",
    "ax.set_ylabel(\"Velocity\")\n",
    "# ax.scatter(x, y_vel, marker=\"X\", s=2)\n",
    "ax.axhline(el_limit_dict[\"max_velocity\"], c=\"k\", ls=\"dashed\")\n",
    "ax.axhline(-1 * el_limit_dict[\"max_velocity\"], c=\"k\", ls=\"dashed\", label=\"limits\")\n",
    "ax.plot(x - t_start, splines[1], c=\"orange\", label=\"velocity spline\")\n",
    "ax.legend()\n",
    "\n",
    "ax = axs[2]\n",
    "\n",
    "ax.set_ylabel(\"Acceleration\")\n",
    "# ax.scatter(x, y_vel, marker=\"X\", s=2)\n",
    "ax.axhline(el_limit_dict[\"max_acceleration\"], c=\"k\", ls=\"dashed\")\n",
    "ax.axhline(-1 * el_limit_dict[\"max_acceleration\"], c=\"k\", ls=\"dashed\")\n",
    "ax.plot(x - t_start, splines[2], c=\"orange\", label=\"acceleration spline\")\n",
    "ax.legend()\n",
    "# ax.plot(x, splines[1], c=\"orange\", label=\"acceleration\")\n",
    "\n",
    "ax = axs[3]\n",
    "ax.set_ylabel(\"Jerk\")\n",
    "ax.axhline(el_limit_dict[\"max_jerk\"], c=\"k\", ls=\"dashed\")\n",
    "ax.axhline(-1 * el_limit_dict[\"max_jerk\"], c=\"k\", ls=\"dashed\")\n",
    "ax.plot(x - t_start, splines[3], c=\"orange\", zorder=1, lw=0.5, label=\"jerk spline\")\n",
    "ax.legend()\n",
    "ax.set_xlabel(\"Time since start [s]\")\n",
    "plt.subplots_adjust(hspace=0)"
   ]
  },
  {
   "cell_type": "markdown",
   "id": "2c2515b4-c349-4fd4-8c8a-271cca1d4b54",
   "metadata": {},
   "source": [
    "### 4. TMA slew profile zoom"
   ]
  },
  {
   "cell_type": "code",
   "execution_count": null,
   "id": "603697e8-73e6-41bc-b55e-78c19247997a",
   "metadata": {
    "tags": []
   },
   "outputs": [],
   "source": [
    "# TMA Slew Profile Zoom\n",
    "kernel_size = 1\n",
    "kernel = np.ones(kernel_size) / kernel_size\n",
    "vals = efd_dict[\"el\"][\"actualPosition\"]\n",
    "x, y_pos = sitcom1089.resample_times(efd_dict[\"el\"][\"timestamp\"], vals, 0.02)\n",
    "vals = efd_dict[\"el\"][\"actualVelocity\"]\n",
    "x, y_vel = sitcom1089.resample_times(efd_dict[\"el\"][\"timestamp\"], vals, 0.02)\n",
    "\n",
    "\n",
    "t_start = efd_dict[\"el\"][\"timestamp\"].min()\n",
    "\n",
    "mintime = 3150\n",
    "maxtime = 3470\n",
    "sel = (x - t_start > 250) & (x - t_start < 300)\n",
    "sel_dat = (efd_dict[\"el\"][\"timestamp\"] - t_start > 250) & (\n",
    "    efd_dict[\"el\"][\"timestamp\"] - t_start < 300\n",
    ")\n",
    "splines = sitcom1089.get_univariate_splines(\n",
    "    x[sel], y_pos[sel], y_vel[sel], x[sel], kernel=kernel, smoothingFactor=0\n",
    ")\n",
    "fig, axs = plt.subplots(4, 1, dpi=175, figsize=(12, 6), sharex=True)\n",
    "ax = axs[0]\n",
    "\n",
    "ax.set_title(\n",
    "    f\"TMA dynamics\\n{begin_time.iso[:10]} {begin_time.iso[11:19]}-{end_time.iso[11:19]}\"\n",
    ")\n",
    "ax.scatter(\n",
    "    efd_dict[\"el\"][\"timestamp\"][sel_dat] - t_start,\n",
    "    efd_dict[\"el\"][\"actualPosition\"][sel_dat],\n",
    "    marker=\".\",\n",
    "    s=1,\n",
    "    label=\"position data\",\n",
    ")\n",
    "ax.set_ylabel(\"Position\")\n",
    "ax.legend()\n",
    "ax = axs[1]\n",
    "ax.scatter(\n",
    "    efd_dict[\"el\"][\"timestamp\"][sel_dat] - t_start,\n",
    "    efd_dict[\"el\"][\"actualVelocity\"][sel_dat],\n",
    "    marker=\".\",\n",
    "    s=10,\n",
    "    label=\"velocity data\",\n",
    "    zorder=4,\n",
    ")\n",
    "ax.set_ylabel(\"Velocity\")\n",
    "# ax.axhline(el_limit_dict[\"max_velocity\"], c=\"k\", ls=\"dashed\")\n",
    "# ax.axhline(-1 * el_limit_dict[\"max_velocity\"], c=\"k\", ls=\"dashed\", label=\"limits\")\n",
    "ax.plot(x[sel] - t_start, splines[1], c=\"orange\", label=\"velocity spline\")\n",
    "ax.legend()\n",
    "\n",
    "ax = axs[2]\n",
    "\n",
    "ax.set_ylabel(\"Acceleration\")\n",
    "# ax.scatter(x[sel], y_vel[sel], marker=\"X\", s=2)\n",
    "ax.axhline(el_limit_dict[\"max_acceleration\"], c=\"k\", ls=\"dashed\")\n",
    "ax.axhline(-1 * el_limit_dict[\"max_acceleration\"], c=\"k\", ls=\"dashed\", label=\"limits\")\n",
    "ax.plot(x[sel] - t_start, splines[2], c=\"orange\", label=\"acceleration spline\")\n",
    "ax.legend()\n",
    "# ax.plot(x[sel], splines[1], c=\"orange\", label=\"acceleration\")\n",
    "\n",
    "ax = axs[3]\n",
    "ax.set_ylabel(\"Jerk\")\n",
    "ax.axhline(el_limit_dict[\"max_jerk\"], c=\"k\", ls=\"dashed\")\n",
    "ax.axhline(-1 * el_limit_dict[\"max_jerk\"], c=\"k\", ls=\"dashed\")\n",
    "ax.plot(x[sel] - t_start, splines[3], c=\"orange\", zorder=1, lw=0.5, label=\"jerk spline\")\n",
    "ax.legend()\n",
    "ax.set_xlabel(\"Time since start [s]\")\n",
    "plt.subplots_adjust(hspace=0)"
   ]
  },
  {
   "cell_type": "markdown",
   "id": "c5c67654-dcbf-4c89-a87b-11968c8f5461",
   "metadata": {},
   "source": [
    "### 5. IMS position telemetry"
   ]
  },
  {
   "cell_type": "code",
   "execution_count": null,
   "id": "74f0176d-c1fb-44a5-9106-d858d5171f1a",
   "metadata": {
    "tags": []
   },
   "outputs": [],
   "source": [
    "# IMS position telemetry\n",
    "times = Time(efd_dict[\"ims\"][\"timestamp\"], format=\"unix_tai\", scale=\"utc\").datetime\n",
    "for key in [\"xPosition\", \"yPosition\", \"zPosition\"]:\n",
    "    plt.plot(\n",
    "        times, (efd_dict[\"ims\"][key] - efd_dict[\"ims\"][key].mean()) * 1e3, label=key\n",
    "    )\n",
    "\n",
    "plt.axvline(\n",
    "    time_dict[\"raised\"][\"end\"].datetime, label=\"begin lowering\", c=\"k\", ls=\"dashdot\"\n",
    ")\n",
    "plt.axvline(\n",
    "    time_dict[\"lowering\"][\"end\"].datetime, label=\"end lowering\", c=\"k\", ls=\"dotted\"\n",
    ")\n",
    "plt.legend()\n",
    "plt.xlabel(\"Time\")\n",
    "plt.ylabel(\"$\\Delta$ postion [mm]\")\n",
    "plt.title(\n",
    "    f\"IMS Position\\n{begin_time.iso[:10]} {begin_time.iso[11:19]}-{end_time.iso[11:19]}\"\n",
    ")"
   ]
  },
  {
   "cell_type": "markdown",
   "id": "db49c495-8d44-4b7a-a7d1-ab2bd3fe16c7",
   "metadata": {
    "execution": {
     "iopub.execute_input": "2023-11-08T20:53:18.006170Z",
     "iopub.status.busy": "2023-11-08T20:53:18.005996Z",
     "iopub.status.idle": "2023-11-08T20:53:18.046154Z",
     "shell.execute_reply": "2023-11-08T20:53:18.045606Z",
     "shell.execute_reply.started": "2023-11-08T20:53:18.006158Z"
    },
    "tags": []
   },
   "source": [
    "### 6. IMS rotation telemetry"
   ]
  },
  {
   "cell_type": "code",
   "execution_count": null,
   "id": "793fa644-7a38-4e0b-89ab-5c43f827ed46",
   "metadata": {
    "tags": []
   },
   "outputs": [],
   "source": [
    "# IMS rotation telemetry\n",
    "times = Time(efd_dict[\"ims\"][\"timestamp\"], format=\"unix_tai\", scale=\"utc\").datetime\n",
    "for key in [\"xRotation\", \"yRotation\", \"zRotation\"]:\n",
    "    plt.plot(\n",
    "        times, np.rad2deg(efd_dict[\"ims\"][key] - efd_dict[\"ims\"][key].mean()), label=key\n",
    "    )\n",
    "\n",
    "plt.axvline(\n",
    "    time_dict[\"raised\"][\"end\"].datetime, label=\"begin lowering\", c=\"k\", ls=\"dashdot\"\n",
    ")\n",
    "plt.axvline(\n",
    "    time_dict[\"lowering\"][\"end\"].datetime, label=\"end lowering\", c=\"k\", ls=\"dotted\"\n",
    ")\n",
    "plt.legend()\n",
    "plt.xlabel(\"Time\")\n",
    "plt.ylabel(\"$\\Delta$ rotation [deg]\")\n",
    "plt.title(\n",
    "    f\"IMS Rotation\\n{begin_time.iso[:10]} {begin_time.iso[11:19]}-{end_time.iso[11:19]}\"\n",
    ")"
   ]
  },
  {
   "cell_type": "markdown",
   "id": "415def55-48cb-4877-a034-1b75a460780d",
   "metadata": {},
   "source": [
    "### 7. hardpoint measured force telemetry"
   ]
  },
  {
   "cell_type": "code",
   "execution_count": null,
   "id": "59e373d2-44f1-457b-8798-b37778abadcb",
   "metadata": {
    "tags": []
   },
   "outputs": [],
   "source": [
    "# hardpoint measured force telemetry\n",
    "\n",
    "plt.figure(dpi=125, figsize=(12, 4))\n",
    "times = Time(efd_dict[\"hp\"][\"timestamp\"], format=\"unix_tai\", scale=\"utc\").datetime\n",
    "for key in MEASURED_FORCES_TOPICS:\n",
    "    plt.plot(times, (efd_dict[\"hp\"][key] - efd_dict[\"hp\"][key].mean()), label=key)\n",
    "\n",
    "plt.axvline(\n",
    "    time_dict[\"raised\"][\"end\"].datetime, label=\"begin lowering\", c=\"k\", ls=\"dashdot\"\n",
    ")\n",
    "plt.axvline(\n",
    "    time_dict[\"lowering\"][\"end\"].datetime, label=\"end lowering\", c=\"k\", ls=\"dotted\"\n",
    ")\n",
    "plt.legend(ncol=4)\n",
    "plt.xlabel(\"Time\")\n",
    "plt.ylabel(\"$\\Delta$ force [N]\")\n",
    "plt.title(\n",
    "    f\"hardpoint measured forces\\n{begin_time.iso[:10]} {begin_time.iso[11:19]}-{end_time.iso[11:19]}\"\n",
    ")\n",
    "plt.ylim(-3e3, 3e3)"
   ]
  },
  {
   "cell_type": "markdown",
   "id": "89e85f94-c359-481c-97a9-b51a53bdfb89",
   "metadata": {},
   "source": [
    "### 8. hardpoint measured force telemetry zoom"
   ]
  },
  {
   "cell_type": "code",
   "execution_count": null,
   "id": "cc1cbeff-bfe4-4615-852e-791853c4e8f8",
   "metadata": {
    "tags": []
   },
   "outputs": [],
   "source": [
    "# hardpoint measured force telemetry zoom\n",
    "\n",
    "plt.figure(dpi=125, figsize=(12, 4))\n",
    "times = Time(efd_dict[\"hp\"][\"timestamp\"], format=\"unix_tai\", scale=\"utc\").datetime\n",
    "for key in MEASURED_FORCES_TOPICS:\n",
    "    plt.plot(times, (efd_dict[\"hp\"][key] - efd_dict[\"hp\"][key].mean()), label=key)\n",
    "\n",
    "plt.axvline(\n",
    "    time_dict[\"raised\"][\"end\"].datetime, label=\"begin lowering\", c=\"k\", ls=\"dashdot\"\n",
    ")\n",
    "plt.axvline(\n",
    "    time_dict[\"lowering\"][\"end\"].datetime, label=\"end lowering\", c=\"k\", ls=\"dotted\"\n",
    ")\n",
    "plt.legend(ncol=4)\n",
    "plt.xlabel(\"Time\")\n",
    "plt.ylabel(\"$\\Delta$ force [N]\")\n",
    "plt.title(\n",
    "    f\"Hardpoint Measured forces zoom\\n{begin_time.iso[:10]} {begin_time.iso[11:19]}-{end_time.iso[11:19]}\"\n",
    ")\n",
    "plt.ylim(-1e3, 1e3)\n",
    "_ = plt.xlim(times[int(120 / 0.02)], times[int(130 / 0.02)])"
   ]
  },
  {
   "cell_type": "markdown",
   "id": "911bcfba-70ef-4aa8-8e7c-d55403d979ae",
   "metadata": {},
   "source": [
    "# PSD \n",
    "The next set of plots show the frequencies of the oscillations in various components. "
   ]
  },
  {
   "cell_type": "markdown",
   "id": "c16f78a2-5bf7-444c-bf57-13bc466c08da",
   "metadata": {},
   "source": [
    "### 1. TMA torque psd"
   ]
  },
  {
   "cell_type": "code",
   "execution_count": null,
   "id": "ec43b74c-8c35-4c88-915e-5bebcae0ff74",
   "metadata": {
    "tags": []
   },
   "outputs": [],
   "source": [
    "# TMA torque psd\n",
    "dict_key = \"el\"\n",
    "key = \"actualTorque\"\n",
    "xvals = efd_dict[dict_key][\"timestamp\"]\n",
    "yvals = efd_dict[dict_key][key]\n",
    "delta_t = 0.02\n",
    "xvals, yvals = sitcom1089.resample_times(xvals, yvals, delta_t)\n",
    "times = Time(xvals, format=\"unix_tai\", scale=\"utc\")\n",
    "fs = 1 / delta_t\n",
    "\n",
    "xpeaks_total = [\n",
    "    1.3,\n",
    "    2.5,\n",
    "    3.8,\n",
    "    5.1,\n",
    "    6.3,\n",
    "    8.9,\n",
    "    11.1,\n",
    "    13.7,\n",
    "    14.9,\n",
    "    16.2,\n",
    "    17.5,\n",
    "    18.7,\n",
    "    21.3,\n",
    "    22.5,\n",
    "    23.8,\n",
    "]\n",
    "\n",
    "plt.figure(dpi=125, figsize=(12, 4))\n",
    "for step, time_key in enumerate(time_dict.keys()):\n",
    "    sel = times > time_dict[time_key][\"begin\"]\n",
    "    sel &= times <= time_dict[time_key][\"end\"]\n",
    "    sel &= ~np.isnan(yvals)\n",
    "    vals = yvals[sel]\n",
    "\n",
    "    freq, psd = sitcom1089.get_freq_psd(vals, 1 / fs)\n",
    "    psd_vals = (\n",
    "        pd.DataFrame({\"psd\": psd})[\"psd\"].rolling(int(10 / delta_t * 0.01)).mean()\n",
    "    )\n",
    "    normval = np.exp(\n",
    "        np.polyval(\n",
    "            np.polyfit(\n",
    "                freq[~np.isnan(psd_vals)], np.log(psd_vals[~np.isnan(psd_vals)]), deg=4\n",
    "            ),\n",
    "            freq,\n",
    "        )\n",
    "    )\n",
    "    xpeaks = sitcom1089.get_peak_points(\n",
    "        freq,\n",
    "        np.log(psd_vals / normval),\n",
    "        height=2,\n",
    "    )\n",
    "    print(f\"{time_key} identified peaks:\")\n",
    "    print([float(f\"{i:0.1f}\") for i in xpeaks])\n",
    "\n",
    "    plt.plot(freq, psd_vals * 10 ** (-3 * step), zorder=9, lw=1, label=time_key)\n",
    "    for peak in xpeaks_total:\n",
    "        plt.axvline(peak, c=\"k\", ls=\"dashed\", zorder=1, lw=0.5)\n",
    "    # plt.scatter(xpeaks, np.ones_like(xpeaks) * 1e19, c=\"red\")\n",
    "    # plt.plot(freq, normval)\n",
    "plt.yscale(\"log\")\n",
    "# plt.ylim(1e9, 1e20)\n",
    "plt.legend()\n",
    "plt.xlabel(\"Frequency (Hz)\")\n",
    "plt.ylabel(\"power\")\n",
    "plt.title(\n",
    "    f\"TMA Elevation {key}\\nEvent {begin_time.iso[:10]} {begin_time.iso[11:19]}-{end_time.iso[11:19]}\"\n",
    ")\n",
    "plt.xlim(0, 25)\n",
    "_ = plt.xticks(np.arange(0, 26, 2))\n",
    "# for i in [1.25, 2.5, 3.8]:\n",
    "#     plt.axvline(i)\n",
    "# plt.scatter(\n",
    "#     freq,\n",
    "#     ,\n",
    "# )"
   ]
  },
  {
   "cell_type": "markdown",
   "id": "4e152648-8e9e-4259-8023-7f3f669c8334",
   "metadata": {
    "execution": {
     "iopub.execute_input": "2023-11-08T20:54:46.650911Z",
     "iopub.status.busy": "2023-11-08T20:54:46.650721Z",
     "iopub.status.idle": "2023-11-08T20:54:46.686050Z",
     "shell.execute_reply": "2023-11-08T20:54:46.685623Z",
     "shell.execute_reply.started": "2023-11-08T20:54:46.650898Z"
    },
    "tags": []
   },
   "source": [
    "### 2. IMS position psd"
   ]
  },
  {
   "cell_type": "code",
   "execution_count": null,
   "id": "a6bd423b-3501-4330-86aa-6aa708be1bb3",
   "metadata": {
    "tags": []
   },
   "outputs": [],
   "source": [
    "dict_key = \"ims\"\n",
    "fig, axs = plt.subplots(3, 1, dpi=125, figsize=(14, 10), sharex=True)\n",
    "plt.suptitle(\n",
    "    f\"Event {begin_time.iso[:10]} {begin_time.iso[11:19]}-{end_time.iso[11:19]}\", y=0.9\n",
    ")\n",
    "for i, key in enumerate([\"xPosition\", \"yPosition\", \"zPosition\"]):\n",
    "    ax = axs[i]\n",
    "\n",
    "    xvals = efd_dict[dict_key][\"timestamp\"]\n",
    "    yvals = efd_dict[dict_key][key]\n",
    "    delta_t = 0.02\n",
    "    xvals, yvals = sitcom1089.resample_times(xvals, yvals, delta_t)\n",
    "    times = Time(xvals, format=\"unix_tai\", scale=\"utc\")\n",
    "    fs = 1 / delta_t\n",
    "    for peak in xpeaks_total:\n",
    "        axs[i].axvline(peak, c=\"k\", ls=\"dashed\", zorder=1, lw=0.5)\n",
    "    for step, time_key in enumerate(time_dict.keys()):\n",
    "        sel = times > time_dict[time_key][\"begin\"]\n",
    "        sel &= times <= time_dict[time_key][\"end\"]\n",
    "        sel &= ~np.isnan(yvals)\n",
    "        vals = yvals[sel]\n",
    "\n",
    "        freq, psd = sitcom1089.get_freq_psd(vals, 1 / fs)\n",
    "        psd_vals = (\n",
    "            pd.DataFrame({\"psd\": psd})[\"psd\"].rolling(int(10 / delta_t * 0.01)).mean()\n",
    "        )\n",
    "        ax.plot(freq, psd_vals * 10 ** (-5 * step), zorder=9, lw=1, label=time_key)\n",
    "    title_str = f\"IMS {key}\"\n",
    "    ax.set(yscale=\"log\", ylabel=\"power\")\n",
    "    ax.set_title(title_str, y=0.85)\n",
    "    # plt.ylim(1e11,1e17)\n",
    "axs[0].legend(ncol=4)\n",
    "axs[2].set_xlabel(\"Frequency (Hz)\")\n",
    "axs[2].set_xticks(np.arange(0, 26, 2))\n",
    "plt.subplots_adjust(hspace=0)\n",
    "plt.savefig(\"./1089_data/ims_psd.png\")"
   ]
  },
  {
   "cell_type": "markdown",
   "id": "716b842b-fc7c-48d9-bbec-a0d63eb9b135",
   "metadata": {},
   "source": [
    "### 3. TODO: IMS rotaton"
   ]
  },
  {
   "cell_type": "code",
   "execution_count": null,
   "id": "734bccfd-63e1-401b-ba4f-05b34b240d12",
   "metadata": {
    "tags": []
   },
   "outputs": [],
   "source": [
    "# TODO ims rotation\n",
    "\n",
    "\n",
    "# dict_key = \"ims\"\n",
    "# fig, axs = plt.subplots(3, 1, dpi=125, figsize=(14, 10), sharex=True)\n",
    "# plt.suptitle(\n",
    "#     f\"Event {begin_time.iso[:10]} {begin_time.iso[11:19]}-{end_time.iso[11:19]}\", y=0.9\n",
    "# )\n",
    "# for i, key in enumerate([\"xPosition\", \"yPosition\", \"zPosition\"]):\n",
    "#     ax = axs[i]\n",
    "\n",
    "#     xvals = efd_dict[dict_key][\"timestamp\"]\n",
    "#     yvals = efd_dict[dict_key][key]\n",
    "#     delta_t = 0.02\n",
    "#     xvals, yvals = sitcom1089.resample_times(xvals, yvals, delta_t)\n",
    "#     times = Time(xvals, format=\"unix_tai\", scale=\"utc\")\n",
    "#     fs = 1 / delta_t\n",
    "#     for peak in xpeaks_total:\n",
    "#         axs[i].axvline(peak, c=\"k\", ls=\"dashed\", zorder=1, lw=0.5)\n",
    "#     for step, time_key in enumerate(time_dict.keys()):\n",
    "#         sel = times > time_dict[time_key][\"begin\"]\n",
    "#         sel &= times <= time_dict[time_key][\"end\"]\n",
    "#         sel &= ~np.isnan(yvals)\n",
    "#         vals = yvals[sel]\n",
    "\n",
    "#         freq, psd = sitcom1089.get_freq_psd(vals, 1 / fs)\n",
    "#         psd_vals = (\n",
    "#             pd.DataFrame({\"psd\": psd})[\"psd\"].rolling(int(10 / delta_t * 0.01)).mean()\n",
    "#         )\n",
    "#         ax.plot(freq, psd_vals * 10 ** (-5 * step), zorder=9, lw=1, label=time_key)\n",
    "#     title_str = f\"IMS {key}\"\n",
    "#     ax.set(yscale=\"log\", ylabel=\"power\")\n",
    "#     ax.set_title(title_str, y=0.85)\n",
    "#     # plt.ylim(1e11,1e17)\n",
    "# axs[0].legend(ncol=4)\n",
    "# axs[2].set_xlabel(\"Frequency (Hz)\")\n",
    "# axs[2].set_xticks(np.arange(0, 26, 2))\n",
    "# plt.subplots_adjust(hspace=0)\n",
    "# plt.savefig(\"./1089_data/ims_psd.png\")"
   ]
  },
  {
   "cell_type": "markdown",
   "id": "b892bcc5-d6b6-45c6-8ffa-99ab15ebe41e",
   "metadata": {},
   "source": [
    "### 4. Hardpoint psd"
   ]
  },
  {
   "cell_type": "code",
   "execution_count": null,
   "id": "b785dc8c-1213-4295-849f-3214308dee2d",
   "metadata": {
    "tags": []
   },
   "outputs": [],
   "source": [
    "# hardpoint forces\n",
    "\n",
    "\n",
    "dict_key = \"hp\"\n",
    "fig, axs = plt.subplots(3, 1, dpi=125, figsize=(12, 7), sharex=True)\n",
    "plt.suptitle(\n",
    "    f\"Hardpoints Event {begin_time.iso[:10]} {begin_time.iso[11:19]}-{end_time.iso[11:19]}\",\n",
    "    y=0.9,\n",
    ")\n",
    "for i, key in enumerate(MEASURED_FORCES_TOPICS[:3]):\n",
    "    ax = axs[i]\n",
    "\n",
    "    xvals = efd_dict[dict_key][\"timestamp\"]\n",
    "    yvals = efd_dict[dict_key][key]\n",
    "    delta_t = 0.02\n",
    "    xvals, yvals = sitcom1089.resample_times(xvals, yvals, delta_t)\n",
    "    times = Time(xvals, format=\"unix_tai\", scale=\"utc\")\n",
    "    fs = 1 / delta_t\n",
    "    for peak in xpeaks_total:\n",
    "        axs[i].axvline(peak, c=\"k\", ls=\"dashed\", zorder=1, lw=0.5)\n",
    "    for step, time_key in enumerate(time_dict.keys()):\n",
    "        sel = times > time_dict[time_key][\"begin\"]\n",
    "        sel &= times <= time_dict[time_key][\"end\"]\n",
    "        sel &= ~np.isnan(yvals)\n",
    "        vals = yvals[sel]\n",
    "\n",
    "        freq, psd = sitcom1089.get_freq_psd(vals, 1 / fs)\n",
    "        psd_vals = (\n",
    "            pd.DataFrame({\"psd\": psd})[\"psd\"].rolling(int(10 / delta_t * 0.01)).mean()\n",
    "        )\n",
    "        ax.plot(freq, psd_vals * 10 ** (-5 * step), zorder=9, lw=1, label=time_key)\n",
    "    title_str = f\"{key}\"\n",
    "    ax.set(yscale=\"log\", ylabel=\"power\")\n",
    "    ax.set_title(title_str, y=0.85)\n",
    "    # plt.ylim(1e11,1e17)\n",
    "axs[0].legend(ncol=4)\n",
    "axs[2].set_xlabel(\"Frequency (Hz)\")\n",
    "axs[2].set_xticks(np.arange(0, 26, 2))\n",
    "plt.subplots_adjust(hspace=0)"
   ]
  }
 ],
 "metadata": {
  "kernelspec": {
   "display_name": "LSST",
   "language": "python",
   "name": "lsst"
  },
  "language_info": {
   "codemirror_mode": {
    "name": "ipython",
    "version": 3
   },
   "file_extension": ".py",
   "mimetype": "text/x-python",
   "name": "python",
   "nbconvert_exporter": "python",
   "pygments_lexer": "ipython3",
   "version": "3.11.7"
  }
 },
 "nbformat": 4,
 "nbformat_minor": 5
}
