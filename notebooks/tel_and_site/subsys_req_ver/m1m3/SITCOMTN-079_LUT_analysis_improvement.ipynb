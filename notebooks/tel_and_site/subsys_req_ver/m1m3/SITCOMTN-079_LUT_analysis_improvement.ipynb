{
 "cells": [
  {
   "cell_type": "markdown",
   "id": "a1b5e2bf-a10f-4084-b816-e64f334a76de",
   "metadata": {},
   "source": [
    "### LUT M1M3 Improvement Analysis Notebook\n",
    "\n",
    "This notebook generates the fits of applied forces - static forces (applied forces approach) and fits balance forces (balance forces approach)\n",
    "\n",
    "Relevant imports"
   ]
  },
  {
   "cell_type": "code",
   "execution_count": null,
   "id": "35f45ff4-4f16-4768-9061-e6552f70d6b5",
   "metadata": {
    "tags": []
   },
   "outputs": [],
   "source": [
    "%load_ext autoreload\n",
    "%autoreload 2\n",
    "\n",
    "import matplotlib.pyplot as plt\n",
    "import numpy as np\n",
    "from numpy.polynomial import Polynomial\n",
    "from astropy.time import Time, TimeDelta\n",
    "import pandas as pd\n",
    "import warnings\n",
    "warnings.filterwarnings('ignore')\n",
    "\n",
    "from lsst_efd_client import EfdClient\n",
    "from lsst.ts.xml.tables.m1m3 import FATable\n",
    "from lsst.sitcom import vandv\n",
    "%matplotlib inline"
   ]
  },
  {
   "cell_type": "markdown",
   "id": "7426fc0f-3012-493e-9448-76c30740f5f4",
   "metadata": {},
   "source": [
    "Example code of how to plot fields in different EFD topics."
   ]
  },
  {
   "cell_type": "code",
   "execution_count": null,
   "id": "d7f241dc-bcf0-4d1c-a687-62677e03036a",
   "metadata": {
    "tags": []
   },
   "outputs": [],
   "source": [
    "client = EfdClient('usdf_efd')"
   ]
  },
  {
   "cell_type": "markdown",
   "id": "81d4c16e-2fa9-4bfe-981e-0b68fbd700d7",
   "metadata": {},
   "source": [
    "Set start and end time of the sequence that we want to analyze"
   ]
  },
  {
   "cell_type": "code",
   "execution_count": null,
   "id": "28cb1043-5f18-4537-a228-97317574082e",
   "metadata": {
    "tags": []
   },
   "outputs": [],
   "source": [
    "start = Time('2023-06-24 02:38:0Z', scale='utc')\n",
    "end = Time('2023-06-24 03:01:0Z', scale='utc')"
   ]
  },
  {
   "cell_type": "markdown",
   "id": "8f72b267-c1d6-42c9-bc52-dc3bc9b37690",
   "metadata": {},
   "source": [
    "Create ids vector"
   ]
  },
  {
   "cell_type": "code",
   "execution_count": null,
   "id": "0c9ea902-15a0-49f7-a98c-7ffacedb800d",
   "metadata": {
    "tags": []
   },
   "outputs": [],
   "source": [
    "ids = np.array([fa.actuator_id for fa in FATable])\n",
    "z_indices = np.array([fa.z_index for fa in FATable])\n",
    "y_indices = np.array([fa.y_index for fa in FATable])"
   ]
  },
  {
   "cell_type": "markdown",
   "id": "f2e62a6b-4886-4c7e-9d02-697536dff3bf",
   "metadata": {},
   "source": [
    "### Retrieve LUT forces from m1m3support file"
   ]
  },
  {
   "cell_type": "code",
   "execution_count": null,
   "id": "ee385b98-6dd3-43f2-803a-32af0ea12218",
   "metadata": {
    "tags": []
   },
   "outputs": [],
   "source": [
    "xForce = [str(\"\".join((\"xForces\",str(i)))) for i in range(12)]\n",
    "yForce = [str(\"\".join((\"yForces\",str(i)))) for i in range(100)]\n",
    "zForce = [str(\"\".join((\"zForces\",str(i)))) for i in range(156)]\n",
    "\n",
    "lut_path = (\n",
    "    f\"{os.environ['HOME']}/notebooks/lsst-ts/ts_m1m3support/\"\n",
    "    \"SettingFiles/v1/tables/\"\n",
    ")"
   ]
  },
  {
   "cell_type": "markdown",
   "id": "c1e7aadb-a131-4e40-aa60-a538478f7f0e",
   "metadata": {},
   "source": [
    "## Get data from EFD\n",
    "\n",
    "#### Balance forces\n",
    "We retrieve the force balance data from EFD for z and y forces, that will be added to the LUT. "
   ]
  },
  {
   "cell_type": "code",
   "execution_count": null,
   "id": "f3bf7cbf-a421-4297-8a95-311937789b29",
   "metadata": {
    "tags": []
   },
   "outputs": [],
   "source": [
    "df_all_z_forces = await client.select_time_series(\n",
    "    \"lsst.sal.MTM1M3.appliedBalanceForces\", \n",
    "    zForce, \n",
    "    start,\n",
    "    end\n",
    ")\n",
    "\n",
    "df_all_y_forces = await client.select_time_series(\n",
    "    \"lsst.sal.MTM1M3.appliedBalanceForces\", \n",
    "    yForce, \n",
    "    start,\n",
    "    end\n",
    ")\n",
    "\n",
    "# join dataframes and resample them.\n",
    "df_all_forces = pd.concat([df_all_y_forces.dropna(axis = 1), df_all_z_forces.dropna(axis = 1)])\n",
    "forces_resampled = df_all_forces.resample('1T').mean()\n",
    "\n",
    "elevations = await client.select_time_series(\n",
    "    'lsst.sal.MTMount.elevation',\n",
    "    ['actualPosition', 'timestamp'],  \n",
    "    start, \n",
    "    end,\n",
    ")  \n",
    "elevations = elevations['actualPosition'].resample('1T').mean()\n"
   ]
  },
  {
   "cell_type": "code",
   "execution_count": null,
   "id": "6f7a947b-22e8-4b41-92ec-18da4e0255ca",
   "metadata": {
    "tags": []
   },
   "outputs": [],
   "source": [
    "fig = plt.figure(figsize = (15,120))\n",
    "for idx in range(10):\n",
    "    plt.subplot(40,4,idx + 1)\n",
    "\n",
    "    plt.plot(90 - elevations, forces_resampled[zForce[idx]], '-', label = 'Balance forces')\n",
    "    plt.title(zForce[idx])\n",
    "    plt.legend()\n",
    "    plt.ylabel('Balance Force in Z (N)')\n",
    "    plt.xlabel('Zenith (deg)')\n",
    "    \n",
    "plt.tight_layout()"
   ]
  },
  {
   "cell_type": "markdown",
   "id": "8c03863d-287d-4fb6-a2b0-c54915b2a6d8",
   "metadata": {},
   "source": [
    "#### Applied forces approach\n",
    "\n",
    "Retrieve applied forces and static forces. We subtract applied - static = balance + lut in the relevant timeframe"
   ]
  },
  {
   "cell_type": "code",
   "execution_count": null,
   "id": "62e84f10-72bd-4a66-aaec-57411a6faa02",
   "metadata": {
    "tags": []
   },
   "outputs": [],
   "source": [
    "df_applied_z_forces = await client.select_time_series(\n",
    "    \"lsst.sal.MTM1M3.appliedForces\", \n",
    "    zForce, \n",
    "    start,\n",
    "    end\n",
    ")\n",
    "\n",
    "df_applied_y_forces = await client.select_time_series(\n",
    "    \"lsst.sal.MTM1M3.appliedForces\", \n",
    "    yForce, \n",
    "    start,\n",
    "    end\n",
    ")"
   ]
  },
  {
   "cell_type": "markdown",
   "id": "8fed0a36-e01c-46df-934e-745cd183f0e6",
   "metadata": {},
   "source": [
    "Retrieve static forces applied"
   ]
  },
  {
   "cell_type": "code",
   "execution_count": null,
   "id": "773ba7e2-b66f-4687-bb63-e3e2ce0e58e5",
   "metadata": {
    "tags": []
   },
   "outputs": [],
   "source": [
    "df_static_z_forces = await client.select_time_series(\n",
    "    \"lsst.sal.MTM1M3.logevent_appliedStaticForces\", \n",
    "    zForce, \n",
    "    start - 1*TimeDelta(1),\n",
    "    end\n",
    ")\n",
    "static_z_forces = df_static_z_forces.iloc[-1]\n",
    "\n",
    "df_static_y_forces = await client.select_time_series(\n",
    "    \"lsst.sal.MTM1M3.logevent_appliedStaticForces\", \n",
    "    yForce, \n",
    "    start - 1*TimeDelta(1),\n",
    "    end\n",
    ")\n",
    "static_y_forces = df_static_y_forces.iloc[-1]"
   ]
  },
  {
   "cell_type": "markdown",
   "id": "ccc87b06-c752-413d-bd4c-427e37b77e77",
   "metadata": {},
   "source": [
    "Subtract applied - static. This is equal to LUT + balance forces, which is what we are interested in fitting."
   ]
  },
  {
   "cell_type": "code",
   "execution_count": null,
   "id": "9c867eaa-22ff-426b-bae8-9f43a181ccba",
   "metadata": {
    "tags": []
   },
   "outputs": [],
   "source": [
    "for idx in zForce:\n",
    "    df_applied_z_forces[idx] = df_applied_z_forces[idx].subtract(static_z_forces[idx])\n",
    "    \n",
    "for idy in yForce:\n",
    "    df_applied_y_forces[idy] = df_applied_y_forces[idy].subtract(static_y_forces[idy])\n",
    "    "
   ]
  },
  {
   "cell_type": "markdown",
   "id": "c2a391a6-7a5e-4bbf-838c-357c956978a2",
   "metadata": {},
   "source": [
    "Unite dataframes and resample accordingly."
   ]
  },
  {
   "cell_type": "code",
   "execution_count": null,
   "id": "1a29582e-99b1-4ab3-88da-3f6cbae77b5d",
   "metadata": {
    "tags": []
   },
   "outputs": [],
   "source": [
    "df_forces_static = pd.concat([df_applied_y_forces, df_applied_z_forces], axis = 1)\n",
    "forces_static_resampled = df_forces_static.resample('1T').mean()"
   ]
  },
  {
   "cell_type": "markdown",
   "id": "d876632b-7e26-4478-ae21-dbc6a4cdcd74",
   "metadata": {},
   "source": [
    "## Elevation vs time\n",
    "\n",
    "Look into the elevation plot for which we will perform the analysis."
   ]
  },
  {
   "cell_type": "code",
   "execution_count": null,
   "id": "7100a46d-9823-4041-8579-924cf9a22939",
   "metadata": {
    "tags": []
   },
   "outputs": [],
   "source": [
    "# Retrieve elevations\n",
    "elevations = await client.select_time_series(\n",
    "    'lsst.sal.MTMount.elevation',\n",
    "    ['actualPosition', 'timestamp'],  \n",
    "    start, \n",
    "    end,\n",
    ")  \n",
    "elevations = elevations['actualPosition'].resample('1T').mean()\n",
    "\n",
    "elevations.plot()\n",
    "plt.xlabel('Time (utc)')\n",
    "plt.ylabel('elevation (deg)')"
   ]
  },
  {
   "cell_type": "markdown",
   "id": "1f6fb158-a380-4b87-872f-32b06ace6886",
   "metadata": {},
   "source": [
    "## Look Up Table for Z forces as a function of elevation\n",
    "\n",
    "Here we plot in blue the force balance offsets as a function of elevation and on top of it a 5th-order polynomial fit to the data. The coefficients of these polynomial are to be added to the LUT values. The sum of squared residuals of the least squares fit is shown on the top right of the plot."
   ]
  },
  {
   "cell_type": "code",
   "execution_count": null,
   "id": "b1d047c9-cc58-45a8-95aa-a0468753d646",
   "metadata": {
    "scrolled": true,
    "tags": []
   },
   "outputs": [],
   "source": [
    "lut_fname = \"ElevationZTable.csv\"\n",
    "lut_file = os.path.join(lut_path, lut_fname)\n",
    "table_file = pd.read_csv(lut_file)\n",
    "\n",
    "table_file"
   ]
  },
  {
   "cell_type": "code",
   "execution_count": null,
   "id": "97bddedf-152c-4c4d-8977-8d71d2d77f99",
   "metadata": {
    "tags": []
   },
   "outputs": [],
   "source": [
    "elevations_lut = np.linspace(0, 90, 90)\n",
    "lut_zforces = vandv.m1m3.lut_elevation_zforces(elevations_lut, as_array=True)"
   ]
  },
  {
   "cell_type": "markdown",
   "id": "bcceee61-4bde-4acb-8d88-3ff43788a7e9",
   "metadata": {},
   "source": [
    "### Balance forces approach"
   ]
  },
  {
   "cell_type": "code",
   "execution_count": null,
   "id": "19ddcd86-2e3a-49b7-b202-ad4df5d048be",
   "metadata": {
    "tags": []
   },
   "outputs": [],
   "source": [
    "lut_fname = \"ElevationZTable.csv\"\n",
    "lut_file = os.path.join(lut_path, lut_fname)\n",
    "table_file = pd.read_csv(lut_file)\n",
    "\n",
    "axis_indices = z_indices # set axis indices to update M1M3 LUT file. changes dependening on axis Z = 11, Y = 10, X = 9\n",
    "\n",
    "fig = plt.figure(figsize = (15,120))\n",
    "for idx in range(156):\n",
    "    plt.subplot(40,4,idx + 1)\n",
    "\n",
    "    new_poly, [residual, _, _, _] = Polynomial.fit(90 - elevations, forces_resampled[zForce[idx]], 5, full=True)\n",
    "    coefs = np.flip(new_poly.convert().coef)\n",
    "    \n",
    "    actuator_id = ids[np.where(axis_indices == idx)[0][0]]\n",
    "\n",
    "    coefs = np.insert(coefs,0,0)\n",
    "    table_file.loc[table_file['ID'] == actuator_id] += coefs\n",
    "    \n",
    "    plt.plot(90 - elevations, new_poly(90 - elevations), '--.k', label = 'Fit')\n",
    "    plt.plot(90 - elevations, forces_resampled[zForce[idx]], '-', label = 'Balance forces')\n",
    "    plt.title(zForce[idx])\n",
    "    plt.plot([], [], ' ', label=f\"err={np.round(residual,4)}\")\n",
    "    plt.legend()\n",
    "    plt.ylabel('Balance Force in Z (N)')\n",
    "    plt.xlabel('Zenith (deg)')\n",
    "\n",
    "table_file.to_csv(f'ElevationZTableBalance.csv', index=False)\n",
    "plt.tight_layout()\n"
   ]
  },
  {
   "cell_type": "markdown",
   "id": "4dce60a7-b852-4709-9bc1-15bde30c953f",
   "metadata": {},
   "source": [
    "### Applied forces approach"
   ]
  },
  {
   "cell_type": "code",
   "execution_count": null,
   "id": "061d5421-964e-40cc-b96f-97c28206a4ae",
   "metadata": {
    "tags": []
   },
   "outputs": [],
   "source": [
    "lut_fname = \"ElevationZTable.csv\"\n",
    "lut_file = os.path.join(lut_path, lut_fname)\n",
    "table_file = pd.read_csv(lut_file)\n",
    "\n",
    "fig = plt.figure(figsize = (15,120))\n",
    "for idx in range(156):\n",
    "    plt.subplot(40,4,idx + 1)\n",
    "    new_poly, [residual, _, _, _] = Polynomial.fit(90 - elevations, forces_static_resampled[zForce[idx]], 5, full=True)\n",
    "\n",
    "    coefs = np.flip(new_poly.convert().coef)\n",
    "    actuator_id = ids[np.where(axis_indices == idx)[0][0]]\n",
    "    \n",
    "    coefs = np.insert(coefs,0,actuator_id)\n",
    "    table_file.loc[table_file['ID'] == actuator_id] = coefs\n",
    "    \n",
    "    plt.plot(90 - elevations, new_poly(90 - elevations), '--.k', label = 'fit')\n",
    "    plt.plot(90 - elevations, forces_static_resampled[zForce[idx]], '-', label = 'LUT + balance')\n",
    "    plt.title(zForce[idx])\n",
    "    plt.plot([], [], ' ', label=f\"err={np.round(residual,4)}\")\n",
    "    plt.legend()\n",
    "    plt.ylabel('LUT + Balance in Z (N)')\n",
    "    plt.xlabel('Zenith (deg)')\n",
    "    \n",
    "plt.tight_layout()\n",
    "table_file.to_csv(f'ElevationZTableApplied.csv', index=False)"
   ]
  },
  {
   "cell_type": "markdown",
   "id": "1904a56e-04bd-4a91-9bae-caf9dfd5c0c4",
   "metadata": {},
   "source": [
    "Compare both fits. We should get a very similar values for the coefficients. We will show just the first 10 actuators"
   ]
  },
  {
   "cell_type": "code",
   "execution_count": null,
   "id": "2c88dc97-9725-459d-ad7a-c3d399a5eef2",
   "metadata": {
    "tags": []
   },
   "outputs": [],
   "source": [
    "lut_fname = \"ElevationZTableApplied.csv\"\n",
    "table_applied = pd.read_csv(lut_fname)\n",
    "\n",
    "lut_fname = \"ElevationZTableBalance.csv\"\n",
    "table_balance = pd.read_csv(lut_fname)\n",
    "\n",
    "table_applied.head(5)\n",
    "table_balance.head(5)"
   ]
  },
  {
   "cell_type": "markdown",
   "id": "f566516d-d755-48a9-81e9-732a78e411c6",
   "metadata": {},
   "source": [
    "## Look Up Table for Y forces as a function of elevation\n",
    "\n",
    "Here we plot in blue the force balance offsets as a function of elevation and on top of it a 5th-order polynomial fit to the data. The coefficients of these polynomial are to be added to the LUT values. The sum of squared residuals of the least squares fit is shown on the top right of the plot."
   ]
  },
  {
   "cell_type": "code",
   "execution_count": null,
   "id": "c409ae22-bdcf-4221-b1b4-3683cac112e8",
   "metadata": {
    "tags": []
   },
   "outputs": [],
   "source": [
    "lut_fname = \"ElevationYTable.csv\"\n",
    "lut_file = os.path.join(lut_path, lut_fname)\n",
    "table_file = pd.read_csv(lut_file)\n",
    "\n",
    "table_file"
   ]
  },
  {
   "cell_type": "code",
   "execution_count": null,
   "id": "1115b236-ceff-470f-8e1d-304a98b7228e",
   "metadata": {
    "tags": []
   },
   "outputs": [],
   "source": [
    "lut_fname = \"ElevationYTable.csv\"\n",
    "lut_file = os.path.join(lut_path, lut_fname)\n",
    "table_file = pd.read_csv(lut_file)\n",
    "\n",
    "axis_indices = y_indices # set axis indices to update M1M3 LUT file. changes dependening on axis Z = 11, Y = 10, X = 9\n",
    "\n",
    "fig = plt.figure(figsize = (15,75))\n",
    "for idx in range(100):\n",
    "    plt.subplot(25,4,idx + 1)\n",
    "\n",
    "    new_poly, [residual, _, _, _] = Polynomial.fit(90 - elevations, forces_resampled[yForce[idx]], 5, full=True)\n",
    "\n",
    "    coefs = np.flip(new_poly.convert().coef)\n",
    "    actuator_id = ids[np.where(axis_indices == idx)[0][0]]\n",
    "    \n",
    "    coefs = np.insert(coefs,0,0)\n",
    "    table_file.loc[table_file['ID'] == actuator_id] += coefs\n",
    "\n",
    "    plt.plot(90 - elevations, forces_resampled[yForce[idx]], '-', label = 'Balance forces')\n",
    "    plt.plot(90 - elevations, new_poly(90 - elevations), '--.k', label = 'Fit')\n",
    "    plt.title(yForce[idx])\n",
    "    plt.plot([], [], ' ', label=f\"err={np.round(residual,4)}\")\n",
    "    plt.legend()\n",
    "    plt.ylabel('Balance Force in Y (N)')\n",
    "    plt.xlabel('Zenith (deg)')\n",
    "\n",
    "plt.tight_layout()\n",
    "table_file.to_csv(f'ElevationYTableBalance.csv', index=False)"
   ]
  },
  {
   "cell_type": "markdown",
   "id": "16bc1b99-fdc2-4b4b-beae-26ef1c6a3bac",
   "metadata": {},
   "source": [
    "### Applied approach\n",
    "\n",
    "Fit Applied forces - static forces"
   ]
  },
  {
   "cell_type": "code",
   "execution_count": null,
   "id": "32e264c8-14c1-4a7a-9da5-15209e8839da",
   "metadata": {
    "tags": []
   },
   "outputs": [],
   "source": [
    "lut_fname = \"ElevationYTable.csv\"\n",
    "lut_file = os.path.join(lut_path, lut_fname)\n",
    "table_file = pd.read_csv(lut_file)\n",
    "\n",
    "axis_indices = y_indices # set axis indices to update M1M3 LUT file. changes dependening on axis Z = 11, Y = 10, X = 9\n",
    "\n",
    "fig = plt.figure(figsize = (15,75))\n",
    "for idx in range(100):\n",
    "    plt.subplot(25,4,idx + 1)\n",
    "    new_poly, [residual, _, _, _] = Polynomial.fit(90 - elevations, forces_static_resampled[yForce[idx]], 5, full=True)\n",
    "\n",
    "    coefs = np.flip(new_poly.convert().coef)\n",
    "    actuator_id = ids[np.where(axis_indices == idx)[0][0]]\n",
    "    \n",
    "    coefs = np.insert(coefs,0,actuator_id)\n",
    "    table_file.loc[table_file['ID'] == actuator_id] = coefs\n",
    "    \n",
    "    plt.plot(90 - elevations, new_poly(90 - elevations), '--.k', label = 'fit')\n",
    "    plt.plot(90 - elevations, forces_static_resampled[yForce[idx]], '-', label = 'LUT + balance')\n",
    "    plt.title(yForce[idx])\n",
    "    plt.plot([], [], ' ', label=f\"err={np.round(residual,4)}\")\n",
    "    plt.legend()\n",
    "    plt.ylabel('LUT + Balance in Y (N)')\n",
    "    plt.xlabel('Zenith (deg)')\n",
    "    \n",
    "plt.tight_layout()\n",
    "table_file.to_csv('ElevationYTableApplied.csv', index=False)"
   ]
  },
  {
   "cell_type": "code",
   "execution_count": null,
   "id": "21e57fe0-b059-485a-86da-e9beddc12bac",
   "metadata": {},
   "outputs": [],
   "source": []
  }
 ],
 "metadata": {
  "kernelspec": {
   "display_name": "LSST",
   "language": "python",
   "name": "lsst"
  },
  "language_info": {
   "codemirror_mode": {
    "name": "ipython",
    "version": 3
   },
   "file_extension": ".py",
   "mimetype": "text/x-python",
   "name": "python",
   "nbconvert_exporter": "python",
   "pygments_lexer": "ipython3",
   "version": "3.11.7"
  }
 },
 "nbformat": 4,
 "nbformat_minor": 5
}
