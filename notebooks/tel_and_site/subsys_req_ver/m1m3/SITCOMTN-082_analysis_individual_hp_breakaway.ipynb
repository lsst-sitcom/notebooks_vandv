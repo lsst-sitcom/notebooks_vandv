{
 "cells": [
  {
   "cell_type": "markdown",
   "id": "474a6257-c44b-4c01-8192-5af9eb127074",
   "metadata": {},
   "source": [
    "# [LVV-T231] - M13T-004: Individual Hardpoint Breakaway Test\n",
    "\n",
    "Notebook containing data analysis for the [LVV-T231] test case.  \n",
    "The script used to run this test case can be found in [M13T004.py].  \n",
    "\n",
    "[LVV-T231]: https://jira.lsstcorp.org/secure/Tests.jspa#/testCase/LVV-T231\n",
    "[M13T004.py]: https://github.com/lsst-ts/ts_m1m3supporttesting/blob/develop/M13T004.py\n",
    "\n",
    "## Summary\n",
    "\n",
    "1. The analysis comprining the measured hardpoint stiffness from specified stiffness.\n",
    "2. This notebook analyses the offline data produces by the script [M13T004.py] and stored on m1m3-dev.cp.lsst.org.\n",
    "3. The data show the forces changing with hardpoint extension and compression.\n",
    "4. Compression is marked bya \"-\" infront of \"-999999999\"in the file name.\n",
    "\n",
    "## Expected Results\n",
    "\n",
    "It is expected that the fitted hardpoint stiffness is within the specified stiffness. \n",
    "\n"
   ]
  },
  {
   "cell_type": "markdown",
   "id": "121e4900-8717-4fcd-be8b-fa9723f8ea42",
   "metadata": {},
   "source": [
    "## Prepare notebook"
   ]
  },
  {
   "cell_type": "code",
   "execution_count": null,
   "id": "b49dd25b-328e-44a1-9d27-14439b34ef6b",
   "metadata": {
    "tags": []
   },
   "outputs": [],
   "source": [
    "## Elevation = 20 deg\n",
    "# t_start = \"2023-05-30T08:26\"\n",
    "# sal_index = 100047\n",
    "\n",
    "## Elevation = 90 deg\n",
    "t_start = \"2023-05-31T05:40\"\n",
    "sal_index = 100061\n",
    "\n",
    "# Number of hard points in M1M3\n",
    "number_of_hardpoints = 6\n",
    "\n",
    "# scale factor for \"encoder\"\n",
    "scale = 0.2442\n",
    "\n",
    "# number of points around zero force for linear fit\n",
    "n_points = 100\n",
    "\n",
    "# Specified stiffnest from the requirements \n",
    "spect_stiffness  = 100\n",
    "\n",
    "# Kernel size for edge detection \n",
    "kernel_size = 100"
   ]
  },
  {
   "cell_type": "code",
   "execution_count": null,
   "id": "451560d0-6e36-4dfb-ba49-98e554df683b",
   "metadata": {
    "tags": []
   },
   "outputs": [],
   "source": [
    "%matplotlib inline\n",
    "%load_ext autoreload\n",
    "%autoreload 2"
   ]
  },
  {
   "cell_type": "code",
   "execution_count": null,
   "id": "105324c4-5768-4aa5-81ba-6be79bfb4b96",
   "metadata": {
    "tags": []
   },
   "outputs": [],
   "source": [
    "import pandas as pd\n",
    "import matplotlib.dates as mdates\n",
    "import matplotlib.pyplot as plt\n",
    "import numpy as np\n",
    "import os\n",
    "\n",
    "from astropy.time import Time, TimeDelta\n",
    "from scipy.signal import find_peaks\n",
    "from lsst.sitcom import vandv"
   ]
  },
  {
   "cell_type": "markdown",
   "id": "401fe0cb-7405-4d95-b17e-e328fee3a8a9",
   "metadata": {},
   "source": [
    "## Query the data"
   ]
  },
  {
   "cell_type": "code",
   "execution_count": null,
   "id": "24c9fe8c-f875-4f65-83f9-435cec7914d3",
   "metadata": {
    "tags": []
   },
   "outputs": [],
   "source": [
    "t_start = Time(t_start, format=\"isot\", scale=\"utc\")\n",
    "t_end = t_start + TimeDelta(24 * 3600, format=\"sec\")\n",
    "\n",
    "client = vandv.efd.create_efd_client()"
   ]
  },
  {
   "cell_type": "code",
   "execution_count": null,
   "id": "a173dc44-7c61-4380-8a09-ae5da0bcb827",
   "metadata": {
    "tags": []
   },
   "outputs": [],
   "source": [
    "df_script = await client.select_time_series(\n",
    "    \"lsst.sal.Script.logevent_logMessage\", \n",
    "    [\"salIndex\", \"level\", \"message\"], \n",
    "    t_start,\n",
    "    t_end, \n",
    ")\n",
    "\n",
    "# Select messages with the associated SAL Index\n",
    "df_script = df_script[df_script[\"salIndex\"] == sal_index]"
   ]
  },
  {
   "cell_type": "code",
   "execution_count": null,
   "id": "11bb3e63-a28b-49d6-acfc-83c3b6c4b463",
   "metadata": {
    "tags": []
   },
   "outputs": [],
   "source": [
    "df_hp = await client.select_time_series(\n",
    "    \"lsst.sal.MTM1M3.hardpointActuatorData\", \n",
    "    \"*\", \n",
    "    Time(df_script.index[0]), # Tests start\n",
    "    Time(df_script.index[-1]), # Tests end\n",
    ")"
   ]
  },
  {
   "cell_type": "markdown",
   "id": "b64a0100-ee65-4726-b91d-996b58bc168b",
   "metadata": {},
   "source": [
    "## Analyze the data\n",
    "\n",
    "Let's start analyzing the data by having a look at the measured forces over time.  \n",
    "This will help identifying any potential issues with one of the hard points right away. "
   ]
  },
  {
   "cell_type": "code",
   "execution_count": null,
   "id": "5071c50b-744b-494b-bddc-eca13cf49898",
   "metadata": {
    "tags": []
   },
   "outputs": [],
   "source": [
    "for hp_index in range(number_of_hardpoints):\n",
    "    \n",
    "    df_script_sub = df_script[df_script[\"message\"].str.contains(f\"Hard point {hp_index + 1} test\")]\n",
    "    df = df_hp.loc[df_script_sub.index[0]:df_script_sub.index[-1]]\n",
    "    hp_test = df_hp_test[df_hp_test[\"hardpointActuator\"] == hp_index + 1]\n",
    "    \n",
    "    # Create plot axes\n",
    "    fig, ax = plt.subplots(num=f\"hp_timeline_{hp_index}\", figsize=(10, 3), dpi=96)\n",
    "    \n",
    "    # Show the data\n",
    "    ax.plot(df[f\"measuredForce{hp_index}\"])\n",
    "    \n",
    "    # Add some props to the plot\n",
    "    ax.grid(\"-\", lw=0.5, alpha=0.25)\n",
    "    ax.set_ylabel(f\"HP{hp_index + 1} Measured\\n Forces [N]\")\n",
    "    ax.set_xlabel(\"Time [UTC]\")\n",
    "    \n",
    "    # Format x-axis with time\n",
    "    ax.xaxis.set_major_locator(mdates.MinuteLocator())  \n",
    "    ax.xaxis.set_major_formatter(mdates.DateFormatter('%H:%M'))  \n",
    "    \n",
    "    # Clean up the plot\n",
    "    ax.spines['top'].set_visible(False)\n",
    "    ax.spines['right'].set_visible(False)\n",
    "\n",
    "    fig.suptitle(f\"Individual Hard Points Breakaway Test\\n\"\n",
    "                 f\"HP{hp_index+1} - SAL Index {sal_index} - {df.index[0].strftime('%Y-%m-%d')}\")\n",
    "\n",
    "    os.makedirs(\"plots\", exist_ok=True)\n",
    "    fig.savefig(f\"plots/m1m3004_sal{sal_index}_hp{hp_index+1}_timeline.png\", dpi=150, bbox_inches=\"tight\")\n",
    "    \n",
    "    fig.tight_layout()\n",
    "    fig.autofmt_xdate()\n",
    "    plt.show()"
   ]
  },
  {
   "cell_type": "markdown",
   "id": "cc945658-7e41-485f-8761-cddf1565895a",
   "metadata": {},
   "source": [
    "### Slope split using edge detection"
   ]
  },
  {
   "cell_type": "code",
   "execution_count": null,
   "id": "7447561a-8fd7-40d6-8b32-a5937efd69e5",
   "metadata": {
    "tags": []
   },
   "outputs": [],
   "source": [
    "# Create plot axes\n",
    "hp_index = 0\n",
    "height=1000\n",
    "\n",
    "fig, ax = plt.subplots(num=f\"slope_split_{hp_index}\", figsize=(10, 3), dpi=96)\n",
    "\n",
    "col_force = f\"measuredForce{hp_index}\"\n",
    "col_encoder = f\"encoder{hp_index}\"\n",
    "\n",
    "df_script_sub = df_script[df_script[\"message\"].str.contains(f\"Hard point {hp_index + 1} test\")]\n",
    "df = df_hp.loc[df_script_sub.index[0]:df_script_sub.index[-1]]\n",
    "\n",
    "edge_kernel = (\n",
    "    np.concatenate(\n",
    "        [1 * np.ones(int(kernel_size / 2)), -1 * np.ones(int(kernel_size / 2))]\n",
    "    ) / kernel_size\n",
    ")\n",
    "edge = np.convolve(df[col_force], edge_kernel, mode=\"same\")\n",
    "ax.plot(edge)\n",
    "\n",
    "# times = df.index\n",
    "# starts = times[find_peaks(edge, height=height)[0]]\n",
    "# stops = times[find_peaks(-1 * edge, height=height)[0]]\n",
    "\n",
    "# # Create plot axes\n",
    "# fig, ax = plt.subplots(num=f\"hp_timeline_{hp_index}\", figsize=(10, 3), dpi=96)\n",
    "\n",
    "# # Show the data\n",
    "# ax.plot(df[f\"measuredForce{hp_index}\"])\n",
    "\n",
    "# # Add some props to the plot\n",
    "# ax.grid(\"-\", lw=0.5, alpha=0.25)\n",
    "# ax.set_ylabel(f\"HP{hp_index + 1} Measured\\n Forces [N]\")\n",
    "# ax.set_xlabel(\"Time [UTC]\")\n",
    "\n",
    "# # Format x-axis with time\n",
    "# ax.xaxis.set_major_locator(mdates.MinuteLocator())  \n",
    "# ax.xaxis.set_major_formatter(mdates.DateFormatter('%H:%M'))  \n",
    "\n",
    "# # Clean up the plot\n",
    "# ax.spines['top'].set_visible(False)\n",
    "# ax.spines['right'].set_visible(False)"
   ]
  },
  {
   "cell_type": "code",
   "execution_count": null,
   "id": "6763f1c3-8162-4793-b4f6-f388b2bdda04",
   "metadata": {},
   "outputs": [],
   "source": []
  },
  {
   "cell_type": "code",
   "execution_count": null,
   "id": "3f24fafa-7b3b-4c57-9628-fe70290a60fc",
   "metadata": {},
   "outputs": [],
   "source": []
  },
  {
   "cell_type": "code",
   "execution_count": null,
   "id": "4f321da3-643e-4cdf-83f6-0e19ef529641",
   "metadata": {},
   "outputs": [],
   "source": []
  },
  {
   "cell_type": "markdown",
   "id": "f1d45d8b-be30-4593-8b36-416e1871b92f",
   "metadata": {},
   "source": [
    "Valid hard point data collection has positive and negative measured forces.  \n",
    "They should have the same value on both sides.  \n",
    "Peaks do not count. We want to have plateaus in both sides. "
   ]
  },
  {
   "cell_type": "code",
   "execution_count": null,
   "id": "a26ed771-4deb-4546-a785-af5e190fa48e",
   "metadata": {
    "tags": []
   },
   "outputs": [],
   "source": [
    "for hp_index in range(number_of_hardpoints):\n",
    "    \n",
    "    col_force = f\"measuredForce{hp_index}\"\n",
    "    col_encoder = f\"encoder{hp_index}\"\n",
    "    \n",
    "    df_script_sub = df_script[df_script[\"message\"].str.contains(f\"Hard point {hp_index + 1} test\")]\n",
    "    df = df_hp.loc[df_script_sub.index[0]:df_script_sub.index[-1]]\n",
    "    df = df[[col_force, col_encoder]]\n",
    "    \n",
    "    # Convert encoder into steps (or vice-versa?)\n",
    "    # df[col_encoder] *= scale\n",
    "    \n",
    "    # Extract x and y data\n",
    "    x = df[col_encoder]\n",
    "    y = df[col_force]\n",
    "    \n",
    "    # Initial plot with all the data\n",
    "    fig, ax = plt.subplots(num=f\"HP{hp_index}\", figsize=(13, 5), dpi=96)\n",
    "    ax.plot(df[col_encoder], df[col_force])\n",
    "    \n",
    "    # Valid hard point breakaway tests have data crossing 0 N\n",
    "    if df[col_force].abs().min() < 10:\n",
    "\n",
    "        # Sort the absolute values of the forces and get the n_points smallest ones\n",
    "        zero_force_idxs = df[col_force].abs().sort_values().index[:n_points]\n",
    "    \n",
    "        # Extract x and y data around zero force\n",
    "        x_near_zero = x.loc[zero_force_idxs]\n",
    "        y_near_zero = y.loc[zero_force_idxs]\n",
    "    \n",
    "        # Calculate slope of linear fit to data around zero force\n",
    "        m, b = np.polyfit(x_near_zero, y_near_zero, 1)\n",
    "        \n",
    "        # Repeat for evaluate the polynomial \n",
    "        zero_force_idxs_eval = df[col_force].abs().sort_values().index[:2*n_points]\n",
    "    \n",
    "        x_plot_mean = x.loc[zero_force_idxs_eval]\n",
    "        x_plot_spec = x.loc[zero_force_idxs_eval]\n",
    "        y_plot_spec = y.loc[zero_force_idxs_eval]        \n",
    "    \n",
    "        ax.plot(\n",
    "            x_plot_mean, \n",
    "            m * x_plot_mean + b, \n",
    "            color='red', \n",
    "            linewidth=2, \n",
    "            label=f\"Calculated Stiffness = {m:.2f} N/μm \\n\"\n",
    "                  f\"Encoder Fitting Range =  {round(x_near_zero.min(),2)}\"\n",
    "                  f\" - {round(x_near_zero.max(),2)} μm\"\n",
    "        )\n",
    "    \n",
    "        # ax.plot(\n",
    "        #     x_plot_spec, \n",
    "        #     spect_stiffness * x_plot_spec, \n",
    "        #     color='green', \n",
    "        #     linewidth=2, \n",
    "        #     label=f\"Spect. Stiffness = 100 N/μm\"\n",
    "        # )\n",
    "    \n",
    "        legend = ax.legend(loc='lower right', fontsize=12)\n",
    "        \n",
    "        # Modify x-axis to have zero in the middle\n",
    "        ax.spines['bottom'].set_position('zero')\n",
    "\n",
    "    # Add axis labels\n",
    "    ax.set_xlabel('Encoder (steps)')\n",
    "    ax.set_ylabel('Force (N)')\n",
    "\n",
    "    # Add grid and legend to plot\n",
    "    ax.grid(\"-\", lw=0.5, alpha=0.25)\n",
    "\n",
    "    ax.spines['top'].set_visible(False)\n",
    "    ax.spines['right'].set_visible(False)\n",
    "    ax.xaxis.set_ticks_position('bottom')\n",
    "    ax.set_ylim(1.1 * y.min(), 1.1 * y.max())\n",
    "    ax.set_xlim(x_plot_mean.mean() - 2000, x_plot_mean.mean() + 2000)\n",
    "\n",
    "    # Add title to plot\n",
    "    title = (f\"Individual Hard Point Breakaway Test\\n\"\n",
    "             f\"HP{hp_index + 1} - SAL Index {sal_index} -\"\n",
    "             f\" {df.index[0].isoformat(timespec='seconds')[:-6]} -\"\n",
    "             f\" {df.index[-1].isoformat(timespec='seconds')[:-6]}\")\n",
    "    plt.title(f\"{title}\")\n",
    "\n",
    "    # Save plot as png file\n",
    "    filename = f\"m1m3t004_hp{hp_index+1}_salidx{sal_index}_steps.png\"\n",
    "    os.makedirs(\"plots\", exist_ok=True)\n",
    "    fig.savefig(f\"plots/{filename}\", dpi=150, bbox_inches=\"tight\")\n",
    "\n",
    "    # Show plot\n",
    "    plt.show()"
   ]
  },
  {
   "cell_type": "code",
   "execution_count": null,
   "id": "796e6402-f259-468d-9c85-9fedf489ac66",
   "metadata": {},
   "outputs": [],
   "source": []
  }
 ],
 "metadata": {
  "kernelspec": {
   "display_name": "LSST",
   "language": "python",
   "name": "lsst"
  },
  "language_info": {
   "codemirror_mode": {
    "name": "ipython",
    "version": 3
   },
   "file_extension": ".py",
   "mimetype": "text/x-python",
   "name": "python",
   "nbconvert_exporter": "python",
   "pygments_lexer": "ipython3",
   "version": "3.10.10"
  }
 },
 "nbformat": 4,
 "nbformat_minor": 5
}
