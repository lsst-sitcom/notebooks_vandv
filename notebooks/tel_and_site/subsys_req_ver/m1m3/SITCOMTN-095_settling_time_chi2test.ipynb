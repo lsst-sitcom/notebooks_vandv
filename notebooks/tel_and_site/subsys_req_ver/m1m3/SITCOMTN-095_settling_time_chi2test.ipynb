{
 "cells": [
  {
   "cell_type": "markdown",
   "id": "7c235e45-d932-432a-b473-f72774f97a37",
   "metadata": {},
   "source": [
    "# Settling Time After a Slew\n",
    "# Chi2 test method\n",
    "\n",
    "This notebook evaluates the RMS of displacement values against long-term position and rotation measurements taken by the IMS at M1M3. It returns the settling time determined by when the values of the IMS measurement with respect to its long term behavior (determined by the parameter postPadding in seconds after the slew stop) becomes compatible with the standard deviation, using a chi2 test, or whenever the RMS or bias become sufficiently small with respect to the requirement.\n",
    "\n",
    "Note that in this version of the notebook, you will have to introduce the dayObs and slew of interest to be analyzed.\n",
    "\n",
    "[LVV-T11258]: https://jira.lsstcorp.org/browse/LVV-11258\n",
    "\n",
    "### Prepare Notebook"
   ]
  },
  {
   "cell_type": "code",
   "execution_count": null,
   "id": "9627519e-ef49-41c5-9085-1a7373e7b3c0",
   "metadata": {
    "tags": []
   },
   "outputs": [],
   "source": [
    "%matplotlib inline\n",
    "%load_ext autoreload\n",
    "%autoreload 2\n",
    "%load_ext lab_black"
   ]
  },
  {
   "cell_type": "code",
   "execution_count": null,
   "id": "c3d229f3-648a-4ee3-ac70-8e22bd90e53e",
   "metadata": {
    "tags": []
   },
   "outputs": [],
   "source": [
    "import pandas as pd\n",
    "import matplotlib.pyplot as plt\n",
    "import numpy as np\n",
    "\n",
    "from astropy.time import Time, TimezoneInfo\n",
    "from scipy import stats\n",
    "\n",
    "from lsst.summit.utils.tmaUtils import TMAEventMaker, TMAState\n",
    "from lsst.summit.utils.efdUtils import getEfdData, makeEfdClient\n",
    "from lsst.summit.utils.blockUtils import BlockParser\n",
    "\n",
    "import warnings\n",
    "\n",
    "warnings.filterwarnings(\"ignore\")"
   ]
  },
  {
   "cell_type": "code",
   "execution_count": null,
   "id": "6fa49a3c-6c77-4d44-939f-b713b1e5ca76",
   "metadata": {
    "tags": []
   },
   "outputs": [],
   "source": [
    "# create a client to retrieve datasets in the EFD database\n",
    "client = makeEfdClient()"
   ]
  },
  {
   "cell_type": "markdown",
   "id": "72fdf187-0dbb-477c-a8dc-6749a9f8c9f8",
   "metadata": {
    "execution": {
     "iopub.execute_input": "2023-11-17T19:22:33.405869Z",
     "iopub.status.busy": "2023-11-17T19:22:33.405680Z",
     "iopub.status.idle": "2023-11-17T19:22:33.440556Z",
     "shell.execute_reply": "2023-11-17T19:22:33.440146Z",
     "shell.execute_reply.started": "2023-11-17T19:22:33.405856Z"
    },
    "tags": []
   },
   "source": [
    "### Define relevant settings"
   ]
  },
  {
   "cell_type": "markdown",
   "id": "ea96e058-b78e-46cf-8091-5b2317e58b99",
   "metadata": {},
   "source": [
    "#### Requirements"
   ]
  },
  {
   "cell_type": "code",
   "execution_count": null,
   "id": "044913db-6728-4b3e-a090-0425f7eb2737",
   "metadata": {
    "tags": []
   },
   "outputs": [],
   "source": [
    "req_delta_t = 1.0  ## seconds after slew\n",
    "req_rms_position = (\n",
    "    2e-3  ## mm, tolerance from repeatability requirement for IMS positional\n",
    ")\n",
    "req_rms_rotation = (\n",
    "    3e-5  ## degrees, tolerance from repeatability requirement for IMS rotational\n",
    ")"
   ]
  },
  {
   "cell_type": "markdown",
   "id": "5a56db2c-4172-46db-9155-3ff63fcbc5b9",
   "metadata": {},
   "source": [
    "#### Observation day"
   ]
  },
  {
   "cell_type": "code",
   "execution_count": null,
   "id": "beda404b-dea9-49ba-9544-be6cbf635a63",
   "metadata": {
    "tags": []
   },
   "outputs": [],
   "source": [
    "## Insert here the dayObs of interest\n",
    "dayObs = 20231220  # 20231129"
   ]
  },
  {
   "cell_type": "markdown",
   "id": "e2f8366b-5a40-4689-9e01-b211f3aa09ed",
   "metadata": {},
   "source": [
    "#### Reference time (padding after slew)"
   ]
  },
  {
   "cell_type": "code",
   "execution_count": null,
   "id": "b7562462-a221-4f69-966b-0f00366b8968",
   "metadata": {
    "tags": []
   },
   "outputs": [],
   "source": [
    "# define time padding after end of slew\n",
    "postPadding = 15  # in seconds, integration time will be 30 s"
   ]
  },
  {
   "cell_type": "markdown",
   "id": "18e9366f-669d-4bc9-9a37-6123ca03020b",
   "metadata": {
    "tags": []
   },
   "source": [
    "#### Define column names"
   ]
  },
  {
   "cell_type": "code",
   "execution_count": null,
   "id": "463c0894-10ba-4d9a-93c0-184577716beb",
   "metadata": {
    "tags": []
   },
   "outputs": [],
   "source": [
    "## Define column names\n",
    "all_columns = [\n",
    "    \"xPosition\",\n",
    "    \"yPosition\",\n",
    "    \"zPosition\",\n",
    "    \"xRotation\",\n",
    "    \"yRotation\",\n",
    "    \"zRotation\",\n",
    "]\n",
    "pos_columns = [c for c in all_columns if \"Position\" in c]\n",
    "rot_columns = [c for c in all_columns if \"Rotation\" in c]"
   ]
  },
  {
   "cell_type": "markdown",
   "id": "58085fea-42ff-43f0-89be-f3a2a1101b42",
   "metadata": {
    "tags": []
   },
   "source": [
    "### Define functions"
   ]
  },
  {
   "cell_type": "markdown",
   "id": "3fa00725-5bff-4894-9892-d67e1368af60",
   "metadata": {
    "tags": []
   },
   "source": [
    "#### measure settling time\n",
    "\n",
    "This is the function that will return the number of seconds it takes for the queried IMS value to settle, using a chi2 test of bias vs long term value."
   ]
  },
  {
   "cell_type": "code",
   "execution_count": null,
   "id": "c216de9d-5fa6-4ba5-b4be-e4aec7fecd38",
   "metadata": {
    "tags": []
   },
   "outputs": [],
   "source": [
    "def computeSettleTime(\n",
    "    df_ims,  # input data frame\n",
    "    referenceTime=\"2023-06-01T06:00:0Z\",  # time for slew stop (T0)\n",
    "    lo_delta_t=5,  # in seconds\n",
    "    hi_delta_t=30,  # in seconds\n",
    "    imsColumn=\"xPosition\",  # IMS column\n",
    "    rmsReq=2e-3,  # requirement in appropriate units\n",
    "    req_delta_t=3,  # time for settling, in seconds\n",
    "    chi2prob=0.999,  # confidence level for IMS variable wrt to long term value and variance to agree\n",
    "):\n",
    "    if \"Position\" in imsColumn:\n",
    "        units = \"mm\"\n",
    "        ylimMax = rmsReq + 0.005\n",
    "    elif \"Rotation\" in imsColumn:\n",
    "        units = \"deg\"\n",
    "        ylimMax = rmsReq + 0.0001\n",
    "    else:\n",
    "        print(\"Unidentified column\")\n",
    "        return -1\n",
    "\n",
    "    settleTime = False\n",
    "\n",
    "    # T0 and T1 defines the window for requirement to be met\n",
    "    T0 = pd.to_datetime(referenceTime)  # this is slew stop\n",
    "    T1 = T0 + pd.to_timedelta(\n",
    "        req_delta_t, unit=\"s\"\n",
    "    )  # this is the end of maximum req. window\n",
    "    delta_window = [\n",
    "        pd.Timedelta(lo_delta_t, \"seconds\"),\n",
    "        pd.Timedelta(hi_delta_t, \"seconds\"),\n",
    "    ]\n",
    "    # zoom around the T0 of interest\n",
    "    TZoom = [T0 - delta_window[0], T0 + delta_window[1]]\n",
    "\n",
    "    # targetVariablePlot takes the data frame for the complete plot range\n",
    "    targetVariablePlot = df_ims[imsColumn][TZoom[0] : TZoom[1]]\n",
    "    # targetVariableCheck takes the data from the slew stop, until the end of the plot\n",
    "    targetVariableCheck = df_ims[imsColumn][T0 : TZoom[1]]\n",
    "    # targetVariableWindow takes the data from the slew stop, until the end of requirement window\n",
    "    targetVariableWindow = df_ims[imsColumn][T0:T1]\n",
    "    idxT0 = df_ims.index[  # index in dataframe closest in time to slew stop\n",
    "        df_ims.index.get_indexer([pd.to_datetime(T0)], method=\"nearest\")\n",
    "    ]\n",
    "    idxT1 = (\n",
    "        df_ims.index[  # index in dataframe closest in time to end of requirement window\n",
    "            df_ims.index.get_indexer([pd.to_datetime(T1)], method=\"nearest\")\n",
    "        ]\n",
    "    )\n",
    "    idxTend = df_ims.index[  # index in dataframe closest in time to end of plot\n",
    "        df_ims.index.get_indexer(\n",
    "            [pd.to_datetime(T0 + delta_window[1])], method=\"nearest\"\n",
    "        )\n",
    "    ]\n",
    "    targetVariableReference = [\n",
    "        float(df_ims[imsColumn][idxT0]),\n",
    "        float(df_ims[imsColumn][idxTend]),\n",
    "    ]\n",
    "    if len(targetVariablePlot.index) == 0:\n",
    "        print(\"Data frame is empty\")\n",
    "        return -1\n",
    "\n",
    "    # it is important that the end of the plot (targetVariableReference[1])\n",
    "    # does not hit another slew or movement, nor at any point in the middle of the window\n",
    "\n",
    "    # correct IMS variable wrt end of plot\n",
    "    correctedVariablePlot = targetVariablePlot - targetVariableReference[1]\n",
    "    correctedVariableCheck = targetVariableCheck - targetVariableReference[1]\n",
    "    correctedVariableCheck2 = np.square(correctedVariableCheck)\n",
    "\n",
    "    # number of values where the chi2 will be computed\n",
    "    rolling = 30  # 50 is approx. 1 s\n",
    "    # chi2 right tail probability for N=rolling dof at chi2prob CL\n",
    "    crit = stats.chi2.ppf(chi2prob, rolling)\n",
    "\n",
    "    rms = correctedVariableCheck.rolling(rolling).std()\n",
    "    var = correctedVariableCheck.rolling(rolling).var()\n",
    "    mean = abs(correctedVariableCheck.rolling(rolling).mean())\n",
    "\n",
    "    # compute the chi2 against the null hypothesis\n",
    "    # the x_i are the measurements in a window (wrt to reference at end of plot)\n",
    "    # the variance is for the same values\n",
    "    # so chi2 = sum_N[(x_i - 0)**2/variance] where N = rolling\n",
    "    sum2 = correctedVariableCheck2.rolling(rolling).sum()\n",
    "    chi2 = sum2 / var\n",
    "    # check the chi2 at each step using rollingCheck as the number of consecutive instances in which\n",
    "    # chi2 has to be under the critical value\n",
    "    # or rms and bias be both already 10% of requirement\n",
    "    PFCheck = (chi2 < crit) | ((rms < 0.1 * rmsReq) & (mean < 0.1 * rmsReq))\n",
    "    # PFCheck = (rms < 0.2 * rmsReq) & (mean < 0.5 * rmsReq)\n",
    "    rollingCheck = 30\n",
    "    stabilityCheck = (\n",
    "        PFCheck.rolling(rollingCheck).apply(lambda s: s.all()) > 0\n",
    "    )  # true if rollingCheck consecutive true values of PFcheck\n",
    "    if len(stabilityCheck[stabilityCheck == True]) < rollingCheck:  ## == 0:\n",
    "        # print(f\"Not settled within {postPadding} s window\")\n",
    "        settleTime = False\n",
    "    elif rms[stabilityCheck[stabilityCheck == True].index[0]] <= rmsReq:\n",
    "        settleTime = stabilityCheck[stabilityCheck == True].index[rollingCheck]\n",
    "    else:\n",
    "        n = 1\n",
    "        while (\n",
    "            rms[stabilityCheck[stabilityCheck == True].index[n + rollingCheck]] > rmsReq\n",
    "        ):\n",
    "            settleTime = stabilityCheck[stabilityCheck == True].index[n + rollingCheck]\n",
    "            n = n + 1\n",
    "        # if settleTime < referenceTime:\n",
    "        #    settleTime = referenceTime\n",
    "    settleInterval = -1\n",
    "    if settleTime:\n",
    "        settleInterval = settleTime - referenceTime\n",
    "        if settleInterval.total_seconds() < 0:\n",
    "            print(f\"Already settled at slew stop\")\n",
    "            settleInterval = 0\n",
    "        else:\n",
    "            settleInterval = settleInterval.total_seconds()\n",
    "\n",
    "    title = imsColumn\n",
    "    fig = plt.figure()\n",
    "    label = \"Corrected \" + imsColumn + \"(\" + units + \") difference wrt end of plot\"\n",
    "    plt.plot(\n",
    "        correctedVariablePlot,\n",
    "        color=\"red\",\n",
    "        ls=\"dashed\",\n",
    "        lw=\"0.5\",\n",
    "        label=label,\n",
    "    )\n",
    "    plt.plot(rms, label=f\"RMS of corrected value, using {rolling} rolling values\")\n",
    "    plt.plot(\n",
    "        mean,\n",
    "        ls=\"dashed\",\n",
    "        label=f\"Bias of corrected value, using {rolling} rolling values\",\n",
    "    )\n",
    "    if settleTime:\n",
    "        plt.arrow(\n",
    "            settleTime,\n",
    "            1.1 * rmsReq,\n",
    "            0.0,\n",
    "            -0.5 * rmsReq,\n",
    "            width=2e-6,\n",
    "            head_length=0.5 * rmsReq,\n",
    "            label=\"Settling achieved\",\n",
    "        )\n",
    "        plt.text(\n",
    "            0.5,\n",
    "            0.92,\n",
    "            \"Settle time =\" + \" {:.2f} \".format(settleInterval) + \" s\",\n",
    "            transform=fig.transFigure,\n",
    "        )\n",
    "    plt.axvline(T0, lw=\"1.25\", c=\"k\", ls=\"dashed\", label=\"Slew stop\")\n",
    "    plt.axhline(-rmsReq, lw=\"0.75\", c=\"k\", ls=\"dashed\", label=\"IMS repeatability req.\")\n",
    "    plt.axhline(rmsReq, lw=\"0.75\", c=\"k\", ls=\"dashed\")\n",
    "    plt.xlabel(\"Time [UTC]\")\n",
    "    plt.ylabel(f\"{imsColumn} {units}\")\n",
    "    plt.ylim(-ylimMax, ylimMax)\n",
    "    fig.autofmt_xdate()\n",
    "    plt.legend(loc=\"upper right\", fontsize=\"8\")\n",
    "    fig.tight_layout()\n",
    "\n",
    "    if not settleTime:\n",
    "        return -1\n",
    "\n",
    "    return settleInterval"
   ]
  },
  {
   "cell_type": "markdown",
   "id": "c741d971-c0c5-48eb-b99d-553650ccc406",
   "metadata": {
    "tags": []
   },
   "source": [
    "#### compare IMS vs mount data\n",
    "\n",
    "This is an auxiliary function to plot information from the IMS with respect to the elevation and azimuth measurements from the mount."
   ]
  },
  {
   "cell_type": "code",
   "execution_count": null,
   "id": "06e3bbe4-4417-49a4-b471-379dda7babde",
   "metadata": {
    "tags": []
   },
   "outputs": [],
   "source": [
    "def compareIMSMount(\n",
    "    df_ims,\n",
    "    df_mtmount_ele,\n",
    "    df_mtmount_azi,\n",
    "    referenceTime=\"2023-06-01 06:53:37.326\",\n",
    "    lo_delta_t=5,  # in seconds\n",
    "    hi_delta_t=60,  # in seconds\n",
    "):\n",
    "    fig, axs = plt.subplots(8, 1, dpi=125, figsize=(6, 8))\n",
    "    t_start_plot = pd.to_datetime(referenceTime) - pd.to_timedelta(\n",
    "        lo_delta_t, unit=\"s\"\n",
    "    )  ##correcting by hand for TAI, is this correct?\n",
    "    t_end_plot = pd.to_datetime(referenceTime) + pd.to_timedelta(hi_delta_t, unit=\"s\")\n",
    "\n",
    "    ax = axs[0]\n",
    "    actpos_ele = df_mtmount_ele[\"actualPosition\"][t_start_plot:t_end_plot]\n",
    "    ax.plot(actpos_ele, color=\"red\", lw=\"0.5\")\n",
    "    ax.axvline(pd.to_datetime(referenceTime), lw=\"0.5\", c=\"k\")\n",
    "    ax.set_ylabel(\"Elevation \\nPosition\\n[deg]\")\n",
    "\n",
    "    ax = axs[1]\n",
    "    actpos_azi = df_mtmount_azi[\"actualPosition\"][t_start_plot:t_end_plot]\n",
    "    ax.plot(actpos_azi, color=\"red\", lw=\"0.5\")\n",
    "    ax.axvline(pd.to_datetime(referenceTime), lw=\"0.5\", c=\"k\", label=\"Slew stop\")\n",
    "    ax.set_ylabel(\"Azimuth \\nPosition\\n[deg]\")\n",
    "\n",
    "    t_start_plot = pd.to_datetime(referenceTime) - pd.to_timedelta(lo_delta_t, unit=\"s\")\n",
    "    t_end_plot = pd.to_datetime(referenceTime) + pd.to_timedelta(hi_delta_t, unit=\"s\")\n",
    "\n",
    "    plotstring = [\n",
    "        \"xPosition\",\n",
    "        \"yPosition\",\n",
    "        \"zPosition\",\n",
    "        \"xRotation\",\n",
    "        \"yRotation\",\n",
    "        \"zRotation\",\n",
    "    ]\n",
    "    plotrange = np.arange(len(plotstring))\n",
    "    for i in plotrange:\n",
    "        ax = axs[i + 2]\n",
    "        pos = df_ims[plotstring[i]][t_start_plot:t_end_plot]\n",
    "        ax.plot(pos, color=\"red\", lw=\"0.5\")\n",
    "        ax.axvline(pd.to_datetime(referenceTime), lw=\"0.5\", c=\"k\")\n",
    "        ax.set_ylabel(plotstring[i] + \" \\n[mm]\")\n",
    "    ax.set_xlabel(\"UTC\")\n",
    "    fig.autofmt_xdate()\n",
    "    fig.subplots_adjust(hspace=1)\n",
    "    fig.suptitle(referenceTime)\n",
    "    fig.legend()\n",
    "    fig.tight_layout()\n",
    "    ### TBD: use a delta time wrt slew stop in x-label"
   ]
  },
  {
   "cell_type": "markdown",
   "id": "decee784-6779-4188-84d7-86727cb7cdb8",
   "metadata": {
    "execution": {
     "iopub.execute_input": "2023-05-29T17:26:26.927448Z",
     "iopub.status.busy": "2023-05-29T17:26:26.927223Z",
     "iopub.status.idle": "2023-05-29T17:26:26.953496Z",
     "shell.execute_reply": "2023-05-29T17:26:26.953042Z",
     "shell.execute_reply.started": "2023-05-29T17:26:26.927433Z"
    },
    "tags": []
   },
   "source": [
    "### Load data"
   ]
  },
  {
   "cell_type": "markdown",
   "id": "6499f60c-7943-41ae-af1c-f60c2f52dadd",
   "metadata": {
    "tags": []
   },
   "source": [
    "#### Get slew stops"
   ]
  },
  {
   "cell_type": "code",
   "execution_count": null,
   "id": "b66bab89-b2ef-42ae-a73e-ab34e72ea514",
   "metadata": {
    "tags": []
   },
   "outputs": [],
   "source": [
    "# Select data from a given date\n",
    "eventMaker = TMAEventMaker()\n",
    "events = eventMaker.getEvents(dayObs)\n",
    "\n",
    "# Get lists of slew and track events\n",
    "slews = [e for e in events if e.type == TMAState.SLEWING]\n",
    "tracks = [e for e in events if e.type == TMAState.TRACKING]\n",
    "print(f\"There are {len(events)} events\")\n",
    "print(f\"Found {len(slews)} slews and {len(tracks)} tracks\")"
   ]
  },
  {
   "cell_type": "code",
   "execution_count": null,
   "id": "1227994e-c5ec-4585-aa46-1af8be96f7fb",
   "metadata": {
    "tags": []
   },
   "outputs": [],
   "source": [
    "# Get events related to soak tests (block 137 currently)\n",
    "blockEvents = []\n",
    "blockNb = 146\n",
    "for event in events:\n",
    "    blockInfos = event.blockInfos\n",
    "    if blockInfos is None:\n",
    "        continue  # no block info attached to event at all\n",
    "\n",
    "    # check if any of the attached blockInfos are for specified block\n",
    "    blockNums = {b.blockNumber for b in blockInfos}\n",
    "    if blockNb in blockNums:\n",
    "        blockEvents.append(event)\n",
    "\n",
    "print(f\"Of the {len(events)} events, {len(blockEvents)} relate to block {blockNb}.\")"
   ]
  },
  {
   "cell_type": "code",
   "execution_count": null,
   "id": "f5f160c3-7d5c-41be-ba08-3557803c606d",
   "metadata": {
    "tags": []
   },
   "outputs": [],
   "source": [
    "# Print out sequential number of events that have certain characteristics\n",
    "for i in range(len(blockEvents)):\n",
    "    if (\n",
    "        blockEvents[i].endReason == TMAState.TRACKING\n",
    "        and blockEvents[i].type == TMAState.SLEWING\n",
    "    ):\n",
    "        print(blockEvents[i].seqNum, end=\", \")"
   ]
  },
  {
   "cell_type": "code",
   "execution_count": null,
   "id": "e3605549-062f-4813-b647-b397c492f8ae",
   "metadata": {
    "tags": []
   },
   "outputs": [],
   "source": [
    "targetSeqNum = 94  # this is a sequential number for the whole events list of the dayObs"
   ]
  },
  {
   "cell_type": "code",
   "execution_count": null,
   "id": "9048573c-6e49-42f2-a2aa-69db1b434040",
   "metadata": {
    "tags": []
   },
   "outputs": [],
   "source": [
    "t0 = Time(events[targetSeqNum].begin, format=\"isot\", scale=\"utc\")  # start of slew\n",
    "t0 = pd.to_datetime(t0.value, utc=True)  # astropy Time to Timestamp conversion\n",
    "t1 = Time(events[targetSeqNum].end, format=\"isot\", scale=\"utc\")  # end of slew\n",
    "t1 = pd.to_datetime(t1.value, utc=True)  # astropy Time to Timestamp conversion\n",
    "print(\"Slew stop at:\", t1)\n",
    "\n",
    "# Get IMS data\n",
    "\n",
    "df_ims = getEfdData(\n",
    "    client,\n",
    "    \"lsst.sal.MTM1M3.imsData\",\n",
    "    event=events[targetSeqNum],\n",
    "    postPadding=postPadding,\n",
    ")\n",
    "df_ims = df_ims[all_columns]\n",
    "# Convert meter to milimeter\n",
    "df_ims[pos_columns] = df_ims[pos_columns] * 1e3"
   ]
  },
  {
   "cell_type": "code",
   "execution_count": null,
   "id": "064cdaad-08d1-46a5-b391-862fb96a6dce",
   "metadata": {
    "tags": []
   },
   "outputs": [],
   "source": [
    "# Get mount data\n",
    "df_mtmount_ele = getEfdData(\n",
    "    client,\n",
    "    \"lsst.sal.MTMount.elevation\",\n",
    "    event=events[targetSeqNum],\n",
    "    postPadding=postPadding,\n",
    ")\n",
    "df_mtmount_azi = getEfdData(\n",
    "    client,\n",
    "    \"lsst.sal.MTMount.azimuth\",\n",
    "    event=events[targetSeqNum],\n",
    "    postPadding=postPadding,\n",
    ")"
   ]
  },
  {
   "cell_type": "markdown",
   "id": "b5d91fe4-7273-4fde-babb-ad50fe299d6d",
   "metadata": {
    "tags": []
   },
   "source": [
    "### Look at data\n",
    "\n",
    "This step is not necessary, but useful to get a visual impression of how the IMS data vary with TMA movements."
   ]
  },
  {
   "cell_type": "code",
   "execution_count": null,
   "id": "3552f9c2-2a0b-47cd-9d27-d89b0064219b",
   "metadata": {
    "tags": []
   },
   "outputs": [],
   "source": [
    "%matplotlib inline\n",
    "compareIMSMount(\n",
    "    df_ims,\n",
    "    df_mtmount_ele,\n",
    "    df_mtmount_azi,\n",
    "    t1,\n",
    "    10,\n",
    "    pd.to_timedelta(postPadding, unit=\"s\"),\n",
    ")"
   ]
  },
  {
   "cell_type": "markdown",
   "id": "e608982d-ca62-4968-b83f-c0c7e8bd3022",
   "metadata": {
    "execution": {
     "iopub.execute_input": "2023-05-29T17:28:18.701852Z",
     "iopub.status.busy": "2023-05-29T17:28:18.701639Z",
     "iopub.status.idle": "2023-05-29T17:28:18.728001Z",
     "shell.execute_reply": "2023-05-29T17:28:18.727553Z",
     "shell.execute_reply.started": "2023-05-29T17:28:18.701838Z"
    },
    "tags": []
   },
   "source": [
    "### Run test"
   ]
  },
  {
   "cell_type": "markdown",
   "id": "90d48898-5a5d-440d-8332-80bd19d65b22",
   "metadata": {},
   "source": [
    "Currently the test involves executing the computeSettleTime function. The test will return the settle time determined by a chi square test under a certain probability (default is 0.999) that the IMS variable fluctuactions with respect to the value at postPadding seconds after slew stop is compatible with the RMS of the variable itself. Also, it is required that the RMS is below the IMS requirement for position or rotation."
   ]
  },
  {
   "cell_type": "code",
   "execution_count": null,
   "id": "05c02bc4-be31-4669-817c-05c40db60783",
   "metadata": {
    "tags": []
   },
   "outputs": [],
   "source": [
    "%matplotlib inline\n",
    "# np.set_printoptions(threshold=sys.maxsize)\n",
    "# pd.set_option(\"display.max_rows\", None)\n",
    "settle_intervals = np.empty(6)\n",
    "c = 0\n",
    "\n",
    "for col in all_columns:\n",
    "    if col in pos_columns:\n",
    "        req = req_rms_position\n",
    "    else:\n",
    "        req = req_rms_rotation\n",
    "    settle_interval = computeSettleTime(\n",
    "        df_ims=df_ims,\n",
    "        referenceTime=t1,\n",
    "        lo_delta_t=5,\n",
    "        hi_delta_t=postPadding,\n",
    "        imsColumn=col,\n",
    "        rmsReq=req,\n",
    "        req_delta_t=req_delta_t,\n",
    "        chi2prob=0.99,\n",
    "    )\n",
    "    if settle_interval >= 0:\n",
    "        print(f\"{col} settled in {settle_interval:.2f} s\")\n",
    "    else:\n",
    "        print(f\"{col} not settled in {postPadding} s\")\n",
    "    settle_intervals[c] = settle_interval\n",
    "    c = c + 1\n",
    "avg = np.mean(settle_intervals[settle_intervals >= 0])\n",
    "print(f\"Average settling time is {avg:.2f} s\")"
   ]
  },
  {
   "cell_type": "code",
   "execution_count": null,
   "id": "d06e1279-5574-4746-b615-533fa59b029d",
   "metadata": {
    "tags": []
   },
   "outputs": [],
   "source": [
    "# this is an example call for a single column of the IMS data frame\n",
    "computeSettleTime(\n",
    "    df_ims=df_ims,\n",
    "    referenceTime=t1,\n",
    "    lo_delta_t=5,\n",
    "    hi_delta_t=postPadding,\n",
    "    imsColumn=\"zRotation\",\n",
    "    rmsReq=req_rms_rotation,\n",
    "    req_delta_t=req_delta_t,\n",
    "    chi2prob=0.999,\n",
    ")"
   ]
  }
 ],
 "metadata": {
  "kernelspec": {
   "display_name": "LSST",
   "language": "python",
   "name": "lsst"
  },
  "language_info": {
   "codemirror_mode": {
    "name": "ipython",
    "version": 3
   },
   "file_extension": ".py",
   "mimetype": "text/x-python",
   "name": "python",
   "nbconvert_exporter": "python",
   "pygments_lexer": "ipython3",
   "version": "3.11.4"
  }
 },
 "nbformat": 4,
 "nbformat_minor": 5
}
