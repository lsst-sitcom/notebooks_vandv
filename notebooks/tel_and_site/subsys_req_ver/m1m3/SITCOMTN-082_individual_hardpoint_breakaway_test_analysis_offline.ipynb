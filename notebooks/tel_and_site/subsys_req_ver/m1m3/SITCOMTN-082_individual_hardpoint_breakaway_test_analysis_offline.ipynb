{
 "cells": [
  {
   "cell_type": "markdown",
   "id": "474a6257-c44b-4c01-8192-5af9eb127074",
   "metadata": {},
   "source": [
    "# [LVV-T231] - M13T-004: Individual Hardpoint Breakaway Test\n",
    "\n",
    "Notebook containing data analysis for the [LVV-T231] test case.  \n",
    "The script used to run this test case can be found in [M13T004.py].  \n",
    "\n",
    "[LVV-T231]: https://jira.lsstcorp.org/secure/Tests.jspa#/testCase/LVV-T231\n",
    "[M13T004.py]: https://github.com/lsst-ts/ts_m1m3supporttesting/blob/develop/M13T004.py\n",
    "\n",
    "## Summary\n",
    "\n",
    "1. The analysis comprining the measured hardpoint stiffness from specified stiffness.\n",
    "2. This notebook analyses the offline data produces by the script [M13T004.py] and stored on m1m3-dev.cp.lsst.org.\n",
    "3. The data show the forces changing with hardpoint extension and compression.\n",
    "4. Compression is marked bya \"-\" infront of \"-999999999\"in the file name.\n",
    "\n",
    "## Expected Results\n",
    "\n",
    "It is expected that the fitted hardpoint stiffness is within the specified stiffness. \n",
    "\n"
   ]
  },
  {
   "cell_type": "code",
   "execution_count": 2,
   "id": "b49dd25b-328e-44a1-9d27-14439b34ef6b",
   "metadata": {
    "execution": {
     "iopub.execute_input": "2023-05-30T16:10:58.833529Z",
     "iopub.status.busy": "2023-05-30T16:10:58.833252Z",
     "iopub.status.idle": "2023-05-30T16:10:58.835929Z",
     "shell.execute_reply": "2023-05-30T16:10:58.835548Z",
     "shell.execute_reply.started": "2023-05-30T16:10:58.833512Z"
    },
    "tags": []
   },
   "outputs": [],
   "source": [
    "test_case = \"LVV-T231\"\n",
    "test_exec = \"LVV-EXXXX\" "
   ]
  },
  {
   "cell_type": "code",
   "execution_count": 3,
   "id": "1ce8b55e-486d-4b60-919a-db072f508c5d",
   "metadata": {
    "execution": {
     "iopub.execute_input": "2023-05-30T16:10:59.301544Z",
     "iopub.status.busy": "2023-05-30T16:10:59.301282Z",
     "iopub.status.idle": "2023-05-30T16:10:59.656984Z",
     "shell.execute_reply": "2023-05-30T16:10:59.656432Z",
     "shell.execute_reply.started": "2023-05-30T16:10:59.301529Z"
    },
    "tags": []
   },
   "outputs": [],
   "source": [
    "import pandas as pd\n",
    "import matplotlib.pyplot as plt\n",
    "import numpy as np\n",
    "import os"
   ]
  },
  {
   "cell_type": "code",
   "execution_count": 6,
   "id": "0dbeb9f9",
   "metadata": {
    "execution": {
     "iopub.execute_input": "2023-05-30T16:11:32.297470Z",
     "iopub.status.busy": "2023-05-30T16:11:32.297197Z",
     "iopub.status.idle": "2023-05-30T16:11:32.299799Z",
     "shell.execute_reply": "2023-05-30T16:11:32.299430Z",
     "shell.execute_reply.started": "2023-05-30T16:11:32.297453Z"
    },
    "tags": []
   },
   "outputs": [],
   "source": [
    "# Directory with csv files\n",
    "directory = '/home/hdrass/'"
   ]
  },
  {
   "cell_type": "code",
   "execution_count": 8,
   "id": "76908aea",
   "metadata": {
    "execution": {
     "iopub.execute_input": "2023-05-30T16:12:05.451002Z",
     "iopub.status.busy": "2023-05-30T16:12:05.450611Z",
     "iopub.status.idle": "2023-05-30T16:12:05.459106Z",
     "shell.execute_reply": "2023-05-30T16:12:05.458605Z",
     "shell.execute_reply.started": "2023-05-30T16:12:05.450986Z"
    },
    "tags": []
   },
   "outputs": [],
   "source": [
    "# Loop through files in directory\n",
    "for filename in os.listdir(directory):\n",
    "    if filename.startswith(\"HP\"):\n",
    "        print(filename)\n",
    "        filepath = os.path.join(directory, filename)\n",
    "        df = pd.read_csv(filepath)\n",
    "        \n",
    "        zero = 450          # plot only regions around 0 for \"Measured force\"\n",
    "\n",
    "        # Limit data to region around zero force if specified\n",
    "        df_sort = df.iloc[(df[df.columns[2]]).abs().argsort()[:2]]\n",
    "        zindex = df_sort.index.tolist()[0]\n",
    "        df = df[max(0, zindex - zero) : zindex + zero]\n",
    "\n",
    "        scale = 0.2442      # scale factor for \"encoder\"\n",
    "        df[df.columns[3]] *= scale\n",
    "\n",
    "        # Extract x and y data\n",
    "        x = df[df.columns[3]]\n",
    "        y = df[df.columns[2]]\n",
    "\n",
    "        # Find value of x at zero force\n",
    "        zero_force = df.loc[df[df.columns[2]].abs().idxmin(), df.columns[3]]\n",
    "\n",
    "        points = 50  # number of points around zero force for linear fit\n",
    "\n",
    "        # Extract x and y data around zero force\n",
    "        x_near_zero = x[(x > zero_force - points ) & (x < zero_force + points )]\n",
    "        y_near_zero = y[(x > zero_force - points ) & (x < zero_force + points )]\n",
    "\n",
    "        # Calculate slope of linear fit to data around zero force\n",
    "        m, b = np.polyfit(x_near_zero, y_near_zero, 1)\n",
    "\n",
    "        x_plot_mean = x[(x > zero_force - 100) & (x < zero_force + 100)]\n",
    "        x_plot_spec = x[(x > zero_force - 28) & (x < zero_force + 28)]\n",
    "\n",
    "        spect_stiffness  = 100\n",
    "\n",
    "        plt.figure(figsize=(15,10))\n",
    "        df.plot(df.columns[3], df.columns[2])\n",
    "        plt.plot(\n",
    "            x_plot_mean,\n",
    "            m*x_plot_mean + b, color='red', \n",
    "            linewidth=2, \n",
    "            label=f\"Calculated Stiffness = {m:.2f} N/μm\\n\"\n",
    "                  f\"Encoder Fitting Range =  {round(x_near_zero.min(),2)}\" \n",
    "                  f\" - {round(x_near_zero.max(),2)} μm\"\n",
    "            )\n",
    "        plt.plot(\n",
    "            x_plot_spec, \n",
    "            spect_stiffness*(x_plot_spec - zero_force), \n",
    "            color='green', \n",
    "            linewidth=2, \n",
    "            label=f\"Spect. Stiffness = 100 N/μm\"\n",
    "            )\n",
    "        legend = plt.legend(loc='upper left', fontsize=8)\n",
    "\n",
    "        # Add axis labels\n",
    "        plt.xlabel('Encoder (μm)')\n",
    "        plt.ylabel('Force (N)')\n",
    "\n",
    "        # Add grid and legend to plot\n",
    "        plt.grid(True, linestyle='--', linewidth=0.5)\n",
    "\n",
    "        # Modify x-axis to have zero in the middle\n",
    "        ax = plt.gca()\n",
    "        ax.spines['bottom'].set_position('zero')\n",
    "        ax.spines['top'].set_visible(False)\n",
    "        ax.spines['right'].set_visible(False)\n",
    "        ax.xaxis.set_ticks_position('bottom')\n",
    "\n",
    "        # Add title to plot\n",
    "        plt.title(f\"{filename}\")\n",
    "        \n",
    "        # Save plot as png file\n",
    "        plt.savefig(f'{directory}/{filename}.png',dpi=300,bbox_inches='tight')\n",
    "\n",
    "        # Show plot\n",
    "        plt.show()"
   ]
  },
  {
   "cell_type": "code",
   "execution_count": null,
   "id": "5055efbd-74c6-4ddd-b321-75bcd0a189c0",
   "metadata": {},
   "outputs": [],
   "source": []
  }
 ],
 "metadata": {
  "kernelspec": {
   "display_name": "LSST",
   "language": "python",
   "name": "lsst"
  },
  "language_info": {
   "codemirror_mode": {
    "name": "ipython",
    "version": 3
   },
   "file_extension": ".py",
   "mimetype": "text/x-python",
   "name": "python",
   "nbconvert_exporter": "python",
   "pygments_lexer": "ipython3",
   "version": "3.10.10"
  }
 },
 "nbformat": 4,
 "nbformat_minor": 5
}
