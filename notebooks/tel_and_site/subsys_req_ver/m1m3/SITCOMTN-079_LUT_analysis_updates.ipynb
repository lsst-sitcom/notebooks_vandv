{
 "cells": [
  {
   "cell_type": "markdown",
   "id": "a1b5e2bf-a10f-4084-b816-e64f334a76de",
   "metadata": {},
   "source": [
    "# M1M3 LUT Iterative Improvement Results Notebook\n",
    "\n",
    "This notebook generates the plots that show how the LUT and the applied balance forces have changed over multiple LUT iterations.\n",
    "\n",
    "Relevant imports"
   ]
  },
  {
   "cell_type": "code",
   "execution_count": null,
   "id": "35f45ff4-4f16-4768-9061-e6552f70d6b5",
   "metadata": {
    "tags": []
   },
   "outputs": [],
   "source": [
    "%matplotlib inline\n",
    "%load_ext autoreload\n",
    "%autoreload 2\n",
    "\n",
    "import matplotlib.pyplot as plt\n",
    "import matplotlib.cm as cm\n",
    "import numpy as np\n",
    "import pandas as pd\n",
    "import warnings\n",
    "\n",
    "from dataclasses import dataclass\n",
    "from numpy.polynomial import Polynomial\n",
    "from astropy.time import Time, TimeDelta\n",
    "\n",
    "warnings.filterwarnings('ignore')\n",
    "\n",
    "from lsst_efd_client import EfdClient\n",
    "from lsst.ts.xml.tables.m1m3 import FATable\n",
    "from lsst.sitcom import vandv"
   ]
  },
  {
   "cell_type": "markdown",
   "id": "7426fc0f-3012-493e-9448-76c30740f5f4",
   "metadata": {},
   "source": [
    "Example code of how to plot fields in different EFD topics."
   ]
  },
  {
   "cell_type": "code",
   "execution_count": null,
   "id": "d7f241dc-bcf0-4d1c-a687-62677e03036a",
   "metadata": {
    "tags": []
   },
   "outputs": [],
   "source": [
    "client = EfdClient('usdf_efd')"
   ]
  },
  {
   "cell_type": "code",
   "execution_count": null,
   "id": "6b47d56b-53eb-4179-a63d-5c649fcd26ce",
   "metadata": {
    "tags": []
   },
   "outputs": [],
   "source": [
    "async def get_balance_forces(start, end, resample_rate='1T'):\n",
    "    # Retrieve elevations\n",
    "    elevations = await client.select_time_series(\n",
    "        'lsst.sal.MTMount.elevation',\n",
    "        ['actualPosition', 'timestamp'],  \n",
    "        start, \n",
    "        end,\n",
    "    )  \n",
    "    elevations = elevations['actualPosition'].resample('1T').mean()\n",
    "\n",
    "    forces_z = await client.select_time_series(\n",
    "        \"lsst.sal.MTM1M3.appliedBalanceForces\", \n",
    "        zForce, \n",
    "        start,\n",
    "        end\n",
    "    )\n",
    "\n",
    "    forces_y = await client.select_time_series(\n",
    "        \"lsst.sal.MTM1M3.appliedBalanceForces\", \n",
    "        yForce, \n",
    "        start,\n",
    "        end\n",
    "    )\n",
    "\n",
    "    # join dataframes and resample them.\n",
    "    forces = pd.concat([forces_y.dropna(axis = 1), forces_z.dropna(axis = 1)])\n",
    "    forces = forces.resample('1T').mean()\n",
    "    \n",
    "    return forces, elevations\n",
    "\n",
    "async def get_hardpoint_forces(start, end, resample_rate='1T'):\n",
    "    # Retrieve elevations\n",
    "    elevations = await client.select_time_series(\n",
    "        'lsst.sal.MTMount.elevation',\n",
    "        ['actualPosition', 'timestamp'],  \n",
    "        start, \n",
    "        end,\n",
    "    )  \n",
    "    elevations = elevations['actualPosition'].resample('1T').mean()\n",
    "\n",
    "    forces = await client.select_time_series(\n",
    "        \"lsst.sal.MTM1M3.hardpointActuatorData\", \n",
    "        ['fx', 'fy', 'fz', 'mx', 'my', 'mz'], \n",
    "        start,\n",
    "        end\n",
    "    )\n",
    "    \n",
    "    forces = forces.resample('1T').mean()\n",
    "    \n",
    "    return forces, elevations\n",
    "\n",
    "async def get_hardpoint_forces_in(start, end, resample_rate='1T'):\n",
    "    # Retrieve elevations\n",
    "    elevations = await client.select_time_series(\n",
    "        'lsst.sal.MTMount.elevation',\n",
    "        ['actualPosition', 'timestamp'],  \n",
    "        start, \n",
    "        end,\n",
    "    )  \n",
    "    elevations = elevations['actualPosition'].resample('1T').mean()\n",
    "\n",
    "    forces = await client.select_time_series(\n",
    "        \"lsst.sal.MTM1M3.hardpointActuatorData\", \n",
    "        ['measuredForce0', 'measuredForce1', 'measuredForce2', 'measuredForce3', 'measuredForce4','measuredForce5'], \n",
    "        start,\n",
    "        end\n",
    "    )\n",
    "    \n",
    "    forces = forces.resample('1T').mean()\n",
    "    \n",
    "    return forces, elevations\n"
   ]
  },
  {
   "cell_type": "markdown",
   "id": "81d4c16e-2fa9-4bfe-981e-0b68fbd700d7",
   "metadata": {},
   "source": [
    "Set start and end time of the sequence that we want to analyze"
   ]
  },
  {
   "cell_type": "markdown",
   "id": "8f72b267-c1d6-42c9-bc52-dc3bc9b37690",
   "metadata": {},
   "source": [
    "Create ids vector"
   ]
  },
  {
   "cell_type": "code",
   "execution_count": null,
   "id": "0c9ea902-15a0-49f7-a98c-7ffacedb800d",
   "metadata": {
    "tags": []
   },
   "outputs": [],
   "source": [
    "ids = np.array([fa.actuator_id for fa in FATable])\n",
    "\n",
    "xForce = [str(\"\".join((\"xForces\",str(i)))) for i in range(12)]\n",
    "yForce = [str(\"\".join((\"yForces\",str(i)))) for i in range(100)]\n",
    "zForce = [str(\"\".join((\"zForces\",str(i)))) for i in range(156)]"
   ]
  },
  {
   "cell_type": "markdown",
   "id": "78199fc1-6381-4052-b6ce-f0b488bca36b",
   "metadata": {},
   "source": [
    "## Plot balance forces"
   ]
  },
  {
   "cell_type": "code",
   "execution_count": null,
   "id": "c40865cb-5a67-417a-a85f-d5b2ec3f07c2",
   "metadata": {
    "tags": []
   },
   "outputs": [],
   "source": [
    "start = Time('2023-05-31 08:35:0Z', scale='utc')\n",
    "end = Time('2023-05-31 09:40:0Z', scale='utc')\n",
    "\n",
    "forces_it0, elevations_it0 = await get_balance_forces(start, end)"
   ]
  },
  {
   "cell_type": "code",
   "execution_count": null,
   "id": "60ad0369-b932-4dd5-abe1-f01cc6678efb",
   "metadata": {
    "tags": []
   },
   "outputs": [],
   "source": [
    "start = Time('2023-06-16 02:30:0Z', scale='utc')\n",
    "end = Time('2023-06-16 03:01:0Z', scale='utc')\n",
    "\n",
    "forces_it1, elevations_it1 = await get_balance_forces(start, end)"
   ]
  },
  {
   "cell_type": "code",
   "execution_count": null,
   "id": "23c10e08-4dfd-4af3-97a0-86b9b1f10a78",
   "metadata": {
    "tags": []
   },
   "outputs": [],
   "source": [
    "start = Time('2023-06-21 05:35:0Z', scale='utc')\n",
    "end = Time('2023-06-21 06:26:0Z', scale='utc')\n",
    "\n",
    "forces_it2, elevations_it2 = await get_balance_forces(start, end)"
   ]
  },
  {
   "cell_type": "code",
   "execution_count": null,
   "id": "b7c2a50f-ca60-4eef-98f1-2c41aed2f67c",
   "metadata": {
    "tags": []
   },
   "outputs": [],
   "source": [
    "start = Time('2023-06-22 02:20:0Z', scale='utc')\n",
    "end = Time('2023-06-22 03:45:0Z', scale='utc')\n",
    "\n",
    "forces_it3, elevations_it3 = await get_balance_forces(start, end)"
   ]
  },
  {
   "cell_type": "code",
   "execution_count": null,
   "id": "758db456-2513-457c-bc9d-2707f322e051",
   "metadata": {
    "tags": []
   },
   "outputs": [],
   "source": [
    "start = Time('2023-06-22 21:38:0Z', scale='utc')\n",
    "end = Time('2023-06-22 23:16:0Z', scale='utc')\n",
    "\n",
    "forces_it4, elevations_it4 = await get_balance_forces(start, end)"
   ]
  },
  {
   "cell_type": "code",
   "execution_count": null,
   "id": "528a8e3d-818e-4fb7-8ebe-6c134e54f5a2",
   "metadata": {
    "tags": []
   },
   "outputs": [],
   "source": [
    "start = Time('2023-06-24 02:13:0Z', scale='utc')\n",
    "end = Time('2023-06-24 03:01:0Z', scale='utc')\n",
    "\n",
    "forces_it5, elevations_it5 = await get_balance_forces(start, end)"
   ]
  },
  {
   "cell_type": "code",
   "execution_count": null,
   "id": "bf61f7ec-0fe0-41c7-a29d-c752814b0ffb",
   "metadata": {
    "tags": []
   },
   "outputs": [],
   "source": [
    "start = Time('2023-06-27 01:35:0Z', scale='utc')\n",
    "end = Time('2023-06-27 02:43:5Z', scale='utc')\n",
    "\n",
    "forces_it6, elevations_it6 = await get_balance_forces(start, end)"
   ]
  },
  {
   "cell_type": "code",
   "execution_count": null,
   "id": "061a1672-eb41-4a1e-8797-e5d061c719b3",
   "metadata": {
    "tags": []
   },
   "outputs": [],
   "source": [
    "start = Time('2023-06-27 11:45:0Z', scale='utc')\n",
    "end = Time('2023-06-27 12:12:0Z', scale='utc')\n",
    "\n",
    "forces_it7, elevations_it7 = await get_balance_forces(start, end)"
   ]
  },
  {
   "cell_type": "code",
   "execution_count": null,
   "id": "7dc160f2-3a7c-4d61-88d9-61db234140d5",
   "metadata": {
    "tags": []
   },
   "outputs": [],
   "source": [
    "%matplotlib inline\n",
    "fig = plt.figure(figsize = (26,120))\n",
    "for idx in range(10):\n",
    "    plt.subplot(40,7,7*idx + 1)\n",
    "    plt.plot(90 - elevations_it0, forces_it0[zForce[idx]], '-', label = 'Balance forces')\n",
    "    plt.title(f'{zForce[idx]} - iteration 0')\n",
    "    plt.ylabel('Balance Force in Z (N)')\n",
    "    plt.xlabel('Zenith (deg)')\n",
    "    \n",
    "    plt.subplot(40,7,7*idx + 2)\n",
    "    plt.plot(90 - elevations_it1, forces_it1[zForce[idx]], '-', label = 'Balance forces')\n",
    "    plt.title(f'{zForce[idx]} - iteration 1')\n",
    "    plt.ylabel('Balance Force in Z (N)')\n",
    "    plt.xlabel('Zenith (deg)')\n",
    "    \n",
    "    plt.subplot(40,7,7*idx + 3)\n",
    "    plt.plot(90 - elevations_it2, forces_it2[zForce[idx]], '-', label = 'Balance forces')\n",
    "    plt.title(f'{zForce[idx]} - iteration 2')\n",
    "    plt.ylabel('Balance Force in Z (N)')\n",
    "    plt.xlabel('Zenith (deg)')\n",
    "    \n",
    "    plt.subplot(40,7,7*idx + 4)\n",
    "    plt.plot(90 - elevations_it3, forces_it3[zForce[idx]], '-', label = 'Balance forces')\n",
    "    plt.title(f'{zForce[idx]} - iteration 3')\n",
    "    plt.ylabel('Balance Force in Z (N)')\n",
    "    plt.xlabel('Zenith (deg)')\n",
    "    \n",
    "    plt.subplot(40,7,7*idx + 5)\n",
    "    plt.plot(90 - elevations_it4, forces_it4[zForce[idx]], '-', label = 'Balance forces')\n",
    "    plt.title(f'{zForce[idx]} - iteration 4')\n",
    "    plt.ylabel('Balance Force in Z (N)')\n",
    "    plt.xlabel('Zenith (deg)')\n",
    "    \n",
    "    plt.subplot(40,7,7*idx + 6)\n",
    "    plt.plot(90 - elevations_it5, forces_it5[zForce[idx]], '-', label = 'Balance forces')\n",
    "    plt.title(f'{zForce[idx]} - iteration 5')\n",
    "    plt.ylabel('Balance Force in Z (N)')\n",
    "    plt.xlabel('Zenith (deg)')\n",
    "    \n",
    "    plt.subplot(40,7,7*idx + 7)\n",
    "    plt.plot(90 - elevations_it7, forces_it7[zForce[idx]], '-', label = 'Balance forces')\n",
    "    plt.title(f'{zForce[idx]} - iteration 7')\n",
    "    plt.ylabel('Balance Force in Z (N)')\n",
    "    plt.xlabel('Zenith (deg)')\n",
    "    \n",
    "plt.tight_layout()"
   ]
  },
  {
   "cell_type": "markdown",
   "id": "3abf9f76-a258-4726-8ecb-55db6a82546e",
   "metadata": {},
   "source": [
    "## Plot total measured forces"
   ]
  },
  {
   "cell_type": "code",
   "execution_count": null,
   "id": "489a8f86-0c5f-4328-931e-b2417db0d8e4",
   "metadata": {
    "tags": []
   },
   "outputs": [],
   "source": [
    "start = Time('2023-05-29 23:16:0Z', scale='utc')\n",
    "end = Time('2023-05-29 23:47:0Z', scale='utc')\n",
    "\n",
    "forces_hp_it0, elevations_hp_it0 = await get_hardpoint_forces(start, end)\n",
    "forces_hp_in_it0, elevations_hp_in_it0 = await get_hardpoint_forces_in(start, end)"
   ]
  },
  {
   "cell_type": "code",
   "execution_count": null,
   "id": "fa26b2e4-751b-404e-8dd7-ac550f49af75",
   "metadata": {
    "tags": []
   },
   "outputs": [],
   "source": [
    "start = Time('2023-06-16 03:13:0Z', scale='utc')\n",
    "end = Time('2023-06-16 03:49:0Z', scale='utc')\n",
    "\n",
    "forces_hp_it1, elevations_hp_it1 = await get_hardpoint_forces(start, end)\n",
    "forces_hp_in_it1, elevations_hp_in_it1 = await get_hardpoint_forces_in(start, end)"
   ]
  },
  {
   "cell_type": "code",
   "execution_count": null,
   "id": "7044b27d-f531-445b-ab4e-fcdc8cbea5c0",
   "metadata": {
    "tags": []
   },
   "outputs": [],
   "source": [
    "start = Time('2023-06-22 04:08:0Z', scale='utc')\n",
    "end = Time('2023-06-22 04:49:0Z', scale='utc')\n",
    "\n",
    "forces_hp_it3, elevations_hp_it3 = await get_hardpoint_forces(start, end)\n",
    "forces_hp_in_it3, elevations_hp_in_it3 = await get_hardpoint_forces_in(start, end)"
   ]
  },
  {
   "cell_type": "code",
   "execution_count": null,
   "id": "0b2190f6-c1b3-4389-aff3-8a217c3470ea",
   "metadata": {
    "tags": []
   },
   "outputs": [],
   "source": [
    "start = Time('2023-06-27 00:13:0Z', scale='utc')\n",
    "end = Time('2023-06-27 01:22:5Z', scale='utc')\n",
    "\n",
    "forces_hp_it6, elevations_hp_it6 = await get_hardpoint_forces(start, end)\n",
    "forces_hp_in_it6, elevations_hp_in_it6 = await get_hardpoint_forces_in(start, end)"
   ]
  },
  {
   "cell_type": "code",
   "execution_count": null,
   "id": "389e37bd-7757-4791-86e0-54973714b20c",
   "metadata": {
    "tags": []
   },
   "outputs": [],
   "source": [
    "start = Time('2023-06-27 08:06:0Z', scale='utc')\n",
    "end = Time('2023-06-27 08:40:0Z', scale='utc')\n",
    "\n",
    "forces_hp_it7, elevations_hp_it7 = await get_hardpoint_forces(start, end)\n",
    "forces_hp_in_it7, elevations_hp_in_it7 = await get_hardpoint_forces_in(start, end)"
   ]
  },
  {
   "cell_type": "code",
   "execution_count": null,
   "id": "034d08b8-9247-457d-966a-7ff7312fc0f7",
   "metadata": {
    "tags": []
   },
   "outputs": [],
   "source": [
    "%matplotlib inline\n",
    "hpForces = ['fx', 'fy', 'fz', 'mx', 'my', 'mz']\n",
    "fig = plt.figure(figsize = (15,17))\n",
    "for idx in range(6):\n",
    "    plt.subplot(6,5,5*idx + 1)\n",
    "    plt.plot(90 - elevations_hp_it0, forces_hp_it0[hpForces[idx]], '-', label = 'Balance forces')\n",
    "    plt.title(f'{hpForces[idx]} - iteration 0')\n",
    "    plt.ylabel(f'{hpForces[idx]} (N)')\n",
    "    plt.xlabel('Zenith (deg)')\n",
    "    \n",
    "    plt.subplot(6,5,5*idx + 2)\n",
    "    plt.plot(90 - elevations_hp_it1, forces_hp_it1[hpForces[idx]], '-', label = 'Balance forces')\n",
    "    plt.title(f'{hpForces[idx]} - iteration 1')\n",
    "    plt.ylabel(f'{hpForces[idx]} (N)')\n",
    "    plt.xlabel('Zenith (deg)')\n",
    "    \n",
    "    plt.subplot(6,5,5*idx + 3)\n",
    "    plt.plot(90 - elevations_hp_it3, forces_hp_it3[hpForces[idx]], '-', label = 'Balance forces')\n",
    "    plt.title(f'{hpForces[idx]} - iteration 3')\n",
    "    plt.ylabel(f'{hpForces[idx]} (N)')\n",
    "    plt.xlabel('Zenith (deg)')\n",
    "    \n",
    "    plt.subplot(6,5,5*idx + 4)\n",
    "    plt.plot(90 - elevations_hp_it6, forces_hp_it6[hpForces[idx]], '-', label = 'Balance forces')\n",
    "    plt.title(f'{hpForces[idx]} - iteration 6')\n",
    "    plt.ylabel(f'{hpForces[idx]} (N)')\n",
    "    plt.xlabel('Zenith (deg)')\n",
    "    \n",
    "    plt.subplot(6,5,5*idx + 5)\n",
    "    plt.plot(90 - elevations_hp_it7, forces_hp_it7[hpForces[idx]], '-', label = 'Balance forces')\n",
    "    plt.title(f'{hpForces[idx]} - iteration 7')\n",
    "    plt.ylabel(f'{hpForces[idx]} (N)')\n",
    "    plt.xlabel('Zenith (deg)')\n",
    "    \n",
    "plt.tight_layout()\n",
    "plt.savefig('Evolution_hardpoint_forces.png')"
   ]
  },
  {
   "cell_type": "markdown",
   "id": "293afbce-5727-40c9-8db8-672752674530",
   "metadata": {},
   "source": [
    "## Plot total hardpoint forces"
   ]
  },
  {
   "cell_type": "code",
   "execution_count": null,
   "id": "4764ef02-ddfc-4d45-bf9a-54da9b6c7737",
   "metadata": {
    "tags": []
   },
   "outputs": [],
   "source": [
    "hps = ['HP1', 'HP2', 'HP3', 'HP4', 'HP5', 'HP6']\n",
    "hpsm = ['measuredForce0', 'measuredForce1', 'measuredForce2', 'measuredForce3', 'measuredForce4','measuredForce5']\n",
    "\n",
    "fig = plt.figure(figsize = (15, 17))\n",
    "for idx in range(6):\n",
    "    plt.subplot(6,5,5*idx + 1)\n",
    "    plt.plot(90 - elevations_hp_in_it0, forces_hp_in_it0[hpsm[idx]], '-', label = 'Balance forces')\n",
    "    plt.title(f'{hps[idx]} - iteration 0')\n",
    "    plt.ylabel(f'{hps[idx]} (N)')\n",
    "    plt.xlabel('Zenith (deg)')\n",
    "    \n",
    "    plt.subplot(6,5,5*idx + 2)\n",
    "    plt.plot(90 - elevations_hp_in_it1, forces_hp_in_it1[hpsm[idx]], '-', label = 'Balance forces')\n",
    "    plt.title(f'{hps[idx]} - iteration 1')\n",
    "    plt.ylabel(f'{hps[idx]} (N)')\n",
    "    plt.xlabel('Zenith (deg)')\n",
    "    \n",
    "    plt.subplot(6,5,5*idx + 3)\n",
    "    plt.plot(90 - elevations_hp_in_it3, forces_hp_in_it3[hpsm[idx]], '-', label = 'Balance forces')\n",
    "    plt.title(f'{hps[idx]} - iteration 3')\n",
    "    plt.ylabel(f'{hps[idx]} (N)')\n",
    "    plt.xlabel('Zenith (deg)')\n",
    "    \n",
    "    plt.subplot(6,5,5*idx + 4)\n",
    "    plt.plot(90 - elevations_hp_in_it6, forces_hp_in_it6[hpsm[idx]], '-', label = 'Balance forces')\n",
    "    plt.title(f'{hps[idx]} - iteration 6')\n",
    "    plt.ylabel(f'{hps[idx]} (N)')\n",
    "    plt.xlabel('Zenith (deg)')\n",
    "    \n",
    "    plt.subplot(6,5,5*idx + 5)\n",
    "    plt.plot(90 - elevations_hp_in_it7[2:], forces_hp_in_it7[hpsm[idx]][2:], '-', label = 'Balance forces')\n",
    "    plt.title(f'{hps[idx]} - iteration 7')\n",
    "    plt.ylabel(f'{hps[idx]} (N)')\n",
    "    plt.xlabel('Zenith (deg)')\n",
    "    \n",
    "plt.tight_layout()\n",
    "plt.savefig('Evolution_hardpoint_forces_in.png')"
   ]
  },
  {
   "cell_type": "markdown",
   "id": "8a602ab0-deab-4dd9-a24c-bb0485fd7607",
   "metadata": {},
   "source": [
    "## Plot specific iteration"
   ]
  },
  {
   "cell_type": "code",
   "execution_count": null,
   "id": "da4b77f7-7a0b-4265-873a-cf7e722a2930",
   "metadata": {
    "tags": []
   },
   "outputs": [],
   "source": [
    "hps = ['HP1', 'HP2', 'HP3', 'HP4', 'HP5', 'HP6']\n",
    "hpsm = ['measuredForce0', 'measuredForce1', 'measuredForce2', 'measuredForce3', 'measuredForce4','measuredForce5']\n",
    "\n",
    "fig = plt.figure(figsize = (10,6))\n",
    "for idx in range(6):\n",
    "    plt.subplot(3,3,idx + 1)\n",
    "    plt.plot(90 - elevations_hp_in_it7[2:], forces_hp_in_it7[hpsm[idx]][2:], '-', label = 'Balance forces')\n",
    "    plt.title(f'{hps[idx]} - iteration 7')\n",
    "    plt.ylabel(f'{hps[idx]} (N)')\n",
    "    plt.xlabel('Zenith (deg)')\n",
    "\n",
    "    \n",
    "plt.tight_layout()\n",
    "plt.savefig('Evolution_hardpoint_forces_in.png')"
   ]
  },
  {
   "cell_type": "markdown",
   "id": "76d081c7-a926-4f08-82f5-4e0c9a7a3ca1",
   "metadata": {},
   "source": [
    "## Plot LUT Performance for the Joint Status Review\n",
    "\n",
    "Want a plot showing (3x3 plot): \n",
    "* the first iteration, \n",
    "* the residuals when collecting the data for the second iteration\n",
    "* Hardpoint forces after first iteration\n",
    "* The sixth iteration \n",
    "* The residuals when collecting the data for the last iteration\n",
    "* Hardpoint forces after sixth iteration\n",
    "* The final iteration \n",
    "* The residuals of the final iteration \n",
    "* Hardpoint forces after last iteration"
   ]
  },
  {
   "cell_type": "markdown",
   "id": "7435dcbb-6e6c-419f-8b4b-a97069dcf709",
   "metadata": {},
   "source": [
    "### Plot Data\n"
   ]
  },
  {
   "cell_type": "code",
   "execution_count": null,
   "id": "f29ac93f-af53-4a44-a6d2-4c5d3c9f3b98",
   "metadata": {
    "tags": []
   },
   "outputs": [],
   "source": [
    "def find_associated_index(search_value):\n",
    "    for fa in FATable:\n",
    "        if fa.actuator_id == search_value:\n",
    "            return fa.index\n",
    "    return None"
   ]
  },
  {
   "cell_type": "code",
   "execution_count": null,
   "id": "88e2a88d-dd46-4adb-b723-00e67116bbc5",
   "metadata": {
    "tags": []
   },
   "outputs": [],
   "source": [
    "# These actuators are in +X+Y, +X-Y, -X-Y, and -X,-Y\n",
    "actuators = [122, 222, 322, 422]\n",
    "\n",
    "fig, axs = plt.subplots(\n",
    "    ncols=3,\n",
    "    num=\"M1M3 LUT Performance for JSR\", \n",
    "    constrained_layout=True,\n",
    "    dpi=120,\n",
    "    figsize=(12, 2),\n",
    "    sharex=\"col\",\n",
    ")\n",
    "\n",
    "fa_colors = cm.viridis(np.linspace(0, 0.9, 4))\n",
    "er_colors = cm.Spectral(np.linspace(0, 0.9, 4))\n",
    "hp_colors = cm.plasma(np.linspace(0, 0.9, 6))\n",
    "\n",
    "\n",
    "for i, actuator in enumerate(actuators):\n",
    "    idx = find_associated_index(actuator)\n",
    "    axs[0].plot(90 - elevations_it0, forces_it0[zForce[idx]], '-', color=fa_colors[i], label=f\"zForces #{actuator}\")\n",
    "    axs[1].plot(90 - elevations_it6, forces_it6[zForce[idx]], '-', color=fa_colors[i], label=f\"zForces #{actuator}\")\n",
    "    axs[2].plot(90 - elevations_it7, forces_it7[zForce[idx]], '-', color=fa_colors[i], label=f\"zForces #{actuator}\")\n",
    "    \n",
    "axs[0].set_ylabel(\"Force Actuators\\n Applied Balance\\n Forces [N]\")\n",
    "axs[0].legend(bbox_to_anchor=(0.5, -0.4), loc=\"lower center\", bbox_transform=fig.transFigure, ncol=4)\n",
    "    \n",
    "titles = [\"Iteration 0\", \"Iteration 6\", \"Iteration 7\"]\n",
    "for ax, title in zip(axs, titles):\n",
    "    ax.grid(\":\", alpha=0.5)\n",
    "    ax.set_xlabel(\"Zenith Angle\\n [deg]\")\n",
    "    ax.set_title(title)\n",
    "\n",
    "# fig.suptitle(\"Evolution of the impact of the LUT\\n on Force Actuators\", y=1.1)\n",
    "fig.tight_layout()\n",
    "\n",
    "fig.savefig(\"jsr_lut_applied_forces.png\", bbox_inches=\"tight\")\n",
    "plt.show()"
   ]
  },
  {
   "cell_type": "code",
   "execution_count": null,
   "id": "b2a639ba-0e58-40a7-b698-589e9eae6e4d",
   "metadata": {
    "tags": []
   },
   "outputs": [],
   "source": [
    "# These actuators are in +X+Y, +X-Y, -X-Y, and -X,-Y\n",
    "fig, axs = plt.subplots(\n",
    "    ncols=3,\n",
    "    num=\"M1M3 LUT Performance for JSR - HardPoints\", \n",
    "    constrained_layout=True,\n",
    "    dpi=120,\n",
    "    figsize=(12, 2),\n",
    ")\n",
    "\n",
    "hp_colors = cm.plasma(np.linspace(0, 0.9, 6))\n",
    "\n",
    "# We know that there are a few outliers on this dataset. \n",
    "# We need to investigate. \n",
    "# But I'll remove some of them for now to improve the plot clarity.\n",
    "_filter = (forces_hp_in_it6[\"measuredForce3\"] < -400) & (forces_hp_in_it6[\"measuredForce0\"] < -400)\n",
    "\n",
    "forces_hp_in_it6_x = forces_hp_in_it6[_filter] \n",
    "elevations_hp_in_it6_x = elevations_hp_in_it6[_filter]\n",
    "\n",
    "for idx in range(6):\n",
    "    axs[0].plot(\n",
    "        90 - elevations_hp_in_it0[2:], \n",
    "        forces_hp_in_it0[hpsm[idx]][2:], \n",
    "        '-', \n",
    "        color=hp_colors[idx], \n",
    "        label=f\"Meas. Force HP{idx+1}\"\n",
    "    )\n",
    "    \n",
    "    axs[1].plot(\n",
    "        90 - elevations_hp_in_it6_x[2:], \n",
    "        forces_hp_in_it6_x[hpsm[idx]][2:], \n",
    "        '-', \n",
    "        color=hp_colors[idx], \n",
    "        label=f\"Meas. Force HP{idx+1}\"\n",
    "    )\n",
    "    \n",
    "    axs[2].plot(\n",
    "        90 - elevations_hp_in_it7[2:], \n",
    "        forces_hp_in_it7[hpsm[idx]][2:], \n",
    "        '-', \n",
    "        color=hp_colors[idx], \n",
    "        label=f\"Meas. Force HP{idx+1}\"\n",
    "    )\n",
    "    \n",
    "axs[0].set_ylabel(\"HP Measured Forces [N]\")\n",
    "axs[0].legend(\n",
    "    bbox_to_anchor=(0.5, -0.4), \n",
    "    loc=\"lower center\", \n",
    "    bbox_transform=fig.transFigure, \n",
    "    ncol=6\n",
    ")\n",
    "\n",
    "titles = [\"Iteration 0\", \"Iteration 6\", \"Iteration 7\"]\n",
    "for ax, title in zip(axs, titles):\n",
    "    ax.grid(\":\", alpha=0.5)\n",
    "    ax.set_xlabel(\"Zenith Angle\\n [deg]\")\n",
    "    ax.set_title(title)\n",
    "\n",
    "fig.tight_layout()\n",
    "\n",
    "fig.savefig(\"jsr_lut_HP.png\", bbox_inches=\"tight\")\n",
    "plt.show()"
   ]
  },
  {
   "cell_type": "code",
   "execution_count": null,
   "id": "134fa5fb-af02-4fef-8113-dc29fa01800c",
   "metadata": {
    "tags": []
   },
   "outputs": [],
   "source": [
    "forces_hp_in_it6_x"
   ]
  },
  {
   "cell_type": "code",
   "execution_count": null,
   "id": "1167738f-1f20-42f4-b63e-4e514deb4d77",
   "metadata": {},
   "outputs": [],
   "source": []
  }
 ],
 "metadata": {
  "kernelspec": {
   "display_name": "LSST",
   "language": "python",
   "name": "lsst"
  },
  "language_info": {
   "codemirror_mode": {
    "name": "ipython",
    "version": 3
   },
   "file_extension": ".py",
   "mimetype": "text/x-python",
   "name": "python",
   "nbconvert_exporter": "python",
   "pygments_lexer": "ipython3",
   "version": "3.11.7"
  }
 },
 "nbformat": 4,
 "nbformat_minor": 5
}
