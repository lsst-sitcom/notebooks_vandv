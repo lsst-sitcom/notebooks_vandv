{
 "cells": [
  {
   "cell_type": "markdown",
   "id": "d5223f18-41bc-436a-838e-acdbce522a8d",
   "metadata": {},
   "source": [
    "# [SITCOMTN-092] - M1M3 Inertia Compensation Performance - Force Actuators Snapshot\n",
    "\n",
    "Following [SITCOM-1115], we want to have snapshots of the forces applied to the force actuators during a slew. \n",
    "\n",
    "Thinking of a design, this will consist of a function that will receive:\n",
    "- a topic associated with one of the forces applied to the force actuators\n",
    "- a dayObs\n",
    "- a slewID\n",
    "\n",
    "Refer to the [README.md] file for details on how to set up this repository in your environment.  \n",
    "\n",
    "[lsst-sitcom/summit_utils]: https://github.com/lsst-sitcom/summit_utils\n",
    "[README.md]: https://github.com/lsst-sitcom/notebooks_vandv/blob/develop/README.md\n",
    "[SITCOM-1115]: https://jira.lsstcorp.org/browse/SITCOM-1115\n",
    "[SITCOMTN-092]: https://sitcomtn-092.lsst.io/\n",
    "\n",
    "## Notebook Setup"
   ]
  },
  {
   "cell_type": "code",
   "execution_count": null,
   "id": "ef2659a0-eb1a-4a08-9648-4ff0c0361045",
   "metadata": {},
   "outputs": [],
   "source": [
    "%load_ext lab_black\n",
    "%load_ext autoreload\n",
    "%autoreload 2"
   ]
  },
  {
   "cell_type": "code",
   "execution_count": null,
   "id": "4a7241bb-0d00-485a-b10c-6726c8e31804",
   "metadata": {},
   "outputs": [],
   "source": [
    "import matplotlib.pyplot as plt\n",
    "from astropy.time import Time\n",
    "from pathlib import Path\n",
    "\n",
    "from lsst.summit.utils.tmaUtils import getCommandsDuringEvent, TMAEvent, TMAEventMaker\n",
    "from lsst.summit.utils.utils import setupLogging\n",
    "\n",
    "setupLogging()"
   ]
  },
  {
   "cell_type": "code",
   "execution_count": null,
   "id": "2489fed7-a3bb-44fe-bf9a-3ad707de3745",
   "metadata": {},
   "outputs": [],
   "source": [
    "# topics extracted from https://ts-xml.lsst.io/sal_interfaces/MTM1M3.html\n",
    "available_topics = [\n",
    "    \"appliedAccelerationForces\",\n",
    "    \"appliedAzimuthForces\",\n",
    "    \"appliedBalanceForces\",\n",
    "    \"appliedCylinderForces\",\n",
    "    \"appliedElevationForces\",\n",
    "    \"appliedForces\",\n",
    "    \"appliedThermalForces\",\n",
    "    \"appliedVelocityForces\",\n",
    "    \"forceActuatorData\",\n",
    "]"
   ]
  },
  {
   "cell_type": "markdown",
   "id": "1b893dfb-1553-498e-b3c8-12cca04d6776",
   "metadata": {},
   "source": [
    "## Helper Functions"
   ]
  },
  {
   "cell_type": "code",
   "execution_count": null,
   "id": "4bcfa3dc-f6f7-4b9d-81ac-72d525757802",
   "metadata": {},
   "outputs": [],
   "source": [
    "def fa_snapshot_during_a_slew(ax, day_obs, slew_id, topic, func):\n",
    "    \"\"\"\n",
    "    Plots a snapshot of the M1M3 Force Actuators during a slew.\n",
    "\n",
    "    Parameters\n",
    "    ----------\n",
    "    ax : matplotlib.pyplot.Axes\n",
    "        Existing axes to hold the plot.\n",
    "    day_obs : int\n",
    "        Representation of a day in YYYYMMDD format.\n",
    "    slew_id : int\n",
    "        The n-th slew in the night corresponding to `day_obs`.\n",
    "    topic : str\n",
    "        EFD topic accordingly to https://ts-xml.lsst.io/\n",
    "    func : callable\n",
    "        A function that can be used to summarize all the forces.\n",
    "\n",
    "    Returns\n",
    "    -------\n",
    "    matplotlib.pyplot.Axes : Updated axes with new information.\n",
    "    \"\"\"\n",
    "    pass"
   ]
  },
  {
   "cell_type": "code",
   "execution_count": null,
   "id": "0392cfa8-21a8-407e-9e37-c21307abcd48",
   "metadata": {},
   "outputs": [],
   "source": []
  }
 ],
 "metadata": {
  "kernelspec": {
   "display_name": "LSST",
   "language": "python",
   "name": "lsst"
  },
  "language_info": {
   "codemirror_mode": {
    "name": "ipython",
    "version": 3
   },
   "file_extension": ".py",
   "mimetype": "text/x-python",
   "name": "python",
   "nbconvert_exporter": "python",
   "pygments_lexer": "ipython3",
   "version": "3.11.7"
  }
 },
 "nbformat": 4,
 "nbformat_minor": 5
}
