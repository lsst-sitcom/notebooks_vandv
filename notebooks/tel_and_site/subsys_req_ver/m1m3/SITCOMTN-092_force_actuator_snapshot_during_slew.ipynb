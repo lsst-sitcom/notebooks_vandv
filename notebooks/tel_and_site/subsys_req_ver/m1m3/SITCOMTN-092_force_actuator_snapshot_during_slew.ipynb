{
 "cells": [
  {
   "cell_type": "markdown",
   "id": "d5223f18-41bc-436a-838e-acdbce522a8d",
   "metadata": {},
   "source": [
    "# [SITCOMTN-092] - M1M3 Inertia Compensation Performance - Force Actuators Snapshot\n",
    "\n",
    "Following [SITCOM-1115], we want to have snapshots of the forces applied to the force actuators during a slew. \n",
    "\n",
    "Thinking of a design, this will consist of a function that will receive:\n",
    "- a topic associated with one of the forces applied to the force actuators\n",
    "- a dayObs\n",
    "- a slewID\n",
    "\n",
    "Refer to the [README.md] file for details on how to set up this repository in your environment.  \n",
    "\n",
    "[lsst-sitcom/summit_utils]: https://github.com/lsst-sitcom/summit_utils\n",
    "[README.md]: https://github.com/lsst-sitcom/notebooks_vandv/blob/develop/README.md\n",
    "[SITCOM-1115]: https://jira.lsstcorp.org/browse/SITCOM-1115\n",
    "[SITCOMTN-092]: https://sitcomtn-092.lsst.io/\n",
    "\n",
    "## Notebook Setup\n",
    "\n",
    "We start setting up the notebook's variables that are propagated in our analysis.  \n",
    "Here is a short description about each of them:\n",
    "\n",
    "```\n",
    "day_obs : int\n",
    "    The associated day_obs of the slew event we are interested in.\n",
    "slew_id : int\n",
    "    The associated slew event number. Starts at 0 every night.\n",
    "m1m3_topic : str\n",
    "    M1M3 telemetry that we want to use for plots.\n",
    "    See the notes below for more details.\n",
    "summary_function : str\n",
    "    A string used to represent a statistical function that we will\n",
    "    apply to the telemetry of each force actuator over the time window\n",
    "    associated with the TMA event. Current options are:\n",
    "        mean, min, max, std\n",
    "```\n",
    "The available options for `m1m3_topic` are:\n",
    "\n",
    "- [appliedAccelerationForces](https://ts-xml.lsst.io/sal_interfaces/MTM1M3.html#appliedaccelerationforces)\n",
    "- [appliedAzimuthForces](https://ts-xml.lsst.io/sal_interfaces/MTM1M3.html#appliedazimuthforces)\n",
    "- [appliedBalanceForces](https://ts-xml.lsst.io/sal_interfaces/MTM1M3.html#appliedbalanceforces)\n",
    "- [appliedCylinderForces](https://ts-xml.lsst.io/sal_interfaces/MTM1M3.html#appliedcylinderforces)\n",
    "- [appliedElevationForces](https://ts-xml.lsst.io/sal_interfaces/MTM1M3.html#appliedelevationforces)\n",
    "- [appliedForces](https://ts-xml.lsst.io/sal_interfaces/MTM1M3.html#appliedforces)\n",
    "- [appliedThermalForces](https://ts-xml.lsst.io/sal_interfaces/MTM1M3.html#appliedthermalforces)\n",
    "- [appliedVelocityForces](https://ts-xml.lsst.io/sal_interfaces/MTM1M3.html#appliedvelocityforces)\n",
    "- [forceActuatorData](https://ts-xml.lsst.io/sal_interfaces/MTM1M3.html#forceactuatordata)"
   ]
  },
  {
   "cell_type": "code",
   "execution_count": null,
   "id": "dddfb070-89b4-4abf-814b-736fe51b1f9d",
   "metadata": {},
   "outputs": [],
   "source": [
    "day_obs = 20231212\n",
    "slew_id = 300\n",
    "m1m3_topic = \"forceActuatorData\"\n",
    "summary_function = \"mean\""
   ]
  },
  {
   "cell_type": "code",
   "execution_count": null,
   "id": "ef2659a0-eb1a-4a08-9648-4ff0c0361045",
   "metadata": {},
   "outputs": [],
   "source": [
    "%load_ext lab_black\n",
    "%load_ext autoreload\n",
    "%autoreload 2"
   ]
  },
  {
   "cell_type": "code",
   "execution_count": null,
   "id": "4a7241bb-0d00-485a-b10c-6726c8e31804",
   "metadata": {},
   "outputs": [],
   "source": [
    "import matplotlib.pyplot as plt\n",
    "import numpy as np\n",
    "from astropy.time import Time\n",
    "from pathlib import Path\n",
    "\n",
    "from lsst.summit.utils.efdUtils import EfdClient, getEfdData\n",
    "from lsst.summit.utils.tmaUtils import getCommandsDuringEvent, TMAEvent, TMAEventMaker\n",
    "from lsst.sitcom.vandv.logger import create_logger\n",
    "from lsst.sitcom.vandv import m1m3\n",
    "from lsst.ts.xml.tables.m1m3 import FATable\n",
    "\n",
    "log = create_logger(\"SITCOMTN-092\")"
   ]
  },
  {
   "cell_type": "code",
   "execution_count": null,
   "id": "2489fed7-a3bb-44fe-bf9a-3ad707de3745",
   "metadata": {},
   "outputs": [],
   "source": [
    "plot_name = \"SITCOMTN-092: Force Actuators Snapshot\"\n",
    "\n",
    "plot_path = Path(\"./plots\")\n",
    "plot_path.mkdir(exist_ok=True, parents=True)\n",
    "\n",
    "event_maker = TMAEventMaker()"
   ]
  },
  {
   "cell_type": "markdown",
   "id": "1b893dfb-1553-498e-b3c8-12cca04d6776",
   "metadata": {},
   "source": [
    "## Helper Functions"
   ]
  },
  {
   "cell_type": "code",
   "execution_count": null,
   "id": "eabad634-0b9b-4911-bcfc-f2da42e698b6",
   "metadata": {},
   "outputs": [],
   "source": [
    "topic = f\"lsst.sal.MTM1M3.{m1m3_topic}\"\n",
    "\n",
    "if summary_function.strip().lower() == \"mean\":\n",
    "    func = np.mean\n",
    "elif summary_function.strip().lower() == \"min\":\n",
    "    func = np.min\n",
    "elif summary_function.strip().lower() == \"max\":\n",
    "    func = np.max\n",
    "elif summary_function.strip().lower() == \"std\":\n",
    "    func = np.std"
   ]
  },
  {
   "cell_type": "code",
   "execution_count": null,
   "id": "48f067fe-b183-4f80-af9d-93d59f840d24",
   "metadata": {},
   "outputs": [],
   "source": [
    "# Refrieve the relevant event\n",
    "evt = event_maker.getEvent(day_obs, slew_id)\n",
    "if evt is None:\n",
    "    raise ValueError(f\"Cannot find slew {slew_id} on day-obs {day_obs}\")\n",
    "\n",
    "log.debug(\n",
    "    f\"Found event - day_obs={evt.dayObs} seq_num={evt.seqNum} \"\n",
    "    f\"type={evt.type.name} end={evt.endReason.name}\"\n",
    ")"
   ]
  },
  {
   "cell_type": "code",
   "execution_count": null,
   "id": "65baeda7-c16f-4676-ad32-3b9474633b4e",
   "metadata": {},
   "outputs": [],
   "source": [
    "# Query data\n",
    "df = getEfdData(\n",
    "    event_maker.client,\n",
    "    topic,\n",
    "    event=evt,\n",
    "    warn=True,\n",
    ")"
   ]
  },
  {
   "cell_type": "code",
   "execution_count": null,
   "id": "009851cc-ff95-4ede-a0cf-bd4f5f27b508",
   "metadata": {},
   "outputs": [],
   "source": [
    "# Clean up the data\n",
    "cols = [c for c in df.columns if (\"xForce\" in c or \"yForce\" in c or \"zForce\" in c)]\n",
    "series = df[cols].apply(func)"
   ]
  },
  {
   "cell_type": "code",
   "execution_count": null,
   "id": "18938e74-60b8-486a-9535-788cee6ea367",
   "metadata": {},
   "outputs": [],
   "source": [
    "# Plot the snapshot\n",
    "%matplotlib inline\n",
    "fig, (ax_z, ax_y, ax_x) = plt.subplots(num=plot_name, figsize=(14, 5), ncols=3)\n",
    "\n",
    "ax_z = m1m3.snapshot_forces_fa_map(\n",
    "    ax_z, series, prefix=\"zForce\", title=f\"{m1m3_topic} - Z\"\n",
    ")\n",
    "ax_y = m1m3.snapshot_forces_fa_map(\n",
    "    ax_y, series, prefix=\"yForce\", title=f\"{m1m3_topic} - Y\"\n",
    ")\n",
    "ax_x = m1m3.snapshot_forces_fa_map(\n",
    "    ax_x, series, prefix=\"xForce\", title=f\"{m1m3_topic} - X\"\n",
    ")\n",
    "\n",
    "fig.suptitle(f\"{plot_name}\\n day_obs={day_obs}, slew_id={slew_id}\")\n",
    "fig.tight_layout()\n",
    "fig.savefig(plot_path / f\"{plot_name}.png\")\n",
    "plt.show()"
   ]
  },
  {
   "cell_type": "code",
   "execution_count": null,
   "id": "379d32ae-43eb-4341-8a28-c5e6f295b148",
   "metadata": {},
   "outputs": [],
   "source": []
  },
  {
   "cell_type": "code",
   "execution_count": null,
   "id": "9d1f7922-2e09-4294-862c-daeb20d5b7a1",
   "metadata": {},
   "outputs": [],
   "source": []
  }
 ],
 "metadata": {
  "kernelspec": {
   "display_name": "LSST",
   "language": "python",
   "name": "lsst"
  },
  "language_info": {
   "codemirror_mode": {
    "name": "ipython",
    "version": 3
   },
   "file_extension": ".py",
   "mimetype": "text/x-python",
   "name": "python",
   "nbconvert_exporter": "python",
   "pygments_lexer": "ipython3",
   "version": "3.11.7"
  }
 },
 "nbformat": 4,
 "nbformat_minor": 5
}
