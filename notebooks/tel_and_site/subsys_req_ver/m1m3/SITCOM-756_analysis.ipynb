{
 "cells": [
  {
   "cell_type": "code",
   "execution_count": 2,
   "id": "daecd481-e4cc-4c8b-a2ba-c69795495e47",
   "metadata": {
    "execution": {
     "iopub.execute_input": "2024-05-16T23:41:20.323612Z",
     "iopub.status.busy": "2024-05-16T23:41:20.323343Z",
     "iopub.status.idle": "2024-05-16T23:41:26.202153Z",
     "shell.execute_reply": "2024-05-16T23:41:26.201718Z",
     "shell.execute_reply.started": "2024-05-16T23:41:20.323598Z"
    }
   },
   "outputs": [],
   "source": [
    "%matplotlib inline\n",
    "from astropy.time import Time\n",
    "from lsst.summit.utils.efdUtils import makeEfdClient, getEfdData\n",
    "import matplotlib.dates as mdates\n",
    "import matplotlib.pyplot as plt\n",
    "import matplotlib.colors as mcolors\n",
    "from lsst_efd_client import EfdClient\n",
    "from collections import defaultdict\n",
    "from datetime import datetime, timedelta\n",
    "import numpy as np\n",
    "import pandas as pd\n",
    "from scipy.stats import norm"
   ]
  },
  {
   "cell_type": "markdown",
   "id": "c90a1536-0da1-4518-9950-d74dd39fb1d0",
   "metadata": {},
   "source": [
    "# M1M3 hardpoint repeatability and resolution analysis\n",
    "---"
   ]
  },
  {
   "cell_type": "markdown",
   "id": "47a9672b-ba6a-429a-9c8e-53c39c5901a8",
   "metadata": {},
   "source": [
    "## Overview\n",
    "This notebook is dedicated to the analysis of M1M3 hardpoint repeatability.\n",
    "\n",
    "Data to be analyzed are for the Requirement: \"LVV-11200 LTS-88-REQ-0015-V-01: 3.7.1.3 Hardpoint Displacement Repeatability and Resolution_1\" - https://jira.lsstcorp.org/browse/LVV-11200\n",
    "\n",
    "There are three key deliverables\n",
    "- Plot Force vs. displacement for all actuators.\n",
    "- Make a histogram of the displacement values per actuator.\n",
    "- From the generated plot, measure the Hardpoint displacement repeatability (Average) and its resolution (FWHM) around 0 Newtons.\n",
    "\n",
    "## Querying EFD\n",
    "\n",
    "### Helper Function"
   ]
  },
  {
   "cell_type": "code",
   "execution_count": 3,
   "id": "5dd63d04-1f72-4a91-b28f-31dcf2fdd76b",
   "metadata": {
    "execution": {
     "iopub.execute_input": "2024-05-16T23:41:26.209936Z",
     "iopub.status.busy": "2024-05-16T23:41:26.209807Z",
     "iopub.status.idle": "2024-05-16T23:41:26.215503Z",
     "shell.execute_reply": "2024-05-16T23:41:26.215021Z",
     "shell.execute_reply.started": "2024-05-16T23:41:26.209925Z"
    }
   },
   "outputs": [],
   "source": [
    "async def query_bump_logs_in_chunks(\n",
    "    start_date, end_date, client_name=\"\", chunk_size_days=3,topic_name=\"lsst.sal.MTM1M3.logevent_logMessage\",fields=[\"message\"]\n",
    "):\n",
    "    \"\"\"\n",
    "    Queries the log messages related to bump tests from the EFD in chunks.\n",
    "\n",
    "    Args:\n",
    "        start_date (str): Start date of the query in ISO format (YYYY-MM-DD).\n",
    "        \n",
    "        end_date (str): End date of the query in ISO format (YYYY-MM-DD).\n",
    "        \n",
    "        client_name (str, optional): Name of the EFD client. Defaults to \"\".\n",
    "        \n",
    "        chunk_size_days (int, optional): Number of days per chunk. Defaults to 3.\n",
    "\n",
    "        topic_name (str, optional): SAL topic name to be queried by the client. Defaults to lsst.sal.MTM1M3.logevent_logMessage.\n",
    "\n",
    "        fields (list[str], optional): Fields to be queried by the client. Defaults to [\"message\"].\n",
    "\n",
    "    Returns:\n",
    "        pandas.DataFrame: Concatenated DataFrame containing the queried log messages.\n",
    "    \"\"\"\n",
    "\n",
    "    client = makeClient(client_name)\n",
    "\n",
    "    # Convert start and end dates to datetime objects\n",
    "    start = datetime.fromisoformat(start_date)\n",
    "    end = datetime.fromisoformat(end_date)\n",
    "\n",
    "    # Initialize an empty DataFrame to store concatenated results\n",
    "    all_data = pd.DataFrame()\n",
    "\n",
    "    current_start = start\n",
    "    while current_start < end:\n",
    "        current_end = min(current_start + timedelta(days=chunk_size_days), end)\n",
    "        try:\n",
    "            # Query the data for the current chunk\n",
    "            chunk_data = await client.select_time_series(\n",
    "                topic_name=topic_name,\n",
    "                fields=fields,\n",
    "                start=Time(current_start.isoformat(), format=\"isot\", scale=\"utc\"),\n",
    "                end=Time(current_end.isoformat(), format=\"isot\", scale=\"utc\"),\n",
    "            )\n",
    "            # Concatenate the chunk data to the main DataFrame\n",
    "            all_data = pd.concat([all_data, chunk_data], ignore_index=False)\n",
    "        except Exception as e:\n",
    "            print(\n",
    "                f\"Error querying data from {current_start.isoformat()} to {current_end.isoformat()}: {e}\"\n",
    "            )\n",
    "            continue  # Optionally, continue to the next chunk\n",
    "\n",
    "        # Move to the next chunk\n",
    "        current_start = current_end\n",
    "\n",
    "    return all_data\n",
    "\n",
    "def makeClient(client_name):\n",
    "        # Create the client based on client_name\n",
    "    if client_name == \"summit_efd\":\n",
    "        return makeEfdClient(\"summit_efd\")\n",
    "    elif client_name == \"usdf_efd\":\n",
    "        return makeEfdClient(\"usdf_efd\")\n",
    "    elif client_name == \"idf_efd\":\n",
    "        return makeEfdClient(\"idf_efd\")\n",
    "    else:\n",
    "        return makeEfdClient()  # Default client\n",
    "\n",
    "\n",
    "# Example usage:\n",
    "# begin = \"2023-11-13T01:00\"\n",
    "# end = \"2023-12-21T01:00\"\n",
    "# bump_logs = await query_bump_logs_in_chunks(begin, end, client_name='')"
   ]
  },
  {
   "cell_type": "markdown",
   "id": "d8fcc275-e00d-4108-b178-082c57db74f4",
   "metadata": {},
   "source": [
    "## Let's take a look at the topics, so that we can get an idea of what we need to query"
   ]
  },
  {
   "cell_type": "code",
   "execution_count": 4,
   "id": "60e5e2c8-b86e-4353-8278-73a8cc8e0ebe",
   "metadata": {
    "execution": {
     "iopub.execute_input": "2024-05-16T23:41:26.217133Z",
     "iopub.status.busy": "2024-05-16T23:41:26.216734Z",
     "iopub.status.idle": "2024-05-16T23:41:26.653109Z",
     "shell.execute_reply": "2024-05-16T23:41:26.652693Z",
     "shell.execute_reply.started": "2024-05-16T23:41:26.217114Z"
    }
   },
   "outputs": [],
   "source": [
    "client = makeClient(\"usdf_efd\")\n",
    "\n",
    "a = await client.get_topics() "
   ]
  },
  {
   "cell_type": "code",
   "execution_count": 5,
   "id": "f5b4bbb1-b7c0-4e32-b041-e23f8c5dfa06",
   "metadata": {
    "execution": {
     "iopub.execute_input": "2024-05-16T23:41:26.653827Z",
     "iopub.status.busy": "2024-05-16T23:41:26.653696Z",
     "iopub.status.idle": "2024-05-16T23:41:26.657256Z",
     "shell.execute_reply": "2024-05-16T23:41:26.656885Z",
     "shell.execute_reply.started": "2024-05-16T23:41:26.653816Z"
    },
    "scrolled": true
   },
   "outputs": [
    {
     "name": "stdout",
     "output_type": "stream",
     "text": [
      "lsst.sal.MTM1M3.accelerometerData\n",
      "lsst.sal.MTM1M3.ackcmd\n",
      "lsst.sal.MTM1M3.appliedAccelerationForces\n",
      "lsst.sal.MTM1M3.appliedAzimuthForces\n",
      "lsst.sal.MTM1M3.appliedBalanceForces\n",
      "lsst.sal.MTM1M3.appliedCylinderForces\n",
      "lsst.sal.MTM1M3.appliedElevationForces\n",
      "lsst.sal.MTM1M3.appliedForces\n",
      "lsst.sal.MTM1M3.appliedThermalForces\n",
      "lsst.sal.MTM1M3.appliedVelocityForces\n",
      "lsst.sal.MTM1M3.command_abortRaiseM1M3\n",
      "lsst.sal.MTM1M3.command_applyAberrationForces\n",
      "lsst.sal.MTM1M3.command_applyActiveOpticForces\n",
      "lsst.sal.MTM1M3.command_applyActiveOpticForcesByBendingModes\n",
      "lsst.sal.MTM1M3.command_applyOffsetForces\n",
      "lsst.sal.MTM1M3.command_applyOffsetForcesByMirrorForce\n",
      "lsst.sal.MTM1M3.command_boosterValveClose\n",
      "lsst.sal.MTM1M3.command_boosterValveOpen\n",
      "lsst.sal.MTM1M3.command_clearActiveOpticForces\n",
      "lsst.sal.MTM1M3.command_clearOffsetForces\n",
      "lsst.sal.MTM1M3.command_clearSlewFlag\n",
      "lsst.sal.MTM1M3.command_disable\n",
      "lsst.sal.MTM1M3.command_disableForceActuator\n",
      "lsst.sal.MTM1M3.command_disableHardpointChase\n",
      "lsst.sal.MTM1M3.command_disableHardpointCorrections\n",
      "lsst.sal.MTM1M3.command_enable\n",
      "lsst.sal.MTM1M3.command_enableAllForceActuators\n",
      "lsst.sal.MTM1M3.command_enableForceActuator\n",
      "lsst.sal.MTM1M3.command_enableHardpointChase\n",
      "lsst.sal.MTM1M3.command_enableHardpointCorrections\n",
      "lsst.sal.MTM1M3.command_enterControl\n",
      "lsst.sal.MTM1M3.command_enterEngineering\n",
      "lsst.sal.MTM1M3.command_exitControl\n",
      "lsst.sal.MTM1M3.command_exitEngineering\n",
      "lsst.sal.MTM1M3.command_forceActuatorBumpTest\n",
      "lsst.sal.MTM1M3.command_killForceActuatorBumpTest\n",
      "lsst.sal.MTM1M3.command_killHardpointTest\n",
      "lsst.sal.MTM1M3.command_lowerM1M3\n",
      "lsst.sal.MTM1M3.command_moveHardpointActuators\n",
      "lsst.sal.MTM1M3.command_panic\n",
      "lsst.sal.MTM1M3.command_pauseM1M3RaisingLowering\n",
      "lsst.sal.MTM1M3.command_positionM1M3\n",
      "lsst.sal.MTM1M3.command_raiseM1M3\n",
      "lsst.sal.MTM1M3.command_resetPID\n",
      "lsst.sal.MTM1M3.command_resumeM1M3RaisingLowering\n",
      "lsst.sal.MTM1M3.command_setAirSlewFlag\n",
      "lsst.sal.MTM1M3.command_setLogLevel\n",
      "lsst.sal.MTM1M3.command_setSlewControllerSettings\n",
      "lsst.sal.MTM1M3.command_setSlewFlag\n",
      "lsst.sal.MTM1M3.command_shutdown\n",
      "lsst.sal.MTM1M3.command_standby\n",
      "lsst.sal.MTM1M3.command_start\n",
      "lsst.sal.MTM1M3.command_stopHardpointMotion\n",
      "lsst.sal.MTM1M3.command_testHardpoint\n",
      "lsst.sal.MTM1M3.command_translateM1M3\n",
      "lsst.sal.MTM1M3.command_turnAirOff\n",
      "lsst.sal.MTM1M3.command_turnAirOn\n",
      "lsst.sal.MTM1M3.command_turnLightsOff\n",
      "lsst.sal.MTM1M3.command_turnLightsOn\n",
      "lsst.sal.MTM1M3.command_turnPowerOff\n",
      "lsst.sal.MTM1M3.command_turnPowerOn\n",
      "lsst.sal.MTM1M3.command_updatePID\n",
      "lsst.sal.MTM1M3.forceActuatorData\n",
      "lsst.sal.MTM1M3.forceActuatorPressure\n",
      "lsst.sal.MTM1M3.gyroData\n",
      "lsst.sal.MTM1M3.hardpointActuatorData\n",
      "lsst.sal.MTM1M3.hardpointMonitorData\n",
      "lsst.sal.MTM1M3.imsData\n",
      "lsst.sal.MTM1M3.inclinometerData\n",
      "lsst.sal.MTM1M3.logevent_accelerometerSettings\n",
      "lsst.sal.MTM1M3.logevent_airSupplyStatus\n",
      "lsst.sal.MTM1M3.logevent_airSupplyWarning\n",
      "lsst.sal.MTM1M3.logevent_appliedAberrationForces\n",
      "lsst.sal.MTM1M3.logevent_appliedAccelerationForces\n",
      "lsst.sal.MTM1M3.logevent_appliedActiveOpticForces\n",
      "lsst.sal.MTM1M3.logevent_appliedAzimuthForces\n",
      "lsst.sal.MTM1M3.logevent_appliedBalanceForces\n",
      "lsst.sal.MTM1M3.logevent_appliedCylinderForces\n",
      "lsst.sal.MTM1M3.logevent_appliedElevationForces\n",
      "lsst.sal.MTM1M3.logevent_appliedForces\n",
      "lsst.sal.MTM1M3.logevent_appliedOffsetForces\n",
      "lsst.sal.MTM1M3.logevent_appliedStaticForces\n",
      "lsst.sal.MTM1M3.logevent_appliedThermalForces\n",
      "lsst.sal.MTM1M3.logevent_appliedVelocityForces\n",
      "lsst.sal.MTM1M3.logevent_boosterValveSettings\n",
      "lsst.sal.MTM1M3.logevent_boosterValveStatus\n",
      "lsst.sal.MTM1M3.logevent_cellLightStatus\n",
      "lsst.sal.MTM1M3.logevent_cellLightWarning\n",
      "lsst.sal.MTM1M3.logevent_commandRejectionWarning\n",
      "lsst.sal.MTM1M3.logevent_configurationApplied\n",
      "lsst.sal.MTM1M3.logevent_configurationsAvailable\n",
      "lsst.sal.MTM1M3.logevent_detailedState\n",
      "lsst.sal.MTM1M3.logevent_displacementSensorSettings\n",
      "lsst.sal.MTM1M3.logevent_displacementSensorWarning\n",
      "lsst.sal.MTM1M3.logevent_enabledForceActuators\n",
      "lsst.sal.MTM1M3.logevent_errorCode\n",
      "lsst.sal.MTM1M3.logevent_forceActuatorBumpTestStatus\n",
      "lsst.sal.MTM1M3.logevent_forceActuatorFollowingErrorCounter\n",
      "lsst.sal.MTM1M3.logevent_forceActuatorForceWarning\n",
      "lsst.sal.MTM1M3.logevent_forceActuatorInfo\n",
      "lsst.sal.MTM1M3.logevent_forceActuatorSettings\n",
      "lsst.sal.MTM1M3.logevent_forceActuatorState\n",
      "lsst.sal.MTM1M3.logevent_forceActuatorWarning\n",
      "lsst.sal.MTM1M3.logevent_forceControllerState\n",
      "lsst.sal.MTM1M3.logevent_forceSetpointWarning\n",
      "lsst.sal.MTM1M3.logevent_gyroSettings\n",
      "lsst.sal.MTM1M3.logevent_gyroWarning\n",
      "lsst.sal.MTM1M3.logevent_hardpointActuatorInfo\n",
      "lsst.sal.MTM1M3.logevent_hardpointActuatorSettings\n",
      "lsst.sal.MTM1M3.logevent_hardpointActuatorState\n",
      "lsst.sal.MTM1M3.logevent_hardpointActuatorWarning\n",
      "lsst.sal.MTM1M3.logevent_hardpointMonitorInfo\n",
      "lsst.sal.MTM1M3.logevent_hardpointTestStatus\n",
      "lsst.sal.MTM1M3.logevent_heartbeat\n",
      "lsst.sal.MTM1M3.logevent_ilcWarning\n",
      "lsst.sal.MTM1M3.logevent_inclinometerSensorWarning\n",
      "lsst.sal.MTM1M3.logevent_inclinometerSettings\n",
      "lsst.sal.MTM1M3.logevent_interlockStatus\n",
      "lsst.sal.MTM1M3.logevent_interlockWarning\n",
      "lsst.sal.MTM1M3.logevent_logLevel\n",
      "lsst.sal.MTM1M3.logevent_logMessage\n",
      "lsst.sal.MTM1M3.logevent_pidInfo\n",
      "lsst.sal.MTM1M3.logevent_pidSettings\n",
      "lsst.sal.MTM1M3.logevent_positionControllerSettings\n",
      "lsst.sal.MTM1M3.logevent_powerStatus\n",
      "lsst.sal.MTM1M3.logevent_powerSupplyStatus\n",
      "lsst.sal.MTM1M3.logevent_powerWarning\n",
      "lsst.sal.MTM1M3.logevent_preclippedBalanceForces\n",
      "lsst.sal.MTM1M3.logevent_preclippedCylinderForces\n",
      "lsst.sal.MTM1M3.logevent_preclippedElevationForces\n",
      "lsst.sal.MTM1M3.logevent_preclippedForces\n",
      "lsst.sal.MTM1M3.logevent_raisingLoweringInfo\n",
      "lsst.sal.MTM1M3.logevent_settingVersions\n",
      "lsst.sal.MTM1M3.logevent_settingsApplied\n",
      "lsst.sal.MTM1M3.logevent_simulationMode\n",
      "lsst.sal.MTM1M3.logevent_slewControllerSettings\n",
      "lsst.sal.MTM1M3.logevent_softwareVersions\n",
      "lsst.sal.MTM1M3.logevent_summaryState\n",
      "lsst.sal.MTM1M3.outerLoopData\n",
      "lsst.sal.MTM1M3.pidData\n",
      "lsst.sal.MTM1M3.powerSupplyData\n",
      "lsst.sal.MTM1M3TS.ackcmd\n",
      "lsst.sal.MTM1M3TS.command_coolantPumpFrequency\n",
      "lsst.sal.MTM1M3TS.command_coolantPumpPower\n",
      "lsst.sal.MTM1M3TS.command_coolantPumpReset\n",
      "lsst.sal.MTM1M3TS.command_coolantPumpStart\n",
      "lsst.sal.MTM1M3TS.command_coolantPumpStop\n",
      "lsst.sal.MTM1M3TS.command_disable\n",
      "lsst.sal.MTM1M3TS.command_enable\n",
      "lsst.sal.MTM1M3TS.command_exitControl\n",
      "lsst.sal.MTM1M3TS.command_heaterFanDemand\n",
      "lsst.sal.MTM1M3TS.command_setEngineeringMode\n",
      "lsst.sal.MTM1M3TS.command_setLogLevel\n",
      "lsst.sal.MTM1M3TS.command_setMixingValve\n",
      "lsst.sal.MTM1M3TS.command_standby\n",
      "lsst.sal.MTM1M3TS.command_start\n",
      "lsst.sal.MTM1M3TS.flowMeter\n",
      "lsst.sal.MTM1M3TS.glycolLoopTemperature\n",
      "lsst.sal.MTM1M3TS.glycolPump\n",
      "lsst.sal.MTM1M3TS.logevent_enabledILC\n",
      "lsst.sal.MTM1M3TS.logevent_engineeringMode\n",
      "lsst.sal.MTM1M3TS.logevent_glycolPumpStatus\n",
      "lsst.sal.MTM1M3TS.logevent_heartbeat\n",
      "lsst.sal.MTM1M3TS.logevent_logLevel\n",
      "lsst.sal.MTM1M3TS.logevent_logMessage\n",
      "lsst.sal.MTM1M3TS.logevent_simulationMode\n",
      "lsst.sal.MTM1M3TS.logevent_softwareVersions\n",
      "lsst.sal.MTM1M3TS.logevent_summaryState\n",
      "lsst.sal.MTM1M3TS.logevent_thermalInfo\n",
      "lsst.sal.MTM1M3TS.logevent_thermalSettings\n",
      "lsst.sal.MTM1M3TS.mixingValve\n",
      "lsst.sal.MTM1M3TS.thermalData\n"
     ]
    }
   ],
   "source": [
    "for entry in a:\n",
    "    if entry.__contains__(\"lsst.sal.MTM1M3\"):# and entry.__contains__(\"isplace\"):\n",
    "        print(entry)"
   ]
  },
  {
   "cell_type": "markdown",
   "id": "485b628d-0a42-48b1-98f2-121f8f903fa1",
   "metadata": {},
   "source": [
    "### Possibilities for the SAL data\n",
    "\n",
    "- lsst.sal.MTM1M3.forceActuatorData\n",
    "- lsst.sal.MTM1M3.forceActuatorPressure\n",
    "- lsst.sal.MTM1M3.hardpointActuatorData\n",
    "- lsst.sal.MTM1M3.hardpointMonitorData"
   ]
  },
  {
   "cell_type": "code",
   "execution_count": 6,
   "id": "73246a12-546b-46d1-a28f-3eaa53e2ed3f",
   "metadata": {
    "execution": {
     "iopub.execute_input": "2024-05-16T23:41:26.657946Z",
     "iopub.status.busy": "2024-05-16T23:41:26.657818Z",
     "iopub.status.idle": "2024-05-16T23:41:26.823324Z",
     "shell.execute_reply": "2024-05-16T23:41:26.822936Z",
     "shell.execute_reply.started": "2024-05-16T23:41:26.657935Z"
    },
    "scrolled": true
   },
   "outputs": [
    {
     "data": {
      "text/plain": [
       "['displacement0',\n",
       " 'displacement1',\n",
       " 'displacement2',\n",
       " 'displacement3',\n",
       " 'displacement4',\n",
       " 'displacement5',\n",
       " 'encoder0',\n",
       " 'encoder1',\n",
       " 'encoder2',\n",
       " 'encoder3',\n",
       " 'encoder4',\n",
       " 'encoder5',\n",
       " 'forceMagnitude',\n",
       " 'fx',\n",
       " 'fy',\n",
       " 'fz',\n",
       " 'measuredForce0',\n",
       " 'measuredForce1',\n",
       " 'measuredForce2',\n",
       " 'measuredForce3',\n",
       " 'measuredForce4',\n",
       " 'measuredForce5',\n",
       " 'mx',\n",
       " 'my',\n",
       " 'mz',\n",
       " 'private_efdStamp',\n",
       " 'private_host',\n",
       " 'private_identity',\n",
       " 'private_kafkaStamp',\n",
       " 'private_origin',\n",
       " 'private_rcvStamp',\n",
       " 'private_revCode',\n",
       " 'private_seqNum',\n",
       " 'private_sndStamp',\n",
       " 'stepsCommanded0',\n",
       " 'stepsCommanded1',\n",
       " 'stepsCommanded2',\n",
       " 'stepsCommanded3',\n",
       " 'stepsCommanded4',\n",
       " 'stepsCommanded5',\n",
       " 'stepsQueued0',\n",
       " 'stepsQueued1',\n",
       " 'stepsQueued2',\n",
       " 'stepsQueued3',\n",
       " 'stepsQueued4',\n",
       " 'stepsQueued5',\n",
       " 'timestamp',\n",
       " 'xPosition',\n",
       " 'xRotation',\n",
       " 'yPosition',\n",
       " 'yRotation',\n",
       " 'zPosition',\n",
       " 'zRotation']"
      ]
     },
     "execution_count": 6,
     "metadata": {},
     "output_type": "execute_result"
    }
   ],
   "source": [
    "await client.get_fields(\"lsst.sal.MTM1M3.hardpointActuatorData\")"
   ]
  },
  {
   "cell_type": "code",
   "execution_count": 7,
   "id": "e5e82b2a-4dbc-4218-bfe5-1cbdd51ed94c",
   "metadata": {
    "execution": {
     "iopub.execute_input": "2024-05-16T23:41:26.824018Z",
     "iopub.status.busy": "2024-05-16T23:41:26.823886Z",
     "iopub.status.idle": "2024-05-16T23:41:26.826305Z",
     "shell.execute_reply": "2024-05-16T23:41:26.825946Z",
     "shell.execute_reply.started": "2024-05-16T23:41:26.824008Z"
    }
   },
   "outputs": [],
   "source": [
    "starts = [\"2023-11-27T21:25:26\",\"2023-11-28T20:40:38\",\"2023-12-04T21:32:18\",\"2023-12-07T03:34:44\"] # From https://lsstc.slack.com/archives/C0567AY64AC/p1715789391584609?thread_ts=1715786982.696169&cid=C0567AY64AC\n",
    "ends = [\"2023-11-27T22:41:17\",\"2023-11-28T21:56:28\",\"2023-12-04T22:45:06\",\"2023-12-07T04:48:29\"]"
   ]
  },
  {
   "cell_type": "code",
   "execution_count": 8,
   "id": "4ae7bae4-fbc6-4b72-a8c1-c5485835a911",
   "metadata": {
    "execution": {
     "iopub.execute_input": "2024-05-16T23:41:26.827002Z",
     "iopub.status.busy": "2024-05-16T23:41:26.826844Z",
     "iopub.status.idle": "2024-05-16T23:41:26.830872Z",
     "shell.execute_reply": "2024-05-16T23:41:26.830525Z",
     "shell.execute_reply.started": "2024-05-16T23:41:26.826991Z"
    }
   },
   "outputs": [],
   "source": [
    "colnames =  [\"displacement\",\"measuredForce\"]\n",
    "colors = [\"#e01616\",\"#f6f40b\",\"#2affbb\",\"#123cdf\",\"#e51983\",\"#2b8221\"]"
   ]
  },
  {
   "cell_type": "code",
   "execution_count": 9,
   "id": "bedd57a7-cacb-42da-b011-d8119ba2bb04",
   "metadata": {
    "execution": {
     "iopub.execute_input": "2024-05-16T23:41:26.845610Z",
     "iopub.status.busy": "2024-05-16T23:41:26.845485Z",
     "iopub.status.idle": "2024-05-16T23:42:23.393697Z",
     "shell.execute_reply": "2024-05-16T23:42:23.393248Z",
     "shell.execute_reply.started": "2024-05-16T23:41:26.845601Z"
    }
   },
   "outputs": [
    {
     "name": "stdout",
     "output_type": "stream",
     "text": [
      "Starting query for time range 2023-11-27T21:25:26 - 2023-11-27T22:41:17 . . . Finished\n",
      "Starting query for time range 2023-11-28T20:40:38 - 2023-11-28T21:56:28 . . . Finished\n",
      "Starting query for time range 2023-12-04T21:32:18 - 2023-12-04T22:45:06 . . . Finished\n",
      "Starting query for time range 2023-12-07T03:34:44 - 2023-12-07T04:48:29 . . . Finished\n"
     ]
    }
   ],
   "source": [
    "all_data = pd.DataFrame()\n",
    "for start,end in zip(starts,ends):\n",
    "    print(r\"Starting query for time range {} - {}\".format(start,end),end=\" . . . \")\n",
    "    df_bump = await client.select_time_series(\n",
    "        \"lsst.sal.MTM1M3.hardpointActuatorData\", \n",
    "        \"*\", Time(start), Time(end))\n",
    "    \n",
    "    all_data = pd.concat([all_data, df_bump], ignore_index=False)\n",
    "    \n",
    "    print(\"Finished\")\n",
    "    del df_bump"
   ]
  },
  {
   "cell_type": "markdown",
   "id": "b9018054-8e17-4524-b762-dd168df09f76",
   "metadata": {},
   "source": [
    "### Plot Force vs. displacement for all actuators.\n",
    "- Take displacement values from up and down movements for each actuator that is closest to Force = Zero Newton for all repetitions.\n",
    "- Calculate the average."
   ]
  },
  {
   "cell_type": "code",
   "execution_count": 10,
   "id": "6a8e7d5b-a05c-48c9-8be6-eb41e1bfea6e",
   "metadata": {
    "execution": {
     "iopub.execute_input": "2024-05-16T23:42:23.435475Z",
     "iopub.status.busy": "2024-05-16T23:42:23.435357Z",
     "iopub.status.idle": "2024-05-16T23:43:41.768414Z",
     "shell.execute_reply": "2024-05-16T23:43:41.767942Z",
     "shell.execute_reply.started": "2024-05-16T23:42:23.435466Z"
    },
    "scrolled": true
   },
   "outputs": [],
   "source": [
    "for start,end in zip(starts,ends):\n",
    "    fig,axs = plt.subplots(2,1,sharex=True,dpi=140)\n",
    "    mydf = all_data[np.logical_and(Time(all_data.index.values) >= Time(start),Time(all_data.index.values)<=Time(end))]\n",
    "    for number in range(6):\n",
    "        axs[0].plot(mydf.index.values,mydf[colnames[0]+str(number)],color=colors[number],\n",
    "                    label=r\"Actuator {}\".format(str(number)),marker=\"x\",ls='--')\n",
    "        axs[1].plot(mydf.index.values,mydf[colnames[1]+str(number)],color=colors[number],\n",
    "                    label=r\"Actuator {}\".format(str(number)),marker=\"+\",ls='-.')\n",
    "        \n",
    "    axs[0].legend(ncols=2,fontsize='xx-small')\n",
    "    axs[1].legend(ncols=2,fontsize='xx-small')\n",
    "    axs[0].set_ylabel(\"Displacement\")\n",
    "    axs[1].set_ylabel(\"Force\")\n",
    "    for a in axs:\n",
    "        a.xaxis.set_major_locator(mdates.MinuteLocator(interval = 15))\n",
    "        a.xaxis.set_major_formatter(mdates.DateFormatter('%H:%M'))\n",
    "        a.grid()\n",
    "\n",
    "    axs[1].set_xlabel(\"Date\")\n",
    "\n",
    "    fig.tight_layout()\n",
    "    \n",
    "    fig.savefig(r\"/home/s/seanmacb/SITCOM/SITCOM-756/{}_actuator_m1m3.jpg\".format(start))"
   ]
  },
  {
   "cell_type": "markdown",
   "id": "114bfcb3-cb7a-4183-a6b2-eec6fdf28c62",
   "metadata": {},
   "source": [
    "#### That looks okay, but it would be nice to mask these figures"
   ]
  },
  {
   "cell_type": "code",
   "execution_count": 11,
   "id": "79f9c2f2-1464-4a32-8371-02d537a412a7",
   "metadata": {
    "editable": true,
    "execution": {
     "iopub.execute_input": "2024-05-16T23:43:41.769184Z",
     "iopub.status.busy": "2024-05-16T23:43:41.769053Z",
     "iopub.status.idle": "2024-05-16T23:45:15.514672Z",
     "shell.execute_reply": "2024-05-16T23:45:15.514189Z",
     "shell.execute_reply.started": "2024-05-16T23:43:41.769173Z"
    },
    "scrolled": true,
    "slideshow": {
     "slide_type": ""
    },
    "tags": []
   },
   "outputs": [],
   "source": [
    "for start,end in zip(starts,ends):\n",
    "    fig,axs = plt.subplots(2,1,sharex=True,dpi=140)\n",
    "    mydf = all_data[np.logical_and(Time(all_data.index.values) >= Time(start),Time(all_data.index.values)<=Time(end))]\n",
    "    for number in range(6):\n",
    "        date_range = mydf[np.abs(np.diff(mydf[colnames[0]+str(number)],prepend=mydf[colnames[0]+str(number)].iloc[0])) != 0].index.values\n",
    "        # first dated test for actuator 1 has one point that does not meet the above criteria for masking...\n",
    "        # popping the last element off with this conditional\n",
    "        if number == 1 and start==starts[0]:\n",
    "            date_range = date_range[:-1]\n",
    "            \n",
    "        min_date, max_date = np.min(date_range),np.max(date_range)\n",
    "        \n",
    "        finaldf = mydf[np.logical_and(Time(mydf.index.values) >= Time(min_date),Time(mydf.index.values)<=Time(max_date))]\n",
    "        axs[0].plot(finaldf.index.values,finaldf[colnames[0]+str(number)],color=colors[number],\n",
    "                    label=r\"Actuator {}\".format(str(number)),marker=\"x\",ls='--')\n",
    "        axs[1].plot(finaldf.index.values,finaldf[colnames[1]+str(number)],color=colors[number],\n",
    "                    label=r\"Actuator {}\".format(str(number)),marker=\"+\",ls='-.')\n",
    "        \n",
    "    axs[0].set_ylabel(\"Displacement\")\n",
    "    axs[1].set_ylabel(\"Force\")\n",
    "    for a in axs:\n",
    "        a.xaxis.set_major_locator(mdates.MinuteLocator(interval = 15))\n",
    "        a.xaxis.set_major_formatter(mdates.DateFormatter('%H:%M'))\n",
    "        a.grid()\n",
    "        a.legend(ncols=2,fontsize='xx-small')\n",
    "\n",
    "    axs[1].set_xlabel(\"Date\")\n",
    "\n",
    "    fig.tight_layout()\n",
    "    \n",
    "    fig.savefig(r\"/home/s/seanmacb/SITCOM/SITCOM-756/{}_actuator_m1m3_masked.jpg\".format(start))"
   ]
  },
  {
   "cell_type": "markdown",
   "id": "311d9913-b2fb-42dc-b405-3e50d2aa184a",
   "metadata": {
    "editable": true,
    "slideshow": {
     "slide_type": ""
    },
    "tags": []
   },
   "source": [
    "### Make a histogram of the displacement values per actuator.\n",
    "\n",
    "- Fit a Gaussian distribution and determine the FWHM\n",
    "- Plot a limit lines at 2um"
   ]
  },
  {
   "cell_type": "code",
   "execution_count": 30,
   "id": "6221d909-dbbe-4d96-83b7-66fc6d6358f4",
   "metadata": {
    "editable": true,
    "execution": {
     "iopub.execute_input": "2024-05-17T00:07:06.454267Z",
     "iopub.status.busy": "2024-05-17T00:07:06.453970Z",
     "iopub.status.idle": "2024-05-17T00:09:56.638312Z",
     "shell.execute_reply": "2024-05-17T00:09:56.637869Z",
     "shell.execute_reply.started": "2024-05-17T00:07:06.454255Z"
    },
    "scrolled": true,
    "slideshow": {
     "slide_type": ""
    },
    "tags": []
   },
   "outputs": [],
   "source": [
    "for start,end in zip(starts,ends):\n",
    "    fig,ax = plt.subplots(sharex=True,dpi=140)\n",
    "    mydf = all_data[np.logical_and(Time(all_data.index.values) >= Time(start),Time(all_data.index.values)<=Time(end))]\n",
    "    for number in range(6):\n",
    "        date_range = mydf[np.abs(np.diff(mydf[colnames[0]+str(number)],prepend=mydf[colnames[0]+str(number)].iloc[0])) != 0].index.values\n",
    "        # first dated test for actuator 1 has one point that does not meet the above criteria for masking...\n",
    "        # popping the last element off with this conditional\n",
    "        if number == 1 and start==starts[0]:\n",
    "            date_range = date_range[:-1]\n",
    "            \n",
    "        min_date, max_date = np.min(date_range),np.max(date_range)\n",
    "        \n",
    "        finaldf = mydf[np.logical_and(Time(mydf.index.values) >= Time(min_date),Time(mydf.index.values)<=Time(max_date))]\n",
    "\n",
    "        # plot a histogram\n",
    "\n",
    "        ax.hist(finaldf[colnames[0]+str(number)],bins=2500, stacked=True,density=True, alpha=0.6, color=colors[number])\n",
    "        \n",
    "        # Fit a gaussian to it \n",
    "\n",
    "        mu, std = norm.fit(finaldf[colnames[0]+str(number)]) \n",
    "        \n",
    "        xmin, xmax = ax.get_xlim()\n",
    "        x = np.linspace(np.floor(xmin), np.ceil(xmax), int(10E4))\n",
    "        p = norm.pdf(x, mu, std)\n",
    "\n",
    "        ax.plot(x, p, linewidth=2,label=\"Actuator {} fit values: $\\mu$={:.4f}, $\\sigma$={:.4f}\".format(number,mu, std),color=colors[number])\n",
    "\n",
    "        # Plot vertical lines here\n",
    "\n",
    "        # ax.axvlines(mu,0,1,color=colors[number])\n",
    "        # Plot two additional vertical lines below\n",
    "        \n",
    "    ax.grid()\n",
    "    ax.set_ylabel(\"Frequency\")\n",
    "    ax.set_xlabel(\"Displacement\")\n",
    "    ax.set_title(r\"{} - {}\".format(start,end))\n",
    "    ax.legend()\n",
    "    fig.tight_layout()\n",
    "\n",
    "    fig.savefig(r\"/home/s/seanmacb/SITCOM/SITCOM-756/{}_actuator_m1m3_histogram_allActuators.jpg\".format(start))"
   ]
  },
  {
   "cell_type": "markdown",
   "id": "5179b747-94e3-43e3-ba11-f074117f810c",
   "metadata": {},
   "source": [
    "# From the generated plot, measure the Hardpoint displacement repeatability (Average) and its resolution (FWHM) around 0 Newtons."
   ]
  },
  {
   "cell_type": "code",
   "execution_count": null,
   "id": "b29eb94d-36a8-46c9-9daf-3424e4128d5d",
   "metadata": {},
   "outputs": [],
   "source": []
  },
  {
   "cell_type": "code",
   "execution_count": null,
   "id": "1c54e6af-bc09-41d9-a442-c8c1ba6d5860",
   "metadata": {},
   "outputs": [],
   "source": []
  }
 ],
 "metadata": {
  "kernelspec": {
   "display_name": "LSST",
   "language": "python",
   "name": "lsst"
  },
  "language_info": {
   "codemirror_mode": {
    "name": "ipython",
    "version": 3
   },
   "file_extension": ".py",
   "mimetype": "text/x-python",
   "name": "python",
   "nbconvert_exporter": "python",
   "pygments_lexer": "ipython3",
   "version": "3.11.7"
  }
 },
 "nbformat": 4,
 "nbformat_minor": 5
}
