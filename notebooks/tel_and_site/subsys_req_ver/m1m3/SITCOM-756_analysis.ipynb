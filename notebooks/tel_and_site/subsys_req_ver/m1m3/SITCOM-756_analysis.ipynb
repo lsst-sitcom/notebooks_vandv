{
 "cells": [
  {
   "cell_type": "code",
   "execution_count": 1,
   "id": "ae67a29e-43d2-4c47-b7df-41ce7c5c38a5",
   "metadata": {
    "execution": {
     "iopub.execute_input": "2024-05-29T16:01:04.548005Z",
     "iopub.status.busy": "2024-05-29T16:01:04.547855Z",
     "iopub.status.idle": "2024-05-29T16:01:10.154476Z",
     "shell.execute_reply": "2024-05-29T16:01:10.154009Z",
     "shell.execute_reply.started": "2024-05-29T16:01:04.547988Z"
    }
   },
   "outputs": [],
   "source": [
    "# %matplotlib inline\n",
    "from astropy.time import Time\n",
    "from lsst.summit.utils.efdUtils import makeEfdClient, getEfdData\n",
    "import matplotlib.dates as mdates\n",
    "import matplotlib.pyplot as plt\n",
    "import matplotlib.colors as mcolors\n",
    "from lsst_efd_client import EfdClient\n",
    "from collections import defaultdict\n",
    "from datetime import datetime, timedelta\n",
    "import numpy as np\n",
    "import pandas as pd\n",
    "from scipy.stats import norm\n",
    "import os"
   ]
  },
  {
   "cell_type": "markdown",
   "id": "e083860a-4c03-4a72-ba67-010e6e04e069",
   "metadata": {},
   "source": [
    "# M1M3 hardpoint repeatability and resolution analysis\n",
    "---"
   ]
  },
  {
   "cell_type": "markdown",
   "id": "358bda53-700e-4556-97f5-a14a59c990db",
   "metadata": {},
   "source": [
    "## Overview\n",
    "This notebook is dedicated to the analysis of M1M3 hardpoint repeatability.\n",
    "\n",
    "Data to be analyzed are for the Requirement: \"LVV-11200 LTS-88-REQ-0015-V-01: 3.7.1.3 Hardpoint Displacement Repeatability and Resolution_1\" - https://jira.lsstcorp.org/browse/LVV-11200\n",
    "\n",
    "The ticket related to this analysis - https://rubinobs.atlassian.net/browse/SITCOM-756\n",
    "\n",
    "There are three key deliverables\n",
    "- Plot Force vs. displacement for all actuators.\n",
    "- Make a histogram of the displacement values per actuator.\n",
    "- From the generated plot, measure the Hardpoint displacement repeatability (Average) and its resolution (FWHM) around 0 Newtons.\n",
    "\n",
    "## Querying EFD\n",
    "\n",
    "### Helper Function"
   ]
  },
  {
   "cell_type": "code",
   "execution_count": 2,
   "id": "3cb4fc93-6b53-4145-8538-5b7d363248a1",
   "metadata": {
    "execution": {
     "iopub.execute_input": "2024-05-29T16:01:11.427589Z",
     "iopub.status.busy": "2024-05-29T16:01:11.427469Z",
     "iopub.status.idle": "2024-05-29T16:01:11.432790Z",
     "shell.execute_reply": "2024-05-29T16:01:11.432408Z",
     "shell.execute_reply.started": "2024-05-29T16:01:11.427579Z"
    }
   },
   "outputs": [],
   "source": [
    "async def query_bump_logs_in_chunks(\n",
    "    start_date, end_date, client_name=\"\", chunk_size_days=3,topic_name=\"lsst.sal.MTM1M3.logevent_logMessage\",fields=[\"message\"]\n",
    "):\n",
    "    \"\"\"\n",
    "    Queries the log messages related to bump tests from the EFD in chunks.\n",
    "\n",
    "    Args:\n",
    "        start_date (str): Start date of the query in ISO format (YYYY-MM-DD).\n",
    "        \n",
    "        end_date (str): End date of the query in ISO format (YYYY-MM-DD).\n",
    "        \n",
    "        client_name (str, optional): Name of the EFD client. Defaults to \"\".\n",
    "        \n",
    "        chunk_size_days (int, optional): Number of days per chunk. Defaults to 3.\n",
    "\n",
    "        topic_name (str, optional): SAL topic name to be queried by the client. Defaults to lsst.sal.MTM1M3.logevent_logMessage.\n",
    "\n",
    "        fields (list[str], optional): Fields to be queried by the client. Defaults to [\"message\"].\n",
    "\n",
    "    Returns:\n",
    "        pandas.DataFrame: Concatenated DataFrame containing the queried log messages.\n",
    "    \"\"\"\n",
    "\n",
    "    client = makeClient(client_name)\n",
    "\n",
    "    # Convert start and end dates to datetime objects\n",
    "    start = datetime.fromisoformat(start_date)\n",
    "    end = datetime.fromisoformat(end_date)\n",
    "\n",
    "    # Initialize an empty DataFrame to store concatenated results\n",
    "    all_data = pd.DataFrame()\n",
    "\n",
    "    current_start = start\n",
    "    while current_start < end:\n",
    "        current_end = min(current_start + timedelta(days=chunk_size_days), end)\n",
    "        try:\n",
    "            # Query the data for the current chunk\n",
    "            chunk_data = await client.select_time_series(\n",
    "                topic_name=topic_name,\n",
    "                fields=fields,\n",
    "                start=Time(current_start.isoformat(), format=\"isot\", scale=\"utc\"),\n",
    "                end=Time(current_end.isoformat(), format=\"isot\", scale=\"utc\"),\n",
    "            )\n",
    "            # Concatenate the chunk data to the main DataFrame\n",
    "            all_data = pd.concat([all_data, chunk_data], ignore_index=False)\n",
    "        except Exception as e:\n",
    "            print(\n",
    "                f\"Error querying data from {current_start.isoformat()} to {current_end.isoformat()}: {e}\"\n",
    "            )\n",
    "            continue  # Optionally, continue to the next chunk\n",
    "\n",
    "        # Move to the next chunk\n",
    "        current_start = current_end\n",
    "\n",
    "    return all_data\n",
    "\n",
    "def makeClient(client_name):\n",
    "        # Create the client based on client_name\n",
    "    if client_name == \"summit_efd\":\n",
    "        return makeEfdClient(\"summit_efd\")\n",
    "    elif client_name == \"usdf_efd\":\n",
    "        return makeEfdClient(\"usdf_efd\")\n",
    "    elif client_name == \"idf_efd\":\n",
    "        return makeEfdClient(\"idf_efd\")\n",
    "    else:\n",
    "        return makeEfdClient()  # Default client\n",
    "\n",
    "\n",
    "# Example usage:\n",
    "# begin = \"2023-11-13T01:00\"\n",
    "# end = \"2023-12-21T01:00\"\n",
    "# bump_logs = await query_bump_logs_in_chunks(begin, end, client_name='')\n",
    "\n",
    "def showAndClear():\n",
    "    plt.show()\n",
    "    # Clear the current axes.\n",
    "    plt.cla() \n",
    "    # Clear the current figure.\n",
    "    plt.clf() \n",
    "    # Closes all the figure windows.\n",
    "    plt.close('all')   \n",
    "    plt.close(fig)\n",
    "    \n",
    "    return"
   ]
  },
  {
   "cell_type": "markdown",
   "id": "c80f12d9-586f-4d11-82c7-436a8adcd06b",
   "metadata": {},
   "source": [
    "### Setting up the sub-directories"
   ]
  },
  {
   "cell_type": "code",
   "execution_count": 3,
   "id": "92645697-3f42-4fc3-b991-7feb27532774",
   "metadata": {
    "execution": {
     "iopub.execute_input": "2024-05-29T16:01:11.433400Z",
     "iopub.status.busy": "2024-05-29T16:01:11.433281Z",
     "iopub.status.idle": "2024-05-29T16:01:11.437460Z",
     "shell.execute_reply": "2024-05-29T16:01:11.437072Z",
     "shell.execute_reply.started": "2024-05-29T16:01:11.433390Z"
    }
   },
   "outputs": [],
   "source": [
    "base_dir = os.getcwd()\n",
    "figure_dir,data_dir = base_dir+\"/SITCOM-756-plots\",base_dir+\"/SITCOM-756-data\"\n",
    "for pathname in [figure_dir,data_dir]:\n",
    "    if not os.path.isdir(pathname):\n",
    "        os.mkdir(pathname)"
   ]
  },
  {
   "cell_type": "markdown",
   "id": "1dbf7898-7368-4e9d-a3f4-963575e5fc07",
   "metadata": {},
   "source": [
    "## Let's take a look at the topics, so that we can get an idea of what we need to query"
   ]
  },
  {
   "cell_type": "code",
   "execution_count": 4,
   "id": "faaefe8c-a44f-4b6d-bc93-10fadac683ed",
   "metadata": {
    "execution": {
     "iopub.execute_input": "2024-05-29T16:01:11.438065Z",
     "iopub.status.busy": "2024-05-29T16:01:11.437946Z",
     "iopub.status.idle": "2024-05-29T16:01:12.081053Z",
     "shell.execute_reply": "2024-05-29T16:01:12.080557Z",
     "shell.execute_reply.started": "2024-05-29T16:01:11.438055Z"
    }
   },
   "outputs": [],
   "source": [
    "client = makeClient(\"usdf_efd\")\n",
    "\n",
    "a = await client.get_topics() "
   ]
  },
  {
   "cell_type": "markdown",
   "id": "713b11b4-a33c-465b-bb5a-17171a33003a",
   "metadata": {},
   "source": [
    "### Possibilities for the SAL data\n",
    "\n",
    "- lsst.sal.MTM1M3.forceActuatorData\n",
    "- lsst.sal.MTM1M3.forceActuatorPressure\n",
    "- lsst.sal.MTM1M3.hardpointActuatorData -> This is where the data for the hardpoint is!\n",
    "- lsst.sal.MTM1M3.hardpointMonitorData"
   ]
  },
  {
   "cell_type": "code",
   "execution_count": 5,
   "id": "76c6df8d-a976-41ab-a864-60c10ecf10a1",
   "metadata": {
    "execution": {
     "iopub.execute_input": "2024-05-29T16:01:12.081811Z",
     "iopub.status.busy": "2024-05-29T16:01:12.081663Z",
     "iopub.status.idle": "2024-05-29T16:01:12.084494Z",
     "shell.execute_reply": "2024-05-29T16:01:12.084004Z",
     "shell.execute_reply.started": "2024-05-29T16:01:12.081799Z"
    }
   },
   "outputs": [],
   "source": [
    "starts = np.array([\"2023-11-27T21:25:26\",\"2023-11-28T20:40:38\",\"2023-12-04T21:32:18\",\"2023-12-07T03:34:44\"]) # From https://lsstc.slack.com/archives/C0567AY64AC/p1715789391584609?thread_ts=1715786982.696169&cid=C0567AY64AC\n",
    "ends = np.array([\"2023-11-27T22:41:17\",\"2023-11-28T21:56:28\",\"2023-12-04T22:45:06\",\"2023-12-07T04:48:29\"])"
   ]
  },
  {
   "cell_type": "code",
   "execution_count": 6,
   "id": "63fe6fee-f82e-4c3e-804a-ef579fb312ff",
   "metadata": {
    "execution": {
     "iopub.execute_input": "2024-05-29T16:01:12.085388Z",
     "iopub.status.busy": "2024-05-29T16:01:12.085266Z",
     "iopub.status.idle": "2024-05-29T16:01:12.089190Z",
     "shell.execute_reply": "2024-05-29T16:01:12.088753Z",
     "shell.execute_reply.started": "2024-05-29T16:01:12.085378Z"
    }
   },
   "outputs": [],
   "source": [
    "colnames =  [\"displacement\",\"measuredForce\"]\n",
    "colors = [\"#e01616\",\"#f6f40b\",\"#2affbb\",\"#123cdf\",\"#e51983\",\"#2b8221\"]"
   ]
  },
  {
   "cell_type": "code",
   "execution_count": 7,
   "id": "cbd8bede-f4f4-4fde-a757-fd2ff9cbb62f",
   "metadata": {
    "execution": {
     "iopub.execute_input": "2024-05-29T16:01:12.089829Z",
     "iopub.status.busy": "2024-05-29T16:01:12.089706Z",
     "iopub.status.idle": "2024-05-29T16:02:07.406213Z",
     "shell.execute_reply": "2024-05-29T16:02:07.405742Z",
     "shell.execute_reply.started": "2024-05-29T16:01:12.089819Z"
    }
   },
   "outputs": [
    {
     "name": "stdout",
     "output_type": "stream",
     "text": [
      "Starting query for time range 2023-11-27T21:25:26 - 2023-11-27T22:41:17 . . . Finished\n",
      "Starting query for time range 2023-11-28T20:40:38 - 2023-11-28T21:56:28 . . . Finished\n",
      "Starting query for time range 2023-12-04T21:32:18 - 2023-12-04T22:45:06 . . . Finished\n",
      "Starting query for time range 2023-12-07T03:34:44 - 2023-12-07T04:48:29 . . . Finished\n"
     ]
    }
   ],
   "source": [
    "all_data = pd.DataFrame()\n",
    "for start,end in zip(starts,ends):\n",
    "    print(r\"Starting query for time range {} - {}\".format(start,end),end=\" . . . \")\n",
    "    df_bump = await client.select_time_series(\n",
    "        \"lsst.sal.MTM1M3.hardpointActuatorData\", \n",
    "        \"*\", Time(start), Time(end))\n",
    "    \n",
    "    all_data = pd.concat([all_data, df_bump], ignore_index=False)\n",
    "    \n",
    "    print(\"Finished\")\n",
    "    del df_bump"
   ]
  },
  {
   "cell_type": "markdown",
   "id": "48f4851e-c942-4b08-8495-14fcbb07e251",
   "metadata": {},
   "source": [
    "### Plot Force vs. displacement for all actuators.\n",
    "- Take displacement values from up and down movements for each actuator that is closest to Force = Zero Newton for all repetitions.\n",
    "- Calculate the average."
   ]
  },
  {
   "cell_type": "code",
   "execution_count": 8,
   "id": "c3320fdf-1898-4d07-8998-2e45a5c582b7",
   "metadata": {
    "execution": {
     "iopub.execute_input": "2024-05-29T16:02:07.406995Z",
     "iopub.status.busy": "2024-05-29T16:02:07.406853Z",
     "iopub.status.idle": "2024-05-29T16:03:11.595236Z",
     "shell.execute_reply": "2024-05-29T16:03:11.594732Z",
     "shell.execute_reply.started": "2024-05-29T16:02:07.406983Z"
    },
    "scrolled": true
   },
   "outputs": [],
   "source": [
    "for start,end in zip(starts,ends):\n",
    "    fig,axs = plt.subplots(2,1,sharex=True,dpi=140)\n",
    "    fig.suptitle(start[:10])\n",
    "    mydf = all_data[np.logical_and(Time(all_data.index.values) >= Time(start),Time(all_data.index.values)<=Time(end))]\n",
    "    for number in range(6):\n",
    "        axs[0].plot(mydf.index.values,mydf[colnames[0]+str(number)],color=colors[number],\n",
    "                    label=r\"Actuator {}\".format(str(number)),marker=\"x\",ls='--')\n",
    "        axs[1].plot(mydf.index.values,mydf[colnames[1]+str(number)],color=colors[number],\n",
    "                    label=r\"Actuator {}\".format(str(number)),marker=\"+\",ls='-.')\n",
    "        \n",
    "    axs[0].legend(ncols=2,fontsize='xx-small')\n",
    "    axs[1].legend(ncols=2,fontsize='xx-small')\n",
    "    axs[0].set_ylabel(\"Displacement [m]\")\n",
    "    axs[1].set_ylabel(\"Force [N]\")\n",
    "    for a in axs:\n",
    "        a.xaxis.set_major_locator(mdates.MinuteLocator(interval = 15))\n",
    "        a.xaxis.set_major_formatter(mdates.DateFormatter('%H:%M'))\n",
    "        a.grid()\n",
    "\n",
    "    axs[1].set_xlabel(\"Date\")\n",
    "\n",
    "    fig.tight_layout()\n",
    "    \n",
    "    fig.savefig(r\"{}/{}_actuator_m1m3.jpg\".format(figure_dir,start))\n",
    "\n",
    "    # showAndClear()"
   ]
  },
  {
   "cell_type": "markdown",
   "id": "66ff435b-a4c1-4f07-ad01-ba7eba2afd28",
   "metadata": {},
   "source": [
    "#### That looks okay, but it would be nice to mask these figures"
   ]
  },
  {
   "cell_type": "code",
   "execution_count": 9,
   "id": "372b83bd-5110-4dcb-915a-c5d856d05e0f",
   "metadata": {
    "editable": true,
    "execution": {
     "iopub.execute_input": "2024-05-29T16:03:11.595952Z",
     "iopub.status.busy": "2024-05-29T16:03:11.595821Z",
     "iopub.status.idle": "2024-05-29T16:04:41.115643Z",
     "shell.execute_reply": "2024-05-29T16:04:41.115188Z",
     "shell.execute_reply.started": "2024-05-29T16:03:11.595941Z"
    },
    "scrolled": true,
    "slideshow": {
     "slide_type": ""
    },
    "tags": []
   },
   "outputs": [],
   "source": [
    "for start,end in zip(starts,ends):\n",
    "    fig,axs = plt.subplots(2,1,sharex=True,dpi=140)\n",
    "    fig.suptitle(start[:10])\n",
    "    mydf = all_data[np.logical_and(Time(all_data.index.values) >= Time(start),Time(all_data.index.values)<=Time(end))]\n",
    "    for number in range(6):\n",
    "        date_range = mydf[np.abs(np.diff(mydf[colnames[0]+str(number)],prepend=mydf[colnames[0]+str(number)].iloc[0])) != 0].index.values\n",
    "        # first dated test for actuator 1 has one point that does not meet the above criteria for masking...\n",
    "        # popping the last element off with this conditional\n",
    "        if number == 1 and start==starts[0]:\n",
    "            date_range = date_range[:-1]\n",
    "            \n",
    "        min_date, max_date = np.min(date_range),np.max(date_range)\n",
    "        \n",
    "        finaldf = mydf[np.logical_and(Time(mydf.index.values) >= Time(min_date),Time(mydf.index.values)<=Time(max_date))]\n",
    "\n",
    "        \n",
    "        axs[0].plot(finaldf.index.values,finaldf[colnames[0]+str(number)],color=colors[number],\n",
    "                    label=r\"Actuator {}\".format(str(number)),marker=\"x\",ls='--')\n",
    "        axs[1].plot(finaldf.index.values,finaldf[colnames[1]+str(number)],color=colors[number],\n",
    "                    label=r\"Actuator {}\".format(str(number)),marker=\"+\",ls='-.')\n",
    "        \n",
    "    axs[0].set_ylabel(\"Displacement [m]\")\n",
    "    axs[1].set_ylabel(\"Force [N]\")\n",
    "    for a in axs:\n",
    "        a.xaxis.set_major_locator(mdates.MinuteLocator(interval = 15))\n",
    "        a.xaxis.set_major_formatter(mdates.DateFormatter('%H:%M'))\n",
    "        a.grid()\n",
    "        a.legend(ncols=2,fontsize='xx-small')\n",
    "\n",
    "    axs[1].set_xlabel(\"Time\")\n",
    "\n",
    "    fig.tight_layout()\n",
    "    \n",
    "    fig.savefig(r\"{}/{}_actuator_m1m3_masked.jpg\".format(figure_dir,start))\n",
    "\n",
    "    # showAndClear()"
   ]
  },
  {
   "cell_type": "markdown",
   "id": "2f1a3378-7e5b-43a4-9773-f36abdfdbdc2",
   "metadata": {
    "editable": true,
    "slideshow": {
     "slide_type": ""
    },
    "tags": []
   },
   "source": [
    "### Make a histogram of the displacement values per actuator.\n",
    "\n",
    "- Fit a Gaussian distribution and determine the FWHM\n",
    "- Plot a limit lines at 2um"
   ]
  },
  {
   "cell_type": "code",
   "execution_count": 10,
   "id": "263394a1-173b-4a5b-be6e-c53e207a7e12",
   "metadata": {
    "execution": {
     "iopub.execute_input": "2024-05-29T16:04:41.116413Z",
     "iopub.status.busy": "2024-05-29T16:04:41.116276Z",
     "iopub.status.idle": "2024-05-29T16:04:41.119469Z",
     "shell.execute_reply": "2024-05-29T16:04:41.119067Z",
     "shell.execute_reply.started": "2024-05-29T16:04:41.116402Z"
    }
   },
   "outputs": [],
   "source": [
    "def fitGaussian(data,ax):\n",
    "    mu, std = norm.fit(data) \n",
    "    \n",
    "    xmin, xmax = ax.get_xlim()\n",
    "    x = np.linspace(np.floor(xmin), np.ceil(xmax), int(10E4))\n",
    "    p = norm.pdf(x, mu, std)\n",
    "\n",
    "    return mu,std,p,x,xmin,xmax\n",
    "\n",
    "def getFWHM_from_gaussian(sigma):\n",
    "    return 2*np.sqrt(np.log(2)*2)*sigma"
   ]
  },
  {
   "cell_type": "code",
   "execution_count": 11,
   "id": "5acd10d6-bf39-49c7-829e-e639d6121f10",
   "metadata": {
    "execution": {
     "iopub.execute_input": "2024-05-29T16:04:41.120172Z",
     "iopub.status.busy": "2024-05-29T16:04:41.120037Z",
     "iopub.status.idle": "2024-05-29T16:04:41.124636Z",
     "shell.execute_reply": "2024-05-29T16:04:41.124262Z",
     "shell.execute_reply.started": "2024-05-29T16:04:41.120160Z"
    }
   },
   "outputs": [],
   "source": [
    "save_fig=True\n",
    "save_data=True\n",
    "bin_num = int(5E1)\n",
    "xranges = [(-0.005,0.02),(-4000,4000)]\n",
    "print_outputs = False # Flag to print the outputs of the figures\n",
    "kwargs = dict(bins=bin_num, stacked=True, density=True,histtype='stepfilled')\n",
    "comment_text = \"\\n The first row gives the different dates of the tests. Each successive entry corresponds to a different date.\\n The second row gives the average of the data when fitted to a Gaussian.\\n The third row is the rms of the gaussian fit.\\n The fourth row is the FWHM of the gaussian fit.\""
   ]
  },
  {
   "cell_type": "code",
   "execution_count": 12,
   "id": "8837f96b-c1ef-41d1-b33d-9cb3e6f1d784",
   "metadata": {
    "editable": true,
    "execution": {
     "iopub.execute_input": "2024-05-29T16:04:41.125278Z",
     "iopub.status.busy": "2024-05-29T16:04:41.125151Z",
     "iopub.status.idle": "2024-05-29T16:16:11.326539Z",
     "shell.execute_reply": "2024-05-29T16:16:11.325949Z",
     "shell.execute_reply.started": "2024-05-29T16:04:41.125267Z"
    },
    "scrolled": true,
    "slideshow": {
     "slide_type": ""
    },
    "tags": []
   },
   "outputs": [],
   "source": [
    "for colname,xrange,axis_unit in zip(colnames,xranges, [\"[m]\",\"[N]\"]):\n",
    "    # first plot\n",
    "    for start,end in zip(starts,ends):\n",
    "        fig,ax = plt.subplots(dpi=140)\n",
    "        mydf = all_data[np.logical_and(Time(all_data.index.values) >= Time(start),Time(all_data.index.values)<=Time(end))]\n",
    "        fig.suptitle(start.__str__()[:10])\n",
    "        ymax_final = 0\n",
    "        mu_arr,std_arr = np.array([]),np.array([])\n",
    "        \n",
    "        for number in range(6):\n",
    "            date_range = mydf[np.abs(np.diff(mydf[colname+str(number)],prepend=mydf[colname+str(number)].iloc[0])) != 0].index.values\n",
    "            # first dated test for actuator 1 has one point that does not meet the above criteria for masking...\n",
    "            # popping the last element off with this conditional\n",
    "            if number == 1 and start==starts[0]:\n",
    "                date_range = date_range[:-1]\n",
    "                \n",
    "            min_date, max_date = np.min(date_range),np.max(date_range)\n",
    "            \n",
    "            finaldf = mydf[np.logical_and(Time(mydf.index.values) >= Time(min_date),Time(mydf.index.values)<=Time(max_date))]\n",
    "    \n",
    "            # plot a histogram\n",
    "    \n",
    "            ax.hist(finaldf[colname+str(number)],bins=bin_num, density=True, alpha=0.8, color=colors[number])\n",
    "    \n",
    "            \n",
    "            # Fit a gaussian to it \n",
    "    \n",
    "            mu,std,p,x,xmin,xmax = fitGaussian(finaldf[colname+str(number)],ax)\n",
    "    \n",
    "            mu_arr,std_arr = np.append(mu_arr,mu),np.append(std_arr,std)\n",
    "    \n",
    "            ax.plot(x, p, linewidth=2,label=\"Actuator {}: $\\mu$={:.2E}, $\\sigma$={:.2E}\".format(number,mu, std),color=colors[number])\n",
    "    \n",
    "        __,ymax = ax.get_ylim()\n",
    "        # Plot vertical lines here\n",
    "        for number in range(6):\n",
    "            ax.vlines(mu_arr[number],0,1.2*ymax,color=colors[number],ls ='--')\n",
    "            # Plot two additional vertical lines below\n",
    "            for sig in range(1,3): # This might just be 2 micron, so wait to see what comes of it...\n",
    "                ax.vlines(mu_arr[number]+std_arr[number]*sig,0,1.2*ymax_final,color=colors[number],ls ='--')\n",
    "                ax.vlines(mu_arr[number]-std_arr[number]*sig,0,1.2*ymax_final,color=colors[number],ls ='--')\n",
    "            \n",
    "        ax.grid()\n",
    "        ax.set_ylabel(\"Counts / bin width ({:.2E})\".format(np.diff(xrange)[0]/bin_num))\n",
    "        ax.set_xlabel(\"Displacement [m]\")\n",
    "        # ax.set_title(r\"{} - {}\".format(start,end))\n",
    "        ax.set_xlim(-6*std_arr.max(),6*std_arr.max())\n",
    "        ax.legend(loc=\"upper right\")\n",
    "        ax.set_ylim(bottom=0)\n",
    "        fig.tight_layout()\n",
    "\n",
    "        if save_fig:\n",
    "            fig.savefig(r\"{}/{}_actuator_m1m3_histogram_allActuators_{}.jpg\".format(figure_dir,start,colname))\n",
    "    \n",
    "        showAndClear()\n",
    "    \n",
    "    ### Repeat the above plot, but now have the figs be of the individual actuators and the data from their runs\n",
    "    if print_outputs:\n",
    "        print(\"For {}\".format(colname))\n",
    "    for actuator_num in range(6):\n",
    "        fig,ax = plt.subplots(dpi=140)\n",
    "        mu_arr,std_arr = np.array([]),np.array([])\n",
    "        actuatorDF = pd.DataFrame()\n",
    "        color_iter = 0\n",
    "        if print_outputs:\n",
    "            print(\"Actuator {}\".format(actuator_num))\n",
    "            print(\"Test Date\",\"mu\\t\",\"sigma\\t\",\"FWHM\",sep=\"\\t | \\t\")\n",
    "        \n",
    "        for start,end in zip(starts,ends):\n",
    "            mydf = all_data[np.logical_and(Time(all_data.index.values) >= Time(start),Time(all_data.index.values)<=Time(end))]\n",
    "    \n",
    "            date_range = mydf[np.abs(np.diff(mydf[colname+str(actuator_num)],prepend=mydf[colname+str(actuator_num)].iloc[0])) != 0].index.values\n",
    "            # first dated test for actuator 1 has one point that does not meet the above criteria for masking...\n",
    "            # popping the last element off with this conditional\n",
    "            if actuator_num == 1 and start==starts[0]:\n",
    "                date_range = date_range[:-1]\n",
    "                \n",
    "            min_date, max_date = np.min(date_range),np.max(date_range)\n",
    "            finaldf = mydf[np.logical_and(Time(mydf.index.values) >= Time(min_date),Time(mydf.index.values)<=Time(max_date))]\n",
    "    \n",
    "            # plot a histogram\n",
    "            ax.hist(finaldf[colname+str(actuator_num)], alpha=0.4, color=colors[color_iter], range=xrange,zorder=1, **kwargs)\n",
    "            \n",
    "            # Fit a gaussian to it \n",
    "            mu,std,p,x,xmin,xmax = fitGaussian(finaldf[colname+str(actuator_num)],ax)\n",
    "            ax.plot(x, p,label=\"{}: $\\mu$={:.2E}, $\\sigma$={:.2E}\".format(min_date.__str__()[:10],mu, std), linewidth=2,color=colors[color_iter])\n",
    "            mu_arr,std_arr = np.append(mu_arr,mu),np.append(std_arr,std)\n",
    "        \n",
    "            actuatorDF = pd.concat([finaldf,actuatorDF],axis=0)\n",
    "            color_iter+=1\n",
    "            if print_outputs:\n",
    "                print(min_date.__str__()[:10],\"{:.2E}\".format(mu),\"{:.2E}\".format(std),\"{:.2E}\".format(getFWHM_from_gaussian(std)),sep=\"\\t | \\t\")\n",
    "    \n",
    "        # plot additional histogram for the combined dataset\n",
    "        n,bins,patches = ax.hist(actuatorDF[colname+str(actuator_num)],color=colors[color_iter],alpha=0.4,  range=xrange,zorder=4, **kwargs)\n",
    "        \n",
    "        # Fit a gaussian to it \n",
    "        mu,std,p,x,xmin,xmax = fitGaussian(actuatorDF[colname+str(actuator_num)],ax)\n",
    "        if print_outputs:\n",
    "            print(\"Combined\",\"{:.2E}\".format(mu),\"{:.2E}\".format(std),\"{:.2E}\".format(getFWHM_from_gaussian(std)),sep=\"\\t | \\t\",end=\"\\n\\n\")\n",
    "        \n",
    "        ax.plot(x, p, linewidth=2,label=\"{}: $\\mu$={:.2E}, $\\sigma$={:.2E}\".format(\"Combined\",mu, std),color=colors[color_iter])\n",
    "        mu_arr,std_arr = np.append(mu_arr,mu),np.append(std_arr,std)\n",
    "\n",
    "        FWHM_arr = getFWHM_from_gaussian(std_arr)\n",
    "        \n",
    "        __,ymax_final = ax.get_ylim()\n",
    "        \n",
    "        # Plot vertical lines here\n",
    "        vr = 0\n",
    "        for mu,std in zip(mu_arr,std_arr):\n",
    "            ax.vlines(mu,0,1.2*ymax_final,color=colors[number],ls ='--')\n",
    "            # Plot two additional vertical lines below\n",
    "            for sig in range(1,3): # This might just be 2 micron, so wait to see what comes of it...\n",
    "                ax.vlines(mu+std*sig,0,1.2*ymax_final,color=colors[vr],ls ='--')\n",
    "                ax.vlines(mu-std*sig,0,1.2*ymax_final,color=colors[vr],ls ='--')\n",
    "            vr += 1\n",
    "        del vr\n",
    "        \n",
    "        ax.grid()\n",
    "        ax.set_ylabel(\"Counts / bin width ({:.2E})\".format(np.diff(xrange)[0]/bin_num))\n",
    "        ax.set_xlabel(\"{} {}\".format(colname,axis_unit))\n",
    "        ax.set_title(r\"Actuator {}\".format(actuator_num))\n",
    "        ax.set_xlim(xrange)\n",
    "        ax.legend(loc=\"upper left\",fontsize='x-small')\n",
    "        ax.set_ylim(0,ymax_final)\n",
    "        fig.tight_layout()\n",
    "\n",
    "        if save_fig:\n",
    "            fig.savefig(r\"{}/m1m3_histogram_actuator_{}_{}.jpg\".format(figure_dir,actuator_num,colname))\n",
    "\n",
    "        if save_data and not os.path.isfile(data_dir+\"/\"+colname+str(actuator_num)+\".txt\"):\n",
    "            np.savetxt(data_dir+\"/\"+colname+str(actuator_num)+\".txt\", [np.append(list([x[:10] for x in starts]),\"Combined\"),FWHM_arr,std_arr,mu_arr],fmt=\"%s\",footer = comment_text)\n",
    "    \n",
    "        showAndClear()"
   ]
  },
  {
   "cell_type": "markdown",
   "id": "86e0c590-c064-44c2-b6de-e22a5731a742",
   "metadata": {},
   "source": [
    "# From the generated plot, measure the Hardpoint displacement repeatability (Average) and its resolution (FWHM).\n",
    "\n",
    "- See outputs from fitting when setting `print_outputs=True`\n",
    "- Figures are located in `notebooks_vandv/notebooks/tel_and_site/subsys_req_ver/m1m3/SITCOM-756-plots`\n",
    "- Data is located in `notebooks_vandv/notebooks/tel_and_site/subsys_req_ver/m1m3/SITCOM-756-data` using the schema `{displacement/measuredForce}{actuator number}.txt` for the data files\n",
    "\n",
    "- The actuators are very consistent across the four dated tests. The repeatability for displacement by 10µm, 60µm, 10µm, 480µm, 10µm, and 170µm for actuators 0-5 over the four dated tests. All six actuators have a displacement FWHM ~1 cm.\n",
    "- Fitting a gaussian to the force is ineffective, since the force measurements are bimodal. If the force measurements for each actuator were masked further, the fitting might be more insightful\n",
    "\n",
    "\n",
    "| **Combined Data from Four Dated Tests** | **$\\mu_{Displacement}$ [m]** | **$FWHM_{Displacement}$ [m]** | **$\\mu_{Force}$ [N]** | **$FWHM_{Force}$ [N]** |\n",
    "|-----------------------------------------|----------------------------|-----------------------------|---------------------|----------------------|\n",
    "| **Actuator 0**                          | 6.11E-3                    | 9.75E-3                     | -2.57E3             | 5.09E3               |\n",
    "| **Actuator 1**                          | 6.87E-3                    | 1.07E-2                     | -2.89E3             | 4.26E3               |\n",
    "| **Actuator 2**                          | 6.29E-3                    | 9.42E-3                     | 1.15E3              | 6.66E3               |\n",
    "| **Actuator 3**                          | 6.14E-3                    | 9.32E-3                     | 1.56E3              | 6.26E3               |\n",
    "| **Actuator 4**                          | 7.01E-3                    | 1.11E-2                     | -1.66E3             | 6.52E3               |\n",
    "| **Actuator 5**                          | 6.22E-3                    | 9.61E-3                     | 2.24E3              | 4.80E3               |"
   ]
  }
 ],
 "metadata": {
  "kernelspec": {
   "display_name": "LSST",
   "language": "python",
   "name": "lsst"
  },
  "language_info": {
   "codemirror_mode": {
    "name": "ipython",
    "version": 3
   },
   "file_extension": ".py",
   "mimetype": "text/x-python",
   "name": "python",
   "nbconvert_exporter": "python",
   "pygments_lexer": "ipython3",
   "version": "3.11.7"
  }
 },
 "nbformat": 4,
 "nbformat_minor": 5
}
