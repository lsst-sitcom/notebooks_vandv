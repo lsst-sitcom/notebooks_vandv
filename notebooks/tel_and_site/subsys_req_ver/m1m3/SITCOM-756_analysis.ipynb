{
 "cells": [
  {
   "cell_type": "code",
<<<<<<< HEAD
<<<<<<< HEAD
<<<<<<< HEAD
<<<<<<< HEAD
<<<<<<< HEAD
<<<<<<< HEAD
<<<<<<< HEAD
   "execution_count": 1,
   "id": "daecd481-e4cc-4c8b-a2ba-c69795495e47",
   "metadata": {
    "execution": {
     "iopub.execute_input": "2024-05-21T23:51:45.980222Z",
     "iopub.status.busy": "2024-05-21T23:51:45.979802Z",
     "iopub.status.idle": "2024-05-21T23:51:51.897242Z",
     "shell.execute_reply": "2024-05-21T23:51:51.896698Z",
     "shell.execute_reply.started": "2024-05-21T23:51:45.980207Z"
=======
   "execution_count": 3,
   "id": "daecd481-e4cc-4c8b-a2ba-c69795495e47",
   "metadata": {
    "execution": {
     "iopub.execute_input": "2024-05-14T19:12:35.828954Z",
     "iopub.status.busy": "2024-05-14T19:12:35.828758Z",
     "iopub.status.idle": "2024-05-14T19:12:47.713990Z",
     "shell.execute_reply": "2024-05-14T19:12:47.713501Z",
     "shell.execute_reply.started": "2024-05-14T19:12:35.828942Z"
>>>>>>> dd51814 (Adding testing notebook)
=======
   "execution_count": 1,
   "id": "698ced36-1f22-4fa0-8404-0dfe545fb646",
=======
   "execution_count": 20,
=======
   "execution_count": 2,
>>>>>>> 1024676 (Adding histogram to SITCOM-756, nearly done)
   "id": "daecd481-e4cc-4c8b-a2ba-c69795495e47",
>>>>>>> edceb24 (Update SITCOM-756 to include plots)
   "metadata": {
    "execution": {
     "iopub.execute_input": "2024-05-16T23:41:20.323612Z",
     "iopub.status.busy": "2024-05-16T23:41:20.323343Z",
     "iopub.status.idle": "2024-05-16T23:41:26.202153Z",
     "shell.execute_reply": "2024-05-16T23:41:26.201718Z",
     "shell.execute_reply.started": "2024-05-16T23:41:20.323598Z"
=======
   "execution_count": 10,
   "id": "daecd481-e4cc-4c8b-a2ba-c69795495e47",
   "metadata": {
    "execution": {
     "iopub.execute_input": "2024-05-18T18:44:34.423973Z",
     "iopub.status.busy": "2024-05-18T18:44:34.423707Z",
     "iopub.status.idle": "2024-05-18T18:44:49.924225Z",
     "shell.execute_reply": "2024-05-18T18:44:49.923682Z",
     "shell.execute_reply.started": "2024-05-18T18:44:34.423957Z"
>>>>>>> dc3b034 (SITCOM-756 Adding a few adjustments to the histogram)
=======
   "execution_count": 1,
   "id": "daecd481-e4cc-4c8b-a2ba-c69795495e47",
   "metadata": {
    "execution": {
     "iopub.execute_input": "2024-05-21T23:51:45.980222Z",
     "iopub.status.busy": "2024-05-21T23:51:45.979802Z",
     "iopub.status.idle": "2024-05-21T23:51:51.897242Z",
     "shell.execute_reply": "2024-05-21T23:51:51.896698Z",
     "shell.execute_reply.started": "2024-05-21T23:51:45.980207Z"
>>>>>>> 35f5252 (Cleaning up directory for SITCOM-756)
=======
   "execution_count": 1,
   "id": "2b6a4f5b-f436-4cb9-8c80-d47e10c4bff7",
   "metadata": {
    "execution": {
     "iopub.execute_input": "2024-05-23T15:23:39.435422Z",
     "iopub.status.busy": "2024-05-23T15:23:39.435021Z",
     "iopub.status.idle": "2024-05-23T15:24:22.573885Z",
     "shell.execute_reply": "2024-05-23T15:24:22.573437Z",
     "shell.execute_reply.started": "2024-05-23T15:23:39.435407Z"
>>>>>>> 5a5acb6 (Squashing commits)
    }
   },
   "outputs": [],
   "source": [
<<<<<<< HEAD
<<<<<<< HEAD
    "%matplotlib inline\n",
<<<<<<< HEAD
<<<<<<< HEAD
    "%load_ext autoreload\n",
    "%autoreload 2"
   ]
  },
  {
   "cell_type": "code",
   "execution_count": 2,
   "id": "daecd481-e4cc-4c8b-a2ba-c69795495e47",
   "metadata": {
    "execution": {
<<<<<<< HEAD
     "iopub.execute_input": "2024-05-14T19:52:20.686018Z",
     "iopub.status.busy": "2024-05-14T19:52:20.685899Z",
     "iopub.status.idle": "2024-05-14T19:52:25.989649Z",
     "shell.execute_reply": "2024-05-14T19:52:25.989168Z",
     "shell.execute_reply.started": "2024-05-14T19:52:20.686007Z"
>>>>>>> c41dd97 (Add structure to notebook)
=======
     "iopub.execute_input": "2024-05-16T17:37:59.727750Z",
     "iopub.status.busy": "2024-05-16T17:37:59.727504Z",
     "iopub.status.idle": "2024-05-16T17:38:04.869906Z",
     "shell.execute_reply": "2024-05-16T17:38:04.869452Z",
     "shell.execute_reply.started": "2024-05-16T17:37:59.727738Z"
>>>>>>> fb38d8e (Adding code for lineplot of force and displacement data)
    }
   },
   "outputs": [],
   "source": [
<<<<<<< HEAD
    "# %matplotlib inline\n",
=======
>>>>>>> dd51814 (Adding testing notebook)
=======
    "# %load_ext autoreload\n",
    "# %autoreload 2\n",
>>>>>>> edceb24 (Update SITCOM-756 to include plots)
=======
>>>>>>> 2402a14 (Adding masked figures to SITCOM-756)
=======
    "# %matplotlib inline\n",
>>>>>>> 35f5252 (Cleaning up directory for SITCOM-756)
=======
    "# %matplotlib inline\n",
>>>>>>> 5a5acb6 (Squashing commits)
    "from astropy.time import Time\n",
    "from lsst.summit.utils.efdUtils import makeEfdClient, getEfdData\n",
    "import matplotlib.dates as mdates\n",
    "import matplotlib.pyplot as plt\n",
    "import matplotlib.colors as mcolors\n",
    "from lsst_efd_client import EfdClient\n",
    "from collections import defaultdict\n",
    "from datetime import datetime, timedelta\n",
    "import numpy as np\n",
<<<<<<< HEAD
<<<<<<< HEAD
<<<<<<< HEAD
    "import pandas as pd\n",
    "from scipy.stats import norm"
=======
    "import pandas as pd"
>>>>>>> dd51814 (Adding testing notebook)
=======
    "import pandas as pd\n",
    "from scipy.stats import norm"
>>>>>>> edceb24 (Update SITCOM-756 to include plots)
=======
    "import pandas as pd\n",
    "from scipy.stats import norm"
>>>>>>> 5a5acb6 (Squashing commits)
   ]
  },
  {
   "cell_type": "markdown",
<<<<<<< HEAD
   "id": "c90a1536-0da1-4518-9950-d74dd39fb1d0",
=======
   "id": "ac50934d-34b7-4393-a158-fdcc54fc0a85",
>>>>>>> 5a5acb6 (Squashing commits)
   "metadata": {},
   "source": [
    "# M1M3 hardpoint repeatability and resolution analysis\n",
    "---"
   ]
  },
  {
   "cell_type": "markdown",
<<<<<<< HEAD
   "id": "47a9672b-ba6a-429a-9c8e-53c39c5901a8",
=======
   "id": "02d8014b-b7eb-4509-b11c-fde87cd88bbf",
>>>>>>> 5a5acb6 (Squashing commits)
   "metadata": {},
   "source": [
    "## Overview\n",
    "This notebook is dedicated to the analysis of M1M3 hardpoint repeatability.\n",
    "\n",
    "Data to be analyzed are for the Requirement: \"LVV-11200 LTS-88-REQ-0015-V-01: 3.7.1.3 Hardpoint Displacement Repeatability and Resolution_1\" - https://jira.lsstcorp.org/browse/LVV-11200\n",
    "\n",
    "There are three key deliverables\n",
    "- Plot Force vs. displacement for all actuators.\n",
    "- Make a histogram of the displacement values per actuator.\n",
    "- From the generated plot, measure the Hardpoint displacement repeatability (Average) and its resolution (FWHM) around 0 Newtons.\n",
    "\n",
    "## Querying EFD\n",
    "\n",
    "### Helper Function"
   ]
  },
  {
   "cell_type": "code",
<<<<<<< HEAD
<<<<<<< HEAD
<<<<<<< HEAD
<<<<<<< HEAD
<<<<<<< HEAD
<<<<<<< HEAD
   "execution_count": 2,
   "id": "5dd63d04-1f72-4a91-b28f-31dcf2fdd76b",
   "metadata": {
    "execution": {
     "iopub.execute_input": "2024-05-21T23:51:51.905424Z",
     "iopub.status.busy": "2024-05-21T23:51:51.905305Z",
     "iopub.status.idle": "2024-05-21T23:51:51.910726Z",
     "shell.execute_reply": "2024-05-21T23:51:51.910334Z",
     "shell.execute_reply.started": "2024-05-21T23:51:51.905413Z"
=======
   "execution_count": 4,
   "id": "5dd63d04-1f72-4a91-b28f-31dcf2fdd76b",
   "metadata": {
    "execution": {
     "iopub.execute_input": "2024-05-14T19:12:47.721729Z",
     "iopub.status.busy": "2024-05-14T19:12:47.721611Z",
     "iopub.status.idle": "2024-05-14T19:12:47.726342Z",
     "shell.execute_reply": "2024-05-14T19:12:47.725995Z",
     "shell.execute_reply.started": "2024-05-14T19:12:47.721719Z"
>>>>>>> dd51814 (Adding testing notebook)
=======
   "execution_count": 2,
   "id": "5dd63d04-1f72-4a91-b28f-31dcf2fdd76b",
   "metadata": {
    "execution": {
     "iopub.execute_input": "2024-05-14T19:52:25.990769Z",
     "iopub.status.busy": "2024-05-14T19:52:25.990308Z",
     "iopub.status.idle": "2024-05-14T19:52:25.995777Z",
     "shell.execute_reply": "2024-05-14T19:52:25.995392Z",
     "shell.execute_reply.started": "2024-05-14T19:52:25.990756Z"
>>>>>>> c41dd97 (Add structure to notebook)
=======
   "execution_count": 3,
   "id": "5dd63d04-1f72-4a91-b28f-31dcf2fdd76b",
   "metadata": {
    "execution": {
<<<<<<< HEAD
<<<<<<< HEAD
     "iopub.execute_input": "2024-05-16T17:38:04.871545Z",
     "iopub.status.busy": "2024-05-16T17:38:04.871080Z",
     "iopub.status.idle": "2024-05-16T17:38:04.905710Z",
     "shell.execute_reply": "2024-05-16T17:38:04.905351Z",
     "shell.execute_reply.started": "2024-05-16T17:38:04.871531Z"
>>>>>>> fb38d8e (Adding code for lineplot of force and displacement data)
=======
     "iopub.execute_input": "2024-05-16T20:26:51.194167Z",
     "iopub.status.busy": "2024-05-16T20:26:51.193910Z",
     "iopub.status.idle": "2024-05-16T20:26:51.199499Z",
     "shell.execute_reply": "2024-05-16T20:26:51.199144Z",
     "shell.execute_reply.started": "2024-05-16T20:26:51.194153Z"
>>>>>>> edceb24 (Update SITCOM-756 to include plots)
=======
     "iopub.execute_input": "2024-05-16T23:41:26.209936Z",
     "iopub.status.busy": "2024-05-16T23:41:26.209807Z",
     "iopub.status.idle": "2024-05-16T23:41:26.215503Z",
     "shell.execute_reply": "2024-05-16T23:41:26.215021Z",
     "shell.execute_reply.started": "2024-05-16T23:41:26.209925Z"
>>>>>>> 1024676 (Adding histogram to SITCOM-756, nearly done)
=======
   "execution_count": 15,
   "id": "5dd63d04-1f72-4a91-b28f-31dcf2fdd76b",
   "metadata": {
    "execution": {
     "iopub.execute_input": "2024-05-18T18:51:19.398228Z",
     "iopub.status.busy": "2024-05-18T18:51:19.398107Z",
     "iopub.status.idle": "2024-05-18T18:51:19.403353Z",
     "shell.execute_reply": "2024-05-18T18:51:19.402962Z",
     "shell.execute_reply.started": "2024-05-18T18:51:19.398219Z"
>>>>>>> dc3b034 (SITCOM-756 Adding a few adjustments to the histogram)
=======
   "execution_count": 2,
   "id": "5dd63d04-1f72-4a91-b28f-31dcf2fdd76b",
   "metadata": {
    "execution": {
     "iopub.execute_input": "2024-05-21T23:51:51.905424Z",
     "iopub.status.busy": "2024-05-21T23:51:51.905305Z",
     "iopub.status.idle": "2024-05-21T23:51:51.910726Z",
     "shell.execute_reply": "2024-05-21T23:51:51.910334Z",
     "shell.execute_reply.started": "2024-05-21T23:51:51.905413Z"
>>>>>>> 35f5252 (Cleaning up directory for SITCOM-756)
=======
   "execution_count": 2,
   "id": "3967d9cf-6af8-4bad-b006-4aa5b34cd9a5",
   "metadata": {
    "execution": {
     "iopub.execute_input": "2024-05-23T15:24:22.582669Z",
     "iopub.status.busy": "2024-05-23T15:24:22.582531Z",
     "iopub.status.idle": "2024-05-23T15:24:22.588891Z",
     "shell.execute_reply": "2024-05-23T15:24:22.588443Z",
     "shell.execute_reply.started": "2024-05-23T15:24:22.582658Z"
>>>>>>> 5a5acb6 (Squashing commits)
    }
   },
   "outputs": [],
   "source": [
    "async def query_bump_logs_in_chunks(\n",
    "    start_date, end_date, client_name=\"\", chunk_size_days=3,topic_name=\"lsst.sal.MTM1M3.logevent_logMessage\",fields=[\"message\"]\n",
    "):\n",
    "    \"\"\"\n",
    "    Queries the log messages related to bump tests from the EFD in chunks.\n",
    "\n",
    "    Args:\n",
    "        start_date (str): Start date of the query in ISO format (YYYY-MM-DD).\n",
    "        \n",
    "        end_date (str): End date of the query in ISO format (YYYY-MM-DD).\n",
    "        \n",
    "        client_name (str, optional): Name of the EFD client. Defaults to \"\".\n",
    "        \n",
    "        chunk_size_days (int, optional): Number of days per chunk. Defaults to 3.\n",
    "\n",
    "        topic_name (str, optional): SAL topic name to be queried by the client. Defaults to lsst.sal.MTM1M3.logevent_logMessage.\n",
    "\n",
    "        fields (list[str], optional): Fields to be queried by the client. Defaults to [\"message\"].\n",
    "\n",
    "    Returns:\n",
    "        pandas.DataFrame: Concatenated DataFrame containing the queried log messages.\n",
    "    \"\"\"\n",
    "\n",
    "    client = makeClient(client_name)\n",
    "\n",
    "    # Convert start and end dates to datetime objects\n",
    "    start = datetime.fromisoformat(start_date)\n",
    "    end = datetime.fromisoformat(end_date)\n",
    "\n",
    "    # Initialize an empty DataFrame to store concatenated results\n",
    "    all_data = pd.DataFrame()\n",
    "\n",
    "    current_start = start\n",
    "    while current_start < end:\n",
    "        current_end = min(current_start + timedelta(days=chunk_size_days), end)\n",
    "        try:\n",
    "            # Query the data for the current chunk\n",
    "            chunk_data = await client.select_time_series(\n",
    "                topic_name=topic_name,\n",
    "                fields=fields,\n",
    "                start=Time(current_start.isoformat(), format=\"isot\", scale=\"utc\"),\n",
    "                end=Time(current_end.isoformat(), format=\"isot\", scale=\"utc\"),\n",
    "            )\n",
    "            # Concatenate the chunk data to the main DataFrame\n",
    "            all_data = pd.concat([all_data, chunk_data], ignore_index=False)\n",
    "        except Exception as e:\n",
    "            print(\n",
    "                f\"Error querying data from {current_start.isoformat()} to {current_end.isoformat()}: {e}\"\n",
    "            )\n",
    "            continue  # Optionally, continue to the next chunk\n",
    "\n",
    "        # Move to the next chunk\n",
    "        current_start = current_end\n",
    "\n",
    "    return all_data\n",
    "\n",
    "def makeClient(client_name):\n",
    "        # Create the client based on client_name\n",
    "    if client_name == \"summit_efd\":\n",
    "        return makeEfdClient(\"summit_efd\")\n",
    "    elif client_name == \"usdf_efd\":\n",
    "        return makeEfdClient(\"usdf_efd\")\n",
    "    elif client_name == \"idf_efd\":\n",
    "        return makeEfdClient(\"idf_efd\")\n",
    "    else:\n",
    "        return makeEfdClient()  # Default client\n",
    "\n",
    "\n",
    "# Example usage:\n",
    "# begin = \"2023-11-13T01:00\"\n",
    "# end = \"2023-12-21T01:00\"\n",
<<<<<<< HEAD
<<<<<<< HEAD
<<<<<<< HEAD
=======
>>>>>>> dc3b034 (SITCOM-756 Adding a few adjustments to the histogram)
=======
>>>>>>> 5a5acb6 (Squashing commits)
    "# bump_logs = await query_bump_logs_in_chunks(begin, end, client_name='')\n",
    "\n",
    "def showAndClear():\n",
    "    plt.show()\n",
    "    # Clear the current axes.\n",
    "    plt.cla() \n",
    "    # Clear the current figure.\n",
    "    plt.clf() \n",
    "    # Closes all the figure windows.\n",
    "    plt.close('all')   \n",
    "    plt.close(fig)\n",
    "    \n",
    "    return"
<<<<<<< HEAD
<<<<<<< HEAD
=======
    "# bump_logs = await query_bump_logs_in_chunks(begin, end, client_name='')"
>>>>>>> dd51814 (Adding testing notebook)
=======
>>>>>>> dc3b034 (SITCOM-756 Adding a few adjustments to the histogram)
=======
>>>>>>> 5a5acb6 (Squashing commits)
   ]
  },
  {
   "cell_type": "markdown",
<<<<<<< HEAD
   "id": "d8fcc275-e00d-4108-b178-082c57db74f4",
=======
   "id": "0b2c55a9-8a73-4acd-8478-b9d1d72e99c0",
>>>>>>> 5a5acb6 (Squashing commits)
   "metadata": {},
   "source": [
    "## Let's take a look at the topics, so that we can get an idea of what we need to query"
   ]
  },
  {
   "cell_type": "code",
<<<<<<< HEAD
<<<<<<< HEAD
<<<<<<< HEAD
<<<<<<< HEAD
<<<<<<< HEAD
   "execution_count": 3,
   "id": "60e5e2c8-b86e-4353-8278-73a8cc8e0ebe",
   "metadata": {
    "execution": {
     "iopub.execute_input": "2024-05-21T23:51:51.911616Z",
     "iopub.status.busy": "2024-05-21T23:51:51.911476Z",
     "iopub.status.idle": "2024-05-21T23:51:52.357155Z",
     "shell.execute_reply": "2024-05-21T23:51:52.356761Z",
     "shell.execute_reply.started": "2024-05-21T23:51:51.911605Z"
=======
   "execution_count": 26,
   "id": "60e5e2c8-b86e-4353-8278-73a8cc8e0ebe",
   "metadata": {
    "execution": {
     "iopub.execute_input": "2024-05-14T19:18:41.093302Z",
     "iopub.status.busy": "2024-05-14T19:18:41.092867Z",
     "iopub.status.idle": "2024-05-14T19:18:41.788896Z",
     "shell.execute_reply": "2024-05-14T19:18:41.788477Z",
     "shell.execute_reply.started": "2024-05-14T19:18:41.093287Z"
>>>>>>> dd51814 (Adding testing notebook)
=======
   "execution_count": 3,
   "id": "60e5e2c8-b86e-4353-8278-73a8cc8e0ebe",
   "metadata": {
    "execution": {
     "iopub.execute_input": "2024-05-14T19:52:27.108542Z",
     "iopub.status.busy": "2024-05-14T19:52:27.108426Z",
     "iopub.status.idle": "2024-05-14T19:52:27.794392Z",
     "shell.execute_reply": "2024-05-14T19:52:27.794051Z",
     "shell.execute_reply.started": "2024-05-14T19:52:27.108532Z"
>>>>>>> c41dd97 (Add structure to notebook)
=======
   "execution_count": 4,
   "id": "60e5e2c8-b86e-4353-8278-73a8cc8e0ebe",
   "metadata": {
    "execution": {
<<<<<<< HEAD
<<<<<<< HEAD
     "iopub.execute_input": "2024-05-16T17:38:04.906331Z",
     "iopub.status.busy": "2024-05-16T17:38:04.906201Z",
     "iopub.status.idle": "2024-05-16T17:38:05.350550Z",
     "shell.execute_reply": "2024-05-16T17:38:05.350145Z",
     "shell.execute_reply.started": "2024-05-16T17:38:04.906319Z"
>>>>>>> fb38d8e (Adding code for lineplot of force and displacement data)
=======
     "iopub.execute_input": "2024-05-16T20:26:52.876305Z",
     "iopub.status.busy": "2024-05-16T20:26:52.875746Z",
     "iopub.status.idle": "2024-05-16T20:26:53.300171Z",
     "shell.execute_reply": "2024-05-16T20:26:53.299814Z",
     "shell.execute_reply.started": "2024-05-16T20:26:52.876292Z"
>>>>>>> edceb24 (Update SITCOM-756 to include plots)
=======
     "iopub.execute_input": "2024-05-16T23:41:26.217133Z",
     "iopub.status.busy": "2024-05-16T23:41:26.216734Z",
     "iopub.status.idle": "2024-05-16T23:41:26.653109Z",
     "shell.execute_reply": "2024-05-16T23:41:26.652693Z",
     "shell.execute_reply.started": "2024-05-16T23:41:26.217114Z"
>>>>>>> 1024676 (Adding histogram to SITCOM-756, nearly done)
=======
   "execution_count": 3,
   "id": "60e5e2c8-b86e-4353-8278-73a8cc8e0ebe",
   "metadata": {
    "execution": {
<<<<<<< HEAD
     "iopub.execute_input": "2024-05-18T18:41:04.141227Z",
     "iopub.status.busy": "2024-05-18T18:41:04.140957Z",
     "iopub.status.idle": "2024-05-18T18:41:04.751617Z",
     "shell.execute_reply": "2024-05-18T18:41:04.751157Z",
     "shell.execute_reply.started": "2024-05-18T18:41:04.141213Z"
>>>>>>> dc3b034 (SITCOM-756 Adding a few adjustments to the histogram)
=======
     "iopub.execute_input": "2024-05-21T23:51:51.911616Z",
     "iopub.status.busy": "2024-05-21T23:51:51.911476Z",
     "iopub.status.idle": "2024-05-21T23:51:52.357155Z",
     "shell.execute_reply": "2024-05-21T23:51:52.356761Z",
     "shell.execute_reply.started": "2024-05-21T23:51:51.911605Z"
>>>>>>> 35f5252 (Cleaning up directory for SITCOM-756)
=======
   "execution_count": 3,
   "id": "867e1957-62a8-48d2-ac25-368ba6081e65",
   "metadata": {
    "execution": {
     "iopub.execute_input": "2024-05-23T15:24:22.590384Z",
     "iopub.status.busy": "2024-05-23T15:24:22.589996Z",
     "iopub.status.idle": "2024-05-23T15:24:28.047437Z",
     "shell.execute_reply": "2024-05-23T15:24:28.046953Z",
     "shell.execute_reply.started": "2024-05-23T15:24:22.590366Z"
>>>>>>> 5a5acb6 (Squashing commits)
    }
   },
   "outputs": [],
   "source": [
    "client = makeClient(\"usdf_efd\")\n",
    "\n",
    "a = await client.get_topics() "
   ]
  },
  {
   "cell_type": "code",
<<<<<<< HEAD
<<<<<<< HEAD
<<<<<<< HEAD
<<<<<<< HEAD
<<<<<<< HEAD
   "execution_count": 4,
   "id": "f5b4bbb1-b7c0-4e32-b041-e23f8c5dfa06",
   "metadata": {
    "execution": {
     "iopub.execute_input": "2024-05-21T23:51:52.357846Z",
     "iopub.status.busy": "2024-05-21T23:51:52.357689Z",
     "iopub.status.idle": "2024-05-21T23:51:52.359810Z",
     "shell.execute_reply": "2024-05-21T23:51:52.359456Z",
     "shell.execute_reply.started": "2024-05-21T23:51:52.357833Z"
=======
   "execution_count": 4,
   "id": "52342cc8-9f0e-4729-9431-a58c55948872",
   "metadata": {
    "execution": {
     "iopub.execute_input": "2024-05-23T15:24:28.048572Z",
     "iopub.status.busy": "2024-05-23T15:24:28.048162Z",
     "iopub.status.idle": "2024-05-23T15:24:28.051060Z",
     "shell.execute_reply": "2024-05-23T15:24:28.050511Z",
     "shell.execute_reply.started": "2024-05-23T15:24:28.048539Z"
>>>>>>> 5a5acb6 (Squashing commits)
    },
    "scrolled": true
   },
   "outputs": [],
   "source": [
    "# for entry in a:\n",
    "#     if entry.__contains__(\"lsst.sal.MTM1M3\"):# and entry.__contains__(\"isplace\"):\n",
    "        # print(entry)"
<<<<<<< HEAD
=======
   "execution_count": 27,
=======
   "execution_count": 4,
>>>>>>> c41dd97 (Add structure to notebook)
   "id": "f5b4bbb1-b7c0-4e32-b041-e23f8c5dfa06",
   "metadata": {
    "execution": {
     "iopub.execute_input": "2024-05-14T19:52:27.795073Z",
     "iopub.status.busy": "2024-05-14T19:52:27.794866Z",
     "iopub.status.idle": "2024-05-14T19:52:27.798179Z",
     "shell.execute_reply": "2024-05-14T19:52:27.797856Z",
     "shell.execute_reply.started": "2024-05-14T19:52:27.795061Z"
=======
   "execution_count": 5,
   "id": "f5b4bbb1-b7c0-4e32-b041-e23f8c5dfa06",
   "metadata": {
    "execution": {
<<<<<<< HEAD
<<<<<<< HEAD
     "iopub.execute_input": "2024-05-16T17:38:05.351236Z",
     "iopub.status.busy": "2024-05-16T17:38:05.351107Z",
     "iopub.status.idle": "2024-05-16T17:38:05.385846Z",
     "shell.execute_reply": "2024-05-16T17:38:05.385487Z",
     "shell.execute_reply.started": "2024-05-16T17:38:05.351224Z"
>>>>>>> fb38d8e (Adding code for lineplot of force and displacement data)
=======
     "iopub.execute_input": "2024-05-16T20:26:53.322744Z",
     "iopub.status.busy": "2024-05-16T20:26:53.322532Z",
     "iopub.status.idle": "2024-05-16T20:26:53.325785Z",
     "shell.execute_reply": "2024-05-16T20:26:53.325487Z",
     "shell.execute_reply.started": "2024-05-16T20:26:53.322731Z"
>>>>>>> edceb24 (Update SITCOM-756 to include plots)
=======
     "iopub.execute_input": "2024-05-16T23:41:26.653827Z",
     "iopub.status.busy": "2024-05-16T23:41:26.653696Z",
     "iopub.status.idle": "2024-05-16T23:41:26.657256Z",
     "shell.execute_reply": "2024-05-16T23:41:26.656885Z",
     "shell.execute_reply.started": "2024-05-16T23:41:26.653816Z"
>>>>>>> 1024676 (Adding histogram to SITCOM-756, nearly done)
=======
   "execution_count": 4,
   "id": "f5b4bbb1-b7c0-4e32-b041-e23f8c5dfa06",
   "metadata": {
    "execution": {
<<<<<<< HEAD
     "iopub.execute_input": "2024-05-18T18:41:04.752331Z",
     "iopub.status.busy": "2024-05-18T18:41:04.752191Z",
     "iopub.status.idle": "2024-05-18T18:41:04.755783Z",
     "shell.execute_reply": "2024-05-18T18:41:04.755398Z",
     "shell.execute_reply.started": "2024-05-18T18:41:04.752319Z"
>>>>>>> dc3b034 (SITCOM-756 Adding a few adjustments to the histogram)
=======
     "iopub.execute_input": "2024-05-21T23:51:52.357846Z",
     "iopub.status.busy": "2024-05-21T23:51:52.357689Z",
     "iopub.status.idle": "2024-05-21T23:51:52.359810Z",
     "shell.execute_reply": "2024-05-21T23:51:52.359456Z",
     "shell.execute_reply.started": "2024-05-21T23:51:52.357833Z"
>>>>>>> 35f5252 (Cleaning up directory for SITCOM-756)
    },
    "scrolled": true
   },
   "outputs": [],
   "source": [
<<<<<<< HEAD
    "for entry in a:\n",
    "    if entry.__contains__(\"lsst.sal.MTM1M3\"):# and entry.__contains__(\"isplace\"):\n",
    "        print(entry)"
>>>>>>> dd51814 (Adding testing notebook)
=======
    "# for entry in a:\n",
    "#     if entry.__contains__(\"lsst.sal.MTM1M3\"):# and entry.__contains__(\"isplace\"):\n",
    "        # print(entry)"
>>>>>>> 35f5252 (Cleaning up directory for SITCOM-756)
=======
>>>>>>> 5a5acb6 (Squashing commits)
   ]
  },
  {
   "cell_type": "markdown",
<<<<<<< HEAD
   "id": "485b628d-0a42-48b1-98f2-121f8f903fa1",
=======
   "id": "e990791c-0ca9-4049-8a2e-3a99b3369605",
>>>>>>> 5a5acb6 (Squashing commits)
   "metadata": {},
   "source": [
    "### Possibilities for the SAL data\n",
    "\n",
    "- lsst.sal.MTM1M3.forceActuatorData\n",
    "- lsst.sal.MTM1M3.forceActuatorPressure\n",
    "- lsst.sal.MTM1M3.hardpointActuatorData\n",
<<<<<<< HEAD
<<<<<<< HEAD
<<<<<<< HEAD
=======
>>>>>>> c41dd97 (Add structure to notebook)
=======
>>>>>>> 5a5acb6 (Squashing commits)
    "- lsst.sal.MTM1M3.hardpointMonitorData"
   ]
  },
  {
   "cell_type": "code",
<<<<<<< HEAD
<<<<<<< HEAD
<<<<<<< HEAD
   "execution_count": 5,
<<<<<<< HEAD
   "id": "73246a12-546b-46d1-a28f-3eaa53e2ed3f",
   "metadata": {
    "execution": {
     "iopub.execute_input": "2024-05-21T23:51:52.373933Z",
     "iopub.status.busy": "2024-05-21T23:51:52.373812Z",
     "iopub.status.idle": "2024-05-21T23:51:52.375672Z",
     "shell.execute_reply": "2024-05-21T23:51:52.375321Z",
     "shell.execute_reply.started": "2024-05-21T23:51:52.373923Z"
=======
   "execution_count": 5,
   "id": "f0eb44b5-5905-4211-8354-037b12318a31",
   "metadata": {
    "execution": {
     "iopub.execute_input": "2024-05-23T15:24:28.051716Z",
     "iopub.status.busy": "2024-05-23T15:24:28.051588Z",
     "iopub.status.idle": "2024-05-23T15:24:28.063989Z",
     "shell.execute_reply": "2024-05-23T15:24:28.063559Z",
     "shell.execute_reply.started": "2024-05-23T15:24:28.051704Z"
>>>>>>> 5a5acb6 (Squashing commits)
    },
    "scrolled": true
   },
   "outputs": [],
   "source": [
    "# await client.get_fields(\"lsst.sal.MTM1M3.hardpointActuatorData\")"
<<<<<<< HEAD
=======
   "execution_count": 6,
=======
   "execution_count": 5,
>>>>>>> dc3b034 (SITCOM-756 Adding a few adjustments to the histogram)
   "id": "73246a12-546b-46d1-a28f-3eaa53e2ed3f",
   "metadata": {
    "execution": {
     "iopub.execute_input": "2024-05-21T23:51:52.373933Z",
     "iopub.status.busy": "2024-05-21T23:51:52.373812Z",
     "iopub.status.idle": "2024-05-21T23:51:52.375672Z",
     "shell.execute_reply": "2024-05-21T23:51:52.375321Z",
     "shell.execute_reply.started": "2024-05-21T23:51:52.373923Z"
    },
    "scrolled": true
   },
   "outputs": [],
   "source": [
<<<<<<< HEAD
    "await client.get_fields(\"lsst.sal.MTM1M3.hardpointActuatorData\")"
>>>>>>> fb38d8e (Adding code for lineplot of force and displacement data)
=======
    "# await client.get_fields(\"lsst.sal.MTM1M3.hardpointActuatorData\")"
>>>>>>> 35f5252 (Cleaning up directory for SITCOM-756)
=======
>>>>>>> 5a5acb6 (Squashing commits)
   ]
  },
  {
   "cell_type": "code",
<<<<<<< HEAD
<<<<<<< HEAD
<<<<<<< HEAD
<<<<<<< HEAD
<<<<<<< HEAD
   "execution_count": 6,
   "id": "e5e82b2a-4dbc-4218-bfe5-1cbdd51ed94c",
   "metadata": {
    "execution": {
     "iopub.execute_input": "2024-05-21T23:51:53.191994Z",
     "iopub.status.busy": "2024-05-21T23:51:53.191707Z",
     "iopub.status.idle": "2024-05-21T23:51:53.194585Z",
     "shell.execute_reply": "2024-05-21T23:51:53.194152Z",
     "shell.execute_reply.started": "2024-05-21T23:51:53.191980Z"
=======
   "id": "e5e82b2a-4dbc-4218-bfe5-1cbdd51ed94c",
   "metadata": {
    "execution": {
     "iopub.execute_input": "2024-05-14T19:52:34.887114Z",
     "iopub.status.busy": "2024-05-14T19:52:34.886885Z",
     "iopub.status.idle": "2024-05-14T19:52:34.889306Z",
     "shell.execute_reply": "2024-05-14T19:52:34.889020Z",
     "shell.execute_reply.started": "2024-05-14T19:52:34.887099Z"
>>>>>>> c41dd97 (Add structure to notebook)
=======
   "execution_count": 7,
   "id": "e5e82b2a-4dbc-4218-bfe5-1cbdd51ed94c",
   "metadata": {
    "execution": {
<<<<<<< HEAD
     "iopub.execute_input": "2024-05-16T17:38:05.582414Z",
     "iopub.status.busy": "2024-05-16T17:38:05.582290Z",
     "iopub.status.idle": "2024-05-16T17:38:05.615116Z",
     "shell.execute_reply": "2024-05-16T17:38:05.614754Z",
     "shell.execute_reply.started": "2024-05-16T17:38:05.582404Z"
>>>>>>> fb38d8e (Adding code for lineplot of force and displacement data)
=======
     "iopub.execute_input": "2024-05-16T20:27:01.102701Z",
     "iopub.status.busy": "2024-05-16T20:27:01.102399Z",
     "iopub.status.idle": "2024-05-16T20:27:01.105043Z",
     "shell.execute_reply": "2024-05-16T20:27:01.104728Z",
     "shell.execute_reply.started": "2024-05-16T20:27:01.102681Z"
>>>>>>> edceb24 (Update SITCOM-756 to include plots)
=======
   "execution_count": 79,
   "id": "e5e82b2a-4dbc-4218-bfe5-1cbdd51ed94c",
   "metadata": {
    "execution": {
     "iopub.execute_input": "2024-05-16T22:56:14.687381Z",
     "iopub.status.busy": "2024-05-16T22:56:14.687064Z",
     "iopub.status.idle": "2024-05-16T22:56:14.727640Z",
     "shell.execute_reply": "2024-05-16T22:56:14.727245Z",
     "shell.execute_reply.started": "2024-05-16T22:56:14.687366Z"
>>>>>>> 2402a14 (Adding masked figures to SITCOM-756)
=======
   "execution_count": 7,
   "id": "e5e82b2a-4dbc-4218-bfe5-1cbdd51ed94c",
   "metadata": {
    "execution": {
     "iopub.execute_input": "2024-05-16T23:41:26.824018Z",
     "iopub.status.busy": "2024-05-16T23:41:26.823886Z",
     "iopub.status.idle": "2024-05-16T23:41:26.826305Z",
     "shell.execute_reply": "2024-05-16T23:41:26.825946Z",
     "shell.execute_reply.started": "2024-05-16T23:41:26.824008Z"
>>>>>>> 1024676 (Adding histogram to SITCOM-756, nearly done)
=======
   "execution_count": 6,
   "id": "e5e82b2a-4dbc-4218-bfe5-1cbdd51ed94c",
   "metadata": {
    "execution": {
<<<<<<< HEAD
     "iopub.execute_input": "2024-05-18T18:41:04.923062Z",
     "iopub.status.busy": "2024-05-18T18:41:04.922879Z",
     "iopub.status.idle": "2024-05-18T18:41:04.925526Z",
     "shell.execute_reply": "2024-05-18T18:41:04.925159Z",
     "shell.execute_reply.started": "2024-05-18T18:41:04.923049Z"
>>>>>>> dc3b034 (SITCOM-756 Adding a few adjustments to the histogram)
=======
     "iopub.execute_input": "2024-05-21T23:51:53.191994Z",
     "iopub.status.busy": "2024-05-21T23:51:53.191707Z",
     "iopub.status.idle": "2024-05-21T23:51:53.194585Z",
     "shell.execute_reply": "2024-05-21T23:51:53.194152Z",
     "shell.execute_reply.started": "2024-05-21T23:51:53.191980Z"
>>>>>>> 35f5252 (Cleaning up directory for SITCOM-756)
=======
   "execution_count": 6,
   "id": "09f0af43-669b-47ad-853b-a64228ac13ae",
   "metadata": {
    "execution": {
     "iopub.execute_input": "2024-05-23T15:24:28.064775Z",
     "iopub.status.busy": "2024-05-23T15:24:28.064637Z",
     "iopub.status.idle": "2024-05-23T15:24:28.074317Z",
     "shell.execute_reply": "2024-05-23T15:24:28.073919Z",
     "shell.execute_reply.started": "2024-05-23T15:24:28.064765Z"
>>>>>>> 5a5acb6 (Squashing commits)
    }
   },
   "outputs": [],
   "source": [
<<<<<<< HEAD
<<<<<<< HEAD
<<<<<<< HEAD
<<<<<<< HEAD
<<<<<<< HEAD
    "starts = [\"2023-11-27T21:25:26\",\"2023-11-28T20:40:38\",\"2023-12-04T21:32:18\",\"2023-12-07T03:34:44\"] # From https://lsstc.slack.com/archives/C0567AY64AC/p1715789391584609?thread_ts=1715786982.696169&cid=C0567AY64AC\n",
    "ends = [\"2023-11-27T22:41:17\",\"2023-11-28T21:56:28\",\"2023-12-04T22:45:06\",\"2023-12-07T04:48:29\"]"
=======
    "starts = [\"2023-11-27T21:00\",\"2023-11-28T20:00\",\"2023-12-04T21:00\",\"2023-12-07T03:00\"] # From https://lsstc.slack.com/archives/C0567AY64AC/p1715789391584609?thread_ts=1715786982.696169&cid=C0567AY64AC\n",
    "ends = [\"2023-11-27T23:00\",\"2023-11-28T22:00\",\"2023-12-04T23:00\",\"2023-12-07T05:00\"]"
>>>>>>> fb38d8e (Adding code for lineplot of force and displacement data)
=======
    "starts = [\"2023-11-27T21:30:26\",\"2023-11-28T20:45:38\",\"2023-12-04T21:33:18\",\"2023-12-07T03:36:44\"] # From https://lsstc.slack.com/archives/C0567AY64AC/p1715789391584609?thread_ts=1715786982.696169&cid=C0567AY64AC\n",
    "ends = [\"2023-11-27T22:39:17\",\"2023-11-28T21:54:28\",\"2023-12-04T22:42:06\",\"2023-12-07T04:45:29\"]"
>>>>>>> edceb24 (Update SITCOM-756 to include plots)
=======
    "starts = [\"2023-11-27T21:25:26\",\"2023-11-28T20:40:38\",\"2023-12-04T21:32:18\",\"2023-12-07T03:34:44\"] # From https://lsstc.slack.com/archives/C0567AY64AC/p1715789391584609?thread_ts=1715786982.696169&cid=C0567AY64AC\n",
    "ends = [\"2023-11-27T22:41:17\",\"2023-11-28T21:56:28\",\"2023-12-04T22:45:06\",\"2023-12-07T04:48:29\"]"
>>>>>>> 2402a14 (Adding masked figures to SITCOM-756)
=======
    "starts = [\"2023-11-27T21:25:26\",\"2023-11-28T20:40:38\",\"2023-12-04T21:32:18\",\"2023-12-07T03:34:44\"] # From https://lsstc.slack.com/archives/C0567AY64AC/p1715789391584609?thread_ts=1715786982.696169&cid=C0567AY64AC\n",
    "ends = [\"2023-11-27T22:41:17\",\"2023-11-28T21:56:28\",\"2023-12-04T22:45:06\",\"2023-12-07T04:48:29\"]"
>>>>>>> 5a5acb6 (Squashing commits)
   ]
  },
  {
   "cell_type": "code",
<<<<<<< HEAD
<<<<<<< HEAD
<<<<<<< HEAD
<<<<<<< HEAD
<<<<<<< HEAD
   "execution_count": 7,
   "id": "4ae7bae4-fbc6-4b72-a8c1-c5485835a911",
   "metadata": {
    "execution": {
     "iopub.execute_input": "2024-05-21T23:51:53.737732Z",
     "iopub.status.busy": "2024-05-21T23:51:53.737246Z",
     "iopub.status.idle": "2024-05-21T23:51:53.739988Z",
     "shell.execute_reply": "2024-05-21T23:51:53.739560Z",
     "shell.execute_reply.started": "2024-05-21T23:51:53.737717Z"
=======
   "execution_count": 8,
   "id": "4ae7bae4-fbc6-4b72-a8c1-c5485835a911",
   "metadata": {
    "execution": {
<<<<<<< HEAD
     "iopub.execute_input": "2024-05-16T17:38:05.615703Z",
     "iopub.status.busy": "2024-05-16T17:38:05.615583Z",
     "iopub.status.idle": "2024-05-16T17:38:05.644472Z",
     "shell.execute_reply": "2024-05-16T17:38:05.644140Z",
     "shell.execute_reply.started": "2024-05-16T17:38:05.615692Z"
>>>>>>> fb38d8e (Adding code for lineplot of force and displacement data)
=======
     "iopub.execute_input": "2024-05-16T20:27:02.587197Z",
     "iopub.status.busy": "2024-05-16T20:27:02.587010Z",
     "iopub.status.idle": "2024-05-16T20:27:02.589311Z",
     "shell.execute_reply": "2024-05-16T20:27:02.589011Z",
     "shell.execute_reply.started": "2024-05-16T20:27:02.587186Z"
>>>>>>> edceb24 (Update SITCOM-756 to include plots)
=======
   "execution_count": 80,
   "id": "4ae7bae4-fbc6-4b72-a8c1-c5485835a911",
   "metadata": {
    "execution": {
     "iopub.execute_input": "2024-05-16T22:56:14.877985Z",
     "iopub.status.busy": "2024-05-16T22:56:14.877857Z",
     "iopub.status.idle": "2024-05-16T22:56:14.913242Z",
     "shell.execute_reply": "2024-05-16T22:56:14.912856Z",
     "shell.execute_reply.started": "2024-05-16T22:56:14.877975Z"
>>>>>>> 2402a14 (Adding masked figures to SITCOM-756)
=======
   "execution_count": 8,
   "id": "4ae7bae4-fbc6-4b72-a8c1-c5485835a911",
   "metadata": {
    "execution": {
     "iopub.execute_input": "2024-05-16T23:41:26.827002Z",
     "iopub.status.busy": "2024-05-16T23:41:26.826844Z",
     "iopub.status.idle": "2024-05-16T23:41:26.830872Z",
     "shell.execute_reply": "2024-05-16T23:41:26.830525Z",
     "shell.execute_reply.started": "2024-05-16T23:41:26.826991Z"
>>>>>>> 1024676 (Adding histogram to SITCOM-756, nearly done)
=======
   "execution_count": 7,
   "id": "4ae7bae4-fbc6-4b72-a8c1-c5485835a911",
   "metadata": {
    "execution": {
<<<<<<< HEAD
     "iopub.execute_input": "2024-05-18T18:41:04.926325Z",
     "iopub.status.busy": "2024-05-18T18:41:04.926043Z",
     "iopub.status.idle": "2024-05-18T18:41:04.929826Z",
     "shell.execute_reply": "2024-05-18T18:41:04.929365Z",
     "shell.execute_reply.started": "2024-05-18T18:41:04.926313Z"
>>>>>>> dc3b034 (SITCOM-756 Adding a few adjustments to the histogram)
=======
     "iopub.execute_input": "2024-05-21T23:51:53.737732Z",
     "iopub.status.busy": "2024-05-21T23:51:53.737246Z",
     "iopub.status.idle": "2024-05-21T23:51:53.739988Z",
     "shell.execute_reply": "2024-05-21T23:51:53.739560Z",
     "shell.execute_reply.started": "2024-05-21T23:51:53.737717Z"
>>>>>>> 35f5252 (Cleaning up directory for SITCOM-756)
=======
   "execution_count": 7,
   "id": "6dbc7789-4f09-4bfe-9280-aa4bb8761aa3",
   "metadata": {
    "execution": {
     "iopub.execute_input": "2024-05-23T15:24:28.075009Z",
     "iopub.status.busy": "2024-05-23T15:24:28.074889Z",
     "iopub.status.idle": "2024-05-23T15:24:28.087197Z",
     "shell.execute_reply": "2024-05-23T15:24:28.086782Z",
     "shell.execute_reply.started": "2024-05-23T15:24:28.075000Z"
>>>>>>> 5a5acb6 (Squashing commits)
    }
   },
   "outputs": [],
   "source": [
    "colnames =  [\"displacement\",\"measuredForce\"]\n",
    "colors = [\"#e01616\",\"#f6f40b\",\"#2affbb\",\"#123cdf\",\"#e51983\",\"#2b8221\"]"
<<<<<<< HEAD
<<<<<<< HEAD
=======
>>>>>>> 5a5acb6 (Squashing commits)
   ]
  },
  {
   "cell_type": "code",
<<<<<<< HEAD
<<<<<<< HEAD
<<<<<<< HEAD
=======
>>>>>>> dc3b034 (SITCOM-756 Adding a few adjustments to the histogram)
   "execution_count": 8,
   "id": "bedd57a7-cacb-42da-b011-d8119ba2bb04",
   "metadata": {
    "execution": {
<<<<<<< HEAD
<<<<<<< HEAD
=======
>>>>>>> 35f5252 (Cleaning up directory for SITCOM-756)
     "iopub.execute_input": "2024-05-21T23:52:01.184239Z",
     "iopub.status.busy": "2024-05-21T23:52:01.183940Z",
     "iopub.status.idle": "2024-05-21T23:52:56.885796Z",
     "shell.execute_reply": "2024-05-21T23:52:56.885442Z",
     "shell.execute_reply.started": "2024-05-21T23:52:01.184222Z"
<<<<<<< HEAD
=======
     "iopub.execute_input": "2024-05-18T18:41:04.945086Z",
     "iopub.status.busy": "2024-05-18T18:41:04.944968Z",
     "iopub.status.idle": "2024-05-18T18:42:01.765421Z",
     "shell.execute_reply": "2024-05-18T18:42:01.765074Z",
     "shell.execute_reply.started": "2024-05-18T18:41:04.945077Z"
>>>>>>> dc3b034 (SITCOM-756 Adding a few adjustments to the histogram)
=======
>>>>>>> 35f5252 (Cleaning up directory for SITCOM-756)
=======
   "execution_count": 8,
   "id": "ec61f3f6-0d8e-4b65-863d-a3196a9822ae",
   "metadata": {
    "execution": {
     "iopub.execute_input": "2024-05-23T15:24:28.087829Z",
     "iopub.status.busy": "2024-05-23T15:24:28.087700Z",
     "iopub.status.idle": "2024-05-23T15:25:35.863955Z",
     "shell.execute_reply": "2024-05-23T15:25:35.863464Z",
     "shell.execute_reply.started": "2024-05-23T15:24:28.087818Z"
>>>>>>> 5a5acb6 (Squashing commits)
    }
   },
   "outputs": [
    {
     "name": "stdout",
     "output_type": "stream",
     "text": [
      "Starting query for time range 2023-11-27T21:25:26 - 2023-11-27T22:41:17 . . . Finished\n",
      "Starting query for time range 2023-11-28T20:40:38 - 2023-11-28T21:56:28 . . . Finished\n",
      "Starting query for time range 2023-12-04T21:32:18 - 2023-12-04T22:45:06 . . . Finished\n",
      "Starting query for time range 2023-12-07T03:34:44 - 2023-12-07T04:48:29 . . . Finished\n"
     ]
    }
   ],
   "source": [
    "all_data = pd.DataFrame()\n",
    "for start,end in zip(starts,ends):\n",
    "    print(r\"Starting query for time range {} - {}\".format(start,end),end=\" . . . \")\n",
    "    df_bump = await client.select_time_series(\n",
    "        \"lsst.sal.MTM1M3.hardpointActuatorData\", \n",
    "        \"*\", Time(start), Time(end))\n",
    "    \n",
    "    all_data = pd.concat([all_data, df_bump], ignore_index=False)\n",
    "    \n",
    "    print(\"Finished\")\n",
    "    del df_bump"
   ]
  },
  {
   "cell_type": "markdown",
<<<<<<< HEAD
   "id": "b9018054-8e17-4524-b762-dd168df09f76",
=======
   "id": "1d619a5f-d15c-4963-98aa-b6d565803aa9",
>>>>>>> 5a5acb6 (Squashing commits)
   "metadata": {},
   "source": [
    "### Plot Force vs. displacement for all actuators.\n",
    "- Take displacement values from up and down movements for each actuator that is closest to Force = Zero Newton for all repetitions.\n",
    "- Calculate the average."
   ]
  },
  {
   "cell_type": "code",
<<<<<<< HEAD
<<<<<<< HEAD
<<<<<<< HEAD
<<<<<<< HEAD
   "execution_count": 9,
   "id": "6a8e7d5b-a05c-48c9-8be6-eb41e1bfea6e",
   "metadata": {
    "execution": {
     "iopub.execute_input": "2024-05-21T23:52:56.896872Z",
     "iopub.status.busy": "2024-05-21T23:52:56.896747Z",
     "iopub.status.idle": "2024-05-21T23:54:00.134880Z",
     "shell.execute_reply": "2024-05-21T23:54:00.134431Z",
     "shell.execute_reply.started": "2024-05-21T23:52:56.896862Z"
=======
   "execution_count": 10,
   "id": "21d1536a-927a-4bae-9431-5694879030d4",
   "metadata": {
    "execution": {
     "iopub.execute_input": "2024-05-23T15:26:01.890013Z",
     "iopub.status.busy": "2024-05-23T15:26:01.889327Z",
     "iopub.status.idle": "2024-05-23T15:27:05.046557Z",
     "shell.execute_reply": "2024-05-23T15:27:05.046179Z",
     "shell.execute_reply.started": "2024-05-23T15:26:01.889993Z"
>>>>>>> 5a5acb6 (Squashing commits)
    },
    "scrolled": true
   },
   "outputs": [],
   "source": [
    "for start,end in zip(starts,ends):\n",
    "    fig,axs = plt.subplots(2,1,sharex=True,dpi=140)\n",
    "    mydf = all_data[np.logical_and(Time(all_data.index.values) >= Time(start),Time(all_data.index.values)<=Time(end))]\n",
    "    for number in range(6):\n",
    "        axs[0].plot(mydf.index.values,mydf[colnames[0]+str(number)],color=colors[number],\n",
    "                    label=r\"Actuator {}\".format(str(number)),marker=\"x\",ls='--')\n",
    "        axs[1].plot(mydf.index.values,mydf[colnames[1]+str(number)],color=colors[number],\n",
    "                    label=r\"Actuator {}\".format(str(number)),marker=\"+\",ls='-.')\n",
    "        \n",
    "    axs[0].legend(ncols=2,fontsize='xx-small')\n",
    "    axs[1].legend(ncols=2,fontsize='xx-small')\n",
    "    axs[0].set_ylabel(\"Displacement\")\n",
    "    axs[1].set_ylabel(\"Force\")\n",
    "    for a in axs:\n",
    "        a.xaxis.set_major_locator(mdates.MinuteLocator(interval = 15))\n",
    "        a.xaxis.set_major_formatter(mdates.DateFormatter('%H:%M'))\n",
    "        a.grid()\n",
    "\n",
    "    axs[1].set_xlabel(\"Date\")\n",
    "\n",
    "    fig.tight_layout()\n",
    "    \n",
<<<<<<< HEAD
    "    fig.savefig(r\"/home/s/seanmacb/SITCOM/SITCOM-756/{}_actuator_m1m3.jpg\".format(start))\n",
=======
    "    fig.savefig(r\"/home/s/seanmacb/SITCOM/SITCOM-756_local/{}_actuator_m1m3.jpg\".format(start))\n",
>>>>>>> 5a5acb6 (Squashing commits)
    "\n",
    "    # showAndClear()"
   ]
  },
  {
   "cell_type": "markdown",
<<<<<<< HEAD
   "id": "114bfcb3-cb7a-4183-a6b2-eec6fdf28c62",
=======
   "id": "937c9393-7bf3-450e-99be-a3ad260b805d",
>>>>>>> 5a5acb6 (Squashing commits)
   "metadata": {},
   "source": [
    "#### That looks okay, but it would be nice to mask these figures"
   ]
  },
  {
   "cell_type": "code",
<<<<<<< HEAD
   "execution_count": 10,
   "id": "79f9c2f2-1464-4a32-8371-02d537a412a7",
   "metadata": {
    "editable": true,
    "execution": {
     "iopub.execute_input": "2024-05-21T23:54:00.146799Z",
     "iopub.status.busy": "2024-05-21T23:54:00.146636Z",
     "iopub.status.idle": "2024-05-21T23:55:29.485285Z",
     "shell.execute_reply": "2024-05-21T23:55:29.484799Z",
     "shell.execute_reply.started": "2024-05-21T23:54:00.146785Z"
=======
   "execution_count": 11,
   "id": "09ece558-7ee6-4a19-b833-0da6d00440cf",
   "metadata": {
    "editable": true,
    "execution": {
     "iopub.execute_input": "2024-05-23T15:27:05.070670Z",
     "iopub.status.busy": "2024-05-23T15:27:05.070531Z",
     "iopub.status.idle": "2024-05-23T15:28:36.569779Z",
     "shell.execute_reply": "2024-05-23T15:28:36.569228Z",
     "shell.execute_reply.started": "2024-05-23T15:27:05.070659Z"
>>>>>>> 5a5acb6 (Squashing commits)
    },
    "scrolled": true,
    "slideshow": {
     "slide_type": ""
    },
    "tags": []
   },
   "outputs": [],
   "source": [
    "for start,end in zip(starts,ends):\n",
    "    fig,axs = plt.subplots(2,1,sharex=True,dpi=140)\n",
    "    mydf = all_data[np.logical_and(Time(all_data.index.values) >= Time(start),Time(all_data.index.values)<=Time(end))]\n",
    "    for number in range(6):\n",
    "        date_range = mydf[np.abs(np.diff(mydf[colnames[0]+str(number)],prepend=mydf[colnames[0]+str(number)].iloc[0])) != 0].index.values\n",
    "        # first dated test for actuator 1 has one point that does not meet the above criteria for masking...\n",
    "        # popping the last element off with this conditional\n",
    "        if number == 1 and start==starts[0]:\n",
    "            date_range = date_range[:-1]\n",
    "            \n",
    "        min_date, max_date = np.min(date_range),np.max(date_range)\n",
    "        \n",
    "        finaldf = mydf[np.logical_and(Time(mydf.index.values) >= Time(min_date),Time(mydf.index.values)<=Time(max_date))]\n",
    "\n",
    "        \n",
    "        axs[0].plot(finaldf.index.values,finaldf[colnames[0]+str(number)],color=colors[number],\n",
    "                    label=r\"Actuator {}\".format(str(number)),marker=\"x\",ls='--')\n",
    "        axs[1].plot(finaldf.index.values,finaldf[colnames[1]+str(number)],color=colors[number],\n",
    "                    label=r\"Actuator {}\".format(str(number)),marker=\"+\",ls='-.')\n",
    "        \n",
    "    axs[0].set_ylabel(\"Displacement\")\n",
    "    axs[1].set_ylabel(\"Force\")\n",
    "    for a in axs:\n",
    "        a.xaxis.set_major_locator(mdates.MinuteLocator(interval = 15))\n",
    "        a.xaxis.set_major_formatter(mdates.DateFormatter('%H:%M'))\n",
    "        a.grid()\n",
    "        a.legend(ncols=2,fontsize='xx-small')\n",
    "\n",
    "    axs[1].set_xlabel(\"Date\")\n",
    "\n",
    "    fig.tight_layout()\n",
    "    \n",
<<<<<<< HEAD
    "    fig.savefig(r\"/home/s/seanmacb/SITCOM/SITCOM-756/{}_actuator_m1m3_masked.jpg\".format(start))\n",
=======
    "    fig.savefig(r\"/home/s/seanmacb/SITCOM/SITCOM-756_local/{}_actuator_m1m3_masked.jpg\".format(start))\n",
>>>>>>> 5a5acb6 (Squashing commits)
    "\n",
    "    # showAndClear()"
   ]
  },
  {
   "cell_type": "markdown",
<<<<<<< HEAD
   "id": "311d9913-b2fb-42dc-b405-3e50d2aa184a",
=======
   "id": "dbad7c2d-e1db-4cb7-bf47-32a993d4d8d1",
>>>>>>> 5a5acb6 (Squashing commits)
   "metadata": {
    "editable": true,
    "slideshow": {
     "slide_type": ""
    },
    "tags": []
   },
   "source": [
    "### Make a histogram of the displacement values per actuator.\n",
    "\n",
    "- Fit a Gaussian distribution and determine the FWHM\n",
    "- Plot a limit lines at 2um"
   ]
  },
  {
   "cell_type": "code",
<<<<<<< HEAD
   "execution_count": 11,
   "id": "56e266a8-11ea-4cb2-b934-fe41911892f6",
   "metadata": {
    "execution": {
     "iopub.execute_input": "2024-05-21T23:55:29.486114Z",
     "iopub.status.busy": "2024-05-21T23:55:29.485962Z",
     "iopub.status.idle": "2024-05-21T23:55:29.488953Z",
     "shell.execute_reply": "2024-05-21T23:55:29.488560Z",
     "shell.execute_reply.started": "2024-05-21T23:55:29.486103Z"
=======
   "execution_count": 12,
   "id": "051d0a02-b008-47a5-8f86-99b82a8ad064",
   "metadata": {
    "execution": {
     "iopub.execute_input": "2024-05-23T15:28:36.570958Z",
     "iopub.status.busy": "2024-05-23T15:28:36.570799Z",
     "iopub.status.idle": "2024-05-23T15:28:36.573895Z",
     "shell.execute_reply": "2024-05-23T15:28:36.573434Z",
     "shell.execute_reply.started": "2024-05-23T15:28:36.570946Z"
>>>>>>> 5a5acb6 (Squashing commits)
    }
   },
   "outputs": [],
   "source": [
    "def fitGaussian(data,ax):\n",
    "    mu, std = norm.fit(data) \n",
    "    \n",
    "    xmin, xmax = ax.get_xlim()\n",
    "    x = np.linspace(np.floor(xmin), np.ceil(xmax), int(10E4))\n",
    "    p = norm.pdf(x, mu, std)\n",
    "\n",
    "    return mu,std,p,x,xmin,xmax"
   ]
  },
  {
   "cell_type": "code",
<<<<<<< HEAD
   "execution_count": 12,
   "id": "fd1d1e4d-8f7e-4507-a971-52200cdf06df",
   "metadata": {
    "execution": {
     "iopub.execute_input": "2024-05-21T23:55:29.489643Z",
     "iopub.status.busy": "2024-05-21T23:55:29.489498Z",
     "iopub.status.idle": "2024-05-21T23:55:29.495036Z",
     "shell.execute_reply": "2024-05-21T23:55:29.494634Z",
     "shell.execute_reply.started": "2024-05-21T23:55:29.489631Z"
=======
   "execution_count": 13,
   "id": "024178b5-87a2-413d-a2f6-0f70db78163f",
   "metadata": {
    "execution": {
     "iopub.execute_input": "2024-05-23T15:28:36.574597Z",
     "iopub.status.busy": "2024-05-23T15:28:36.574447Z",
     "iopub.status.idle": "2024-05-23T15:28:36.593784Z",
     "shell.execute_reply": "2024-05-23T15:28:36.593358Z",
     "shell.execute_reply.started": "2024-05-23T15:28:36.574586Z"
>>>>>>> 5a5acb6 (Squashing commits)
    }
   },
   "outputs": [],
   "source": [
    "colname = colnames[0]"
   ]
  },
  {
   "cell_type": "code",
<<<<<<< HEAD
   "execution_count": 13,
   "id": "6221d909-dbbe-4d96-83b7-66fc6d6358f4",
   "metadata": {
    "editable": true,
    "execution": {
     "iopub.execute_input": "2024-05-21T23:55:29.510290Z",
     "iopub.status.busy": "2024-05-21T23:55:29.510167Z",
     "iopub.status.idle": "2024-05-21T23:56:59.377002Z",
     "shell.execute_reply": "2024-05-21T23:56:59.376513Z",
     "shell.execute_reply.started": "2024-05-21T23:55:29.510281Z"
=======
   "execution_count": null,
   "id": "4d8d800c-d029-44be-bbf0-62ad8b228946",
   "metadata": {
    "editable": true,
    "execution": {
     "iopub.status.busy": "2024-05-23T15:53:43.631998Z",
     "iopub.status.idle": "2024-05-23T15:53:43.632155Z",
     "shell.execute_reply": "2024-05-23T15:53:43.632081Z",
     "shell.execute_reply.started": "2024-05-23T15:53:43.632075Z"
>>>>>>> 5a5acb6 (Squashing commits)
    },
    "scrolled": true,
    "slideshow": {
     "slide_type": ""
    },
    "tags": []
   },
   "outputs": [],
   "source": [
    "for start,end in zip(starts,ends):\n",
    "    fig,ax = plt.subplots(dpi=140)\n",
    "    mydf = all_data[np.logical_and(Time(all_data.index.values) >= Time(start),Time(all_data.index.values)<=Time(end))]\n",
    "    \n",
    "    ymax_final = 0\n",
    "    mu_arr,std_arr = np.array([]),np.array([])\n",
    "    \n",
    "    for number in range(6):\n",
    "        date_range = mydf[np.abs(np.diff(mydf[colname+str(number)],prepend=mydf[colname+str(number)].iloc[0])) != 0].index.values\n",
    "        # first dated test for actuator 1 has one point that does not meet the above criteria for masking...\n",
    "        # popping the last element off with this conditional\n",
    "        if number == 1 and start==starts[0]:\n",
    "            date_range = date_range[:-1]\n",
    "            \n",
    "        min_date, max_date = np.min(date_range),np.max(date_range)\n",
    "        \n",
    "        finaldf = mydf[np.logical_and(Time(mydf.index.values) >= Time(min_date),Time(mydf.index.values)<=Time(max_date))]\n",
    "\n",
    "        # plot a histogram\n",
    "\n",
<<<<<<< HEAD
    "        ax.hist(finaldf[colname+str(number)],bins=250,  alpha=0.8, color=colors[number])\n",
=======
    "        ax.hist(finaldf[colname+str(number)],bins=int(2.5E3),  alpha=0.8, color=colors[number])\n",
>>>>>>> 5a5acb6 (Squashing commits)
    "\n",
    "        \n",
    "        # Fit a gaussian to it \n",
    "\n",
    "        mu,std,p,x,xmin,xmax = fitGaussian(finaldf[colname+str(number)],ax)\n",
    "\n",
    "        mu_arr,std_arr = np.append(mu_arr,mu),np.append(std_arr,std)\n",
    "\n",
    "        ax.plot(x, p, linewidth=2,label=\"Actuator {}: $\\mu$={:.4f}, $\\sigma$={:.4f}\".format(number,mu, std),color=colors[number])\n",
    "\n",
    "    __,ymax = ax.get_ylim()\n",
    "    # Plot vertical lines here\n",
    "    for number in range(6):\n",
    "        ax.vlines(mu_arr[number],0,1.2*ymax,color=colors[number],ls ='--')\n",
    "        # Plot two additional vertical lines below\n",
    "        for sig in range(1,3): # This might just be 2 micron, so wait to see what comes of it...\n",
    "            ax.vlines(mu_arr[number]+std_arr[number]*sig,0,1.2*ymax_final,color=colors[number],ls ='--')\n",
    "            ax.vlines(mu_arr[number]-std_arr[number]*sig,0,1.2*ymax_final,color=colors[number],ls ='--')\n",
    "        \n",
    "    ax.grid()\n",
    "    ax.set_ylabel(\"Frequency\")\n",
    "    ax.set_xlabel(\"Displacement\")\n",
    "    ax.set_title(r\"{} - {}\".format(start,end))\n",
    "    ax.set_xlim(-6*std_arr.max(),6*std_arr.max())\n",
    "    ax.legend(loc=\"upper right\")\n",
    "    ax.set_ylim(0,1.1*ymax)\n",
    "    fig.tight_layout()\n",
    "\n",
<<<<<<< HEAD
    "    fig.savefig(r\"/home/s/seanmacb/SITCOM/SITCOM-756/{}_actuator_m1m3_histogram_allActuators.jpg\".format(start))\n",
=======
    "    fig.savefig(r\"/home/s/seanmacb/SITCOM/SITCOM-756_local/{}_actuator_m1m3_histogram_allActuators.jpg\".format(start))\n",
>>>>>>> 5a5acb6 (Squashing commits)
    "\n",
    "    # showAndClear()"
   ]
  },
  {
   "cell_type": "code",
<<<<<<< HEAD
   "execution_count": 14,
   "id": "20bead52-7b12-4e26-9b05-ff6402d037e2",
   "metadata": {
    "execution": {
     "iopub.execute_input": "2024-05-21T23:56:59.377759Z",
     "iopub.status.busy": "2024-05-21T23:56:59.377604Z",
     "iopub.status.idle": "2024-05-21T23:56:59.379800Z",
     "shell.execute_reply": "2024-05-21T23:56:59.379373Z",
     "shell.execute_reply.started": "2024-05-21T23:56:59.377747Z"
=======
   "execution_count": 23,
   "id": "8717da96-4fe9-40f3-8d17-2c3640632cb5",
   "metadata": {
    "execution": {
     "iopub.execute_input": "2024-05-23T15:53:46.483777Z",
     "iopub.status.busy": "2024-05-23T15:53:46.483170Z",
     "iopub.status.idle": "2024-05-23T15:58:49.538106Z",
     "shell.execute_reply": "2024-05-23T15:58:49.537620Z",
     "shell.execute_reply.started": "2024-05-23T15:53:46.483756Z"
>>>>>>> 5a5acb6 (Squashing commits)
    }
   },
   "outputs": [],
   "source": [
    "# Repeat the above plot, but now have the figs be of the individual actuators and the data from their runs\n",
<<<<<<< HEAD
    "\n"
   ]
  },
  {
   "cell_type": "markdown",
   "id": "5179b747-94e3-43e3-ba11-f074117f810c",
   "metadata": {},
   "source": [
    "# From the generated plot, measure the Hardpoint displacement repeatability (Average) and its resolution (FWHM) around 0 Newtons."
=======
    "- lsst.sal.MTM1M3.hardpointMonitorData\n",
    "\n",
    "Or use chronograf to get a rough idea of the time period of interest"
>>>>>>> dd51814 (Adding testing notebook)
=======
    "begin = \"2023-11-13T01:00\"\n",
    "end = \"2023-12-21T01:00\""
>>>>>>> c41dd97 (Add structure to notebook)
=======
>>>>>>> fb38d8e (Adding code for lineplot of force and displacement data)
   ]
  },
  {
   "cell_type": "code",
<<<<<<< HEAD
   "execution_count": null,
<<<<<<< HEAD
<<<<<<< HEAD
<<<<<<< HEAD
   "id": "b29eb94d-36a8-46c9-9daf-3424e4128d5d",
=======
   "id": "e5e82b2a-4dbc-4218-bfe5-1cbdd51ed94c",
>>>>>>> dd51814 (Adding testing notebook)
   "metadata": {},
   "outputs": [],
   "source": []
  },
  {
   "cell_type": "code",
   "execution_count": null,
<<<<<<< HEAD
   "id": "1c54e6af-bc09-41d9-a442-c8c1ba6d5860",
=======
=======
>>>>>>> c41dd97 (Add structure to notebook)
   "id": "4f2ea11d-4682-4d7f-afd2-7b672b7298e8",
=======
=======
   "execution_count": 9,
>>>>>>> edceb24 (Update SITCOM-756 to include plots)
=======
   "execution_count": 81,
>>>>>>> 2402a14 (Adding masked figures to SITCOM-756)
   "id": "bedd57a7-cacb-42da-b011-d8119ba2bb04",
>>>>>>> fb38d8e (Adding code for lineplot of force and displacement data)
   "metadata": {
    "execution": {
     "iopub.execute_input": "2024-05-16T22:56:15.781708Z",
     "iopub.status.busy": "2024-05-16T22:56:15.781556Z",
     "iopub.status.idle": "2024-05-16T22:57:11.672164Z",
     "shell.execute_reply": "2024-05-16T22:57:11.671713Z",
     "shell.execute_reply.started": "2024-05-16T22:56:15.781697Z"
=======
   "execution_count": 9,
   "id": "bedd57a7-cacb-42da-b011-d8119ba2bb04",
   "metadata": {
    "execution": {
     "iopub.execute_input": "2024-05-16T23:41:26.845610Z",
     "iopub.status.busy": "2024-05-16T23:41:26.845485Z",
     "iopub.status.idle": "2024-05-16T23:42:23.393697Z",
     "shell.execute_reply": "2024-05-16T23:42:23.393248Z",
     "shell.execute_reply.started": "2024-05-16T23:41:26.845601Z"
>>>>>>> 1024676 (Adding histogram to SITCOM-756, nearly done)
    }
   },
   "outputs": [
    {
     "name": "stdout",
     "output_type": "stream",
     "text": [
      "Starting query for time range 2023-11-27T21:25:26 - 2023-11-27T22:41:17 . . . Finished\n",
      "Starting query for time range 2023-11-28T20:40:38 - 2023-11-28T21:56:28 . . . Finished\n",
      "Starting query for time range 2023-12-04T21:32:18 - 2023-12-04T22:45:06 . . . Finished\n",
      "Starting query for time range 2023-12-07T03:34:44 - 2023-12-07T04:48:29 . . . Finished\n"
     ]
    }
   ],
   "source": [
    "all_data = pd.DataFrame()\n",
    "for start,end in zip(starts,ends):\n",
    "    print(r\"Starting query for time range {} - {}\".format(start,end),end=\" . . . \")\n",
    "    df_bump = await client.select_time_series(\n",
    "        \"lsst.sal.MTM1M3.hardpointActuatorData\", \n",
    "        \"*\", Time(start), Time(end))\n",
    "    \n",
    "    all_data = pd.concat([all_data, df_bump], ignore_index=False)\n",
    "    \n",
    "    print(\"Finished\")\n",
    "    del df_bump"
   ]
  },
  {
   "cell_type": "markdown",
   "id": "b9018054-8e17-4524-b762-dd168df09f76",
   "metadata": {},
   "source": [
    "### Plot Force vs. displacement for all actuators.\n",
    "- Take displacement values from up and down movements for each actuator that is closest to Force = Zero Newton for all repetitions.\n",
    "- Calculate the average."
   ]
  },
  {
   "cell_type": "code",
<<<<<<< HEAD
<<<<<<< HEAD
<<<<<<< HEAD
   "execution_count": null,
<<<<<<< HEAD
   "id": "fb06da65-5b6f-410b-859e-f98aea35a4f4",
>>>>>>> dd51814 (Adding testing notebook)
=======
   "id": "f7ea2cd3-0584-4f5c-922c-26df262ea3f7",
>>>>>>> fb38d8e (Adding code for lineplot of force and displacement data)
   "metadata": {},
=======
   "execution_count": 12,
=======
   "execution_count": 84,
>>>>>>> 2402a14 (Adding masked figures to SITCOM-756)
=======
   "execution_count": 10,
>>>>>>> 1024676 (Adding histogram to SITCOM-756, nearly done)
=======
   "execution_count": 16,
>>>>>>> dc3b034 (SITCOM-756 Adding a few adjustments to the histogram)
=======
   "execution_count": 9,
>>>>>>> 35f5252 (Cleaning up directory for SITCOM-756)
   "id": "6a8e7d5b-a05c-48c9-8be6-eb41e1bfea6e",
   "metadata": {
    "execution": {
     "iopub.execute_input": "2024-05-21T23:52:56.896872Z",
     "iopub.status.busy": "2024-05-21T23:52:56.896747Z",
     "iopub.status.idle": "2024-05-21T23:54:00.134880Z",
     "shell.execute_reply": "2024-05-21T23:54:00.134431Z",
     "shell.execute_reply.started": "2024-05-21T23:52:56.896862Z"
    },
    "scrolled": true
   },
<<<<<<< HEAD
<<<<<<< HEAD
<<<<<<< HEAD
<<<<<<< HEAD
>>>>>>> edceb24 (Update SITCOM-756 to include plots)
   "outputs": [],
=======
=======
>>>>>>> dc3b034 (SITCOM-756 Adding a few adjustments to the histogram)
   "outputs": [
    {
     "data": {
      "image/png": "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",
      "text/plain": [
       "<Figure size 896x672 with 2 Axes>"
      ]
     },
     "metadata": {},
     "output_type": "display_data"
    },
    {
     "data": {
      "image/png": "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",
      "text/plain": [
       "<Figure size 896x672 with 2 Axes>"
      ]
     },
     "metadata": {},
     "output_type": "display_data"
    },
    {
     "data": {
      "image/png": "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",
      "text/plain": [
       "<Figure size 896x672 with 2 Axes>"
      ]
     },
     "metadata": {},
     "output_type": "display_data"
    },
    {
     "data": {
      "image/png": "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",
      "text/plain": [
       "<Figure size 896x672 with 2 Axes>"
      ]
     },
     "metadata": {},
     "output_type": "display_data"
    }
   ],
<<<<<<< HEAD
>>>>>>> 2402a14 (Adding masked figures to SITCOM-756)
=======
   "outputs": [],
>>>>>>> 1024676 (Adding histogram to SITCOM-756, nearly done)
=======
>>>>>>> dc3b034 (SITCOM-756 Adding a few adjustments to the histogram)
=======
   "outputs": [],
>>>>>>> 35f5252 (Cleaning up directory for SITCOM-756)
   "source": [
    "for start,end in zip(starts,ends):\n",
    "    fig,axs = plt.subplots(2,1,sharex=True,dpi=140)\n",
    "    mydf = all_data[np.logical_and(Time(all_data.index.values) >= Time(start),Time(all_data.index.values)<=Time(end))]\n",
    "    for number in range(6):\n",
    "        axs[0].plot(mydf.index.values,mydf[colnames[0]+str(number)],color=colors[number],\n",
    "                    label=r\"Actuator {}\".format(str(number)),marker=\"x\",ls='--')\n",
    "        axs[1].plot(mydf.index.values,mydf[colnames[1]+str(number)],color=colors[number],\n",
    "                    label=r\"Actuator {}\".format(str(number)),marker=\"+\",ls='-.')\n",
    "        \n",
    "    axs[0].legend(ncols=2,fontsize='xx-small')\n",
    "    axs[1].legend(ncols=2,fontsize='xx-small')\n",
    "    axs[0].set_ylabel(\"Displacement\")\n",
    "    axs[1].set_ylabel(\"Force\")\n",
    "    for a in axs:\n",
    "        a.xaxis.set_major_locator(mdates.MinuteLocator(interval = 15))\n",
    "        a.xaxis.set_major_formatter(mdates.DateFormatter('%H:%M'))\n",
    "        a.grid()\n",
    "\n",
    "    axs[1].set_xlabel(\"Date\")\n",
    "\n",
    "    fig.tight_layout()\n",
    "    \n",
    "    fig.savefig(r\"/home/s/seanmacb/SITCOM/SITCOM-756/{}_actuator_m1m3.jpg\".format(start))\n",
    "\n",
    "    # showAndClear()"
   ]
  },
  {
   "cell_type": "markdown",
   "id": "114bfcb3-cb7a-4183-a6b2-eec6fdf28c62",
   "metadata": {},
   "source": [
    "#### That looks okay, but it would be nice to mask these figures"
   ]
  },
  {
   "cell_type": "code",
   "execution_count": 10,
   "id": "79f9c2f2-1464-4a32-8371-02d537a412a7",
   "metadata": {
    "editable": true,
    "execution": {
     "iopub.execute_input": "2024-05-21T23:54:00.146799Z",
     "iopub.status.busy": "2024-05-21T23:54:00.146636Z",
     "iopub.status.idle": "2024-05-21T23:55:29.485285Z",
     "shell.execute_reply": "2024-05-21T23:55:29.484799Z",
     "shell.execute_reply.started": "2024-05-21T23:54:00.146785Z"
    },
    "scrolled": true,
    "slideshow": {
     "slide_type": ""
    },
    "tags": []
   },
   "outputs": [],
   "source": [
    "for start,end in zip(starts,ends):\n",
    "    fig,axs = plt.subplots(2,1,sharex=True,dpi=140)\n",
    "    mydf = all_data[np.logical_and(Time(all_data.index.values) >= Time(start),Time(all_data.index.values)<=Time(end))]\n",
    "    for number in range(6):\n",
    "        date_range = mydf[np.abs(np.diff(mydf[colnames[0]+str(number)],prepend=mydf[colnames[0]+str(number)].iloc[0])) != 0].index.values\n",
    "        # first dated test for actuator 1 has one point that does not meet the above criteria for masking...\n",
    "        # popping the last element off with this conditional\n",
    "        if number == 1 and start==starts[0]:\n",
    "            date_range = date_range[:-1]\n",
    "            \n",
    "        min_date, max_date = np.min(date_range),np.max(date_range)\n",
    "        \n",
    "        finaldf = mydf[np.logical_and(Time(mydf.index.values) >= Time(min_date),Time(mydf.index.values)<=Time(max_date))]\n",
    "\n",
    "        \n",
    "        axs[0].plot(finaldf.index.values,finaldf[colnames[0]+str(number)],color=colors[number],\n",
    "                    label=r\"Actuator {}\".format(str(number)),marker=\"x\",ls='--')\n",
    "        axs[1].plot(finaldf.index.values,finaldf[colnames[1]+str(number)],color=colors[number],\n",
    "                    label=r\"Actuator {}\".format(str(number)),marker=\"+\",ls='-.')\n",
    "        \n",
    "    axs[0].set_ylabel(\"Displacement\")\n",
    "    axs[1].set_ylabel(\"Force\")\n",
    "    for a in axs:\n",
    "        a.xaxis.set_major_locator(mdates.MinuteLocator(interval = 15))\n",
    "        a.xaxis.set_major_formatter(mdates.DateFormatter('%H:%M'))\n",
    "        a.grid()\n",
    "        a.legend(ncols=2,fontsize='xx-small')\n",
    "\n",
    "    axs[1].set_xlabel(\"Date\")\n",
    "\n",
    "    fig.tight_layout()\n",
    "    \n",
    "    fig.savefig(r\"/home/s/seanmacb/SITCOM/SITCOM-756/{}_actuator_m1m3_masked.jpg\".format(start))\n",
    "\n",
    "    # showAndClear()"
   ]
  },
  {
   "cell_type": "markdown",
   "id": "311d9913-b2fb-42dc-b405-3e50d2aa184a",
   "metadata": {
    "editable": true,
    "slideshow": {
     "slide_type": ""
    },
    "tags": []
   },
   "source": [
    "### Make a histogram of the displacement values per actuator.\n",
    "\n",
    "- Fit a Gaussian distribution and determine the FWHM\n",
    "- Plot a limit lines at 2um"
   ]
  },
  {
   "cell_type": "code",
   "execution_count": 11,
   "id": "56e266a8-11ea-4cb2-b934-fe41911892f6",
   "metadata": {
    "execution": {
     "iopub.execute_input": "2024-05-21T23:55:29.486114Z",
     "iopub.status.busy": "2024-05-21T23:55:29.485962Z",
     "iopub.status.idle": "2024-05-21T23:55:29.488953Z",
     "shell.execute_reply": "2024-05-21T23:55:29.488560Z",
     "shell.execute_reply.started": "2024-05-21T23:55:29.486103Z"
    }
   },
   "outputs": [],
   "source": [
    "def fitGaussian(data,ax):\n",
    "    mu, std = norm.fit(data) \n",
    "    \n",
    "    xmin, xmax = ax.get_xlim()\n",
    "    x = np.linspace(np.floor(xmin), np.ceil(xmax), int(10E4))\n",
    "    p = norm.pdf(x, mu, std)\n",
    "\n",
    "    return mu,std,p,x,xmin,xmax"
   ]
  },
  {
   "cell_type": "code",
   "execution_count": 12,
   "id": "fd1d1e4d-8f7e-4507-a971-52200cdf06df",
   "metadata": {
    "execution": {
     "iopub.execute_input": "2024-05-21T23:55:29.489643Z",
     "iopub.status.busy": "2024-05-21T23:55:29.489498Z",
     "iopub.status.idle": "2024-05-21T23:55:29.495036Z",
     "shell.execute_reply": "2024-05-21T23:55:29.494634Z",
     "shell.execute_reply.started": "2024-05-21T23:55:29.489631Z"
    }
   },
   "outputs": [],
   "source": [
    "colname = colnames[0]"
   ]
  },
  {
   "cell_type": "code",
   "execution_count": 13,
   "id": "6221d909-dbbe-4d96-83b7-66fc6d6358f4",
   "metadata": {
    "editable": true,
    "execution": {
     "iopub.execute_input": "2024-05-21T23:55:29.510290Z",
     "iopub.status.busy": "2024-05-21T23:55:29.510167Z",
     "iopub.status.idle": "2024-05-21T23:56:59.377002Z",
     "shell.execute_reply": "2024-05-21T23:56:59.376513Z",
     "shell.execute_reply.started": "2024-05-21T23:55:29.510281Z"
    },
    "scrolled": true,
    "slideshow": {
     "slide_type": ""
    },
    "tags": []
   },
   "outputs": [],
   "source": [
    "for start,end in zip(starts,ends):\n",
    "    fig,ax = plt.subplots(dpi=140)\n",
    "    mydf = all_data[np.logical_and(Time(all_data.index.values) >= Time(start),Time(all_data.index.values)<=Time(end))]\n",
    "    \n",
    "    ymax_final = 0\n",
    "    mu_arr,std_arr = np.array([]),np.array([])\n",
    "    \n",
    "    for number in range(6):\n",
    "        date_range = mydf[np.abs(np.diff(mydf[colname+str(number)],prepend=mydf[colname+str(number)].iloc[0])) != 0].index.values\n",
    "        # first dated test for actuator 1 has one point that does not meet the above criteria for masking...\n",
    "        # popping the last element off with this conditional\n",
    "        if number == 1 and start==starts[0]:\n",
    "            date_range = date_range[:-1]\n",
    "            \n",
    "        min_date, max_date = np.min(date_range),np.max(date_range)\n",
    "        \n",
    "        finaldf = mydf[np.logical_and(Time(mydf.index.values) >= Time(min_date),Time(mydf.index.values)<=Time(max_date))]\n",
    "\n",
    "        # plot a histogram\n",
    "\n",
    "        ax.hist(finaldf[colname+str(number)],bins=250,  alpha=0.8, color=colors[number])\n",
    "\n",
    "        \n",
    "        # Fit a gaussian to it \n",
    "\n",
    "        mu,std,p,x,xmin,xmax = fitGaussian(finaldf[colname+str(number)],ax)\n",
    "\n",
    "        mu_arr,std_arr = np.append(mu_arr,mu),np.append(std_arr,std)\n",
    "\n",
    "        ax.plot(x, p, linewidth=2,label=\"Actuator {}: $\\mu$={:.4f}, $\\sigma$={:.4f}\".format(number,mu, std),color=colors[number])\n",
    "\n",
    "    __,ymax = ax.get_ylim()\n",
    "    # Plot vertical lines here\n",
    "    for number in range(6):\n",
    "        ax.vlines(mu_arr[number],0,1.2*ymax,color=colors[number],ls ='--')\n",
    "        # Plot two additional vertical lines below\n",
    "        for sig in range(1,3): # This might just be 2 micron, so wait to see what comes of it...\n",
    "            ax.vlines(mu_arr[number]+std_arr[number]*sig,0,1.2*ymax_final,color=colors[number],ls ='--')\n",
    "            ax.vlines(mu_arr[number]-std_arr[number]*sig,0,1.2*ymax_final,color=colors[number],ls ='--')\n",
=======
    "\n",
    "for actuator_num in range(6):\n",
    "    fig,ax = plt.subplots(dpi=140)\n",
    "    mu_arr,std_arr = np.array([]),np.array([])\n",
    "    actuatorDF = pd.DataFrame()\n",
    "    for start,end in zip(starts,ends):\n",
    "        mydf = all_data[np.logical_and(Time(all_data.index.values) >= Time(start),Time(all_data.index.values)<=Time(end))]\n",
    "    \n",
    "        for number in range(6):\n",
    "            if number == actuator_num:\n",
    "                date_range = mydf[np.abs(np.diff(mydf[colname+str(number)],prepend=mydf[colname+str(number)].iloc[0])) != 0].index.values\n",
    "                # first dated test for actuator 1 has one point that does not meet the above criteria for masking...\n",
    "                # popping the last element off with this conditional\n",
    "                if number == 1 and start==starts[0]:\n",
    "                    date_range = date_range[:-1]\n",
    "                    \n",
    "                min_date, max_date = np.min(date_range),np.max(date_range)\n",
    "                \n",
    "                finaldf = mydf[np.logical_and(Time(mydf.index.values) >= Time(min_date),Time(mydf.index.values)<=Time(max_date))]\n",
    "        \n",
    "                # plot a histogram\n",
    "        \n",
    "                ax.hist(finaldf[colname+str(number)],bins=int(2.5E3),  alpha=0.4, color=colors[actuator_num])\n",
    "        \n",
    "                \n",
    "                # Fit a gaussian to it \n",
    "        \n",
    "                mu,std,p,x,xmin,xmax = fitGaussian(finaldf[colname+str(number)],ax)\n",
    "\n",
    "\n",
    "                ax.plot(x, p, linewidth=2,label=\"Actuator {}: $\\mu$={:.4f}, $\\sigma$={:.4f}\".format(number,mu, std),color=colors[number])\n",
    "        \n",
    "                mu_arr,std_arr = np.append(mu_arr,mu),np.append(std_arr,std)\n",
    "    \n",
    "        actuatorDF = pd.concat([actuatorDF,finaldf])\n",
    "    \n",
    "    __,ymax = ax.get_ylim()\n",
    "\n",
    "    # Plot vertical lines here\n",
    "                    \n",
    "    # for number in range(6):\n",
    "    #     ax.vlines(mu_arr[number],0,1.2*ymax,color=colors[number],ls ='--')\n",
    "    #     # Plot two additional vertical lines below\n",
    "    #     for sig in range(1,3): # This might just be 2 micron, so wait to see what comes of it...\n",
    "    #         ax.vlines(mu_arr[number]+std_arr[number]*sig,0,1.2*ymax_final,color=colors[number],ls ='--')\n",
    "    #         ax.vlines(mu_arr[number]-std_arr[number]*sig,0,1.2*ymax_final,color=colors[number],ls ='--')\n",
    "\n",
    "\n",
    "    # plot additional gaussian for the combined dataset\n",
    "\n",
    "    # Format \n",
>>>>>>> 5a5acb6 (Squashing commits)
    "        \n",
    "    ax.grid()\n",
    "    ax.set_ylabel(\"Frequency\")\n",
    "    ax.set_xlabel(\"Displacement\")\n",
<<<<<<< HEAD
    "    ax.set_title(r\"{} - {}\".format(start,end))\n",
=======
    "    ax.set_title(r\"Actuator {}\".format(actuator_num))\n",
>>>>>>> 5a5acb6 (Squashing commits)
    "    ax.set_xlim(-6*std_arr.max(),6*std_arr.max())\n",
    "    ax.legend(loc=\"upper right\")\n",
    "    ax.set_ylim(0,1.1*ymax)\n",
    "    fig.tight_layout()\n",
    "\n",
<<<<<<< HEAD
    "    fig.savefig(r\"/home/s/seanmacb/SITCOM/SITCOM-756/{}_actuator_m1m3_histogram_allActuators.jpg\".format(start))\n",
    "\n",
    "    # showAndClear()"
   ]
  },
  {
   "cell_type": "code",
   "execution_count": 14,
   "id": "20bead52-7b12-4e26-9b05-ff6402d037e2",
   "metadata": {
    "execution": {
     "iopub.execute_input": "2024-05-21T23:56:59.377759Z",
     "iopub.status.busy": "2024-05-21T23:56:59.377604Z",
     "iopub.status.idle": "2024-05-21T23:56:59.379800Z",
     "shell.execute_reply": "2024-05-21T23:56:59.379373Z",
     "shell.execute_reply.started": "2024-05-21T23:56:59.377747Z"
    }
   },
   "outputs": [],
   "source": [
    "# Repeat the above plot, but now have the figs be of the individual actuators and the data from their runs\n",
    "\n"
=======
    "    fig.savefig(r\"/home/s/seanmacb/SITCOM/SITCOM-756_local/m1m3_histogram_actuator_{}.jpg\".format(actuator_num))\n",
    "\n",
    "    showAndClear()"
>>>>>>> 5a5acb6 (Squashing commits)
   ]
  },
  {
   "cell_type": "markdown",
<<<<<<< HEAD
   "id": "5179b747-94e3-43e3-ba11-f074117f810c",
=======
   "id": "a19e6f5b-0c76-497d-b859-9452851539e2",
>>>>>>> 5a5acb6 (Squashing commits)
   "metadata": {},
   "source": [
    "# From the generated plot, measure the Hardpoint displacement repeatability (Average) and its resolution (FWHM) around 0 Newtons."
   ]
  },
  {
   "cell_type": "code",
   "execution_count": null,
<<<<<<< HEAD
   "id": "b29eb94d-36a8-46c9-9daf-3424e4128d5d",
=======
   "id": "61b2b870-cd50-4c8a-a450-cccc58184563",
>>>>>>> 5a5acb6 (Squashing commits)
   "metadata": {},
   "outputs": [],
   "source": []
  },
  {
   "cell_type": "code",
   "execution_count": null,
<<<<<<< HEAD
   "id": "1c54e6af-bc09-41d9-a442-c8c1ba6d5860",
=======
   "id": "b068e343-1c7c-4a63-a3a9-4f159371eb21",
>>>>>>> 5a5acb6 (Squashing commits)
   "metadata": {},
   "outputs": [],
   "source": []
  }
 ],
 "metadata": {
  "kernelspec": {
   "display_name": "LSST",
   "language": "python",
   "name": "lsst"
  },
  "language_info": {
   "codemirror_mode": {
    "name": "ipython",
    "version": 3
   },
   "file_extension": ".py",
   "mimetype": "text/x-python",
   "name": "python",
   "nbconvert_exporter": "python",
   "pygments_lexer": "ipython3",
   "version": "3.11.7"
  }
 },
 "nbformat": 4,
 "nbformat_minor": 5
}
