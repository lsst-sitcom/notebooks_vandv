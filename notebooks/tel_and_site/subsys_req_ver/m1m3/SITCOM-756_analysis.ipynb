{
 "cells": [
  {
   "cell_type": "code",
   "execution_count": 20,
   "id": "daecd481-e4cc-4c8b-a2ba-c69795495e47",
   "metadata": {
    "execution": {
     "iopub.execute_input": "2024-05-16T20:32:46.487267Z",
     "iopub.status.busy": "2024-05-16T20:32:46.486715Z",
     "iopub.status.idle": "2024-05-16T20:32:46.530029Z",
     "shell.execute_reply": "2024-05-16T20:32:46.529592Z",
     "shell.execute_reply.started": "2024-05-16T20:32:46.487253Z"
    }
   },
   "outputs": [],
   "source": [
    "%matplotlib inline\n",
    "# %load_ext autoreload\n",
    "# %autoreload 2\n",
    "from astropy.time import Time\n",
    "from lsst.summit.utils.efdUtils import makeEfdClient, getEfdData\n",
    "import matplotlib.dates as mdates\n",
    "import matplotlib.pyplot as plt\n",
    "import matplotlib.colors as mcolors\n",
    "from lsst_efd_client import EfdClient\n",
    "from collections import defaultdict\n",
    "from datetime import datetime, timedelta\n",
    "import numpy as np\n",
    "import pandas as pd\n",
    "from scipy.stats import norm"
   ]
  },
  {
   "cell_type": "markdown",
   "id": "c90a1536-0da1-4518-9950-d74dd39fb1d0",
   "metadata": {},
   "source": [
    "# M1M3 hardpoint repeatability and resolution analysis\n",
    "---"
   ]
  },
  {
   "cell_type": "markdown",
   "id": "47a9672b-ba6a-429a-9c8e-53c39c5901a8",
   "metadata": {},
   "source": [
    "## Overview\n",
    "This notebook is dedicated to the analysis of M1M3 hardpoint repeatability.\n",
    "\n",
    "Data to be analyzed are for the Requirement: \"LVV-11200 LTS-88-REQ-0015-V-01: 3.7.1.3 Hardpoint Displacement Repeatability and Resolution_1\" - https://jira.lsstcorp.org/browse/LVV-11200\n",
    "\n",
    "There are three key deliverables\n",
    "- Plot Force vs. displacement for all actuators.\n",
    "- Make a histogram of the displacement values per actuator.\n",
    "- From the generated plot, measure the Hardpoint displacement repeatability (Average) and its resolution (FWHM) around 0 Newtons.\n",
    "\n",
    "## Querying EFD\n",
    "\n",
    "### Helper Function"
   ]
  },
  {
   "cell_type": "code",
   "execution_count": 3,
   "id": "5dd63d04-1f72-4a91-b28f-31dcf2fdd76b",
   "metadata": {
    "execution": {
     "iopub.execute_input": "2024-05-16T20:26:51.194167Z",
     "iopub.status.busy": "2024-05-16T20:26:51.193910Z",
     "iopub.status.idle": "2024-05-16T20:26:51.199499Z",
     "shell.execute_reply": "2024-05-16T20:26:51.199144Z",
     "shell.execute_reply.started": "2024-05-16T20:26:51.194153Z"
    }
   },
   "outputs": [],
   "source": [
    "async def query_bump_logs_in_chunks(\n",
    "    start_date, end_date, client_name=\"\", chunk_size_days=3,topic_name=\"lsst.sal.MTM1M3.logevent_logMessage\",fields=[\"message\"]\n",
    "):\n",
    "    \"\"\"\n",
    "    Queries the log messages related to bump tests from the EFD in chunks.\n",
    "\n",
    "    Args:\n",
    "        start_date (str): Start date of the query in ISO format (YYYY-MM-DD).\n",
    "        \n",
    "        end_date (str): End date of the query in ISO format (YYYY-MM-DD).\n",
    "        \n",
    "        client_name (str, optional): Name of the EFD client. Defaults to \"\".\n",
    "        \n",
    "        chunk_size_days (int, optional): Number of days per chunk. Defaults to 3.\n",
    "\n",
    "        topic_name (str, optional): SAL topic name to be queried by the client. Defaults to lsst.sal.MTM1M3.logevent_logMessage.\n",
    "\n",
    "        fields (list[str], optional): Fields to be queried by the client. Defaults to [\"message\"].\n",
    "\n",
    "    Returns:\n",
    "        pandas.DataFrame: Concatenated DataFrame containing the queried log messages.\n",
    "    \"\"\"\n",
    "\n",
    "    client = makeClient(client_name)\n",
    "\n",
    "    # Convert start and end dates to datetime objects\n",
    "    start = datetime.fromisoformat(start_date)\n",
    "    end = datetime.fromisoformat(end_date)\n",
    "\n",
    "    # Initialize an empty DataFrame to store concatenated results\n",
    "    all_data = pd.DataFrame()\n",
    "\n",
    "    current_start = start\n",
    "    while current_start < end:\n",
    "        current_end = min(current_start + timedelta(days=chunk_size_days), end)\n",
    "        try:\n",
    "            # Query the data for the current chunk\n",
    "            chunk_data = await client.select_time_series(\n",
    "                topic_name=topic_name,\n",
    "                fields=fields,\n",
    "                start=Time(current_start.isoformat(), format=\"isot\", scale=\"utc\"),\n",
    "                end=Time(current_end.isoformat(), format=\"isot\", scale=\"utc\"),\n",
    "            )\n",
    "            # Concatenate the chunk data to the main DataFrame\n",
    "            all_data = pd.concat([all_data, chunk_data], ignore_index=False)\n",
    "        except Exception as e:\n",
    "            print(\n",
    "                f\"Error querying data from {current_start.isoformat()} to {current_end.isoformat()}: {e}\"\n",
    "            )\n",
    "            continue  # Optionally, continue to the next chunk\n",
    "\n",
    "        # Move to the next chunk\n",
    "        current_start = current_end\n",
    "\n",
    "    return all_data\n",
    "\n",
    "def makeClient(client_name):\n",
    "        # Create the client based on client_name\n",
    "    if client_name == \"summit_efd\":\n",
    "        return makeEfdClient(\"summit_efd\")\n",
    "    elif client_name == \"usdf_efd\":\n",
    "        return makeEfdClient(\"usdf_efd\")\n",
    "    elif client_name == \"idf_efd\":\n",
    "        return makeEfdClient(\"idf_efd\")\n",
    "    else:\n",
    "        return makeEfdClient()  # Default client\n",
    "\n",
    "\n",
    "# Example usage:\n",
    "# begin = \"2023-11-13T01:00\"\n",
    "# end = \"2023-12-21T01:00\"\n",
    "# bump_logs = await query_bump_logs_in_chunks(begin, end, client_name='')"
   ]
  },
  {
   "cell_type": "markdown",
   "id": "d8fcc275-e00d-4108-b178-082c57db74f4",
   "metadata": {},
   "source": [
    "## Let's take a look at the topics, so that we can get an idea of what we need to query"
   ]
  },
  {
   "cell_type": "code",
   "execution_count": 4,
   "id": "60e5e2c8-b86e-4353-8278-73a8cc8e0ebe",
   "metadata": {
    "execution": {
     "iopub.execute_input": "2024-05-16T20:26:52.876305Z",
     "iopub.status.busy": "2024-05-16T20:26:52.875746Z",
     "iopub.status.idle": "2024-05-16T20:26:53.300171Z",
     "shell.execute_reply": "2024-05-16T20:26:53.299814Z",
     "shell.execute_reply.started": "2024-05-16T20:26:52.876292Z"
    }
   },
   "outputs": [],
   "source": [
    "client = makeClient(\"usdf_efd\")\n",
    "\n",
    "a = await client.get_topics() "
   ]
  },
  {
   "cell_type": "code",
   "execution_count": 5,
   "id": "f5b4bbb1-b7c0-4e32-b041-e23f8c5dfa06",
   "metadata": {
    "execution": {
     "iopub.execute_input": "2024-05-16T20:26:53.322744Z",
     "iopub.status.busy": "2024-05-16T20:26:53.322532Z",
     "iopub.status.idle": "2024-05-16T20:26:53.325785Z",
     "shell.execute_reply": "2024-05-16T20:26:53.325487Z",
     "shell.execute_reply.started": "2024-05-16T20:26:53.322731Z"
    },
    "scrolled": true
   },
   "outputs": [
    {
     "name": "stdout",
     "output_type": "stream",
     "text": [
      "lsst.sal.MTM1M3.accelerometerData\n",
      "lsst.sal.MTM1M3.ackcmd\n",
      "lsst.sal.MTM1M3.appliedAccelerationForces\n",
      "lsst.sal.MTM1M3.appliedAzimuthForces\n",
      "lsst.sal.MTM1M3.appliedBalanceForces\n",
      "lsst.sal.MTM1M3.appliedCylinderForces\n",
      "lsst.sal.MTM1M3.appliedElevationForces\n",
      "lsst.sal.MTM1M3.appliedForces\n",
      "lsst.sal.MTM1M3.appliedThermalForces\n",
      "lsst.sal.MTM1M3.appliedVelocityForces\n",
      "lsst.sal.MTM1M3.command_abortRaiseM1M3\n",
      "lsst.sal.MTM1M3.command_applyAberrationForces\n",
      "lsst.sal.MTM1M3.command_applyActiveOpticForces\n",
      "lsst.sal.MTM1M3.command_applyActiveOpticForcesByBendingModes\n",
      "lsst.sal.MTM1M3.command_applyOffsetForces\n",
      "lsst.sal.MTM1M3.command_applyOffsetForcesByMirrorForce\n",
      "lsst.sal.MTM1M3.command_boosterValveClose\n",
      "lsst.sal.MTM1M3.command_boosterValveOpen\n",
      "lsst.sal.MTM1M3.command_clearActiveOpticForces\n",
      "lsst.sal.MTM1M3.command_clearOffsetForces\n",
      "lsst.sal.MTM1M3.command_clearSlewFlag\n",
      "lsst.sal.MTM1M3.command_disable\n",
      "lsst.sal.MTM1M3.command_disableForceActuator\n",
      "lsst.sal.MTM1M3.command_disableHardpointChase\n",
      "lsst.sal.MTM1M3.command_disableHardpointCorrections\n",
      "lsst.sal.MTM1M3.command_enable\n",
      "lsst.sal.MTM1M3.command_enableAllForceActuators\n",
      "lsst.sal.MTM1M3.command_enableForceActuator\n",
      "lsst.sal.MTM1M3.command_enableHardpointChase\n",
      "lsst.sal.MTM1M3.command_enableHardpointCorrections\n",
      "lsst.sal.MTM1M3.command_enterControl\n",
      "lsst.sal.MTM1M3.command_enterEngineering\n",
      "lsst.sal.MTM1M3.command_exitControl\n",
      "lsst.sal.MTM1M3.command_exitEngineering\n",
      "lsst.sal.MTM1M3.command_forceActuatorBumpTest\n",
      "lsst.sal.MTM1M3.command_killForceActuatorBumpTest\n",
      "lsst.sal.MTM1M3.command_killHardpointTest\n",
      "lsst.sal.MTM1M3.command_lowerM1M3\n",
      "lsst.sal.MTM1M3.command_moveHardpointActuators\n",
      "lsst.sal.MTM1M3.command_panic\n",
      "lsst.sal.MTM1M3.command_pauseM1M3RaisingLowering\n",
      "lsst.sal.MTM1M3.command_positionM1M3\n",
      "lsst.sal.MTM1M3.command_raiseM1M3\n",
      "lsst.sal.MTM1M3.command_resetPID\n",
      "lsst.sal.MTM1M3.command_resumeM1M3RaisingLowering\n",
      "lsst.sal.MTM1M3.command_setAirSlewFlag\n",
      "lsst.sal.MTM1M3.command_setLogLevel\n",
      "lsst.sal.MTM1M3.command_setSlewControllerSettings\n",
      "lsst.sal.MTM1M3.command_setSlewFlag\n",
      "lsst.sal.MTM1M3.command_shutdown\n",
      "lsst.sal.MTM1M3.command_standby\n",
      "lsst.sal.MTM1M3.command_start\n",
      "lsst.sal.MTM1M3.command_stopHardpointMotion\n",
      "lsst.sal.MTM1M3.command_testHardpoint\n",
      "lsst.sal.MTM1M3.command_translateM1M3\n",
      "lsst.sal.MTM1M3.command_turnAirOff\n",
      "lsst.sal.MTM1M3.command_turnAirOn\n",
      "lsst.sal.MTM1M3.command_turnLightsOff\n",
      "lsst.sal.MTM1M3.command_turnLightsOn\n",
      "lsst.sal.MTM1M3.command_turnPowerOff\n",
      "lsst.sal.MTM1M3.command_turnPowerOn\n",
      "lsst.sal.MTM1M3.command_updatePID\n",
      "lsst.sal.MTM1M3.forceActuatorData\n",
      "lsst.sal.MTM1M3.forceActuatorPressure\n",
      "lsst.sal.MTM1M3.gyroData\n",
      "lsst.sal.MTM1M3.hardpointActuatorData\n",
      "lsst.sal.MTM1M3.hardpointMonitorData\n",
      "lsst.sal.MTM1M3.imsData\n",
      "lsst.sal.MTM1M3.inclinometerData\n",
      "lsst.sal.MTM1M3.logevent_accelerometerSettings\n",
      "lsst.sal.MTM1M3.logevent_airSupplyStatus\n",
      "lsst.sal.MTM1M3.logevent_airSupplyWarning\n",
      "lsst.sal.MTM1M3.logevent_appliedAberrationForces\n",
      "lsst.sal.MTM1M3.logevent_appliedAccelerationForces\n",
      "lsst.sal.MTM1M3.logevent_appliedActiveOpticForces\n",
      "lsst.sal.MTM1M3.logevent_appliedAzimuthForces\n",
      "lsst.sal.MTM1M3.logevent_appliedBalanceForces\n",
      "lsst.sal.MTM1M3.logevent_appliedCylinderForces\n",
      "lsst.sal.MTM1M3.logevent_appliedElevationForces\n",
      "lsst.sal.MTM1M3.logevent_appliedForces\n",
      "lsst.sal.MTM1M3.logevent_appliedOffsetForces\n",
      "lsst.sal.MTM1M3.logevent_appliedStaticForces\n",
      "lsst.sal.MTM1M3.logevent_appliedThermalForces\n",
      "lsst.sal.MTM1M3.logevent_appliedVelocityForces\n",
      "lsst.sal.MTM1M3.logevent_boosterValveSettings\n",
      "lsst.sal.MTM1M3.logevent_boosterValveStatus\n",
      "lsst.sal.MTM1M3.logevent_cellLightStatus\n",
      "lsst.sal.MTM1M3.logevent_cellLightWarning\n",
      "lsst.sal.MTM1M3.logevent_commandRejectionWarning\n",
      "lsst.sal.MTM1M3.logevent_configurationApplied\n",
      "lsst.sal.MTM1M3.logevent_configurationsAvailable\n",
      "lsst.sal.MTM1M3.logevent_detailedState\n",
      "lsst.sal.MTM1M3.logevent_displacementSensorSettings\n",
      "lsst.sal.MTM1M3.logevent_displacementSensorWarning\n",
      "lsst.sal.MTM1M3.logevent_enabledForceActuators\n",
      "lsst.sal.MTM1M3.logevent_errorCode\n",
      "lsst.sal.MTM1M3.logevent_forceActuatorBumpTestStatus\n",
      "lsst.sal.MTM1M3.logevent_forceActuatorFollowingErrorCounter\n",
      "lsst.sal.MTM1M3.logevent_forceActuatorForceWarning\n",
      "lsst.sal.MTM1M3.logevent_forceActuatorInfo\n",
      "lsst.sal.MTM1M3.logevent_forceActuatorSettings\n",
      "lsst.sal.MTM1M3.logevent_forceActuatorState\n",
      "lsst.sal.MTM1M3.logevent_forceActuatorWarning\n",
      "lsst.sal.MTM1M3.logevent_forceControllerState\n",
      "lsst.sal.MTM1M3.logevent_forceSetpointWarning\n",
      "lsst.sal.MTM1M3.logevent_gyroSettings\n",
      "lsst.sal.MTM1M3.logevent_gyroWarning\n",
      "lsst.sal.MTM1M3.logevent_hardpointActuatorInfo\n",
      "lsst.sal.MTM1M3.logevent_hardpointActuatorSettings\n",
      "lsst.sal.MTM1M3.logevent_hardpointActuatorState\n",
      "lsst.sal.MTM1M3.logevent_hardpointActuatorWarning\n",
      "lsst.sal.MTM1M3.logevent_hardpointMonitorInfo\n",
      "lsst.sal.MTM1M3.logevent_hardpointTestStatus\n",
      "lsst.sal.MTM1M3.logevent_heartbeat\n",
      "lsst.sal.MTM1M3.logevent_ilcWarning\n",
      "lsst.sal.MTM1M3.logevent_inclinometerSensorWarning\n",
      "lsst.sal.MTM1M3.logevent_inclinometerSettings\n",
      "lsst.sal.MTM1M3.logevent_interlockStatus\n",
      "lsst.sal.MTM1M3.logevent_interlockWarning\n",
      "lsst.sal.MTM1M3.logevent_logLevel\n",
      "lsst.sal.MTM1M3.logevent_logMessage\n",
      "lsst.sal.MTM1M3.logevent_pidInfo\n",
      "lsst.sal.MTM1M3.logevent_pidSettings\n",
      "lsst.sal.MTM1M3.logevent_positionControllerSettings\n",
      "lsst.sal.MTM1M3.logevent_powerStatus\n",
      "lsst.sal.MTM1M3.logevent_powerSupplyStatus\n",
      "lsst.sal.MTM1M3.logevent_powerWarning\n",
      "lsst.sal.MTM1M3.logevent_preclippedBalanceForces\n",
      "lsst.sal.MTM1M3.logevent_preclippedCylinderForces\n",
      "lsst.sal.MTM1M3.logevent_preclippedElevationForces\n",
      "lsst.sal.MTM1M3.logevent_preclippedForces\n",
      "lsst.sal.MTM1M3.logevent_raisingLoweringInfo\n",
      "lsst.sal.MTM1M3.logevent_settingVersions\n",
      "lsst.sal.MTM1M3.logevent_settingsApplied\n",
      "lsst.sal.MTM1M3.logevent_simulationMode\n",
      "lsst.sal.MTM1M3.logevent_slewControllerSettings\n",
      "lsst.sal.MTM1M3.logevent_softwareVersions\n",
      "lsst.sal.MTM1M3.logevent_summaryState\n",
      "lsst.sal.MTM1M3.outerLoopData\n",
      "lsst.sal.MTM1M3.pidData\n",
      "lsst.sal.MTM1M3.powerSupplyData\n",
      "lsst.sal.MTM1M3TS.ackcmd\n",
      "lsst.sal.MTM1M3TS.command_coolantPumpFrequency\n",
      "lsst.sal.MTM1M3TS.command_coolantPumpPower\n",
      "lsst.sal.MTM1M3TS.command_coolantPumpReset\n",
      "lsst.sal.MTM1M3TS.command_coolantPumpStart\n",
      "lsst.sal.MTM1M3TS.command_coolantPumpStop\n",
      "lsst.sal.MTM1M3TS.command_disable\n",
      "lsst.sal.MTM1M3TS.command_enable\n",
      "lsst.sal.MTM1M3TS.command_exitControl\n",
      "lsst.sal.MTM1M3TS.command_heaterFanDemand\n",
      "lsst.sal.MTM1M3TS.command_setEngineeringMode\n",
      "lsst.sal.MTM1M3TS.command_setLogLevel\n",
      "lsst.sal.MTM1M3TS.command_setMixingValve\n",
      "lsst.sal.MTM1M3TS.command_standby\n",
      "lsst.sal.MTM1M3TS.command_start\n",
      "lsst.sal.MTM1M3TS.flowMeter\n",
      "lsst.sal.MTM1M3TS.glycolLoopTemperature\n",
      "lsst.sal.MTM1M3TS.glycolPump\n",
      "lsst.sal.MTM1M3TS.logevent_enabledILC\n",
      "lsst.sal.MTM1M3TS.logevent_engineeringMode\n",
      "lsst.sal.MTM1M3TS.logevent_glycolPumpStatus\n",
      "lsst.sal.MTM1M3TS.logevent_heartbeat\n",
      "lsst.sal.MTM1M3TS.logevent_logLevel\n",
      "lsst.sal.MTM1M3TS.logevent_logMessage\n",
      "lsst.sal.MTM1M3TS.logevent_simulationMode\n",
      "lsst.sal.MTM1M3TS.logevent_softwareVersions\n",
      "lsst.sal.MTM1M3TS.logevent_summaryState\n",
      "lsst.sal.MTM1M3TS.logevent_thermalInfo\n",
      "lsst.sal.MTM1M3TS.logevent_thermalSettings\n",
      "lsst.sal.MTM1M3TS.mixingValve\n",
      "lsst.sal.MTM1M3TS.thermalData\n"
     ]
    }
   ],
   "source": [
    "for entry in a:\n",
    "    if entry.__contains__(\"lsst.sal.MTM1M3\"):# and entry.__contains__(\"isplace\"):\n",
    "        print(entry)"
   ]
  },
  {
   "cell_type": "markdown",
   "id": "485b628d-0a42-48b1-98f2-121f8f903fa1",
   "metadata": {},
   "source": [
    "### Possibilities for the SAL data\n",
    "\n",
    "- lsst.sal.MTM1M3.forceActuatorData\n",
    "- lsst.sal.MTM1M3.forceActuatorPressure\n",
    "- lsst.sal.MTM1M3.hardpointActuatorData\n",
    "- lsst.sal.MTM1M3.hardpointMonitorData"
   ]
  },
  {
   "cell_type": "code",
   "execution_count": 6,
   "id": "73246a12-546b-46d1-a28f-3eaa53e2ed3f",
   "metadata": {
    "execution": {
     "iopub.execute_input": "2024-05-16T20:26:57.293494Z",
     "iopub.status.busy": "2024-05-16T20:26:57.293204Z",
     "iopub.status.idle": "2024-05-16T20:26:57.458769Z",
     "shell.execute_reply": "2024-05-16T20:26:57.458483Z",
     "shell.execute_reply.started": "2024-05-16T20:26:57.293480Z"
    }
   },
   "outputs": [
    {
     "data": {
      "text/plain": [
       "['displacement0',\n",
       " 'displacement1',\n",
       " 'displacement2',\n",
       " 'displacement3',\n",
       " 'displacement4',\n",
       " 'displacement5',\n",
       " 'encoder0',\n",
       " 'encoder1',\n",
       " 'encoder2',\n",
       " 'encoder3',\n",
       " 'encoder4',\n",
       " 'encoder5',\n",
       " 'forceMagnitude',\n",
       " 'fx',\n",
       " 'fy',\n",
       " 'fz',\n",
       " 'measuredForce0',\n",
       " 'measuredForce1',\n",
       " 'measuredForce2',\n",
       " 'measuredForce3',\n",
       " 'measuredForce4',\n",
       " 'measuredForce5',\n",
       " 'mx',\n",
       " 'my',\n",
       " 'mz',\n",
       " 'private_efdStamp',\n",
       " 'private_host',\n",
       " 'private_identity',\n",
       " 'private_kafkaStamp',\n",
       " 'private_origin',\n",
       " 'private_rcvStamp',\n",
       " 'private_revCode',\n",
       " 'private_seqNum',\n",
       " 'private_sndStamp',\n",
       " 'stepsCommanded0',\n",
       " 'stepsCommanded1',\n",
       " 'stepsCommanded2',\n",
       " 'stepsCommanded3',\n",
       " 'stepsCommanded4',\n",
       " 'stepsCommanded5',\n",
       " 'stepsQueued0',\n",
       " 'stepsQueued1',\n",
       " 'stepsQueued2',\n",
       " 'stepsQueued3',\n",
       " 'stepsQueued4',\n",
       " 'stepsQueued5',\n",
       " 'timestamp',\n",
       " 'xPosition',\n",
       " 'xRotation',\n",
       " 'yPosition',\n",
       " 'yRotation',\n",
       " 'zPosition',\n",
       " 'zRotation']"
      ]
     },
     "execution_count": 6,
     "metadata": {},
     "output_type": "execute_result"
    }
   ],
   "source": [
    "await client.get_fields(\"lsst.sal.MTM1M3.hardpointActuatorData\")"
   ]
  },
  {
   "cell_type": "code",
   "execution_count": 7,
   "id": "e5e82b2a-4dbc-4218-bfe5-1cbdd51ed94c",
   "metadata": {
    "execution": {
     "iopub.execute_input": "2024-05-16T20:27:01.102701Z",
     "iopub.status.busy": "2024-05-16T20:27:01.102399Z",
     "iopub.status.idle": "2024-05-16T20:27:01.105043Z",
     "shell.execute_reply": "2024-05-16T20:27:01.104728Z",
     "shell.execute_reply.started": "2024-05-16T20:27:01.102681Z"
    }
   },
   "outputs": [],
   "source": [
    "starts = [\"2023-11-27T21:30:26\",\"2023-11-28T20:45:38\",\"2023-12-04T21:33:18\",\"2023-12-07T03:36:44\"] # From https://lsstc.slack.com/archives/C0567AY64AC/p1715789391584609?thread_ts=1715786982.696169&cid=C0567AY64AC\n",
    "ends = [\"2023-11-27T22:39:17\",\"2023-11-28T21:54:28\",\"2023-12-04T22:42:06\",\"2023-12-07T04:45:29\"]"
   ]
  },
  {
   "cell_type": "code",
   "execution_count": 8,
   "id": "4ae7bae4-fbc6-4b72-a8c1-c5485835a911",
   "metadata": {
    "execution": {
     "iopub.execute_input": "2024-05-16T20:27:02.587197Z",
     "iopub.status.busy": "2024-05-16T20:27:02.587010Z",
     "iopub.status.idle": "2024-05-16T20:27:02.589311Z",
     "shell.execute_reply": "2024-05-16T20:27:02.589011Z",
     "shell.execute_reply.started": "2024-05-16T20:27:02.587186Z"
    }
   },
   "outputs": [],
   "source": [
    "colnames =  [\"displacement\",\"measuredForce\"]\n",
    "colors = [\"#e01616\",\"#f6f40b\",\"#2affbb\",\"#123cdf\",\"#e51983\",\"#2b8221\"]"
   ]
  },
  {
   "cell_type": "code",
   "execution_count": 9,
   "id": "bedd57a7-cacb-42da-b011-d8119ba2bb04",
   "metadata": {
    "execution": {
     "iopub.execute_input": "2024-05-16T20:27:07.364742Z",
     "iopub.status.busy": "2024-05-16T20:27:07.364336Z",
     "iopub.status.idle": "2024-05-16T20:27:58.942388Z",
     "shell.execute_reply": "2024-05-16T20:27:58.941940Z",
     "shell.execute_reply.started": "2024-05-16T20:27:07.364728Z"
    }
   },
   "outputs": [
    {
     "name": "stdout",
     "output_type": "stream",
     "text": [
      "Starting query for time range 2023-11-27T21:30:26 - 2023-11-27T22:39:17 . . . Finished\n",
      "Starting query for time range 2023-11-28T20:45:38 - 2023-11-28T21:54:28 . . . Finished\n",
      "Starting query for time range 2023-12-04T21:33:18 - 2023-12-04T22:42:06 . . . Finished\n",
      "Starting query for time range 2023-12-07T03:36:44 - 2023-12-07T04:45:29 . . . Finished\n"
     ]
    }
   ],
   "source": [
    "all_data = pd.DataFrame()\n",
    "for start,end in zip(starts,ends):\n",
    "    print(r\"Starting query for time range {} - {}\".format(start,end),end=\" . . . \")\n",
    "    df_bump = await client.select_time_series(\n",
    "        \"lsst.sal.MTM1M3.hardpointActuatorData\", \n",
    "        \"*\", Time(start), Time(end))\n",
    "    \n",
    "    all_data = pd.concat([all_data, df_bump], ignore_index=False)\n",
    "    \n",
    "    print(\"Finished\")\n",
    "    del df_bump"
   ]
  },
  {
   "cell_type": "code",
   "execution_count": null,
   "id": "4e461a27-7939-4f7a-b8a3-799c90a0297b",
   "metadata": {},
   "outputs": [],
   "source": []
  },
  {
   "cell_type": "code",
   "execution_count": null,
   "id": "2fb6f0a2-d6da-43b7-a427-af00baf35c55",
   "metadata": {},
   "outputs": [],
   "source": []
  },
  {
   "cell_type": "code",
   "execution_count": null,
   "id": "54b2974b-5371-47de-9246-693f6505f614",
   "metadata": {},
   "outputs": [],
   "source": []
  },
  {
   "cell_type": "code",
   "execution_count": null,
   "id": "4a47f981-b927-412a-9d6d-2ff21ec7d759",
   "metadata": {
    "scrolled": true
   },
   "outputs": [],
   "source": []
  },
  {
   "cell_type": "markdown",
   "id": "b9018054-8e17-4524-b762-dd168df09f76",
   "metadata": {},
   "source": [
    "### Plot Force vs. displacement for all actuators.\n",
    "- Take displacement values from up and down movements for each actuator that is closest to Force = Zero Newton for all repetitions.\n",
    "- Calculate the average."
   ]
  },
  {
   "cell_type": "code",
   "execution_count": 12,
   "id": "6a8e7d5b-a05c-48c9-8be6-eb41e1bfea6e",
   "metadata": {
    "execution": {
     "iopub.execute_input": "2024-05-16T20:28:35.774400Z",
     "iopub.status.busy": "2024-05-16T20:28:35.773846Z",
     "iopub.status.idle": "2024-05-16T20:29:31.604097Z",
     "shell.execute_reply": "2024-05-16T20:29:31.603623Z",
     "shell.execute_reply.started": "2024-05-16T20:28:35.774386Z"
    }
   },
   "outputs": [],
   "source": [
    "# axs_flattened = axs.flatten()\n",
    "\n",
    "for start,end in zip(starts,ends):\n",
    "    fig,axs = plt.subplots(2,1,sharex=True,dpi=140)\n",
    "    mydf = all_data[np.logical_and(Time(all_data.index.values) >= Time(start),Time(all_data.index.values)<=Time(end))]\n",
    "    # mydf = \n",
    "    for number in range(6):\n",
    "        axs[0].plot(mydf.index.values,mydf[colnames[0]+str(number)],color=colors[number],label=r\"Displacement {}\".format(str(number)),marker=\"x\",ls='--')\n",
    "        axs[1].plot(mydf.index.values,mydf[colnames[1]+str(number)],color=colors[number],label=r\"Force {}\".format(str(number)),marker=\"+\",ls='-.')\n",
    "        \n",
    "    axs[0].legend(ncols=2,fontsize='xx-small')\n",
    "    axs[1].legend(ncols=2,fontsize='xx-small')\n",
    "    axs[0].set_ylabel(\"Displacement\")\n",
    "    axs[1].set_ylabel(\"Force\")\n",
    "    for a in axs:\n",
    "        a.xaxis.set_major_locator(mdates.MinuteLocator(interval = 15))\n",
    "        a.xaxis.set_major_formatter(mdates.DateFormatter('%H:%M'))\n",
    "        a.grid()\n",
    "\n",
    "    axs[1].set_xlabel(\"Date\")\n",
    "\n",
    "    fig.tight_layout()\n",
    "    \n",
    "    fig.savefig(r\"/home/s/seanmacb/SITCOM/SITCOM-756/{}_actuator_m1m3.jpg\".format(start))"
   ]
  },
  {
   "cell_type": "code",
   "execution_count": 47,
   "id": "1858d06a-6d84-4adf-a01f-e5f96f778497",
   "metadata": {
    "editable": true,
    "execution": {
     "iopub.execute_input": "2024-05-16T20:43:18.090655Z",
     "iopub.status.busy": "2024-05-16T20:43:18.090470Z",
     "iopub.status.idle": "2024-05-16T20:43:18.134805Z",
     "shell.execute_reply": "2024-05-16T20:43:18.134404Z",
     "shell.execute_reply.started": "2024-05-16T20:43:18.090643Z"
    },
    "scrolled": true,
    "slideshow": {
     "slide_type": ""
    },
    "tags": []
   },
   "outputs": [
    {
     "name": "stdout",
     "output_type": "stream",
     "text": [
      "[2.44200000e-05 2.46641994e-05 2.49084005e-05 ... 1.39875319e-02\n",
      " 1.39877759e-02 1.39882648e-02]\n"
     ]
    }
   ],
   "source": [
    "# plt.__dir__()\n",
    "\n",
    "# np.abs(np.diff(mydf[\"displacement5\"])) != 0\n",
    "\n",
    "# print(np.unique(mydf[\"displacement3\"]))\n",
    "\n",
    "# for number in range(6):\n",
    "#     plt.scatter(np.arange(1,len(mydf[\"displacement\"+str(number)])),abs(np.diff(mydf[\"displacement\"+str(number)])))\n",
    "    \n",
    "#     plt.grid()\n",
    "#     plt.show()\n",
    "\n",
    "\n",
    "# Make the same figure as above, but now mask out the data to only show actuators from the specific time when the actuator is changing"
   ]
  },
  {
   "cell_type": "markdown",
   "id": "311d9913-b2fb-42dc-b405-3e50d2aa184a",
   "metadata": {
    "editable": true,
    "slideshow": {
     "slide_type": ""
    },
    "tags": []
   },
   "source": [
    "### Make a histogram of the displacement values per actuator.\n",
    "\n",
    "- Fit a Gaussian distribution and determine the FWHM\n",
    "- Plot a limit lines at 2um"
   ]
  },
  {
   "cell_type": "code",
   "execution_count": null,
   "id": "6221d909-dbbe-4d96-83b7-66fc6d6358f4",
   "metadata": {},
   "outputs": [],
   "source": []
  },
  {
   "cell_type": "code",
   "execution_count": 11,
   "id": "43a39d22-dfe5-458a-b9a7-652da91883d3",
   "metadata": {
    "execution": {
     "iopub.execute_input": "2024-05-16T19:04:31.819273Z",
     "iopub.status.busy": "2024-05-16T19:04:31.819146Z",
     "iopub.status.idle": "2024-05-16T19:04:31.970131Z",
     "shell.execute_reply": "2024-05-16T19:04:31.969500Z",
     "shell.execute_reply.started": "2024-05-16T19:04:31.819263Z"
    }
   },
   "outputs": [
    {
     "ename": "NameError",
     "evalue": "name 'data' is not defined",
     "output_type": "error",
     "traceback": [
      "\u001b[0;31m---------------------------------------------------------------------------\u001b[0m",
      "\u001b[0;31mNameError\u001b[0m                                 Traceback (most recent call last)",
      "Cell \u001b[0;32mIn[11], line 4\u001b[0m\n\u001b[1;32m      1\u001b[0m \u001b[38;5;66;03m# Fit a normal distribution to\u001b[39;00m\n\u001b[1;32m      2\u001b[0m \u001b[38;5;66;03m# the data:\u001b[39;00m\n\u001b[1;32m      3\u001b[0m \u001b[38;5;66;03m# mean and standard deviation\u001b[39;00m\n\u001b[0;32m----> 4\u001b[0m mu, std \u001b[38;5;241m=\u001b[39m norm\u001b[38;5;241m.\u001b[39mfit(\u001b[43mdata\u001b[49m) \n\u001b[1;32m      6\u001b[0m \u001b[38;5;66;03m# Plot the histogram.\u001b[39;00m\n\u001b[1;32m      7\u001b[0m plt\u001b[38;5;241m.\u001b[39mhist(data, bins\u001b[38;5;241m=\u001b[39m\u001b[38;5;241m25\u001b[39m, density\u001b[38;5;241m=\u001b[39m\u001b[38;5;28;01mTrue\u001b[39;00m, alpha\u001b[38;5;241m=\u001b[39m\u001b[38;5;241m0.6\u001b[39m, color\u001b[38;5;241m=\u001b[39m\u001b[38;5;124m'\u001b[39m\u001b[38;5;124mb\u001b[39m\u001b[38;5;124m'\u001b[39m)\n",
      "\u001b[0;31mNameError\u001b[0m: name 'data' is not defined"
     ]
    }
   ],
   "source": [
    "# Fit a normal distribution to\n",
    "# the data:\n",
    "# mean and standard deviation\n",
    "mu, std = norm.fit(data) \n",
    " \n",
    "# Plot the histogram.\n",
    "plt.hist(data, bins=25, density=True, alpha=0.6, color='b')\n",
    " \n",
    "# Plot the PDF.\n",
    "xmin, xmax = plt.xlim()\n",
    "x = np.linspace(xmin, xmax, 1000)\n",
    "p = norm.pdf(x, mu, std)\n",
    " \n",
    "plt.plot(x, p, 'k', linewidth=2)\n",
    "title = \"Fit Values: $\\mu$={:.2f}, $\\sigma$={:.2f}\".format(mu, std)\n",
    "plt.title(title)"
   ]
  },
  {
   "cell_type": "markdown",
   "id": "5179b747-94e3-43e3-ba11-f074117f810c",
   "metadata": {},
   "source": [
    "# From the generated plot, measure the Hardpoint displacement repeatability (Average) and its resolution (FWHM) around 0 Newtons."
   ]
  },
  {
   "cell_type": "code",
   "execution_count": null,
   "id": "b29eb94d-36a8-46c9-9daf-3424e4128d5d",
   "metadata": {},
   "outputs": [],
   "source": []
  },
  {
   "cell_type": "code",
   "execution_count": null,
   "id": "1c54e6af-bc09-41d9-a442-c8c1ba6d5860",
   "metadata": {},
   "outputs": [],
   "source": []
  }
 ],
 "metadata": {
  "kernelspec": {
   "display_name": "LSST",
   "language": "python",
   "name": "lsst"
  },
  "language_info": {
   "codemirror_mode": {
    "name": "ipython",
    "version": 3
   },
   "file_extension": ".py",
   "mimetype": "text/x-python",
   "name": "python",
   "nbconvert_exporter": "python",
   "pygments_lexer": "ipython3",
   "version": "3.11.7"
  }
 },
 "nbformat": 4,
 "nbformat_minor": 5
}
