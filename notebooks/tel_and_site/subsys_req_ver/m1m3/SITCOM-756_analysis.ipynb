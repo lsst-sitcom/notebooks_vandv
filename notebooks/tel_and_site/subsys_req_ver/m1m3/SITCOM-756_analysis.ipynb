{
 "cells": [
  {
   "cell_type": "code",
   "execution_count": 1,
   "id": "daecd481-e4cc-4c8b-a2ba-c69795495e47",
   "metadata": {
    "execution": {
     "iopub.execute_input": "2024-05-21T23:51:45.980222Z",
     "iopub.status.busy": "2024-05-21T23:51:45.979802Z",
     "iopub.status.idle": "2024-05-21T23:51:51.897242Z",
     "shell.execute_reply": "2024-05-21T23:51:51.896698Z",
     "shell.execute_reply.started": "2024-05-21T23:51:45.980207Z"
    }
   },
   "outputs": [],
   "source": [
    "# %matplotlib inline\n",
    "from astropy.time import Time\n",
    "from lsst.summit.utils.efdUtils import makeEfdClient, getEfdData\n",
    "import matplotlib.dates as mdates\n",
    "import matplotlib.pyplot as plt\n",
    "import matplotlib.colors as mcolors\n",
    "from lsst_efd_client import EfdClient\n",
    "from collections import defaultdict\n",
    "from datetime import datetime, timedelta\n",
    "import numpy as np\n",
    "import pandas as pd\n",
    "from scipy.stats import norm"
   ]
  },
  {
   "cell_type": "markdown",
   "id": "c90a1536-0da1-4518-9950-d74dd39fb1d0",
   "metadata": {},
   "source": [
    "# M1M3 hardpoint repeatability and resolution analysis\n",
    "---"
   ]
  },
  {
   "cell_type": "markdown",
   "id": "47a9672b-ba6a-429a-9c8e-53c39c5901a8",
   "metadata": {},
   "source": [
    "## Overview\n",
    "This notebook is dedicated to the analysis of M1M3 hardpoint repeatability.\n",
    "\n",
    "Data to be analyzed are for the Requirement: \"LVV-11200 LTS-88-REQ-0015-V-01: 3.7.1.3 Hardpoint Displacement Repeatability and Resolution_1\" - https://jira.lsstcorp.org/browse/LVV-11200\n",
    "\n",
    "There are three key deliverables\n",
    "- Plot Force vs. displacement for all actuators.\n",
    "- Make a histogram of the displacement values per actuator.\n",
    "- From the generated plot, measure the Hardpoint displacement repeatability (Average) and its resolution (FWHM) around 0 Newtons.\n",
    "\n",
    "## Querying EFD\n",
    "\n",
    "### Helper Function"
   ]
  },
  {
   "cell_type": "code",
   "execution_count": 2,
   "id": "5dd63d04-1f72-4a91-b28f-31dcf2fdd76b",
   "metadata": {
    "execution": {
     "iopub.execute_input": "2024-05-21T23:51:51.905424Z",
     "iopub.status.busy": "2024-05-21T23:51:51.905305Z",
     "iopub.status.idle": "2024-05-21T23:51:51.910726Z",
     "shell.execute_reply": "2024-05-21T23:51:51.910334Z",
     "shell.execute_reply.started": "2024-05-21T23:51:51.905413Z"
    }
   },
   "outputs": [],
   "source": [
    "async def query_bump_logs_in_chunks(\n",
    "    start_date, end_date, client_name=\"\", chunk_size_days=3,topic_name=\"lsst.sal.MTM1M3.logevent_logMessage\",fields=[\"message\"]\n",
    "):\n",
    "    \"\"\"\n",
    "    Queries the log messages related to bump tests from the EFD in chunks.\n",
    "\n",
    "    Args:\n",
    "        start_date (str): Start date of the query in ISO format (YYYY-MM-DD).\n",
    "        \n",
    "        end_date (str): End date of the query in ISO format (YYYY-MM-DD).\n",
    "        \n",
    "        client_name (str, optional): Name of the EFD client. Defaults to \"\".\n",
    "        \n",
    "        chunk_size_days (int, optional): Number of days per chunk. Defaults to 3.\n",
    "\n",
    "        topic_name (str, optional): SAL topic name to be queried by the client. Defaults to lsst.sal.MTM1M3.logevent_logMessage.\n",
    "\n",
    "        fields (list[str], optional): Fields to be queried by the client. Defaults to [\"message\"].\n",
    "\n",
    "    Returns:\n",
    "        pandas.DataFrame: Concatenated DataFrame containing the queried log messages.\n",
    "    \"\"\"\n",
    "\n",
    "    client = makeClient(client_name)\n",
    "\n",
    "    # Convert start and end dates to datetime objects\n",
    "    start = datetime.fromisoformat(start_date)\n",
    "    end = datetime.fromisoformat(end_date)\n",
    "\n",
    "    # Initialize an empty DataFrame to store concatenated results\n",
    "    all_data = pd.DataFrame()\n",
    "\n",
    "    current_start = start\n",
    "    while current_start < end:\n",
    "        current_end = min(current_start + timedelta(days=chunk_size_days), end)\n",
    "        try:\n",
    "            # Query the data for the current chunk\n",
    "            chunk_data = await client.select_time_series(\n",
    "                topic_name=topic_name,\n",
    "                fields=fields,\n",
    "                start=Time(current_start.isoformat(), format=\"isot\", scale=\"utc\"),\n",
    "                end=Time(current_end.isoformat(), format=\"isot\", scale=\"utc\"),\n",
    "            )\n",
    "            # Concatenate the chunk data to the main DataFrame\n",
    "            all_data = pd.concat([all_data, chunk_data], ignore_index=False)\n",
    "        except Exception as e:\n",
    "            print(\n",
    "                f\"Error querying data from {current_start.isoformat()} to {current_end.isoformat()}: {e}\"\n",
    "            )\n",
    "            continue  # Optionally, continue to the next chunk\n",
    "\n",
    "        # Move to the next chunk\n",
    "        current_start = current_end\n",
    "\n",
    "    return all_data\n",
    "\n",
    "def makeClient(client_name):\n",
    "        # Create the client based on client_name\n",
    "    if client_name == \"summit_efd\":\n",
    "        return makeEfdClient(\"summit_efd\")\n",
    "    elif client_name == \"usdf_efd\":\n",
    "        return makeEfdClient(\"usdf_efd\")\n",
    "    elif client_name == \"idf_efd\":\n",
    "        return makeEfdClient(\"idf_efd\")\n",
    "    else:\n",
    "        return makeEfdClient()  # Default client\n",
    "\n",
    "\n",
    "# Example usage:\n",
    "# begin = \"2023-11-13T01:00\"\n",
    "# end = \"2023-12-21T01:00\"\n",
    "# bump_logs = await query_bump_logs_in_chunks(begin, end, client_name='')\n",
    "\n",
    "def showAndClear():\n",
    "    plt.show()\n",
    "    # Clear the current axes.\n",
    "    plt.cla() \n",
    "    # Clear the current figure.\n",
    "    plt.clf() \n",
    "    # Closes all the figure windows.\n",
    "    plt.close('all')   \n",
    "    plt.close(fig)\n",
    "    \n",
    "    return"
   ]
  },
  {
   "cell_type": "markdown",
   "id": "d8fcc275-e00d-4108-b178-082c57db74f4",
   "metadata": {},
   "source": [
    "## Let's take a look at the topics, so that we can get an idea of what we need to query"
   ]
  },
  {
   "cell_type": "code",
   "execution_count": 3,
   "id": "60e5e2c8-b86e-4353-8278-73a8cc8e0ebe",
   "metadata": {
    "execution": {
     "iopub.execute_input": "2024-05-21T23:51:51.911616Z",
     "iopub.status.busy": "2024-05-21T23:51:51.911476Z",
     "iopub.status.idle": "2024-05-21T23:51:52.357155Z",
     "shell.execute_reply": "2024-05-21T23:51:52.356761Z",
     "shell.execute_reply.started": "2024-05-21T23:51:51.911605Z"
    }
   },
   "outputs": [],
   "source": [
    "client = makeClient(\"usdf_efd\")\n",
    "\n",
    "a = await client.get_topics() "
   ]
  },
  {
   "cell_type": "code",
   "execution_count": 4,
   "id": "f5b4bbb1-b7c0-4e32-b041-e23f8c5dfa06",
   "metadata": {
    "execution": {
     "iopub.execute_input": "2024-05-21T23:51:52.357846Z",
     "iopub.status.busy": "2024-05-21T23:51:52.357689Z",
     "iopub.status.idle": "2024-05-21T23:51:52.359810Z",
     "shell.execute_reply": "2024-05-21T23:51:52.359456Z",
     "shell.execute_reply.started": "2024-05-21T23:51:52.357833Z"
    },
    "scrolled": true
   },
   "outputs": [],
   "source": [
    "# for entry in a:\n",
    "#     if entry.__contains__(\"lsst.sal.MTM1M3\"):# and entry.__contains__(\"isplace\"):\n",
    "        # print(entry)"
   ]
  },
  {
   "cell_type": "markdown",
   "id": "485b628d-0a42-48b1-98f2-121f8f903fa1",
   "metadata": {},
   "source": [
    "### Possibilities for the SAL data\n",
    "\n",
    "- lsst.sal.MTM1M3.forceActuatorData\n",
    "- lsst.sal.MTM1M3.forceActuatorPressure\n",
    "- lsst.sal.MTM1M3.hardpointActuatorData\n",
    "- lsst.sal.MTM1M3.hardpointMonitorData"
   ]
  },
  {
   "cell_type": "code",
   "execution_count": 5,
   "id": "73246a12-546b-46d1-a28f-3eaa53e2ed3f",
   "metadata": {
    "execution": {
     "iopub.execute_input": "2024-05-21T23:51:52.373933Z",
     "iopub.status.busy": "2024-05-21T23:51:52.373812Z",
     "iopub.status.idle": "2024-05-21T23:51:52.375672Z",
     "shell.execute_reply": "2024-05-21T23:51:52.375321Z",
     "shell.execute_reply.started": "2024-05-21T23:51:52.373923Z"
    },
    "scrolled": true
   },
   "outputs": [],
   "source": [
    "# await client.get_fields(\"lsst.sal.MTM1M3.hardpointActuatorData\")"
   ]
  },
  {
   "cell_type": "code",
   "execution_count": 6,
   "id": "e5e82b2a-4dbc-4218-bfe5-1cbdd51ed94c",
   "metadata": {
    "execution": {
     "iopub.execute_input": "2024-05-21T23:51:53.191994Z",
     "iopub.status.busy": "2024-05-21T23:51:53.191707Z",
     "iopub.status.idle": "2024-05-21T23:51:53.194585Z",
     "shell.execute_reply": "2024-05-21T23:51:53.194152Z",
     "shell.execute_reply.started": "2024-05-21T23:51:53.191980Z"
    }
   },
   "outputs": [],
   "source": [
    "starts = [\"2023-11-27T21:25:26\",\"2023-11-28T20:40:38\",\"2023-12-04T21:32:18\",\"2023-12-07T03:34:44\"] # From https://lsstc.slack.com/archives/C0567AY64AC/p1715789391584609?thread_ts=1715786982.696169&cid=C0567AY64AC\n",
    "ends = [\"2023-11-27T22:41:17\",\"2023-11-28T21:56:28\",\"2023-12-04T22:45:06\",\"2023-12-07T04:48:29\"]"
   ]
  },
  {
   "cell_type": "code",
   "execution_count": 7,
   "id": "4ae7bae4-fbc6-4b72-a8c1-c5485835a911",
   "metadata": {
    "execution": {
     "iopub.execute_input": "2024-05-21T23:51:53.737732Z",
     "iopub.status.busy": "2024-05-21T23:51:53.737246Z",
     "iopub.status.idle": "2024-05-21T23:51:53.739988Z",
     "shell.execute_reply": "2024-05-21T23:51:53.739560Z",
     "shell.execute_reply.started": "2024-05-21T23:51:53.737717Z"
    }
   },
   "outputs": [],
   "source": [
    "colnames =  [\"displacement\",\"measuredForce\"]\n",
    "colors = [\"#e01616\",\"#f6f40b\",\"#2affbb\",\"#123cdf\",\"#e51983\",\"#2b8221\"]"
   ]
  },
  {
   "cell_type": "code",
   "execution_count": 8,
   "id": "bedd57a7-cacb-42da-b011-d8119ba2bb04",
   "metadata": {
    "execution": {
     "iopub.execute_input": "2024-05-21T23:52:01.184239Z",
     "iopub.status.busy": "2024-05-21T23:52:01.183940Z",
     "iopub.status.idle": "2024-05-21T23:52:56.885796Z",
     "shell.execute_reply": "2024-05-21T23:52:56.885442Z",
     "shell.execute_reply.started": "2024-05-21T23:52:01.184222Z"
    }
   },
   "outputs": [
    {
     "name": "stdout",
     "output_type": "stream",
     "text": [
      "Starting query for time range 2023-11-27T21:25:26 - 2023-11-27T22:41:17 . . . Finished\n",
      "Starting query for time range 2023-11-28T20:40:38 - 2023-11-28T21:56:28 . . . Finished\n",
      "Starting query for time range 2023-12-04T21:32:18 - 2023-12-04T22:45:06 . . . Finished\n",
      "Starting query for time range 2023-12-07T03:34:44 - 2023-12-07T04:48:29 . . . Finished\n"
     ]
    }
   ],
   "source": [
    "all_data = pd.DataFrame()\n",
    "for start,end in zip(starts,ends):\n",
    "    print(r\"Starting query for time range {} - {}\".format(start,end),end=\" . . . \")\n",
    "    df_bump = await client.select_time_series(\n",
    "        \"lsst.sal.MTM1M3.hardpointActuatorData\", \n",
    "        \"*\", Time(start), Time(end))\n",
    "    \n",
    "    all_data = pd.concat([all_data, df_bump], ignore_index=False)\n",
    "    \n",
    "    print(\"Finished\")\n",
    "    del df_bump"
   ]
  },
  {
   "cell_type": "markdown",
   "id": "b9018054-8e17-4524-b762-dd168df09f76",
   "metadata": {},
   "source": [
    "### Plot Force vs. displacement for all actuators.\n",
    "- Take displacement values from up and down movements for each actuator that is closest to Force = Zero Newton for all repetitions.\n",
    "- Calculate the average."
   ]
  },
  {
   "cell_type": "code",
   "execution_count": 9,
   "id": "6a8e7d5b-a05c-48c9-8be6-eb41e1bfea6e",
   "metadata": {
    "execution": {
     "iopub.execute_input": "2024-05-21T23:52:56.896872Z",
     "iopub.status.busy": "2024-05-21T23:52:56.896747Z",
     "iopub.status.idle": "2024-05-21T23:54:00.134880Z",
     "shell.execute_reply": "2024-05-21T23:54:00.134431Z",
     "shell.execute_reply.started": "2024-05-21T23:52:56.896862Z"
    },
    "scrolled": true
   },
   "outputs": [],
   "source": [
    "for start,end in zip(starts,ends):\n",
    "    fig,axs = plt.subplots(2,1,sharex=True,dpi=140)\n",
    "    mydf = all_data[np.logical_and(Time(all_data.index.values) >= Time(start),Time(all_data.index.values)<=Time(end))]\n",
    "    for number in range(6):\n",
    "        axs[0].plot(mydf.index.values,mydf[colnames[0]+str(number)],color=colors[number],\n",
    "                    label=r\"Actuator {}\".format(str(number)),marker=\"x\",ls='--')\n",
    "        axs[1].plot(mydf.index.values,mydf[colnames[1]+str(number)],color=colors[number],\n",
    "                    label=r\"Actuator {}\".format(str(number)),marker=\"+\",ls='-.')\n",
    "        \n",
    "    axs[0].legend(ncols=2,fontsize='xx-small')\n",
    "    axs[1].legend(ncols=2,fontsize='xx-small')\n",
    "    axs[0].set_ylabel(\"Displacement\")\n",
    "    axs[1].set_ylabel(\"Force\")\n",
    "    for a in axs:\n",
    "        a.xaxis.set_major_locator(mdates.MinuteLocator(interval = 15))\n",
    "        a.xaxis.set_major_formatter(mdates.DateFormatter('%H:%M'))\n",
    "        a.grid()\n",
    "\n",
    "    axs[1].set_xlabel(\"Date\")\n",
    "\n",
    "    fig.tight_layout()\n",
    "    \n",
    "    fig.savefig(r\"/home/s/seanmacb/SITCOM/SITCOM-756/{}_actuator_m1m3.jpg\".format(start))\n",
    "\n",
    "    # showAndClear()"
   ]
  },
  {
   "cell_type": "markdown",
   "id": "114bfcb3-cb7a-4183-a6b2-eec6fdf28c62",
   "metadata": {},
   "source": [
    "#### That looks okay, but it would be nice to mask these figures"
   ]
  },
  {
   "cell_type": "code",
   "execution_count": 10,
   "id": "79f9c2f2-1464-4a32-8371-02d537a412a7",
   "metadata": {
    "editable": true,
    "execution": {
     "iopub.execute_input": "2024-05-21T23:54:00.146799Z",
     "iopub.status.busy": "2024-05-21T23:54:00.146636Z",
     "iopub.status.idle": "2024-05-21T23:55:29.485285Z",
     "shell.execute_reply": "2024-05-21T23:55:29.484799Z",
     "shell.execute_reply.started": "2024-05-21T23:54:00.146785Z"
    },
    "scrolled": true,
    "slideshow": {
     "slide_type": ""
    },
    "tags": []
   },
   "outputs": [],
   "source": [
    "for start,end in zip(starts,ends):\n",
    "    fig,axs = plt.subplots(2,1,sharex=True,dpi=140)\n",
    "    mydf = all_data[np.logical_and(Time(all_data.index.values) >= Time(start),Time(all_data.index.values)<=Time(end))]\n",
    "    for number in range(6):\n",
    "        date_range = mydf[np.abs(np.diff(mydf[colnames[0]+str(number)],prepend=mydf[colnames[0]+str(number)].iloc[0])) != 0].index.values\n",
    "        # first dated test for actuator 1 has one point that does not meet the above criteria for masking...\n",
    "        # popping the last element off with this conditional\n",
    "        if number == 1 and start==starts[0]:\n",
    "            date_range = date_range[:-1]\n",
    "            \n",
    "        min_date, max_date = np.min(date_range),np.max(date_range)\n",
    "        \n",
    "        finaldf = mydf[np.logical_and(Time(mydf.index.values) >= Time(min_date),Time(mydf.index.values)<=Time(max_date))]\n",
    "\n",
    "        \n",
    "        axs[0].plot(finaldf.index.values,finaldf[colnames[0]+str(number)],color=colors[number],\n",
    "                    label=r\"Actuator {}\".format(str(number)),marker=\"x\",ls='--')\n",
    "        axs[1].plot(finaldf.index.values,finaldf[colnames[1]+str(number)],color=colors[number],\n",
    "                    label=r\"Actuator {}\".format(str(number)),marker=\"+\",ls='-.')\n",
    "        \n",
    "    axs[0].set_ylabel(\"Displacement\")\n",
    "    axs[1].set_ylabel(\"Force\")\n",
    "    for a in axs:\n",
    "        a.xaxis.set_major_locator(mdates.MinuteLocator(interval = 15))\n",
    "        a.xaxis.set_major_formatter(mdates.DateFormatter('%H:%M'))\n",
    "        a.grid()\n",
    "        a.legend(ncols=2,fontsize='xx-small')\n",
    "\n",
    "    axs[1].set_xlabel(\"Date\")\n",
    "\n",
    "    fig.tight_layout()\n",
    "    \n",
    "    fig.savefig(r\"/home/s/seanmacb/SITCOM/SITCOM-756/{}_actuator_m1m3_masked.jpg\".format(start))\n",
    "\n",
    "    # showAndClear()"
   ]
  },
  {
   "cell_type": "markdown",
   "id": "311d9913-b2fb-42dc-b405-3e50d2aa184a",
   "metadata": {
    "editable": true,
    "slideshow": {
     "slide_type": ""
    },
    "tags": []
   },
   "source": [
    "### Make a histogram of the displacement values per actuator.\n",
    "\n",
    "- Fit a Gaussian distribution and determine the FWHM\n",
    "- Plot a limit lines at 2um"
   ]
  },
  {
   "cell_type": "code",
   "execution_count": 11,
   "id": "56e266a8-11ea-4cb2-b934-fe41911892f6",
   "metadata": {
    "execution": {
     "iopub.execute_input": "2024-05-21T23:55:29.486114Z",
     "iopub.status.busy": "2024-05-21T23:55:29.485962Z",
     "iopub.status.idle": "2024-05-21T23:55:29.488953Z",
     "shell.execute_reply": "2024-05-21T23:55:29.488560Z",
     "shell.execute_reply.started": "2024-05-21T23:55:29.486103Z"
    }
   },
   "outputs": [],
   "source": [
    "def fitGaussian(data,ax):\n",
    "    mu, std = norm.fit(data) \n",
    "    \n",
    "    xmin, xmax = ax.get_xlim()\n",
    "    x = np.linspace(np.floor(xmin), np.ceil(xmax), int(10E4))\n",
    "    p = norm.pdf(x, mu, std)\n",
    "\n",
    "    return mu,std,p,x,xmin,xmax"
   ]
  },
  {
   "cell_type": "code",
   "execution_count": 12,
   "id": "fd1d1e4d-8f7e-4507-a971-52200cdf06df",
   "metadata": {
    "execution": {
     "iopub.execute_input": "2024-05-21T23:55:29.489643Z",
     "iopub.status.busy": "2024-05-21T23:55:29.489498Z",
     "iopub.status.idle": "2024-05-21T23:55:29.495036Z",
     "shell.execute_reply": "2024-05-21T23:55:29.494634Z",
     "shell.execute_reply.started": "2024-05-21T23:55:29.489631Z"
    }
   },
   "outputs": [],
   "source": [
    "colname = colnames[0]"
   ]
  },
  {
   "cell_type": "code",
   "execution_count": 13,
   "id": "6221d909-dbbe-4d96-83b7-66fc6d6358f4",
   "metadata": {
    "editable": true,
    "execution": {
     "iopub.execute_input": "2024-05-21T23:55:29.510290Z",
     "iopub.status.busy": "2024-05-21T23:55:29.510167Z",
     "iopub.status.idle": "2024-05-21T23:56:59.377002Z",
     "shell.execute_reply": "2024-05-21T23:56:59.376513Z",
     "shell.execute_reply.started": "2024-05-21T23:55:29.510281Z"
    },
    "scrolled": true,
    "slideshow": {
     "slide_type": ""
    },
    "tags": []
   },
   "outputs": [],
   "source": [
    "for start,end in zip(starts,ends):\n",
    "    fig,ax = plt.subplots(dpi=140)\n",
    "    mydf = all_data[np.logical_and(Time(all_data.index.values) >= Time(start),Time(all_data.index.values)<=Time(end))]\n",
    "    \n",
    "    ymax_final = 0\n",
    "    mu_arr,std_arr = np.array([]),np.array([])\n",
    "    \n",
    "    for number in range(6):\n",
    "        date_range = mydf[np.abs(np.diff(mydf[colname+str(number)],prepend=mydf[colname+str(number)].iloc[0])) != 0].index.values\n",
    "        # first dated test for actuator 1 has one point that does not meet the above criteria for masking...\n",
    "        # popping the last element off with this conditional\n",
    "        if number == 1 and start==starts[0]:\n",
    "            date_range = date_range[:-1]\n",
    "            \n",
    "        min_date, max_date = np.min(date_range),np.max(date_range)\n",
    "        \n",
    "        finaldf = mydf[np.logical_and(Time(mydf.index.values) >= Time(min_date),Time(mydf.index.values)<=Time(max_date))]\n",
    "\n",
    "        # plot a histogram\n",
    "\n",
    "        ax.hist(finaldf[colname+str(number)],bins=250,  alpha=0.8, color=colors[number])\n",
    "\n",
    "        \n",
    "        # Fit a gaussian to it \n",
    "\n",
    "        mu,std,p,x,xmin,xmax = fitGaussian(finaldf[colname+str(number)],ax)\n",
    "\n",
    "        mu_arr,std_arr = np.append(mu_arr,mu),np.append(std_arr,std)\n",
    "\n",
    "        ax.plot(x, p, linewidth=2,label=\"Actuator {}: $\\mu$={:.4f}, $\\sigma$={:.4f}\".format(number,mu, std),color=colors[number])\n",
    "\n",
    "    __,ymax = ax.get_ylim()\n",
    "    # Plot vertical lines here\n",
    "    for number in range(6):\n",
    "        ax.vlines(mu_arr[number],0,1.2*ymax,color=colors[number],ls ='--')\n",
    "        # Plot two additional vertical lines below\n",
    "        for sig in range(1,3): # This might just be 2 micron, so wait to see what comes of it...\n",
    "            ax.vlines(mu_arr[number]+std_arr[number]*sig,0,1.2*ymax_final,color=colors[number],ls ='--')\n",
    "            ax.vlines(mu_arr[number]-std_arr[number]*sig,0,1.2*ymax_final,color=colors[number],ls ='--')\n",
    "        \n",
    "    ax.grid()\n",
    "    ax.set_ylabel(\"Frequency\")\n",
    "    ax.set_xlabel(\"Displacement\")\n",
    "    ax.set_title(r\"{} - {}\".format(start,end))\n",
    "    ax.set_xlim(-6*std_arr.max(),6*std_arr.max())\n",
    "    ax.legend(loc=\"upper right\")\n",
    "    ax.set_ylim(0,1.1*ymax)\n",
    "    fig.tight_layout()\n",
    "\n",
    "    fig.savefig(r\"/home/s/seanmacb/SITCOM/SITCOM-756/{}_actuator_m1m3_histogram_allActuators.jpg\".format(start))\n",
    "\n",
    "    # showAndClear()"
   ]
  },
  {
   "cell_type": "code",
   "execution_count": 14,
   "id": "20bead52-7b12-4e26-9b05-ff6402d037e2",
   "metadata": {
    "execution": {
     "iopub.execute_input": "2024-05-21T23:56:59.377759Z",
     "iopub.status.busy": "2024-05-21T23:56:59.377604Z",
     "iopub.status.idle": "2024-05-21T23:56:59.379800Z",
     "shell.execute_reply": "2024-05-21T23:56:59.379373Z",
     "shell.execute_reply.started": "2024-05-21T23:56:59.377747Z"
    }
   },
   "outputs": [],
   "source": [
    "# Repeat the above plot, but now have the figs be of the individual actuators and the data from their runs\n",
    "\n"
   ]
  },
  {
   "cell_type": "markdown",
   "id": "5179b747-94e3-43e3-ba11-f074117f810c",
   "metadata": {},
   "source": [
    "# From the generated plot, measure the Hardpoint displacement repeatability (Average) and its resolution (FWHM) around 0 Newtons."
   ]
  },
  {
   "cell_type": "code",
   "execution_count": null,
   "id": "b29eb94d-36a8-46c9-9daf-3424e4128d5d",
   "metadata": {},
   "outputs": [],
   "source": []
  },
  {
   "cell_type": "code",
   "execution_count": null,
   "id": "1c54e6af-bc09-41d9-a442-c8c1ba6d5860",
   "metadata": {},
   "outputs": [],
   "source": []
  }
 ],
 "metadata": {
  "kernelspec": {
   "display_name": "LSST",
   "language": "python",
   "name": "lsst"
  },
  "language_info": {
   "codemirror_mode": {
    "name": "ipython",
    "version": 3
   },
   "file_extension": ".py",
   "mimetype": "text/x-python",
   "name": "python",
   "nbconvert_exporter": "python",
   "pygments_lexer": "ipython3",
   "version": "3.11.7"
  }
 },
 "nbformat": 4,
 "nbformat_minor": 5
}
