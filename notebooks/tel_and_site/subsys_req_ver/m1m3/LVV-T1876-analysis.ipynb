{
 "cells": [
  {
   "cell_type": "markdown",
   "id": "7c235e45-d932-432a-b473-f72774f97a37",
   "metadata": {},
   "source": [
    "# [LVV-T1876] - Settling Time After a Slew\n",
    "\n",
    "Notebook containing data analysis for the [LVV-T1876] test case.  \n",
    "~The script used to run this test case can be found in [lsst-ts/ts_m1m3supporttesting/M13T012.py].~\n",
    "\n",
    "\n",
    "[LVV-T1876]: https://jira.lsstcorp.org/secure/Tests.jspa#/testCase/2237\n",
    "[lsst-ts/ts_m1m3supporttesting/M13T012.py]: https://github.com/lsst-ts/ts_m1m3supporttesting/blob/develop/M13T012.py\n",
    "\n",
    "\n",
    "see [LVV-T2732_analysis_mt_encoder_slew_jitter.ipynb] for jitter  ideas?\n",
    "\n",
    "[LVV-T2732_analysis_mt_encoder_slew_jitter.ipynb]: https://github.com/lsst-sitcom/notebooks_vandv/blob/develop/notebooks/tel_and_site/subsys_req_ver/tma/LVV-T2732_analysis_mt_encoder_slew_jitter.ipynb\n",
    "\n",
    "Some pending items(June 8th 2023) --> add as issues:\n",
    "1. Get some RMS requirements \n",
    "2. Tweak parameters for stationarity, for a robust measurement\n",
    "\n",
    "\n",
    "### Prepare Notebook"
   ]
  },
  {
   "cell_type": "code",
   "execution_count": null,
   "id": "9627519e-ef49-41c5-9085-1a7373e7b3c0",
   "metadata": {
    "tags": []
   },
   "outputs": [],
   "source": [
    "%matplotlib inline\n",
    "%load_ext autoreload\n",
    "%autoreload 2"
   ]
  },
  {
   "cell_type": "code",
   "execution_count": null,
   "id": "c3d229f3-648a-4ee3-ac70-8e22bd90e53e",
   "metadata": {
    "tags": []
   },
   "outputs": [],
   "source": [
    "import pandas as pd\n",
    "import matplotlib.pyplot as plt\n",
    "import numpy as np\n",
    "\n",
    "from astropy.time import Time, TimezoneInfo\n",
    "from statsmodels.tsa.stattools import adfuller\n",
    "\n",
    "from lsst.sitcom import vandv\n",
    "from lsst.ts.idl.enums import MTM1M3\n",
    "\n",
    "from lsst.summit.utils.tmaUtils import TMAEventMaker, TMAState\n",
    "from lsst.summit.utils.efdUtils import getEfdData, makeEfdClient"
   ]
  },
  {
   "cell_type": "code",
   "execution_count": null,
   "id": "6fa49a3c-6c77-4d44-939f-b713b1e5ca76",
   "metadata": {
    "tags": []
   },
   "outputs": [],
   "source": [
    "#client = EfdClient('usdf_efd')\n",
    "# create a client to retrieve datasets in the EFD database\n",
    "client = makeEfdClient()"
   ]
  },
  {
   "cell_type": "markdown",
   "id": "58085fea-42ff-43f0-89be-f3a2a1101b42",
   "metadata": {
    "tags": []
   },
   "source": [
    "### Define functions"
   ]
  },
  {
   "cell_type": "markdown",
   "id": "3fa00725-5bff-4894-9892-d67e1368af60",
   "metadata": {
    "tags": []
   },
   "source": [
    "#### determine settling time"
   ]
  },
  {
   "cell_type": "code",
   "execution_count": null,
   "id": "c216de9d-5fa6-4ba5-b4be-e4aec7fecd38",
   "metadata": {
    "tags": []
   },
   "outputs": [],
   "source": [
    "def determineSettleTime(df_ims, #input data frame\n",
    "                        reference_t = '2023-06-01T06:00:0Z', #time for slew stop\n",
    "                        lo_delta_t = 5, #in seconds\n",
    "                        hi_delta_t = 30, #in seconds\n",
    "                        imsColumn = 'xPosition', #IMS column\n",
    "                        rmsReq = 1e-2, #requirement in appropriate units\n",
    "                        req_delta_t = 3): #time for settling, in seconds\n",
    "    \n",
    "    #T0 and T1 defines the window for requirement to be met\n",
    "    T0 = pd.to_datetime(reference_t)\n",
    "    T1 = T0 + pd.to_timedelta(req_delta_t,unit='s')\n",
    "    # delta_window is the time window for plot and reference for mean, before and after T0\n",
    "    delta_window = [pd.Timedelta(lo_delta_t, \"seconds\"),pd.Timedelta(hi_delta_t, \"seconds\")] \n",
    "\n",
    "    if 'Position' in imsColumn:\n",
    "        units = 'mm'\n",
    "    else:\n",
    "        units = 'deg'\n",
    "\n",
    "    #zoom around the T0 of interest\n",
    "    TZoom = [T0-delta_window[0],  \n",
    "            T0+delta_window[1]] \n",
    "    \n",
    "    targetVariablePlot = df_ims[imsColumn][TZoom[0]:TZoom[1]] #complete plot range\n",
    "    targetVariable = df_ims[imsColumn][T0:T1] #from slew stop to end of window\n",
    "    idxT0 = df_ims.index[df_ims.index.get_indexer([pd.to_datetime(T0)], method='nearest')]\n",
    "    targetVariableReference = [df_ims[imsColumn][idxT0],df_ims[imsColumn][-1]] #at slew stop and end of plot\n",
    "    \n",
    "    if len(targetVariablePlot.index) == 0:\n",
    "        print('Data frame is empty')\n",
    "        return -1\n",
    "    \n",
    "    rms = np.std(targetVariable-targetVariableReference[1]) #rms of difference wrt to end of plot, in window\n",
    "\n",
    "    title = imsColumn\n",
    "    label = imsColumn + '(' + units +') wrt T0 (slew stop)'\n",
    "\n",
    "    fig = plt.figure()\n",
    "    plt.plot(targetVariablePlot-targetVariableReference[0][0],color='red', lw=\"0.5\", label=label)\n",
    "    plt.axvline(T0, lw=\"2\", c=\"k\", label='Slew stop')\n",
    "    #plt.axhline(-req)\n",
    "    #plt.axhline(req)\n",
    "    plt.xlabel(\"Time [UTC]\")\n",
    "    plt.ylabel(label)\n",
    "    plt.text(0.55, 0.90, 'RMS =' + ' {:.2e} '.format(rms) + units + \n",
    "             ' \\nin 3s window, wrt end of plot', \n",
    "             transform=fig.transFigure)\n",
    "    fig.autofmt_xdate()\n",
    "    fig.tight_layout()\n",
    "\n",
    "    ## recomputing RMS for the whole range since T0\n",
    "    targetVariable = df_ims[imsColumn][T0:TZoom[1]]\n",
    "    rms = (targetVariable - targetVariableReference[1]).rolling(20).std()\n",
    "    plt.plot(rms, label='RMS wrt value at the end of plot, from T0')\n",
    "    plt.axvspan(T0, T1, alpha=0.5, color='green', label='3s tolerance window')\n",
    "    plt.legend(loc=\"upper right\")\n",
    "    #print(rms)\n",
    "\n",
    "    ## compute time for settling\n",
    "    fig = plt.figure()    \n",
    "    rms = rms.dropna() # remove NaNs created by the rolling function\n",
    "    lapse = 100 # to be adjusted\n",
    "    pvalue = 0.05 ## if lower, less tolerant to finding stationarity, to be adjusted\n",
    "    k= 0\n",
    "    for i in range(0,len(rms)-lapse):\n",
    "        adf = adfuller(rms[i:i+lapse], autolag='AIC')\n",
    "        if adf[1] < pvalue: # is non-stationary if null hypothesis is true (large p-value)\n",
    "            print(i, i+lapse, adf[1], pvalue)\n",
    "            k = i+lapse\n",
    "            print(rms.index[i], rms.index[k])\n",
    "            break\n",
    "\n",
    "    plt.plot(rms)\n",
    "    plt.xlabel(\"Time [UTC]\")\n",
    "    plt.ylabel('RMS wrt value at the end of plot (mm)')    \n",
    "    fig.autofmt_xdate()\n",
    "    fig.tight_layout()\n",
    "    plt.text(0.50, 0.93, 'Slew stop =' + t1.strftime('%H:%M:%S.%f'), transform=fig.transFigure)        \n",
    "    plt.text(0.50, 0.90, 'Settling time (ADF test) =' + rms.index[k].strftime('%H:%M:%S.%f'), transform=fig.transFigure)        \n",
    "\n",
    "    return rms.index[k]\n",
    "    "
   ]
  },
  {
   "cell_type": "markdown",
   "id": "c741d971-c0c5-48eb-b99d-553650ccc406",
   "metadata": {
    "jp-MarkdownHeadingCollapsed": true,
    "tags": []
   },
   "source": [
    "#### compare IMS vs mount data"
   ]
  },
  {
   "cell_type": "code",
   "execution_count": null,
   "id": "06e3bbe4-4417-49a4-b471-379dda7babde",
   "metadata": {
    "tags": []
   },
   "outputs": [],
   "source": [
    "def compareIMSMount(df_ims,\n",
    "                   df_mtmount_ele,\n",
    "                   df_mtmount_azi,\n",
    "                   reference_t = '2023-06-01 06:53:37.326',\n",
    "                   lo_delta_t = 5, #in seconds\n",
    "                   hi_delta_t = 30, #in seconds\n",
    "                   correct_tai = False): \n",
    "    \n",
    "    tai_delta = 0\n",
    "    if correct_tai:\n",
    "        tai_delta = 37\n",
    "    \n",
    "    fig,axs = plt.subplots(5,1, dpi=125, figsize=(6,8))\n",
    "    t_start_plot = pd.to_datetime(reference_t) \\\n",
    "        + pd.to_timedelta(tai_delta,unit='s') - pd.to_timedelta(lo_delta_t,unit='s') ##correcting by hand for TAI, is this correct?\n",
    "    t_end_plot = pd.to_datetime(reference_t) \\\n",
    "        + pd.to_timedelta(tai_delta,unit='s') + pd.to_timedelta(hi_delta_t,unit='s')\n",
    "    print('reference_t:',reference_t)\n",
    "    print('t_start:',t_start_plot)\n",
    "    print('t_end:',t_end_plot)\n",
    "\n",
    "    ax = axs[0]\n",
    "    #print(df_mtmount_ele['actualPosition'])\n",
    "    actpos_ele = df_mtmount_ele['actualPosition'][t_start_plot:t_end_plot]\n",
    "    print(actpos_ele)\n",
    "    ax.plot(actpos_ele,color='red', lw=\"0.5\")\n",
    "    #ax.axvline(pd.to_datetime(slew_stop)+ pd.to_timedelta(37,unit='s'), lw=\"0.5\", c=\"k\")\n",
    "    ax.set_ylabel(\"Elevation Position\\n[deg]\")\n",
    "\n",
    "    ax = axs[1]\n",
    "    actpos_azi = df_mtmount_azi['actualPosition'][t_start_plot:t_end_plot]\n",
    "    ax.plot(actpos_azi,color='red', lw=\"0.5\")\n",
    "    ax.set_ylabel(\"Azimuth Position\\n[deg]\")\n",
    "\n",
    "    t_start_plot = pd.to_datetime(reference_t) - pd.to_timedelta(lo_delta_t,unit='s') \n",
    "    t_end_plot = pd.to_datetime(reference_t) + pd.to_timedelta(hi_delta_t,unit='s')\n",
    "    \n",
    "    plotstring = ['xPosition','yPosition','zPosition']\n",
    "    plotrange = np.arange(len(plotstring))    \n",
    "    for i in plotrange:\n",
    "        ax = axs[i+2]\n",
    "        pos = df_ims[plotstring[i]][t_start_plot:t_end_plot]\n",
    "        ax.plot(pos,color='red', lw=\"0.5\")\n",
    "        ax.set_ylabel(plotstring[i] + ' in mm')\n",
    "    ax.set_xlabel('UTC')\n",
    "    fig.autofmt_xdate()"
   ]
  },
  {
   "cell_type": "markdown",
   "id": "1616eac9-8801-4ff5-9dea-33abed4bb005",
   "metadata": {
    "tags": []
   },
   "source": [
    "### Get slew stops"
   ]
  },
  {
   "cell_type": "markdown",
   "id": "96d4f39d-3a2f-4809-ab52-b979bcd1119a",
   "metadata": {
    "execution": {
     "iopub.execute_input": "2023-06-23T11:35:18.658349Z",
     "iopub.status.busy": "2023-06-23T11:35:18.658078Z",
     "iopub.status.idle": "2023-06-23T11:35:18.709696Z",
     "shell.execute_reply": "2023-06-23T11:35:18.709264Z",
     "shell.execute_reply.started": "2023-06-23T11:35:18.658330Z"
    },
    "jp-MarkdownHeadingCollapsed": true,
    "tags": []
   },
   "source": [
    "#### Old way"
   ]
  },
  {
   "cell_type": "code",
   "execution_count": null,
   "id": "64a2f949-b415-49d5-8e0c-c0cf66b349d0",
   "metadata": {
    "tags": []
   },
   "outputs": [],
   "source": [
    "##identify a slew stop\n",
    "starts,stops, maxv=identify_slews.get_slews_edge_detection(mtmount[\"timestamp\"],mtmount[\"actualVelocity\"])\n",
    "starts,stops = identify_slews.get_slew_pairs(starts,stops)"
   ]
  },
  {
   "cell_type": "code",
   "execution_count": null,
   "id": "5ce1d1fb-d122-4587-a93d-ed87c76def6b",
   "metadata": {
    "tags": []
   },
   "outputs": [],
   "source": [
    "#from lsst.sitcom import vandv\n",
    "#start = Time(\"2023-06-01T06:00:55\", scale='utc')\n",
    "#end = Time(\"2023-06-01T09:09:58\", scale='utc')\n",
    "#az = await client.select_time_series('lsst.sal.MTMount.azimuth', \\\n",
    "#                                            ['actualPosition','actualVelocity', 'timestamp'],  start, end)\n",
    "#el = await client.select_time_series('lsst.sal.MTMount.elevation', \\\n",
    "#                                        ['actualPosition','actualVelocity', 'timestamp'],  start, end)\n",
    "#el_starts,el_stops = vandv.mount.get_slew_from_mtmount(el)\n",
    "\n",
    "#print(Time(el_stops, format=\"unix\").iso)   \n",
    "\n",
    "stops_v1 = ['2023-06-01 06:45:39.978','2023-06-01 06:53:37.326',\n",
    "         '2023-06-01 07:22:22.723','2023-06-01 07:36:40.422',\n",
    "         '2023-06-01 07:50:58.814','2023-06-01 08:05:17.119',\n",
    "         '2023-06-01 08:19:03.799','2023-06-01 08:34:19.955',\n",
    "         '2023-06-01 08:47:56.442','2023-06-01 09:01:33.275']\n",
    "\n",
    "el_stops = ['2023-06-01 06:53:36.498', '2023-06-01 07:08:10.938',\n",
    " '2023-06-01 07:22:21.885', '2023-06-01 07:22:29.878',\n",
    " '2023-06-01 07:36:39.694', '2023-06-01 07:36:47.851',\n",
    " '2023-06-01 07:50:57.911', '2023-06-01 07:51:06.064',\n",
    " '2023-06-01 08:05:16.210', '2023-06-01 08:19:03.025',\n",
    " '2023-06-01 08:20:50.933', '2023-06-01 08:34:19.055',\n",
    " '2023-06-01 08:34:26.978', '2023-06-01 08:47:55.580',\n",
    " '2023-06-01 08:48:03.409', '2023-06-01 09:01:32.391',\n",
    " '2023-06-01 09:01:40.310', '2023-05-30 05:00:00'] #elevation stops\n",
    "\n",
    "az_stops =  ['2023-06-01 07:08:02.386', '2023-06-01 07:18:32.843',\n",
    " '2023-06-01 07:22:29.569', '2023-06-01 07:32:50.835',\n",
    " '2023-06-01 07:36:47.452', '2023-06-01 07:47:08.111',\n",
    " '2023-06-01 07:51:05.588', '2023-06-01 08:01:25.757',\n",
    " '2023-06-01 08:20:43.167', '2023-06-01 08:31:21.849',\n",
    " '2023-06-01 08:34:26.969', '2023-06-01 08:44:46.324', \n",
    " '2023-06-01 08:48:03.139', '2023-06-01 08:58:14.787'] #azimuth stops\n",
    "\n",
    "stable = ['2023-05-30 05:00:00']\n"
   ]
  },
  {
   "cell_type": "markdown",
   "id": "a377400f-41c8-4084-bd8b-d5ee3e4cfbfa",
   "metadata": {
    "tags": []
   },
   "source": [
    "#### Using eventMaker"
   ]
  },
  {
   "cell_type": "code",
   "execution_count": null,
   "id": "b66bab89-b2ef-42ae-a73e-ab34e72ea514",
   "metadata": {
    "tags": []
   },
   "outputs": [],
   "source": [
    "# Select data from a given date\n",
    "dayObs = 20230531 \n",
    "eventMaker = TMAEventMaker()\n",
    "events = eventMaker.getEvents(dayObs)\n",
    "\n",
    "# Get lists of slew and track events\n",
    "slews = [e for e in events if e.type==TMAState.SLEWING]\n",
    "tracks = [e for e in events if e.type==TMAState.TRACKING]\n",
    "print(f'Found {len(slews)} slews and {len(tracks)} tracks')"
   ]
  },
  {
   "cell_type": "markdown",
   "id": "decee784-6779-4188-84d7-86727cb7cdb8",
   "metadata": {
    "execution": {
     "iopub.execute_input": "2023-05-29T17:26:26.927448Z",
     "iopub.status.busy": "2023-05-29T17:26:26.927223Z",
     "iopub.status.idle": "2023-05-29T17:26:26.953496Z",
     "shell.execute_reply": "2023-05-29T17:26:26.953042Z",
     "shell.execute_reply.started": "2023-05-29T17:26:26.927433Z"
    },
    "tags": []
   },
   "source": [
    "### Load data"
   ]
  },
  {
   "cell_type": "code",
   "execution_count": null,
   "id": "463c0894-10ba-4d9a-93c0-184577716beb",
   "metadata": {
    "tags": []
   },
   "outputs": [],
   "source": [
    "all_columns = [\"xPosition\", \"xRotation\", \"yPosition\", \"yRotation\", \"zPosition\", \"zRotation\"]\n",
    "pos_columns = [c for c in all_columns if \"Position\" in c]\n",
    "rot_columns = [c for c in all_columns if \"Rotation\" in c]\n",
    "postPadding = 30"
   ]
  },
  {
   "cell_type": "markdown",
   "id": "5a363991-a258-4ff0-be77-33e6ee54dfeb",
   "metadata": {
    "jp-MarkdownHeadingCollapsed": true,
    "tags": []
   },
   "source": [
    "#### Old way"
   ]
  },
  {
   "cell_type": "code",
   "execution_count": null,
   "id": "3bce9857-42c0-4b00-ae7d-776d4c061474",
   "metadata": {
    "tags": []
   },
   "outputs": [],
   "source": [
    "#old way\n",
    "df_ims = await client.select_time_series(\n",
    "    \"lsst.sal.MTM1M3.imsData\", \n",
    "    \"*\", \n",
    "    Time(t_start, format=\"isot\", scale=\"utc\"),\n",
    "    Time(t_end, format=\"isot\", scale=\"utc\"), \n",
    ")\n",
    "\n",
    "df_ims = df_ims.set_index(\"private_sndStamp\") #time when data was sent to EFD, in TAI\n",
    "df_ims.index = pd.to_datetime(df_ims.index, unit=\"s\")\n",
    "df_ims = df_ims[all_columns]\n",
    "\n",
    "df_ims[pos_columns] = df_ims[pos_columns] * 1e3 #to mm\n",
    "#df_ims[rot_columns] = np.rad2deg(df_ims[rot_columns]) #to degrees"
   ]
  },
  {
   "cell_type": "code",
   "execution_count": null,
   "id": "b5c1e6af-8c83-46b6-b47a-4607aed1c532",
   "metadata": {
    "tags": []
   },
   "outputs": [],
   "source": [
    "df_mtmount_ele = await client.select_time_series(\n",
    "    \"lsst.sal.MTMount.elevation\",\n",
    "    [\"*\"],  \n",
    "    Time(t_start, format=\"isot\", scale=\"utc\"),\n",
    "    Time(t_end, format=\"isot\", scale=\"utc\"), \n",
    ")\n",
    "df_mtmount_ele = df_mtmount_ele.set_index(\"private_sndStamp\") #time when data was sent to EFD, in TAI\n",
    "df_mtmount_ele.index = pd.to_datetime(df_mtmount_ele.index, unit=\"s\")\n",
    "\n",
    "df_mtmount_azi = await client.select_time_series(\n",
    "    \"lsst.sal.MTMount.azimuth\",\n",
    "    [\"*\"],  \n",
    "    Time(t_start, format=\"isot\", scale=\"utc\"),\n",
    "    Time(t_end, format=\"isot\", scale=\"utc\"), \n",
    ")\n",
    "df_mtmount_azi = df_mtmount_azi.set_index(\"private_sndStamp\")\n",
    "df_mtmount_azi.index = pd.to_datetime(df_mtmount_azi.index, unit=\"s\")\n"
   ]
  },
  {
   "cell_type": "markdown",
   "id": "afc7c80a-7803-4b16-82a0-a8ccd95453c2",
   "metadata": {
    "tags": []
   },
   "source": [
    "#### Using eventMaker "
   ]
  },
  {
   "cell_type": "code",
   "execution_count": null,
   "id": "35cbd2fa-09bc-4db0-affc-d801cff75a4c",
   "metadata": {
    "tags": []
   },
   "outputs": [],
   "source": [
    "i_slew = 4\n",
    "t0 = pd.to_datetime(slews[i_slew].beginFloat, unit=\"s\", utc=True)\n",
    "t1 = pd.to_datetime(slews[i_slew].endFloat, unit=\"s\", utc=True)\n",
    "print('Slew stop at:',t1)"
   ]
  },
  {
   "cell_type": "code",
   "execution_count": null,
   "id": "9048573c-6e49-42f2-a2aa-69db1b434040",
   "metadata": {
    "tags": []
   },
   "outputs": [],
   "source": [
    "# Get ims data\n",
    "df_ims = getEfdData(client, 'lsst.sal.MTM1M3.imsData', \n",
    "                    event=slews[i_slew]) \n",
    "print(df_ims.index[-1])\n",
    "print(t1)\n",
    "print((t1-df_ims.index[-1]).total_seconds()+postPadding)\n",
    "# I need to call it a second timeto pad at the end, based on the previous call\n",
    "df_ims = getEfdData(client, 'lsst.sal.MTM1M3.imsData', \n",
    "                    event=slews[i_slew], \n",
    "                    postPadding = (t1-df_ims.index[-1]).total_seconds()+postPadding)\n",
    "df_ims = df_ims[all_columns]\n",
    "# Convert meter to milimeter \n",
    "df_ims[pos_columns] = df_ims[pos_columns] * 1e3\n",
    "print(df_ims.index[-1])\n"
   ]
  },
  {
   "cell_type": "code",
   "execution_count": null,
   "id": "064cdaad-08d1-46a5-b391-862fb96a6dce",
   "metadata": {
    "tags": []
   },
   "outputs": [],
   "source": [
    "# Get mount data\n",
    "df_mtmount_ele = getEfdData(client,'lsst.sal.MTMount.elevation', event=slews[i_slew])\n",
    "df_mtmount_azi = getEfdData(client,'lsst.sal.MTMount.azimuth', event=slews[i_slew])"
   ]
  },
  {
   "cell_type": "markdown",
   "id": "b5d91fe4-7273-4fde-babb-ad50fe299d6d",
   "metadata": {
    "jp-MarkdownHeadingCollapsed": true,
    "tags": []
   },
   "source": [
    "### Look at data"
   ]
  },
  {
   "cell_type": "code",
   "execution_count": null,
   "id": "3552f9c2-2a0b-47cd-9d27-d89b0064219b",
   "metadata": {
    "tags": []
   },
   "outputs": [],
   "source": [
    "%matplotlib inline\n",
    "compareIMSMount(df_ims,df_mtmount_ele,df_mtmount_azi,\n",
    "                t0,0,t1-t0+pd.to_timedelta(postPadding, unit=\"s\"),correct_tai=False)"
   ]
  },
  {
   "cell_type": "code",
   "execution_count": null,
   "id": "508c72c9-7f90-447a-929d-8f3c37e916bb",
   "metadata": {
    "tags": []
   },
   "outputs": [],
   "source": [
    "compareIMSMount(df_ims,df_mtmount_ele,df_mtmount_azi,el_stops[0],5,15,correct_tai=True)"
   ]
  },
  {
   "cell_type": "markdown",
   "id": "e608982d-ca62-4968-b83f-c0c7e8bd3022",
   "metadata": {
    "execution": {
     "iopub.execute_input": "2023-05-29T17:28:18.701852Z",
     "iopub.status.busy": "2023-05-29T17:28:18.701639Z",
     "iopub.status.idle": "2023-05-29T17:28:18.728001Z",
     "shell.execute_reply": "2023-05-29T17:28:18.727553Z",
     "shell.execute_reply.started": "2023-05-29T17:28:18.701838Z"
    },
    "tags": []
   },
   "source": [
    "### Run test"
   ]
  },
  {
   "cell_type": "code",
   "execution_count": null,
   "id": "044913db-6728-4b3e-a090-0425f7eb2737",
   "metadata": {
    "tags": []
   },
   "outputs": [],
   "source": [
    "req_delta_t = 3 ## seconds\n",
    "req_rms = 1e-2 "
   ]
  },
  {
   "cell_type": "code",
   "execution_count": null,
   "id": "29e51adf-509c-47f3-a402-ce62df4cd80a",
   "metadata": {
    "tags": []
   },
   "outputs": [],
   "source": [
    "#%%capture --no-display \n",
    "determineSettleTime(df_ims = df_ims, \n",
    "                    reference_t = t1, \n",
    "                    lo_delta_t = 5,\n",
    "                    hi_delta_t = postPadding,\n",
    "                    imsColumn = 'xPosition', \n",
    "                    rmsReq = req_rms, \n",
    "                    req_delta_t = delta_t)"
   ]
  },
  {
   "cell_type": "code",
   "execution_count": null,
   "id": "95d4b254-3132-4313-8d17-0e38d455fdb5",
   "metadata": {},
   "outputs": [],
   "source": []
  }
 ],
 "metadata": {
  "kernelspec": {
   "display_name": "LSST",
   "language": "python",
   "name": "lsst"
  },
  "language_info": {
   "codemirror_mode": {
    "name": "ipython",
    "version": 3
   },
   "file_extension": ".py",
   "mimetype": "text/x-python",
   "name": "python",
   "nbconvert_exporter": "python",
   "pygments_lexer": "ipython3",
   "version": "3.10.10"
  }
 },
 "nbformat": 4,
 "nbformat_minor": 5
}
