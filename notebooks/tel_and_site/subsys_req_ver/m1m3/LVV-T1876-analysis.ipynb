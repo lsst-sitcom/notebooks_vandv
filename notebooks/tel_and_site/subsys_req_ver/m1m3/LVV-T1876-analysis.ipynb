{
 "cells": [
  {
   "cell_type": "markdown",
   "id": "7c235e45-d932-432a-b473-f72774f97a37",
   "metadata": {},
   "source": [
    "# [LVV-T1876] - Settling Time After a Slew\n",
    "\n",
    "Notebook containing data analysis for the [LVV-T1876] test case.  \n",
    "~The script used to run this test case can be found in [lsst-ts/ts_m1m3supporttesting/M13T012.py].~\n",
    "\n",
    "\n",
    "[LVV-T1876]: https://jira.lsstcorp.org/secure/Tests.jspa#/testCase/2237\n",
    "[lsst-ts/ts_m1m3supporttesting/M13T012.py]: https://github.com/lsst-ts/ts_m1m3supporttesting/blob/develop/M13T012.py\n",
    "\n",
    "\n",
    "see [LVV-T2732_analysis_mt_encoder_slew_jitter.ipynb] for jitter ideas?\n",
    "\n",
    "[LVV-T2732_analysis_mt_encoder_slew_jitter.ipynb]: https://github.com/lsst-sitcom/notebooks_vandv/blob/develop/notebooks/tel_and_site/subsys_req_ver/tma/LVV-T2732_analysis_mt_encoder_slew_jitter.ipynb\n",
    "\n",
    "Some pending items(June 8th 2023) --> add as issues:\n",
    "1. Get some RMS requirements \n",
    "2. Tweak parameters for stationarity, for a robust measurement\n",
    "\n",
    "\n",
    "### Prepare Notebook"
   ]
  },
  {
   "cell_type": "code",
   "execution_count": null,
   "id": "9627519e-ef49-41c5-9085-1a7373e7b3c0",
   "metadata": {
    "tags": []
   },
   "outputs": [],
   "source": [
    "%matplotlib inline\n",
    "%load_ext autoreload\n",
    "%autoreload 2"
   ]
  },
  {
   "cell_type": "code",
   "execution_count": null,
   "id": "c3d229f3-648a-4ee3-ac70-8e22bd90e53e",
   "metadata": {
    "tags": []
   },
   "outputs": [],
   "source": [
    "import pandas as pd\n",
    "import matplotlib.pyplot as plt\n",
    "import numpy as np\n",
    "\n",
    "#from astropy import units as u\n",
    "from astropy.time import Time, TimezoneInfo\n",
    "from statsmodels.tsa.stattools import adfuller\n",
    "\n",
    "from lsst.sitcom import vandv\n",
    "from lsst.ts.idl.enums import MTM1M3\n",
    "from lsst_efd_client import EfdClient\n",
    "\n",
    "import identify_slews"
   ]
  },
  {
   "cell_type": "code",
   "execution_count": null,
   "id": "6fa49a3c-6c77-4d44-939f-b713b1e5ca76",
   "metadata": {
    "tags": []
   },
   "outputs": [],
   "source": [
    "#client = vandv.efd.create_efd_client()\n",
    "client = EfdClient('usdf_efd')"
   ]
  },
  {
   "cell_type": "markdown",
   "id": "58085fea-42ff-43f0-89be-f3a2a1101b42",
   "metadata": {},
   "source": [
    "### Define the function"
   ]
  },
  {
   "cell_type": "code",
   "execution_count": null,
   "id": "c216de9d-5fa6-4ba5-b4be-e4aec7fecd38",
   "metadata": {
    "tags": []
   },
   "outputs": [],
   "source": [
    "def determineSettleTime(df_ims,\n",
    "                        T0_tag = '2023-04-18T16:13:52', \n",
    "                        imsColumn = 'xPosition', \n",
    "                        rmsReq = 1e-2, \n",
    "                        delta_t = 3):\n",
    "\n",
    "    T0 = pd.to_datetime(T0_tag)\n",
    "    T1 = T0 + pd.to_timedelta(delta_t,unit='s')\n",
    "    delta_z = [pd.Timedelta(5, \"seconds\"),pd.Timedelta(15, \"seconds\")] #\n",
    "    if 'Position' in imsColumn:\n",
    "        units = 'mm'\n",
    "    else:\n",
    "        units = 'deg'\n",
    "    TZoom = [T0-delta_z[0], #zoom around the T0 of interest (in position event?)\n",
    "            T0+delta_z[1]] \n",
    "    idx = [df_ims.index[df_ims.index.get_indexer([pd.to_datetime(T0)], method='nearest')],\n",
    "          df_ims.index[df_ims.index.get_indexer([pd.to_datetime(T1)], method='nearest')],\n",
    "          df_ims.index[df_ims.index.get_indexer([pd.to_datetime(TZoom[1])], method='nearest')]]    \n",
    "\n",
    "    pos = (df_ims[imsColumn][TZoom[0]:TZoom[1]] - df_ims[imsColumn][idx[0][0]])#.rolling(100).mean()\n",
    "    pos_check = (df_ims[imsColumn][idx[0][0]:idx[1][0]] - df_ims[imsColumn][idx[2][0]])\n",
    "    rms = np.std(pos_check) ## we actually want RMSE around 0 I guess, rather than around mean\n",
    "                            ## maybe a new function can be created here\n",
    "\n",
    "    title = imsColumn\n",
    "    label = imsColumn + '(' + units +') wrt T0 (slew stop)'\n",
    "\n",
    "    fig = plt.figure()\n",
    "    plt.plot(pos[TZoom[0]:TZoom[1]],color='red', lw=\"0.5\", label=label)\n",
    "    #plt.axvline(pd.to_datetime(T0), lw=\"2\", c=\"k\", linestyle='dashed')\n",
    "    plt.axvline(T1, lw=\"0.5\", c=\"k\")\n",
    "    #plt.axhline(-req)\n",
    "    #plt.axhline(req)\n",
    "    plt.xlabel(\"Time [UTC]\")\n",
    "    plt.ylabel(label)\n",
    "    #plt.title(label)\n",
    "    plt.text(0.55, 0.70, 'RMS =' + ' {:.2e} '.format(rms) + units + ' in window', \n",
    "             transform=fig.transFigure)\n",
    "    fig.autofmt_xdate()\n",
    "    fig.tight_layout()\n",
    "\n",
    "    rms = (df_ims[imsColumn][T0:TZoom[1]] - df_ims[imsColumn][idx[2][0]]).rolling(20).std()\n",
    "    plt.plot(rms, label='RMS wrt value at the end of plot')\n",
    "    plt.axvspan(T0, T1, alpha=0.5, color='green', label='3s tolerance window')\n",
    "    plt.legend(loc=\"upper right\")\n",
    "\n",
    "    ## compute time for settling\n",
    "    fig = plt.figure()    \n",
    "    rms = rms.dropna() # remove NaNs\n",
    "    lapse = 100 # to be adjusted\n",
    "    pvalue = 0.05 ## lower, less tolerant to finding stationarity, to be adjusted\n",
    "    for i in range(0,len(rms)-lapse):\n",
    "        adf = adfuller(rms[i:i+lapse], autolag='AIC')\n",
    "        if adf[1] < pvalue: # is non-stationary if null hypothesis is true (large p-value)\n",
    "            print(i, i+lapse, adf[1], pvalue)\n",
    "            print(rms.index[i], rms.index[i+lapse])\n",
    "            break\n",
    "\n",
    "    plt.plot(rms)\n",
    "    plt.xlabel(\"Time [UTC]\")\n",
    "    plt.ylabel('RMS wrt value at the end of plot (mm)')    \n",
    "    fig.autofmt_xdate()\n",
    "    fig.tight_layout()\n",
    "    plt.text(0.35, 0.70, 'Settling time (ADF test) =' + rms.index[i+lapse].strftime('%H:%M:%S.%f'), transform=fig.transFigure)        \n",
    "\n",
    "    print('T0:',pd.to_datetime(T0))\n",
    "    print('T_settle:',rms.index[i+lapse])\n",
    "    print(rms.index[i+lapse]-pd.to_datetime(T0))\n",
    "    \n",
    "    return rms.index[i+lapse]"
   ]
  },
  {
   "cell_type": "markdown",
   "id": "adf326d5-48a4-4f58-ae71-024da5bdef7b",
   "metadata": {
    "execution": {
     "iopub.execute_input": "2023-05-29T14:52:50.070605Z",
     "iopub.status.busy": "2023-05-29T14:52:50.070350Z",
     "iopub.status.idle": "2023-05-29T14:52:50.095516Z",
     "shell.execute_reply": "2023-05-29T14:52:50.095109Z",
     "shell.execute_reply.started": "2023-05-29T14:52:50.070588Z"
    },
    "tags": []
   },
   "source": [
    "### Query Data"
   ]
  },
  {
   "cell_type": "code",
   "execution_count": null,
   "id": "2d073569-8f2b-41b3-8e75-bfcc7d48dd76",
   "metadata": {
    "tags": []
   },
   "outputs": [],
   "source": [
    "all_columns = [\"xPosition\", \"xRotation\", \"yPosition\", \"yRotation\", \"zPosition\", \"zRotation\"]\n",
    "pos_columns = [c for c in all_columns if \"Position\" in c]\n",
    "rot_columns = [c for c in all_columns if \"Rotation\" in c]\n",
    "print(pos_columns, rot_columns)"
   ]
  },
  {
   "cell_type": "code",
   "execution_count": null,
   "id": "b7dae9f2-7152-4a89-9d3b-7b4f03f0e9d4",
   "metadata": {
    "tags": []
   },
   "outputs": [],
   "source": [
    "#define the date\n",
    "#t_start = \"2023-04-18T16:10:00\" # Times of force balance test\n",
    "#t_end = \"2023-04-18T16:15:00\"\n",
    "t_start = Time('2023-06-01 06:00:0Z', scale='utc')\n",
    "t_end = Time('2023-06-01 10:00:0Z', scale='utc') "
   ]
  },
  {
   "cell_type": "markdown",
   "id": "decee784-6779-4188-84d7-86727cb7cdb8",
   "metadata": {
    "execution": {
     "iopub.execute_input": "2023-05-29T17:26:26.927448Z",
     "iopub.status.busy": "2023-05-29T17:26:26.927223Z",
     "iopub.status.idle": "2023-05-29T17:26:26.953496Z",
     "shell.execute_reply": "2023-05-29T17:26:26.953042Z",
     "shell.execute_reply.started": "2023-05-29T17:26:26.927433Z"
    },
    "tags": []
   },
   "source": [
    "### Load data"
   ]
  },
  {
   "cell_type": "code",
   "execution_count": null,
   "id": "3bce9857-42c0-4b00-ae7d-776d4c061474",
   "metadata": {
    "tags": []
   },
   "outputs": [],
   "source": [
    "df_ims = await client.select_time_series(\n",
    "    \"lsst.sal.MTM1M3.imsData\", \n",
    "    \"*\", \n",
    "    Time(t_start, format=\"isot\", scale=\"utc\"),\n",
    "    Time(t_end, format=\"isot\", scale=\"utc\"), \n",
    ")\n",
    "\n",
    "df_ims = df_ims.set_index(\"private_rcvStamp\")\n",
    "df_ims.index = pd.to_datetime(df_ims.index, unit=\"s\")\n",
    "df_ims = df_ims[all_columns]\n",
    "\n",
    "df_ims[pos_columns] = df_ims[pos_columns] * 1e3 #to mm\n",
    "df_ims[rot_columns] = np.rad2deg(df_ims[rot_columns]) #to degrees"
   ]
  },
  {
   "cell_type": "markdown",
   "id": "b5d91fe4-7273-4fde-babb-ad50fe299d6d",
   "metadata": {},
   "source": [
    "### Look at data"
   ]
  },
  {
   "cell_type": "code",
   "execution_count": null,
   "id": "e942284c-2330-4c0e-a7e8-59bb32618ca7",
   "metadata": {},
   "outputs": [],
   "source": [
    "### see ims_elevation_slew_explore"
   ]
  },
  {
   "cell_type": "markdown",
   "id": "e608982d-ca62-4968-b83f-c0c7e8bd3022",
   "metadata": {
    "execution": {
     "iopub.execute_input": "2023-05-29T17:28:18.701852Z",
     "iopub.status.busy": "2023-05-29T17:28:18.701639Z",
     "iopub.status.idle": "2023-05-29T17:28:18.728001Z",
     "shell.execute_reply": "2023-05-29T17:28:18.727553Z",
     "shell.execute_reply.started": "2023-05-29T17:28:18.701838Z"
    },
    "tags": []
   },
   "source": [
    "### Run test"
   ]
  },
  {
   "cell_type": "code",
   "execution_count": null,
   "id": "64a2f949-b415-49d5-8e0c-c0cf66b349d0",
   "metadata": {},
   "outputs": [],
   "source": [
    "##identify a slew stop\n",
    "#starts,stops, maxv=identify_slews.get_slews_edge_detection(mtmount[\"timestamp\"],mtmount[\"actualVelocity\"])\n",
    "#starts,stops = identify_slews.get_slew_pairs(starts,stops)"
   ]
  },
  {
   "cell_type": "code",
   "execution_count": null,
   "id": "044913db-6728-4b3e-a090-0425f7eb2737",
   "metadata": {
    "tags": []
   },
   "outputs": [],
   "source": [
    "delta_t = 3 ## seconds\n",
    "T0_tag = '2023-06-01T06:53:37.326'\n",
    "req = 1e-2 "
   ]
  },
  {
   "cell_type": "code",
   "execution_count": null,
   "id": "29e51adf-509c-47f3-a402-ce62df4cd80a",
   "metadata": {
    "tags": []
   },
   "outputs": [],
   "source": [
    "settleTime = determineSettleTime(df_ims = df_ims,\n",
    "                    T0_tag = T0_tag, \n",
    "                    imsColumn = 'xPosition', \n",
    "                    rmsReq = req, \n",
    "                    delta_t = delta_t)\n",
    "determineSettleTime(df_ims = df_ims, T0_tag = T0_tag, \n",
    "                    imsColumn = 'yPosition', \n",
    "                    rmsReq = req, \n",
    "                    delta_t = delta_t)\n",
    "determineSettleTime(df_ims = df_ims, T0_tag = T0_tag, \n",
    "                   imsColumn = 'zPosition', \n",
    "                    rmsReq = req, \n",
    "                    delta_t = delta_t)\n",
    "determineSettleTime(df_ims = df_ims, T0_tag = T0_tag, \n",
    "                   imsColumn = 'xRotation', \n",
    "                   rmsReq = req, \n",
    "                   delta_t = delta_t)\n",
    "determineSettleTime(df_ims = df_ims, T0_tag = T0_tag, \n",
    "                   imsColumn = 'yRotation', \n",
    "                   rmsReq = req, \n",
    "                   delta_t = delta_t)\n",
    "determineSettleTime(df_ims = df_ims, T0_tag = T0_tag, \n",
    "                   imsColumn = 'zRotation', \n",
    "                   rmsReq = req, \n",
    "                   delta_t = delta_t)"
   ]
  },
  {
   "cell_type": "code",
   "execution_count": null,
   "id": "042595b5-bca5-48a6-a75f-3998649eba1b",
   "metadata": {
    "tags": []
   },
   "outputs": [],
   "source": [
    "print(rms[4:])\n",
    "print(rms.index[4])"
   ]
  },
  {
   "cell_type": "code",
   "execution_count": null,
   "id": "c05ee4db-18c3-4229-a6be-97e773891923",
   "metadata": {},
   "outputs": [],
   "source": []
  },
  {
   "cell_type": "code",
   "execution_count": null,
   "id": "6ab8f774-d305-4c6a-8a1c-defa1670a510",
   "metadata": {},
   "outputs": [],
   "source": []
  },
  {
   "cell_type": "code",
   "execution_count": null,
   "id": "ae8f002d-792e-43df-88d5-ffa0d98c826d",
   "metadata": {
    "tags": []
   },
   "outputs": [],
   "source": [
    "#### Check a the contents of the pos array\n",
    "pd.set_option('display.max_rows', 500)\n",
    "print(pos_check)\n",
    "print(np.std(pos_check))"
   ]
  },
  {
   "cell_type": "code",
   "execution_count": null,
   "id": "ae82323f-d135-4ada-a49f-6fa616adb64f",
   "metadata": {
    "tags": []
   },
   "outputs": [],
   "source": [
    "### Overplotting all columns\n",
    "fig = plt.figure()\n",
    "\n",
    "xpos = (df_ims['xPosition'] - df_ims['xPosition'][0]).rolling(100).mean()\n",
    "ypos = (df_ims['yPosition'] - df_ims['yPosition'][0]).rolling(100).mean()\n",
    "zpos = (df_ims['zPosition'] - df_ims['zPosition'][0]).rolling(100).mean()\n",
    "xrot = (df_ims['xRotation'] - df_ims['xRotation'][0]).rolling(100).mean()\n",
    "yrot = (df_ims['yRotation'] - df_ims['yRotation'][0]).rolling(100).mean()\n",
    "zrot = (df_ims['zRotation'] - df_ims['zRotation'][0]).rolling(100).mean()\n",
    "plt.plot(xpos,color='red', lw=\"0.5\", label='xPosition (mm) wrt T0')\n",
    "plt.plot(ypos,color='blue', lw=\"0.5\", label='yPosition (mm) wrt T0')\n",
    "plt.plot(zpos,color='green', lw=\"0.5\", label='zPosition (mm) wrt T0')\n",
    "#plt.plot(xrot,color='red', lw=\"0.5\", linestyle='dashed', label='xRotation (degrees) wrt T0')\n",
    "#plt.plot(yrot,color='blue', lw=\"0.5\", linestyle='dashed', label='yRotation (degrees) wrt T0')\n",
    "#plt.plot(zrot,color='green', lw=\"0.5\", linestyle='dashed', label='zRotation (degrees) wrt T0')\n",
    "plt.legend(ncols=2, loc=\"upper right\", bbox_to_anchor=(0.80, 1.3))\n",
    "plt.xlabel(\"Time [UTC]\")\n",
    "fig.autofmt_xdate()\n",
    "fig.tight_layout()"
   ]
  },
  {
   "cell_type": "code",
   "execution_count": null,
   "id": "f8265851-7b63-4a2a-aaf5-fa4580005867",
   "metadata": {},
   "outputs": [],
   "source": [
    "df_ims = await client.select_time_series(\n",
    "    \"lsst.sal.MTM1M3.imsData\", \n",
    "    \"*\", \n",
    "    Time(t_start, format=\"isot\", scale=\"utc\"),\n",
    "    Time(t_end, format=\"isot\", scale=\"utc\"), \n",
    ")\n",
    "print(df_ims)"
   ]
  },
  {
   "cell_type": "code",
   "execution_count": null,
   "id": "e6a63ae4-6c4f-473f-9277-63775ffa8923",
   "metadata": {},
   "outputs": [],
   "source": []
  }
 ],
 "metadata": {
  "kernelspec": {
   "display_name": "LSST",
   "language": "python",
   "name": "lsst"
  },
  "language_info": {
   "codemirror_mode": {
    "name": "ipython",
    "version": 3
   },
   "file_extension": ".py",
   "mimetype": "text/x-python",
   "name": "python",
   "nbconvert_exporter": "python",
   "pygments_lexer": "ipython3",
   "version": "3.10.10"
  }
 },
 "nbformat": 4,
 "nbformat_minor": 5
}
