{
 "cells": [
  {
   "cell_type": "markdown",
   "id": "7c235e45-d932-432a-b473-f72774f97a37",
   "metadata": {},
   "source": [
    "# [LVV-T1876] - Settling Time After a Slew\n",
    "\n",
    "Notebook containing data analysis for the [LVV-T1876] test case.  \n",
    "~The script used to run this test case can be found in [lsst-ts/ts_m1m3supporttesting/M13T012.py].~\n",
    "\n",
    "\n",
    "[LVV-T1876]: https://jira.lsstcorp.org/secure/Tests.jspa#/testCase/2237\n",
    "[lsst-ts/ts_m1m3supporttesting/M13T012.py]: https://github.com/lsst-ts/ts_m1m3supporttesting/blob/develop/M13T012.py\n",
    "\n",
    "\n",
    "see [LVV-T2732_analysis_mt_encoder_slew_jitter.ipynb] for jitter ideas?\n",
    "\n",
    "[LVV-T2732_analysis_mt_encoder_slew_jitter.ipynb]: https://github.com/lsst-sitcom/notebooks_vandv/blob/develop/notebooks/tel_and_site/subsys_req_ver/tma/LVV-T2732_analysis_mt_encoder_slew_jitter.ipynb\n",
    "\n",
    "\n",
    "My first thought is we:\n",
    "1. identify appropriate slew events (?)\n",
    "2. Compute rms for time window after 'inPosition' log event\n",
    "3. Define settled when all rms are below some value (not sure what the threshold should be)\n",
    "\n",
    "Some pending items(May 29th 2023) --> add as issues:\n",
    "1. Try on real or simulated events\n",
    "2. Understand IMS input (hardware)\n",
    "3. Get some RMS requirements, define RMS or alt function\n",
    "4. Return a settling time value for the function\n",
    "5. Figure out units (does submicron make any sense)\n",
    "6. Rolling values for a set time, not number of events\n",
    "\n",
    "### Prepare Notebook"
   ]
  },
  {
   "cell_type": "code",
   "execution_count": null,
   "id": "9627519e-ef49-41c5-9085-1a7373e7b3c0",
   "metadata": {
    "tags": []
   },
   "outputs": [],
   "source": [
    "%matplotlib inline\n",
    "%load_ext autoreload\n",
    "%autoreload 2"
   ]
  },
  {
   "cell_type": "code",
   "execution_count": null,
   "id": "c3d229f3-648a-4ee3-ac70-8e22bd90e53e",
   "metadata": {
    "tags": []
   },
   "outputs": [],
   "source": [
    "import pandas as pd\n",
    "import matplotlib.pyplot as plt\n",
    "import numpy as np\n",
    "\n",
    "#from astropy import units as u\n",
    "from astropy.time import Time, TimezoneInfo\n",
    "\n",
    "from lsst.sitcom import vandv\n",
    "from lsst.ts.idl.enums import MTM1M3"
   ]
  },
  {
   "cell_type": "code",
   "execution_count": null,
   "id": "6fa49a3c-6c77-4d44-939f-b713b1e5ca76",
   "metadata": {
    "tags": []
   },
   "outputs": [],
   "source": [
    "client = vandv.efd.create_efd_client()"
   ]
  },
  {
   "cell_type": "markdown",
   "id": "adf326d5-48a4-4f58-ae71-024da5bdef7b",
   "metadata": {
    "execution": {
     "iopub.execute_input": "2023-05-29T14:52:50.070605Z",
     "iopub.status.busy": "2023-05-29T14:52:50.070350Z",
     "iopub.status.idle": "2023-05-29T14:52:50.095516Z",
     "shell.execute_reply": "2023-05-29T14:52:50.095109Z",
     "shell.execute_reply.started": "2023-05-29T14:52:50.070588Z"
    },
    "tags": []
   },
   "source": [
    "### Query Data"
   ]
  },
  {
   "cell_type": "code",
   "execution_count": null,
   "id": "2d073569-8f2b-41b3-8e75-bfcc7d48dd76",
   "metadata": {
    "tags": []
   },
   "outputs": [],
   "source": [
    "all_columns = [\"xPosition\", \"xRotation\", \"yPosition\", \"yRotation\", \"zPosition\", \"zRotation\"]\n",
    "pos_columns = [c for c in all_columns if \"Position\" in c]\n",
    "rot_columns = [c for c in all_columns if \"Rotation\" in c]\n",
    "print(pos_columns, rot_columns)"
   ]
  },
  {
   "cell_type": "markdown",
   "id": "58085fea-42ff-43f0-89be-f3a2a1101b42",
   "metadata": {},
   "source": [
    "### Define the function"
   ]
  },
  {
   "cell_type": "code",
   "execution_count": null,
   "id": "c216de9d-5fa6-4ba5-b4be-e4aec7fecd38",
   "metadata": {
    "tags": []
   },
   "outputs": [],
   "source": [
    "def determineSettleTime(T0_tag = '2023-04-18T16:13:52', imsColumn = 'xPosition', rmsReq = 1e-5, delta_t = 3):\n",
    "\n",
    "    T0 = pd.to_datetime(T0_tag)\n",
    "    T1 = T0 + pd.to_timedelta(delta_t,unit='s')\n",
    "    idx = [df_ims.index[df_ims.index.get_indexer([pd.to_datetime(T0)], method='nearest')],\n",
    "          df_ims.index[df_ims.index.get_indexer([pd.to_datetime(T1)], method='nearest')]]    \n",
    "    \n",
    "    delta_z = [pd.Timedelta(5, \"seconds\"),pd.Timedelta(10, \"seconds\")] #\n",
    "    TZoom = [T0-delta_z[0], #zoom around the T0 of interest (in position event?)\n",
    "            T0+delta_z[1]] \n",
    "\n",
    "    pos = (df_ims[imsColumn][TZoom[0]:TZoom[1]] - df_ims[imsColumn][idx[0][0]]).rolling(100).mean()\n",
    "    pos_check = (df_ims[imsColumn][idx[0][0]:idx[1][0]] - df_ims[imsColumn][idx[0][0]])\n",
    "    rms = np.std(pos_check) ## we actually want RMSE around 0 I guess, rather than around mean\n",
    "                            ## maybe a new function can be created here\n",
    "\n",
    "    title = imsColumn\n",
    "    label = imsColumn + '(CHECK UNITS) wrt T0'\n",
    "\n",
    "    fig = plt.figure()\n",
    "    plt.plot(pos[TZoom[0]:TZoom[1]],color='red', lw=\"0.5\", label=label)\n",
    "    #df_ims['yPosition'][TZoom[0]:TZoom[1]].plot(color='blue', label='yPosition (mm)')\n",
    "    #df_ims['zPosition'][TZoom[0]:TZoom[1]].plot(color='green', label='zPosition (mm)')\n",
    "    #df_ims['xRotation'][TZoom[0]:TZoom[1]].plot(color='red', linestyle='dashed', label='xRotation (degrees)')\n",
    "    #df_ims['yRotation'][TZoom[0]:TZoom[1]].plot(color='blue', linestyle='dashed', label='yRotation (degrees)')\n",
    "    #df_ims['zRotation'][TZoom[0]:TZoom[1]].plot(color='green', linestyle='dashed', label='zRotation (degrees)')\n",
    "    #plt.legend(ncols=2, loc=\"upper right\", bbox_to_anchor=(0.80, 1.3))\n",
    "\n",
    "    plt.axvline(pd.to_datetime(T0), lw=\"2\", c=\"k\")\n",
    "    plt.axvline(T1, lw=\"0.5\", c=\"k\")\n",
    "    plt.axvspan(T0, T1, alpha=0.5, color='green')\n",
    "    plt.axhline(-req)\n",
    "    plt.axhline(req)\n",
    "    plt.xlabel(\"Time [UTC]\")\n",
    "    plt.title(label)\n",
    "    plt.text(0.70, 0.80, 'RMS =' + '{:.2e}'.format(rms), transform=fig.transFigure)\n",
    "    fig.autofmt_xdate()\n",
    "    fig.tight_layout()"
   ]
  },
  {
   "cell_type": "markdown",
   "id": "decee784-6779-4188-84d7-86727cb7cdb8",
   "metadata": {
    "execution": {
     "iopub.execute_input": "2023-05-29T17:26:26.927448Z",
     "iopub.status.busy": "2023-05-29T17:26:26.927223Z",
     "iopub.status.idle": "2023-05-29T17:26:26.953496Z",
     "shell.execute_reply": "2023-05-29T17:26:26.953042Z",
     "shell.execute_reply.started": "2023-05-29T17:26:26.927433Z"
    },
    "tags": []
   },
   "source": [
    "### Load data"
   ]
  },
  {
   "cell_type": "code",
   "execution_count": null,
   "id": "3bce9857-42c0-4b00-ae7d-776d4c061474",
   "metadata": {
    "tags": []
   },
   "outputs": [],
   "source": [
    "#alternative representation, using a different time frame\n",
    "t_start = \"2023-04-18T16:10:00\" # Times of force balance test\n",
    "t_end = \"2023-04-18T16:15:00\"\n",
    "\n",
    "df_ims = await client.select_time_series(\n",
    "    \"lsst.sal.MTM1M3.imsData\", \n",
    "    \"*\", \n",
    "    Time(t_start, format=\"isot\", scale=\"utc\"),\n",
    "    Time(t_end, format=\"isot\", scale=\"utc\"), \n",
    ")\n",
    "\n",
    "df_ims = df_ims.set_index(\"private_rcvStamp\")\n",
    "df_ims.index = pd.to_datetime(df_ims.index, unit=\"s\")\n",
    "df_ims = df_ims[all_columns]\n",
    "\n",
    "# Convert meter to milimeter to make is easier to analyse\n",
    "df_ims[pos_columns] = df_ims[pos_columns] * 1e3\n",
    "\n",
    "# Convert radians to degrees\n",
    "df_ims[rot_columns] = np.rad2deg(df_ims[rot_columns])"
   ]
  },
  {
   "cell_type": "markdown",
   "id": "e608982d-ca62-4968-b83f-c0c7e8bd3022",
   "metadata": {
    "execution": {
     "iopub.execute_input": "2023-05-29T17:28:18.701852Z",
     "iopub.status.busy": "2023-05-29T17:28:18.701639Z",
     "iopub.status.idle": "2023-05-29T17:28:18.728001Z",
     "shell.execute_reply": "2023-05-29T17:28:18.727553Z",
     "shell.execute_reply.started": "2023-05-29T17:28:18.701838Z"
    },
    "tags": []
   },
   "source": [
    "### Run test"
   ]
  },
  {
   "cell_type": "code",
   "execution_count": null,
   "id": "044913db-6728-4b3e-a090-0425f7eb2737",
   "metadata": {
    "tags": []
   },
   "outputs": [],
   "source": [
    "delta_t = 3 ## seconds\n",
    "T0_tag = '2023-04-18T16:13:52'\n",
    "req = 1e-5"
   ]
  },
  {
   "cell_type": "code",
   "execution_count": null,
   "id": "29e51adf-509c-47f3-a402-ce62df4cd80a",
   "metadata": {
    "tags": []
   },
   "outputs": [],
   "source": [
    "determineSettleTime(T0_tag = T0_tag, \n",
    "                    imsColumn = 'xPosition', \n",
    "                    rmsReq = req, \n",
    "                    delta_t = delta_t)"
   ]
  },
  {
   "cell_type": "code",
   "execution_count": null,
   "id": "042595b5-bca5-48a6-a75f-3998649eba1b",
   "metadata": {},
   "outputs": [],
   "source": []
  },
  {
   "cell_type": "code",
   "execution_count": null,
   "id": "c05ee4db-18c3-4229-a6be-97e773891923",
   "metadata": {},
   "outputs": [],
   "source": []
  },
  {
   "cell_type": "code",
   "execution_count": null,
   "id": "6ab8f774-d305-4c6a-8a1c-defa1670a510",
   "metadata": {},
   "outputs": [],
   "source": []
  },
  {
   "cell_type": "code",
   "execution_count": null,
   "id": "ae8f002d-792e-43df-88d5-ffa0d98c826d",
   "metadata": {
    "tags": []
   },
   "outputs": [],
   "source": [
    "#### Check a the contents of the pos array\n",
    "pd.set_option('display.max_rows', 500)\n",
    "print(pos_check)\n",
    "print(np.std(pos_check))"
   ]
  },
  {
   "cell_type": "code",
   "execution_count": null,
   "id": "ae82323f-d135-4ada-a49f-6fa616adb64f",
   "metadata": {
    "tags": []
   },
   "outputs": [],
   "source": [
    "### Overplotting all columns\n",
    "fig = plt.figure()\n",
    "\n",
    "xpos = (df_ims['xPosition'] - df_ims['xPosition'][0]).rolling(100).mean()\n",
    "ypos = (df_ims['yPosition'] - df_ims['yPosition'][0]).rolling(100).mean()\n",
    "zpos = (df_ims['zPosition'] - df_ims['zPosition'][0]).rolling(100).mean()\n",
    "xrot = (df_ims['xRotation'] - df_ims['xRotation'][0]).rolling(100).mean()\n",
    "yrot = (df_ims['yRotation'] - df_ims['yRotation'][0]).rolling(100).mean()\n",
    "zrot = (df_ims['zRotation'] - df_ims['zRotation'][0]).rolling(100).mean()\n",
    "plt.plot(xpos,color='red', lw=\"0.5\", label='xPosition (mm) wrt T0')\n",
    "plt.plot(ypos,color='blue', lw=\"0.5\", label='yPosition (mm) wrt T0')\n",
    "plt.plot(zpos,color='green', lw=\"0.5\", label='zPosition (mm) wrt T0')\n",
    "#plt.plot(xrot,color='red', lw=\"0.5\", linestyle='dashed', label='xRotation (degrees) wrt T0')\n",
    "#plt.plot(yrot,color='blue', lw=\"0.5\", linestyle='dashed', label='yRotation (degrees) wrt T0')\n",
    "#plt.plot(zrot,color='green', lw=\"0.5\", linestyle='dashed', label='zRotation (degrees) wrt T0')\n",
    "plt.legend(ncols=2, loc=\"upper right\", bbox_to_anchor=(0.80, 1.3))\n",
    "plt.xlabel(\"Time [UTC]\")\n",
    "fig.autofmt_xdate()\n",
    "fig.tight_layout()"
   ]
  },
  {
   "cell_type": "code",
   "execution_count": null,
   "id": "f8265851-7b63-4a2a-aaf5-fa4580005867",
   "metadata": {},
   "outputs": [],
   "source": []
  }
 ],
 "metadata": {
  "kernelspec": {
   "display_name": "LSST",
   "language": "python",
   "name": "lsst"
  },
  "language_info": {
   "codemirror_mode": {
    "name": "ipython",
    "version": 3
   },
   "file_extension": ".py",
   "mimetype": "text/x-python",
   "name": "python",
   "nbconvert_exporter": "python",
   "pygments_lexer": "ipython3",
   "version": "3.10.10"
  }
 },
 "nbformat": 4,
 "nbformat_minor": 5
}
