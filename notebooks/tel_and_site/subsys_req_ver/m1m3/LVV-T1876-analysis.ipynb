{
 "cells": [
  {
   "cell_type": "markdown",
   "id": "7c235e45-d932-432a-b473-f72774f97a37",
   "metadata": {},
   "source": [
    "# [LVV-T1876] - Settling Time After a Slew\n",
    "\n",
    "Notebook containing data analysis for the [LVV-T1876] test case.  \n",
    "~The script used to run this test case can be found in [lsst-ts/ts_m1m3supporttesting/M13T012.py].~\n",
    "\n",
    "\n",
    "[LVV-T1876]: https://jira.lsstcorp.org/secure/Tests.jspa#/testCase/2237\n",
    "[lsst-ts/ts_m1m3supporttesting/M13T012.py]: https://github.com/lsst-ts/ts_m1m3supporttesting/blob/develop/M13T012.py\n",
    "\n",
    "\n",
    "see [LVV-T2732_analysis_mt_encoder_slew_jitter.ipynb] for jitter ideas?\n",
    "\n",
    "[LVV-T2732_analysis_mt_encoder_slew_jitter.ipynb]: https://github.com/lsst-sitcom/notebooks_vandv/blob/develop/notebooks/tel_and_site/subsys_req_ver/tma/LVV-T2732_analysis_mt_encoder_slew_jitter.ipynb\n",
    "\n",
    "\n",
    "My first thought is we:\n",
    "1. identify appropriate slew events (?)\n",
    "2. Compute rms for time window after 'inPosition' log event\n",
    "3. Define settled when all rms are below some value (not sure what the threshold should be)\n",
    "\n",
    "Some pending items(May 29th 2023) --> add as issues:\n",
    "1. Try on real or simulated events\n",
    "2. Understand IMS input (hardware)\n",
    "3. Get some RMS requirements, define RMS or alt function\n",
    "4. Return a settling time value for the function\n",
    "5. Figure out units (does submicron make any sense)\n",
    "6. Rolling values for a set time, not number of events\n",
    "\n",
    "### Prepare Notebook"
   ]
  },
  {
   "cell_type": "code",
   "execution_count": 78,
   "id": "9627519e-ef49-41c5-9085-1a7373e7b3c0",
   "metadata": {
    "execution": {
     "iopub.execute_input": "2023-06-06T08:50:09.027601Z",
     "iopub.status.busy": "2023-06-06T08:50:09.027356Z",
     "iopub.status.idle": "2023-06-06T08:50:09.091831Z",
     "shell.execute_reply": "2023-06-06T08:50:09.091480Z",
     "shell.execute_reply.started": "2023-06-06T08:50:09.027584Z"
    },
    "tags": []
   },
   "outputs": [
    {
     "name": "stdout",
     "output_type": "stream",
     "text": [
      "The autoreload extension is already loaded. To reload it, use:\n",
      "  %reload_ext autoreload\n"
     ]
    }
   ],
   "source": [
    "%matplotlib inline\n",
    "%load_ext autoreload\n",
    "%autoreload 2"
   ]
  },
  {
   "cell_type": "code",
   "execution_count": 104,
   "id": "c3d229f3-648a-4ee3-ac70-8e22bd90e53e",
   "metadata": {
    "execution": {
     "iopub.execute_input": "2023-06-06T09:29:58.222457Z",
     "iopub.status.busy": "2023-06-06T09:29:58.221771Z",
     "iopub.status.idle": "2023-06-06T09:29:58.276296Z",
     "shell.execute_reply": "2023-06-06T09:29:58.275837Z",
     "shell.execute_reply.started": "2023-06-06T09:29:58.222439Z"
    },
    "tags": []
   },
   "outputs": [],
   "source": [
    "import pandas as pd\n",
    "import matplotlib.pyplot as plt\n",
    "import numpy as np\n",
    "\n",
    "#from astropy import units as u\n",
    "from astropy.time import Time, TimezoneInfo\n",
    "from statsmodels.tsa.stattools import adfuller\n",
    "\n",
    "from lsst.sitcom import vandv\n",
    "from lsst.ts.idl.enums import MTM1M3\n",
    "from lsst_efd_client import EfdClient\n",
    "\n",
    "import identify_slews"
   ]
  },
  {
   "cell_type": "code",
   "execution_count": 3,
   "id": "6fa49a3c-6c77-4d44-939f-b713b1e5ca76",
   "metadata": {
    "execution": {
     "iopub.execute_input": "2023-06-05T16:48:14.522327Z",
     "iopub.status.busy": "2023-06-05T16:48:14.521945Z",
     "iopub.status.idle": "2023-06-05T16:48:14.975249Z",
     "shell.execute_reply": "2023-06-05T16:48:14.974808Z",
     "shell.execute_reply.started": "2023-06-05T16:48:14.522309Z"
    },
    "tags": []
   },
   "outputs": [],
   "source": [
    "#client = vandv.efd.create_efd_client()\n",
    "client = EfdClient('usdf_efd')"
   ]
  },
  {
   "cell_type": "markdown",
   "id": "58085fea-42ff-43f0-89be-f3a2a1101b42",
   "metadata": {},
   "source": [
    "### Define the function"
   ]
  },
  {
   "cell_type": "code",
   "execution_count": 218,
   "id": "c216de9d-5fa6-4ba5-b4be-e4aec7fecd38",
   "metadata": {
    "execution": {
     "iopub.execute_input": "2023-06-06T12:06:14.163937Z",
     "iopub.status.busy": "2023-06-06T12:06:14.163571Z",
     "iopub.status.idle": "2023-06-06T12:06:14.196502Z",
     "shell.execute_reply": "2023-06-06T12:06:14.196020Z",
     "shell.execute_reply.started": "2023-06-06T12:06:14.163917Z"
    },
    "tags": []
   },
   "outputs": [],
   "source": [
    "def determineSettleTime(T0_tag = '2023-04-18T16:13:52', \n",
    "                        imsColumn = 'xPosition', \n",
    "                        rmsReq = 1e-2, \n",
    "                        delta_t = 3):\n",
    "\n",
    "    T0 = pd.to_datetime(T0_tag)\n",
    "    T1 = T0 + pd.to_timedelta(delta_t,unit='s')\n",
    "    delta_z = [pd.Timedelta(5, \"seconds\"),pd.Timedelta(15, \"seconds\")] #\n",
    "    TZoom = [T0-delta_z[0], #zoom around the T0 of interest (in position event?)\n",
    "            T0+delta_z[1]] \n",
    "    idx = [df_ims.index[df_ims.index.get_indexer([pd.to_datetime(T0)], method='nearest')],\n",
    "          df_ims.index[df_ims.index.get_indexer([pd.to_datetime(T1)], method='nearest')],\n",
    "          df_ims.index[df_ims.index.get_indexer([pd.to_datetime(TZoom[1])], method='nearest')]]    \n",
    "\n",
    "    pos = (df_ims[imsColumn][TZoom[0]:TZoom[1]] - df_ims[imsColumn][idx[0][0]])#.rolling(100).mean()\n",
    "    pos_check = (df_ims[imsColumn][idx[0][0]:idx[1][0]] - df_ims[imsColumn][idx[0][0]])\n",
    "    rms = np.std(pos_check) ## we actually want RMSE around 0 I guess, rather than around mean\n",
    "                            ## maybe a new function can be created here\n",
    "\n",
    "    title = imsColumn\n",
    "    label = imsColumn + '(mm) wrt T0 (slew stop)'\n",
    "\n",
    "    fig = plt.figure()\n",
    "    plt.plot(pos[TZoom[0]:TZoom[1]],color='red', lw=\"0.5\", label=label)\n",
    "    plt.axvline(pd.to_datetime(T0), lw=\"2\", c=\"k\")\n",
    "    plt.axvline(T1, lw=\"0.5\", c=\"k\")\n",
    "    #plt.axhline(-req)\n",
    "    #plt.axhline(req)\n",
    "    plt.xlabel(\"Time [UTC]\")\n",
    "    plt.ylabel(label)\n",
    "    #plt.title(label)\n",
    "    plt.text(0.55, 0.70, 'RMS =' + '{:.2e}'.format(rms) + ' mm in window', transform=fig.transFigure)\n",
    "    fig.autofmt_xdate()\n",
    "    fig.tight_layout()\n",
    "\n",
    "    rms = (df_ims[imsColumn][T0:TZoom[1]] - df_ims[imsColumn][idx[2][0]]).rolling(20).std()\n",
    "    plt.plot(rms, label='RMS wrt value at the end of plot')\n",
    "    plt.axvspan(T0, T1, alpha=0.5, color='green', label='3s tolerance window')\n",
    "    plt.legend(loc=\"upper right\")\n",
    "\n",
    "    ## compute time for settling\n",
    "    fig = plt.figure()    \n",
    "    rms = rms.dropna() # remove NaNs\n",
    "    lapse = 100 # to be adjusted\n",
    "    pvalue = 0.05 ## lower, less tolerant to finding stationarity, to be adjusted\n",
    "    for i in range(0,len(rms)-lapse):\n",
    "        adf = adfuller(rms[i:i+lapse], autolag='AIC')\n",
    "        if adf[1] < pvalue: # is non-stationary if null hypothesis is true (large p-value)\n",
    "            print(i, i+lapse, adf[1], pvalue)\n",
    "            print(rms.index[i], rms.index[i+lapse])\n",
    "            break\n",
    "\n",
    "    plt.plot(rms)\n",
    "    fig.autofmt_xdate()\n",
    "    fig.tight_layout()\n",
    "    plt.text(0.35, 0.70, 'Settling time (ADF test) =' + rms.index[i+lapse].strftime('%H:%M:%S.%f'), transform=fig.transFigure)        \n",
    "            \n",
    "    return rms.index[i+lapse]"
   ]
  },
  {
   "cell_type": "markdown",
   "id": "adf326d5-48a4-4f58-ae71-024da5bdef7b",
   "metadata": {
    "execution": {
     "iopub.execute_input": "2023-05-29T14:52:50.070605Z",
     "iopub.status.busy": "2023-05-29T14:52:50.070350Z",
     "iopub.status.idle": "2023-05-29T14:52:50.095516Z",
     "shell.execute_reply": "2023-05-29T14:52:50.095109Z",
     "shell.execute_reply.started": "2023-05-29T14:52:50.070588Z"
    },
    "tags": []
   },
   "source": [
    "### Query Data"
   ]
  },
  {
   "cell_type": "code",
   "execution_count": 7,
   "id": "2d073569-8f2b-41b3-8e75-bfcc7d48dd76",
   "metadata": {
    "execution": {
     "iopub.execute_input": "2023-06-05T16:56:39.490097Z",
     "iopub.status.busy": "2023-06-05T16:56:39.489704Z",
     "iopub.status.idle": "2023-06-05T16:56:39.516939Z",
     "shell.execute_reply": "2023-06-05T16:56:39.516476Z",
     "shell.execute_reply.started": "2023-06-05T16:56:39.490075Z"
    },
    "tags": []
   },
   "outputs": [
    {
     "name": "stdout",
     "output_type": "stream",
     "text": [
      "['xPosition', 'yPosition', 'zPosition'] ['xRotation', 'yRotation', 'zRotation']\n"
     ]
    }
   ],
   "source": [
    "all_columns = [\"xPosition\", \"xRotation\", \"yPosition\", \"yRotation\", \"zPosition\", \"zRotation\"]\n",
    "pos_columns = [c for c in all_columns if \"Position\" in c]\n",
    "rot_columns = [c for c in all_columns if \"Rotation\" in c]\n",
    "print(pos_columns, rot_columns)"
   ]
  },
  {
   "cell_type": "code",
   "execution_count": 5,
   "id": "b7dae9f2-7152-4a89-9d3b-7b4f03f0e9d4",
   "metadata": {
    "execution": {
     "iopub.execute_input": "2023-06-05T16:55:54.048813Z",
     "iopub.status.busy": "2023-06-05T16:55:54.048603Z",
     "iopub.status.idle": "2023-06-05T16:55:54.074505Z",
     "shell.execute_reply": "2023-06-05T16:55:54.074045Z",
     "shell.execute_reply.started": "2023-06-05T16:55:54.048799Z"
    },
    "tags": []
   },
   "outputs": [],
   "source": [
    "#define the date\n",
    "#t_start = \"2023-04-18T16:10:00\" # Times of force balance test\n",
    "#t_end = \"2023-04-18T16:15:00\"\n",
    "t_start = Time('2023-06-01 06:00:0Z', scale='utc')\n",
    "t_end = Time('2023-06-01 10:00:0Z', scale='utc') "
   ]
  },
  {
   "cell_type": "markdown",
   "id": "decee784-6779-4188-84d7-86727cb7cdb8",
   "metadata": {
    "execution": {
     "iopub.execute_input": "2023-05-29T17:26:26.927448Z",
     "iopub.status.busy": "2023-05-29T17:26:26.927223Z",
     "iopub.status.idle": "2023-05-29T17:26:26.953496Z",
     "shell.execute_reply": "2023-05-29T17:26:26.953042Z",
     "shell.execute_reply.started": "2023-05-29T17:26:26.927433Z"
    },
    "tags": []
   },
   "source": [
    "### Load data"
   ]
  },
  {
   "cell_type": "code",
   "execution_count": 22,
   "id": "3bce9857-42c0-4b00-ae7d-776d4c061474",
   "metadata": {
    "execution": {
     "iopub.execute_input": "2023-06-05T17:07:22.663044Z",
     "iopub.status.busy": "2023-06-05T17:07:22.662789Z",
     "iopub.status.idle": "2023-06-05T17:07:38.830719Z",
     "shell.execute_reply": "2023-06-05T17:07:38.830319Z",
     "shell.execute_reply.started": "2023-06-05T17:07:22.663020Z"
    },
    "tags": []
   },
   "outputs": [],
   "source": [
    "df_ims = await client.select_time_series(\n",
    "    \"lsst.sal.MTM1M3.imsData\", \n",
    "    \"*\", \n",
    "    Time(t_start, format=\"isot\", scale=\"utc\"),\n",
    "    Time(t_end, format=\"isot\", scale=\"utc\"), \n",
    ")\n",
    "\n",
    "df_ims = df_ims.set_index(\"private_rcvStamp\")\n",
    "df_ims.index = pd.to_datetime(df_ims.index, unit=\"s\")\n",
    "df_ims = df_ims[all_columns]\n",
    "\n",
    "df_ims[pos_columns] = df_ims[pos_columns] * 1e3 #to mm\n",
    "df_ims[rot_columns] = np.rad2deg(df_ims[rot_columns]) #to degrees"
   ]
  },
  {
   "cell_type": "markdown",
   "id": "b5d91fe4-7273-4fde-babb-ad50fe299d6d",
   "metadata": {},
   "source": [
    "### Look at data"
   ]
  },
  {
   "cell_type": "code",
   "execution_count": null,
   "id": "e942284c-2330-4c0e-a7e8-59bb32618ca7",
   "metadata": {},
   "outputs": [],
   "source": [
    "### see ims_elevation_slew_explore"
   ]
  },
  {
   "cell_type": "markdown",
   "id": "e608982d-ca62-4968-b83f-c0c7e8bd3022",
   "metadata": {
    "execution": {
     "iopub.execute_input": "2023-05-29T17:28:18.701852Z",
     "iopub.status.busy": "2023-05-29T17:28:18.701639Z",
     "iopub.status.idle": "2023-05-29T17:28:18.728001Z",
     "shell.execute_reply": "2023-05-29T17:28:18.727553Z",
     "shell.execute_reply.started": "2023-05-29T17:28:18.701838Z"
    },
    "tags": []
   },
   "source": [
    "### Run test"
   ]
  },
  {
   "cell_type": "code",
   "execution_count": null,
   "id": "64a2f949-b415-49d5-8e0c-c0cf66b349d0",
   "metadata": {},
   "outputs": [],
   "source": [
    "##identify a slew stop\n",
    "#starts,stops, maxv=identify_slews.get_slews_edge_detection(mtmount[\"timestamp\"],mtmount[\"actualVelocity\"])\n",
    "#starts,stops = identify_slews.get_slew_pairs(starts,stops)"
   ]
  },
  {
   "cell_type": "code",
   "execution_count": 9,
   "id": "044913db-6728-4b3e-a090-0425f7eb2737",
   "metadata": {
    "execution": {
     "iopub.execute_input": "2023-06-05T16:59:08.736281Z",
     "iopub.status.busy": "2023-06-05T16:59:08.736024Z",
     "iopub.status.idle": "2023-06-05T16:59:08.771795Z",
     "shell.execute_reply": "2023-06-05T16:59:08.771347Z",
     "shell.execute_reply.started": "2023-06-05T16:59:08.736264Z"
    },
    "tags": []
   },
   "outputs": [],
   "source": [
    "delta_t = 3 ## seconds\n",
    "T0_tag = '2023-06-01T06:53:37.326'\n",
    "req = 1e-2 "
   ]
  },
  {
   "cell_type": "code",
   "execution_count": 219,
   "id": "29e51adf-509c-47f3-a402-ce62df4cd80a",
   "metadata": {
    "execution": {
     "iopub.execute_input": "2023-06-06T12:06:19.353130Z",
     "iopub.status.busy": "2023-06-06T12:06:19.352741Z",
     "iopub.status.idle": "2023-06-06T12:06:19.643735Z",
     "shell.execute_reply": "2023-06-06T12:06:19.643197Z",
     "shell.execute_reply.started": "2023-06-06T12:06:19.353111Z"
    },
    "tags": []
   },
   "outputs": [
    {
     "name": "stdout",
     "output_type": "stream",
     "text": [
      "10 110 0.03864776131775238 0.05\n",
      "2023-06-01 06:53:38.027564288 2023-06-01 06:53:40.448126976\n",
      "<class 'pandas._libs.tslibs.timestamps.Timestamp'>\n",
      "06:53:40.448126\n"
     ]
    },
    {
     "data": {
      "image/png": "[encoded data removed]",
      "text/plain": [
       "<Figure size 640x480 with 1 Axes>"
      ]
     },
     "metadata": {},
     "output_type": "display_data"
    },
    {
     "data": {
      "image/png": "[encoded data removed]",
      "text/plain": [
       "<Figure size 640x480 with 1 Axes>"
      ]
     },
     "metadata": {},
     "output_type": "display_data"
    }
   ],
   "source": [
    "settleTime = determineSettleTime(T0_tag = T0_tag, \n",
    "                    imsColumn = 'xPosition', \n",
    "                    rmsReq = req, \n",
    "                    delta_t = delta_t)\n",
    "print(type(settleTime))\n",
    "print(settleTime.strftime('%H:%M:%S.%f'))\n",
    "#determineSettleTime(T0_tag = T0_tag, \n",
    "#                    imsColumn = 'yPosition', \n",
    "#                    rmsReq = req, \n",
    "#                    delta_t = delta_t)\n",
    "#determineSettleTime(T0_tag = T0_tag, \n",
    "#                   imsColumn = 'zPosition', \n",
    "#                    rmsReq = req, \n",
    "#                    delta_t = delta_t)"
   ]
  },
  {
   "cell_type": "code",
   "execution_count": 175,
   "id": "042595b5-bca5-48a6-a75f-3998649eba1b",
   "metadata": {
    "execution": {
     "iopub.execute_input": "2023-06-06T10:20:03.879842Z",
     "iopub.status.busy": "2023-06-06T10:20:03.879626Z",
     "iopub.status.idle": "2023-06-06T10:20:03.917287Z",
     "shell.execute_reply": "2023-06-06T10:20:03.916807Z",
     "shell.execute_reply.started": "2023-06-06T10:20:03.879828Z"
    },
    "tags": []
   },
   "outputs": [
    {
     "name": "stdout",
     "output_type": "stream",
     "text": [
      "private_rcvStamp\n",
      "2023-06-01 06:53:37.887515904    9.823679e-05\n",
      "2023-06-01 06:53:37.907590400    1.115244e-04\n",
      "2023-06-01 06:53:37.927595264    1.548818e-04\n",
      "2023-06-01 06:53:37.947571712    1.858481e-04\n",
      "2023-06-01 06:53:37.987558656    2.403368e-04\n",
      "                                     ...     \n",
      "2023-06-01 06:54:07.211191296    1.433275e-07\n",
      "2023-06-01 06:54:07.231172096    1.433275e-07\n",
      "2023-06-01 06:54:07.251180032    1.433275e-07\n",
      "2023-06-01 06:54:07.291187200    1.433275e-07\n",
      "2023-06-01 06:54:07.311233792    1.433275e-07\n",
      "Name: xPosition, Length: 1216, dtype: float64\n",
      "2023-06-01 06:53:37.887515904\n"
     ]
    }
   ],
   "source": [
    "print(rms[4:])\n",
    "print(rms.index[4])"
   ]
  },
  {
   "cell_type": "code",
   "execution_count": null,
   "id": "c05ee4db-18c3-4229-a6be-97e773891923",
   "metadata": {},
   "outputs": [],
   "source": []
  },
  {
   "cell_type": "code",
   "execution_count": null,
   "id": "6ab8f774-d305-4c6a-8a1c-defa1670a510",
   "metadata": {},
   "outputs": [],
   "source": []
  },
  {
   "cell_type": "code",
   "execution_count": null,
   "id": "ae8f002d-792e-43df-88d5-ffa0d98c826d",
   "metadata": {
    "tags": []
   },
   "outputs": [],
   "source": [
    "#### Check a the contents of the pos array\n",
    "pd.set_option('display.max_rows', 500)\n",
    "print(pos_check)\n",
    "print(np.std(pos_check))"
   ]
  },
  {
   "cell_type": "code",
   "execution_count": null,
   "id": "ae82323f-d135-4ada-a49f-6fa616adb64f",
   "metadata": {
    "tags": []
   },
   "outputs": [],
   "source": [
    "### Overplotting all columns\n",
    "fig = plt.figure()\n",
    "\n",
    "xpos = (df_ims['xPosition'] - df_ims['xPosition'][0]).rolling(100).mean()\n",
    "ypos = (df_ims['yPosition'] - df_ims['yPosition'][0]).rolling(100).mean()\n",
    "zpos = (df_ims['zPosition'] - df_ims['zPosition'][0]).rolling(100).mean()\n",
    "xrot = (df_ims['xRotation'] - df_ims['xRotation'][0]).rolling(100).mean()\n",
    "yrot = (df_ims['yRotation'] - df_ims['yRotation'][0]).rolling(100).mean()\n",
    "zrot = (df_ims['zRotation'] - df_ims['zRotation'][0]).rolling(100).mean()\n",
    "plt.plot(xpos,color='red', lw=\"0.5\", label='xPosition (mm) wrt T0')\n",
    "plt.plot(ypos,color='blue', lw=\"0.5\", label='yPosition (mm) wrt T0')\n",
    "plt.plot(zpos,color='green', lw=\"0.5\", label='zPosition (mm) wrt T0')\n",
    "#plt.plot(xrot,color='red', lw=\"0.5\", linestyle='dashed', label='xRotation (degrees) wrt T0')\n",
    "#plt.plot(yrot,color='blue', lw=\"0.5\", linestyle='dashed', label='yRotation (degrees) wrt T0')\n",
    "#plt.plot(zrot,color='green', lw=\"0.5\", linestyle='dashed', label='zRotation (degrees) wrt T0')\n",
    "plt.legend(ncols=2, loc=\"upper right\", bbox_to_anchor=(0.80, 1.3))\n",
    "plt.xlabel(\"Time [UTC]\")\n",
    "fig.autofmt_xdate()\n",
    "fig.tight_layout()"
   ]
  },
  {
   "cell_type": "code",
   "execution_count": null,
   "id": "f8265851-7b63-4a2a-aaf5-fa4580005867",
   "metadata": {},
   "outputs": [],
   "source": [
    "df_ims = await client.select_time_series(\n",
    "    \"lsst.sal.MTM1M3.imsData\", \n",
    "    \"*\", \n",
    "    Time(t_start, format=\"isot\", scale=\"utc\"),\n",
    "    Time(t_end, format=\"isot\", scale=\"utc\"), \n",
    ")\n",
    "print(df_ims)"
   ]
  },
  {
   "cell_type": "code",
   "execution_count": null,
   "id": "e6a63ae4-6c4f-473f-9277-63775ffa8923",
   "metadata": {},
   "outputs": [],
   "source": []
  }
 ],
 "metadata": {
  "kernelspec": {
   "display_name": "LSST",
   "language": "python",
   "name": "lsst"
  },
  "language_info": {
   "codemirror_mode": {
    "name": "ipython",
    "version": 3
   },
   "file_extension": ".py",
   "mimetype": "text/x-python",
   "name": "python",
   "nbconvert_exporter": "python",
   "pygments_lexer": "ipython3",
   "version": "3.10.10"
  }
 },
 "nbformat": 4,
 "nbformat_minor": 5
}
