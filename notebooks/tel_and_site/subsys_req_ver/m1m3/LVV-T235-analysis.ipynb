{
 "cells": [
  {
   "cell_type": "markdown",
   "id": "474a6257-c44b-4c01-8192-5af9eb127074",
   "metadata": {},
   "source": [
    "# [LVV-T235] - M13T-012: Position Repeatability After Parking\n",
    "\n",
    "Notebook containing data analysis for the [LVV-T235] test case.  \n",
    "The script used to run this test case can be found in [lsst-ts/ts_m1m3supporttesting/M13T012.py].  \n",
    "\n",
    "[LVV-T235]: https://jira.lsstcorp.org/secure/Tests.jspa#/testCase/LVV-T235\n",
    "[lsst-ts/ts_m1m3supporttesting/M13T012.py]: https://github.com/lsst-ts/ts_m1m3supporttesting/blob/develop/M13T012.py\n",
    "\n",
    "## Prepare Notebook"
   ]
  },
  {
   "cell_type": "code",
   "execution_count": null,
   "id": "b49dd25b-328e-44a1-9d27-14439b34ef6b",
   "metadata": {
    "tags": []
   },
   "outputs": [],
   "source": [
    "test_case = \"LVV-T235\"\n",
    "\n",
    "test_exec = \"LVV-E985\"\n",
    "t_start = \"2023-03-07T18:48:20\" # Exact time clean up initial fault\n",
    "t_end = \"2023-03-07T19:30:00\""
   ]
  },
  {
   "cell_type": "code",
   "execution_count": null,
   "id": "6b10eb26-ce43-41c1-a395-1d64bb4024b8",
   "metadata": {
    "tags": []
   },
   "outputs": [],
   "source": [
    "%matplotlib inline\n",
    "%load_ext autoreload\n",
    "%autoreload 2"
   ]
  },
  {
   "cell_type": "code",
   "execution_count": null,
   "id": "1ce8b55e-486d-4b60-919a-db072f508c5d",
   "metadata": {
    "tags": []
   },
   "outputs": [],
   "source": [
    "import itertools as itt\n",
    "import pandas as pd\n",
    "import matplotlib.dates as mdates\n",
    "import matplotlib.pyplot as plt\n",
    "import numpy as np\n",
    "import seaborn as sns\n",
    "\n",
    "from astropy import units as u\n",
    "from astropy.time import Time, TimezoneInfo\n",
    "\n",
    "from lsst.sitcom import vandv\n",
    "from lsst.ts.idl.enums import MTM1M3"
   ]
  },
  {
   "cell_type": "code",
   "execution_count": null,
   "id": "2669da93-773f-4b66-9f4b-0cfab0e9b71a",
   "metadata": {
    "tags": []
   },
   "outputs": [],
   "source": [
    "client = vandv.efd.create_efd_client()"
   ]
  },
  {
   "cell_type": "markdown",
   "id": "a3450b80-be93-49d4-9aea-03953119b586",
   "metadata": {},
   "source": [
    "## Collect Data"
   ]
  },
  {
   "cell_type": "code",
   "execution_count": null,
   "id": "fe71aa0d-c033-436b-af8f-2ee002e00a82",
   "metadata": {
    "tags": []
   },
   "outputs": [],
   "source": [
    "all_columns = [\"xPosition\", \"xRotation\", \"yPosition\", \"yRotation\", \"zPosition\", \"zRotation\"]\n",
    "pos_columns = [c for c in all_columns if \"Position\" in c]\n",
    "rot_columns = [c for c in all_columns if \"Rotation\" in c]\n",
    "print(pos_columns, rot_columns)"
   ]
  },
  {
   "cell_type": "code",
   "execution_count": null,
   "id": "7e5040cd-9eab-4aca-9758-b6b9d1e1b716",
   "metadata": {
    "tags": []
   },
   "outputs": [],
   "source": [
    "df_ims = await client.select_time_series(\n",
    "    \"lsst.sal.MTM1M3.imsData\", \n",
    "    \"*\", \n",
    "    Time(t_start, format=\"isot\", scale=\"utc\"),\n",
    "    Time(t_end, format=\"isot\", scale=\"utc\"), \n",
    ")\n",
    "\n",
    "df_ims = df_ims.set_index(\"private_rcvStamp\")\n",
    "df_ims.index = pd.to_datetime(df_ims.index, unit=\"s\")\n",
    "df_ims = df_ims[all_columns]\n",
    "\n",
    "# Convert meter to milimeter to make is easier to analyse\n",
    "df_ims[pos_columns] = df_ims[pos_columns] * 1e3\n",
    "\n",
    "# Convert radians to degrees\n",
    "df_ims[rot_columns] = np.rad2deg(df_ims[rot_columns])"
   ]
  },
  {
   "cell_type": "code",
   "execution_count": null,
   "id": "c197e65d-b3d8-4ea3-815b-169a67ccb577",
   "metadata": {
    "tags": []
   },
   "outputs": [],
   "source": [
    "df_state = await client.select_time_series(\n",
    "    \"lsst.sal.MTM1M3.logevent_detailedState\", \n",
    "    \"*\", \n",
    "    Time(t_start, format=\"isot\", scale=\"utc\"),\n",
    "    Time(t_end, format=\"isot\", scale=\"utc\"), \n",
    ")\n",
    "\n",
    "df_state[\"detailedStateName\"] = \\\n",
    "    df_state[\"detailedState\"].map(lambda x: MTM1M3.DetailedState(x).name)\n",
    "\n",
    "df_state = df_state.set_index(\"private_rcvStamp\")\n",
    "df_state.index = pd.to_datetime(df_state.index, unit=\"s\")"
   ]
  },
  {
   "cell_type": "code",
   "execution_count": null,
   "id": "e4aae080-87b8-4d61-b545-23a482b95e03",
   "metadata": {
    "tags": []
   },
   "outputs": [],
   "source": [
    "df_cmdPos = await client.select_time_series(\n",
    "    \"lsst.sal.MTM1M3.command_positionM1M3\", \n",
    "    \"*\", \n",
    "    Time(t_start, format=\"isot\", scale=\"utc\"),\n",
    "    Time(t_end, format=\"isot\", scale=\"utc\"), \n",
    ")\n",
    "\n",
    "df_cmdPos = df_cmdPos.set_index(\"private_rcvStamp\")\n",
    "df_cmdPos.index = pd.to_datetime(df_cmdPos.index, unit=\"s\")\n",
    "df_cmdPos = df_cmdPos[all_columns]\n",
    "df_cmdPos = df_cmdPos * 1e3 # Convert meter to milimeter to make is easier to analyse"
   ]
  },
  {
   "cell_type": "code",
   "execution_count": null,
   "id": "2d2cfec5-eee4-483e-b77b-ff7f68bff10a",
   "metadata": {
    "tags": []
   },
   "outputs": [],
   "source": [
    "df_HPState = await client.select_time_series(\n",
    "    \"lsst.sal.MTM1M3.logevent_hardpointActuatorState\", \n",
    "    \"*\", \n",
    "    Time(t_start, format=\"isot\", scale=\"utc\"),\n",
    "    Time(t_end, format=\"isot\", scale=\"utc\"), \n",
    ")\n",
    "\n",
    "df_HPState = df_HPState.set_index(\"private_rcvStamp\")\n",
    "df_HPState.index = pd.to_datetime(df_HPState.index, unit=\"s\")"
   ]
  },
  {
   "cell_type": "markdown",
   "id": "b3047909-d7f7-4bf0-b23c-e39d881fe791",
   "metadata": {},
   "source": [
    "## Initial Data Display "
   ]
  },
  {
   "cell_type": "markdown",
   "id": "7cb540fc-2496-4d67-b0e0-877930c26033",
   "metadata": {
    "execution": {
     "iopub.execute_input": "2023-04-04T20:54:31.875084Z",
     "iopub.status.busy": "2023-04-04T20:54:31.874570Z",
     "iopub.status.idle": "2023-04-04T20:54:31.952264Z",
     "shell.execute_reply": "2023-04-04T20:54:31.951665Z",
     "shell.execute_reply.started": "2023-04-04T20:54:31.875036Z"
    }
   },
   "source": [
    "The plot below shows the whole data collection.  \n",
    "There you can see a loop repeated seven times. "
   ]
  },
  {
   "cell_type": "code",
   "execution_count": null,
   "id": "10cb54de-6e0b-44a4-ae3c-0954e89b77c4",
   "metadata": {
    "tags": []
   },
   "outputs": [],
   "source": [
    "title = f\"{test_case} {test_exec}\\nData Overview\"\n",
    "fig, axs = plt.subplots(num=title, nrows=3, sharex=True, figsize=(10, 5))\n",
    "\n",
    "when_parked = df_state[df_state[\"detailedStateName\"] == \"PARKED\"].index\n",
    "when_rasing = df_state[df_state[\"detailedStateName\"] == \"RAISINGENGINEERING\"].index\n",
    "when_lowering = df_state[df_state[\"detailedStateName\"] == \"LOWERINGENGINEERING\"].index\n",
    "when_active = df_state[df_state[\"detailedStateName\"] == \"ACTIVEENGINEERING\"].index\n",
    "\n",
    "for i, label in enumerate(pos_columns):\n",
    "    ax = axs[i]\n",
    "    ax.plot(df_ims[label])\n",
    "    \n",
    "    for idx in when_parked:\n",
    "        l1 = ax.axvline(idx, lw=\"0.5\", c=\"k\")\n",
    "        \n",
    "    for idx in when_rasing:\n",
    "        l2 = ax.axvline(idx, lw=\"0.5\", c=\"k\", ls=\"--\")\n",
    "        \n",
    "    for idx in when_lowering:\n",
    "        l3 = ax.axvline(idx, lw=\"0.5\", c=\"k\", ls=\":\")\n",
    "        \n",
    "    for idx in when_active:\n",
    "        l4 = ax.axvline(idx, lw=\"0.5\", c=\"C1\", ls=\"-\")\n",
    "\n",
    "    ax.grid(\":\", lw=0.1)\n",
    "    ax.set_xlabel(\"Time [UTC]\")\n",
    "    ax.set_ylabel(f\"{label} [mm]\")\n",
    "\n",
    "fig.legend(\n",
    "    [l1, l2, l3, l4], \n",
    "    [\"PARKED\", \"RAISINGENGINEERING\", \"LOWERINGENGINEERING\", \"ACTIVEENGINEERING\"], \n",
    "    ncols=4, \n",
    "    loc=\"upper right\", \n",
    "    bbox_to_anchor=(0.93, 0.92)\n",
    ")\n",
    "fig.suptitle(title + \"\\n\")\n",
    "fig.autofmt_xdate()\n",
    "fig.tight_layout()\n",
    "\n",
    "plt.show()"
   ]
  },
  {
   "cell_type": "markdown",
   "id": "29c8f2c6-0a3b-48a9-8717-61946f0af767",
   "metadata": {},
   "source": [
    "### Find and Subtract Reference Value\n",
    "\n",
    "As you can see, the initial M1M3 position is not zero on any of the directions.  \n",
    "It will be much easier if we can do the data analysis on data that is centered at zero.  \n",
    "From the plot above, we can get the telemetry close to when the ACTIVEENGINEERING detailed state is as a reference.\n",
    "  \n",
    "The cell bellow shows how we extract the median near the detailed state event associated with ACTIVEENGINEERING."
   ]
  },
  {
   "cell_type": "code",
   "execution_count": null,
   "id": "b83103e8-9d97-42d6-8792-807c6f3c11eb",
   "metadata": {
    "tags": []
   },
   "outputs": [],
   "source": [
    "when_active = df_state[df_state[\"detailedStateName\"] == \"ACTIVEENGINEERING\"].index\n",
    "\n",
    "sub_df = pd.DataFrame(columns=df_ims.columns.to_list())\n",
    "\n",
    "for idx in when_active:\n",
    "    dt = pd.Timedelta(2, \"sec\")\n",
    "    temp = df_ims.loc[idx:idx+dt]\n",
    "    sub_df = pd.concat((sub_df, temp), axis=0)\n",
    "    \n",
    "median_vals = sub_df.median()\n",
    "print(median_vals)"
   ]
  },
  {
   "cell_type": "markdown",
   "id": "de78e8f1-474d-4dd4-b90e-a40b078d84e5",
   "metadata": {},
   "source": [
    "  \n",
    "Now we copy the IMS dataframe and subtract the reference values from all the position columns.  "
   ]
  },
  {
   "cell_type": "code",
   "execution_count": null,
   "id": "2cc128ab-437b-423a-ac4e-27eaa20b1428",
   "metadata": {
    "tags": []
   },
   "outputs": [],
   "source": [
    "df_results = df_ims.copy() \n",
    "\n",
    "for col in pos_columns:\n",
    "    df_results[col] = df_results[col] - median_vals[col]"
   ]
  },
  {
   "cell_type": "markdown",
   "id": "3bfe1b39-7308-4c28-9227-84c1257348ef",
   "metadata": {},
   "source": [
    "And plot them."
   ]
  },
  {
   "cell_type": "code",
   "execution_count": null,
   "id": "59cd1a9a-4c53-4ea8-99e7-14c8f944a74b",
   "metadata": {
    "tags": []
   },
   "outputs": [],
   "source": [
    "title = f\"{test_case} {test_exec}\\nData Overview with Reference Subtracted\"\n",
    "fig, axs = plt.subplots(num=title, nrows=3, sharex=True, figsize=(10, 5))\n",
    "\n",
    "when_parked = df_state[df_state[\"detailedStateName\"] == \"PARKED\"].index\n",
    "\n",
    "for i, label in enumerate([\"xPosition\", \"yPosition\", \"zPosition\"]):\n",
    "    ax = axs[i]\n",
    "    ax.plot(df_results[label])\n",
    "    \n",
    "    for idx in when_parked:\n",
    "        ax.axvline(idx, lw=\"0.5\", c=\"k\")\n",
    "        \n",
    "    for idx in when_rasing:\n",
    "        ax.axvline(idx, lw=\"0.5\", c=\"k\", ls=\"--\")\n",
    "        \n",
    "    for idx in when_lowering:\n",
    "        ax.axvline(idx, lw=\"0.5\", c=\"k\", ls=\":\")\n",
    "        \n",
    "    for idx in when_active:\n",
    "        ax.axvline(idx, lw=\"0.5\", c=\"C1\", ls=\"-\")\n",
    "\n",
    "    ax.grid(\":\", lw=0.1)\n",
    "    ax.set_xlabel(\"Time [UTC]\")\n",
    "    ax.set_ylabel(f\"{label} [mm]\")\n",
    "\n",
    "fig.legend(\n",
    "    [l1, l2, l3, l4], \n",
    "    [\"PARKED\", \"RAISINGENGINEERING\", \"LOWERINGENGINEERING\", \"ACTIVEENGINEERING\"], \n",
    "    ncols=4, \n",
    "    loc=\"upper right\", \n",
    "    bbox_to_anchor=(0.93, 0.92)\n",
    ")\n",
    "    \n",
    "fig.suptitle(title + \"\\n\")\n",
    "fig.autofmt_xdate()\n",
    "fig.tight_layout()\n",
    "\n",
    "plt.show()"
   ]
  },
  {
   "cell_type": "markdown",
   "id": "df6e2ec3-1122-49c7-a914-340a94ae8e52",
   "metadata": {},
   "source": [
    "### Zoom Single Loop\n",
    "\n",
    "The plots above show the whole data acquisition process.  \n",
    "They show a loop of seven iterations through the different positions.  \n",
    "The plot below shows a zoom in the first interation that starts in the first PARK state event and finished in the second PARK state event. \n",
    "It also shows the commanded position and the time window we use for statistics. "
   ]
  },
  {
   "cell_type": "code",
   "execution_count": null,
   "id": "8ee0efc4-bdc6-4fdb-8367-81bd56f1ca6a",
   "metadata": {
    "tags": []
   },
   "outputs": [],
   "source": [
    "title = f\"{test_case} {test_exec}\\nZoom Single Loop\"\n",
    "fig, axs = plt.subplots(num=title, nrows=3, sharex=True, figsize=(10, 5))\n",
    "\n",
    "when_parked = df_state[df_state[\"detailedStateName\"] == \"PARKED\"].index\n",
    "axes = [\"x\", \"y\", \"z\"]\n",
    "colors = [\"g\", \"b\", \"r\"]\n",
    "\n",
    "for i, label in enumerate([\"xPosition\", \"yPosition\", \"zPosition\"]):\n",
    "    ax = axs[i]\n",
    "    sub_df_results = df_results[when_parked[0]:when_parked[1]]\n",
    "    sub_df_cmdPos = df_cmdPos[when_parked[0]:when_parked[1]]\n",
    "    \n",
    "    l1, = ax.plot(sub_df_results[label])\n",
    "    \n",
    "    sub_sub_df_cmdPos = sub_df_cmdPos[sub_df_cmdPos[label] != 0]\n",
    "\n",
    "    for idx in sub_sub_df_cmdPos.index:\n",
    "                \n",
    "        sub_df_HPState = df_HPState[idx:]        \n",
    "        mask = (sub_df_HPState[[f\"motionState{j}\" for j in range(1, 6)]] == 0).all(axis=1) \n",
    "        idx_hp = sub_df_HPState[mask].index[0]\n",
    "\n",
    "        l4 = ax.axvspan(idx_hp, idx_hp+pd.Timedelta(2, \"sec\"), fc=\"firebrick\", alpha=0.5)\n",
    "        l3 = ax.axvline(idx_hp, c=\"k\", ls=\":\")\n",
    "        l2 = ax.axvline(idx, c=\"k\", ls=\"-\")\n",
    "\n",
    "    ax.grid(\":\", lw=0.2)\n",
    "    ax.set_xlabel(\"Time [UTC]\")\n",
    "    ax.set_xlim(sub_df_results.index[0], sub_df_results.index[-1])\n",
    "    ax.set_ylabel(f\"{label} [mm]\")\n",
    "\n",
    "leg = fig.legend(\n",
    "    [l1, l2, l3, l4], \n",
    "    [\"Position\", \"Commanded Position\", \"Hard-Points in StandBy\", \"Data Collection Window\"], \n",
    "    ncols=4,\n",
    "    loc=\"upper right\",\n",
    "    bbox_to_anchor=(0.94, 0.91)\n",
    ")\n",
    "leg.get_frame().set_linewidth(0.0)\n",
    "\n",
    "fig.suptitle(title + \"\\n\")\n",
    "fig.autofmt_xdate()\n",
    "fig.tight_layout()\n",
    "\n",
    "plt.show()"
   ]
  },
  {
   "cell_type": "markdown",
   "id": "ae3b0cca-e32f-4df0-80ce-0866bdbe3f00",
   "metadata": {},
   "source": [
    "## Super Zoom in each commanded position\n",
    "\n",
    "Here we do a preliminary analysis on each of the commanded X/Y position.  \n",
    "Yes, we are omitting the "
   ]
  },
  {
   "cell_type": "code",
   "execution_count": null,
   "id": "6857155d-2b88-4b02-afc1-7559c09647a1",
   "metadata": {
    "tags": []
   },
   "outputs": [],
   "source": [
    "dt = pd.Timedelta(2, \"seconds\")\n",
    "when_parked = df_state[df_state[\"detailedStateName\"] == \"PARKED\"].index\n",
    "\n",
    "title = f\"{test_case} {test_exec}\\nSuper Zoom for +/- X/Y Positions\"\n",
    "fig, axs = plt.subplots(num=title, nrows=2, ncols=2, figsize=(10, 5), sharex=True)\n",
    "\n",
    "for loop in range(when_parked.size-1):\n",
    "\n",
    "    sub_df_results = df_results[when_parked[loop]:when_parked[loop+1]]\n",
    "    sub_df_cmdPos = df_cmdPos[when_parked[loop]:when_parked[loop+1]]\n",
    "\n",
    "    for i, label in enumerate([\"xPosition\", \"yPosition\"]):\n",
    "        sub_sub_df_cmdPos = sub_df_cmdPos[sub_df_cmdPos[label] != 0]\n",
    "        for ii, idx in enumerate(sub_sub_df_cmdPos.index):\n",
    "            sub_df_HPState = df_HPState[idx:]        \n",
    "            mask = (sub_df_HPState[[f\"motionState{j}\" for j in range(1, 6)]] == 0).all(axis=1) \n",
    "            idx_hp = sub_df_HPState[mask].index[0]\n",
    "            \n",
    "            temp = df_results.loc[idx_hp:idx_hp+dt, label].copy()\n",
    "            temp.index = temp.index - temp.index[0]\n",
    "\n",
    "            ax = axs[i, ii]\n",
    "            ax.plot(temp, label=f\"#{loop}\")\n",
    "            ax.set_ylabel(f\"{label} {sub_sub_df_cmdPos.loc[idx, label]:.2f}\")\n",
    "\n",
    "for i in range(2):\n",
    "    axs[1, i].set_xlabel(f\"time - time$_0$ [s]\")\n",
    "\n",
    "ax.legend(bbox_to_anchor=(1.01, 1.00))\n",
    "fig.suptitle(title + \"\\n\")\n",
    "fig.autofmt_xdate()\n",
    "fig.tight_layout()\n",
    "\n",
    "plt.show()"
   ]
  },
  {
   "cell_type": "markdown",
   "id": "2c1d605d-2f0b-4a48-b5b9-2a03ea920a73",
   "metadata": {},
   "source": [
    "## Data Analysis\n",
    "\n",
    "Now we know exactly what data we are looking for what are the criteria to select them.  \n",
    "We want to determine the difference between the commanded position and the actual position once all the Hard-Points are in STANDBY.  \n",
    "The integration window has an arbitrary length because it would be too hard to guess what would be the next command or event.\n",
    "\n",
    "We update the `df_results` dataframe to contain the commanded positions."
   ]
  },
  {
   "cell_type": "code",
   "execution_count": null,
   "id": "c6708a61-d7c7-470b-8b06-d848d6af0b6b",
   "metadata": {
    "tags": []
   },
   "outputs": [],
   "source": [
    "for new_col in [\"xPositionCmd\", \"yPositionCmd\", \"zPositionCmd\"]:\n",
    "    df_results[new_col] = None"
   ]
  },
  {
   "cell_type": "markdown",
   "id": "2106dd10-abbc-4836-9e1f-6d5deaaee54f",
   "metadata": {},
   "source": [
    "Now, we need to extract what were all the commanded positions.  \n",
    "For this, we the `.groupby` method together with other methods to have a clean and nice DataFrame."
   ]
  },
  {
   "cell_type": "code",
   "execution_count": null,
   "id": "8406382d-c11a-4952-8c6b-333e23a0c792",
   "metadata": {
    "tags": []
   },
   "outputs": [],
   "source": [
    "df_cases = (df_cmdPos\n",
    "    .groupby(df_cmdPos.columns.to_list())\n",
    "    .size()\n",
    "    .reset_index()\n",
    "    .rename(columns={0:'count'})\n",
    "    .drop(labels=[\"count\", \"xRotation\", \"yRotation\", \"zRotation\"], axis=1)\n",
    ")\n",
    "\n",
    "df_cases = df_cases.rename(columns={col: f\"{col}Cmd\" for col in df_cases.columns})\n",
    "df_cases = df_cases.round(2)\n",
    "df_cases"
   ]
  },
  {
   "cell_type": "markdown",
   "id": "e7bcf10b-04a1-42cb-bc88-bffd3d7ea479",
   "metadata": {},
   "source": [
    "The cell below walks through each commanded position and fills the `df_results` data frame with them.  "
   ]
  },
  {
   "cell_type": "code",
   "execution_count": null,
   "id": "18d44768-3c2c-4361-a37a-e3baac3c2b4b",
   "metadata": {
    "tags": []
   },
   "outputs": [],
   "source": [
    "for idx, case in df_cases.iterrows():\n",
    "   \n",
    "    # Select a case\n",
    "    selected_case = (\n",
    "        np.isclose(df_cmdPos[\"xPosition\"], case[\"xPositionCmd\"]) &\n",
    "        np.isclose(df_cmdPos[\"yPosition\"], case[\"yPositionCmd\"]) &\n",
    "        np.isclose(df_cmdPos[\"zPosition\"], case[\"zPositionCmd\"]) \n",
    "    ) \n",
    "    temp = df_cmdPos[selected_case]\n",
    "    \n",
    "    # Get first STANBY Hard-Point state after sending command to move\n",
    "    # This means that the Hard-Points are settled down\n",
    "    for idx_start in temp.index:\n",
    "        sub_df_HPState = df_HPState[idx_start:]\n",
    "        mask = (sub_df_HPState[[f\"motionState{j}\" for j in range(1, 6)]] == 0).all(axis=1) \n",
    "        idx_end = sub_df_HPState[mask].index[0]\n",
    "                \n",
    "        # Put the commanded positions together with the results\n",
    "        for col in [\"xPositionCmd\", \"yPositionCmd\", \"zPositionCmd\"]:\n",
    "            df_results.loc[idx_start:idx_end, col] = case[col]"
   ]
  },
  {
   "cell_type": "markdown",
   "id": "48ce6b08-e8d8-4aa1-b869-7d2e7535b7d0",
   "metadata": {},
   "source": [
    "Now we want to display the data.  \n",
    "The requirements only need us to check the position and rotation in X and Y only.  \n",
    "Let's clean our dataframe a bit.  "
   ]
  },
  {
   "cell_type": "code",
   "execution_count": null,
   "id": "6efcd513-4954-47ce-8324-2d4eb126f4aa",
   "metadata": {
    "tags": []
   },
   "outputs": [],
   "source": [
    "df_results = df_results.dropna()\n",
    "df_results = df_results.drop(columns=[\"zPosition\", \"zRotation\"])"
   ]
  },
  {
   "cell_type": "code",
   "execution_count": null,
   "id": "762a3828-e9b9-4b64-b6fe-f8f7033a7115",
   "metadata": {
    "tags": []
   },
   "outputs": [],
   "source": [
    "df_group = (df_results\n",
    "    .groupby([\"xPositionCmd\", \"yPositionCmd\", \"zPositionCmd\"])\n",
    "    .mean()\n",
    "    .reset_index()\n",
    ")\n",
    "\n",
    "df_group"
   ]
  },
  {
   "cell_type": "code",
   "execution_count": null,
   "id": "4ae4326b-d6c9-4b27-bc06-447eee9d12a0",
   "metadata": {
    "tags": []
   },
   "outputs": [],
   "source": [
    "df_min = (df_results\n",
    "    .groupby([\"xPositionCmd\", \"yPositionCmd\", \"zPositionCmd\"])\n",
    "    .min()\n",
    "    .reset_index()\n",
    ")\n",
    "\n",
    "df_min"
   ]
  },
  {
   "cell_type": "code",
   "execution_count": null,
   "id": "7918fb34-b8e2-4f33-ac7d-2725f5aa25ef",
   "metadata": {},
   "outputs": [],
   "source": [
    "df_max = (df_results\n",
    "    .groupby([\"xPositionCmd\", \"yPositionCmd\", \"zPositionCmd\"])\n",
    "    .max()\n",
    "    .reset_index()\n",
    ")\n",
    "\n",
    "df_max"
   ]
  },
  {
   "cell_type": "code",
   "execution_count": null,
   "id": "3abe0c89-df2b-4838-a0d7-f99e603c4b6e",
   "metadata": {
    "tags": []
   },
   "outputs": [],
   "source": [
    "title = f\"{test_case} {test_exec}\\n Detailed View\"\n",
    "fig, axs = plt.subplots(num=title, figsize=(8, 8), nrows=2, ncols=2)\n",
    "\n",
    "for i, col in enumerate([\"xPosition\", \"yPosition\", \"xRotation\", \"yRotation\"]):\n",
    "\n",
    "    dataset = []\n",
    "    for idx, row in df_group.iterrows():\n",
    "        selected_case = (\n",
    "            (row[\"xPositionCmd\"] == df_results[\"xPositionCmd\"]) & \n",
    "            (row[\"yPositionCmd\"] == df_results[\"yPositionCmd\"]) \n",
    "        ) \n",
    "        dataset.append(df_results.loc[selected_case, col])\n",
    "    \n",
    "    ax = axs[i//2, i%2]\n",
    "    violin = ax.violinplot(dataset)\n",
    "\n",
    "    for pc in violin[\"bodies\"]:\n",
    "        pc.set_facecolor(f\"C{i}\")\n",
    "        pc.set_alpha(0.25)\n",
    "    \n",
    "    for partname in ('cbars', 'cmins', 'cmaxes'):\n",
    "        vp = violin[partname]\n",
    "        vp.set_edgecolor(f\"C{i}\")\n",
    "        vp.set_linewidth(1)\n",
    "    \n",
    "    if \"Position\" in col:\n",
    "        ax.set_ylabel(f\"{col} Error [mm]\")\n",
    "    else: \n",
    "        ax.set_ylabel(f\"{col} Error [deg]\")\n",
    "    \n",
    "    ax.grid(\":\", alpha=0.1, lw=0.5)\n",
    "\n",
    "fig.suptitle(title + \"\\n\")\n",
    "fig.tight_layout()\n",
    "plt.show()\n",
    "print(\"\\n\\n\\n\")"
   ]
  },
  {
   "cell_type": "code",
   "execution_count": null,
   "id": "ea94af20-9fb7-4de0-9481-58d5613eb03f",
   "metadata": {
    "tags": []
   },
   "outputs": [],
   "source": [
    "row = 1\n",
    "title = f\"{test_case} {test_exec}\\n Detailed and Zoom View - Row {row}\"\n",
    "fig, axs = plt.subplots(num=title, figsize=(8, 8), nrows=2, ncols=2)\n",
    "\n",
    "for i, col in enumerate([\"xPosition\", \"yPosition\", \"xRotation\", \"yRotation\"]):\n",
    "\n",
    "    selected_case = (\n",
    "        (df_group.iloc[row][\"xPositionCmd\"] == df_results[\"xPositionCmd\"]) & \n",
    "        (df_group.iloc[row][\"yPositionCmd\"] == df_results[\"yPositionCmd\"]) \n",
    "    ) \n",
    "\n",
    "    dataset = pd.DataFrame(df_results.loc[selected_case, col])\n",
    "    \n",
    "    ax = axs[i//2, i%2]\n",
    "    ax.plot(dataset, f\"C{i}.\")\n",
    "    if \"Position\" in col:\n",
    "        ax.set_ylabel(f\"{col} Error [mm]\")\n",
    "    else: \n",
    "        ax.set_ylabel(f\"{col} Error [deg]\")\n",
    "    \n",
    "    ax.grid(\":\", alpha=0.1, lw=0.5)\n",
    "\n",
    "fig.suptitle(title + \"\\n\")\n",
    "fig.tight_layout()\n",
    "fig.autofmt_xdate()\n",
    "plt.show()\n",
    "print(\"\\n\\n\\n\")"
   ]
  },
  {
   "cell_type": "code",
   "execution_count": null,
   "id": "1384efac-bf21-4352-9e83-ea5581f07484",
   "metadata": {},
   "outputs": [],
   "source": []
  },
  {
   "cell_type": "code",
   "execution_count": null,
   "id": "8bcf5d1b-fd7b-4099-8af1-c240531064d6",
   "metadata": {},
   "outputs": [],
   "source": []
  }
 ],
 "metadata": {
  "kernelspec": {
   "display_name": "LSST",
   "language": "python",
   "name": "lsst"
  },
  "language_info": {
   "codemirror_mode": {
    "name": "ipython",
    "version": 3
   },
   "file_extension": ".py",
   "mimetype": "text/x-python",
   "name": "python",
   "nbconvert_exporter": "python",
   "pygments_lexer": "ipython3",
   "version": "3.10.9"
  }
 },
 "nbformat": 4,
 "nbformat_minor": 5
}
