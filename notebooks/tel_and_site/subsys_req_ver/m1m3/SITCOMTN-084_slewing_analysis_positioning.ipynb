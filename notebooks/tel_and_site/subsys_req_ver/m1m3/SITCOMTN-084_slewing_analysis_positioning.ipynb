{
 "cells": [
  {
   "cell_type": "markdown",
   "metadata": {},
   "source": [
    "# M1M3 position data\n",
    "Craig Lage - 16-Apr-23 \\\n",
    "Modified 17-Nov-23 \\\n",
    "This is evaluating M1M3 position stability in support of SITCOM-797"
   ]
  },
  {
   "cell_type": "markdown",
   "metadata": {},
   "source": [
    "## Prepare the notebook"
   ]
  },
  {
   "cell_type": "code",
   "execution_count": null,
   "metadata": {
    "tags": []
   },
   "outputs": [],
   "source": [
    "# Directory to store the data\n",
    "from pathlib import Path\n",
    "data_dir = Path(\"./plots\")\n",
    "data_dir.mkdir(exist_ok=True, parents=True)\n",
    "\n",
    "# These are the times for the large elevation slew plot\n",
    "t_start = \"2023-07-11T18:53:30\" \n",
    "t_end = \"2023-07-11T18:58:00\"\n",
    "\n",
    "# Now these are the day of a large number of slews\n",
    "dayObs = 20230802\n",
    "\n",
    "# These are the times of the different blocks with different max speed limits\n",
    "# and the corresponding speed limits\n",
    "blockTimes = [\"2023-08-02T21:44:00\", \"2023-08-03T01:14:00\", \"2023-08-03T03:06:00\", \\\n",
    "              \"2023-08-03T05:01:00\", \"2023-08-03T06:00:00\"]\n",
    "azMaxLimits = [30.0, 40.0, 50.0, 20.0]\n",
    "elMaxLimits = [30.0, 30.0, 30.0, 20.0]"
   ]
  },
  {
   "cell_type": "code",
   "execution_count": null,
   "metadata": {
    "tags": []
   },
   "outputs": [],
   "source": [
    "import sys, time, os, asyncio, glob\n",
    "from datetime import datetime\n",
    "import numpy as np\n",
    "import matplotlib.pyplot as plt\n",
    "from matplotlib.backends.backend_pdf import PdfPages\n",
    "import pickle as pkl\n",
    "from astropy.time import Time, TimeDelta\n",
    "from scipy.interpolate import UnivariateSpline\n",
    "from lsst.summit.utils.tmaUtils import TMAEventMaker, TMAState, getSlewsFromEventList\n",
    "from lsst_efd_client import EfdClient"
   ]
  },
  {
   "cell_type": "code",
   "execution_count": null,
   "metadata": {
    "tags": []
   },
   "outputs": [],
   "source": [
    "client = EfdClient(\"idf_efd\")\n",
    "eventMaker = TMAEventMaker()"
   ]
  },
  {
   "cell_type": "markdown",
   "metadata": {},
   "source": [
    "# Get the data for the large elevation slew plot"
   ]
  },
  {
   "cell_type": "code",
   "execution_count": null,
   "metadata": {
    "tags": []
   },
   "outputs": [],
   "source": [
    "start = Time(t_start, scale='utc')\n",
    "end = Time(t_end, scale='utc')\n",
    "hardpoint_data = await client.select_time_series(\"lsst.sal.MTM1M3.hardpointActuatorData\", \"*\", start, end)\n",
    "monitor_data = await client.select_time_series(\"lsst.sal.MTM1M3.hardpointMonitorData\", \"*\", start, end)\n",
    "ims_data = await client.select_time_series(\"lsst.sal.MTM1M3.imsData\", \"*\", start, end)\n",
    "az = await client.select_time_series(\"lsst.sal.MTMount.azimuth\",\"actualPosition\", start, end)\n",
    "el = await client.select_time_series(\"lsst.sal.MTMount.elevation\",\"actualPosition\", start, end)\n",
    "azs = az['actualPosition'].values\n",
    "dAz = azs[-1] - azs[0]\n",
    "els = el['actualPosition'].values\n",
    "dEl = els[-1] - els[0]\n",
    "timestamp = start.isot.split('.')[0].replace('-','').replace(':','')"
   ]
  },
  {
   "cell_type": "markdown",
   "metadata": {},
   "source": [
    "# Now make the large elevation slew plot"
   ]
  },
  {
   "cell_type": "code",
   "execution_count": null,
   "metadata": {
    "tags": []
   },
   "outputs": [],
   "source": [
    "%matplotlib inline\n",
    "plots = ['xPosition', 'yPosition', 'zPosition', 'xRotation', 'yRotation', 'zRotation']\n",
    "limits = [6.0, 6.0, 1.0, 24.0, 24.0, 24.0] # allowed IMS limits\n",
    "fig, axs = plt.subplots(3,2,figsize=(8,10))\n",
    "plt.subplots_adjust(hspace=0.6, wspace=1.0)\n",
    "plt.suptitle(f\"Mirror position changes during slew: {timestamp}\\nDeltaAz = {dAz:.3f}, DeltaEl = {dEl:.3f}\", fontsize=16)\n",
    "plot_counter = 0\n",
    "for i in range(3):\n",
    "    for j in range(2):\n",
    "        \n",
    "        smoothed_ims_data = ims_data[plots[plot_counter]].rolling(10).mean()\n",
    "        smoothed_ims_data = smoothed_ims_data.dropna()\n",
    "        smoothed_ims_data -= smoothed_ims_data[0]\n",
    "        smoothed_hardpoint_data = hardpoint_data[plots[plot_counter]].rolling(10).mean()\n",
    "        \n",
    "        if plot_counter > 2:\n",
    "            smoothed_ims_data *= 1E6\n",
    "            smoothed_hardpoint_data *= 1E6\n",
    "            unit = 'microDeg'\n",
    "        else:\n",
    "            smoothed_ims_data *= 1E6\n",
    "            smoothed_hardpoint_data *= 1E6\n",
    "            unit = 'um'\n",
    "        #axs[i][j].set_title(plots[plot_counter])\n",
    "        axs[i][j].set_ylabel(f'IMS ({unit})')\n",
    "        axs[i][j].yaxis.label.set_color('red')\n",
    "        initial_pos = np.median(smoothed_ims_data.values[0:100])\n",
    "        final_pos = np.median(smoothed_ims_data.values[-100:-1])\n",
    "        pos_delta = initial_pos - final_pos\n",
    "        axs[i][j].set_title(plots[plot_counter]+f\"\\n Position Delta = {pos_delta:.1f} {unit}\")\n",
    "\n",
    "        smoothed_ims_data.plot(ax=axs[i][j], color='red', label='IMS')\n",
    "        zero = np.mean(smoothed_ims_data.values)\n",
    "        axs[i][j].axhline(zero+limits[plot_counter], ls='--', color='black')\n",
    "        axs[i][j].axhline(zero-limits[plot_counter], ls='--', color='black')\n",
    "        textX = smoothed_ims_data.index[10]\n",
    "        textY = zero + 0.2 * (smoothed_ims_data.values[-1] - smoothed_ims_data.values[0])\n",
    "        axs[i][j].text(textX, textY, \"-- Spec limits\", color='black')\n",
    "\n",
    "        plot_counter += 1\n",
    "plt.savefig(str(data_dir / f\"Position_Data_{timestamp}.png\"))"
   ]
  },
  {
   "cell_type": "markdown",
   "metadata": {
    "execution": {
     "iopub.execute_input": "2023-09-14T17:58:08.825863Z",
     "iopub.status.busy": "2023-09-14T17:58:08.825720Z",
     "iopub.status.idle": "2023-09-14T17:58:11.654032Z",
     "shell.execute_reply": "2023-09-14T17:58:11.653458Z",
     "shell.execute_reply.started": "2023-09-14T17:58:08.825850Z"
    },
    "tags": []
   },
   "source": [
    "# Get the IMS data for the slews on the selected dayObs"
   ]
  },
  {
   "cell_type": "code",
   "execution_count": null,
   "metadata": {
    "tags": []
   },
   "outputs": [],
   "source": [
    "data = {}\n",
    "els = []\n",
    "azs = []\n",
    "times = []\n",
    "temps = []\n",
    "elLimits = []\n",
    "azLimits = []\n",
    "xPos = []\n",
    "yPos = []\n",
    "zPos = []\n",
    "xRot = []\n",
    "yRot = []\n",
    "zRot = []\n",
    "\n",
    "events = eventMaker.getEvents(dayObs)\n",
    "slews = [e for e in events if e.type==TMAState.SLEWING]\n",
    "print(f'{dayObs}:found {len(slews)} slews ')\n",
    "\n",
    "t0 = slews[0].begin.unix_tai\n",
    "for j, slew in enumerate(slews):\n",
    "\n",
    "    dT = 5.0\n",
    "    start = slew.end-TimeDelta(dT, format='sec')\n",
    "    end = slew.end+TimeDelta(dT, format='sec')\n",
    "    time = end.unix_tai - t0\n",
    "    ims_data = await client.select_time_series(\"lsst.sal.MTM1M3.imsData\", \"*\", start, end)\n",
    "    az = await client.select_time_series(\"lsst.sal.MTMount.azimuth\",\"actualPosition\", start, end)\n",
    "    el = await client.select_time_series(\"lsst.sal.MTMount.elevation\",\"actualPosition\", start, end)\n",
    "    temp = await client.select_time_series(\"lsst.sal.MTM1M3TS.glycolLoopTemperature\", \"insideCellTemperature1\", \\\n",
    "                                           start, end)\n",
    "    try:\n",
    "        zPosFinal = ims_data['zPosition'].values[-1]\n",
    "        if zPosFinal > -0.002: # Test if mirror is raised\n",
    "            for n, blockTime in enumerate(blockTimes[0:-1]):\n",
    "                startTime = Time(blockTime, scale='utc')\n",
    "                endTime = Time(blockTimes[n+1], scale='utc')\n",
    "                startTest = start.unix_tai - startTime.unix_tai\n",
    "                endTest = start.unix_tai - endTime.unix_tai\n",
    "                if startTest >0.0 and endTest < 0.0:\n",
    "                    elLimits.append(elMaxLimits[n])\n",
    "                    azLimits.append(azMaxLimits[n])\n",
    "                    els.append(el.values[-1][0])\n",
    "                    azs.append(az.values[-1][0])\n",
    "                    times.append(time)\n",
    "                    temps.append(np.median(temp['insideCellTemperature1'].values))\n",
    "                    xPos.append(ims_data['xPosition'].values[-1] * 1.0E6)\n",
    "                    yPos.append(ims_data['yPosition'].values[-1] * 1.0E6)\n",
    "                    zPos.append(ims_data['zPosition'].values[-1] * 1.0E6)\n",
    "                    xRot.append(ims_data['xRotation'].values[-1] * 1.0E6)\n",
    "                    yRot.append(ims_data['yRotation'].values[-1] * 1.0E6)\n",
    "                    zRot.append(ims_data['zRotation'].values[-1] * 1.0E6)\n",
    "    except:\n",
    "        continue\n",
    "    if j > 0 and j % 100 == 0:\n",
    "        print(f\"Finished {j} slews\")\n",
    "\n",
    "data[dayObs] = [els, azs, times, temps, elLimits, azLimits, [xPos, yPos, zPos, xRot, yRot, zRot]]"
   ]
  },
  {
   "cell_type": "markdown",
   "metadata": {},
   "source": [
    "# Now plot the plot showing IMS motions after multiple slews."
   ]
  },
  {
   "cell_type": "code",
   "execution_count": null,
   "metadata": {
    "tags": []
   },
   "outputs": [],
   "source": [
    "%matplotlib inline\n",
    "names = ['xPosition', 'yPosition', 'zPosition', 'xRotation', 'yRotation', 'zRotation']\n",
    "limits = [6.0, 6.0, 1.0, 24.0, 24.0, 24.0]\n",
    "\n",
    "fig, axs = plt.subplots(2,3,figsize=(12,8))\n",
    "plt.subplots_adjust(hspace=0.3, wspace=0.4)\n",
    "plt.suptitle(f\"Final mirror position after a slew\", fontsize=16)\n",
    "plot_counter = 0\n",
    "for i in range(2):\n",
    "    for j in range(3):\n",
    "        if plot_counter > 2:\n",
    "            unit = 'microDeg'\n",
    "        else:\n",
    "            unit = 'um'\n",
    "        for dayObs in data.keys():\n",
    "            [els, azs, times, temps, elLimits, azLimits, plots] = data[dayObs] \n",
    "\n",
    "            axs[i][j].set_title(names[plot_counter])\n",
    "            axs[i][j].set_xlim(0, 90)\n",
    "            axs[i][j].set_xlabel(\"Elevation (degrees)\")\n",
    "            axs[i][j].set_ylabel(f'IMS ({unit})')\n",
    "            for m, azLimit in enumerate(azMaxLimits):\n",
    "                theseEls = []\n",
    "                theseData = []\n",
    "                for n in range(len(els)):\n",
    "                    if abs(azLimits[n] - azLimit) < 0.1:\n",
    "                        theseEls.append(els[n])\n",
    "                        theseData.append(plots[plot_counter][n])\n",
    "                \n",
    "                axs[i][j].scatter(theseEls, theseData, label=azLimit)\n",
    "                fit = np.polyfit(theseEls, theseData, 2)\n",
    "                #print(azLimit, fit)\n",
    "                xplot = np.linspace(0.0, 90.0, 1000)\n",
    "                yplot = np.polyval(fit, xplot)\n",
    "                axs[i][j].plot(xplot, yplot, ls='--')\n",
    "\n",
    "                axs[i][j].legend()\n",
    "        plot_counter += 1\n",
    "\n",
    "plt.savefig(str(data_dir / f\"Final_Mirror_Position_{dayObs}.png\"))"
   ]
  },
  {
   "cell_type": "markdown",
   "metadata": {},
   "source": [
    "# Now select the data associated with zPosition only\n",
    "## We will use this to fit a model, with and without temperature compensation."
   ]
  },
  {
   "cell_type": "code",
   "execution_count": null,
   "metadata": {
    "tags": []
   },
   "outputs": [],
   "source": [
    "plot_counter = 2 # Selects zPosition only\n",
    "theseEls = []\n",
    "theseData = []\n",
    "theseTemps = []\n",
    "theseTimes = []\n",
    "[els, azs, times, temps, elLimits, azLimits, plots] = data[dayObs] \n",
    "\n",
    "for m, azLimit in enumerate(azMaxLimits):\n",
    "    for n in range(len(els)):\n",
    "        if abs(azLimits[n] - azLimit) < 0.1:\n",
    "            theseTimes.append(times[n])\n",
    "            theseEls.append(els[n])\n",
    "            theseData.append(plots[plot_counter][n])\n",
    "            theseTemps.append(temps[n])\n"
   ]
  },
  {
   "cell_type": "markdown",
   "metadata": {},
   "source": [
    "# Now fit the zPosition vs elevation, with and without temperature compensation"
   ]
  },
  {
   "cell_type": "code",
   "execution_count": null,
   "metadata": {
    "tags": []
   },
   "outputs": [],
   "source": [
    "from scipy.optimize import minimize\n",
    "\n",
    "def func1(params, args):\n",
    "    # No temperature compensation\n",
    "    [const, El1, El2] = params\n",
    "    [els, data, temps] = args\n",
    "    diff = data - (const + El1 * els + El2 * els * els)\n",
    "    return np.sum(diff * diff)\n",
    "\n",
    "def func2(params, args):\n",
    "    # With temperature compensation\n",
    "    [const, El1, El2, T1] = params\n",
    "    [els, data, temps] = args\n",
    "    diff = data - (const + El1 * els + El2 * els * els + T1 * temps)\n",
    "    return np.sum(diff * diff)\n",
    "\n",
    "args = [np.array(theseEls), np.array(theseData), np.array(theseTemps)]\n",
    "param0 = [-700, 1.7, -.01, -60.0]\n",
    "Tparams = minimize(func2, param0, args=args, method='Powell').x\n",
    "param0 = [-700, 1.7, -.01]\n",
    "NoTparams = minimize(func1, param0, args=args, method='Powell').x"
   ]
  },
  {
   "cell_type": "markdown",
   "metadata": {},
   "source": [
    "# Now plot the fit, with and without temperature compensation"
   ]
  },
  {
   "cell_type": "code",
   "execution_count": null,
   "metadata": {
    "tags": []
   },
   "outputs": [],
   "source": [
    "fig, axs = plt.subplots(2,2,figsize = (10,10))\n",
    "plt.subplots_adjust(wspace = 0.5)\n",
    "plt.suptitle(\"Mirror Z Position during slews 20230803\", fontsize = 24)\n",
    "\n",
    "axs[0][0].set_title(\"No temperature compensation\")\n",
    "axs[0][0].scatter(theseEls, theseData)\n",
    "axs[0][0].set_xlabel(\"Elevation (degrees)\")\n",
    "axs[0][0].set_ylabel(\"Mirror zPosition (microns)\")\n",
    "xs = np.linspace(20,90,1000)\n",
    "ys = NoTparams[0] + NoTparams[1] * xs + NoTparams[2] * xs * xs\n",
    "axs[0][0].plot(xs, ys, ls = '--', color='red')\n",
    "\n",
    "axs[0][1].set_title(\"With temperature compensation\")\n",
    "axs[0][1].scatter(theseEls, theseData - Tparams[3] * np.array(theseTemps))\n",
    "axs[0][1].set_xlabel(\"Elevation (degrees)\")\n",
    "axs[0][1].set_ylabel(\"Temp adjusted Mirror zPosition (microns)\")\n",
    "xs = np.linspace(20,90,1000)\n",
    "ys = Tparams[0] + Tparams[1] * xs + Tparams[2] * xs * xs\n",
    "axs[0][1].plot(xs, ys, ls = '--', color='red')\n",
    "\n",
    "axs[1][0].set_title(\"Temperature vs Time\")\n",
    "axs[1][0].scatter(theseTimes, theseTemps)\n",
    "axs[1][0].set_xlabel(\"Time(seconds)\")\n",
    "axs[1][0].set_ylabel(\"lsst.sal.MTM1M3TS.glycolLoopTemperature.insideCellTemperature1 (C)\", fontsize=8)\n",
    "\n",
    "axs[1][1].axis('off')\n",
    "\n",
    "plt.savefig(str(data_dir / f\"Mirror_Position_Temperature_{dayObs}.png\"))"
   ]
  },
  {
   "cell_type": "code",
   "execution_count": null,
   "metadata": {},
   "outputs": [],
   "source": []
  }
 ],
 "metadata": {
  "kernelspec": {
   "display_name": "LSST",
   "language": "python",
   "name": "lsst"
  },
  "language_info": {
   "codemirror_mode": {
    "name": "ipython",
    "version": 3
   },
   "file_extension": ".py",
   "mimetype": "text/x-python",
   "name": "python",
   "nbconvert_exporter": "python",
   "pygments_lexer": "ipython3",
   "version": "3.11.4"
  }
 },
 "nbformat": 4,
 "nbformat_minor": 4
}
