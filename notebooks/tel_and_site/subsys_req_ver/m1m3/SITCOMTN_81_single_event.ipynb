{
 "cells": [
  {
   "cell_type": "code",
   "execution_count": null,
   "id": "aee33628-3b15-4dc8-9665-5236951ee4df",
   "metadata": {
    "tags": []
   },
   "outputs": [],
   "source": [
    "import sys, time, os, asyncio\n",
    "import numpy as np\n",
    "import pandas as pd\n",
    "import matplotlib.pyplot as plt\n",
    "from astropy.time import Time\n",
    "from lsst_efd_client import EfdClient\n",
    "from lsst.summit.utils.efdUtils import makeEfdClient, getEfdData\n",
    "from tqdm import tqdm\n",
    "%matplotlib inline\n",
    "%load_ext autoreload\n",
    "%autoreload 2\n"
   ]
  },
  {
   "cell_type": "code",
   "execution_count": 2,
   "id": "1b4e8f71-4f0a-41a9-9910-6e4d586490b5",
   "metadata": {
    "execution": {
     "iopub.execute_input": "2023-11-14T23:53:50.512613Z",
     "iopub.status.busy": "2023-11-14T23:53:50.512103Z",
     "iopub.status.idle": "2023-11-14T23:53:50.549236Z",
     "shell.execute_reply": "2023-11-14T23:53:50.548844Z",
     "shell.execute_reply.started": "2023-11-14T23:53:50.512597Z"
    },
    "tags": []
   },
   "outputs": [],
   "source": [
    "def add_timestamp( data):\n",
    "        \"\"\"\n",
    "        Adds a correct timestamp column in UTC format to the provided data if\n",
    "        not present.\n",
    "\n",
    "        Parameters\n",
    "        ----------\n",
    "        data : DataFrame\n",
    "            The data to which the timestamp will be added.\n",
    "\n",
    "        Returns\n",
    "        -------\n",
    "        DataFrame\n",
    "            The data with the added 'snd_timestamp_utc' column.\n",
    "        \"\"\"\n",
    "        if \"snd_timestamp_utc\" not in data.columns:\n",
    "            data[\"snd_timestamp_utc\"] = Time(\n",
    "                data[\"private_sndStamp\"], format=\"unix_tai\"\n",
    "            ).unix\n",
    "        return data\n",
    "def get_data(events_frame, client, train=False):\n",
    "    table_dict={\"m1m3_hp_actuator\":\"lsst.sal.MTM1M3.hardpointActuatorData\",\n",
    "                #\"m1m3_hp_monitor\": \"lsst.sal.MTM1M3.hardpointMonitorData\",\n",
    "                \"mtmount_elevation\": \"lsst.sal.MTMount.elevation\",\n",
    "                \"mtmount_azimuth\": \"lsst.sal.MTMount.azimuth\",\n",
    "                \"m1m3_ims\": \"lsst.sal.MTM1M3.imsData\"}\n",
    "    query_dict={}\n",
    "    for key in table_dict.keys():\n",
    "        query_dict[key]=[]\n",
    "    for j , time in tqdm(enumerate(events_frame[\"times\"])):\n",
    "        event_time=Time(events_frame[\"times\"][j]-2, format=\"unix\")\n",
    "        for key in table_dict.keys():\n",
    "\n",
    "                query=getEfdData(client, \n",
    "                                 table_dict[key],  \n",
    "                                begin=event_time, \n",
    "                                end=event_time, \n",
    "                                prePadding=20, \n",
    "                                postPadding=20)\n",
    "                query[\"event_num\"]=j\n",
    "                query = add_timestamp(query)\n",
    "                query[\"oscillation_bool\"]=0\n",
    "                query[\"delta_time\"] = query[\"snd_timestamp_utc\"] - events_frame[\"times\"][j] +3 \n",
    "                if train:\n",
    "                    sel = (query[\"delta_time\"] >= -5)\n",
    "                    sel &= (query[\"delta_time\"] < 1)\n",
    "                    query.loc[sel,\"oscillation_bool\"]=1\n",
    "\n",
    "                query_dict[key].append(query)\n",
    "    for key in table_dict.keys():\n",
    "        query_dict[key]=pd.concat(query_dict[key])\n",
    "    sorted_keys = sorted(query_dict.keys())\n",
    "    initial_key = sorted_keys[0]\n",
    "    merged_df = query_dict[initial_key].sort_index()\n",
    "    # Define your tolerance for matching\n",
    "    tolerance = 0.03# pd.Timedelta('0.03 seconds')\n",
    "\n",
    "    # Iterate over the remaining DataFrames and merge them\n",
    "    for key in sorted_keys[1:]:\n",
    "        merged_df = pd.merge_asof(merged_df, query_dict[key].sort_index(), \n",
    "                                  left_on=\"snd_timestamp_utc\", \n",
    "                                  right_on=\"snd_timestamp_utc\", tolerance=tolerance, direction='nearest',\n",
    "                                  suffixes=('', \"_\"+key))\n",
    "    merged_df.reset_index(drop=True, inplace=True)\n",
    "    \n",
    "    return merged_df"
   ]
  },
  {
   "cell_type": "code",
   "execution_count": 3,
   "id": "d91f2a5e-a1b4-4c5b-afa4-fd4542c9a01c",
   "metadata": {
    "execution": {
     "iopub.execute_input": "2023-11-14T23:53:59.106564Z",
     "iopub.status.busy": "2023-11-14T23:53:59.106370Z",
     "iopub.status.idle": "2023-11-14T23:54:00.451233Z",
     "shell.execute_reply": "2023-11-14T23:54:00.450800Z",
     "shell.execute_reply.started": "2023-11-14T23:53:59.106550Z"
    },
    "tags": []
   },
   "outputs": [],
   "source": [
    "client = EfdClient(\"idf_efd\")\n",
    "events_frame=pd.read_csv('./sitcomtn81_data/231114_cleaned_oscillations_final.csv')\n",
    "\n",
    "#merged_df = get_data(events_frame, client)\n",
    "\n"
   ]
  },
  {
   "cell_type": "code",
   "execution_count": 13,
   "id": "5f8f10a8-cdfc-41ae-8c9a-4dbab0b55aa8",
   "metadata": {
    "execution": {
     "iopub.execute_input": "2023-11-14T23:57:35.877670Z",
     "iopub.status.busy": "2023-11-14T23:57:35.877472Z",
     "iopub.status.idle": "2023-11-14T23:57:35.914141Z",
     "shell.execute_reply": "2023-11-14T23:57:35.913751Z",
     "shell.execute_reply.started": "2023-11-14T23:57:35.877656Z"
    },
    "tags": []
   },
   "outputs": [
    {
     "data": {
      "text/plain": [
       "2.187676206130015e-06"
      ]
     },
     "execution_count": 13,
     "metadata": {},
     "output_type": "execute_result"
    }
   ],
   "source": [
    "abs(events_frame[\"elevation_velocity\"]).min()"
   ]
  },
  {
   "cell_type": "code",
   "execution_count": 14,
   "id": "fe9a795b-d6d2-4b1b-8525-78487663f48f",
   "metadata": {
    "execution": {
     "iopub.execute_input": "2023-11-14T23:57:50.523414Z",
     "iopub.status.busy": "2023-11-14T23:57:50.523214Z",
     "iopub.status.idle": "2023-11-14T23:57:50.918056Z",
     "shell.execute_reply": "2023-11-14T23:57:50.917621Z",
     "shell.execute_reply.started": "2023-11-14T23:57:50.523401Z"
    },
    "tags": []
   },
   "outputs": [
    {
     "data": {
      "image/png": "[encoded data removed]",
      "text/plain": [
       "<Figure size 640x480 with 1 Axes>"
      ]
     },
     "metadata": {},
     "output_type": "display_data"
    }
   ],
   "source": [
    "_=plt.hist(abs(events_frame[\"elevation_velocity\"]), bins=100)\n",
    "plt.xscale('log')"
   ]
  },
  {
   "cell_type": "code",
   "execution_count": 17,
   "id": "6840e261-696a-45a2-a5c6-9ceb91a3f16e",
   "metadata": {
    "execution": {
     "iopub.execute_input": "2023-11-14T23:58:20.655328Z",
     "iopub.status.busy": "2023-11-14T23:58:20.655137Z",
     "iopub.status.idle": "2023-11-14T23:58:20.807368Z",
     "shell.execute_reply": "2023-11-14T23:58:20.806936Z",
     "shell.execute_reply.started": "2023-11-14T23:58:20.655314Z"
    },
    "tags": []
   },
   "outputs": [
    {
     "data": {
      "text/plain": [
       "<matplotlib.collections.PathCollection at 0x7f8b3b6d9a50>"
      ]
     },
     "execution_count": 17,
     "metadata": {},
     "output_type": "execute_result"
    },
    {
     "data": {
      "image/png": "[encoded data removed]",
      "text/plain": [
       "<Figure size 640x480 with 1 Axes>"
      ]
     },
     "metadata": {},
     "output_type": "display_data"
    }
   ],
   "source": [
    "sel= (abs(events_frame[\"elevation_velocity\"]) > 1e-2)\n",
    "plt.scatter(Time(events_frame[\"times\"][sel], format='unix').datetime,events_frame[\"elevation_position\"][sel])"
   ]
  },
  {
   "cell_type": "code",
   "execution_count": 20,
   "id": "78c9c7a9-9a54-42a5-a8d5-c263cb945a3c",
   "metadata": {
    "execution": {
     "iopub.execute_input": "2023-11-15T00:00:50.412731Z",
     "iopub.status.busy": "2023-11-15T00:00:50.412346Z",
     "iopub.status.idle": "2023-11-15T00:00:50.448913Z",
     "shell.execute_reply": "2023-11-15T00:00:50.448474Z",
     "shell.execute_reply.started": "2023-11-15T00:00:50.412713Z"
    },
    "tags": []
   },
   "outputs": [
    {
     "data": {
      "text/plain": [
       "Index(['Unnamed: 0.1', 'Unnamed: 0', 'times', 'heights', 'rmean_diff',\n",
       "       'counts', 'actuators', 'slew_state', 'elevation_velocity',\n",
       "       'azimuth_velocity', 'elevation_position', 'seq_num', 'day_obs',\n",
       "       'day_obs_y', 'seq_num_y', 'osc_event_num', 'time', 'iso_time'],\n",
       "      dtype='object')"
      ]
     },
     "execution_count": 20,
     "metadata": {},
     "output_type": "execute_result"
    }
   ],
   "source": [
    "events_frame.columns"
   ]
  },
  {
   "cell_type": "code",
   "execution_count": 19,
   "id": "ef18bfba-d2b7-4086-9503-6465526bb72d",
   "metadata": {
    "execution": {
     "iopub.execute_input": "2023-11-15T00:00:42.221154Z",
     "iopub.status.busy": "2023-11-15T00:00:42.220697Z",
     "iopub.status.idle": "2023-11-15T00:00:42.296613Z",
     "shell.execute_reply": "2023-11-15T00:00:42.296094Z",
     "shell.execute_reply.started": "2023-11-15T00:00:42.221139Z"
    },
    "tags": []
   },
   "outputs": [
    {
     "ename": "KeyError",
     "evalue": "'az_position'",
     "output_type": "error",
     "traceback": [
      "\u001b[0;31m---------------------------------------------------------------------------\u001b[0m",
      "\u001b[0;31mKeyError\u001b[0m                                  Traceback (most recent call last)",
      "File \u001b[0;32m/opt/lsst/software/stack/conda/miniconda3-py38_4.9.2/envs/lsst-scipipe-7.0.1/lib/python3.11/site-packages/pandas/core/indexes/base.py:3653\u001b[0m, in \u001b[0;36mIndex.get_loc\u001b[0;34m(self, key)\u001b[0m\n\u001b[1;32m   3652\u001b[0m \u001b[38;5;28;01mtry\u001b[39;00m:\n\u001b[0;32m-> 3653\u001b[0m     \u001b[38;5;28;01mreturn\u001b[39;00m \u001b[38;5;28;43mself\u001b[39;49m\u001b[38;5;241;43m.\u001b[39;49m\u001b[43m_engine\u001b[49m\u001b[38;5;241;43m.\u001b[39;49m\u001b[43mget_loc\u001b[49m\u001b[43m(\u001b[49m\u001b[43mcasted_key\u001b[49m\u001b[43m)\u001b[49m\n\u001b[1;32m   3654\u001b[0m \u001b[38;5;28;01mexcept\u001b[39;00m \u001b[38;5;167;01mKeyError\u001b[39;00m \u001b[38;5;28;01mas\u001b[39;00m err:\n",
      "File \u001b[0;32m/opt/lsst/software/stack/conda/miniconda3-py38_4.9.2/envs/lsst-scipipe-7.0.1/lib/python3.11/site-packages/pandas/_libs/index.pyx:147\u001b[0m, in \u001b[0;36mpandas._libs.index.IndexEngine.get_loc\u001b[0;34m()\u001b[0m\n",
      "File \u001b[0;32m/opt/lsst/software/stack/conda/miniconda3-py38_4.9.2/envs/lsst-scipipe-7.0.1/lib/python3.11/site-packages/pandas/_libs/index.pyx:176\u001b[0m, in \u001b[0;36mpandas._libs.index.IndexEngine.get_loc\u001b[0;34m()\u001b[0m\n",
      "File \u001b[0;32mpandas/_libs/hashtable_class_helper.pxi:7080\u001b[0m, in \u001b[0;36mpandas._libs.hashtable.PyObjectHashTable.get_item\u001b[0;34m()\u001b[0m\n",
      "File \u001b[0;32mpandas/_libs/hashtable_class_helper.pxi:7088\u001b[0m, in \u001b[0;36mpandas._libs.hashtable.PyObjectHashTable.get_item\u001b[0;34m()\u001b[0m\n",
      "\u001b[0;31mKeyError\u001b[0m: 'az_position'",
      "\nThe above exception was the direct cause of the following exception:\n",
      "\u001b[0;31mKeyError\u001b[0m                                  Traceback (most recent call last)",
      "Cell \u001b[0;32mIn[19], line 1\u001b[0m\n\u001b[0;32m----> 1\u001b[0m plt\u001b[38;5;241m.\u001b[39mscatter(Time(events_frame[\u001b[38;5;124m\"\u001b[39m\u001b[38;5;124mtimes\u001b[39m\u001b[38;5;124m\"\u001b[39m][sel], \u001b[38;5;28mformat\u001b[39m\u001b[38;5;241m=\u001b[39m\u001b[38;5;124m'\u001b[39m\u001b[38;5;124munix\u001b[39m\u001b[38;5;124m'\u001b[39m)\u001b[38;5;241m.\u001b[39mdatetime,\u001b[43mevents_frame\u001b[49m\u001b[43m[\u001b[49m\u001b[38;5;124;43m\"\u001b[39;49m\u001b[38;5;124;43maz_position\u001b[39;49m\u001b[38;5;124;43m\"\u001b[39;49m\u001b[43m]\u001b[49m[sel])\n",
      "File \u001b[0;32m/opt/lsst/software/stack/conda/miniconda3-py38_4.9.2/envs/lsst-scipipe-7.0.1/lib/python3.11/site-packages/pandas/core/frame.py:3761\u001b[0m, in \u001b[0;36mDataFrame.__getitem__\u001b[0;34m(self, key)\u001b[0m\n\u001b[1;32m   3759\u001b[0m \u001b[38;5;28;01mif\u001b[39;00m \u001b[38;5;28mself\u001b[39m\u001b[38;5;241m.\u001b[39mcolumns\u001b[38;5;241m.\u001b[39mnlevels \u001b[38;5;241m>\u001b[39m \u001b[38;5;241m1\u001b[39m:\n\u001b[1;32m   3760\u001b[0m     \u001b[38;5;28;01mreturn\u001b[39;00m \u001b[38;5;28mself\u001b[39m\u001b[38;5;241m.\u001b[39m_getitem_multilevel(key)\n\u001b[0;32m-> 3761\u001b[0m indexer \u001b[38;5;241m=\u001b[39m \u001b[38;5;28;43mself\u001b[39;49m\u001b[38;5;241;43m.\u001b[39;49m\u001b[43mcolumns\u001b[49m\u001b[38;5;241;43m.\u001b[39;49m\u001b[43mget_loc\u001b[49m\u001b[43m(\u001b[49m\u001b[43mkey\u001b[49m\u001b[43m)\u001b[49m\n\u001b[1;32m   3762\u001b[0m \u001b[38;5;28;01mif\u001b[39;00m is_integer(indexer):\n\u001b[1;32m   3763\u001b[0m     indexer \u001b[38;5;241m=\u001b[39m [indexer]\n",
      "File \u001b[0;32m/opt/lsst/software/stack/conda/miniconda3-py38_4.9.2/envs/lsst-scipipe-7.0.1/lib/python3.11/site-packages/pandas/core/indexes/base.py:3655\u001b[0m, in \u001b[0;36mIndex.get_loc\u001b[0;34m(self, key)\u001b[0m\n\u001b[1;32m   3653\u001b[0m     \u001b[38;5;28;01mreturn\u001b[39;00m \u001b[38;5;28mself\u001b[39m\u001b[38;5;241m.\u001b[39m_engine\u001b[38;5;241m.\u001b[39mget_loc(casted_key)\n\u001b[1;32m   3654\u001b[0m \u001b[38;5;28;01mexcept\u001b[39;00m \u001b[38;5;167;01mKeyError\u001b[39;00m \u001b[38;5;28;01mas\u001b[39;00m err:\n\u001b[0;32m-> 3655\u001b[0m     \u001b[38;5;28;01mraise\u001b[39;00m \u001b[38;5;167;01mKeyError\u001b[39;00m(key) \u001b[38;5;28;01mfrom\u001b[39;00m \u001b[38;5;21;01merr\u001b[39;00m\n\u001b[1;32m   3656\u001b[0m \u001b[38;5;28;01mexcept\u001b[39;00m \u001b[38;5;167;01mTypeError\u001b[39;00m:\n\u001b[1;32m   3657\u001b[0m     \u001b[38;5;66;03m# If we have a listlike key, _check_indexing_error will raise\u001b[39;00m\n\u001b[1;32m   3658\u001b[0m     \u001b[38;5;66;03m#  InvalidIndexError. Otherwise we fall through and re-raise\u001b[39;00m\n\u001b[1;32m   3659\u001b[0m     \u001b[38;5;66;03m#  the TypeError.\u001b[39;00m\n\u001b[1;32m   3660\u001b[0m     \u001b[38;5;28mself\u001b[39m\u001b[38;5;241m.\u001b[39m_check_indexing_error(key)\n",
      "\u001b[0;31mKeyError\u001b[0m: 'az_position'"
     ]
    }
   ],
   "source": [
    "plt.scatter(Time(events_frame[\"times\"][sel], format='unix').datetime,events_frame[\"az_position\"][sel])"
   ]
  },
  {
   "cell_type": "code",
   "execution_count": null,
   "id": "adc57eb9-f47d-4b6b-bd00-26213afbc19a",
   "metadata": {},
   "outputs": [],
   "source": []
  }
 ],
 "metadata": {
  "kernelspec": {
   "display_name": "LSST",
   "language": "python",
   "name": "lsst"
  },
  "language_info": {
   "codemirror_mode": {
    "name": "ipython",
    "version": 3
   },
   "file_extension": ".py",
   "mimetype": "text/x-python",
   "name": "python",
   "nbconvert_exporter": "python",
   "pygments_lexer": "ipython3",
   "version": "3.11.4"
  }
 },
 "nbformat": 4,
 "nbformat_minor": 5
}
