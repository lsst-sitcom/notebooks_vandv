{
 "cells": [
  {
   "cell_type": "markdown",
   "id": "7c235e45-d932-432a-b473-f72774f97a37",
   "metadata": {},
   "source": [
    "# Diagnose oscillations during slews for SITCOMTN-081\n",
    "\n",
    "This notebook identifies slews with hardpoint forces going above a certain threshold. Once these are identified, it allows to plot the hardpoint forces and mount movements.\n",
    "\n",
    "### Prepare Notebook"
   ]
  },
  {
   "cell_type": "code",
   "execution_count": null,
   "id": "9627519e-ef49-41c5-9085-1a7373e7b3c0",
   "metadata": {
    "tags": []
   },
   "outputs": [],
   "source": [
    "%matplotlib inline\n",
    "%load_ext autoreload\n",
    "%autoreload 2\n",
    "%load_ext lab_black"
   ]
  },
  {
   "cell_type": "code",
   "execution_count": null,
   "id": "c3d229f3-648a-4ee3-ac70-8e22bd90e53e",
   "metadata": {
    "tags": []
   },
   "outputs": [],
   "source": [
    "import pandas as pd\n",
    "import matplotlib.pyplot as plt\n",
    "import numpy as np\n",
    "\n",
    "from astropy.time import Time\n",
    "\n",
    "from lsst.summit.utils.tmaUtils import TMAEventMaker, TMAState\n",
    "from lsst.summit.utils.efdUtils import getEfdData, makeEfdClient\n",
    "from lsst_efd_client import EfdClient\n",
    "\n",
    "import warnings\n",
    "\n",
    "warnings.filterwarnings(\"ignore\")"
   ]
  },
  {
   "cell_type": "code",
   "execution_count": null,
   "id": "6fa49a3c-6c77-4d44-939f-b713b1e5ca76",
   "metadata": {
    "tags": []
   },
   "outputs": [],
   "source": [
    "# create a client to retrieve datasets in the EFD database\n",
    "client = EfdClient(\"usdf_efd\")"
   ]
  },
  {
   "cell_type": "markdown",
   "id": "72fdf187-0dbb-477c-a8dc-6749a9f8c9f8",
   "metadata": {
    "execution": {
     "iopub.execute_input": "2023-11-17T19:22:33.405869Z",
     "iopub.status.busy": "2023-11-17T19:22:33.405680Z",
     "iopub.status.idle": "2023-11-17T19:22:33.440556Z",
     "shell.execute_reply": "2023-11-17T19:22:33.440146Z",
     "shell.execute_reply.started": "2023-11-17T19:22:33.405856Z"
    },
    "tags": []
   },
   "source": [
    "### Define relevant settings"
   ]
  },
  {
   "cell_type": "markdown",
   "id": "5a56db2c-4172-46db-9155-3ff63fcbc5b9",
   "metadata": {},
   "source": [
    "#### Observation day"
   ]
  },
  {
   "cell_type": "code",
   "execution_count": null,
   "id": "beda404b-dea9-49ba-9544-be6cbf635a63",
   "metadata": {
    "tags": []
   },
   "outputs": [],
   "source": [
    "## Insert here the dayObs of interest\n",
    "dayObs = 20230627  # 20230627  # 20231220  # 20231129"
   ]
  },
  {
   "cell_type": "markdown",
   "id": "58085fea-42ff-43f0-89be-f3a2a1101b42",
   "metadata": {
    "tags": []
   },
   "source": [
    "### Define functions"
   ]
  },
  {
   "cell_type": "markdown",
   "id": "c741d971-c0c5-48eb-b99d-553650ccc406",
   "metadata": {
    "tags": []
   },
   "source": [
    "#### get previous logged detailedState event from a given time stamp\n",
    "\n",
    "The status of M1M3 is not persistent in the EFD. In order to get at a given time what is the current status, use this function."
   ]
  },
  {
   "cell_type": "code",
   "execution_count": null,
   "id": "f13c2bfb-3490-4685-a18b-39633d90ee2a",
   "metadata": {},
   "outputs": [],
   "source": [
    "from lsst.ts.xml.enums.MTM1M3 import DetailedStates\n",
    "\n",
    "\n",
    "def get_previous_logged_detailedState(df_state, timestamp):\n",
    "    \"\"\"\n",
    "    Get logged detailedState from M1M3 immediately before arbitrary time\n",
    "    Args:\n",
    "       df_state (pandas dataframe): pandas dataframe obtained from  time series of\n",
    "          \"lsst.sal.MTM1M3.logevent_detailedState\" covering a wide time frame which includes\n",
    "          the time stamp\n",
    "       timestamp (pandas timestamp): a timestamp where we want to probe the current status of M1M3\n",
    "    Returns:\n",
    "       prev_state: human readable status of current M1M3 status\n",
    "    \"\"\"\n",
    "    df_state_names = df_state[\"detailedState\"].map(lambda x: DetailedStates(x).name)\n",
    "    previous_index = df_state.index.asof(timestamp)\n",
    "    prev = df_state.index.get_loc(previous_index)\n",
    "    # add functionality for checking the end\n",
    "    return df_state_names[prev]"
   ]
  },
  {
   "cell_type": "markdown",
   "id": "337a82ba-194c-447d-9ad3-fa6a553c699d",
   "metadata": {
    "tags": []
   },
   "source": [
    "#### compare hardpoints vs mount data\n",
    "\n",
    "This is an auxiliary function to plot information from the M1M3 hardpoints with respect to the elevation and azimuth measurements from the mount."
   ]
  },
  {
   "cell_type": "code",
   "execution_count": null,
   "id": "2522619f-edc8-4de0-b42f-058f391c4afa",
   "metadata": {
    "tags": []
   },
   "outputs": [],
   "source": [
    "def compare_mount_hardpoints(\n",
    "    df_mtmount_ele,\n",
    "    df_mtmount_azi,\n",
    "    df_hp,\n",
    "    begin,\n",
    "    end,\n",
    "):\n",
    "    fig, axs = plt.subplots(3, 1, dpi=125, figsize=(6, 8))\n",
    "\n",
    "    # ax = axs[0]\n",
    "    # df_plot = df_hp[\"fx\"][begin:end]\n",
    "    # ax.plot(df_plot, color=\"red\", lw=\"0.5\", label=\"HP fx\")\n",
    "    # df_plot = df_hp[\"fy\"][begin:end]\n",
    "    # ax.plot(df_plot, color=\"blue\", lw=\"0.5\", label=\"HP fy\")\n",
    "    # df_plot = df_hp[\"fz\"][begin:end]\n",
    "    # ax.plot(df_plot, color=\"black\", lw=\"0.5\", label=\"HP fz\")\n",
    "    # ax.set_ylabel(\"HP Force \\n[N]\")\n",
    "    ax = axs[0]\n",
    "    df_plot = df_hp[\"measuredForce0\"][begin:end]\n",
    "    ax.plot(df_plot, color=\"red\", lw=\"0.5\", label=\"HP 0\")\n",
    "    df_plot = df_hp[\"measuredForce1\"][begin:end]\n",
    "    ax.plot(df_plot, color=\"blue\", lw=\"0.5\", label=\"HP 1\")\n",
    "    df_plot = df_hp[\"measuredForce2\"][begin:end]\n",
    "    ax.plot(df_plot, color=\"black\", lw=\"0.5\", label=\"HP 2\")\n",
    "    df_plot = df_hp[\"measuredForce3\"][begin:end]\n",
    "    ax.plot(df_plot, color=\"green\", lw=\"0.5\", label=\"HP 3\")\n",
    "    df_plot = df_hp[\"measuredForce4\"][begin:end]\n",
    "    ax.plot(df_plot, color=\"orange\", lw=\"0.5\", label=\"HP 4\")\n",
    "    df_plot = df_hp[\"measuredForce5\"][begin:end]\n",
    "    ax.plot(df_plot, color=\"yellow\", lw=\"0.5\", label=\"HP 5\")\n",
    "    ax.set_ylabel(\"HP Force \\n[N]\")\n",
    "\n",
    "    ax = axs[1]\n",
    "    df_plot = df_mtmount_ele[\"actualPosition\"][begin:end]\n",
    "    ax.plot(df_plot, color=\"red\", lw=\"0.5\")\n",
    "    # ax.axvline(begin, lw=\"0.5\", c=\"k\", label=\"Slew start\")\n",
    "    # ax.axvline(end, lw=\"0.5\", c=\"b\", label=\"Slew stop\")\n",
    "    ax.set_ylabel(\"TMAElevation \\nPosition\\n[deg]\")\n",
    "\n",
    "    ax = axs[2]\n",
    "    df_plot = df_mtmount_azi[\"actualPosition\"][begin:end]\n",
    "    ax.plot(df_plot, color=\"red\", lw=\"0.5\")\n",
    "    ax.set_ylabel(\"TMA Azimuth \\nPosition\\n[deg]\")\n",
    "\n",
    "    ##ax = axs[3]\n",
    "    # df_plot = df_mtmount_ele[\"actualTorque\"][begin:end]\n",
    "    # ax.plot(df_plot, color=\"red\", lw=\"0.5\")\n",
    "    # ax.set_ylabel(\"TMA Elevation \\nTorque\\n[Nm]\")\n",
    "\n",
    "    # ax = axs[4]\n",
    "    # df_plot = df_mtmount_azi[\"actualTorque\"][begin:end]\n",
    "    # ax.plot(df_plot, color=\"red\", lw=\"0.5\")\n",
    "    # ax.set_ylabel(\"TMA Azimuth \\nTorque\\n[Nm]\")\n",
    "\n",
    "    ax.set_xlabel(\"UTC\")\n",
    "    fig.autofmt_xdate()\n",
    "    fig.subplots_adjust(hspace=1)\n",
    "    fig.suptitle(t0)\n",
    "    fig.legend()\n",
    "    fig.tight_layout()\n",
    "    ### TBD: use a delta time wrt slew stop in x-label"
   ]
  },
  {
   "cell_type": "markdown",
   "id": "decee784-6779-4188-84d7-86727cb7cdb8",
   "metadata": {
    "execution": {
     "iopub.execute_input": "2023-05-29T17:26:26.927448Z",
     "iopub.status.busy": "2023-05-29T17:26:26.927223Z",
     "iopub.status.idle": "2023-05-29T17:26:26.953496Z",
     "shell.execute_reply": "2023-05-29T17:26:26.953042Z",
     "shell.execute_reply.started": "2023-05-29T17:26:26.927433Z"
    },
    "tags": []
   },
   "source": [
    "### Load data"
   ]
  },
  {
   "cell_type": "markdown",
   "id": "6499f60c-7943-41ae-af1c-f60c2f52dadd",
   "metadata": {
    "tags": []
   },
   "source": [
    "#### Get slews and tracks"
   ]
  },
  {
   "cell_type": "code",
   "execution_count": null,
   "id": "b66bab89-b2ef-42ae-a73e-ab34e72ea514",
   "metadata": {
    "tags": []
   },
   "outputs": [],
   "source": [
    "# Select data from a given date\n",
    "eventMaker = TMAEventMaker()\n",
    "events = eventMaker.getEvents(dayObs)\n",
    "\n",
    "# Get lists of slew and track events\n",
    "slews = [e for e in events if e.type == TMAState.SLEWING]\n",
    "tracks = [e for e in events if e.type == TMAState.TRACKING]\n",
    "print(f\"There are {len(events)} events\")\n",
    "print(f\"Found {len(slews)} slews and {len(tracks)} tracks\")"
   ]
  },
  {
   "cell_type": "code",
   "execution_count": null,
   "id": "05266ebb-b00b-44a5-a26f-d246ebc11843",
   "metadata": {
    "tags": []
   },
   "outputs": [],
   "source": [
    "# Get slews passing certain criteria\n",
    "slews_selected = []\n",
    "hp_max_hist = np.empty(len(slews))\n",
    "min_ele_range = 1  # minimum elevation change in slew, degrees\n",
    "min_azi_range = 1  # minimum azimuth change in slew, degrees\n",
    "hp_threshold = (\n",
    "    900  # maximum tolerated hardpoint force, Newtons, this is 30% of the breakaway\n",
    ")\n",
    "df_state = getEfdData(\n",
    "    client,\n",
    "    \"lsst.sal.MTM1M3.logevent_detailedState\",\n",
    "    begin=Time(slews[0].begin, format=\"isot\", scale=\"utc\"),\n",
    "    end=Time(slews[-1].end, format=\"isot\", scale=\"utc\"),\n",
    ")  # get an array for all state changes from first slew of dayObs to final one\n",
    "for i, slew in enumerate(slews):\n",
    "    if (\n",
    "        slew.seqNum == 0\n",
    "    ):  # skip first one to avoid problems looking for a previous detailedState outside the df_state range\n",
    "        continue\n",
    "    df_azi = getEfdData(client, \"lsst.sal.MTMount.azimuth\", event=slew)\n",
    "    df_ele = getEfdData(client, \"lsst.sal.MTMount.elevation\", event=slew)\n",
    "    df_hp = getEfdData(client, \"lsst.sal.MTM1M3.hardpointActuatorData\", event=slew)\n",
    "    timestamp = pd.Timestamp(\n",
    "        Time(slew.begin, format=\"iso\", scale=\"utc\").value, tz=\"utc\"\n",
    "    )\n",
    "    begin_state = get_previous_logged_detailedState(df_state, timestamp)\n",
    "    timestamp = pd.Timestamp(Time(slew.end, format=\"iso\", scale=\"utc\").value, tz=\"utc\")\n",
    "    end_state = get_previous_logged_detailedState(df_state, timestamp)\n",
    "    if len(df_azi) > 0:\n",
    "        slew_delta_azi = df_azi[\"demandPosition\"].max() - df_azi[\"demandPosition\"].min()\n",
    "        slew_delta_ele = df_ele[\"demandPosition\"].max() - df_ele[\"demandPosition\"].min()\n",
    "        # slew_condition = (slew_delta_azi == 0) and (slew_delta_ele > min_ele_range)\n",
    "        slew_ele_condition = slew_delta_ele > min_ele_range\n",
    "        slew_azi_condition = slew_delta_azi > min_azi_range\n",
    "        # print(np.max(abs(df_hp[\"fx\"].values)))\n",
    "        hp_max_individual = np.array(\n",
    "            [\n",
    "                np.max(abs(df_hp[\"measuredForce0\"].values)),\n",
    "                np.max(abs(df_hp[\"measuredForce1\"].values)),\n",
    "                np.max(abs(df_hp[\"measuredForce2\"].values)),\n",
    "                np.max(abs(df_hp[\"measuredForce3\"].values)),\n",
    "                np.max(abs(df_hp[\"measuredForce4\"].values)),\n",
    "                np.max(abs(df_hp[\"measuredForce5\"].values)),\n",
    "            ]\n",
    "        )\n",
    "        hp_max = np.max(hp_max_individual)\n",
    "        hp_max_hist[i] = hp_max\n",
    "        hp_condition = (\n",
    "            hp_max > hp_threshold\n",
    "        )  # if maximum force above threshold, flag it\n",
    "        state_condition = (  # ensure that the HPs are active (mirror is 'raised')\n",
    "            (begin_state == \"ACTIVE\") or (begin_state == \"ACTIVEENGINEERING\")\n",
    "        ) and ((end_state == \"ACTIVE\") or (end_state == \"ACTIVEENGINEERING\"))\n",
    "        if (\n",
    "            slew_ele_condition\n",
    "            and slew_azi_condition\n",
    "            and state_condition\n",
    "            and hp_condition\n",
    "        ):\n",
    "            slews_selected.append(slew)\n",
    "print(\n",
    "    f\"There are {len(slews_selected)} selected slews out of {len(slews)} with measured HP force instance > {hp_threshold} newtons\"\n",
    ")"
   ]
  },
  {
   "cell_type": "code",
   "execution_count": null,
   "id": "53704b04-cd37-42eb-aa03-970f4e3510a5",
   "metadata": {},
   "outputs": [],
   "source": [
    "# Plot a distribution of maximum forces\n",
    "plt.ylabel(\"Number of slews\")\n",
    "plt.xlabel(\"Maximum recorded force in hardpoints (N)\")\n",
    "plt.title(f\"Maximum force on hardpoints for {dayObs}\")\n",
    "plt.hist(hp_max_hist, bins=100, range=[0, 2000])"
   ]
  },
  {
   "cell_type": "code",
   "execution_count": null,
   "id": "98179b72-9a81-4ec8-934c-b352bc3094b4",
   "metadata": {},
   "outputs": [],
   "source": [
    "for i, slew in enumerate(slews_selected):\n",
    "    print(\n",
    "        Time(slew.begin, format=\"isot\", scale=\"utc\"),\n",
    "        slew.seqNum,\n",
    "        slew.endReason.name,\n",
    "    )"
   ]
  },
  {
   "cell_type": "code",
   "execution_count": null,
   "id": "436cdd96-1c49-4e11-84af-4f6ba4ec0c7c",
   "metadata": {},
   "outputs": [],
   "source": [
    "selected_event = slews[476]  # slews[31] on 20230627 is the continuous oscilation one\n",
    "print(selected_event.seqNum)\n",
    "print(selected_event.begin)\n",
    "postPadding = 50.0\n",
    "start_slew = Time(selected_event.begin, format=\"isot\", scale=\"utc\")  # start of slew\n",
    "t0 = pd.to_datetime(start_slew.value, utc=True)  # astropy Time to Timestamp conversion\n",
    "end_slew = Time(selected_event.end, format=\"isot\", scale=\"utc\")  # end of slew\n",
    "t1 = pd.to_datetime(end_slew.value, utc=True)  # astropy Time to Timestamp conversion\n",
    "print(\"Slew start at:\", t0)\n",
    "print(\"Slew stop at:\", t1)\n",
    "print(\"type\", selected_event.type.name)\n",
    "print(\"end reason:\", selected_event.endReason.name)\n",
    "timestamp = pd.Timestamp(\n",
    "    Time(selected_event.begin, format=\"iso\", scale=\"utc\").value, tz=\"utc\"\n",
    ")\n",
    "print(get_previous_logged_detailedState(df_state, timestamp))\n",
    "\n",
    "# Get mount data\n",
    "df_mtmount_ele = getEfdData(\n",
    "    client,\n",
    "    \"lsst.sal.MTMount.elevation\",\n",
    "    begin=start_slew,\n",
    "    end=end_slew,\n",
    ")\n",
    "df_mtmount_azi = getEfdData(\n",
    "    client,\n",
    "    \"lsst.sal.MTMount.azimuth\",\n",
    "    begin=start_slew,\n",
    "    end=end_slew,\n",
    ")\n",
    "df_hp = getEfdData(\n",
    "    client, \"lsst.sal.MTM1M3.hardpointActuatorData\", begin=start_slew, end=end_slew\n",
    ")"
   ]
  },
  {
   "cell_type": "markdown",
   "id": "b5d91fe4-7273-4fde-babb-ad50fe299d6d",
   "metadata": {
    "tags": []
   },
   "source": [
    "### Look at data\n"
   ]
  },
  {
   "cell_type": "code",
   "execution_count": null,
   "id": "55f80436-4d08-4304-99ef-0c8a49788d6f",
   "metadata": {},
   "outputs": [],
   "source": [
    "%matplotlib inline\n",
    "compare_mount_hardpoints(\n",
    "    df_mtmount_ele,\n",
    "    df_mtmount_azi,\n",
    "    df_hp,\n",
    "    t0,\n",
    "    t1,\n",
    ")"
   ]
  }
 ],
 "metadata": {
  "kernelspec": {
   "display_name": "LSST",
   "language": "python",
   "name": "lsst"
  },
  "language_info": {
   "codemirror_mode": {
    "name": "ipython",
    "version": 3
   },
   "file_extension": ".py",
   "mimetype": "text/x-python",
   "name": "python",
   "nbconvert_exporter": "python",
   "pygments_lexer": "ipython3",
   "version": "3.11.9"
  }
 },
 "nbformat": 4,
 "nbformat_minor": 5
}
