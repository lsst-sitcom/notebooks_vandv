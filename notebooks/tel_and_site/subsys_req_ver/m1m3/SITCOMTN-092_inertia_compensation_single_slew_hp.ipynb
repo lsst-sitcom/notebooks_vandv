{
 "cells": [
  {
   "cell_type": "markdown",
   "id": "5816c9f6-113f-4882-ac8a-2bad48b929cc",
   "metadata": {},
   "source": [
    "# [SITCOMTN-092] - M1M3 Inertia Compensation Performance with Hard Points Forces\n",
    "\n",
    "We need plots and metrics to evaluate the M1M3 Inertia Compensation System (ICS) performance as described in [SITCOM-989].  \n",
    "For more information on the data analysis and success criteria, please see the [SITCOMTN-092] tech note.  \n",
    "\n",
    "Examples of plots are:\n",
    "\n",
    "* Hardpoint Load Cell Forces Minima and Maxima during slews as a function of time.\n",
    "* Correlate the plots above with accelerations, velocities, and positions.\n",
    "* (any other ideas?)\n",
    "\n",
    "Petr asked to analyze the data obtained when slewing the telescope around 80 deg in elevation with and without inertia forces.  \n",
    "The two datasets below that he used as an example contain movement from -100 deg in azimuth to 100 deg in a single slew.  \n",
    "In both cases, we are using 30% motion settings in azimuth.  \n",
    "\n",
    "* [M1M3 TMA Inertial forces Chronograph Dashboard on 2023-08-02 22:02 - 2023-08-02 22:04 UTC]\n",
    "* [M1M3 TMA Inertial forces Chronograph Dashboard on 2023-07-28 02:15 - 2023-07-28 02:17 UTC]\n",
    "\n",
    "Added a new dataset containing similar data but with a 50% azimuth motion settings.  \n",
    "\n",
    "* [M1M3 TMA Inertial forces Chronograph Dashboard on 2023-08-03 03:20 - 2023-08-03 03:22 UTC]\n",
    "\n",
    "\n",
    "The bulk analysis has been moved to [lsst-sitcom/summit_utils].  \n",
    "You will need to have it cloned and use the `tickets/DM-41232` branch until it is done.    \n",
    "Once the ticket is complete and the PR is merged, use `sitcom-performance-analysis` or `develop`.  \n",
    "Refer to the [README.md] file for details on how to set up this repository in your environment.  \n",
    "\n",
    "\n",
    "[lsst-sitcom/summit_utils]: https://github.com/lsst-sitcom/summit_utils\n",
    "[README.md]: https://github.com/lsst-sitcom/notebooks_vandv/blob/develop/README.md\n",
    "[SITCOM-989]: https://jira.lsstcorp.org/browse/SITCOM-989\n",
    "[SITCOMTN-092]: https://sitcomtn-092.lsst.io/\n",
    "\n",
    "\n",
    "[M1M3 TMA Inertial forces Chronograph Dashboard on 2023-08-02 22:02 - 2023-08-02 22:04 UTC]: https://summit-lsp.lsst.codes/chronograf/sources/1/dashboards/252?redirect=%2Flogin%3Fredirect%3D%252Fsources%252F1%252Fdashboards%252F252%253Frefresh%253D30s%2526tempVars%255BDownsample%255D%253DDefault%2526tempVars%255BFunction%255D%253Draw%2526lower%253Dnow%2528%2529%252520-%25252015m%2526zoomedLower%253D2023-08-02T21%25253A23%25253A19.366Z%2526zoomedUpper%253D2023-08-02T21%25253A23%25253A23.843Z&refresh=Paused&tempVars%5BDownsample%5D=Default&tempVars%5BFunction%5D=mean%28%29&lower=2023-08-02T20%3A00%3A00.000Z&upper=2023-08-03T02%3A00%3A00.000Z&zoomedLower=2023-08-02T22%3A02%3A24.799Z&zoomedUpper=2023-08-02T22%3A04%3A02.450Zhttps://summit-lsp.lsst.codes/chronograf/sources/1/dashboards/252?redirect=%2Flogin%3Fredirect%3D%252Fsources%252F1%252Fdashboards%252F252%253Frefresh%253D30s%2526tempVars%255BDownsample%255D%253DDefault%2526tempVars%255BFunction%255D%253Draw%2526lower%253Dnow%2528%2529%252520-%25252015m%2526zoomedLower%253D2023-08-02T21%25253A23%25253A19.366Z%2526zoomedUpper%253D2023-08-02T21%25253A23%25253A23.843Z&refresh=Paused&tempVars%5BDownsample%5D=Default&tempVars%5BFunction%5D=mean%28%29&lower=2023-08-02T20%3A00%3A00.000Z&upper=2023-08-03T02%3A00%3A00.000Z&zoomedLower=2023-08-02T22%3A02%3A24.799Z&zoomedUpper=2023-08-02T22%3A04%3A02.450Z\n",
    "\n",
    "\n",
    "[M1M3 TMA Inertial forces Chronograph Dashboard on 2023-07-28 02:15 - 2023-07-28 02:17 UTC]:https://summit-lsp.lsst.codes/chronograf/sources/1/dashboards/252?redirect=%2Flogin%3Fredirect%3D%252Fsources%252F1%252Fdashboards%252F252%253Frefresh%253D30s%2526tempVars%255BDownsample%255D%253DDefault%2526tempVars%255BFunction%255D%253Draw%2526lower%253Dnow%2528%2529%252520-%25252015m%2526zoomedLower%253D2023-08-02T21%25253A23%25253A19.366Z%2526zoomedUpper%253D2023-08-02T21%25253A23%25253A23.843Z&refresh=Paused&tempVars%5BDownsample%5D=Default&tempVars%5BFunction%5D=mean%28%29&lower=2023-07-28T02%3A00%3A00.000Z&upper=2023-07-28T03%3A30%3A00.000Z&zoomedLower=2023-07-28T02%3A15%3A45.730Z&zoomedUpper=2023-07-28T02%3A17%3A11.966Z\n",
    "\n",
    "[M1M3 TMA Inertial forces Chronograph Dashboard on 2023-08-03 03:20 - 2023-08-03 03:22 UTC]:https://summit-lsp.lsst.codes/chronograf/sources/1/dashboards/252?redirect=%2Flogin%3Fredirect%3D%252Fsources%252F1%252Fdashboards%252F252%253Frefresh%253D30s%2526tempVars%255BDownsample%255D%253DDefault%2526tempVars%255BFunction%255D%253Draw%2526lower%253Dnow%2528%2529%252520-%25252015m%2526zoomedLower%253D2023-08-02T21%25253A23%25253A19.366Z%2526zoomedUpper%253D2023-08-02T21%25253A23%25253A23.843Z&refresh=Paused&tempVars%5BDownsample%5D=5Hz&tempVars%5BFunction%5D=mean%28%29&lower=2023-08-03T03%3A20%3A00.000Z&upper=2023-08-03T03%3A22%3A00.000Z"
   ]
  },
  {
   "cell_type": "markdown",
   "id": "fbc394ad-1b3e-45de-b0ee-62732a411ef4",
   "metadata": {},
   "source": [
    "## Notebook Preparation"
   ]
  },
  {
   "cell_type": "code",
   "execution_count": null,
   "id": "931c530c-a5bf-483e-a3d7-c3d3cf6b8bef",
   "metadata": {},
   "outputs": [],
   "source": [
    "%matplotlib inline\n",
    "%load_ext lab_black\n",
    "%load_ext autoreload\n",
    "%autoreload 2"
   ]
  },
  {
   "cell_type": "code",
   "execution_count": null,
   "id": "6402f4cc-296b-48d8-99cc-9a1f85992c99",
   "metadata": {
    "tags": []
   },
   "outputs": [],
   "source": [
    "import matplotlib.pyplot as plt\n",
    "from astropy.time import Time\n",
    "from pathlib import Path\n",
    "\n",
    "import awkward as ak\n",
    "import awkward_pandas as akpd\n",
    "\n",
    "from operator import attrgetter\n",
    "\n",
    "# This notebooks requires `summit_utils` with the `tickets/DM-41232` branch.\n",
    "#  Once this branch is merged, use `develop` or `sitcom-performance-analysis` instead.\n",
    "from lsst.summit.utils.m1m3 import inertia_compensation_system as m1m3_ics\n",
    "from lsst.summit.utils.m1m3.plots import inertia_compensation_system as m1m3_ics_plots\n",
    "from lsst.summit.utils.blockUtils import BlockParser\n",
    "from lsst.summit.utils.efdUtils import makeEfdClient, getEfdData\n",
    "from lsst.summit.utils.tmaUtils import getCommandsDuringEvent, TMAEvent, TMAEventMaker\n",
    "from lsst.summit.utils.utils import setupLogging\n",
    "from lsst.sitcom.vandv.logger import create_logger\n",
    "\n",
    "setupLogging()"
   ]
  },
  {
   "cell_type": "markdown",
   "id": "4532f599-5201-49b4-8899-4374291d5be5",
   "metadata": {},
   "source": [
    "## Create Event Maker\n",
    "\n",
    "We want to create a single instance of the `TMAEventMaker` object.  \n",
    "Each instance might be quite heavy. "
   ]
  },
  {
   "cell_type": "code",
   "execution_count": null,
   "id": "68db14d4-41c9-4cd7-a606-53cd703d3e43",
   "metadata": {
    "tags": []
   },
   "outputs": [],
   "source": [
    "plot_path = Path(\"./plots\")\n",
    "plot_path.mkdir(exist_ok=True, parents=True)\n",
    "\n",
    "log = create_logger(\"m1m3_ics_slew\")\n",
    "log.setLevel(\"WARNING\")\n",
    "log.propagate = False\n",
    "\n",
    "event_maker = TMAEventMaker()\n",
    "efd_client = makeEfdClient()"
   ]
  },
  {
   "cell_type": "markdown",
   "id": "05995898-fdca-4105-a543-0ab79956df83",
   "metadata": {},
   "source": [
    "## Helper functions\n",
    "### analyze_m1m3_ics_slew_event"
   ]
  },
  {
   "cell_type": "code",
   "execution_count": null,
   "id": "ec7ce176-c389-4fdc-a525-4c320b4ac3fc",
   "metadata": {
    "tags": []
   },
   "outputs": [],
   "source": [
    "def analyze_m1m3_ics_slew_event(begin, end, event_maker, log, path=None):\n",
    "    \"\"\"\n",
    "    Plot the ICS performance analysis in a single slew.\n",
    "    Three axes are created. The top representes the hard point forces.\n",
    "    The second shows the velocity in azimuth and elevation.\n",
    "    The thierd shows the torques in azimuth and elevation.\n",
    "\n",
    "    Parameters\n",
    "    ----------\n",
    "    begin : str\n",
    "        Approximate time of when the slew began in UTC using iso format.\n",
    "    end : str\n",
    "        Approximate time of when the slew ended in UTC using iso format.\n",
    "    event_maker :\n",
    "        TMA event maker\n",
    "    log :\n",
    "        Logger\n",
    "    path : Path, optional\n",
    "        Path to store plots\n",
    "    \"\"\"\n",
    "    time_begin = Time(begin, format=\"isot\", scale=\"utc\")\n",
    "    time_end = Time(end, format=\"isot\", scale=\"utc\")\n",
    "    time_half = time_begin + (time_end - time_begin) * 0.5\n",
    "\n",
    "    event = event_maker.findEvent(time_half)\n",
    "    print(\n",
    "        f\"Slew happened from {begin=} to {end=} \"\n",
    "        f\"and has sequence number {event.seqNum} \"\n",
    "        f\"and observation day {event.dayObs}\"\n",
    "    )\n",
    "\n",
    "    data = m1m3_ics.M1M3ICSAnalysis(event, event_maker.client, log=log)\n",
    "    name = f\"ics_performance_ics_hp{data.stats.ics_enabled}_{data.stats.day_obs}_sn{data.stats.seq_num}_v{data.stats.version}\"\n",
    "\n",
    "    commands = getCommandsDuringEvent(\n",
    "        event_maker.client, event, hardpoint_commands_to_plot\n",
    "    )\n",
    "\n",
    "    fig = plt.figure(num=name, figsize=(10, 7), dpi=120)\n",
    "    fig = m1m3_ics_plots.plot_hp_measured_data(\n",
    "        data, log=data.log, fig=fig, commands=commands\n",
    "    )\n",
    "\n",
    "    if path:\n",
    "        fig.savefig(str(path / f\"{name}\"))\n",
    "\n",
    "    plt.show()\n",
    "\n",
    "    return data"
   ]
  },
  {
   "cell_type": "markdown",
   "id": "c23f96de-2a96-4500-ae59-c1d3d3054ac4",
   "metadata": {},
   "source": [
    "## Analyze M1M3 ICS per Slew Event\n",
    "\n",
    "The three cases below shows how each slew event is analyzed.  "
   ]
  },
  {
   "cell_type": "code",
   "execution_count": null,
   "id": "7232f539-0f5e-41f7-b996-a21691738f03",
   "metadata": {
    "tags": []
   },
   "outputs": [],
   "source": [
    "slew_data = {\n",
    "    # First data obtained at 30% motion settings and ICS disabled\n",
    "    \"20230727_ics_False_30\": dict(\n",
    "        begin=\"2023-07-28T02:17:15\", end=\"2023-07-28T02:17:55\"\n",
    "    ),\n",
    "    # Second data obtained at 30% motion settings and ICS enabled\n",
    "    \"20230802_ics_True_30\": dict(\n",
    "        begin=\"2023-08-02T22:02:30\", end=\"2023-08-02T22:04:00\"\n",
    "    ),\n",
    "    # Third data obtained at 50% motion settings and ICS enabled\n",
    "    \"20230802_ics_True_50\": dict(\n",
    "        begin=\"2023-08-03T03:20:30\", end=\"2023-08-03T03:21:20\"\n",
    "    ),\n",
    "    # More recent data obtained at Full Performance and ICS enabled\n",
    "    \"20231129_ics_True_100\": dict(\n",
    "        begin=\"2023-11-30T08:46:44\", end=\"2023-11-30T08:47:45\"\n",
    "    ),\n",
    "}\n",
    "\n",
    "hardpoint_commands_to_plot = [\n",
    "    \"lsst.sal.MTM1M3.command_setSlewFlag\",\n",
    "    \"lsst.sal.MTM1M3.command_enableHardpointCorrections\",\n",
    "    \"lsst.sal.MTM1M3.command_clearSlewFlag\",\n",
    "]"
   ]
  },
  {
   "cell_type": "markdown",
   "id": "615c94ce-b77b-4afd-820b-fe37f5a181ca",
   "metadata": {},
   "source": [
    "### Case 1 - ICS Disabled and 30% TMA Performance"
   ]
  },
  {
   "cell_type": "code",
   "execution_count": null,
   "id": "5c510e63-2ef5-4480-a7ff-990749fee22d",
   "metadata": {
    "tags": []
   },
   "outputs": [],
   "source": [
    "%matplotlib inline\n",
    "data = analyze_m1m3_ics_slew_event(\n",
    "    slew_data[\"20230727_ics_False_30\"][\"begin\"],\n",
    "    slew_data[\"20230727_ics_False_30\"][\"end\"],\n",
    "    event_maker,\n",
    "    log,\n",
    "    plot_path,\n",
    ")\n",
    "\n",
    "print(data.stats)"
   ]
  },
  {
   "cell_type": "markdown",
   "id": "a2588f28-ddb5-445e-b12b-8116cec5a091",
   "metadata": {},
   "source": [
    "### Case 2 - ICS Enabled and 30% TMA Performance"
   ]
  },
  {
   "cell_type": "code",
   "execution_count": null,
   "id": "974c2eae-751d-4d85-b115-ca34452f7664",
   "metadata": {
    "tags": []
   },
   "outputs": [],
   "source": [
    "%matplotlib inline\n",
    "data = analyze_m1m3_ics_slew_event(\n",
    "    slew_data[\"20230802_ics_True_30\"][\"begin\"],\n",
    "    slew_data[\"20230802_ics_True_30\"][\"end\"],\n",
    "    event_maker,\n",
    "    log,\n",
    "    plot_path,\n",
    ")\n",
    "\n",
    "print(data.stats)"
   ]
  },
  {
   "cell_type": "markdown",
   "id": "73614717-096a-4a66-8261-7004bf8b7bec",
   "metadata": {},
   "source": [
    "### Case 3 - ICS Enabled and 50% TMA Performance"
   ]
  },
  {
   "cell_type": "code",
   "execution_count": null,
   "id": "a94ba52b-2e6c-428d-9816-242f406dd86f",
   "metadata": {
    "tags": []
   },
   "outputs": [],
   "source": [
    "%matplotlib inline\n",
    "data = analyze_m1m3_ics_slew_event(\n",
    "    slew_data[\"20230802_ics_True_50\"][\"begin\"],\n",
    "    slew_data[\"20230802_ics_True_50\"][\"end\"],\n",
    "    event_maker,\n",
    "    log,\n",
    "    plot_path,\n",
    ")\n",
    "\n",
    "print(data.stats)"
   ]
  },
  {
   "cell_type": "markdown",
   "id": "80d1f50e-775e-463b-aa39-1ac35fc4de17",
   "metadata": {},
   "source": [
    "### Case 4 - ICS Enabled and 100% TMA Performance"
   ]
  },
  {
   "cell_type": "code",
   "execution_count": null,
   "id": "999f9a6f-edf8-45cb-9a66-1fe06876f564",
   "metadata": {
    "tags": []
   },
   "outputs": [],
   "source": [
    "%matplotlib inline\n",
    "data = analyze_m1m3_ics_slew_event(\n",
    "    slew_data[\"20231129_ics_True_100\"][\"begin\"],\n",
    "    slew_data[\"20231129_ics_True_100\"][\"end\"],\n",
    "    event_maker,\n",
    "    log,\n",
    "    plot_path,\n",
    ")\n",
    "\n",
    "print(data.stats)"
   ]
  },
  {
   "cell_type": "markdown",
   "id": "fdf97514-2ab1-4e07-9c39-f83a16cdaa05",
   "metadata": {},
   "source": [
    "## Block Anaysis\n",
    "\n",
    "Here we will provide a bit more of details on the performance of slews obtained within specific blocks.  \n",
    "The events above, when looked individually, do not tell us much on the performance.  "
   ]
  },
  {
   "cell_type": "code",
   "execution_count": null,
   "id": "9aab12f1-a45d-471d-b331-077eb0c7f847",
   "metadata": {},
   "outputs": [],
   "source": [
    "# Set the day_obs list\n",
    "day_obs_list = [20230727, 20230802, 20231129]\n",
    "\n",
    "# For each day_obs in the list determine which blocks were run and put\n",
    "# the list of blocks into the block_list.\n",
    "\n",
    "block_list = []\n",
    "\n",
    "for day_obs in day_obs_list:\n",
    "    block_parser = BlockParser(day_obs)\n",
    "    blocks = block_parser.getBlockNums()\n",
    "    block_list.append(blocks)\n",
    "\n",
    "# Put the variable length nested list into an awkward array and then\n",
    "# put that into a pandas dataframe with the awkward array extension\n",
    "# so that the list of blocks is shown in a column.\n",
    "blocks = ak.Array({\"day_obs\": day_obs_list, \"blocks\": block_list})\n",
    "series = akpd.from_awkward(blocks)\n",
    "pandas_df = series.ak.to_columns(extract_all=True)\n",
    "pandas_df"
   ]
  },
  {
   "cell_type": "markdown",
   "id": "6e3e8a61-9d7b-416b-a9de-12c8233bc619",
   "metadata": {},
   "source": [
    "Here we have a better idea of the blocks obtained on those days. BLOCK-5 is an invalid block.\n",
    "\n",
    "- [BLOCK-5] - Invalid. It does not even have a JSON file.\n",
    "- [BLOCK-79] - Long and short movements in elevation only and in azimuth only. Similar to gateway tests. ICS data collection.\n",
    "- [BLOCK-81] - Long slews in Azimuth for different elevation angles. ICS data collection.\n",
    "- [BLOCK-82] - Long slews in Azimuth for different elevation angles.  We ran this block multiple times this day: first with 30%El/30%Az, second with 30%El/40%Az, finally 30%El/50%Az.\n",
    "- [BLOCK-13] - M1M3 Bump Test\n",
    "- [BLOCK-121] - Large movements in azimuth at Zenith and near the horizon\n",
    "- [BLOCK-137] - Soak tests\n",
    "\n",
    "[BLOCK-5]: https://jira.lsstcorp.org/browse/BLOCK-5\n",
    "[BLOCK-13]: https://jira.lsstcorp.org/browse/BLOCK-13\n",
    "[BLOCK-79]: https://jira.lsstcorp.org/browse/BLOCK-79\n",
    "[BLOCK-81]: https://jira.lsstcorp.org/browse/BLOCK-81\n",
    "[BLOCK-82]: https://jira.lsstcorp.org/browse/BLOCK-82\n",
    "[BLOCK-121]: https://jira.lsstcorp.org/browse/BLOCK-121\n",
    "[BLOCK-137]: https://jira.lsstcorp.org/browse/BLOCK-137"
   ]
  },
  {
   "cell_type": "code",
   "execution_count": null,
   "id": "a9243fb2-9231-4d6a-9afb-62ab9e7a5758",
   "metadata": {},
   "outputs": [],
   "source": [
    "def print_block_events_and_azel_diff(day_obs, block_id):\n",
    "    block_parser = BlockParser(day_obs)\n",
    "    events = event_maker.getEvents(day_obs)\n",
    "\n",
    "    block_events = set()\n",
    "    seq_num_list = block_parser.getSeqNums(block_id)\n",
    "\n",
    "    for seq_num in seq_num_list:\n",
    "        found = block_parser.getEventsForBlock(events, block_id, seq_num)\n",
    "        block_events.update(found)\n",
    "\n",
    "    block_events = sorted(list(block_events), key=attrgetter(\"seqNum\"))\n",
    "\n",
    "    for evt in block_events:\n",
    "        az = getEfdData(\n",
    "            client=efd_client,\n",
    "            topic=\"lsst.sal.MTMount.azimuth\",\n",
    "            columns=[\"actualPosition\"],\n",
    "            event=evt,\n",
    "        )\n",
    "\n",
    "        el = getEfdData(\n",
    "            client=efd_client,\n",
    "            topic=\"lsst.sal.MTMount.elevation\",\n",
    "            columns=[\"actualPosition\"],\n",
    "            event=evt,\n",
    "        )\n",
    "\n",
    "        az_diff = az.actualPosition.iloc[-1] - az.actualPosition.iloc[0]\n",
    "        el_diff = el.actualPosition.iloc[-1] - el.actualPosition.iloc[0]\n",
    "\n",
    "        print(f\"{evt.seqNum}, {az_diff:8.2f}, {el_diff:8.2f}\")"
   ]
  },
  {
   "cell_type": "code",
   "execution_count": null,
   "id": "3ec1ad03-ede2-4f46-90cc-d6611dac902e",
   "metadata": {
    "jupyter": {
     "source_hidden": true
    }
   },
   "outputs": [],
   "source": [
    "print_block_events_and_azel_diff(20230727, 81)"
   ]
  },
  {
   "cell_type": "code",
   "execution_count": null,
   "id": "ae7c5961-ea4b-4da3-aae5-3b85096ef33b",
   "metadata": {},
   "outputs": [],
   "source": [
    "print_block_events_and_azel_diff(20230802, 82)"
   ]
  },
  {
   "cell_type": "markdown",
   "id": "2bb8e913-b203-4de1-ad2a-a31c2faa30b8",
   "metadata": {},
   "source": [
    "Now we can compare apples with apples. Let's compare the following data:\n",
    "\n",
    "```\n",
    "BLOCK-81 - Seq Num 49 - Delta Az = 9.98, Delta El = 0\n",
    "BLOCK-82 - Seq Num 27 - Delta Az = 9.99, Delta El = 0\n",
    "\n",
    "BLOCK-81 - Seq Num 57 - Delta Az = 0, Delta El = -11.99\n",
    "BLOCK-82 - Seq Num 43 - Delta Az = 0, Delta El = -11.99\n",
    "```"
   ]
  },
  {
   "cell_type": "code",
   "execution_count": null,
   "id": "5e23ee16-7682-4eba-9f85-666dfa15224c",
   "metadata": {},
   "outputs": [],
   "source": [
    "day_obs_list = [20230727, 20230802]\n",
    "block_id_list = [81, 82]\n",
    "seq_num_list_of_list = [[49, 57], [27, 43]]\n",
    "block_data = {}\n",
    "\n",
    "for day_obs, block_id, seq_num_list in zip(\n",
    "    day_obs_list, block_id_list, seq_num_list_of_list\n",
    "):\n",
    "    all_events = event_maker.getEvents(day_obs)\n",
    "\n",
    "    for seq_num in seq_num_list:\n",
    "        print(day_obs, block_id, seq_num)\n",
    "        event = event_maker.getEvent(day_obs, seq_num)\n",
    "\n",
    "        my_dict = {\n",
    "            f\"{day_obs}_{block_id}_{seq_num}\": {\n",
    "                \"begin\": event.begin.isot,\n",
    "                \"end\": event.end.isot,\n",
    "            }\n",
    "        }\n",
    "\n",
    "        block_data.update(my_dict)\n",
    "\n",
    "\n",
    "print(block_data)"
   ]
  },
  {
   "cell_type": "markdown",
   "id": "f88b458a-786f-47f9-9dbf-162bf614dad4",
   "metadata": {},
   "source": [
    "### BLOCK-81 - Seq Num 49 - Delta Az = 9.98, Delta El = 0 - ICS-OFF"
   ]
  },
  {
   "cell_type": "code",
   "execution_count": null,
   "id": "fe44c51b-cd08-4234-9722-7b27ab5ddfc1",
   "metadata": {},
   "outputs": [],
   "source": [
    "%matplotlib inline\n",
    "data = analyze_m1m3_ics_slew_event(\n",
    "    block_data[\"20230727_81_49\"][\"begin\"],\n",
    "    block_data[\"20230727_81_49\"][\"end\"],\n",
    "    event_maker,\n",
    "    log,\n",
    "    plot_path,\n",
    ")\n",
    "\n",
    "print(data.stats)"
   ]
  },
  {
   "cell_type": "markdown",
   "id": "3754a2ca-2e48-4ec0-9b5b-82463bee24c2",
   "metadata": {},
   "source": [
    "### BLOCK-82 - Seq Num 27 - Delta Az = 9.98, Delta El = 0 - ICS-ON"
   ]
  },
  {
   "cell_type": "code",
   "execution_count": null,
   "id": "b2f18740-a463-4233-80e7-f073555a6fb7",
   "metadata": {},
   "outputs": [],
   "source": [
    "%matplotlib inline\n",
    "data = analyze_m1m3_ics_slew_event(\n",
    "    block_data[\"20230802_82_27\"][\"begin\"],\n",
    "    block_data[\"20230802_82_27\"][\"end\"],\n",
    "    event_maker,\n",
    "    log,\n",
    "    plot_path,\n",
    ")\n",
    "\n",
    "print(data.stats)"
   ]
  },
  {
   "cell_type": "markdown",
   "id": "3c7c1ada-90fe-42cb-b30b-3c6b55444992",
   "metadata": {},
   "source": [
    "### BLOCK-81 - Seq Num 57 - Delta Az = 0, Delta El = -11.99\n"
   ]
  },
  {
   "cell_type": "code",
   "execution_count": null,
   "id": "b0121253-2cb1-44e1-bbe0-bfbabb356767",
   "metadata": {},
   "outputs": [],
   "source": [
    "%matplotlib inline\n",
    "data = analyze_m1m3_ics_slew_event(\n",
    "    block_data[\"20230727_81_57\"][\"begin\"],\n",
    "    block_data[\"20230727_81_57\"][\"end\"],\n",
    "    event_maker,\n",
    "    log,\n",
    "    plot_path,\n",
    ")\n",
    "\n",
    "print(data.stats)"
   ]
  },
  {
   "cell_type": "markdown",
   "id": "11b30bc1-01ba-461e-9563-faee2926e594",
   "metadata": {},
   "source": [
    "### BLOCK-82 - Seq Num 43 - Delta Az = 0, Delta El = -11.99"
   ]
  },
  {
   "cell_type": "code",
   "execution_count": null,
   "id": "2396e357-854d-4cba-bd42-763d4681543f",
   "metadata": {},
   "outputs": [],
   "source": [
    "%matplotlib inline\n",
    "data = analyze_m1m3_ics_slew_event(\n",
    "    block_data[\"20230802_82_43\"][\"begin\"],\n",
    "    block_data[\"20230802_82_43\"][\"end\"],\n",
    "    event_maker,\n",
    "    log,\n",
    "    plot_path,\n",
    ")\n",
    "\n",
    "print(data.stats)"
   ]
  },
  {
   "cell_type": "code",
   "execution_count": null,
   "id": "e0022b68-281c-4ac6-a797-14d5c6ab885f",
   "metadata": {},
   "outputs": [],
   "source": []
  }
 ],
 "metadata": {
  "kernelspec": {
   "display_name": "LSST",
   "language": "python",
   "name": "lsst"
  },
  "language_info": {
   "codemirror_mode": {
    "name": "ipython",
    "version": 3
   },
   "file_extension": ".py",
   "mimetype": "text/x-python",
   "name": "python",
   "nbconvert_exporter": "python",
   "pygments_lexer": "ipython3",
   "version": "3.11.7"
  }
 },
 "nbformat": 4,
 "nbformat_minor": 5
}
