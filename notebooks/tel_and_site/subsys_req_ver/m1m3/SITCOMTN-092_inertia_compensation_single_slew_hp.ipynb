{
 "cells": [
  {
   "cell_type": "markdown",
   "id": "5816c9f6-113f-4882-ac8a-2bad48b929cc",
   "metadata": {},
   "source": [
    "# [SITCOMTN-092] - M1M3 Inertia Compensation Performance with Hard Points Forces\n",
    "\n",
    "We need plots and metrics to evaluate the M1M3 Inertia Compensation System (ICS) performance as described in [SITCOM-989].  \n",
    "For more information on the data analysis and success criteria, please see the [SITCOMTN-092] tech note.  \n",
    "\n",
    "Examples of plots are:\n",
    "\n",
    "* Hardpoint Load Cell Forces Minima and Maxima during slews as a function of time.\n",
    "* Correlate the plots above with accelerations, velocities, and positions.\n",
    "* (any other ideas?)\n",
    "\n",
    "Petr asked to analyze the data obtained when slewing the telescope around 80 deg in elevation with and without inertia forces.  \n",
    "The two datasets below that he used as an example contain movement from -100 deg in azimuth to 100 deg in a single slew.  \n",
    "In both cases, we are using 30% motion settings in azimuth.  \n",
    "\n",
    "* [M1M3 TMA Inertial forces Chronograph Dashboard on 2023-08-02 22:02 - 2023-08-02 22:04 UTC]\n",
    "* [M1M3 TMA Inertial forces Chronograph Dashboard on 2023-07-28 02:15 - 2023-07-28 02:17 UTC]\n",
    "\n",
    "Added a new dataset containing similar data but with a 50% azimuth motion settings.  \n",
    "\n",
    "* [M1M3 TMA Inertial forces Chronograph Dashboard on 2023-08-03 03:20 - 2023-08-03 03:22 UTC]\n",
    "\n",
    "\n",
    "The bulk analysis has been moved to [lsst-sitcom/summit_utils].  \n",
    "You will need to have it cloned and use the `tickets/DM-41232` branch until it is done.    \n",
    "Once the ticket is complete and the PR is merged, use `sitcom-performance-analysis` or `develop`.  \n",
    "Refer to the [README.md] file for details on how to set up this repository in your environment.  \n",
    "\n",
    "\n",
    "[lsst-sitcom/summit_utils]: https://github.com/lsst-sitcom/summit_utils\n",
    "[README.md]: https://github.com/lsst-sitcom/notebooks_vandv/blob/develop/README.md\n",
    "[SITCOM-989]: https://jira.lsstcorp.org/browse/SITCOM-989\n",
    "[SITCOMTN-092]: https://sitcomtn-092.lsst.io/\n",
    "\n",
    "\n",
    "[M1M3 TMA Inertial forces Chronograph Dashboard on 2023-08-02 22:02 - 2023-08-02 22:04 UTC]: https://summit-lsp.lsst.codes/chronograf/sources/1/dashboards/252?redirect=%2Flogin%3Fredirect%3D%252Fsources%252F1%252Fdashboards%252F252%253Frefresh%253D30s%2526tempVars%255BDownsample%255D%253DDefault%2526tempVars%255BFunction%255D%253Draw%2526lower%253Dnow%2528%2529%252520-%25252015m%2526zoomedLower%253D2023-08-02T21%25253A23%25253A19.366Z%2526zoomedUpper%253D2023-08-02T21%25253A23%25253A23.843Z&refresh=Paused&tempVars%5BDownsample%5D=Default&tempVars%5BFunction%5D=mean%28%29&lower=2023-08-02T20%3A00%3A00.000Z&upper=2023-08-03T02%3A00%3A00.000Z&zoomedLower=2023-08-02T22%3A02%3A24.799Z&zoomedUpper=2023-08-02T22%3A04%3A02.450Zhttps://summit-lsp.lsst.codes/chronograf/sources/1/dashboards/252?redirect=%2Flogin%3Fredirect%3D%252Fsources%252F1%252Fdashboards%252F252%253Frefresh%253D30s%2526tempVars%255BDownsample%255D%253DDefault%2526tempVars%255BFunction%255D%253Draw%2526lower%253Dnow%2528%2529%252520-%25252015m%2526zoomedLower%253D2023-08-02T21%25253A23%25253A19.366Z%2526zoomedUpper%253D2023-08-02T21%25253A23%25253A23.843Z&refresh=Paused&tempVars%5BDownsample%5D=Default&tempVars%5BFunction%5D=mean%28%29&lower=2023-08-02T20%3A00%3A00.000Z&upper=2023-08-03T02%3A00%3A00.000Z&zoomedLower=2023-08-02T22%3A02%3A24.799Z&zoomedUpper=2023-08-02T22%3A04%3A02.450Z\n",
    "\n",
    "\n",
    "[M1M3 TMA Inertial forces Chronograph Dashboard on 2023-07-28 02:15 - 2023-07-28 02:17 UTC]:https://summit-lsp.lsst.codes/chronograf/sources/1/dashboards/252?redirect=%2Flogin%3Fredirect%3D%252Fsources%252F1%252Fdashboards%252F252%253Frefresh%253D30s%2526tempVars%255BDownsample%255D%253DDefault%2526tempVars%255BFunction%255D%253Draw%2526lower%253Dnow%2528%2529%252520-%25252015m%2526zoomedLower%253D2023-08-02T21%25253A23%25253A19.366Z%2526zoomedUpper%253D2023-08-02T21%25253A23%25253A23.843Z&refresh=Paused&tempVars%5BDownsample%5D=Default&tempVars%5BFunction%5D=mean%28%29&lower=2023-07-28T02%3A00%3A00.000Z&upper=2023-07-28T03%3A30%3A00.000Z&zoomedLower=2023-07-28T02%3A15%3A45.730Z&zoomedUpper=2023-07-28T02%3A17%3A11.966Z\n",
    "\n",
    "[M1M3 TMA Inertial forces Chronograph Dashboard on 2023-08-03 03:20 - 2023-08-03 03:22 UTC]:https://summit-lsp.lsst.codes/chronograf/sources/1/dashboards/252?redirect=%2Flogin%3Fredirect%3D%252Fsources%252F1%252Fdashboards%252F252%253Frefresh%253D30s%2526tempVars%255BDownsample%255D%253DDefault%2526tempVars%255BFunction%255D%253Draw%2526lower%253Dnow%2528%2529%252520-%25252015m%2526zoomedLower%253D2023-08-02T21%25253A23%25253A19.366Z%2526zoomedUpper%253D2023-08-02T21%25253A23%25253A23.843Z&refresh=Paused&tempVars%5BDownsample%5D=5Hz&tempVars%5BFunction%5D=mean%28%29&lower=2023-08-03T03%3A20%3A00.000Z&upper=2023-08-03T03%3A22%3A00.000Z"
   ]
  },
  {
   "cell_type": "markdown",
   "id": "fbc394ad-1b3e-45de-b0ee-62732a411ef4",
   "metadata": {},
   "source": [
    "## Notebook Preparation"
   ]
  },
  {
   "cell_type": "code",
   "execution_count": null,
   "id": "931c530c-a5bf-483e-a3d7-c3d3cf6b8bef",
   "metadata": {},
   "outputs": [],
   "source": [
    "%matplotlib inline\n",
    "%load_ext lab_black\n",
    "%load_ext autoreload\n",
    "%autoreload 2"
   ]
  },
  {
   "cell_type": "code",
   "execution_count": null,
   "id": "6402f4cc-296b-48d8-99cc-9a1f85992c99",
   "metadata": {
    "tags": []
   },
   "outputs": [],
   "source": [
    "import matplotlib.pyplot as plt\n",
    "import pandas as pd\n",
    "from astropy.time import Time\n",
    "from pathlib import Path\n",
    "\n",
    "import awkward as ak\n",
    "import awkward_pandas as akpd\n",
    "\n",
    "from operator import attrgetter\n",
    "\n",
    "# This notebooks requires `summit_utils` with the `tickets/DM-41232` branch.\n",
    "#  Once this branch is merged, use `develop` or `sitcom-performance-analysis` instead.\n",
    "from lsst.summit.utils.m1m3 import inertia_compensation_system as m1m3_ics\n",
    "from lsst.summit.utils.m1m3.plots import inertia_compensation_system as m1m3_ics_plots\n",
    "from lsst.summit.utils.blockUtils import BlockParser\n",
    "from lsst.summit.utils.efdUtils import makeEfdClient, getEfdData\n",
    "from lsst.summit.utils.tmaUtils import (\n",
    "    getCommandsDuringEvent,\n",
    "    TMAEvent,\n",
    "    TMAEventMaker,\n",
    "    TMAState,\n",
    ")\n",
    "from lsst.summit.utils.utils import setupLogging\n",
    "from lsst.sitcom.vandv.logger import create_logger\n",
    "\n",
    "setupLogging()"
   ]
  },
  {
   "cell_type": "markdown",
   "id": "4532f599-5201-49b4-8899-4374291d5be5",
   "metadata": {},
   "source": [
    "## Create Event Maker\n",
    "\n",
    "We want to create a single instance of the `TMAEventMaker` object.  \n",
    "Each instance might be quite heavy. "
   ]
  },
  {
   "cell_type": "code",
   "execution_count": null,
   "id": "68db14d4-41c9-4cd7-a606-53cd703d3e43",
   "metadata": {
    "tags": []
   },
   "outputs": [],
   "source": [
    "plot_path = Path(\"./plots\")\n",
    "plot_path.mkdir(exist_ok=True, parents=True)\n",
    "\n",
    "log = create_logger(\"m1m3_ics_slew\")\n",
    "log.setLevel(\"DEBUG\")\n",
    "log.propagate = True\n",
    "\n",
    "event_maker = TMAEventMaker()\n",
    "efd_client = makeEfdClient()"
   ]
  },
  {
   "cell_type": "markdown",
   "id": "05995898-fdca-4105-a543-0ab79956df83",
   "metadata": {},
   "source": [
    "## Helper functions\n",
    "### analyze_m1m3_ics_slew_event"
   ]
  },
  {
   "cell_type": "code",
   "execution_count": null,
   "id": "ec7ce176-c389-4fdc-a525-4c320b4ac3fc",
   "metadata": {
    "tags": []
   },
   "outputs": [],
   "source": [
    "def analyze_m1m3_ics_slew_event(begin, end, event_maker, log, path=None):\n",
    "    \"\"\"\n",
    "    Plot the ICS performance analysis in a single slew.\n",
    "    Three axes are created. The top representes the hard point forces.\n",
    "    The second shows the velocity in azimuth and elevation.\n",
    "    The thierd shows the torques in azimuth and elevation.\n",
    "\n",
    "    Parameters\n",
    "    ----------\n",
    "    begin : str\n",
    "        Approximate time of when the slew began in UTC using iso format.\n",
    "    end : str\n",
    "        Approximate time of when the slew ended in UTC using iso format.\n",
    "    event_maker :\n",
    "        TMA event maker\n",
    "    log :\n",
    "        Logger\n",
    "    path : Path, optional\n",
    "        Path to store plots\n",
    "    \"\"\"\n",
    "    time_begin = Time(begin, format=\"isot\", scale=\"utc\")\n",
    "    time_end = Time(end, format=\"isot\", scale=\"utc\")\n",
    "    time_half = time_begin + (time_end - time_begin) * 0.5\n",
    "\n",
    "    event = event_maker.findEvent(time_half)\n",
    "    print(\n",
    "        f\"Slew happened from {begin=} to {end=} \"\n",
    "        f\"and has sequence number {event.seqNum} \"\n",
    "        f\"and observation day {event.dayObs}\"\n",
    "    )\n",
    "\n",
    "    data = m1m3_ics.M1M3ICSAnalysis(event, event_maker.client, log=log)\n",
    "    name = f\"ics_performance_ics_hp{data.stats.ics_enabled}_{data.stats.day_obs}_sn{data.stats.seq_num}_v{data.stats.version}\"\n",
    "\n",
    "    commands = getCommandsDuringEvent(\n",
    "        event_maker.client, event, hardpoint_commands_to_plot\n",
    "    )\n",
    "\n",
    "    fig = plt.figure(num=name, figsize=(10, 5), dpi=120)\n",
    "    fig = m1m3_ics_plots.plot_hp_measured_data(\n",
    "        data, log=data.log, fig=fig, commands=commands\n",
    "    )\n",
    "\n",
    "    if path:\n",
    "        fig.savefig(str(path / f\"{name}\"))\n",
    "\n",
    "    # plt.show()\n",
    "\n",
    "    return data"
   ]
  },
  {
   "cell_type": "markdown",
   "id": "577c452f-dc47-40c7-aa07-ebf880b5a2c4",
   "metadata": {},
   "source": [
    "### print_block_events_and_azel_diff"
   ]
  },
  {
   "cell_type": "code",
   "execution_count": null,
   "id": "b526be74-b797-48ad-aed0-10874d74fe11",
   "metadata": {},
   "outputs": [],
   "source": [
    "def print_block_events_and_azel_diff(day_obs, block_id, _print=False):\n",
    "    block_parser = BlockParser(day_obs)\n",
    "    events = event_maker.getEvents(day_obs)\n",
    "\n",
    "    block_events = set()\n",
    "    seq_num_list = block_parser.getSeqNums(block_id)\n",
    "\n",
    "    for seq_num in seq_num_list:\n",
    "        found = block_parser.getEventsForBlock(events, block_id, seq_num)\n",
    "        block_events.update(found)\n",
    "\n",
    "    block_events = sorted(list(block_events), key=attrgetter(\"seqNum\"))\n",
    "    good_events = []\n",
    "\n",
    "    for evt in block_events:\n",
    "        az = getEfdData(\n",
    "            client=efd_client,\n",
    "            topic=\"lsst.sal.MTMount.azimuth\",\n",
    "            columns=[\"actualPosition\"],\n",
    "            event=evt,\n",
    "        )\n",
    "\n",
    "        el = getEfdData(\n",
    "            client=efd_client,\n",
    "            topic=\"lsst.sal.MTMount.elevation\",\n",
    "            columns=[\"actualPosition\"],\n",
    "            event=evt,\n",
    "        )\n",
    "\n",
    "        az_diff = az.actualPosition.iloc[-1] - az.actualPosition.iloc[0]\n",
    "        el_diff = el.actualPosition.iloc[-1] - el.actualPosition.iloc[0]\n",
    "\n",
    "        if _print:\n",
    "            print(f\"{evt.seqNum}, {az_diff:8.2f}, {el_diff:8.2f}\")\n",
    "\n",
    "        if abs(az_diff - 10) < 1 or abs(el_diff - 12) < 1:\n",
    "            good_events.append(evt)\n",
    "\n",
    "    return good_events"
   ]
  },
  {
   "cell_type": "markdown",
   "id": "1fb58920-2461-4425-acc0-9b05feea99e2",
   "metadata": {},
   "source": [
    "### get_events_for_block_in_a_day"
   ]
  },
  {
   "cell_type": "code",
   "execution_count": null,
   "id": "001fbcee-0c0d-450b-89c1-1317ce12975b",
   "metadata": {},
   "outputs": [],
   "source": [
    "def get_events_for_blocks_in_a_day(day_obs, block_id_list):\n",
    "    \"\"\"\n",
    "    Retrieves all the TMA events in a `day_obs` that belong to the blocks\n",
    "    listed in the `block_id_list`.\n",
    "\n",
    "    Parameters\n",
    "    ----------\n",
    "    day_obs : int\n",
    "        YYYYMMDD representation of a day obs.\n",
    "    block_id_list : list of int\n",
    "        A list containing the BLOCK indexes. E.g.: for BLOCK-146, use 146.\n",
    "\n",
    "    Returns\n",
    "    -------\n",
    "    block_events : set\n",
    "        Events associated with any of the blocks in `block_id_list`\n",
    "        in `day_obs`.\n",
    "    \"\"\"\n",
    "    block_parser = BlockParser(day_obs)\n",
    "    events = event_maker.getEvents(day_obs)\n",
    "\n",
    "    block_events = set()\n",
    "\n",
    "    for block_id in block_id_list:\n",
    "        seq_num_list = block_parser.getSeqNums(block_id)\n",
    "\n",
    "        for seq_num in seq_num_list:\n",
    "            found = block_parser.getEventsForBlock(events, block_id, seq_num)\n",
    "\n",
    "            block_events.update(found)\n",
    "\n",
    "    block_events = sorted(list(block_events), key=attrgetter(\"seqNum\"))\n",
    "    return block_events"
   ]
  },
  {
   "cell_type": "markdown",
   "id": "e2193973-8497-474e-8923-9321d2bf1468",
   "metadata": {},
   "source": [
    "### get_hp_minmax_during_events"
   ]
  },
  {
   "cell_type": "code",
   "execution_count": null,
   "id": "84600eea-877d-43d9-80c6-e55d8da7520a",
   "metadata": {},
   "outputs": [],
   "source": [
    "def get_hp_minmax_during_events(\n",
    "    block_events, event_type=TMAState.SLEWING, verbose=False\n",
    "):\n",
    "\n",
    "    df = pd.DataFrame()\n",
    "\n",
    "    for evt in block_events:\n",
    "\n",
    "        if evt.type != event_type:\n",
    "            continue\n",
    "\n",
    "        az = getEfdData(\n",
    "            client=efd_client,\n",
    "            topic=\"lsst.sal.MTMount.azimuth\",\n",
    "            columns=[\"actualPosition\"],\n",
    "            event=evt,\n",
    "        )\n",
    "\n",
    "        el = getEfdData(\n",
    "            client=efd_client,\n",
    "            topic=\"lsst.sal.MTMount.elevation\",\n",
    "            columns=[\"actualPosition\"],\n",
    "            event=evt,\n",
    "        )\n",
    "\n",
    "        measured_forces = getEfdData(\n",
    "            client=efd_client,\n",
    "            topic=\"lsst.sal.MTM1M3.hardpointActuatorData\",\n",
    "            columns=[f\"measuredForce{i}\" for i in range(6)],\n",
    "            event=evt,\n",
    "        )\n",
    "\n",
    "        try:\n",
    "            az_diff = az.actualPosition.iloc[-1] - az.actualPosition.iloc[0]\n",
    "            el_diff = el.actualPosition.iloc[-1] - el.actualPosition.iloc[0]\n",
    "        except AttributeError:\n",
    "            continue\n",
    "\n",
    "        if verbose:\n",
    "            print(\n",
    "                f\"{evt.blockInfos[0].blockNumber}, \"\n",
    "                f\"{evt.seqNum}, \"\n",
    "                f\"{az_diff:8.2f}, \"\n",
    "                f\"{el_diff:8.2f}, \"\n",
    "                f\"{measured_forces.min().min():8.2f}, \"\n",
    "                f\"{measured_forces.max().max():8.2f} \"\n",
    "            )\n",
    "\n",
    "        my_dict = dict(\n",
    "            seq_num=evt.seqNum,\n",
    "            block_id=evt.blockInfos[0].blockNumber,\n",
    "            delta_az=az_diff,\n",
    "            delta_el=el_diff,\n",
    "            min_forces=measured_forces.min().min(),\n",
    "            max_forces=measured_forces.max().max(),\n",
    "        )\n",
    "\n",
    "        my_df = pd.DataFrame([my_dict])\n",
    "        df = pd.concat([df, my_df], ignore_index=True)\n",
    "\n",
    "    return df"
   ]
  },
  {
   "cell_type": "markdown",
   "id": "b2d6771f-8078-4243-95e4-36f64e232e94",
   "metadata": {},
   "source": [
    "### histogram_during_slews"
   ]
  },
  {
   "cell_type": "code",
   "execution_count": null,
   "id": "82bbf9ac-1f5a-4987-8204-b5cd35ab8ae2",
   "metadata": {},
   "outputs": [],
   "source": [
    "def histogram_during_slews(my_df, day_obs):\n",
    "\n",
    "    fig, (min_ax, max_ax) = plt.subplots(figsize=(10, 5), ncols=2, sharey=True)\n",
    "\n",
    "    block_ids = my_df.block_id.unique()\n",
    "    sub_dfs = [my_df[my_df.block_id == block_id] for block_id in block_ids]\n",
    "    labels = [\n",
    "        f\"BLOCK-{block_id} - total {my_df[my_df.block_id == block_id].index.size}\"\n",
    "        for block_id in block_ids\n",
    "    ]\n",
    "\n",
    "    min_ax.hist(\n",
    "        [df[\"min_forces\"] for df in sub_dfs],\n",
    "        ec=\"white\",\n",
    "        alpha=0.75,\n",
    "        label=labels,\n",
    "        log=True,\n",
    "    )\n",
    "    max_ax.hist(\n",
    "        [df[\"max_forces\"] for df in sub_dfs],\n",
    "        ec=\"white\",\n",
    "        alpha=0.75,\n",
    "        label=labels,\n",
    "        log=True,\n",
    "    )\n",
    "\n",
    "    min_ax.grid(alpha=0.3)\n",
    "    min_ax.set_xlabel(\"Minimum measured forces on\\n the hardpoints during a slew [N]\")\n",
    "    min_ax.set_ylabel(\"Number of slews\")\n",
    "    min_ax.axvline(-450, ls=\":\", c=\"red\", alpha=0.5, label=\"Operational limit\")\n",
    "    min_ax.axvline(-900, ls=\"--\", c=\"red\", alpha=0.5, label=\"Fatigue limit\")\n",
    "    min_ax.legend()\n",
    "\n",
    "    max_ax.grid(alpha=0.3)\n",
    "    max_ax.set_xlabel(\"Maximum measured forces on\\n the hardpoints during a slew [N]\")\n",
    "    # max_ax.set_ylabel(\"Number of slews\")\n",
    "    max_ax.axvline(450, ls=\":\", c=\"red\", alpha=0.5, label=\"Operational limit\")\n",
    "    max_ax.axvline(900, ls=\"--\", c=\"red\", alpha=0.5, label=\"Fatigue limit\")\n",
    "    max_ax.legend()\n",
    "\n",
    "    fig.suptitle(\n",
    "        f\"Histogram with the number of slews with\\n\"\n",
    "        f\"different minimum and maximum measured forces on the hardpoints.\\n\"\n",
    "        f\"DayObs {day_obs}, total of {my_df.index.size} slews\",\n",
    "    )\n",
    "\n",
    "    fig.tight_layout()\n",
    "    fig.savefig(f\"./plots/histogram_hp_minmax_dayobs_{day_obs}.png\")\n",
    "    plt.show()"
   ]
  },
  {
   "cell_type": "markdown",
   "id": "c23f96de-2a96-4500-ae59-c1d3d3054ac4",
   "metadata": {},
   "source": [
    "## Analyze M1M3 ICS per Slew Event\n",
    "\n",
    "The three cases below shows how each slew event is analyzed.  "
   ]
  },
  {
   "cell_type": "code",
   "execution_count": null,
   "id": "7232f539-0f5e-41f7-b996-a21691738f03",
   "metadata": {
    "tags": []
   },
   "outputs": [],
   "source": [
    "slew_data = {\n",
    "    # First data obtained at 30% motion settings and ICS disabled\n",
    "    \"20230727_ics_False_30\": dict(\n",
    "        begin=\"2023-07-28T02:17:15\", end=\"2023-07-28T02:17:55\"\n",
    "    ),\n",
    "    # Second data obtained at 30% motion settings and ICS enabled\n",
    "    \"20230802_ics_True_30\": dict(\n",
    "        begin=\"2023-08-02T22:02:30\", end=\"2023-08-02T22:04:00\"\n",
    "    ),\n",
    "    # Third data obtained at 50% motion settings and ICS enabled\n",
    "    \"20230802_ics_True_50\": dict(\n",
    "        begin=\"2023-08-03T03:20:30\", end=\"2023-08-03T03:21:20\"\n",
    "    ),\n",
    "    # More recent data obtained at Full Performance and ICS enabled\n",
    "    \"20231129_ics_True_100\": dict(\n",
    "        begin=\"2023-11-30T08:46:44\", end=\"2023-11-30T08:47:45\"\n",
    "    ),\n",
    "}\n",
    "\n",
    "hardpoint_commands_to_plot = [\n",
    "    \"lsst.sal.MTM1M3.command_setSlewFlag\",\n",
    "    \"lsst.sal.MTM1M3.command_enableHardpointCorrections\",\n",
    "    \"lsst.sal.MTM1M3.command_clearSlewFlag\",\n",
    "]"
   ]
  },
  {
   "cell_type": "markdown",
   "id": "615c94ce-b77b-4afd-820b-fe37f5a181ca",
   "metadata": {},
   "source": [
    "### Case 1 - ICS Disabled and 30% TMA Performance"
   ]
  },
  {
   "cell_type": "code",
   "execution_count": null,
   "id": "5c510e63-2ef5-4480-a7ff-990749fee22d",
   "metadata": {
    "tags": []
   },
   "outputs": [],
   "source": [
    "%matplotlib inline\n",
    "data = analyze_m1m3_ics_slew_event(\n",
    "    slew_data[\"20230727_ics_False_30\"][\"begin\"],\n",
    "    slew_data[\"20230727_ics_False_30\"][\"end\"],\n",
    "    event_maker,\n",
    "    log,\n",
    "    plot_path,\n",
    ")\n",
    "\n",
    "data.stats"
   ]
  },
  {
   "cell_type": "code",
   "execution_count": null,
   "id": "ca125d38-a640-4d3d-8b9f-09cf73fd2c4d",
   "metadata": {},
   "outputs": [],
   "source": []
  },
  {
   "cell_type": "markdown",
   "id": "a2588f28-ddb5-445e-b12b-8116cec5a091",
   "metadata": {},
   "source": [
    "### Case 2 - ICS Enabled and 30% TMA Performance"
   ]
  },
  {
   "cell_type": "code",
   "execution_count": null,
   "id": "974c2eae-751d-4d85-b115-ca34452f7664",
   "metadata": {
    "tags": []
   },
   "outputs": [],
   "source": [
    "%matplotlib inline\n",
    "data = analyze_m1m3_ics_slew_event(\n",
    "    slew_data[\"20230802_ics_True_30\"][\"begin\"],\n",
    "    slew_data[\"20230802_ics_True_30\"][\"end\"],\n",
    "    event_maker,\n",
    "    log,\n",
    "    plot_path,\n",
    ")\n",
    "\n",
    "print(data.stats)\n",
    "print(data.stats.forces)"
   ]
  },
  {
   "cell_type": "markdown",
   "id": "73614717-096a-4a66-8261-7004bf8b7bec",
   "metadata": {},
   "source": [
    "### Case 3 - ICS Enabled and 50% TMA Performance"
   ]
  },
  {
   "cell_type": "code",
   "execution_count": null,
   "id": "a94ba52b-2e6c-428d-9816-242f406dd86f",
   "metadata": {
    "tags": []
   },
   "outputs": [],
   "source": [
    "%matplotlib inline\n",
    "data = analyze_m1m3_ics_slew_event(\n",
    "    slew_data[\"20230802_ics_True_50\"][\"begin\"],\n",
    "    slew_data[\"20230802_ics_True_50\"][\"end\"],\n",
    "    event_maker,\n",
    "    log,\n",
    "    plot_path,\n",
    ")\n",
    "\n",
    "print(data.stats)"
   ]
  },
  {
   "cell_type": "code",
   "execution_count": null,
   "id": "08784686-0162-4500-bd62-d6d4a7e6f4e3",
   "metadata": {},
   "outputs": [],
   "source": [
    "1 / 0.05"
   ]
  },
  {
   "cell_type": "markdown",
   "id": "80d1f50e-775e-463b-aa39-1ac35fc4de17",
   "metadata": {},
   "source": [
    "### Case 4 - ICS Enabled and 100% TMA Performance"
   ]
  },
  {
   "cell_type": "code",
   "execution_count": null,
   "id": "999f9a6f-edf8-45cb-9a66-1fe06876f564",
   "metadata": {
    "tags": []
   },
   "outputs": [],
   "source": [
    "%matplotlib inline\n",
    "data = analyze_m1m3_ics_slew_event(\n",
    "    slew_data[\"20231129_ics_True_100\"][\"begin\"],\n",
    "    slew_data[\"20231129_ics_True_100\"][\"end\"],\n",
    "    event_maker,\n",
    "    log,\n",
    "    plot_path,\n",
    ")\n",
    "\n",
    "print(data.stats)"
   ]
  },
  {
   "cell_type": "code",
   "execution_count": null,
   "id": "02a4d1f2-1ea2-4590-b19f-8fe987193e6b",
   "metadata": {},
   "outputs": [],
   "source": [
    "data.stats.forces"
   ]
  },
  {
   "cell_type": "markdown",
   "id": "fdf97514-2ab1-4e07-9c39-f83a16cdaa05",
   "metadata": {},
   "source": [
    "## Block Anaysis\n",
    "\n",
    "Here we will provide a bit more of details on the performance of slews obtained within specific blocks.  \n",
    "The events above, when looked individually, do not tell us much on the performance.  "
   ]
  },
  {
   "cell_type": "code",
   "execution_count": null,
   "id": "9aab12f1-a45d-471d-b331-077eb0c7f847",
   "metadata": {},
   "outputs": [],
   "source": [
    "# Set the day_obs list\n",
    "day_obs_list = [20230727, 20230802, 20231129, 20240109]\n",
    "\n",
    "# For each day_obs in the list determine which blocks were run and put\n",
    "# the list of blocks into the block_list.\n",
    "block_list = []\n",
    "\n",
    "for day_obs in day_obs_list:\n",
    "    block_parser = BlockParser(day_obs)\n",
    "    blocks = block_parser.getBlockNums()\n",
    "    block_list.append(blocks)\n",
    "\n",
    "# Put the variable length nested list into an awkward array and then\n",
    "# put that into a pandas dataframe with the awkward array extension\n",
    "# so that the list of blocks is shown in a column.\n",
    "blocks = ak.Array({\"day_obs\": day_obs_list, \"blocks\": block_list})\n",
    "series = akpd.from_awkward(blocks)\n",
    "pandas_df = series.ak.to_columns(extract_all=True)\n",
    "pandas_df"
   ]
  },
  {
   "cell_type": "markdown",
   "id": "6e3e8a61-9d7b-416b-a9de-12c8233bc619",
   "metadata": {},
   "source": [
    "Here we have a better idea of the blocks obtained on those days. BLOCK-5 is an invalid block.\n",
    "\n",
    "- [BLOCK-5] - Invalid. It does not even have a JSON file.\n",
    "- [BLOCK-79] - Long and short movements in elevation only and in azimuth only. Similar to gateway tests. ICS data collection.\n",
    "- [BLOCK-81] - Long slews in Azimuth for different elevation angles. ICS data collection.\n",
    "- [BLOCK-82] - Long slews in Azimuth for different elevation angles.  We ran this block multiple times this day: first with 30%El/30%Az, second with 30%El/40%Az, finally 30%El/50%Az.\n",
    "- [BLOCK-13] - M1M3 Bump Test\n",
    "- [BLOCK-121] - Large movements in azimuth at Zenith and near the horizon\n",
    "- [BLOCK-137] - Soak tests\n",
    "- [BLOCK-184] - Short and Long Az/El/combined Slews with Az Jerk = 20, El Jerk = 10\n",
    "- [BLOCK-186] - Short and Long Az/El/combined Slews with 70%, Az Jerk = 2 and El Jerk = 1\n",
    "\n",
    "[BLOCK-5]: https://jira.lsstcorp.org/browse/BLOCK-5\n",
    "[BLOCK-13]: https://jira.lsstcorp.org/browse/BLOCK-13\n",
    "[BLOCK-79]: https://jira.lsstcorp.org/browse/BLOCK-79\n",
    "[BLOCK-81]: https://jira.lsstcorp.org/browse/BLOCK-81\n",
    "[BLOCK-82]: https://jira.lsstcorp.org/browse/BLOCK-82\n",
    "[BLOCK-121]: https://jira.lsstcorp.org/browse/BLOCK-121\n",
    "[BLOCK-137]: https://jira.lsstcorp.org/browse/BLOCK-137\n",
    "[BLOCK-184]: https://rubinobs.atlassian.net/browse/BLOCK-184\n",
    "[BLOCK-186]: https://rubinobs.atlassian.net/browse/BLOCK-186"
   ]
  },
  {
   "cell_type": "code",
   "execution_count": null,
   "id": "3ec1ad03-ede2-4f46-90cc-d6611dac902e",
   "metadata": {},
   "outputs": [],
   "source": [
    "events_block_81 = print_block_events_and_azel_diff(20230727, 81)"
   ]
  },
  {
   "cell_type": "code",
   "execution_count": null,
   "id": "33e162f5-badd-4e03-a705-64a189bb4424",
   "metadata": {},
   "outputs": [],
   "source": [
    "for evt in events_block_81:\n",
    "    data = analyze_m1m3_ics_slew_event(\n",
    "        evt.begin.isot,\n",
    "        evt.end.isot,\n",
    "        event_maker,\n",
    "        log,\n",
    "        plot_path,\n",
    "    )"
   ]
  },
  {
   "cell_type": "code",
   "execution_count": null,
   "id": "ae7c5961-ea4b-4da3-aae5-3b85096ef33b",
   "metadata": {},
   "outputs": [],
   "source": [
    "events_block_82 = print_block_events_and_azel_diff(20230802, 82)"
   ]
  },
  {
   "cell_type": "markdown",
   "id": "2bb8e913-b203-4de1-ad2a-a31c2faa30b8",
   "metadata": {},
   "source": [
    "Now we can compare apples with apples. Let's compare the following data:\n",
    "\n",
    "```\n",
    "BLOCK-81 - Seq Num 49 - Delta Az = 9.98, Delta El = 0\n",
    "BLOCK-82 - Seq Num 27 - Delta Az = 9.99, Delta El = 0\n",
    "\n",
    "BLOCK-81 - Seq Num 57 - Delta Az = 0, Delta El = -11.99\n",
    "BLOCK-82 - Seq Num 43 - Delta Az = 0, Delta El = -11.99\n",
    "```"
   ]
  },
  {
   "cell_type": "code",
   "execution_count": null,
   "id": "5e23ee16-7682-4eba-9f85-666dfa15224c",
   "metadata": {},
   "outputs": [],
   "source": [
    "day_obs_list = [20230727, 20230802]\n",
    "block_id_list = [81, 82]\n",
    "seq_num_list_of_list = [[84, 57], [27, 43]]\n",
    "block_data = {}\n",
    "\n",
    "for day_obs, block_id, seq_num_list in zip(\n",
    "    day_obs_list, block_id_list, seq_num_list_of_list\n",
    "):\n",
    "    all_events = event_maker.getEvents(day_obs)\n",
    "\n",
    "    for seq_num in seq_num_list:\n",
    "        print(day_obs, block_id, seq_num)\n",
    "        event = event_maker.getEvent(day_obs, seq_num)\n",
    "\n",
    "        my_dict = {\n",
    "            f\"{day_obs}_{block_id}_{seq_num}\": {\n",
    "                \"begin\": event.begin.isot,\n",
    "                \"end\": event.end.isot,\n",
    "            }\n",
    "        }\n",
    "\n",
    "        block_data.update(my_dict)"
   ]
  },
  {
   "cell_type": "markdown",
   "id": "f88b458a-786f-47f9-9dbf-162bf614dad4",
   "metadata": {},
   "source": [
    "### BLOCK-81 - Seq Num 49 - Delta Az = 9.98, Delta El = 0 - ICS-OFF"
   ]
  },
  {
   "cell_type": "code",
   "execution_count": null,
   "id": "fe44c51b-cd08-4234-9722-7b27ab5ddfc1",
   "metadata": {},
   "outputs": [],
   "source": [
    "%matplotlib inline\n",
    "data = analyze_m1m3_ics_slew_event(\n",
    "    block_data[\"20230727_81_84\"][\"begin\"],\n",
    "    block_data[\"20230727_81_84\"][\"end\"],\n",
    "    event_maker,\n",
    "    log,\n",
    "    plot_path,\n",
    ")\n",
    "\n",
    "print(data.stats)"
   ]
  },
  {
   "cell_type": "markdown",
   "id": "3754a2ca-2e48-4ec0-9b5b-82463bee24c2",
   "metadata": {},
   "source": [
    "### BLOCK-82 - Seq Num 27 - Delta Az = 9.98, Delta El = 0 - ICS-ON"
   ]
  },
  {
   "cell_type": "code",
   "execution_count": null,
   "id": "b2f18740-a463-4233-80e7-f073555a6fb7",
   "metadata": {},
   "outputs": [],
   "source": [
    "%matplotlib inline\n",
    "data = analyze_m1m3_ics_slew_event(\n",
    "    block_data[\"20230802_82_27\"][\"begin\"],\n",
    "    block_data[\"20230802_82_27\"][\"end\"],\n",
    "    event_maker,\n",
    "    log,\n",
    "    plot_path,\n",
    ")"
   ]
  },
  {
   "cell_type": "markdown",
   "id": "3c7c1ada-90fe-42cb-b30b-3c6b55444992",
   "metadata": {},
   "source": [
    "### BLOCK-81 - Seq Num 57 - Delta Az = 0, Delta El = -11.99\n"
   ]
  },
  {
   "cell_type": "code",
   "execution_count": null,
   "id": "b0121253-2cb1-44e1-bbe0-bfbabb356767",
   "metadata": {},
   "outputs": [],
   "source": [
    "%matplotlib inline\n",
    "data = analyze_m1m3_ics_slew_event(\n",
    "    block_data[\"20230727_81_57\"][\"begin\"],\n",
    "    block_data[\"20230727_81_57\"][\"end\"],\n",
    "    event_maker,\n",
    "    log,\n",
    "    plot_path,\n",
    ")"
   ]
  },
  {
   "cell_type": "markdown",
   "id": "11b30bc1-01ba-461e-9563-faee2926e594",
   "metadata": {},
   "source": [
    "### BLOCK-82 - Seq Num 43 - Delta Az = 0, Delta El = -11.99"
   ]
  },
  {
   "cell_type": "code",
   "execution_count": null,
   "id": "2396e357-854d-4cba-bd42-763d4681543f",
   "metadata": {},
   "outputs": [],
   "source": [
    "%matplotlib inline\n",
    "data = analyze_m1m3_ics_slew_event(\n",
    "    block_data[\"20230802_82_43\"][\"begin\"],\n",
    "    block_data[\"20230802_82_43\"][\"end\"],\n",
    "    event_maker,\n",
    "    log,\n",
    "    plot_path,\n",
    ")"
   ]
  },
  {
   "cell_type": "markdown",
   "id": "885ea2c0-9618-447e-a485-691a38e477b4",
   "metadata": {},
   "source": [
    "### BLOCK-121 - Gyro Data Collection\n",
    "\n",
    "Data obtained on [2023-11-29].\n",
    "\n",
    "[BLOCK-121]: https://rubinobs.atlassian.net/browse/BLOCK-121\n",
    "[2023-11-29]: https://summit-lsp.lsst.codes/rolex?log_date=2023-11-29"
   ]
  },
  {
   "cell_type": "code",
   "execution_count": null,
   "id": "75119028-9d04-49b8-9bd0-e2c536bd6802",
   "metadata": {},
   "outputs": [],
   "source": [
    "events_block_121 = print_block_events_and_azel_diff(20231129, 121)"
   ]
  },
  {
   "cell_type": "code",
   "execution_count": null,
   "id": "88687245-5478-443e-a895-185ca24fdf0d",
   "metadata": {},
   "outputs": [],
   "source": [
    "block_id = 121\n",
    "day_obs = 20231129\n",
    "seq_num_list = [89, 97, 106]\n",
    "block_data = {}\n",
    "\n",
    "all_events = event_maker.getEvents(day_obs)\n",
    "\n",
    "for seq_num in seq_num_list:\n",
    "    print(day_obs, block_id, seq_num)\n",
    "    event = event_maker.getEvent(day_obs, seq_num)\n",
    "\n",
    "    my_dict = {\n",
    "        f\"{day_obs}_{block_id}_{seq_num}\": {\n",
    "            \"begin\": event.begin.isot,\n",
    "            \"end\": event.end.isot,\n",
    "        }\n",
    "    }\n",
    "\n",
    "    block_data.update(my_dict)"
   ]
  },
  {
   "cell_type": "code",
   "execution_count": null,
   "id": "c34da460-ed55-48a4-af21-9df5fd1be9ee",
   "metadata": {},
   "outputs": [],
   "source": [
    "%matplotlib inline\n",
    "data = analyze_m1m3_ics_slew_event(\n",
    "    block_data[\"20231129_121_89\"][\"begin\"],\n",
    "    block_data[\"20231129_121_89\"][\"end\"],\n",
    "    event_maker,\n",
    "    log,\n",
    "    plot_path,\n",
    ")"
   ]
  },
  {
   "cell_type": "code",
   "execution_count": null,
   "id": "ee618bff-2c57-44dd-b029-dc97dda0d717",
   "metadata": {},
   "outputs": [],
   "source": [
    "%matplotlib inline\n",
    "data = analyze_m1m3_ics_slew_event(\n",
    "    block_data[\"20231129_121_97\"][\"begin\"],\n",
    "    block_data[\"20231129_121_97\"][\"end\"],\n",
    "    event_maker,\n",
    "    log,\n",
    "    plot_path,\n",
    ")"
   ]
  },
  {
   "cell_type": "code",
   "execution_count": null,
   "id": "ca80bcf7-3d35-4961-8ec2-76732793fd24",
   "metadata": {},
   "outputs": [],
   "source": [
    "%matplotlib inline\n",
    "data = analyze_m1m3_ics_slew_event(\n",
    "    block_data[\"20231129_121_106\"][\"begin\"],\n",
    "    block_data[\"20231129_121_106\"][\"end\"],\n",
    "    event_maker,\n",
    "    log,\n",
    "    plot_path,\n",
    ")\n",
    "\n",
    "print(data.stats)"
   ]
  },
  {
   "cell_type": "markdown",
   "id": "1cf0533a-aca4-475a-9bcc-18d78dfdb386",
   "metadata": {},
   "source": [
    "### [BLOCK-167] - ICS - Acc On, Bal Off, Vel On, Booster Valves On\n",
    "\n",
    "Executed on [2023-12-14]\n",
    "\n",
    "[BLOCK-167]: https://rubinobs.atlassian.net/browse/BLOCK-167\n",
    "[2023-12-14]: https://summit-lsp.lsst.codes/rolex?log_date=2023-12-14"
   ]
  },
  {
   "cell_type": "code",
   "execution_count": null,
   "id": "f0ccb387-62f4-405c-a6b5-b0b01e224976",
   "metadata": {},
   "outputs": [],
   "source": [
    "list_of_events = get_events_for_block_in_a_day(20231214, 167)\n",
    "\n",
    "for evt in list_of_events:\n",
    "    print(evt.seqNum, evt.begin.isot, evt.end.isot)"
   ]
  },
  {
   "cell_type": "code",
   "execution_count": null,
   "id": "6ae96aa0-4211-48b0-99f6-af69dba04114",
   "metadata": {},
   "outputs": [],
   "source": [
    "day_obs = 20231214\n",
    "block_id = 167\n",
    "seq_num_list = [101]\n",
    "block_167_data = {}\n",
    "\n",
    "all_events = event_maker.getEvents(day_obs)\n",
    "\n",
    "for evt in list_of_events:\n",
    "    print(day_obs, block_id, evt.seqNum)\n",
    "    my_dict = {\n",
    "        f\"{day_obs}_{block_id}_{evt.seqNum}\": {\n",
    "            \"begin\": evt.begin.isot,\n",
    "            \"end\": evt.end.isot,\n",
    "        }\n",
    "    }\n",
    "\n",
    "    block_167_data.update(my_dict)"
   ]
  },
  {
   "cell_type": "code",
   "execution_count": null,
   "id": "5671ad65-fb06-45f5-874a-48973202104a",
   "metadata": {},
   "outputs": [],
   "source": [
    "%matplotlib inline\n",
    "data = analyze_m1m3_ics_slew_event(\n",
    "    block_167_data[\"20231214_167_101\"][\"begin\"],\n",
    "    block_167_data[\"20231214_167_101\"][\"end\"],\n",
    "    event_maker,\n",
    "    log,\n",
    "    plot_path,\n",
    ")"
   ]
  },
  {
   "cell_type": "code",
   "execution_count": null,
   "id": "be0f5ba3-5f22-4bbf-9ca7-b622321a03fa",
   "metadata": {},
   "outputs": [],
   "source": [
    "%matplotlib inline\n",
    "data = analyze_m1m3_ics_slew_event(\n",
    "    block_167_data[\"20231214_167_102\"][\"begin\"],\n",
    "    block_167_data[\"20231214_167_102\"][\"end\"],\n",
    "    event_maker,\n",
    "    log,\n",
    "    plot_path,\n",
    ")"
   ]
  },
  {
   "cell_type": "code",
   "execution_count": null,
   "id": "2041d180-9dd3-43e2-ad6f-7cd727c64c4e",
   "metadata": {},
   "outputs": [],
   "source": [
    "%matplotlib inline\n",
    "data = analyze_m1m3_ics_slew_event(\n",
    "    block_167_data[\"20231214_167_103\"][\"begin\"],\n",
    "    block_167_data[\"20231214_167_103\"][\"end\"],\n",
    "    event_maker,\n",
    "    log,\n",
    "    plot_path,\n",
    ")"
   ]
  },
  {
   "cell_type": "code",
   "execution_count": null,
   "id": "9ed12251-0036-4786-bba9-f1a1aef2abb7",
   "metadata": {},
   "outputs": [],
   "source": [
    "%matplotlib inline\n",
    "data = analyze_m1m3_ics_slew_event(\n",
    "    block_167_data[\"20231214_167_658\"][\"begin\"],\n",
    "    block_167_data[\"20231214_167_658\"][\"end\"],\n",
    "    event_maker,\n",
    "    log,\n",
    "    plot_path,\n",
    ")"
   ]
  },
  {
   "cell_type": "code",
   "execution_count": null,
   "id": "ed10864e-3da0-411b-a656-60058426d83e",
   "metadata": {},
   "outputs": [],
   "source": [
    "%matplotlib inline\n",
    "data = analyze_m1m3_ics_slew_event(\n",
    "    block_167_data[\"20231214_167_661\"][\"begin\"],\n",
    "    block_167_data[\"20231214_167_661\"][\"end\"],\n",
    "    event_maker,\n",
    "    log,\n",
    "    plot_path,\n",
    ")"
   ]
  },
  {
   "cell_type": "markdown",
   "id": "7ac2dce3-9159-4495-8439-c2f34cedeeb5",
   "metadata": {},
   "source": [
    "### [BLOCK-168] - ICS - Acc Off, Bal Off, Vel Off, Booster Valves On\n",
    "\n",
    "Executed on [2023-12-15]\n",
    "\n",
    "[2023-12-14]: https://summit-lsp.lsst.codes/rolex?log_date=2023-12-14\n",
    "[BLOCK-168]: https://rubinobs.atlassian.net/browse/BLOCK-168"
   ]
  },
  {
   "cell_type": "code",
   "execution_count": null,
   "id": "88ae84fe-732f-4286-bfd7-b158877873d7",
   "metadata": {},
   "outputs": [],
   "source": [
    "list_of_events = get_events_for_block_in_a_day(20231214, 167)\n",
    "\n",
    "for evt in list_of_events:\n",
    "    print(evt.seqNum)"
   ]
  },
  {
   "cell_type": "markdown",
   "id": "2c8be345-0e5b-47bb-b948-4ab32a69af36",
   "metadata": {},
   "source": [
    "### [BLOCK-127] and [BLOCK-178] - Short and long slews at 90% and 40%\n",
    "\n",
    "I want to evaluate the performance of the inertia compensation system at the end of the canpaing.  \n",
    "I looked at the last datasets and 2024-01-05 was one of the last days with a decent amount of data.  \n",
    "I found that it contains many blocks, and I decided to work on some exploratory analysis.  \n",
    "This is what you will see here.  I will start reviewing which blocks were executed.  \n",
    "I find that [BLOCK-127] - Dynamic Test 90% motion settings and [BLOCk-178] - M1M3 Accelerometer/Gyro Test 40-70% (limited Az) are the most interesting for such analysis. \n",
    "\n",
    "Ran in many nights. Including:\n",
    "* [2024-01-05] - 40% Performance\n",
    "\n",
    "[BLOCK-127]: https://rubinobs.atlassian.net/browse/BLOCK-146\n",
    "[BLOCK-178]: https://rubinobs.atlassian.net/browse/BLOCK-146\n",
    "[2023-12-04]: https://summit-lsp.lsst.codes/rolex?log_date=2023-12-04\n",
    "[2024-01-05]: https://summit-lsp.lsst.codes/rolex?log_date=2024-01-05"
   ]
  },
  {
   "cell_type": "code",
   "execution_count": null,
   "id": "13728728-4502-409f-a3aa-3a06095731d3",
   "metadata": {},
   "outputs": [],
   "source": [
    "# day_obs = 20231204\n",
    "day_obs = 20240105"
   ]
  },
  {
   "cell_type": "markdown",
   "id": "624bef8a-c509-495b-a352-05ead01c687f",
   "metadata": {},
   "source": [
    "---\n",
    "What are the blocks in that day?"
   ]
  },
  {
   "cell_type": "code",
   "execution_count": null,
   "id": "cb85f99c-c269-447a-aa89-4c6af21d10e8",
   "metadata": {},
   "outputs": [],
   "source": [
    "block_parser = BlockParser(day_obs)\n",
    "block_id_list = block_parser.getBlockNums()\n",
    "print(block_id_list)"
   ]
  },
  {
   "cell_type": "markdown",
   "id": "02a4f62f-5392-4908-9d0e-b8b1abbe91fd",
   "metadata": {},
   "source": [
    "---\n",
    "How many tma events per block?"
   ]
  },
  {
   "cell_type": "code",
   "execution_count": null,
   "id": "6d72b5d4-5450-4ed6-b682-3de9d0f41be3",
   "metadata": {},
   "outputs": [],
   "source": [
    "for block_id in block_id_list:\n",
    "    block_events = get_events_for_blocks_in_a_day(day_obs, [block_id])\n",
    "    print(f\"BLOCK-{block_id} - {len(block_events)} \")"
   ]
  },
  {
   "cell_type": "markdown",
   "id": "3015b15e-cd8c-4c75-9186-e508123d30d0",
   "metadata": {},
   "source": [
    "---\n",
    "How many tma slew events per block?"
   ]
  },
  {
   "cell_type": "code",
   "execution_count": null,
   "id": "b8c1af13-48a7-4ca6-a8f7-a516bbbc6e26",
   "metadata": {},
   "outputs": [],
   "source": [
    "for block_id in block_id_list:\n",
    "    block_events = get_events_for_blocks_in_a_day(day_obs, [block_id])\n",
    "    block_events = [evt for evt in block_events if evt.type == TMAState.SLEWING]\n",
    "    print(f\"BLOCK-{block_id} - {len(block_events)} \")"
   ]
  },
  {
   "cell_type": "markdown",
   "id": "2fb8cbc8-b7b0-4c0e-837a-0f9c61946f1b",
   "metadata": {},
   "source": [
    "---\n",
    "[BLOCK-127] corresponds to m1m3 dynamic tests at 90%, which should have long and short slews.  \n",
    "[BLOCK-178] contains gyro data collection slews at 40%, which is similar. \n",
    "\n",
    "[BLOCK-127]: https://rubinobs.atlassian.net/browse/BLOCK-127\n",
    "[BLOCK-178]: https://rubinobs.atlassian.net/browse/BLOCK-178"
   ]
  },
  {
   "cell_type": "code",
   "execution_count": null,
   "id": "d2f8ba32-b251-4ea6-862a-6365e8c45b01",
   "metadata": {},
   "outputs": [],
   "source": [
    "block_events = get_events_for_blocks_in_a_day(day_obs, [127, 146, 178])\n",
    "print(\"total events found: \", len(block_events))"
   ]
  },
  {
   "cell_type": "code",
   "execution_count": null,
   "id": "7dfa2c9b-2a07-4816-b8fc-c2c21171b907",
   "metadata": {},
   "outputs": [],
   "source": [
    "df = get_hp_minmax_during_events(block_events)\n",
    "print(\"confirm number of rows in the dataframe: \", df.index.size)"
   ]
  },
  {
   "cell_type": "code",
   "execution_count": null,
   "id": "98f11d24-28a6-4730-9dca-af3fa7b44024",
   "metadata": {},
   "outputs": [],
   "source": [
    "%matplotlib inline\n",
    "histogram_during_slews(df, day_obs)"
   ]
  },
  {
   "cell_type": "markdown",
   "id": "d851ae23-80ff-4caf-a19c-b9c948a7143a",
   "metadata": {},
   "source": [
    "### [BLOCK-186] - Short and long slews at full performance\n",
    "\n",
    "[BLOCK-186]: https://rubinobs.atlassian.net/browse/BLOCK-186"
   ]
  },
  {
   "cell_type": "code",
   "execution_count": null,
   "id": "f5dd5c8b-ff9a-4c89-adb9-e79b6dfd26f9",
   "metadata": {},
   "outputs": [],
   "source": [
    "day_obs = 20240109\n",
    "block_id = 184\n",
    "seq_num_list = [310]\n",
    "block_184_data = {}\n",
    "\n",
    "list_of_events = get_events_for_block_in_a_day(day_obs, block_id)\n",
    "\n",
    "for evt in list_of_events:\n",
    "    # print(day_obs, block_id, evt.seqNum)\n",
    "    my_dict = {\n",
    "        f\"{day_obs}_{block_id}_{evt.seqNum}\": {\n",
    "            \"begin\": evt.begin.isot,\n",
    "            \"end\": evt.end.isot,\n",
    "        }\n",
    "    }\n",
    "\n",
    "    block_186_data.update(my_dict)"
   ]
  },
  {
   "cell_type": "code",
   "execution_count": null,
   "id": "8dc28110-b6d9-4594-bdbd-0a833dc955cc",
   "metadata": {},
   "outputs": [],
   "source": [
    "%matplotlib inline\n",
    "data = analyze_m1m3_ics_slew_event(\n",
    "    block_186_data[\"20240109_184_310\"][\"begin\"],\n",
    "    block_186_data[\"20240109_184_310\"][\"end\"],\n",
    "    event_maker,\n",
    "    log,\n",
    "    plot_path,\n",
    ")"
   ]
  },
  {
   "cell_type": "code",
   "execution_count": null,
   "id": "a2aa92c0-01c4-4f4c-894e-23bdc4dfcc15",
   "metadata": {},
   "outputs": [],
   "source": [
    "block_186_data.keys()"
   ]
  },
  {
   "cell_type": "code",
   "execution_count": null,
   "id": "17493fe6-8343-486e-9eb0-bdd7d550eb92",
   "metadata": {},
   "outputs": [],
   "source": []
  }
 ],
 "metadata": {
  "kernelspec": {
   "display_name": "LSST",
   "language": "python",
   "name": "lsst"
  },
  "language_info": {
   "codemirror_mode": {
    "name": "ipython",
    "version": 3
   },
   "file_extension": ".py",
   "mimetype": "text/x-python",
   "name": "python",
   "nbconvert_exporter": "python",
   "pygments_lexer": "ipython3",
   "version": "3.11.7"
  }
 },
 "nbformat": 4,
 "nbformat_minor": 5
}
