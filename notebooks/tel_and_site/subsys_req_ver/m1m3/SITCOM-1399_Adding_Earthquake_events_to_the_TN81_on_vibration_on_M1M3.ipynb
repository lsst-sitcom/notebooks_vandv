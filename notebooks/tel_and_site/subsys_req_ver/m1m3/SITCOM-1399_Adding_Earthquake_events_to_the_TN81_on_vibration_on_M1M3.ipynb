{
 "cells": [
  {
   "cell_type": "markdown",
   "id": "72cef637-a558-4af8-99ad-fd87380468dd",
   "metadata": {},
   "source": [
    "# SITCOM-1399: Adding Earthquake events to the TN81, on vibration on M1M3\n",
    "\n",
    "2024-06-10 Laura Toribio San Cipriano"
   ]
  },
  {
   "cell_type": "markdown",
   "id": "cccba396-fc91-4462-8622-0a8665e43ef1",
   "metadata": {},
   "source": [
    "**Descripción**\n",
    "\n",
    "Sub-ticket related to the [SITCOM-918: Write technote on hardpoint oscillations during tma slews](https://rubinobs.atlassian.net/browse/SITCOM-918), to study earthquake events seen by M1M3. \n",
    "We can read the TN81 [here](https://sitcomtn-081.lsst.io/v/SITCOM-918/index.html).\n",
    "\n",
    "See more about the ticket in: [https://rubinobs.atlassian.net/browse/SITCOM-1399](https://rubinobs.atlassian.net/browse/SITCOM-1399)\n",
    "\n"
   ]
  },
  {
   "cell_type": "markdown",
   "id": "769f28fd-ef4a-4fa4-a5ab-73a757959977",
   "metadata": {},
   "source": [
    "**More information**\n",
    "\n",
    "The **VMS (Vibration Monitoring System)** is a set of accelerometers mounted on the M1M3, M2, and Camera Rotator that measure high frequency accelerations (not including gravity). The data rate is 200 hz, and so can be used to identify vibrations up to 100 hz. More information can be found [confluence](https://confluence.lsstcorp.org/x/jQhUCQ). There are multiple sensors on each of the three components. In particular, for M1M3 has 3 sensors.\n",
    "\n",
    "The VMS data for the mag~6 earthquake of September are shown in slides no. 56 and 57 available [here](https://docs.google.com/presentation/d/1HmmzIUt0XszK0XMS1YZtQiYCvdwajhrZ8p3ZdAVSp14/edit#slide=id.g2633a5ccbdd_1_394).\n",
    "\n",
    "In this notebook we will study whether this type of event is safe for the mirror.\n",
    "\n",
    "The dates of large earthquakes are:\n",
    "- 2023-09-06 23:48:15 UTC\n",
    "- 2023-10-31 12:33:43 UTC"
   ]
  },
  {
   "cell_type": "markdown",
   "id": "a9ca43c3-0c39-42fa-95b4-82100be4937a",
   "metadata": {
    "execution": {
     "iopub.execute_input": "2024-06-12T15:47:36.513702Z",
     "iopub.status.busy": "2024-06-12T15:47:36.513386Z",
     "iopub.status.idle": "2024-06-12T15:47:36.515840Z",
     "shell.execute_reply": "2024-06-12T15:47:36.515467Z",
     "shell.execute_reply.started": "2024-06-12T15:47:36.513688Z"
    }
   },
   "source": [
    "## Function the read VMS data"
   ]
  },
  {
   "cell_type": "code",
   "execution_count": null,
   "id": "bb9bbe64-0eac-4125-9469-2d5c6be88201",
   "metadata": {},
   "outputs": [],
   "source": [
    "import sys, time, os, asyncio\n",
    "import scipy.stats as stats\n",
    "from scipy.signal import find_peaks\n",
    "from scipy import signal\n",
    "import h5py\n",
    "import numpy as np\n",
    "import pandas as pd\n",
    "import matplotlib.pyplot as plt\n",
    "from astropy.time import Time\n",
    "from lsst.summit.utils.tmaUtils import TMAEventMaker, TMAState\n",
    "from lsst.summit.utils.efdUtils import getEfdData, makeEfdClient, clipDataToEvent, calcNextDay\n",
    "import matplotlib.dates as mdates\n",
    "%matplotlib inline\n",
    "%load_ext autoreload\n",
    "%autoreload 2"
   ]
  },
  {
   "cell_type": "code",
   "execution_count": null,
   "id": "7bf0c802-0745-4a76-9250-9740c3118c82",
   "metadata": {},
   "outputs": [],
   "source": [
    "# Functions to get data\n",
    "# Modified functions of ticket SITCOM-761\n",
    "\n",
    "key_m1m3_dict={'1 X': 'm1m3_x_1', \n",
    "            '1 Y': 'm1m3_y_1', \n",
    "            '1 Z': 'm1m3_z_1', \n",
    "            '2 X': 'm1m3_x_2', \n",
    "            '2 Y': 'm1m3_z_2', # note these two have been \n",
    "            '2 Z': 'm1m3_y_2', # switched pending SUMMIT-7911\n",
    "            '3 X': 'm1m3_x_3', \n",
    "            '3 Y': 'm1m3_y_3', \n",
    "            '3 Z': 'm1m3_z_3'\n",
    "            }\n",
    "\n",
    "def vms_data_to_pandas(filename, vms_type, begin_time=None, end_time=None):\n",
    "    \"\"\"\n",
    "    Converts VMS data in the given HDF5 file to a Pandas DataFrame.\n",
    "\n",
    "    Args:\n",
    "    filename: Path to the HDF5 file containing the VMS data.\n",
    "    vms_type: The type of VMS data in the file. Must be \"m1m3\", \"m2\", or\n",
    "      \"rotator\".\n",
    "    begin_time: The start time of the data to include in the DataFrame. If None,\n",
    "      all data will be included.\n",
    "    end_time: The end time of the data to include in the DataFrame. If None, all\n",
    "      data will be included.\n",
    "\n",
    "    Returns:\n",
    "    A Pandas DataFrame containing the VMS data.\n",
    "    \"\"\"\n",
    "    if vms_type == \"m1m3\":\n",
    "        key_dict=key_m1m3_dict\n",
    "    #elif vms_type==\"m2\":\n",
    "    #    key_dict=key_m2_dict\n",
    "    #elif vms_type==\"rotator\":\n",
    "    #    raise NotImplementedError\n",
    "    else:\n",
    "        raise ValueError('vms_type must be m1m3,m2, or rotator')\n",
    "\n",
    "    f = h5py.File(filename, 'r')\n",
    "    times = f['timestamp'][::1]\n",
    "    dkeys = 'XYZ'\n",
    "   \n",
    "    data_dict = {}\n",
    "    if (begin_time is not None) & (end_time is not None): \n",
    "        sel = (times > begin_time) & (times < end_time)\n",
    "    else: \n",
    "        sel = np.ones(times.size).astype(bool)\n",
    "    data_dict['times'] = times[sel]  \n",
    "    for key in key_dict.keys():\n",
    "        data_dict[key_dict[key]] = f[key][::1][sel]\n",
    "    data_frame = pd.DataFrame(data_dict)\n",
    "    for j in np.arange(int(len(key_dict)/3)) +1:\n",
    "        data_frame[f\"total_{j}\"] = np.linalg.norm(\n",
    "            data_frame[[f\"{vms_type}_{i}_{j}\" for i in [\"x\",\"y\",\"z\"]]].values, axis=1\n",
    "        )\n",
    "    \n",
    "    \n",
    "    return data_frame\n",
    "\n",
    "def get_efd_data(begin, end, client):\n",
    "\n",
    "    \"\"\"Extract all the MTMount data from the EFD and add to dict.\n",
    "\n",
    "    Args:\n",
    "        begin (str): The start time of the query.\n",
    "        end (str): The end time of the query.\n",
    "        client (object): influx client\n",
    "\n",
    "    Returns:\n",
    "        dict: A dictionary containing the MTMount data.\n",
    "    \"\"\"\n",
    "\n",
    "    query_dict = {}\n",
    "\n",
    "    query_dict[\"el\"] = getEfdData(\n",
    "        client,\n",
    "        \"lsst.sal.MTMount.elevation\",\n",
    "        columns=[\"private_sndStamp\", \"private_efdStamp\", \"actualPosition\", \"actualVelocity\", \"actualTorque\"],\n",
    "        begin=begin,\n",
    "        end=end,\n",
    "        prePadding=0,\n",
    "        postPadding=0,\n",
    "        warn=False,\n",
    "    )\n",
    "    query_dict[\"az\"] = getEfdData(\n",
    "        client,\n",
    "        \"lsst.sal.MTMount.azimuth\",\n",
    "        columns=[\"private_sndStamp\", \"private_efdStamp\", \"actualPosition\", \"actualVelocity\", \"actualTorque\"],\n",
    "        begin=begin,\n",
    "        end=end,\n",
    "        prePadding=0,\n",
    "        postPadding=0,\n",
    "        warn=False,\n",
    "    )\n",
    "    return query_dict\n"
   ]
  },
  {
   "cell_type": "code",
   "execution_count": null,
   "id": "c5f9c19e-ec3e-4314-8c47-865bc24acb58",
   "metadata": {},
   "outputs": [],
   "source": [
    "def get_freq_psd(vals, timestep):\n",
    "\n",
    "    \"\"\"\n",
    "    Calculates the frequency power spectrum of a signal.\n",
    "\n",
    "    Args:\n",
    "        vals (np.array): The signal values.\n",
    "        timestep (float): The time step between samples.\n",
    "\n",
    "    Returns:\n",
    "        tuple: The frequencies and power spectral density.\n",
    "    \"\"\"\n",
    "\n",
    "    # Remove the mean from the signal.\n",
    "    meanval = np.mean(vals)\n",
    "    signal = vals - meanval\n",
    "\n",
    "    # Calculate the length of the signal.\n",
    "    N = len(signal)\n",
    "\n",
    "    # Calculate the power spectral density.\n",
    "    psd = np.abs(np.fft.rfft(np.array(signal) * 1)) ** 2\n",
    "\n",
    "    # Calculate the frequencies.\n",
    "    frequencies = np.fft.rfftfreq(N, timestep)\n",
    "\n",
    "    return (frequencies, psd)\n",
    "\n",
    "def get_peak_points(freq, psd, height=0.01):\n",
    "    \"\"\"\n",
    "    Get the peak points of the power spectral density (PSD).\n",
    "\n",
    "    Args:\n",
    "        freq (numpy.ndarray): The frequency vector.\n",
    "        psd (numpy.ndarray): The power spectral density.\n",
    "        height (float): The minimum peak height.\n",
    "\n",
    "    Returns:\n",
    "        numpy.ndarray: The peak points.\n",
    "    \"\"\"\n",
    "\n",
    "    # Find the peak indices and heights.\n",
    "    peak_ind, peak_dict = find_peaks(psd, height=height)\n",
    "    peaks = freq[peak_ind]\n",
    "\n",
    "    # If there are no peaks, return None.\n",
    "    if len(peaks) < 1:\n",
    "        return None\n",
    "\n",
    "    # Find the sub-peaks within each group of peaks that are close in frequency.\n",
    "    points = []\n",
    "    for i, peak in enumerate(peaks):\n",
    "        sel = (abs(peaks - peak) < 1)\n",
    "        sub_peaks = peaks[sel]\n",
    "        sub_heights = peak_dict['peak_heights'][sel]\n",
    "        points.append(sub_peaks[np.argmax(sub_heights)])\n",
    "\n",
    "    # Return the unique peak points.\n",
    "    return np.unique(np.array(points))"
   ]
  },
  {
   "cell_type": "markdown",
   "id": "5fce44ff-7543-4217-be8e-3d9124807629",
   "metadata": {
    "execution": {
     "iopub.execute_input": "2024-06-18T07:40:08.325036Z",
     "iopub.status.busy": "2024-06-18T07:40:08.324549Z",
     "iopub.status.idle": "2024-06-18T07:40:08.326931Z",
     "shell.execute_reply": "2024-06-18T07:40:08.326607Z",
     "shell.execute_reply.started": "2024-06-18T07:40:08.325021Z"
    }
   },
   "source": [
    "## Analysis for the evening's event:  2023-09-06"
   ]
  },
  {
   "cell_type": "markdown",
   "id": "efce1007-04b5-4c6a-ad0f-c2844d7d81a7",
   "metadata": {},
   "source": [
    "### Loading VMS data"
   ]
  },
  {
   "cell_type": "markdown",
   "id": "b37f0f75-c759-48fb-ae29-6e43386420cf",
   "metadata": {},
   "source": [
    "We analysed de data of the earthquake event of 6 September 2023."
   ]
  },
  {
   "cell_type": "code",
   "execution_count": null,
   "id": "9bb504fb-948a-4fa0-95c7-63998de25245",
   "metadata": {},
   "outputs": [],
   "source": [
    "#vms_m1m3_filename=\"/scratch/users/b/boutigny/vmsdata/09/M1M3-2023-09-06T00:00.hdf\"\n",
    "vms_m1m3_filename=\"/scratch/users/b/boutigny/vmsdata/2023/09/M1M3-2023-09-06T00:00.hdf\"\n",
    "begin_time=Time('2023-09-06 23:47:00', format=\"iso\", scale=\"utc\")\n",
    "end_time=Time('2023-09-06 23:54:00', format=\"iso\", scale=\"utc\")"
   ]
  },
  {
   "cell_type": "code",
   "execution_count": null,
   "id": "f809ec10-b1b6-4b92-86a0-79b8371038c9",
   "metadata": {},
   "outputs": [],
   "source": [
    "client=makeEfdClient()\n",
    "efd_dict=get_efd_data(begin_time, end_time, client)\n",
    "vms_m1m3_data=vms_data_to_pandas(vms_m1m3_filename, vms_type=\"m1m3\",begin_time=begin_time.unix, end_time=end_time.unix)"
   ]
  },
  {
   "cell_type": "markdown",
   "id": "d1466250-2770-41f5-8cd3-e0e81d7fb606",
   "metadata": {},
   "source": [
    "### Plotting the VMS data - 6 September 2023\n",
    " 1. Plot of acceleration telemetry\n",
    " 2. A Power Spectral Distribution (psd)"
   ]
  },
  {
   "cell_type": "markdown",
   "id": "b6833946-8a30-4d2e-ba81-adb461cfd9dc",
   "metadata": {
    "execution": {
     "iopub.execute_input": "2024-07-31T10:35:27.016094Z",
     "iopub.status.busy": "2024-07-31T10:35:27.015573Z",
     "iopub.status.idle": "2024-07-31T10:35:27.062231Z",
     "shell.execute_reply": "2024-07-31T10:35:27.061837Z",
     "shell.execute_reply.started": "2024-07-31T10:35:27.016081Z"
    }
   },
   "source": [
    "#### Acceleration"
   ]
  },
  {
   "cell_type": "markdown",
   "id": "2540d576-5fd4-44f4-8225-fe891e5c0106",
   "metadata": {},
   "source": [
    "1.1. Total acceleration telemetry for each of the 3 m1m3 vms channels"
   ]
  },
  {
   "cell_type": "code",
   "execution_count": null,
   "id": "ebaefae6-3e23-46c2-9e01-da63b18e7c00",
   "metadata": {},
   "outputs": [],
   "source": [
    "fig, ax = plt.subplots(1, dpi=125, sharex=True, figsize=(10, 3))\n",
    "plt.suptitle(f\"M1M3 VMS\\n{begin_time.iso[:10]} {begin_time.iso[11:19]}-{end_time.iso[11:19]}\\n\", y=0.99)\n",
    "\n",
    "labels = [\"m1m3_1\", \"m1m3_2 -0.2\", \"m1m3_3 -0.4\"]\n",
    "for i in np.arange(3):\n",
    "    ax.plot(Time(vms_m1m3_data[\"times\"], format=\"unix\").datetime, \n",
    "            vms_m1m3_data[f\"total_{i+1}\"] - 0.001 * i,  # Aplicar offset\n",
    "            label=labels[i])\n",
    "\n",
    "ax.set(xlabel=\"Time\", ylabel=\"total acceleration [g]\", ylim=(-0.0025, 0.0015))\n",
    "ax.xaxis.set_major_formatter(mdates.DateFormatter('%H:%M:%S'))\n",
    "plt.xticks(rotation=45)\n",
    "\n",
    "legend= ax.legend(ncol=3, loc='upper center', fontsize='small')\n",
    "legend.get_frame().set_facecolor('white')\n",
    "legend.get_frame().set_alpha(0.7)"
   ]
  },
  {
   "cell_type": "markdown",
   "id": "4b9fd72f-29f3-47cc-97cd-0fac3c0a69a7",
   "metadata": {
    "execution": {
     "iopub.execute_input": "2024-07-31T10:33:12.686774Z",
     "iopub.status.busy": "2024-07-31T10:33:12.686200Z",
     "iopub.status.idle": "2024-07-31T10:33:12.735063Z",
     "shell.execute_reply": "2024-07-31T10:33:12.734527Z",
     "shell.execute_reply.started": "2024-07-31T10:33:12.686758Z"
    }
   },
   "source": [
    "1.2. Total acceleration telemetry for each of the 3 m1m3 vms channels (less zoom)"
   ]
  },
  {
   "cell_type": "code",
   "execution_count": null,
   "id": "3098c2af-6118-4de0-9cf0-c4b4234dd3e1",
   "metadata": {},
   "outputs": [],
   "source": [
    "fig, ax = plt.subplots(1, dpi=125, sharex=True, figsize=(10, 3))\n",
    "plt.suptitle(f\"M1M3 VMS\\n{begin_time.iso[:10]} {begin_time.iso[11:19]}-{end_time.iso[11:19]}\\n\", y=0.99)\n",
    "\n",
    "# Ajustar el offset\n",
    "offset = 0.2\n",
    "labels = [\"m1m3_1\", \"m1m3_2 -0.2\", \"m1m3_3 -0.4\"]\n",
    "\n",
    "for i in np.arange(3):\n",
    "    ax.plot(Time(vms_m1m3_data[\"times\"], format=\"unix\").datetime, \n",
    "            vms_m1m3_data[f\"total_{i+1}\"] - offset * i,  # Aplicar el offset\n",
    "            label=labels[i])\n",
    "\n",
    "\n",
    "ax.set(xlabel=\"Time\", ylabel=\"total acceleration [g]\")\n",
    "ax.set_ylim(auto=True)\n",
    "ax.xaxis.set_major_formatter(mdates.DateFormatter('%H:%M:%S'))\n",
    "plt.xticks(rotation=45)\n",
    "\n",
    "ax.legend(ncol=3, loc='upper center', fontsize='small', frameon=False)"
   ]
  },
  {
   "cell_type": "markdown",
   "id": "5546128a-e14a-4bbb-8f5d-ce33810a0d29",
   "metadata": {
    "execution": {
     "iopub.execute_input": "2024-07-31T10:34:15.061836Z",
     "iopub.status.busy": "2024-07-31T10:34:15.061377Z",
     "iopub.status.idle": "2024-07-31T10:34:15.110872Z",
     "shell.execute_reply": "2024-07-31T10:34:15.110384Z",
     "shell.execute_reply.started": "2024-07-31T10:34:15.061822Z"
    }
   },
   "source": [
    "1.3. Plot of total acceleration telemetry (with an offset) of each axis (xyz) of each channel of the m1m3 vms channels"
   ]
  },
  {
   "cell_type": "code",
   "execution_count": null,
   "id": "1bbc5637-c34e-4f29-bb32-0df9703cc360",
   "metadata": {},
   "outputs": [],
   "source": [
    "fig, ax = plt.subplots(1, dpi=125, sharex=True, figsize=(10, 3))\n",
    "plt.suptitle(f\"\\nM1M3 VMS\\n{begin_time.iso[:10]} {begin_time.iso[11:19]}-{end_time.iso[11:19]}\\n\", y=0.99)\n",
    "\n",
    "# Ajustar el offset\n",
    "offset = 0.2\n",
    "labels = [\"m1m3_x_1\", \"m1m3_x_2\", \"m1m3_x_3\", \"m1m3_y_1\", \"m1m3_y_2\", \"m1m3_y_3\", \"m1m3_z_1\", \"m1m3_z_2\", \"m1m3_z_3\"]\n",
    "\n",
    "for i, key in enumerate([i for i in sorted(key_m1m3_dict.values()) if (\"m1m3\" in i)]):\n",
    "    ax.plot(Time(vms_m1m3_data[\"times\"], format=\"unix\").datetime, \n",
    "            vms_m1m3_data[key] - offset * i,  # Aplicar el offset\n",
    "            label=labels[i])\n",
    "\n",
    "ax.set(xlabel=\"Time\", ylabel=\"total acceleration [g]\")\n",
    "ax.set_ylim(auto=True)\n",
    "ax.xaxis.set_major_formatter(mdates.DateFormatter('%H:%M:%S'))\n",
    "plt.xticks(rotation=45)\n",
    "\n",
    "fig.legend(ncol=3, bbox_to_anchor=(0.5, 1.15), loc='upper center', fontsize='small', frameon=False)\n",
    "\n",
    "plt.show()\n",
    "\n"
   ]
  },
  {
   "cell_type": "markdown",
   "id": "6be4b3c8-1f5a-4eb3-ad4e-e8c5b12ac9f6",
   "metadata": {},
   "source": [
    "1.4. Plot of total acceleration telemetry (with an offset) of each axis (xyz) of the m1m3 vms channels"
   ]
  },
  {
   "cell_type": "code",
   "execution_count": null,
   "id": "6b6bfb09-b6ff-49c9-97d4-ad724d681370",
   "metadata": {},
   "outputs": [],
   "source": [
    "fig, ax = plt.subplots(1, dpi=125, sharex=True, figsize=(10, 5))\n",
    "# Lowering the title by reducing the 'y' parameter\n",
    "plt.suptitle(f\"\\nM1M3 VMS\\n{begin_time.iso[:10]} {begin_time.iso[11:19]}-{end_time.iso[11:19]}\\n\", y=0.95)\n",
    "\n",
    "# Grouping the keys by 'x', 'y', and 'z'\n",
    "x_keys = [key for key in sorted(key_m1m3_dict.values()) if \"m1m3_x\" in key]\n",
    "y_keys = [key for key in sorted(key_m1m3_dict.values()) if \"m1m3_y\" in key]\n",
    "z_keys = [key for key in sorted(key_m1m3_dict.values()) if \"m1m3_z\" in key]\n",
    "\n",
    "# Calculating the average for each group\n",
    "x_avg = np.mean([vms_m1m3_data[key] for key in x_keys], axis=0)\n",
    "y_avg = np.mean([vms_m1m3_data[key] for key in y_keys], axis=0)\n",
    "z_avg = np.mean([vms_m1m3_data[key] for key in z_keys], axis=0)\n",
    "\n",
    "# Define the offset to separate the plots\n",
    "offset = 0.4\n",
    "\n",
    "# Plotting the combined results with an offset\n",
    "ax.plot(Time(vms_m1m3_data[\"times\"], format=\"unix\").datetime, x_avg, label=\"m1m3_x\")\n",
    "ax.plot(Time(vms_m1m3_data[\"times\"], format=\"unix\").datetime, y_avg - offset, label=\"m1m3_y\")\n",
    "ax.plot(Time(vms_m1m3_data[\"times\"], format=\"unix\").datetime, z_avg - 2 * offset, label=\"m1m3_z\")\n",
    "\n",
    "# Set labels and formatting\n",
    "ax.set(xlabel=\"Time\", ylabel=\"total acceleration [g]\")\n",
    "ax.set_ylim(auto=True)\n",
    "ax.xaxis.set_major_formatter(mdates.DateFormatter('%H:%M:%S'))\n",
    "plt.xticks(rotation=45)\n",
    "\n",
    "# Set the x-axis limit to cut off at 23:50\n",
    "end_time_limit = Time(begin_time.iso[:10] + ' 23:52:00', format='iso').datetime\n",
    "ax.set_xlim(right=end_time_limit)\n",
    "\n",
    "# Place the legend inside the plot, in the upper right corner\n",
    "ax.legend(loc='upper right', fontsize='small', frameon=False)\n",
    "\n",
    "# Adjust the layout to prevent overlapping\n",
    "plt.tight_layout(rect=[0, 0, 1, 0.95])\n",
    "plt.show()\n"
   ]
  },
  {
   "cell_type": "markdown",
   "id": "9b94d778-3b5f-43f8-8142-1c4ed0ece84c",
   "metadata": {},
   "source": [
    "### HP Forces"
   ]
  },
  {
   "cell_type": "markdown",
   "id": "7dd81833-2f57-4a75-beb3-c4a3316375d0",
   "metadata": {},
   "source": [
    "The limit required to keep the mirror safe during a mag 6 earthquake must be less than 3000 N. Let's study the and HP forces along the same axes and compare them with the accelerations."
   ]
  },
  {
   "cell_type": "code",
   "execution_count": null,
   "id": "ea011ad6-5a29-4c6e-add3-76e4ab0dad6b",
   "metadata": {},
   "outputs": [],
   "source": [
    "# Select data from a given date\n",
    "dayObs = 20230906\n",
    "eventMaker = TMAEventMaker()\n",
    "event = eventMaker.getEvents(dayObs)\n",
    "print(event)"
   ]
  },
  {
   "cell_type": "markdown",
   "id": "71202c5d-e1c9-4310-baae-e40548112c85",
   "metadata": {},
   "source": [
    "It seems that there is no information on the TMA for 2023-09-06, therefore we will not be able to perform the HP forces analysis. We have verified that there is no information"
   ]
  },
  {
   "cell_type": "code",
   "execution_count": null,
   "id": "fdcc223d-ff69-4c6e-893e-67adfcc11002",
   "metadata": {},
   "outputs": [],
   "source": [
    "df_hp = getEfdData(\n",
    "    client, \"lsst.sal.MTM1M3.hardpointActuatorData\", begin=begin_time, end=end_time\n",
    ")\n",
    "print(df_hp)\n",
    "\n",
    "df_plot = df_hp[\"fx\"][begin:end]\n",
    "pyplot.plot(df_plot, color=\"red\", lw=\"0.5\", label=\"HP fx\")\n",
    "df_plot = df_hp[\"fy\"][begin:end]\n",
    "pyplot.plot(df_plot, color=\"blue\", lw=\"0.5\", label=\"HP fy\")\n",
    "df_plot = df_hp[\"fz\"][begin:end]\n",
    "pyplot.plot(df_plot, color=\"black\", lw=\"0.5\", label=\"HP fz\")\n",
    "pyplot.set_ylabel(\"HP Force \\n[N]\")"
   ]
  },
  {
   "cell_type": "markdown",
   "id": "d5cf3429-f70d-42e1-bc03-c6de754ea27b",
   "metadata": {
    "execution": {
     "iopub.execute_input": "2024-08-27T13:09:43.866743Z",
     "iopub.status.busy": "2024-08-27T13:09:43.866405Z",
     "iopub.status.idle": "2024-08-27T13:09:43.870147Z",
     "shell.execute_reply": "2024-08-27T13:09:43.869669Z",
     "shell.execute_reply.started": "2024-08-27T13:09:43.866728Z"
    }
   },
   "source": [
    "we cannot make the comparison because the telescope was shut down from 4 August to 15 November 2023, so no information is available. "
   ]
  },
  {
   "cell_type": "markdown",
   "id": "cffc12ef-a5fe-4d63-8e29-f7e8159365ff",
   "metadata": {
    "execution": {
     "iopub.execute_input": "2024-07-30T12:48:37.539117Z",
     "iopub.status.busy": "2024-07-30T12:48:37.538845Z",
     "iopub.status.idle": "2024-07-30T12:48:37.579865Z",
     "shell.execute_reply": "2024-07-30T12:48:37.579455Z",
     "shell.execute_reply.started": "2024-07-30T12:48:37.539103Z"
    }
   },
   "source": [
    "#### PSD (Power Spectral Density)"
   ]
  },
  {
   "cell_type": "markdown",
   "id": "dcd9e61a-3d3e-4e12-b654-9ee2bf0c0d22",
   "metadata": {},
   "source": [
    "2.1. A Power Spectral Density (psd) of each axis (xyz) of each channel of the m1m3 vms data\n"
   ]
  },
  {
   "cell_type": "code",
   "execution_count": null,
   "id": "b69adb71-fa90-400d-87c8-47a960519224",
   "metadata": {},
   "outputs": [],
   "source": [
    "plt.figure(dpi=175,figsize=(10,5))\n",
    "plt.suptitle(f\"M1M3 VMS\\n{begin_time.iso[:10]} {begin_time.iso[11:19]}-{end_time.iso[11:19]}\\n PSD for all axes of all channels\", y=0.99)\n",
    "step=0.1\n",
    "for i,key in enumerate([i for i in sorted(key_m1m3_dict.values()) if (\"m1m3\" in i)]):\n",
    "    \n",
    "    freq,psd=get_freq_psd(vms_m1m3_data[key], np.mean(np.diff(vms_m1m3_data[\"times\"])))\n",
    "    points_x=get_peak_points(freq, psd)\n",
    "    if points_x is not None:\n",
    "        points_y=np.ones_like(points_x) * i * step * -1\n",
    "        # print(f\"{key}: {str([int(i) for i in points_x])[1:-1]} Hz\")\n",
    "    else: \n",
    "        print(f\"{key} no peaks\")\n",
    "    plt.plot(freq,psd - i * step, label=key, zorder=9, lw=1)\n",
    "\n",
    "plt.legend(ncol=3, edgecolor=\"k\", facecolor=\"white\", loc=9, framealpha=1)\n",
    "plt.ylim(-0.05 - i * step, 0.35)\n",
    "plt.xlabel(\"frequency [Hz]\")\n",
    "plt.ylabel(\"psd + offset\")\n",
    "plt.grid(visible=True, axis=\"x\", ls=\"dashed\", alpha=0.4)\n",
    "_=plt.xticks(np.arange(0,110,10))\n"
   ]
  },
  {
   "cell_type": "markdown",
   "id": "4710b670-7666-4770-885a-c8c7005ab8dc",
   "metadata": {
    "execution": {
     "iopub.execute_input": "2024-07-31T12:54:36.633011Z",
     "iopub.status.busy": "2024-07-31T12:54:36.632636Z",
     "iopub.status.idle": "2024-07-31T12:54:36.674136Z",
     "shell.execute_reply": "2024-07-31T12:54:36.673697Z",
     "shell.execute_reply.started": "2024-07-31T12:54:36.632998Z"
    }
   },
   "source": [
    "2.2. A Power Spectral Density (psd) of each axis (xyz) of each channel of the m1m3 vms data (zoom)"
   ]
  },
  {
   "cell_type": "code",
   "execution_count": null,
   "id": "a0fdc9b2-4d30-491e-98ff-f046042d1135",
   "metadata": {},
   "outputs": [],
   "source": [
    "plt.figure(dpi=175,figsize=(10,5))\n",
    "plt.suptitle(f\"M1M3 VMS\\n{begin_time.iso[:10]} {begin_time.iso[11:19]}-{end_time.iso[11:19]}\\n PSD for all axes of all channels\", y=0.99)\n",
    "step=100\n",
    "for i,key in enumerate([i for i in sorted(key_m1m3_dict.values()) if (\"m1m3\" in i)]):\n",
    "    \n",
    "    freq,psd=get_freq_psd(vms_m1m3_data[key], np.mean(np.diff(vms_m1m3_data[\"times\"])))\n",
    "    points_x=get_peak_points(freq, psd)\n",
    "    if points_x is not None:\n",
    "        points_y=np.ones_like(points_x) * i * step * -1\n",
    "        # print(f\"{key}: {str([int(i) for i in points_x])[1:-1]} Hz\")\n",
    "    else: \n",
    "        print(f\"{key} no peaks\")\n",
    "    plt.plot(freq,psd - i * step, label=key, zorder=9, lw=1)\n",
    "\n",
    "plt.legend(ncol=3, edgecolor=\"k\", facecolor=\"white\", loc=9, framealpha=1)\n",
    "#plt.ylim(-0.05 - i * step, 0.35)\n",
    "plt.xlabel(\"frequency [Hz]\")\n",
    "plt.ylabel(\"psd + offset\")\n",
    "plt.grid(visible=True, axis=\"x\", ls=\"dashed\", alpha=0.4)\n",
    "_=plt.xticks(np.arange(0,110,10))"
   ]
  },
  {
   "cell_type": "markdown",
   "id": "ca945fcf-ff32-4cab-a379-d24c2654c068",
   "metadata": {},
   "source": [
    "We change the x-axis to better visualise the data."
   ]
  },
  {
   "cell_type": "code",
   "execution_count": null,
   "id": "47d67ec3-9ff2-4f9b-8c27-b34c55a98a3d",
   "metadata": {},
   "outputs": [],
   "source": [
    "plt.figure(dpi=175, figsize=(10, 5))\n",
    "plt.suptitle(f\"M1M3 VMS\\n{begin_time.iso[:10]} {begin_time.iso[11:19]}-{end_time.iso[11:19]}\\n PSD for all axes of all channels\", y=0.99)\n",
    "step = 100\n",
    "\n",
    "for i, key in enumerate([i for i in sorted(key_m1m3_dict.values()) if (\"m1m3\" in i)]):\n",
    "    freq, psd = get_freq_psd(vms_m1m3_data[key], np.mean(np.diff(vms_m1m3_data[\"times\"])))\n",
    "    points_x = get_peak_points(freq, psd)\n",
    "    \n",
    "    if points_x is not None:\n",
    "        points_y = np.ones_like(points_x) * i * step * -1\n",
    "        # print(f\"{key}: {str([int(i) for i in points_x])[1:-1]} Hz\")\n",
    "    else: \n",
    "        print(f\"{key} no peaks\")\n",
    "    \n",
    "    plt.plot(freq, psd - i * step, label=key, zorder=9, lw=1)\n",
    "\n",
    "plt.legend(ncol=3, edgecolor=\"k\", facecolor=\"white\", loc=9, framealpha=1)\n",
    "\n",
    "plt.xlim(0, 20)\n",
    "\n",
    "plt.xlabel(\"frequency [Hz]\")\n",
    "plt.ylabel(\"psd + offset\")\n",
    "plt.grid(visible=True, axis=\"x\", ls=\"dashed\", alpha=0.4)\n",
    "plt.xticks(np.arange(0, 20, 10))\n",
    "\n",
    "plt.show()\n"
   ]
  },
  {
   "cell_type": "markdown",
   "id": "06a5ff21-5c08-4f22-9865-aaff47c89f35",
   "metadata": {
    "execution": {
     "iopub.execute_input": "2024-08-01T09:57:46.127751Z",
     "iopub.status.busy": "2024-08-01T09:57:46.127187Z",
     "iopub.status.idle": "2024-08-01T09:57:46.176124Z",
     "shell.execute_reply": "2024-08-01T09:57:46.175697Z",
     "shell.execute_reply.started": "2024-08-01T09:57:46.127730Z"
    }
   },
   "source": [
    "## Analysis for the evening's event:  2023-10-31"
   ]
  },
  {
   "cell_type": "markdown",
   "id": "3f95ac6c-b78e-4a02-affd-6d67718b6313",
   "metadata": {},
   "source": [
    "### Loading VMS data"
   ]
  },
  {
   "cell_type": "markdown",
   "id": "8db9c27b-5259-413a-8746-4c6bb9971828",
   "metadata": {},
   "source": [
    "We analysed de data of the earthquake event of 31 October 2023."
   ]
  },
  {
   "cell_type": "code",
   "execution_count": null,
   "id": "638619b7-ff0f-4e54-8513-216a09910a4f",
   "metadata": {},
   "outputs": [],
   "source": [
    "vms_m1m3_filename_oct=\"/scratch/users/b/boutigny/vmsdata/2023/09/M1M3-2023-10-31T00:00.hdf\"\n",
    "begin_time=Time('2023-10-31 12:30:00', format=\"iso\", scale=\"utc\")\n",
    "end_time=Time('2023-10-31 12:35:00', format=\"iso\", scale=\"utc\")"
   ]
  },
  {
   "cell_type": "markdown",
   "id": "064410ac-1926-42b9-809e-d62f5e94d03b",
   "metadata": {},
   "source": [
    "There is no VMS data for the night of 31 October 2023 so we will have to analyse the earthquake event differently from the one analysed for the night of 6 Septembre 2023."
   ]
  },
  {
   "cell_type": "code",
   "execution_count": null,
   "id": "8d3bcebb-591f-4fe5-b2e2-40ed68396f27",
   "metadata": {},
   "outputs": [],
   "source": [
    "client=makeEfdClient()\n",
    "efd_dict=get_efd_data(begin_time, end_time, client)\n",
    "\n",
    "vms_m1m3_data_oct=vms_data_to_pandas(vms_m1m3_filename_oct, vms_type=\"m1m3\",begin_time=begin_time.unix, end_time=end_time.unix)"
   ]
  },
  {
   "cell_type": "markdown",
   "id": "daebfd71-7a9a-4ac1-8ead-54d63241ca1b",
   "metadata": {},
   "source": [
    "### Loading IMF data"
   ]
  },
  {
   "cell_type": "code",
   "execution_count": null,
   "id": "9df7103d-e1a3-412f-af67-b7f864dd8892",
   "metadata": {},
   "outputs": [],
   "source": [
    "dayObs = 20231031\n",
    "#begin = '23:47:00'\n",
    "postPadding = 15  # in seconds, integration time will be 30 s"
   ]
  },
  {
   "cell_type": "code",
   "execution_count": null,
   "id": "7a2d55c5-08ca-4f2b-80a4-58d9457fbeb5",
   "metadata": {},
   "outputs": [],
   "source": [
    "## Define column names\n",
    "all_columns = [\n",
    "    \"xPosition\",\n",
    "    \"yPosition\",\n",
    "    \"zPosition\",\n",
    "    \"xRotation\",\n",
    "    \"yRotation\",\n",
    "    \"zRotation\",\n",
    "]\n",
    "pos_columns = [c for c in all_columns if \"Position\" in c]\n",
    "rot_columns = [c for c in all_columns if \"Rotation\" in c]"
   ]
  },
  {
   "cell_type": "code",
   "execution_count": null,
   "id": "bebc58c4-5f4f-4eb9-bf6c-aa128b9e22b8",
   "metadata": {},
   "outputs": [],
   "source": [
    "# Select data from a given date\n",
    "eventMaker = TMAEventMaker()\n",
    "event = eventMaker.getEvents(dayObs)\n",
    "print(event)"
   ]
  },
  {
   "cell_type": "markdown",
   "id": "e39152f9-bb3a-49cd-b46b-9686b13efb40",
   "metadata": {},
   "source": [
    "For observation night 2023-10-31 no IMF data is available.\n",
    "\n",
    "It is possible that it would not have been necessary to read the data in this way and that the get_efd_data function would be sufficient. But as the dictionary was empty, this extra check was done. "
   ]
  },
  {
   "cell_type": "markdown",
   "id": "9a084e25-d62d-42e1-85f4-55d4a0f777fe",
   "metadata": {},
   "source": [
    "## EXTRA ANALYSIS"
   ]
  },
  {
   "cell_type": "markdown",
   "id": "1ddd10cf-2685-4a7e-88a6-9fd3c6c817e2",
   "metadata": {
    "execution": {
     "iopub.execute_input": "2024-08-05T07:08:38.001985Z",
     "iopub.status.busy": "2024-08-05T07:08:38.001698Z",
     "iopub.status.idle": "2024-08-05T07:08:38.048269Z",
     "shell.execute_reply": "2024-08-05T07:08:38.047860Z",
     "shell.execute_reply.started": "2024-08-05T07:08:38.001971Z"
    }
   },
   "source": [
    "#### Earthquake events using the EFD client"
   ]
  },
  {
   "cell_type": "code",
   "execution_count": null,
   "id": "8f5a4064-167e-4668-8792-997062ee9c3c",
   "metadata": {},
   "outputs": [],
   "source": [
    "from lsst_efd_client import EfdClient\n",
    "client = EfdClient('usdf_efd', db_name=\"lsst.backpack\")\n",
    "\n",
    "topics = await client.get_topics()\n",
    "topics"
   ]
  },
  {
   "cell_type": "code",
   "execution_count": null,
   "id": "4bd701c7-f7fb-4319-830a-c8b80359fa93",
   "metadata": {},
   "outputs": [],
   "source": [
    "query = f'''SELECT * FROM \"lsst.backpack.usgs_earthquake_data\"'''\n",
    "await client.influx_client.query(query)"
   ]
  },
  {
   "cell_type": "code",
   "execution_count": null,
   "id": "ee720434-41c5-4057-ab8f-ef016e0ecfd5",
   "metadata": {},
   "outputs": [],
   "source": [
    "data = getEfdData(client, \"lsst.backpack.usgs_earthquake_data\", dayObs=20231031)\n",
    "data"
   ]
  },
  {
   "cell_type": "code",
   "execution_count": null,
   "id": "1120030a-251a-4d77-9029-afa595b24b49",
   "metadata": {},
   "outputs": [],
   "source": [
    "import asyncio\n",
    "import nest_asyncio\n",
    "from lsst.summit.utils.efdUtils import getEfdData, makeEfdClient, getTopics\n",
    "client = makeEfdClient()\n",
    "\n",
    "await asyncio.sleep(1)\n",
    "nest_asyncio.apply()\n",
    "print(getTopics(client, '*ess*'))  # to help you find a topic that related to the ESS\n",
    "topic = 'lsst.sal.MTMount.elevation'\n",
    "data = getEfdData(client, topic, dayObs=20231031)\n",
    "print(f'Found {len(data)} rows of pressure data')  # lots of data"
   ]
  },
  {
   "cell_type": "markdown",
   "id": "36edde2c-fdfd-4187-a4d2-3db0785eb8fe",
   "metadata": {},
   "source": [
    "### RMS"
   ]
  },
  {
   "cell_type": "code",
   "execution_count": null,
   "id": "09676db6-dc7e-40b4-82e2-537a05381807",
   "metadata": {},
   "outputs": [],
   "source": []
  },
  {
   "cell_type": "code",
   "execution_count": null,
   "id": "b27e027d-2d8e-494f-a0a4-0f0a3ae63ae9",
   "metadata": {},
   "outputs": [],
   "source": [
    "# rms\n",
    "rolling = 10  \n",
    "\n",
    "total_1 = vms_m1m3_data[\"total_1\"]\n",
    "total_2 = vms_m1m3_data[\"total_2\"]\n",
    "total_3 = vms_m1m3_data[\"total_3\"]\n",
    "\n",
    "rms_1 = total_1.rolling(rolling).std()\n",
    "rms_2 = total_2.rolling(rolling).std()\n",
    "rms_3 = total_3.rolling(rolling).std()"
   ]
  },
  {
   "cell_type": "code",
   "execution_count": null,
   "id": "aef546af-8842-4e0b-b179-892001a877d6",
   "metadata": {},
   "outputs": [],
   "source": [
    "fig, ax = plt.subplots(1, dpi=125, sharex=True, figsize=(10, 3))\n",
    "plt.suptitle(f\"M1M3 VMS\\n{begin_time.iso[:10]} {begin_time.iso[11:19]}-{end_time.iso[11:19]}\\n\", y=0.99)\n",
    "\n",
    "# Setting the offset\n",
    "offset = 0.2\n",
    "labels = [\"m1m3_1\", \"m1m3_2 -0.2\", \"m1m3_3 -0.4\"]\n",
    "\n",
    "for i in np.arange(3):\n",
    "    ax.plot(Time(vms_m1m3_data[\"times\"], format=\"unix\").datetime, \n",
    "            vms_m1m3_data[f\"total_{i+1}\"] - offset * i,  # Aplicar el offset\n",
    "            label=labels[i])\n",
    "\n",
    "ax.plot(Time(vms_m1m3_data[\"times\"], format=\"unix\").datetime,\n",
    "        rms_1, linestyle='--', linewidth=1.0, color='red', label='RMS')\n",
    "\n",
    "ax.plot(Time(vms_m1m3_data[\"times\"], format=\"unix\").datetime,\n",
    "        rms_2 - offset * 1, linestyle='--', linewidth=1.0, color='red')\n",
    "\n",
    "ax.plot(Time(vms_m1m3_data[\"times\"], format=\"unix\").datetime,\n",
    "        rms_3 - offset * 2, linestyle='--', linewidth=1.0, color='red')\n",
    "\n",
    "\n",
    "ax.set(xlabel=\"Time\", ylabel=\"total acceleration [m/s$^2$]\")\n",
    "ax.set_ylim(auto=True)\n",
    "ax.xaxis.set_major_formatter(mdates.DateFormatter('%H:%M:%S'))\n",
    "plt.xticks(rotation=45)\n",
    "\n",
    "ax.legend(ncol=3, loc='upper center', fontsize='small', frameon=False)"
   ]
  },
  {
   "cell_type": "code",
   "execution_count": null,
   "id": "b7bd2373-7940-4f32-96c0-99f060abee5e",
   "metadata": {},
   "outputs": [],
   "source": [
    "# Definimos los datos a utilizar\n",
    "times = Time(vms_m1m3_data[\"times\"], format=\"unix\").datetime\n",
    "\n",
    "# Gráfica para total_1\n",
    "fig, ax1 = plt.subplots(1, dpi=125, figsize=(10, 3))\n",
    "ax1.set_title(f\"M1M3 VMS - m1m3_x\\n{begin_time.iso[:10]} {begin_time.iso[11:19]}-{end_time.iso[11:19]}\")\n",
    "ax1.plot(times, vms_m1m3_data[\"total_1\"], label=\"m1m3_1\", color='tab:blue')\n",
    "ax1.plot(times, rms_1, linestyle='--', linewidth=1.0, color='red', label='RMS')\n",
    "ax1.set(xlabel=\"Time\", ylabel=\"total acceleration [m/s$^2$]\")\n",
    "ax1.xaxis.set_major_formatter(mdates.DateFormatter('%H:%M:%S'))\n",
    "ax1.legend(loc='upper right', fontsize='small', frameon=False)\n",
    "plt.xticks(rotation=45)\n",
    "\n",
    "# Gráfica para total_2\n",
    "fig, ax2 = plt.subplots(1, dpi=125, figsize=(10, 3))\n",
    "ax2.set_title(f\"M1M3 VMS - m1m3_y\\n{begin_time.iso[:10]} {begin_time.iso[11:19]}-{end_time.iso[11:19]}\")\n",
    "ax2.plot(times, vms_m1m3_data[\"total_2\"], label=\"m1m3_2\", color='tab:orange')\n",
    "ax2.plot(times, rms_2, linestyle='--', linewidth=1.0, color='red', label='RMS')\n",
    "ax2.set(xlabel=\"Time\", ylabel=\"total acceleration [m/s$^2$]\")\n",
    "ax2.xaxis.set_major_formatter(mdates.DateFormatter('%H:%M:%S'))\n",
    "ax2.legend(loc='upper right', fontsize='small', frameon=False)\n",
    "plt.xticks(rotation=45)\n",
    "\n",
    "# Gráfica para total_3\n",
    "fig, ax3 = plt.subplots(1, dpi=125, figsize=(10, 3))\n",
    "ax3.set_title(f\"M1M3 VMS - m1m3_z\\n{begin_time.iso[:10]} {begin_time.iso[11:19]}-{end_time.iso[11:19]}\")\n",
    "ax3.plot(times, vms_m1m3_data[\"total_3\"], label=\"m1m3_3\", color='tab:green')\n",
    "ax3.plot(times, rms_3, linestyle='--', linewidth=1.0, color='red', label='RMS')\n",
    "ax3.set(xlabel=\"Time\", ylabel=\"total acceleration [m/s$^2$]\")\n",
    "ax3.xaxis.set_major_formatter(mdates.DateFormatter('%H:%M:%S'))\n",
    "ax3.legend(loc='upper right', fontsize='small', frameon=False)\n",
    "plt.xticks(rotation=45)\n",
    "\n",
    "# Show the plots\n",
    "plt.show()\n"
   ]
  },
  {
   "cell_type": "code",
   "execution_count": null,
   "id": "9db7c63c-599b-4c62-9e26-53cd8357ec12",
   "metadata": {},
   "outputs": [],
   "source": [
    "import matplotlib.pyplot as plt\n",
    "import matplotlib.dates as mdates\n",
    "from astropy.time import Time\n",
    "\n",
    "# Definimos los datos a utilizar\n",
    "times = Time(vms_m1m3_data[\"times\"], format=\"unix\").datetime\n",
    "\n",
    "# Límites del eje Y\n",
    "y_min, y_max = -0.0005, 0.01\n",
    "\n",
    "# Gráfica para total_1\n",
    "fig, ax1 = plt.subplots(1, dpi=125, figsize=(10, 3))\n",
    "ax1.set_title(f\"M1M3 VMS - m1m3_x\\n{begin_time.iso[:10]} {begin_time.iso[11:19]}-{end_time.iso[11:19]}\")\n",
    "ax1.plot(times, vms_m1m3_data[\"total_1\"], label=\"m1m3_1\", color='tab:blue')\n",
    "ax1.plot(times, rms_1, linestyle='--', linewidth=1.0, color='red', label='RMS')\n",
    "# Añadir la línea horizontal a 1e-6, más fina\n",
    "ax1.axhline(y=1e-6, color='black', linestyle='--', linewidth=0.7, label='RMS requirement')\n",
    "ax1.set(xlabel=\"Time\", ylabel=\"Total Acceleration [m/s$^2$]\", ylim=(y_min, y_max))\n",
    "ax1.xaxis.set_major_formatter(mdates.DateFormatter('%H:%M:%S'))\n",
    "ax1.legend(loc='upper right', fontsize='small', frameon=False)\n",
    "plt.xticks(rotation=45)\n",
    "\n",
    "# Gráfica para total_2\n",
    "fig, ax2 = plt.subplots(1, dpi=125, figsize=(10, 3))\n",
    "ax2.set_title(f\"M1M3 VMS - m1m3_y\\n{begin_time.iso[:10]} {begin_time.iso[11:19]}-{end_time.iso[11:19]}\")\n",
    "ax2.plot(times, vms_m1m3_data[\"total_2\"], label=\"m1m3_2\", color='tab:orange')\n",
    "ax2.plot(times, rms_2, linestyle='--', linewidth=1.0, color='red', label='RMS')\n",
    "# Añadir la línea horizontal a 1e-6, más fina\n",
    "ax2.axhline(y=1e-6, color='black', linestyle='--', linewidth=0.7, label='RMS requirement')\n",
    "ax2.set(xlabel=\"Time\", ylabel=\"Total Acceleration [m/s$^2$]\", ylim=(y_min, y_max))\n",
    "ax2.xaxis.set_major_formatter(mdates.DateFormatter('%H:%M:%S'))\n",
    "ax2.legend(loc='upper right', fontsize='small', frameon=False)\n",
    "plt.xticks(rotation=45)\n",
    "\n",
    "# Gráfica para total_3\n",
    "fig, ax3 = plt.subplots(1, dpi=125, figsize=(10, 3))\n",
    "ax3.set_title(f\"M1M3 VMS - m1m3_z\\n{begin_time.iso[:10]} {begin_time.iso[11:19]}-{end_time.iso[11:19]}\")\n",
    "ax3.plot(times, vms_m1m3_data[\"total_3\"], label=\"m1m3_3\", color='tab:green')\n",
    "ax3.plot(times, rms_3, linestyle='--', linewidth=1.0, color='red', label='RMS')\n",
    "# Añadir la línea horizontal a 1e-6, más fina\n",
    "ax3.axhline(y=1e-6, color='black', linestyle='--', linewidth=0.7, label='RMS requirement')\n",
    "ax3.set(xlabel=\"Time\", ylabel=\"Total Acceleration [m/s$^2$]\", ylim=(y_min, y_max))\n",
    "ax3.xaxis.set_major_formatter(mdates.DateFormatter('%H:%M:%S'))\n",
    "ax3.legend(loc='upper right', fontsize='small', frameon=False)\n",
    "plt.xticks(rotation=45)\n",
    "\n",
    "# Mostrar las gráficas\n",
    "plt.show()\n"
   ]
  },
  {
   "cell_type": "code",
   "execution_count": null,
   "id": "b10ffa5b-7477-46c3-9549-e43633a20677",
   "metadata": {},
   "outputs": [],
   "source": [
    "import matplotlib.pyplot as plt\n",
    "import matplotlib.dates as mdates\n",
    "from astropy.time import Time\n",
    "\n",
    "# Definimos los datos a utilizar\n",
    "times = Time(vms_m1m3_data[\"times\"], format=\"unix\").datetime\n",
    "\n",
    "# Límites iniciales del eje Y (ajustaremos después de verificar los valores RMS)\n",
    "y_min, y_max = -0.01, 0.02\n",
    "\n",
    "# Valores RMS requeridos\n",
    "rms_requirement = 1e-6\n",
    "\n",
    "# Gráfica para total_1\n",
    "fig, ax1 = plt.subplots(1, dpi=125, figsize=(10, 3))\n",
    "ax1.set_title(f\"M1M3 VMS - m1m3_x\\n{begin_time.iso[:10]} {begin_time.iso[11:19]}-{end_time.iso[11:19]}\")\n",
    "ax1.plot(times, vms_m1m3_data[\"total_1\"], label=\"m1m3_1\", color='tab:blue')\n",
    "ax1.plot(times, rms_1, linestyle='--', linewidth=1.0, color='red', label='RMS')\n",
    "# Añadir la línea horizontal de RMS requirement\n",
    "ax1.axhline(y=rms_requirement, color='black', linestyle='--', linewidth=0.5, label='RMS requirement')\n",
    "ax1.set(xlabel=\"Time\", ylabel=\"Total Acceleration [m/s$^2$]\", ylim=(y_min, y_max))\n",
    "ax1.xaxis.set_major_formatter(mdates.DateFormatter('%H:%M:%S'))\n",
    "ax1.legend(loc='upper right', fontsize='small', frameon=False)\n",
    "plt.xticks(rotation=45)\n",
    "\n",
    "# Mostrar el valor RMS calculado en el gráfico\n",
    "rms_calculated_1 = rms_1.mean()  # Por ejemplo, podrías usar el promedio del RMS\n",
    "ax1.text(0.01, 0.95, f'RMS calculated: {rms_calculated_1:.2e} m/s²', transform=ax1.transAxes, fontsize=9, verticalalignment='top')\n",
    "\n",
    "# Ajustar límites del eje Y para que el RMS requirement sea visible\n",
    "y_min_1, y_max_1 = vms_m1m3_data[\"total_1\"].min(), vms_m1m3_data[\"total_1\"].max()\n",
    "ax1.set_ylim([min(y_min_1, rms_requirement) - 0.01, max(y_max_1, rms_requirement) + 0.01])\n",
    "\n",
    "# Gráfica para total_2\n",
    "fig, ax2 = plt.subplots(1, dpi=125, figsize=(10, 3))\n",
    "ax2.set_title(f\"M1M3 VMS - m1m3_y\\n{begin_time.iso[:10]} {begin_time.iso[11:19]}-{end_time.iso[11:19]}\")\n",
    "ax2.plot(times, vms_m1m3_data[\"total_2\"], label=\"m1m3_2\", color='tab:orange')\n",
    "ax2.plot(times, rms_2, linestyle='--', linewidth=1.0, color='red', label='RMS')\n",
    "# Añadir la línea horizontal de RMS requirement\n",
    "ax2.axhline(y=rms_requirement, color='black', linestyle='--', linewidth=0.5, label='RMS requirement')\n",
    "ax2.set(xlabel=\"Time\", ylabel=\"Total Acceleration [m/s$^2$]\", ylim=(y_min, y_max))\n",
    "ax2.xaxis.set_major_formatter(mdates.DateFormatter('%H:%M:%S'))\n",
    "ax2.legend(loc='upper right', fontsize='small', frameon=False)\n",
    "plt.xticks(rotation=45)\n",
    "\n",
    "# Mostrar el valor RMS calculado en el gráfico\n",
    "rms_calculated_2 = rms_2.mean()  # Por ejemplo, podrías usar el promedio del RMS\n",
    "ax2.text(0.01, 0.95, f'RMS calculated: {rms_calculated_2:.2e} m/s²', transform=ax2.transAxes, fontsize=9, verticalalignment='top')\n",
    "\n",
    "# Ajustar límites del eje Y para que el RMS requirement sea visible\n",
    "y_min_2, y_max_2 = vms_m1m3_data[\"total_2\"].min(), vms_m1m3_data[\"total_2\"].max()\n",
    "ax2.set_ylim([min(y_min_2, rms_requirement) - 0.01, max(y_max_2, rms_requirement) + 0.01])\n",
    "\n",
    "# Gráfica para total_3\n",
    "fig, ax3 = plt.subplots(1, dpi=125, figsize=(10, 3))\n",
    "ax3.set_title(f\"M1M3 VMS - m1m3_z\\n{begin_time.iso[:10]} {begin_time.iso[11:19]}-{end_time.iso[11:19]}\")\n",
    "ax3.plot(times, vms_m1m3_data[\"total_3\"], label=\"m1m3_3\", color='tab:green')\n",
    "ax3.plot(times, rms_3, linestyle='--', linewidth=1.0, color='red', label='RMS')\n",
    "# Añadir la línea horizontal de RMS requirement\n",
    "ax3.axhline(y=rms_requirement, color='black', linestyle='--', linewidth=0.5, label='RMS requirement')\n",
    "ax3.set(xlabel=\"Time\", ylabel=\"Total Acceleration [m/s$^2$]\", ylim=(y_min, y_max))\n",
    "ax3.xaxis.set_major_formatter(mdates.DateFormatter('%H:%M:%S'))\n",
    "ax3.legend(loc='upper right', fontsize='small', frameon=False)\n",
    "plt.xticks(rotation=45)\n",
    "\n",
    "# Mostrar el valor RMS calculado en el gráfico\n",
    "rms_calculated_3 = rms_3.mean()  # Por ejemplo, podrías usar el promedio del RMS\n",
    "ax3.text(0.01, 0.95, f'RMS calculated: {rms_calculated_3:.2e} m/s²', transform=ax3.transAxes, fontsize=9, verticalalignment='top')\n",
    "\n",
    "# Ajustar límites del eje Y para que el RMS requirement sea visible\n",
    "y_min_3, y_max_3 = vms_m1m3_data[\"total_3\"].min(), vms_m1m3_data[\"total_3\"].max()\n",
    "ax3.set_ylim([min(y_min_3, rms_requirement) - 0.01, max(y_max_3, rms_requirement) + 0.01])\n",
    "\n",
    "# Mostrar las gráficas\n",
    "plt.show()\n"
   ]
  },
  {
   "cell_type": "code",
   "execution_count": null,
   "id": "8d7bdcc0-1e6d-48f6-9ff1-fdcbb0f9dcf3",
   "metadata": {},
   "outputs": [],
   "source": [
    "import matplotlib.pyplot as plt\n",
    "import matplotlib.dates as mdates\n",
    "from astropy.time import Time\n",
    "\n",
    "# Definimos los datos a utilizar\n",
    "times = Time(vms_m1m3_data[\"times\"], format=\"unix\").datetime\n",
    "\n",
    "# Límites del eje Y (fijos para todas las gráficas)\n",
    "y_min, y_max = -0.001, 0.001\n",
    "\n",
    "# Valores RMS requeridos\n",
    "rms_requirement = 1e-6\n",
    "\n",
    "# Gráfica para total_1\n",
    "fig, ax1 = plt.subplots(1, dpi=125, figsize=(10, 3))\n",
    "ax1.set_title(f\"M1M3 VMS - m1m3_x\\n{begin_time.iso[:10]} {begin_time.iso[11:19]}-{end_time.iso[11:19]}\")\n",
    "ax1.plot(times, vms_m1m3_data[\"total_1\"], label=\"m1m3_1\", color='tab:blue')\n",
    "ax1.plot(times, rms_1, linestyle='--', linewidth=1.0, color='red', label='RMS')\n",
    "# Añadir la línea horizontal de RMS requirement\n",
    "ax1.axhline(y=rms_requirement, color='black', linestyle='--', linewidth=0.5, label='RMS requirement')\n",
    "ax1.set(xlabel=\"Time\", ylabel=\"Total Acceleration [m/s$^2$]\", ylim=(y_min, y_max))\n",
    "ax1.xaxis.set_major_formatter(mdates.DateFormatter('%H:%M:%S'))\n",
    "ax1.legend(loc='upper right', fontsize='small', frameon=False)\n",
    "plt.xticks(rotation=45)\n",
    "\n",
    "# Mostrar el valor RMS calculado en el gráfico\n",
    "rms_calculated_1 = rms_1.mean()  # Por ejemplo, podrías usar el promedio del RMS\n",
    "ax1.text(0.01, 0.95, f'RMS calculated: {rms_calculated_1:.2e} m/s²', transform=ax1.transAxes, fontsize=9, verticalalignment='top')\n",
    "\n",
    "# Gráfica para total_2\n",
    "fig, ax2 = plt.subplots(1, dpi=125, figsize=(10, 3))\n",
    "ax2.set_title(f\"M1M3 VMS - m1m3_y\\n{begin_time.iso[:10]} {begin_time.iso[11:19]}-{end_time.iso[11:19]}\")\n",
    "ax2.plot(times, vms_m1m3_data[\"total_2\"], label=\"m1m3_2\", color='tab:orange')\n",
    "ax2.plot(times, rms_2, linestyle='--', linewidth=1.0, color='red', label='RMS')\n",
    "# Añadir la línea horizontal de RMS requirement\n",
    "ax2.axhline(y=rms_requirement, color='black', linestyle='--', linewidth=0.5, label='RMS requirement')\n",
    "ax2.set(xlabel=\"Time\", ylabel=\"Total Acceleration [m/s$^2$]\", ylim=(y_min, y_max))\n",
    "ax2.xaxis.set_major_formatter(mdates.DateFormatter('%H:%M:%S'))\n",
    "ax2.legend(loc='upper right', fontsize='small', frameon=False)\n",
    "plt.xticks(rotation=45)\n",
    "\n",
    "# Mostrar el valor RMS calculado en el gráfico\n",
    "rms_calculated_2 = rms_2.mean()  # Por ejemplo, podrías usar el promedio del RMS\n",
    "ax2.text(0.01, 0.95, f'RMS calculated: {rms_calculated_2:.2e} m/s²', transform=ax2.transAxes, fontsize=9, verticalalignment='top')\n",
    "\n",
    "# Gráfica para total_3\n",
    "fig, ax3 = plt.subplots(1, dpi=125, figsize=(10, 3))\n",
    "ax3.set_title(f\"M1M3 VMS - m1m3_z\\n{begin_time.iso[:10]} {begin_time.iso[11:19]}-{end_time.iso[11:19]}\")\n",
    "ax3.plot(times, vms_m1m3_data[\"total_3\"], label=\"m1m3_3\", color='tab:green')\n",
    "ax3.plot(times, rms_3, linestyle='--', linewidth=1.0, color='red', label='RMS')\n",
    "# Añadir la línea horizontal de RMS requirement\n",
    "ax3.axhline(y=rms_requirement, color='black', linestyle='--', linewidth=0.5, label='RMS requirement')\n",
    "ax3.set(xlabel=\"Time\", ylabel=\"Total Acceleration [m/s$^2$]\", ylim=(y_min, y_max))\n",
    "ax3.xaxis.set_major_formatter(mdates.DateFormatter('%H:%M:%S'))\n",
    "ax3.legend(loc='upper right', fontsize='small', frameon=False)\n",
    "plt.xticks(rotation=45)\n",
    "\n",
    "# Mostrar el valor RMS calculado en el gráfico\n",
    "rms_calculated_3 = rms_3.mean()  # Por ejemplo, podrías usar el promedio del RMS\n",
    "ax3.text(0.01, 0.95, f'RMS calculated: {rms_calculated_3:.2e} m/s²', transform=ax3.transAxes, fontsize=9, verticalalignment='top')\n",
    "\n",
    "# Mostrar las gráficas\n",
    "plt.show()\n"
   ]
  }
 ],
 "metadata": {
  "kernelspec": {
   "display_name": "LSST",
   "language": "python",
   "name": "lsst"
  },
  "language_info": {
   "codemirror_mode": {
    "name": "ipython",
    "version": 3
   },
   "file_extension": ".py",
   "mimetype": "text/x-python",
   "name": "python",
   "nbconvert_exporter": "python",
   "pygments_lexer": "ipython3",
   "version": "3.11.9"
  }
 },
 "nbformat": 4,
 "nbformat_minor": 5
}
