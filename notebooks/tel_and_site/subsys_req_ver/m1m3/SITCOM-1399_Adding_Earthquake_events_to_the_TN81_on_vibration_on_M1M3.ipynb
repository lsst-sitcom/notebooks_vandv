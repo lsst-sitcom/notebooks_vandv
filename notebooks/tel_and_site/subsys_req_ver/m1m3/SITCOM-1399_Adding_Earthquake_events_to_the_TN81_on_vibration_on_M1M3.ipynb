{
 "cells": [
  {
   "cell_type": "markdown",
   "id": "72cef637-a558-4af8-99ad-fd87380468dd",
   "metadata": {},
   "source": [
    "# SITCOM-1399: Adding Earthquake events to the TN81, on vibration on M1M3"
   ]
  },
  {
   "cell_type": "markdown",
   "id": "cccba396-fc91-4462-8622-0a8665e43ef1",
   "metadata": {},
   "source": [
    "**Descripción**\n",
    "\n",
    "Sub-ticket related to the [SITCOM-918: Write technote on hardpoint oscillations during tma slews](https://rubinobs.atlassian.net/browse/SITCOM-918), to study earthquake events seen by M1M3. \n",
    "We can read the TN81 [here](https://sitcomtn-081.lsst.io/v/SITCOM-918/index.html).\n",
    "\n",
    "See more about the ticket in: [https://rubinobs.atlassian.net/browse/SITCOM-1399](https://rubinobs.atlassian.net/browse/SITCOM-1399)\n",
    "\n"
   ]
  },
  {
   "cell_type": "markdown",
   "id": "769f28fd-ef4a-4fa4-a5ab-73a757959977",
   "metadata": {},
   "source": [
    "**More information**\n",
    "\n",
    "The **VMS (Vibration Monitoring System)** is a set of accelerometers mounted on the M1M3, M2, and Camera Rotator that measure high frequency accelerations (not including gravity). The data rate is 200 hz, and so can be used to identify vibrations up to 100 hz. More information can be found [confluence](https://confluence.lsstcorp.org/x/jQhUCQ). There are multiple sensors on each of the three components. In particular, for M1M3 has 3 sensors.\n",
    "\n",
    "The VMS data for the mag~6 earthquake of September are shown in slides no. 56 and 57 available [here](https://docs.google.com/presentation/d/1HmmzIUt0XszK0XMS1YZtQiYCvdwajhrZ8p3ZdAVSp14/edit#slide=id.g2633a5ccbdd_1_394).\n",
    "\n",
    "In this notebook we will study whether this type of event is safe for the mirror.\n",
    "\n",
    "The dates of large earthquakes are:\n",
    "- 2023-09-06 23:48:15 UTC\n",
    "- 2023-10-31 12:33:43 UTC"
   ]
  },
  {
   "cell_type": "markdown",
   "id": "a9ca43c3-0c39-42fa-95b4-82100be4937a",
   "metadata": {
    "execution": {
     "iopub.execute_input": "2024-06-12T15:47:36.513702Z",
     "iopub.status.busy": "2024-06-12T15:47:36.513386Z",
     "iopub.status.idle": "2024-06-12T15:47:36.515840Z",
     "shell.execute_reply": "2024-06-12T15:47:36.515467Z",
     "shell.execute_reply.started": "2024-06-12T15:47:36.513688Z"
    }
   },
   "source": [
    "## Function the read VMS data"
   ]
  },
  {
   "cell_type": "code",
   "execution_count": 1,
   "id": "bb9bbe64-0eac-4125-9469-2d5c6be88201",
   "metadata": {
    "execution": {
     "iopub.execute_input": "2024-06-12T15:50:00.714069Z",
     "iopub.status.busy": "2024-06-12T15:50:00.713588Z",
     "iopub.status.idle": "2024-06-12T15:50:07.616154Z",
     "shell.execute_reply": "2024-06-12T15:50:07.615654Z",
     "shell.execute_reply.started": "2024-06-12T15:50:00.714056Z"
    }
   },
   "outputs": [],
   "source": [
    "import sys, time, os, asyncio\n",
    "import scipy.stats as stats\n",
    "from scipy.signal import find_peaks\n",
    "from scipy import signal\n",
    "import h5py\n",
    "import numpy as np\n",
    "import pandas as pd\n",
    "import matplotlib.pyplot as plt\n",
    "from astropy.time import Time\n",
    "from lsst.summit.utils.tmaUtils import TMAEventMaker, TMAState\n",
    "from lsst.summit.utils.efdUtils import getEfdData, makeEfdClient, clipDataToEvent, calcNextDay\n",
    "%matplotlib inline\n",
    "%load_ext autoreload\n",
    "%autoreload 2"
   ]
  },
  {
   "cell_type": "code",
   "execution_count": null,
   "id": "7bf0c802-0745-4a76-9250-9740c3118c82",
   "metadata": {},
   "outputs": [],
   "source": []
  }
 ],
 "metadata": {
  "kernelspec": {
   "display_name": "LSST",
   "language": "python",
   "name": "lsst"
  },
  "language_info": {
   "codemirror_mode": {
    "name": "ipython",
    "version": 3
   },
   "file_extension": ".py",
   "mimetype": "text/x-python",
   "name": "python",
   "nbconvert_exporter": "python",
   "pygments_lexer": "ipython3",
   "version": "3.11.7"
  }
 },
 "nbformat": 4,
 "nbformat_minor": 5
}
