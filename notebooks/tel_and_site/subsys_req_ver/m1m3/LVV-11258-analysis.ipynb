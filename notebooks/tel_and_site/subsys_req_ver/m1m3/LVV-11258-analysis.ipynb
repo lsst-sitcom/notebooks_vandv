{
 "cells": [
  {
   "cell_type": "markdown",
   "id": "7c235e45-d932-432a-b473-f72774f97a37",
   "metadata": {},
   "source": [
    "# [LVV-T11258] - Settling Time After a Slew\n",
    "\n",
    "Notebook containing data analysis for the [LVV-T11258] test case.  \n",
    "\n",
    "[LVV-T11258]: https://jira.lsstcorp.org/browse/LVV-11258\n",
    "\n",
    "Some pending items(July 8th 2023) --> add as issues:\n",
    "1. Get some RMS requirements \n",
    "2. Tweak parameters for stationarity, for a robust measurement\n",
    "\n",
    "\n",
    "### Prepare Notebook"
   ]
  },
  {
   "cell_type": "code",
   "execution_count": null,
   "id": "9627519e-ef49-41c5-9085-1a7373e7b3c0",
   "metadata": {
    "tags": []
   },
   "outputs": [],
   "source": [
    "%matplotlib inline\n",
    "%load_ext autoreload\n",
    "%autoreload 2"
   ]
  },
  {
   "cell_type": "code",
   "execution_count": null,
   "id": "c3d229f3-648a-4ee3-ac70-8e22bd90e53e",
   "metadata": {
    "tags": []
   },
   "outputs": [],
   "source": [
    "import pandas as pd\n",
    "import matplotlib.pyplot as plt\n",
    "import numpy as np\n",
    "\n",
    "from astropy.time import Time, TimezoneInfo\n",
    "from statsmodels.tsa.stattools import adfuller\n",
    "\n",
    "from lsst.sitcom import vandv\n",
    "from lsst.ts.idl.enums import MTM1M3\n",
    "\n",
    "from lsst.summit.utils.tmaUtils import TMAEventMaker, TMAState\n",
    "from lsst.summit.utils.efdUtils import getEfdData, makeEfdClient\n",
    "\n",
    "import warnings\n",
    "warnings.filterwarnings('ignore')"
   ]
  },
  {
   "cell_type": "code",
   "execution_count": null,
   "id": "6fa49a3c-6c77-4d44-939f-b713b1e5ca76",
   "metadata": {
    "tags": []
   },
   "outputs": [],
   "source": [
    "# create a client to retrieve datasets in the EFD database\n",
    "client = makeEfdClient()"
   ]
  },
  {
   "cell_type": "markdown",
   "id": "58085fea-42ff-43f0-89be-f3a2a1101b42",
   "metadata": {
    "tags": []
   },
   "source": [
    "### Define functions"
   ]
  },
  {
   "cell_type": "markdown",
   "id": "3fa00725-5bff-4894-9892-d67e1368af60",
   "metadata": {
    "tags": []
   },
   "source": [
    "#### determine settling time"
   ]
  },
  {
   "cell_type": "code",
   "execution_count": null,
   "id": "c216de9d-5fa6-4ba5-b4be-e4aec7fecd38",
   "metadata": {
    "tags": []
   },
   "outputs": [],
   "source": [
    "def determineSettleTime(df_ims, #input data frame\n",
    "                        reference_t = '2023-06-01T06:00:0Z', #time for slew stop\n",
    "                        lo_delta_t = 5, #in seconds\n",
    "                        hi_delta_t = 30, #in seconds\n",
    "                        imsColumn = 'xPosition', #IMS column\n",
    "                        rmsReq = 1e-2, #requirement in appropriate units\n",
    "                        req_delta_t = 3, #time for settling, in seconds\n",
    "                        lapse = 200, pvalue = 0.05): \n",
    "    \n",
    "    if 'Position' in imsColumn:\n",
    "        units = 'mm'\n",
    "    else:\n",
    "        units = 'deg'\n",
    "\n",
    "    #T0 and T1 defines the window for requirement to be met\n",
    "    T0 = pd.to_datetime(reference_t)\n",
    "    T1 = T0 + pd.to_timedelta(req_delta_t,unit='s')\n",
    "    # delta_window is the time window for plot and reference for mean, before and after T0\n",
    "    delta_window = [pd.Timedelta(lo_delta_t, \"seconds\"),pd.Timedelta(hi_delta_t, \"seconds\")] \n",
    "    #zoom around the T0 of interest\n",
    "    TZoom = [T0-delta_window[0],  T0+delta_window[1]] \n",
    "      \n",
    "    targetVariablePlot = df_ims[imsColumn][TZoom[0]:TZoom[1]] #complete plot range\n",
    "    targetVariableWindow = df_ims[imsColumn][T0:T1] #from slew stop to end of requwindow\n",
    "    idxT0 = df_ims.index[df_ims.index.get_indexer([pd.to_datetime(T0)], method='nearest')]\n",
    "    idxTend = df_ims.index[df_ims.index.get_indexer([pd.to_datetime(T0+delta_window[1])], method='nearest')]\n",
    "    targetVariableReference = [df_ims[imsColumn][idxT0],float(df_ims[imsColumn][idxTend])] \n",
    "    #targetVariableReference = [df_ims[imsColumn][idxT0],df_ims[imsColumn][-1]] \n",
    "    #at slew stop and end of plot\n",
    "    \n",
    "    if len(targetVariablePlot.index) == 0:\n",
    "        print('Data frame is empty')\n",
    "        return -1\n",
    "    \n",
    "    #rms of difference wrt to end of plot, of values within requirement in window\n",
    "    rms = np.std(targetVariableWindow-targetVariableReference[1]) \n",
    "    \n",
    "    title = imsColumn\n",
    "    label = imsColumn + '(' + units +') wrt value at slew stop'\n",
    "\n",
    "    fig = plt.figure()\n",
    "    plt.plot(targetVariablePlot-targetVariableReference[0][0],\n",
    "             color='red', lw=\"0.5\", label=label)\n",
    "    plt.axvline(T0, lw=\"1.25\", c=\"k\", ls=\"dashed\", label='Slew stop')\n",
    "    #plt.axhline(-rmsReq)\n",
    "    #plt.axhline(rmsReq)\n",
    "    plt.xlabel(\"Time [UTC]\")\n",
    "    plt.ylabel(label)\n",
    "    plt.text(0.25, 0.92, 'RMS =' + ' {:.2e} '.format(rms) + units + \n",
    "             ' in 3s window, wrt value at end of plot', \n",
    "             transform=fig.transFigure)\n",
    "    fig.autofmt_xdate()\n",
    "    fig.tight_layout()\n",
    "\n",
    "    ## recomputing RMS for the whole range since T0\n",
    "    targetVariable = df_ims[imsColumn][T0:TZoom[1]]\n",
    "    rms = (targetVariable - targetVariableReference[1]).rolling(20).std()\n",
    "    plt.plot(rms, label='RMS wrt value at the end of plot,\\n from slew stop')\n",
    "    plt.axvspan(T0, T1, alpha=0.5, color='green', label='3s tolerance window')\n",
    "    plt.legend(loc=\"upper right\", fontsize = \"8\")\n",
    "    #print(rms) \n",
    "\n",
    "    ## compute time for settling using the Augmented Dickey-Fuller test\n",
    "    ## in this test, if you discard the null hypothesis, stationarity is found\n",
    "    ## https://en.wikipedia.org/wiki/Augmented_Dickey-Fuller_test\n",
    "    fig = plt.figure()    \n",
    "    rms = rms.dropna() # remove NaNs created by the rolling function\n",
    "    ##lapse = 400 # to be adjusted\n",
    "    ##pvalue = 0.05 ## if lower, test is less tolerant to finding stationarity, to be adjusted\n",
    "    k= 0\n",
    "    for i in range(0,len(rms)-lapse):# lapse is the number of forward events that are used for\n",
    "                                     # the RMS to measure stationarity \n",
    "        adf = adfuller(rms[i:i+lapse], autolag='AIC')\n",
    "        #print(i,rms.index[i],adf[1],len(rms)-lapse)\n",
    "        if adf[1] < pvalue: # is non-stationary if null hypothesis is true (large p-value)\n",
    "            #print(i, i+lapse, adf[1], pvalue)\n",
    "            k = i+lapse #stationarity is reached at the time stamp at the end of the lapse \n",
    "                        #used for RMS\n",
    "            #print(k, rms.index[k])\n",
    "            break\n",
    "    \n",
    "\n",
    "    plt.plot(rms)\n",
    "    plt.axvline(T0, lw=\"1.25\", c=\"k\", ls=\"dashed\", label='Slew stop')\n",
    "    plt.axvline(rms.index[k], lw=\"1.25\", c=\"green\", ls=\"dashed\", label='Settled')\n",
    "    plt.xlabel(\"Time [UTC]\")\n",
    "    plt.ylabel('RMS wrt value at the end of plot ('+units+')')    \n",
    "    fig.autofmt_xdate()\n",
    "    fig.tight_layout()\n",
    "    plt.text(0.50, 0.93, 'Slew stop =' + t1.strftime('%H:%M:%S.%f'), transform=fig.transFigure)        \n",
    "    plt.text(0.50, 0.90, 'Settling time (ADF test) =' + rms.index[k].strftime('%H:%M:%S.%f'), transform=fig.transFigure)        \n",
    "    time_to_settle = rms.index[k]-t1\n",
    "    print(\"Time to settle:\",lapse,k,time_to_settle.total_seconds(),\"s\")\n",
    "    return rms.index[k]\n",
    "    "
   ]
  },
  {
   "cell_type": "markdown",
   "id": "c741d971-c0c5-48eb-b99d-553650ccc406",
   "metadata": {
    "tags": []
   },
   "source": [
    "#### compare IMS vs mount data"
   ]
  },
  {
   "cell_type": "code",
   "execution_count": null,
   "id": "06e3bbe4-4417-49a4-b471-379dda7babde",
   "metadata": {
    "tags": []
   },
   "outputs": [],
   "source": [
    "def compareIMSMount(df_ims,\n",
    "                   df_mtmount_ele,\n",
    "                   df_mtmount_azi,\n",
    "                   reference_t = '2023-06-01 06:53:37.326',\n",
    "                   lo_delta_t = 5, #in seconds\n",
    "                   hi_delta_t = 60): #in seconds\n",
    "    \n",
    "    fig,axs = plt.subplots(5,1, dpi=125, figsize=(6,8))\n",
    "    t_start_plot = pd.to_datetime(reference_t) - pd.to_timedelta(lo_delta_t,unit='s') ##correcting by hand for TAI, is this correct?\n",
    "    t_end_plot = pd.to_datetime(reference_t) + pd.to_timedelta(hi_delta_t,unit='s')\n",
    "    print('reference_t:',reference_t)\n",
    "    print('t_start:',t_start_plot)\n",
    "    print('t_end:',t_end_plot)\n",
    "\n",
    "    ax = axs[0]\n",
    "    actpos_ele = df_mtmount_ele['actualPosition'][t_start_plot:t_end_plot]\n",
    "    ax.plot(actpos_ele,color='red', lw=\"0.5\")\n",
    "    ax.axvline(pd.to_datetime(reference_t), lw=\"0.5\", c=\"k\")\n",
    "    ax.set_ylabel(\"Elevation \\nPosition\\n[deg]\")\n",
    "    \n",
    "    ax = axs[1]\n",
    "    actpos_azi = df_mtmount_azi['actualPosition'][t_start_plot:t_end_plot]\n",
    "    ax.plot(actpos_azi,color='red', lw=\"0.5\")\n",
    "    ax.axvline(pd.to_datetime(reference_t), lw=\"0.5\", c=\"k\")\n",
    "    ax.set_ylabel(\"Azimuth \\nPosition\\n[deg]\")\n",
    "\n",
    "    t_start_plot = pd.to_datetime(reference_t) - pd.to_timedelta(lo_delta_t,unit='s') \n",
    "    t_end_plot = pd.to_datetime(reference_t) + pd.to_timedelta(hi_delta_t,unit='s')\n",
    "    \n",
    "    plotstring = ['xPosition','yPosition','zPosition']\n",
    "    plotrange = np.arange(len(plotstring))    \n",
    "    for i in plotrange:\n",
    "        ax = axs[i+2]\n",
    "        pos = df_ims[plotstring[i]][t_start_plot:t_end_plot]\n",
    "        ax.plot(pos,color='red', lw=\"0.5\")\n",
    "        ax.axvline(pd.to_datetime(reference_t), lw=\"0.5\", c=\"k\")\n",
    "        ax.set_ylabel(plotstring[i] + ' \\n[mm]')\n",
    "    ax.set_xlabel('UTC')\n",
    "    fig.autofmt_xdate()\n",
    "    fig.subplots_adjust(hspace=1)\n",
    "    ### TBD: use a delta time wrt slew stop in x-label"
   ]
  },
  {
   "cell_type": "markdown",
   "id": "1616eac9-8801-4ff5-9dea-33abed4bb005",
   "metadata": {
    "tags": []
   },
   "source": [
    "### Get slew stops"
   ]
  },
  {
   "cell_type": "code",
   "execution_count": null,
   "id": "b66bab89-b2ef-42ae-a73e-ab34e72ea514",
   "metadata": {
    "tags": []
   },
   "outputs": [],
   "source": [
    "# Select data from a given date\n",
    "dayObs = 20230710 #20230710 contains the first large slew motions\n",
    "eventMaker = TMAEventMaker()\n",
    "events = eventMaker.getEvents(dayObs)\n",
    "\n",
    "# Get lists of slew and track events\n",
    "slews = [e for e in events if e.type==TMAState.SLEWING]\n",
    "tracks = [e for e in events if e.type==TMAState.TRACKING]\n",
    "print(f'Found {len(slews)} slews and {len(tracks)} tracks')"
   ]
  },
  {
   "cell_type": "markdown",
   "id": "decee784-6779-4188-84d7-86727cb7cdb8",
   "metadata": {
    "execution": {
     "iopub.execute_input": "2023-05-29T17:26:26.927448Z",
     "iopub.status.busy": "2023-05-29T17:26:26.927223Z",
     "iopub.status.idle": "2023-05-29T17:26:26.953496Z",
     "shell.execute_reply": "2023-05-29T17:26:26.953042Z",
     "shell.execute_reply.started": "2023-05-29T17:26:26.927433Z"
    },
    "tags": []
   },
   "source": [
    "### Load data"
   ]
  },
  {
   "cell_type": "code",
   "execution_count": null,
   "id": "463c0894-10ba-4d9a-93c0-184577716beb",
   "metadata": {
    "tags": []
   },
   "outputs": [],
   "source": [
    "all_columns = [\"xPosition\", \"xRotation\", \"yPosition\", \"yRotation\", \"zPosition\", \"zRotation\"]\n",
    "pos_columns = [c for c in all_columns if \"Position\" in c]\n",
    "rot_columns = [c for c in all_columns if \"Rotation\" in c]"
   ]
  },
  {
   "cell_type": "markdown",
   "id": "afc7c80a-7803-4b16-82a0-a8ccd95453c2",
   "metadata": {
    "tags": []
   },
   "source": [
    "#### Using eventMaker "
   ]
  },
  {
   "cell_type": "code",
   "execution_count": null,
   "id": "35cbd2fa-09bc-4db0-affc-d801cff75a4c",
   "metadata": {
    "tags": []
   },
   "outputs": [],
   "source": [
    "## Some settings\n",
    "# define specific slew\n",
    "i_slew = 56\n",
    "# define padding after end of slew\n",
    "postPadding = 60 # in seconds"
   ]
  },
  {
   "cell_type": "code",
   "execution_count": null,
   "id": "9048573c-6e49-42f2-a2aa-69db1b434040",
   "metadata": {
    "tags": []
   },
   "outputs": [],
   "source": [
    "t0 = Time(slews[i_slew].begin, format='isot', scale='utc')\n",
    "t0 = pd.to_datetime(t0.value, utc=True) # astropy Time to Timestamp conversion\n",
    "t1 = Time(slews[i_slew].end, format='isot', scale='utc')\n",
    "t1 = pd.to_datetime(t1.value, utc=True) # astropy Time to Timestamp conversion\n",
    "print('Slew stop at:',t1)\n",
    "\n",
    "# Get IMS data\n",
    "# Note that we need data beyond the associated to the slew stop, \n",
    "# which just covers the slew itself, ie, while the telescope is moving (TBC)\n",
    "df_ims = getEfdData(client, 'lsst.sal.MTM1M3.imsData', \n",
    "                    event=slews[i_slew], \n",
    "                    postPadding = postPadding)\n",
    "df_ims = df_ims[all_columns]\n",
    "# Convert meter to milimeter \n",
    "df_ims[pos_columns] = df_ims[pos_columns] * 1e3\n"
   ]
  },
  {
   "cell_type": "code",
   "execution_count": null,
   "id": "064cdaad-08d1-46a5-b391-862fb96a6dce",
   "metadata": {
    "tags": []
   },
   "outputs": [],
   "source": [
    "# Get mount data\n",
    "df_mtmount_ele = getEfdData(client,'lsst.sal.MTMount.elevation', \n",
    "                            event=slews[i_slew], \n",
    "                            postPadding = postPadding)\n",
    "df_mtmount_azi = getEfdData(client,'lsst.sal.MTMount.azimuth', \n",
    "                            event=slews[i_slew], \n",
    "                            postPadding = postPadding)"
   ]
  },
  {
   "cell_type": "markdown",
   "id": "b5d91fe4-7273-4fde-babb-ad50fe299d6d",
   "metadata": {
    "tags": []
   },
   "source": [
    "### Look at data"
   ]
  },
  {
   "cell_type": "code",
   "execution_count": null,
   "id": "3552f9c2-2a0b-47cd-9d27-d89b0064219b",
   "metadata": {
    "tags": []
   },
   "outputs": [],
   "source": [
    "%matplotlib inline\n",
    "compareIMSMount(df_ims,df_mtmount_ele,df_mtmount_azi,\n",
    "                t1,10,pd.to_timedelta(postPadding, unit=\"s\"))"
   ]
  },
  {
   "cell_type": "markdown",
   "id": "e608982d-ca62-4968-b83f-c0c7e8bd3022",
   "metadata": {
    "execution": {
     "iopub.execute_input": "2023-05-29T17:28:18.701852Z",
     "iopub.status.busy": "2023-05-29T17:28:18.701639Z",
     "iopub.status.idle": "2023-05-29T17:28:18.728001Z",
     "shell.execute_reply": "2023-05-29T17:28:18.727553Z",
     "shell.execute_reply.started": "2023-05-29T17:28:18.701838Z"
    },
    "tags": []
   },
   "source": [
    "### Run test"
   ]
  },
  {
   "cell_type": "code",
   "execution_count": null,
   "id": "044913db-6728-4b3e-a090-0425f7eb2737",
   "metadata": {
    "tags": []
   },
   "outputs": [],
   "source": [
    "req_delta_t = 3 ## seconds\n",
    "req_rms = 1e-2 "
   ]
  },
  {
   "cell_type": "code",
   "execution_count": null,
   "id": "29e51adf-509c-47f3-a402-ce62df4cd80a",
   "metadata": {
    "tags": []
   },
   "outputs": [],
   "source": [
    "%matplotlib inline\n",
    "determineSettleTime(df_ims = df_ims, \n",
    "                    reference_t = t1, \n",
    "                    lo_delta_t = 5,\n",
    "                    hi_delta_t = postPadding,\n",
    "                    imsColumn = 'yPosition', \n",
    "                    rmsReq = req_rms, \n",
    "                    req_delta_t = req_delta_t,\n",
    "                    lapse = 600, pvalue = 0.001)"
   ]
  },
  {
   "cell_type": "code",
   "execution_count": null,
   "id": "95d4b254-3132-4313-8d17-0e38d455fdb5",
   "metadata": {},
   "outputs": [],
   "source": [
    "for i in [10, 15, 20, 25, 30, 35, 40, 45, 50, 75, 100, 200, 300, 600, 900]:\n",
    "    #check stability of result (settle time) for several lapse (i) values\n",
    "    determineSettleTime(df_ims = df_ims, \n",
    "                    reference_t = t1, \n",
    "                    lo_delta_t = 5,\n",
    "                    hi_delta_t = 60,\n",
    "                    imsColumn = 'zRotation', \n",
    "                    rmsReq = req_rms, \n",
    "                    req_delta_t = req_delta_t,\n",
    "                    lapse = i, pvalue = 0.001)\n",
    "    ##print(settle)"
   ]
  },
  {
   "cell_type": "code",
   "execution_count": null,
   "id": "84cb9e57-d2f2-4ac8-8bb3-501237c2dc1a",
   "metadata": {},
   "outputs": [],
   "source": []
  }
 ],
 "metadata": {
  "kernelspec": {
   "display_name": "LSST",
   "language": "python",
   "name": "lsst"
  },
  "language_info": {
   "codemirror_mode": {
    "name": "ipython",
    "version": 3
   },
   "file_extension": ".py",
   "mimetype": "text/x-python",
   "name": "python",
   "nbconvert_exporter": "python",
   "pygments_lexer": "ipython3",
   "version": "3.10.10"
  }
 },
 "nbformat": 4,
 "nbformat_minor": 5
}
