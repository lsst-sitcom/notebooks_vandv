{
 "cells": [
  {
   "cell_type": "markdown",
   "metadata": {},
   "source": [
    "# Ticket SITCOM-818 - supporting technote SITCOMTN-083\n",
    "Craig Lage - 15-May-23 \\\n",
    "Updated 16-Oct-23 with new FATable syntax \\\n",
    "Updated 14-Nov-23 with better plotting\\\n",
    "\n",
    "Here is what was requested:\n",
    "A script is needed to return maximal overshoot values per M1M3 during bump testing. It shall retrieve FA following error (M1M3.forceActuatorData.primaryCylinderFollowingError and M1M3.forceActuatorData.secondaryCylinderFollowingError) and per actuator, while it is bump tested, retrieve min and max (absolute) value of the deviation.\n",
    "\n",
    "This notebook does those things\n"
   ]
  },
  {
   "cell_type": "markdown",
   "metadata": {},
   "source": [
    "## Prepare the notebook"
   ]
  },
  {
   "cell_type": "code",
   "execution_count": null,
   "metadata": {
    "tags": []
   },
   "outputs": [],
   "source": [
    "# Directory to store the data\n",
    "from pathlib import Path\n",
    "data_dir = Path(\"./plots\")\n",
    "data_dir.mkdir(exist_ok=True, parents=True)\n",
    "\n",
    "start = \"2023-07-06T23:00:00\"\n",
    "end = \"2023-07-07T07:30:00\""
   ]
  },
  {
   "cell_type": "code",
   "execution_count": null,
   "metadata": {
    "tags": []
   },
   "outputs": [],
   "source": [
    "import sys, time, os, asyncio, glob\n",
    "from datetime import datetime\n",
    "import numpy as np\n",
    "import matplotlib.pyplot as plt\n",
    "from matplotlib.backends.backend_pdf import PdfPages\n",
    "from astropy.time import Time, TimeDelta\n",
    "from lsst.ts.xml.tables.m1m3 import FATable, FAIndex, force_actuator_from_id, actuator_id_to_index\n",
    "from lsst_efd_client import EfdClient"
   ]
  },
  {
   "cell_type": "code",
   "execution_count": null,
   "metadata": {
    "tags": []
   },
   "outputs": [],
   "source": [
    "async def plot_bump_test_following_errors(fig, bumps, id):\n",
    "    \"\"\" Plot a visualization of the bump test following errors\n",
    "        Parameters\n",
    "        ----------\n",
    "        fig : a matplotlib figure object\n",
    "\n",
    "        bumps: pandas dataframe\n",
    "            This is a dataframe containg the bump test status\n",
    "        \n",
    "        id: 'int'\n",
    "            The actuator id desired\n",
    "\n",
    "        Returns\n",
    "        -------\n",
    "        No return, only the fig object which was input\n",
    "    \"\"\"\n",
    "    \n",
    "    this_bump = bumps[bumps['actuatorId']==id]\n",
    "    last_this_bump_index = bumps[bumps['actuatorId']==id].last_valid_index()\n",
    "    pass_fail = bumps.iloc[bumps.index.get_loc(last_this_bump_index)+1]\n",
    "    fa = force_actuator_from_id(id)\n",
    "    primary_bump = f\"primaryTest{fa.index}\"\n",
    "    primary_follow = f\"primaryCylinderFollowingError{fa.index}\"\n",
    "    primary_force = f\"primaryCylinderForce{fa.index}\"\n",
    "    if fa.actuator_type.name == 'DAA':\n",
    "        secondary_bump = f\"secondaryTest{fa.s_index}\"\n",
    "        secondary_force = f\"secondaryCylinderForce{fa.s_index}\"\n",
    "        secondary_follow = f\"secondaryCylinderFollowingError{fa.s_index}\"\n",
    "        secondary_name = fa.orientation.name\n",
    "    else:\n",
    "        secondary_name = None\n",
    "        secondary_force = None\n",
    "        secondary_follow = None\n",
    "    plt.subplots_adjust(wspace=0.3)\n",
    "    plt.suptitle(f\"Bump Test Following Errors. Actuator ID {id}\", fontsize=18)\n",
    "    plot_start = this_bump[this_bump[primary_bump]==2]['timestamp'].values[0] - 1.0\n",
    "    plot_end = plot_start + 14.0 \n",
    "    start = Time(plot_start, format='unix_tai', scale='tai')\n",
    "    end = Time(plot_end, format='unix_tai', scale='tai')\n",
    "    forces = await client.select_time_series(\"lsst.sal.MTM1M3.forceActuatorData\", \\\n",
    "                                             [primary_force, primary_follow, 'timestamp'], start.utc, end.utc)\n",
    "    timestamp = forces.index[0].isoformat().split('.')[0]\n",
    "    plt.suptitle(f\"Bump Test Following Errors. Actuator ID {id}\\n {timestamp}\", fontsize=18)\n",
    "    times = forces['timestamp'].values\n",
    "    t0 = times[0]\n",
    "    times -= t0\n",
    "    primary_forces = forces[primary_force].values\n",
    "    primary_errors = forces[primary_follow].values\n",
    "    plot_start -= t0\n",
    "    plot_end -= t0\n",
    "    plt.subplot(2,2,1)\n",
    "    plt.title(\"Primary - Z\")\n",
    "    plt.plot(times, primary_forces, label='Data')\n",
    "    plt.xlim(plot_start, plot_end)\n",
    "    plt.ylim(-400,400)\n",
    "    plt.xlabel(\"Time (seconds)\")\n",
    "    plt.ylabel(\"Force (N)\")\n",
    "    plt.legend()\n",
    "    plt.subplot(2,2,3)\n",
    "    plt.title(\"Following Errors - Log scale above 10 N\")\n",
    "    plt.plot(times, primary_errors)\n",
    "    plt.ylim(-100,100)\n",
    "    plt.yscale('symlog', linthresh=10)\n",
    "    plt.plot([plot_start, plot_end], [5.0,5.0], ls='--', color='red')\n",
    "    plt.plot([plot_start, plot_end], [-5.0,-5.0], ls='--', color='red')\n",
    "    plt.plot([plot_start, plot_end], [2.5,2.5], ls='--', color='green')\n",
    "    plt.plot([plot_start, plot_end], [-2.5,-2.5], ls='--', color='green')\n",
    "    time_pass_primary_pos = this_bump[this_bump[primary_bump]==2]['timestamp'].values[0] - t0 + 3.0\n",
    "    plt.plot([time_pass_primary_pos, time_pass_primary_pos], [-100,100], ls='--', color='black')\n",
    "    time_pass_primary_neg = this_bump[this_bump[primary_bump]==4]['timestamp'].values[0] - t0 + 3.0\n",
    "    plt.plot([time_pass_primary_neg, time_pass_primary_neg], [-100,100], ls='--', color='black')\n",
    "    if pass_fail[primary_bump] == 6:\n",
    "        plt.text(1.0, 60.0, \"PASSED\", color='g')\n",
    "    elif pass_fail[primary_bump] == 7:\n",
    "        plt.text(1.0, 60.0, \"FAILED\", color='r')\n",
    "        print(f\"Primary {id} failed the bump test\")\n",
    "\n",
    "    plt.text(9, 65, f\"Max = {np.max(primary_errors):.1f} N\")\n",
    "    plt.text(5, -80, f\"Min = {np.min(primary_errors):.1f} N\")\n",
    "    plt.xlim(plot_start, plot_end)\n",
    "    plt.yticks([-100,-10,-7.5,-5.0,-2.5,0,2.5,5.0,7.5,10.0,100])\n",
    "    plt.xlabel(\"Time (seconds)\")\n",
    "    plt.ylabel(\"Following Errors (N)\")\n",
    "    \n",
    "    if secondary_name is not None:\n",
    "        plot_start = this_bump[this_bump[secondary_bump]==2]['timestamp'].values[0] - 1.0\n",
    "        plot_end = plot_start + 14.0\n",
    "        start = Time(plot_start, format='unix_tai', scale='tai')\n",
    "        end = Time(plot_end, format='unix_tai', scale='tai')\n",
    "        forces = await client.select_time_series(\"lsst.sal.MTM1M3.forceActuatorData\", \\\n",
    "                                                 [secondary_force, secondary_follow, 'timestamp'], start.utc, end.utc)\n",
    "        times = forces['timestamp'].values\n",
    "        t0 = times[0]\n",
    "        times -= t0\n",
    "        secondary_forces = forces[secondary_force].values\n",
    "        secondary_errors = forces[secondary_follow].values\n",
    "        plot_start -= t0\n",
    "        plot_end -= t0\n",
    "        plt.subplot(2,2,2)\n",
    "        plt.title(f\"Secondary - {secondary_name}\")\n",
    "        plt.plot(times, secondary_forces, label='Data')\n",
    "        plt.xlim(plot_start, plot_end)\n",
    "        plt.ylim(-400,400)\n",
    "        plt.xlabel(\"Time (seconds)\")\n",
    "        plt.ylabel(\"Force (N)\")\n",
    "        plt.legend()\n",
    "        plt.subplot(2,2,4)\n",
    "        plt.title(\"Following Errors - Log scale above 10 N\")\n",
    "        plt.plot(times, secondary_errors)\n",
    "        plt.yscale('symlog', linthresh=10)\n",
    "        plt.plot([plot_start, plot_end], [5.0,5.0], ls='--', color='red')\n",
    "        plt.plot([plot_start, plot_end], [-5.0,-5.0], ls='--', color='red')\n",
    "        plt.plot([plot_start, plot_end], [2.5,2.5], ls='--', color='green')\n",
    "        plt.plot([plot_start, plot_end], [-2.5,-2.5], ls='--', color='green')\n",
    "        time_pass_secondary_pos = this_bump[this_bump[secondary_bump]==2]['timestamp'].values[0] - t0 + 3.0\n",
    "        plt.plot([time_pass_secondary_pos, time_pass_secondary_pos], [-100,100], ls='--', color='black')\n",
    "        time_pass_secondary_neg = this_bump[this_bump[secondary_bump]==4]['timestamp'].values[0] - t0 + 3.0\n",
    "        plt.plot([time_pass_secondary_neg, time_pass_secondary_neg], [-100,100], ls='--', color='black')\n",
    "        if pass_fail[secondary_bump] == 6:\n",
    "            plt.text(1.0, 60.0, \"PASSED\", color='g')\n",
    "        elif pass_fail[secondary_bump] == 7:\n",
    "            plt.text(1.0, 60.0, \"FAILED\", color='r')\n",
    "            print(f\"Secondary {id} failed the bump test\")\n",
    "        \n",
    "        plt.text(9, 65, f\"Max = {np.max(secondary_errors):.1f} N\")\n",
    "        plt.text(5, -80, f\"Min = {np.min(secondary_errors):.1f} N\")\n",
    "        plt.xlim(plot_start, plot_end)\n",
    "        plt.ylim(-100, 100)\n",
    "        plt.yticks([-100,-10,-7.5,-5.0,-2.5,0,2.5,5.0,7.5,10.0,100])\n",
    "        plt.xlabel(\"Time (seconds)\")\n",
    "        plt.ylabel(\"Following Errors (N)\")\n",
    "    else:\n",
    "        plt.subplot(2,2,2)\n",
    "        plt.title(\"No Secondary\")\n",
    "        plt.xticks([])\n",
    "        plt.yticks([])\n",
    "        plt.subplot(2,2,4)\n",
    "        plt.xticks([])\n",
    "        plt.yticks([])\n",
    "    return "
   ]
  },
  {
   "cell_type": "markdown",
   "metadata": {},
   "source": [
    "## First run just one actuator"
   ]
  },
  {
   "cell_type": "code",
   "execution_count": null,
   "metadata": {
    "tags": []
   },
   "outputs": [],
   "source": [
    "client = EfdClient('usdf_efd')\n",
    "bumps = await client.select_time_series(\"lsst.sal.MTM1M3.logevent_forceActuatorBumpTestStatus\", \"*\",\\\n",
    "                                        Time(start, scale='utc'), Time(end, scale='utc'))\n",
    "# The actuator id runs from 101 to 443, as described in \n",
    "# Section 2 of https://sitcomtn-083.lsst.io/\n",
    "id = 108\n",
    "fig = plt.figure(figsize=(10,10))\n",
    "await plot_bump_test_following_errors(fig, bumps, id)\n",
    "plt.savefig(str(data_dir / f\"Bump_Test_Following_Errors_{id}.png\"))"
   ]
  },
  {
   "cell_type": "markdown",
   "metadata": {},
   "source": [
    "# Now run the whole bump test"
   ]
  },
  {
   "cell_type": "code",
   "execution_count": null,
   "metadata": {
    "tags": []
   },
   "outputs": [],
   "source": [
    "timestamp = bumps.index[0].isoformat().split('.')[0].replace('-','').replace(':','')\n",
    "pdf = PdfPages(str(data_dir / f\"Bump_Test_Following_Errors_{timestamp}.pdf\"))\n",
    "fig = plt.figure(figsize=(10,10))\n",
    "for index in range(len(FATable)):\n",
    "    try:\n",
    "        id = FATable[index].actuator_id\n",
    "        await plot_bump_test_following_errors(fig, bumps, id)\n",
    "        pdf.savefig(fig)  # saves the current figure into a pdf page\n",
    "        print(f\"Plot for actuator {id} succeeded!\")\n",
    "        plt.clf()\n",
    "    except:\n",
    "        print(f\"Plot for actuator {id} failed!\")\n",
    "        continue\n",
    "pdf.close()\n"
   ]
  },
  {
   "cell_type": "code",
   "execution_count": null,
   "metadata": {},
   "outputs": [],
   "source": []
  }
 ],
 "metadata": {
  "kernelspec": {
   "display_name": "LSST",
   "language": "python",
   "name": "lsst"
  },
  "language_info": {
   "codemirror_mode": {
    "name": "ipython",
    "version": 3
   },
   "file_extension": ".py",
   "mimetype": "text/x-python",
   "name": "python",
   "nbconvert_exporter": "python",
   "pygments_lexer": "ipython3",
   "version": "3.11.4"
  }
 },
 "nbformat": 4,
 "nbformat_minor": 4
}
