{
 "cells": [
  {
   "cell_type": "markdown",
   "id": "4f9debea-aa94-4f87-8d9b-0c74c3d648dd",
   "metadata": {},
   "source": [
    "# [SITCOMTN-XXX] - M1M3 - analyze position and rotation stability throughout a tracking period\n",
    "\n",
    "2023-12-14 Laura\n",
    "\n",
    "This notebook evaluates displacements of M1M3 for X, Y, Z, RX, RY, and RZ during the period beteween slews while tracking (approximately 30 s) and check if they comply with the 2 micron and 2e-5 degree requirement.\n"
   ]
  },
  {
   "cell_type": "code",
   "execution_count": 13,
   "id": "2dbd7a63-897f-4093-b397-3e1c6b145e56",
   "metadata": {
    "execution": {
     "iopub.execute_input": "2023-12-20T10:43:37.145438Z",
     "iopub.status.busy": "2023-12-20T10:43:37.145251Z",
     "iopub.status.idle": "2023-12-20T10:43:37.192175Z",
     "shell.execute_reply": "2023-12-20T10:43:37.191763Z",
     "shell.execute_reply.started": "2023-12-20T10:43:37.145424Z"
    }
   },
   "outputs": [
    {
     "name": "stdout",
     "output_type": "stream",
     "text": [
      "The autoreload extension is already loaded. To reload it, use:\n",
      "  %reload_ext autoreload\n"
     ]
    }
   ],
   "source": [
    "%matplotlib inline\n",
    "%load_ext autoreload\n",
    "%autoreload 2"
   ]
  },
  {
   "cell_type": "code",
   "execution_count": 14,
   "id": "8c1640f9-f391-495f-8267-788011435bc5",
   "metadata": {
    "execution": {
     "iopub.execute_input": "2023-12-20T10:43:41.164341Z",
     "iopub.status.busy": "2023-12-20T10:43:41.164150Z",
     "iopub.status.idle": "2023-12-20T10:43:41.209771Z",
     "shell.execute_reply": "2023-12-20T10:43:41.209360Z",
     "shell.execute_reply.started": "2023-12-20T10:43:41.164327Z"
    }
   },
   "outputs": [],
   "source": [
    "import pandas as pd\n",
    "import matplotlib.pyplot as plt\n",
    "import numpy as np\n",
    "\n",
    "from astropy.time import Time, TimezoneInfo\n",
    "from statsmodels.tsa.stattools import adfuller\n",
    "\n",
    "from lsst.summit.utils.tmaUtils import TMAEventMaker, TMAState\n",
    "from lsst.summit.utils.efdUtils import getEfdData, makeEfdClient\n",
    "\n",
    "from datetime import timedelta, datetime\n",
    "import warnings\n",
    "warnings.filterwarnings('ignore')"
   ]
  },
  {
   "cell_type": "code",
   "execution_count": 15,
   "id": "8e5f2a7a-0924-41ce-863e-1ae9885144f8",
   "metadata": {
    "execution": {
     "iopub.execute_input": "2023-12-20T10:43:43.937663Z",
     "iopub.status.busy": "2023-12-20T10:43:43.937451Z",
     "iopub.status.idle": "2023-12-20T10:43:44.443681Z",
     "shell.execute_reply": "2023-12-20T10:43:44.443222Z",
     "shell.execute_reply.started": "2023-12-20T10:43:43.937647Z"
    }
   },
   "outputs": [],
   "source": [
    "# create a client to retrieve datasets in the EFD database\n",
    "client = makeEfdClient()"
   ]
  },
  {
   "cell_type": "markdown",
   "id": "3a36e392-2395-4980-9018-029f08a4b83f",
   "metadata": {
    "execution": {
     "iopub.execute_input": "2023-12-14T17:20:47.856706Z",
     "iopub.status.busy": "2023-12-14T17:20:47.856507Z",
     "iopub.status.idle": "2023-12-14T17:20:47.902144Z",
     "shell.execute_reply": "2023-12-14T17:20:47.901630Z",
     "shell.execute_reply.started": "2023-12-14T17:20:47.856691Z"
    }
   },
   "source": [
    "### Define relevant settings"
   ]
  },
  {
   "cell_type": "markdown",
   "id": "1c266157-70b8-4a8e-921c-9ca92c88520a",
   "metadata": {},
   "source": [
    "#### Requirements"
   ]
  },
  {
   "cell_type": "code",
   "execution_count": 16,
   "id": "b37c795f-8705-4dd1-9b5a-06084872d61a",
   "metadata": {
    "execution": {
     "iopub.execute_input": "2023-12-20T10:43:46.148885Z",
     "iopub.status.busy": "2023-12-20T10:43:46.148674Z",
     "iopub.status.idle": "2023-12-20T10:43:46.193758Z",
     "shell.execute_reply": "2023-12-20T10:43:46.193237Z",
     "shell.execute_reply.started": "2023-12-20T10:43:46.148868Z"
    }
   },
   "outputs": [],
   "source": [
    "req_rms_position = 2e-3 ## mm, tolerance from repeatability requirement for IMS positional\n",
    "req_rms_rotation = 2e-5 ## degrees, tolerance from repeatability requirement for IMS rotational"
   ]
  },
  {
   "cell_type": "markdown",
   "id": "14c09626-6275-45f7-9c7b-eb5a8ba5faaf",
   "metadata": {},
   "source": [
    "### Define functions"
   ]
  },
  {
   "cell_type": "code",
   "execution_count": null,
   "id": "3551e4fe-126b-4976-99ac-e3a56cd39780",
   "metadata": {},
   "outputs": [],
   "source": [
    "def computeStability(\n",
    "    df_ims,  # input data frame\n",
    "    referenceTime = \"2023-06-01T06:00:0Z\",  # time for slew stop (T0)\n",
    "    imsColumn=\"xPosition\",  # IMS column\n",
    "    rmsReq=2e-3,  # requirement in appropriate units\n",
    "    chi2prob=0.999,  # confidence level for IMS variable wrt to long term value and variance to agree   \n",
    "):\n",
    "    if \"Position\" in imsColumn:\n",
    "        units = \"mm\"\n",
    "        ylimMax = rmsReq #+ 0.005\n",
    "    elif \"Rotation\" in imsColumn:\n",
    "        units = \"deg\"\n",
    "        ylimMax = rmsReq #+ 0.0001\n",
    "    else:\n",
    "        print(\"Unidentified column\")\n",
    "        return -1\n",
    "    "
   ]
  },
  {
   "cell_type": "code",
   "execution_count": null,
   "id": "c188df94-28fe-43b9-8841-9f622ac0f7a2",
   "metadata": {},
   "outputs": [],
   "source": [
    "import pandas as pd\n",
    "import numpy as np\n",
    "import matplotlib.pyplot as plt\n",
    "from scipy import stats\n",
    "\n",
    "def computeSettleTimeBetweenSlew(\n",
    "    df_ims,  # input data frame\n",
    "    referenceTime=\"2023-06-01T06:00:0Z\",  # time for slew stop (T0)\n",
    "    lo_delta_t=5,  # in seconds   ****CAMBIAR ESTOS VALORES***\n",
    "    hi_delta_t=30,  # in seconds\n",
    "    imsColumn=\"xPosition\",  # IMS column\n",
    "    rmsReq=2e-3,  # requirement in appropriate units\n",
    "    #req_delta_t=3,  # time for settling, in seconds\n",
    "    chi2prob=0.999,  # confidence level for IMS variable wrt to long term value and variance to agree\n",
    "):\n",
    "    if \"Position\" in imsColumn:\n",
    "        units = \"mm\"\n",
    "        ylimMax = rmsReq + 0.005\n",
    "    elif \"Rotation\" in imsColumn:\n",
    "        units = \"deg\"\n",
    "        ylimMax = rmsReq + 0.0001\n",
    "    else:\n",
    "        print(\"Unidentified column\")\n",
    "        return -1\n",
    "\n",
    "    # Select data from a given date\n",
    "    eventMaker = TMAEventMaker()\n",
    "    events = eventMaker.getEvents(dayObs)\n",
    "    \n",
    "    # Select the slews\n",
    "    slews = [e for e in events if e.type == TMAState.SLEWING]\n",
    "    slews_count = len(slews)\n",
    "    \n",
    "    for i in range(slews_count - 1):\n",
    "        slew_start = slews.index[i]\n",
    "        slew_end = slews.index[i + 1]\n",
    "\n",
    "    # Ajusta los tiempos T0 y T1 para analizar el seguimiento entre los SLEW\n",
    "    T0 = slew_end  # T0 es el final de un SLEW\n",
    "    T1 = slew_start  # T1 es el inicio del siguiente SLEW\n",
    "    \n",
    "    delta_window = [\n",
    "        pd.Timedelta(lo_delta_t, \"seconds\"),\n",
    "        pd.Timedelta(hi_delta_t, \"seconds\"),\n",
    "    ]\n",
    "    # zoom around the T0 of interest\n",
    "    TZoom = [T0 - delta_window[0], T0 + delta_window[1]]\n",
    "    \n",
    "    # targetVariablePlot takes the data frame for the complete plot range\n",
    "    targetVariablePlot = df_ims[imsColumn][TZoom[0] : TZoom[1]]\n",
    "    # targetVariableCheck takes the data from the slew stop, until the end of the plot\n",
    "    targetVariableCheck = df_ims[imsColumn][T0 : TZoom[1]]\n",
    "    # targetVariableWindow takes the data from the slew stop, until the end of requirement window\n",
    "    targetVariableWindow = df_ims[imsColumn][T0:T1]\n",
    "    idxT0 = df_ims.index[  # index in dataframe closest in time to slew stop\n",
    "        df_ims.index.get_indexer([pd.to_datetime(T0)], method=\"nearest\")\n",
    "    ]\n",
    "    idxT1 = (\n",
    "        df_ims.index[  # index in dataframe closest in time to end of requirement window\n",
    "            df_ims.index.get_indexer([pd.to_datetime(T1)], method=\"nearest\")\n",
    "        ]\n",
    "    )\n",
    "    idxTend = df_ims.index[  # index in dataframe closest in time to end of plot\n",
    "        df_ims.index.get_indexer(\n",
    "            [pd.to_datetime(T0 + delta_window[1])], method=\"nearest\"\n",
    "        )\n",
    "    ]\n",
    "    targetVariableReference = [\n",
    "        float(df_ims[imsColumn][idxT0]),\n",
    "        float(df_ims[imsColumn][idxTend]),\n",
    "    ]\n",
    "    if len(targetVariablePlot.index) == 0:\n",
    "        print(\"Data frame is empty\")\n",
    "        return -1\n",
    "\n",
    "    # it is important that the end of the plot (targetVariableReference[1])\n",
    "    # does not hit another slew or movement, nor at any point in the middle of the window\n",
    "\n",
    "    # correct IMS variable wrt end of plot\n",
    "    correctedVariablePlot = targetVariablePlot - targetVariableReference[1]\n",
    "    correctedVariableCheck = targetVariableCheck - targetVariableReference[1]\n",
    "    correctedVariableCheck2 = np.square(correctedVariableCheck)\n",
    "\n",
    "    # number of values where the chi2 will be computed\n",
    "    rolling = 10  # 50 is approx. 1 s\n",
    "    # chi2 right tail probability for N=rolling dof at chi2prob CL\n",
    "    crit = stats.chi2.ppf(chi2prob, rolling)\n",
    "\n",
    "    rms = correctedVariableCheck.rolling(rolling).std()\n",
    "    var = correctedVariableCheck.rolling(rolling).var()\n",
    "    mean = abs(correctedVariableCheck.rolling(rolling).mean())\n",
    "\n",
    "    # compute the chi2 against the null hypothesis\n",
    "    # the x_i are the measurements in a window (wrt to reference at end of plot)\n",
    "    # the variance is for the same values\n",
    "    # so chi2 = sum_N[(x_i - 0)**2/variance] where N = rolling\n",
    "    sum2 = correctedVariableCheck2.rolling(rolling).sum()\n",
    "    chi2 = sum2 / var\n",
    "    # check the chi2 at each step using rollingCheck as the number of consecutive instances in which\n",
    "    # chi2 has to be under the critical value\n",
    "    # or rms and bias be both already 10% of requirement\n",
    "    PFCheck = (chi2 < crit) | ((rms < 0.1 * rmsReq) & (mean < 0.1 * rmsReq))\n",
    "    # PFCheck = (rms < 0.2 * rmsReq) & (mean < 0.5 * rmsReq)\n",
    "    rollingCheck = 10\n",
    "    stabilityCheck = (\n",
    "        PFCheck.rolling(rollingCheck).apply(lambda s: s.all()) > 0\n",
    "    )  # true if rollingCheck consecutive true values of PFcheck\n",
    "    if len(stabilityCheck[stabilityCheck == True]) < rollingCheck:  ## == 0:\n",
    "        # print(f\"Not settled within {postPadding} s window\")\n",
    "        settleTime = False\n",
    "    elif rms[stabilityCheck[stabilityCheck == True].index[0]] <= rmsReq:\n",
    "        settleTime = stabilityCheck[stabilityCheck == True].index[rollingCheck]\n",
    "    else:\n",
    "        n = 1\n",
    "        while (\n",
    "            rms[stabilityCheck[stabilityCheck == True].index[n + rollingCheck]] > rmsReq\n",
    "        ):\n",
    "            settleTime = stabilityCheck[stabilityCheck == True].index[n + rollingCheck]\n",
    "            n = n + 1\n",
    "        # if settleTime < referenceTime:\n",
    "        #    settleTime = referenceTime\n",
    "    settleInterval = -1\n",
    "    if settleTime:\n",
    "        settleInterval = settleTime - referenceTime\n",
    "        if settleInterval.total_seconds() < 0:\n",
    "            print(f\"Already settled at slew stop\")\n",
    "            settleInterval = 0\n",
    "        else:\n",
    "            settleInterval = settleInterval.total_seconds()\n",
    "\n",
    "    title = imsColumn\n",
    "    fig = plt.figure()\n",
    "    label = \"Corrected \" + imsColumn + \"(\" + units + \") difference wrt end of plot\"\n",
    "    plt.plot(\n",
    "        correctedVariablePlot,\n",
    "        color=\"red\",\n",
    "        ls=\"dashed\",\n",
    "        lw=\"0.5\",\n",
    "        label=label,\n",
    "    )\n",
    "    plt.plot(rms, label=f\"RMS of corrected value, using {rolling} rolling values\")\n",
    "    plt.plot(\n",
    "        mean,\n",
    "        ls=\"dashed\",\n",
    "        label=f\"Bias of corrected value, using {rolling} rolling values\",\n",
    "    )\n",
    "    if settleTime:\n",
    "        plt.arrow(\n",
    "            settleTime,\n",
    "            1.1 * rmsReq,\n",
    "            0.0,\n",
    "            -0.5 * rmsReq,\n",
    "            width=2e-6,\n",
    "            head_length=0.5 * rmsReq,\n",
    "        )\n",
    "        plt.text(\n",
    "            0.5,\n",
    "            0.92,\n",
    "            \"Settle time =\" + \" {:.2f} \".format(settleInterval) + \" s\",\n",
    "            transform=fig.transFigure,\n",
    "        )\n",
    "    plt.axvline(T0, lw=\"1.25\", c=\"k\", ls=\"dashed\", label=\"Slew stop\")\n",
    "    plt.axhline(-rmsReq, lw=\"0.75\", c=\"k\", ls=\"dashed\", label=\"IMS repeatability req.\")\n",
    "    plt.axhline(rmsReq, lw=\"0.75\", c=\"k\", ls=\"dashed\")\n",
    "    plt.xlabel(\"Time [UTC]\")\n",
    "    plt.ylabel(f\"{imsColumn} {units}\")\n",
    "    plt.ylim(-ylimMax, ylimMax)\n",
    "    fig.autofmt_xdate()\n",
    "    plt.legend(loc=\"upper right\", fontsize=\"8\")\n",
    "    fig.tight_layout()\n",
    "\n",
    "    if not settleTime:\n",
    "        return -1\n",
    "\n",
    "    return settleInterval\n"
   ]
  },
  {
   "cell_type": "markdown",
   "id": "4fff67a7-99b9-4964-8823-77a01672052d",
   "metadata": {},
   "source": [
    "### Definition of case"
   ]
  },
  {
   "cell_type": "markdown",
   "id": "39adbb67-5753-4e64-8a03-2f612d683d13",
   "metadata": {},
   "source": [
    "#### Observation day"
   ]
  },
  {
   "cell_type": "code",
   "execution_count": 32,
   "id": "bea3e21b-b27c-4eb2-814e-726c80b6a0d2",
   "metadata": {
    "execution": {
     "iopub.execute_input": "2023-12-20T10:45:56.964047Z",
     "iopub.status.busy": "2023-12-20T10:45:56.963854Z",
     "iopub.status.idle": "2023-12-20T10:45:57.008860Z",
     "shell.execute_reply": "2023-12-20T10:45:57.008419Z",
     "shell.execute_reply.started": "2023-12-20T10:45:56.964026Z"
    }
   },
   "outputs": [],
   "source": [
    "dayObs = 20231129  #20231128 "
   ]
  },
  {
   "cell_type": "code",
   "execution_count": 56,
   "id": "c2abeac4-89b9-4499-a532-5d8d3bc79e43",
   "metadata": {
    "execution": {
     "iopub.execute_input": "2023-12-20T11:22:29.887762Z",
     "iopub.status.busy": "2023-12-20T11:22:29.887550Z",
     "iopub.status.idle": "2023-12-20T11:22:29.936843Z",
     "shell.execute_reply": "2023-12-20T11:22:29.936404Z",
     "shell.execute_reply.started": "2023-12-20T11:22:29.887746Z"
    }
   },
   "outputs": [],
   "source": [
    "## Define column names\n",
    "all_columns = [\n",
    "    \"xPosition\",\n",
    "    \"yPosition\",\n",
    "    \"zPosition\",\n",
    "    \"xRotation\",\n",
    "    \"yRotation\",\n",
    "    \"zRotation\",\n",
    "]\n",
    "pos_columns = [c for c in all_columns if \"Position\" in c]\n",
    "rot_columns = [c for c in all_columns if \"Rotation\" in c]"
   ]
  },
  {
   "cell_type": "markdown",
   "id": "59f07df4-ae52-43f9-9e21-d9cac7a6cf83",
   "metadata": {},
   "source": [
    "#### Get slew stops"
   ]
  },
  {
   "cell_type": "code",
   "execution_count": 33,
   "id": "035d7b4f-4b32-4e5e-a927-755dde632735",
   "metadata": {
    "execution": {
     "iopub.execute_input": "2023-12-20T10:45:58.739858Z",
     "iopub.status.busy": "2023-12-20T10:45:58.739716Z",
     "iopub.status.idle": "2023-12-20T10:46:06.653564Z",
     "shell.execute_reply": "2023-12-20T10:46:06.653057Z",
     "shell.execute_reply.started": "2023-12-20T10:45:58.739845Z"
    }
   },
   "outputs": [
    {
     "data": {
      "text/html": [
       "<pre style=\"margin: 0.1em;\n",
       "padding-left: 0.25em;\n",
       "border-left-style: solid;\n",
       "font-family: var(--jp-code-font-family);\n",
       "font-size: var(--jp-code-font-size);\n",
       "line-height: var(--jp-code-line-height);\n",
       "\"><span style=\"color: var(--jp-warn-color2)\">lsst.summit.utils.tmaUtils</span> <span style=\"color: var(--jp-info-color0)\">INFO</span>: Retrieving mount data for 20231129 from the EFD</pre>"
      ],
      "text/plain": [
       "<IPython.core.display.HTML object>"
      ]
     },
     "metadata": {},
     "output_type": "display_data"
    },
    {
     "name": "stdout",
     "output_type": "stream",
     "text": [
      "Found 492 slews and 378 tracks\n"
     ]
    }
   ],
   "source": [
    "# Select data from a given date\n",
    "eventMaker = TMAEventMaker()\n",
    "events = eventMaker.getEvents(dayObs)\n",
    "\n",
    "# Get lists of slew and track events\n",
    "slews = [e for e in events if e.type==TMAState.SLEWING]\n",
    "tracks = [e for e in events if e.type==TMAState.TRACKING]\n",
    "print(f'Found {len(slews)} slews and {len(tracks)} tracks')"
   ]
  },
  {
   "cell_type": "code",
   "execution_count": 34,
   "id": "862dc15a-8d4b-4f66-afff-5dc16e3e046b",
   "metadata": {
    "execution": {
     "iopub.execute_input": "2023-12-20T10:46:09.315582Z",
     "iopub.status.busy": "2023-12-20T10:46:09.315427Z",
     "iopub.status.idle": "2023-12-20T10:46:09.361256Z",
     "shell.execute_reply": "2023-12-20T10:46:09.360795Z",
     "shell.execute_reply.started": "2023-12-20T10:46:09.315569Z"
    }
   },
   "outputs": [
    {
     "name": "stdout",
     "output_type": "stream",
     "text": [
      "Of the 870 events, 750 relate to block 137.\n"
     ]
    }
   ],
   "source": [
    "# Get events related to soak tests (block 137 currently)\n",
    "block137Events = []\n",
    "for event in events:\n",
    "    blockInfos = event.blockInfos\n",
    "    if blockInfos is None:\n",
    "        continue  # no block info attached to event at all\n",
    "\n",
    "    # check if any of the attached blockInfos are for block 137\n",
    "    blockNums = {b.blockNumber for b in blockInfos}\n",
    "    if 137 in blockNums:\n",
    "        block137Events.append(event)\n",
    "\n",
    "print(f\"Of the {len(events)} events, {len(block137Events)} relate to block 137.\")"
   ]
  },
  {
   "cell_type": "code",
   "execution_count": 39,
   "id": "a65e511d-8fbc-4eca-8d64-6f7bbb5826bc",
   "metadata": {
    "execution": {
     "iopub.execute_input": "2023-12-20T10:54:49.584264Z",
     "iopub.status.busy": "2023-12-20T10:54:49.584050Z",
     "iopub.status.idle": "2023-12-20T10:54:49.635072Z",
     "shell.execute_reply": "2023-12-20T10:54:49.634616Z",
     "shell.execute_reply.started": "2023-12-20T10:54:49.584247Z"
    }
   },
   "outputs": [
    {
     "name": "stdout",
     "output_type": "stream",
     "text": [
      "12, 14, 16, 18, 37, 39, 41, 43, 45, 47, 49, 51, 53, 55, 57, 59, 61, 63, 65, 67, 69, 71, 119, 126, 128, 130, 132, 134, 136, 138, 140, 142, 144, 146, 148, 150, 152, 154, 156, 158, 160, 162, 164, 166, 168, 170, 172, 174, 176, 178, 180, 182, 184, 186, 188, 195, 197, 199, 201, 203, 205, 207, 209, 211, 213, 215, 217, 219, 221, 223, 225, 227, 229, 231, 233, 235, 237, 239, 241, 243, 245, 247, 249, 251, 253, 255, 257, 259, 261, 263, 265, 267, 269, 271, 273, 275, 277, 279, 281, 283, 285, 287, 289, 291, 293, 295, 297, 299, 301, 309, 311, 313, 315, 317, 319, 321, 323, 325, 327, 329, 331, 333, 335, 337, 339, 341, 343, 345, 347, 349, 351, 353, 355, 357, 364, 371, 373, 375, 378, 386, 396, 398, 400, 402, 404, 406, 408, 410, 412, 414, 416, 418, 420, 422, 424, 426, 428, 430, 432, 434, 436, 438, 440, 442, 444, 447, 449, 451, 453, 455, 457, 459, 461, 463, 465, 467, 469, 471, 473, 475, 477, 479, 481, 483, 485, 487, 489, 491, 493, 495, 497, 499, 501, 503, 505, 507, 509, 511, 513, 515, 517, 519, 521, 523, 525, 527, 529, 531, 538, 540, 542, 544, 546, 548, 550, 552, 554, 556, 558, 560, 562, 564, 566, 568, 570, 572, 574, 576, 578, 580, 582, 584, 586, 588, 590, 592, 594, 596, 598, 600, 602, 604, 606, 608, 610, 612, 614, 616, 618, 620, 622, 624, 626, 628, 630, 632, 634, 636, 638, 640, 642, 644, 646, 648, 650, 652, 654, 656, 658, 660, 662, 664, 666, 668, 670, 672, 674, 676, 678, 680, 682, 684, 686, 688, 690, 692, 694, 696, 698, 700, 702, 704, 706, 708, 710, 712, 714, 716, 718, 720, 722, 724, 726, 728, 730, 732, 734, 736, 738, 740, 742, 744, 746, 748, 750, 752, 754, 756, 758, 760, 762, 764, 766, 768, 770, 772, 774, 776, 778, 780, 782, 784, 786, 788, 790, 792, 794, 797, 799, 801, 803, 805, 808, 810, 812, 814, 816, 818, 821, 823, 825, 827, 829, 831, 833, 835, 837, 839, 841, 843, 845, 847, 849, 851, 853, 855, 857, 859, 861, 863, "
     ]
    }
   ],
   "source": [
    "# Print out sequential number of events that have certain characteristics\n",
    "t = 0\n",
    "for i in range(len(block137Events)):\n",
    "    if (\n",
    "        block137Events[i].endReason == TMAState.SLEWING\n",
    "        and block137Events[i].type == TMAState.TRACKING\n",
    "    ):\n",
    "        t = t + 1\n",
    "        print(block137Events[i].seqNum, end=\", \")"
   ]
  },
  {
   "cell_type": "code",
   "execution_count": 40,
   "id": "b13bf84c-dda1-45ff-b52d-f02c3da68e2e",
   "metadata": {
    "execution": {
     "iopub.execute_input": "2023-12-20T10:54:53.143618Z",
     "iopub.status.busy": "2023-12-20T10:54:53.143426Z",
     "iopub.status.idle": "2023-12-20T10:54:53.188713Z",
     "shell.execute_reply": "2023-12-20T10:54:53.188269Z",
     "shell.execute_reply.started": "2023-12-20T10:54:53.143603Z"
    }
   },
   "outputs": [
    {
     "name": "stdout",
     "output_type": "stream",
     "text": [
      "Of the 750 events of block 137, 370 are trackings.\n"
     ]
    }
   ],
   "source": [
    "# Number of TRACKING in block 137\n",
    "print(f\"Of the {len(block137Events)} events of block 137, {t} are trackings.\")"
   ]
  },
  {
   "cell_type": "code",
   "execution_count": 41,
   "id": "49a0d236-0d8d-4a7e-abac-c2012b4e2392",
   "metadata": {
    "execution": {
     "iopub.execute_input": "2023-12-20T10:54:55.433996Z",
     "iopub.status.busy": "2023-12-20T10:54:55.433837Z",
     "iopub.status.idle": "2023-12-20T10:54:55.478231Z",
     "shell.execute_reply": "2023-12-20T10:54:55.477824Z",
     "shell.execute_reply.started": "2023-12-20T10:54:55.433984Z"
    }
   },
   "outputs": [],
   "source": [
    "# Select a event of trancking in block 137\n",
    "targetSeqNum = 209"
   ]
  },
  {
   "cell_type": "code",
   "execution_count": 48,
   "id": "872880d4-46d7-4a1f-9c18-82f4ebe0c430",
   "metadata": {
    "execution": {
     "iopub.execute_input": "2023-12-20T11:16:09.536870Z",
     "iopub.status.busy": "2023-12-20T11:16:09.536579Z",
     "iopub.status.idle": "2023-12-20T11:16:09.586169Z",
     "shell.execute_reply": "2023-12-20T11:16:09.585705Z",
     "shell.execute_reply.started": "2023-12-20T11:16:09.536856Z"
    }
   },
   "outputs": [
    {
     "name": "stdout",
     "output_type": "stream",
     "text": [
      "Event with seqNum 209 corresponds to track number 64\n"
     ]
    }
   ],
   "source": [
    "# find the appropriate tracking index that has the sequential number selected above\n",
    "for t, tl in enumerate(tracks):\n",
    "    if tl.seqNum == targetSeqNum:\n",
    "        i_track = t\n",
    "        break\n",
    "print(f\"Event with seqNum {targetSeqNum} corresponds to track number {i_track}\")"
   ]
  },
  {
   "cell_type": "code",
   "execution_count": 52,
   "id": "fce06b1e-2473-4e96-b355-67813e40960e",
   "metadata": {
    "execution": {
     "iopub.execute_input": "2023-12-20T11:16:47.450626Z",
     "iopub.status.busy": "2023-12-20T11:16:47.450412Z",
     "iopub.status.idle": "2023-12-20T11:16:47.495644Z",
     "shell.execute_reply": "2023-12-20T11:16:47.495243Z",
     "shell.execute_reply.started": "2023-12-20T11:16:47.450611Z"
    }
   },
   "outputs": [
    {
     "name": "stdout",
     "output_type": "stream",
     "text": [
      "dayObs: 20231129\n",
      "seqNum: 209\n",
      "type: TRACKING\n",
      "endReason: SLEWING\n",
      "duration: 47.95356202125549\n",
      "begin: <Time object: scale='utc' format='unix' value=1701308881.1355748>\n",
      "end: <Time object: scale='utc' format='unix' value=1701308929.0891368>\n",
      "blockInfos: \n",
      "    dayObs: 20231129\n",
      "    seqNum: 61\n",
      "    blockNumber: 137\n",
      "    blockId: BL137_O_20231129_000061\n",
      "    begin: 2023-11-30T01:47:57.231\n",
      "    end: 2023-11-30T01:48:46.170\n",
      "    salIndices: [102653]\n",
      "    tickets: ['SITCOM-885']\n",
      "    states: \n",
      "       RUNNING @ 2023-11-30T01:47:57.231  \n",
      "       RUNNING @ 2023-11-30T01:48:46.167  \n",
      "        ENDING @ 2023-11-30T01:48:46.169  \n",
      "          DONE @ 2023-11-30T01:48:46.170\n",
      "    dayObs: 20231129\n",
      "    seqNum: 62\n",
      "    blockNumber: 137\n",
      "    blockId: BL137_O_20231129_000062\n",
      "    begin: 2023-11-30T01:48:48.095\n",
      "    end: 2023-11-30T01:49:36.961\n",
      "    salIndices: [102654]\n",
      "    tickets: ['SITCOM-885']\n",
      "    states: \n",
      "       RUNNING @ 2023-11-30T01:48:48.095  \n",
      "       RUNNING @ 2023-11-30T01:49:36.958  \n",
      "        ENDING @ 2023-11-30T01:49:36.959  \n",
      "          DONE @ 2023-11-30T01:49:36.961\n"
     ]
    }
   ],
   "source": [
    "tracks[i_track]"
   ]
  },
  {
   "cell_type": "code",
   "execution_count": 58,
   "id": "bfa46802-991d-42e3-8f15-936e85a4a292",
   "metadata": {
    "execution": {
     "iopub.execute_input": "2023-12-20T11:23:57.516479Z",
     "iopub.status.busy": "2023-12-20T11:23:57.516197Z",
     "iopub.status.idle": "2023-12-20T11:23:57.691164Z",
     "shell.execute_reply": "2023-12-20T11:23:57.690684Z",
     "shell.execute_reply.started": "2023-12-20T11:23:57.516464Z"
    }
   },
   "outputs": [
    {
     "name": "stdout",
     "output_type": "stream",
     "text": [
      "Tracking stop at: 2023-11-30 01:48:49.089000+00:00\n"
     ]
    }
   ],
   "source": [
    "# Select the information during the tracking\n",
    "t0 = Time(tracks[i_track].begin, format=\"isot\", scale=\"utc\")\n",
    "t0 = pd.to_datetime(t0.value, utc=True)  # astropy Time to Timestamp conversion\n",
    "t1 = Time(tracks[i_track].end, format=\"isot\", scale=\"utc\")\n",
    "t1 = pd.to_datetime(t1.value, utc=True)  # astropy Time to Timestamp conversion\n",
    "print(\"Tracking stop at:\", t1)\n",
    "\n",
    "# Get IMS data\n",
    "df_ims = getEfdData(\n",
    "    client, \"lsst.sal.MTM1M3.imsData\", event=tracks[i_track])\n",
    "df_ims = df_ims[all_columns]\n",
    "# Convert meter to milimeter\n",
    "df_ims[pos_columns] = df_ims[pos_columns] * 1e3"
   ]
  },
  {
   "cell_type": "code",
   "execution_count": null,
   "id": "7dd50a16-e560-44f0-bd0c-3f8095788b12",
   "metadata": {},
   "outputs": [],
   "source": []
  }
 ],
 "metadata": {
  "kernelspec": {
   "display_name": "LSST",
   "language": "python",
   "name": "lsst"
  },
  "language_info": {
   "codemirror_mode": {
    "name": "ipython",
    "version": 3
   },
   "file_extension": ".py",
   "mimetype": "text/x-python",
   "name": "python",
   "nbconvert_exporter": "python",
   "pygments_lexer": "ipython3",
   "version": "3.11.4"
  }
 },
 "nbformat": 4,
 "nbformat_minor": 5
}
