{
 "cells": [
  {
   "cell_type": "markdown",
   "id": "4f9debea-aa94-4f87-8d9b-0c74c3d648dd",
   "metadata": {},
   "source": [
    "# [SITCOMTN-XXX] - M1M3 - analyze position and rotation stability throughout a tracking period\n",
    "\n",
    "2023-12-14 Laura\n",
    "\n",
    "This notebook evaluates displacements of M1M3 for X, Y, Z, RX, RY, and RZ during the period beteween slews while tracking (approximately 30 s) and check if they comply with the 2 micron and 2e-5 degree requirement.\n"
   ]
  },
  {
   "cell_type": "code",
   "execution_count": 1,
   "id": "2dbd7a63-897f-4093-b397-3e1c6b145e56",
   "metadata": {
    "execution": {
     "iopub.execute_input": "2023-12-14T17:12:28.477608Z",
     "iopub.status.busy": "2023-12-14T17:12:28.477405Z",
     "iopub.status.idle": "2023-12-14T17:12:28.820038Z",
     "shell.execute_reply": "2023-12-14T17:12:28.819675Z",
     "shell.execute_reply.started": "2023-12-14T17:12:28.477593Z"
    }
   },
   "outputs": [],
   "source": [
    "%matplotlib inline\n",
    "%load_ext autoreload\n",
    "%autoreload 2"
   ]
  },
  {
   "cell_type": "code",
   "execution_count": 2,
   "id": "8c1640f9-f391-495f-8267-788011435bc5",
   "metadata": {
    "execution": {
     "iopub.execute_input": "2023-12-14T17:20:26.501477Z",
     "iopub.status.busy": "2023-12-14T17:20:26.501263Z",
     "iopub.status.idle": "2023-12-14T17:20:33.489553Z",
     "shell.execute_reply": "2023-12-14T17:20:33.489023Z",
     "shell.execute_reply.started": "2023-12-14T17:20:26.501461Z"
    }
   },
   "outputs": [],
   "source": [
    "import pandas as pd\n",
    "import matplotlib.pyplot as plt\n",
    "import numpy as np\n",
    "\n",
    "from astropy.time import Time, TimezoneInfo\n",
    "from statsmodels.tsa.stattools import adfuller\n",
    "\n",
    "from lsst.summit.utils.tmaUtils import TMAEventMaker, TMAState\n",
    "from lsst.summit.utils.efdUtils import getEfdData, makeEfdClient\n",
    "\n",
    "from datetime import timedelta, datetime\n",
    "import warnings\n",
    "warnings.filterwarnings('ignore')"
   ]
  },
  {
   "cell_type": "code",
   "execution_count": 3,
   "id": "8e5f2a7a-0924-41ce-863e-1ae9885144f8",
   "metadata": {
    "execution": {
     "iopub.execute_input": "2023-12-14T17:20:38.143956Z",
     "iopub.status.busy": "2023-12-14T17:20:38.143746Z",
     "iopub.status.idle": "2023-12-14T17:20:38.685169Z",
     "shell.execute_reply": "2023-12-14T17:20:38.684665Z",
     "shell.execute_reply.started": "2023-12-14T17:20:38.143942Z"
    }
   },
   "outputs": [],
   "source": [
    "# create a client to retrieve datasets in the EFD database\n",
    "client = makeEfdClient()"
   ]
  },
  {
   "cell_type": "markdown",
   "id": "3a36e392-2395-4980-9018-029f08a4b83f",
   "metadata": {
    "execution": {
     "iopub.execute_input": "2023-12-14T17:20:47.856706Z",
     "iopub.status.busy": "2023-12-14T17:20:47.856507Z",
     "iopub.status.idle": "2023-12-14T17:20:47.902144Z",
     "shell.execute_reply": "2023-12-14T17:20:47.901630Z",
     "shell.execute_reply.started": "2023-12-14T17:20:47.856691Z"
    }
   },
   "source": [
    "### Define relevant settings"
   ]
  },
  {
   "cell_type": "markdown",
   "id": "1c266157-70b8-4a8e-921c-9ca92c88520a",
   "metadata": {},
   "source": [
    "#### Requirements"
   ]
  },
  {
   "cell_type": "code",
   "execution_count": 5,
   "id": "b37c795f-8705-4dd1-9b5a-06084872d61a",
   "metadata": {
    "execution": {
     "iopub.execute_input": "2023-12-14T17:35:50.449963Z",
     "iopub.status.busy": "2023-12-14T17:35:50.449772Z",
     "iopub.status.idle": "2023-12-14T17:35:50.499607Z",
     "shell.execute_reply": "2023-12-14T17:35:50.499196Z",
     "shell.execute_reply.started": "2023-12-14T17:35:50.449949Z"
    }
   },
   "outputs": [],
   "source": [
    "req_rms_position = 2e-3 ## mm, tolerance from repeatability requirement for IMS positional\n",
    "req_rms_rotation = 2e-5 ## degrees, tolerance from repeatability requirement for IMS rotational"
   ]
  },
  {
   "cell_type": "markdown",
   "id": "14c09626-6275-45f7-9c7b-eb5a8ba5faaf",
   "metadata": {},
   "source": [
    "### Define functions"
   ]
  },
  {
   "cell_type": "code",
   "execution_count": null,
   "id": "3551e4fe-126b-4976-99ac-e3a56cd39780",
   "metadata": {},
   "outputs": [],
   "source": [
    "def computeStability(\n",
    "    df_ims,  # input data frame\n",
    "    referenceTime = \"2023-06-01T06:00:0Z\",  # time for slew stop (T0)\n",
    "    imsColumn=\"xPosition\",  # IMS column\n",
    "    rmsReq=2e-3,  # requirement in appropriate units\n",
    "    chi2prob=0.999,  # confidence level for IMS variable wrt to long term value and variance to agree   \n",
    "):\n",
    "    if \"Position\" in imsColumn:\n",
    "        units = \"mm\"\n",
    "        ylimMax = rmsReq #+ 0.005\n",
    "    elif \"Rotation\" in imsColumn:\n",
    "        units = \"deg\"\n",
    "        ylimMax = rmsReq #+ 0.0001\n",
    "    else:\n",
    "        print(\"Unidentified column\")\n",
    "        return -1\n",
    "    "
   ]
  },
  {
   "cell_type": "markdown",
   "id": "39adbb67-5753-4e64-8a03-2f612d683d13",
   "metadata": {},
   "source": [
    "#### Observation day"
   ]
  },
  {
   "cell_type": "code",
   "execution_count": 8,
   "id": "bea3e21b-b27c-4eb2-814e-726c80b6a0d2",
   "metadata": {
    "execution": {
     "iopub.execute_input": "2023-12-14T17:52:00.059554Z",
     "iopub.status.busy": "2023-12-14T17:52:00.059275Z",
     "iopub.status.idle": "2023-12-14T17:52:00.103614Z",
     "shell.execute_reply": "2023-12-14T17:52:00.103114Z",
     "shell.execute_reply.started": "2023-12-14T17:52:00.059540Z"
    }
   },
   "outputs": [],
   "source": [
    "dayObs = 20231212  #20231128 "
   ]
  },
  {
   "cell_type": "markdown",
   "id": "59f07df4-ae52-43f9-9e21-d9cac7a6cf83",
   "metadata": {},
   "source": [
    "#### Get slew stops"
   ]
  },
  {
   "cell_type": "code",
   "execution_count": 9,
   "id": "035d7b4f-4b32-4e5e-a927-755dde632735",
   "metadata": {
    "execution": {
     "iopub.execute_input": "2023-12-14T17:52:02.543487Z",
     "iopub.status.busy": "2023-12-14T17:52:02.543284Z",
     "iopub.status.idle": "2023-12-14T17:52:09.209512Z",
     "shell.execute_reply": "2023-12-14T17:52:09.209006Z",
     "shell.execute_reply.started": "2023-12-14T17:52:02.543470Z"
    }
   },
   "outputs": [
    {
     "data": {
      "text/html": [
       "<pre style=\"margin: 0.1em;\n",
       "padding-left: 0.25em;\n",
       "border-left-style: solid;\n",
       "font-family: var(--jp-code-font-family);\n",
       "font-size: var(--jp-code-font-size);\n",
       "line-height: var(--jp-code-line-height);\n",
       "\"><span style=\"color: var(--jp-warn-color2)\">lsst.summit.utils.tmaUtils</span> <span style=\"color: var(--jp-info-color0)\">INFO</span>: Retrieving mount data for 20231212 from the EFD</pre>"
      ],
      "text/plain": [
       "<IPython.core.display.HTML object>"
      ]
     },
     "metadata": {},
     "output_type": "display_data"
    },
    {
     "name": "stdout",
     "output_type": "stream",
     "text": [
      "Found 460 slews and 367 tracks\n"
     ]
    }
   ],
   "source": [
    "# Select data from a given date\n",
    "eventMaker = TMAEventMaker()\n",
    "events = eventMaker.getEvents(dayObs)\n",
    "\n",
    "# Get lists of slew and track events\n",
    "slews = [e for e in events if e.type==TMAState.SLEWING]\n",
    "tracks = [e for e in events if e.type==TMAState.TRACKING]\n",
    "print(f'Found {len(slews)} slews and {len(tracks)} tracks')"
   ]
  },
  {
   "cell_type": "code",
   "execution_count": null,
   "id": "862dc15a-8d4b-4f66-afff-5dc16e3e046b",
   "metadata": {},
   "outputs": [],
   "source": []
  }
 ],
 "metadata": {
  "kernelspec": {
   "display_name": "LSST",
   "language": "python",
   "name": "lsst"
  },
  "language_info": {
   "codemirror_mode": {
    "name": "ipython",
    "version": 3
   },
   "file_extension": ".py",
   "mimetype": "text/x-python",
   "name": "python",
   "nbconvert_exporter": "python",
   "pygments_lexer": "ipython3",
   "version": "3.11.4"
  }
 },
 "nbformat": 4,
 "nbformat_minor": 5
}
