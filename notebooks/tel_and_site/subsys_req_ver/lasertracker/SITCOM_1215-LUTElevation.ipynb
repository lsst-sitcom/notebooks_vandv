{
 "cells": [
  {
   "cell_type": "markdown",
   "id": "7654f8dc-f03c-4901-99cf-ba969471e88d",
   "metadata": {},
   "source": [
    "## SITCOM Laser Tracker Analysis: Elevation LUT\n",
    "\n",
    "In this notebook we look at the measured laser tracker offsets against elevation, and the change in LUTs for different iterations.\n",
    "\n",
    "Relevant imports"
   ]
  },
  {
   "cell_type": "code",
   "execution_count": null,
   "id": "7fb4b770-6041-455d-ab47-f746576218df",
   "metadata": {
    "tags": []
   },
   "outputs": [],
   "source": [
    "import matplotlib.pyplot as plt\n",
    "import numpy as np\n",
    "from astropy.time import Time\n",
    "import yaml\n",
    "from numpy.polynomial import Polynomial\n",
    "\n",
    "from lsst_efd_client import EfdClient\n",
    "from lsst.sitcom.vandv.lasertracker import utils\n",
    "\n",
    "%matplotlib inline\n",
    "%reload_ext lab_black\n",
    "%reload_ext autoreload\n",
    "%autoreload 2"
   ]
  },
  {
   "cell_type": "markdown",
   "id": "f96f5284-d857-498b-9244-1119238f1dd3",
   "metadata": {
    "execution": {
     "iopub.execute_input": "2024-03-26T07:45:54.238823Z",
     "iopub.status.busy": "2024-03-26T07:45:54.238029Z",
     "iopub.status.idle": "2024-03-26T07:45:54.410629Z",
     "shell.execute_reply": "2024-03-26T07:45:54.409989Z",
     "shell.execute_reply.started": "2024-03-26T07:45:54.238794Z"
    }
   },
   "source": [
    "## Retrieve relevant data"
   ]
  },
  {
   "cell_type": "code",
   "execution_count": null,
   "id": "bd7d6406-fdcb-4ee9-9d3a-84ec692229a8",
   "metadata": {},
   "outputs": [],
   "source": [
    "client = EfdClient(\"usdf_efd\")\n",
    "fields = [\"dX\", \"dY\", \"dZ\", \"dRX\", \"dRY\", \"target\"]\n",
    "\n",
    "start = Time(\"2024-03-10 19:48:00Z\", scale=\"utc\")\n",
    "end = Time(\"2024-03-10 22:20:00Z\", scale=\"utc\")\n",
    "\n",
    "offsets_mar09 = await client.select_time_series(\n",
    "    \"lsst.sal.LaserTracker.logevent_offsetsPublish\",\n",
    "    fields,\n",
    "    start,\n",
    "    end,\n",
    ")\n",
    "\n",
    "\n",
    "start = Time(\"2024-03-28 04:49:44Z\", scale=\"utc\")\n",
    "end = Time(\"2024-03-28 06:50:00Z\", scale=\"utc\")\n",
    "\n",
    "offsets_mar28 = await client.select_time_series(\n",
    "    \"lsst.sal.LaserTracker.logevent_offsetsPublish\",\n",
    "    fields,\n",
    "    start,\n",
    "    end,\n",
    ")\n",
    "\n",
    "# Extract offsets, target elevation, azimuth and rotator angle by component\n",
    "data_cam_mar28 = utils.extract_component_data(offsets_mar28, \"Camera\")\n",
    "data_m2_mar28 = utils.extract_component_data(offsets_mar28, \"M2\")\n",
    "\n",
    "# Extract offsets, target elevation, azimuth and rotator angle by component\n",
    "data_cam_mar09 = utils.extract_component_data(offsets_mar09, \"Camera\")\n",
    "data_m2_mar09 = utils.extract_component_data(offsets_mar09, \"M2\")"
   ]
  },
  {
   "cell_type": "markdown",
   "id": "58548bb3-d577-4d25-a0b7-e0882279b5f6",
   "metadata": {},
   "source": [
    "## Get current LUT data\n",
    "\n",
    "This notebook requires that you have the current ts_aos_utils installed in your notebooks folder.\n",
    "Make sure to git clone it if you don't have it. "
   ]
  },
  {
   "cell_type": "code",
   "execution_count": null,
   "id": "72b31136-4c37-47b4-a5e2-7f94d91a529f",
   "metadata": {},
   "outputs": [],
   "source": [
    "home_path = os.getenv(\"HOME\")\n",
    "lut_path = os.path.join(\n",
    "    home_path,\n",
    "    \"notebooks/ts_aos_utils/python/lsst/ts/aos/utils/data/hexapod/hexapod_lookuptables.yaml\",\n",
    ")\n",
    "\n",
    "with open(lut_path, \"r\") as yaml_file:\n",
    "    lut_data = yaml.safe_load(yaml_file)\n",
    "\n",
    "\n",
    "lut_path_update = os.path.join(\n",
    "    home_path,\n",
    "    \"notebooks/ts_config_mttcs/MTHexapod/v3/laser_tracker_m1m3_mass_sim_lut.yaml\",\n",
    ")\n",
    "\n",
    "with open(lut_path_update, \"r\") as yaml_file:\n",
    "    lut_data_update = yaml.safe_load(yaml_file)"
   ]
  },
  {
   "cell_type": "markdown",
   "id": "5f829c2b-dfac-4581-ade1-0a3b87162708",
   "metadata": {},
   "source": [
    "## Plot offsets and fitted LUT\n",
    "\n",
    "### Camera offsets"
   ]
  },
  {
   "cell_type": "code",
   "execution_count": null,
   "id": "c1d42adf-d506-4810-ace5-2ac9b9418e81",
   "metadata": {},
   "outputs": [],
   "source": [
    "plt.figure(figsize=(15, 8))\n",
    "for idx, field in enumerate(fields[:-1]):\n",
    "    plt.subplot(2, 3, idx + 1)\n",
    "    plt.plot(\n",
    "        data_cam_mar09[\"target_elevation\"],\n",
    "        data_cam_mar09[field] - np.mean(data_cam_mar09[field]),\n",
    "        \".-\",\n",
    "        label=\"Measured - No LUT\",\n",
    "    )\n",
    "    plt.plot(\n",
    "        data_cam_mar28[\"target_elevation\"],\n",
    "        data_cam_mar28[field] - np.mean(data_cam_mar28[field]),\n",
    "        \".-\",\n",
    "        label=\"Measured - Updated LUT\",\n",
    "    )\n",
    "\n",
    "    # Fit values\n",
    "    new_poly, [residual, _, _, _] = Polynomial.fit(\n",
    "        90 - data_cam_mar28[\"target_elevation\"],\n",
    "        data_cam_mar28[field] - np.mean(data_cam_mar28[field]),\n",
    "        5,\n",
    "        full=True,\n",
    "    )\n",
    "    coefs_fit = np.flip(new_poly.convert().coef)\n",
    "    plt.plot(\n",
    "        data_cam_mar28[\"target_elevation\"],\n",
    "        new_poly(90 - data_cam_mar28[\"target_elevation\"]),\n",
    "        \"--.k\",\n",
    "        label=\"Update LUT Fit\",\n",
    "    )\n",
    "\n",
    "    # Format plot\n",
    "    plt.xlabel(\"Elevation (deg)\")\n",
    "    if idx >= 3:\n",
    "        plt.ylabel(\"deg\")\n",
    "    else:\n",
    "        plt.ylabel(\"um\")\n",
    "    plt.title(f\"Camera {field} Offsets\")\n",
    "    plt.legend()\n",
    "\n",
    "plt.tight_layout()"
   ]
  },
  {
   "cell_type": "markdown",
   "id": "48e1afc2-6624-4a61-8481-fdd9fc7e3990",
   "metadata": {},
   "source": [
    "### M2"
   ]
  },
  {
   "cell_type": "code",
   "execution_count": null,
   "id": "b518f691-cf1c-4a13-ba67-6d3e1f3ad5ab",
   "metadata": {},
   "outputs": [],
   "source": [
    "plt.figure(figsize=(15, 8))\n",
    "for idx, field in enumerate(fields[:-1]):\n",
    "    plt.subplot(2, 3, idx + 1)\n",
    "    plt.plot(\n",
    "        data_m2_mar09[\"target_elevation\"],\n",
    "        data_m2_mar09[field] - np.mean(data_m2_mar09[field]),\n",
    "        \".-\",\n",
    "        label=\"Measured - No LUT\",\n",
    "    )\n",
    "    plt.plot(\n",
    "        data_m2_mar28[\"target_elevation\"],\n",
    "        data_m2_mar28[field] - np.mean(data_m2_mar28[field]),\n",
    "        \".-\",\n",
    "        label=\"Measured - Updated LUT\",\n",
    "    )\n",
    "\n",
    "    # Fit values\n",
    "    new_poly, [residual, _, _, _] = Polynomial.fit(\n",
    "        90 - data_m2_mar28[\"target_elevation\"],\n",
    "        data_m2_mar28[field] - np.mean(data_m2_mar28[field]),\n",
    "        5,\n",
    "        full=True,\n",
    "    )\n",
    "    coefs_fit = np.flip(new_poly.convert().coef)\n",
    "    plt.plot(\n",
    "        data_m2_mar28[\"target_elevation\"],\n",
    "        new_poly(90 - data_m2_mar28[\"target_elevation\"]),\n",
    "        \"--.k\",\n",
    "        label=\"Update LUT Fit\",\n",
    "    )\n",
    "\n",
    "    # Format plot\n",
    "    plt.xlabel(\"Elevation (deg)\")\n",
    "    if idx >= 3:\n",
    "        plt.ylabel(\"deg\")\n",
    "    else:\n",
    "        plt.ylabel(\"um\")\n",
    "    plt.title(f\"M2 {field} Offsets\")\n",
    "    plt.legend()\n",
    "\n",
    "plt.tight_layout()"
   ]
  },
  {
   "cell_type": "markdown",
   "id": "422d394f-20d1-4ee0-a04c-2d9905e9b2ba",
   "metadata": {},
   "source": [
    "## LUT Comparison"
   ]
  },
  {
   "cell_type": "markdown",
   "id": "1b839419-eb19-44c7-a3dc-2f80606aafa1",
   "metadata": {},
   "source": [
    "### Camera"
   ]
  },
  {
   "cell_type": "code",
   "execution_count": null,
   "id": "3de88e1c-59b8-4e7e-a40f-8f21b812a409",
   "metadata": {},
   "outputs": [],
   "source": [
    "plt.figure(figsize=(15, 8))\n",
    "for idx, field in enumerate(fields[:-1]):\n",
    "    plt.subplot(2, 3, idx + 1)\n",
    "\n",
    "    # Plot current LUT curve\n",
    "    coefs_current_lut = lut_data[\"camera_config\"][\"elevation_coeffs\"][idx]\n",
    "    y_current_lut = np.polyval(\n",
    "        coefs_current_lut[::-1], data_cam_mar28[\"target_elevation\"]\n",
    "    )  # Evaluate the polynomial\n",
    "    plt.plot(\n",
    "        data_cam_mar28[\"target_elevation\"], -y_current_lut, label=f\"-1* Original LUT\"\n",
    "    )\n",
    "\n",
    "    coefs_current_lut = lut_data_update[\"camera_config\"][\"elevation_coeffs\"][idx]\n",
    "    y_updated_lut = np.polyval(\n",
    "        coefs_current_lut[::-1], data_cam_mar28[\"target_elevation\"]\n",
    "    )  # Evaluate the polynomial\n",
    "    plt.plot(\n",
    "        data_cam_mar28[\"target_elevation\"], -y_updated_lut, label=f\"-1* Updated LUT\"\n",
    "    )\n",
    "\n",
    "    # Format plot\n",
    "    plt.xlabel(\"Elevation (deg)\")\n",
    "    if idx >= 3:\n",
    "        plt.ylabel(\"deg\")\n",
    "    else:\n",
    "        plt.ylabel(\"um\")\n",
    "    plt.title(f\"Camera {field} LUT Correction\")\n",
    "    plt.legend()\n",
    "\n",
    "plt.tight_layout()\n",
    "plt.savefig(\"LUT_corrections_comparison_camera.png\", dpi=300)"
   ]
  },
  {
   "cell_type": "markdown",
   "id": "f4b39314-0c13-492d-a067-8084794e0b39",
   "metadata": {},
   "source": [
    "### M2"
   ]
  },
  {
   "cell_type": "code",
   "execution_count": null,
   "id": "d8d7b982-cf7c-4e4f-a449-fe2de305eb51",
   "metadata": {},
   "outputs": [],
   "source": [
    "plt.figure(figsize=(15, 8))\n",
    "for idx, field in enumerate(fields[:-1]):\n",
    "    plt.subplot(2, 3, idx + 1)\n",
    "\n",
    "    # Plot current LUT curve\n",
    "    coefs_current_lut = lut_data[\"m2_config\"][\"elevation_coeffs\"][idx]\n",
    "    y_current_lut = np.polyval(\n",
    "        coefs_current_lut[::-1], data_m2_mar28[\"target_elevation\"]\n",
    "    )  # Evaluate the polynomial\n",
    "    plt.plot(\n",
    "        data_m2_mar28[\"target_elevation\"], -y_current_lut, label=f\"-1* Original LUT\"\n",
    "    )\n",
    "\n",
    "    coefs_current_lut = lut_data_update[\"m2_config\"][\"elevation_coeffs\"][idx]\n",
    "    y_updated_lut = np.polyval(\n",
    "        coefs_current_lut[::-1], data_m2_mar28[\"target_elevation\"]\n",
    "    )  # Evaluate the polynomial\n",
    "    plt.plot(\n",
    "        data_m2_mar28[\"target_elevation\"], -y_updated_lut, label=f\"-1* Updated LUT\"\n",
    "    )\n",
    "\n",
    "    # Format plot\n",
    "    plt.xlabel(\"Elevation (deg)\")\n",
    "    if idx >= 3:\n",
    "        plt.ylabel(\"deg\")\n",
    "    else:\n",
    "        plt.ylabel(\"um\")\n",
    "    plt.title(f\"M2 {field} LUT corrections\")\n",
    "    plt.legend()\n",
    "\n",
    "plt.tight_layout()\n",
    "plt.savefig(\"LUT_corrections_comparison_M2.png\", dpi=300)"
   ]
  }
 ],
 "metadata": {
  "kernelspec": {
   "display_name": "LSST",
   "language": "python",
   "name": "lsst"
  },
  "language_info": {
   "codemirror_mode": {
    "name": "ipython",
    "version": 3
   },
   "file_extension": ".py",
   "mimetype": "text/x-python",
   "name": "python",
   "nbconvert_exporter": "python",
   "pygments_lexer": "ipython3",
   "version": "3.11.7"
  }
 },
 "nbformat": 4,
 "nbformat_minor": 5
}
