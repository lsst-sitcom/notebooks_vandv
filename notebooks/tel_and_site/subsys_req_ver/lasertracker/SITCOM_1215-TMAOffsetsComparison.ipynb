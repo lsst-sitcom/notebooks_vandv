{
 "cells": [
  {
   "cell_type": "markdown",
   "id": "7654f8dc-f03c-4901-99cf-ba969471e88d",
   "metadata": {},
   "source": [
    "## SITCOM Laser Tracker Analysis: TMA_CENTRAL offsets comparison in elevation\n",
    "\n",
    "In this notebook we look at the TMA_CENTRAL offsets against elevation when measured with respect to the M1M3 surrogate and the M1M3 lower pylons. \n",
    "\n",
    "Relevant imports"
   ]
  },
  {
   "cell_type": "code",
   "execution_count": null,
   "id": "7fb4b770-6041-455d-ab47-f746576218df",
   "metadata": {
    "tags": []
   },
   "outputs": [],
   "source": [
    "import matplotlib.pyplot as plt\n",
    "import numpy as np\n",
    "from astropy.time import Time\n",
    "\n",
    "from lsst_efd_client import EfdClient\n",
    "from lsst.sitcom.vandv.lasertracker import utils\n",
    "\n",
    "%matplotlib inline\n",
    "%reload_ext lab_black\n",
    "%reload_ext autoreload\n",
    "%autoreload 2"
   ]
  },
  {
   "cell_type": "markdown",
   "id": "f8ae75da-1b4b-4f50-a8c9-68bbe7686a93",
   "metadata": {
    "execution": {
     "iopub.execute_input": "2024-03-11T13:08:05.963375Z",
     "iopub.status.busy": "2024-03-11T13:08:05.962543Z",
     "iopub.status.idle": "2024-03-11T13:08:06.486737Z",
     "shell.execute_reply": "2024-03-11T13:08:06.486136Z",
     "shell.execute_reply.started": "2024-03-11T13:08:05.963347Z"
    },
    "tags": []
   },
   "source": [
    "## Retrieve offsets from three different dates"
   ]
  },
  {
   "cell_type": "code",
   "execution_count": null,
   "id": "584dfc33-bcb1-488d-8763-c046bbe3b146",
   "metadata": {
    "tags": []
   },
   "outputs": [],
   "source": [
    "client = EfdClient('usdf_efd')\n",
    "fields = ['dX', 'dY', 'dZ', 'dRX', 'dRY', 'target']\n",
    "\n",
    "# March 10th\n",
    "start = Time(\"2024-03-10 18:28:00Z\", scale='utc')\n",
    "end = Time(\"2024-03-10 19:04:00Z\", scale='utc')\n",
    "\n",
    "offsets_mar09 = await client.select_time_series(\n",
    "    'lsst.sal.LaserTracker.logevent_offsetsPublish',\n",
    "    fields,  \n",
    "    start, \n",
    "    end,\n",
    ")  \n",
    "\n",
    "# January 4th\n",
    "start = Time('2024-01-04 08:35:0Z', scale='utc')\n",
    "end = Time('2024-01-04 09:00:0Z', scale='utc')\n",
    "\n",
    "offsets_jan04 = await client.select_time_series(\n",
    "    'lsst.sal.LaserTracker.logevent_offsetsPublish',\n",
    "    fields,  \n",
    "    start, \n",
    "    end,\n",
    ")  \n",
    "\n",
    "# January 6th\n",
    "start = Time('2024-01-06 09:05:0Z', scale='utc')\n",
    "end = Time('2024-01-06 09:25:0Z', scale='utc')\n",
    "\n",
    "offsets_jan06 = await client.select_time_series(\n",
    "    'lsst.sal.LaserTracker.logevent_offsetsPublish',\n",
    "    fields,  \n",
    "    start, \n",
    "    end,\n",
    ")  "
   ]
  },
  {
   "cell_type": "code",
   "execution_count": null,
   "id": "d3dfd927-b9a0-4114-97a4-ddad606e6606",
   "metadata": {
    "tags": []
   },
   "outputs": [],
   "source": [
    "# Extract offsets, target elevation, azimuth and rotator angle by component\n",
    "data_jan06 = utils.extract_component_data(offsets_jan06, 'TMA_CENTRAL')\n",
    "data_jan04 = utils.extract_component_data(offsets_jan04, 'TMA_CENTRAL')\n",
    "data_mar09 = utils.extract_component_data(offsets_mar09, 'TMA_CENTRAL')"
   ]
  },
  {
   "cell_type": "markdown",
   "id": "9226c3d5-1688-4f61-a2e0-61de87dd2545",
   "metadata": {},
   "source": [
    "## Plot offsets"
   ]
  },
  {
   "cell_type": "code",
   "execution_count": null,
   "id": "3de88e1c-59b8-4e7e-a40f-8f21b812a409",
   "metadata": {},
   "outputs": [],
   "source": [
    "\n",
    "plt.figure(figsize = (12, 6))\n",
    "for idx, field in enumerate(fields[:-1]):\n",
    "    plt.subplot(2,3,idx + 1)\n",
    "    plt.plot(data_jan04['target_elevation'], data_jan04[field]- np.mean(data_jan04[field]), '.-', label = 'M1M3 01-04')\n",
    "    plt.plot(data_jan06['target_elevation'], data_jan06[field]- np.mean(data_jan06[field]), '.-', label = 'M1M3 01-06')\n",
    "    plt.plot(data_mar09['target_elevation'], data_mar09[field]- np.mean(data_mar09[field]), '.-', label = 'Pylons 03-09')\n",
    "\n",
    "    # Format plot\n",
    "    plt.xlabel('Elevation (deg)')\n",
    "    if idx >= 3:\n",
    "        plt.ylabel('deg')\n",
    "    else:\n",
    "        plt.ylabel('um')\n",
    "    plt.title(f'TMA_CENTRAL {field} Offsets')\n",
    "    plt.legend()\n",
    "    \n",
    "plt.tight_layout()\n",
    "plt.savefig('TMACentral_Dependency.png', dpi = 300)"
   ]
  }
 ],
 "metadata": {
  "kernelspec": {
   "display_name": "LSST",
   "language": "python",
   "name": "lsst"
  },
  "language_info": {
   "codemirror_mode": {
    "name": "ipython",
    "version": 3
   },
   "file_extension": ".py",
   "mimetype": "text/x-python",
   "name": "python",
   "nbconvert_exporter": "python",
   "pygments_lexer": "ipython3",
   "version": "3.11.7"
  }
 },
 "nbformat": 4,
 "nbformat_minor": 5
}
