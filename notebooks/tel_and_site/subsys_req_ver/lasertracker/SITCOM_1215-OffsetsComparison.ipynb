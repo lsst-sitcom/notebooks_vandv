{
 "cells": [
  {
   "cell_type": "markdown",
   "id": "7654f8dc-f03c-4901-99cf-ba969471e88d",
   "metadata": {},
   "source": [
    "## SITCOM Laser Tracker Analysis: M2 and Camera Offsets comparison in elevation\n",
    "\n",
    "In this notebook we compare the laser tracker offsets against elevation for different dates."
   ]
  },
  {
   "cell_type": "code",
   "execution_count": null,
   "id": "7fb4b770-6041-455d-ab47-f746576218df",
   "metadata": {
    "tags": []
   },
   "outputs": [],
   "source": [
    "import matplotlib.pyplot as plt\n",
    "import numpy as np\n",
    "from astropy.time import Time, TimeDelta\n",
    "import pandas as pd\n",
    "import warnings\n",
    "warnings.filterwarnings('ignore')\n",
    "\n",
    "from lsst_efd_client import EfdClient\n",
    "from lsst.sitcom.vandv.lasertracker import utils\n",
    "\n",
    "%matplotlib inline\n",
    "%reload_ext lab_black\n",
    "%reload_ext autoreload\n",
    "%autoreload 2"
   ]
  },
  {
   "cell_type": "markdown",
   "id": "bfcfc43c-5da6-4c43-a073-643e536684bd",
   "metadata": {
    "execution": {
     "iopub.execute_input": "2024-03-11T14:28:15.371601Z",
     "iopub.status.busy": "2024-03-11T14:28:15.371165Z",
     "iopub.status.idle": "2024-03-11T14:28:15.819775Z",
     "shell.execute_reply": "2024-03-11T14:28:15.819002Z",
     "shell.execute_reply.started": "2024-03-11T14:28:15.371567Z"
    },
    "tags": []
   },
   "source": [
    "## Retrieve offsets from three different dates"
   ]
  },
  {
   "cell_type": "code",
   "execution_count": null,
   "id": "584dfc33-bcb1-488d-8763-c046bbe3b146",
   "metadata": {
    "tags": []
   },
   "outputs": [],
   "source": [
    "client = EfdClient('usdf_efd')\n",
    "fields = ['dX', 'dY', 'dZ', 'dRX', 'dRY', 'target']\n",
    "\n",
    "# March 10th, 2024\n",
    "start = Time(\"2024-03-10 19:48:00Z\", scale='utc')\n",
    "end = Time(\"2024-03-10 22:20:00Z\", scale='utc')\n",
    "\n",
    "offsets_mar09 = await client.select_time_series(\n",
    "    'lsst.sal.LaserTracker.logevent_offsetsPublish',\n",
    "    fields,  \n",
    "    start, \n",
    "    end,\n",
    ")  \n",
    "\n",
    "# July 5th, 2023\n",
    "start = Time('2023-07-05 6:38:0Z', scale='utc')\n",
    "end = Time('2023-07-05 10:40:0Z', scale='utc')\n",
    "\n",
    "offsets_jul05 = await client.select_time_series(\n",
    "    'lsst.sal.LaserTracker.logevent_offsetsPublish',\n",
    "    fields,  \n",
    "    start, \n",
    "    end,\n",
    ")  \n",
    "\n",
    "# January 12th, 2024\n",
    "start = Time('2024-01-12 20:30:0Z', scale='utc')\n",
    "end = Time('2024-01-12 21:15:0Z', scale='utc')\n",
    "\n",
    "offsets_jan13 = await client.select_time_series(\n",
    "    'lsst.sal.LaserTracker.logevent_offsetsPublish',\n",
    "    fields,  \n",
    "    start, \n",
    "    end,\n",
    ")  "
   ]
  },
  {
   "cell_type": "code",
   "execution_count": null,
   "id": "9924dc8b-8fcc-44ed-a844-0b7ab0abc800",
   "metadata": {},
   "outputs": [],
   "source": [
    "# Extract offsets, target elevation, azimuth and rotator angle for M2\n",
    "data_jul05_m2 = utils.extract_component_data(offsets_jul05, 'M2')\n",
    "data_jan13_m2 = utils.extract_component_data(offsets_jan13, 'M2')\n",
    "data_mar09_m2 = utils.extract_component_data(offsets_mar09, 'M2')\n",
    "\n",
    "# Extract offsets, target elevation, azimuth and rotator angle for Camera\n",
    "data_jul05_cam = utils.extract_component_data(offsets_jul05, 'Camera')\n",
    "data_jan13_cam = utils.extract_component_data(offsets_jan13, 'Camera')\n",
    "data_mar09_cam = utils.extract_component_data(offsets_mar09, 'Camera')"
   ]
  },
  {
   "cell_type": "markdown",
   "id": "dd61e1c7-bf50-465a-b953-0d2ef31c576b",
   "metadata": {},
   "source": [
    "## Plot comparison of offsets for different components\n",
    "\n",
    "### Camera"
   ]
  },
  {
   "cell_type": "code",
   "execution_count": null,
   "id": "3de88e1c-59b8-4e7e-a40f-8f21b812a409",
   "metadata": {},
   "outputs": [],
   "source": [
    "plt.figure(figsize = (10, 6))\n",
    "for idx, field in enumerate(fields[:-1]):\n",
    "    plt.subplot(2,3,idx + 1)\n",
    "    plt.plot(data_jul05_cam['target_elevation'], data_jul05_cam[field]- np.mean(data_jul05_cam[field]), '.-', label = 'July 05')\n",
    "    plt.plot(data_jan13_cam['target_elevation'], data_jan13_cam[field]- np.mean(data_jan13_cam[field]), '.-', label = 'Jan 13')\n",
    "    plt.plot(data_mar09_cam['target_elevation'], data_mar09_cam[field]- np.mean(data_mar09_cam[field]), '.-', label = 'Mar 09')\n",
    "\n",
    "    # Format plot\n",
    "    plt.xlabel('Elevation (deg)')\n",
    "    if idx >= 3:\n",
    "        plt.ylabel('deg')\n",
    "    else:\n",
    "        plt.ylabel('um')\n",
    "    plt.title(f'Camera {field} Offsets')\n",
    "    plt.legend()\n",
    "    \n",
    "plt.tight_layout()\n",
    "plt.savefig('Comparison_Camera_Offsets.png', dpi = 300)"
   ]
  },
  {
   "cell_type": "markdown",
   "id": "7ff85a1d-89d4-4a72-9f36-6e37979d3eff",
   "metadata": {},
   "source": [
    "### M2"
   ]
  },
  {
   "cell_type": "code",
   "execution_count": null,
   "id": "273a8442-9545-4fd6-962e-46a828f92fe6",
   "metadata": {
    "tags": []
   },
   "outputs": [],
   "source": [
    "plt.figure(figsize = (10, 6))\n",
    "for idx, field in enumerate(fields[:-1]):\n",
    "    plt.subplot(2,3,idx + 1)\n",
    "    plt.plot(data_jul05_m2['target_elevation'], data_jul05_m2[field]- np.mean(data_jul05_m2[field]), '.-', label = 'July 05')\n",
    "    plt.plot(data_jan13_m2['target_elevation'], data_jan13_m2[field]- np.mean(data_jan13_m2[field]), '.-', label = 'Jan 13')\n",
    "    plt.plot(data_mar09_m2['target_elevation'], data_mar09_m2[field]- np.mean(data_mar09_m2[field]), '.-', label = 'Mar 09')\n",
    "\n",
    "    # Format plot\n",
    "    plt.xlabel('Elevation (deg)')\n",
    "    if idx >= 3:\n",
    "        plt.ylabel('deg')\n",
    "    else:\n",
    "        plt.ylabel('um')\n",
    "    plt.title(f'M2  {field} Offsets')\n",
    "    plt.legend()\n",
    "    \n",
    "plt.tight_layout()\n",
    "plt.savefig('Comparison_M2_Offsets.png', dpi = 300)"
   ]
  }
 ],
 "metadata": {
  "kernelspec": {
   "display_name": "LSST",
   "language": "python",
   "name": "lsst"
  },
  "language_info": {
   "codemirror_mode": {
    "name": "ipython",
    "version": 3
   },
   "file_extension": ".py",
   "mimetype": "text/x-python",
   "name": "python",
   "nbconvert_exporter": "python",
   "pygments_lexer": "ipython3",
   "version": "3.11.7"
  }
 },
 "nbformat": 4,
 "nbformat_minor": 5
}
