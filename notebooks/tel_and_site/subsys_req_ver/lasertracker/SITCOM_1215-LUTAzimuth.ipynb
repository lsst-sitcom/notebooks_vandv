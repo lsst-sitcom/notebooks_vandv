{
 "cells": [
  {
   "cell_type": "markdown",
   "id": "7654f8dc-f03c-4901-99cf-ba969471e88d",
   "metadata": {},
   "source": [
    "## SITCOM Laser Tracker Analysis: Azimuth LUT\n",
    "\n",
    "In this notebook we plot the laser tracker offsets as a function of azimuth for different elevation angles.\n",
    "\n",
    "Relevant imports"
   ]
  },
  {
   "cell_type": "code",
   "execution_count": null,
   "id": "7fb4b770-6041-455d-ab47-f746576218df",
   "metadata": {
    "tags": []
   },
   "outputs": [],
   "source": [
    "import matplotlib.pyplot as plt\n",
    "import numpy as np\n",
    "from astropy.time import Time, TimeDelta\n",
    "import yaml\n",
    "from numpy.polynomial import Polynomial\n",
    "\n",
    "from lsst_efd_client import EfdClient\n",
    "from lsst.sitcom.vandv.lasertracker import utils\n",
    "\n",
    "%matplotlib inline\n",
    "%reload_ext lab_black\n",
    "%reload_ext autoreload\n",
    "%autoreload 2"
   ]
  },
  {
   "cell_type": "markdown",
   "id": "73b2c6d8-8c63-48a2-8475-4096d2a72f13",
   "metadata": {
    "execution": {
     "iopub.execute_input": "2024-03-11T13:48:03.196705Z",
     "iopub.status.busy": "2024-03-11T13:48:03.196278Z",
     "iopub.status.idle": "2024-03-11T13:48:03.646786Z",
     "shell.execute_reply": "2024-03-11T13:48:03.646141Z",
     "shell.execute_reply.started": "2024-03-11T13:48:03.196684Z"
    },
    "tags": []
   },
   "source": [
    "## Retrieve relevant data"
   ]
  },
  {
   "cell_type": "code",
   "execution_count": null,
   "id": "bd7d6406-fdcb-4ee9-9d3a-84ec692229a8",
   "metadata": {},
   "outputs": [],
   "source": [
    "client = EfdClient('usdf_efd')\n",
    "fields = ['dX', 'dY', 'dZ', 'dRX', 'dRY', 'target']\n",
    "\n",
    "start = Time(\"2024-03-11 00:10:00Z\", scale='utc')\n",
    "end = Time(\"2024-03-11 04:00:00Z\", scale='utc')\n",
    "\n",
    "offsets_azimuth = await client.select_time_series(\n",
    "    'lsst.sal.LaserTracker.logevent_offsetsPublish',\n",
    "    fields,  \n",
    "    start, \n",
    "    end,\n",
    ")   \n",
    "\n",
    "# Extract offsets, target elevation, azimuth and rotator angle by component\n",
    "data_cam = utils.extract_component_data(offsets_azimuth, 'Camera')\n",
    "data_m2 = utils.extract_component_data(offsets_azimuth, 'M2')\n"
   ]
  },
  {
   "cell_type": "markdown",
   "id": "f85fb25f-8a2c-4422-9df6-097006f2d6a7",
   "metadata": {},
   "source": [
    "## Plot azimuth offsets for three different elevations\n",
    "\n",
    "### Camera"
   ]
  },
  {
   "cell_type": "code",
   "execution_count": null,
   "id": "3de88e1c-59b8-4e7e-a40f-8f21b812a409",
   "metadata": {},
   "outputs": [],
   "source": [
    "plt.figure(figsize = (13, 6))\n",
    "\n",
    "# Classify by elevation angle\n",
    "data_cam_el86 = data_cam[data_cam['target_elevation'] == 86]\n",
    "data_cam_el40 = data_cam[data_cam['target_elevation'] == 40]\n",
    "data_cam_el20 = data_cam[data_cam['target_elevation'] == 20]\n",
    "\n",
    "for idx, field in enumerate(fields[:-1]):\n",
    "    plt.subplot(2,3,idx + 1)\n",
    "    plt.plot(data_cam_el20['target_azimuth'], data_cam_el20[field]- np.mean(data_cam_el20[field]), '.-', label = '20 deg')\n",
    "    plt.plot(data_cam_el40['target_azimuth'], data_cam_el40[field]- np.mean(data_cam_el40[field]), '.-', label = '40 deg')\n",
    "    plt.plot(data_cam_el86['target_azimuth'], data_cam_el86[field]- np.mean(data_cam_el86[field]), '.-', label = '86 deg')\n",
    "\n",
    "    # Format plot\n",
    "    plt.xlabel('Azimuth (deg)')\n",
    "    if idx >= 3:\n",
    "        plt.ylabel('deg')\n",
    "    else:\n",
    "        plt.ylabel('um')\n",
    "    plt.title(f'Camera {field} Offsets')\n",
    "    plt.legend(title = 'elevation')\n",
    "\n",
    "plt.tight_layout()\n",
    "plt.savefig('Azimuth_LUT_Camera.png', dpi= 300)"
   ]
  },
  {
   "cell_type": "markdown",
   "id": "a7cc7675-0351-476b-bd99-21d911d03fff",
   "metadata": {},
   "source": [
    "### M2"
   ]
  },
  {
   "cell_type": "code",
   "execution_count": null,
   "id": "d8d7b982-cf7c-4e4f-a449-fe2de305eb51",
   "metadata": {},
   "outputs": [],
   "source": [
    "plt.figure(figsize = (13, 6))\n",
    "\n",
    "# Classify by elevation angle\n",
    "data_m2_el86 = data_m2[data_m2['target_elevation'] == 86]\n",
    "data_m2_el40 = data_m2[data_m2['target_elevation'] == 40]\n",
    "data_m2_el20 = data_m2[data_m2['target_elevation'] == 20]\n",
    "\n",
    "for idx, field in enumerate(fields[:-1]):\n",
    "    plt.subplot(2,3,idx + 1)\n",
    "    plt.plot(data_m2_el20['target_azimuth'], data_m2_el20[field]- np.mean(data_m2_el20[field]), '.-', label = '20 deg')\n",
    "    plt.plot(data_m2_el40['target_azimuth'], data_m2_el40[field]- np.mean(data_m2_el40[field]), '.-', label = '40 deg')\n",
    "    plt.plot(data_m2_el86['target_azimuth'], data_m2_el86[field]- np.mean(data_m2_el86[field]), '.-', label = '86 deg')\n",
    "\n",
    "    # Format plot\n",
    "    plt.xlabel('Azimuth (deg)')\n",
    "    if idx >= 3:\n",
    "        plt.ylabel('deg')\n",
    "    else:\n",
    "        plt.ylabel('um')\n",
    "    plt.title(f'M2 {field} Offsets')\n",
    "    plt.legend(title='elevation')\n",
    "\n",
    "plt.tight_layout()\n",
    "plt.savefig('Azimuth_LUT_M2.png', dpi= 300)"
   ]
  }
 ],
 "metadata": {
  "kernelspec": {
   "display_name": "LSST",
   "language": "python",
   "name": "lsst"
  },
  "language_info": {
   "codemirror_mode": {
    "name": "ipython",
    "version": 3
   },
   "file_extension": ".py",
   "mimetype": "text/x-python",
   "name": "python",
   "nbconvert_exporter": "python",
   "pygments_lexer": "ipython3",
   "version": "3.11.7"
  }
 },
 "nbformat": 4,
 "nbformat_minor": 5
}
