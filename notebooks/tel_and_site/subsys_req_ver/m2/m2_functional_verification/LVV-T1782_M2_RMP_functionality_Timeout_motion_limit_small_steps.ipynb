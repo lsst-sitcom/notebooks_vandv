{
 "cells": [
  {
   "cell_type": "markdown",
   "id": "cff92e66-8d7e-46a0-92a5-bede9f097f62",
   "metadata": {},
   "source": [
    "# M2 Rigid Body Position\n",
    "\n",
    "This Jupyter notebook performs Rigid Body Position (RBP) displacements of the M2 and verify how the force on the axial and tangent actuators change.\n",
    "The M2 Rigid Body Movement (RBM) along each Degree of Freedom (DoF) is actuated individually with the target position query to the user.\n",
    "\n",
    "In addition, a 'Start' input is query to the user (response either y [yes] or n [no]) with a timeout exit in order to avoid endless execution of the script.\n",
    "\n",
    "The `move_m2_rbp()` defined below move the M2 as rigid body using the `m2.cmd_positionMirror.set_start()` function and controlling new telemetry using the `seqNum` attribute, an integer number in the telemetry call attributes that increment only when new telemetry data are retrived.\n",
    "\n",
    "The first check is on the M2 settle condition after the movement, checking the steps value of the hardpoints, retrieved by the function `get_hardpoint_steps()` defined below.\n",
    "\n",
    "After the displacement another check is perfomed on the forces of all actuators, using the following telemetry calls:\n",
    "\n",
    "    - m2.tel_forceErrorTangent.get().force\n",
    "    - m2.tel_tangentForce.get().measured\n",
    "    - m2.tel_axialForce.get().measured\n",
    "    - m2.tel_forceErrorTangent.get().sum\n",
    "    - m2.tel_forceErrorTangent.get().weight\n",
    "\n",
    "The log of this script is managed by the `MyLogger` Class that send the output both at the screen and into a [isoTdatetime]_logfile.txt\n",
    "\n",
    "# Important: \n",
    "In this script the function `m2.cmd_positionMirror.set_start()` is used to move the M2. Any D.O.F that is not declared will be set to the home position (e.g. using `m2.cmd_positionMirror.set_start()` the M2 is moved to the home position, `m2.cmd_positionMirror.set_start(x=position)` will move the M2 along the x-axis of `position` and the other axis will set at the home position).  "
   ]
  },
  {
   "cell_type": "markdown",
   "id": "630e8dca-6fb4-4e9e-9ecf-494928cefbb2",
   "metadata": {},
   "source": [
    "## Import Modules"
   ]
  },
  {
   "cell_type": "code",
   "execution_count": null,
   "id": "6945ae01-c911-44cb-98bf-0399914c4da0",
   "metadata": {
    "execution": {
     "iopub.execute_input": "2023-11-28T13:34:16.472026Z",
     "iopub.status.busy": "2023-11-28T13:34:16.471800Z",
     "iopub.status.idle": "2023-11-28T13:34:17.440220Z",
     "shell.execute_reply": "2023-11-28T13:34:17.439200Z",
     "shell.execute_reply.started": "2023-11-28T13:34:16.472001Z"
    },
    "tags": []
   },
   "outputs": [],
   "source": [
    "import asyncio\n",
    "import numpy as np\n",
    "from datetime import datetime\n",
    "from lsst.ts import salobj\n",
    "from lsst.ts.m2com.constant import (\n",
    "    NUM_ACTUATOR,\n",
    "    NUM_TANGENT_LINK,\n",
    "    TANGENT_LINK_LOAD_BEARING_LINK,\n",
    "    TANGENT_LINK_THETA_Z_MOMENT,\n",
    "    TANGENT_LINK_TOTAL_WEIGHT_ERROR,\n",
    "    LIMIT_FORCE_TANGENT_CLOSED_LOOP,\n",
    "    LIMIT_FORCE_AXIAL_CLOSED_LOOP,\n",
    ")\n",
    "import logging"
   ]
  },
  {
   "cell_type": "markdown",
   "id": "911c13b6",
   "metadata": {},
   "source": [
    "# LOGGER CLASS\n",
    "This class uses the `logging.Logger` module to create a log using the `%(asctime)s - %(levelname)s - %(message)s` format. Two Handlers are added into it, in order to flow the log both ad the screen (`StreamHandler`) and into a log file (`FileHandler`). The log file is called [isoTdatetime]_testlog.txt"
   ]
  },
  {
   "cell_type": "code",
   "execution_count": null,
   "id": "e6bd97f6-e66f-4818-856a-5dcfd40e00f0",
   "metadata": {
    "execution": {
     "iopub.execute_input": "2023-11-28T13:34:18.299173Z",
     "iopub.status.busy": "2023-11-28T13:34:18.298874Z",
     "iopub.status.idle": "2023-11-28T13:34:18.309360Z",
     "shell.execute_reply": "2023-11-28T13:34:18.308543Z",
     "shell.execute_reply.started": "2023-11-28T13:34:18.299147Z"
    }
   },
   "outputs": [],
   "source": [
    "class MyLogger:\n",
    "    def __init__(\n",
    "        self,\n",
    "        log_file_format: str | None = None,\n",
    "        formatter: str | None = None,\n",
    "        log_level: int = 10,  # logging.INFO\n",
    "        to_logfile: bool = True,\n",
    "    ):\n",
    "        self.log_file = (\n",
    "            log_file_format\n",
    "            if (log_file_format is not None)\n",
    "            else f\"{datetime.now().isoformat()}_testlog.txt\"\n",
    "        )\n",
    "        self.formatter = (\n",
    "            logging.Formatter(formatter)\n",
    "            if (formatter is not None)\n",
    "            else logging.Formatter(\"%(asctime)s - %(levelname)s - %(message)s\")\n",
    "        )\n",
    "        self.logger = logging.Logger(__name__)\n",
    "        self.logger.setLevel(log_level)\n",
    "\n",
    "        if to_logfile:\n",
    "            log_to_file = logging.FileHandler(self.log_file)\n",
    "            log_to_file.setFormatter(self.formatter)\n",
    "            self.logger.addHandler(log_to_file)\n",
    "\n",
    "        log_to_screen = logging.StreamHandler()\n",
    "        log_to_screen.setFormatter(self.formatter)\n",
    "        self.logger.addHandler(log_to_screen)\n",
    "\n",
    "    def info(self, msg: str):\n",
    "        self.logger.info(msg)\n",
    "\n",
    "    def warning(self, msg: str):\n",
    "        self.logger.warning(msg)\n",
    "\n",
    "    def error(self, msg: str):\n",
    "        self.logger.error(msg, exc_info=True)\n",
    "\n",
    "    def critical(self, msg: str):\n",
    "        self.logger.critical(msg, exc_info=True)"
   ]
  },
  {
   "cell_type": "markdown",
   "id": "ee00175e-f2dd-4703-bd3a-7a928628254f",
   "metadata": {},
   "source": [
    "# Retrieve Hardpoint Step Position"
   ]
  },
  {
   "cell_type": "code",
   "execution_count": null,
   "id": "5734533b-cddb-44b3-b5f6-48d4d32e3709",
   "metadata": {
    "execution": {
     "iopub.execute_input": "2023-11-28T13:34:21.600126Z",
     "iopub.status.busy": "2023-11-28T13:34:21.599582Z",
     "iopub.status.idle": "2023-11-28T13:34:21.606397Z",
     "shell.execute_reply": "2023-11-28T13:34:21.605658Z",
     "shell.execute_reply.started": "2023-11-28T13:34:21.600094Z"
    }
   },
   "outputs": [],
   "source": [
    "async def get_hardpoint_steps():\n",
    "    # Hardpoint Ids (!! Starting from 1 !!)\n",
    "    hardpoint_id = m2.evt_hardpointList.get().actuators\n",
    "\n",
    "    # Actuator steps lists (both axial and tangent)\n",
    "    axial_steps = m2.tel_axialActuatorSteps.get().steps\n",
    "    tangent_steps = m2.tel_tangentActuatorSteps.get().steps\n",
    "\n",
    "    # Constructing the hardpoint dictionary (e.g. {ids: step_value})\n",
    "    hardpoint = dict()\n",
    "    NUM_AXIAL_ACTUATOR = NUM_ACTUATOR - NUM_TANGENT_LINK\n",
    "    for i, key in enumerate(hardpoint_id):\n",
    "        if i < 3:\n",
    "            hardpoint[key] = axial_steps[key - 1]\n",
    "        else:\n",
    "            hardpoint[key] = tangent_steps[key - NUM_AXIAL_ACTUATOR - 1]\n",
    "    return hardpoint"
   ]
  },
  {
   "cell_type": "markdown",
   "id": "969e2d5a-4313-494a-b205-f4e3bdca289c",
   "metadata": {},
   "source": [
    "# Command RBP displacement"
   ]
  },
  {
   "cell_type": "code",
   "execution_count": null,
   "id": "288f62eb-f07e-47cb-8ce0-1990b4c01914",
   "metadata": {
    "execution": {
     "iopub.execute_input": "2023-11-28T13:34:24.001071Z",
     "iopub.status.busy": "2023-11-28T13:34:24.000619Z",
     "iopub.status.idle": "2023-11-28T13:34:24.008772Z",
     "shell.execute_reply": "2023-11-28T13:34:24.007921Z",
     "shell.execute_reply.started": "2023-11-28T13:34:24.001040Z"
    },
    "tags": []
   },
   "outputs": [],
   "source": [
    "async def move_axis(\n",
    "    logger: logging.Logger, axis: str = None, position: float = 0.0\n",
    "):\n",
    "\n",
    "    # ABSOLUTE position displacement\n",
    "    # Try to move or catch the Exception (i.e. it is in FAULT state)\n",
    "    # If incorrect axis is provided then raise a ValueError exception\n",
    "\n",
    "    match axis:\n",
    "        case \"x\":\n",
    "            try:\n",
    "                await m2.cmd_positionMirror.set_start(x=position)\n",
    "            except Exception as e:\n",
    "                logger.error(\"EXCEPTION OCCURRED\")\n",
    "        case \"y\":\n",
    "            try:\n",
    "                await m2.cmd_positionMirror.set_start(y=position)\n",
    "            except Exception as e:\n",
    "                logger.error(\"EXCEPTION OCCURRED\")\n",
    "        case \"z\":\n",
    "            try:\n",
    "                await m2.cmd_positionMirror.set_start(z=position)\n",
    "            except Exception as e:\n",
    "                logger.error(\"EXCEPTION OCCURRED\")\n",
    "        case \"xRot\":\n",
    "            try:\n",
    "                await m2.cmd_positionMirror.set_start(xRot=position)\n",
    "            except Exception as e:\n",
    "                logger.error(\"EXCEPTION OCCURRED\")\n",
    "        case \"yRot\":\n",
    "            try:\n",
    "                await m2.cmd_positionMirror.set_start(yRot=position)\n",
    "            except Exception as e:\n",
    "                logger.error(\"EXCEPTION OCCURRED\")\n",
    "        case \"zRot\":\n",
    "            try:\n",
    "                await m2.cmd_positionMirror.set_start(zRot=position)\n",
    "            except Exception as e:\n",
    "                logger.error(\"EXCEPTION OCCURRED\")\n",
    "        case _:\n",
    "            raise ValueError(\"Unrecognized axis\")"
   ]
  },
  {
   "cell_type": "code",
   "execution_count": null,
   "id": "ebbb566e-2247-4256-8d26-40054560bc7c",
   "metadata": {
    "execution": {
     "iopub.execute_input": "2023-11-28T13:34:25.591946Z",
     "iopub.status.busy": "2023-11-28T13:34:25.591566Z",
     "iopub.status.idle": "2023-11-28T13:34:25.599743Z",
     "shell.execute_reply": "2023-11-28T13:34:25.599083Z",
     "shell.execute_reply.started": "2023-11-28T13:34:25.591918Z"
    },
    "tags": []
   },
   "outputs": [],
   "source": [
    "async def wait_m2_to_settle(\n",
    "    logger: logging.Logger,\n",
    "    wait_telemetry: float = 0.2,\n",
    "    settle_time: float = 10.0,\n",
    "    safety_counter_threshold: int = 5,\n",
    "):\n",
    "    # Wait until m2 is settle.\n",
    "    # Looking at the hardpoints step positions (check the seqNum for the streaming of new data)\n",
    "    # When at least 'safety_counter_threshold' hardpoints measurements are equal then\n",
    "    # the M2 is considered settled\n",
    "\n",
    "    logger.info(\"Waiting the mirror to settle\")\n",
    "    mirror_is_moving = True\n",
    "\n",
    "    init_seqnum = m2.tel_axialActuatorSteps.get().private_seqNum\n",
    "    init_hardpoint = await get_hardpoint_steps()\n",
    "    logger.info(f\"Starting hardpoint condition: \\n{init_hardpoint}\")\n",
    "    safety_counter = 0\n",
    "\n",
    "    while mirror_is_moving:\n",
    "        await asyncio.sleep(wait_telemetry)\n",
    "        eval_seqnum = m2.tel_axialActuatorSteps.get().private_seqNum\n",
    "        if eval_seqnum == init_seqnum:\n",
    "            # Means no new telemetry is flowing so skip the rest\n",
    "            # of the loop and wait.\n",
    "            continue\n",
    "\n",
    "        init_seqnum = eval_seqnum\n",
    "\n",
    "        hardpoint = await get_hardpoint_steps()\n",
    "        logger.info(f\"New hardpoint telemetry data: \\n{hardpoint}\")\n",
    "\n",
    "        # If the new telemtry is different from the previous one\n",
    "        # means that M2 is still moving\n",
    "        if hardpoint != init_hardpoint:\n",
    "            # setting the current telemetry as the \"previous\" for the next cycle\n",
    "            # Skip the rest of the loop\n",
    "            init_hardpoint = hardpoint\n",
    "            continue\n",
    "\n",
    "        # If the previous condition is not met it means that\n",
    "        # the hardpoints are settled so the mirror as well.\n",
    "        # As a further safety precaution this has to happen safety_counter_threshold times\n",
    "        init_hardpoint = hardpoint\n",
    "        safety_counter += 1\n",
    "\n",
    "        if safety_counter > safety_counter_threshold:\n",
    "            logger.info(\"Position reached\")\n",
    "            mirror_is_moving = False\n",
    "\n",
    "    # Wait an additional settle time\n",
    "    await asyncio.sleep(settle_time)"
   ]
  },
  {
   "cell_type": "code",
   "execution_count": null,
   "id": "db171d7f-32d7-4e04-8726-94d163cea5eb",
   "metadata": {
    "execution": {
     "iopub.execute_input": "2023-11-28T13:34:26.934163Z",
     "iopub.status.busy": "2023-11-28T13:34:26.933802Z",
     "iopub.status.idle": "2023-11-28T13:34:26.948481Z",
     "shell.execute_reply": "2023-11-28T13:34:26.948071Z",
     "shell.execute_reply.started": "2023-11-28T13:34:26.934135Z"
    },
    "tags": []
   },
   "outputs": [],
   "source": [
    "async def checking_actuator_force(\n",
    "    logger: logging.Logger,\n",
    "    wait_force_telemetry: float = 1.0,\n",
    "    gain: float = 0.95,\n",
    "):\n",
    "    # Start checking all the actuator forces.\n",
    "    # The logic of this block is to gather at least 'min_force_sample' new telemetry measurements,\n",
    "    # select the maximum reading and check if it is reaching the force limit.\n",
    "    # In both case (Limit reached or not) the actual force status is logged\n",
    "    min_force_sample = 10\n",
    "\n",
    "    # Initialize the force list\n",
    "    tangent_force_error = list()\n",
    "    tangent_force = list()\n",
    "    axial_force = list()\n",
    "    sum_tangent_force_error = list()\n",
    "    weight_tangent_force_error = list()\n",
    "\n",
    "    logger.info(\"Checking the forces\")\n",
    "    initial_seqnum = m2.tel_forceErrorTangent.get().private_seqNum\n",
    "\n",
    "    # Loop until the force lists have at least 'min_force_sample' elements\n",
    "    while len(tangent_force) < min_force_sample:\n",
    "        eval_seqnum = m2.tel_forceErrorTangent.get().private_seqNum\n",
    "        if eval_seqnum == initial_seqnum:\n",
    "            # Means no new telemtry is flowing so skip the rest\n",
    "            # of the loop and wait.\n",
    "            await asyncio.sleep(wait_force_telemetry)\n",
    "            continue\n",
    "\n",
    "        initial_seqnum = eval_seqnum\n",
    "\n",
    "        # Here means that new telemtry is flowing, so store the measurement in the force lists\n",
    "        # Lists of lists\n",
    "        tangent_force_error.append(m2.tel_forceErrorTangent.get().force)\n",
    "        tangent_force.append(m2.tel_tangentForce.get().measured)\n",
    "        axial_force.append(m2.tel_axialForce.get().measured)\n",
    "\n",
    "        # Lists of floats\n",
    "        sum_tangent_force_error.append(abs(m2.tel_forceErrorTangent.get().sum))\n",
    "        weight_tangent_force_error.append(\n",
    "            abs(m2.tel_forceErrorTangent.get().weight)\n",
    "        )\n",
    "\n",
    "        await asyncio.sleep(wait_force_telemetry)\n",
    "\n",
    "    logger.info(\"Force telemetry data acquisition done\")\n",
    "\n",
    "    # Get the maximum value of each list and save also its index.\n",
    "    # By means it is possible to log the measurement of all forces, containing the maximum.\n",
    "    max_tangent_force_error = [\n",
    "        np.unravel_index(\n",
    "            np.abs(np.array(tangent_force_error)).argmax(),\n",
    "            np.array(tangent_force_error).shape,\n",
    "        ),\n",
    "        np.abs(np.array(tangent_force_error)).max(),\n",
    "    ]\n",
    "    max_tangent_force = [\n",
    "        np.unravel_index(\n",
    "            np.abs(np.array(tangent_force)).argmax(),\n",
    "            np.array(tangent_force).shape,\n",
    "        ),\n",
    "        np.abs(np.array(tangent_force)).max(),\n",
    "    ]\n",
    "    max_axial_force = [\n",
    "        np.unravel_index(\n",
    "            np.abs(np.array(axial_force)).argmax(), np.array(axial_force).shape\n",
    "        ),\n",
    "        np.abs(np.array(axial_force)).max(),\n",
    "    ]\n",
    "    max_sum_tangent_force_error = [\n",
    "        np.unravel_index(\n",
    "            np.abs(np.array(sum_tangent_force_error)).argmax(),\n",
    "            np.array(sum_tangent_force_error).shape,\n",
    "        ),\n",
    "        np.abs(np.array(sum_tangent_force_error)).max(),\n",
    "    ]\n",
    "    max_weight_tangent_force_error = [\n",
    "        np.unravel_index(\n",
    "            np.abs(np.array(weight_tangent_force_error)).argmax(),\n",
    "            np.array(weight_tangent_force_error).shape,\n",
    "        ),\n",
    "        np.abs(np.array(weight_tangent_force_error)).max(),\n",
    "    ]\n",
    "\n",
    "    # Controlling if the maximum exceed the Threshold.\n",
    "    # N.B. The threshold setted here are below the real force threshold\n",
    "    limit_reach = True\n",
    "    max_id = -1\n",
    "\n",
    "    if (\n",
    "        max_tangent_force_error[1] > gain * TANGENT_LINK_LOAD_BEARING_LINK\n",
    "    ):  # 950:\n",
    "        max_id = max_tangent_force_error[0][0]\n",
    "\n",
    "    elif (\n",
    "        max_tangent_force[1] > gain * LIMIT_FORCE_TANGENT_CLOSED_LOOP\n",
    "    ):  # 4870:\n",
    "        max_id = max_tangent_force[0][0]\n",
    "\n",
    "    elif (\n",
    "        max_sum_tangent_force_error[1] > gain * TANGENT_LINK_THETA_Z_MOMENT\n",
    "    ):  # 950:\n",
    "        max_id = sum_tangent_force_error[0][0]\n",
    "\n",
    "    elif (\n",
    "        max_weight_tangent_force_error[1]\n",
    "        > gain * TANGENT_LINK_TOTAL_WEIGHT_ERROR\n",
    "    ):  # 1900:\n",
    "        max_id = weight_tangent_force_error[0][0]\n",
    "\n",
    "    elif max_axial_force[1] > gain * LIMIT_FORCE_AXIAL_CLOSED_LOOP:  # 420:\n",
    "        max_id = max_axial_force[0][0]\n",
    "\n",
    "    else:\n",
    "        limit_reach = False\n",
    "\n",
    "    return (\n",
    "        limit_reach,\n",
    "        max_id,\n",
    "        tangent_force_error,\n",
    "        tangent_force,\n",
    "        axial_force,\n",
    "        sum_tangent_force_error,\n",
    "        weight_tangent_force_error,\n",
    "    )"
   ]
  },
  {
   "cell_type": "code",
   "execution_count": null,
   "id": "7fd71907-e1d9-4a89-a0fb-1458e3c2f9ca",
   "metadata": {
    "execution": {
     "iopub.execute_input": "2023-11-28T13:34:28.103001Z",
     "iopub.status.busy": "2023-11-28T13:34:28.102623Z",
     "iopub.status.idle": "2023-11-28T13:34:28.112446Z",
     "shell.execute_reply": "2023-11-28T13:34:28.111336Z",
     "shell.execute_reply.started": "2023-11-28T13:34:28.102971Z"
    },
    "tags": []
   },
   "outputs": [],
   "source": [
    "# Function that managed the M2 rigid body movement, it calls first the move_axis()\n",
    "# function to perform the displacement, then the wait_m2_to_settle() wait and check\n",
    "# until the completion of such movement. Eventually, the checking_actuator_force()\n",
    "# controls all the forces and stop if some threshold is met.\n",
    "\n",
    "\n",
    "async def move_m2_rbp(\n",
    "    logger: logging.Logger, axis: str = None, position: float = 0.0\n",
    "):\n",
    "    if \"Rot\" in axis:\n",
    "        logger.info(f\"Moving to {position} arcsec along {axis}-axis\")\n",
    "    else:\n",
    "        logger.info(f\"Moving to {position} micron along {axis}-axis\")\n",
    "    await move_axis(logger, axis, position)\n",
    "    await wait_m2_to_settle(logger)\n",
    "\n",
    "    (\n",
    "        limit_reach,\n",
    "        max_id,\n",
    "        tangent_force_error,\n",
    "        tangent_force,\n",
    "        axial_force,\n",
    "        sum_tangent_force_error,\n",
    "        weight_tangent_force_error,\n",
    "    ) = await checking_actuator_force(logger)\n",
    "\n",
    "    log = (\n",
    "        f\"\\nMeasured tangent force(<4893): {[round(el, 2) for el in tangent_force[max_id]]}\"\n",
    "        f\"\\nForce tangent error (<1000): {[round(el, 2) for el in tangent_force_error[max_id]]}\"\n",
    "        f\"\\nSum tangent force error(<1000): {sum_tangent_force_error[max_id]:.2f}\"\n",
    "        f\"\\nWeight tangent force error(<2000): {weight_tangent_force_error[max_id]:.2f}\"\n",
    "        f\"\\nMax measured axial force(<489): {[round(el, 2) for el in axial_force[max_id]]}\"\n",
    "        f\"\\nM2 LAST POSITION:\"\n",
    "        f\"\\nX: {m2.tel_position.get().x:.2f}, $\\mu$m\"\n",
    "        f\"\\nY: {m2.tel_position.get().y:.2f}, $\\mu$m\"\n",
    "        f\"\\nZ: {m2.tel_position.get().z:.2f}, $\\mu$m\"\n",
    "        f\"\\nXROT: {m2.tel_position.get().xRot:.2f}, arcsec\"\n",
    "        f\"\\nYROT: {m2.tel_position.get().yRot:.2f}, arcsec\"\n",
    "        f\"\\nZROT: {m2.tel_position.get().zRot:.2f}, arcsec\"\n",
    "    )\n",
    "\n",
    "    if limit_reach:\n",
    "        logger.warning(\"LIMIT REACHED\")\n",
    "        logger.warning(log)\n",
    "\n",
    "    else:\n",
    "        logger.info(\"CURRENT STATUS\")\n",
    "        logger.info(log)\n",
    "\n",
    "    return limit_reach"
   ]
  },
  {
   "cell_type": "code",
   "execution_count": null,
   "id": "e5a86bda-e165-4950-9bad-8fcbf8123211",
   "metadata": {
    "execution": {
     "iopub.execute_input": "2023-11-28T13:34:29.318449Z",
     "iopub.status.busy": "2023-11-28T13:34:29.317945Z",
     "iopub.status.idle": "2023-11-28T13:34:29.322992Z",
     "shell.execute_reply": "2023-11-28T13:34:29.322250Z",
     "shell.execute_reply.started": "2023-11-28T13:34:29.318418Z"
    },
    "tags": []
   },
   "outputs": [],
   "source": [
    "# Timeout coroutine\n",
    "async def timeout(timeout: float):\n",
    "    await asyncio.sleep(timeout)\n",
    "    return"
   ]
  },
  {
   "cell_type": "code",
   "execution_count": null,
   "id": "7625f8d5-5177-4c90-b5d4-709790bf4e99",
   "metadata": {
    "execution": {
     "iopub.execute_input": "2023-11-28T13:34:31.054302Z",
     "iopub.status.busy": "2023-11-28T13:34:31.053805Z",
     "iopub.status.idle": "2023-11-28T13:34:31.059554Z",
     "shell.execute_reply": "2023-11-28T13:34:31.058689Z",
     "shell.execute_reply.started": "2023-11-28T13:34:31.054273Z"
    },
    "tags": []
   },
   "outputs": [],
   "source": [
    "# Function for query to user the intention to start (yes or no)\n",
    "async def start_m2_move():\n",
    "    start = await asyncio.to_thread(input, \"Start (y or n)\")\n",
    "    match start:\n",
    "        case \"y\":\n",
    "            return True\n",
    "        case _:\n",
    "            return False"
   ]
  },
  {
   "cell_type": "markdown",
   "metadata": {},
   "source": [
    "## N.B: CONSERVATIVE LIMIT FOR M2 TANGENT FORCE ERROR.\n",
    "Based on previous multiple faults of m2 during rigid body movements a maximum displacement has been implement (the `max_step` parameter).\n",
    "\n",
    "For more information see the [SITCOMTN-99](https://github.com/lsst-sitcom/sitcomtn-099)"
   ]
  },
  {
   "cell_type": "code",
   "execution_count": null,
   "id": "2c63f99c-4da1-4567-8586-2c2ffc0b876d",
   "metadata": {
    "execution": {
     "iopub.execute_input": "2023-11-28T13:41:56.186693Z",
     "iopub.status.busy": "2023-11-28T13:41:56.185955Z",
     "iopub.status.idle": "2023-11-28T13:41:56.195342Z",
     "shell.execute_reply": "2023-11-28T13:41:56.194480Z",
     "shell.execute_reply.started": "2023-11-28T13:41:56.186660Z"
    },
    "tags": []
   },
   "outputs": [],
   "source": [
    "# Main Coroutine that call into two different threads the timeout coroutine and the Start query function.\n",
    "# This function return as soon as one of the two coroutine ends.\n",
    "# This implement a timeout for the Start query function.\n",
    "async def main(\n",
    "    axis: str,\n",
    "    logger: logging.Logger,\n",
    "    max_position: float = None,\n",
    "    increment: float = None,\n",
    "):\n",
    "    t = 120  # timeout time in sec\n",
    "\n",
    "    if \"Rot\" in axis:\n",
    "        max_step = 50  # Conservative value to avoid Tangent Force Error fault.\n",
    "    else:\n",
    "        max_step = 200  # Conservative value to avoid Tangent Force Error fault.\n",
    "\n",
    "    task1 = asyncio.create_task(timeout(t), name=\"Timeout\")\n",
    "    task2 = asyncio.create_task(start_m2_move(), name=\"M2 movement\")\n",
    "\n",
    "    done, pending = await asyncio.wait(\n",
    "        [task1, task2], return_when=asyncio.FIRST_COMPLETED\n",
    "    )\n",
    "\n",
    "    task_done = None\n",
    "    res = None\n",
    "\n",
    "    for el in done:\n",
    "        task_done = el.get_name()\n",
    "        res = el.result()\n",
    "\n",
    "    for el in pending:\n",
    "        el.cancel()\n",
    "\n",
    "    if task_done == \"M2 movement\" and res:\n",
    "        position = input(\"Insert position\")\n",
    "\n",
    "        match axis:\n",
    "            case \"x\":\n",
    "                current_position = m2.tel_position.get().x\n",
    "            case \"y\":\n",
    "                current_position = m2.tel_position.get().y\n",
    "            case \"z\":\n",
    "                current_position = m2.tel_position.get().z\n",
    "            case \"xRot\":\n",
    "                current_position = m2.tel_position.get().xRot\n",
    "            case \"yRot\":\n",
    "                current_position = m2.tel_position.get().yRot\n",
    "            case \"zRot\":\n",
    "                current_position = m2.tel_position.get().zRot\n",
    "            case _:\n",
    "                raise ValueError(\"Unrecognized axis\")\n",
    "\n",
    "        if len(position) == 0:\n",
    "            logger.warning(\"Position invalid, quit test.\")\n",
    "            return True\n",
    "        elif abs(current_position - float(position)) > max_step:\n",
    "            logger.warning(\n",
    "                \"The request position is beyond the safe movement range\"\n",
    "            )\n",
    "            return True\n",
    "\n",
    "        limit_reach = await move_m2_rbp(logger, axis, float(position))\n",
    "        return limit_reach\n",
    "    else:\n",
    "        return True"
   ]
  },
  {
   "cell_type": "markdown",
   "id": "50a825e1-91b3-4dd4-ad90-e27154001a50",
   "metadata": {
    "execution": {
     "iopub.execute_input": "2023-02-15T12:53:11.930901Z",
     "iopub.status.busy": "2023-02-15T12:53:11.930612Z",
     "iopub.status.idle": "2023-02-15T12:53:11.933205Z",
     "shell.execute_reply": "2023-02-15T12:53:11.932768Z",
     "shell.execute_reply.started": "2023-02-15T12:53:11.930883Z"
    }
   },
   "source": [
    "## Prepare the M2 CSC and put to Enabled state"
   ]
  },
  {
   "cell_type": "code",
   "execution_count": null,
   "id": "845bb53a-a792-48ce-8765-d3144311a8cb",
   "metadata": {
    "execution": {
     "iopub.execute_input": "2023-11-28T13:34:35.063876Z",
     "iopub.status.busy": "2023-11-28T13:34:35.063504Z",
     "iopub.status.idle": "2023-11-28T13:34:35.448354Z",
     "shell.execute_reply": "2023-11-28T13:34:35.447726Z",
     "shell.execute_reply.started": "2023-11-28T13:34:35.063847Z"
    },
    "tags": []
   },
   "outputs": [],
   "source": [
    "logger = MyLogger()\n",
    "\n",
    "domain = salobj.Domain()\n",
    "m2 = salobj.Remote(domain, \"MTM2\")"
   ]
  },
  {
   "cell_type": "code",
   "execution_count": null,
   "id": "c6679c96-f1b3-4d15-a220-355d33f72f5e",
   "metadata": {
    "execution": {
     "iopub.execute_input": "2023-11-28T13:34:51.064261Z",
     "iopub.status.busy": "2023-11-28T13:34:51.063881Z",
     "iopub.status.idle": "2023-11-28T13:34:51.072134Z",
     "shell.execute_reply": "2023-11-28T13:34:51.071234Z",
     "shell.execute_reply.started": "2023-11-28T13:34:51.064230Z"
    },
    "tags": []
   },
   "outputs": [],
   "source": [
    "await m2.start_task\n",
    "await m2.cmd_setLogLevel.set_start(level=10)"
   ]
  },
  {
   "cell_type": "markdown",
   "id": "12b0a81a-77d1-473b-bf72-bce6717d9972",
   "metadata": {},
   "source": [
    "# SYSTEM STATUS LEGEND    \n",
    "1. DISABLED = 1\n",
    "2. ENABLED = 2\n",
    "3. FAULT = 3\n",
    "4. OFFLINE = 4\n",
    "5. STANDBY = 5\n",
    "\n",
    "**Fault restoring cycle**\n",
    "\n",
    "Fault --> Standby  -->  Disable  -->  Enabled\n",
    "\n",
    "**To Stop**\n",
    "\n",
    "Enabled  -->  Disable  -->  Standby"
   ]
  },
  {
   "cell_type": "code",
   "execution_count": null,
   "id": "add9094e-4451-42d1-b8e1-dee22f2f6ad8",
   "metadata": {
    "execution": {
     "iopub.execute_input": "2023-11-28T16:50:31.520036Z",
     "iopub.status.busy": "2023-11-28T16:50:31.519806Z",
     "iopub.status.idle": "2023-11-28T16:50:31.524039Z",
     "shell.execute_reply": "2023-11-28T16:50:31.523398Z",
     "shell.execute_reply.started": "2023-11-28T16:50:31.520016Z"
    },
    "tags": []
   },
   "outputs": [],
   "source": [
    "# Get system status\n",
    "state = m2.evt_summaryState.get()\n",
    "logger.info(f\"System Status: {state.summaryState}\")"
   ]
  },
  {
   "cell_type": "markdown",
   "id": "4f7e7431",
   "metadata": {},
   "source": [
    "# Fault Restoring Cycle"
   ]
  },
  {
   "cell_type": "code",
   "execution_count": null,
   "id": "ea1fd767",
   "metadata": {},
   "outputs": [],
   "source": [
    "# Fault --> Standby\n",
    "await m2.cmd_standby.set_start(timeout=30)"
   ]
  },
  {
   "cell_type": "code",
   "execution_count": null,
   "id": "0970c2d2-431c-44ae-9333-2afb221f0e03",
   "metadata": {
    "tags": []
   },
   "outputs": [],
   "source": [
    "# Standby  -->  Disable\n",
    "await m2.cmd_start.set_start(timeout=30)"
   ]
  },
  {
   "cell_type": "code",
   "execution_count": null,
   "id": "02a7bb70",
   "metadata": {},
   "outputs": [],
   "source": [
    "# Disable  -->  Enabled\n",
    "await m2.cmd_enable.set_start(timeout=550)"
   ]
  },
  {
   "cell_type": "markdown",
   "id": "dee7922b",
   "metadata": {},
   "source": [
    "# Stop Cycle"
   ]
  },
  {
   "cell_type": "code",
   "execution_count": null,
   "id": "4a849787",
   "metadata": {},
   "outputs": [],
   "source": [
    "# Enabled  -->  Disable\n",
    "await m2.cmd_disable.set_start(timeout=30)"
   ]
  },
  {
   "cell_type": "code",
   "execution_count": null,
   "id": "a971d92c",
   "metadata": {},
   "outputs": [],
   "source": [
    "# Disable  -->  Standby\n",
    "await m2.cmd_standby.set_start(timeout=30)"
   ]
  },
  {
   "cell_type": "markdown",
   "id": "dc7d5f73-7fce-4027-98ed-5d93a119f3b9",
   "metadata": {},
   "source": [
    "## LUT FILES\n",
    "1. Configurable_File_Description_20180831T091922_M2_optical.csv\n",
    "2. Configurable_File_Description_20180831T092326_M2_handling.csv\n",
    "3. Configurable_File_Description_20180831T092423_surrogate_optical.csv\n",
    "4. Configurable_File_Description_20180831T092556_surrogate_handling.csv"
   ]
  },
  {
   "cell_type": "code",
   "execution_count": null,
   "id": "688b4bc5-24d2-44ec-97e4-a91f6f5b7408",
   "metadata": {
    "execution": {
     "iopub.execute_input": "2023-11-28T13:34:59.110971Z",
     "iopub.status.busy": "2023-11-28T13:34:59.109951Z",
     "iopub.status.idle": "2023-11-28T13:34:59.115199Z",
     "shell.execute_reply": "2023-11-28T13:34:59.114500Z",
     "shell.execute_reply.started": "2023-11-28T13:34:59.110940Z"
    }
   },
   "outputs": [],
   "source": [
    "ccfile = m2.evt_config.get().get_vars()[\"configuration\"]\n",
    "print(ccfile)"
   ]
  },
  {
   "cell_type": "code",
   "execution_count": null,
   "id": "44235efb-4977-4281-8273-b958f5573206",
   "metadata": {
    "tags": []
   },
   "outputs": [],
   "source": [
    "# Setting the right LUT ***ONLY IN DISABLE STATE ***\n",
    "ccfile = m2.evt_config.get().get_vars()[\"configuration\"]\n",
    "\n",
    "if \"M2_optical\" not in ccfile:\n",
    "    config_files = (\n",
    "        m2.evt_configurationFiles.get().get_vars()[\"files\"].split(\",\")\n",
    "    )\n",
    "    ncfile = [el for el in config_files if \"M2_optical\" in el][0]\n",
    "    await m2.cmd_setConfigurationFile.set_start(file=ncfile)\n",
    "    logger.info(\n",
    "        f'Current config file (switch to enable state to make the change effective): {m2.evt_config.get().get_vars()[\"configuration\"]}'\n",
    "    )"
   ]
  },
  {
   "cell_type": "code",
   "execution_count": null,
   "id": "413b61ac-d231-4a0f-b9bf-5aebc780807e",
   "metadata": {
    "tags": []
   },
   "outputs": [],
   "source": [
    "# Debug cell\n",
    "print(m2.evt_interlock.get())\n",
    "print(m2.evt_innerLoopControlMode.get())\n",
    "print(m2.evt_errorCode.get())\n",
    "print(m2.evt_forceBalanceSystemStatus.get())"
   ]
  },
  {
   "cell_type": "code",
   "execution_count": null,
   "id": "586294a7-d612-4ee6-b677-855eb87b2194",
   "metadata": {
    "execution": {
     "iopub.execute_input": "2023-11-28T14:19:52.621965Z",
     "iopub.status.busy": "2023-11-28T14:19:52.621604Z",
     "iopub.status.idle": "2023-11-28T14:48:08.570387Z",
     "shell.execute_reply": "2023-11-28T14:48:08.569407Z",
     "shell.execute_reply.started": "2023-11-28T14:19:52.621937Z"
    },
    "tags": []
   },
   "outputs": [],
   "source": [
    "# X-DOF\n",
    "\n",
    "axis = \"x\"\n",
    "\n",
    "log = (\n",
    "    f\"** STARTING MOVING ON {axis}-axis**\"\n",
    "    f\"\\nM2 POSITION:\"\n",
    "    f\"\\nX: {m2.tel_position.get().x:.2f}\"\n",
    "    f\"\\nY: {m2.tel_position.get().y:.2f}\"\n",
    "    f\"\\nZ: {m2.tel_position.get().z:.2f}\"\n",
    "    f\"\\nXROT: {m2.tel_position.get().xRot:.2f}\"\n",
    "    f\"\\nYROT: {m2.tel_position.get().yRot:.2f}\"\n",
    "    f\"\\nZROT: {m2.tel_position.get().zRot:.2f}\"\n",
    ")\n",
    "\n",
    "logger.info(log)\n",
    "\n",
    "keep_continue = False\n",
    "while not keep_continue:\n",
    "    keep_continue = await main(axis=axis, logger=logger)"
   ]
  },
  {
   "cell_type": "code",
   "execution_count": null,
   "id": "f25238a7-6869-4f91-a95d-100d520c1676",
   "metadata": {
    "execution": {
     "iopub.execute_input": "2023-11-28T16:50:51.220893Z",
     "iopub.status.busy": "2023-11-28T16:50:51.220542Z",
     "iopub.status.idle": "2023-11-28T18:00:15.412295Z",
     "shell.execute_reply": "2023-11-28T18:00:15.411397Z",
     "shell.execute_reply.started": "2023-11-28T16:50:51.220865Z"
    }
   },
   "outputs": [],
   "source": [
    "# Y-DOF\n",
    "\n",
    "axis = \"y\"\n",
    "\n",
    "log = (\n",
    "    f\"** STARTING MOVING ON {axis}-axis**\"\n",
    "    f\"\\nM2 POSITION:\"\n",
    "    f\"\\nX: {m2.tel_position.get().x:.2f}, $\\mu$m\"\n",
    "    f\"\\nY: {m2.tel_position.get().y:.2f}, $\\mu$m\"\n",
    "    f\"\\nZ: {m2.tel_position.get().z:.2f}, $\\mu$m\"\n",
    "    f\"\\nXROT: {m2.tel_position.get().xRot:.2f}, arcsec\"\n",
    "    f\"\\nYROT: {m2.tel_position.get().yRot:.2f}, arcsec\"\n",
    "    f\"\\nZROT: {m2.tel_position.get().zRot:.2f}, arcsec\"\n",
    ")\n",
    "\n",
    "logger.info(log)\n",
    "\n",
    "keep_continue = False\n",
    "while not keep_continue:\n",
    "    keep_continue = await main(axis=axis, logger=logger)"
   ]
  },
  {
   "cell_type": "code",
   "execution_count": null,
   "id": "d98a5712-caf7-496c-93c1-b6fabdb297b0",
   "metadata": {},
   "outputs": [],
   "source": [
    "# Z-DOF\n",
    "\n",
    "axis = \"z\"\n",
    "\n",
    "log = (\n",
    "    f\"** STARTING MOVING ON {axis}-axis**\"\n",
    "    f\"\\nM2 POSITION:\"\n",
    "    f\"\\nX: {m2.tel_position.get().x:.2f}, $\\mu$m\"\n",
    "    f\"\\nY: {m2.tel_position.get().y:.2f}, $\\mu$m\"\n",
    "    f\"\\nZ: {m2.tel_position.get().z:.2f}, $\\mu$m\"\n",
    "    f\"\\nXROT: {m2.tel_position.get().xRot:.2f}, arcsec\"\n",
    "    f\"\\nYROT: {m2.tel_position.get().yRot:.2f}, arcsec\"\n",
    "    f\"\\nZROT: {m2.tel_position.get().zRot:.2f}, arcsec\"\n",
    ")\n",
    "\n",
    "logger.info(log)\n",
    "\n",
    "keep_continue = False\n",
    "while not keep_continue:\n",
    "    keep_continue = await main(axis=axis, logger=logger)"
   ]
  },
  {
   "cell_type": "code",
   "execution_count": null,
   "id": "a8091cd6",
   "metadata": {},
   "outputs": [],
   "source": [
    "# xRot-DOF\n",
    "\n",
    "axis = \"xRot\"\n",
    "\n",
    "log = (\n",
    "    f\"** STARTING MOVING ON {axis}-axis**\"\n",
    "    f\"\\nM2 POSITION:\"\n",
    "    f\"\\nX: {m2.tel_position.get().x:.2f}, $\\mu$m\"\n",
    "    f\"\\nY: {m2.tel_position.get().y:.2f}, $\\mu$m\"\n",
    "    f\"\\nZ: {m2.tel_position.get().z:.2f}, $\\mu$m\"\n",
    "    f\"\\nXROT: {m2.tel_position.get().xRot:.2f}, arcsec\"\n",
    "    f\"\\nYROT: {m2.tel_position.get().yRot:.2f}, arcsec\"\n",
    "    f\"\\nZROT: {m2.tel_position.get().zRot:.2f}, arcsec\"\n",
    ")\n",
    "\n",
    "logger.info(log)\n",
    "\n",
    "keep_continue = False\n",
    "while not keep_continue:\n",
    "    keep_continue = await main(axis=axis, logger=logger)"
   ]
  },
  {
   "cell_type": "code",
   "execution_count": null,
   "id": "449b7eab",
   "metadata": {},
   "outputs": [],
   "source": [
    "# yRot-DOF\n",
    "\n",
    "axis = \"yRot\"\n",
    "\n",
    "log = (\n",
    "    f\"** STARTING MOVING ON {axis}-axis**\"\n",
    "    f\"\\nM2 POSITION:\"\n",
    "    f\"\\nX: {m2.tel_position.get().x:.2f}, $\\mu$m\"\n",
    "    f\"\\nY: {m2.tel_position.get().y:.2f}, $\\mu$m\"\n",
    "    f\"\\nZ: {m2.tel_position.get().z:.2f}, $\\mu$m\"\n",
    "    f\"\\nXROT: {m2.tel_position.get().xRot:.2f}, arcsec\"\n",
    "    f\"\\nYROT: {m2.tel_position.get().yRot:.2f}, arcsec\"\n",
    "    f\"\\nZROT: {m2.tel_position.get().zRot:.2f}, arcsec\"\n",
    ")\n",
    "\n",
    "logger.info(log)\n",
    "\n",
    "keep_continue = False\n",
    "while not keep_continue:\n",
    "    keep_continue = await main(axis=axis, logger=logger)"
   ]
  },
  {
   "cell_type": "code",
   "execution_count": null,
   "id": "9c2b1d04",
   "metadata": {},
   "outputs": [],
   "source": [
    "# zRot-DOF\n",
    "\n",
    "axis = \"zRot\"\n",
    "\n",
    "log = (\n",
    "    f\"** STARTING MOVING ON {axis}-axis**\"\n",
    "    f\"\\nM2 POSITION:\"\n",
    "    f\"\\nX: {m2.tel_position.get().x:.2f}, $\\mu$m\"\n",
    "    f\"\\nY: {m2.tel_position.get().y:.2f}, $\\mu$m\"\n",
    "    f\"\\nZ: {m2.tel_position.get().z:.2f}, $\\mu$m\"\n",
    "    f\"\\nXROT: {m2.tel_position.get().xRot:.2f}, arcsec\"\n",
    "    f\"\\nYROT: {m2.tel_position.get().yRot:.2f}, arcsec\"\n",
    "    f\"\\nZROT: {m2.tel_position.get().zRot:.2f}, arcsec\"\n",
    ")\n",
    "\n",
    "logger.info(log)\n",
    "\n",
    "keep_continue = False\n",
    "while not keep_continue:\n",
    "    keep_continue = await main(axis=axis, logger=logger)"
   ]
  }
 ],
 "metadata": {
  "kernelspec": {
   "display_name": "LSST-env",
   "language": "python",
   "name": "python3"
  },
  "language_info": {
   "codemirror_mode": {
    "name": "ipython",
    "version": 3
   },
   "file_extension": ".py",
   "mimetype": "text/x-python",
   "name": "python",
   "nbconvert_exporter": "python",
   "pygments_lexer": "ipython3",
   "version": "3.11.7"
  }
 },
 "nbformat": 4,
 "nbformat_minor": 5
}
