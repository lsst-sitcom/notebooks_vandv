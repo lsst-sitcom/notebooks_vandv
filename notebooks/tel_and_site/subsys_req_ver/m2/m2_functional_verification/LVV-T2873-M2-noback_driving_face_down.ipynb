{
 "cells": [
  {
   "cell_type": "code",
   "execution_count": null,
   "id": "ef907d15-30cb-4576-b304-acc11e19f9dc",
   "metadata": {
    "tags": []
   },
   "outputs": [],
   "source": [
    "%matplotlib inline\n",
    "%matplotlib widget\n",
    "from datetime import datetime, timedelta \n",
    "import time\n",
    "from astropy.time import Time\n",
    "import pandas as pd\n",
    "import numpy as np\n",
    "import matplotlib.pyplot as plt\n",
    "\n",
    "import asyncio\n",
    "import os\n",
    "from lsst.ts import salobj \n",
    "from scipy.fft import fft, fftfreq\n",
    "from lsst.ts.m2com import NUM_ACTUATOR, NUM_TANGENT_LINK\n",
    "\n",
    "from lsst_efd_client import EfdClient\n"
   ]
  },
  {
   "cell_type": "code",
   "execution_count": null,
   "id": "15bca4f4-7d68-4658-b8ad-ec077f83a5c5",
   "metadata": {
    "tags": []
   },
   "outputs": [],
   "source": [
    "async def injectForce_axial_actuator(csc, actuators, force, sleep_time=5):\n",
    "    \"\"\"Bump the axial actuator.\n",
    "    \n",
    "    Parameters\n",
    "    ----------\n",
    "    csc : lsst.ts.salobj.remote.Remote\n",
    "        Remote object of the M2 CSC.\n",
    "    actuators : list of actuators.\n",
    "    force : list of forces\n",
    "        Force to apply (Newton).\n",
    "    sleep_time : float, optional\n",
    "        Sleep time. (the default is 5.0)\n",
    "    \"\"\"\n",
    "\n",
    "    # Do the positive direction first\n",
    "    num_axial_actuator = NUM_ACTUATOR - NUM_TANGENT_LINK\n",
    "    forces = [0.] * num_axial_actuator\n",
    "    \n",
    "    for idx in range(len(actuators)):\n",
    "        print(f\"idx: {idx}.\")\n",
    "        index = actuators[idx]\n",
    "        #print(f\"idx: {idx}  index  {index}\")        \n",
    "        forces[index] = force[idx]\n",
    "        print(f\"Apply the force: {force} N. to actuator: {index}\")\n",
    "    await csc.cmd_applyForces.set_start(axial=forces)\n",
    "    await asyncio.sleep(sleep_time)\n"
   ]
  },
  {
   "cell_type": "code",
   "execution_count": null,
   "id": "cfd07591-eef9-4742-ae08-caf97fdaa63b",
   "metadata": {
    "tags": []
   },
   "outputs": [],
   "source": [
    "domain = salobj.Domain()\n",
    "m2 = salobj.Remote(domain, \"MTM2\")\n",
    "await m2.start_task\n",
    "await m2.cmd_setLogLevel.set_start(level=10)"
   ]
  },
  {
   "cell_type": "code",
   "execution_count": null,
   "id": "a203d27d-cb56-48f0-9961-0ad2a375cde1",
   "metadata": {},
   "outputs": [],
   "source": [
    "\"\"\"    \n",
    "DISABLED = 1\n",
    "ENABLED = 2\n",
    "FAULT = 3\n",
    "OFFLINE = 4\n",
    "STANDBY = 5\n",
    "\n",
    "Standby  -->  Disable  -->  Enabled\n",
    "\n",
    "await m2.cmd_start.set_start(timeout=30)\n",
    "await m2.cmd_enable.set_start(timeout=200)\n",
    "\n",
    "3) To Stop, do this:    Enabled  -->  Disable  -->  Standby\n",
    "\n",
    "await m2.cmd_disable.set_start(timeout=30)\n",
    "await m2.cmd_standby.set_start(timeout=30) \"\"\" "
   ]
  },
  {
   "cell_type": "code",
   "execution_count": null,
   "id": "31ce34ed-7dc4-4dc4-b3de-f18aa549429b",
   "metadata": {
    "tags": []
   },
   "outputs": [],
   "source": [
    "# get status\n",
    "state = m2.evt_summaryState.get()\n",
    "print(state)"
   ]
  },
  {
   "cell_type": "code",
   "execution_count": null,
   "id": "c01610ee-69ce-464e-bec0-f8f21a0e8549",
   "metadata": {
    "tags": []
   },
   "outputs": [],
   "source": [
    "# Standby  -->  Disable\n",
    "await m2.cmd_start.set_start(timeout=30)"
   ]
  },
  {
   "cell_type": "code",
   "execution_count": null,
   "id": "16a12ef4-e17e-4158-b4d7-649492b9e498",
   "metadata": {
    "tags": []
   },
   "outputs": [],
   "source": [
    "# Disable  -->  Enabled\n",
    "await m2.cmd_enable.set_start(timeout=200)"
   ]
  },
  {
   "cell_type": "code",
   "execution_count": null,
   "id": "99aa3b26-1bab-4c58-854a-dbc49000d6c8",
   "metadata": {
    "tags": []
   },
   "outputs": [],
   "source": [
    "# Enabled  -->  Disable\n",
    "await m2.cmd_disable.set_start(timeout=30)"
   ]
  },
  {
   "cell_type": "code",
   "execution_count": null,
   "id": "7068998f-4c9d-48ad-aa93-770f5666ec11",
   "metadata": {
    "tags": []
   },
   "outputs": [],
   "source": [
    "#Disable  -->  Standby\n",
    "await m2.cmd_standby.set_start(timeout=30)"
   ]
  },
  {
   "cell_type": "code",
   "execution_count": null,
   "id": "24d4c62c-8778-4e8e-84c0-be6ecdf77cb1",
   "metadata": {
    "tags": []
   },
   "outputs": [],
   "source": [
    "#Fault --> Standby\n",
    "await m2.cmd_standby.set_start(timeout=30)"
   ]
  },
  {
   "cell_type": "code",
   "execution_count": null,
   "id": "93f19bc8-b340-42d6-84f0-d8a2246c8ccd",
   "metadata": {
    "tags": []
   },
   "outputs": [],
   "source": [
    "def retrieve_efd_client(is_summit=True):\n",
    "    \"\"\"\n",
    "    Retrieves a client to EFD.\n",
    "\n",
    "    Parameters\n",
    "    ----------\n",
    "    is_summit : bool, optional\n",
    "        This notebook is running on the summit or not. If not, the returned object will point\n",
    "        to the test stand at Tucson.\n",
    "\n",
    "    Returns\n",
    "    -------\n",
    "    EfdClient : The interface object between the Nublado and summit/Tucson EFD.\n",
    "    \"\"\"\n",
    "    efd_name = \"summit_efd\" if is_summit else \"tucson_teststand_efd\"        \n",
    "    return EfdClient(efd_name)\n"
   ]
  },
  {
   "cell_type": "code",
   "execution_count": null,
   "id": "00bcabe3-3fa6-46fb-a15d-f6a6ffcfc332",
   "metadata": {
    "tags": []
   },
   "outputs": [],
   "source": [
    "efd_client = retrieve_efd_client(is_summit=True)\n",
    "\n",
    "\n",
    "#fill a list with n actuators\n",
    "n = 12\n",
    "\n",
    "# for each group of actuator and each run remove comment related to the actuator group desired. Use only one group at time\n",
    "\n",
    "actuators = [  0,  10,  20,   4,  14,  24,  31,  39,  47,  56,  62,  68]\n",
    "#actuators = [  1,  11,  21,   5,  15,  25,  32,  40,  48,  57,  63,  69]\n",
    "#actuators = [  2,  12,  22,   6,  16,  26,  33,  38,  46,  54,  63,  69]\n",
    "#actuators = [  3,  13,  23,   7,  17,  27,  33,  41,  49,  58,  64,  70]\n",
    "#actuators = [  4,  14,  24,   8,  18,  28,  34,  42,  50,  59,  64,  70]\n",
    "#actuators = [  6,  16,  26,   9,  19,  29,  35,  43,  51,  60,  65,  71]\n",
    "#actuators = [  6,  16,  26,  10,  20,  30,  36,  44,  52,  61,  66,   0]\n",
    "#actuators = [  7,  17,  27,  11,  21,  31,  37,  45,  53,  55,  67,   0]\n",
    "\n",
    "\n",
    "for idx in range(n):\n",
    "    print(f\"actuator: {actuators[idx]}\")"
   ]
  },
  {
   "cell_type": "code",
   "execution_count": null,
   "id": "45054edb-f42e-4142-8ca1-7de0fb5e7df1",
   "metadata": {
    "tags": []
   },
   "outputs": [],
   "source": [
    "#bring all actuators to zero   \n",
    "n_act = NUM_ACTUATOR - NUM_TANGENT_LINK\n",
    "all_actuators = [0] * n_act\n",
    "f_Delta = [0] * n_act\n",
    "f_Delta = np.array(f_Delta, float)\n",
    "forces = f_Delta\n",
    "\n",
    "#apply force of the loop\n",
    "for idx in range(n_act):\n",
    "    force = forces[idx]\n",
    "await m2.cmd_resetForceOffsets.set_start()\n",
    "await asyncio.sleep(5)"
   ]
  },
  {
   "cell_type": "code",
   "execution_count": null,
   "id": "cdab91e2-f1c3-4ccf-80d1-9f2845315558",
   "metadata": {
    "tags": []
   },
   "outputs": [],
   "source": [
    "# retrieve from EFD for at least 120 sec of the measured forces on actuators to build a \n",
    "# force statistics\n",
    "\n",
    "await asyncio.sleep(125)    \n",
    "\n",
    "\n",
    "time_end = datetime.now()\n",
    "time_end = Time(time_end, scale=\"utc\")\n",
    "time_start = time_end - timedelta(seconds = 120)\n",
    "time_start = Time(time_start, scale=\"utc\")\n",
    "\n",
    "names = list()\n",
    "for idx in range(n_act):\n",
    "    names.append(f\"measured{idx}\")\n",
    "    \n",
    "data_act_before = await efd_client.select_time_series(\n",
    "        \"lsst.sal.MTM2.axialForce\",\n",
    "        fields=names,\n",
    "        start=time_start,\n",
    "        end=time_end)\n",
    "\n",
    "# retrieve statistics\n",
    "f_max = data_act_before.max()\n",
    "f_min = data_act_before.min()\n",
    "f_max_values = f_max.to_numpy()\n",
    "f_min_values = f_min.to_numpy()\n",
    "p_v = f_max_values - f_min_values\n",
    "print(f\"p_v : {p_v}\")"
   ]
  },
  {
   "cell_type": "code",
   "execution_count": null,
   "id": "55d1427a-814b-455c-a2de-d364f77d0711",
   "metadata": {
    "tags": []
   },
   "outputs": [],
   "source": [
    "#Calculate the Delta forces to be applied, check for limits and applied them\n",
    "\n",
    "\n",
    "data_measured_forces = m2.tel_axialForce.get()\n",
    "\n",
    "data_measured_forces_values = np.array(data_measured_forces.measured, float)\n",
    "\n",
    "# calculate force to be applied\n",
    "f_Delta = 400 - (p_v[actuators] + data_measured_forces_values[actuators])\n",
    "\n",
    "n_act_odd = int(n/2)\n",
    "\n",
    "for idx in range(n_act_odd):\n",
    "    f_Delta[idx*2+1] = -f_Delta[idx*2+1]\n",
    "    print(f\"value : {idx} {idx*2+1} {actuators[idx*2+1]} {f_Delta[idx*2+1]} \")\n",
    "\n",
    "print(f\"all actuators\")\n",
    "    \n",
    "for idx in range(n):\n",
    "    print(f\"value : {idx} {actuators[idx]} {f_Delta[idx]} \")\n",
    "        \n",
    "total_force = np.sum(f_Delta)    \n",
    "print(f\"Total force : {total_force}\")\n",
    "\n",
    "\n",
    "\n",
    "#apply force of the loop\n",
    "for idx in range(n):\n",
    "    print(f\"The actuator activated is  {actuators[idx]} N. to actuator: {f_Delta[idx]} {data_measured_forces_values[actuators[idx]]}\")\n",
    "    \n",
    "await injectForce_axial_actuator(m2, actuators, f_Delta, sleep_time= 5)"
   ]
  },
  {
   "cell_type": "code",
   "execution_count": null,
   "id": "c853782e-5a6b-40d2-9db6-c2704987932b",
   "metadata": {
    "tags": []
   },
   "outputs": [],
   "source": [
    "# get time for starting and ending telemetry data\n",
    "time_start1 = datetime.now()\n",
    "time_start1 = Time(time_start1, scale=\"utc\")\n",
    "print(f\"UTC time to is {time_start} now.\")\n",
    "\n",
    "await asyncio.sleep(20)    \n",
    "\n",
    "time_end1 = datetime.now()\n",
    "time_end1 = Time(time_end1, scale=\"utc\")\n",
    "\n",
    "\n",
    "print(f\"time start : {time_start1}\")\n",
    "print(f\"time end : {time_end1}\")"
   ]
  },
  {
   "cell_type": "code",
   "execution_count": null,
   "id": "f9cde442-0f02-43a6-bb38-6c865216046a",
   "metadata": {
    "tags": []
   },
   "outputs": [],
   "source": [
    "# switch off actuators power (push E-stop)\n",
    "\n",
    "#wait for pushing red button\n",
    "command = input(\"Cut the power push E-stop\")"
   ]
  },
  {
   "cell_type": "code",
   "execution_count": null,
   "id": "5e30902e-23c4-4742-aeed-9e948f88663b",
   "metadata": {
    "tags": []
   },
   "outputs": [],
   "source": [
    "# retriveve telemetry with cut power\n",
    "\n",
    "# get time for starting and ending telemetry data\n",
    "time_start2 = datetime.now()\n",
    "time_start2 = Time(time_start2, scale=\"utc\")\n",
    "print(f\"UTC time to is {time_start2} now.\")\n",
    "\n",
    "await asyncio.sleep(120)    \n",
    "\n",
    "time_end2 = datetime.now()\n",
    "time_end2 = Time(time_end2, scale=\"utc\")\n",
    "\n",
    "\n",
    "#retrieve telemetry\n",
    "names = list()\n",
    "for idx in range(72):\n",
    "    names.append(f\"measured{idx}\")    \n",
    "    \n",
    "data_act = await efd_client.select_time_series(\n",
    "        \"lsst.sal.MTM2.axialForce\",\n",
    "        fields=names,\n",
    "        start=time_start1,\n",
    "        end=time_end2)\n",
    "data_act.to_csv(\"actuators_data.csv\")\n",
    "\n",
    "data_power_cell = await efd_client.select_time_series(\n",
    "        \"lsst.sal.MTM2.powerStatus\",\n",
    "        fields=[\"motorVoltage\",\"motorCurrent\",\"commVoltage\",\"commCurrent\"],\n",
    "        start=time_start1,\n",
    "        end=time_end2)\n",
    "data_power_cell.to_csv(\"power_data.csv\")\n",
    "\n",
    "\n",
    "print(f\"time start : {time_start1}\")\n",
    "print(f\"time end : {time_end2}\")"
   ]
  },
  {
   "cell_type": "code",
   "execution_count": null,
   "id": "e7e0dd2d-fc5a-4000-96bb-c592fac36068",
   "metadata": {
    "tags": []
   },
   "outputs": [],
   "source": [
    "#wait for restoring the power (release E-stop)\n",
    "command = input(\"Restore the power, release E-stop\")\n",
    "\n",
    "await m2.cmd_standby.set_start(timeout=30)"
   ]
  },
  {
   "cell_type": "code",
   "execution_count": null,
   "id": "f9aac684-41a0-466e-8522-75b8cf7a51a7",
   "metadata": {
    "tags": []
   },
   "outputs": [],
   "source": [
    "#check the status\n",
    "state = m2.evt_summaryState.get()\n",
    "print(state)"
   ]
  },
  {
   "cell_type": "code",
   "execution_count": null,
   "id": "78a5eec4-9dbb-4271-b8a4-a78fcee137a0",
   "metadata": {
    "tags": []
   },
   "outputs": [],
   "source": [
    "await m2.cmd_start.set_start(timeout = 30)\n",
    "\n",
    "state = m2.evt_summaryState.get()\n",
    "print(state)"
   ]
  },
  {
   "cell_type": "code",
   "execution_count": null,
   "id": "f825b603-0fec-4f19-b09f-ee357041ed80",
   "metadata": {
    "tags": []
   },
   "outputs": [],
   "source": [
    "await m2.cmd_enable.set_start(timeout = 200)\n",
    "\n",
    "state = m2.evt_summaryState.get()\n",
    "print(state)"
   ]
  }
 ],
 "metadata": {
  "kernelspec": {
   "display_name": "LSST",
   "language": "python",
   "name": "lsst"
  },
  "language_info": {
   "codemirror_mode": {
    "name": "ipython",
    "version": 3
   },
   "file_extension": ".py",
   "mimetype": "text/x-python",
   "name": "python",
   "nbconvert_exporter": "python",
   "pygments_lexer": "ipython3",
   "version": "3.10.10"
  }
 },
 "nbformat": 4,
 "nbformat_minor": 5
}
