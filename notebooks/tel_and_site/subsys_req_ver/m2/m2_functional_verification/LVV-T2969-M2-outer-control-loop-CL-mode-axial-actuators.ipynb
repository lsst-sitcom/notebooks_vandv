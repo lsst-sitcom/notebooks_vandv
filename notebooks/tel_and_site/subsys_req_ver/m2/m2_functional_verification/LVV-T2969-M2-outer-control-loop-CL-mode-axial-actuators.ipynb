{
 "cells": [
  {
   "cell_type": "code",
   "execution_count": null,
   "id": "ef907d15-30cb-4576-b304-acc11e19f9dc",
   "metadata": {
    "tags": []
   },
   "outputs": [],
   "source": [
    "import asyncio\n",
    "import numpy as np\n",
    "from datetime import datetime\n",
    "from lsst.ts import salobj\n",
    "from lsst.ts.m2com import NUM_ACTUATOR, NUM_TANGENT_LINK"
   ]
  },
  {
   "cell_type": "code",
   "execution_count": null,
   "id": "15bca4f4-7d68-4658-b8ad-ec077f83a5c5",
   "metadata": {
    "tags": []
   },
   "outputs": [],
   "source": [
    "async def run_bump_test(csc, sleep_time=5.0):\n",
    "    \"\"\"Run the bump test.\n",
    "\n",
    "    Parameters\n",
    "    ----------\n",
    "    csc : lsst.ts.salobj.remote.Remote\n",
    "        Remote object of the M2 CSC.\n",
    "    force : float\n",
    "        Force to apply (Newton).\n",
    "    sleep_time : float, optional\n",
    "        Sleep time. (the default is 5.0)\n",
    "    \"\"\"\n",
    "\n",
    "    # Print the information of inclinometer\n",
    "    zenithAngle = csc.tel_zenithAngle.get()\n",
    "    print(f\"Measured zenith angle: {zenithAngle.measured:0.2f} degree.\")\n",
    "    print(f\"Raw inclinometer angle: {zenithAngle.inclinometerRaw:0.2f} degree.\")\n",
    "    print(f\"Processed inclinometer angle: {zenithAngle.inclinometerProcessed:0.2f} degree.\")\n",
    "\n",
    "    num_axial_actuator = np.array([9, 32, 70])\n",
    "    force = [-150, -100, -50, +50, +100, +150]\n",
    "    #force = [-100, -50, -25, +25, +50, +100]\n",
    "\n",
    "    \n",
    "    for idx in num_axial_actuator:\n",
    "        print(f\"Do the bump test of actuator: {idx}.\")\n",
    "        time_start = datetime.now()\n",
    "        print(f\"UTC time to is {time_start} now.\")\n",
    "        for f in force:\n",
    "            await bump_axial_actuator(csc, idx, f, sleep_time=sleep_time)\n"
   ]
  },
  {
   "cell_type": "code",
   "execution_count": null,
   "id": "cfd07591-eef9-4742-ae08-caf97fdaa63b",
   "metadata": {
    "tags": []
   },
   "outputs": [],
   "source": [
    "async def bump_axial_actuator(csc, idx_actuator, force, sleep_time=5):\n",
    "    \"\"\"Bump the axial actuator.\n",
    "    \n",
    "    Parameters\n",
    "    ----------\n",
    "    csc : lsst.ts.salobj.remote.Remote\n",
    "        Remote object of the M2 CSC.\n",
    "    idx_actuator : int\n",
    "        Index of actuator.\n",
    "    force : float\n",
    "        Force to apply (Newton).\n",
    "    sleep_time : float, optional\n",
    "        Sleep time. (the default is 5.0)\n",
    "    \"\"\"\n",
    "\n",
    "    num_axial_actuator = NUM_ACTUATOR - NUM_TANGENT_LINK\n",
    "    forces = [0] * num_axial_actuator\n",
    "    forces[idx_actuator] = force\n",
    "\n",
    "    # Put back to origin\n",
    "    print(\"Reset the force.\")\n",
    "    await csc.cmd_resetForceOffsets.set_start()\n",
    "    await asyncio.sleep(sleep_time)\n",
    "\n",
    "    \n",
    "    print(f\"Apply the force: {force} N.\")\n",
    "    await csc.cmd_applyForces.set_start(axial=forces)\n",
    "    await asyncio.sleep(sleep_time)\n",
    "\n",
    "    # Put back to origin\n",
    "    print(\"Reset the force.\")\n",
    "    await csc.cmd_resetForceOffsets.set_start()\n",
    "    await asyncio.sleep(sleep_time)\n"
   ]
  },
  {
   "cell_type": "code",
   "execution_count": null,
   "id": "51ba1f2f-c824-4c30-bd34-3b338423bedf",
   "metadata": {},
   "outputs": [],
   "source": [
    "domain = salobj.Domain()\n",
    "m2 = salobj.Remote(domain, \"MTM2\")\n",
    "await m2.start_task\n",
    "await m2.cmd_setLogLevel.set_start(level=10)"
   ]
  },
  {
   "cell_type": "markdown",
   "id": "5b7cc995-bd0c-4bf0-ad51-bc1292dc5b8d",
   "metadata": {
    "execution": {
     "iopub.execute_input": "2023-11-08T17:56:02.995031Z",
     "iopub.status.busy": "2023-11-08T17:56:02.994686Z",
     "iopub.status.idle": "2023-11-08T17:56:02.999673Z",
     "shell.execute_reply": "2023-11-08T17:56:02.998982Z",
     "shell.execute_reply.started": "2023-11-08T17:56:02.995015Z"
    },
    "tags": []
   },
   "source": [
    "## SYSTEM STATUS LEGEND    \n",
    "1. DISABLED = 1\n",
    "2. ENABLED = 2\n",
    "3. FAULT = 3\n",
    "4. OFFLINE = 4\n",
    "5. STANDBY = 5\n",
    "\n",
    "Standby  -->  Disable  -->  Enabled\n",
    "\n",
    "await m2.cmd_start.set_start(timeout=30)\n",
    "await m2.cmd_enable.set_start(timeout=200)\n",
    "\n",
    "To Stop, do this:    Enabled  -->  Disable  -->  Standby\n",
    "\n",
    "await m2.cmd_disable.set_start(timeout=30)\n",
    "await m2.cmd_standby.set_start(timeout=30) "
   ]
  },
  {
   "cell_type": "code",
   "execution_count": null,
   "id": "54af402e-db13-4cd7-b122-e9a547cdd990",
   "metadata": {
    "tags": []
   },
   "outputs": [],
   "source": [
    "# get status\n",
    "state = m2.evt_summaryState.get()\n",
    "print(f'System Status: {state.summaryState}')"
   ]
  },
  {
   "cell_type": "code",
   "execution_count": null,
   "id": "ef503bb0-6461-46ba-aaea-d69575351c7b",
   "metadata": {
    "tags": []
   },
   "outputs": [],
   "source": [
    "# Standby  -->  Disable\n",
    "await m2.cmd_start.set_start(timeout=30)"
   ]
  },
  {
   "cell_type": "code",
   "execution_count": null,
   "id": "a290bed7-7de5-47ef-b425-f2ef575a1c07",
   "metadata": {
    "tags": []
   },
   "outputs": [],
   "source": [
    "# Disable  -->  Enabled\n",
    "await m2.cmd_enable.set_start(timeout=550)"
   ]
  },
  {
   "cell_type": "code",
   "execution_count": null,
   "id": "b6be041b-6016-4786-8090-0528a122b4bf",
   "metadata": {
    "tags": []
   },
   "outputs": [],
   "source": [
    "print(m2.evt_interlock.get())\n",
    "print(m2.evt_innerLoopControlMode.get())\n",
    "print(m2.evt_errorCode.get())\n",
    "print(m2.evt_forceBalanceSystemStatus.get())"
   ]
  },
  {
   "cell_type": "code",
   "execution_count": null,
   "id": "a7f36de0-6441-45d9-a355-4f4083928c8e",
   "metadata": {},
   "outputs": [],
   "source": [
    "# Enabled  -->  Disable\n",
    "await m2.cmd_disable.set_start(timeout=30)"
   ]
  },
  {
   "cell_type": "code",
   "execution_count": null,
   "id": "10a4b044-0454-40e1-97a2-e44a3504d8d8",
   "metadata": {
    "tags": []
   },
   "outputs": [],
   "source": [
    "#Disable  -->  Standby\n",
    "await m2.cmd_standby.set_start(timeout=60)"
   ]
  },
  {
   "cell_type": "code",
   "execution_count": null,
   "id": "265bdbb8-5743-4332-acd6-ff32c020ec02",
   "metadata": {},
   "outputs": [],
   "source": [
    "#Fault --> Standby\n",
    "await m2.cmd_standby.set_start(timeout=30)"
   ]
  },
  {
   "cell_type": "code",
   "execution_count": null,
   "id": "93f19bc8-b340-42d6-84f0-d8a2246c8ccd",
   "metadata": {
    "tags": []
   },
   "outputs": [],
   "source": [
    "state_m2 = m2.evt_summaryState.get()\n",
    "if state_m2.summaryState != salobj.State.ENABLED:\n",
    "    await salobj.set_summary_state(m2, salobj.State.ENABLED, timeout=460)"
   ]
  },
  {
   "cell_type": "code",
   "execution_count": null,
   "id": "45054edb-f42e-4142-8ca1-7de0fb5e7df1",
   "metadata": {
    "tags": []
   },
   "outputs": [],
   "source": [
    "# bump actuators with linear sequence of forces\n",
    "\n",
    "await run_bump_test(m2, sleep_time=30)\n",
    "\n",
    "time_end = datetime.now()\n",
    "print(f\"UTC time to is {time_end} now.\")"
   ]
  },
  {
   "cell_type": "code",
   "execution_count": null,
   "id": "a04feee1-11c3-42bb-891d-b78168298a21",
   "metadata": {},
   "outputs": [],
   "source": []
  }
 ],
 "metadata": {
  "kernelspec": {
   "display_name": "LSST",
   "language": "python",
   "name": "lsst"
  },
  "language_info": {
   "codemirror_mode": {
    "name": "ipython",
    "version": 3
   },
   "file_extension": ".py",
   "mimetype": "text/x-python",
   "name": "python",
   "nbconvert_exporter": "python",
   "pygments_lexer": "ipython3",
   "version": "3.11.4"
  }
 },
 "nbformat": 4,
 "nbformat_minor": 5
}
