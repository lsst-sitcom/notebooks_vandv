{
 "cells": [
  {
   "cell_type": "markdown",
   "id": "43d68f4d-64c5-417f-98d6-f6ed98807ef6",
   "metadata": {},
   "source": [
    "# Soak Test Prototype"
   ]
  },
  {
   "cell_type": "code",
   "execution_count": null,
   "id": "86c855ac-1e06-4e64-8ae4-0294dad838a5",
   "metadata": {},
   "outputs": [],
   "source": [
    "test_case = \"LVV-TXXXX\"\n",
    "test_exec = \"LVV-EXXXX\""
   ]
  },
  {
   "cell_type": "markdown",
   "id": "8d6691f0-3e85-490c-b3ad-80304e7fbd75",
   "metadata": {},
   "source": [
    "## Setup Environment\n",
    "\n",
    "### Import Libraries"
   ]
  },
  {
   "cell_type": "code",
   "execution_count": null,
   "id": "c9e56b8c-ceb0-4ab6-93ab-881f3e2b5b32",
   "metadata": {},
   "outputs": [],
   "source": [
    "%load_ext autoreload\n",
    "%autoreload 2\n",
    "\n",
    "import os\n",
    "import sys\n",
    "import asyncio\n",
    "import logging\n",
    "\n",
    "import numpy as np\n",
    "\n",
    "from matplotlib import pyplot as plt\n",
    "\n",
    "from lsst.ts import salobj\n",
    "from lsst.ts.observatory.control.maintel.mtcs import MTCS\n",
    "from lsst.ts.observatory.control import RotType\n",
    "\n",
    "from lsst.sitcom import vandv"
   ]
  },
  {
   "cell_type": "markdown",
   "id": "4d08bb90-652b-4508-a3b7-b8e3d1fb0f2c",
   "metadata": {},
   "source": [
    "### Get execution info "
   ]
  },
  {
   "cell_type": "code",
   "execution_count": null,
   "id": "9bfe1f07-b04a-409a-a7fd-f2fb21c5e963",
   "metadata": {},
   "outputs": [],
   "source": [
    "exec_info = vandv.ExecutionInfo()\n",
    "print(exec_info)"
   ]
  },
  {
   "cell_type": "markdown",
   "id": "6f362c79-6499-48fd-a9c5-b2d046eb06d2",
   "metadata": {},
   "source": [
    "### Confirm environment variables"
   ]
  },
  {
   "cell_type": "code",
   "execution_count": null,
   "id": "b2da0ae9-fff5-4eb4-a485-fd833c9f41ab",
   "metadata": {},
   "outputs": [],
   "source": [
    "print(os.environ[\"OSPL_URI\"])\n",
    "print(os.environ[\"LSST_DDS_PARTITION_PREFIX\"])\n",
    "print(os.environ.get(\"LSST_DDS_DOMAIN_ID\", \"Expected, not set.\"))"
   ]
  },
  {
   "cell_type": "markdown",
   "id": "62598020-93b3-411b-83e7-fe17eb84d78c",
   "metadata": {},
   "source": [
    "### Setup logging"
   ]
  },
  {
   "cell_type": "code",
   "execution_count": null,
   "id": "b4cff06b-563a-4258-b290-d9df58b8cde3",
   "metadata": {},
   "outputs": [],
   "source": [
    "logging.basicConfig(format=\"%(name)s:%(message)s\", level=logging.DEBUG)\n",
    "log = logging.getLogger(\"soak_test\")\n",
    "log.level = logging.DEBUG\n",
    "log.addFilter(vandv.logger.filter_dds_read_queue_is_filling)\n",
    "log.addFilter(vandv.logger.filter_dds_read_queue_is_full)"
   ]
  },
  {
   "cell_type": "code",
   "execution_count": null,
   "id": "5ed0f13d-3027-4e6e-beb5-67e9579672f9",
   "metadata": {},
   "outputs": [],
   "source": [
    "script = salobj.Controller(\"Script\", index=-20221110)\n",
    "await asyncio.sleep(10) \n",
    "\n",
    "script.start_task"
   ]
  },
  {
   "cell_type": "code",
   "execution_count": null,
   "id": "2d1d6c96-8659-4b3e-8996-2cd4ab13d91b",
   "metadata": {},
   "outputs": [],
   "source": [
    "domain = salobj.Domain()\n",
    "\n",
    "script.log.addFilter(vandv.logger.filter_dds_read_queue_is_filling)\n",
    "script.log.addFilter(vandv.logger.filter_dds_read_queue_is_full)\n",
    "\n",
    "mtcs = MTCS(domain=domain, log=script.log)\n",
    "mtcs.set_rem_loglevel(40)\n",
    "\n",
    "await mtcs.start_task"
   ]
  },
  {
   "cell_type": "code",
   "execution_count": null,
   "id": "f8367d1b-f5d0-4495-a678-55b784f0619a",
   "metadata": {},
   "outputs": [],
   "source": [
    "await mtcs.set_state(salobj.State.DISABLED, components=[\"mtmount\"])"
   ]
  },
  {
   "cell_type": "code",
   "execution_count": null,
   "id": "0836afb9-04a2-4803-a4df-9ba93381170a",
   "metadata": {},
   "outputs": [],
   "source": [
    "# await mtcs.disable_ccw_following()"
   ]
  },
  {
   "cell_type": "code",
   "execution_count": null,
   "id": "65682950-3325-4fb4-85df-78a104ae344b",
   "metadata": {},
   "outputs": [],
   "source": [
    "az = mtcs.rem.mtmount.tel_azimuth.get().actualPosition\n",
    "el = mtcs.rem.mtmount.tel_elevation.get().actualPosition\n",
    "\n",
    "print(az, el)"
   ]
  },
  {
   "cell_type": "code",
   "execution_count": null,
   "id": "25aac87b-84d1-4fa9-b24c-0c3896191490",
   "metadata": {},
   "outputs": [],
   "source": [
    "await mtcs.rem.mtmount.cmd_moveToTarget.set_start(azimuth=2, elevation=62)"
   ]
  },
  {
   "cell_type": "code",
   "execution_count": null,
   "id": "98f1bbb5-cea8-4d43-b16f-9ac13170c131",
   "metadata": {},
   "outputs": [],
   "source": [
    "await mtcs.rem.mtmount.cmd_homeBothAxes.start(timeout=300)\n",
    "# await mtcs.disable_ccw_following()"
   ]
  },
  {
   "cell_type": "markdown",
   "id": "23e83803-1ac6-433b-9391-1a27d0497c16",
   "metadata": {},
   "source": [
    "## Helper Functions"
   ]
  },
  {
   "cell_type": "code",
   "execution_count": null,
   "id": "b17a2f50-df7d-4fdd-b797-25063be6855c",
   "metadata": {},
   "outputs": [],
   "source": [
    "# Simulate current position while we don't test with the hardware\n",
    "# _az = 0\n",
    "# _el = 80"
   ]
  },
  {
   "cell_type": "code",
   "execution_count": null,
   "id": "2e48be9c-4648-48f6-b149-fa1ba8a6f8fb",
   "metadata": {},
   "outputs": [],
   "source": [
    "def random_walk_azel(n_steps, \n",
    "                     radius=3.5, \n",
    "                     min_az=-200., \n",
    "                     max_az=+200, \n",
    "                     min_el=30, \n",
    "                     max_el=75,\n",
    "                     verbose=True,\n",
    "                    ):\n",
    "\n",
    "    if verbose:\n",
    "        print(f\"{'Steps':>10s}{'New Az':>10s}{'New El':>10s}\")\n",
    "        \n",
    "    step = 0\n",
    "    while step < n_steps:\n",
    "        \n",
    "        current_az = mtcs.rem.mtmount.tel_azimuth.get()\n",
    "        current_az = current_az.actualPosition\n",
    "        # current_az = _az\n",
    "        offset_az = np.sqrt(radius) * (2 * np.random.rand() - 1)\n",
    "        new_az = current_az + offset_az\n",
    "                \n",
    "        current_el = mtcs.rem.mtmount.tel_elevation.get()\n",
    "        current_el = current_el.actualPosition\n",
    "        # current_el = _el\n",
    "        offset_el = np.sqrt(radius) * (2 * np.random.rand() - 1)\n",
    "        new_el = current_el + offset_el\n",
    "        \n",
    "        if new_az <= min_az or new_az >= max_az:\n",
    "            new_az = current_az - offset_az\n",
    "            \n",
    "        if new_el <= min_el or new_el >= max_el:\n",
    "            new_el = current_el - offset_el\n",
    "\n",
    "        if verbose:\n",
    "            print(f\"{step:10d}{new_az:10.2f}{new_el:10.2f}\")\n",
    "\n",
    "        yield new_az, new_el\n",
    "        step += 1"
   ]
  },
  {
   "cell_type": "code",
   "execution_count": null,
   "id": "74b15992-059d-4cfd-a224-a6d183c495e1",
   "metadata": {},
   "outputs": [],
   "source": [
    "await mtcs.move_rotator(1)"
   ]
  },
  {
   "cell_type": "code",
   "execution_count": null,
   "id": "bdbe7e68-66ee-4f7b-9288-5eb7f6bc0d03",
   "metadata": {},
   "outputs": [],
   "source": [
    "await mtcs.disable_ccw_following()"
   ]
  },
  {
   "cell_type": "code",
   "execution_count": null,
   "id": "25fd1032-3aa0-4e04-9b88-0403c53c596d",
   "metadata": {
    "tags": []
   },
   "outputs": [],
   "source": [
    "script.log.info(\"Soak Test - START\")\n",
    "for az, el in random_walk_azel(100):\n",
    "    # _az, _el = az, el\n",
    "    await mtcs.rem.mtmount.cmd_moveToTarget.set_start(azimuth=az, elevation=el, timeout=300)\n",
    "    await asyncio.sleep(5)\n",
    "\n",
    "script.log.info(\"Soak Test - DONE\")"
   ]
  },
  {
   "cell_type": "code",
   "execution_count": null,
   "id": "444d3f05-0e29-466e-a23d-35c1ff9e3a34",
   "metadata": {},
   "outputs": [],
   "source": [
    "mtcs.check.mtm2 = False\n",
    "mtcs.check.mtm1m3 = False\n",
    "mtcs.check.mthexapod_1 = False\n",
    "mtcs.check.mthexapod_2 = False\n",
    "mtcs.check.mtaos = False\n",
    "mtcs.check.mtdome = False\n",
    "mtcs.check.mtdometrajectory = False\n",
    "\n",
    "# await mtcs.disable_ccw_following()"
   ]
  },
  {
   "cell_type": "code",
   "execution_count": null,
   "id": "ac825305-37b7-41ff-84ac-2c63def2fae8",
   "metadata": {},
   "outputs": [],
   "source": [
    "az = mtcs.rem.mtmount.tel_azimuth.get().actualPosition\n",
    "el = mtcs.rem.mtmount.tel_elevation.get().actualPosition\n",
    "\n",
    "print(az, el)"
   ]
  },
  {
   "cell_type": "code",
   "execution_count": null,
   "id": "ae21d270-9ba5-4942-a898-8d70fe74cf83",
   "metadata": {},
   "outputs": [],
   "source": [
    "from astropy.time import Time"
   ]
  },
  {
   "cell_type": "code",
   "execution_count": null,
   "id": "631c531e-0738-4417-9cca-0c108926d51c",
   "metadata": {},
   "outputs": [],
   "source": [
    "print(Time.now())"
   ]
  },
  {
   "cell_type": "code",
   "execution_count": null,
   "id": "d0b34a52-8a78-4101-bab9-8b7a4c62178d",
   "metadata": {},
   "outputs": [],
   "source": [
    "script.log.info(\"Slew and Track - START\")\n",
    "\n",
    "radec = mtcs.radec_from_azel(5, 65)\n",
    "await mtcs.slew_icrs(radec.ra, radec.dec, rot=0, rot_type=RotType.PhysicalSky) \n",
    "\n",
    "script.log.info(\"Slew and Track - DONE\")"
   ]
  },
  {
   "cell_type": "code",
   "execution_count": null,
   "id": "fed85008-5b1e-4c31-92c8-37c6120def09",
   "metadata": {},
   "outputs": [],
   "source": [
    "print(Time.now())"
   ]
  },
  {
   "cell_type": "code",
   "execution_count": null,
   "id": "85ca2aac-9451-402f-80e2-b89dd07f409a",
   "metadata": {},
   "outputs": [],
   "source": []
  },
  {
   "cell_type": "code",
   "execution_count": null,
   "id": "69accdb1-9fc9-4c79-9f63-3095c991f6a9",
   "metadata": {},
   "outputs": [],
   "source": []
  },
  {
   "cell_type": "code",
   "execution_count": null,
   "id": "dce162d3-4986-4713-b42f-a1e410ec21bb",
   "metadata": {},
   "outputs": [],
   "source": []
  },
  {
   "cell_type": "code",
   "execution_count": null,
   "id": "eee2c1da-df23-450e-aae5-ec10115b729a",
   "metadata": {},
   "outputs": [],
   "source": []
  },
  {
   "cell_type": "code",
   "execution_count": null,
   "id": "69149468-48f5-42e0-b5c2-fa276cf02f1a",
   "metadata": {},
   "outputs": [],
   "source": []
  },
  {
   "cell_type": "code",
   "execution_count": null,
   "id": "de00f621-91d5-43b5-80a4-7dc383256ee7",
   "metadata": {},
   "outputs": [],
   "source": [
    "await mtcs.stop_tracking()"
   ]
  },
  {
   "cell_type": "code",
   "execution_count": null,
   "id": "3eb99323-a88d-4a6c-b907-24055b2ea711",
   "metadata": {},
   "outputs": [],
   "source": [
    "task.cancel()"
   ]
  },
  {
   "cell_type": "code",
   "execution_count": null,
   "id": "d4d5ce42-a51a-4454-84db-52ce2d418f01",
   "metadata": {},
   "outputs": [],
   "source": [
    "task.done()"
   ]
  },
  {
   "cell_type": "code",
   "execution_count": null,
   "id": "495002ec-4d95-44b6-a847-206be6865529",
   "metadata": {},
   "outputs": [],
   "source": [
    "21:25 - 21:32"
   ]
  },
  {
   "cell_type": "code",
   "execution_count": null,
   "id": "3703f7e7-8974-4511-bffe-528435f7c929",
   "metadata": {},
   "outputs": [],
   "source": []
  },
  {
   "cell_type": "code",
   "execution_count": null,
   "id": "9f401695-9e2b-4678-8cd1-ba7092ca4881",
   "metadata": {},
   "outputs": [],
   "source": []
  },
  {
   "cell_type": "code",
   "execution_count": null,
   "id": "70570de4-d117-4b92-8d61-a8f0e78ce42e",
   "metadata": {},
   "outputs": [],
   "source": [
    "# task = asyncio.create_task(\n",
    "#     mtcs.slew_icrs(radec.ra, radec.dec, rot=0, rot_type=RotType.Physical)\n",
    "# ) "
   ]
  },
  {
   "cell_type": "code",
   "execution_count": null,
   "id": "a9f47b3e-9902-4e04-b3fd-aac53d6adcb3",
   "metadata": {},
   "outputs": [],
   "source": [
    "await mtcs.set_state(salobj.State.ENABLED, components=[\"mtmount\"])"
   ]
  }
 ],
 "metadata": {
  "kernelspec": {
   "display_name": "LSST",
   "language": "python",
   "name": "lsst"
  },
  "language_info": {
   "codemirror_mode": {
    "name": "ipython",
    "version": 3
   },
   "file_extension": ".py",
   "mimetype": "text/x-python",
   "name": "python",
   "nbconvert_exporter": "python",
   "pygments_lexer": "ipython3",
   "version": "3.10.5"
  }
 },
 "nbformat": 4,
 "nbformat_minor": 5
}
