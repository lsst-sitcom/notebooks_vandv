{
 "cells": [
  {
   "cell_type": "markdown",
   "id": "153412e6",
   "metadata": {},
   "source": [
    "# ESS Data Usage Example - MTMount accelerometers\n",
    "Querying MTMount accelerometers \\\n",
    "Craig Lage - 22-Mar-23"
   ]
  },
  {
   "cell_type": "code",
   "execution_count": null,
   "id": "090c5854-0621-4255-afb9-61319b52e2bd",
   "metadata": {},
   "outputs": [],
   "source": [
    "%load_ext lab_black\n",
    "%load_ext autoreload\n",
    "%autoreload 2"
   ]
  },
  {
   "cell_type": "code",
   "execution_count": null,
   "id": "fcd0a71e",
   "metadata": {
    "tags": []
   },
   "outputs": [],
   "source": [
    "import asyncio\n",
    "import matplotlib.pyplot as plt\n",
    "import numpy as np\n",
    "import pandas as pd\n",
    "import os\n",
    "import sys\n",
    "import time\n",
    "import warnings\n",
    "\n",
    "from astropy.time import Time, TimeDelta\n",
    "from lsst.summit.utils.efdUtils import makeEfdClient\n",
    "from lsst_efd_client.efd_helper import merge_packed_time_series\n",
    "\n",
    "# Ignore the many warning messages from ``merge_packed_time_series``\n",
    "warnings.simplefilter(action=\"ignore\", category=FutureWarning)"
   ]
  },
  {
   "cell_type": "code",
   "execution_count": null,
   "id": "aed2b09e",
   "metadata": {
    "tags": []
   },
   "outputs": [],
   "source": [
    "client = makeEfdClient()"
   ]
  },
  {
   "cell_type": "code",
   "execution_count": null,
   "id": "b8c90662-31f2-4da1-8647-01c6fa8e5a45",
   "metadata": {
    "tags": []
   },
   "outputs": [],
   "source": [
    "# Times to look at the data\n",
    "start = Time(\"2023-03-22 08:00:00Z\", scale=\"utc\")\n",
    "end = Time(\"2023-03-22 08:10:00Z\", scale=\"utc\")"
   ]
  },
  {
   "cell_type": "code",
   "execution_count": null,
   "id": "8a14d41e-cda6-438b-9199-f11ffd8aebd4",
   "metadata": {
    "tags": []
   },
   "outputs": [],
   "source": [
    "baseFields = [\"accelerationX\", \"accelerationY\", \"accelerationZ\"]\n",
    "sensorNames = [\n",
    "    \"SST top end ring +x -y\",\n",
    "    \"SST top end ring -x -y\",\n",
    "    \"SST spider spindle\",\n",
    "    \"SST M2 surrogate\",\n",
    "]"
   ]
  },
  {
   "cell_type": "markdown",
   "id": "9335c693-dae0-4c1c-900e-61730f6c8572",
   "metadata": {},
   "source": [
    "##  Get all of the data for the selected times"
   ]
  },
  {
   "cell_type": "code",
   "execution_count": null,
   "id": "07eca9b2-9c6b-4d11-b1a2-04f3dc57927c",
   "metadata": {
    "tags": []
   },
   "outputs": [],
   "source": [
    "packed_dataframe = await client.select_time_series(\n",
    "    \"lsst.sal.ESS.accelerometer\", [\"*\"], start, end\n",
    ")"
   ]
  },
  {
   "cell_type": "markdown",
   "id": "df351c57-a238-4bda-a908-03565a90547d",
   "metadata": {},
   "source": [
    "## Now unpack it and plot it by sensor"
   ]
  },
  {
   "cell_type": "code",
   "execution_count": null,
   "id": "7e4739e4-4572-406f-8475-70e9f20d8080",
   "metadata": {
    "tags": []
   },
   "outputs": [],
   "source": [
    "fig, axs = plt.subplots(2, 2, figsize=(8, 8))\n",
    "plt.subplots_adjust(hspace=0.5, wspace=0.5)\n",
    "for i, sensorName in enumerate(sensorNames):\n",
    "    sub_dataframe = packed_dataframe.loc[packed_dataframe.sensorName == sensorName]\n",
    "    plotx = i % 2\n",
    "    ploty = int(i / 2)\n",
    "    ax = axs[plotx][ploty]\n",
    "    ax.set_title(sensorName)\n",
    "    ax.set_ylabel(\"Accel(m/s^2)\")\n",
    "    for baseField in baseFields:\n",
    "        df = merge_packed_time_series(\n",
    "            sub_dataframe,\n",
    "            baseField,\n",
    "            stride=1,\n",
    "            ref_timestamp_col=\"timestamp\",\n",
    "            fmt=\"unix_tai\",\n",
    "            scale=\"tai\",\n",
    "        )\n",
    "        df[baseField].plot(ax=ax, label=list(baseField)[-1])\n",
    "    ax.legend()"
   ]
  },
  {
   "cell_type": "code",
   "execution_count": null,
   "id": "356172bf-9bcd-4a93-ae97-0e937f4742e1",
   "metadata": {},
   "outputs": [],
   "source": []
  }
 ],
 "metadata": {
  "jupytext": {
   "formats": "ipynb,markdown//md"
  },
  "kernelspec": {
   "display_name": "LSST",
   "language": "python",
   "name": "lsst"
  },
  "language_info": {
   "codemirror_mode": {
    "name": "ipython",
    "version": 3
   },
   "file_extension": ".py",
   "mimetype": "text/x-python",
   "name": "python",
   "nbconvert_exporter": "python",
   "pygments_lexer": "ipython3",
   "version": "3.11.7"
  }
 },
 "nbformat": 4,
 "nbformat_minor": 5
}
